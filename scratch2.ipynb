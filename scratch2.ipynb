{
 "cells": [
  {
   "cell_type": "code",
   "execution_count": 16,
   "metadata": {},
   "outputs": [
    {
     "name": "stderr",
     "output_type": "stream",
     "text": [
      "/Users/carterblair/NannyMLdev/nannyml/nannyml/chunk.py:181: UserWarning: The resulting number of chunks is too low. Please consider splitting your data in a different way or continue at your own risk.\n",
      "  warnings.warn(\n",
      "/Users/carterblair/NannyMLdev/nannyml/nannyml/chunk.py:181: UserWarning: The resulting number of chunks is too low. Please consider splitting your data in a different way or continue at your own risk.\n",
      "  warnings.warn(\n",
      "/Users/carterblair/NannyMLdev/nannyml/nannyml/chunk.py:181: UserWarning: The resulting number of chunks is too low. Please consider splitting your data in a different way or continue at your own risk.\n",
      "  warnings.warn(\n"
     ]
    },
    {
     "data": {
      "text/html": [
       "<div>\n",
       "<style scoped>\n",
       "    .dataframe tbody tr th:only-of-type {\n",
       "        vertical-align: middle;\n",
       "    }\n",
       "\n",
       "    .dataframe tbody tr th {\n",
       "        vertical-align: top;\n",
       "    }\n",
       "\n",
       "    .dataframe thead tr th {\n",
       "        text-align: left;\n",
       "    }\n",
       "</style>\n",
       "<table border=\"1\" class=\"dataframe\">\n",
       "  <thead>\n",
       "    <tr>\n",
       "      <th></th>\n",
       "      <th colspan=\"7\" halign=\"left\">chunk</th>\n",
       "      <th colspan=\"3\" halign=\"left\">true_positive</th>\n",
       "      <th>...</th>\n",
       "      <th colspan=\"2\" halign=\"left\">false_negative</th>\n",
       "      <th colspan=\"8\" halign=\"left\">roc_auc</th>\n",
       "    </tr>\n",
       "    <tr>\n",
       "      <th></th>\n",
       "      <th>key</th>\n",
       "      <th>chunk_index</th>\n",
       "      <th>start_index</th>\n",
       "      <th>end_index</th>\n",
       "      <th>start_date</th>\n",
       "      <th>end_date</th>\n",
       "      <th>period</th>\n",
       "      <th>value</th>\n",
       "      <th>sampling_error</th>\n",
       "      <th>realized</th>\n",
       "      <th>...</th>\n",
       "      <th>lower_threshold</th>\n",
       "      <th>alert</th>\n",
       "      <th>value</th>\n",
       "      <th>sampling_error</th>\n",
       "      <th>realized</th>\n",
       "      <th>upper_confidence_boundary</th>\n",
       "      <th>lower_confidence_boundary</th>\n",
       "      <th>upper_threshold</th>\n",
       "      <th>lower_threshold</th>\n",
       "      <th>alert</th>\n",
       "    </tr>\n",
       "  </thead>\n",
       "  <tbody>\n",
       "    <tr>\n",
       "      <th>0</th>\n",
       "      <td>[0:19999]</td>\n",
       "      <td>0</td>\n",
       "      <td>0</td>\n",
       "      <td>19999</td>\n",
       "      <td>None</td>\n",
       "      <td>None</td>\n",
       "      <td>reference</td>\n",
       "      <td>9479.053112</td>\n",
       "      <td>70.630795</td>\n",
       "      <td>9497.0</td>\n",
       "      <td>...</td>\n",
       "      <td>0.0</td>\n",
       "      <td>False</td>\n",
       "      <td>0.968906</td>\n",
       "      <td>0.000905</td>\n",
       "      <td>0.972180</td>\n",
       "      <td>0.971622</td>\n",
       "      <td>0.966190</td>\n",
       "      <td>0.974184</td>\n",
       "      <td>0.968173</td>\n",
       "      <td>False</td>\n",
       "    </tr>\n",
       "    <tr>\n",
       "      <th>1</th>\n",
       "      <td>[20000:49999]</td>\n",
       "      <td>1</td>\n",
       "      <td>20000</td>\n",
       "      <td>49999</td>\n",
       "      <td>None</td>\n",
       "      <td>None</td>\n",
       "      <td>reference</td>\n",
       "      <td>14332.946888</td>\n",
       "      <td>86.504704</td>\n",
       "      <td>14315.0</td>\n",
       "      <td>...</td>\n",
       "      <td>0.0</td>\n",
       "      <td>False</td>\n",
       "      <td>0.968988</td>\n",
       "      <td>0.000739</td>\n",
       "      <td>0.970176</td>\n",
       "      <td>0.971206</td>\n",
       "      <td>0.966770</td>\n",
       "      <td>0.974184</td>\n",
       "      <td>0.968173</td>\n",
       "      <td>False</td>\n",
       "    </tr>\n",
       "    <tr>\n",
       "      <th>2</th>\n",
       "      <td>[0:19999]</td>\n",
       "      <td>0</td>\n",
       "      <td>0</td>\n",
       "      <td>19999</td>\n",
       "      <td>None</td>\n",
       "      <td>None</td>\n",
       "      <td>analysis</td>\n",
       "      <td>9488.964064</td>\n",
       "      <td>70.630795</td>\n",
       "      <td>NaN</td>\n",
       "      <td>...</td>\n",
       "      <td>0.0</td>\n",
       "      <td>False</td>\n",
       "      <td>0.969083</td>\n",
       "      <td>0.000905</td>\n",
       "      <td>NaN</td>\n",
       "      <td>0.971799</td>\n",
       "      <td>0.966367</td>\n",
       "      <td>0.974184</td>\n",
       "      <td>0.968173</td>\n",
       "      <td>False</td>\n",
       "    </tr>\n",
       "    <tr>\n",
       "      <th>3</th>\n",
       "      <td>[20000:49999]</td>\n",
       "      <td>1</td>\n",
       "      <td>20000</td>\n",
       "      <td>49999</td>\n",
       "      <td>None</td>\n",
       "      <td>None</td>\n",
       "      <td>analysis</td>\n",
       "      <td>14537.180201</td>\n",
       "      <td>86.504704</td>\n",
       "      <td>NaN</td>\n",
       "      <td>...</td>\n",
       "      <td>0.0</td>\n",
       "      <td>True</td>\n",
       "      <td>0.962772</td>\n",
       "      <td>0.000739</td>\n",
       "      <td>NaN</td>\n",
       "      <td>0.964990</td>\n",
       "      <td>0.960555</td>\n",
       "      <td>0.974184</td>\n",
       "      <td>0.968173</td>\n",
       "      <td>True</td>\n",
       "    </tr>\n",
       "  </tbody>\n",
       "</table>\n",
       "<p>4 rows × 47 columns</p>\n",
       "</div>"
      ],
      "text/plain": [
       "           chunk                                                        \\\n",
       "             key chunk_index start_index end_index start_date end_date   \n",
       "0      [0:19999]           0           0     19999       None     None   \n",
       "1  [20000:49999]           1       20000     49999       None     None   \n",
       "2      [0:19999]           0           0     19999       None     None   \n",
       "3  [20000:49999]           1       20000     49999       None     None   \n",
       "\n",
       "             true_positive                          ...  false_negative  \\\n",
       "      period         value sampling_error realized  ... lower_threshold   \n",
       "0  reference   9479.053112      70.630795   9497.0  ...             0.0   \n",
       "1  reference  14332.946888      86.504704  14315.0  ...             0.0   \n",
       "2   analysis   9488.964064      70.630795      NaN  ...             0.0   \n",
       "3   analysis  14537.180201      86.504704      NaN  ...             0.0   \n",
       "\n",
       "           roc_auc                                                     \\\n",
       "   alert     value sampling_error  realized upper_confidence_boundary   \n",
       "0  False  0.968906       0.000905  0.972180                  0.971622   \n",
       "1  False  0.968988       0.000739  0.970176                  0.971206   \n",
       "2  False  0.969083       0.000905       NaN                  0.971799   \n",
       "3   True  0.962772       0.000739       NaN                  0.964990   \n",
       "\n",
       "                                                                    \n",
       "  lower_confidence_boundary upper_threshold lower_threshold  alert  \n",
       "0                  0.966190        0.974184        0.968173  False  \n",
       "1                  0.966770        0.974184        0.968173  False  \n",
       "2                  0.966367        0.974184        0.968173  False  \n",
       "3                  0.960555        0.974184        0.968173   True  \n",
       "\n",
       "[4 rows x 47 columns]"
      ]
     },
     "execution_count": 16,
     "metadata": {},
     "output_type": "execute_result"
    }
   ],
   "source": [
    "import nannyml as nml\n",
    "\n",
    "ref_df, ana_df, _ = nml.load_synthetic_binary_classification_dataset()\n",
    "\n",
    "cbpe = nml.CBPE(\n",
    "    y_pred_proba='y_pred_proba',\n",
    "    y_pred='y_pred',\n",
    "    y_true='work_home_actual',\n",
    "    problem_type='classification_binary',\n",
    "    metrics=['confusion_matrix', 'roc_auc'],\n",
    "    normalize_confusion_matrix=None,\n",
    "    chunk_size=20_000,\n",
    ")\n",
    "cbpe.fit(ref_df)\n",
    "result = cbpe.estimate(ana_df)\n",
    "df = result.to_df()\n",
    "\n",
    "df\n",
    "\n",
    "\n"
   ]
  },
  {
   "cell_type": "code",
   "execution_count": 17,
   "metadata": {},
   "outputs": [
    {
     "name": "stdout",
     "output_type": "stream",
     "text": [
      "['chunk' 'false_negative' 'true_positive' 'false_positive' 'true_negative']\n"
     ]
    }
   ],
   "source": [
    "filtered_results = result.filter(metrics=['confusion_matrix', 'true_positive'])\n",
    "\n",
    "filtered_df = filtered_results.to_df()\n",
    "\n",
    "# print the top level column names\n",
    "print(filtered_df.columns.get_level_values(0).unique().values)\n"
   ]
  },
  {
   "cell_type": "code",
   "execution_count": 18,
   "metadata": {},
   "outputs": [
    {
     "name": "stdout",
     "output_type": "stream",
     "text": [
      "['chunk' 'false_negative' 'true_positive' 'false_positive' 'true_negative']\n"
     ]
    }
   ],
   "source": [
    "filtered_results = result.filter(metrics=['confusion_matrix'])\n",
    "\n",
    "filtered_df = filtered_results.to_df()\n",
    "\n",
    "# print the top level column names\n",
    "print(filtered_df.columns.get_level_values(0).unique().values)"
   ]
  },
  {
   "cell_type": "code",
   "execution_count": 19,
   "metadata": {},
   "outputs": [
    {
     "name": "stdout",
     "output_type": "stream",
     "text": [
      "['chunk' 'true_positive']\n"
     ]
    }
   ],
   "source": [
    "filtered_results = result.filter(metrics=['true_positive'])\n",
    "\n",
    "filtered_df = filtered_results.to_df()\n",
    "\n",
    "# print the top level column names\n",
    "print(filtered_df.columns.get_level_values(0).unique().values)"
   ]
  },
  {
   "cell_type": "code",
   "execution_count": 20,
   "metadata": {},
   "outputs": [
    {
     "name": "stdout",
     "output_type": "stream",
     "text": [
      "['chunk' 'roc_auc']\n"
     ]
    }
   ],
   "source": [
    "filtered_results = result.filter(metrics=['roc_auc'])\n",
    "\n",
    "filtered_df = filtered_results.to_df()\n",
    "\n",
    "# print the top level column names\n",
    "print(filtered_df.columns.get_level_values(0).unique().values)"
   ]
  },
  {
   "cell_type": "code",
   "execution_count": 21,
   "metadata": {},
   "outputs": [
    {
     "ename": "InvalidArgumentsException",
     "evalue": "f1 was not given in CBPE initialization.",
     "output_type": "error",
     "traceback": [
      "\u001b[0;31m---------------------------------------------------------------------------\u001b[0m",
      "\u001b[0;31mInvalidArgumentsException\u001b[0m                 Traceback (most recent call last)",
      "\u001b[0;32m/var/folders/kj/jqr6r99s1p945h2yplyzrglr0000gn/T/ipykernel_82642/462592275.py\u001b[0m in \u001b[0;36m<cell line: 1>\u001b[0;34m()\u001b[0m\n\u001b[0;32m----> 1\u001b[0;31m \u001b[0mfiltered_results\u001b[0m \u001b[0;34m=\u001b[0m \u001b[0mresult\u001b[0m\u001b[0;34m.\u001b[0m\u001b[0mfilter\u001b[0m\u001b[0;34m(\u001b[0m\u001b[0mmetrics\u001b[0m\u001b[0;34m=\u001b[0m\u001b[0;34m[\u001b[0m\u001b[0;34m'f1'\u001b[0m\u001b[0;34m]\u001b[0m\u001b[0;34m)\u001b[0m\u001b[0;34m\u001b[0m\u001b[0;34m\u001b[0m\u001b[0m\n\u001b[0m\u001b[1;32m      2\u001b[0m \u001b[0;34m\u001b[0m\u001b[0m\n\u001b[1;32m      3\u001b[0m \u001b[0mfiltered_df\u001b[0m \u001b[0;34m=\u001b[0m \u001b[0mfiltered_results\u001b[0m\u001b[0;34m.\u001b[0m\u001b[0mto_df\u001b[0m\u001b[0;34m(\u001b[0m\u001b[0;34m)\u001b[0m\u001b[0;34m\u001b[0m\u001b[0;34m\u001b[0m\u001b[0m\n\u001b[1;32m      4\u001b[0m \u001b[0;34m\u001b[0m\u001b[0m\n\u001b[1;32m      5\u001b[0m \u001b[0;31m# print the top level column names\u001b[0m\u001b[0;34m\u001b[0m\u001b[0;34m\u001b[0m\u001b[0m\n",
      "\u001b[0;32m~/NannyMLdev/nannyml/nannyml/base.py\u001b[0m in \u001b[0;36mfilter\u001b[0;34m(self, period, metrics, *args, **kwargs)\u001b[0m\n\u001b[1;32m     87\u001b[0m             \u001b[0mmetrics\u001b[0m \u001b[0;34m=\u001b[0m \u001b[0;34m[\u001b[0m\u001b[0mmetrics\u001b[0m\u001b[0;34m]\u001b[0m\u001b[0;34m\u001b[0m\u001b[0;34m\u001b[0m\u001b[0m\n\u001b[1;32m     88\u001b[0m         \u001b[0;32mtry\u001b[0m\u001b[0;34m:\u001b[0m\u001b[0;34m\u001b[0m\u001b[0;34m\u001b[0m\u001b[0m\n\u001b[0;32m---> 89\u001b[0;31m             \u001b[0;32mreturn\u001b[0m \u001b[0mself\u001b[0m\u001b[0;34m.\u001b[0m\u001b[0m_filter\u001b[0m\u001b[0;34m(\u001b[0m\u001b[0mperiod\u001b[0m\u001b[0;34m,\u001b[0m \u001b[0mmetrics\u001b[0m\u001b[0;34m,\u001b[0m \u001b[0;34m*\u001b[0m\u001b[0margs\u001b[0m\u001b[0;34m,\u001b[0m \u001b[0;34m**\u001b[0m\u001b[0mkwargs\u001b[0m\u001b[0;34m)\u001b[0m\u001b[0;34m\u001b[0m\u001b[0;34m\u001b[0m\u001b[0m\n\u001b[0m\u001b[1;32m     90\u001b[0m         \u001b[0;32mexcept\u001b[0m \u001b[0mException\u001b[0m \u001b[0;32mas\u001b[0m \u001b[0mexc\u001b[0m\u001b[0;34m:\u001b[0m\u001b[0;34m\u001b[0m\u001b[0;34m\u001b[0m\u001b[0m\n\u001b[1;32m     91\u001b[0m             \u001b[0;32mraise\u001b[0m \u001b[0mCalculatorException\u001b[0m\u001b[0;34m(\u001b[0m\u001b[0;34mf\"could not read result data: {exc}\"\u001b[0m\u001b[0;34m)\u001b[0m\u001b[0;34m\u001b[0m\u001b[0;34m\u001b[0m\u001b[0m\n",
      "\u001b[0;32m~/NannyMLdev/nannyml/nannyml/performance_estimation/confidence_based/results.py\u001b[0m in \u001b[0;36m_filter\u001b[0;34m(self, period, metrics, *args, **kwargs)\u001b[0m\n\u001b[1;32m     92\u001b[0m                         \u001b[0mexpanded_metrics\u001b[0m\u001b[0;34m.\u001b[0m\u001b[0mappend\u001b[0m\u001b[0;34m(\u001b[0m\u001b[0mmetric_str\u001b[0m\u001b[0;34m)\u001b[0m\u001b[0;34m\u001b[0m\u001b[0;34m\u001b[0m\u001b[0m\n\u001b[1;32m     93\u001b[0m                 \u001b[0;32mif\u001b[0m \u001b[0;32mnot\u001b[0m \u001b[0mvalid_metric\u001b[0m\u001b[0;34m:\u001b[0m\u001b[0;34m\u001b[0m\u001b[0;34m\u001b[0m\u001b[0m\n\u001b[0;32m---> 94\u001b[0;31m                     \u001b[0;31m# check if metric is from confusion matrix\u001b[0m\u001b[0;34m\u001b[0m\u001b[0;34m\u001b[0m\u001b[0m\n\u001b[0m\u001b[1;32m     95\u001b[0m \u001b[0;34m\u001b[0m\u001b[0m\n\u001b[1;32m     96\u001b[0m                     \u001b[0;32mraise\u001b[0m \u001b[0mInvalidArgumentsException\u001b[0m\u001b[0;34m(\u001b[0m\u001b[0;34mf'{metric_str} was not given in CBPE initialization.'\u001b[0m\u001b[0;34m)\u001b[0m\u001b[0;34m\u001b[0m\u001b[0;34m\u001b[0m\u001b[0m\n",
      "\u001b[0;31mInvalidArgumentsException\u001b[0m: f1 was not given in CBPE initialization."
     ]
    }
   ],
   "source": [
    "filtered_results = result.filter(metrics=['f1'])\n",
    "\n",
    "filtered_df = filtered_results.to_df()\n",
    "\n",
    "# print the top level column names\n",
    "print(filtered_df.columns.get_level_values(0).unique().values)"
   ]
  },
  {
   "cell_type": "code",
   "execution_count": 22,
   "metadata": {},
   "outputs": [
    {
     "ename": "InvalidArgumentsException",
     "evalue": "Invalid metric foooooooooooooooooo. Please choose from ['roc_auc', 'f1', 'precision', 'recall', 'specificity', 'accuracy', 'confusion_matrix', 'true_positive', 'true_negative', 'false_positive', 'false_negative']",
     "output_type": "error",
     "traceback": [
      "\u001b[0;31m---------------------------------------------------------------------------\u001b[0m",
      "\u001b[0;31mInvalidArgumentsException\u001b[0m                 Traceback (most recent call last)",
      "\u001b[0;32m/var/folders/kj/jqr6r99s1p945h2yplyzrglr0000gn/T/ipykernel_82642/4259081425.py\u001b[0m in \u001b[0;36m<cell line: 1>\u001b[0;34m()\u001b[0m\n\u001b[0;32m----> 1\u001b[0;31m \u001b[0mfiltered_results\u001b[0m \u001b[0;34m=\u001b[0m \u001b[0mresult\u001b[0m\u001b[0;34m.\u001b[0m\u001b[0mfilter\u001b[0m\u001b[0;34m(\u001b[0m\u001b[0mmetrics\u001b[0m\u001b[0;34m=\u001b[0m\u001b[0;34m[\u001b[0m\u001b[0;34m'foooooooooooooooooo'\u001b[0m\u001b[0;34m]\u001b[0m\u001b[0;34m)\u001b[0m\u001b[0;34m\u001b[0m\u001b[0;34m\u001b[0m\u001b[0m\n\u001b[0m\u001b[1;32m      2\u001b[0m \u001b[0;34m\u001b[0m\u001b[0m\n\u001b[1;32m      3\u001b[0m \u001b[0mfiltered_df\u001b[0m \u001b[0;34m=\u001b[0m \u001b[0mfiltered_results\u001b[0m\u001b[0;34m.\u001b[0m\u001b[0mto_df\u001b[0m\u001b[0;34m(\u001b[0m\u001b[0;34m)\u001b[0m\u001b[0;34m\u001b[0m\u001b[0;34m\u001b[0m\u001b[0m\n\u001b[1;32m      4\u001b[0m \u001b[0;34m\u001b[0m\u001b[0m\n\u001b[1;32m      5\u001b[0m \u001b[0;31m# print the top level column names\u001b[0m\u001b[0;34m\u001b[0m\u001b[0;34m\u001b[0m\u001b[0m\n",
      "\u001b[0;32m~/NannyMLdev/nannyml/nannyml/base.py\u001b[0m in \u001b[0;36mfilter\u001b[0;34m(self, period, metrics, *args, **kwargs)\u001b[0m\n\u001b[1;32m     87\u001b[0m             \u001b[0mmetrics\u001b[0m \u001b[0;34m=\u001b[0m \u001b[0;34m[\u001b[0m\u001b[0mmetrics\u001b[0m\u001b[0;34m]\u001b[0m\u001b[0;34m\u001b[0m\u001b[0;34m\u001b[0m\u001b[0m\n\u001b[1;32m     88\u001b[0m         \u001b[0;32mtry\u001b[0m\u001b[0;34m:\u001b[0m\u001b[0;34m\u001b[0m\u001b[0;34m\u001b[0m\u001b[0m\n\u001b[0;32m---> 89\u001b[0;31m             \u001b[0;32mreturn\u001b[0m \u001b[0mself\u001b[0m\u001b[0;34m.\u001b[0m\u001b[0m_filter\u001b[0m\u001b[0;34m(\u001b[0m\u001b[0mperiod\u001b[0m\u001b[0;34m,\u001b[0m \u001b[0mmetrics\u001b[0m\u001b[0;34m,\u001b[0m \u001b[0;34m*\u001b[0m\u001b[0margs\u001b[0m\u001b[0;34m,\u001b[0m \u001b[0;34m**\u001b[0m\u001b[0mkwargs\u001b[0m\u001b[0;34m)\u001b[0m\u001b[0;34m\u001b[0m\u001b[0;34m\u001b[0m\u001b[0m\n\u001b[0m\u001b[1;32m     90\u001b[0m         \u001b[0;32mexcept\u001b[0m \u001b[0mException\u001b[0m \u001b[0;32mas\u001b[0m \u001b[0mexc\u001b[0m\u001b[0;34m:\u001b[0m\u001b[0;34m\u001b[0m\u001b[0;34m\u001b[0m\u001b[0m\n\u001b[1;32m     91\u001b[0m             \u001b[0;32mraise\u001b[0m \u001b[0mCalculatorException\u001b[0m\u001b[0;34m(\u001b[0m\u001b[0;34mf\"could not read result data: {exc}\"\u001b[0m\u001b[0;34m)\u001b[0m\u001b[0;34m\u001b[0m\u001b[0;34m\u001b[0m\u001b[0m\n",
      "\u001b[0;32m~/NannyMLdev/nannyml/nannyml/performance_estimation/confidence_based/results.py\u001b[0m in \u001b[0;36m_filter\u001b[0;34m(self, period, metrics, *args, **kwargs)\u001b[0m\n\u001b[1;32m     76\u001b[0m \u001b[0;34m\u001b[0m\u001b[0m\n\u001b[1;32m     77\u001b[0m                 \u001b[0;32mif\u001b[0m \u001b[0mmetric_str\u001b[0m \u001b[0;32mnot\u001b[0m \u001b[0;32min\u001b[0m \u001b[0mSUPPORTED_METRIC_VALUES\u001b[0m\u001b[0;34m:\u001b[0m\u001b[0;34m\u001b[0m\u001b[0;34m\u001b[0m\u001b[0m\n\u001b[0;32m---> 78\u001b[0;31m                     raise InvalidArgumentsException(\n\u001b[0m\u001b[1;32m     79\u001b[0m                         \u001b[0;34mf'Invalid metric {metric_str}. Please choose from {SUPPORTED_METRIC_VALUES}'\u001b[0m\u001b[0;34m\u001b[0m\u001b[0;34m\u001b[0m\u001b[0m\n\u001b[1;32m     80\u001b[0m                     )\n",
      "\u001b[0;31mInvalidArgumentsException\u001b[0m: Invalid metric foooooooooooooooooo. Please choose from ['roc_auc', 'f1', 'precision', 'recall', 'specificity', 'accuracy', 'confusion_matrix', 'true_positive', 'true_negative', 'false_positive', 'false_negative']"
     ]
    }
   ],
   "source": [
    "filtered_results = result.filter(metrics=['foooooooooooooooooo'])\n",
    "\n",
    "filtered_df = filtered_results.to_df()\n",
    "\n",
    "# print the top level column names\n",
    "print(filtered_df.columns.get_level_values(0).unique().values)"
   ]
  },
  {
   "cell_type": "code",
   "execution_count": null,
   "metadata": {},
   "outputs": [],
   "source": []
  }
 ],
 "metadata": {
  "kernelspec": {
   "display_name": "EMD",
   "language": "python",
   "name": "python3"
  },
  "language_info": {
   "codemirror_mode": {
    "name": "ipython",
    "version": 3
   },
   "file_extension": ".py",
   "mimetype": "text/x-python",
   "name": "python",
   "nbconvert_exporter": "python",
   "pygments_lexer": "ipython3",
   "version": "3.9.13"
  },
  "orig_nbformat": 4,
  "vscode": {
   "interpreter": {
    "hash": "7015d45318b7e47f58bc453f811cb2d0d7fdbd19d5bcf220fdd25c0dc451c826"
   }
  }
 },
 "nbformat": 4,
 "nbformat_minor": 2
}
