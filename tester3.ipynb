{
 "cells": [
  {
   "cell_type": "code",
   "execution_count": 1,
   "metadata": {},
   "outputs": [
    {
     "name": "stderr",
     "output_type": "stream",
     "text": [
      "<frozen importlib._bootstrap>:228: RuntimeWarning: scipy._lib.messagestream.MessageStream size changed, may indicate binary incompatibility. Expected 56 from C header, got 64 from PyObject\n"
     ]
    }
   ],
   "source": [
    "import nannyml as nml"
   ]
  },
  {
   "cell_type": "code",
   "execution_count": 2,
   "metadata": {},
   "outputs": [],
   "source": [
    "reference_df, analysis_df, _ = nml.load_synthetic_multiclass_classification_dataset()"
   ]
  },
  {
   "cell_type": "code",
   "execution_count": 13,
   "metadata": {},
   "outputs": [],
   "source": [
    "estimator = nml.CBPE(\n",
    "    y_pred_proba={\n",
    "        'prepaid_card': 'y_pred_proba_prepaid_card',\n",
    "        'highstreet_card': 'y_pred_proba_highstreet_card',\n",
    "        'upmarket_card': 'y_pred_proba_upmarket_card'},\n",
    "    y_pred='y_pred',\n",
    "    y_true='y_true',\n",
    "    timestamp_column_name='timestamp',\n",
    "    problem_type='classification_multiclass',\n",
    "    metrics=['confusion_matrix'],\n",
    "    normalize_confusion_matrix=\"true\",\n",
    "    chunk_size=6000,\n",
    ")"
   ]
  },
  {
   "cell_type": "code",
   "execution_count": 14,
   "metadata": {},
   "outputs": [
    {
     "data": {
      "text/plain": [
       "<nannyml.performance_estimation.confidence_based.cbpe.CBPE at 0x195a598b0>"
      ]
     },
     "execution_count": 14,
     "metadata": {},
     "output_type": "execute_result"
    }
   ],
   "source": [
    "estimator.fit(reference_df)"
   ]
  },
  {
   "cell_type": "code",
   "execution_count": 15,
   "metadata": {},
   "outputs": [],
   "source": [
    "results = estimator.estimate(analysis_df)"
   ]
  },
  {
   "cell_type": "code",
   "execution_count": 16,
   "metadata": {},
   "outputs": [
    {
     "data": {
      "text/html": [
       "<div>\n",
       "<style scoped>\n",
       "    .dataframe tbody tr th:only-of-type {\n",
       "        vertical-align: middle;\n",
       "    }\n",
       "\n",
       "    .dataframe tbody tr th {\n",
       "        vertical-align: top;\n",
       "    }\n",
       "\n",
       "    .dataframe thead th {\n",
       "        text-align: right;\n",
       "    }\n",
       "</style>\n",
       "<table border=\"1\" class=\"dataframe\">\n",
       "  <thead>\n",
       "    <tr style=\"text-align: right;\">\n",
       "      <th></th>\n",
       "      <th>value</th>\n",
       "      <th>sampling_error</th>\n",
       "      <th>realized</th>\n",
       "      <th>upper_confidence_boundary</th>\n",
       "      <th>lower_confidence_boundary</th>\n",
       "      <th>upper_threshold</th>\n",
       "      <th>lower_threshold</th>\n",
       "      <th>alert</th>\n",
       "    </tr>\n",
       "  </thead>\n",
       "  <tbody>\n",
       "    <tr>\n",
       "      <th>0</th>\n",
       "      <td>0.757143</td>\n",
       "      <td>0.00985</td>\n",
       "      <td>0.749630</td>\n",
       "      <td>0.786691</td>\n",
       "      <td>0.727594</td>\n",
       "      <td>0.787463</td>\n",
       "      <td>0.732836</td>\n",
       "      <td>False</td>\n",
       "    </tr>\n",
       "    <tr>\n",
       "      <th>1</th>\n",
       "      <td>0.756008</td>\n",
       "      <td>0.00985</td>\n",
       "      <td>0.749251</td>\n",
       "      <td>0.785556</td>\n",
       "      <td>0.726459</td>\n",
       "      <td>0.787463</td>\n",
       "      <td>0.732836</td>\n",
       "      <td>False</td>\n",
       "    </tr>\n",
       "    <tr>\n",
       "      <th>2</th>\n",
       "      <td>0.760150</td>\n",
       "      <td>0.00985</td>\n",
       "      <td>0.771127</td>\n",
       "      <td>0.789698</td>\n",
       "      <td>0.730601</td>\n",
       "      <td>0.787463</td>\n",
       "      <td>0.732836</td>\n",
       "      <td>False</td>\n",
       "    </tr>\n",
       "    <tr>\n",
       "      <th>3</th>\n",
       "      <td>0.766415</td>\n",
       "      <td>0.00985</td>\n",
       "      <td>0.764938</td>\n",
       "      <td>0.795964</td>\n",
       "      <td>0.736867</td>\n",
       "      <td>0.787463</td>\n",
       "      <td>0.732836</td>\n",
       "      <td>False</td>\n",
       "    </tr>\n",
       "    <tr>\n",
       "      <th>4</th>\n",
       "      <td>0.765045</td>\n",
       "      <td>0.00985</td>\n",
       "      <td>0.773983</td>\n",
       "      <td>0.794594</td>\n",
       "      <td>0.735497</td>\n",
       "      <td>0.787463</td>\n",
       "      <td>0.732836</td>\n",
       "      <td>False</td>\n",
       "    </tr>\n",
       "    <tr>\n",
       "      <th>5</th>\n",
       "      <td>0.760004</td>\n",
       "      <td>0.00985</td>\n",
       "      <td>0.758346</td>\n",
       "      <td>0.789553</td>\n",
       "      <td>0.730456</td>\n",
       "      <td>0.787463</td>\n",
       "      <td>0.732836</td>\n",
       "      <td>False</td>\n",
       "    </tr>\n",
       "    <tr>\n",
       "      <th>6</th>\n",
       "      <td>0.763101</td>\n",
       "      <td>0.00985</td>\n",
       "      <td>0.766634</td>\n",
       "      <td>0.792650</td>\n",
       "      <td>0.733553</td>\n",
       "      <td>0.787463</td>\n",
       "      <td>0.732836</td>\n",
       "      <td>False</td>\n",
       "    </tr>\n",
       "    <tr>\n",
       "      <th>7</th>\n",
       "      <td>0.752923</td>\n",
       "      <td>0.00985</td>\n",
       "      <td>0.752280</td>\n",
       "      <td>0.782471</td>\n",
       "      <td>0.723374</td>\n",
       "      <td>0.787463</td>\n",
       "      <td>0.732836</td>\n",
       "      <td>False</td>\n",
       "    </tr>\n",
       "    <tr>\n",
       "      <th>8</th>\n",
       "      <td>0.759113</td>\n",
       "      <td>0.00985</td>\n",
       "      <td>0.749139</td>\n",
       "      <td>0.788661</td>\n",
       "      <td>0.729564</td>\n",
       "      <td>0.787463</td>\n",
       "      <td>0.732836</td>\n",
       "      <td>False</td>\n",
       "    </tr>\n",
       "    <tr>\n",
       "      <th>9</th>\n",
       "      <td>0.758078</td>\n",
       "      <td>0.00985</td>\n",
       "      <td>0.766169</td>\n",
       "      <td>0.787626</td>\n",
       "      <td>0.728529</td>\n",
       "      <td>0.787463</td>\n",
       "      <td>0.732836</td>\n",
       "      <td>False</td>\n",
       "    </tr>\n",
       "    <tr>\n",
       "      <th>10</th>\n",
       "      <td>0.767033</td>\n",
       "      <td>0.00985</td>\n",
       "      <td>NaN</td>\n",
       "      <td>0.796581</td>\n",
       "      <td>0.737484</td>\n",
       "      <td>0.787463</td>\n",
       "      <td>0.732836</td>\n",
       "      <td>False</td>\n",
       "    </tr>\n",
       "    <tr>\n",
       "      <th>11</th>\n",
       "      <td>0.766315</td>\n",
       "      <td>0.00985</td>\n",
       "      <td>NaN</td>\n",
       "      <td>0.795863</td>\n",
       "      <td>0.736766</td>\n",
       "      <td>0.787463</td>\n",
       "      <td>0.732836</td>\n",
       "      <td>False</td>\n",
       "    </tr>\n",
       "    <tr>\n",
       "      <th>12</th>\n",
       "      <td>0.767920</td>\n",
       "      <td>0.00985</td>\n",
       "      <td>NaN</td>\n",
       "      <td>0.797468</td>\n",
       "      <td>0.738371</td>\n",
       "      <td>0.787463</td>\n",
       "      <td>0.732836</td>\n",
       "      <td>False</td>\n",
       "    </tr>\n",
       "    <tr>\n",
       "      <th>13</th>\n",
       "      <td>0.762695</td>\n",
       "      <td>0.00985</td>\n",
       "      <td>NaN</td>\n",
       "      <td>0.792243</td>\n",
       "      <td>0.733146</td>\n",
       "      <td>0.787463</td>\n",
       "      <td>0.732836</td>\n",
       "      <td>False</td>\n",
       "    </tr>\n",
       "    <tr>\n",
       "      <th>14</th>\n",
       "      <td>0.755023</td>\n",
       "      <td>0.00985</td>\n",
       "      <td>NaN</td>\n",
       "      <td>0.784571</td>\n",
       "      <td>0.725474</td>\n",
       "      <td>0.787463</td>\n",
       "      <td>0.732836</td>\n",
       "      <td>False</td>\n",
       "    </tr>\n",
       "    <tr>\n",
       "      <th>15</th>\n",
       "      <td>0.555729</td>\n",
       "      <td>0.00985</td>\n",
       "      <td>NaN</td>\n",
       "      <td>0.585277</td>\n",
       "      <td>0.526180</td>\n",
       "      <td>0.787463</td>\n",
       "      <td>0.732836</td>\n",
       "      <td>True</td>\n",
       "    </tr>\n",
       "    <tr>\n",
       "      <th>16</th>\n",
       "      <td>0.560716</td>\n",
       "      <td>0.00985</td>\n",
       "      <td>NaN</td>\n",
       "      <td>0.590264</td>\n",
       "      <td>0.531167</td>\n",
       "      <td>0.787463</td>\n",
       "      <td>0.732836</td>\n",
       "      <td>True</td>\n",
       "    </tr>\n",
       "    <tr>\n",
       "      <th>17</th>\n",
       "      <td>0.554068</td>\n",
       "      <td>0.00985</td>\n",
       "      <td>NaN</td>\n",
       "      <td>0.583617</td>\n",
       "      <td>0.524520</td>\n",
       "      <td>0.787463</td>\n",
       "      <td>0.732836</td>\n",
       "      <td>True</td>\n",
       "    </tr>\n",
       "    <tr>\n",
       "      <th>18</th>\n",
       "      <td>0.557205</td>\n",
       "      <td>0.00985</td>\n",
       "      <td>NaN</td>\n",
       "      <td>0.586754</td>\n",
       "      <td>0.527657</td>\n",
       "      <td>0.787463</td>\n",
       "      <td>0.732836</td>\n",
       "      <td>True</td>\n",
       "    </tr>\n",
       "    <tr>\n",
       "      <th>19</th>\n",
       "      <td>0.551945</td>\n",
       "      <td>0.00985</td>\n",
       "      <td>NaN</td>\n",
       "      <td>0.581494</td>\n",
       "      <td>0.522397</td>\n",
       "      <td>0.787463</td>\n",
       "      <td>0.732836</td>\n",
       "      <td>True</td>\n",
       "    </tr>\n",
       "  </tbody>\n",
       "</table>\n",
       "</div>"
      ],
      "text/plain": [
       "       value  sampling_error  realized  upper_confidence_boundary  \\\n",
       "0   0.757143         0.00985  0.749630                   0.786691   \n",
       "1   0.756008         0.00985  0.749251                   0.785556   \n",
       "2   0.760150         0.00985  0.771127                   0.789698   \n",
       "3   0.766415         0.00985  0.764938                   0.795964   \n",
       "4   0.765045         0.00985  0.773983                   0.794594   \n",
       "5   0.760004         0.00985  0.758346                   0.789553   \n",
       "6   0.763101         0.00985  0.766634                   0.792650   \n",
       "7   0.752923         0.00985  0.752280                   0.782471   \n",
       "8   0.759113         0.00985  0.749139                   0.788661   \n",
       "9   0.758078         0.00985  0.766169                   0.787626   \n",
       "10  0.767033         0.00985       NaN                   0.796581   \n",
       "11  0.766315         0.00985       NaN                   0.795863   \n",
       "12  0.767920         0.00985       NaN                   0.797468   \n",
       "13  0.762695         0.00985       NaN                   0.792243   \n",
       "14  0.755023         0.00985       NaN                   0.784571   \n",
       "15  0.555729         0.00985       NaN                   0.585277   \n",
       "16  0.560716         0.00985       NaN                   0.590264   \n",
       "17  0.554068         0.00985       NaN                   0.583617   \n",
       "18  0.557205         0.00985       NaN                   0.586754   \n",
       "19  0.551945         0.00985       NaN                   0.581494   \n",
       "\n",
       "    lower_confidence_boundary  upper_threshold  lower_threshold  alert  \n",
       "0                    0.727594         0.787463         0.732836  False  \n",
       "1                    0.726459         0.787463         0.732836  False  \n",
       "2                    0.730601         0.787463         0.732836  False  \n",
       "3                    0.736867         0.787463         0.732836  False  \n",
       "4                    0.735497         0.787463         0.732836  False  \n",
       "5                    0.730456         0.787463         0.732836  False  \n",
       "6                    0.733553         0.787463         0.732836  False  \n",
       "7                    0.723374         0.787463         0.732836  False  \n",
       "8                    0.729564         0.787463         0.732836  False  \n",
       "9                    0.728529         0.787463         0.732836  False  \n",
       "10                   0.737484         0.787463         0.732836  False  \n",
       "11                   0.736766         0.787463         0.732836  False  \n",
       "12                   0.738371         0.787463         0.732836  False  \n",
       "13                   0.733146         0.787463         0.732836  False  \n",
       "14                   0.725474         0.787463         0.732836  False  \n",
       "15                   0.526180         0.787463         0.732836   True  \n",
       "16                   0.531167         0.787463         0.732836   True  \n",
       "17                   0.524520         0.787463         0.732836   True  \n",
       "18                   0.527657         0.787463         0.732836   True  \n",
       "19                   0.522397         0.787463         0.732836   True  "
      ]
     },
     "execution_count": 16,
     "metadata": {},
     "output_type": "execute_result"
    }
   ],
   "source": [
    "results.data[\"true_prepaid_card_pred_prepaid_card\"]"
   ]
  },
  {
   "cell_type": "code",
   "execution_count": 17,
   "metadata": {},
   "outputs": [
    {
     "data": {
      "application/vnd.plotly.v1+json": {
       "config": {
        "plotlyServerURL": "https://plot.ly"
       },
       "data": [
        {
         "hoverinfo": "skip",
         "legendgroup": "metric_reference",
         "line": {
          "color": "#3b0280",
          "dash": "dash",
          "shape": "hv",
          "width": 2
         },
         "mode": "lines",
         "name": "Metric",
         "showlegend": true,
         "type": "scatter",
         "x": [
          "2020-05-02T02:01:30",
          "2020-05-14T12:29:25",
          "2020-05-26T18:31:06",
          "2020-06-07T19:58:39",
          "2020-06-19T19:44:14",
          "2020-07-02T02:06:56",
          "2020-07-14T08:14:08",
          "2020-07-26T12:57:37",
          "2020-08-07T16:33:44",
          "2020-08-20T00:07:58",
          "2020-09-01T03:03:23"
         ],
         "xaxis": "x",
         "y": [
          0.7571426863899268,
          0.7560078109335974,
          0.7601497580700809,
          0.7664151743635584,
          0.7650451003725376,
          0.7600044263490033,
          0.7631012888621864,
          0.7529228105190511,
          0.759112603850345,
          0.7580775835109601,
          0.7580775835109601
         ],
         "yaxis": "y"
        },
        {
         "customdata": [
          [
           "Estimated <b>true class: prepaid_card, predicted class: prepaid_card</b>",
           "<b style=\"color:#3b0280;line-height:60px\">Reference</b>",
           "",
           "[0:5999]",
           "From <b>May-02-2020</b> to <b>May-14-2020</b>",
           0.7571,
           0.0295
          ],
          [
           "Estimated <b>true class: prepaid_card, predicted class: prepaid_card</b>",
           "<b style=\"color:#3b0280;line-height:60px\">Reference</b>",
           "",
           "[6000:11999]",
           "From <b>May-14-2020</b> to <b>May-26-2020</b>",
           0.756,
           0.0295
          ],
          [
           "Estimated <b>true class: prepaid_card, predicted class: prepaid_card</b>",
           "<b style=\"color:#3b0280;line-height:60px\">Reference</b>",
           "",
           "[12000:17999]",
           "From <b>May-26-2020</b> to <b>Jun-07-2020</b>",
           0.7601,
           0.0295
          ],
          [
           "Estimated <b>true class: prepaid_card, predicted class: prepaid_card</b>",
           "<b style=\"color:#3b0280;line-height:60px\">Reference</b>",
           "",
           "[18000:23999]",
           "From <b>Jun-07-2020</b> to <b>Jun-19-2020</b>",
           0.7664,
           0.0295
          ],
          [
           "Estimated <b>true class: prepaid_card, predicted class: prepaid_card</b>",
           "<b style=\"color:#3b0280;line-height:60px\">Reference</b>",
           "",
           "[24000:29999]",
           "From <b>Jun-19-2020</b> to <b>Jul-02-2020</b>",
           0.765,
           0.0295
          ],
          [
           "Estimated <b>true class: prepaid_card, predicted class: prepaid_card</b>",
           "<b style=\"color:#3b0280;line-height:60px\">Reference</b>",
           "",
           "[30000:35999]",
           "From <b>Jul-02-2020</b> to <b>Jul-14-2020</b>",
           0.76,
           0.0295
          ],
          [
           "Estimated <b>true class: prepaid_card, predicted class: prepaid_card</b>",
           "<b style=\"color:#3b0280;line-height:60px\">Reference</b>",
           "",
           "[36000:41999]",
           "From <b>Jul-14-2020</b> to <b>Jul-26-2020</b>",
           0.7631,
           0.0295
          ],
          [
           "Estimated <b>true class: prepaid_card, predicted class: prepaid_card</b>",
           "<b style=\"color:#3b0280;line-height:60px\">Reference</b>",
           "",
           "[42000:47999]",
           "From <b>Jul-26-2020</b> to <b>Aug-07-2020</b>",
           0.7529,
           0.0295
          ],
          [
           "Estimated <b>true class: prepaid_card, predicted class: prepaid_card</b>",
           "<b style=\"color:#3b0280;line-height:60px\">Reference</b>",
           "",
           "[48000:53999]",
           "From <b>Aug-07-2020</b> to <b>Aug-20-2020</b>",
           0.7591,
           0.0295
          ],
          [
           "Estimated <b>true class: prepaid_card, predicted class: prepaid_card</b>",
           "<b style=\"color:#3b0280;line-height:60px\">Reference</b>",
           "",
           "[54000:59999]",
           "From <b>Aug-20-2020</b> to <b>Sep-01-2020</b>",
           0.7581,
           0.0295
          ]
         ],
         "hovertemplate": "%{customdata[1]} &nbsp; &nbsp; %{customdata[2]} <br />Chunk: <b>%{customdata[3]}</b> &nbsp; &nbsp; %{customdata[4]} <br />%{customdata[0]}: <b>%{customdata[5]}</b><br />Confidence band: +/- <b>%{customdata[6]}</b><br /><extra></extra>",
         "legendgroup": "metric_reference",
         "line": {
          "dash": "dash"
         },
         "marker": {
          "color": "#3b0280",
          "size": 5,
          "symbol": "circle"
         },
         "mode": "markers",
         "name": "Metric",
         "showlegend": false,
         "type": "scatter",
         "x": [
          "2020-05-08T07:15:27.500000",
          "2020-05-20T15:30:15.500000",
          "2020-06-01T19:14:52.500000",
          "2020-06-13T19:51:26.500000",
          "2020-06-25T22:55:35",
          "2020-07-08T05:10:32",
          "2020-07-20T10:35:52.500000",
          "2020-08-01T14:45:40.500000",
          "2020-08-13T20:20:51",
          "2020-08-26T01:35:40.500000"
         ],
         "xaxis": "x",
         "y": [
          0.7571426863899268,
          0.7560078109335974,
          0.7601497580700809,
          0.7664151743635584,
          0.7650451003725376,
          0.7600044263490033,
          0.7631012888621864,
          0.7529228105190511,
          0.759112603850345,
          0.7580775835109601,
          0.7580775835109601
         ],
         "yaxis": "y"
        },
        {
         "hoverinfo": "skip",
         "legendgroup": "metric_analysis",
         "line": {
          "color": "#3b0280",
          "dash": "dash",
          "shape": "hv",
          "width": 2
         },
         "mode": "lines",
         "name": "Metric",
         "showlegend": false,
         "type": "scatter",
         "x": [
          "2020-09-01T03:10:01",
          "2020-09-13T16:15:32",
          "2020-09-25T19:50:04",
          "2020-10-08T02:57:34",
          "2020-10-20T15:49:06",
          "2020-11-01T22:04:59",
          "2020-11-14T03:55:49",
          "2020-11-26T09:19:22",
          "2020-12-08T14:34:25",
          "2020-12-20T18:31:09",
          "2021-01-01T22:57:55"
         ],
         "xaxis": "x",
         "y": [
          0.7670325420177462,
          0.7663145167947365,
          0.7679195261412519,
          0.7626946139309034,
          0.7550227795180745,
          0.5557286516035572,
          0.5607157365449874,
          0.5540680179015475,
          0.5572052802194993,
          0.5519450142537087,
          0.5519450142537087
         ],
         "yaxis": "y"
        },
        {
         "customdata": [
          [
           "Estimated <b>true class: prepaid_card, predicted class: prepaid_card</b>",
           "<b style=\"color:#3b0280;line-height:60px\">Analysis</b>",
           "",
           "[0:5999]",
           "From <b>Sep-01-2020</b> to <b>Sep-13-2020</b>",
           0.767,
           0.0295
          ],
          [
           "Estimated <b>true class: prepaid_card, predicted class: prepaid_card</b>",
           "<b style=\"color:#3b0280;line-height:60px\">Analysis</b>",
           "",
           "[6000:11999]",
           "From <b>Sep-13-2020</b> to <b>Sep-25-2020</b>",
           0.7663,
           0.0295
          ],
          [
           "Estimated <b>true class: prepaid_card, predicted class: prepaid_card</b>",
           "<b style=\"color:#3b0280;line-height:60px\">Analysis</b>",
           "",
           "[12000:17999]",
           "From <b>Sep-25-2020</b> to <b>Oct-08-2020</b>",
           0.7679,
           0.0295
          ],
          [
           "Estimated <b>true class: prepaid_card, predicted class: prepaid_card</b>",
           "<b style=\"color:#3b0280;line-height:60px\">Analysis</b>",
           "",
           "[18000:23999]",
           "From <b>Oct-08-2020</b> to <b>Oct-20-2020</b>",
           0.7627,
           0.0295
          ],
          [
           "Estimated <b>true class: prepaid_card, predicted class: prepaid_card</b>",
           "<b style=\"color:#3b0280;line-height:60px\">Analysis</b>",
           "",
           "[24000:29999]",
           "From <b>Oct-20-2020</b> to <b>Nov-01-2020</b>",
           0.755,
           0.0295
          ],
          [
           "Estimated <b>true class: prepaid_card, predicted class: prepaid_card</b>",
           "<b style=\"color:#3b0280;line-height:60px\">Analysis</b>",
           "<span style=\"color:#AD0000\">⚠ <b>Drift detected</b></span>",
           "[30000:35999]",
           "From <b>Nov-01-2020</b> to <b>Nov-14-2020</b>",
           0.5557,
           0.0295
          ],
          [
           "Estimated <b>true class: prepaid_card, predicted class: prepaid_card</b>",
           "<b style=\"color:#3b0280;line-height:60px\">Analysis</b>",
           "<span style=\"color:#AD0000\">⚠ <b>Drift detected</b></span>",
           "[36000:41999]",
           "From <b>Nov-14-2020</b> to <b>Nov-26-2020</b>",
           0.5607,
           0.0295
          ],
          [
           "Estimated <b>true class: prepaid_card, predicted class: prepaid_card</b>",
           "<b style=\"color:#3b0280;line-height:60px\">Analysis</b>",
           "<span style=\"color:#AD0000\">⚠ <b>Drift detected</b></span>",
           "[42000:47999]",
           "From <b>Nov-26-2020</b> to <b>Dec-08-2020</b>",
           0.5541,
           0.0295
          ],
          [
           "Estimated <b>true class: prepaid_card, predicted class: prepaid_card</b>",
           "<b style=\"color:#3b0280;line-height:60px\">Analysis</b>",
           "<span style=\"color:#AD0000\">⚠ <b>Drift detected</b></span>",
           "[48000:53999]",
           "From <b>Dec-08-2020</b> to <b>Dec-20-2020</b>",
           0.5572,
           0.0295
          ],
          [
           "Estimated <b>true class: prepaid_card, predicted class: prepaid_card</b>",
           "<b style=\"color:#3b0280;line-height:60px\">Analysis</b>",
           "<span style=\"color:#AD0000\">⚠ <b>Drift detected</b></span>",
           "[54000:59999]",
           "From <b>Dec-20-2020</b> to <b>Jan-01-2021</b>",
           0.5519,
           0.0295
          ]
         ],
         "hovertemplate": "%{customdata[1]} &nbsp; &nbsp; %{customdata[2]} <br />Chunk: <b>%{customdata[3]}</b> &nbsp; &nbsp; %{customdata[4]} <br />%{customdata[0]}: <b>%{customdata[5]}</b><br />Confidence band: +/- <b>%{customdata[6]}</b><br /><extra></extra>",
         "legendgroup": "metric_analysis",
         "line": {
          "dash": "dash"
         },
         "marker": {
          "color": "#3b0280",
          "size": 5,
          "symbol": "circle"
         },
         "mode": "markers",
         "name": "Metric",
         "showlegend": false,
         "type": "scatter",
         "x": [
          "2020-09-07T09:42:46.500000",
          "2020-09-19T18:02:48",
          "2020-10-01T23:23:49",
          "2020-10-14T09:23:20",
          "2020-10-26T18:57:02.500000",
          "2020-11-08T01:00:24",
          "2020-11-20T06:37:35.500000",
          "2020-12-02T11:56:53.500000",
          "2020-12-14T16:32:47",
          "2020-12-26T20:44:32"
         ],
         "xaxis": "x",
         "y": [
          0.7670325420177462,
          0.7663145167947365,
          0.7679195261412519,
          0.7626946139309034,
          0.7550227795180745,
          0.5557286516035572,
          0.5607157365449874,
          0.5540680179015475,
          0.5572052802194993,
          0.5519450142537087,
          0.5519450142537087
         ],
         "yaxis": "y"
        },
        {
         "hoverinfo": "skip",
         "legendgroup": "alert",
         "marker": {
          "color": "#DD4040",
          "size": 8,
          "symbol": "diamond"
         },
         "mode": "markers",
         "name": "Alert",
         "showlegend": true,
         "type": "scatter",
         "x": [
          "2020-11-08T01:00:24",
          "2020-11-20T06:37:35.500000",
          "2020-12-02T11:56:53.500000",
          "2020-12-14T16:32:47",
          "2020-12-26T20:44:32"
         ],
         "xaxis": "x",
         "y": [
          0.5557286516035572,
          0.5607157365449874,
          0.5540680179015475,
          0.5572052802194993,
          0.5519450142537087
         ],
         "yaxis": "y"
        },
        {
         "hoverinfo": "skip",
         "legendgroup": "thresh",
         "line": {
          "color": "#DD4040",
          "dash": "dash",
          "width": 2
         },
         "mode": "lines",
         "name": "Threshold",
         "showlegend": true,
         "type": "scatter",
         "x": [
          "2020-05-02T02:01:30",
          "2020-05-14T12:29:25",
          "2020-05-26T18:31:06",
          "2020-06-07T19:58:39",
          "2020-06-19T19:44:14",
          "2020-07-02T02:06:56",
          "2020-07-14T08:14:08",
          "2020-07-26T12:57:37",
          "2020-08-07T16:33:44",
          "2020-08-20T00:07:58",
          "2020-09-01T03:03:23"
         ],
         "xaxis": "x",
         "y": [
          0.7874633952203353,
          0.7874633952203353,
          0.7874633952203353,
          0.7874633952203353,
          0.7874633952203353,
          0.7874633952203353,
          0.7874633952203353,
          0.7874633952203353,
          0.7874633952203353,
          0.7874633952203353,
          0.7874633952203353
         ],
         "yaxis": "y"
        },
        {
         "hoverinfo": "skip",
         "legendgroup": "thresh",
         "line": {
          "color": "#DD4040",
          "dash": "dash",
          "width": 2
         },
         "mode": "lines",
         "name": "Threshold",
         "showlegend": false,
         "type": "scatter",
         "x": [
          "2020-05-02T02:01:30",
          "2020-05-14T12:29:25",
          "2020-05-26T18:31:06",
          "2020-06-07T19:58:39",
          "2020-06-19T19:44:14",
          "2020-07-02T02:06:56",
          "2020-07-14T08:14:08",
          "2020-07-26T12:57:37",
          "2020-08-07T16:33:44",
          "2020-08-20T00:07:58",
          "2020-09-01T03:03:23"
         ],
         "xaxis": "x",
         "y": [
          0.7328359843013105,
          0.7328359843013105,
          0.7328359843013105,
          0.7328359843013105,
          0.7328359843013105,
          0.7328359843013105,
          0.7328359843013105,
          0.7328359843013105,
          0.7328359843013105,
          0.7328359843013105,
          0.7328359843013105
         ],
         "yaxis": "y"
        },
        {
         "hoverinfo": "skip",
         "legendgroup": "thresh",
         "line": {
          "color": "#DD4040",
          "dash": "dash",
          "width": 2
         },
         "mode": "lines",
         "name": "Threshold",
         "showlegend": false,
         "type": "scatter",
         "x": [
          "2020-09-01T03:10:01",
          "2020-09-13T16:15:32",
          "2020-09-25T19:50:04",
          "2020-10-08T02:57:34",
          "2020-10-20T15:49:06",
          "2020-11-01T22:04:59",
          "2020-11-14T03:55:49",
          "2020-11-26T09:19:22",
          "2020-12-08T14:34:25",
          "2020-12-20T18:31:09",
          "2021-01-01T22:57:55"
         ],
         "xaxis": "x",
         "y": [
          0.7874633952203353,
          0.7874633952203353,
          0.7874633952203353,
          0.7874633952203353,
          0.7874633952203353,
          0.7874633952203353,
          0.7874633952203353,
          0.7874633952203353,
          0.7874633952203353,
          0.7874633952203353,
          0.7874633952203353
         ],
         "yaxis": "y"
        },
        {
         "hoverinfo": "skip",
         "legendgroup": "thresh",
         "line": {
          "color": "#DD4040",
          "dash": "dash",
          "width": 2
         },
         "mode": "lines",
         "name": "Threshold",
         "showlegend": false,
         "type": "scatter",
         "x": [
          "2020-09-01T03:10:01",
          "2020-09-13T16:15:32",
          "2020-09-25T19:50:04",
          "2020-10-08T02:57:34",
          "2020-10-20T15:49:06",
          "2020-11-01T22:04:59",
          "2020-11-14T03:55:49",
          "2020-11-26T09:19:22",
          "2020-12-08T14:34:25",
          "2020-12-20T18:31:09",
          "2021-01-01T22:57:55"
         ],
         "xaxis": "x",
         "y": [
          0.7328359843013105,
          0.7328359843013105,
          0.7328359843013105,
          0.7328359843013105,
          0.7328359843013105,
          0.7328359843013105,
          0.7328359843013105,
          0.7328359843013105,
          0.7328359843013105,
          0.7328359843013105,
          0.7328359843013105
         ],
         "yaxis": "y"
        },
        {
         "hoverinfo": "skip",
         "line": {
          "color": "rgba(0,0,0,0)",
          "shape": "hv"
         },
         "mode": "lines",
         "name": "Confidence band",
         "showlegend": false,
         "type": "scatter",
         "x": [
          "2020-05-02T02:01:30",
          "2020-05-14T12:29:25",
          "2020-05-26T18:31:06",
          "2020-06-07T19:58:39",
          "2020-06-19T19:44:14",
          "2020-07-02T02:06:56",
          "2020-07-14T08:14:08",
          "2020-07-26T12:57:37",
          "2020-08-07T16:33:44",
          "2020-08-20T00:07:58",
          "2020-09-01T03:03:23"
         ],
         "xaxis": "x",
         "y": [
          0.7866911887339069,
          0.7855563132775775,
          0.789698260414061,
          0.7959636767075385,
          0.7945936027165177,
          0.7895529286929834,
          0.7926497912061665,
          0.7824713128630312,
          0.7886611061943251,
          0.7876260858549402,
          0.7876260858549402
         ],
         "yaxis": "y"
        },
        {
         "fill": "tonexty",
         "fillcolor": "rgba(0.23137254901960785, 0.00784313725490196, 0.5019607843137255, 0.2)",
         "hoverinfo": "skip",
         "line": {
          "color": "rgba(0,0,0,0)",
          "shape": "hv"
         },
         "mode": "lines",
         "name": "Confidence band",
         "showlegend": true,
         "type": "scatter",
         "x": [
          "2020-05-02T02:01:30",
          "2020-05-14T12:29:25",
          "2020-05-26T18:31:06",
          "2020-06-07T19:58:39",
          "2020-06-19T19:44:14",
          "2020-07-02T02:06:56",
          "2020-07-14T08:14:08",
          "2020-07-26T12:57:37",
          "2020-08-07T16:33:44",
          "2020-08-20T00:07:58",
          "2020-09-01T03:03:23"
         ],
         "xaxis": "x",
         "y": [
          0.7275941840459467,
          0.7264593085896173,
          0.7306012557261008,
          0.7368666720195783,
          0.7354965980285575,
          0.7304559240050232,
          0.7335527865182063,
          0.723374308175071,
          0.7295641015063649,
          0.72852908116698,
          0.72852908116698
         ],
         "yaxis": "y"
        },
        {
         "hoverinfo": "skip",
         "line": {
          "color": "rgba(0,0,0,0)",
          "shape": "hv"
         },
         "mode": "lines",
         "name": "Confidence band",
         "showlegend": false,
         "type": "scatter",
         "x": [
          "2020-09-01T03:10:01",
          "2020-09-13T16:15:32",
          "2020-09-25T19:50:04",
          "2020-10-08T02:57:34",
          "2020-10-20T15:49:06",
          "2020-11-01T22:04:59",
          "2020-11-14T03:55:49",
          "2020-11-26T09:19:22",
          "2020-12-08T14:34:25",
          "2020-12-20T18:31:09",
          "2021-01-01T22:57:55"
         ],
         "xaxis": "x",
         "y": [
          0.7965810443617263,
          0.7958630191387166,
          0.797468028485232,
          0.7922431162748835,
          0.7845712818620546,
          0.5852771539475373,
          0.5902642388889675,
          0.5836165202455276,
          0.5867537825634794,
          0.5814935165976888,
          0.5814935165976888
         ],
         "yaxis": "y"
        },
        {
         "fill": "tonexty",
         "fillcolor": "rgba(0.23137254901960785, 0.00784313725490196, 0.5019607843137255, 0.2)",
         "hoverinfo": "skip",
         "line": {
          "color": "rgba(0,0,0,0)",
          "shape": "hv"
         },
         "mode": "lines",
         "name": "Confidence band",
         "showlegend": false,
         "type": "scatter",
         "x": [
          "2020-09-01T03:10:01",
          "2020-09-13T16:15:32",
          "2020-09-25T19:50:04",
          "2020-10-08T02:57:34",
          "2020-10-20T15:49:06",
          "2020-11-01T22:04:59",
          "2020-11-14T03:55:49",
          "2020-11-26T09:19:22",
          "2020-12-08T14:34:25",
          "2020-12-20T18:31:09",
          "2021-01-01T22:57:55"
         ],
         "xaxis": "x",
         "y": [
          0.7374840396737661,
          0.7367660144507564,
          0.7383710237972718,
          0.7331461115869233,
          0.7254742771740944,
          0.5261801492595771,
          0.5311672342010073,
          0.5245195155575674,
          0.5276567778755192,
          0.5223965119097286,
          0.5223965119097286
         ],
         "yaxis": "y"
        },
        {
         "hoverinfo": "skip",
         "legendgroup": "metric_reference",
         "line": {
          "color": "#3b0280",
          "dash": "dash",
          "shape": "hv",
          "width": 2
         },
         "mode": "lines",
         "name": "Metric",
         "showlegend": false,
         "type": "scatter",
         "x": [
          "2020-05-02T02:01:30",
          "2020-05-14T12:29:25",
          "2020-05-26T18:31:06",
          "2020-06-07T19:58:39",
          "2020-06-19T19:44:14",
          "2020-07-02T02:06:56",
          "2020-07-14T08:14:08",
          "2020-07-26T12:57:37",
          "2020-08-07T16:33:44",
          "2020-08-20T00:07:58",
          "2020-09-01T03:03:23"
         ],
         "xaxis": "x2",
         "y": [
          0.1270242111597987,
          0.13094418660652887,
          0.12621734172696297,
          0.12643893379849927,
          0.1180059192987707,
          0.12244069659452203,
          0.12164897164374414,
          0.12923053612228283,
          0.12226948829625754,
          0.12397184212977745,
          0.12397184212977745
         ],
         "yaxis": "y2"
        },
        {
         "customdata": [
          [
           "Estimated <b>true class: prepaid_card, predicted class: highstreet_card</b>",
           "<b style=\"color:#3b0280;line-height:60px\">Reference</b>",
           "",
           "[0:5999]",
           "From <b>May-02-2020</b> to <b>May-14-2020</b>",
           0.127,
           0.0228
          ],
          [
           "Estimated <b>true class: prepaid_card, predicted class: highstreet_card</b>",
           "<b style=\"color:#3b0280;line-height:60px\">Reference</b>",
           "",
           "[6000:11999]",
           "From <b>May-14-2020</b> to <b>May-26-2020</b>",
           0.1309,
           0.0228
          ],
          [
           "Estimated <b>true class: prepaid_card, predicted class: highstreet_card</b>",
           "<b style=\"color:#3b0280;line-height:60px\">Reference</b>",
           "",
           "[12000:17999]",
           "From <b>May-26-2020</b> to <b>Jun-07-2020</b>",
           0.1262,
           0.0228
          ],
          [
           "Estimated <b>true class: prepaid_card, predicted class: highstreet_card</b>",
           "<b style=\"color:#3b0280;line-height:60px\">Reference</b>",
           "",
           "[18000:23999]",
           "From <b>Jun-07-2020</b> to <b>Jun-19-2020</b>",
           0.1264,
           0.0228
          ],
          [
           "Estimated <b>true class: prepaid_card, predicted class: highstreet_card</b>",
           "<b style=\"color:#3b0280;line-height:60px\">Reference</b>",
           "",
           "[24000:29999]",
           "From <b>Jun-19-2020</b> to <b>Jul-02-2020</b>",
           0.118,
           0.0228
          ],
          [
           "Estimated <b>true class: prepaid_card, predicted class: highstreet_card</b>",
           "<b style=\"color:#3b0280;line-height:60px\">Reference</b>",
           "",
           "[30000:35999]",
           "From <b>Jul-02-2020</b> to <b>Jul-14-2020</b>",
           0.1224,
           0.0228
          ],
          [
           "Estimated <b>true class: prepaid_card, predicted class: highstreet_card</b>",
           "<b style=\"color:#3b0280;line-height:60px\">Reference</b>",
           "",
           "[36000:41999]",
           "From <b>Jul-14-2020</b> to <b>Jul-26-2020</b>",
           0.1216,
           0.0228
          ],
          [
           "Estimated <b>true class: prepaid_card, predicted class: highstreet_card</b>",
           "<b style=\"color:#3b0280;line-height:60px\">Reference</b>",
           "",
           "[42000:47999]",
           "From <b>Jul-26-2020</b> to <b>Aug-07-2020</b>",
           0.1292,
           0.0228
          ],
          [
           "Estimated <b>true class: prepaid_card, predicted class: highstreet_card</b>",
           "<b style=\"color:#3b0280;line-height:60px\">Reference</b>",
           "",
           "[48000:53999]",
           "From <b>Aug-07-2020</b> to <b>Aug-20-2020</b>",
           0.1223,
           0.0228
          ],
          [
           "Estimated <b>true class: prepaid_card, predicted class: highstreet_card</b>",
           "<b style=\"color:#3b0280;line-height:60px\">Reference</b>",
           "",
           "[54000:59999]",
           "From <b>Aug-20-2020</b> to <b>Sep-01-2020</b>",
           0.124,
           0.0228
          ]
         ],
         "hovertemplate": "%{customdata[1]} &nbsp; &nbsp; %{customdata[2]} <br />Chunk: <b>%{customdata[3]}</b> &nbsp; &nbsp; %{customdata[4]} <br />%{customdata[0]}: <b>%{customdata[5]}</b><br />Confidence band: +/- <b>%{customdata[6]}</b><br /><extra></extra>",
         "legendgroup": "metric_reference",
         "line": {
          "dash": "dash"
         },
         "marker": {
          "color": "#3b0280",
          "size": 5,
          "symbol": "circle"
         },
         "mode": "markers",
         "name": "Metric",
         "showlegend": false,
         "type": "scatter",
         "x": [
          "2020-05-08T07:15:27.500000",
          "2020-05-20T15:30:15.500000",
          "2020-06-01T19:14:52.500000",
          "2020-06-13T19:51:26.500000",
          "2020-06-25T22:55:35",
          "2020-07-08T05:10:32",
          "2020-07-20T10:35:52.500000",
          "2020-08-01T14:45:40.500000",
          "2020-08-13T20:20:51",
          "2020-08-26T01:35:40.500000"
         ],
         "xaxis": "x2",
         "y": [
          0.1270242111597987,
          0.13094418660652887,
          0.12621734172696297,
          0.12643893379849927,
          0.1180059192987707,
          0.12244069659452203,
          0.12164897164374414,
          0.12923053612228283,
          0.12226948829625754,
          0.12397184212977745,
          0.12397184212977745
         ],
         "yaxis": "y2"
        },
        {
         "hoverinfo": "skip",
         "legendgroup": "metric_analysis",
         "line": {
          "color": "#3b0280",
          "dash": "dash",
          "shape": "hv",
          "width": 2
         },
         "mode": "lines",
         "name": "Metric",
         "showlegend": false,
         "type": "scatter",
         "x": [
          "2020-09-01T03:10:01",
          "2020-09-13T16:15:32",
          "2020-09-25T19:50:04",
          "2020-10-08T02:57:34",
          "2020-10-20T15:49:06",
          "2020-11-01T22:04:59",
          "2020-11-14T03:55:49",
          "2020-11-26T09:19:22",
          "2020-12-08T14:34:25",
          "2020-12-20T18:31:09",
          "2021-01-01T22:57:55"
         ],
         "xaxis": "x2",
         "y": [
          0.12173787622971376,
          0.11847586579369213,
          0.12026255846358246,
          0.12046186724757238,
          0.12835972917127747,
          0.23667691110316325,
          0.2452534911260886,
          0.24497164022694237,
          0.24138913127264058,
          0.24429552962573606,
          0.24429552962573606
         ],
         "yaxis": "y2"
        },
        {
         "customdata": [
          [
           "Estimated <b>true class: prepaid_card, predicted class: highstreet_card</b>",
           "<b style=\"color:#3b0280;line-height:60px\">Analysis</b>",
           "",
           "[0:5999]",
           "From <b>Sep-01-2020</b> to <b>Sep-13-2020</b>",
           0.1217,
           0.0228
          ],
          [
           "Estimated <b>true class: prepaid_card, predicted class: highstreet_card</b>",
           "<b style=\"color:#3b0280;line-height:60px\">Analysis</b>",
           "",
           "[6000:11999]",
           "From <b>Sep-13-2020</b> to <b>Sep-25-2020</b>",
           0.1185,
           0.0228
          ],
          [
           "Estimated <b>true class: prepaid_card, predicted class: highstreet_card</b>",
           "<b style=\"color:#3b0280;line-height:60px\">Analysis</b>",
           "",
           "[12000:17999]",
           "From <b>Sep-25-2020</b> to <b>Oct-08-2020</b>",
           0.1203,
           0.0228
          ],
          [
           "Estimated <b>true class: prepaid_card, predicted class: highstreet_card</b>",
           "<b style=\"color:#3b0280;line-height:60px\">Analysis</b>",
           "",
           "[18000:23999]",
           "From <b>Oct-08-2020</b> to <b>Oct-20-2020</b>",
           0.1205,
           0.0228
          ],
          [
           "Estimated <b>true class: prepaid_card, predicted class: highstreet_card</b>",
           "<b style=\"color:#3b0280;line-height:60px\">Analysis</b>",
           "",
           "[24000:29999]",
           "From <b>Oct-20-2020</b> to <b>Nov-01-2020</b>",
           0.1284,
           0.0228
          ],
          [
           "Estimated <b>true class: prepaid_card, predicted class: highstreet_card</b>",
           "<b style=\"color:#3b0280;line-height:60px\">Analysis</b>",
           "<span style=\"color:#AD0000\">⚠ <b>Drift detected</b></span>",
           "[30000:35999]",
           "From <b>Nov-01-2020</b> to <b>Nov-14-2020</b>",
           0.2367,
           0.0228
          ],
          [
           "Estimated <b>true class: prepaid_card, predicted class: highstreet_card</b>",
           "<b style=\"color:#3b0280;line-height:60px\">Analysis</b>",
           "<span style=\"color:#AD0000\">⚠ <b>Drift detected</b></span>",
           "[36000:41999]",
           "From <b>Nov-14-2020</b> to <b>Nov-26-2020</b>",
           0.2453,
           0.0228
          ],
          [
           "Estimated <b>true class: prepaid_card, predicted class: highstreet_card</b>",
           "<b style=\"color:#3b0280;line-height:60px\">Analysis</b>",
           "<span style=\"color:#AD0000\">⚠ <b>Drift detected</b></span>",
           "[42000:47999]",
           "From <b>Nov-26-2020</b> to <b>Dec-08-2020</b>",
           0.245,
           0.0228
          ],
          [
           "Estimated <b>true class: prepaid_card, predicted class: highstreet_card</b>",
           "<b style=\"color:#3b0280;line-height:60px\">Analysis</b>",
           "<span style=\"color:#AD0000\">⚠ <b>Drift detected</b></span>",
           "[48000:53999]",
           "From <b>Dec-08-2020</b> to <b>Dec-20-2020</b>",
           0.2414,
           0.0228
          ],
          [
           "Estimated <b>true class: prepaid_card, predicted class: highstreet_card</b>",
           "<b style=\"color:#3b0280;line-height:60px\">Analysis</b>",
           "<span style=\"color:#AD0000\">⚠ <b>Drift detected</b></span>",
           "[54000:59999]",
           "From <b>Dec-20-2020</b> to <b>Jan-01-2021</b>",
           0.2443,
           0.0228
          ]
         ],
         "hovertemplate": "%{customdata[1]} &nbsp; &nbsp; %{customdata[2]} <br />Chunk: <b>%{customdata[3]}</b> &nbsp; &nbsp; %{customdata[4]} <br />%{customdata[0]}: <b>%{customdata[5]}</b><br />Confidence band: +/- <b>%{customdata[6]}</b><br /><extra></extra>",
         "legendgroup": "metric_analysis",
         "line": {
          "dash": "dash"
         },
         "marker": {
          "color": "#3b0280",
          "size": 5,
          "symbol": "circle"
         },
         "mode": "markers",
         "name": "Metric",
         "showlegend": false,
         "type": "scatter",
         "x": [
          "2020-09-07T09:42:46.500000",
          "2020-09-19T18:02:48",
          "2020-10-01T23:23:49",
          "2020-10-14T09:23:20",
          "2020-10-26T18:57:02.500000",
          "2020-11-08T01:00:24",
          "2020-11-20T06:37:35.500000",
          "2020-12-02T11:56:53.500000",
          "2020-12-14T16:32:47",
          "2020-12-26T20:44:32"
         ],
         "xaxis": "x2",
         "y": [
          0.12173787622971376,
          0.11847586579369213,
          0.12026255846358246,
          0.12046186724757238,
          0.12835972917127747,
          0.23667691110316325,
          0.2452534911260886,
          0.24497164022694237,
          0.24138913127264058,
          0.24429552962573606,
          0.24429552962573606
         ],
         "yaxis": "y2"
        },
        {
         "hoverinfo": "skip",
         "legendgroup": "alert",
         "marker": {
          "color": "#DD4040",
          "size": 8,
          "symbol": "diamond"
         },
         "mode": "markers",
         "name": "Alert",
         "showlegend": false,
         "type": "scatter",
         "x": [
          "2020-11-08T01:00:24",
          "2020-11-20T06:37:35.500000",
          "2020-12-02T11:56:53.500000",
          "2020-12-14T16:32:47",
          "2020-12-26T20:44:32"
         ],
         "xaxis": "x2",
         "y": [
          0.23667691110316325,
          0.2452534911260886,
          0.24497164022694237,
          0.24138913127264058,
          0.24429552962573606
         ],
         "yaxis": "y2"
        },
        {
         "hoverinfo": "skip",
         "legendgroup": "thresh",
         "line": {
          "color": "#DD4040",
          "dash": "dash",
          "width": 2
         },
         "mode": "lines",
         "name": "Threshold",
         "showlegend": false,
         "type": "scatter",
         "x": [
          "2020-05-02T02:01:30",
          "2020-05-14T12:29:25",
          "2020-05-26T18:31:06",
          "2020-06-07T19:58:39",
          "2020-06-19T19:44:14",
          "2020-07-02T02:06:56",
          "2020-07-14T08:14:08",
          "2020-07-26T12:57:37",
          "2020-08-07T16:33:44",
          "2020-08-20T00:07:58",
          "2020-09-01T03:03:23"
         ],
         "xaxis": "x2",
         "y": [
          0.15656449022256316,
          0.15656449022256316,
          0.15656449022256316,
          0.15656449022256316,
          0.15656449022256316,
          0.15656449022256316,
          0.15656449022256316,
          0.15656449022256316,
          0.15656449022256316,
          0.15656449022256316,
          0.15656449022256316
         ],
         "yaxis": "y2"
        },
        {
         "hoverinfo": "skip",
         "legendgroup": "thresh",
         "line": {
          "color": "#DD4040",
          "dash": "dash",
          "width": 2
         },
         "mode": "lines",
         "name": "Threshold",
         "showlegend": false,
         "type": "scatter",
         "x": [
          "2020-05-02T02:01:30",
          "2020-05-14T12:29:25",
          "2020-05-26T18:31:06",
          "2020-06-07T19:58:39",
          "2020-06-19T19:44:14",
          "2020-07-02T02:06:56",
          "2020-07-14T08:14:08",
          "2020-07-26T12:57:37",
          "2020-08-07T16:33:44",
          "2020-08-20T00:07:58",
          "2020-09-01T03:03:23"
         ],
         "xaxis": "x2",
         "y": [
          0.11094976923766828,
          0.11094976923766828,
          0.11094976923766828,
          0.11094976923766828,
          0.11094976923766828,
          0.11094976923766828,
          0.11094976923766828,
          0.11094976923766828,
          0.11094976923766828,
          0.11094976923766828,
          0.11094976923766828
         ],
         "yaxis": "y2"
        },
        {
         "hoverinfo": "skip",
         "legendgroup": "thresh",
         "line": {
          "color": "#DD4040",
          "dash": "dash",
          "width": 2
         },
         "mode": "lines",
         "name": "Threshold",
         "showlegend": false,
         "type": "scatter",
         "x": [
          "2020-09-01T03:10:01",
          "2020-09-13T16:15:32",
          "2020-09-25T19:50:04",
          "2020-10-08T02:57:34",
          "2020-10-20T15:49:06",
          "2020-11-01T22:04:59",
          "2020-11-14T03:55:49",
          "2020-11-26T09:19:22",
          "2020-12-08T14:34:25",
          "2020-12-20T18:31:09",
          "2021-01-01T22:57:55"
         ],
         "xaxis": "x2",
         "y": [
          0.15656449022256316,
          0.15656449022256316,
          0.15656449022256316,
          0.15656449022256316,
          0.15656449022256316,
          0.15656449022256316,
          0.15656449022256316,
          0.15656449022256316,
          0.15656449022256316,
          0.15656449022256316,
          0.15656449022256316
         ],
         "yaxis": "y2"
        },
        {
         "hoverinfo": "skip",
         "legendgroup": "thresh",
         "line": {
          "color": "#DD4040",
          "dash": "dash",
          "width": 2
         },
         "mode": "lines",
         "name": "Threshold",
         "showlegend": false,
         "type": "scatter",
         "x": [
          "2020-09-01T03:10:01",
          "2020-09-13T16:15:32",
          "2020-09-25T19:50:04",
          "2020-10-08T02:57:34",
          "2020-10-20T15:49:06",
          "2020-11-01T22:04:59",
          "2020-11-14T03:55:49",
          "2020-11-26T09:19:22",
          "2020-12-08T14:34:25",
          "2020-12-20T18:31:09",
          "2021-01-01T22:57:55"
         ],
         "xaxis": "x2",
         "y": [
          0.11094976923766828,
          0.11094976923766828,
          0.11094976923766828,
          0.11094976923766828,
          0.11094976923766828,
          0.11094976923766828,
          0.11094976923766828,
          0.11094976923766828,
          0.11094976923766828,
          0.11094976923766828,
          0.11094976923766828
         ],
         "yaxis": "y2"
        },
        {
         "hoverinfo": "skip",
         "line": {
          "color": "rgba(0,0,0,0)",
          "shape": "hv"
         },
         "mode": "lines",
         "name": "Confidence band",
         "showlegend": false,
         "type": "scatter",
         "x": [
          "2020-05-02T02:01:30",
          "2020-05-14T12:29:25",
          "2020-05-26T18:31:06",
          "2020-06-07T19:58:39",
          "2020-06-19T19:44:14",
          "2020-07-02T02:06:56",
          "2020-07-14T08:14:08",
          "2020-07-26T12:57:37",
          "2020-08-07T16:33:44",
          "2020-08-20T00:07:58",
          "2020-09-01T03:03:23"
         ],
         "xaxis": "x2",
         "y": [
          0.14980102475977072,
          0.1537210002065009,
          0.148994155326935,
          0.1492157473984713,
          0.1407827328987427,
          0.14521751019449405,
          0.14442578524371616,
          0.15200734972225485,
          0.14504630189622955,
          0.14674865572974946,
          0.14674865572974946
         ],
         "yaxis": "y2"
        },
        {
         "fill": "tonexty",
         "fillcolor": "rgba(0.23137254901960785, 0.00784313725490196, 0.5019607843137255, 0.2)",
         "hoverinfo": "skip",
         "line": {
          "color": "rgba(0,0,0,0)",
          "shape": "hv"
         },
         "mode": "lines",
         "name": "Confidence band",
         "showlegend": false,
         "type": "scatter",
         "x": [
          "2020-05-02T02:01:30",
          "2020-05-14T12:29:25",
          "2020-05-26T18:31:06",
          "2020-06-07T19:58:39",
          "2020-06-19T19:44:14",
          "2020-07-02T02:06:56",
          "2020-07-14T08:14:08",
          "2020-07-26T12:57:37",
          "2020-08-07T16:33:44",
          "2020-08-20T00:07:58",
          "2020-09-01T03:03:23"
         ],
         "xaxis": "x2",
         "y": [
          0.10424739755982668,
          0.10816737300655685,
          0.10344052812699095,
          0.10366212019852725,
          0.0952291056987987,
          0.09966388299455001,
          0.09887215804377211,
          0.1064537225223108,
          0.09949267469628553,
          0.10119502852980544,
          0.10119502852980544
         ],
         "yaxis": "y2"
        },
        {
         "hoverinfo": "skip",
         "line": {
          "color": "rgba(0,0,0,0)",
          "shape": "hv"
         },
         "mode": "lines",
         "name": "Confidence band",
         "showlegend": false,
         "type": "scatter",
         "x": [
          "2020-09-01T03:10:01",
          "2020-09-13T16:15:32",
          "2020-09-25T19:50:04",
          "2020-10-08T02:57:34",
          "2020-10-20T15:49:06",
          "2020-11-01T22:04:59",
          "2020-11-14T03:55:49",
          "2020-11-26T09:19:22",
          "2020-12-08T14:34:25",
          "2020-12-20T18:31:09",
          "2021-01-01T22:57:55"
         ],
         "xaxis": "x2",
         "y": [
          0.14451468982968577,
          0.14125267939366415,
          0.14303937206355447,
          0.1432386808475444,
          0.1511365427712495,
          0.25945372470313527,
          0.2680303047260606,
          0.26774845382691437,
          0.2641659448726126,
          0.26707234322570805,
          0.26707234322570805
         ],
         "yaxis": "y2"
        },
        {
         "fill": "tonexty",
         "fillcolor": "rgba(0.23137254901960785, 0.00784313725490196, 0.5019607843137255, 0.2)",
         "hoverinfo": "skip",
         "line": {
          "color": "rgba(0,0,0,0)",
          "shape": "hv"
         },
         "mode": "lines",
         "name": "Confidence band",
         "showlegend": false,
         "type": "scatter",
         "x": [
          "2020-09-01T03:10:01",
          "2020-09-13T16:15:32",
          "2020-09-25T19:50:04",
          "2020-10-08T02:57:34",
          "2020-10-20T15:49:06",
          "2020-11-01T22:04:59",
          "2020-11-14T03:55:49",
          "2020-11-26T09:19:22",
          "2020-12-08T14:34:25",
          "2020-12-20T18:31:09",
          "2021-01-01T22:57:55"
         ],
         "xaxis": "x2",
         "y": [
          0.09896106262974175,
          0.0956990521937201,
          0.09748574486361045,
          0.09768505364760036,
          0.10558291557130545,
          0.21390009750319122,
          0.22247667752611658,
          0.22219482662697035,
          0.21861231767266856,
          0.22151871602576403,
          0.22151871602576403
         ],
         "yaxis": "y2"
        },
        {
         "hoverinfo": "skip",
         "legendgroup": "metric_reference",
         "line": {
          "color": "#3b0280",
          "dash": "dash",
          "shape": "hv",
          "width": 2
         },
         "mode": "lines",
         "name": "Metric",
         "showlegend": false,
         "type": "scatter",
         "x": [
          "2020-05-02T02:01:30",
          "2020-05-14T12:29:25",
          "2020-05-26T18:31:06",
          "2020-06-07T19:58:39",
          "2020-06-19T19:44:14",
          "2020-07-02T02:06:56",
          "2020-07-14T08:14:08",
          "2020-07-26T12:57:37",
          "2020-08-07T16:33:44",
          "2020-08-20T00:07:58",
          "2020-09-01T03:03:23"
         ],
         "xaxis": "x3",
         "y": [
          0.11583310245027446,
          0.11304800245987362,
          0.11363290020295601,
          0.1071458918379423,
          0.11694898032869186,
          0.11755487705647466,
          0.11524973949406929,
          0.117846653358666,
          0.11861790785339744,
          0.11795057435926241,
          0.11795057435926241
         ],
         "yaxis": "y3"
        },
        {
         "customdata": [
          [
           "Estimated <b>true class: prepaid_card, predicted class: upmarket_card</b>",
           "<b style=\"color:#3b0280;line-height:60px\">Reference</b>",
           "",
           "[0:5999]",
           "From <b>May-02-2020</b> to <b>May-14-2020</b>",
           0.1158,
           0.0226
          ],
          [
           "Estimated <b>true class: prepaid_card, predicted class: upmarket_card</b>",
           "<b style=\"color:#3b0280;line-height:60px\">Reference</b>",
           "",
           "[6000:11999]",
           "From <b>May-14-2020</b> to <b>May-26-2020</b>",
           0.113,
           0.0226
          ],
          [
           "Estimated <b>true class: prepaid_card, predicted class: upmarket_card</b>",
           "<b style=\"color:#3b0280;line-height:60px\">Reference</b>",
           "",
           "[12000:17999]",
           "From <b>May-26-2020</b> to <b>Jun-07-2020</b>",
           0.1136,
           0.0226
          ],
          [
           "Estimated <b>true class: prepaid_card, predicted class: upmarket_card</b>",
           "<b style=\"color:#3b0280;line-height:60px\">Reference</b>",
           "",
           "[18000:23999]",
           "From <b>Jun-07-2020</b> to <b>Jun-19-2020</b>",
           0.1071,
           0.0226
          ],
          [
           "Estimated <b>true class: prepaid_card, predicted class: upmarket_card</b>",
           "<b style=\"color:#3b0280;line-height:60px\">Reference</b>",
           "",
           "[24000:29999]",
           "From <b>Jun-19-2020</b> to <b>Jul-02-2020</b>",
           0.1169,
           0.0226
          ],
          [
           "Estimated <b>true class: prepaid_card, predicted class: upmarket_card</b>",
           "<b style=\"color:#3b0280;line-height:60px\">Reference</b>",
           "",
           "[30000:35999]",
           "From <b>Jul-02-2020</b> to <b>Jul-14-2020</b>",
           0.1176,
           0.0226
          ],
          [
           "Estimated <b>true class: prepaid_card, predicted class: upmarket_card</b>",
           "<b style=\"color:#3b0280;line-height:60px\">Reference</b>",
           "",
           "[36000:41999]",
           "From <b>Jul-14-2020</b> to <b>Jul-26-2020</b>",
           0.1152,
           0.0226
          ],
          [
           "Estimated <b>true class: prepaid_card, predicted class: upmarket_card</b>",
           "<b style=\"color:#3b0280;line-height:60px\">Reference</b>",
           "",
           "[42000:47999]",
           "From <b>Jul-26-2020</b> to <b>Aug-07-2020</b>",
           0.1178,
           0.0226
          ],
          [
           "Estimated <b>true class: prepaid_card, predicted class: upmarket_card</b>",
           "<b style=\"color:#3b0280;line-height:60px\">Reference</b>",
           "",
           "[48000:53999]",
           "From <b>Aug-07-2020</b> to <b>Aug-20-2020</b>",
           0.1186,
           0.0226
          ],
          [
           "Estimated <b>true class: prepaid_card, predicted class: upmarket_card</b>",
           "<b style=\"color:#3b0280;line-height:60px\">Reference</b>",
           "",
           "[54000:59999]",
           "From <b>Aug-20-2020</b> to <b>Sep-01-2020</b>",
           0.118,
           0.0226
          ]
         ],
         "hovertemplate": "%{customdata[1]} &nbsp; &nbsp; %{customdata[2]} <br />Chunk: <b>%{customdata[3]}</b> &nbsp; &nbsp; %{customdata[4]} <br />%{customdata[0]}: <b>%{customdata[5]}</b><br />Confidence band: +/- <b>%{customdata[6]}</b><br /><extra></extra>",
         "legendgroup": "metric_reference",
         "line": {
          "dash": "dash"
         },
         "marker": {
          "color": "#3b0280",
          "size": 5,
          "symbol": "circle"
         },
         "mode": "markers",
         "name": "Metric",
         "showlegend": false,
         "type": "scatter",
         "x": [
          "2020-05-08T07:15:27.500000",
          "2020-05-20T15:30:15.500000",
          "2020-06-01T19:14:52.500000",
          "2020-06-13T19:51:26.500000",
          "2020-06-25T22:55:35",
          "2020-07-08T05:10:32",
          "2020-07-20T10:35:52.500000",
          "2020-08-01T14:45:40.500000",
          "2020-08-13T20:20:51",
          "2020-08-26T01:35:40.500000"
         ],
         "xaxis": "x3",
         "y": [
          0.11583310245027446,
          0.11304800245987362,
          0.11363290020295601,
          0.1071458918379423,
          0.11694898032869186,
          0.11755487705647466,
          0.11524973949406929,
          0.117846653358666,
          0.11861790785339744,
          0.11795057435926241,
          0.11795057435926241
         ],
         "yaxis": "y3"
        },
        {
         "hoverinfo": "skip",
         "legendgroup": "metric_analysis",
         "line": {
          "color": "#3b0280",
          "dash": "dash",
          "shape": "hv",
          "width": 2
         },
         "mode": "lines",
         "name": "Metric",
         "showlegend": false,
         "type": "scatter",
         "x": [
          "2020-09-01T03:10:01",
          "2020-09-13T16:15:32",
          "2020-09-25T19:50:04",
          "2020-10-08T02:57:34",
          "2020-10-20T15:49:06",
          "2020-11-01T22:04:59",
          "2020-11-14T03:55:49",
          "2020-11-26T09:19:22",
          "2020-12-08T14:34:25",
          "2020-12-20T18:31:09",
          "2021-01-01T22:57:55"
         ],
         "xaxis": "x3",
         "y": [
          0.1112295817525401,
          0.11520961741157142,
          0.11181791539516554,
          0.11684351882152423,
          0.11661749131064796,
          0.20759443729327962,
          0.19403077232892413,
          0.2009603418715102,
          0.2014055885078601,
          0.2037594561205552,
          0.2037594561205552
         ],
         "yaxis": "y3"
        },
        {
         "customdata": [
          [
           "Estimated <b>true class: prepaid_card, predicted class: upmarket_card</b>",
           "<b style=\"color:#3b0280;line-height:60px\">Analysis</b>",
           "",
           "[0:5999]",
           "From <b>Sep-01-2020</b> to <b>Sep-13-2020</b>",
           0.1112,
           0.0226
          ],
          [
           "Estimated <b>true class: prepaid_card, predicted class: upmarket_card</b>",
           "<b style=\"color:#3b0280;line-height:60px\">Analysis</b>",
           "",
           "[6000:11999]",
           "From <b>Sep-13-2020</b> to <b>Sep-25-2020</b>",
           0.1152,
           0.0226
          ],
          [
           "Estimated <b>true class: prepaid_card, predicted class: upmarket_card</b>",
           "<b style=\"color:#3b0280;line-height:60px\">Analysis</b>",
           "",
           "[12000:17999]",
           "From <b>Sep-25-2020</b> to <b>Oct-08-2020</b>",
           0.1118,
           0.0226
          ],
          [
           "Estimated <b>true class: prepaid_card, predicted class: upmarket_card</b>",
           "<b style=\"color:#3b0280;line-height:60px\">Analysis</b>",
           "",
           "[18000:23999]",
           "From <b>Oct-08-2020</b> to <b>Oct-20-2020</b>",
           0.1168,
           0.0226
          ],
          [
           "Estimated <b>true class: prepaid_card, predicted class: upmarket_card</b>",
           "<b style=\"color:#3b0280;line-height:60px\">Analysis</b>",
           "",
           "[24000:29999]",
           "From <b>Oct-20-2020</b> to <b>Nov-01-2020</b>",
           0.1166,
           0.0226
          ],
          [
           "Estimated <b>true class: prepaid_card, predicted class: upmarket_card</b>",
           "<b style=\"color:#3b0280;line-height:60px\">Analysis</b>",
           "<span style=\"color:#AD0000\">⚠ <b>Drift detected</b></span>",
           "[30000:35999]",
           "From <b>Nov-01-2020</b> to <b>Nov-14-2020</b>",
           0.2076,
           0.0226
          ],
          [
           "Estimated <b>true class: prepaid_card, predicted class: upmarket_card</b>",
           "<b style=\"color:#3b0280;line-height:60px\">Analysis</b>",
           "<span style=\"color:#AD0000\">⚠ <b>Drift detected</b></span>",
           "[36000:41999]",
           "From <b>Nov-14-2020</b> to <b>Nov-26-2020</b>",
           0.194,
           0.0226
          ],
          [
           "Estimated <b>true class: prepaid_card, predicted class: upmarket_card</b>",
           "<b style=\"color:#3b0280;line-height:60px\">Analysis</b>",
           "<span style=\"color:#AD0000\">⚠ <b>Drift detected</b></span>",
           "[42000:47999]",
           "From <b>Nov-26-2020</b> to <b>Dec-08-2020</b>",
           0.201,
           0.0226
          ],
          [
           "Estimated <b>true class: prepaid_card, predicted class: upmarket_card</b>",
           "<b style=\"color:#3b0280;line-height:60px\">Analysis</b>",
           "<span style=\"color:#AD0000\">⚠ <b>Drift detected</b></span>",
           "[48000:53999]",
           "From <b>Dec-08-2020</b> to <b>Dec-20-2020</b>",
           0.2014,
           0.0226
          ],
          [
           "Estimated <b>true class: prepaid_card, predicted class: upmarket_card</b>",
           "<b style=\"color:#3b0280;line-height:60px\">Analysis</b>",
           "<span style=\"color:#AD0000\">⚠ <b>Drift detected</b></span>",
           "[54000:59999]",
           "From <b>Dec-20-2020</b> to <b>Jan-01-2021</b>",
           0.2038,
           0.0226
          ]
         ],
         "hovertemplate": "%{customdata[1]} &nbsp; &nbsp; %{customdata[2]} <br />Chunk: <b>%{customdata[3]}</b> &nbsp; &nbsp; %{customdata[4]} <br />%{customdata[0]}: <b>%{customdata[5]}</b><br />Confidence band: +/- <b>%{customdata[6]}</b><br /><extra></extra>",
         "legendgroup": "metric_analysis",
         "line": {
          "dash": "dash"
         },
         "marker": {
          "color": "#3b0280",
          "size": 5,
          "symbol": "circle"
         },
         "mode": "markers",
         "name": "Metric",
         "showlegend": false,
         "type": "scatter",
         "x": [
          "2020-09-07T09:42:46.500000",
          "2020-09-19T18:02:48",
          "2020-10-01T23:23:49",
          "2020-10-14T09:23:20",
          "2020-10-26T18:57:02.500000",
          "2020-11-08T01:00:24",
          "2020-11-20T06:37:35.500000",
          "2020-12-02T11:56:53.500000",
          "2020-12-14T16:32:47",
          "2020-12-26T20:44:32"
         ],
         "xaxis": "x3",
         "y": [
          0.1112295817525401,
          0.11520961741157142,
          0.11181791539516554,
          0.11684351882152423,
          0.11661749131064796,
          0.20759443729327962,
          0.19403077232892413,
          0.2009603418715102,
          0.2014055885078601,
          0.2037594561205552,
          0.2037594561205552
         ],
         "yaxis": "y3"
        },
        {
         "hoverinfo": "skip",
         "legendgroup": "alert",
         "marker": {
          "color": "#DD4040",
          "size": 8,
          "symbol": "diamond"
         },
         "mode": "markers",
         "name": "Alert",
         "showlegend": false,
         "type": "scatter",
         "x": [
          "2020-11-08T01:00:24",
          "2020-11-20T06:37:35.500000",
          "2020-12-02T11:56:53.500000",
          "2020-12-14T16:32:47",
          "2020-12-26T20:44:32"
         ],
         "xaxis": "x3",
         "y": [
          0.20759443729327962,
          0.19403077232892413,
          0.2009603418715102,
          0.2014055885078601,
          0.2037594561205552
         ],
         "yaxis": "y3"
        },
        {
         "hoverinfo": "skip",
         "legendgroup": "thresh",
         "line": {
          "color": "#DD4040",
          "dash": "dash",
          "width": 2
         },
         "mode": "lines",
         "name": "Threshold",
         "showlegend": false,
         "type": "scatter",
         "x": [
          "2020-05-02T02:01:30",
          "2020-05-14T12:29:25",
          "2020-05-26T18:31:06",
          "2020-06-07T19:58:39",
          "2020-06-19T19:44:14",
          "2020-07-02T02:06:56",
          "2020-07-14T08:14:08",
          "2020-07-26T12:57:37",
          "2020-08-07T16:33:44",
          "2020-08-20T00:07:58",
          "2020-09-01T03:03:23"
         ],
         "xaxis": "x3",
         "y": [
          0.12519199939667183,
          0.12519199939667183,
          0.12519199939667183,
          0.12519199939667183,
          0.12519199939667183,
          0.12519199939667183,
          0.12519199939667183,
          0.12519199939667183,
          0.12519199939667183,
          0.12519199939667183,
          0.12519199939667183
         ],
         "yaxis": "y3"
        },
        {
         "hoverinfo": "skip",
         "legendgroup": "thresh",
         "line": {
          "color": "#DD4040",
          "dash": "dash",
          "width": 2
         },
         "mode": "lines",
         "name": "Threshold",
         "showlegend": false,
         "type": "scatter",
         "x": [
          "2020-05-02T02:01:30",
          "2020-05-14T12:29:25",
          "2020-05-26T18:31:06",
          "2020-06-07T19:58:39",
          "2020-06-19T19:44:14",
          "2020-07-02T02:06:56",
          "2020-07-14T08:14:08",
          "2020-07-26T12:57:37",
          "2020-08-07T16:33:44",
          "2020-08-20T00:07:58",
          "2020-09-01T03:03:23"
         ],
         "xaxis": "x3",
         "y": [
          0.08699436162145116,
          0.08699436162145116,
          0.08699436162145116,
          0.08699436162145116,
          0.08699436162145116,
          0.08699436162145116,
          0.08699436162145116,
          0.08699436162145116,
          0.08699436162145116,
          0.08699436162145116,
          0.08699436162145116
         ],
         "yaxis": "y3"
        },
        {
         "hoverinfo": "skip",
         "legendgroup": "thresh",
         "line": {
          "color": "#DD4040",
          "dash": "dash",
          "width": 2
         },
         "mode": "lines",
         "name": "Threshold",
         "showlegend": false,
         "type": "scatter",
         "x": [
          "2020-09-01T03:10:01",
          "2020-09-13T16:15:32",
          "2020-09-25T19:50:04",
          "2020-10-08T02:57:34",
          "2020-10-20T15:49:06",
          "2020-11-01T22:04:59",
          "2020-11-14T03:55:49",
          "2020-11-26T09:19:22",
          "2020-12-08T14:34:25",
          "2020-12-20T18:31:09",
          "2021-01-01T22:57:55"
         ],
         "xaxis": "x3",
         "y": [
          0.12519199939667183,
          0.12519199939667183,
          0.12519199939667183,
          0.12519199939667183,
          0.12519199939667183,
          0.12519199939667183,
          0.12519199939667183,
          0.12519199939667183,
          0.12519199939667183,
          0.12519199939667183,
          0.12519199939667183
         ],
         "yaxis": "y3"
        },
        {
         "hoverinfo": "skip",
         "legendgroup": "thresh",
         "line": {
          "color": "#DD4040",
          "dash": "dash",
          "width": 2
         },
         "mode": "lines",
         "name": "Threshold",
         "showlegend": false,
         "type": "scatter",
         "x": [
          "2020-09-01T03:10:01",
          "2020-09-13T16:15:32",
          "2020-09-25T19:50:04",
          "2020-10-08T02:57:34",
          "2020-10-20T15:49:06",
          "2020-11-01T22:04:59",
          "2020-11-14T03:55:49",
          "2020-11-26T09:19:22",
          "2020-12-08T14:34:25",
          "2020-12-20T18:31:09",
          "2021-01-01T22:57:55"
         ],
         "xaxis": "x3",
         "y": [
          0.08699436162145116,
          0.08699436162145116,
          0.08699436162145116,
          0.08699436162145116,
          0.08699436162145116,
          0.08699436162145116,
          0.08699436162145116,
          0.08699436162145116,
          0.08699436162145116,
          0.08699436162145116,
          0.08699436162145116
         ],
         "yaxis": "y3"
        },
        {
         "hoverinfo": "skip",
         "line": {
          "color": "rgba(0,0,0,0)",
          "shape": "hv"
         },
         "mode": "lines",
         "name": "Confidence band",
         "showlegend": false,
         "type": "scatter",
         "x": [
          "2020-05-02T02:01:30",
          "2020-05-14T12:29:25",
          "2020-05-26T18:31:06",
          "2020-06-07T19:58:39",
          "2020-06-19T19:44:14",
          "2020-07-02T02:06:56",
          "2020-07-14T08:14:08",
          "2020-07-26T12:57:37",
          "2020-08-07T16:33:44",
          "2020-08-20T00:07:58",
          "2020-09-01T03:03:23"
         ],
         "xaxis": "x3",
         "y": [
          0.13841160840416303,
          0.1356265084137622,
          0.13621140615684457,
          0.12972439779183087,
          0.13952748628258044,
          0.14013338301036324,
          0.13782824544795785,
          0.14042515931255456,
          0.141196413807286,
          0.14052908031315098,
          0.14052908031315098
         ],
         "yaxis": "y3"
        },
        {
         "fill": "tonexty",
         "fillcolor": "rgba(0.23137254901960785, 0.00784313725490196, 0.5019607843137255, 0.2)",
         "hoverinfo": "skip",
         "line": {
          "color": "rgba(0,0,0,0)",
          "shape": "hv"
         },
         "mode": "lines",
         "name": "Confidence band",
         "showlegend": false,
         "type": "scatter",
         "x": [
          "2020-05-02T02:01:30",
          "2020-05-14T12:29:25",
          "2020-05-26T18:31:06",
          "2020-06-07T19:58:39",
          "2020-06-19T19:44:14",
          "2020-07-02T02:06:56",
          "2020-07-14T08:14:08",
          "2020-07-26T12:57:37",
          "2020-08-07T16:33:44",
          "2020-08-20T00:07:58",
          "2020-09-01T03:03:23"
         ],
         "xaxis": "x3",
         "y": [
          0.0932545964963859,
          0.09046949650598504,
          0.09105439424906744,
          0.08456738588405374,
          0.09437047437480328,
          0.09497637110258608,
          0.09267123354018073,
          0.09526814740477743,
          0.09603940189950888,
          0.09537206840537385,
          0.09537206840537385
         ],
         "yaxis": "y3"
        },
        {
         "hoverinfo": "skip",
         "line": {
          "color": "rgba(0,0,0,0)",
          "shape": "hv"
         },
         "mode": "lines",
         "name": "Confidence band",
         "showlegend": false,
         "type": "scatter",
         "x": [
          "2020-09-01T03:10:01",
          "2020-09-13T16:15:32",
          "2020-09-25T19:50:04",
          "2020-10-08T02:57:34",
          "2020-10-20T15:49:06",
          "2020-11-01T22:04:59",
          "2020-11-14T03:55:49",
          "2020-11-26T09:19:22",
          "2020-12-08T14:34:25",
          "2020-12-20T18:31:09",
          "2021-01-01T22:57:55"
         ],
         "xaxis": "x3",
         "y": [
          0.13380808770642866,
          0.13778812336545998,
          0.1343964213490541,
          0.1394220247754128,
          0.13919599726453652,
          0.2301729432471682,
          0.2166092782828127,
          0.2235388478253988,
          0.2239840944617487,
          0.2263379620744438,
          0.2263379620744438
         ],
         "yaxis": "y3"
        },
        {
         "fill": "tonexty",
         "fillcolor": "rgba(0.23137254901960785, 0.00784313725490196, 0.5019607843137255, 0.2)",
         "hoverinfo": "skip",
         "line": {
          "color": "rgba(0,0,0,0)",
          "shape": "hv"
         },
         "mode": "lines",
         "name": "Confidence band",
         "showlegend": false,
         "type": "scatter",
         "x": [
          "2020-09-01T03:10:01",
          "2020-09-13T16:15:32",
          "2020-09-25T19:50:04",
          "2020-10-08T02:57:34",
          "2020-10-20T15:49:06",
          "2020-11-01T22:04:59",
          "2020-11-14T03:55:49",
          "2020-11-26T09:19:22",
          "2020-12-08T14:34:25",
          "2020-12-20T18:31:09",
          "2021-01-01T22:57:55"
         ],
         "xaxis": "x3",
         "y": [
          0.08865107579865153,
          0.09263111145768285,
          0.08923940944127698,
          0.09426501286763567,
          0.09403898535675939,
          0.18501593133939104,
          0.17145226637503555,
          0.17838183591762163,
          0.17882708255397153,
          0.18118095016666663,
          0.18118095016666663
         ],
         "yaxis": "y3"
        },
        {
         "hoverinfo": "skip",
         "legendgroup": "metric_reference",
         "line": {
          "color": "#3b0280",
          "dash": "dash",
          "shape": "hv",
          "width": 2
         },
         "mode": "lines",
         "name": "Metric",
         "showlegend": false,
         "type": "scatter",
         "x": [
          "2020-05-02T02:01:30",
          "2020-05-14T12:29:25",
          "2020-05-26T18:31:06",
          "2020-06-07T19:58:39",
          "2020-06-19T19:44:14",
          "2020-07-02T02:06:56",
          "2020-07-14T08:14:08",
          "2020-07-26T12:57:37",
          "2020-08-07T16:33:44",
          "2020-08-20T00:07:58",
          "2020-09-01T03:03:23"
         ],
         "xaxis": "x4",
         "y": [
          0.1327858450929548,
          0.12930489935082395,
          0.12739024053238568,
          0.1316847551045835,
          0.1317555214333139,
          0.13383755503548705,
          0.12561898432813345,
          0.12952582206850652,
          0.13404940239375288,
          0.138740886131624,
          0.138740886131624
         ],
         "yaxis": "y4"
        },
        {
         "customdata": [
          [
           "Estimated <b>true class: highstreet_card, predicted class: prepaid_card</b>",
           "<b style=\"color:#3b0280;line-height:60px\">Reference</b>",
           "",
           "[0:5999]",
           "From <b>May-02-2020</b> to <b>May-14-2020</b>",
           0.1328,
           0.0228
          ],
          [
           "Estimated <b>true class: highstreet_card, predicted class: prepaid_card</b>",
           "<b style=\"color:#3b0280;line-height:60px\">Reference</b>",
           "",
           "[6000:11999]",
           "From <b>May-14-2020</b> to <b>May-26-2020</b>",
           0.1293,
           0.0228
          ],
          [
           "Estimated <b>true class: highstreet_card, predicted class: prepaid_card</b>",
           "<b style=\"color:#3b0280;line-height:60px\">Reference</b>",
           "",
           "[12000:17999]",
           "From <b>May-26-2020</b> to <b>Jun-07-2020</b>",
           0.1274,
           0.0228
          ],
          [
           "Estimated <b>true class: highstreet_card, predicted class: prepaid_card</b>",
           "<b style=\"color:#3b0280;line-height:60px\">Reference</b>",
           "",
           "[18000:23999]",
           "From <b>Jun-07-2020</b> to <b>Jun-19-2020</b>",
           0.1317,
           0.0228
          ],
          [
           "Estimated <b>true class: highstreet_card, predicted class: prepaid_card</b>",
           "<b style=\"color:#3b0280;line-height:60px\">Reference</b>",
           "",
           "[24000:29999]",
           "From <b>Jun-19-2020</b> to <b>Jul-02-2020</b>",
           0.1318,
           0.0228
          ],
          [
           "Estimated <b>true class: highstreet_card, predicted class: prepaid_card</b>",
           "<b style=\"color:#3b0280;line-height:60px\">Reference</b>",
           "",
           "[30000:35999]",
           "From <b>Jul-02-2020</b> to <b>Jul-14-2020</b>",
           0.1338,
           0.0228
          ],
          [
           "Estimated <b>true class: highstreet_card, predicted class: prepaid_card</b>",
           "<b style=\"color:#3b0280;line-height:60px\">Reference</b>",
           "",
           "[36000:41999]",
           "From <b>Jul-14-2020</b> to <b>Jul-26-2020</b>",
           0.1256,
           0.0228
          ],
          [
           "Estimated <b>true class: highstreet_card, predicted class: prepaid_card</b>",
           "<b style=\"color:#3b0280;line-height:60px\">Reference</b>",
           "",
           "[42000:47999]",
           "From <b>Jul-26-2020</b> to <b>Aug-07-2020</b>",
           0.1295,
           0.0228
          ],
          [
           "Estimated <b>true class: highstreet_card, predicted class: prepaid_card</b>",
           "<b style=\"color:#3b0280;line-height:60px\">Reference</b>",
           "",
           "[48000:53999]",
           "From <b>Aug-07-2020</b> to <b>Aug-20-2020</b>",
           0.134,
           0.0228
          ],
          [
           "Estimated <b>true class: highstreet_card, predicted class: prepaid_card</b>",
           "<b style=\"color:#3b0280;line-height:60px\">Reference</b>",
           "",
           "[54000:59999]",
           "From <b>Aug-20-2020</b> to <b>Sep-01-2020</b>",
           0.1387,
           0.0228
          ]
         ],
         "hovertemplate": "%{customdata[1]} &nbsp; &nbsp; %{customdata[2]} <br />Chunk: <b>%{customdata[3]}</b> &nbsp; &nbsp; %{customdata[4]} <br />%{customdata[0]}: <b>%{customdata[5]}</b><br />Confidence band: +/- <b>%{customdata[6]}</b><br /><extra></extra>",
         "legendgroup": "metric_reference",
         "line": {
          "dash": "dash"
         },
         "marker": {
          "color": "#3b0280",
          "size": 5,
          "symbol": "circle"
         },
         "mode": "markers",
         "name": "Metric",
         "showlegend": false,
         "type": "scatter",
         "x": [
          "2020-05-08T07:15:27.500000",
          "2020-05-20T15:30:15.500000",
          "2020-06-01T19:14:52.500000",
          "2020-06-13T19:51:26.500000",
          "2020-06-25T22:55:35",
          "2020-07-08T05:10:32",
          "2020-07-20T10:35:52.500000",
          "2020-08-01T14:45:40.500000",
          "2020-08-13T20:20:51",
          "2020-08-26T01:35:40.500000"
         ],
         "xaxis": "x4",
         "y": [
          0.1327858450929548,
          0.12930489935082395,
          0.12739024053238568,
          0.1316847551045835,
          0.1317555214333139,
          0.13383755503548705,
          0.12561898432813345,
          0.12952582206850652,
          0.13404940239375288,
          0.138740886131624,
          0.138740886131624
         ],
         "yaxis": "y4"
        },
        {
         "hoverinfo": "skip",
         "legendgroup": "metric_analysis",
         "line": {
          "color": "#3b0280",
          "dash": "dash",
          "shape": "hv",
          "width": 2
         },
         "mode": "lines",
         "name": "Metric",
         "showlegend": false,
         "type": "scatter",
         "x": [
          "2020-09-01T03:10:01",
          "2020-09-13T16:15:32",
          "2020-09-25T19:50:04",
          "2020-10-08T02:57:34",
          "2020-10-20T15:49:06",
          "2020-11-01T22:04:59",
          "2020-11-14T03:55:49",
          "2020-11-26T09:19:22",
          "2020-12-08T14:34:25",
          "2020-12-20T18:31:09",
          "2021-01-01T22:57:55"
         ],
         "xaxis": "x4",
         "y": [
          0.1356148365350375,
          0.12852603237310237,
          0.12780436904558898,
          0.12774539155021586,
          0.12637962988076856,
          0.16289017397983063,
          0.16248916486207904,
          0.16074190860188112,
          0.16535060141887453,
          0.15453177776609311,
          0.15453177776609311
         ],
         "yaxis": "y4"
        },
        {
         "customdata": [
          [
           "Estimated <b>true class: highstreet_card, predicted class: prepaid_card</b>",
           "<b style=\"color:#3b0280;line-height:60px\">Analysis</b>",
           "",
           "[0:5999]",
           "From <b>Sep-01-2020</b> to <b>Sep-13-2020</b>",
           0.1356,
           0.0228
          ],
          [
           "Estimated <b>true class: highstreet_card, predicted class: prepaid_card</b>",
           "<b style=\"color:#3b0280;line-height:60px\">Analysis</b>",
           "",
           "[6000:11999]",
           "From <b>Sep-13-2020</b> to <b>Sep-25-2020</b>",
           0.1285,
           0.0228
          ],
          [
           "Estimated <b>true class: highstreet_card, predicted class: prepaid_card</b>",
           "<b style=\"color:#3b0280;line-height:60px\">Analysis</b>",
           "",
           "[12000:17999]",
           "From <b>Sep-25-2020</b> to <b>Oct-08-2020</b>",
           0.1278,
           0.0228
          ],
          [
           "Estimated <b>true class: highstreet_card, predicted class: prepaid_card</b>",
           "<b style=\"color:#3b0280;line-height:60px\">Analysis</b>",
           "",
           "[18000:23999]",
           "From <b>Oct-08-2020</b> to <b>Oct-20-2020</b>",
           0.1277,
           0.0228
          ],
          [
           "Estimated <b>true class: highstreet_card, predicted class: prepaid_card</b>",
           "<b style=\"color:#3b0280;line-height:60px\">Analysis</b>",
           "",
           "[24000:29999]",
           "From <b>Oct-20-2020</b> to <b>Nov-01-2020</b>",
           0.1264,
           0.0228
          ],
          [
           "Estimated <b>true class: highstreet_card, predicted class: prepaid_card</b>",
           "<b style=\"color:#3b0280;line-height:60px\">Analysis</b>",
           "<span style=\"color:#AD0000\">⚠ <b>Drift detected</b></span>",
           "[30000:35999]",
           "From <b>Nov-01-2020</b> to <b>Nov-14-2020</b>",
           0.1629,
           0.0228
          ],
          [
           "Estimated <b>true class: highstreet_card, predicted class: prepaid_card</b>",
           "<b style=\"color:#3b0280;line-height:60px\">Analysis</b>",
           "<span style=\"color:#AD0000\">⚠ <b>Drift detected</b></span>",
           "[36000:41999]",
           "From <b>Nov-14-2020</b> to <b>Nov-26-2020</b>",
           0.1625,
           0.0228
          ],
          [
           "Estimated <b>true class: highstreet_card, predicted class: prepaid_card</b>",
           "<b style=\"color:#3b0280;line-height:60px\">Analysis</b>",
           "<span style=\"color:#AD0000\">⚠ <b>Drift detected</b></span>",
           "[42000:47999]",
           "From <b>Nov-26-2020</b> to <b>Dec-08-2020</b>",
           0.1607,
           0.0228
          ],
          [
           "Estimated <b>true class: highstreet_card, predicted class: prepaid_card</b>",
           "<b style=\"color:#3b0280;line-height:60px\">Analysis</b>",
           "<span style=\"color:#AD0000\">⚠ <b>Drift detected</b></span>",
           "[48000:53999]",
           "From <b>Dec-08-2020</b> to <b>Dec-20-2020</b>",
           0.1654,
           0.0228
          ],
          [
           "Estimated <b>true class: highstreet_card, predicted class: prepaid_card</b>",
           "<b style=\"color:#3b0280;line-height:60px\">Analysis</b>",
           "<span style=\"color:#AD0000\">⚠ <b>Drift detected</b></span>",
           "[54000:59999]",
           "From <b>Dec-20-2020</b> to <b>Jan-01-2021</b>",
           0.1545,
           0.0228
          ]
         ],
         "hovertemplate": "%{customdata[1]} &nbsp; &nbsp; %{customdata[2]} <br />Chunk: <b>%{customdata[3]}</b> &nbsp; &nbsp; %{customdata[4]} <br />%{customdata[0]}: <b>%{customdata[5]}</b><br />Confidence band: +/- <b>%{customdata[6]}</b><br /><extra></extra>",
         "legendgroup": "metric_analysis",
         "line": {
          "dash": "dash"
         },
         "marker": {
          "color": "#3b0280",
          "size": 5,
          "symbol": "circle"
         },
         "mode": "markers",
         "name": "Metric",
         "showlegend": false,
         "type": "scatter",
         "x": [
          "2020-09-07T09:42:46.500000",
          "2020-09-19T18:02:48",
          "2020-10-01T23:23:49",
          "2020-10-14T09:23:20",
          "2020-10-26T18:57:02.500000",
          "2020-11-08T01:00:24",
          "2020-11-20T06:37:35.500000",
          "2020-12-02T11:56:53.500000",
          "2020-12-14T16:32:47",
          "2020-12-26T20:44:32"
         ],
         "xaxis": "x4",
         "y": [
          0.1356148365350375,
          0.12852603237310237,
          0.12780436904558898,
          0.12774539155021586,
          0.12637962988076856,
          0.16289017397983063,
          0.16248916486207904,
          0.16074190860188112,
          0.16535060141887453,
          0.15453177776609311,
          0.15453177776609311
         ],
         "yaxis": "y4"
        },
        {
         "hoverinfo": "skip",
         "legendgroup": "alert",
         "marker": {
          "color": "#DD4040",
          "size": 8,
          "symbol": "diamond"
         },
         "mode": "markers",
         "name": "Alert",
         "showlegend": false,
         "type": "scatter",
         "x": [
          "2020-11-08T01:00:24",
          "2020-11-20T06:37:35.500000",
          "2020-12-02T11:56:53.500000",
          "2020-12-14T16:32:47",
          "2020-12-26T20:44:32"
         ],
         "xaxis": "x4",
         "y": [
          0.16289017397983063,
          0.16248916486207904,
          0.16074190860188112,
          0.16535060141887453,
          0.15453177776609311
         ],
         "yaxis": "y4"
        },
        {
         "hoverinfo": "skip",
         "legendgroup": "thresh",
         "line": {
          "color": "#DD4040",
          "dash": "dash",
          "width": 2
         },
         "mode": "lines",
         "name": "Threshold",
         "showlegend": false,
         "type": "scatter",
         "x": [
          "2020-05-02T02:01:30",
          "2020-05-14T12:29:25",
          "2020-05-26T18:31:06",
          "2020-06-07T19:58:39",
          "2020-06-19T19:44:14",
          "2020-07-02T02:06:56",
          "2020-07-14T08:14:08",
          "2020-07-26T12:57:37",
          "2020-08-07T16:33:44",
          "2020-08-20T00:07:58",
          "2020-09-01T03:03:23"
         ],
         "xaxis": "x4",
         "y": [
          0.1450971695260506,
          0.1450971695260506,
          0.1450971695260506,
          0.1450971695260506,
          0.1450971695260506,
          0.1450971695260506,
          0.1450971695260506,
          0.1450971695260506,
          0.1450971695260506,
          0.1450971695260506,
          0.1450971695260506
         ],
         "yaxis": "y4"
        },
        {
         "hoverinfo": "skip",
         "legendgroup": "thresh",
         "line": {
          "color": "#DD4040",
          "dash": "dash",
          "width": 2
         },
         "mode": "lines",
         "name": "Threshold",
         "showlegend": false,
         "type": "scatter",
         "x": [
          "2020-05-02T02:01:30",
          "2020-05-14T12:29:25",
          "2020-05-26T18:31:06",
          "2020-06-07T19:58:39",
          "2020-06-19T19:44:14",
          "2020-07-02T02:06:56",
          "2020-07-14T08:14:08",
          "2020-07-26T12:57:37",
          "2020-08-07T16:33:44",
          "2020-08-20T00:07:58",
          "2020-09-01T03:03:23"
         ],
         "xaxis": "x4",
         "y": [
          0.12024274991058863,
          0.12024274991058863,
          0.12024274991058863,
          0.12024274991058863,
          0.12024274991058863,
          0.12024274991058863,
          0.12024274991058863,
          0.12024274991058863,
          0.12024274991058863,
          0.12024274991058863,
          0.12024274991058863
         ],
         "yaxis": "y4"
        },
        {
         "hoverinfo": "skip",
         "legendgroup": "thresh",
         "line": {
          "color": "#DD4040",
          "dash": "dash",
          "width": 2
         },
         "mode": "lines",
         "name": "Threshold",
         "showlegend": false,
         "type": "scatter",
         "x": [
          "2020-09-01T03:10:01",
          "2020-09-13T16:15:32",
          "2020-09-25T19:50:04",
          "2020-10-08T02:57:34",
          "2020-10-20T15:49:06",
          "2020-11-01T22:04:59",
          "2020-11-14T03:55:49",
          "2020-11-26T09:19:22",
          "2020-12-08T14:34:25",
          "2020-12-20T18:31:09",
          "2021-01-01T22:57:55"
         ],
         "xaxis": "x4",
         "y": [
          0.1450971695260506,
          0.1450971695260506,
          0.1450971695260506,
          0.1450971695260506,
          0.1450971695260506,
          0.1450971695260506,
          0.1450971695260506,
          0.1450971695260506,
          0.1450971695260506,
          0.1450971695260506,
          0.1450971695260506
         ],
         "yaxis": "y4"
        },
        {
         "hoverinfo": "skip",
         "legendgroup": "thresh",
         "line": {
          "color": "#DD4040",
          "dash": "dash",
          "width": 2
         },
         "mode": "lines",
         "name": "Threshold",
         "showlegend": false,
         "type": "scatter",
         "x": [
          "2020-09-01T03:10:01",
          "2020-09-13T16:15:32",
          "2020-09-25T19:50:04",
          "2020-10-08T02:57:34",
          "2020-10-20T15:49:06",
          "2020-11-01T22:04:59",
          "2020-11-14T03:55:49",
          "2020-11-26T09:19:22",
          "2020-12-08T14:34:25",
          "2020-12-20T18:31:09",
          "2021-01-01T22:57:55"
         ],
         "xaxis": "x4",
         "y": [
          0.12024274991058863,
          0.12024274991058863,
          0.12024274991058863,
          0.12024274991058863,
          0.12024274991058863,
          0.12024274991058863,
          0.12024274991058863,
          0.12024274991058863,
          0.12024274991058863,
          0.12024274991058863,
          0.12024274991058863
         ],
         "yaxis": "y4"
        },
        {
         "hoverinfo": "skip",
         "line": {
          "color": "rgba(0,0,0,0)",
          "shape": "hv"
         },
         "mode": "lines",
         "name": "Confidence band",
         "showlegend": false,
         "type": "scatter",
         "x": [
          "2020-05-02T02:01:30",
          "2020-05-14T12:29:25",
          "2020-05-26T18:31:06",
          "2020-06-07T19:58:39",
          "2020-06-19T19:44:14",
          "2020-07-02T02:06:56",
          "2020-07-14T08:14:08",
          "2020-07-26T12:57:37",
          "2020-08-07T16:33:44",
          "2020-08-20T00:07:58",
          "2020-09-01T03:03:23"
         ],
         "xaxis": "x4",
         "y": [
          0.15556169629870573,
          0.15208075055657488,
          0.1501660917381366,
          0.15446060631033443,
          0.15453137263906483,
          0.15661340624123798,
          0.14839483553388438,
          0.15230167327425745,
          0.1568252535995038,
          0.16151673733737493,
          0.16151673733737493
         ],
         "yaxis": "y4"
        },
        {
         "fill": "tonexty",
         "fillcolor": "rgba(0.23137254901960785, 0.00784313725490196, 0.5019607843137255, 0.2)",
         "hoverinfo": "skip",
         "line": {
          "color": "rgba(0,0,0,0)",
          "shape": "hv"
         },
         "mode": "lines",
         "name": "Confidence band",
         "showlegend": false,
         "type": "scatter",
         "x": [
          "2020-05-02T02:01:30",
          "2020-05-14T12:29:25",
          "2020-05-26T18:31:06",
          "2020-06-07T19:58:39",
          "2020-06-19T19:44:14",
          "2020-07-02T02:06:56",
          "2020-07-14T08:14:08",
          "2020-07-26T12:57:37",
          "2020-08-07T16:33:44",
          "2020-08-20T00:07:58",
          "2020-09-01T03:03:23"
         ],
         "xaxis": "x4",
         "y": [
          0.11000999388720387,
          0.10652904814507302,
          0.10461438932663475,
          0.10890890389883257,
          0.10897967022756297,
          0.11106170382973612,
          0.10284313312238252,
          0.10674997086275559,
          0.11127355118800195,
          0.11596503492587307,
          0.11596503492587307
         ],
         "yaxis": "y4"
        },
        {
         "hoverinfo": "skip",
         "line": {
          "color": "rgba(0,0,0,0)",
          "shape": "hv"
         },
         "mode": "lines",
         "name": "Confidence band",
         "showlegend": false,
         "type": "scatter",
         "x": [
          "2020-09-01T03:10:01",
          "2020-09-13T16:15:32",
          "2020-09-25T19:50:04",
          "2020-10-08T02:57:34",
          "2020-10-20T15:49:06",
          "2020-11-01T22:04:59",
          "2020-11-14T03:55:49",
          "2020-11-26T09:19:22",
          "2020-12-08T14:34:25",
          "2020-12-20T18:31:09",
          "2021-01-01T22:57:55"
         ],
         "xaxis": "x4",
         "y": [
          0.15839068774078843,
          0.1513018835788533,
          0.1505802202513399,
          0.1505212427559668,
          0.1491554810865195,
          0.18566602518558156,
          0.18526501606782997,
          0.18351775980763205,
          0.18812645262462546,
          0.17730762897184404,
          0.17730762897184404
         ],
         "yaxis": "y4"
        },
        {
         "fill": "tonexty",
         "fillcolor": "rgba(0.23137254901960785, 0.00784313725490196, 0.5019607843137255, 0.2)",
         "hoverinfo": "skip",
         "line": {
          "color": "rgba(0,0,0,0)",
          "shape": "hv"
         },
         "mode": "lines",
         "name": "Confidence band",
         "showlegend": false,
         "type": "scatter",
         "x": [
          "2020-09-01T03:10:01",
          "2020-09-13T16:15:32",
          "2020-09-25T19:50:04",
          "2020-10-08T02:57:34",
          "2020-10-20T15:49:06",
          "2020-11-01T22:04:59",
          "2020-11-14T03:55:49",
          "2020-11-26T09:19:22",
          "2020-12-08T14:34:25",
          "2020-12-20T18:31:09",
          "2021-01-01T22:57:55"
         ],
         "xaxis": "x4",
         "y": [
          0.11283898532928657,
          0.10575018116735144,
          0.10502851783983805,
          0.10496954034446493,
          0.10360377867501763,
          0.1401143227740797,
          0.1397133136563281,
          0.1379660573961302,
          0.1425747502131236,
          0.13175592656034218,
          0.13175592656034218
         ],
         "yaxis": "y4"
        },
        {
         "hoverinfo": "skip",
         "legendgroup": "metric_reference",
         "line": {
          "color": "#3b0280",
          "dash": "dash",
          "shape": "hv",
          "width": 2
         },
         "mode": "lines",
         "name": "Metric",
         "showlegend": false,
         "type": "scatter",
         "x": [
          "2020-05-02T02:01:30",
          "2020-05-14T12:29:25",
          "2020-05-26T18:31:06",
          "2020-06-07T19:58:39",
          "2020-06-19T19:44:14",
          "2020-07-02T02:06:56",
          "2020-07-14T08:14:08",
          "2020-07-26T12:57:37",
          "2020-08-07T16:33:44",
          "2020-08-20T00:07:58",
          "2020-09-01T03:03:23"
         ],
         "xaxis": "x5",
         "y": [
          0.7375790054316562,
          0.7517530419941423,
          0.7463731666665235,
          0.7405234221127973,
          0.7358442104576982,
          0.7416365314371983,
          0.7459164123444355,
          0.7455974314312527,
          0.7295937457790436,
          0.7274600065512287,
          0.7274600065512287
         ],
         "yaxis": "y5"
        },
        {
         "customdata": [
          [
           "Estimated <b>true class: highstreet_card, predicted class: highstreet_card</b>",
           "<b style=\"color:#3b0280;line-height:60px\">Reference</b>",
           "",
           "[0:5999]",
           "From <b>May-02-2020</b> to <b>May-14-2020</b>",
           0.7376,
           0.0286
          ],
          [
           "Estimated <b>true class: highstreet_card, predicted class: highstreet_card</b>",
           "<b style=\"color:#3b0280;line-height:60px\">Reference</b>",
           "",
           "[6000:11999]",
           "From <b>May-14-2020</b> to <b>May-26-2020</b>",
           0.7518,
           0.0286
          ],
          [
           "Estimated <b>true class: highstreet_card, predicted class: highstreet_card</b>",
           "<b style=\"color:#3b0280;line-height:60px\">Reference</b>",
           "",
           "[12000:17999]",
           "From <b>May-26-2020</b> to <b>Jun-07-2020</b>",
           0.7464,
           0.0286
          ],
          [
           "Estimated <b>true class: highstreet_card, predicted class: highstreet_card</b>",
           "<b style=\"color:#3b0280;line-height:60px\">Reference</b>",
           "",
           "[18000:23999]",
           "From <b>Jun-07-2020</b> to <b>Jun-19-2020</b>",
           0.7405,
           0.0286
          ],
          [
           "Estimated <b>true class: highstreet_card, predicted class: highstreet_card</b>",
           "<b style=\"color:#3b0280;line-height:60px\">Reference</b>",
           "",
           "[24000:29999]",
           "From <b>Jun-19-2020</b> to <b>Jul-02-2020</b>",
           0.7358,
           0.0286
          ],
          [
           "Estimated <b>true class: highstreet_card, predicted class: highstreet_card</b>",
           "<b style=\"color:#3b0280;line-height:60px\">Reference</b>",
           "",
           "[30000:35999]",
           "From <b>Jul-02-2020</b> to <b>Jul-14-2020</b>",
           0.7416,
           0.0286
          ],
          [
           "Estimated <b>true class: highstreet_card, predicted class: highstreet_card</b>",
           "<b style=\"color:#3b0280;line-height:60px\">Reference</b>",
           "",
           "[36000:41999]",
           "From <b>Jul-14-2020</b> to <b>Jul-26-2020</b>",
           0.7459,
           0.0286
          ],
          [
           "Estimated <b>true class: highstreet_card, predicted class: highstreet_card</b>",
           "<b style=\"color:#3b0280;line-height:60px\">Reference</b>",
           "",
           "[42000:47999]",
           "From <b>Jul-26-2020</b> to <b>Aug-07-2020</b>",
           0.7456,
           0.0286
          ],
          [
           "Estimated <b>true class: highstreet_card, predicted class: highstreet_card</b>",
           "<b style=\"color:#3b0280;line-height:60px\">Reference</b>",
           "",
           "[48000:53999]",
           "From <b>Aug-07-2020</b> to <b>Aug-20-2020</b>",
           0.7296,
           0.0286
          ],
          [
           "Estimated <b>true class: highstreet_card, predicted class: highstreet_card</b>",
           "<b style=\"color:#3b0280;line-height:60px\">Reference</b>",
           "",
           "[54000:59999]",
           "From <b>Aug-20-2020</b> to <b>Sep-01-2020</b>",
           0.7275,
           0.0286
          ]
         ],
         "hovertemplate": "%{customdata[1]} &nbsp; &nbsp; %{customdata[2]} <br />Chunk: <b>%{customdata[3]}</b> &nbsp; &nbsp; %{customdata[4]} <br />%{customdata[0]}: <b>%{customdata[5]}</b><br />Confidence band: +/- <b>%{customdata[6]}</b><br /><extra></extra>",
         "legendgroup": "metric_reference",
         "line": {
          "dash": "dash"
         },
         "marker": {
          "color": "#3b0280",
          "size": 5,
          "symbol": "circle"
         },
         "mode": "markers",
         "name": "Metric",
         "showlegend": false,
         "type": "scatter",
         "x": [
          "2020-05-08T07:15:27.500000",
          "2020-05-20T15:30:15.500000",
          "2020-06-01T19:14:52.500000",
          "2020-06-13T19:51:26.500000",
          "2020-06-25T22:55:35",
          "2020-07-08T05:10:32",
          "2020-07-20T10:35:52.500000",
          "2020-08-01T14:45:40.500000",
          "2020-08-13T20:20:51",
          "2020-08-26T01:35:40.500000"
         ],
         "xaxis": "x5",
         "y": [
          0.7375790054316562,
          0.7517530419941423,
          0.7463731666665235,
          0.7405234221127973,
          0.7358442104576982,
          0.7416365314371983,
          0.7459164123444355,
          0.7455974314312527,
          0.7295937457790436,
          0.7274600065512287,
          0.7274600065512287
         ],
         "yaxis": "y5"
        },
        {
         "hoverinfo": "skip",
         "legendgroup": "metric_analysis",
         "line": {
          "color": "#3b0280",
          "dash": "dash",
          "shape": "hv",
          "width": 2
         },
         "mode": "lines",
         "name": "Metric",
         "showlegend": false,
         "type": "scatter",
         "x": [
          "2020-09-01T03:10:01",
          "2020-09-13T16:15:32",
          "2020-09-25T19:50:04",
          "2020-10-08T02:57:34",
          "2020-10-20T15:49:06",
          "2020-11-01T22:04:59",
          "2020-11-14T03:55:49",
          "2020-11-26T09:19:22",
          "2020-12-08T14:34:25",
          "2020-12-20T18:31:09",
          "2021-01-01T22:57:55"
         ],
         "xaxis": "x5",
         "y": [
          0.7398409376887204,
          0.7498179133935899,
          0.743779398651666,
          0.7451775208970263,
          0.7411372012324356,
          0.6902783695953094,
          0.6989040807803265,
          0.6997619114270521,
          0.6885229210083638,
          0.7000364936987241,
          0.7000364936987241
         ],
         "yaxis": "y5"
        },
        {
         "customdata": [
          [
           "Estimated <b>true class: highstreet_card, predicted class: highstreet_card</b>",
           "<b style=\"color:#3b0280;line-height:60px\">Analysis</b>",
           "",
           "[0:5999]",
           "From <b>Sep-01-2020</b> to <b>Sep-13-2020</b>",
           0.7398,
           0.0286
          ],
          [
           "Estimated <b>true class: highstreet_card, predicted class: highstreet_card</b>",
           "<b style=\"color:#3b0280;line-height:60px\">Analysis</b>",
           "",
           "[6000:11999]",
           "From <b>Sep-13-2020</b> to <b>Sep-25-2020</b>",
           0.7498,
           0.0286
          ],
          [
           "Estimated <b>true class: highstreet_card, predicted class: highstreet_card</b>",
           "<b style=\"color:#3b0280;line-height:60px\">Analysis</b>",
           "",
           "[12000:17999]",
           "From <b>Sep-25-2020</b> to <b>Oct-08-2020</b>",
           0.7438,
           0.0286
          ],
          [
           "Estimated <b>true class: highstreet_card, predicted class: highstreet_card</b>",
           "<b style=\"color:#3b0280;line-height:60px\">Analysis</b>",
           "",
           "[18000:23999]",
           "From <b>Oct-08-2020</b> to <b>Oct-20-2020</b>",
           0.7452,
           0.0286
          ],
          [
           "Estimated <b>true class: highstreet_card, predicted class: highstreet_card</b>",
           "<b style=\"color:#3b0280;line-height:60px\">Analysis</b>",
           "",
           "[24000:29999]",
           "From <b>Oct-20-2020</b> to <b>Nov-01-2020</b>",
           0.7411,
           0.0286
          ],
          [
           "Estimated <b>true class: highstreet_card, predicted class: highstreet_card</b>",
           "<b style=\"color:#3b0280;line-height:60px\">Analysis</b>",
           "<span style=\"color:#AD0000\">⚠ <b>Drift detected</b></span>",
           "[30000:35999]",
           "From <b>Nov-01-2020</b> to <b>Nov-14-2020</b>",
           0.6903,
           0.0286
          ],
          [
           "Estimated <b>true class: highstreet_card, predicted class: highstreet_card</b>",
           "<b style=\"color:#3b0280;line-height:60px\">Analysis</b>",
           "<span style=\"color:#AD0000\">⚠ <b>Drift detected</b></span>",
           "[36000:41999]",
           "From <b>Nov-14-2020</b> to <b>Nov-26-2020</b>",
           0.6989,
           0.0286
          ],
          [
           "Estimated <b>true class: highstreet_card, predicted class: highstreet_card</b>",
           "<b style=\"color:#3b0280;line-height:60px\">Analysis</b>",
           "<span style=\"color:#AD0000\">⚠ <b>Drift detected</b></span>",
           "[42000:47999]",
           "From <b>Nov-26-2020</b> to <b>Dec-08-2020</b>",
           0.6998,
           0.0286
          ],
          [
           "Estimated <b>true class: highstreet_card, predicted class: highstreet_card</b>",
           "<b style=\"color:#3b0280;line-height:60px\">Analysis</b>",
           "<span style=\"color:#AD0000\">⚠ <b>Drift detected</b></span>",
           "[48000:53999]",
           "From <b>Dec-08-2020</b> to <b>Dec-20-2020</b>",
           0.6885,
           0.0286
          ],
          [
           "Estimated <b>true class: highstreet_card, predicted class: highstreet_card</b>",
           "<b style=\"color:#3b0280;line-height:60px\">Analysis</b>",
           "<span style=\"color:#AD0000\">⚠ <b>Drift detected</b></span>",
           "[54000:59999]",
           "From <b>Dec-20-2020</b> to <b>Jan-01-2021</b>",
           0.7,
           0.0286
          ]
         ],
         "hovertemplate": "%{customdata[1]} &nbsp; &nbsp; %{customdata[2]} <br />Chunk: <b>%{customdata[3]}</b> &nbsp; &nbsp; %{customdata[4]} <br />%{customdata[0]}: <b>%{customdata[5]}</b><br />Confidence band: +/- <b>%{customdata[6]}</b><br /><extra></extra>",
         "legendgroup": "metric_analysis",
         "line": {
          "dash": "dash"
         },
         "marker": {
          "color": "#3b0280",
          "size": 5,
          "symbol": "circle"
         },
         "mode": "markers",
         "name": "Metric",
         "showlegend": false,
         "type": "scatter",
         "x": [
          "2020-09-07T09:42:46.500000",
          "2020-09-19T18:02:48",
          "2020-10-01T23:23:49",
          "2020-10-14T09:23:20",
          "2020-10-26T18:57:02.500000",
          "2020-11-08T01:00:24",
          "2020-11-20T06:37:35.500000",
          "2020-12-02T11:56:53.500000",
          "2020-12-14T16:32:47",
          "2020-12-26T20:44:32"
         ],
         "xaxis": "x5",
         "y": [
          0.7398409376887204,
          0.7498179133935899,
          0.743779398651666,
          0.7451775208970263,
          0.7411372012324356,
          0.6902783695953094,
          0.6989040807803265,
          0.6997619114270521,
          0.6885229210083638,
          0.7000364936987241,
          0.7000364936987241
         ],
         "yaxis": "y5"
        },
        {
         "hoverinfo": "skip",
         "legendgroup": "alert",
         "marker": {
          "color": "#DD4040",
          "size": 8,
          "symbol": "diamond"
         },
         "mode": "markers",
         "name": "Alert",
         "showlegend": false,
         "type": "scatter",
         "x": [
          "2020-11-08T01:00:24",
          "2020-11-20T06:37:35.500000",
          "2020-12-02T11:56:53.500000",
          "2020-12-14T16:32:47",
          "2020-12-26T20:44:32"
         ],
         "xaxis": "x5",
         "y": [
          0.6902783695953094,
          0.6989040807803265,
          0.6997619114270521,
          0.6885229210083638,
          0.7000364936987241
         ],
         "yaxis": "y5"
        },
        {
         "hoverinfo": "skip",
         "legendgroup": "thresh",
         "line": {
          "color": "#DD4040",
          "dash": "dash",
          "width": 2
         },
         "mode": "lines",
         "name": "Threshold",
         "showlegend": false,
         "type": "scatter",
         "x": [
          "2020-05-02T02:01:30",
          "2020-05-14T12:29:25",
          "2020-05-26T18:31:06",
          "2020-06-07T19:58:39",
          "2020-06-19T19:44:14",
          "2020-07-02T02:06:56",
          "2020-07-14T08:14:08",
          "2020-07-26T12:57:37",
          "2020-08-07T16:33:44",
          "2020-08-20T00:07:58",
          "2020-09-01T03:03:23"
         ],
         "xaxis": "x5",
         "y": [
          0.7567518871977077,
          0.7567518871977077,
          0.7567518871977077,
          0.7567518871977077,
          0.7567518871977077,
          0.7567518871977077,
          0.7567518871977077,
          0.7567518871977077,
          0.7567518871977077,
          0.7567518871977077,
          0.7567518871977077
         ],
         "yaxis": "y5"
        },
        {
         "hoverinfo": "skip",
         "legendgroup": "thresh",
         "line": {
          "color": "#DD4040",
          "dash": "dash",
          "width": 2
         },
         "mode": "lines",
         "name": "Threshold",
         "showlegend": false,
         "type": "scatter",
         "x": [
          "2020-05-02T02:01:30",
          "2020-05-14T12:29:25",
          "2020-05-26T18:31:06",
          "2020-06-07T19:58:39",
          "2020-06-19T19:44:14",
          "2020-07-02T02:06:56",
          "2020-07-14T08:14:08",
          "2020-07-26T12:57:37",
          "2020-08-07T16:33:44",
          "2020-08-20T00:07:58",
          "2020-09-01T03:03:23"
         ],
         "xaxis": "x5",
         "y": [
          0.7179488414453981,
          0.7179488414453981,
          0.7179488414453981,
          0.7179488414453981,
          0.7179488414453981,
          0.7179488414453981,
          0.7179488414453981,
          0.7179488414453981,
          0.7179488414453981,
          0.7179488414453981,
          0.7179488414453981
         ],
         "yaxis": "y5"
        },
        {
         "hoverinfo": "skip",
         "legendgroup": "thresh",
         "line": {
          "color": "#DD4040",
          "dash": "dash",
          "width": 2
         },
         "mode": "lines",
         "name": "Threshold",
         "showlegend": false,
         "type": "scatter",
         "x": [
          "2020-09-01T03:10:01",
          "2020-09-13T16:15:32",
          "2020-09-25T19:50:04",
          "2020-10-08T02:57:34",
          "2020-10-20T15:49:06",
          "2020-11-01T22:04:59",
          "2020-11-14T03:55:49",
          "2020-11-26T09:19:22",
          "2020-12-08T14:34:25",
          "2020-12-20T18:31:09",
          "2021-01-01T22:57:55"
         ],
         "xaxis": "x5",
         "y": [
          0.7567518871977077,
          0.7567518871977077,
          0.7567518871977077,
          0.7567518871977077,
          0.7567518871977077,
          0.7567518871977077,
          0.7567518871977077,
          0.7567518871977077,
          0.7567518871977077,
          0.7567518871977077,
          0.7567518871977077
         ],
         "yaxis": "y5"
        },
        {
         "hoverinfo": "skip",
         "legendgroup": "thresh",
         "line": {
          "color": "#DD4040",
          "dash": "dash",
          "width": 2
         },
         "mode": "lines",
         "name": "Threshold",
         "showlegend": false,
         "type": "scatter",
         "x": [
          "2020-09-01T03:10:01",
          "2020-09-13T16:15:32",
          "2020-09-25T19:50:04",
          "2020-10-08T02:57:34",
          "2020-10-20T15:49:06",
          "2020-11-01T22:04:59",
          "2020-11-14T03:55:49",
          "2020-11-26T09:19:22",
          "2020-12-08T14:34:25",
          "2020-12-20T18:31:09",
          "2021-01-01T22:57:55"
         ],
         "xaxis": "x5",
         "y": [
          0.7179488414453981,
          0.7179488414453981,
          0.7179488414453981,
          0.7179488414453981,
          0.7179488414453981,
          0.7179488414453981,
          0.7179488414453981,
          0.7179488414453981,
          0.7179488414453981,
          0.7179488414453981,
          0.7179488414453981
         ],
         "yaxis": "y5"
        },
        {
         "hoverinfo": "skip",
         "line": {
          "color": "rgba(0,0,0,0)",
          "shape": "hv"
         },
         "mode": "lines",
         "name": "Confidence band",
         "showlegend": false,
         "type": "scatter",
         "x": [
          "2020-05-02T02:01:30",
          "2020-05-14T12:29:25",
          "2020-05-26T18:31:06",
          "2020-06-07T19:58:39",
          "2020-06-19T19:44:14",
          "2020-07-02T02:06:56",
          "2020-07-14T08:14:08",
          "2020-07-26T12:57:37",
          "2020-08-07T16:33:44",
          "2020-08-20T00:07:58",
          "2020-09-01T03:03:23"
         ],
         "xaxis": "x5",
         "y": [
          0.7661496104111214,
          0.7803236469736075,
          0.7749437716459887,
          0.7690940270922625,
          0.7644148154371634,
          0.7702071364166635,
          0.7744870173239007,
          0.7741680364107179,
          0.7581643507585087,
          0.7560306115306938,
          0.7560306115306938
         ],
         "yaxis": "y5"
        },
        {
         "fill": "tonexty",
         "fillcolor": "rgba(0.23137254901960785, 0.00784313725490196, 0.5019607843137255, 0.2)",
         "hoverinfo": "skip",
         "line": {
          "color": "rgba(0,0,0,0)",
          "shape": "hv"
         },
         "mode": "lines",
         "name": "Confidence band",
         "showlegend": false,
         "type": "scatter",
         "x": [
          "2020-05-02T02:01:30",
          "2020-05-14T12:29:25",
          "2020-05-26T18:31:06",
          "2020-06-07T19:58:39",
          "2020-06-19T19:44:14",
          "2020-07-02T02:06:56",
          "2020-07-14T08:14:08",
          "2020-07-26T12:57:37",
          "2020-08-07T16:33:44",
          "2020-08-20T00:07:58",
          "2020-09-01T03:03:23"
         ],
         "xaxis": "x5",
         "y": [
          0.709008400452191,
          0.7231824370146771,
          0.7178025616870584,
          0.7119528171333321,
          0.707273605478233,
          0.7130659264577331,
          0.7173458073649703,
          0.7170268264517875,
          0.7010231407995784,
          0.6988894015717635,
          0.6988894015717635
         ],
         "yaxis": "y5"
        },
        {
         "hoverinfo": "skip",
         "line": {
          "color": "rgba(0,0,0,0)",
          "shape": "hv"
         },
         "mode": "lines",
         "name": "Confidence band",
         "showlegend": false,
         "type": "scatter",
         "x": [
          "2020-09-01T03:10:01",
          "2020-09-13T16:15:32",
          "2020-09-25T19:50:04",
          "2020-10-08T02:57:34",
          "2020-10-20T15:49:06",
          "2020-11-01T22:04:59",
          "2020-11-14T03:55:49",
          "2020-11-26T09:19:22",
          "2020-12-08T14:34:25",
          "2020-12-20T18:31:09",
          "2021-01-01T22:57:55"
         ],
         "xaxis": "x5",
         "y": [
          0.7684115426681856,
          0.7783885183730551,
          0.7723500036311312,
          0.7737481258764914,
          0.7697078062119008,
          0.7188489745747746,
          0.7274746857597917,
          0.7283325164065173,
          0.7170935259878289,
          0.7286070986781893,
          0.7286070986781893
         ],
         "yaxis": "y5"
        },
        {
         "fill": "tonexty",
         "fillcolor": "rgba(0.23137254901960785, 0.00784313725490196, 0.5019607843137255, 0.2)",
         "hoverinfo": "skip",
         "line": {
          "color": "rgba(0,0,0,0)",
          "shape": "hv"
         },
         "mode": "lines",
         "name": "Confidence band",
         "showlegend": false,
         "type": "scatter",
         "x": [
          "2020-09-01T03:10:01",
          "2020-09-13T16:15:32",
          "2020-09-25T19:50:04",
          "2020-10-08T02:57:34",
          "2020-10-20T15:49:06",
          "2020-11-01T22:04:59",
          "2020-11-14T03:55:49",
          "2020-11-26T09:19:22",
          "2020-12-08T14:34:25",
          "2020-12-20T18:31:09",
          "2021-01-01T22:57:55"
         ],
         "xaxis": "x5",
         "y": [
          0.7112703327092552,
          0.7212473084141248,
          0.7152087936722008,
          0.7166069159175611,
          0.7125665962529705,
          0.6617077646158442,
          0.6703334758008613,
          0.671191306447587,
          0.6599523160288986,
          0.6714658887192589,
          0.6714658887192589
         ],
         "yaxis": "y5"
        },
        {
         "hoverinfo": "skip",
         "legendgroup": "metric_reference",
         "line": {
          "color": "#3b0280",
          "dash": "dash",
          "shape": "hv",
          "width": 2
         },
         "mode": "lines",
         "name": "Metric",
         "showlegend": false,
         "type": "scatter",
         "x": [
          "2020-05-02T02:01:30",
          "2020-05-14T12:29:25",
          "2020-05-26T18:31:06",
          "2020-06-07T19:58:39",
          "2020-06-19T19:44:14",
          "2020-07-02T02:06:56",
          "2020-07-14T08:14:08",
          "2020-07-26T12:57:37",
          "2020-08-07T16:33:44",
          "2020-08-20T00:07:58",
          "2020-09-01T03:03:23"
         ],
         "xaxis": "x6",
         "y": [
          0.12963514947538898,
          0.11894205865503368,
          0.12623659280109079,
          0.12779182278261927,
          0.1324002681089879,
          0.12452591352731462,
          0.1284646033274311,
          0.12487674650024078,
          0.13635685182720364,
          0.13379910731714723,
          0.13379910731714723
         ],
         "yaxis": "y6"
        },
        {
         "customdata": [
          [
           "Estimated <b>true class: highstreet_card, predicted class: upmarket_card</b>",
           "<b style=\"color:#3b0280;line-height:60px\">Reference</b>",
           "",
           "[0:5999]",
           "From <b>May-02-2020</b> to <b>May-14-2020</b>",
           0.1296,
           0.0206
          ],
          [
           "Estimated <b>true class: highstreet_card, predicted class: upmarket_card</b>",
           "<b style=\"color:#3b0280;line-height:60px\">Reference</b>",
           "",
           "[6000:11999]",
           "From <b>May-14-2020</b> to <b>May-26-2020</b>",
           0.1189,
           0.0206
          ],
          [
           "Estimated <b>true class: highstreet_card, predicted class: upmarket_card</b>",
           "<b style=\"color:#3b0280;line-height:60px\">Reference</b>",
           "",
           "[12000:17999]",
           "From <b>May-26-2020</b> to <b>Jun-07-2020</b>",
           0.1262,
           0.0206
          ],
          [
           "Estimated <b>true class: highstreet_card, predicted class: upmarket_card</b>",
           "<b style=\"color:#3b0280;line-height:60px\">Reference</b>",
           "",
           "[18000:23999]",
           "From <b>Jun-07-2020</b> to <b>Jun-19-2020</b>",
           0.1278,
           0.0206
          ],
          [
           "Estimated <b>true class: highstreet_card, predicted class: upmarket_card</b>",
           "<b style=\"color:#3b0280;line-height:60px\">Reference</b>",
           "",
           "[24000:29999]",
           "From <b>Jun-19-2020</b> to <b>Jul-02-2020</b>",
           0.1324,
           0.0206
          ],
          [
           "Estimated <b>true class: highstreet_card, predicted class: upmarket_card</b>",
           "<b style=\"color:#3b0280;line-height:60px\">Reference</b>",
           "",
           "[30000:35999]",
           "From <b>Jul-02-2020</b> to <b>Jul-14-2020</b>",
           0.1245,
           0.0206
          ],
          [
           "Estimated <b>true class: highstreet_card, predicted class: upmarket_card</b>",
           "<b style=\"color:#3b0280;line-height:60px\">Reference</b>",
           "",
           "[36000:41999]",
           "From <b>Jul-14-2020</b> to <b>Jul-26-2020</b>",
           0.1285,
           0.0206
          ],
          [
           "Estimated <b>true class: highstreet_card, predicted class: upmarket_card</b>",
           "<b style=\"color:#3b0280;line-height:60px\">Reference</b>",
           "",
           "[42000:47999]",
           "From <b>Jul-26-2020</b> to <b>Aug-07-2020</b>",
           0.1249,
           0.0206
          ],
          [
           "Estimated <b>true class: highstreet_card, predicted class: upmarket_card</b>",
           "<b style=\"color:#3b0280;line-height:60px\">Reference</b>",
           "",
           "[48000:53999]",
           "From <b>Aug-07-2020</b> to <b>Aug-20-2020</b>",
           0.1364,
           0.0206
          ],
          [
           "Estimated <b>true class: highstreet_card, predicted class: upmarket_card</b>",
           "<b style=\"color:#3b0280;line-height:60px\">Reference</b>",
           "",
           "[54000:59999]",
           "From <b>Aug-20-2020</b> to <b>Sep-01-2020</b>",
           0.1338,
           0.0206
          ]
         ],
         "hovertemplate": "%{customdata[1]} &nbsp; &nbsp; %{customdata[2]} <br />Chunk: <b>%{customdata[3]}</b> &nbsp; &nbsp; %{customdata[4]} <br />%{customdata[0]}: <b>%{customdata[5]}</b><br />Confidence band: +/- <b>%{customdata[6]}</b><br /><extra></extra>",
         "legendgroup": "metric_reference",
         "line": {
          "dash": "dash"
         },
         "marker": {
          "color": "#3b0280",
          "size": 5,
          "symbol": "circle"
         },
         "mode": "markers",
         "name": "Metric",
         "showlegend": false,
         "type": "scatter",
         "x": [
          "2020-05-08T07:15:27.500000",
          "2020-05-20T15:30:15.500000",
          "2020-06-01T19:14:52.500000",
          "2020-06-13T19:51:26.500000",
          "2020-06-25T22:55:35",
          "2020-07-08T05:10:32",
          "2020-07-20T10:35:52.500000",
          "2020-08-01T14:45:40.500000",
          "2020-08-13T20:20:51",
          "2020-08-26T01:35:40.500000"
         ],
         "xaxis": "x6",
         "y": [
          0.12963514947538898,
          0.11894205865503368,
          0.12623659280109079,
          0.12779182278261927,
          0.1324002681089879,
          0.12452591352731462,
          0.1284646033274311,
          0.12487674650024078,
          0.13635685182720364,
          0.13379910731714723,
          0.13379910731714723
         ],
         "yaxis": "y6"
        },
        {
         "hoverinfo": "skip",
         "legendgroup": "metric_analysis",
         "line": {
          "color": "#3b0280",
          "dash": "dash",
          "shape": "hv",
          "width": 2
         },
         "mode": "lines",
         "name": "Metric",
         "showlegend": false,
         "type": "scatter",
         "x": [
          "2020-09-01T03:10:01",
          "2020-09-13T16:15:32",
          "2020-09-25T19:50:04",
          "2020-10-08T02:57:34",
          "2020-10-20T15:49:06",
          "2020-11-01T22:04:59",
          "2020-11-14T03:55:49",
          "2020-11-26T09:19:22",
          "2020-12-08T14:34:25",
          "2020-12-20T18:31:09",
          "2021-01-01T22:57:55"
         ],
         "xaxis": "x6",
         "y": [
          0.12454422577624209,
          0.12165605423330779,
          0.12841623230274504,
          0.12707708755275776,
          0.13248316888679582,
          0.14683145642486006,
          0.13860675435759437,
          0.1394961799710667,
          0.14612647757276168,
          0.1454317285351828,
          0.1454317285351828
         ],
         "yaxis": "y6"
        },
        {
         "customdata": [
          [
           "Estimated <b>true class: highstreet_card, predicted class: upmarket_card</b>",
           "<b style=\"color:#3b0280;line-height:60px\">Analysis</b>",
           "",
           "[0:5999]",
           "From <b>Sep-01-2020</b> to <b>Sep-13-2020</b>",
           0.1245,
           0.0206
          ],
          [
           "Estimated <b>true class: highstreet_card, predicted class: upmarket_card</b>",
           "<b style=\"color:#3b0280;line-height:60px\">Analysis</b>",
           "",
           "[6000:11999]",
           "From <b>Sep-13-2020</b> to <b>Sep-25-2020</b>",
           0.1217,
           0.0206
          ],
          [
           "Estimated <b>true class: highstreet_card, predicted class: upmarket_card</b>",
           "<b style=\"color:#3b0280;line-height:60px\">Analysis</b>",
           "",
           "[12000:17999]",
           "From <b>Sep-25-2020</b> to <b>Oct-08-2020</b>",
           0.1284,
           0.0206
          ],
          [
           "Estimated <b>true class: highstreet_card, predicted class: upmarket_card</b>",
           "<b style=\"color:#3b0280;line-height:60px\">Analysis</b>",
           "",
           "[18000:23999]",
           "From <b>Oct-08-2020</b> to <b>Oct-20-2020</b>",
           0.1271,
           0.0206
          ],
          [
           "Estimated <b>true class: highstreet_card, predicted class: upmarket_card</b>",
           "<b style=\"color:#3b0280;line-height:60px\">Analysis</b>",
           "",
           "[24000:29999]",
           "From <b>Oct-20-2020</b> to <b>Nov-01-2020</b>",
           0.1325,
           0.0206
          ],
          [
           "Estimated <b>true class: highstreet_card, predicted class: upmarket_card</b>",
           "<b style=\"color:#3b0280;line-height:60px\">Analysis</b>",
           "<span style=\"color:#AD0000\">⚠ <b>Drift detected</b></span>",
           "[30000:35999]",
           "From <b>Nov-01-2020</b> to <b>Nov-14-2020</b>",
           0.1468,
           0.0206
          ],
          [
           "Estimated <b>true class: highstreet_card, predicted class: upmarket_card</b>",
           "<b style=\"color:#3b0280;line-height:60px\">Analysis</b>",
           "",
           "[36000:41999]",
           "From <b>Nov-14-2020</b> to <b>Nov-26-2020</b>",
           0.1386,
           0.0206
          ],
          [
           "Estimated <b>true class: highstreet_card, predicted class: upmarket_card</b>",
           "<b style=\"color:#3b0280;line-height:60px\">Analysis</b>",
           "",
           "[42000:47999]",
           "From <b>Nov-26-2020</b> to <b>Dec-08-2020</b>",
           0.1395,
           0.0206
          ],
          [
           "Estimated <b>true class: highstreet_card, predicted class: upmarket_card</b>",
           "<b style=\"color:#3b0280;line-height:60px\">Analysis</b>",
           "<span style=\"color:#AD0000\">⚠ <b>Drift detected</b></span>",
           "[48000:53999]",
           "From <b>Dec-08-2020</b> to <b>Dec-20-2020</b>",
           0.1461,
           0.0206
          ],
          [
           "Estimated <b>true class: highstreet_card, predicted class: upmarket_card</b>",
           "<b style=\"color:#3b0280;line-height:60px\">Analysis</b>",
           "<span style=\"color:#AD0000\">⚠ <b>Drift detected</b></span>",
           "[54000:59999]",
           "From <b>Dec-20-2020</b> to <b>Jan-01-2021</b>",
           0.1454,
           0.0206
          ]
         ],
         "hovertemplate": "%{customdata[1]} &nbsp; &nbsp; %{customdata[2]} <br />Chunk: <b>%{customdata[3]}</b> &nbsp; &nbsp; %{customdata[4]} <br />%{customdata[0]}: <b>%{customdata[5]}</b><br />Confidence band: +/- <b>%{customdata[6]}</b><br /><extra></extra>",
         "legendgroup": "metric_analysis",
         "line": {
          "dash": "dash"
         },
         "marker": {
          "color": "#3b0280",
          "size": 5,
          "symbol": "circle"
         },
         "mode": "markers",
         "name": "Metric",
         "showlegend": false,
         "type": "scatter",
         "x": [
          "2020-09-07T09:42:46.500000",
          "2020-09-19T18:02:48",
          "2020-10-01T23:23:49",
          "2020-10-14T09:23:20",
          "2020-10-26T18:57:02.500000",
          "2020-11-08T01:00:24",
          "2020-11-20T06:37:35.500000",
          "2020-12-02T11:56:53.500000",
          "2020-12-14T16:32:47",
          "2020-12-26T20:44:32"
         ],
         "xaxis": "x6",
         "y": [
          0.12454422577624209,
          0.12165605423330779,
          0.12841623230274504,
          0.12707708755275776,
          0.13248316888679582,
          0.14683145642486006,
          0.13860675435759437,
          0.1394961799710667,
          0.14612647757276168,
          0.1454317285351828,
          0.1454317285351828
         ],
         "yaxis": "y6"
        },
        {
         "hoverinfo": "skip",
         "legendgroup": "alert",
         "marker": {
          "color": "#DD4040",
          "size": 8,
          "symbol": "diamond"
         },
         "mode": "markers",
         "name": "Alert",
         "showlegend": false,
         "type": "scatter",
         "x": [
          "2020-11-08T01:00:24",
          "2020-12-14T16:32:47",
          "2020-12-26T20:44:32"
         ],
         "xaxis": "x6",
         "y": [
          0.14683145642486006,
          0.14612647757276168,
          0.1454317285351828
         ],
         "yaxis": "y6"
        },
        {
         "hoverinfo": "skip",
         "legendgroup": "thresh",
         "line": {
          "color": "#DD4040",
          "dash": "dash",
          "width": 2
         },
         "mode": "lines",
         "name": "Threshold",
         "showlegend": false,
         "type": "scatter",
         "x": [
          "2020-05-02T02:01:30",
          "2020-05-14T12:29:25",
          "2020-05-26T18:31:06",
          "2020-06-07T19:58:39",
          "2020-06-19T19:44:14",
          "2020-07-02T02:06:56",
          "2020-07-14T08:14:08",
          "2020-07-26T12:57:37",
          "2020-08-07T16:33:44",
          "2020-08-20T00:07:58",
          "2020-09-01T03:03:23"
         ],
         "xaxis": "x6",
         "y": [
          0.14179192786433267,
          0.14179192786433267,
          0.14179192786433267,
          0.14179192786433267,
          0.14179192786433267,
          0.14179192786433267,
          0.14179192786433267,
          0.14179192786433267,
          0.14179192786433267,
          0.14179192786433267,
          0.14179192786433267
         ],
         "yaxis": "y6"
        },
        {
         "hoverinfo": "skip",
         "legendgroup": "thresh",
         "line": {
          "color": "#DD4040",
          "dash": "dash",
          "width": 2
         },
         "mode": "lines",
         "name": "Threshold",
         "showlegend": false,
         "type": "scatter",
         "x": [
          "2020-05-02T02:01:30",
          "2020-05-14T12:29:25",
          "2020-05-26T18:31:06",
          "2020-06-07T19:58:39",
          "2020-06-19T19:44:14",
          "2020-07-02T02:06:56",
          "2020-07-14T08:14:08",
          "2020-07-26T12:57:37",
          "2020-08-07T16:33:44",
          "2020-08-20T00:07:58",
          "2020-09-01T03:03:23"
         ],
         "xaxis": "x6",
         "y": [
          0.11816742405592241,
          0.11816742405592241,
          0.11816742405592241,
          0.11816742405592241,
          0.11816742405592241,
          0.11816742405592241,
          0.11816742405592241,
          0.11816742405592241,
          0.11816742405592241,
          0.11816742405592241,
          0.11816742405592241
         ],
         "yaxis": "y6"
        },
        {
         "hoverinfo": "skip",
         "legendgroup": "thresh",
         "line": {
          "color": "#DD4040",
          "dash": "dash",
          "width": 2
         },
         "mode": "lines",
         "name": "Threshold",
         "showlegend": false,
         "type": "scatter",
         "x": [
          "2020-09-01T03:10:01",
          "2020-09-13T16:15:32",
          "2020-09-25T19:50:04",
          "2020-10-08T02:57:34",
          "2020-10-20T15:49:06",
          "2020-11-01T22:04:59",
          "2020-11-14T03:55:49",
          "2020-11-26T09:19:22",
          "2020-12-08T14:34:25",
          "2020-12-20T18:31:09",
          "2021-01-01T22:57:55"
         ],
         "xaxis": "x6",
         "y": [
          0.14179192786433267,
          0.14179192786433267,
          0.14179192786433267,
          0.14179192786433267,
          0.14179192786433267,
          0.14179192786433267,
          0.14179192786433267,
          0.14179192786433267,
          0.14179192786433267,
          0.14179192786433267,
          0.14179192786433267
         ],
         "yaxis": "y6"
        },
        {
         "hoverinfo": "skip",
         "legendgroup": "thresh",
         "line": {
          "color": "#DD4040",
          "dash": "dash",
          "width": 2
         },
         "mode": "lines",
         "name": "Threshold",
         "showlegend": false,
         "type": "scatter",
         "x": [
          "2020-09-01T03:10:01",
          "2020-09-13T16:15:32",
          "2020-09-25T19:50:04",
          "2020-10-08T02:57:34",
          "2020-10-20T15:49:06",
          "2020-11-01T22:04:59",
          "2020-11-14T03:55:49",
          "2020-11-26T09:19:22",
          "2020-12-08T14:34:25",
          "2020-12-20T18:31:09",
          "2021-01-01T22:57:55"
         ],
         "xaxis": "x6",
         "y": [
          0.11816742405592241,
          0.11816742405592241,
          0.11816742405592241,
          0.11816742405592241,
          0.11816742405592241,
          0.11816742405592241,
          0.11816742405592241,
          0.11816742405592241,
          0.11816742405592241,
          0.11816742405592241,
          0.11816742405592241
         ],
         "yaxis": "y6"
        },
        {
         "hoverinfo": "skip",
         "line": {
          "color": "rgba(0,0,0,0)",
          "shape": "hv"
         },
         "mode": "lines",
         "name": "Confidence band",
         "showlegend": false,
         "type": "scatter",
         "x": [
          "2020-05-02T02:01:30",
          "2020-05-14T12:29:25",
          "2020-05-26T18:31:06",
          "2020-06-07T19:58:39",
          "2020-06-19T19:44:14",
          "2020-07-02T02:06:56",
          "2020-07-14T08:14:08",
          "2020-07-26T12:57:37",
          "2020-08-07T16:33:44",
          "2020-08-20T00:07:58",
          "2020-09-01T03:03:23"
         ],
         "xaxis": "x6",
         "y": [
          0.15024142070956198,
          0.13954832988920668,
          0.14684286403526378,
          0.14839809401679227,
          0.15300653934316089,
          0.14513218476148762,
          0.1490708745616041,
          0.14548301773441377,
          0.15696312306137664,
          0.15440537855132022,
          0.15440537855132022
         ],
         "yaxis": "y6"
        },
        {
         "fill": "tonexty",
         "fillcolor": "rgba(0.23137254901960785, 0.00784313725490196, 0.5019607843137255, 0.2)",
         "hoverinfo": "skip",
         "line": {
          "color": "rgba(0,0,0,0)",
          "shape": "hv"
         },
         "mode": "lines",
         "name": "Confidence band",
         "showlegend": false,
         "type": "scatter",
         "x": [
          "2020-05-02T02:01:30",
          "2020-05-14T12:29:25",
          "2020-05-26T18:31:06",
          "2020-06-07T19:58:39",
          "2020-06-19T19:44:14",
          "2020-07-02T02:06:56",
          "2020-07-14T08:14:08",
          "2020-07-26T12:57:37",
          "2020-08-07T16:33:44",
          "2020-08-20T00:07:58",
          "2020-09-01T03:03:23"
         ],
         "xaxis": "x6",
         "y": [
          0.10902887824121599,
          0.09833578742086069,
          0.10563032156691779,
          0.10718555154844628,
          0.1117939968748149,
          0.10391964229314163,
          0.1078583320932581,
          0.10427047526606778,
          0.11575058059303064,
          0.11319283608297423,
          0.11319283608297423
         ],
         "yaxis": "y6"
        },
        {
         "hoverinfo": "skip",
         "line": {
          "color": "rgba(0,0,0,0)",
          "shape": "hv"
         },
         "mode": "lines",
         "name": "Confidence band",
         "showlegend": false,
         "type": "scatter",
         "x": [
          "2020-09-01T03:10:01",
          "2020-09-13T16:15:32",
          "2020-09-25T19:50:04",
          "2020-10-08T02:57:34",
          "2020-10-20T15:49:06",
          "2020-11-01T22:04:59",
          "2020-11-14T03:55:49",
          "2020-11-26T09:19:22",
          "2020-12-08T14:34:25",
          "2020-12-20T18:31:09",
          "2021-01-01T22:57:55"
         ],
         "xaxis": "x6",
         "y": [
          0.1451504970104151,
          0.1422623254674808,
          0.14902250353691804,
          0.14768335878693076,
          0.1530894401209688,
          0.16743772765903306,
          0.15921302559176737,
          0.1601024512052397,
          0.16673274880693467,
          0.1660379997693558,
          0.1660379997693558
         ],
         "yaxis": "y6"
        },
        {
         "fill": "tonexty",
         "fillcolor": "rgba(0.23137254901960785, 0.00784313725490196, 0.5019607843137255, 0.2)",
         "hoverinfo": "skip",
         "line": {
          "color": "rgba(0,0,0,0)",
          "shape": "hv"
         },
         "mode": "lines",
         "name": "Confidence band",
         "showlegend": false,
         "type": "scatter",
         "x": [
          "2020-09-01T03:10:01",
          "2020-09-13T16:15:32",
          "2020-09-25T19:50:04",
          "2020-10-08T02:57:34",
          "2020-10-20T15:49:06",
          "2020-11-01T22:04:59",
          "2020-11-14T03:55:49",
          "2020-11-26T09:19:22",
          "2020-12-08T14:34:25",
          "2020-12-20T18:31:09",
          "2021-01-01T22:57:55"
         ],
         "xaxis": "x6",
         "y": [
          0.1039379545420691,
          0.1010497829991348,
          0.10780996106857205,
          0.10647081631858477,
          0.11187689765262282,
          0.12622518519068707,
          0.11800048312342137,
          0.1188899087368937,
          0.12552020633858868,
          0.1248254573010098,
          0.1248254573010098
         ],
         "yaxis": "y6"
        },
        {
         "hoverinfo": "skip",
         "legendgroup": "metric_reference",
         "line": {
          "color": "#3b0280",
          "dash": "dash",
          "shape": "hv",
          "width": 2
         },
         "mode": "lines",
         "name": "Metric",
         "showlegend": false,
         "type": "scatter",
         "x": [
          "2020-05-02T02:01:30",
          "2020-05-14T12:29:25",
          "2020-05-26T18:31:06",
          "2020-06-07T19:58:39",
          "2020-06-19T19:44:14",
          "2020-07-02T02:06:56",
          "2020-07-14T08:14:08",
          "2020-07-26T12:57:37",
          "2020-08-07T16:33:44",
          "2020-08-20T00:07:58",
          "2020-09-01T03:03:23"
         ],
         "xaxis": "x7",
         "y": [
          0.11852371666933352,
          0.11587756703576961,
          0.11904858375777883,
          0.12257657944354713,
          0.11712045759423921,
          0.12043349036245629,
          0.12278791261585671,
          0.11000016087685273,
          0.11389032917798986,
          0.11501171901914095,
          0.11501171901914095
         ],
         "yaxis": "y7"
        },
        {
         "customdata": [
          [
           "Estimated <b>true class: upmarket_card, predicted class: prepaid_card</b>",
           "<b style=\"color:#3b0280;line-height:60px\">Reference</b>",
           "",
           "[0:5999]",
           "From <b>May-02-2020</b> to <b>May-14-2020</b>",
           0.1185,
           0.022
          ],
          [
           "Estimated <b>true class: upmarket_card, predicted class: prepaid_card</b>",
           "<b style=\"color:#3b0280;line-height:60px\">Reference</b>",
           "",
           "[6000:11999]",
           "From <b>May-14-2020</b> to <b>May-26-2020</b>",
           0.1159,
           0.022
          ],
          [
           "Estimated <b>true class: upmarket_card, predicted class: prepaid_card</b>",
           "<b style=\"color:#3b0280;line-height:60px\">Reference</b>",
           "",
           "[12000:17999]",
           "From <b>May-26-2020</b> to <b>Jun-07-2020</b>",
           0.119,
           0.022
          ],
          [
           "Estimated <b>true class: upmarket_card, predicted class: prepaid_card</b>",
           "<b style=\"color:#3b0280;line-height:60px\">Reference</b>",
           "",
           "[18000:23999]",
           "From <b>Jun-07-2020</b> to <b>Jun-19-2020</b>",
           0.1226,
           0.022
          ],
          [
           "Estimated <b>true class: upmarket_card, predicted class: prepaid_card</b>",
           "<b style=\"color:#3b0280;line-height:60px\">Reference</b>",
           "",
           "[24000:29999]",
           "From <b>Jun-19-2020</b> to <b>Jul-02-2020</b>",
           0.1171,
           0.022
          ],
          [
           "Estimated <b>true class: upmarket_card, predicted class: prepaid_card</b>",
           "<b style=\"color:#3b0280;line-height:60px\">Reference</b>",
           "",
           "[30000:35999]",
           "From <b>Jul-02-2020</b> to <b>Jul-14-2020</b>",
           0.1204,
           0.022
          ],
          [
           "Estimated <b>true class: upmarket_card, predicted class: prepaid_card</b>",
           "<b style=\"color:#3b0280;line-height:60px\">Reference</b>",
           "",
           "[36000:41999]",
           "From <b>Jul-14-2020</b> to <b>Jul-26-2020</b>",
           0.1228,
           0.022
          ],
          [
           "Estimated <b>true class: upmarket_card, predicted class: prepaid_card</b>",
           "<b style=\"color:#3b0280;line-height:60px\">Reference</b>",
           "",
           "[42000:47999]",
           "From <b>Jul-26-2020</b> to <b>Aug-07-2020</b>",
           0.11,
           0.022
          ],
          [
           "Estimated <b>true class: upmarket_card, predicted class: prepaid_card</b>",
           "<b style=\"color:#3b0280;line-height:60px\">Reference</b>",
           "",
           "[48000:53999]",
           "From <b>Aug-07-2020</b> to <b>Aug-20-2020</b>",
           0.1139,
           0.022
          ],
          [
           "Estimated <b>true class: upmarket_card, predicted class: prepaid_card</b>",
           "<b style=\"color:#3b0280;line-height:60px\">Reference</b>",
           "",
           "[54000:59999]",
           "From <b>Aug-20-2020</b> to <b>Sep-01-2020</b>",
           0.115,
           0.022
          ]
         ],
         "hovertemplate": "%{customdata[1]} &nbsp; &nbsp; %{customdata[2]} <br />Chunk: <b>%{customdata[3]}</b> &nbsp; &nbsp; %{customdata[4]} <br />%{customdata[0]}: <b>%{customdata[5]}</b><br />Confidence band: +/- <b>%{customdata[6]}</b><br /><extra></extra>",
         "legendgroup": "metric_reference",
         "line": {
          "dash": "dash"
         },
         "marker": {
          "color": "#3b0280",
          "size": 5,
          "symbol": "circle"
         },
         "mode": "markers",
         "name": "Metric",
         "showlegend": false,
         "type": "scatter",
         "x": [
          "2020-05-08T07:15:27.500000",
          "2020-05-20T15:30:15.500000",
          "2020-06-01T19:14:52.500000",
          "2020-06-13T19:51:26.500000",
          "2020-06-25T22:55:35",
          "2020-07-08T05:10:32",
          "2020-07-20T10:35:52.500000",
          "2020-08-01T14:45:40.500000",
          "2020-08-13T20:20:51",
          "2020-08-26T01:35:40.500000"
         ],
         "xaxis": "x7",
         "y": [
          0.11852371666933352,
          0.11587756703576961,
          0.11904858375777883,
          0.12257657944354713,
          0.11712045759423921,
          0.12043349036245629,
          0.12278791261585671,
          0.11000016087685273,
          0.11389032917798986,
          0.11501171901914095,
          0.11501171901914095
         ],
         "yaxis": "y7"
        },
        {
         "hoverinfo": "skip",
         "legendgroup": "metric_analysis",
         "line": {
          "color": "#3b0280",
          "dash": "dash",
          "shape": "hv",
          "width": 2
         },
         "mode": "lines",
         "name": "Metric",
         "showlegend": false,
         "type": "scatter",
         "x": [
          "2020-09-01T03:10:01",
          "2020-09-13T16:15:32",
          "2020-09-25T19:50:04",
          "2020-10-08T02:57:34",
          "2020-10-20T15:49:06",
          "2020-11-01T22:04:59",
          "2020-11-14T03:55:49",
          "2020-11-26T09:19:22",
          "2020-12-08T14:34:25",
          "2020-12-20T18:31:09",
          "2021-01-01T22:57:55"
         ],
         "xaxis": "x7",
         "y": [
          0.1221910549236963,
          0.11773468672166797,
          0.11756902731700819,
          0.11461059616727684,
          0.11368205653062687,
          0.15571255589975963,
          0.16118582064455644,
          0.15294363074168937,
          0.15247323282887332,
          0.1541283023468913,
          0.1541283023468913
         ],
         "yaxis": "y7"
        },
        {
         "customdata": [
          [
           "Estimated <b>true class: upmarket_card, predicted class: prepaid_card</b>",
           "<b style=\"color:#3b0280;line-height:60px\">Analysis</b>",
           "",
           "[0:5999]",
           "From <b>Sep-01-2020</b> to <b>Sep-13-2020</b>",
           0.1222,
           0.022
          ],
          [
           "Estimated <b>true class: upmarket_card, predicted class: prepaid_card</b>",
           "<b style=\"color:#3b0280;line-height:60px\">Analysis</b>",
           "",
           "[6000:11999]",
           "From <b>Sep-13-2020</b> to <b>Sep-25-2020</b>",
           0.1177,
           0.022
          ],
          [
           "Estimated <b>true class: upmarket_card, predicted class: prepaid_card</b>",
           "<b style=\"color:#3b0280;line-height:60px\">Analysis</b>",
           "",
           "[12000:17999]",
           "From <b>Sep-25-2020</b> to <b>Oct-08-2020</b>",
           0.1176,
           0.022
          ],
          [
           "Estimated <b>true class: upmarket_card, predicted class: prepaid_card</b>",
           "<b style=\"color:#3b0280;line-height:60px\">Analysis</b>",
           "",
           "[18000:23999]",
           "From <b>Oct-08-2020</b> to <b>Oct-20-2020</b>",
           0.1146,
           0.022
          ],
          [
           "Estimated <b>true class: upmarket_card, predicted class: prepaid_card</b>",
           "<b style=\"color:#3b0280;line-height:60px\">Analysis</b>",
           "",
           "[24000:29999]",
           "From <b>Oct-20-2020</b> to <b>Nov-01-2020</b>",
           0.1137,
           0.022
          ],
          [
           "Estimated <b>true class: upmarket_card, predicted class: prepaid_card</b>",
           "<b style=\"color:#3b0280;line-height:60px\">Analysis</b>",
           "<span style=\"color:#AD0000\">⚠ <b>Drift detected</b></span>",
           "[30000:35999]",
           "From <b>Nov-01-2020</b> to <b>Nov-14-2020</b>",
           0.1557,
           0.022
          ],
          [
           "Estimated <b>true class: upmarket_card, predicted class: prepaid_card</b>",
           "<b style=\"color:#3b0280;line-height:60px\">Analysis</b>",
           "<span style=\"color:#AD0000\">⚠ <b>Drift detected</b></span>",
           "[36000:41999]",
           "From <b>Nov-14-2020</b> to <b>Nov-26-2020</b>",
           0.1612,
           0.022
          ],
          [
           "Estimated <b>true class: upmarket_card, predicted class: prepaid_card</b>",
           "<b style=\"color:#3b0280;line-height:60px\">Analysis</b>",
           "<span style=\"color:#AD0000\">⚠ <b>Drift detected</b></span>",
           "[42000:47999]",
           "From <b>Nov-26-2020</b> to <b>Dec-08-2020</b>",
           0.1529,
           0.022
          ],
          [
           "Estimated <b>true class: upmarket_card, predicted class: prepaid_card</b>",
           "<b style=\"color:#3b0280;line-height:60px\">Analysis</b>",
           "<span style=\"color:#AD0000\">⚠ <b>Drift detected</b></span>",
           "[48000:53999]",
           "From <b>Dec-08-2020</b> to <b>Dec-20-2020</b>",
           0.1525,
           0.022
          ],
          [
           "Estimated <b>true class: upmarket_card, predicted class: prepaid_card</b>",
           "<b style=\"color:#3b0280;line-height:60px\">Analysis</b>",
           "<span style=\"color:#AD0000\">⚠ <b>Drift detected</b></span>",
           "[54000:59999]",
           "From <b>Dec-20-2020</b> to <b>Jan-01-2021</b>",
           0.1541,
           0.022
          ]
         ],
         "hovertemplate": "%{customdata[1]} &nbsp; &nbsp; %{customdata[2]} <br />Chunk: <b>%{customdata[3]}</b> &nbsp; &nbsp; %{customdata[4]} <br />%{customdata[0]}: <b>%{customdata[5]}</b><br />Confidence band: +/- <b>%{customdata[6]}</b><br /><extra></extra>",
         "legendgroup": "metric_analysis",
         "line": {
          "dash": "dash"
         },
         "marker": {
          "color": "#3b0280",
          "size": 5,
          "symbol": "circle"
         },
         "mode": "markers",
         "name": "Metric",
         "showlegend": false,
         "type": "scatter",
         "x": [
          "2020-09-07T09:42:46.500000",
          "2020-09-19T18:02:48",
          "2020-10-01T23:23:49",
          "2020-10-14T09:23:20",
          "2020-10-26T18:57:02.500000",
          "2020-11-08T01:00:24",
          "2020-11-20T06:37:35.500000",
          "2020-12-02T11:56:53.500000",
          "2020-12-14T16:32:47",
          "2020-12-26T20:44:32"
         ],
         "xaxis": "x7",
         "y": [
          0.1221910549236963,
          0.11773468672166797,
          0.11756902731700819,
          0.11461059616727684,
          0.11368205653062687,
          0.15571255589975963,
          0.16118582064455644,
          0.15294363074168937,
          0.15247323282887332,
          0.1541283023468913,
          0.1541283023468913
         ],
         "yaxis": "y7"
        },
        {
         "hoverinfo": "skip",
         "legendgroup": "alert",
         "marker": {
          "color": "#DD4040",
          "size": 8,
          "symbol": "diamond"
         },
         "mode": "markers",
         "name": "Alert",
         "showlegend": false,
         "type": "scatter",
         "x": [
          "2020-11-08T01:00:24",
          "2020-11-20T06:37:35.500000",
          "2020-12-02T11:56:53.500000",
          "2020-12-14T16:32:47",
          "2020-12-26T20:44:32"
         ],
         "xaxis": "x7",
         "y": [
          0.15571255589975963,
          0.16118582064455644,
          0.15294363074168937,
          0.15247323282887332,
          0.1541283023468913
         ],
         "yaxis": "y7"
        },
        {
         "hoverinfo": "skip",
         "legendgroup": "thresh",
         "line": {
          "color": "#DD4040",
          "dash": "dash",
          "width": 2
         },
         "mode": "lines",
         "name": "Threshold",
         "showlegend": false,
         "type": "scatter",
         "x": [
          "2020-05-02T02:01:30",
          "2020-05-14T12:29:25",
          "2020-05-26T18:31:06",
          "2020-06-07T19:58:39",
          "2020-06-19T19:44:14",
          "2020-07-02T02:06:56",
          "2020-07-14T08:14:08",
          "2020-07-26T12:57:37",
          "2020-08-07T16:33:44",
          "2020-08-20T00:07:58",
          "2020-09-01T03:03:23"
         ],
         "xaxis": "x7",
         "y": [
          0.13036231554300315,
          0.13036231554300315,
          0.13036231554300315,
          0.13036231554300315,
          0.13036231554300315,
          0.13036231554300315,
          0.13036231554300315,
          0.13036231554300315,
          0.13036231554300315,
          0.13036231554300315,
          0.13036231554300315
         ],
         "yaxis": "y7"
        },
        {
         "hoverinfo": "skip",
         "legendgroup": "thresh",
         "line": {
          "color": "#DD4040",
          "dash": "dash",
          "width": 2
         },
         "mode": "lines",
         "name": "Threshold",
         "showlegend": false,
         "type": "scatter",
         "x": [
          "2020-05-02T02:01:30",
          "2020-05-14T12:29:25",
          "2020-05-26T18:31:06",
          "2020-06-07T19:58:39",
          "2020-06-19T19:44:14",
          "2020-07-02T02:06:56",
          "2020-07-14T08:14:08",
          "2020-07-26T12:57:37",
          "2020-08-07T16:33:44",
          "2020-08-20T00:07:58",
          "2020-09-01T03:03:23"
         ],
         "xaxis": "x7",
         "y": [
          0.10244749700393146,
          0.10244749700393146,
          0.10244749700393146,
          0.10244749700393146,
          0.10244749700393146,
          0.10244749700393146,
          0.10244749700393146,
          0.10244749700393146,
          0.10244749700393146,
          0.10244749700393146,
          0.10244749700393146
         ],
         "yaxis": "y7"
        },
        {
         "hoverinfo": "skip",
         "legendgroup": "thresh",
         "line": {
          "color": "#DD4040",
          "dash": "dash",
          "width": 2
         },
         "mode": "lines",
         "name": "Threshold",
         "showlegend": false,
         "type": "scatter",
         "x": [
          "2020-09-01T03:10:01",
          "2020-09-13T16:15:32",
          "2020-09-25T19:50:04",
          "2020-10-08T02:57:34",
          "2020-10-20T15:49:06",
          "2020-11-01T22:04:59",
          "2020-11-14T03:55:49",
          "2020-11-26T09:19:22",
          "2020-12-08T14:34:25",
          "2020-12-20T18:31:09",
          "2021-01-01T22:57:55"
         ],
         "xaxis": "x7",
         "y": [
          0.13036231554300315,
          0.13036231554300315,
          0.13036231554300315,
          0.13036231554300315,
          0.13036231554300315,
          0.13036231554300315,
          0.13036231554300315,
          0.13036231554300315,
          0.13036231554300315,
          0.13036231554300315,
          0.13036231554300315
         ],
         "yaxis": "y7"
        },
        {
         "hoverinfo": "skip",
         "legendgroup": "thresh",
         "line": {
          "color": "#DD4040",
          "dash": "dash",
          "width": 2
         },
         "mode": "lines",
         "name": "Threshold",
         "showlegend": false,
         "type": "scatter",
         "x": [
          "2020-09-01T03:10:01",
          "2020-09-13T16:15:32",
          "2020-09-25T19:50:04",
          "2020-10-08T02:57:34",
          "2020-10-20T15:49:06",
          "2020-11-01T22:04:59",
          "2020-11-14T03:55:49",
          "2020-11-26T09:19:22",
          "2020-12-08T14:34:25",
          "2020-12-20T18:31:09",
          "2021-01-01T22:57:55"
         ],
         "xaxis": "x7",
         "y": [
          0.10244749700393146,
          0.10244749700393146,
          0.10244749700393146,
          0.10244749700393146,
          0.10244749700393146,
          0.10244749700393146,
          0.10244749700393146,
          0.10244749700393146,
          0.10244749700393146,
          0.10244749700393146,
          0.10244749700393146
         ],
         "yaxis": "y7"
        },
        {
         "hoverinfo": "skip",
         "line": {
          "color": "rgba(0,0,0,0)",
          "shape": "hv"
         },
         "mode": "lines",
         "name": "Confidence band",
         "showlegend": false,
         "type": "scatter",
         "x": [
          "2020-05-02T02:01:30",
          "2020-05-14T12:29:25",
          "2020-05-26T18:31:06",
          "2020-06-07T19:58:39",
          "2020-06-19T19:44:14",
          "2020-07-02T02:06:56",
          "2020-07-14T08:14:08",
          "2020-07-26T12:57:37",
          "2020-08-07T16:33:44",
          "2020-08-20T00:07:58",
          "2020-09-01T03:03:23"
         ],
         "xaxis": "x7",
         "y": [
          0.14048590253919782,
          0.1378397529056339,
          0.1410107696276431,
          0.14453876531341142,
          0.1390826434641035,
          0.14239567623232058,
          0.144750098485721,
          0.13196234674671703,
          0.13585251504785414,
          0.13697390488900524,
          0.13697390488900524
         ],
         "yaxis": "y7"
        },
        {
         "fill": "tonexty",
         "fillcolor": "rgba(0.23137254901960785, 0.00784313725490196, 0.5019607843137255, 0.2)",
         "hoverinfo": "skip",
         "line": {
          "color": "rgba(0,0,0,0)",
          "shape": "hv"
         },
         "mode": "lines",
         "name": "Confidence band",
         "showlegend": false,
         "type": "scatter",
         "x": [
          "2020-05-02T02:01:30",
          "2020-05-14T12:29:25",
          "2020-05-26T18:31:06",
          "2020-06-07T19:58:39",
          "2020-06-19T19:44:14",
          "2020-07-02T02:06:56",
          "2020-07-14T08:14:08",
          "2020-07-26T12:57:37",
          "2020-08-07T16:33:44",
          "2020-08-20T00:07:58",
          "2020-09-01T03:03:23"
         ],
         "xaxis": "x7",
         "y": [
          0.09656153079946922,
          0.09391538116590531,
          0.09708639788791452,
          0.10061439357368283,
          0.09515827172437491,
          0.09847130449259199,
          0.10082572674599241,
          0.08803797500698843,
          0.09192814330812556,
          0.09304953314927665,
          0.09304953314927665
         ],
         "yaxis": "y7"
        },
        {
         "hoverinfo": "skip",
         "line": {
          "color": "rgba(0,0,0,0)",
          "shape": "hv"
         },
         "mode": "lines",
         "name": "Confidence band",
         "showlegend": false,
         "type": "scatter",
         "x": [
          "2020-09-01T03:10:01",
          "2020-09-13T16:15:32",
          "2020-09-25T19:50:04",
          "2020-10-08T02:57:34",
          "2020-10-20T15:49:06",
          "2020-11-01T22:04:59",
          "2020-11-14T03:55:49",
          "2020-11-26T09:19:22",
          "2020-12-08T14:34:25",
          "2020-12-20T18:31:09",
          "2021-01-01T22:57:55"
         ],
         "xaxis": "x7",
         "y": [
          0.1441532407935606,
          0.13969687259153227,
          0.13953121318687248,
          0.13657278203714113,
          0.13564424240049117,
          0.17767474176962392,
          0.18314800651442073,
          0.17490581661155366,
          0.1744354186987376,
          0.17609048821675558,
          0.17609048821675558
         ],
         "yaxis": "y7"
        },
        {
         "fill": "tonexty",
         "fillcolor": "rgba(0.23137254901960785, 0.00784313725490196, 0.5019607843137255, 0.2)",
         "hoverinfo": "skip",
         "line": {
          "color": "rgba(0,0,0,0)",
          "shape": "hv"
         },
         "mode": "lines",
         "name": "Confidence band",
         "showlegend": false,
         "type": "scatter",
         "x": [
          "2020-09-01T03:10:01",
          "2020-09-13T16:15:32",
          "2020-09-25T19:50:04",
          "2020-10-08T02:57:34",
          "2020-10-20T15:49:06",
          "2020-11-01T22:04:59",
          "2020-11-14T03:55:49",
          "2020-11-26T09:19:22",
          "2020-12-08T14:34:25",
          "2020-12-20T18:31:09",
          "2021-01-01T22:57:55"
         ],
         "xaxis": "x7",
         "y": [
          0.10022886905383199,
          0.09577250085180367,
          0.09560684144714389,
          0.09264841029741254,
          0.09171987066076256,
          0.13375037002989534,
          0.13922363477469216,
          0.1309814448718251,
          0.13051104695900903,
          0.132166116477027,
          0.132166116477027
         ],
         "yaxis": "y7"
        },
        {
         "hoverinfo": "skip",
         "legendgroup": "metric_reference",
         "line": {
          "color": "#3b0280",
          "dash": "dash",
          "shape": "hv",
          "width": 2
         },
         "mode": "lines",
         "name": "Metric",
         "showlegend": false,
         "type": "scatter",
         "x": [
          "2020-05-02T02:01:30",
          "2020-05-14T12:29:25",
          "2020-05-26T18:31:06",
          "2020-06-07T19:58:39",
          "2020-06-19T19:44:14",
          "2020-07-02T02:06:56",
          "2020-07-14T08:14:08",
          "2020-07-26T12:57:37",
          "2020-08-07T16:33:44",
          "2020-08-20T00:07:58",
          "2020-09-01T03:03:23"
         ],
         "xaxis": "x8",
         "y": [
          0.12425395500341826,
          0.12895178845399535,
          0.12453586878665097,
          0.1300378108795304,
          0.1206000038282084,
          0.12398156598021647,
          0.1270302015570464,
          0.12104127143387482,
          0.11953332911060624,
          0.1197675732983635,
          0.1197675732983635
         ],
         "yaxis": "y8"
        },
        {
         "customdata": [
          [
           "Estimated <b>true class: upmarket_card, predicted class: highstreet_card</b>",
           "<b style=\"color:#3b0280;line-height:60px\">Reference</b>",
           "",
           "[0:5999]",
           "From <b>May-02-2020</b> to <b>May-14-2020</b>",
           0.1243,
           0.0215
          ],
          [
           "Estimated <b>true class: upmarket_card, predicted class: highstreet_card</b>",
           "<b style=\"color:#3b0280;line-height:60px\">Reference</b>",
           "",
           "[6000:11999]",
           "From <b>May-14-2020</b> to <b>May-26-2020</b>",
           0.129,
           0.0215
          ],
          [
           "Estimated <b>true class: upmarket_card, predicted class: highstreet_card</b>",
           "<b style=\"color:#3b0280;line-height:60px\">Reference</b>",
           "",
           "[12000:17999]",
           "From <b>May-26-2020</b> to <b>Jun-07-2020</b>",
           0.1245,
           0.0215
          ],
          [
           "Estimated <b>true class: upmarket_card, predicted class: highstreet_card</b>",
           "<b style=\"color:#3b0280;line-height:60px\">Reference</b>",
           "",
           "[18000:23999]",
           "From <b>Jun-07-2020</b> to <b>Jun-19-2020</b>",
           0.13,
           0.0215
          ],
          [
           "Estimated <b>true class: upmarket_card, predicted class: highstreet_card</b>",
           "<b style=\"color:#3b0280;line-height:60px\">Reference</b>",
           "",
           "[24000:29999]",
           "From <b>Jun-19-2020</b> to <b>Jul-02-2020</b>",
           0.1206,
           0.0215
          ],
          [
           "Estimated <b>true class: upmarket_card, predicted class: highstreet_card</b>",
           "<b style=\"color:#3b0280;line-height:60px\">Reference</b>",
           "",
           "[30000:35999]",
           "From <b>Jul-02-2020</b> to <b>Jul-14-2020</b>",
           0.124,
           0.0215
          ],
          [
           "Estimated <b>true class: upmarket_card, predicted class: highstreet_card</b>",
           "<b style=\"color:#3b0280;line-height:60px\">Reference</b>",
           "",
           "[36000:41999]",
           "From <b>Jul-14-2020</b> to <b>Jul-26-2020</b>",
           0.127,
           0.0215
          ],
          [
           "Estimated <b>true class: upmarket_card, predicted class: highstreet_card</b>",
           "<b style=\"color:#3b0280;line-height:60px\">Reference</b>",
           "",
           "[42000:47999]",
           "From <b>Jul-26-2020</b> to <b>Aug-07-2020</b>",
           0.121,
           0.0215
          ],
          [
           "Estimated <b>true class: upmarket_card, predicted class: highstreet_card</b>",
           "<b style=\"color:#3b0280;line-height:60px\">Reference</b>",
           "",
           "[48000:53999]",
           "From <b>Aug-07-2020</b> to <b>Aug-20-2020</b>",
           0.1195,
           0.0215
          ],
          [
           "Estimated <b>true class: upmarket_card, predicted class: highstreet_card</b>",
           "<b style=\"color:#3b0280;line-height:60px\">Reference</b>",
           "",
           "[54000:59999]",
           "From <b>Aug-20-2020</b> to <b>Sep-01-2020</b>",
           0.1198,
           0.0215
          ]
         ],
         "hovertemplate": "%{customdata[1]} &nbsp; &nbsp; %{customdata[2]} <br />Chunk: <b>%{customdata[3]}</b> &nbsp; &nbsp; %{customdata[4]} <br />%{customdata[0]}: <b>%{customdata[5]}</b><br />Confidence band: +/- <b>%{customdata[6]}</b><br /><extra></extra>",
         "legendgroup": "metric_reference",
         "line": {
          "dash": "dash"
         },
         "marker": {
          "color": "#3b0280",
          "size": 5,
          "symbol": "circle"
         },
         "mode": "markers",
         "name": "Metric",
         "showlegend": false,
         "type": "scatter",
         "x": [
          "2020-05-08T07:15:27.500000",
          "2020-05-20T15:30:15.500000",
          "2020-06-01T19:14:52.500000",
          "2020-06-13T19:51:26.500000",
          "2020-06-25T22:55:35",
          "2020-07-08T05:10:32",
          "2020-07-20T10:35:52.500000",
          "2020-08-01T14:45:40.500000",
          "2020-08-13T20:20:51",
          "2020-08-26T01:35:40.500000"
         ],
         "xaxis": "x8",
         "y": [
          0.12425395500341826,
          0.12895178845399535,
          0.12453586878665097,
          0.1300378108795304,
          0.1206000038282084,
          0.12398156598021647,
          0.1270302015570464,
          0.12104127143387482,
          0.11953332911060624,
          0.1197675732983635,
          0.1197675732983635
         ],
         "yaxis": "y8"
        },
        {
         "hoverinfo": "skip",
         "legendgroup": "metric_analysis",
         "line": {
          "color": "#3b0280",
          "dash": "dash",
          "shape": "hv",
          "width": 2
         },
         "mode": "lines",
         "name": "Metric",
         "showlegend": false,
         "type": "scatter",
         "x": [
          "2020-09-01T03:10:01",
          "2020-09-13T16:15:32",
          "2020-09-25T19:50:04",
          "2020-10-08T02:57:34",
          "2020-10-20T15:49:06",
          "2020-11-01T22:04:59",
          "2020-11-14T03:55:49",
          "2020-11-26T09:19:22",
          "2020-12-08T14:34:25",
          "2020-12-20T18:31:09",
          "2021-01-01T22:57:55"
         ],
         "xaxis": "x8",
         "y": [
          0.12480423490156824,
          0.12894311885373919,
          0.11954626337878067,
          0.12359942065319027,
          0.12145551076078202,
          0.1982596951931466,
          0.20588176020740817,
          0.21104058166063294,
          0.19875327539815524,
          0.19917995353553902,
          0.19917995353553902
         ],
         "yaxis": "y8"
        },
        {
         "customdata": [
          [
           "Estimated <b>true class: upmarket_card, predicted class: highstreet_card</b>",
           "<b style=\"color:#3b0280;line-height:60px\">Analysis</b>",
           "",
           "[0:5999]",
           "From <b>Sep-01-2020</b> to <b>Sep-13-2020</b>",
           0.1248,
           0.0215
          ],
          [
           "Estimated <b>true class: upmarket_card, predicted class: highstreet_card</b>",
           "<b style=\"color:#3b0280;line-height:60px\">Analysis</b>",
           "",
           "[6000:11999]",
           "From <b>Sep-13-2020</b> to <b>Sep-25-2020</b>",
           0.1289,
           0.0215
          ],
          [
           "Estimated <b>true class: upmarket_card, predicted class: highstreet_card</b>",
           "<b style=\"color:#3b0280;line-height:60px\">Analysis</b>",
           "",
           "[12000:17999]",
           "From <b>Sep-25-2020</b> to <b>Oct-08-2020</b>",
           0.1195,
           0.0215
          ],
          [
           "Estimated <b>true class: upmarket_card, predicted class: highstreet_card</b>",
           "<b style=\"color:#3b0280;line-height:60px\">Analysis</b>",
           "",
           "[18000:23999]",
           "From <b>Oct-08-2020</b> to <b>Oct-20-2020</b>",
           0.1236,
           0.0215
          ],
          [
           "Estimated <b>true class: upmarket_card, predicted class: highstreet_card</b>",
           "<b style=\"color:#3b0280;line-height:60px\">Analysis</b>",
           "",
           "[24000:29999]",
           "From <b>Oct-20-2020</b> to <b>Nov-01-2020</b>",
           0.1215,
           0.0215
          ],
          [
           "Estimated <b>true class: upmarket_card, predicted class: highstreet_card</b>",
           "<b style=\"color:#3b0280;line-height:60px\">Analysis</b>",
           "<span style=\"color:#AD0000\">⚠ <b>Drift detected</b></span>",
           "[30000:35999]",
           "From <b>Nov-01-2020</b> to <b>Nov-14-2020</b>",
           0.1983,
           0.0215
          ],
          [
           "Estimated <b>true class: upmarket_card, predicted class: highstreet_card</b>",
           "<b style=\"color:#3b0280;line-height:60px\">Analysis</b>",
           "<span style=\"color:#AD0000\">⚠ <b>Drift detected</b></span>",
           "[36000:41999]",
           "From <b>Nov-14-2020</b> to <b>Nov-26-2020</b>",
           0.2059,
           0.0215
          ],
          [
           "Estimated <b>true class: upmarket_card, predicted class: highstreet_card</b>",
           "<b style=\"color:#3b0280;line-height:60px\">Analysis</b>",
           "<span style=\"color:#AD0000\">⚠ <b>Drift detected</b></span>",
           "[42000:47999]",
           "From <b>Nov-26-2020</b> to <b>Dec-08-2020</b>",
           0.211,
           0.0215
          ],
          [
           "Estimated <b>true class: upmarket_card, predicted class: highstreet_card</b>",
           "<b style=\"color:#3b0280;line-height:60px\">Analysis</b>",
           "<span style=\"color:#AD0000\">⚠ <b>Drift detected</b></span>",
           "[48000:53999]",
           "From <b>Dec-08-2020</b> to <b>Dec-20-2020</b>",
           0.1988,
           0.0215
          ],
          [
           "Estimated <b>true class: upmarket_card, predicted class: highstreet_card</b>",
           "<b style=\"color:#3b0280;line-height:60px\">Analysis</b>",
           "<span style=\"color:#AD0000\">⚠ <b>Drift detected</b></span>",
           "[54000:59999]",
           "From <b>Dec-20-2020</b> to <b>Jan-01-2021</b>",
           0.1992,
           0.0215
          ]
         ],
         "hovertemplate": "%{customdata[1]} &nbsp; &nbsp; %{customdata[2]} <br />Chunk: <b>%{customdata[3]}</b> &nbsp; &nbsp; %{customdata[4]} <br />%{customdata[0]}: <b>%{customdata[5]}</b><br />Confidence band: +/- <b>%{customdata[6]}</b><br /><extra></extra>",
         "legendgroup": "metric_analysis",
         "line": {
          "dash": "dash"
         },
         "marker": {
          "color": "#3b0280",
          "size": 5,
          "symbol": "circle"
         },
         "mode": "markers",
         "name": "Metric",
         "showlegend": false,
         "type": "scatter",
         "x": [
          "2020-09-07T09:42:46.500000",
          "2020-09-19T18:02:48",
          "2020-10-01T23:23:49",
          "2020-10-14T09:23:20",
          "2020-10-26T18:57:02.500000",
          "2020-11-08T01:00:24",
          "2020-11-20T06:37:35.500000",
          "2020-12-02T11:56:53.500000",
          "2020-12-14T16:32:47",
          "2020-12-26T20:44:32"
         ],
         "xaxis": "x8",
         "y": [
          0.12480423490156824,
          0.12894311885373919,
          0.11954626337878067,
          0.12359942065319027,
          0.12145551076078202,
          0.1982596951931466,
          0.20588176020740817,
          0.21104058166063294,
          0.19875327539815524,
          0.19917995353553902,
          0.19917995353553902
         ],
         "yaxis": "y8"
        },
        {
         "hoverinfo": "skip",
         "legendgroup": "alert",
         "marker": {
          "color": "#DD4040",
          "size": 8,
          "symbol": "diamond"
         },
         "mode": "markers",
         "name": "Alert",
         "showlegend": false,
         "type": "scatter",
         "x": [
          "2020-11-08T01:00:24",
          "2020-11-20T06:37:35.500000",
          "2020-12-02T11:56:53.500000",
          "2020-12-14T16:32:47",
          "2020-12-26T20:44:32"
         ],
         "xaxis": "x8",
         "y": [
          0.1982596951931466,
          0.20588176020740817,
          0.21104058166063294,
          0.19875327539815524,
          0.19917995353553902
         ],
         "yaxis": "y8"
        },
        {
         "hoverinfo": "skip",
         "legendgroup": "thresh",
         "line": {
          "color": "#DD4040",
          "dash": "dash",
          "width": 2
         },
         "mode": "lines",
         "name": "Threshold",
         "showlegend": false,
         "type": "scatter",
         "x": [
          "2020-05-02T02:01:30",
          "2020-05-14T12:29:25",
          "2020-05-26T18:31:06",
          "2020-06-07T19:58:39",
          "2020-06-19T19:44:14",
          "2020-07-02T02:06:56",
          "2020-07-14T08:14:08",
          "2020-07-26T12:57:37",
          "2020-08-07T16:33:44",
          "2020-08-20T00:07:58",
          "2020-09-01T03:03:23"
         ],
         "xaxis": "x8",
         "y": [
          0.13869049206684808,
          0.13869049206684808,
          0.13869049206684808,
          0.13869049206684808,
          0.13869049206684808,
          0.13869049206684808,
          0.13869049206684808,
          0.13869049206684808,
          0.13869049206684808,
          0.13869049206684808,
          0.13869049206684808
         ],
         "yaxis": "y8"
        },
        {
         "hoverinfo": "skip",
         "legendgroup": "thresh",
         "line": {
          "color": "#DD4040",
          "dash": "dash",
          "width": 2
         },
         "mode": "lines",
         "name": "Threshold",
         "showlegend": false,
         "type": "scatter",
         "x": [
          "2020-05-02T02:01:30",
          "2020-05-14T12:29:25",
          "2020-05-26T18:31:06",
          "2020-06-07T19:58:39",
          "2020-06-19T19:44:14",
          "2020-07-02T02:06:56",
          "2020-07-14T08:14:08",
          "2020-07-26T12:57:37",
          "2020-08-07T16:33:44",
          "2020-08-20T00:07:58",
          "2020-09-01T03:03:23"
         ],
         "xaxis": "x8",
         "y": [
          0.10463651546033674,
          0.10463651546033674,
          0.10463651546033674,
          0.10463651546033674,
          0.10463651546033674,
          0.10463651546033674,
          0.10463651546033674,
          0.10463651546033674,
          0.10463651546033674,
          0.10463651546033674,
          0.10463651546033674
         ],
         "yaxis": "y8"
        },
        {
         "hoverinfo": "skip",
         "legendgroup": "thresh",
         "line": {
          "color": "#DD4040",
          "dash": "dash",
          "width": 2
         },
         "mode": "lines",
         "name": "Threshold",
         "showlegend": false,
         "type": "scatter",
         "x": [
          "2020-09-01T03:10:01",
          "2020-09-13T16:15:32",
          "2020-09-25T19:50:04",
          "2020-10-08T02:57:34",
          "2020-10-20T15:49:06",
          "2020-11-01T22:04:59",
          "2020-11-14T03:55:49",
          "2020-11-26T09:19:22",
          "2020-12-08T14:34:25",
          "2020-12-20T18:31:09",
          "2021-01-01T22:57:55"
         ],
         "xaxis": "x8",
         "y": [
          0.13869049206684808,
          0.13869049206684808,
          0.13869049206684808,
          0.13869049206684808,
          0.13869049206684808,
          0.13869049206684808,
          0.13869049206684808,
          0.13869049206684808,
          0.13869049206684808,
          0.13869049206684808,
          0.13869049206684808
         ],
         "yaxis": "y8"
        },
        {
         "hoverinfo": "skip",
         "legendgroup": "thresh",
         "line": {
          "color": "#DD4040",
          "dash": "dash",
          "width": 2
         },
         "mode": "lines",
         "name": "Threshold",
         "showlegend": false,
         "type": "scatter",
         "x": [
          "2020-09-01T03:10:01",
          "2020-09-13T16:15:32",
          "2020-09-25T19:50:04",
          "2020-10-08T02:57:34",
          "2020-10-20T15:49:06",
          "2020-11-01T22:04:59",
          "2020-11-14T03:55:49",
          "2020-11-26T09:19:22",
          "2020-12-08T14:34:25",
          "2020-12-20T18:31:09",
          "2021-01-01T22:57:55"
         ],
         "xaxis": "x8",
         "y": [
          0.10463651546033674,
          0.10463651546033674,
          0.10463651546033674,
          0.10463651546033674,
          0.10463651546033674,
          0.10463651546033674,
          0.10463651546033674,
          0.10463651546033674,
          0.10463651546033674,
          0.10463651546033674,
          0.10463651546033674
         ],
         "yaxis": "y8"
        },
        {
         "hoverinfo": "skip",
         "line": {
          "color": "rgba(0,0,0,0)",
          "shape": "hv"
         },
         "mode": "lines",
         "name": "Confidence band",
         "showlegend": false,
         "type": "scatter",
         "x": [
          "2020-05-02T02:01:30",
          "2020-05-14T12:29:25",
          "2020-05-26T18:31:06",
          "2020-06-07T19:58:39",
          "2020-06-19T19:44:14",
          "2020-07-02T02:06:56",
          "2020-07-14T08:14:08",
          "2020-07-26T12:57:37",
          "2020-08-07T16:33:44",
          "2020-08-20T00:07:58",
          "2020-09-01T03:03:23"
         ],
         "xaxis": "x8",
         "y": [
          0.14580374842054059,
          0.15050158187111767,
          0.14608566220377328,
          0.15158760429665272,
          0.14214979724533072,
          0.1455313593973388,
          0.1485799949741687,
          0.14259106485099715,
          0.14108312252772856,
          0.14131736671548584,
          0.14131736671548584
         ],
         "yaxis": "y8"
        },
        {
         "fill": "tonexty",
         "fillcolor": "rgba(0.23137254901960785, 0.00784313725490196, 0.5019607843137255, 0.2)",
         "hoverinfo": "skip",
         "line": {
          "color": "rgba(0,0,0,0)",
          "shape": "hv"
         },
         "mode": "lines",
         "name": "Confidence band",
         "showlegend": false,
         "type": "scatter",
         "x": [
          "2020-05-02T02:01:30",
          "2020-05-14T12:29:25",
          "2020-05-26T18:31:06",
          "2020-06-07T19:58:39",
          "2020-06-19T19:44:14",
          "2020-07-02T02:06:56",
          "2020-07-14T08:14:08",
          "2020-07-26T12:57:37",
          "2020-08-07T16:33:44",
          "2020-08-20T00:07:58",
          "2020-09-01T03:03:23"
         ],
         "xaxis": "x8",
         "y": [
          0.10270416158629594,
          0.10740199503687303,
          0.10298607536952865,
          0.10848801746240808,
          0.09905021041108608,
          0.10243177256309415,
          0.10548040813992407,
          0.0994914780167525,
          0.09798353569348392,
          0.09821777988124118,
          0.09821777988124118
         ],
         "yaxis": "y8"
        },
        {
         "hoverinfo": "skip",
         "line": {
          "color": "rgba(0,0,0,0)",
          "shape": "hv"
         },
         "mode": "lines",
         "name": "Confidence band",
         "showlegend": false,
         "type": "scatter",
         "x": [
          "2020-09-01T03:10:01",
          "2020-09-13T16:15:32",
          "2020-09-25T19:50:04",
          "2020-10-08T02:57:34",
          "2020-10-20T15:49:06",
          "2020-11-01T22:04:59",
          "2020-11-14T03:55:49",
          "2020-11-26T09:19:22",
          "2020-12-08T14:34:25",
          "2020-12-20T18:31:09",
          "2021-01-01T22:57:55"
         ],
         "xaxis": "x8",
         "y": [
          0.14635402831869054,
          0.1504929122708615,
          0.14109605679590298,
          0.1451492140703126,
          0.14300530417790436,
          0.21980948861026892,
          0.2274315536245305,
          0.23259037507775526,
          0.22030306881527756,
          0.22072974695266134,
          0.22072974695266134
         ],
         "yaxis": "y8"
        },
        {
         "fill": "tonexty",
         "fillcolor": "rgba(0.23137254901960785, 0.00784313725490196, 0.5019607843137255, 0.2)",
         "hoverinfo": "skip",
         "line": {
          "color": "rgba(0,0,0,0)",
          "shape": "hv"
         },
         "mode": "lines",
         "name": "Confidence band",
         "showlegend": false,
         "type": "scatter",
         "x": [
          "2020-09-01T03:10:01",
          "2020-09-13T16:15:32",
          "2020-09-25T19:50:04",
          "2020-10-08T02:57:34",
          "2020-10-20T15:49:06",
          "2020-11-01T22:04:59",
          "2020-11-14T03:55:49",
          "2020-11-26T09:19:22",
          "2020-12-08T14:34:25",
          "2020-12-20T18:31:09",
          "2021-01-01T22:57:55"
         ],
         "xaxis": "x8",
         "y": [
          0.10325444148444592,
          0.10739332543661687,
          0.09799646996165835,
          0.10204962723606795,
          0.0999057173436597,
          0.17670990177602428,
          0.18433196679028585,
          0.18949078824351062,
          0.17720348198103292,
          0.1776301601184167,
          0.1776301601184167
         ],
         "yaxis": "y8"
        },
        {
         "hoverinfo": "skip",
         "legendgroup": "metric_reference",
         "line": {
          "color": "#3b0280",
          "dash": "dash",
          "shape": "hv",
          "width": 2
         },
         "mode": "lines",
         "name": "Metric",
         "showlegend": false,
         "type": "scatter",
         "x": [
          "2020-05-02T02:01:30",
          "2020-05-14T12:29:25",
          "2020-05-26T18:31:06",
          "2020-06-07T19:58:39",
          "2020-06-19T19:44:14",
          "2020-07-02T02:06:56",
          "2020-07-14T08:14:08",
          "2020-07-26T12:57:37",
          "2020-08-07T16:33:44",
          "2020-08-20T00:07:58",
          "2020-09-01T03:03:23"
         ],
         "xaxis": "x9",
         "y": [
          0.7572223283272482,
          0.7551706445102351,
          0.7564155474555703,
          0.7473856096769225,
          0.7622795385775525,
          0.7555849436573273,
          0.7501818858270968,
          0.7689585676892725,
          0.7665763417114039,
          0.7652207076824955,
          0.7652207076824955
         ],
         "yaxis": "y9"
        },
        {
         "customdata": [
          [
           "Estimated <b>true class: upmarket_card, predicted class: upmarket_card</b>",
           "<b style=\"color:#3b0280;line-height:60px\">Reference</b>",
           "",
           "[0:5999]",
           "From <b>May-02-2020</b> to <b>May-14-2020</b>",
           0.7572,
           0.0286
          ],
          [
           "Estimated <b>true class: upmarket_card, predicted class: upmarket_card</b>",
           "<b style=\"color:#3b0280;line-height:60px\">Reference</b>",
           "",
           "[6000:11999]",
           "From <b>May-14-2020</b> to <b>May-26-2020</b>",
           0.7552,
           0.0286
          ],
          [
           "Estimated <b>true class: upmarket_card, predicted class: upmarket_card</b>",
           "<b style=\"color:#3b0280;line-height:60px\">Reference</b>",
           "",
           "[12000:17999]",
           "From <b>May-26-2020</b> to <b>Jun-07-2020</b>",
           0.7564,
           0.0286
          ],
          [
           "Estimated <b>true class: upmarket_card, predicted class: upmarket_card</b>",
           "<b style=\"color:#3b0280;line-height:60px\">Reference</b>",
           "",
           "[18000:23999]",
           "From <b>Jun-07-2020</b> to <b>Jun-19-2020</b>",
           0.7474,
           0.0286
          ],
          [
           "Estimated <b>true class: upmarket_card, predicted class: upmarket_card</b>",
           "<b style=\"color:#3b0280;line-height:60px\">Reference</b>",
           "",
           "[24000:29999]",
           "From <b>Jun-19-2020</b> to <b>Jul-02-2020</b>",
           0.7623,
           0.0286
          ],
          [
           "Estimated <b>true class: upmarket_card, predicted class: upmarket_card</b>",
           "<b style=\"color:#3b0280;line-height:60px\">Reference</b>",
           "",
           "[30000:35999]",
           "From <b>Jul-02-2020</b> to <b>Jul-14-2020</b>",
           0.7556,
           0.0286
          ],
          [
           "Estimated <b>true class: upmarket_card, predicted class: upmarket_card</b>",
           "<b style=\"color:#3b0280;line-height:60px\">Reference</b>",
           "",
           "[36000:41999]",
           "From <b>Jul-14-2020</b> to <b>Jul-26-2020</b>",
           0.7502,
           0.0286
          ],
          [
           "Estimated <b>true class: upmarket_card, predicted class: upmarket_card</b>",
           "<b style=\"color:#3b0280;line-height:60px\">Reference</b>",
           "",
           "[42000:47999]",
           "From <b>Jul-26-2020</b> to <b>Aug-07-2020</b>",
           0.769,
           0.0286
          ],
          [
           "Estimated <b>true class: upmarket_card, predicted class: upmarket_card</b>",
           "<b style=\"color:#3b0280;line-height:60px\">Reference</b>",
           "",
           "[48000:53999]",
           "From <b>Aug-07-2020</b> to <b>Aug-20-2020</b>",
           0.7666,
           0.0286
          ],
          [
           "Estimated <b>true class: upmarket_card, predicted class: upmarket_card</b>",
           "<b style=\"color:#3b0280;line-height:60px\">Reference</b>",
           "",
           "[54000:59999]",
           "From <b>Aug-20-2020</b> to <b>Sep-01-2020</b>",
           0.7652,
           0.0286
          ]
         ],
         "hovertemplate": "%{customdata[1]} &nbsp; &nbsp; %{customdata[2]} <br />Chunk: <b>%{customdata[3]}</b> &nbsp; &nbsp; %{customdata[4]} <br />%{customdata[0]}: <b>%{customdata[5]}</b><br />Confidence band: +/- <b>%{customdata[6]}</b><br /><extra></extra>",
         "legendgroup": "metric_reference",
         "line": {
          "dash": "dash"
         },
         "marker": {
          "color": "#3b0280",
          "size": 5,
          "symbol": "circle"
         },
         "mode": "markers",
         "name": "Metric",
         "showlegend": false,
         "type": "scatter",
         "x": [
          "2020-05-08T07:15:27.500000",
          "2020-05-20T15:30:15.500000",
          "2020-06-01T19:14:52.500000",
          "2020-06-13T19:51:26.500000",
          "2020-06-25T22:55:35",
          "2020-07-08T05:10:32",
          "2020-07-20T10:35:52.500000",
          "2020-08-01T14:45:40.500000",
          "2020-08-13T20:20:51",
          "2020-08-26T01:35:40.500000"
         ],
         "xaxis": "x9",
         "y": [
          0.7572223283272482,
          0.7551706445102351,
          0.7564155474555703,
          0.7473856096769225,
          0.7622795385775525,
          0.7555849436573273,
          0.7501818858270968,
          0.7689585676892725,
          0.7665763417114039,
          0.7652207076824955,
          0.7652207076824955
         ],
         "yaxis": "y9"
        },
        {
         "hoverinfo": "skip",
         "legendgroup": "metric_analysis",
         "line": {
          "color": "#3b0280",
          "dash": "dash",
          "shape": "hv",
          "width": 2
         },
         "mode": "lines",
         "name": "Metric",
         "showlegend": false,
         "type": "scatter",
         "x": [
          "2020-09-01T03:10:01",
          "2020-09-13T16:15:32",
          "2020-09-25T19:50:04",
          "2020-10-08T02:57:34",
          "2020-10-20T15:49:06",
          "2020-11-01T22:04:59",
          "2020-11-14T03:55:49",
          "2020-11-26T09:19:22",
          "2020-12-08T14:34:25",
          "2020-12-20T18:31:09",
          "2021-01-01T22:57:55"
         ],
         "xaxis": "x9",
         "y": [
          0.7530047101747355,
          0.7533221944245928,
          0.7628847093042112,
          0.7617899831795328,
          0.7648624327085911,
          0.6460277489070938,
          0.6329324191480353,
          0.6360157875976776,
          0.6487734917729714,
          0.6466917441175697,
          0.6466917441175697
         ],
         "yaxis": "y9"
        },
        {
         "customdata": [
          [
           "Estimated <b>true class: upmarket_card, predicted class: upmarket_card</b>",
           "<b style=\"color:#3b0280;line-height:60px\">Analysis</b>",
           "",
           "[0:5999]",
           "From <b>Sep-01-2020</b> to <b>Sep-13-2020</b>",
           0.753,
           0.0286
          ],
          [
           "Estimated <b>true class: upmarket_card, predicted class: upmarket_card</b>",
           "<b style=\"color:#3b0280;line-height:60px\">Analysis</b>",
           "",
           "[6000:11999]",
           "From <b>Sep-13-2020</b> to <b>Sep-25-2020</b>",
           0.7533,
           0.0286
          ],
          [
           "Estimated <b>true class: upmarket_card, predicted class: upmarket_card</b>",
           "<b style=\"color:#3b0280;line-height:60px\">Analysis</b>",
           "",
           "[12000:17999]",
           "From <b>Sep-25-2020</b> to <b>Oct-08-2020</b>",
           0.7629,
           0.0286
          ],
          [
           "Estimated <b>true class: upmarket_card, predicted class: upmarket_card</b>",
           "<b style=\"color:#3b0280;line-height:60px\">Analysis</b>",
           "",
           "[18000:23999]",
           "From <b>Oct-08-2020</b> to <b>Oct-20-2020</b>",
           0.7618,
           0.0286
          ],
          [
           "Estimated <b>true class: upmarket_card, predicted class: upmarket_card</b>",
           "<b style=\"color:#3b0280;line-height:60px\">Analysis</b>",
           "",
           "[24000:29999]",
           "From <b>Oct-20-2020</b> to <b>Nov-01-2020</b>",
           0.7649,
           0.0286
          ],
          [
           "Estimated <b>true class: upmarket_card, predicted class: upmarket_card</b>",
           "<b style=\"color:#3b0280;line-height:60px\">Analysis</b>",
           "<span style=\"color:#AD0000\">⚠ <b>Drift detected</b></span>",
           "[30000:35999]",
           "From <b>Nov-01-2020</b> to <b>Nov-14-2020</b>",
           0.646,
           0.0286
          ],
          [
           "Estimated <b>true class: upmarket_card, predicted class: upmarket_card</b>",
           "<b style=\"color:#3b0280;line-height:60px\">Analysis</b>",
           "<span style=\"color:#AD0000\">⚠ <b>Drift detected</b></span>",
           "[36000:41999]",
           "From <b>Nov-14-2020</b> to <b>Nov-26-2020</b>",
           0.6329,
           0.0286
          ],
          [
           "Estimated <b>true class: upmarket_card, predicted class: upmarket_card</b>",
           "<b style=\"color:#3b0280;line-height:60px\">Analysis</b>",
           "<span style=\"color:#AD0000\">⚠ <b>Drift detected</b></span>",
           "[42000:47999]",
           "From <b>Nov-26-2020</b> to <b>Dec-08-2020</b>",
           0.636,
           0.0286
          ],
          [
           "Estimated <b>true class: upmarket_card, predicted class: upmarket_card</b>",
           "<b style=\"color:#3b0280;line-height:60px\">Analysis</b>",
           "<span style=\"color:#AD0000\">⚠ <b>Drift detected</b></span>",
           "[48000:53999]",
           "From <b>Dec-08-2020</b> to <b>Dec-20-2020</b>",
           0.6488,
           0.0286
          ],
          [
           "Estimated <b>true class: upmarket_card, predicted class: upmarket_card</b>",
           "<b style=\"color:#3b0280;line-height:60px\">Analysis</b>",
           "<span style=\"color:#AD0000\">⚠ <b>Drift detected</b></span>",
           "[54000:59999]",
           "From <b>Dec-20-2020</b> to <b>Jan-01-2021</b>",
           0.6467,
           0.0286
          ]
         ],
         "hovertemplate": "%{customdata[1]} &nbsp; &nbsp; %{customdata[2]} <br />Chunk: <b>%{customdata[3]}</b> &nbsp; &nbsp; %{customdata[4]} <br />%{customdata[0]}: <b>%{customdata[5]}</b><br />Confidence band: +/- <b>%{customdata[6]}</b><br /><extra></extra>",
         "legendgroup": "metric_analysis",
         "line": {
          "dash": "dash"
         },
         "marker": {
          "color": "#3b0280",
          "size": 5,
          "symbol": "circle"
         },
         "mode": "markers",
         "name": "Metric",
         "showlegend": false,
         "type": "scatter",
         "x": [
          "2020-09-07T09:42:46.500000",
          "2020-09-19T18:02:48",
          "2020-10-01T23:23:49",
          "2020-10-14T09:23:20",
          "2020-10-26T18:57:02.500000",
          "2020-11-08T01:00:24",
          "2020-11-20T06:37:35.500000",
          "2020-12-02T11:56:53.500000",
          "2020-12-14T16:32:47",
          "2020-12-26T20:44:32"
         ],
         "xaxis": "x9",
         "y": [
          0.7530047101747355,
          0.7533221944245928,
          0.7628847093042112,
          0.7617899831795328,
          0.7648624327085911,
          0.6460277489070938,
          0.6329324191480353,
          0.6360157875976776,
          0.6487734917729714,
          0.6466917441175697,
          0.6466917441175697
         ],
         "yaxis": "y9"
        },
        {
         "hoverinfo": "skip",
         "legendgroup": "alert",
         "marker": {
          "color": "#DD4040",
          "size": 8,
          "symbol": "diamond"
         },
         "mode": "markers",
         "name": "Alert",
         "showlegend": false,
         "type": "scatter",
         "x": [
          "2020-11-08T01:00:24",
          "2020-11-20T06:37:35.500000",
          "2020-12-02T11:56:53.500000",
          "2020-12-14T16:32:47",
          "2020-12-26T20:44:32"
         ],
         "xaxis": "x9",
         "y": [
          0.6460277489070938,
          0.6329324191480353,
          0.6360157875976776,
          0.6487734917729714,
          0.6466917441175697
         ],
         "yaxis": "y9"
        },
        {
         "hoverinfo": "skip",
         "legendgroup": "thresh",
         "line": {
          "color": "#DD4040",
          "dash": "dash",
          "width": 2
         },
         "mode": "lines",
         "name": "Threshold",
         "showlegend": false,
         "type": "scatter",
         "x": [
          "2020-05-02T02:01:30",
          "2020-05-14T12:29:25",
          "2020-05-26T18:31:06",
          "2020-06-07T19:58:39",
          "2020-06-19T19:44:14",
          "2020-07-02T02:06:56",
          "2020-07-14T08:14:08",
          "2020-07-26T12:57:37",
          "2020-08-07T16:33:44",
          "2020-08-20T00:07:58",
          "2020-09-01T03:03:23"
         ],
         "xaxis": "x9",
         "y": [
          0.7854905635160485,
          0.7854905635160485,
          0.7854905635160485,
          0.7854905635160485,
          0.7854905635160485,
          0.7854905635160485,
          0.7854905635160485,
          0.7854905635160485,
          0.7854905635160485,
          0.7854905635160485,
          0.7854905635160485
         ],
         "yaxis": "y9"
        },
        {
         "hoverinfo": "skip",
         "legendgroup": "thresh",
         "line": {
          "color": "#DD4040",
          "dash": "dash",
          "width": 2
         },
         "mode": "lines",
         "name": "Threshold",
         "showlegend": false,
         "type": "scatter",
         "x": [
          "2020-05-02T02:01:30",
          "2020-05-14T12:29:25",
          "2020-05-26T18:31:06",
          "2020-06-07T19:58:39",
          "2020-06-19T19:44:14",
          "2020-07-02T02:06:56",
          "2020-07-14T08:14:08",
          "2020-07-26T12:57:37",
          "2020-08-07T16:33:44",
          "2020-08-20T00:07:58",
          "2020-09-01T03:03:23"
         ],
         "xaxis": "x9",
         "y": [
          0.7383726164098321,
          0.7383726164098321,
          0.7383726164098321,
          0.7383726164098321,
          0.7383726164098321,
          0.7383726164098321,
          0.7383726164098321,
          0.7383726164098321,
          0.7383726164098321,
          0.7383726164098321,
          0.7383726164098321
         ],
         "yaxis": "y9"
        },
        {
         "hoverinfo": "skip",
         "legendgroup": "thresh",
         "line": {
          "color": "#DD4040",
          "dash": "dash",
          "width": 2
         },
         "mode": "lines",
         "name": "Threshold",
         "showlegend": false,
         "type": "scatter",
         "x": [
          "2020-09-01T03:10:01",
          "2020-09-13T16:15:32",
          "2020-09-25T19:50:04",
          "2020-10-08T02:57:34",
          "2020-10-20T15:49:06",
          "2020-11-01T22:04:59",
          "2020-11-14T03:55:49",
          "2020-11-26T09:19:22",
          "2020-12-08T14:34:25",
          "2020-12-20T18:31:09",
          "2021-01-01T22:57:55"
         ],
         "xaxis": "x9",
         "y": [
          0.7854905635160485,
          0.7854905635160485,
          0.7854905635160485,
          0.7854905635160485,
          0.7854905635160485,
          0.7854905635160485,
          0.7854905635160485,
          0.7854905635160485,
          0.7854905635160485,
          0.7854905635160485,
          0.7854905635160485
         ],
         "yaxis": "y9"
        },
        {
         "hoverinfo": "skip",
         "legendgroup": "thresh",
         "line": {
          "color": "#DD4040",
          "dash": "dash",
          "width": 2
         },
         "mode": "lines",
         "name": "Threshold",
         "showlegend": false,
         "type": "scatter",
         "x": [
          "2020-09-01T03:10:01",
          "2020-09-13T16:15:32",
          "2020-09-25T19:50:04",
          "2020-10-08T02:57:34",
          "2020-10-20T15:49:06",
          "2020-11-01T22:04:59",
          "2020-11-14T03:55:49",
          "2020-11-26T09:19:22",
          "2020-12-08T14:34:25",
          "2020-12-20T18:31:09",
          "2021-01-01T22:57:55"
         ],
         "xaxis": "x9",
         "y": [
          0.7383726164098321,
          0.7383726164098321,
          0.7383726164098321,
          0.7383726164098321,
          0.7383726164098321,
          0.7383726164098321,
          0.7383726164098321,
          0.7383726164098321,
          0.7383726164098321,
          0.7383726164098321,
          0.7383726164098321
         ],
         "yaxis": "y9"
        },
        {
         "hoverinfo": "skip",
         "line": {
          "color": "rgba(0,0,0,0)",
          "shape": "hv"
         },
         "mode": "lines",
         "name": "Confidence band",
         "showlegend": false,
         "type": "scatter",
         "x": [
          "2020-05-02T02:01:30",
          "2020-05-14T12:29:25",
          "2020-05-26T18:31:06",
          "2020-06-07T19:58:39",
          "2020-06-19T19:44:14",
          "2020-07-02T02:06:56",
          "2020-07-14T08:14:08",
          "2020-07-26T12:57:37",
          "2020-08-07T16:33:44",
          "2020-08-20T00:07:58",
          "2020-09-01T03:03:23"
         ],
         "xaxis": "x9",
         "y": [
          0.785838199444009,
          0.7837865156269959,
          0.785031418572331,
          0.7760014807936833,
          0.7908954096943133,
          0.7842008147740881,
          0.7787977569438576,
          0.7975744388060333,
          0.7951922128281647,
          0.7938365787992563,
          0.7938365787992563
         ],
         "yaxis": "y9"
        },
        {
         "fill": "tonexty",
         "fillcolor": "rgba(0.23137254901960785, 0.00784313725490196, 0.5019607843137255, 0.2)",
         "hoverinfo": "skip",
         "line": {
          "color": "rgba(0,0,0,0)",
          "shape": "hv"
         },
         "mode": "lines",
         "name": "Confidence band",
         "showlegend": false,
         "type": "scatter",
         "x": [
          "2020-05-02T02:01:30",
          "2020-05-14T12:29:25",
          "2020-05-26T18:31:06",
          "2020-06-07T19:58:39",
          "2020-06-19T19:44:14",
          "2020-07-02T02:06:56",
          "2020-07-14T08:14:08",
          "2020-07-26T12:57:37",
          "2020-08-07T16:33:44",
          "2020-08-20T00:07:58",
          "2020-09-01T03:03:23"
         ],
         "xaxis": "x9",
         "y": [
          0.7286064572104874,
          0.7265547733934743,
          0.7277996763388095,
          0.7187697385601617,
          0.7336636674607917,
          0.7269690725405665,
          0.721566014710336,
          0.7403426965725117,
          0.7379604705946431,
          0.7366048365657347,
          0.7366048365657347
         ],
         "yaxis": "y9"
        },
        {
         "hoverinfo": "skip",
         "line": {
          "color": "rgba(0,0,0,0)",
          "shape": "hv"
         },
         "mode": "lines",
         "name": "Confidence band",
         "showlegend": false,
         "type": "scatter",
         "x": [
          "2020-09-01T03:10:01",
          "2020-09-13T16:15:32",
          "2020-09-25T19:50:04",
          "2020-10-08T02:57:34",
          "2020-10-20T15:49:06",
          "2020-11-01T22:04:59",
          "2020-11-14T03:55:49",
          "2020-11-26T09:19:22",
          "2020-12-08T14:34:25",
          "2020-12-20T18:31:09",
          "2021-01-01T22:57:55"
         ],
         "xaxis": "x9",
         "y": [
          0.7816205812914963,
          0.7819380655413536,
          0.7915005804209719,
          0.7904058542962936,
          0.7934783038253519,
          0.6746436200238546,
          0.6615482902647961,
          0.6646316587144384,
          0.6773893628897322,
          0.6753076152343305,
          0.6753076152343305
         ],
         "yaxis": "y9"
        },
        {
         "fill": "tonexty",
         "fillcolor": "rgba(0.23137254901960785, 0.00784313725490196, 0.5019607843137255, 0.2)",
         "hoverinfo": "skip",
         "line": {
          "color": "rgba(0,0,0,0)",
          "shape": "hv"
         },
         "mode": "lines",
         "name": "Confidence band",
         "showlegend": false,
         "type": "scatter",
         "x": [
          "2020-09-01T03:10:01",
          "2020-09-13T16:15:32",
          "2020-09-25T19:50:04",
          "2020-10-08T02:57:34",
          "2020-10-20T15:49:06",
          "2020-11-01T22:04:59",
          "2020-11-14T03:55:49",
          "2020-11-26T09:19:22",
          "2020-12-08T14:34:25",
          "2020-12-20T18:31:09",
          "2021-01-01T22:57:55"
         ],
         "xaxis": "x9",
         "y": [
          0.7243888390579747,
          0.724706323307832,
          0.7342688381874504,
          0.733174112062772,
          0.7362465615918303,
          0.617411877790333,
          0.6043165480312745,
          0.6073999164809168,
          0.6201576206562106,
          0.6180758730008089,
          0.6180758730008089
         ],
         "yaxis": "y9"
        }
       ],
       "layout": {
        "annotations": [
         {
          "font": {
           "size": 16
          },
          "showarrow": false,
          "text": "Estimated <b>true class: prepaid_card, predicted class: prepaid_card</b>",
          "x": 0.5,
          "xanchor": "center",
          "xref": "paper",
          "y": 1,
          "yanchor": "bottom",
          "yref": "paper"
         },
         {
          "font": {
           "size": 16
          },
          "showarrow": false,
          "text": "Estimated <b>true class: prepaid_card, predicted class: highstreet_card</b>",
          "x": 0.5,
          "xanchor": "center",
          "xref": "paper",
          "y": 0.8827160493827161,
          "yanchor": "bottom",
          "yref": "paper"
         },
         {
          "font": {
           "size": 16
          },
          "showarrow": false,
          "text": "Estimated <b>true class: prepaid_card, predicted class: upmarket_card</b>",
          "x": 0.5,
          "xanchor": "center",
          "xref": "paper",
          "y": 0.7654320987654322,
          "yanchor": "bottom",
          "yref": "paper"
         },
         {
          "font": {
           "size": 16
          },
          "showarrow": false,
          "text": "Estimated <b>true class: highstreet_card, predicted class: prepaid_card</b>",
          "x": 0.5,
          "xanchor": "center",
          "xref": "paper",
          "y": 0.6481481481481483,
          "yanchor": "bottom",
          "yref": "paper"
         },
         {
          "font": {
           "size": 16
          },
          "showarrow": false,
          "text": "Estimated <b>true class: highstreet_card, predicted class: highstreet_card</b>",
          "x": 0.5,
          "xanchor": "center",
          "xref": "paper",
          "y": 0.5308641975308642,
          "yanchor": "bottom",
          "yref": "paper"
         },
         {
          "font": {
           "size": 16
          },
          "showarrow": false,
          "text": "Estimated <b>true class: highstreet_card, predicted class: upmarket_card</b>",
          "x": 0.5,
          "xanchor": "center",
          "xref": "paper",
          "y": 0.41358024691358025,
          "yanchor": "bottom",
          "yref": "paper"
         },
         {
          "font": {
           "size": 16
          },
          "showarrow": false,
          "text": "Estimated <b>true class: upmarket_card, predicted class: prepaid_card</b>",
          "x": 0.5,
          "xanchor": "center",
          "xref": "paper",
          "y": 0.2962962962962963,
          "yanchor": "bottom",
          "yref": "paper"
         },
         {
          "font": {
           "size": 16
          },
          "showarrow": false,
          "text": "Estimated <b>true class: upmarket_card, predicted class: highstreet_card</b>",
          "x": 0.5,
          "xanchor": "center",
          "xref": "paper",
          "y": 0.17901234567901234,
          "yanchor": "bottom",
          "yref": "paper"
         },
         {
          "font": {
           "size": 16
          },
          "showarrow": false,
          "text": "Estimated <b>true class: upmarket_card, predicted class: upmarket_card</b>",
          "x": 0.5,
          "xanchor": "center",
          "xref": "paper",
          "y": 0.0617283950617284,
          "yanchor": "bottom",
          "yref": "paper"
         },
         {
          "showarrow": false,
          "text": "Reference",
          "x": "2020-06-26T01:40:31.700000",
          "xref": "x",
          "xshift": 10,
          "y": 1.01,
          "yref": "y domain"
         },
         {
          "showarrow": false,
          "text": "Analysis",
          "x": "2020-10-26T15:02:48.100000",
          "xref": "x",
          "xshift": 15,
          "y": 1.01,
          "yref": "y domain"
         },
         {
          "showarrow": false,
          "text": "Reference",
          "x": "2020-06-26T01:40:31.700000",
          "xref": "x2",
          "xshift": 10,
          "y": 1.01,
          "yref": "y2 domain"
         },
         {
          "showarrow": false,
          "text": "Analysis",
          "x": "2020-10-26T15:02:48.100000",
          "xref": "x2",
          "xshift": 15,
          "y": 1.01,
          "yref": "y2 domain"
         },
         {
          "showarrow": false,
          "text": "Reference",
          "x": "2020-06-26T01:40:31.700000",
          "xref": "x3",
          "xshift": 10,
          "y": 1.01,
          "yref": "y3 domain"
         },
         {
          "showarrow": false,
          "text": "Analysis",
          "x": "2020-10-26T15:02:48.100000",
          "xref": "x3",
          "xshift": 15,
          "y": 1.01,
          "yref": "y3 domain"
         },
         {
          "showarrow": false,
          "text": "Reference",
          "x": "2020-06-26T01:40:31.700000",
          "xref": "x4",
          "xshift": 10,
          "y": 1.01,
          "yref": "y4 domain"
         },
         {
          "showarrow": false,
          "text": "Analysis",
          "x": "2020-10-26T15:02:48.100000",
          "xref": "x4",
          "xshift": 15,
          "y": 1.01,
          "yref": "y4 domain"
         },
         {
          "showarrow": false,
          "text": "Reference",
          "x": "2020-06-26T01:40:31.700000",
          "xref": "x5",
          "xshift": 10,
          "y": 1.01,
          "yref": "y5 domain"
         },
         {
          "showarrow": false,
          "text": "Analysis",
          "x": "2020-10-26T15:02:48.100000",
          "xref": "x5",
          "xshift": 15,
          "y": 1.01,
          "yref": "y5 domain"
         },
         {
          "showarrow": false,
          "text": "Reference",
          "x": "2020-06-26T01:40:31.700000",
          "xref": "x6",
          "xshift": 10,
          "y": 1.01,
          "yref": "y6 domain"
         },
         {
          "showarrow": false,
          "text": "Analysis",
          "x": "2020-10-26T15:02:48.100000",
          "xref": "x6",
          "xshift": 15,
          "y": 1.01,
          "yref": "y6 domain"
         },
         {
          "showarrow": false,
          "text": "Reference",
          "x": "2020-06-26T01:40:31.700000",
          "xref": "x7",
          "xshift": 10,
          "y": 1.01,
          "yref": "y7 domain"
         },
         {
          "showarrow": false,
          "text": "Analysis",
          "x": "2020-10-26T15:02:48.100000",
          "xref": "x7",
          "xshift": 15,
          "y": 1.01,
          "yref": "y7 domain"
         },
         {
          "showarrow": false,
          "text": "Reference",
          "x": "2020-06-26T01:40:31.700000",
          "xref": "x8",
          "xshift": 10,
          "y": 1.01,
          "yref": "y8 domain"
         },
         {
          "showarrow": false,
          "text": "Analysis",
          "x": "2020-10-26T15:02:48.100000",
          "xref": "x8",
          "xshift": 15,
          "y": 1.01,
          "yref": "y8 domain"
         },
         {
          "showarrow": false,
          "text": "Reference",
          "x": "2020-06-26T01:40:31.700000",
          "xref": "x9",
          "xshift": 10,
          "y": 1.01,
          "yref": "y9 domain"
         },
         {
          "showarrow": false,
          "text": "Analysis",
          "x": "2020-10-26T15:02:48.100000",
          "xref": "x9",
          "xshift": 15,
          "y": 1.01,
          "yref": "y9 domain"
         }
        ],
        "height": 4500,
        "hoverlabel": {
         "bgcolor": "white",
         "font": {
          "size": 14
         }
        },
        "legend": {
         "itemclick": false,
         "itemdoubleclick": false,
         "traceorder": "grouped"
        },
        "paper_bgcolor": "rgba(255,255,255,1)",
        "plot_bgcolor": "rgba(255,255,255,1)",
        "shapes": [
         {
          "layer": "below",
          "line": {
           "color": "#666666",
           "width": 1
          },
          "type": "line",
          "x0": "2020-09-01T03:10:01",
          "x1": "2020-09-01T03:10:01",
          "xref": "x",
          "y0": 0,
          "y1": 1,
          "yref": "y domain"
         },
         {
          "layer": "below",
          "line": {
           "color": "#666666",
           "width": 1
          },
          "type": "line",
          "x0": "2020-09-01T03:10:01",
          "x1": "2020-09-01T03:10:01",
          "xref": "x",
          "y0": 0,
          "y1": 1,
          "yref": "y domain"
         },
         {
          "layer": "below",
          "line": {
           "color": "#666666",
           "width": 1
          },
          "type": "line",
          "x0": "2020-09-01T03:10:01",
          "x1": "2020-09-01T03:10:01",
          "xref": "x2",
          "y0": 0,
          "y1": 1,
          "yref": "y2 domain"
         },
         {
          "layer": "below",
          "line": {
           "color": "#666666",
           "width": 1
          },
          "type": "line",
          "x0": "2020-09-01T03:10:01",
          "x1": "2020-09-01T03:10:01",
          "xref": "x",
          "y0": 0,
          "y1": 1,
          "yref": "y domain"
         },
         {
          "layer": "below",
          "line": {
           "color": "#666666",
           "width": 1
          },
          "type": "line",
          "x0": "2020-09-01T03:10:01",
          "x1": "2020-09-01T03:10:01",
          "xref": "x2",
          "y0": 0,
          "y1": 1,
          "yref": "y2 domain"
         },
         {
          "layer": "below",
          "line": {
           "color": "#666666",
           "width": 1
          },
          "type": "line",
          "x0": "2020-09-01T03:10:01",
          "x1": "2020-09-01T03:10:01",
          "xref": "x3",
          "y0": 0,
          "y1": 1,
          "yref": "y3 domain"
         },
         {
          "layer": "below",
          "line": {
           "color": "#666666",
           "width": 1
          },
          "type": "line",
          "x0": "2020-09-01T03:10:01",
          "x1": "2020-09-01T03:10:01",
          "xref": "x",
          "y0": 0,
          "y1": 1,
          "yref": "y domain"
         },
         {
          "layer": "below",
          "line": {
           "color": "#666666",
           "width": 1
          },
          "type": "line",
          "x0": "2020-09-01T03:10:01",
          "x1": "2020-09-01T03:10:01",
          "xref": "x2",
          "y0": 0,
          "y1": 1,
          "yref": "y2 domain"
         },
         {
          "layer": "below",
          "line": {
           "color": "#666666",
           "width": 1
          },
          "type": "line",
          "x0": "2020-09-01T03:10:01",
          "x1": "2020-09-01T03:10:01",
          "xref": "x3",
          "y0": 0,
          "y1": 1,
          "yref": "y3 domain"
         },
         {
          "layer": "below",
          "line": {
           "color": "#666666",
           "width": 1
          },
          "type": "line",
          "x0": "2020-09-01T03:10:01",
          "x1": "2020-09-01T03:10:01",
          "xref": "x4",
          "y0": 0,
          "y1": 1,
          "yref": "y4 domain"
         },
         {
          "layer": "below",
          "line": {
           "color": "#666666",
           "width": 1
          },
          "type": "line",
          "x0": "2020-09-01T03:10:01",
          "x1": "2020-09-01T03:10:01",
          "xref": "x",
          "y0": 0,
          "y1": 1,
          "yref": "y domain"
         },
         {
          "layer": "below",
          "line": {
           "color": "#666666",
           "width": 1
          },
          "type": "line",
          "x0": "2020-09-01T03:10:01",
          "x1": "2020-09-01T03:10:01",
          "xref": "x2",
          "y0": 0,
          "y1": 1,
          "yref": "y2 domain"
         },
         {
          "layer": "below",
          "line": {
           "color": "#666666",
           "width": 1
          },
          "type": "line",
          "x0": "2020-09-01T03:10:01",
          "x1": "2020-09-01T03:10:01",
          "xref": "x3",
          "y0": 0,
          "y1": 1,
          "yref": "y3 domain"
         },
         {
          "layer": "below",
          "line": {
           "color": "#666666",
           "width": 1
          },
          "type": "line",
          "x0": "2020-09-01T03:10:01",
          "x1": "2020-09-01T03:10:01",
          "xref": "x4",
          "y0": 0,
          "y1": 1,
          "yref": "y4 domain"
         },
         {
          "layer": "below",
          "line": {
           "color": "#666666",
           "width": 1
          },
          "type": "line",
          "x0": "2020-09-01T03:10:01",
          "x1": "2020-09-01T03:10:01",
          "xref": "x5",
          "y0": 0,
          "y1": 1,
          "yref": "y5 domain"
         },
         {
          "layer": "below",
          "line": {
           "color": "#666666",
           "width": 1
          },
          "type": "line",
          "x0": "2020-09-01T03:10:01",
          "x1": "2020-09-01T03:10:01",
          "xref": "x",
          "y0": 0,
          "y1": 1,
          "yref": "y domain"
         },
         {
          "layer": "below",
          "line": {
           "color": "#666666",
           "width": 1
          },
          "type": "line",
          "x0": "2020-09-01T03:10:01",
          "x1": "2020-09-01T03:10:01",
          "xref": "x2",
          "y0": 0,
          "y1": 1,
          "yref": "y2 domain"
         },
         {
          "layer": "below",
          "line": {
           "color": "#666666",
           "width": 1
          },
          "type": "line",
          "x0": "2020-09-01T03:10:01",
          "x1": "2020-09-01T03:10:01",
          "xref": "x3",
          "y0": 0,
          "y1": 1,
          "yref": "y3 domain"
         },
         {
          "layer": "below",
          "line": {
           "color": "#666666",
           "width": 1
          },
          "type": "line",
          "x0": "2020-09-01T03:10:01",
          "x1": "2020-09-01T03:10:01",
          "xref": "x4",
          "y0": 0,
          "y1": 1,
          "yref": "y4 domain"
         },
         {
          "layer": "below",
          "line": {
           "color": "#666666",
           "width": 1
          },
          "type": "line",
          "x0": "2020-09-01T03:10:01",
          "x1": "2020-09-01T03:10:01",
          "xref": "x5",
          "y0": 0,
          "y1": 1,
          "yref": "y5 domain"
         },
         {
          "layer": "below",
          "line": {
           "color": "#666666",
           "width": 1
          },
          "type": "line",
          "x0": "2020-09-01T03:10:01",
          "x1": "2020-09-01T03:10:01",
          "xref": "x6",
          "y0": 0,
          "y1": 1,
          "yref": "y6 domain"
         },
         {
          "layer": "below",
          "line": {
           "color": "#666666",
           "width": 1
          },
          "type": "line",
          "x0": "2020-09-01T03:10:01",
          "x1": "2020-09-01T03:10:01",
          "xref": "x",
          "y0": 0,
          "y1": 1,
          "yref": "y domain"
         },
         {
          "layer": "below",
          "line": {
           "color": "#666666",
           "width": 1
          },
          "type": "line",
          "x0": "2020-09-01T03:10:01",
          "x1": "2020-09-01T03:10:01",
          "xref": "x2",
          "y0": 0,
          "y1": 1,
          "yref": "y2 domain"
         },
         {
          "layer": "below",
          "line": {
           "color": "#666666",
           "width": 1
          },
          "type": "line",
          "x0": "2020-09-01T03:10:01",
          "x1": "2020-09-01T03:10:01",
          "xref": "x3",
          "y0": 0,
          "y1": 1,
          "yref": "y3 domain"
         },
         {
          "layer": "below",
          "line": {
           "color": "#666666",
           "width": 1
          },
          "type": "line",
          "x0": "2020-09-01T03:10:01",
          "x1": "2020-09-01T03:10:01",
          "xref": "x4",
          "y0": 0,
          "y1": 1,
          "yref": "y4 domain"
         },
         {
          "layer": "below",
          "line": {
           "color": "#666666",
           "width": 1
          },
          "type": "line",
          "x0": "2020-09-01T03:10:01",
          "x1": "2020-09-01T03:10:01",
          "xref": "x5",
          "y0": 0,
          "y1": 1,
          "yref": "y5 domain"
         },
         {
          "layer": "below",
          "line": {
           "color": "#666666",
           "width": 1
          },
          "type": "line",
          "x0": "2020-09-01T03:10:01",
          "x1": "2020-09-01T03:10:01",
          "xref": "x6",
          "y0": 0,
          "y1": 1,
          "yref": "y6 domain"
         },
         {
          "layer": "below",
          "line": {
           "color": "#666666",
           "width": 1
          },
          "type": "line",
          "x0": "2020-09-01T03:10:01",
          "x1": "2020-09-01T03:10:01",
          "xref": "x7",
          "y0": 0,
          "y1": 1,
          "yref": "y7 domain"
         },
         {
          "layer": "below",
          "line": {
           "color": "#666666",
           "width": 1
          },
          "type": "line",
          "x0": "2020-09-01T03:10:01",
          "x1": "2020-09-01T03:10:01",
          "xref": "x",
          "y0": 0,
          "y1": 1,
          "yref": "y domain"
         },
         {
          "layer": "below",
          "line": {
           "color": "#666666",
           "width": 1
          },
          "type": "line",
          "x0": "2020-09-01T03:10:01",
          "x1": "2020-09-01T03:10:01",
          "xref": "x2",
          "y0": 0,
          "y1": 1,
          "yref": "y2 domain"
         },
         {
          "layer": "below",
          "line": {
           "color": "#666666",
           "width": 1
          },
          "type": "line",
          "x0": "2020-09-01T03:10:01",
          "x1": "2020-09-01T03:10:01",
          "xref": "x3",
          "y0": 0,
          "y1": 1,
          "yref": "y3 domain"
         },
         {
          "layer": "below",
          "line": {
           "color": "#666666",
           "width": 1
          },
          "type": "line",
          "x0": "2020-09-01T03:10:01",
          "x1": "2020-09-01T03:10:01",
          "xref": "x4",
          "y0": 0,
          "y1": 1,
          "yref": "y4 domain"
         },
         {
          "layer": "below",
          "line": {
           "color": "#666666",
           "width": 1
          },
          "type": "line",
          "x0": "2020-09-01T03:10:01",
          "x1": "2020-09-01T03:10:01",
          "xref": "x5",
          "y0": 0,
          "y1": 1,
          "yref": "y5 domain"
         },
         {
          "layer": "below",
          "line": {
           "color": "#666666",
           "width": 1
          },
          "type": "line",
          "x0": "2020-09-01T03:10:01",
          "x1": "2020-09-01T03:10:01",
          "xref": "x6",
          "y0": 0,
          "y1": 1,
          "yref": "y6 domain"
         },
         {
          "layer": "below",
          "line": {
           "color": "#666666",
           "width": 1
          },
          "type": "line",
          "x0": "2020-09-01T03:10:01",
          "x1": "2020-09-01T03:10:01",
          "xref": "x7",
          "y0": 0,
          "y1": 1,
          "yref": "y7 domain"
         },
         {
          "layer": "below",
          "line": {
           "color": "#666666",
           "width": 1
          },
          "type": "line",
          "x0": "2020-09-01T03:10:01",
          "x1": "2020-09-01T03:10:01",
          "xref": "x8",
          "y0": 0,
          "y1": 1,
          "yref": "y8 domain"
         },
         {
          "layer": "below",
          "line": {
           "color": "#666666",
           "width": 1
          },
          "type": "line",
          "x0": "2020-09-01T03:10:01",
          "x1": "2020-09-01T03:10:01",
          "xref": "x",
          "y0": 0,
          "y1": 1,
          "yref": "y domain"
         },
         {
          "layer": "below",
          "line": {
           "color": "#666666",
           "width": 1
          },
          "type": "line",
          "x0": "2020-09-01T03:10:01",
          "x1": "2020-09-01T03:10:01",
          "xref": "x2",
          "y0": 0,
          "y1": 1,
          "yref": "y2 domain"
         },
         {
          "layer": "below",
          "line": {
           "color": "#666666",
           "width": 1
          },
          "type": "line",
          "x0": "2020-09-01T03:10:01",
          "x1": "2020-09-01T03:10:01",
          "xref": "x3",
          "y0": 0,
          "y1": 1,
          "yref": "y3 domain"
         },
         {
          "layer": "below",
          "line": {
           "color": "#666666",
           "width": 1
          },
          "type": "line",
          "x0": "2020-09-01T03:10:01",
          "x1": "2020-09-01T03:10:01",
          "xref": "x4",
          "y0": 0,
          "y1": 1,
          "yref": "y4 domain"
         },
         {
          "layer": "below",
          "line": {
           "color": "#666666",
           "width": 1
          },
          "type": "line",
          "x0": "2020-09-01T03:10:01",
          "x1": "2020-09-01T03:10:01",
          "xref": "x5",
          "y0": 0,
          "y1": 1,
          "yref": "y5 domain"
         },
         {
          "layer": "below",
          "line": {
           "color": "#666666",
           "width": 1
          },
          "type": "line",
          "x0": "2020-09-01T03:10:01",
          "x1": "2020-09-01T03:10:01",
          "xref": "x6",
          "y0": 0,
          "y1": 1,
          "yref": "y6 domain"
         },
         {
          "layer": "below",
          "line": {
           "color": "#666666",
           "width": 1
          },
          "type": "line",
          "x0": "2020-09-01T03:10:01",
          "x1": "2020-09-01T03:10:01",
          "xref": "x7",
          "y0": 0,
          "y1": 1,
          "yref": "y7 domain"
         },
         {
          "layer": "below",
          "line": {
           "color": "#666666",
           "width": 1
          },
          "type": "line",
          "x0": "2020-09-01T03:10:01",
          "x1": "2020-09-01T03:10:01",
          "xref": "x8",
          "y0": 0,
          "y1": 1,
          "yref": "y8 domain"
         },
         {
          "layer": "below",
          "line": {
           "color": "#666666",
           "width": 1
          },
          "type": "line",
          "x0": "2020-09-01T03:10:01",
          "x1": "2020-09-01T03:10:01",
          "xref": "x9",
          "y0": 0,
          "y1": 1,
          "yref": "y9 domain"
         }
        ],
        "template": {
         "data": {
          "bar": [
           {
            "error_x": {
             "color": "#2a3f5f"
            },
            "error_y": {
             "color": "#2a3f5f"
            },
            "marker": {
             "line": {
              "color": "#E5ECF6",
              "width": 0.5
             },
             "pattern": {
              "fillmode": "overlay",
              "size": 10,
              "solidity": 0.2
             }
            },
            "type": "bar"
           }
          ],
          "barpolar": [
           {
            "marker": {
             "line": {
              "color": "#E5ECF6",
              "width": 0.5
             },
             "pattern": {
              "fillmode": "overlay",
              "size": 10,
              "solidity": 0.2
             }
            },
            "type": "barpolar"
           }
          ],
          "carpet": [
           {
            "aaxis": {
             "endlinecolor": "#2a3f5f",
             "gridcolor": "white",
             "linecolor": "white",
             "minorgridcolor": "white",
             "startlinecolor": "#2a3f5f"
            },
            "baxis": {
             "endlinecolor": "#2a3f5f",
             "gridcolor": "white",
             "linecolor": "white",
             "minorgridcolor": "white",
             "startlinecolor": "#2a3f5f"
            },
            "type": "carpet"
           }
          ],
          "choropleth": [
           {
            "colorbar": {
             "outlinewidth": 0,
             "ticks": ""
            },
            "type": "choropleth"
           }
          ],
          "contour": [
           {
            "colorbar": {
             "outlinewidth": 0,
             "ticks": ""
            },
            "colorscale": [
             [
              0,
              "#0d0887"
             ],
             [
              0.1111111111111111,
              "#46039f"
             ],
             [
              0.2222222222222222,
              "#7201a8"
             ],
             [
              0.3333333333333333,
              "#9c179e"
             ],
             [
              0.4444444444444444,
              "#bd3786"
             ],
             [
              0.5555555555555556,
              "#d8576b"
             ],
             [
              0.6666666666666666,
              "#ed7953"
             ],
             [
              0.7777777777777778,
              "#fb9f3a"
             ],
             [
              0.8888888888888888,
              "#fdca26"
             ],
             [
              1,
              "#f0f921"
             ]
            ],
            "type": "contour"
           }
          ],
          "contourcarpet": [
           {
            "colorbar": {
             "outlinewidth": 0,
             "ticks": ""
            },
            "type": "contourcarpet"
           }
          ],
          "heatmap": [
           {
            "colorbar": {
             "outlinewidth": 0,
             "ticks": ""
            },
            "colorscale": [
             [
              0,
              "#0d0887"
             ],
             [
              0.1111111111111111,
              "#46039f"
             ],
             [
              0.2222222222222222,
              "#7201a8"
             ],
             [
              0.3333333333333333,
              "#9c179e"
             ],
             [
              0.4444444444444444,
              "#bd3786"
             ],
             [
              0.5555555555555556,
              "#d8576b"
             ],
             [
              0.6666666666666666,
              "#ed7953"
             ],
             [
              0.7777777777777778,
              "#fb9f3a"
             ],
             [
              0.8888888888888888,
              "#fdca26"
             ],
             [
              1,
              "#f0f921"
             ]
            ],
            "type": "heatmap"
           }
          ],
          "heatmapgl": [
           {
            "colorbar": {
             "outlinewidth": 0,
             "ticks": ""
            },
            "colorscale": [
             [
              0,
              "#0d0887"
             ],
             [
              0.1111111111111111,
              "#46039f"
             ],
             [
              0.2222222222222222,
              "#7201a8"
             ],
             [
              0.3333333333333333,
              "#9c179e"
             ],
             [
              0.4444444444444444,
              "#bd3786"
             ],
             [
              0.5555555555555556,
              "#d8576b"
             ],
             [
              0.6666666666666666,
              "#ed7953"
             ],
             [
              0.7777777777777778,
              "#fb9f3a"
             ],
             [
              0.8888888888888888,
              "#fdca26"
             ],
             [
              1,
              "#f0f921"
             ]
            ],
            "type": "heatmapgl"
           }
          ],
          "histogram": [
           {
            "marker": {
             "pattern": {
              "fillmode": "overlay",
              "size": 10,
              "solidity": 0.2
             }
            },
            "type": "histogram"
           }
          ],
          "histogram2d": [
           {
            "colorbar": {
             "outlinewidth": 0,
             "ticks": ""
            },
            "colorscale": [
             [
              0,
              "#0d0887"
             ],
             [
              0.1111111111111111,
              "#46039f"
             ],
             [
              0.2222222222222222,
              "#7201a8"
             ],
             [
              0.3333333333333333,
              "#9c179e"
             ],
             [
              0.4444444444444444,
              "#bd3786"
             ],
             [
              0.5555555555555556,
              "#d8576b"
             ],
             [
              0.6666666666666666,
              "#ed7953"
             ],
             [
              0.7777777777777778,
              "#fb9f3a"
             ],
             [
              0.8888888888888888,
              "#fdca26"
             ],
             [
              1,
              "#f0f921"
             ]
            ],
            "type": "histogram2d"
           }
          ],
          "histogram2dcontour": [
           {
            "colorbar": {
             "outlinewidth": 0,
             "ticks": ""
            },
            "colorscale": [
             [
              0,
              "#0d0887"
             ],
             [
              0.1111111111111111,
              "#46039f"
             ],
             [
              0.2222222222222222,
              "#7201a8"
             ],
             [
              0.3333333333333333,
              "#9c179e"
             ],
             [
              0.4444444444444444,
              "#bd3786"
             ],
             [
              0.5555555555555556,
              "#d8576b"
             ],
             [
              0.6666666666666666,
              "#ed7953"
             ],
             [
              0.7777777777777778,
              "#fb9f3a"
             ],
             [
              0.8888888888888888,
              "#fdca26"
             ],
             [
              1,
              "#f0f921"
             ]
            ],
            "type": "histogram2dcontour"
           }
          ],
          "mesh3d": [
           {
            "colorbar": {
             "outlinewidth": 0,
             "ticks": ""
            },
            "type": "mesh3d"
           }
          ],
          "parcoords": [
           {
            "line": {
             "colorbar": {
              "outlinewidth": 0,
              "ticks": ""
             }
            },
            "type": "parcoords"
           }
          ],
          "pie": [
           {
            "automargin": true,
            "type": "pie"
           }
          ],
          "scatter": [
           {
            "fillpattern": {
             "fillmode": "overlay",
             "size": 10,
             "solidity": 0.2
            },
            "type": "scatter"
           }
          ],
          "scatter3d": [
           {
            "line": {
             "colorbar": {
              "outlinewidth": 0,
              "ticks": ""
             }
            },
            "marker": {
             "colorbar": {
              "outlinewidth": 0,
              "ticks": ""
             }
            },
            "type": "scatter3d"
           }
          ],
          "scattercarpet": [
           {
            "marker": {
             "colorbar": {
              "outlinewidth": 0,
              "ticks": ""
             }
            },
            "type": "scattercarpet"
           }
          ],
          "scattergeo": [
           {
            "marker": {
             "colorbar": {
              "outlinewidth": 0,
              "ticks": ""
             }
            },
            "type": "scattergeo"
           }
          ],
          "scattergl": [
           {
            "marker": {
             "colorbar": {
              "outlinewidth": 0,
              "ticks": ""
             }
            },
            "type": "scattergl"
           }
          ],
          "scattermapbox": [
           {
            "marker": {
             "colorbar": {
              "outlinewidth": 0,
              "ticks": ""
             }
            },
            "type": "scattermapbox"
           }
          ],
          "scatterpolar": [
           {
            "marker": {
             "colorbar": {
              "outlinewidth": 0,
              "ticks": ""
             }
            },
            "type": "scatterpolar"
           }
          ],
          "scatterpolargl": [
           {
            "marker": {
             "colorbar": {
              "outlinewidth": 0,
              "ticks": ""
             }
            },
            "type": "scatterpolargl"
           }
          ],
          "scatterternary": [
           {
            "marker": {
             "colorbar": {
              "outlinewidth": 0,
              "ticks": ""
             }
            },
            "type": "scatterternary"
           }
          ],
          "surface": [
           {
            "colorbar": {
             "outlinewidth": 0,
             "ticks": ""
            },
            "colorscale": [
             [
              0,
              "#0d0887"
             ],
             [
              0.1111111111111111,
              "#46039f"
             ],
             [
              0.2222222222222222,
              "#7201a8"
             ],
             [
              0.3333333333333333,
              "#9c179e"
             ],
             [
              0.4444444444444444,
              "#bd3786"
             ],
             [
              0.5555555555555556,
              "#d8576b"
             ],
             [
              0.6666666666666666,
              "#ed7953"
             ],
             [
              0.7777777777777778,
              "#fb9f3a"
             ],
             [
              0.8888888888888888,
              "#fdca26"
             ],
             [
              1,
              "#f0f921"
             ]
            ],
            "type": "surface"
           }
          ],
          "table": [
           {
            "cells": {
             "fill": {
              "color": "#EBF0F8"
             },
             "line": {
              "color": "white"
             }
            },
            "header": {
             "fill": {
              "color": "#C8D4E3"
             },
             "line": {
              "color": "white"
             }
            },
            "type": "table"
           }
          ]
         },
         "layout": {
          "annotationdefaults": {
           "arrowcolor": "#2a3f5f",
           "arrowhead": 0,
           "arrowwidth": 1
          },
          "autotypenumbers": "strict",
          "coloraxis": {
           "colorbar": {
            "outlinewidth": 0,
            "ticks": ""
           }
          },
          "colorscale": {
           "diverging": [
            [
             0,
             "#8e0152"
            ],
            [
             0.1,
             "#c51b7d"
            ],
            [
             0.2,
             "#de77ae"
            ],
            [
             0.3,
             "#f1b6da"
            ],
            [
             0.4,
             "#fde0ef"
            ],
            [
             0.5,
             "#f7f7f7"
            ],
            [
             0.6,
             "#e6f5d0"
            ],
            [
             0.7,
             "#b8e186"
            ],
            [
             0.8,
             "#7fbc41"
            ],
            [
             0.9,
             "#4d9221"
            ],
            [
             1,
             "#276419"
            ]
           ],
           "sequential": [
            [
             0,
             "#0d0887"
            ],
            [
             0.1111111111111111,
             "#46039f"
            ],
            [
             0.2222222222222222,
             "#7201a8"
            ],
            [
             0.3333333333333333,
             "#9c179e"
            ],
            [
             0.4444444444444444,
             "#bd3786"
            ],
            [
             0.5555555555555556,
             "#d8576b"
            ],
            [
             0.6666666666666666,
             "#ed7953"
            ],
            [
             0.7777777777777778,
             "#fb9f3a"
            ],
            [
             0.8888888888888888,
             "#fdca26"
            ],
            [
             1,
             "#f0f921"
            ]
           ],
           "sequentialminus": [
            [
             0,
             "#0d0887"
            ],
            [
             0.1111111111111111,
             "#46039f"
            ],
            [
             0.2222222222222222,
             "#7201a8"
            ],
            [
             0.3333333333333333,
             "#9c179e"
            ],
            [
             0.4444444444444444,
             "#bd3786"
            ],
            [
             0.5555555555555556,
             "#d8576b"
            ],
            [
             0.6666666666666666,
             "#ed7953"
            ],
            [
             0.7777777777777778,
             "#fb9f3a"
            ],
            [
             0.8888888888888888,
             "#fdca26"
            ],
            [
             1,
             "#f0f921"
            ]
           ]
          },
          "colorway": [
           "#636efa",
           "#EF553B",
           "#00cc96",
           "#ab63fa",
           "#FFA15A",
           "#19d3f3",
           "#FF6692",
           "#B6E880",
           "#FF97FF",
           "#FECB52"
          ],
          "font": {
           "color": "#2a3f5f"
          },
          "geo": {
           "bgcolor": "white",
           "lakecolor": "white",
           "landcolor": "#E5ECF6",
           "showlakes": true,
           "showland": true,
           "subunitcolor": "white"
          },
          "hoverlabel": {
           "align": "left"
          },
          "hovermode": "closest",
          "mapbox": {
           "style": "light"
          },
          "paper_bgcolor": "white",
          "plot_bgcolor": "#E5ECF6",
          "polar": {
           "angularaxis": {
            "gridcolor": "white",
            "linecolor": "white",
            "ticks": ""
           },
           "bgcolor": "#E5ECF6",
           "radialaxis": {
            "gridcolor": "white",
            "linecolor": "white",
            "ticks": ""
           }
          },
          "scene": {
           "xaxis": {
            "backgroundcolor": "#E5ECF6",
            "gridcolor": "white",
            "gridwidth": 2,
            "linecolor": "white",
            "showbackground": true,
            "ticks": "",
            "zerolinecolor": "white"
           },
           "yaxis": {
            "backgroundcolor": "#E5ECF6",
            "gridcolor": "white",
            "gridwidth": 2,
            "linecolor": "white",
            "showbackground": true,
            "ticks": "",
            "zerolinecolor": "white"
           },
           "zaxis": {
            "backgroundcolor": "#E5ECF6",
            "gridcolor": "white",
            "gridwidth": 2,
            "linecolor": "white",
            "showbackground": true,
            "ticks": "",
            "zerolinecolor": "white"
           }
          },
          "shapedefaults": {
           "line": {
            "color": "#2a3f5f"
           }
          },
          "ternary": {
           "aaxis": {
            "gridcolor": "white",
            "linecolor": "white",
            "ticks": ""
           },
           "baxis": {
            "gridcolor": "white",
            "linecolor": "white",
            "ticks": ""
           },
           "bgcolor": "#E5ECF6",
           "caxis": {
            "gridcolor": "white",
            "linecolor": "white",
            "ticks": ""
           }
          },
          "title": {
           "x": 0.05
          },
          "xaxis": {
           "automargin": true,
           "gridcolor": "white",
           "linecolor": "white",
           "ticks": "",
           "title": {
            "standoff": 15
           },
           "zerolinecolor": "white",
           "zerolinewidth": 2
          },
          "yaxis": {
           "automargin": true,
           "gridcolor": "white",
           "linecolor": "white",
           "ticks": "",
           "title": {
            "standoff": 15
           },
           "zerolinecolor": "white",
           "zerolinewidth": 2
          }
         }
        },
        "title": {
         "text": "Estimated performance <b>(CBPE)</b>"
        },
        "xaxis": {
         "anchor": "y",
         "domain": [
          0,
          1
         ],
         "linecolor": "#3b0280",
         "matches": "x",
         "mirror": true,
         "showgrid": false,
         "title": {
          "text": "Time"
         },
         "zeroline": false
        },
        "xaxis2": {
         "anchor": "y2",
         "domain": [
          0,
          1
         ],
         "linecolor": "#3b0280",
         "matches": "x",
         "mirror": true,
         "showgrid": false,
         "title": {
          "text": "Time"
         },
         "zeroline": false
        },
        "xaxis3": {
         "anchor": "y3",
         "domain": [
          0,
          1
         ],
         "linecolor": "#3b0280",
         "matches": "x",
         "mirror": true,
         "showgrid": false,
         "title": {
          "text": "Time"
         },
         "zeroline": false
        },
        "xaxis4": {
         "anchor": "y4",
         "domain": [
          0,
          1
         ],
         "linecolor": "#3b0280",
         "matches": "x",
         "mirror": true,
         "showgrid": false,
         "title": {
          "text": "Time"
         },
         "zeroline": false
        },
        "xaxis5": {
         "anchor": "y5",
         "domain": [
          0,
          1
         ],
         "linecolor": "#3b0280",
         "matches": "x",
         "mirror": true,
         "showgrid": false,
         "title": {
          "text": "Time"
         },
         "zeroline": false
        },
        "xaxis6": {
         "anchor": "y6",
         "domain": [
          0,
          1
         ],
         "linecolor": "#3b0280",
         "matches": "x",
         "mirror": true,
         "showgrid": false,
         "title": {
          "text": "Time"
         },
         "zeroline": false
        },
        "xaxis7": {
         "anchor": "y7",
         "domain": [
          0,
          1
         ],
         "linecolor": "#3b0280",
         "matches": "x",
         "mirror": true,
         "showgrid": false,
         "title": {
          "text": "Time"
         },
         "zeroline": false
        },
        "xaxis8": {
         "anchor": "y8",
         "domain": [
          0,
          1
         ],
         "linecolor": "#3b0280",
         "matches": "x",
         "mirror": true,
         "showgrid": false,
         "title": {
          "text": "Time"
         },
         "zeroline": false
        },
        "xaxis9": {
         "anchor": "y9",
         "domain": [
          0,
          1
         ],
         "linecolor": "#3b0280",
         "matches": "x",
         "mirror": true,
         "showgrid": false,
         "title": {
          "text": "Time"
         },
         "zeroline": false
        },
        "yaxis": {
         "anchor": "x",
         "domain": [
          0.9382716049382716,
          1
         ],
         "linecolor": "#3b0280",
         "mirror": true,
         "showgrid": false,
         "title": {
          "text": "true class: prepaid_card, predicted class: prepaid_card"
         },
         "zeroline": false
        },
        "yaxis2": {
         "anchor": "x2",
         "domain": [
          0.8209876543209876,
          0.8827160493827161
         ],
         "linecolor": "#3b0280",
         "mirror": true,
         "showgrid": false,
         "title": {
          "text": "true class: prepaid_card, predicted class: highstreet_card"
         },
         "zeroline": false
        },
        "yaxis3": {
         "anchor": "x3",
         "domain": [
          0.7037037037037037,
          0.7654320987654322
         ],
         "linecolor": "#3b0280",
         "mirror": true,
         "showgrid": false,
         "title": {
          "text": "true class: prepaid_card, predicted class: upmarket_card"
         },
         "zeroline": false
        },
        "yaxis4": {
         "anchor": "x4",
         "domain": [
          0.5864197530864198,
          0.6481481481481483
         ],
         "linecolor": "#3b0280",
         "mirror": true,
         "showgrid": false,
         "title": {
          "text": "true class: highstreet_card, predicted class: prepaid_card"
         },
         "zeroline": false
        },
        "yaxis5": {
         "anchor": "x5",
         "domain": [
          0.4691358024691358,
          0.5308641975308642
         ],
         "linecolor": "#3b0280",
         "mirror": true,
         "showgrid": false,
         "title": {
          "text": "true class: highstreet_card, predicted class: highstreet_card"
         },
         "zeroline": false
        },
        "yaxis6": {
         "anchor": "x6",
         "domain": [
          0.35185185185185186,
          0.41358024691358025
         ],
         "linecolor": "#3b0280",
         "mirror": true,
         "showgrid": false,
         "title": {
          "text": "true class: highstreet_card, predicted class: upmarket_card"
         },
         "zeroline": false
        },
        "yaxis7": {
         "anchor": "x7",
         "domain": [
          0.2345679012345679,
          0.2962962962962963
         ],
         "linecolor": "#3b0280",
         "mirror": true,
         "showgrid": false,
         "title": {
          "text": "true class: upmarket_card, predicted class: prepaid_card"
         },
         "zeroline": false
        },
        "yaxis8": {
         "anchor": "x8",
         "domain": [
          0.11728395061728394,
          0.17901234567901234
         ],
         "linecolor": "#3b0280",
         "mirror": true,
         "showgrid": false,
         "title": {
          "text": "true class: upmarket_card, predicted class: highstreet_card"
         },
         "zeroline": false
        },
        "yaxis9": {
         "anchor": "x9",
         "domain": [
          0,
          0.0617283950617284
         ],
         "linecolor": "#3b0280",
         "mirror": true,
         "showgrid": false,
         "title": {
          "text": "true class: upmarket_card, predicted class: upmarket_card"
         },
         "zeroline": false
        }
       }
      }
     },
     "metadata": {},
     "output_type": "display_data"
    }
   ],
   "source": [
    "metric_fig = results.plot()\n",
    "metric_fig.show()"
   ]
  },
  {
   "cell_type": "code",
   "execution_count": null,
   "metadata": {},
   "outputs": [],
   "source": []
  },
  {
   "cell_type": "code",
   "execution_count": null,
   "metadata": {},
   "outputs": [],
   "source": []
  }
 ],
 "metadata": {
  "kernelspec": {
   "display_name": "EMD",
   "language": "python",
   "name": "python3"
  },
  "language_info": {
   "codemirror_mode": {
    "name": "ipython",
    "version": 3
   },
   "file_extension": ".py",
   "mimetype": "text/x-python",
   "name": "python",
   "nbconvert_exporter": "python",
   "pygments_lexer": "ipython3",
   "version": "3.9.13"
  },
  "orig_nbformat": 4
 },
 "nbformat": 4,
 "nbformat_minor": 2
}
