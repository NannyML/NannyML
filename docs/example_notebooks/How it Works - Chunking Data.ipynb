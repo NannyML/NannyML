{
 "cells": [
  {
   "cell_type": "code",
   "execution_count": 46,
   "id": "e06b4aae",
   "metadata": {},
   "outputs": [],
   "source": [
    "save_figs = True"
   ]
  },
  {
   "cell_type": "markdown",
   "id": "12450ecc",
   "metadata": {},
   "source": [
    "# Not enough chunks"
   ]
  },
  {
   "cell_type": "code",
   "execution_count": 47,
   "id": "d21471f7",
   "metadata": {},
   "outputs": [
    {
     "data": {
      "text/html": [
       "<div>\n",
       "<style scoped>\n",
       "    .dataframe tbody tr th:only-of-type {\n",
       "        vertical-align: middle;\n",
       "    }\n",
       "\n",
       "    .dataframe tbody tr th {\n",
       "        vertical-align: top;\n",
       "    }\n",
       "\n",
       "    .dataframe thead th {\n",
       "        text-align: right;\n",
       "    }\n",
       "</style>\n",
       "<table border=\"1\" class=\"dataframe\">\n",
       "  <thead>\n",
       "    <tr style=\"text-align: right;\">\n",
       "      <th></th>\n",
       "      <th>key</th>\n",
       "      <th>start_index</th>\n",
       "      <th>end_index</th>\n",
       "      <th>start_date</th>\n",
       "      <th>end_date</th>\n",
       "      <th>realized_roc_auc</th>\n",
       "      <th>estimated_roc_auc</th>\n",
       "      <th>upper_confidence_roc_auc</th>\n",
       "      <th>lower_confidence_roc_auc</th>\n",
       "      <th>upper_threshold_roc_auc</th>\n",
       "      <th>lower_threshold_roc_auc</th>\n",
       "      <th>alert_roc_auc</th>\n",
       "    </tr>\n",
       "  </thead>\n",
       "  <tbody>\n",
       "    <tr>\n",
       "      <th>0</th>\n",
       "      <td>[0:12499]</td>\n",
       "      <td>0</td>\n",
       "      <td>12499</td>\n",
       "      <td>2014-05-09 22:27:20</td>\n",
       "      <td>2015-03-10 03:50:28</td>\n",
       "      <td>0.972972</td>\n",
       "      <td>0.968923</td>\n",
       "      <td>0.969364</td>\n",
       "      <td>0.968483</td>\n",
       "      <td>0.964553</td>\n",
       "      <td>0.977452</td>\n",
       "      <td>False</td>\n",
       "    </tr>\n",
       "    <tr>\n",
       "      <th>1</th>\n",
       "      <td>[12500:24999]</td>\n",
       "      <td>12500</td>\n",
       "      <td>24999</td>\n",
       "      <td>2015-03-10 04:37:25</td>\n",
       "      <td>2016-01-08 16:02:05</td>\n",
       "      <td>0.970533</td>\n",
       "      <td>0.968914</td>\n",
       "      <td>0.969355</td>\n",
       "      <td>0.968474</td>\n",
       "      <td>0.964553</td>\n",
       "      <td>0.977452</td>\n",
       "      <td>False</td>\n",
       "    </tr>\n",
       "    <tr>\n",
       "      <th>2</th>\n",
       "      <td>[25000:37499]</td>\n",
       "      <td>25000</td>\n",
       "      <td>37499</td>\n",
       "      <td>2016-01-08 17:22:00</td>\n",
       "      <td>2016-11-03 19:17:29</td>\n",
       "      <td>0.970198</td>\n",
       "      <td>0.968930</td>\n",
       "      <td>0.969371</td>\n",
       "      <td>0.968490</td>\n",
       "      <td>0.964553</td>\n",
       "      <td>0.977452</td>\n",
       "      <td>False</td>\n",
       "    </tr>\n",
       "    <tr>\n",
       "      <th>3</th>\n",
       "      <td>[37500:49999]</td>\n",
       "      <td>37500</td>\n",
       "      <td>49999</td>\n",
       "      <td>2016-11-03 19:18:08</td>\n",
       "      <td>2017-08-31 03:10:29</td>\n",
       "      <td>0.970788</td>\n",
       "      <td>0.969044</td>\n",
       "      <td>0.969484</td>\n",
       "      <td>0.968603</td>\n",
       "      <td>0.964553</td>\n",
       "      <td>0.977452</td>\n",
       "      <td>False</td>\n",
       "    </tr>\n",
       "    <tr>\n",
       "      <th>4</th>\n",
       "      <td>[50000:62499]</td>\n",
       "      <td>50000</td>\n",
       "      <td>62499</td>\n",
       "      <td>2017-08-31 04:20:00</td>\n",
       "      <td>2018-07-02 16:13:22</td>\n",
       "      <td>NaN</td>\n",
       "      <td>0.969050</td>\n",
       "      <td>0.969490</td>\n",
       "      <td>0.968609</td>\n",
       "      <td>0.964553</td>\n",
       "      <td>0.977452</td>\n",
       "      <td>False</td>\n",
       "    </tr>\n",
       "    <tr>\n",
       "      <th>5</th>\n",
       "      <td>[62500:74999]</td>\n",
       "      <td>62500</td>\n",
       "      <td>74999</td>\n",
       "      <td>2018-07-02 16:15:16</td>\n",
       "      <td>2019-04-30 11:01:30</td>\n",
       "      <td>NaN</td>\n",
       "      <td>0.969032</td>\n",
       "      <td>0.969472</td>\n",
       "      <td>0.968591</td>\n",
       "      <td>0.964553</td>\n",
       "      <td>0.977452</td>\n",
       "      <td>False</td>\n",
       "    </tr>\n",
       "    <tr>\n",
       "      <th>6</th>\n",
       "      <td>[75000:87499]</td>\n",
       "      <td>75000</td>\n",
       "      <td>87499</td>\n",
       "      <td>2019-04-30 11:02:00</td>\n",
       "      <td>2020-03-01 22:53:25</td>\n",
       "      <td>NaN</td>\n",
       "      <td>0.960740</td>\n",
       "      <td>0.961181</td>\n",
       "      <td>0.960300</td>\n",
       "      <td>0.964553</td>\n",
       "      <td>0.977452</td>\n",
       "      <td>True</td>\n",
       "    </tr>\n",
       "    <tr>\n",
       "      <th>7</th>\n",
       "      <td>[87500:99999]</td>\n",
       "      <td>87500</td>\n",
       "      <td>99999</td>\n",
       "      <td>2020-03-01 23:25:08</td>\n",
       "      <td>2021-01-01 04:29:32</td>\n",
       "      <td>NaN</td>\n",
       "      <td>0.961128</td>\n",
       "      <td>0.961569</td>\n",
       "      <td>0.960688</td>\n",
       "      <td>0.964553</td>\n",
       "      <td>0.977452</td>\n",
       "      <td>True</td>\n",
       "    </tr>\n",
       "  </tbody>\n",
       "</table>\n",
       "</div>"
      ],
      "text/plain": [
       "             key  start_index  end_index          start_date  \\\n",
       "0      [0:12499]            0      12499 2014-05-09 22:27:20   \n",
       "1  [12500:24999]        12500      24999 2015-03-10 04:37:25   \n",
       "2  [25000:37499]        25000      37499 2016-01-08 17:22:00   \n",
       "3  [37500:49999]        37500      49999 2016-11-03 19:18:08   \n",
       "4  [50000:62499]        50000      62499 2017-08-31 04:20:00   \n",
       "5  [62500:74999]        62500      74999 2018-07-02 16:15:16   \n",
       "6  [75000:87499]        75000      87499 2019-04-30 11:02:00   \n",
       "7  [87500:99999]        87500      99999 2020-03-01 23:25:08   \n",
       "\n",
       "             end_date  realized_roc_auc  estimated_roc_auc  \\\n",
       "0 2015-03-10 03:50:28          0.972972           0.968923   \n",
       "1 2016-01-08 16:02:05          0.970533           0.968914   \n",
       "2 2016-11-03 19:17:29          0.970198           0.968930   \n",
       "3 2017-08-31 03:10:29          0.970788           0.969044   \n",
       "4 2018-07-02 16:13:22               NaN           0.969050   \n",
       "5 2019-04-30 11:01:30               NaN           0.969032   \n",
       "6 2020-03-01 22:53:25               NaN           0.960740   \n",
       "7 2021-01-01 04:29:32               NaN           0.961128   \n",
       "\n",
       "   upper_confidence_roc_auc  lower_confidence_roc_auc  \\\n",
       "0                  0.969364                  0.968483   \n",
       "1                  0.969355                  0.968474   \n",
       "2                  0.969371                  0.968490   \n",
       "3                  0.969484                  0.968603   \n",
       "4                  0.969490                  0.968609   \n",
       "5                  0.969472                  0.968591   \n",
       "6                  0.961181                  0.960300   \n",
       "7                  0.961569                  0.960688   \n",
       "\n",
       "   upper_threshold_roc_auc  lower_threshold_roc_auc  alert_roc_auc  \n",
       "0                 0.964553                 0.977452          False  \n",
       "1                 0.964553                 0.977452          False  \n",
       "2                 0.964553                 0.977452          False  \n",
       "3                 0.964553                 0.977452          False  \n",
       "4                 0.964553                 0.977452          False  \n",
       "5                 0.964553                 0.977452          False  \n",
       "6                 0.964553                 0.977452           True  \n",
       "7                 0.964553                 0.977452           True  "
      ]
     },
     "execution_count": 47,
     "metadata": {},
     "output_type": "execute_result"
    }
   ],
   "source": [
    "import pandas as pd\n",
    "import nannyml as nml\n",
    "reference, analysis, _ = nml.datasets.load_synthetic_binary_classification_dataset()\n",
    "# metadata = nml.extract_metadata(reference, model_type='classification_binary', exclude_columns=['identifier'])\n",
    "# metadata.target_column_name = 'work_home_actual'\n",
    "cbpe = nml.CBPE(\n",
    "    y_pred_proba='y_pred_proba',\n",
    "    y_pred='y_pred',\n",
    "    y_true='work_home_actual',\n",
    "    timestamp_column_name='timestamp',\n",
    "    chunk_number=8,\n",
    "    metrics=['roc_auc']\n",
    ").fit(reference_data=reference)\n",
    "# Estimate on concatenated reference and analysis\n",
    "est_perf = cbpe.estimate(pd.concat([reference, analysis], ignore_index=True))\n",
    "# est_perf = cbpe.estimate(analysis)\n",
    "est_perf.data#.iloc[3:5,:7]"
   ]
  },
  {
   "cell_type": "code",
   "execution_count": 48,
   "id": "a05a4c7f",
   "metadata": {},
   "outputs": [
    {
     "name": "stderr",
     "output_type": "stream",
     "text": [
      "C:\\Users\\jakub\\anaconda3\\envs\\p39all\\lib\\site-packages\\nannyml\\chunk.py:175: UserWarning: The resulting list of chunks contains 1 underpopulated chunks. They contain too few records to be statistically robust and might negatively influence the quality of calculations. Please consider splitting your data in a different way or continue at your own risk.\n",
      "  warnings.warn(\n"
     ]
    }
   ],
   "source": [
    "import pandas as pd\n",
    "import nannyml as nml\n",
    "reference, analysis, _ = nml.datasets.load_synthetic_binary_classification_dataset()\n",
    "\n",
    "cbpe = nml.CBPE(\n",
    "    y_pred_proba='y_pred_proba',\n",
    "    y_pred='y_pred',\n",
    "    y_true='work_home_actual',\n",
    "    timestamp_column_name='timestamp',\n",
    "    chunk_period=\"Q\",\n",
    "    metrics=['roc_auc']\n",
    ").fit(reference_data=reference)\n",
    "est_perf = cbpe.estimate(analysis)"
   ]
  },
  {
   "cell_type": "code",
   "execution_count": 49,
   "id": "8ea3ff54",
   "metadata": {},
   "outputs": [
    {
     "name": "stderr",
     "output_type": "stream",
     "text": [
      "C:\\Users\\jakub\\anaconda3\\envs\\p39all\\lib\\site-packages\\nannyml\\chunk.py:164: UserWarning: The resulting number of chunks is too low. Please consider splitting your data in a different way or continue at your own risk.\n",
      "  warnings.warn(\n",
      "C:\\Users\\jakub\\anaconda3\\envs\\p39all\\lib\\site-packages\\nannyml\\chunk.py:164: UserWarning: The resulting number of chunks is too low. Please consider splitting your data in a different way or continue at your own risk.\n",
      "  warnings.warn(\n",
      "C:\\Users\\jakub\\anaconda3\\envs\\p39all\\lib\\site-packages\\nannyml\\chunk.py:164: UserWarning: The resulting number of chunks is too low. Please consider splitting your data in a different way or continue at your own risk.\n",
      "  warnings.warn(\n"
     ]
    }
   ],
   "source": [
    "cbpe = nml.CBPE(\n",
    "    y_pred_proba='y_pred_proba',\n",
    "    y_pred='y_pred',\n",
    "    y_true='work_home_actual',\n",
    "    timestamp_column_name='timestamp',\n",
    "    chunk_number=5,\n",
    "    metrics=['roc_auc']\n",
    ").fit(reference_data=reference)\n",
    "est_perf = cbpe.estimate(analysis)"
   ]
  },
  {
   "cell_type": "markdown",
   "id": "02e3e631",
   "metadata": {},
   "source": [
    "# Not enough observations in chunk"
   ]
  },
  {
   "cell_type": "code",
   "execution_count": 50,
   "id": "7b688d95",
   "metadata": {},
   "outputs": [
    {
     "name": "stderr",
     "output_type": "stream",
     "text": [
      "C:\\Users\\jakub\\anaconda3\\envs\\p39all\\lib\\site-packages\\nannyml\\chunk.py:175: UserWarning: The resulting list of chunks contains 50000 underpopulated chunks. They contain too few records to be statistically robust and might negatively influence the quality of calculations. Please consider splitting your data in a different way or continue at your own risk.\n",
      "  warnings.warn(\n"
     ]
    },
    {
     "data": {
      "text/html": [
       "<div>\n",
       "<style scoped>\n",
       "    .dataframe tbody tr th:only-of-type {\n",
       "        vertical-align: middle;\n",
       "    }\n",
       "\n",
       "    .dataframe tbody tr th {\n",
       "        vertical-align: top;\n",
       "    }\n",
       "\n",
       "    .dataframe thead th {\n",
       "        text-align: right;\n",
       "    }\n",
       "</style>\n",
       "<table border=\"1\" class=\"dataframe\">\n",
       "  <thead>\n",
       "    <tr style=\"text-align: right;\">\n",
       "      <th></th>\n",
       "      <th>key</th>\n",
       "      <th>start_index</th>\n",
       "      <th>end_index</th>\n",
       "      <th>start_date</th>\n",
       "      <th>end_date</th>\n",
       "      <th>period</th>\n",
       "      <th>targets_missing_rate</th>\n",
       "      <th>roc_auc</th>\n",
       "      <th>roc_auc_lower_threshold</th>\n",
       "      <th>roc_auc_upper_threshold</th>\n",
       "      <th>roc_auc_alert</th>\n",
       "    </tr>\n",
       "  </thead>\n",
       "  <tbody>\n",
       "    <tr>\n",
       "      <th>0</th>\n",
       "      <td>[0:0]</td>\n",
       "      <td>0</td>\n",
       "      <td>0</td>\n",
       "      <td>2014-05-09 22:27:20</td>\n",
       "      <td>2014-05-09 22:27:20</td>\n",
       "      <td>None</td>\n",
       "      <td>0.0</td>\n",
       "      <td>NaN</td>\n",
       "      <td>NaN</td>\n",
       "      <td>NaN</td>\n",
       "      <td>False</td>\n",
       "    </tr>\n",
       "    <tr>\n",
       "      <th>1</th>\n",
       "      <td>[1:1]</td>\n",
       "      <td>1</td>\n",
       "      <td>1</td>\n",
       "      <td>2014-05-09 22:59:32</td>\n",
       "      <td>2014-05-09 22:59:32</td>\n",
       "      <td>None</td>\n",
       "      <td>0.0</td>\n",
       "      <td>NaN</td>\n",
       "      <td>NaN</td>\n",
       "      <td>NaN</td>\n",
       "      <td>False</td>\n",
       "    </tr>\n",
       "    <tr>\n",
       "      <th>2</th>\n",
       "      <td>[2:2]</td>\n",
       "      <td>2</td>\n",
       "      <td>2</td>\n",
       "      <td>2014-05-09 23:48:25</td>\n",
       "      <td>2014-05-09 23:48:25</td>\n",
       "      <td>None</td>\n",
       "      <td>0.0</td>\n",
       "      <td>NaN</td>\n",
       "      <td>NaN</td>\n",
       "      <td>NaN</td>\n",
       "      <td>False</td>\n",
       "    </tr>\n",
       "    <tr>\n",
       "      <th>3</th>\n",
       "      <td>[3:3]</td>\n",
       "      <td>3</td>\n",
       "      <td>3</td>\n",
       "      <td>2014-05-10 01:12:09</td>\n",
       "      <td>2014-05-10 01:12:09</td>\n",
       "      <td>None</td>\n",
       "      <td>0.0</td>\n",
       "      <td>NaN</td>\n",
       "      <td>NaN</td>\n",
       "      <td>NaN</td>\n",
       "      <td>False</td>\n",
       "    </tr>\n",
       "    <tr>\n",
       "      <th>4</th>\n",
       "      <td>[4:4]</td>\n",
       "      <td>4</td>\n",
       "      <td>4</td>\n",
       "      <td>2014-05-10 02:21:34</td>\n",
       "      <td>2014-05-10 02:21:34</td>\n",
       "      <td>None</td>\n",
       "      <td>0.0</td>\n",
       "      <td>NaN</td>\n",
       "      <td>NaN</td>\n",
       "      <td>NaN</td>\n",
       "      <td>False</td>\n",
       "    </tr>\n",
       "  </tbody>\n",
       "</table>\n",
       "</div>"
      ],
      "text/plain": [
       "     key  start_index  end_index          start_date            end_date  \\\n",
       "0  [0:0]            0          0 2014-05-09 22:27:20 2014-05-09 22:27:20   \n",
       "1  [1:1]            1          1 2014-05-09 22:59:32 2014-05-09 22:59:32   \n",
       "2  [2:2]            2          2 2014-05-09 23:48:25 2014-05-09 23:48:25   \n",
       "3  [3:3]            3          3 2014-05-10 01:12:09 2014-05-10 01:12:09   \n",
       "4  [4:4]            4          4 2014-05-10 02:21:34 2014-05-10 02:21:34   \n",
       "\n",
       "  period  targets_missing_rate  roc_auc  roc_auc_lower_threshold  \\\n",
       "0   None                   0.0      NaN                      NaN   \n",
       "1   None                   0.0      NaN                      NaN   \n",
       "2   None                   0.0      NaN                      NaN   \n",
       "3   None                   0.0      NaN                      NaN   \n",
       "4   None                   0.0      NaN                      NaN   \n",
       "\n",
       "   roc_auc_upper_threshold  roc_auc_alert  \n",
       "0                      NaN          False  \n",
       "1                      NaN          False  \n",
       "2                      NaN          False  \n",
       "3                      NaN          False  \n",
       "4                      NaN          False  "
      ]
     },
     "execution_count": 50,
     "metadata": {},
     "output_type": "execute_result"
    }
   ],
   "source": [
    "calc = nml.PerformanceCalculator(\n",
    "    y_pred_proba='y_pred_proba',\n",
    "    y_pred='y_pred',\n",
    "    y_true='work_home_actual',\n",
    "    timestamp_column_name='timestamp',\n",
    "    metrics=[\"roc_auc\"],\n",
    "    chunk_size=1)\n",
    "\n",
    "calc.fit(reference)\n",
    "results = calc.calculate(reference)\n",
    "results.data.head()"
   ]
  },
  {
   "cell_type": "code",
   "execution_count": null,
   "id": "56b5a4d8",
   "metadata": {},
   "outputs": [],
   "source": []
  },
  {
   "cell_type": "code",
   "execution_count": null,
   "id": "ff663ccc",
   "metadata": {},
   "outputs": [],
   "source": []
  },
  {
   "cell_type": "code",
   "execution_count": null,
   "id": "bcfe5263",
   "metadata": {},
   "outputs": [],
   "source": []
  },
  {
   "cell_type": "markdown",
   "id": "39f26177",
   "metadata": {},
   "source": [
    "# Sampling error"
   ]
  },
  {
   "cell_type": "code",
   "execution_count": 51,
   "id": "411e313a",
   "metadata": {},
   "outputs": [
    {
     "data": {
      "image/png": "[encoded data removed]",
      "text/plain": [
       "<Figure size 432x288 with 1 Axes>"
      ]
     },
     "metadata": {
      "needs_background": "light"
     },
     "output_type": "display_data"
    }
   ],
   "source": [
    "import numpy as np\n",
    "import matplotlib.pyplot as plt\n",
    "from sklearn.metrics import accuracy_score\n",
    "\n",
    "sample_size = 100\n",
    "dataset_size = 10_000\n",
    "# random model\n",
    "np.random.seed(23)\n",
    "y_true = np.random.binomial(1, 0.5, dataset_size)\n",
    "y_pred = np.random.binomial(1, 0.5, dataset_size)\n",
    "accuracy_scores = []\n",
    "\n",
    "for experiment in range(10_000):\n",
    "    subset_indexes = np.random.choice(dataset_size, sample_size, replace=False) # get random indexes\n",
    "    y_true_subset = y_true[subset_indexes]\n",
    "    y_pred_subset = y_pred[subset_indexes]\n",
    "    accuracy_scores.append(accuracy_score(y_true_subset, y_pred_subset))\n",
    "\n",
    "plt.hist(accuracy_scores, bins=20, density=True)\n",
    "plt.title(\"Accuracy of random classifier\\n for randomly selected samples of 100 observations.\");\n",
    "if save_figs:\n",
    "    plt.savefig(\"../_static/deep_dive_data_chunks_stability_of_accuracy.svg\", format=\"svg\")"
   ]
  },
  {
   "cell_type": "code",
   "execution_count": 52,
   "id": "9c0cf0e4",
   "metadata": {},
   "outputs": [
    {
     "data": {
      "text/plain": [
       "(0.5045, 0.5045)"
      ]
     },
     "execution_count": 52,
     "metadata": {},
     "output_type": "execute_result"
    }
   ],
   "source": [
    "obs_level_accuracy = y_true == y_pred\n",
    "np.mean(obs_level_accuracy), accuracy_score(y_true, y_pred)\n"
   ]
  },
  {
   "cell_type": "code",
   "execution_count": 53,
   "id": "f935c674",
   "metadata": {},
   "outputs": [
    {
     "data": {
      "text/plain": [
       "(0.05, 0.05)"
      ]
     },
     "execution_count": 53,
     "metadata": {},
     "output_type": "execute_result"
    }
   ],
   "source": [
    "SEM_std = np.std(obs_level_accuracy)/np.sqrt(sample_size)\n",
    "np.round(SEM_std, 3), np.round(np.std(accuracy_scores), 3)\n"
   ]
  },
  {
   "cell_type": "code",
   "execution_count": null,
   "id": "ed05d502",
   "metadata": {},
   "outputs": [],
   "source": []
  }
 ],
 "metadata": {
  "kernelspec": {
   "display_name": "Python 3 (ipykernel)",
   "language": "python",
   "name": "python3"
  },
  "language_info": {
   "codemirror_mode": {
    "name": "ipython",
    "version": 3
   },
   "file_extension": ".py",
   "mimetype": "text/x-python",
   "name": "python",
   "nbconvert_exporter": "python",
   "pygments_lexer": "ipython3",
   "version": "3.9.7"
  }
 },
 "nbformat": 4,
 "nbformat_minor": 5
}
