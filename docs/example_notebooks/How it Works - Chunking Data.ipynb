{
 "cells": [
  {
   "cell_type": "markdown",
   "id": "57cf3948-890d-4688-ab78-ee219c198c9e",
   "metadata": {},
   "source": [
    "# Not enough chunks"
   ]
  },
  {
   "cell_type": "code",
   "execution_count": null,
   "id": "52446b5c-f009-446c-83df-69b4c2f65ae6",
   "metadata": {
    "tags": []
   },
   "outputs": [
    {
     "name": "stderr",
     "output_type": "stream",
     "text": [
      "/home/niels/Code/nml/nannyml/nannyml/chunk.py:181: UserWarning: The resulting number of chunks is too low. Please consider splitting your data in a different way or continue at your own risk.\n",
      "  warnings.warn(\n",
      "/home/niels/Code/nml/nannyml/nannyml/chunk.py:181: UserWarning: The resulting number of chunks is too low. Please consider splitting your data in a different way or continue at your own risk.\n",
      "  warnings.warn(\n"
     ]
    },
    {
     "name": "stderr",
     "output_type": "stream",
     "text": [
      "/home/niels/Code/nml/nannyml/nannyml/chunk.py:181: UserWarning: The resulting number of chunks is too low. Please consider splitting your data in a different way or continue at your own risk.\n",
      "  warnings.warn(\n",
      "/home/niels/Code/nml/nannyml/nannyml/performance_estimation/confidence_based/metrics.py:401: UserWarning: No 'y_true' values given for chunk, returning NaN as realized ROC-AUC.\n",
      "  warnings.warn(\"No 'y_true' values given for chunk, returning NaN as realized ROC-AUC.\")\n",
      "/home/niels/Code/nml/nannyml/nannyml/performance_estimation/confidence_based/metrics.py:401: UserWarning: No 'y_true' values given for chunk, returning NaN as realized ROC-AUC.\n",
      "  warnings.warn(\"No 'y_true' values given for chunk, returning NaN as realized ROC-AUC.\")\n",
      "/home/niels/Code/nml/nannyml/nannyml/performance_estimation/confidence_based/metrics.py:401: UserWarning: No 'y_true' values given for chunk, returning NaN as realized ROC-AUC.\n",
      "  warnings.warn(\"No 'y_true' values given for chunk, returning NaN as realized ROC-AUC.\")\n",
      "/home/niels/Code/nml/nannyml/nannyml/performance_estimation/confidence_based/metrics.py:401: UserWarning: No 'y_true' values given for chunk, returning NaN as realized ROC-AUC.\n",
      "  warnings.warn(\"No 'y_true' values given for chunk, returning NaN as realized ROC-AUC.\")\n",
      "/home/niels/Code/nml/nannyml/nannyml/performance_estimation/confidence_based/metrics.py:401: UserWarning: No 'y_true' values given for chunk, returning NaN as realized ROC-AUC.\n",
      "  warnings.warn(\"No 'y_true' values given for chunk, returning NaN as realized ROC-AUC.\")\n"
     ]
    }
   ],
   "source": [
    "import nannyml as nml\n",
    "reference_df, analysis_df, _ = nml.load_synthetic_car_loan_dataset()\n",
    "cbpe = nml.CBPE(\n",
    "    y_pred_proba='y_pred_proba',\n",
    "    y_pred='y_pred',\n",
    "    y_true='repaid',\n",
    "    timestamp_column_name='timestamp',\n",
    "    chunk_number=5,\n",
    "    metrics=['roc_auc'],\n",
    "    problem_type='classification_binary',\n",
    ").fit(reference_data=reference_df)\n",
    "est_perf = cbpe.estimate(analysis_df)"
   ]
  },
  {
   "cell_type": "markdown",
   "id": "c35a75c8-34e8-4cd2-b206-799e7c361565",
   "metadata": {},
   "source": [
    "# Not enough observations in chunk"
   ]
  },
  {
   "cell_type": "markdown",
   "id": "aa2986bd-7e2d-47ea-8161-23ba8ba648c4",
   "metadata": {},
   "source": [
    "# Sampling error"
   ]
  },
  {
   "cell_type": "code",
   "execution_count": null,
   "id": "181ddd49-e709-4d45-9ce6-5d61f99a65c5",
   "metadata": {},
   "outputs": [
    {
     "data": {
      "image/png": "[encoded data removed]",
      "text/plain": [
       "<Figure size 640x480 with 1 Axes>"
      ]
     },
     "metadata": {},
     "output_type": "display_data"
    }
   ],
   "source": [
    "import numpy as np\n",
    "import matplotlib.pyplot as plt\n",
    "from sklearn.metrics import accuracy_score\n",
    "\n",
    "sample_size = 100\n",
    "dataset_size = 10_000\n",
    "# random model\n",
    "np.random.seed(23)\n",
    "y_true = np.random.binomial(1, 0.5, dataset_size)\n",
    "y_pred = np.random.binomial(1, 0.5, dataset_size)\n",
    "accuracy_scores = []\n",
    "\n",
    "for experiment in range(10_000):\n",
    "    subset_indexes = np.random.choice(dataset_size, sample_size, replace=False) # get random indexes\n",
    "    y_true_subset = y_true[subset_indexes]\n",
    "    y_pred_subset = y_pred[subset_indexes]\n",
    "    accuracy_scores.append(accuracy_score(y_true_subset, y_pred_subset))\n",
    "\n",
    "plt.hist(accuracy_scores, bins=20, density=True)\n",
    "plt.title(\"Accuracy of random classifier\\n for randomly selected samples of 100 observations.\");\n",
    "plt.savefig(\"../_static/how-it-works/chunks_stability_of_accuracy.svg\", format=\"svg\")"
   ]
  },
  {
   "cell_type": "code",
   "execution_count": null,
   "id": "67032f9b-d04c-490b-91a3-b77094473213",
   "metadata": {},
   "outputs": [
    {
     "data": {
      "text/plain": [
       "(0.5045, 0.5045)"
      ]
     },
     "execution_count": 3,
     "metadata": {},
     "output_type": "execute_result"
    }
   ],
   "source": [
    "obs_level_accuracy = y_true == y_pred\n",
    "np.mean(obs_level_accuracy), accuracy_score(y_true, y_pred)"
   ]
  },
  {
   "cell_type": "code",
   "execution_count": null,
   "id": "fbb3292f-4f8a-4f8a-80f9-d363cdde1cf5",
   "metadata": {},
   "outputs": [
    {
     "data": {
      "text/plain": [
       "(0.05, 0.05)"
      ]
     },
     "execution_count": 4,
     "metadata": {},
     "output_type": "execute_result"
    }
   ],
   "source": [
    "SEM_std = np.std(obs_level_accuracy)/np.sqrt(sample_size)\n",
    "np.round(SEM_std, 3), np.round(np.std(accuracy_scores), 3)"
   ]
  }
 ],
 "metadata": {
  "kernelspec": {
   "display_name": "Python 3 (ipykernel)",
   "language": "python",
   "name": "python3"
  },
  "language_info": {
   "codemirror_mode": {
    "name": "ipython",
    "version": 3
   },
   "file_extension": ".py",
   "mimetype": "text/x-python",
   "name": "python",
   "nbconvert_exporter": "python",
   "pygments_lexer": "ipython3",
   "version": "3.8.8"
  }
 },
 "nbformat": 4,
 "nbformat_minor": 5
}
