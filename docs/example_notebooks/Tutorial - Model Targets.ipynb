{
 "cells": [
  {
   "cell_type": "code",
   "execution_count": null,
   "id": "2efdfb0a",
   "metadata": {},
   "outputs": [],
   "source": [
    "import nannyml as nml\n",
    "import pandas as pd\n",
    "from IPython.display import display\n",
    "reference, analysis, analysis_target = nml.load_synthetic_sample()\n",
    "metadata = nml.extract_metadata(data = reference, model_name='wfh_predictor')\n",
    "metadata.target_column_name = 'work_home_actual'\n",
    "display(reference.head())\n",
    "\n",
    "data = pd.concat([reference, analysis.set_index('identifier').join(analysis_target.set_index('identifier'), on='identifier', rsuffix='_r')], ignore_index=True).reset_index(drop=True)\n",
    "data.loc[data['partition'] == 'analysis'].head(3)\n",
    "\n",
    "target_distribution_calculator = nml.TargetDistributionCalculator(model_metadata=metadata, chunk_size=5000).fit(reference_data=reference)\n",
    "\n",
    "target_distribution = target_distribution_calculator.calculate(data)\n",
    "target_distribution.data.head(3)\n",
    "\n",
    "fig = target_distribution.plot(kind='distribution', distribution='metric')\n",
    "fig.show()\n",
    "\n",
    "fig = target_distribution.plot(kind='distribution', distribution='statistical')\n",
    "fig.show()"
   ]
  },
  {
   "cell_type": "code",
   "execution_count": null,
   "id": "18d496f8",
   "metadata": {},
   "outputs": [],
   "source": [
    "import nannyml as nml\n",
    "import pandas as pd\n",
    "from IPython.display import display\n",
    "reference, analysis, analysis_target = nml.load_synthetic_sample()\n",
    "metadata = nml.extract_metadata(data = reference, model_name='wfh_predictor')\n",
    "metadata.target_column_name = 'work_home_actual'\n",
    "display(reference.head(3))"
   ]
  },
  {
   "cell_type": "code",
   "execution_count": null,
   "id": "844eea5d",
   "metadata": {
    "scrolled": true
   },
   "outputs": [],
   "source": [
    "print(reference.head(3).to_markdown(tablefmt=\"grid\"))"
   ]
  },
  {
   "cell_type": "code",
   "execution_count": null,
   "id": "fc6b800a",
   "metadata": {},
   "outputs": [],
   "source": [
    "data = pd.concat([reference, analysis.set_index('identifier').join(analysis_target.set_index('identifier'), on='identifier', rsuffix='_r').reset_index()], ignore_index=True)\n",
    "display(data.loc[data['partition'] == 'analysis'].head(3))"
   ]
  },
  {
   "cell_type": "code",
   "execution_count": null,
   "id": "26cdc870",
   "metadata": {},
   "outputs": [],
   "source": [
    "target_distribution_calculator = nml.TargetDistributionCalculator(model_metadata=metadata, chunk_size=5000).fit(reference_data=reference)"
   ]
  },
  {
   "cell_type": "code",
   "execution_count": null,
   "id": "19ab12b6",
   "metadata": {},
   "outputs": [],
   "source": [
    "target_distribution = target_distribution_calculator.calculate(data)\n",
    "display(target_distribution.data.head(3))"
   ]
  },
  {
   "cell_type": "code",
   "execution_count": null,
   "id": "b07477c0",
   "metadata": {
    "scrolled": true
   },
   "outputs": [],
   "source": [
    "print(target_distribution.data.head(3).to_markdown(tablefmt=\"grid\"))"
   ]
  },
  {
   "cell_type": "code",
   "execution_count": null,
   "id": "a798c71a",
   "metadata": {},
   "outputs": [],
   "source": [
    "fig = target_distribution.plot(kind='distribution', distribution='metric')\n",
    "fig.show()\n",
    "# save figure - not shown on guide:\n",
    "# figure.write_image(file=f\"target_distribution_metric.svg\")"
   ]
  },
  {
   "cell_type": "code",
   "execution_count": null,
   "id": "c59c11c1",
   "metadata": {},
   "outputs": [],
   "source": [
    "fig = target_distribution.plot(kind='distribution', distribution='statistical')\n",
    "fig.show()\n",
    "# save figure - not shown on guide:\n",
    "# figure.write_image(file=f\"target_distribution_statistical.svg\")"
   ]
  },
  {
   "cell_type": "code",
   "execution_count": null,
   "id": "60f24f90",
   "metadata": {},
   "outputs": [],
   "source": []
  }
 ],
 "metadata": {
  "kernelspec": {
   "display_name": "Python 3 (ipykernel)",
   "language": "python",
   "name": "python3"
  },
  "language_info": {
   "codemirror_mode": {
    "name": "ipython",
    "version": 3
   },
   "file_extension": ".py",
   "mimetype": "text/x-python",
   "name": "python",
   "nbconvert_exporter": "python",
   "pygments_lexer": "ipython3",
   "version": "3.10.4"
  }
 },
 "nbformat": 4,
 "nbformat_minor": 5
}
