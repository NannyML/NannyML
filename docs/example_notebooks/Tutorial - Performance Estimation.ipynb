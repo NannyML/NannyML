{
 "cells": [
  {
   "cell_type": "code",
   "execution_count": null,
   "id": "483b2055",
   "metadata": {
    "scrolled": false,
    "pycharm": {
     "name": "#%%\n"
    }
   },
   "outputs": [],
   "source": [
    "import pandas as pd\n",
    "import nannyml as nml\n",
    "from IPython.display import display\n",
    "\n",
    "reference, analysis, analysis_gt = nml.datasets.load_synthetic_sample()\n",
    "display(reference.head(3))\n",
    "\n",
    "metadata = nml.extract_metadata(reference, model_name='wfh_predictor', model_type=nml.ModelType.CLASSIFICATION_BINARY, exclude_columns=['identifier'])\n",
    "metadata.target_column_name = 'work_home_actual'\n",
    "display(metadata.is_complete())\n",
    "\n",
    "cbpe = nml.CBPE(\n",
    "    model_metadata=metadata,\n",
    "    chunk_size=5000,\n",
    "    metrics=['roc_auc', 'f1', 'precision', 'recall', 'specificity', 'accuracy']\n",
    ").fit(reference_data=reference)\n",
    "est_perf = cbpe.estimate(pd.concat([reference, analysis], ignore_index=True))\n",
    "display(est_perf.data.head(3))\n",
    "\n",
    "for metric in cbpe.metrics:\n",
    "    est_perf.plot(kind='performance', metric=metric).show()"
   ]
  },
  {
   "cell_type": "code",
   "execution_count": null,
   "id": "725302b5",
   "metadata": {
    "pycharm": {
     "name": "#%%\n"
    }
   },
   "outputs": [],
   "source": [
    "import pandas as pd\n",
    "import nannyml as nml\n",
    "from IPython.display import display\n",
    "\n",
    "reference, analysis, analysis_gt = nml.datasets.load_synthetic_sample()\n",
    "display(reference.head(3))"
   ]
  },
  {
   "cell_type": "code",
   "execution_count": null,
   "id": "acb51bc7",
   "metadata": {
    "scrolled": true,
    "pycharm": {
     "name": "#%%\n"
    }
   },
   "outputs": [],
   "source": [
    "print(reference.head(3).to_markdown(tablefmt=\"grid\"))"
   ]
  },
  {
   "cell_type": "code",
   "execution_count": null,
   "id": "e3d05e93",
   "metadata": {
    "pycharm": {
     "name": "#%%\n"
    }
   },
   "outputs": [],
   "source": [
    "display(analysis.head(3))"
   ]
  },
  {
   "cell_type": "code",
   "execution_count": null,
   "id": "370fc1bc",
   "metadata": {
    "pycharm": {
     "name": "#%%\n"
    }
   },
   "outputs": [],
   "source": [
    "print(analysis.head(3).to_markdown(tablefmt=\"grid\"))"
   ]
  },
  {
   "cell_type": "code",
   "execution_count": null,
   "id": "6e544b94",
   "metadata": {
    "pycharm": {
     "name": "#%%\n"
    }
   },
   "outputs": [],
   "source": [
    "metadata = nml.extract_metadata(reference, model_name='wfh_predictor', model_type=nml.ModelType.CLASSIFICATION_BINARY, exclude_columns=['identifier'])\n",
    "metadata.target_column_name = 'work_home_actual'"
   ]
  },
  {
   "cell_type": "code",
   "execution_count": null,
   "id": "49e4734b",
   "metadata": {
    "pycharm": {
     "name": "#%%\n"
    }
   },
   "outputs": [],
   "source": [
    "display(metadata.is_complete())"
   ]
  },
  {
   "cell_type": "code",
   "execution_count": null,
   "id": "35637486",
   "metadata": {
    "pycharm": {
     "name": "#%%\n"
    }
   },
   "outputs": [],
   "source": [
    "cbpe = nml.CBPE(\n",
    "    model_metadata=metadata,\n",
    "    chunk_size=5000,\n",
    "    metrics=['roc_auc', 'f1', 'precision', 'recall', 'specificity', 'accuracy']\n",
    ").fit(reference_data=reference)\n",
    "est_perf = cbpe.estimate(pd.concat([reference, analysis], ignore_index=True))\n",
    "display(est_perf.data.head(3))"
   ]
  },
  {
   "cell_type": "code",
   "execution_count": null,
   "id": "36c26f82",
   "metadata": {
    "scrolled": false,
    "pycharm": {
     "name": "#%%\n"
    }
   },
   "outputs": [],
   "source": [
    "for metric in cbpe.metrics:\n",
    "    figure = est_perf.plot(kind='performance', metric=metric)\n",
    "    figure.show()\n",
    "    # save figure - not shown on guide:\n",
    "    figure.write_image(file=f\"../_static/tutorial-perf-est-{metric}.svg\")"
   ]
  },
  {
   "cell_type": "code",
   "execution_count": null,
   "id": "760ad79e",
   "metadata": {
    "pycharm": {
     "name": "#%%\n"
    }
   },
   "outputs": [],
   "source": []
  }
 ],
 "metadata": {
  "kernelspec": {
   "display_name": "Python 3 (ipykernel)",
   "language": "python",
   "name": "python3"
  },
  "language_info": {
   "codemirror_mode": {
    "name": "ipython",
    "version": 3
   },
   "file_extension": ".py",
   "mimetype": "text/x-python",
   "name": "python",
   "nbconvert_exporter": "python",
   "pygments_lexer": "ipython3",
   "version": "3.10.4"
  }
 },
 "nbformat": 4,
 "nbformat_minor": 5
}