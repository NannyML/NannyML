{
 "cells": [
  {
   "cell_type": "code",
   "execution_count": null,
   "metadata": {},
   "outputs": [
    {
     "data": {
      "text/html": [
       "<div>\n",
       "<style scoped>\n",
       "    .dataframe tbody tr th:only-of-type {\n",
       "        vertical-align: middle;\n",
       "    }\n",
       "\n",
       "    .dataframe tbody tr th {\n",
       "        vertical-align: top;\n",
       "    }\n",
       "\n",
       "    .dataframe thead th {\n",
       "        text-align: right;\n",
       "    }\n",
       "</style>\n",
       "<table border=\"1\" class=\"dataframe\">\n",
       "  <thead>\n",
       "    <tr style=\"text-align: right;\">\n",
       "      <th></th>\n",
       "      <th>distance_from_office</th>\n",
       "      <th>salary_range</th>\n",
       "      <th>gas_price_per_litre</th>\n",
       "      <th>public_transportation_cost</th>\n",
       "      <th>wfh_prev_workday</th>\n",
       "      <th>workday</th>\n",
       "      <th>tenure</th>\n",
       "      <th>identifier</th>\n",
       "      <th>work_home_actual</th>\n",
       "      <th>timestamp</th>\n",
       "      <th>y_pred_proba</th>\n",
       "      <th>period</th>\n",
       "      <th>y_pred</th>\n",
       "    </tr>\n",
       "  </thead>\n",
       "  <tbody>\n",
       "    <tr>\n",
       "      <th>0</th>\n",
       "      <td>5.962247</td>\n",
       "      <td>40K - 60K €</td>\n",
       "      <td>2.119485</td>\n",
       "      <td>8.568058</td>\n",
       "      <td>False</td>\n",
       "      <td>Friday</td>\n",
       "      <td>0.212653</td>\n",
       "      <td>0</td>\n",
       "      <td>1</td>\n",
       "      <td>2014-05-09 22:27:20</td>\n",
       "      <td>0.99</td>\n",
       "      <td>reference</td>\n",
       "      <td>1</td>\n",
       "    </tr>\n",
       "    <tr>\n",
       "      <th>1</th>\n",
       "      <td>0.535872</td>\n",
       "      <td>40K - 60K €</td>\n",
       "      <td>2.357199</td>\n",
       "      <td>5.425382</td>\n",
       "      <td>True</td>\n",
       "      <td>Tuesday</td>\n",
       "      <td>4.927549</td>\n",
       "      <td>1</td>\n",
       "      <td>0</td>\n",
       "      <td>2014-05-09 22:59:32</td>\n",
       "      <td>0.07</td>\n",
       "      <td>reference</td>\n",
       "      <td>0</td>\n",
       "    </tr>\n",
       "    <tr>\n",
       "      <th>2</th>\n",
       "      <td>1.969519</td>\n",
       "      <td>40K - 60K €</td>\n",
       "      <td>2.366849</td>\n",
       "      <td>8.247158</td>\n",
       "      <td>False</td>\n",
       "      <td>Monday</td>\n",
       "      <td>0.520817</td>\n",
       "      <td>2</td>\n",
       "      <td>1</td>\n",
       "      <td>2014-05-09 23:48:25</td>\n",
       "      <td>1.00</td>\n",
       "      <td>reference</td>\n",
       "      <td>1</td>\n",
       "    </tr>\n",
       "  </tbody>\n",
       "</table>\n",
       "</div>"
      ],
      "text/plain": [
       "   distance_from_office salary_range  gas_price_per_litre  \\\n",
       "0              5.962247  40K - 60K €             2.119485   \n",
       "1              0.535872  40K - 60K €             2.357199   \n",
       "2              1.969519  40K - 60K €             2.366849   \n",
       "\n",
       "   public_transportation_cost  wfh_prev_workday  workday    tenure  \\\n",
       "0                    8.568058             False   Friday  0.212653   \n",
       "1                    5.425382              True  Tuesday  4.927549   \n",
       "2                    8.247158             False   Monday  0.520817   \n",
       "\n",
       "   identifier  work_home_actual            timestamp  y_pred_proba     period  \\\n",
       "0           0                 1  2014-05-09 22:27:20          0.99  reference   \n",
       "1           1                 0  2014-05-09 22:59:32          0.07  reference   \n",
       "2           2                 1  2014-05-09 23:48:25          1.00  reference   \n",
       "\n",
       "   y_pred  \n",
       "0       1  \n",
       "1       0  \n",
       "2       1  "
      ]
     },
     "metadata": {},
     "output_type": "display_data"
    }
   ],
   "source": [
    "import nannyml as nml\n",
    "from IPython.display import display\n",
    "\n",
    "reference_df = nml.load_synthetic_binary_classification_dataset()[0]\n",
    "analysis_df = nml.load_synthetic_binary_classification_dataset()[1]\n",
    "analysis_target_df = nml.load_synthetic_binary_classification_dataset()[2]\n",
    "analysis_df = analysis_df.merge(analysis_target_df, on='identifier')\n",
    "\n",
    "display(reference_df.head(3))"
   ]
  },
  {
   "cell_type": "code",
   "execution_count": null,
   "metadata": {},
   "outputs": [
    {
     "name": "stdout",
     "output_type": "stream",
     "text": [
      "+----+------------------------+----------------+-----------------------+------------------------------+--------------------+-----------+----------+--------------+--------------------+---------------------+----------------+-----------+----------+\n",
      "|    |   distance_from_office | salary_range   |   gas_price_per_litre |   public_transportation_cost | wfh_prev_workday   | workday   |   tenure |   identifier |   work_home_actual | timestamp           |   y_pred_proba | period    |   y_pred |\n",
      "+====+========================+================+=======================+==============================+====================+===========+==========+==============+====================+=====================+================+===========+==========+\n",
      "|  0 |               5.96225  | 40K - 60K €    |               2.11948 |                      8.56806 | False              | Friday    | 0.212653 |            0 |                  1 | 2014-05-09 22:27:20 |           0.99 | reference |        1 |\n",
      "+----+------------------------+----------------+-----------------------+------------------------------+--------------------+-----------+----------+--------------+--------------------+---------------------+----------------+-----------+----------+\n",
      "|  1 |               0.535872 | 40K - 60K €    |               2.3572  |                      5.42538 | True               | Tuesday   | 4.92755  |            1 |                  0 | 2014-05-09 22:59:32 |           0.07 | reference |        0 |\n",
      "+----+------------------------+----------------+-----------------------+------------------------------+--------------------+-----------+----------+--------------+--------------------+---------------------+----------------+-----------+----------+\n",
      "|  2 |               1.96952  | 40K - 60K €    |               2.36685 |                      8.24716 | False              | Monday    | 0.520817 |            2 |                  1 | 2014-05-09 23:48:25 |           1    | reference |        1 |\n",
      "+----+------------------------+----------------+-----------------------+------------------------------+--------------------+-----------+----------+--------------+--------------------+---------------------+----------------+-----------+----------+\n"
     ]
    }
   ],
   "source": [
    "print(reference_df.head(3).to_markdown(tablefmt=\"grid\"))"
   ]
  },
  {
   "cell_type": "code",
   "execution_count": null,
   "metadata": {},
   "outputs": [],
   "source": [
    "calc = nml.TargetDistributionCalculator(\n",
    "    y_true='work_home_actual',\n",
    "    timestamp_column_name='timestamp',\n",
    "    problem_type='classification_binary'\n",
    ")"
   ]
  },
  {
   "cell_type": "code",
   "execution_count": null,
   "metadata": {},
   "outputs": [
    {
     "data": {
      "text/html": [
       "<div>\n",
       "<style scoped>\n",
       "    .dataframe tbody tr th:only-of-type {\n",
       "        vertical-align: middle;\n",
       "    }\n",
       "\n",
       "    .dataframe tbody tr th {\n",
       "        vertical-align: top;\n",
       "    }\n",
       "\n",
       "    .dataframe thead th {\n",
       "        text-align: right;\n",
       "    }\n",
       "</style>\n",
       "<table border=\"1\" class=\"dataframe\">\n",
       "  <thead>\n",
       "    <tr style=\"text-align: right;\">\n",
       "      <th></th>\n",
       "      <th>key</th>\n",
       "      <th>chunk_index</th>\n",
       "      <th>start_index</th>\n",
       "      <th>end_index</th>\n",
       "      <th>start_date</th>\n",
       "      <th>end_date</th>\n",
       "      <th>period</th>\n",
       "      <th>targets_missing_rate</th>\n",
       "      <th>metric_target_drift</th>\n",
       "      <th>statistical_target_drift</th>\n",
       "      <th>p_value</th>\n",
       "      <th>thresholds</th>\n",
       "      <th>alert</th>\n",
       "      <th>significant</th>\n",
       "    </tr>\n",
       "  </thead>\n",
       "  <tbody>\n",
       "    <tr>\n",
       "      <th>0</th>\n",
       "      <td>[0:4999]</td>\n",
       "      <td>0</td>\n",
       "      <td>0</td>\n",
       "      <td>4999</td>\n",
       "      <td>2017-08-31 04:20:00</td>\n",
       "      <td>2018-01-02 00:45:44</td>\n",
       "      <td>None</td>\n",
       "      <td>0.0</td>\n",
       "      <td>0.5172</td>\n",
       "      <td>5.574578</td>\n",
       "      <td>0.018223</td>\n",
       "      <td>0.05</td>\n",
       "      <td>True</td>\n",
       "      <td>True</td>\n",
       "    </tr>\n",
       "    <tr>\n",
       "      <th>1</th>\n",
       "      <td>[5000:9999]</td>\n",
       "      <td>1</td>\n",
       "      <td>5000</td>\n",
       "      <td>9999</td>\n",
       "      <td>2018-01-02 01:13:11</td>\n",
       "      <td>2018-05-01 13:10:10</td>\n",
       "      <td>None</td>\n",
       "      <td>0.0</td>\n",
       "      <td>0.4916</td>\n",
       "      <td>1.126131</td>\n",
       "      <td>0.288602</td>\n",
       "      <td>0.05</td>\n",
       "      <td>False</td>\n",
       "      <td>False</td>\n",
       "    </tr>\n",
       "    <tr>\n",
       "      <th>2</th>\n",
       "      <td>[10000:14999]</td>\n",
       "      <td>2</td>\n",
       "      <td>10000</td>\n",
       "      <td>14999</td>\n",
       "      <td>2018-05-01 14:25:25</td>\n",
       "      <td>2018-09-01 15:40:40</td>\n",
       "      <td>None</td>\n",
       "      <td>0.0</td>\n",
       "      <td>0.4858</td>\n",
       "      <td>3.397654</td>\n",
       "      <td>0.065289</td>\n",
       "      <td>0.05</td>\n",
       "      <td>False</td>\n",
       "      <td>False</td>\n",
       "    </tr>\n",
       "  </tbody>\n",
       "</table>\n",
       "</div>"
      ],
      "text/plain": [
       "             key  chunk_index  start_index  end_index          start_date  \\\n",
       "0       [0:4999]            0            0       4999 2017-08-31 04:20:00   \n",
       "1    [5000:9999]            1         5000       9999 2018-01-02 01:13:11   \n",
       "2  [10000:14999]            2        10000      14999 2018-05-01 14:25:25   \n",
       "\n",
       "             end_date period  targets_missing_rate  metric_target_drift  \\\n",
       "0 2018-01-02 00:45:44   None                   0.0               0.5172   \n",
       "1 2018-05-01 13:10:10   None                   0.0               0.4916   \n",
       "2 2018-09-01 15:40:40   None                   0.0               0.4858   \n",
       "\n",
       "   statistical_target_drift   p_value  thresholds  alert  significant  \n",
       "0                  5.574578  0.018223        0.05   True         True  \n",
       "1                  1.126131  0.288602        0.05  False        False  \n",
       "2                  3.397654  0.065289        0.05  False        False  "
      ]
     },
     "metadata": {},
     "output_type": "display_data"
    }
   ],
   "source": [
    "calc.fit(reference_df)\n",
    "results = calc.calculate(analysis_df)\n",
    "display(results.data.head(3))"
   ]
  },
  {
   "cell_type": "code",
   "execution_count": null,
   "metadata": {},
   "outputs": [
    {
     "name": "stdout",
     "output_type": "stream",
     "text": [
      "+----+---------------+---------------+---------------+-------------+---------------------+---------------------+----------+------------------------+-----------------------+----------------------------+-----------+--------------+---------+---------------+\n",
      "|    | key           |   chunk_index |   start_index |   end_index | start_date          | end_date            | period   |   targets_missing_rate |   metric_target_drift |   statistical_target_drift |   p_value |   thresholds | alert   | significant   |\n",
      "+====+===============+===============+===============+=============+=====================+=====================+==========+========================+=======================+============================+===========+==============+=========+===============+\n",
      "|  0 | [0:4999]      |             0 |             0 |        4999 | 2017-08-31 04:20:00 | 2018-01-02 00:45:44 |          |                      0 |                0.5172 |                    5.57458 | 0.0182231 |         0.05 | True    | True          |\n",
      "+----+---------------+---------------+---------------+-------------+---------------------+---------------------+----------+------------------------+-----------------------+----------------------------+-----------+--------------+---------+---------------+\n",
      "|  1 | [5000:9999]   |             1 |          5000 |        9999 | 2018-01-02 01:13:11 | 2018-05-01 13:10:10 |          |                      0 |                0.4916 |                    1.12613 | 0.288602  |         0.05 | False   | False         |\n",
      "+----+---------------+---------------+---------------+-------------+---------------------+---------------------+----------+------------------------+-----------------------+----------------------------+-----------+--------------+---------+---------------+\n",
      "|  2 | [10000:14999] |             2 |         10000 |       14999 | 2018-05-01 14:25:25 | 2018-09-01 15:40:40 |          |                      0 |                0.4858 |                    3.39765 | 0.0652892 |         0.05 | False   | False         |\n",
      "+----+---------------+---------------+---------------+-------------+---------------------+---------------------+----------+------------------------+-----------------------+----------------------------+-----------+--------------+---------+---------------+\n"
     ]
    }
   ],
   "source": [
    "print(results.data.head(3).to_markdown(tablefmt=\"grid\"))"
   ]
  },
  {
   "cell_type": "code",
   "execution_count": null,
   "metadata": {},
   "outputs": [],
   "source": [
    "target_drift_fig = results.plot(kind='target_drift', plot_reference=True)\n",
    "target_drift_fig.show()"
   ]
  },
  {
   "cell_type": "code",
   "execution_count": null,
   "metadata": {},
   "outputs": [],
   "source": [
    "target_drift_fig.write_image('../_static/target_distribution_metric.svg')"
   ]
  },
  {
   "cell_type": "code",
   "execution_count": null,
   "metadata": {},
   "outputs": [],
   "source": [
    "target_distribution_fig = results.plot(kind='target_distribution', plot_reference=True)\n",
    "target_distribution_fig.show()"
   ]
  },
  {
   "cell_type": "code",
   "execution_count": null,
   "metadata": {},
   "outputs": [],
   "source": [
    "target_distribution_fig.write_image('../_static/target_distribution_statistical.svg')\n"
   ]
  }
 ],
 "metadata": {
  "kernelspec": {
   "display_name": "Python 3",
   "language": "python",
   "name": "python3"
  },
  "language_info": {
   "codemirror_mode": {
    "name": "ipython",
    "version": 3
   },
   "file_extension": ".py",
   "mimetype": "text/x-python",
   "name": "python",
   "nbconvert_exporter": "python",
   "pygments_lexer": "ipython3",
   "version": "3.8.8"
  }
 },
 "nbformat": 4,
 "nbformat_minor": 0
}
