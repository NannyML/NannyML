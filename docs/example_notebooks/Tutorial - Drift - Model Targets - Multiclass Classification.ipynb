{
 "cells": [
  {
   "cell_type": "code",
   "metadata": {},
   "outputs": [
    {
     "data": {
      "text/html": [
       "<div>\n",
       "<style scoped>\n",
       "    .dataframe tbody tr th:only-of-type {\n",
       "        vertical-align: middle;\n",
       "    }\n",
       "\n",
       "    .dataframe tbody tr th {\n",
       "        vertical-align: top;\n",
       "    }\n",
       "\n",
       "    .dataframe thead th {\n",
       "        text-align: right;\n",
       "    }\n",
       "</style>\n",
       "<table border=\"1\" class=\"dataframe\">\n",
       "  <thead>\n",
       "    <tr style=\"text-align: right;\">\n",
       "      <th></th>\n",
       "      <th>acq_channel</th>\n",
       "      <th>app_behavioral_score</th>\n",
       "      <th>requested_credit_limit</th>\n",
       "      <th>app_channel</th>\n",
       "      <th>credit_bureau_score</th>\n",
       "      <th>stated_income</th>\n",
       "      <th>is_customer</th>\n",
       "      <th>period</th>\n",
       "      <th>identifier</th>\n",
       "      <th>timestamp</th>\n",
       "      <th>y_pred_proba_prepaid_card</th>\n",
       "      <th>y_pred_proba_highstreet_card</th>\n",
       "      <th>y_pred_proba_upmarket_card</th>\n",
       "      <th>y_pred</th>\n",
       "      <th>y_true</th>\n",
       "    </tr>\n",
       "  </thead>\n",
       "  <tbody>\n",
       "    <tr>\n",
       "      <th>0</th>\n",
       "      <td>Partner3</td>\n",
       "      <td>1.808232</td>\n",
       "      <td>350</td>\n",
       "      <td>web</td>\n",
       "      <td>309</td>\n",
       "      <td>15000</td>\n",
       "      <td>True</td>\n",
       "      <td>reference</td>\n",
       "      <td>60000</td>\n",
       "      <td>2020-05-02 02:01:30</td>\n",
       "      <td>0.97</td>\n",
       "      <td>0.03</td>\n",
       "      <td>0.00</td>\n",
       "      <td>prepaid_card</td>\n",
       "      <td>prepaid_card</td>\n",
       "    </tr>\n",
       "    <tr>\n",
       "      <th>1</th>\n",
       "      <td>Partner2</td>\n",
       "      <td>4.382568</td>\n",
       "      <td>500</td>\n",
       "      <td>mobile</td>\n",
       "      <td>418</td>\n",
       "      <td>23000</td>\n",
       "      <td>True</td>\n",
       "      <td>reference</td>\n",
       "      <td>60001</td>\n",
       "      <td>2020-05-02 02:03:33</td>\n",
       "      <td>0.87</td>\n",
       "      <td>0.13</td>\n",
       "      <td>0.00</td>\n",
       "      <td>prepaid_card</td>\n",
       "      <td>prepaid_card</td>\n",
       "    </tr>\n",
       "    <tr>\n",
       "      <th>2</th>\n",
       "      <td>Partner2</td>\n",
       "      <td>-0.787575</td>\n",
       "      <td>400</td>\n",
       "      <td>web</td>\n",
       "      <td>507</td>\n",
       "      <td>24000</td>\n",
       "      <td>False</td>\n",
       "      <td>reference</td>\n",
       "      <td>60002</td>\n",
       "      <td>2020-05-02 02:04:49</td>\n",
       "      <td>0.47</td>\n",
       "      <td>0.35</td>\n",
       "      <td>0.18</td>\n",
       "      <td>prepaid_card</td>\n",
       "      <td>upmarket_card</td>\n",
       "    </tr>\n",
       "  </tbody>\n",
       "</table>\n",
       "</div>"
      ],
      "text/plain": [
       "  acq_channel  app_behavioral_score  requested_credit_limit app_channel  \\\n",
       "0    Partner3              1.808232                     350         web   \n",
       "1    Partner2              4.382568                     500      mobile   \n",
       "2    Partner2             -0.787575                     400         web   \n",
       "\n",
       "   credit_bureau_score  stated_income  is_customer     period  identifier  \\\n",
       "0                  309          15000         True  reference       60000   \n",
       "1                  418          23000         True  reference       60001   \n",
       "2                  507          24000        False  reference       60002   \n",
       "\n",
       "             timestamp  y_pred_proba_prepaid_card  \\\n",
       "0  2020-05-02 02:01:30                       0.97   \n",
       "1  2020-05-02 02:03:33                       0.87   \n",
       "2  2020-05-02 02:04:49                       0.47   \n",
       "\n",
       "   y_pred_proba_highstreet_card  y_pred_proba_upmarket_card        y_pred  \\\n",
       "0                          0.03                        0.00  prepaid_card   \n",
       "1                          0.13                        0.00  prepaid_card   \n",
       "2                          0.35                        0.18  prepaid_card   \n",
       "\n",
       "          y_true  \n",
       "0   prepaid_card  \n",
       "1   prepaid_card  \n",
       "2  upmarket_card  "
      ]
     },
     "metadata": {},
     "output_type": "display_data"
    }
   ],
   "source": [
    "import nannyml as nml\n",
    "from IPython.display import display\n",
    "\n",
    "reference_df = nml.load_synthetic_multiclass_classification_dataset()[0]\n",
    "analysis_df = nml.load_synthetic_multiclass_classification_dataset()[1]\n",
    "analysis_target_df = nml.load_synthetic_multiclass_classification_dataset()[2]\n",
    "analysis_df = analysis_df.merge(analysis_target_df, on='identifier')\n",
    "\n",
    "display(reference_df.head(3))"
   ]
  },
  {
   "cell_type": "code",
   "metadata": {},
   "outputs": [
    {
     "name": "stdout",
     "output_type": "stream",
     "text": [
      "+----+---------------+------------------------+--------------------------+---------------+-----------------------+-----------------+---------------+-----------+--------------+---------------------+-----------------------------+--------------------------------+------------------------------+--------------+---------------+\n",
      "|    | acq_channel   |   app_behavioral_score |   requested_credit_limit | app_channel   |   credit_bureau_score |   stated_income | is_customer   | period    |   identifier | timestamp           |   y_pred_proba_prepaid_card |   y_pred_proba_highstreet_card |   y_pred_proba_upmarket_card | y_pred       | y_true        |\n",
      "+====+===============+========================+==========================+===============+=======================+=================+===============+===========+==============+=====================+=============================+================================+==============================+==============+===============+\n",
      "|  0 | Partner3      |               1.80823  |                      350 | web           |                   309 |           15000 | True          | reference |        60000 | 2020-05-02 02:01:30 |                        0.97 |                           0.03 |                         0    | prepaid_card | prepaid_card  |\n",
      "+----+---------------+------------------------+--------------------------+---------------+-----------------------+-----------------+---------------+-----------+--------------+---------------------+-----------------------------+--------------------------------+------------------------------+--------------+---------------+\n",
      "|  1 | Partner2      |               4.38257  |                      500 | mobile        |                   418 |           23000 | True          | reference |        60001 | 2020-05-02 02:03:33 |                        0.87 |                           0.13 |                         0    | prepaid_card | prepaid_card  |\n",
      "+----+---------------+------------------------+--------------------------+---------------+-----------------------+-----------------+---------------+-----------+--------------+---------------------+-----------------------------+--------------------------------+------------------------------+--------------+---------------+\n",
      "|  2 | Partner2      |              -0.787575 |                      400 | web           |                   507 |           24000 | False         | reference |        60002 | 2020-05-02 02:04:49 |                        0.47 |                           0.35 |                         0.18 | prepaid_card | upmarket_card |\n",
      "+----+---------------+------------------------+--------------------------+---------------+-----------------------+-----------------+---------------+-----------+--------------+---------------------+-----------------------------+--------------------------------+------------------------------+--------------+---------------+\n"
     ]
    }
   ],
   "source": [
    "print(reference_df.head(3).to_markdown(tablefmt=\"grid\"))"
   ]
  },
  {
   "cell_type": "code",
   "metadata": {},
   "outputs": [],
   "source": [
    "calc = nml.TargetDistributionCalculator(\n",
    "    y_true='y_true',\n",
    "    timestamp_column_name='timestamp',\n",
    "    problem_type='classification_multiclass'\n",
    ")"
   ]
  },
  {
   "cell_type": "code",
   "metadata": {},
   "outputs": [
    {
     "name": "stderr",
     "output_type": "stream",
     "text": [
      "/home/niels/Code/nml/nannyml/nannyml/nannyml/drift/target/target_distribution/calculator.py:185: UserWarning: the target column contains 3 unique values. NannyML cannot provide a value for 'metric_target_drift' when there are more than 2 unique values. All 'metric_target_drift' values will be set to np.NAN\n",
      "  warnings.warn(\n",
      "/home/niels/Code/nml/nannyml/nannyml/nannyml/drift/target/target_distribution/calculator.py:194: UserWarning: the target column contains non-numerical values. NannyML cannot provide a value for 'metric_target_drift'.All 'metric_target_drift' values will be set to np.NAN\n",
      "  warnings.warn(\n"
     ]
    },
    {
     "data": {
      "text/html": [
       "<div>\n",
       "<style scoped>\n",
       "    .dataframe tbody tr th:only-of-type {\n",
       "        vertical-align: middle;\n",
       "    }\n",
       "\n",
       "    .dataframe tbody tr th {\n",
       "        vertical-align: top;\n",
       "    }\n",
       "\n",
       "    .dataframe thead th {\n",
       "        text-align: right;\n",
       "    }\n",
       "</style>\n",
       "<table border=\"1\" class=\"dataframe\">\n",
       "  <thead>\n",
       "    <tr style=\"text-align: right;\">\n",
       "      <th></th>\n",
       "      <th>key</th>\n",
       "      <th>chunk_index</th>\n",
       "      <th>start_index</th>\n",
       "      <th>end_index</th>\n",
       "      <th>start_date</th>\n",
       "      <th>end_date</th>\n",
       "      <th>period</th>\n",
       "      <th>targets_missing_rate</th>\n",
       "      <th>metric_target_drift</th>\n",
       "      <th>statistical_target_drift</th>\n",
       "      <th>p_value</th>\n",
       "      <th>thresholds</th>\n",
       "      <th>alert</th>\n",
       "      <th>significant</th>\n",
       "    </tr>\n",
       "  </thead>\n",
       "  <tbody>\n",
       "    <tr>\n",
       "      <th>0</th>\n",
       "      <td>[0:5999]</td>\n",
       "      <td>0</td>\n",
       "      <td>0</td>\n",
       "      <td>5999</td>\n",
       "      <td>2020-09-01 03:10:01</td>\n",
       "      <td>2020-09-13 16:15:10</td>\n",
       "      <td>None</td>\n",
       "      <td>0.0</td>\n",
       "      <td>NaN</td>\n",
       "      <td>0.521545</td>\n",
       "      <td>0.770456</td>\n",
       "      <td>0.05</td>\n",
       "      <td>False</td>\n",
       "      <td>False</td>\n",
       "    </tr>\n",
       "    <tr>\n",
       "      <th>1</th>\n",
       "      <td>[6000:11999]</td>\n",
       "      <td>1</td>\n",
       "      <td>6000</td>\n",
       "      <td>11999</td>\n",
       "      <td>2020-09-13 16:15:32</td>\n",
       "      <td>2020-09-25 19:48:42</td>\n",
       "      <td>None</td>\n",
       "      <td>0.0</td>\n",
       "      <td>NaN</td>\n",
       "      <td>2.112256</td>\n",
       "      <td>0.347800</td>\n",
       "      <td>0.05</td>\n",
       "      <td>False</td>\n",
       "      <td>False</td>\n",
       "    </tr>\n",
       "    <tr>\n",
       "      <th>2</th>\n",
       "      <td>[12000:17999]</td>\n",
       "      <td>2</td>\n",
       "      <td>12000</td>\n",
       "      <td>17999</td>\n",
       "      <td>2020-09-25 19:50:04</td>\n",
       "      <td>2020-10-08 02:53:47</td>\n",
       "      <td>None</td>\n",
       "      <td>0.0</td>\n",
       "      <td>NaN</td>\n",
       "      <td>0.940108</td>\n",
       "      <td>0.624969</td>\n",
       "      <td>0.05</td>\n",
       "      <td>False</td>\n",
       "      <td>False</td>\n",
       "    </tr>\n",
       "  </tbody>\n",
       "</table>\n",
       "</div>"
      ],
      "text/plain": [
       "             key  chunk_index  start_index  end_index          start_date  \\\n",
       "0       [0:5999]            0            0       5999 2020-09-01 03:10:01   \n",
       "1   [6000:11999]            1         6000      11999 2020-09-13 16:15:32   \n",
       "2  [12000:17999]            2        12000      17999 2020-09-25 19:50:04   \n",
       "\n",
       "             end_date period  targets_missing_rate  metric_target_drift  \\\n",
       "0 2020-09-13 16:15:10   None                   0.0                  NaN   \n",
       "1 2020-09-25 19:48:42   None                   0.0                  NaN   \n",
       "2 2020-10-08 02:53:47   None                   0.0                  NaN   \n",
       "\n",
       "   statistical_target_drift   p_value  thresholds  alert  significant  \n",
       "0                  0.521545  0.770456        0.05  False        False  \n",
       "1                  2.112256  0.347800        0.05  False        False  \n",
       "2                  0.940108  0.624969        0.05  False        False  "
      ]
     },
     "metadata": {},
     "output_type": "display_data"
    }
   ],
   "source": [
    "calc.fit(reference_df)\n",
    "results = calc.calculate(analysis_df)\n",
    "display(results.data.head(3))"
   ]
  },
  {
   "cell_type": "code",
   "metadata": {},
   "outputs": [
    {
     "name": "stdout",
     "output_type": "stream",
     "text": [
      "+----+---------------+---------------+---------------+-------------+---------------------+---------------------+----------+------------------------+-----------------------+----------------------------+-----------+--------------+---------+---------------+\n",
      "|    | key           |   chunk_index |   start_index |   end_index | start_date          | end_date            | period   |   targets_missing_rate |   metric_target_drift |   statistical_target_drift |   p_value |   thresholds | alert   | significant   |\n",
      "+====+===============+===============+===============+=============+=====================+=====================+==========+========================+=======================+============================+===========+==============+=========+===============+\n",
      "|  0 | [0:5999]      |             0 |             0 |        5999 | 2020-09-01 03:10:01 | 2020-09-13 16:15:10 |          |                      0 |                   nan |                   0.521545 |  0.770456 |         0.05 | False   | False         |\n",
      "+----+---------------+---------------+---------------+-------------+---------------------+---------------------+----------+------------------------+-----------------------+----------------------------+-----------+--------------+---------+---------------+\n",
      "|  1 | [6000:11999]  |             1 |          6000 |       11999 | 2020-09-13 16:15:32 | 2020-09-25 19:48:42 |          |                      0 |                   nan |                   2.11226  |  0.3478   |         0.05 | False   | False         |\n",
      "+----+---------------+---------------+---------------+-------------+---------------------+---------------------+----------+------------------------+-----------------------+----------------------------+-----------+--------------+---------+---------------+\n",
      "|  2 | [12000:17999] |             2 |         12000 |       17999 | 2020-09-25 19:50:04 | 2020-10-08 02:53:47 |          |                      0 |                   nan |                   0.940108 |  0.624969 |         0.05 | False   | False         |\n",
      "+----+---------------+---------------+---------------+-------------+---------------------+---------------------+----------+------------------------+-----------------------+----------------------------+-----------+--------------+---------+---------------+\n"
     ]
    }
   ],
   "source": [
    "print(results.data.head(3).to_markdown(tablefmt=\"grid\"))"
   ]
  },
  {
   "cell_type": "code",
   "metadata": {},
   "outputs": [],
   "source": [
    "target_drift_fig = results.plot(kind='target_drift', plot_reference=True)\n",
    "target_drift_fig.show()"
   ]
  },
  {
   "cell_type": "code",
   "metadata": {},
   "outputs": [],
   "source": [
    "target_drift_fig.write_image('../_static/tutorials/detecting_data_drift/model_targets/multiclass/target-distribution-statistical.svg')"
   ]
  },
  {
   "cell_type": "code",
   "metadata": {},
   "outputs": [],
   "source": [
    "target_distribution_fig = results.plot(kind='target_distribution', plot_reference=True)\n",
    "target_distribution_fig.show()\n"
   ]
  }
 ],
 "metadata": {
  "kernelspec": {
   "display_name": "Python 3",
   "language": "python",
   "name": "python3"
  },
  "language_info": {
   "codemirror_mode": {
    "name": "ipython",
    "version": 3
   },
   "file_extension": ".py",
   "mimetype": "text/x-python",
   "name": "python",
   "nbconvert_exporter": "python",
   "pygments_lexer": "ipython3",
   "version": "3.8.8"
  }
 },
 "nbformat": 4,
 "nbformat_minor": 0
}
