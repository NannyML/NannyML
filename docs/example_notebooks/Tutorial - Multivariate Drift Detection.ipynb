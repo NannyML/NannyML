{
 "cells": [
  {
   "cell_type": "code",
   "execution_count": null,
   "id": "b738d305",
   "metadata": {},
   "outputs": [],
   "source": [
    "import nannyml as nml\n",
    "import pandas as pd\n",
    "from IPython.display import display\n",
    "reference, analysis, analysis_target = nml.load_synthetic_sample()\n",
    "metadata = nml.extract_metadata(data = reference, model_name='wfh_predictor', exclude_columns='identifier')\n",
    "metadata.target_column_name = 'work_home_actual'\n",
    "display(reference.head())\n",
    "\n",
    "# Let's initialize the object that will perform Data Reconstruction with PCA\n",
    "# Let's use a chunk size of 5000 data points to create our drift statistics\n",
    "rcerror_calculator = nml.DataReconstructionDriftCalculator(model_metadata=metadata, chunk_size=5000)\n",
    "rcerror_calculator = rcerror_calculator.fit(reference_data=reference)\n",
    "# let's see RC error statistics for all available data\n",
    "data = pd.concat([reference, analysis], ignore_index=True)\n",
    "rcerror_results = rcerror_calculator.calculate(data=data)\n",
    "\n",
    "from sklearn.impute import SimpleImputer\n",
    "\n",
    "# Let's initialize the object that will perform Data Reconstruction with PCA\n",
    "rcerror_calculator = nml.DataReconstructionDriftCalculator(\n",
    "    model_metadata=metadata,\n",
    "    chunk_size=5000,\n",
    "    imputer_categorical=SimpleImputer(strategy='constant', fill_value='missing'),\n",
    "    imputer_continuous=SimpleImputer(strategy='median')\n",
    ")\n",
    "# NannyML compares drift versus the full reference dataset.\n",
    "rcerror_calculator.fit(reference_data=reference)\n",
    "# let's see RC error statistics for all available data\n",
    "rcerror_results = rcerror_calculator.calculate(data=data)\n",
    "\n",
    "# We use the data property of the results class to view the relevant data.\n",
    "display(rcerror_results.data)\n",
    "figure = rcerror_results.plot(kind='drift')\n",
    "figure.show()"
   ]
  },
  {
   "cell_type": "code",
   "execution_count": null,
   "id": "ff1f2246",
   "metadata": {},
   "outputs": [],
   "source": [
    "import nannyml as nml\n",
    "import pandas as pd\n",
    "from IPython.display import display\n",
    "reference, analysis, analysis_target = nml.load_synthetic_sample()\n",
    "metadata = nml.extract_metadata(data = reference, model_name='wfh_predictor', exclude_columns='identifier')\n",
    "metadata.target_column_name = 'work_home_actual'\n",
    "display(reference.head())"
   ]
  },
  {
   "cell_type": "code",
   "execution_count": null,
   "id": "c1017c86",
   "metadata": {},
   "outputs": [],
   "source": [
    "print(reference.head().to_markdown(tablefmt=\"grid\"))"
   ]
  },
  {
   "cell_type": "code",
   "execution_count": null,
   "id": "42834cdd",
   "metadata": {},
   "outputs": [],
   "source": [
    "# Let's initialize the object that will perform Data Reconstruction with PCA\n",
    "# Let's use a chunk size of 5000 data points to create our drift statistics\n",
    "rcerror_calculator = nml.DataReconstructionDriftCalculator(model_metadata=metadata, chunk_size=5000)\n",
    "rcerror_calculator = rcerror_calculator.fit(reference_data=reference)\n",
    "# let's see RC error statistics for all available data\n",
    "data = pd.concat([reference, analysis], ignore_index=True)\n",
    "rcerror_results = rcerror_calculator.calculate(data=data)"
   ]
  },
  {
   "cell_type": "code",
   "execution_count": null,
   "id": "70537fbe",
   "metadata": {},
   "outputs": [],
   "source": [
    "from sklearn.impute import SimpleImputer\n",
    "# Let's initialize the object that will perform Data Reconstruction with PCA\n",
    "rcerror_calculator = nml.DataReconstructionDriftCalculator(\n",
    "    model_metadata=metadata,\n",
    "    chunk_size=5000,\n",
    "    imputer_categorical=SimpleImputer(strategy='constant', fill_value='missing'),\n",
    "    imputer_continuous=SimpleImputer(strategy='median')\n",
    ")\n",
    "# NannyML compares drift versus the full reference dataset.\n",
    "rcerror_calculator.fit(reference_data=reference)\n",
    "# let's see RC error statistics for all available data\n",
    "rcerror_results = rcerror_calculator.calculate(data=data)"
   ]
  },
  {
   "cell_type": "code",
   "execution_count": null,
   "id": "18af542e",
   "metadata": {},
   "outputs": [],
   "source": [
    "# We use the data property of the results class to view the relevant data.\n",
    "display(rcerror_results.data)"
   ]
  },
  {
   "cell_type": "code",
   "execution_count": null,
   "id": "fd2368bb",
   "metadata": {},
   "outputs": [],
   "source": [
    "print(rcerror_results.data.to_markdown(tablefmt=\"grid\"))"
   ]
  },
  {
   "cell_type": "code",
   "execution_count": null,
   "id": "66189747",
   "metadata": {},
   "outputs": [],
   "source": [
    "figure = rcerror_results.plot(kind='drift')\n",
    "figure.show()\n",
    "# save figure - not shown on guide:\n",
    "figure.write_image(file=\"../_static/drift-guide-multivariate.svg\")"
   ]
  },
  {
   "cell_type": "code",
   "execution_count": null,
   "id": "59b1ba0e",
   "metadata": {},
   "outputs": [],
   "source": []
  },
  {
   "cell_type": "code",
   "execution_count": null,
   "id": "24d4c791",
   "metadata": {},
   "outputs": [],
   "source": []
  }
 ],
 "metadata": {
  "kernelspec": {
   "display_name": "Python 3 (ipykernel)",
   "language": "python",
   "name": "python3"
  },
  "language_info": {
   "codemirror_mode": {
    "name": "ipython",
    "version": 3
   },
   "file_extension": ".py",
   "mimetype": "text/x-python",
   "name": "python",
   "nbconvert_exporter": "python",
   "pygments_lexer": "ipython3",
   "version": "3.10.4"
  }
 },
 "nbformat": 4,
 "nbformat_minor": 5
}
