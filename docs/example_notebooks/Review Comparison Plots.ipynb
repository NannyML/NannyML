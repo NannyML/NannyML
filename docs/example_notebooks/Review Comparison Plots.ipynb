{
 "cells": [
  {
   "cell_type": "code",
   "execution_count": null,
   "id": "2520b1f3-44da-4864-b17e-5b8a815cc85e",
   "metadata": {
    "tags": []
   },
   "outputs": [
    {
     "name": "stderr",
     "output_type": "stream",
     "text": [
      "/home/niels/Code/nml/nannyml/nannyml/performance_estimation/confidence_based/metrics.py:406: UserWarning: No 'y_true' values given for chunk, returning NaN as realized ROC-AUC.\n",
      "  warnings.warn(\"No 'y_true' values given for chunk, returning NaN as realized ROC-AUC.\")\n",
      "/home/niels/Code/nml/nannyml/nannyml/performance_estimation/confidence_based/metrics.py:406: UserWarning: No 'y_true' values given for chunk, returning NaN as realized ROC-AUC.\n",
      "  warnings.warn(\"No 'y_true' values given for chunk, returning NaN as realized ROC-AUC.\")\n",
      "/home/niels/Code/nml/nannyml/nannyml/performance_estimation/confidence_based/metrics.py:406: UserWarning: No 'y_true' values given for chunk, returning NaN as realized ROC-AUC.\n",
      "  warnings.warn(\"No 'y_true' values given for chunk, returning NaN as realized ROC-AUC.\")\n",
      "/home/niels/Code/nml/nannyml/nannyml/performance_estimation/confidence_based/metrics.py:406: UserWarning: No 'y_true' values given for chunk, returning NaN as realized ROC-AUC.\n",
      "  warnings.warn(\"No 'y_true' values given for chunk, returning NaN as realized ROC-AUC.\")\n",
      "/home/niels/Code/nml/nannyml/nannyml/performance_estimation/confidence_based/metrics.py:406: UserWarning: No 'y_true' values given for chunk, returning NaN as realized ROC-AUC.\n",
      "  warnings.warn(\"No 'y_true' values given for chunk, returning NaN as realized ROC-AUC.\")\n",
      "/home/niels/Code/nml/nannyml/nannyml/performance_estimation/confidence_based/metrics.py:406: UserWarning: No 'y_true' values given for chunk, returning NaN as realized ROC-AUC.\n",
      "  warnings.warn(\"No 'y_true' values given for chunk, returning NaN as realized ROC-AUC.\")\n",
      "/home/niels/Code/nml/nannyml/nannyml/performance_estimation/confidence_based/metrics.py:406: UserWarning: No 'y_true' values given for chunk, returning NaN as realized ROC-AUC.\n",
      "  warnings.warn(\"No 'y_true' values given for chunk, returning NaN as realized ROC-AUC.\")\n",
      "/home/niels/Code/nml/nannyml/nannyml/performance_estimation/confidence_based/metrics.py:406: UserWarning: No 'y_true' values given for chunk, returning NaN as realized ROC-AUC.\n",
      "  warnings.warn(\"No 'y_true' values given for chunk, returning NaN as realized ROC-AUC.\")\n",
      "/home/niels/Code/nml/nannyml/nannyml/performance_estimation/confidence_based/metrics.py:406: UserWarning: No 'y_true' values given for chunk, returning NaN as realized ROC-AUC.\n",
      "  warnings.warn(\"No 'y_true' values given for chunk, returning NaN as realized ROC-AUC.\")\n",
      "/home/niels/Code/nml/nannyml/nannyml/performance_estimation/confidence_based/metrics.py:406: UserWarning: No 'y_true' values given for chunk, returning NaN as realized ROC-AUC.\n",
      "  warnings.warn(\"No 'y_true' values given for chunk, returning NaN as realized ROC-AUC.\")\n"
     ]
    },
    {
     "name": "stderr",
     "output_type": "stream",
     "text": [
      "error uploading: HTTPSConnectionPool(host='api.segment.io', port=443): Max retries exceeded with url: /v1/batch (Caused by NewConnectionError('<urllib3.connection.HTTPSConnection object at 0x7fed45f358e0>: Failed to establish a new connection: [Errno 111] Connection refused'))\n"
     ]
    }
   ],
   "source": [
    "import nannyml as nml\n",
    "from IPython.display import display\n",
    "\n",
    "# Load synthetic data\n",
    "reference_df, analysis_df, analysis_targets_df = nml.load_synthetic_car_loan_dataset()\n",
    "# display(reference_df.head())\n",
    "\n",
    "column_names = [\n",
    "    'car_value', 'salary_range', 'debt_to_income_ratio', 'loan_length', 'repaid_loan_on_prev_car', 'size_of_downpayment', 'driver_tenure', 'y_pred_proba', 'y_pred'\n",
    "]\n",
    "\n",
    "rce = nml.DataReconstructionDriftCalculator(\n",
    "    column_names=column_names,\n",
    "    timestamp_column_name='timestamp',\n",
    "    chunk_size=5000\n",
    ")\n",
    "rce.fit(reference_df)\n",
    "rcerr = rce.calculate(analysis_df)\n",
    "\n",
    "estimator = nml.CBPE(\n",
    "    y_pred_proba='y_pred_proba',\n",
    "    y_pred='y_pred',\n",
    "    y_true='repaid',\n",
    "    timestamp_column_name='timestamp',\n",
    "    metrics=['roc_auc',],\n",
    "    chunk_size=5000,\n",
    "    problem_type='classification_binary',\n",
    "    normalize_confusion_matrix='pred',\n",
    ")\n",
    "estimator.fit(reference_df)\n",
    "estimated = estimator.estimate(analysis_df)\n",
    "\n",
    "analysis_with_targets_df = analysis_df.merge(analysis_targets_df, left_index=True, right_index=True)\n",
    "realize = nml.PerformanceCalculator(\n",
    "    y_pred_proba='y_pred_proba',\n",
    "    y_pred='y_pred',\n",
    "    y_true='repaid',\n",
    "    timestamp_column_name='timestamp',\n",
    "    problem_type='classification_binary',\n",
    "    metrics=['roc_auc'],\n",
    "    chunk_size=5000)\n",
    "realize.fit(reference_df)\n",
    "realized = realize.calculate(analysis_with_targets_df)\n",
    "\n",
    "\n",
    "drift = nml.UnivariateDriftCalculator(\n",
    "    column_names=column_names,\n",
    "    treat_as_categorical=['y_pred'],\n",
    "    timestamp_column_name='timestamp',\n",
    "    continuous_methods=['jensen_shannon'],\n",
    "    categorical_methods=['jensen_shannon'],\n",
    ")\n",
    "drift.fit(reference_df)\n",
    "drifted = drift.calculate(analysis_df)"
   ]
  },
  {
   "cell_type": "code",
   "execution_count": null,
   "id": "29aa9900-2d00-4321-8361-a3a30fbe53a7",
   "metadata": {},
   "outputs": [],
   "source": [
    "estimated.compare(realized).plot().show()\n",
    "realized.compare(estimated).plot().show()"
   ]
  },
  {
   "cell_type": "code",
   "execution_count": null,
   "id": "301a9602-b787-42bf-84eb-fd13c698f254",
   "metadata": {},
   "outputs": [],
   "source": [
    "estimated.compare(rcerr).plot().show()\n",
    "rcerr.compare(estimated).plot().show()\n",
    "\n",
    "rcerr.compare(realized).plot().show()\n",
    "realized.compare(rcerr).plot().show()"
   ]
  },
  {
   "cell_type": "code",
   "execution_count": null,
   "id": "2cd100ac-e423-4b22-b8c2-0a10b8d0fd34",
   "metadata": {},
   "outputs": [],
   "source": [
    "drifted.filter(column_names=['salary_range']).compare(rcerr).plot().show()\n",
    "rcerr.compare(drifted.filter(column_names=['salary_range'])).plot().show()"
   ]
  },
  {
   "cell_type": "code",
   "execution_count": null,
   "id": "785ebdd8-54f1-4d75-b49d-7014740a86b6",
   "metadata": {},
   "outputs": [],
   "source": [
    "drifted.filter(column_names=['salary_range']).compare(estimated).plot().show()\n",
    "estimated.compare(drifted.filter(column_names=['salary_range'])).plot().show()\n",
    "\n",
    "drifted.filter(column_names=['salary_range']).compare(realized).plot().show()\n",
    "realized.compare(drifted.filter(column_names=['salary_range'])).plot().show()"
   ]
  }
 ],
 "metadata": {
  "kernelspec": {
   "display_name": "Python 3 (ipykernel)",
   "language": "python",
   "name": "python3"
  },
  "language_info": {
   "codemirror_mode": {
    "name": "ipython",
    "version": 3
   },
   "file_extension": ".py",
   "mimetype": "text/x-python",
   "name": "python",
   "nbconvert_exporter": "python",
   "pygments_lexer": "ipython3",
   "version": "3.8.8"
  }
 },
 "nbformat": 4,
 "nbformat_minor": 5
}
