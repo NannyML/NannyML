{
 "cells": [
  {
   "cell_type": "markdown",
   "id": "4f5bd9f5",
   "metadata": {
    "pycharm": {
     "name": "#%% md\n"
    }
   },
   "source": [
    "# Example on real world dataset"
   ]
  },
  {
   "cell_type": "code",
   "execution_count": null,
   "id": "9a519265",
   "metadata": {
<<<<<<< HEAD:docs/example_notebooks/Performance_Estimation_California_Housing.ipynb
    "scrolled": true,
    "pycharm": {
     "name": "#%%\n"
    }
=======
    "pycharm": {
     "name": "#%%\n"
    },
    "scrolled": true
>>>>>>> @{-1}:docs/examples/Performance_Estimation_California_Housing.ipynb
   },
   "outputs": [],
   "source": [
    "def showrst(df):\n",
    "    print(df.to_markdown(tablefmt=\"grid\"))\n"
   ]
  },
  {
   "cell_type": "code",
   "execution_count": null,
   "id": "29e28482",
   "metadata": {
<<<<<<< HEAD:docs/example_notebooks/Performance_Estimation_California_Housing.ipynb
    "scrolled": true,
    "pycharm": {
     "name": "#%%\n"
    }
=======
    "pycharm": {
     "name": "#%%\n"
    },
    "scrolled": true
>>>>>>> @{-1}:docs/examples/Performance_Estimation_California_Housing.ipynb
   },
   "outputs": [],
   "source": [
    "import pandas as pd\n",
    "import nannyml as nml\n",
    "# load data\n",
    "reference, analysis, analysis_gt = nml.datasets.load_modified_california_housing_dataset()\n",
    "reference['y_pred'] = reference['y_pred_proba'].map(lambda p: int(p >= 0.8))\n",
    "analysis['y_pred'] = analysis['y_pred_proba'].map(lambda p: int(p >= 0.8))\n",
    "reference.head(3)"
   ]
  },
  {
   "cell_type": "code",
   "execution_count": null,
   "id": "35724944",
   "metadata": {},
   "outputs": [],
   "source": [
    "reference['y_pred'] = reference['y_pred_proba'].map(lambda p: int(p >= 0.8))\n",
    "analysis['y_pred'] = analysis['y_pred_proba'].map(lambda p: int(p >= 0.8))\n",
    "reference.head(3)"
   ]
  },
  {
   "cell_type": "code",
   "execution_count": null,
   "id": "2c314549",
   "metadata": {
<<<<<<< HEAD:docs/example_notebooks/Performance_Estimation_California_Housing.ipynb
    "scrolled": true,
    "pycharm": {
     "name": "#%%\n"
    }
=======
    "pycharm": {
     "name": "#%%\n"
    },
    "scrolled": true
>>>>>>> @{-1}:docs/examples/Performance_Estimation_California_Housing.ipynb
   },
   "outputs": [],
   "source": [
    "# extract metadata, add gt column name\n",
    "metadata = nml.extract_metadata(reference, exclude_columns=['identifier'])\n",
    "metadata.target_column_name = 'clf_target'\n",
    "metadata.timestamp_column_name = 'timestamp'"
   ]
  },
  {
   "cell_type": "code",
   "execution_count": null,
   "id": "6d03a69f",
   "metadata": {
<<<<<<< HEAD:docs/example_notebooks/Performance_Estimation_California_Housing.ipynb
    "scrolled": true,
    "pycharm": {
     "name": "#%%\n"
    }
=======
    "pycharm": {
     "name": "#%%\n"
    },
    "scrolled": true
>>>>>>> @{-1}:docs/examples/Performance_Estimation_California_Housing.ipynb
   },
   "outputs": [],
   "source": [
    "# fit performance estimator and estimate for combined reference and analysis\n",
    "cbpe = nml.CBPE(model_metadata=metadata, chunk_period='M', metrics=['roc_auc']).fit(reference_data=reference)\n",
    "est_perf = cbpe.estimate(pd.concat([reference, analysis]))"
   ]
  },
  {
   "cell_type": "code",
   "execution_count": null,
   "id": "c851a6c5",
   "metadata": {
<<<<<<< HEAD:docs/example_notebooks/Performance_Estimation_California_Housing.ipynb
    "scrolled": true,
    "pycharm": {
     "name": "#%%\n"
    }
=======
    "pycharm": {
     "name": "#%%\n"
    },
    "scrolled": true
>>>>>>> @{-1}:docs/examples/Performance_Estimation_California_Housing.ipynb
   },
   "outputs": [],
   "source": [
    "est_perf.data.tail(3)"
   ]
  },
  {
   "cell_type": "code",
   "execution_count": null,
   "id": "0f79b75a",
   "metadata": {
<<<<<<< HEAD:docs/example_notebooks/Performance_Estimation_California_Housing.ipynb
    "scrolled": true,
    "pycharm": {
     "name": "#%%\n"
    }
=======
    "pycharm": {
     "name": "#%%\n"
    },
    "scrolled": false
>>>>>>> @{-1}:docs/examples/Performance_Estimation_California_Housing.ipynb
   },
   "outputs": [],
   "source": [
    "est_perf.data = est_perf.data[:-1].copy()\n",
    "est_perf.data.tail(2)"
   ]
  },
  {
   "cell_type": "code",
   "execution_count": null,
   "id": "f9b3ad09",
   "metadata": {
    "pycharm": {
     "is_executing": true,
     "name": "#%%\n"
    },
    "scrolled": true
   },
   "outputs": [],
   "source": [
    "fig = est_perf.plot(kind='performance', metric='roc_auc')\n",
    "fig.show()"
   ]
  },
  {
   "cell_type": "code",
   "execution_count": null,
   "id": "7b0c29c5",
   "metadata": {
<<<<<<< HEAD:docs/example_notebooks/Performance_Estimation_California_Housing.ipynb
    "scrolled": true,
    "pycharm": {
     "name": "#%%\n"
    }
=======
    "pycharm": {
     "name": "#%%\n"
    },
    "scrolled": true
>>>>>>> @{-1}:docs/examples/Performance_Estimation_California_Housing.ipynb
   },
   "outputs": [],
   "source": [
    "fig.write_image(file=\"../_static/example_california_performance.svg\", engine=\"kaleido\")"
   ]
  },
  {
   "cell_type": "code",
   "execution_count": null,
   "id": "7e8aeb29",
   "metadata": {
<<<<<<< HEAD:docs/example_notebooks/Performance_Estimation_California_Housing.ipynb
    "scrolled": true,
    "pycharm": {
     "name": "#%%\n"
    }
=======
    "pycharm": {
     "name": "#%%\n"
    },
    "scrolled": true
>>>>>>> @{-1}:docs/examples/Performance_Estimation_California_Housing.ipynb
   },
   "outputs": [],
   "source": [
    "from sklearn.metrics import roc_auc_score\n",
    "import matplotlib.pyplot as plt\n",
    "# add ground truth to analysis\n",
    "analysis_full = pd.merge(analysis,analysis_gt, on = 'identifier')\n",
    "df_all = pd.concat([reference, analysis_full]).reset_index(drop=True)\n",
    "df_all['timestamp'] = pd.to_datetime(df_all['timestamp'])\n",
    "# calculate actual ROC AUC\n",
    "target_col = metadata.target_column_name\n",
    "pred_score_col = 'y_pred_proba'\n",
    "actual_performance = []\n",
    "for idx in est_perf.data.index:\n",
    "    start_date, end_date = est_perf.data.loc[idx, 'start_date'], est_perf.data.loc[idx, 'end_date']\n",
    "    sub = df_all[df_all['timestamp'].between(start_date, end_date)]\n",
    "    actual_perf = roc_auc_score(sub[target_col], sub[pred_score_col])\n",
    "    est_perf.data.loc[idx, 'actual_roc_auc'] = actual_perf\n",
    "# plot\n",
    "first_analysis = est_perf.data[est_perf.data['partition']=='analysis']['key'].values[0]\n",
    "plt.plot(est_perf.data['key'], est_perf.data['estimated_roc_auc'], label='estimated AUC')\n",
    "plt.plot(est_perf.data['key'], est_perf.data['actual_roc_auc'], label='actual ROC AUC')\n",
    "plt.xticks(rotation=90)\n",
    "plt.axvline(x=first_analysis, label='First analysis chunk', linestyle=':', color='grey')\n",
    "plt.ylabel('ROC AUC')\n",
    "plt.legend()\n",
    "plt.show()"
   ]
  },
  {
   "cell_type": "code",
   "execution_count": null,
   "id": "d337831b",
   "metadata": {
<<<<<<< HEAD:docs/example_notebooks/Performance_Estimation_California_Housing.ipynb
    "scrolled": true,
    "pycharm": {
     "name": "#%%\n"
    }
=======
    "pycharm": {
     "name": "#%%\n"
    },
    "scrolled": true
>>>>>>> @{-1}:docs/examples/Performance_Estimation_California_Housing.ipynb
   },
   "outputs": [],
   "source": [
    "univariate_calculator = nml.UnivariateStatisticalDriftCalculator(model_metadata=metadata, chunk_period='M')\n",
    "univariate_calculator.fit(reference_data=reference)\n",
    "univariate_results = univariate_calculator.calculate(data=pd.concat([analysis]))\n",
    "nml.Ranker.by('alert_count').rank(univariate_results, metadata)"
   ]
  },
  {
   "cell_type": "code",
   "execution_count": null,
   "id": "f0650dad",
   "metadata": {
<<<<<<< HEAD:docs/example_notebooks/Performance_Estimation_California_Housing.ipynb
    "scrolled": true,
    "pycharm": {
     "name": "#%%\n"
    }
=======
    "pycharm": {
     "name": "#%%\n"
    },
    "scrolled": true
>>>>>>> @{-1}:docs/examples/Performance_Estimation_California_Housing.ipynb
   },
   "outputs": [],
   "source": [
    "# get columns with d statistics only\n",
    "d_stat_cols = [x for x in univariate_results.data if 'dstat' in x]\n",
    "univariate_results.data[d_stat_cols].mean().sort_values(ascending=False)"
   ]
  },
  {
   "cell_type": "code",
   "execution_count": null,
   "id": "0d7cecaa",
   "metadata": {
<<<<<<< HEAD:docs/example_notebooks/Performance_Estimation_California_Housing.ipynb
    "scrolled": true,
    "pycharm": {
     "name": "#%%\n"
    }
=======
    "pycharm": {
     "name": "#%%\n"
    },
    "scrolled": true
>>>>>>> @{-1}:docs/examples/Performance_Estimation_California_Housing.ipynb
   },
   "outputs": [],
   "source": [
    "for label in ['Longitude', 'Latitude']:\n",
    "    fig = univariate_results.plot(\n",
    "        kind='feature_distribution',\n",
    "        feature_label=label)\n",
    "    fig.show()\n",
    "    fig.write_image(\"../_static/example_california_performance_distribution_{}.svg\".format(label), engine=\"kaleido\")"
   ]
  },
  {
   "cell_type": "code",
   "execution_count": null,
   "id": "66f71556",
   "metadata": {
<<<<<<< HEAD:docs/example_notebooks/Performance_Estimation_California_Housing.ipynb
    "scrolled": true,
    "pycharm": {
     "name": "#%%\n"
    }
=======
    "pycharm": {
     "name": "#%%\n"
    },
    "scrolled": true
>>>>>>> @{-1}:docs/examples/Performance_Estimation_California_Housing.ipynb
   },
   "outputs": [],
   "source": [
    "analysis_res = univariate_results.data[univariate_results.data['partition']=='analysis']\n",
    "plt.figure(figsize=(8,6))\n",
    "for idx in analysis_res.index[:10]:\n",
    "    start_date, end_date = analysis_res.loc[idx, 'start_date'], analysis_res.loc[idx, 'end_date']\n",
    "    sub = df_all[df_all['timestamp'].between(start_date, end_date)]\n",
    "    plt.scatter(sub['Latitude'], sub['Longitude'], s=5, label=\"Chunk {}\".format(str(idx)))\n",
    "plt.legend()\n",
    "plt.xlabel('Latitude')\n",
    "plt.ylabel('Longitude')"
   ]
  },
  {
   "cell_type": "code",
   "execution_count": null,
   "id": "0d22432d",
   "metadata": {
<<<<<<< HEAD:docs/example_notebooks/Performance_Estimation_California_Housing.ipynb
    "scrolled": true,
    "pycharm": {
     "name": "#%%\n"
    }
=======
    "pycharm": {
     "name": "#%%\n"
    },
    "scrolled": true
>>>>>>> @{-1}:docs/examples/Performance_Estimation_California_Housing.ipynb
   },
   "outputs": [],
   "source": []
  }
 ],
 "metadata": {
  "kernelspec": {
   "display_name": "Python 3 (ipykernel)",
   "language": "python",
   "name": "python3"
  },
  "language_info": {
   "codemirror_mode": {
    "name": "ipython",
    "version": 3
   },
   "file_extension": ".py",
   "mimetype": "text/x-python",
   "name": "python",
   "nbconvert_exporter": "python",
   "pygments_lexer": "ipython3",
   "version": "3.7.10"
  }
 },
 "nbformat": 4,
 "nbformat_minor": 5
}