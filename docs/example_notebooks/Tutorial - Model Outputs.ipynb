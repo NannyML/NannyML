{
 "cells": [
  {
   "cell_type": "code",
   "execution_count": null,
   "id": "29518c93",
   "metadata": {
    "scrolled": false
   },
   "outputs": [],
   "source": [
    "import nannyml as nml\n",
    "import pandas as pd\n",
    "from IPython.display import display\n",
    "reference, analysis, analysis_target = nml.load_synthetic_sample()\n",
    "metadata = nml.extract_metadata(data = reference, model_name='wfh_predictor', exclude_columns='identifier')\n",
    "metadata.target_column_name = 'work_home_actual'\n",
    "display(reference.head())\n",
    "\n",
    "# Let's initialize the object that will perform the Univariate Drift calculations\n",
    "# Let's use a chunk size of 5000 data points to create our drift statistics\n",
    "univariate_calculator = nml.UnivariateStatisticalDriftCalculator(model_metadata=metadata, chunk_size=5000)\n",
    "univariate_calculator = univariate_calculator.fit(reference_data=reference)\n",
    "# let's see drift statistics for all available data\n",
    "data = pd.concat([reference, analysis], ignore_index=True)\n",
    "univariate_results = univariate_calculator.calculate(data=data)\n",
    "# let's view a small subset of our results:\n",
    "# We use the data property of the results class to view the relevant data.\n",
    "y_pred_proba_result_columns = list(univariate_results.data.columns)[:5] + [s for s in list(univariate_results.data.columns) if \"y_pred_proba\" in s]\n",
    "display(univariate_results.data[y_pred_proba_result_columns][-7:-3])\n",
    "\n",
    "figure = univariate_results.plot(kind='prediction_drift', metric='statistic')\n",
    "figure.show()\n",
    "\n",
    "figure = univariate_results.plot(kind='prediction_distribution', metric='statistic')\n",
    "figure.show()"
   ]
  },
  {
   "cell_type": "code",
   "execution_count": null,
   "id": "28ed5492",
   "metadata": {},
   "outputs": [],
   "source": [
    "import nannyml as nml\n",
    "import pandas as pd\n",
    "from IPython.display import display\n",
    "reference, analysis, analysis_target = nml.load_synthetic_sample()\n",
    "metadata = nml.extract_metadata(data = reference, model_name='wfh_predictor', exclude_columns='identifier')\n",
    "metadata.target_column_name = 'work_home_actual'\n",
    "display(reference.head())"
   ]
  },
  {
   "cell_type": "code",
   "execution_count": null,
   "id": "da3896b3",
   "metadata": {},
   "outputs": [],
   "source": [
    "# Let's initialize the object that will perform the Univariate Drift calculations\n",
    "# Let's use a chunk size of 5000 data points to create our drift statistics\n",
    "univariate_calculator = nml.UnivariateStatisticalDriftCalculator(model_metadata=metadata, chunk_size=5000)\n",
    "univariate_calculator = univariate_calculator.fit(reference_data=reference)\n",
    "# let's see drift statistics for all available data\n",
    "data = pd.concat([reference, analysis], ignore_index=True)\n",
    "univariate_results = univariate_calculator.calculate(data=data)\n",
    "# let's view a small subset of our results:\n",
    "# We use the data property of the results class to view the relevant data.\n",
    "y_pred_proba_result_columns = list(univariate_results.data.columns)[:5] + [s for s in list(univariate_results.data.columns) if \"y_pred_proba\" in s]\n",
    "display(univariate_results.data[y_pred_proba_result_columns][-7:-3])"
   ]
  },
  {
   "cell_type": "code",
   "execution_count": null,
   "id": "9afca50a",
   "metadata": {},
   "outputs": [],
   "source": [
    "print(univariate_results.data[y_pred_proba_result_columns][-7:-3].to_markdown(tablefmt=\"grid\"))"
   ]
  },
  {
   "cell_type": "code",
   "execution_count": null,
   "id": "9f109350",
   "metadata": {},
   "outputs": [],
   "source": [
    "figure = univariate_results.plot(kind='prediction_drift', metric='statistic')\n",
    "figure.show()\n",
    "# save figure - not shown on guide:\n",
    "figure.write_image(file=f\"../_static/drift-guide-predictions.svg\")"
   ]
  },
  {
   "cell_type": "code",
   "execution_count": null,
   "id": "d231d66d",
   "metadata": {},
   "outputs": [],
   "source": [
    "figure = univariate_results.plot(kind='prediction_distribution', metric='statistic')\n",
    "figure.show()\n",
    "# save figure - not shown on guide:\n",
    "figure.write_image(file=f\"../_static/drift-guide-predictions-joyplot.svg\")"
   ]
  },
  {
   "cell_type": "code",
   "execution_count": null,
   "id": "aa33b408",
   "metadata": {},
   "outputs": [],
   "source": []
  }
 ],
 "metadata": {
  "kernelspec": {
   "display_name": "Python 3 (ipykernel)",
   "language": "python",
   "name": "python3"
  },
  "language_info": {
   "codemirror_mode": {
    "name": "ipython",
    "version": 3
   },
   "file_extension": ".py",
   "mimetype": "text/x-python",
   "name": "python",
   "nbconvert_exporter": "python",
   "pygments_lexer": "ipython3",
   "version": "3.10.4"
  }
 },
 "nbformat": 4,
 "nbformat_minor": 5
}
