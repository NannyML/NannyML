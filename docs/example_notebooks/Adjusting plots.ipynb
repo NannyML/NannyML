{
 "cells": [
  {
   "cell_type": "code",
   "execution_count": null,
   "id": "ff3d5127",
   "metadata": {},
   "outputs": [],
   "source": [
    "import pandas as pd\n",
    "import nannyml as nml\n",
    "reference, analysis, analysis_target = nml.load_synthetic_sample()\n",
    "metadata = nml.extract_metadata(data = reference, model_name='wfh_predictor',\n",
    "                                exclude_columns=['identifier'])\n",
    "metadata.target_column_name = 'work_home_actual'\n",
    "estimator = nml.CBPE(model_metadata=metadata, chunk_size=5000, metrics=['roc_auc']).fit(reference)\n",
    "data = pd.concat([reference, analysis], ignore_index=True)\n",
    "estimated_performance = estimator.estimate(data=data)\n",
    "figure = estimated_performance.plot(kind='performance', metric='roc_auc')\n",
    "\n",
    "\n",
    "import datetime as dt\n",
    "figure.add_vrect(x0=dt.datetime(2019,1,1), x1=dt.datetime(2020, 1,1),\n",
    "                 annotation_text=\"Strategy change\", annotation_position=\"top left\")\n",
    "figure.show()"
   ]
  },
  {
   "cell_type": "code",
   "execution_count": null,
   "id": "51c744de",
   "metadata": {},
   "outputs": [],
   "source": [
    "# figure.write_image(file=f\"adjusting_plots_time_periods_indication.svg\", engine=\"orca\")"
   ]
  },
  {
   "cell_type": "code",
   "execution_count": null,
   "id": "48e60a11",
   "metadata": {},
   "outputs": [],
   "source": []
  }
 ],
 "metadata": {
  "kernelspec": {
   "display_name": "p39all",
   "language": "python",
   "name": "p39all"
  },
  "language_info": {
   "codemirror_mode": {
    "name": "ipython",
    "version": 3
   },
   "file_extension": ".py",
   "mimetype": "text/x-python",
   "name": "python",
   "nbconvert_exporter": "python",
   "pygments_lexer": "ipython3",
   "version": "3.9.7"
  }
 },
 "nbformat": 4,
 "nbformat_minor": 5
}
