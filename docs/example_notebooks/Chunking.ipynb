{
 "cells": [
  {
   "cell_type": "code",
   "execution_count": null,
   "id": "2f933365",
   "metadata": {
    "pycharm": {
     "name": "#%%\n"
    }
   },
   "outputs": [],
   "source": [
    "import pandas as pd\n",
    "import nannyml as nml\n",
    "reference, analysis, _ = nml.datasets.load_synthetic_sample()\n",
    "reference['y_pred'] = reference['y_pred_proba'].map(lambda p: int(p >= 0.8))\n",
    "analysis['y_pred'] = analysis['y_pred_proba'].map(lambda p: int(p >= 0.8))\n",
<<<<<<< HEAD:docs/example_notebooks/Chunking.ipynb
    "metadata = nml.extract_metadata(reference)\n",
=======
    "metadata = nml.extract_metadata(reference, exclude_columns=['identifier'])\n",
>>>>>>> @{-1}:docs/examples/Chunking.ipynb
    "metadata.target_column_name = 'work_home_actual'"
   ]
  },
  {
<<<<<<< HEAD:docs/example_notebooks/Chunking.ipynb
   "cell_type": "code",
   "execution_count": null,
   "id": "281539e7",
=======
   "cell_type": "raw",
   "id": "1451e312",
>>>>>>> @{-1}:docs/examples/Chunking.ipynb
   "metadata": {
    "pycharm": {
     "name": "#%%\n"
    }
   },
<<<<<<< HEAD:docs/example_notebooks/Chunking.ipynb
   "outputs": [],
   "source": [
    "cbpe = nml.CBPE(model_metadata=metadata, chunk_period=\"Q\", metrics=['roc_auc']).fit(reference_data=reference)\n",
=======
   "source": [
    "cbpe = nml.CBPE(model_metadata=metadata, chunk_period=\"Q\", metrics=['roc_auc'])\n",
    "cbpe.fit(reference_data=reference)\n",
>>>>>>> @{-1}:docs/examples/Chunking.ipynb
    "est_perf = cbpe.estimate(analysis)\n",
    "est_perf.data.iloc[:3,:5]"
   ]
  },
  {
   "cell_type": "code",
   "execution_count": null,
   "id": "3c4c6f19",
   "metadata": {
    "pycharm": {
     "name": "#%%\n"
    }
   },
   "outputs": [],
   "source": [
<<<<<<< HEAD:docs/example_notebooks/Chunking.ipynb
    "cbpe = nml.CBPE(model_metadata=metadata, chunk_size=3500, metrics=['roc_auc']).fit(reference_data=reference)\n",
=======
    "cbpe = nml.CBPE(model_metadata=metadata, chunk_size=3500, metrics=['roc_auc'])\n",
    "cbpe.fit(reference_data=reference)\n",
>>>>>>> @{-1}:docs/examples/Chunking.ipynb
    "est_perf = cbpe.estimate(analysis)\n",
    "est_perf.data.iloc[:3,:5]"
   ]
  },
  {
   "cell_type": "code",
   "execution_count": null,
   "id": "c4a42a6e",
   "metadata": {
    "pycharm": {
     "name": "#%%\n"
    }
   },
   "outputs": [],
   "source": [
    "est_perf.data.iloc[-2:,:5]"
   ]
  },
  {
   "cell_type": "code",
   "execution_count": null,
   "id": "e6446b8f",
   "metadata": {
    "pycharm": {
     "name": "#%%\n"
    }
   },
   "outputs": [],
   "source": [
    "analysis.index.max()"
   ]
  },
  {
   "cell_type": "code",
   "execution_count": null,
   "id": "1502a809",
   "metadata": {
    "pycharm": {
     "name": "#%%\n"
    }
   },
   "outputs": [],
   "source": [
<<<<<<< HEAD:docs/example_notebooks/Chunking.ipynb
    "cbpe = nml.CBPE(model_metadata=metadata, chunk_number=9, metrics=['roc_auc']).fit(reference_data=reference)\n",
=======
    "cbpe = nml.CBPE(model_metadata=metadata, chunk_number=9, metrics=['roc_auc'])\n",
    "cbpe.fit(reference_data=reference)\n",
>>>>>>> @{-1}:docs/examples/Chunking.ipynb
    "est_perf = cbpe.estimate(analysis)\n",
    "len(est_perf.data)"
   ]
  },
  {
   "cell_type": "code",
   "execution_count": null,
   "id": "8a845e22",
   "metadata": {
    "pycharm": {
     "name": "#%%\n"
    }
   },
   "outputs": [],
   "source": [
    "est_perf.data.iloc[-2:,:5]"
   ]
  },
  {
   "cell_type": "code",
   "execution_count": null,
   "id": "d7a175fc",
   "metadata": {
    "pycharm": {
     "name": "#%%\n"
    }
   },
   "outputs": [],
   "source": [
    "analysis.index.max()"
   ]
  },
  {
   "cell_type": "code",
   "execution_count": null,
   "id": "9a777cc9",
   "metadata": {
    "pycharm": {
     "name": "#%%\n"
    }
   },
   "outputs": [],
   "source": [
<<<<<<< HEAD:docs/example_notebooks/Chunking.ipynb
    "cbpe = nml.CBPE(model_metadata=metadata, metrics=['roc_auc']).fit(reference_data=reference)\n",
=======
    "cbpe = nml.CBPE(model_metadata=metadata, metrics=['roc_auc'])\n",
    "cbpe.fit(reference_data=reference)\n",
>>>>>>> @{-1}:docs/examples/Chunking.ipynb
    "est_perf = cbpe.estimate(pd.concat([reference, analysis]))\n",
    "est_perf.data.iloc[:3,:5]"
   ]
  },
  {
   "cell_type": "code",
   "execution_count": null,
   "id": "b33c9f5e",
   "metadata": {
    "pycharm": {
     "name": "#%%\n"
    }
   },
   "outputs": [],
   "source": [
<<<<<<< HEAD:docs/example_notebooks/Chunking.ipynb
    "cbpe = nml.CBPE(model_metadata=metadata, chunk_size=5_000, metrics=['roc_auc']).fit(reference_data=reference)\n",
=======
    "cbpe = nml.CBPE(model_metadata=metadata, chunk_size=5_000, metrics=['roc_auc'])\n",
    "cbpe.fit(reference_data=reference)\n",
>>>>>>> @{-1}:docs/examples/Chunking.ipynb
    "est_perf = cbpe.estimate(analysis)"
   ]
  },
  {
   "cell_type": "code",
   "execution_count": null,
   "id": "8317372c",
   "metadata": {
    "pycharm": {
     "name": "#%%\n"
    }
   },
   "outputs": [],
   "source": [
    "fig = est_perf.plot(kind='performance', metric='roc_auc')\n",
    "# fig.write_image(file=\"../_static/guide-chunking_your_data-pe_plot.svg\", engine=\"kaleido\")\n",
    "fig.show()"
   ]
  },
  {
   "cell_type": "code",
   "execution_count": null,
   "id": "c2b91d4b",
   "metadata": {
    "pycharm": {
     "name": "#%%\n"
    }
   },
   "outputs": [],
   "source": []
  }
 ],
 "metadata": {
  "kernelspec": {
   "display_name": "Python 3 (ipykernel)",
   "language": "python",
   "name": "python3"
  },
  "language_info": {
   "codemirror_mode": {
    "name": "ipython",
    "version": 3
   },
   "file_extension": ".py",
   "mimetype": "text/x-python",
   "name": "python",
   "nbconvert_exporter": "python",
   "pygments_lexer": "ipython3",
   "version": "3.7.10"
  }
 },
 "nbformat": 4,
 "nbformat_minor": 5
}