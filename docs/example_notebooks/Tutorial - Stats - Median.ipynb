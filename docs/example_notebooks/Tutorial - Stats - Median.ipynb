{
 "cells": [
  {
   "cell_type": "code",
   "execution_count": null,
   "id": "a6f93b68-ea3e-4dbd-b352-78121a29d9c4",
   "metadata": {
    "tags": []
   },
   "outputs": [],
   "source": [
    "import nannyml as nml\n",
    "from IPython.display import display\n",
    "\n",
    "reference, analysis, analysis_targets = nml.load_synthetic_car_loan_dataset()\n",
    "display(reference.head())"
   ]
  },
  {
   "cell_type": "code",
   "execution_count": null,
   "id": "44fde326-775c-4d42-84fa-007e6bf3baaf",
   "metadata": {},
   "outputs": [],
   "source": [
    "from docs.utils import print_multi_index_markdown\n",
    "print_multi_index_markdown(reference.head())"
   ]
  },
  {
   "cell_type": "code",
   "execution_count": null,
   "id": "99a547a3-92e5-422e-abc7-aac65ad94344",
   "metadata": {
    "tags": []
   },
   "outputs": [],
   "source": [
    "selected_columns = [\n",
    "    'car_value', 'debt_to_income_ratio', 'driver_tenure'\n",
    "]\n",
    "calc = nml.SummaryStatsMedianCalculator(\n",
    "    column_names=selected_columns,\n",
    ")"
   ]
  },
  {
   "cell_type": "code",
   "execution_count": null,
   "id": "ffebc66d-0e22-4e8b-9e4a-cdc720a7f926",
   "metadata": {
    "tags": []
   },
   "outputs": [],
   "source": [
    "calc.fit(reference)\n",
    "results = calc.calculate(analysis)\n",
    "display(results.filter(period='all').to_df())"
   ]
  },
  {
   "cell_type": "raw",
   "id": "7e80683f-1502-40e4-8954-0a31d15895c1",
   "metadata": {
    "tags": []
   },
   "source": [
    "print_multi_index_markdown(results.filter(period='all').to_df())"
   ]
  },
  {
   "cell_type": "code",
   "execution_count": null,
   "id": "1a9f6698-ad08-4eca-8c7e-f9cdcf1f795d",
   "metadata": {
    "tags": []
   },
   "outputs": [],
   "source": [
    "for column_name in results.column_names:\n",
    "    results.filter(column_names=column_name).plot().show()"
   ]
  },
  {
   "cell_type": "raw",
   "id": "e0d654d0-8ee9-4f3e-a4bc-b1615a155a9e",
   "metadata": {},
   "source": [
    "for column_name in results.column_names:\n",
    "    results.filter(column_names=column_name).plot().write_image(\n",
    "        f\"../_static/tutorials/statsy/sum-titanic-{column_name}.svg\"\n",
    "    )"
   ]
  },
  {
   "cell_type": "code",
   "execution_count": null,
   "id": "a9fb36c4-28ee-4379-a7fa-902b2e7a6d39",
   "metadata": {
    "tags": []
   },
   "outputs": [],
   "source": [
    "calc1 = nml.PerformanceCalculator(\n",
    "    y_pred_proba='y_pred_proba',\n",
    "    y_pred='y_pred',\n",
    "    y_true='repaid',\n",
    "    timestamp_column_name='timestamp',\n",
    "    problem_type='classification_binary',\n",
    "    metrics=['roc_auc', 'f1', 'precision', 'recall', 'specificity', 'accuracy'],\n",
    "    chunk_size=5000)\n",
    "\n",
    "calc1.fit(reference)\n",
    "\n",
    "analysis = analysis.merge(analysis_targets, left_index=True, right_index=True)\n",
    "results1 = calc1.calculate(analysis)\n",
    "\n",
    "ranker1 = nml.CorrelationRanker()\n",
    "\n",
    "# ranker fits on one metric and reference period data only\n",
    "ranker1.fit(\n",
    "    results1.filter(period='reference', metrics=['roc_auc']))\n",
    "# ranker ranks on one drift method and one performance metric\n",
    "correlation_ranked_features1 = ranker1.rank(\n",
    "    results,\n",
    "    results1.filter(metrics=['roc_auc']),\n",
    "    only_drifting = False)\n",
    "\n",
    "display(correlation_ranked_features1)"
   ]
  },
  {
   "cell_type": "code",
   "execution_count": null,
   "id": "564b9a53-d322-43b7-a322-10cdd06a3eb1",
   "metadata": {},
   "outputs": [],
   "source": []
  }
 ],
 "metadata": {
  "kernelspec": {
   "display_name": "Python 3 (ipykernel)",
   "language": "python",
   "name": "python3"
  },
  "language_info": {
   "codemirror_mode": {
    "name": "ipython",
    "version": 3
   },
   "file_extension": ".py",
   "mimetype": "text/x-python",
   "name": "python",
   "nbconvert_exporter": "python",
   "pygments_lexer": "ipython3",
   "version": "3.11.3"
  }
 },
 "nbformat": 4,
 "nbformat_minor": 5
}
