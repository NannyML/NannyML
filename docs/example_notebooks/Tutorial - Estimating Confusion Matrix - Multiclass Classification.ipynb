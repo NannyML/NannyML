{
 "cells": [
  {
   "cell_type": "code",
   "execution_count": 1,
   "metadata": {},
   "outputs": [
    {
     "data": {
      "text/html": [
       "<div>\n",
       "<style scoped>\n",
       "    .dataframe tbody tr th:only-of-type {\n",
       "        vertical-align: middle;\n",
       "    }\n",
       "\n",
       "    .dataframe tbody tr th {\n",
       "        vertical-align: top;\n",
       "    }\n",
       "\n",
       "    .dataframe thead th {\n",
       "        text-align: right;\n",
       "    }\n",
       "</style>\n",
       "<table border=\"1\" class=\"dataframe\">\n",
       "  <thead>\n",
       "    <tr style=\"text-align: right;\">\n",
       "      <th></th>\n",
       "      <th>acq_channel</th>\n",
       "      <th>app_behavioral_score</th>\n",
       "      <th>requested_credit_limit</th>\n",
       "      <th>app_channel</th>\n",
       "      <th>credit_bureau_score</th>\n",
       "      <th>stated_income</th>\n",
       "      <th>is_customer</th>\n",
       "      <th>timestamp</th>\n",
       "      <th>y_pred_proba_prepaid_card</th>\n",
       "      <th>y_pred_proba_highstreet_card</th>\n",
       "      <th>y_pred_proba_upmarket_card</th>\n",
       "      <th>y_pred</th>\n",
       "      <th>y_true</th>\n",
       "    </tr>\n",
       "  </thead>\n",
       "  <tbody>\n",
       "    <tr>\n",
       "      <th>0</th>\n",
       "      <td>Partner3</td>\n",
       "      <td>1.808232</td>\n",
       "      <td>350</td>\n",
       "      <td>web</td>\n",
       "      <td>309</td>\n",
       "      <td>15000</td>\n",
       "      <td>True</td>\n",
       "      <td>2020-05-02 02:01:30</td>\n",
       "      <td>0.97</td>\n",
       "      <td>0.03</td>\n",
       "      <td>0.00</td>\n",
       "      <td>prepaid_card</td>\n",
       "      <td>prepaid_card</td>\n",
       "    </tr>\n",
       "    <tr>\n",
       "      <th>1</th>\n",
       "      <td>Partner2</td>\n",
       "      <td>4.382568</td>\n",
       "      <td>500</td>\n",
       "      <td>mobile</td>\n",
       "      <td>418</td>\n",
       "      <td>23000</td>\n",
       "      <td>True</td>\n",
       "      <td>2020-05-02 02:03:33</td>\n",
       "      <td>0.87</td>\n",
       "      <td>0.13</td>\n",
       "      <td>0.00</td>\n",
       "      <td>prepaid_card</td>\n",
       "      <td>prepaid_card</td>\n",
       "    </tr>\n",
       "    <tr>\n",
       "      <th>2</th>\n",
       "      <td>Partner2</td>\n",
       "      <td>-0.787575</td>\n",
       "      <td>400</td>\n",
       "      <td>web</td>\n",
       "      <td>507</td>\n",
       "      <td>24000</td>\n",
       "      <td>False</td>\n",
       "      <td>2020-05-02 02:04:49</td>\n",
       "      <td>0.47</td>\n",
       "      <td>0.35</td>\n",
       "      <td>0.18</td>\n",
       "      <td>prepaid_card</td>\n",
       "      <td>upmarket_card</td>\n",
       "    </tr>\n",
       "  </tbody>\n",
       "</table>\n",
       "</div>"
      ],
      "text/plain": [
       "  acq_channel  app_behavioral_score  requested_credit_limit app_channel  \\\n",
       "0    Partner3              1.808232                     350         web   \n",
       "1    Partner2              4.382568                     500      mobile   \n",
       "2    Partner2             -0.787575                     400         web   \n",
       "\n",
       "   credit_bureau_score  stated_income  is_customer            timestamp  \\\n",
       "0                  309          15000         True  2020-05-02 02:01:30   \n",
       "1                  418          23000         True  2020-05-02 02:03:33   \n",
       "2                  507          24000        False  2020-05-02 02:04:49   \n",
       "\n",
       "   y_pred_proba_prepaid_card  y_pred_proba_highstreet_card  \\\n",
       "0                       0.97                          0.03   \n",
       "1                       0.87                          0.13   \n",
       "2                       0.47                          0.35   \n",
       "\n",
       "   y_pred_proba_upmarket_card        y_pred         y_true  \n",
       "0                        0.00  prepaid_card   prepaid_card  \n",
       "1                        0.00  prepaid_card   prepaid_card  \n",
       "2                        0.18  prepaid_card  upmarket_card  "
      ]
     },
     "metadata": {},
     "output_type": "display_data"
    }
   ],
   "source": [
    "import nannyml as nml\n",
    "from IPython.display import display\n",
    "\n",
    "reference_df, analysis_df, _ = nml.load_synthetic_multiclass_classification_dataset()\n",
    "\n",
    "display(reference_df.head(3))"
   ]
  },
  {
   "cell_type": "code",
   "execution_count": 2,
   "metadata": {},
   "outputs": [
    {
     "name": "stdout",
     "output_type": "stream",
     "text": [
      "+----+---------------+------------------------+--------------------------+---------------+-----------------------+-----------------+---------------+---------------------+-----------------------------+--------------------------------+------------------------------+--------------+---------------+\n",
      "|    | acq_channel   |   app_behavioral_score |   requested_credit_limit | app_channel   |   credit_bureau_score |   stated_income | is_customer   | timestamp           |   y_pred_proba_prepaid_card |   y_pred_proba_highstreet_card |   y_pred_proba_upmarket_card | y_pred       | y_true        |\n",
      "+====+===============+========================+==========================+===============+=======================+=================+===============+=====================+=============================+================================+==============================+==============+===============+\n",
      "|  0 | Partner3      |               1.80823  |                      350 | web           |                   309 |           15000 | True          | 2020-05-02 02:01:30 |                        0.97 |                           0.03 |                         0    | prepaid_card | prepaid_card  |\n",
      "+----+---------------+------------------------+--------------------------+---------------+-----------------------+-----------------+---------------+---------------------+-----------------------------+--------------------------------+------------------------------+--------------+---------------+\n",
      "|  1 | Partner2      |               4.38257  |                      500 | mobile        |                   418 |           23000 | True          | 2020-05-02 02:03:33 |                        0.87 |                           0.13 |                         0    | prepaid_card | prepaid_card  |\n",
      "+----+---------------+------------------------+--------------------------+---------------+-----------------------+-----------------+---------------+---------------------+-----------------------------+--------------------------------+------------------------------+--------------+---------------+\n",
      "|  2 | Partner2      |              -0.787575 |                      400 | web           |                   507 |           24000 | False         | 2020-05-02 02:04:49 |                        0.47 |                           0.35 |                         0.18 | prepaid_card | upmarket_card |\n",
      "+----+---------------+------------------------+--------------------------+---------------+-----------------------+-----------------+---------------+---------------------+-----------------------------+--------------------------------+------------------------------+--------------+---------------+\n"
     ]
    }
   ],
   "source": [
    "print(reference_df.head(3).to_markdown(tablefmt=\"grid\"))"
   ]
  },
  {
   "cell_type": "code",
   "execution_count": 3,
   "metadata": {},
   "outputs": [],
   "source": [
    "estimator = nml.CBPE(\n",
    "    y_pred_proba={\n",
    "        'prepaid_card': 'y_pred_proba_prepaid_card',\n",
    "        'highstreet_card': 'y_pred_proba_highstreet_card',\n",
    "        'upmarket_card': 'y_pred_proba_upmarket_card'},\n",
    "    y_pred='y_pred',\n",
    "    y_true='y_true',\n",
    "    timestamp_column_name='timestamp',\n",
    "    problem_type='classification_multiclass',\n",
    "    metrics=['confusion_matrix'],\n",
    "    normalize_confusion_matrix='all',\n",
    "    chunk_size=6000,\n",
    ")"
   ]
  },
  {
   "cell_type": "code",
   "execution_count": 4,
   "metadata": {},
   "outputs": [
    {
     "data": {
      "text/plain": [
       "<nannyml.performance_estimation.confidence_based.cbpe.CBPE at 0x7f9df1a241c0>"
      ]
     },
     "execution_count": 4,
     "metadata": {},
     "output_type": "execute_result"
    }
   ],
   "source": [
    "estimator.fit(reference_df)"
   ]
  },
  {
   "cell_type": "code",
   "execution_count": 5,
   "metadata": {},
   "outputs": [
    {
     "data": {
      "text/html": [
       "<div>\n",
       "<style scoped>\n",
       "    .dataframe tbody tr th:only-of-type {\n",
       "        vertical-align: middle;\n",
       "    }\n",
       "\n",
       "    .dataframe tbody tr th {\n",
       "        vertical-align: top;\n",
       "    }\n",
       "\n",
       "    .dataframe thead tr th {\n",
       "        text-align: left;\n",
       "    }\n",
       "</style>\n",
       "<table border=\"1\" class=\"dataframe\">\n",
       "  <thead>\n",
       "    <tr>\n",
       "      <th></th>\n",
       "      <th colspan=\"7\" halign=\"left\">chunk</th>\n",
       "      <th colspan=\"3\" halign=\"left\">true_prepaid_card_pred_prepaid_card</th>\n",
       "      <th>...</th>\n",
       "      <th colspan=\"2\" halign=\"left\">true_upmarket_card_pred_highstreet_card</th>\n",
       "      <th colspan=\"8\" halign=\"left\">true_upmarket_card_pred_upmarket_card</th>\n",
       "    </tr>\n",
       "    <tr>\n",
       "      <th></th>\n",
       "      <th>key</th>\n",
       "      <th>chunk_index</th>\n",
       "      <th>start_index</th>\n",
       "      <th>end_index</th>\n",
       "      <th>start_date</th>\n",
       "      <th>end_date</th>\n",
       "      <th>period</th>\n",
       "      <th>value</th>\n",
       "      <th>sampling_error</th>\n",
       "      <th>realized</th>\n",
       "      <th>...</th>\n",
       "      <th>lower_threshold</th>\n",
       "      <th>alert</th>\n",
       "      <th>value</th>\n",
       "      <th>sampling_error</th>\n",
       "      <th>realized</th>\n",
       "      <th>upper_confidence_boundary</th>\n",
       "      <th>lower_confidence_boundary</th>\n",
       "      <th>upper_threshold</th>\n",
       "      <th>lower_threshold</th>\n",
       "      <th>alert</th>\n",
       "    </tr>\n",
       "  </thead>\n",
       "  <tbody>\n",
       "    <tr>\n",
       "      <th>0</th>\n",
       "      <td>[0:5999]</td>\n",
       "      <td>0</td>\n",
       "      <td>0</td>\n",
       "      <td>5999</td>\n",
       "      <td>2020-09-01 03:10:01</td>\n",
       "      <td>2020-09-13 16:15:10</td>\n",
       "      <td>analysis</td>\n",
       "      <td>0.261674</td>\n",
       "      <td>0.005555</td>\n",
       "      <td>NaN</td>\n",
       "      <td>...</td>\n",
       "      <td>0.034825</td>\n",
       "      <td>False</td>\n",
       "      <td>0.244425</td>\n",
       "      <td>0.005614</td>\n",
       "      <td>NaN</td>\n",
       "      <td>0.261266</td>\n",
       "      <td>0.227584</td>\n",
       "      <td>0.270106</td>\n",
       "      <td>0.236227</td>\n",
       "      <td>False</td>\n",
       "    </tr>\n",
       "    <tr>\n",
       "      <th>1</th>\n",
       "      <td>[6000:11999]</td>\n",
       "      <td>1</td>\n",
       "      <td>6000</td>\n",
       "      <td>11999</td>\n",
       "      <td>2020-09-13 16:15:32</td>\n",
       "      <td>2020-09-25 19:48:42</td>\n",
       "      <td>analysis</td>\n",
       "      <td>0.252942</td>\n",
       "      <td>0.005555</td>\n",
       "      <td>NaN</td>\n",
       "      <td>...</td>\n",
       "      <td>0.034825</td>\n",
       "      <td>False</td>\n",
       "      <td>0.247430</td>\n",
       "      <td>0.005614</td>\n",
       "      <td>NaN</td>\n",
       "      <td>0.264271</td>\n",
       "      <td>0.230589</td>\n",
       "      <td>0.270106</td>\n",
       "      <td>0.236227</td>\n",
       "      <td>False</td>\n",
       "    </tr>\n",
       "    <tr>\n",
       "      <th>2</th>\n",
       "      <td>[12000:17999]</td>\n",
       "      <td>2</td>\n",
       "      <td>12000</td>\n",
       "      <td>17999</td>\n",
       "      <td>2020-09-25 19:50:04</td>\n",
       "      <td>2020-10-08 02:53:47</td>\n",
       "      <td>analysis</td>\n",
       "      <td>0.256846</td>\n",
       "      <td>0.005555</td>\n",
       "      <td>NaN</td>\n",
       "      <td>...</td>\n",
       "      <td>0.034825</td>\n",
       "      <td>False</td>\n",
       "      <td>0.253669</td>\n",
       "      <td>0.005614</td>\n",
       "      <td>NaN</td>\n",
       "      <td>0.270509</td>\n",
       "      <td>0.236828</td>\n",
       "      <td>0.270106</td>\n",
       "      <td>0.236227</td>\n",
       "      <td>False</td>\n",
       "    </tr>\n",
       "    <tr>\n",
       "      <th>3</th>\n",
       "      <td>[18000:23999]</td>\n",
       "      <td>3</td>\n",
       "      <td>18000</td>\n",
       "      <td>23999</td>\n",
       "      <td>2020-10-08 02:57:34</td>\n",
       "      <td>2020-10-20 15:48:19</td>\n",
       "      <td>analysis</td>\n",
       "      <td>0.257472</td>\n",
       "      <td>0.005555</td>\n",
       "      <td>NaN</td>\n",
       "      <td>...</td>\n",
       "      <td>0.034825</td>\n",
       "      <td>False</td>\n",
       "      <td>0.256698</td>\n",
       "      <td>0.005614</td>\n",
       "      <td>NaN</td>\n",
       "      <td>0.273539</td>\n",
       "      <td>0.239858</td>\n",
       "      <td>0.270106</td>\n",
       "      <td>0.236227</td>\n",
       "      <td>False</td>\n",
       "    </tr>\n",
       "    <tr>\n",
       "      <th>4</th>\n",
       "      <td>[24000:29999]</td>\n",
       "      <td>4</td>\n",
       "      <td>24000</td>\n",
       "      <td>29999</td>\n",
       "      <td>2020-10-20 15:49:06</td>\n",
       "      <td>2020-11-01 22:04:40</td>\n",
       "      <td>analysis</td>\n",
       "      <td>0.246073</td>\n",
       "      <td>0.005555</td>\n",
       "      <td>NaN</td>\n",
       "      <td>...</td>\n",
       "      <td>0.034825</td>\n",
       "      <td>False</td>\n",
       "      <td>0.256843</td>\n",
       "      <td>0.005614</td>\n",
       "      <td>NaN</td>\n",
       "      <td>0.273683</td>\n",
       "      <td>0.240002</td>\n",
       "      <td>0.270106</td>\n",
       "      <td>0.236227</td>\n",
       "      <td>False</td>\n",
       "    </tr>\n",
       "    <tr>\n",
       "      <th>5</th>\n",
       "      <td>[30000:35999]</td>\n",
       "      <td>5</td>\n",
       "      <td>30000</td>\n",
       "      <td>35999</td>\n",
       "      <td>2020-11-01 22:04:59</td>\n",
       "      <td>2020-11-14 03:55:33</td>\n",
       "      <td>analysis</td>\n",
       "      <td>0.166777</td>\n",
       "      <td>0.005555</td>\n",
       "      <td>NaN</td>\n",
       "      <td>...</td>\n",
       "      <td>0.034825</td>\n",
       "      <td>True</td>\n",
       "      <td>0.205466</td>\n",
       "      <td>0.005614</td>\n",
       "      <td>NaN</td>\n",
       "      <td>0.222306</td>\n",
       "      <td>0.188625</td>\n",
       "      <td>0.270106</td>\n",
       "      <td>0.236227</td>\n",
       "      <td>True</td>\n",
       "    </tr>\n",
       "    <tr>\n",
       "      <th>6</th>\n",
       "      <td>[36000:41999]</td>\n",
       "      <td>6</td>\n",
       "      <td>36000</td>\n",
       "      <td>41999</td>\n",
       "      <td>2020-11-14 03:55:49</td>\n",
       "      <td>2020-11-26 09:19:06</td>\n",
       "      <td>analysis</td>\n",
       "      <td>0.169317</td>\n",
       "      <td>0.005555</td>\n",
       "      <td>NaN</td>\n",
       "      <td>...</td>\n",
       "      <td>0.034825</td>\n",
       "      <td>True</td>\n",
       "      <td>0.197382</td>\n",
       "      <td>0.005614</td>\n",
       "      <td>NaN</td>\n",
       "      <td>0.214223</td>\n",
       "      <td>0.180541</td>\n",
       "      <td>0.270106</td>\n",
       "      <td>0.236227</td>\n",
       "      <td>True</td>\n",
       "    </tr>\n",
       "    <tr>\n",
       "      <th>7</th>\n",
       "      <td>[42000:47999]</td>\n",
       "      <td>7</td>\n",
       "      <td>42000</td>\n",
       "      <td>47999</td>\n",
       "      <td>2020-11-26 09:19:22</td>\n",
       "      <td>2020-12-08 14:33:56</td>\n",
       "      <td>analysis</td>\n",
       "      <td>0.165042</td>\n",
       "      <td>0.005555</td>\n",
       "      <td>NaN</td>\n",
       "      <td>...</td>\n",
       "      <td>0.034825</td>\n",
       "      <td>True</td>\n",
       "      <td>0.196022</td>\n",
       "      <td>0.005614</td>\n",
       "      <td>NaN</td>\n",
       "      <td>0.212862</td>\n",
       "      <td>0.179181</td>\n",
       "      <td>0.270106</td>\n",
       "      <td>0.236227</td>\n",
       "      <td>True</td>\n",
       "    </tr>\n",
       "    <tr>\n",
       "      <th>8</th>\n",
       "      <td>[48000:53999]</td>\n",
       "      <td>8</td>\n",
       "      <td>48000</td>\n",
       "      <td>53999</td>\n",
       "      <td>2020-12-08 14:34:25</td>\n",
       "      <td>2020-12-20 18:30:30</td>\n",
       "      <td>analysis</td>\n",
       "      <td>0.168032</td>\n",
       "      <td>0.005555</td>\n",
       "      <td>NaN</td>\n",
       "      <td>...</td>\n",
       "      <td>0.034825</td>\n",
       "      <td>True</td>\n",
       "      <td>0.202474</td>\n",
       "      <td>0.005614</td>\n",
       "      <td>NaN</td>\n",
       "      <td>0.219315</td>\n",
       "      <td>0.185634</td>\n",
       "      <td>0.270106</td>\n",
       "      <td>0.236227</td>\n",
       "      <td>True</td>\n",
       "    </tr>\n",
       "    <tr>\n",
       "      <th>9</th>\n",
       "      <td>[54000:59999]</td>\n",
       "      <td>9</td>\n",
       "      <td>54000</td>\n",
       "      <td>59999</td>\n",
       "      <td>2020-12-20 18:31:09</td>\n",
       "      <td>2021-01-01 22:57:55</td>\n",
       "      <td>analysis</td>\n",
       "      <td>0.162861</td>\n",
       "      <td>0.005555</td>\n",
       "      <td>NaN</td>\n",
       "      <td>...</td>\n",
       "      <td>0.034825</td>\n",
       "      <td>True</td>\n",
       "      <td>0.206238</td>\n",
       "      <td>0.005614</td>\n",
       "      <td>NaN</td>\n",
       "      <td>0.223078</td>\n",
       "      <td>0.189397</td>\n",
       "      <td>0.270106</td>\n",
       "      <td>0.236227</td>\n",
       "      <td>True</td>\n",
       "    </tr>\n",
       "  </tbody>\n",
       "</table>\n",
       "<p>10 rows × 79 columns</p>\n",
       "</div>"
      ],
      "text/plain": [
       "           chunk                                                        \\\n",
       "             key chunk_index start_index end_index          start_date   \n",
       "0       [0:5999]           0           0      5999 2020-09-01 03:10:01   \n",
       "1   [6000:11999]           1        6000     11999 2020-09-13 16:15:32   \n",
       "2  [12000:17999]           2       12000     17999 2020-09-25 19:50:04   \n",
       "3  [18000:23999]           3       18000     23999 2020-10-08 02:57:34   \n",
       "4  [24000:29999]           4       24000     29999 2020-10-20 15:49:06   \n",
       "5  [30000:35999]           5       30000     35999 2020-11-01 22:04:59   \n",
       "6  [36000:41999]           6       36000     41999 2020-11-14 03:55:49   \n",
       "7  [42000:47999]           7       42000     47999 2020-11-26 09:19:22   \n",
       "8  [48000:53999]           8       48000     53999 2020-12-08 14:34:25   \n",
       "9  [54000:59999]           9       54000     59999 2020-12-20 18:31:09   \n",
       "\n",
       "                                true_prepaid_card_pred_prepaid_card  \\\n",
       "             end_date    period                               value   \n",
       "0 2020-09-13 16:15:10  analysis                            0.261674   \n",
       "1 2020-09-25 19:48:42  analysis                            0.252942   \n",
       "2 2020-10-08 02:53:47  analysis                            0.256846   \n",
       "3 2020-10-20 15:48:19  analysis                            0.257472   \n",
       "4 2020-11-01 22:04:40  analysis                            0.246073   \n",
       "5 2020-11-14 03:55:33  analysis                            0.166777   \n",
       "6 2020-11-26 09:19:06  analysis                            0.169317   \n",
       "7 2020-12-08 14:33:56  analysis                            0.165042   \n",
       "8 2020-12-20 18:30:30  analysis                            0.168032   \n",
       "9 2021-01-01 22:57:55  analysis                            0.162861   \n",
       "\n",
       "                           ... true_upmarket_card_pred_highstreet_card         \\\n",
       "  sampling_error realized  ...                         lower_threshold  alert   \n",
       "0       0.005555      NaN  ...                                0.034825  False   \n",
       "1       0.005555      NaN  ...                                0.034825  False   \n",
       "2       0.005555      NaN  ...                                0.034825  False   \n",
       "3       0.005555      NaN  ...                                0.034825  False   \n",
       "4       0.005555      NaN  ...                                0.034825  False   \n",
       "5       0.005555      NaN  ...                                0.034825   True   \n",
       "6       0.005555      NaN  ...                                0.034825   True   \n",
       "7       0.005555      NaN  ...                                0.034825   True   \n",
       "8       0.005555      NaN  ...                                0.034825   True   \n",
       "9       0.005555      NaN  ...                                0.034825   True   \n",
       "\n",
       "  true_upmarket_card_pred_upmarket_card                          \\\n",
       "                                  value sampling_error realized   \n",
       "0                              0.244425       0.005614      NaN   \n",
       "1                              0.247430       0.005614      NaN   \n",
       "2                              0.253669       0.005614      NaN   \n",
       "3                              0.256698       0.005614      NaN   \n",
       "4                              0.256843       0.005614      NaN   \n",
       "5                              0.205466       0.005614      NaN   \n",
       "6                              0.197382       0.005614      NaN   \n",
       "7                              0.196022       0.005614      NaN   \n",
       "8                              0.202474       0.005614      NaN   \n",
       "9                              0.206238       0.005614      NaN   \n",
       "\n",
       "                                                                       \\\n",
       "  upper_confidence_boundary lower_confidence_boundary upper_threshold   \n",
       "0                  0.261266                  0.227584        0.270106   \n",
       "1                  0.264271                  0.230589        0.270106   \n",
       "2                  0.270509                  0.236828        0.270106   \n",
       "3                  0.273539                  0.239858        0.270106   \n",
       "4                  0.273683                  0.240002        0.270106   \n",
       "5                  0.222306                  0.188625        0.270106   \n",
       "6                  0.214223                  0.180541        0.270106   \n",
       "7                  0.212862                  0.179181        0.270106   \n",
       "8                  0.219315                  0.185634        0.270106   \n",
       "9                  0.223078                  0.189397        0.270106   \n",
       "\n",
       "                          \n",
       "  lower_threshold  alert  \n",
       "0        0.236227  False  \n",
       "1        0.236227  False  \n",
       "2        0.236227  False  \n",
       "3        0.236227  False  \n",
       "4        0.236227  False  \n",
       "5        0.236227   True  \n",
       "6        0.236227   True  \n",
       "7        0.236227   True  \n",
       "8        0.236227   True  \n",
       "9        0.236227   True  \n",
       "\n",
       "[10 rows x 79 columns]"
      ]
     },
     "metadata": {},
     "output_type": "display_data"
    }
   ],
   "source": [
    "results = estimator.estimate(analysis_df)\n",
    "display(results.filter(period='analysis').to_df())"
   ]
  },
  {
   "cell_type": "code",
   "execution_count": 6,
   "metadata": {},
   "outputs": [
    {
     "ename": "ModuleNotFoundError",
     "evalue": "No module named 'docs'",
     "output_type": "error",
     "traceback": [
      "\u001b[0;31m---------------------------------------------------------------------------\u001b[0m",
      "\u001b[0;31mModuleNotFoundError\u001b[0m                       Traceback (most recent call last)",
      "Cell \u001b[0;32mIn[6], line 1\u001b[0m\n\u001b[0;32m----> 1\u001b[0m \u001b[39mfrom\u001b[39;00m \u001b[39mdocs\u001b[39;00m\u001b[39m.\u001b[39;00m\u001b[39mutils\u001b[39;00m \u001b[39mimport\u001b[39;00m print_multi_index_markdown\n\u001b[1;32m      2\u001b[0m print_multi_index_markdown(results\u001b[39m.\u001b[39mfilter(period\u001b[39m=\u001b[39m\u001b[39m'\u001b[39m\u001b[39manalysis\u001b[39m\u001b[39m'\u001b[39m)\u001b[39m.\u001b[39mto_df())\n",
      "\u001b[0;31mModuleNotFoundError\u001b[0m: No module named 'docs'"
     ]
    }
   ],
   "source": [
    "from docs.utils import print_multi_index_markdown\n",
    "print_multi_index_markdown(results.filter(period='analysis').to_df())"
   ]
  },
  {
   "cell_type": "code",
   "execution_count": 7,
   "metadata": {},
   "outputs": [
    {
     "data": {
      "application/vnd.plotly.v1+json": {
       "config": {
        "plotlyServerURL": "https://plot.ly"
       },
       "data": [
        {
         "hoverinfo": "skip",
         "legendgroup": "metric_reference",
         "line": {
          "color": "#3b0280",
          "dash": "dash",
          "shape": "hv",
          "width": 2
         },
         "mode": "lines",
         "name": "Metric",
         "showlegend": true,
         "type": "scatter",
         "x": [
          "2020-05-02T02:01:30",
          "2020-05-14T12:29:25",
          "2020-05-26T18:31:06",
          "2020-06-07T19:58:39",
          "2020-06-19T19:44:14",
          "2020-07-02T02:06:56",
          "2020-07-14T08:14:08",
          "2020-07-26T12:57:37",
          "2020-08-07T16:33:44",
          "2020-08-20T00:07:58",
          "2020-09-01T03:03:23"
         ],
         "xaxis": "x",
         "y": [
          0.2547423105678282,
          0.25042792874739045,
          0.2554935984801084,
          0.25795400633601684,
          0.2560575854578089,
          0.2556241769481703,
          0.2593304118491347,
          0.24822842464385417,
          0.25565586222295067,
          0.2536481937125831,
          0.2536481937125831
         ],
         "yaxis": "y"
        },
        {
         "customdata": [
          [
           "Estimated <b>true class: prepaid_card, predicted class: prepaid_card</b>",
           "<b style=\"color:#3b0280;line-height:60px\">Reference</b>",
           "",
           "[0:5999]",
           "From <b>May-02-2020</b> to <b>May-14-2020</b>",
           0.2547,
           0.0167
          ],
          [
           "Estimated <b>true class: prepaid_card, predicted class: prepaid_card</b>",
           "<b style=\"color:#3b0280;line-height:60px\">Reference</b>",
           "",
           "[6000:11999]",
           "From <b>May-14-2020</b> to <b>May-26-2020</b>",
           0.2504,
           0.0167
          ],
          [
           "Estimated <b>true class: prepaid_card, predicted class: prepaid_card</b>",
           "<b style=\"color:#3b0280;line-height:60px\">Reference</b>",
           "",
           "[12000:17999]",
           "From <b>May-26-2020</b> to <b>Jun-07-2020</b>",
           0.2555,
           0.0167
          ],
          [
           "Estimated <b>true class: prepaid_card, predicted class: prepaid_card</b>",
           "<b style=\"color:#3b0280;line-height:60px\">Reference</b>",
           "",
           "[18000:23999]",
           "From <b>Jun-07-2020</b> to <b>Jun-19-2020</b>",
           0.258,
           0.0167
          ],
          [
           "Estimated <b>true class: prepaid_card, predicted class: prepaid_card</b>",
           "<b style=\"color:#3b0280;line-height:60px\">Reference</b>",
           "",
           "[24000:29999]",
           "From <b>Jun-19-2020</b> to <b>Jul-02-2020</b>",
           0.2561,
           0.0167
          ],
          [
           "Estimated <b>true class: prepaid_card, predicted class: prepaid_card</b>",
           "<b style=\"color:#3b0280;line-height:60px\">Reference</b>",
           "",
           "[30000:35999]",
           "From <b>Jul-02-2020</b> to <b>Jul-14-2020</b>",
           0.2556,
           0.0167
          ],
          [
           "Estimated <b>true class: prepaid_card, predicted class: prepaid_card</b>",
           "<b style=\"color:#3b0280;line-height:60px\">Reference</b>",
           "",
           "[36000:41999]",
           "From <b>Jul-14-2020</b> to <b>Jul-26-2020</b>",
           0.2593,
           0.0167
          ],
          [
           "Estimated <b>true class: prepaid_card, predicted class: prepaid_card</b>",
           "<b style=\"color:#3b0280;line-height:60px\">Reference</b>",
           "",
           "[42000:47999]",
           "From <b>Jul-26-2020</b> to <b>Aug-07-2020</b>",
           0.2482,
           0.0167
          ],
          [
           "Estimated <b>true class: prepaid_card, predicted class: prepaid_card</b>",
           "<b style=\"color:#3b0280;line-height:60px\">Reference</b>",
           "",
           "[48000:53999]",
           "From <b>Aug-07-2020</b> to <b>Aug-20-2020</b>",
           0.2557,
           0.0167
          ],
          [
           "Estimated <b>true class: prepaid_card, predicted class: prepaid_card</b>",
           "<b style=\"color:#3b0280;line-height:60px\">Reference</b>",
           "",
           "[54000:59999]",
           "From <b>Aug-20-2020</b> to <b>Sep-01-2020</b>",
           0.2536,
           0.0167
          ]
         ],
         "hovertemplate": "%{customdata[1]} &nbsp; &nbsp; %{customdata[2]} <br />Chunk: <b>%{customdata[3]}</b> &nbsp; &nbsp; %{customdata[4]} <br />%{customdata[0]}: <b>%{customdata[5]}</b><br />Confidence band: +/- <b>%{customdata[6]}</b><br /><extra></extra>",
         "legendgroup": "metric_reference",
         "line": {
          "dash": "dash"
         },
         "marker": {
          "color": "#3b0280",
          "size": 5,
          "symbol": "circle"
         },
         "mode": "markers",
         "name": "Metric",
         "showlegend": false,
         "type": "scatter",
         "x": [
          "2020-05-08T07:15:27.500000",
          "2020-05-20T15:30:15.500000",
          "2020-06-01T19:14:52.500000",
          "2020-06-13T19:51:26.500000",
          "2020-06-25T22:55:35",
          "2020-07-08T05:10:32",
          "2020-07-20T10:35:52.500000",
          "2020-08-01T14:45:40.500000",
          "2020-08-13T20:20:51",
          "2020-08-26T01:35:40.500000"
         ],
         "xaxis": "x",
         "y": [
          0.2547423105678282,
          0.25042792874739045,
          0.2554935984801084,
          0.25795400633601684,
          0.2560575854578089,
          0.2556241769481703,
          0.2593304118491347,
          0.24822842464385417,
          0.25565586222295067,
          0.2536481937125831,
          0.2536481937125831
         ],
         "yaxis": "y"
        },
        {
         "hoverinfo": "skip",
         "legendgroup": "metric_analysis",
         "line": {
          "color": "#3b0280",
          "dash": "dash",
          "shape": "hv",
          "width": 2
         },
         "mode": "lines",
         "name": "Metric",
         "showlegend": false,
         "type": "scatter",
         "x": [
          "2020-09-01T03:10:01",
          "2020-09-13T16:15:32",
          "2020-09-25T19:50:04",
          "2020-10-08T02:57:34",
          "2020-10-20T15:49:06",
          "2020-11-01T22:04:59",
          "2020-11-14T03:55:49",
          "2020-11-26T09:19:22",
          "2020-12-08T14:34:25",
          "2020-12-20T18:31:09",
          "2021-01-01T22:57:55"
         ],
         "xaxis": "x",
         "y": [
          0.2616744095350962,
          0.25294170679815525,
          0.25684567675845715,
          0.2574717870724521,
          0.24607326278084765,
          0.1667767157503503,
          0.16931671607676968,
          0.16504234229830178,
          0.16803164168297496,
          0.16286080185034216,
          0.16286080185034216
         ],
         "yaxis": "y"
        },
        {
         "customdata": [
          [
           "Estimated <b>true class: prepaid_card, predicted class: prepaid_card</b>",
           "<b style=\"color:#3b0280;line-height:60px\">Analysis</b>",
           "",
           "[0:5999]",
           "From <b>Sep-01-2020</b> to <b>Sep-13-2020</b>",
           0.2617,
           0.0167
          ],
          [
           "Estimated <b>true class: prepaid_card, predicted class: prepaid_card</b>",
           "<b style=\"color:#3b0280;line-height:60px\">Analysis</b>",
           "",
           "[6000:11999]",
           "From <b>Sep-13-2020</b> to <b>Sep-25-2020</b>",
           0.2529,
           0.0167
          ],
          [
           "Estimated <b>true class: prepaid_card, predicted class: prepaid_card</b>",
           "<b style=\"color:#3b0280;line-height:60px\">Analysis</b>",
           "",
           "[12000:17999]",
           "From <b>Sep-25-2020</b> to <b>Oct-08-2020</b>",
           0.2568,
           0.0167
          ],
          [
           "Estimated <b>true class: prepaid_card, predicted class: prepaid_card</b>",
           "<b style=\"color:#3b0280;line-height:60px\">Analysis</b>",
           "",
           "[18000:23999]",
           "From <b>Oct-08-2020</b> to <b>Oct-20-2020</b>",
           0.2575,
           0.0167
          ],
          [
           "Estimated <b>true class: prepaid_card, predicted class: prepaid_card</b>",
           "<b style=\"color:#3b0280;line-height:60px\">Analysis</b>",
           "",
           "[24000:29999]",
           "From <b>Oct-20-2020</b> to <b>Nov-01-2020</b>",
           0.2461,
           0.0167
          ],
          [
           "Estimated <b>true class: prepaid_card, predicted class: prepaid_card</b>",
           "<b style=\"color:#3b0280;line-height:60px\">Analysis</b>",
           "<span style=\"color:#AD0000\">⚠ <b>Drift detected</b></span>",
           "[30000:35999]",
           "From <b>Nov-01-2020</b> to <b>Nov-14-2020</b>",
           0.1668,
           0.0167
          ],
          [
           "Estimated <b>true class: prepaid_card, predicted class: prepaid_card</b>",
           "<b style=\"color:#3b0280;line-height:60px\">Analysis</b>",
           "<span style=\"color:#AD0000\">⚠ <b>Drift detected</b></span>",
           "[36000:41999]",
           "From <b>Nov-14-2020</b> to <b>Nov-26-2020</b>",
           0.1693,
           0.0167
          ],
          [
           "Estimated <b>true class: prepaid_card, predicted class: prepaid_card</b>",
           "<b style=\"color:#3b0280;line-height:60px\">Analysis</b>",
           "<span style=\"color:#AD0000\">⚠ <b>Drift detected</b></span>",
           "[42000:47999]",
           "From <b>Nov-26-2020</b> to <b>Dec-08-2020</b>",
           0.165,
           0.0167
          ],
          [
           "Estimated <b>true class: prepaid_card, predicted class: prepaid_card</b>",
           "<b style=\"color:#3b0280;line-height:60px\">Analysis</b>",
           "<span style=\"color:#AD0000\">⚠ <b>Drift detected</b></span>",
           "[48000:53999]",
           "From <b>Dec-08-2020</b> to <b>Dec-20-2020</b>",
           0.168,
           0.0167
          ],
          [
           "Estimated <b>true class: prepaid_card, predicted class: prepaid_card</b>",
           "<b style=\"color:#3b0280;line-height:60px\">Analysis</b>",
           "<span style=\"color:#AD0000\">⚠ <b>Drift detected</b></span>",
           "[54000:59999]",
           "From <b>Dec-20-2020</b> to <b>Jan-01-2021</b>",
           0.1629,
           0.0167
          ]
         ],
         "hovertemplate": "%{customdata[1]} &nbsp; &nbsp; %{customdata[2]} <br />Chunk: <b>%{customdata[3]}</b> &nbsp; &nbsp; %{customdata[4]} <br />%{customdata[0]}: <b>%{customdata[5]}</b><br />Confidence band: +/- <b>%{customdata[6]}</b><br /><extra></extra>",
         "legendgroup": "metric_analysis",
         "line": {
          "dash": "dash"
         },
         "marker": {
          "color": "#3b0280",
          "size": 5,
          "symbol": "circle"
         },
         "mode": "markers",
         "name": "Metric",
         "showlegend": false,
         "type": "scatter",
         "x": [
          "2020-09-07T09:42:46.500000",
          "2020-09-19T18:02:48",
          "2020-10-01T23:23:49",
          "2020-10-14T09:23:20",
          "2020-10-26T18:57:02.500000",
          "2020-11-08T01:00:24",
          "2020-11-20T06:37:35.500000",
          "2020-12-02T11:56:53.500000",
          "2020-12-14T16:32:47",
          "2020-12-26T20:44:32"
         ],
         "xaxis": "x",
         "y": [
          0.2616744095350962,
          0.25294170679815525,
          0.25684567675845715,
          0.2574717870724521,
          0.24607326278084765,
          0.1667767157503503,
          0.16931671607676968,
          0.16504234229830178,
          0.16803164168297496,
          0.16286080185034216,
          0.16286080185034216
         ],
         "yaxis": "y"
        },
        {
         "hoverinfo": "skip",
         "legendgroup": "alert",
         "marker": {
          "color": "#DD4040",
          "size": 8,
          "symbol": "diamond"
         },
         "mode": "markers",
         "name": "Alert",
         "showlegend": true,
         "type": "scatter",
         "x": [
          "2020-11-08T01:00:24",
          "2020-11-20T06:37:35.500000",
          "2020-12-02T11:56:53.500000",
          "2020-12-14T16:32:47",
          "2020-12-26T20:44:32"
         ],
         "xaxis": "x",
         "y": [
          0.1667767157503503,
          0.16931671607676968,
          0.16504234229830178,
          0.16803164168297496,
          0.16286080185034216
         ],
         "yaxis": "y"
        },
        {
         "hoverinfo": "skip",
         "legendgroup": "thresh",
         "line": {
          "color": "#DD4040",
          "dash": "dash",
          "width": 2
         },
         "mode": "lines",
         "name": "Threshold",
         "showlegend": true,
         "type": "scatter",
         "x": [
          "2020-05-02T02:01:30",
          "2020-05-14T12:29:25",
          "2020-05-26T18:31:06",
          "2020-06-07T19:58:39",
          "2020-06-19T19:44:14",
          "2020-07-02T02:06:56",
          "2020-07-14T08:14:08",
          "2020-07-26T12:57:37",
          "2020-08-07T16:33:44",
          "2020-08-20T00:07:58",
          "2020-09-01T03:03:23"
         ],
         "xaxis": "x",
         "y": [
          0.2659115344359143,
          0.2659115344359143,
          0.2659115344359143,
          0.2659115344359143,
          0.2659115344359143,
          0.2659115344359143,
          0.2659115344359143,
          0.2659115344359143,
          0.2659115344359143,
          0.2659115344359143,
          0.2659115344359143
         ],
         "yaxis": "y"
        },
        {
         "hoverinfo": "skip",
         "legendgroup": "thresh",
         "line": {
          "color": "#DD4040",
          "dash": "dash",
          "width": 2
         },
         "mode": "lines",
         "name": "Threshold",
         "showlegend": false,
         "type": "scatter",
         "x": [
          "2020-05-02T02:01:30",
          "2020-05-14T12:29:25",
          "2020-05-26T18:31:06",
          "2020-06-07T19:58:39",
          "2020-06-19T19:44:14",
          "2020-07-02T02:06:56",
          "2020-07-14T08:14:08",
          "2020-07-26T12:57:37",
          "2020-08-07T16:33:44",
          "2020-08-20T00:07:58",
          "2020-09-01T03:03:23"
         ],
         "xaxis": "x",
         "y": [
          0.24345513223075244,
          0.24345513223075244,
          0.24345513223075244,
          0.24345513223075244,
          0.24345513223075244,
          0.24345513223075244,
          0.24345513223075244,
          0.24345513223075244,
          0.24345513223075244,
          0.24345513223075244,
          0.24345513223075244
         ],
         "yaxis": "y"
        },
        {
         "hoverinfo": "skip",
         "legendgroup": "thresh",
         "line": {
          "color": "#DD4040",
          "dash": "dash",
          "width": 2
         },
         "mode": "lines",
         "name": "Threshold",
         "showlegend": false,
         "type": "scatter",
         "x": [
          "2020-09-01T03:10:01",
          "2020-09-13T16:15:32",
          "2020-09-25T19:50:04",
          "2020-10-08T02:57:34",
          "2020-10-20T15:49:06",
          "2020-11-01T22:04:59",
          "2020-11-14T03:55:49",
          "2020-11-26T09:19:22",
          "2020-12-08T14:34:25",
          "2020-12-20T18:31:09",
          "2021-01-01T22:57:55"
         ],
         "xaxis": "x",
         "y": [
          0.2659115344359143,
          0.2659115344359143,
          0.2659115344359143,
          0.2659115344359143,
          0.2659115344359143,
          0.2659115344359143,
          0.2659115344359143,
          0.2659115344359143,
          0.2659115344359143,
          0.2659115344359143,
          0.2659115344359143
         ],
         "yaxis": "y"
        },
        {
         "hoverinfo": "skip",
         "legendgroup": "thresh",
         "line": {
          "color": "#DD4040",
          "dash": "dash",
          "width": 2
         },
         "mode": "lines",
         "name": "Threshold",
         "showlegend": false,
         "type": "scatter",
         "x": [
          "2020-09-01T03:10:01",
          "2020-09-13T16:15:32",
          "2020-09-25T19:50:04",
          "2020-10-08T02:57:34",
          "2020-10-20T15:49:06",
          "2020-11-01T22:04:59",
          "2020-11-14T03:55:49",
          "2020-11-26T09:19:22",
          "2020-12-08T14:34:25",
          "2020-12-20T18:31:09",
          "2021-01-01T22:57:55"
         ],
         "xaxis": "x",
         "y": [
          0.24345513223075244,
          0.24345513223075244,
          0.24345513223075244,
          0.24345513223075244,
          0.24345513223075244,
          0.24345513223075244,
          0.24345513223075244,
          0.24345513223075244,
          0.24345513223075244,
          0.24345513223075244,
          0.24345513223075244
         ],
         "yaxis": "y"
        },
        {
         "hoverinfo": "skip",
         "line": {
          "color": "rgba(0,0,0,0)",
          "shape": "hv"
         },
         "mode": "lines",
         "name": "Confidence band",
         "showlegend": false,
         "type": "scatter",
         "x": [
          "2020-05-02T02:01:30",
          "2020-05-14T12:29:25",
          "2020-05-26T18:31:06",
          "2020-06-07T19:58:39",
          "2020-06-19T19:44:14",
          "2020-07-02T02:06:56",
          "2020-07-14T08:14:08",
          "2020-07-26T12:57:37",
          "2020-08-07T16:33:44",
          "2020-08-20T00:07:58",
          "2020-09-01T03:03:23"
         ],
         "xaxis": "x",
         "y": [
          0.2714067817440562,
          0.26709239992361844,
          0.2721580696563364,
          0.27461847751224483,
          0.27272205663403687,
          0.2722886481243983,
          0.2759948830253627,
          0.26489289582008213,
          0.27232033339917866,
          0.2703126648888111,
          0.2703126648888111
         ],
         "yaxis": "y"
        },
        {
         "fill": "tonexty",
         "fillcolor": "rgba(0.23137254901960785, 0.00784313725490196, 0.5019607843137255, 0.2)",
         "hoverinfo": "skip",
         "line": {
          "color": "rgba(0,0,0,0)",
          "shape": "hv"
         },
         "mode": "lines",
         "name": "Confidence band",
         "showlegend": true,
         "type": "scatter",
         "x": [
          "2020-05-02T02:01:30",
          "2020-05-14T12:29:25",
          "2020-05-26T18:31:06",
          "2020-06-07T19:58:39",
          "2020-06-19T19:44:14",
          "2020-07-02T02:06:56",
          "2020-07-14T08:14:08",
          "2020-07-26T12:57:37",
          "2020-08-07T16:33:44",
          "2020-08-20T00:07:58",
          "2020-09-01T03:03:23"
         ],
         "xaxis": "x",
         "y": [
          0.2380778393916002,
          0.23376345757116246,
          0.2388291273038804,
          0.24128953515978885,
          0.2393931142815809,
          0.2389597057719423,
          0.2426659406729067,
          0.23156395346762618,
          0.23899139104672268,
          0.23698372253635513,
          0.23698372253635513
         ],
         "yaxis": "y"
        },
        {
         "hoverinfo": "skip",
         "line": {
          "color": "rgba(0,0,0,0)",
          "shape": "hv"
         },
         "mode": "lines",
         "name": "Confidence band",
         "showlegend": false,
         "type": "scatter",
         "x": [
          "2020-09-01T03:10:01",
          "2020-09-13T16:15:32",
          "2020-09-25T19:50:04",
          "2020-10-08T02:57:34",
          "2020-10-20T15:49:06",
          "2020-11-01T22:04:59",
          "2020-11-14T03:55:49",
          "2020-11-26T09:19:22",
          "2020-12-08T14:34:25",
          "2020-12-20T18:31:09",
          "2021-01-01T22:57:55"
         ],
         "xaxis": "x",
         "y": [
          0.2783388807113242,
          0.26960617797438324,
          0.27351014793468514,
          0.2741362582486801,
          0.2627377339570756,
          0.1834411869265783,
          0.18598118725299767,
          0.18170681347452977,
          0.18469611285920295,
          0.17952527302657015,
          0.17952527302657015
         ],
         "yaxis": "y"
        },
        {
         "fill": "tonexty",
         "fillcolor": "rgba(0.23137254901960785, 0.00784313725490196, 0.5019607843137255, 0.2)",
         "hoverinfo": "skip",
         "line": {
          "color": "rgba(0,0,0,0)",
          "shape": "hv"
         },
         "mode": "lines",
         "name": "Confidence band",
         "showlegend": false,
         "type": "scatter",
         "x": [
          "2020-09-01T03:10:01",
          "2020-09-13T16:15:32",
          "2020-09-25T19:50:04",
          "2020-10-08T02:57:34",
          "2020-10-20T15:49:06",
          "2020-11-01T22:04:59",
          "2020-11-14T03:55:49",
          "2020-11-26T09:19:22",
          "2020-12-08T14:34:25",
          "2020-12-20T18:31:09",
          "2021-01-01T22:57:55"
         ],
         "xaxis": "x",
         "y": [
          0.2450099383588682,
          0.23627723562192726,
          0.24018120558222916,
          0.24080731589622412,
          0.22940879160461966,
          0.1501122445741223,
          0.1526522449005417,
          0.1483778711220738,
          0.15136717050674697,
          0.14619633067411417,
          0.14619633067411417
         ],
         "yaxis": "y"
        },
        {
         "hoverinfo": "skip",
         "legendgroup": "metric_reference",
         "line": {
          "color": "#3b0280",
          "dash": "dash",
          "shape": "hv",
          "width": 2
         },
         "mode": "lines",
         "name": "Metric",
         "showlegend": false,
         "type": "scatter",
         "x": [
          "2020-05-02T02:01:30",
          "2020-05-14T12:29:25",
          "2020-05-26T18:31:06",
          "2020-06-07T19:58:39",
          "2020-06-19T19:44:14",
          "2020-07-02T02:06:56",
          "2020-07-14T08:14:08",
          "2020-07-26T12:57:37",
          "2020-08-07T16:33:44",
          "2020-08-20T00:07:58",
          "2020-09-01T03:03:23"
         ],
         "xaxis": "x2",
         "y": [
          0.04273757328778885,
          0.04337532094131372,
          0.042422854820460626,
          0.042555824337979206,
          0.03949611696180851,
          0.04118239474247817,
          0.04134087882938068,
          0.04260555258699162,
          0.041178227440024466,
          0.04148023172219936,
          0.04148023172219936
         ],
         "yaxis": "y2"
        },
        {
         "customdata": [
          [
           "Estimated <b>true class: prepaid_card, predicted class: highstreet_card</b>",
           "<b style=\"color:#3b0280;line-height:60px\">Reference</b>",
           "",
           "[0:5999]",
           "From <b>May-02-2020</b> to <b>May-14-2020</b>",
           0.0427,
           0.008
          ],
          [
           "Estimated <b>true class: prepaid_card, predicted class: highstreet_card</b>",
           "<b style=\"color:#3b0280;line-height:60px\">Reference</b>",
           "",
           "[6000:11999]",
           "From <b>May-14-2020</b> to <b>May-26-2020</b>",
           0.0434,
           0.008
          ],
          [
           "Estimated <b>true class: prepaid_card, predicted class: highstreet_card</b>",
           "<b style=\"color:#3b0280;line-height:60px\">Reference</b>",
           "",
           "[12000:17999]",
           "From <b>May-26-2020</b> to <b>Jun-07-2020</b>",
           0.0424,
           0.008
          ],
          [
           "Estimated <b>true class: prepaid_card, predicted class: highstreet_card</b>",
           "<b style=\"color:#3b0280;line-height:60px\">Reference</b>",
           "",
           "[18000:23999]",
           "From <b>Jun-07-2020</b> to <b>Jun-19-2020</b>",
           0.0426,
           0.008
          ],
          [
           "Estimated <b>true class: prepaid_card, predicted class: highstreet_card</b>",
           "<b style=\"color:#3b0280;line-height:60px\">Reference</b>",
           "",
           "[24000:29999]",
           "From <b>Jun-19-2020</b> to <b>Jul-02-2020</b>",
           0.0395,
           0.008
          ],
          [
           "Estimated <b>true class: prepaid_card, predicted class: highstreet_card</b>",
           "<b style=\"color:#3b0280;line-height:60px\">Reference</b>",
           "",
           "[30000:35999]",
           "From <b>Jul-02-2020</b> to <b>Jul-14-2020</b>",
           0.0412,
           0.008
          ],
          [
           "Estimated <b>true class: prepaid_card, predicted class: highstreet_card</b>",
           "<b style=\"color:#3b0280;line-height:60px\">Reference</b>",
           "",
           "[36000:41999]",
           "From <b>Jul-14-2020</b> to <b>Jul-26-2020</b>",
           0.0413,
           0.008
          ],
          [
           "Estimated <b>true class: prepaid_card, predicted class: highstreet_card</b>",
           "<b style=\"color:#3b0280;line-height:60px\">Reference</b>",
           "",
           "[42000:47999]",
           "From <b>Jul-26-2020</b> to <b>Aug-07-2020</b>",
           0.0426,
           0.008
          ],
          [
           "Estimated <b>true class: prepaid_card, predicted class: highstreet_card</b>",
           "<b style=\"color:#3b0280;line-height:60px\">Reference</b>",
           "",
           "[48000:53999]",
           "From <b>Aug-07-2020</b> to <b>Aug-20-2020</b>",
           0.0412,
           0.008
          ],
          [
           "Estimated <b>true class: prepaid_card, predicted class: highstreet_card</b>",
           "<b style=\"color:#3b0280;line-height:60px\">Reference</b>",
           "",
           "[54000:59999]",
           "From <b>Aug-20-2020</b> to <b>Sep-01-2020</b>",
           0.0415,
           0.008
          ]
         ],
         "hovertemplate": "%{customdata[1]} &nbsp; &nbsp; %{customdata[2]} <br />Chunk: <b>%{customdata[3]}</b> &nbsp; &nbsp; %{customdata[4]} <br />%{customdata[0]}: <b>%{customdata[5]}</b><br />Confidence band: +/- <b>%{customdata[6]}</b><br /><extra></extra>",
         "legendgroup": "metric_reference",
         "line": {
          "dash": "dash"
         },
         "marker": {
          "color": "#3b0280",
          "size": 5,
          "symbol": "circle"
         },
         "mode": "markers",
         "name": "Metric",
         "showlegend": false,
         "type": "scatter",
         "x": [
          "2020-05-08T07:15:27.500000",
          "2020-05-20T15:30:15.500000",
          "2020-06-01T19:14:52.500000",
          "2020-06-13T19:51:26.500000",
          "2020-06-25T22:55:35",
          "2020-07-08T05:10:32",
          "2020-07-20T10:35:52.500000",
          "2020-08-01T14:45:40.500000",
          "2020-08-13T20:20:51",
          "2020-08-26T01:35:40.500000"
         ],
         "xaxis": "x2",
         "y": [
          0.04273757328778885,
          0.04337532094131372,
          0.042422854820460626,
          0.042555824337979206,
          0.03949611696180851,
          0.04118239474247817,
          0.04134087882938068,
          0.04260555258699162,
          0.041178227440024466,
          0.04148023172219936,
          0.04148023172219936
         ],
         "yaxis": "y2"
        },
        {
         "hoverinfo": "skip",
         "legendgroup": "metric_analysis",
         "line": {
          "color": "#3b0280",
          "dash": "dash",
          "shape": "hv",
          "width": 2
         },
         "mode": "lines",
         "name": "Metric",
         "showlegend": false,
         "type": "scatter",
         "x": [
          "2020-09-01T03:10:01",
          "2020-09-13T16:15:32",
          "2020-09-25T19:50:04",
          "2020-10-08T02:57:34",
          "2020-10-20T15:49:06",
          "2020-11-01T22:04:59",
          "2020-11-14T03:55:49",
          "2020-11-26T09:19:22",
          "2020-12-08T14:34:25",
          "2020-12-20T18:31:09",
          "2021-01-01T22:57:55"
         ],
         "xaxis": "x2",
         "y": [
          0.04153107610880211,
          0.03910598984029517,
          0.04022416043058217,
          0.040665728678040476,
          0.04183436344397879,
          0.0710278259251633,
          0.07405805298011432,
          0.07297063175174208,
          0.07279366052703375,
          0.0720835677754907,
          0.0720835677754907
         ],
         "yaxis": "y2"
        },
        {
         "customdata": [
          [
           "Estimated <b>true class: prepaid_card, predicted class: highstreet_card</b>",
           "<b style=\"color:#3b0280;line-height:60px\">Analysis</b>",
           "",
           "[0:5999]",
           "From <b>Sep-01-2020</b> to <b>Sep-13-2020</b>",
           0.0415,
           0.008
          ],
          [
           "Estimated <b>true class: prepaid_card, predicted class: highstreet_card</b>",
           "<b style=\"color:#3b0280;line-height:60px\">Analysis</b>",
           "",
           "[6000:11999]",
           "From <b>Sep-13-2020</b> to <b>Sep-25-2020</b>",
           0.0391,
           0.008
          ],
          [
           "Estimated <b>true class: prepaid_card, predicted class: highstreet_card</b>",
           "<b style=\"color:#3b0280;line-height:60px\">Analysis</b>",
           "",
           "[12000:17999]",
           "From <b>Sep-25-2020</b> to <b>Oct-08-2020</b>",
           0.0402,
           0.008
          ],
          [
           "Estimated <b>true class: prepaid_card, predicted class: highstreet_card</b>",
           "<b style=\"color:#3b0280;line-height:60px\">Analysis</b>",
           "",
           "[18000:23999]",
           "From <b>Oct-08-2020</b> to <b>Oct-20-2020</b>",
           0.0407,
           0.008
          ],
          [
           "Estimated <b>true class: prepaid_card, predicted class: highstreet_card</b>",
           "<b style=\"color:#3b0280;line-height:60px\">Analysis</b>",
           "",
           "[24000:29999]",
           "From <b>Oct-20-2020</b> to <b>Nov-01-2020</b>",
           0.0418,
           0.008
          ],
          [
           "Estimated <b>true class: prepaid_card, predicted class: highstreet_card</b>",
           "<b style=\"color:#3b0280;line-height:60px\">Analysis</b>",
           "<span style=\"color:#AD0000\">⚠ <b>Drift detected</b></span>",
           "[30000:35999]",
           "From <b>Nov-01-2020</b> to <b>Nov-14-2020</b>",
           0.071,
           0.008
          ],
          [
           "Estimated <b>true class: prepaid_card, predicted class: highstreet_card</b>",
           "<b style=\"color:#3b0280;line-height:60px\">Analysis</b>",
           "<span style=\"color:#AD0000\">⚠ <b>Drift detected</b></span>",
           "[36000:41999]",
           "From <b>Nov-14-2020</b> to <b>Nov-26-2020</b>",
           0.0741,
           0.008
          ],
          [
           "Estimated <b>true class: prepaid_card, predicted class: highstreet_card</b>",
           "<b style=\"color:#3b0280;line-height:60px\">Analysis</b>",
           "<span style=\"color:#AD0000\">⚠ <b>Drift detected</b></span>",
           "[42000:47999]",
           "From <b>Nov-26-2020</b> to <b>Dec-08-2020</b>",
           0.073,
           0.008
          ],
          [
           "Estimated <b>true class: prepaid_card, predicted class: highstreet_card</b>",
           "<b style=\"color:#3b0280;line-height:60px\">Analysis</b>",
           "<span style=\"color:#AD0000\">⚠ <b>Drift detected</b></span>",
           "[48000:53999]",
           "From <b>Dec-08-2020</b> to <b>Dec-20-2020</b>",
           0.0728,
           0.008
          ],
          [
           "Estimated <b>true class: prepaid_card, predicted class: highstreet_card</b>",
           "<b style=\"color:#3b0280;line-height:60px\">Analysis</b>",
           "<span style=\"color:#AD0000\">⚠ <b>Drift detected</b></span>",
           "[54000:59999]",
           "From <b>Dec-20-2020</b> to <b>Jan-01-2021</b>",
           0.0721,
           0.008
          ]
         ],
         "hovertemplate": "%{customdata[1]} &nbsp; &nbsp; %{customdata[2]} <br />Chunk: <b>%{customdata[3]}</b> &nbsp; &nbsp; %{customdata[4]} <br />%{customdata[0]}: <b>%{customdata[5]}</b><br />Confidence band: +/- <b>%{customdata[6]}</b><br /><extra></extra>",
         "legendgroup": "metric_analysis",
         "line": {
          "dash": "dash"
         },
         "marker": {
          "color": "#3b0280",
          "size": 5,
          "symbol": "circle"
         },
         "mode": "markers",
         "name": "Metric",
         "showlegend": false,
         "type": "scatter",
         "x": [
          "2020-09-07T09:42:46.500000",
          "2020-09-19T18:02:48",
          "2020-10-01T23:23:49",
          "2020-10-14T09:23:20",
          "2020-10-26T18:57:02.500000",
          "2020-11-08T01:00:24",
          "2020-11-20T06:37:35.500000",
          "2020-12-02T11:56:53.500000",
          "2020-12-14T16:32:47",
          "2020-12-26T20:44:32"
         ],
         "xaxis": "x2",
         "y": [
          0.04153107610880211,
          0.03910598984029517,
          0.04022416043058217,
          0.040665728678040476,
          0.04183436344397879,
          0.0710278259251633,
          0.07405805298011432,
          0.07297063175174208,
          0.07279366052703375,
          0.0720835677754907,
          0.0720835677754907
         ],
         "yaxis": "y2"
        },
        {
         "hoverinfo": "skip",
         "legendgroup": "alert",
         "marker": {
          "color": "#DD4040",
          "size": 8,
          "symbol": "diamond"
         },
         "mode": "markers",
         "name": "Alert",
         "showlegend": false,
         "type": "scatter",
         "x": [
          "2020-11-08T01:00:24",
          "2020-11-20T06:37:35.500000",
          "2020-12-02T11:56:53.500000",
          "2020-12-14T16:32:47",
          "2020-12-26T20:44:32"
         ],
         "xaxis": "x2",
         "y": [
          0.0710278259251633,
          0.07405805298011432,
          0.07297063175174208,
          0.07279366052703375,
          0.0720835677754907
         ],
         "yaxis": "y2"
        },
        {
         "hoverinfo": "skip",
         "legendgroup": "thresh",
         "line": {
          "color": "#DD4040",
          "dash": "dash",
          "width": 2
         },
         "mode": "lines",
         "name": "Threshold",
         "showlegend": false,
         "type": "scatter",
         "x": [
          "2020-05-02T02:01:30",
          "2020-05-14T12:29:25",
          "2020-05-26T18:31:06",
          "2020-06-07T19:58:39",
          "2020-06-19T19:44:14",
          "2020-07-02T02:06:56",
          "2020-07-14T08:14:08",
          "2020-07-26T12:57:37",
          "2020-08-07T16:33:44",
          "2020-08-20T00:07:58",
          "2020-09-01T03:03:23"
         ],
         "xaxis": "x2",
         "y": [
          0.05266985073429172,
          0.05266985073429172,
          0.05266985073429172,
          0.05266985073429172,
          0.05266985073429172,
          0.05266985073429172,
          0.05266985073429172,
          0.05266985073429172,
          0.05266985073429172,
          0.05266985073429172,
          0.05266985073429172
         ],
         "yaxis": "y2"
        },
        {
         "hoverinfo": "skip",
         "legendgroup": "thresh",
         "line": {
          "color": "#DD4040",
          "dash": "dash",
          "width": 2
         },
         "mode": "lines",
         "name": "Threshold",
         "showlegend": false,
         "type": "scatter",
         "x": [
          "2020-05-02T02:01:30",
          "2020-05-14T12:29:25",
          "2020-05-26T18:31:06",
          "2020-06-07T19:58:39",
          "2020-06-19T19:44:14",
          "2020-07-02T02:06:56",
          "2020-07-14T08:14:08",
          "2020-07-26T12:57:37",
          "2020-08-07T16:33:44",
          "2020-08-20T00:07:58",
          "2020-09-01T03:03:23"
         ],
         "xaxis": "x2",
         "y": [
          0.03696348259904161,
          0.03696348259904161,
          0.03696348259904161,
          0.03696348259904161,
          0.03696348259904161,
          0.03696348259904161,
          0.03696348259904161,
          0.03696348259904161,
          0.03696348259904161,
          0.03696348259904161,
          0.03696348259904161
         ],
         "yaxis": "y2"
        },
        {
         "hoverinfo": "skip",
         "legendgroup": "thresh",
         "line": {
          "color": "#DD4040",
          "dash": "dash",
          "width": 2
         },
         "mode": "lines",
         "name": "Threshold",
         "showlegend": false,
         "type": "scatter",
         "x": [
          "2020-09-01T03:10:01",
          "2020-09-13T16:15:32",
          "2020-09-25T19:50:04",
          "2020-10-08T02:57:34",
          "2020-10-20T15:49:06",
          "2020-11-01T22:04:59",
          "2020-11-14T03:55:49",
          "2020-11-26T09:19:22",
          "2020-12-08T14:34:25",
          "2020-12-20T18:31:09",
          "2021-01-01T22:57:55"
         ],
         "xaxis": "x2",
         "y": [
          0.05266985073429172,
          0.05266985073429172,
          0.05266985073429172,
          0.05266985073429172,
          0.05266985073429172,
          0.05266985073429172,
          0.05266985073429172,
          0.05266985073429172,
          0.05266985073429172,
          0.05266985073429172,
          0.05266985073429172
         ],
         "yaxis": "y2"
        },
        {
         "hoverinfo": "skip",
         "legendgroup": "thresh",
         "line": {
          "color": "#DD4040",
          "dash": "dash",
          "width": 2
         },
         "mode": "lines",
         "name": "Threshold",
         "showlegend": false,
         "type": "scatter",
         "x": [
          "2020-09-01T03:10:01",
          "2020-09-13T16:15:32",
          "2020-09-25T19:50:04",
          "2020-10-08T02:57:34",
          "2020-10-20T15:49:06",
          "2020-11-01T22:04:59",
          "2020-11-14T03:55:49",
          "2020-11-26T09:19:22",
          "2020-12-08T14:34:25",
          "2020-12-20T18:31:09",
          "2021-01-01T22:57:55"
         ],
         "xaxis": "x2",
         "y": [
          0.03696348259904161,
          0.03696348259904161,
          0.03696348259904161,
          0.03696348259904161,
          0.03696348259904161,
          0.03696348259904161,
          0.03696348259904161,
          0.03696348259904161,
          0.03696348259904161,
          0.03696348259904161,
          0.03696348259904161
         ],
         "yaxis": "y2"
        },
        {
         "hoverinfo": "skip",
         "line": {
          "color": "rgba(0,0,0,0)",
          "shape": "hv"
         },
         "mode": "lines",
         "name": "Confidence band",
         "showlegend": false,
         "type": "scatter",
         "x": [
          "2020-05-02T02:01:30",
          "2020-05-14T12:29:25",
          "2020-05-26T18:31:06",
          "2020-06-07T19:58:39",
          "2020-06-19T19:44:14",
          "2020-07-02T02:06:56",
          "2020-07-14T08:14:08",
          "2020-07-26T12:57:37",
          "2020-08-07T16:33:44",
          "2020-08-20T00:07:58",
          "2020-09-01T03:03:23"
         ],
         "xaxis": "x2",
         "y": [
          0.05069234376425977,
          0.05133009141778464,
          0.050377625296931544,
          0.050510594814450124,
          0.04745088743827943,
          0.04913716521894909,
          0.0492956493058516,
          0.05056032306346254,
          0.049132997916495384,
          0.04943500219867028,
          0.04943500219867028
         ],
         "yaxis": "y2"
        },
        {
         "fill": "tonexty",
         "fillcolor": "rgba(0.23137254901960785, 0.00784313725490196, 0.5019607843137255, 0.2)",
         "hoverinfo": "skip",
         "line": {
          "color": "rgba(0,0,0,0)",
          "shape": "hv"
         },
         "mode": "lines",
         "name": "Confidence band",
         "showlegend": false,
         "type": "scatter",
         "x": [
          "2020-05-02T02:01:30",
          "2020-05-14T12:29:25",
          "2020-05-26T18:31:06",
          "2020-06-07T19:58:39",
          "2020-06-19T19:44:14",
          "2020-07-02T02:06:56",
          "2020-07-14T08:14:08",
          "2020-07-26T12:57:37",
          "2020-08-07T16:33:44",
          "2020-08-20T00:07:58",
          "2020-09-01T03:03:23"
         ],
         "xaxis": "x2",
         "y": [
          0.03478280281131793,
          0.035420550464842805,
          0.03446808434398971,
          0.03460105386150829,
          0.031541346485337594,
          0.033227624266007255,
          0.03338610835290976,
          0.0346507821105207,
          0.03322345696355355,
          0.033525461245728444,
          0.033525461245728444
         ],
         "yaxis": "y2"
        },
        {
         "hoverinfo": "skip",
         "line": {
          "color": "rgba(0,0,0,0)",
          "shape": "hv"
         },
         "mode": "lines",
         "name": "Confidence band",
         "showlegend": false,
         "type": "scatter",
         "x": [
          "2020-09-01T03:10:01",
          "2020-09-13T16:15:32",
          "2020-09-25T19:50:04",
          "2020-10-08T02:57:34",
          "2020-10-20T15:49:06",
          "2020-11-01T22:04:59",
          "2020-11-14T03:55:49",
          "2020-11-26T09:19:22",
          "2020-12-08T14:34:25",
          "2020-12-20T18:31:09",
          "2021-01-01T22:57:55"
         ],
         "xaxis": "x2",
         "y": [
          0.04948584658527303,
          0.047060760316766086,
          0.04817893090705309,
          0.048620499154511394,
          0.04978913392044971,
          0.07898259640163421,
          0.08201282345658524,
          0.080925402228213,
          0.08074843100350466,
          0.08003833825196162,
          0.08003833825196162
         ],
         "yaxis": "y2"
        },
        {
         "fill": "tonexty",
         "fillcolor": "rgba(0.23137254901960785, 0.00784313725490196, 0.5019607843137255, 0.2)",
         "hoverinfo": "skip",
         "line": {
          "color": "rgba(0,0,0,0)",
          "shape": "hv"
         },
         "mode": "lines",
         "name": "Confidence band",
         "showlegend": false,
         "type": "scatter",
         "x": [
          "2020-09-01T03:10:01",
          "2020-09-13T16:15:32",
          "2020-09-25T19:50:04",
          "2020-10-08T02:57:34",
          "2020-10-20T15:49:06",
          "2020-11-01T22:04:59",
          "2020-11-14T03:55:49",
          "2020-11-26T09:19:22",
          "2020-12-08T14:34:25",
          "2020-12-20T18:31:09",
          "2021-01-01T22:57:55"
         ],
         "xaxis": "x2",
         "y": [
          0.033576305632331195,
          0.03115121936382425,
          0.03226938995411125,
          0.03271095820156956,
          0.03387959296750787,
          0.06307305544869238,
          0.0661032825036434,
          0.06501586127527116,
          0.06483889005056283,
          0.06412879729901978,
          0.06412879729901978
         ],
         "yaxis": "y2"
        },
        {
         "hoverinfo": "skip",
         "legendgroup": "metric_reference",
         "line": {
          "color": "#3b0280",
          "dash": "dash",
          "shape": "hv",
          "width": 2
         },
         "mode": "lines",
         "name": "Metric",
         "showlegend": false,
         "type": "scatter",
         "x": [
          "2020-05-02T02:01:30",
          "2020-05-14T12:29:25",
          "2020-05-26T18:31:06",
          "2020-06-07T19:58:39",
          "2020-06-19T19:44:14",
          "2020-07-02T02:06:56",
          "2020-07-14T08:14:08",
          "2020-07-26T12:57:37",
          "2020-08-07T16:33:44",
          "2020-08-20T00:07:58",
          "2020-09-01T03:03:23"
         ],
         "xaxis": "x3",
         "y": [
          0.03897230031913236,
          0.037447201861704894,
          0.03819310375404693,
          0.03606232364200553,
          0.039142363646451205,
          0.03953907063168263,
          0.0391661799615963,
          0.0388524410524973,
          0.039948438945062385,
          0.03946555179092179,
          0.03946555179092179
         ],
         "yaxis": "y3"
        },
        {
         "customdata": [
          [
           "Estimated <b>true class: prepaid_card, predicted class: upmarket_card</b>",
           "<b style=\"color:#3b0280;line-height:60px\">Reference</b>",
           "",
           "[0:5999]",
           "From <b>May-02-2020</b> to <b>May-14-2020</b>",
           0.039,
           0.0079
          ],
          [
           "Estimated <b>true class: prepaid_card, predicted class: upmarket_card</b>",
           "<b style=\"color:#3b0280;line-height:60px\">Reference</b>",
           "",
           "[6000:11999]",
           "From <b>May-14-2020</b> to <b>May-26-2020</b>",
           0.0374,
           0.0079
          ],
          [
           "Estimated <b>true class: prepaid_card, predicted class: upmarket_card</b>",
           "<b style=\"color:#3b0280;line-height:60px\">Reference</b>",
           "",
           "[12000:17999]",
           "From <b>May-26-2020</b> to <b>Jun-07-2020</b>",
           0.0382,
           0.0079
          ],
          [
           "Estimated <b>true class: prepaid_card, predicted class: upmarket_card</b>",
           "<b style=\"color:#3b0280;line-height:60px\">Reference</b>",
           "",
           "[18000:23999]",
           "From <b>Jun-07-2020</b> to <b>Jun-19-2020</b>",
           0.0361,
           0.0079
          ],
          [
           "Estimated <b>true class: prepaid_card, predicted class: upmarket_card</b>",
           "<b style=\"color:#3b0280;line-height:60px\">Reference</b>",
           "",
           "[24000:29999]",
           "From <b>Jun-19-2020</b> to <b>Jul-02-2020</b>",
           0.0391,
           0.0079
          ],
          [
           "Estimated <b>true class: prepaid_card, predicted class: upmarket_card</b>",
           "<b style=\"color:#3b0280;line-height:60px\">Reference</b>",
           "",
           "[30000:35999]",
           "From <b>Jul-02-2020</b> to <b>Jul-14-2020</b>",
           0.0395,
           0.0079
          ],
          [
           "Estimated <b>true class: prepaid_card, predicted class: upmarket_card</b>",
           "<b style=\"color:#3b0280;line-height:60px\">Reference</b>",
           "",
           "[36000:41999]",
           "From <b>Jul-14-2020</b> to <b>Jul-26-2020</b>",
           0.0392,
           0.0079
          ],
          [
           "Estimated <b>true class: prepaid_card, predicted class: upmarket_card</b>",
           "<b style=\"color:#3b0280;line-height:60px\">Reference</b>",
           "",
           "[42000:47999]",
           "From <b>Jul-26-2020</b> to <b>Aug-07-2020</b>",
           0.0389,
           0.0079
          ],
          [
           "Estimated <b>true class: prepaid_card, predicted class: upmarket_card</b>",
           "<b style=\"color:#3b0280;line-height:60px\">Reference</b>",
           "",
           "[48000:53999]",
           "From <b>Aug-07-2020</b> to <b>Aug-20-2020</b>",
           0.0399,
           0.0079
          ],
          [
           "Estimated <b>true class: prepaid_card, predicted class: upmarket_card</b>",
           "<b style=\"color:#3b0280;line-height:60px\">Reference</b>",
           "",
           "[54000:59999]",
           "From <b>Aug-20-2020</b> to <b>Sep-01-2020</b>",
           0.0395,
           0.0079
          ]
         ],
         "hovertemplate": "%{customdata[1]} &nbsp; &nbsp; %{customdata[2]} <br />Chunk: <b>%{customdata[3]}</b> &nbsp; &nbsp; %{customdata[4]} <br />%{customdata[0]}: <b>%{customdata[5]}</b><br />Confidence band: +/- <b>%{customdata[6]}</b><br /><extra></extra>",
         "legendgroup": "metric_reference",
         "line": {
          "dash": "dash"
         },
         "marker": {
          "color": "#3b0280",
          "size": 5,
          "symbol": "circle"
         },
         "mode": "markers",
         "name": "Metric",
         "showlegend": false,
         "type": "scatter",
         "x": [
          "2020-05-08T07:15:27.500000",
          "2020-05-20T15:30:15.500000",
          "2020-06-01T19:14:52.500000",
          "2020-06-13T19:51:26.500000",
          "2020-06-25T22:55:35",
          "2020-07-08T05:10:32",
          "2020-07-20T10:35:52.500000",
          "2020-08-01T14:45:40.500000",
          "2020-08-13T20:20:51",
          "2020-08-26T01:35:40.500000"
         ],
         "xaxis": "x3",
         "y": [
          0.03897230031913236,
          0.037447201861704894,
          0.03819310375404693,
          0.03606232364200553,
          0.039142363646451205,
          0.03953907063168263,
          0.0391661799615963,
          0.0388524410524973,
          0.039948438945062385,
          0.03946555179092179,
          0.03946555179092179
         ],
         "yaxis": "y3"
        },
        {
         "hoverinfo": "skip",
         "legendgroup": "metric_analysis",
         "line": {
          "color": "#3b0280",
          "dash": "dash",
          "shape": "hv",
          "width": 2
         },
         "mode": "lines",
         "name": "Metric",
         "showlegend": false,
         "type": "scatter",
         "x": [
          "2020-09-01T03:10:01",
          "2020-09-13T16:15:32",
          "2020-09-25T19:50:04",
          "2020-10-08T02:57:34",
          "2020-10-20T15:49:06",
          "2020-11-01T22:04:59",
          "2020-11-14T03:55:49",
          "2020-11-26T09:19:22",
          "2020-12-08T14:34:25",
          "2020-12-20T18:31:09",
          "2021-01-01T22:57:55"
         ],
         "xaxis": "x3",
         "y": [
          0.03794615421578586,
          0.03802788101879463,
          0.03739968470095709,
          0.039444240262508264,
          0.03800739178021228,
          0.06230004222368873,
          0.05859056746115943,
          0.05986081935780489,
          0.06073616471791132,
          0.0601227070657614,
          0.0601227070657614
         ],
         "yaxis": "y3"
        },
        {
         "customdata": [
          [
           "Estimated <b>true class: prepaid_card, predicted class: upmarket_card</b>",
           "<b style=\"color:#3b0280;line-height:60px\">Analysis</b>",
           "",
           "[0:5999]",
           "From <b>Sep-01-2020</b> to <b>Sep-13-2020</b>",
           0.0379,
           0.0079
          ],
          [
           "Estimated <b>true class: prepaid_card, predicted class: upmarket_card</b>",
           "<b style=\"color:#3b0280;line-height:60px\">Analysis</b>",
           "",
           "[6000:11999]",
           "From <b>Sep-13-2020</b> to <b>Sep-25-2020</b>",
           0.038,
           0.0079
          ],
          [
           "Estimated <b>true class: prepaid_card, predicted class: upmarket_card</b>",
           "<b style=\"color:#3b0280;line-height:60px\">Analysis</b>",
           "",
           "[12000:17999]",
           "From <b>Sep-25-2020</b> to <b>Oct-08-2020</b>",
           0.0374,
           0.0079
          ],
          [
           "Estimated <b>true class: prepaid_card, predicted class: upmarket_card</b>",
           "<b style=\"color:#3b0280;line-height:60px\">Analysis</b>",
           "",
           "[18000:23999]",
           "From <b>Oct-08-2020</b> to <b>Oct-20-2020</b>",
           0.0394,
           0.0079
          ],
          [
           "Estimated <b>true class: prepaid_card, predicted class: upmarket_card</b>",
           "<b style=\"color:#3b0280;line-height:60px\">Analysis</b>",
           "",
           "[24000:29999]",
           "From <b>Oct-20-2020</b> to <b>Nov-01-2020</b>",
           0.038,
           0.0079
          ],
          [
           "Estimated <b>true class: prepaid_card, predicted class: upmarket_card</b>",
           "<b style=\"color:#3b0280;line-height:60px\">Analysis</b>",
           "<span style=\"color:#AD0000\">⚠ <b>Drift detected</b></span>",
           "[30000:35999]",
           "From <b>Nov-01-2020</b> to <b>Nov-14-2020</b>",
           0.0623,
           0.0079
          ],
          [
           "Estimated <b>true class: prepaid_card, predicted class: upmarket_card</b>",
           "<b style=\"color:#3b0280;line-height:60px\">Analysis</b>",
           "<span style=\"color:#AD0000\">⚠ <b>Drift detected</b></span>",
           "[36000:41999]",
           "From <b>Nov-14-2020</b> to <b>Nov-26-2020</b>",
           0.0586,
           0.0079
          ],
          [
           "Estimated <b>true class: prepaid_card, predicted class: upmarket_card</b>",
           "<b style=\"color:#3b0280;line-height:60px\">Analysis</b>",
           "<span style=\"color:#AD0000\">⚠ <b>Drift detected</b></span>",
           "[42000:47999]",
           "From <b>Nov-26-2020</b> to <b>Dec-08-2020</b>",
           0.0599,
           0.0079
          ],
          [
           "Estimated <b>true class: prepaid_card, predicted class: upmarket_card</b>",
           "<b style=\"color:#3b0280;line-height:60px\">Analysis</b>",
           "<span style=\"color:#AD0000\">⚠ <b>Drift detected</b></span>",
           "[48000:53999]",
           "From <b>Dec-08-2020</b> to <b>Dec-20-2020</b>",
           0.0607,
           0.0079
          ],
          [
           "Estimated <b>true class: prepaid_card, predicted class: upmarket_card</b>",
           "<b style=\"color:#3b0280;line-height:60px\">Analysis</b>",
           "<span style=\"color:#AD0000\">⚠ <b>Drift detected</b></span>",
           "[54000:59999]",
           "From <b>Dec-20-2020</b> to <b>Jan-01-2021</b>",
           0.0601,
           0.0079
          ]
         ],
         "hovertemplate": "%{customdata[1]} &nbsp; &nbsp; %{customdata[2]} <br />Chunk: <b>%{customdata[3]}</b> &nbsp; &nbsp; %{customdata[4]} <br />%{customdata[0]}: <b>%{customdata[5]}</b><br />Confidence band: +/- <b>%{customdata[6]}</b><br /><extra></extra>",
         "legendgroup": "metric_analysis",
         "line": {
          "dash": "dash"
         },
         "marker": {
          "color": "#3b0280",
          "size": 5,
          "symbol": "circle"
         },
         "mode": "markers",
         "name": "Metric",
         "showlegend": false,
         "type": "scatter",
         "x": [
          "2020-09-07T09:42:46.500000",
          "2020-09-19T18:02:48",
          "2020-10-01T23:23:49",
          "2020-10-14T09:23:20",
          "2020-10-26T18:57:02.500000",
          "2020-11-08T01:00:24",
          "2020-11-20T06:37:35.500000",
          "2020-12-02T11:56:53.500000",
          "2020-12-14T16:32:47",
          "2020-12-26T20:44:32"
         ],
         "xaxis": "x3",
         "y": [
          0.03794615421578586,
          0.03802788101879463,
          0.03739968470095709,
          0.039444240262508264,
          0.03800739178021228,
          0.06230004222368873,
          0.05859056746115943,
          0.05986081935780489,
          0.06073616471791132,
          0.0601227070657614,
          0.0601227070657614
         ],
         "yaxis": "y3"
        },
        {
         "hoverinfo": "skip",
         "legendgroup": "alert",
         "marker": {
          "color": "#DD4040",
          "size": 8,
          "symbol": "diamond"
         },
         "mode": "markers",
         "name": "Alert",
         "showlegend": false,
         "type": "scatter",
         "x": [
          "2020-11-08T01:00:24",
          "2020-11-20T06:37:35.500000",
          "2020-12-02T11:56:53.500000",
          "2020-12-14T16:32:47",
          "2020-12-26T20:44:32"
         ],
         "xaxis": "x3",
         "y": [
          0.06230004222368873,
          0.05859056746115943,
          0.05986081935780489,
          0.06073616471791132,
          0.0601227070657614
         ],
         "yaxis": "y3"
        },
        {
         "hoverinfo": "skip",
         "legendgroup": "thresh",
         "line": {
          "color": "#DD4040",
          "dash": "dash",
          "width": 2
         },
         "mode": "lines",
         "name": "Threshold",
         "showlegend": false,
         "type": "scatter",
         "x": [
          "2020-05-02T02:01:30",
          "2020-05-14T12:29:25",
          "2020-05-26T18:31:06",
          "2020-06-07T19:58:39",
          "2020-06-19T19:44:14",
          "2020-07-02T02:06:56",
          "2020-07-14T08:14:08",
          "2020-07-26T12:57:37",
          "2020-08-07T16:33:44",
          "2020-08-20T00:07:58",
          "2020-09-01T03:03:23"
         ],
         "xaxis": "x3",
         "y": [
          0.04218720573735665,
          0.04218720573735665,
          0.04218720573735665,
          0.04218720573735665,
          0.04218720573735665,
          0.04218720573735665,
          0.04218720573735665,
          0.04218720573735665,
          0.04218720573735665,
          0.04218720573735665,
          0.04218720573735665
         ],
         "yaxis": "y3"
        },
        {
         "hoverinfo": "skip",
         "legendgroup": "thresh",
         "line": {
          "color": "#DD4040",
          "dash": "dash",
          "width": 2
         },
         "mode": "lines",
         "name": "Threshold",
         "showlegend": false,
         "type": "scatter",
         "x": [
          "2020-05-02T02:01:30",
          "2020-05-14T12:29:25",
          "2020-05-26T18:31:06",
          "2020-06-07T19:58:39",
          "2020-06-19T19:44:14",
          "2020-07-02T02:06:56",
          "2020-07-14T08:14:08",
          "2020-07-26T12:57:37",
          "2020-08-07T16:33:44",
          "2020-08-20T00:07:58",
          "2020-09-01T03:03:23"
         ],
         "xaxis": "x3",
         "y": [
          0.028912794262643357,
          0.028912794262643357,
          0.028912794262643357,
          0.028912794262643357,
          0.028912794262643357,
          0.028912794262643357,
          0.028912794262643357,
          0.028912794262643357,
          0.028912794262643357,
          0.028912794262643357,
          0.028912794262643357
         ],
         "yaxis": "y3"
        },
        {
         "hoverinfo": "skip",
         "legendgroup": "thresh",
         "line": {
          "color": "#DD4040",
          "dash": "dash",
          "width": 2
         },
         "mode": "lines",
         "name": "Threshold",
         "showlegend": false,
         "type": "scatter",
         "x": [
          "2020-09-01T03:10:01",
          "2020-09-13T16:15:32",
          "2020-09-25T19:50:04",
          "2020-10-08T02:57:34",
          "2020-10-20T15:49:06",
          "2020-11-01T22:04:59",
          "2020-11-14T03:55:49",
          "2020-11-26T09:19:22",
          "2020-12-08T14:34:25",
          "2020-12-20T18:31:09",
          "2021-01-01T22:57:55"
         ],
         "xaxis": "x3",
         "y": [
          0.04218720573735665,
          0.04218720573735665,
          0.04218720573735665,
          0.04218720573735665,
          0.04218720573735665,
          0.04218720573735665,
          0.04218720573735665,
          0.04218720573735665,
          0.04218720573735665,
          0.04218720573735665,
          0.04218720573735665
         ],
         "yaxis": "y3"
        },
        {
         "hoverinfo": "skip",
         "legendgroup": "thresh",
         "line": {
          "color": "#DD4040",
          "dash": "dash",
          "width": 2
         },
         "mode": "lines",
         "name": "Threshold",
         "showlegend": false,
         "type": "scatter",
         "x": [
          "2020-09-01T03:10:01",
          "2020-09-13T16:15:32",
          "2020-09-25T19:50:04",
          "2020-10-08T02:57:34",
          "2020-10-20T15:49:06",
          "2020-11-01T22:04:59",
          "2020-11-14T03:55:49",
          "2020-11-26T09:19:22",
          "2020-12-08T14:34:25",
          "2020-12-20T18:31:09",
          "2021-01-01T22:57:55"
         ],
         "xaxis": "x3",
         "y": [
          0.028912794262643357,
          0.028912794262643357,
          0.028912794262643357,
          0.028912794262643357,
          0.028912794262643357,
          0.028912794262643357,
          0.028912794262643357,
          0.028912794262643357,
          0.028912794262643357,
          0.028912794262643357,
          0.028912794262643357
         ],
         "yaxis": "y3"
        },
        {
         "hoverinfo": "skip",
         "line": {
          "color": "rgba(0,0,0,0)",
          "shape": "hv"
         },
         "mode": "lines",
         "name": "Confidence band",
         "showlegend": false,
         "type": "scatter",
         "x": [
          "2020-05-02T02:01:30",
          "2020-05-14T12:29:25",
          "2020-05-26T18:31:06",
          "2020-06-07T19:58:39",
          "2020-06-19T19:44:14",
          "2020-07-02T02:06:56",
          "2020-07-14T08:14:08",
          "2020-07-26T12:57:37",
          "2020-08-07T16:33:44",
          "2020-08-20T00:07:58",
          "2020-09-01T03:03:23"
         ],
         "xaxis": "x3",
         "y": [
          0.046849248861133466,
          0.045324150403706,
          0.046070052296048034,
          0.04393927218400664,
          0.04701931218845231,
          0.04741601917368374,
          0.0470431285035974,
          0.046729389594498405,
          0.04782538748706349,
          0.04734250033292289,
          0.04734250033292289
         ],
         "yaxis": "y3"
        },
        {
         "fill": "tonexty",
         "fillcolor": "rgba(0.23137254901960785, 0.00784313725490196, 0.5019607843137255, 0.2)",
         "hoverinfo": "skip",
         "line": {
          "color": "rgba(0,0,0,0)",
          "shape": "hv"
         },
         "mode": "lines",
         "name": "Confidence band",
         "showlegend": false,
         "type": "scatter",
         "x": [
          "2020-05-02T02:01:30",
          "2020-05-14T12:29:25",
          "2020-05-26T18:31:06",
          "2020-06-07T19:58:39",
          "2020-06-19T19:44:14",
          "2020-07-02T02:06:56",
          "2020-07-14T08:14:08",
          "2020-07-26T12:57:37",
          "2020-08-07T16:33:44",
          "2020-08-20T00:07:58",
          "2020-09-01T03:03:23"
         ],
         "xaxis": "x3",
         "y": [
          0.031095351777131255,
          0.02957025331970379,
          0.030316155212045823,
          0.028185375100004427,
          0.0312654151044501,
          0.03166212208968153,
          0.03128923141959519,
          0.030975492510496194,
          0.03207149040306128,
          0.03158860324892068,
          0.03158860324892068
         ],
         "yaxis": "y3"
        },
        {
         "hoverinfo": "skip",
         "line": {
          "color": "rgba(0,0,0,0)",
          "shape": "hv"
         },
         "mode": "lines",
         "name": "Confidence band",
         "showlegend": false,
         "type": "scatter",
         "x": [
          "2020-09-01T03:10:01",
          "2020-09-13T16:15:32",
          "2020-09-25T19:50:04",
          "2020-10-08T02:57:34",
          "2020-10-20T15:49:06",
          "2020-11-01T22:04:59",
          "2020-11-14T03:55:49",
          "2020-11-26T09:19:22",
          "2020-12-08T14:34:25",
          "2020-12-20T18:31:09",
          "2021-01-01T22:57:55"
         ],
         "xaxis": "x3",
         "y": [
          0.04582310275778696,
          0.04590482956079574,
          0.0452766332429582,
          0.04732118880450937,
          0.045884340322213384,
          0.07017699076568984,
          0.06646751600316053,
          0.067737767899806,
          0.06861311325991243,
          0.0679996556077625,
          0.0679996556077625
         ],
         "yaxis": "y3"
        },
        {
         "fill": "tonexty",
         "fillcolor": "rgba(0.23137254901960785, 0.00784313725490196, 0.5019607843137255, 0.2)",
         "hoverinfo": "skip",
         "line": {
          "color": "rgba(0,0,0,0)",
          "shape": "hv"
         },
         "mode": "lines",
         "name": "Confidence band",
         "showlegend": false,
         "type": "scatter",
         "x": [
          "2020-09-01T03:10:01",
          "2020-09-13T16:15:32",
          "2020-09-25T19:50:04",
          "2020-10-08T02:57:34",
          "2020-10-20T15:49:06",
          "2020-11-01T22:04:59",
          "2020-11-14T03:55:49",
          "2020-11-26T09:19:22",
          "2020-12-08T14:34:25",
          "2020-12-20T18:31:09",
          "2021-01-01T22:57:55"
         ],
         "xaxis": "x3",
         "y": [
          0.030069205673784752,
          0.030150932476793527,
          0.029522736158955988,
          0.03156729172050716,
          0.030130443238211173,
          0.05442309368168762,
          0.05071361891915833,
          0.05198387081580379,
          0.05285921617591022,
          0.052245758523760295,
          0.052245758523760295
         ],
         "yaxis": "y3"
        },
        {
         "hoverinfo": "skip",
         "legendgroup": "metric_reference",
         "line": {
          "color": "#3b0280",
          "dash": "dash",
          "shape": "hv",
          "width": 2
         },
         "mode": "lines",
         "name": "Metric",
         "showlegend": false,
         "type": "scatter",
         "x": [
          "2020-05-02T02:01:30",
          "2020-05-14T12:29:25",
          "2020-05-26T18:31:06",
          "2020-06-07T19:58:39",
          "2020-06-19T19:44:14",
          "2020-07-02T02:06:56",
          "2020-07-14T08:14:08",
          "2020-07-26T12:57:37",
          "2020-08-07T16:33:44",
          "2020-08-20T00:07:58",
          "2020-09-01T03:03:23"
         ],
         "xaxis": "x4",
         "y": [
          0.04448688689682577,
          0.04409566998587087,
          0.04282940585719247,
          0.0442209780505986,
          0.043708672252906616,
          0.04442870531986679,
          0.04183980248128154,
          0.044469403556732345,
          0.04417593001341864,
          0.04573590869582284,
          0.04573590869582284
         ],
         "yaxis": "y4"
        },
        {
         "customdata": [
          [
           "Estimated <b>true class: highstreet_card, predicted class: prepaid_card</b>",
           "<b style=\"color:#3b0280;line-height:60px\">Reference</b>",
           "",
           "[0:5999]",
           "From <b>May-02-2020</b> to <b>May-14-2020</b>",
           0.0445,
           0.008
          ],
          [
           "Estimated <b>true class: highstreet_card, predicted class: prepaid_card</b>",
           "<b style=\"color:#3b0280;line-height:60px\">Reference</b>",
           "",
           "[6000:11999]",
           "From <b>May-14-2020</b> to <b>May-26-2020</b>",
           0.0441,
           0.008
          ],
          [
           "Estimated <b>true class: highstreet_card, predicted class: prepaid_card</b>",
           "<b style=\"color:#3b0280;line-height:60px\">Reference</b>",
           "",
           "[12000:17999]",
           "From <b>May-26-2020</b> to <b>Jun-07-2020</b>",
           0.0428,
           0.008
          ],
          [
           "Estimated <b>true class: highstreet_card, predicted class: prepaid_card</b>",
           "<b style=\"color:#3b0280;line-height:60px\">Reference</b>",
           "",
           "[18000:23999]",
           "From <b>Jun-07-2020</b> to <b>Jun-19-2020</b>",
           0.0442,
           0.008
          ],
          [
           "Estimated <b>true class: highstreet_card, predicted class: prepaid_card</b>",
           "<b style=\"color:#3b0280;line-height:60px\">Reference</b>",
           "",
           "[24000:29999]",
           "From <b>Jun-19-2020</b> to <b>Jul-02-2020</b>",
           0.0437,
           0.008
          ],
          [
           "Estimated <b>true class: highstreet_card, predicted class: prepaid_card</b>",
           "<b style=\"color:#3b0280;line-height:60px\">Reference</b>",
           "",
           "[30000:35999]",
           "From <b>Jul-02-2020</b> to <b>Jul-14-2020</b>",
           0.0444,
           0.008
          ],
          [
           "Estimated <b>true class: highstreet_card, predicted class: prepaid_card</b>",
           "<b style=\"color:#3b0280;line-height:60px\">Reference</b>",
           "",
           "[36000:41999]",
           "From <b>Jul-14-2020</b> to <b>Jul-26-2020</b>",
           0.0418,
           0.008
          ],
          [
           "Estimated <b>true class: highstreet_card, predicted class: prepaid_card</b>",
           "<b style=\"color:#3b0280;line-height:60px\">Reference</b>",
           "",
           "[42000:47999]",
           "From <b>Jul-26-2020</b> to <b>Aug-07-2020</b>",
           0.0445,
           0.008
          ],
          [
           "Estimated <b>true class: highstreet_card, predicted class: prepaid_card</b>",
           "<b style=\"color:#3b0280;line-height:60px\">Reference</b>",
           "",
           "[48000:53999]",
           "From <b>Aug-07-2020</b> to <b>Aug-20-2020</b>",
           0.0442,
           0.008
          ],
          [
           "Estimated <b>true class: highstreet_card, predicted class: prepaid_card</b>",
           "<b style=\"color:#3b0280;line-height:60px\">Reference</b>",
           "",
           "[54000:59999]",
           "From <b>Aug-20-2020</b> to <b>Sep-01-2020</b>",
           0.0457,
           0.008
          ]
         ],
         "hovertemplate": "%{customdata[1]} &nbsp; &nbsp; %{customdata[2]} <br />Chunk: <b>%{customdata[3]}</b> &nbsp; &nbsp; %{customdata[4]} <br />%{customdata[0]}: <b>%{customdata[5]}</b><br />Confidence band: +/- <b>%{customdata[6]}</b><br /><extra></extra>",
         "legendgroup": "metric_reference",
         "line": {
          "dash": "dash"
         },
         "marker": {
          "color": "#3b0280",
          "size": 5,
          "symbol": "circle"
         },
         "mode": "markers",
         "name": "Metric",
         "showlegend": false,
         "type": "scatter",
         "x": [
          "2020-05-08T07:15:27.500000",
          "2020-05-20T15:30:15.500000",
          "2020-06-01T19:14:52.500000",
          "2020-06-13T19:51:26.500000",
          "2020-06-25T22:55:35",
          "2020-07-08T05:10:32",
          "2020-07-20T10:35:52.500000",
          "2020-08-01T14:45:40.500000",
          "2020-08-13T20:20:51",
          "2020-08-26T01:35:40.500000"
         ],
         "xaxis": "x4",
         "y": [
          0.04448688689682577,
          0.04409566998587087,
          0.04282940585719247,
          0.0442209780505986,
          0.043708672252906616,
          0.04442870531986679,
          0.04183980248128154,
          0.044469403556732345,
          0.04417593001341864,
          0.04573590869582284,
          0.04573590869582284
         ],
         "yaxis": "y4"
        },
        {
         "hoverinfo": "skip",
         "legendgroup": "metric_analysis",
         "line": {
          "color": "#3b0280",
          "dash": "dash",
          "shape": "hv",
          "width": 2
         },
         "mode": "lines",
         "name": "Metric",
         "showlegend": false,
         "type": "scatter",
         "x": [
          "2020-09-01T03:10:01",
          "2020-09-13T16:15:32",
          "2020-09-25T19:50:04",
          "2020-10-08T02:57:34",
          "2020-10-20T15:49:06",
          "2020-11-01T22:04:59",
          "2020-11-14T03:55:49",
          "2020-11-26T09:19:22",
          "2020-12-08T14:34:25",
          "2020-12-20T18:31:09",
          "2021-01-01T22:57:55"
         ],
         "xaxis": "x4",
         "y": [
          0.04532907693894096,
          0.04388814646698097,
          0.04256114598788399,
          0.04157484059185361,
          0.04275205031603386,
          0.06219976458111889,
          0.06275027949148765,
          0.06332004652177402,
          0.06388328052054008,
          0.05965254722362946,
          0.05965254722362946
         ],
         "yaxis": "y4"
        },
        {
         "customdata": [
          [
           "Estimated <b>true class: highstreet_card, predicted class: prepaid_card</b>",
           "<b style=\"color:#3b0280;line-height:60px\">Analysis</b>",
           "",
           "[0:5999]",
           "From <b>Sep-01-2020</b> to <b>Sep-13-2020</b>",
           0.0453,
           0.008
          ],
          [
           "Estimated <b>true class: highstreet_card, predicted class: prepaid_card</b>",
           "<b style=\"color:#3b0280;line-height:60px\">Analysis</b>",
           "",
           "[6000:11999]",
           "From <b>Sep-13-2020</b> to <b>Sep-25-2020</b>",
           0.0439,
           0.008
          ],
          [
           "Estimated <b>true class: highstreet_card, predicted class: prepaid_card</b>",
           "<b style=\"color:#3b0280;line-height:60px\">Analysis</b>",
           "",
           "[12000:17999]",
           "From <b>Sep-25-2020</b> to <b>Oct-08-2020</b>",
           0.0426,
           0.008
          ],
          [
           "Estimated <b>true class: highstreet_card, predicted class: prepaid_card</b>",
           "<b style=\"color:#3b0280;line-height:60px\">Analysis</b>",
           "",
           "[18000:23999]",
           "From <b>Oct-08-2020</b> to <b>Oct-20-2020</b>",
           0.0416,
           0.008
          ],
          [
           "Estimated <b>true class: highstreet_card, predicted class: prepaid_card</b>",
           "<b style=\"color:#3b0280;line-height:60px\">Analysis</b>",
           "",
           "[24000:29999]",
           "From <b>Oct-20-2020</b> to <b>Nov-01-2020</b>",
           0.0428,
           0.008
          ],
          [
           "Estimated <b>true class: highstreet_card, predicted class: prepaid_card</b>",
           "<b style=\"color:#3b0280;line-height:60px\">Analysis</b>",
           "<span style=\"color:#AD0000\">⚠ <b>Drift detected</b></span>",
           "[30000:35999]",
           "From <b>Nov-01-2020</b> to <b>Nov-14-2020</b>",
           0.0622,
           0.008
          ],
          [
           "Estimated <b>true class: highstreet_card, predicted class: prepaid_card</b>",
           "<b style=\"color:#3b0280;line-height:60px\">Analysis</b>",
           "<span style=\"color:#AD0000\">⚠ <b>Drift detected</b></span>",
           "[36000:41999]",
           "From <b>Nov-14-2020</b> to <b>Nov-26-2020</b>",
           0.0628,
           0.008
          ],
          [
           "Estimated <b>true class: highstreet_card, predicted class: prepaid_card</b>",
           "<b style=\"color:#3b0280;line-height:60px\">Analysis</b>",
           "<span style=\"color:#AD0000\">⚠ <b>Drift detected</b></span>",
           "[42000:47999]",
           "From <b>Nov-26-2020</b> to <b>Dec-08-2020</b>",
           0.0633,
           0.008
          ],
          [
           "Estimated <b>true class: highstreet_card, predicted class: prepaid_card</b>",
           "<b style=\"color:#3b0280;line-height:60px\">Analysis</b>",
           "<span style=\"color:#AD0000\">⚠ <b>Drift detected</b></span>",
           "[48000:53999]",
           "From <b>Dec-08-2020</b> to <b>Dec-20-2020</b>",
           0.0639,
           0.008
          ],
          [
           "Estimated <b>true class: highstreet_card, predicted class: prepaid_card</b>",
           "<b style=\"color:#3b0280;line-height:60px\">Analysis</b>",
           "<span style=\"color:#AD0000\">⚠ <b>Drift detected</b></span>",
           "[54000:59999]",
           "From <b>Dec-20-2020</b> to <b>Jan-01-2021</b>",
           0.0597,
           0.008
          ]
         ],
         "hovertemplate": "%{customdata[1]} &nbsp; &nbsp; %{customdata[2]} <br />Chunk: <b>%{customdata[3]}</b> &nbsp; &nbsp; %{customdata[4]} <br />%{customdata[0]}: <b>%{customdata[5]}</b><br />Confidence band: +/- <b>%{customdata[6]}</b><br /><extra></extra>",
         "legendgroup": "metric_analysis",
         "line": {
          "dash": "dash"
         },
         "marker": {
          "color": "#3b0280",
          "size": 5,
          "symbol": "circle"
         },
         "mode": "markers",
         "name": "Metric",
         "showlegend": false,
         "type": "scatter",
         "x": [
          "2020-09-07T09:42:46.500000",
          "2020-09-19T18:02:48",
          "2020-10-01T23:23:49",
          "2020-10-14T09:23:20",
          "2020-10-26T18:57:02.500000",
          "2020-11-08T01:00:24",
          "2020-11-20T06:37:35.500000",
          "2020-12-02T11:56:53.500000",
          "2020-12-14T16:32:47",
          "2020-12-26T20:44:32"
         ],
         "xaxis": "x4",
         "y": [
          0.04532907693894096,
          0.04388814646698097,
          0.04256114598788399,
          0.04157484059185361,
          0.04275205031603386,
          0.06219976458111889,
          0.06275027949148765,
          0.06332004652177402,
          0.06388328052054008,
          0.05965254722362946,
          0.05965254722362946
         ],
         "yaxis": "y4"
        },
        {
         "hoverinfo": "skip",
         "legendgroup": "alert",
         "marker": {
          "color": "#DD4040",
          "size": 8,
          "symbol": "diamond"
         },
         "mode": "markers",
         "name": "Alert",
         "showlegend": false,
         "type": "scatter",
         "x": [
          "2020-11-08T01:00:24",
          "2020-11-20T06:37:35.500000",
          "2020-12-02T11:56:53.500000",
          "2020-12-14T16:32:47",
          "2020-12-26T20:44:32"
         ],
         "xaxis": "x4",
         "y": [
          0.06219976458111889,
          0.06275027949148765,
          0.06332004652177402,
          0.06388328052054008,
          0.05965254722362946
         ],
         "yaxis": "y4"
        },
        {
         "hoverinfo": "skip",
         "legendgroup": "thresh",
         "line": {
          "color": "#DD4040",
          "dash": "dash",
          "width": 2
         },
         "mode": "lines",
         "name": "Threshold",
         "showlegend": false,
         "type": "scatter",
         "x": [
          "2020-05-02T02:01:30",
          "2020-05-14T12:29:25",
          "2020-05-26T18:31:06",
          "2020-06-07T19:58:39",
          "2020-06-19T19:44:14",
          "2020-07-02T02:06:56",
          "2020-07-14T08:14:08",
          "2020-07-26T12:57:37",
          "2020-08-07T16:33:44",
          "2020-08-20T00:07:58",
          "2020-09-01T03:03:23"
         ],
         "xaxis": "x4",
         "y": [
          0.04862109446779672,
          0.04862109446779672,
          0.04862109446779672,
          0.04862109446779672,
          0.04862109446779672,
          0.04862109446779672,
          0.04862109446779672,
          0.04862109446779672,
          0.04862109446779672,
          0.04862109446779672,
          0.04862109446779672
         ],
         "yaxis": "y4"
        },
        {
         "hoverinfo": "skip",
         "legendgroup": "thresh",
         "line": {
          "color": "#DD4040",
          "dash": "dash",
          "width": 2
         },
         "mode": "lines",
         "name": "Threshold",
         "showlegend": false,
         "type": "scatter",
         "x": [
          "2020-05-02T02:01:30",
          "2020-05-14T12:29:25",
          "2020-05-26T18:31:06",
          "2020-06-07T19:58:39",
          "2020-06-19T19:44:14",
          "2020-07-02T02:06:56",
          "2020-07-14T08:14:08",
          "2020-07-26T12:57:37",
          "2020-08-07T16:33:44",
          "2020-08-20T00:07:58",
          "2020-09-01T03:03:23"
         ],
         "xaxis": "x4",
         "y": [
          0.039645572198869966,
          0.039645572198869966,
          0.039645572198869966,
          0.039645572198869966,
          0.039645572198869966,
          0.039645572198869966,
          0.039645572198869966,
          0.039645572198869966,
          0.039645572198869966,
          0.039645572198869966,
          0.039645572198869966
         ],
         "yaxis": "y4"
        },
        {
         "hoverinfo": "skip",
         "legendgroup": "thresh",
         "line": {
          "color": "#DD4040",
          "dash": "dash",
          "width": 2
         },
         "mode": "lines",
         "name": "Threshold",
         "showlegend": false,
         "type": "scatter",
         "x": [
          "2020-09-01T03:10:01",
          "2020-09-13T16:15:32",
          "2020-09-25T19:50:04",
          "2020-10-08T02:57:34",
          "2020-10-20T15:49:06",
          "2020-11-01T22:04:59",
          "2020-11-14T03:55:49",
          "2020-11-26T09:19:22",
          "2020-12-08T14:34:25",
          "2020-12-20T18:31:09",
          "2021-01-01T22:57:55"
         ],
         "xaxis": "x4",
         "y": [
          0.04862109446779672,
          0.04862109446779672,
          0.04862109446779672,
          0.04862109446779672,
          0.04862109446779672,
          0.04862109446779672,
          0.04862109446779672,
          0.04862109446779672,
          0.04862109446779672,
          0.04862109446779672,
          0.04862109446779672
         ],
         "yaxis": "y4"
        },
        {
         "hoverinfo": "skip",
         "legendgroup": "thresh",
         "line": {
          "color": "#DD4040",
          "dash": "dash",
          "width": 2
         },
         "mode": "lines",
         "name": "Threshold",
         "showlegend": false,
         "type": "scatter",
         "x": [
          "2020-09-01T03:10:01",
          "2020-09-13T16:15:32",
          "2020-09-25T19:50:04",
          "2020-10-08T02:57:34",
          "2020-10-20T15:49:06",
          "2020-11-01T22:04:59",
          "2020-11-14T03:55:49",
          "2020-11-26T09:19:22",
          "2020-12-08T14:34:25",
          "2020-12-20T18:31:09",
          "2021-01-01T22:57:55"
         ],
         "xaxis": "x4",
         "y": [
          0.039645572198869966,
          0.039645572198869966,
          0.039645572198869966,
          0.039645572198869966,
          0.039645572198869966,
          0.039645572198869966,
          0.039645572198869966,
          0.039645572198869966,
          0.039645572198869966,
          0.039645572198869966,
          0.039645572198869966
         ],
         "yaxis": "y4"
        },
        {
         "hoverinfo": "skip",
         "line": {
          "color": "rgba(0,0,0,0)",
          "shape": "hv"
         },
         "mode": "lines",
         "name": "Confidence band",
         "showlegend": false,
         "type": "scatter",
         "x": [
          "2020-05-02T02:01:30",
          "2020-05-14T12:29:25",
          "2020-05-26T18:31:06",
          "2020-06-07T19:58:39",
          "2020-06-19T19:44:14",
          "2020-07-02T02:06:56",
          "2020-07-14T08:14:08",
          "2020-07-26T12:57:37",
          "2020-08-07T16:33:44",
          "2020-08-20T00:07:58",
          "2020-09-01T03:03:23"
         ],
         "xaxis": "x4",
         "y": [
          0.05250013839564529,
          0.05210892148469039,
          0.05084265735601199,
          0.05223422954941812,
          0.051721923751726136,
          0.05244195681868631,
          0.04985305398010106,
          0.052482655055551865,
          0.05218918151223816,
          0.05374916019464236,
          0.05374916019464236
         ],
         "yaxis": "y4"
        },
        {
         "fill": "tonexty",
         "fillcolor": "rgba(0.23137254901960785, 0.00784313725490196, 0.5019607843137255, 0.2)",
         "hoverinfo": "skip",
         "line": {
          "color": "rgba(0,0,0,0)",
          "shape": "hv"
         },
         "mode": "lines",
         "name": "Confidence band",
         "showlegend": false,
         "type": "scatter",
         "x": [
          "2020-05-02T02:01:30",
          "2020-05-14T12:29:25",
          "2020-05-26T18:31:06",
          "2020-06-07T19:58:39",
          "2020-06-19T19:44:14",
          "2020-07-02T02:06:56",
          "2020-07-14T08:14:08",
          "2020-07-26T12:57:37",
          "2020-08-07T16:33:44",
          "2020-08-20T00:07:58",
          "2020-09-01T03:03:23"
         ],
         "xaxis": "x4",
         "y": [
          0.03647363539800625,
          0.03608241848705135,
          0.03481615435837295,
          0.03620772655177908,
          0.0356954207540871,
          0.03641545382104727,
          0.03382655098246202,
          0.036456152057912826,
          0.036162678514599124,
          0.03772265719700332,
          0.03772265719700332
         ],
         "yaxis": "y4"
        },
        {
         "hoverinfo": "skip",
         "line": {
          "color": "rgba(0,0,0,0)",
          "shape": "hv"
         },
         "mode": "lines",
         "name": "Confidence band",
         "showlegend": false,
         "type": "scatter",
         "x": [
          "2020-09-01T03:10:01",
          "2020-09-13T16:15:32",
          "2020-09-25T19:50:04",
          "2020-10-08T02:57:34",
          "2020-10-20T15:49:06",
          "2020-11-01T22:04:59",
          "2020-11-14T03:55:49",
          "2020-11-26T09:19:22",
          "2020-12-08T14:34:25",
          "2020-12-20T18:31:09",
          "2021-01-01T22:57:55"
         ],
         "xaxis": "x4",
         "y": [
          0.05334232843776048,
          0.05190139796580049,
          0.05057439748670351,
          0.04958809209067313,
          0.05076530181485338,
          0.0702130160799384,
          0.07076353099030716,
          0.07133329802059354,
          0.07189653201935961,
          0.06766579872244899,
          0.06766579872244899
         ],
         "yaxis": "y4"
        },
        {
         "fill": "tonexty",
         "fillcolor": "rgba(0.23137254901960785, 0.00784313725490196, 0.5019607843137255, 0.2)",
         "hoverinfo": "skip",
         "line": {
          "color": "rgba(0,0,0,0)",
          "shape": "hv"
         },
         "mode": "lines",
         "name": "Confidence band",
         "showlegend": false,
         "type": "scatter",
         "x": [
          "2020-09-01T03:10:01",
          "2020-09-13T16:15:32",
          "2020-09-25T19:50:04",
          "2020-10-08T02:57:34",
          "2020-10-20T15:49:06",
          "2020-11-01T22:04:59",
          "2020-11-14T03:55:49",
          "2020-11-26T09:19:22",
          "2020-12-08T14:34:25",
          "2020-12-20T18:31:09",
          "2021-01-01T22:57:55"
         ],
         "xaxis": "x4",
         "y": [
          0.03731582544012144,
          0.03587489496816145,
          0.03454789448906447,
          0.03356158909303409,
          0.03473879881721434,
          0.05418651308229937,
          0.05473702799266813,
          0.0553067950229545,
          0.055870029021720564,
          0.05163929572480994,
          0.05163929572480994
         ],
         "yaxis": "y4"
        },
        {
         "hoverinfo": "skip",
         "legendgroup": "metric_reference",
         "line": {
          "color": "#3b0280",
          "dash": "dash",
          "shape": "hv",
          "width": 2
         },
         "mode": "lines",
         "name": "Metric",
         "showlegend": false,
         "type": "scatter",
         "x": [
          "2020-05-02T02:01:30",
          "2020-05-14T12:29:25",
          "2020-05-26T18:31:06",
          "2020-06-07T19:58:39",
          "2020-06-19T19:44:14",
          "2020-07-02T02:06:56",
          "2020-07-14T08:14:08",
          "2020-07-26T12:57:37",
          "2020-08-07T16:33:44",
          "2020-08-20T00:07:58",
          "2020-09-01T03:03:23"
         ],
         "xaxis": "x5",
         "y": [
          0.24710912348482136,
          0.2563634805569878,
          0.25093538674928384,
          0.24867472297151558,
          0.24410949214278718,
          0.24619361061201933,
          0.24844171067738693,
          0.2559819543290991,
          0.24043734381664816,
          0.23980706313152214,
          0.23980706313152214
         ],
         "yaxis": "y5"
        },
        {
         "customdata": [
          [
           "Estimated <b>true class: highstreet_card, predicted class: highstreet_card</b>",
           "<b style=\"color:#3b0280;line-height:60px\">Reference</b>",
           "",
           "[0:5999]",
           "From <b>May-02-2020</b> to <b>May-14-2020</b>",
           0.2471,
           0.0169
          ],
          [
           "Estimated <b>true class: highstreet_card, predicted class: highstreet_card</b>",
           "<b style=\"color:#3b0280;line-height:60px\">Reference</b>",
           "",
           "[6000:11999]",
           "From <b>May-14-2020</b> to <b>May-26-2020</b>",
           0.2564,
           0.0169
          ],
          [
           "Estimated <b>true class: highstreet_card, predicted class: highstreet_card</b>",
           "<b style=\"color:#3b0280;line-height:60px\">Reference</b>",
           "",
           "[12000:17999]",
           "From <b>May-26-2020</b> to <b>Jun-07-2020</b>",
           0.2509,
           0.0169
          ],
          [
           "Estimated <b>true class: highstreet_card, predicted class: highstreet_card</b>",
           "<b style=\"color:#3b0280;line-height:60px\">Reference</b>",
           "",
           "[18000:23999]",
           "From <b>Jun-07-2020</b> to <b>Jun-19-2020</b>",
           0.2487,
           0.0169
          ],
          [
           "Estimated <b>true class: highstreet_card, predicted class: highstreet_card</b>",
           "<b style=\"color:#3b0280;line-height:60px\">Reference</b>",
           "",
           "[24000:29999]",
           "From <b>Jun-19-2020</b> to <b>Jul-02-2020</b>",
           0.2441,
           0.0169
          ],
          [
           "Estimated <b>true class: highstreet_card, predicted class: highstreet_card</b>",
           "<b style=\"color:#3b0280;line-height:60px\">Reference</b>",
           "",
           "[30000:35999]",
           "From <b>Jul-02-2020</b> to <b>Jul-14-2020</b>",
           0.2462,
           0.0169
          ],
          [
           "Estimated <b>true class: highstreet_card, predicted class: highstreet_card</b>",
           "<b style=\"color:#3b0280;line-height:60px\">Reference</b>",
           "",
           "[36000:41999]",
           "From <b>Jul-14-2020</b> to <b>Jul-26-2020</b>",
           0.2484,
           0.0169
          ],
          [
           "Estimated <b>true class: highstreet_card, predicted class: highstreet_card</b>",
           "<b style=\"color:#3b0280;line-height:60px\">Reference</b>",
           "",
           "[42000:47999]",
           "From <b>Jul-26-2020</b> to <b>Aug-07-2020</b>",
           0.256,
           0.0169
          ],
          [
           "Estimated <b>true class: highstreet_card, predicted class: highstreet_card</b>",
           "<b style=\"color:#3b0280;line-height:60px\">Reference</b>",
           "",
           "[48000:53999]",
           "From <b>Aug-07-2020</b> to <b>Aug-20-2020</b>",
           0.2404,
           0.0169
          ],
          [
           "Estimated <b>true class: highstreet_card, predicted class: highstreet_card</b>",
           "<b style=\"color:#3b0280;line-height:60px\">Reference</b>",
           "",
           "[54000:59999]",
           "From <b>Aug-20-2020</b> to <b>Sep-01-2020</b>",
           0.2398,
           0.0169
          ]
         ],
         "hovertemplate": "%{customdata[1]} &nbsp; &nbsp; %{customdata[2]} <br />Chunk: <b>%{customdata[3]}</b> &nbsp; &nbsp; %{customdata[4]} <br />%{customdata[0]}: <b>%{customdata[5]}</b><br />Confidence band: +/- <b>%{customdata[6]}</b><br /><extra></extra>",
         "legendgroup": "metric_reference",
         "line": {
          "dash": "dash"
         },
         "marker": {
          "color": "#3b0280",
          "size": 5,
          "symbol": "circle"
         },
         "mode": "markers",
         "name": "Metric",
         "showlegend": false,
         "type": "scatter",
         "x": [
          "2020-05-08T07:15:27.500000",
          "2020-05-20T15:30:15.500000",
          "2020-06-01T19:14:52.500000",
          "2020-06-13T19:51:26.500000",
          "2020-06-25T22:55:35",
          "2020-07-08T05:10:32",
          "2020-07-20T10:35:52.500000",
          "2020-08-01T14:45:40.500000",
          "2020-08-13T20:20:51",
          "2020-08-26T01:35:40.500000"
         ],
         "xaxis": "x5",
         "y": [
          0.24710912348482136,
          0.2563634805569878,
          0.25093538674928384,
          0.24867472297151558,
          0.24410949214278718,
          0.24619361061201933,
          0.24844171067738693,
          0.2559819543290991,
          0.24043734381664816,
          0.23980706313152214,
          0.23980706313152214
         ],
         "yaxis": "y5"
        },
        {
         "hoverinfo": "skip",
         "legendgroup": "metric_analysis",
         "line": {
          "color": "#3b0280",
          "dash": "dash",
          "shape": "hv",
          "width": 2
         },
         "mode": "lines",
         "name": "Metric",
         "showlegend": false,
         "type": "scatter",
         "x": [
          "2020-09-01T03:10:01",
          "2020-09-13T16:15:32",
          "2020-09-25T19:50:04",
          "2020-10-08T02:57:34",
          "2020-10-20T15:49:06",
          "2020-11-01T22:04:59",
          "2020-11-14T03:55:49",
          "2020-11-26T09:19:22",
          "2020-12-08T14:34:25",
          "2020-12-20T18:31:09",
          "2021-01-01T22:57:55"
         ],
         "xaxis": "x5",
         "y": [
          0.24729083958601966,
          0.2560424359094342,
          0.2476918731745556,
          0.2425186244918138,
          0.2507139398023762,
          0.26358343806289464,
          0.2699036975415076,
          0.27565279752568467,
          0.26601114559102007,
          0.2702289496846114,
          0.2702289496846114
         ],
         "yaxis": "y5"
        },
        {
         "customdata": [
          [
           "Estimated <b>true class: highstreet_card, predicted class: highstreet_card</b>",
           "<b style=\"color:#3b0280;line-height:60px\">Analysis</b>",
           "",
           "[0:5999]",
           "From <b>Sep-01-2020</b> to <b>Sep-13-2020</b>",
           0.2473,
           0.0169
          ],
          [
           "Estimated <b>true class: highstreet_card, predicted class: highstreet_card</b>",
           "<b style=\"color:#3b0280;line-height:60px\">Analysis</b>",
           "",
           "[6000:11999]",
           "From <b>Sep-13-2020</b> to <b>Sep-25-2020</b>",
           0.256,
           0.0169
          ],
          [
           "Estimated <b>true class: highstreet_card, predicted class: highstreet_card</b>",
           "<b style=\"color:#3b0280;line-height:60px\">Analysis</b>",
           "",
           "[12000:17999]",
           "From <b>Sep-25-2020</b> to <b>Oct-08-2020</b>",
           0.2477,
           0.0169
          ],
          [
           "Estimated <b>true class: highstreet_card, predicted class: highstreet_card</b>",
           "<b style=\"color:#3b0280;line-height:60px\">Analysis</b>",
           "",
           "[18000:23999]",
           "From <b>Oct-08-2020</b> to <b>Oct-20-2020</b>",
           0.2425,
           0.0169
          ],
          [
           "Estimated <b>true class: highstreet_card, predicted class: highstreet_card</b>",
           "<b style=\"color:#3b0280;line-height:60px\">Analysis</b>",
           "",
           "[24000:29999]",
           "From <b>Oct-20-2020</b> to <b>Nov-01-2020</b>",
           0.2507,
           0.0169
          ],
          [
           "Estimated <b>true class: highstreet_card, predicted class: highstreet_card</b>",
           "<b style=\"color:#3b0280;line-height:60px\">Analysis</b>",
           "<span style=\"color:#AD0000\">⚠ <b>Drift detected</b></span>",
           "[30000:35999]",
           "From <b>Nov-01-2020</b> to <b>Nov-14-2020</b>",
           0.2636,
           0.0169
          ],
          [
           "Estimated <b>true class: highstreet_card, predicted class: highstreet_card</b>",
           "<b style=\"color:#3b0280;line-height:60px\">Analysis</b>",
           "<span style=\"color:#AD0000\">⚠ <b>Drift detected</b></span>",
           "[36000:41999]",
           "From <b>Nov-14-2020</b> to <b>Nov-26-2020</b>",
           0.2699,
           0.0169
          ],
          [
           "Estimated <b>true class: highstreet_card, predicted class: highstreet_card</b>",
           "<b style=\"color:#3b0280;line-height:60px\">Analysis</b>",
           "<span style=\"color:#AD0000\">⚠ <b>Drift detected</b></span>",
           "[42000:47999]",
           "From <b>Nov-26-2020</b> to <b>Dec-08-2020</b>",
           0.2757,
           0.0169
          ],
          [
           "Estimated <b>true class: highstreet_card, predicted class: highstreet_card</b>",
           "<b style=\"color:#3b0280;line-height:60px\">Analysis</b>",
           "<span style=\"color:#AD0000\">⚠ <b>Drift detected</b></span>",
           "[48000:53999]",
           "From <b>Dec-08-2020</b> to <b>Dec-20-2020</b>",
           0.266,
           0.0169
          ],
          [
           "Estimated <b>true class: highstreet_card, predicted class: highstreet_card</b>",
           "<b style=\"color:#3b0280;line-height:60px\">Analysis</b>",
           "<span style=\"color:#AD0000\">⚠ <b>Drift detected</b></span>",
           "[54000:59999]",
           "From <b>Dec-20-2020</b> to <b>Jan-01-2021</b>",
           0.2702,
           0.0169
          ]
         ],
         "hovertemplate": "%{customdata[1]} &nbsp; &nbsp; %{customdata[2]} <br />Chunk: <b>%{customdata[3]}</b> &nbsp; &nbsp; %{customdata[4]} <br />%{customdata[0]}: <b>%{customdata[5]}</b><br />Confidence band: +/- <b>%{customdata[6]}</b><br /><extra></extra>",
         "legendgroup": "metric_analysis",
         "line": {
          "dash": "dash"
         },
         "marker": {
          "color": "#3b0280",
          "size": 5,
          "symbol": "circle"
         },
         "mode": "markers",
         "name": "Metric",
         "showlegend": false,
         "type": "scatter",
         "x": [
          "2020-09-07T09:42:46.500000",
          "2020-09-19T18:02:48",
          "2020-10-01T23:23:49",
          "2020-10-14T09:23:20",
          "2020-10-26T18:57:02.500000",
          "2020-11-08T01:00:24",
          "2020-11-20T06:37:35.500000",
          "2020-12-02T11:56:53.500000",
          "2020-12-14T16:32:47",
          "2020-12-26T20:44:32"
         ],
         "xaxis": "x5",
         "y": [
          0.24729083958601966,
          0.2560424359094342,
          0.2476918731745556,
          0.2425186244918138,
          0.2507139398023762,
          0.26358343806289464,
          0.2699036975415076,
          0.27565279752568467,
          0.26601114559102007,
          0.2702289496846114,
          0.2702289496846114
         ],
         "yaxis": "y5"
        },
        {
         "hoverinfo": "skip",
         "legendgroup": "alert",
         "marker": {
          "color": "#DD4040",
          "size": 8,
          "symbol": "diamond"
         },
         "mode": "markers",
         "name": "Alert",
         "showlegend": false,
         "type": "scatter",
         "x": [
          "2020-11-08T01:00:24",
          "2020-11-20T06:37:35.500000",
          "2020-12-02T11:56:53.500000",
          "2020-12-14T16:32:47",
          "2020-12-26T20:44:32"
         ],
         "xaxis": "x5",
         "y": [
          0.26358343806289464,
          0.2699036975415076,
          0.27565279752568467,
          0.26601114559102007,
          0.2702289496846114
         ],
         "yaxis": "y5"
        },
        {
         "hoverinfo": "skip",
         "legendgroup": "thresh",
         "line": {
          "color": "#DD4040",
          "dash": "dash",
          "width": 2
         },
         "mode": "lines",
         "name": "Threshold",
         "showlegend": false,
         "type": "scatter",
         "x": [
          "2020-05-02T02:01:30",
          "2020-05-14T12:29:25",
          "2020-05-26T18:31:06",
          "2020-06-07T19:58:39",
          "2020-06-19T19:44:14",
          "2020-07-02T02:06:56",
          "2020-07-14T08:14:08",
          "2020-07-26T12:57:37",
          "2020-08-07T16:33:44",
          "2020-08-20T00:07:58",
          "2020-09-01T03:03:23"
         ],
         "xaxis": "x5",
         "y": [
          0.2622923109843355,
          0.2622923109843355,
          0.2622923109843355,
          0.2622923109843355,
          0.2622923109843355,
          0.2622923109843355,
          0.2622923109843355,
          0.2622923109843355,
          0.2622923109843355,
          0.2622923109843355,
          0.2622923109843355
         ],
         "yaxis": "y5"
        },
        {
         "hoverinfo": "skip",
         "legendgroup": "thresh",
         "line": {
          "color": "#DD4040",
          "dash": "dash",
          "width": 2
         },
         "mode": "lines",
         "name": "Threshold",
         "showlegend": false,
         "type": "scatter",
         "x": [
          "2020-05-02T02:01:30",
          "2020-05-14T12:29:25",
          "2020-05-26T18:31:06",
          "2020-06-07T19:58:39",
          "2020-06-19T19:44:14",
          "2020-07-02T02:06:56",
          "2020-07-14T08:14:08",
          "2020-07-26T12:57:37",
          "2020-08-07T16:33:44",
          "2020-08-20T00:07:58",
          "2020-09-01T03:03:23"
         ],
         "xaxis": "x5",
         "y": [
          0.22834102234899792,
          0.22834102234899792,
          0.22834102234899792,
          0.22834102234899792,
          0.22834102234899792,
          0.22834102234899792,
          0.22834102234899792,
          0.22834102234899792,
          0.22834102234899792,
          0.22834102234899792,
          0.22834102234899792
         ],
         "yaxis": "y5"
        },
        {
         "hoverinfo": "skip",
         "legendgroup": "thresh",
         "line": {
          "color": "#DD4040",
          "dash": "dash",
          "width": 2
         },
         "mode": "lines",
         "name": "Threshold",
         "showlegend": false,
         "type": "scatter",
         "x": [
          "2020-09-01T03:10:01",
          "2020-09-13T16:15:32",
          "2020-09-25T19:50:04",
          "2020-10-08T02:57:34",
          "2020-10-20T15:49:06",
          "2020-11-01T22:04:59",
          "2020-11-14T03:55:49",
          "2020-11-26T09:19:22",
          "2020-12-08T14:34:25",
          "2020-12-20T18:31:09",
          "2021-01-01T22:57:55"
         ],
         "xaxis": "x5",
         "y": [
          0.2622923109843355,
          0.2622923109843355,
          0.2622923109843355,
          0.2622923109843355,
          0.2622923109843355,
          0.2622923109843355,
          0.2622923109843355,
          0.2622923109843355,
          0.2622923109843355,
          0.2622923109843355,
          0.2622923109843355
         ],
         "yaxis": "y5"
        },
        {
         "hoverinfo": "skip",
         "legendgroup": "thresh",
         "line": {
          "color": "#DD4040",
          "dash": "dash",
          "width": 2
         },
         "mode": "lines",
         "name": "Threshold",
         "showlegend": false,
         "type": "scatter",
         "x": [
          "2020-09-01T03:10:01",
          "2020-09-13T16:15:32",
          "2020-09-25T19:50:04",
          "2020-10-08T02:57:34",
          "2020-10-20T15:49:06",
          "2020-11-01T22:04:59",
          "2020-11-14T03:55:49",
          "2020-11-26T09:19:22",
          "2020-12-08T14:34:25",
          "2020-12-20T18:31:09",
          "2021-01-01T22:57:55"
         ],
         "xaxis": "x5",
         "y": [
          0.22834102234899792,
          0.22834102234899792,
          0.22834102234899792,
          0.22834102234899792,
          0.22834102234899792,
          0.22834102234899792,
          0.22834102234899792,
          0.22834102234899792,
          0.22834102234899792,
          0.22834102234899792,
          0.22834102234899792
         ],
         "yaxis": "y5"
        },
        {
         "hoverinfo": "skip",
         "line": {
          "color": "rgba(0,0,0,0)",
          "shape": "hv"
         },
         "mode": "lines",
         "name": "Confidence band",
         "showlegend": false,
         "type": "scatter",
         "x": [
          "2020-05-02T02:01:30",
          "2020-05-14T12:29:25",
          "2020-05-26T18:31:06",
          "2020-06-07T19:58:39",
          "2020-06-19T19:44:14",
          "2020-07-02T02:06:56",
          "2020-07-14T08:14:08",
          "2020-07-26T12:57:37",
          "2020-08-07T16:33:44",
          "2020-08-20T00:07:58",
          "2020-09-01T03:03:23"
         ],
         "xaxis": "x5",
         "y": [
          0.26398305603130656,
          0.27323741310347305,
          0.26780931929576907,
          0.2655486555180008,
          0.2609834246892724,
          0.26306754315850456,
          0.26531564322387213,
          0.2728558868755843,
          0.2573112763631334,
          0.2566809956780074,
          0.2566809956780074
         ],
         "yaxis": "y5"
        },
        {
         "fill": "tonexty",
         "fillcolor": "rgba(0.23137254901960785, 0.00784313725490196, 0.5019607843137255, 0.2)",
         "hoverinfo": "skip",
         "line": {
          "color": "rgba(0,0,0,0)",
          "shape": "hv"
         },
         "mode": "lines",
         "name": "Confidence band",
         "showlegend": false,
         "type": "scatter",
         "x": [
          "2020-05-02T02:01:30",
          "2020-05-14T12:29:25",
          "2020-05-26T18:31:06",
          "2020-06-07T19:58:39",
          "2020-06-19T19:44:14",
          "2020-07-02T02:06:56",
          "2020-07-14T08:14:08",
          "2020-07-26T12:57:37",
          "2020-08-07T16:33:44",
          "2020-08-20T00:07:58",
          "2020-09-01T03:03:23"
         ],
         "xaxis": "x5",
         "y": [
          0.23023519093833614,
          0.2394895480105026,
          0.2340614542027986,
          0.23180079042503035,
          0.22723555959630196,
          0.2293196780655341,
          0.2315677781309017,
          0.23910802178261387,
          0.22356341127016294,
          0.22293313058503691,
          0.22293313058503691
         ],
         "yaxis": "y5"
        },
        {
         "hoverinfo": "skip",
         "line": {
          "color": "rgba(0,0,0,0)",
          "shape": "hv"
         },
         "mode": "lines",
         "name": "Confidence band",
         "showlegend": false,
         "type": "scatter",
         "x": [
          "2020-09-01T03:10:01",
          "2020-09-13T16:15:32",
          "2020-09-25T19:50:04",
          "2020-10-08T02:57:34",
          "2020-10-20T15:49:06",
          "2020-11-01T22:04:59",
          "2020-11-14T03:55:49",
          "2020-11-26T09:19:22",
          "2020-12-08T14:34:25",
          "2020-12-20T18:31:09",
          "2021-01-01T22:57:55"
         ],
         "xaxis": "x5",
         "y": [
          0.2641647721325049,
          0.27291636845591943,
          0.2645658057210408,
          0.259392557038299,
          0.26758787234886144,
          0.28045737060937986,
          0.28677763008799284,
          0.2925267300721699,
          0.2828850781375053,
          0.28710288223109665,
          0.28710288223109665
         ],
         "yaxis": "y5"
        },
        {
         "fill": "tonexty",
         "fillcolor": "rgba(0.23137254901960785, 0.00784313725490196, 0.5019607843137255, 0.2)",
         "hoverinfo": "skip",
         "line": {
          "color": "rgba(0,0,0,0)",
          "shape": "hv"
         },
         "mode": "lines",
         "name": "Confidence band",
         "showlegend": false,
         "type": "scatter",
         "x": [
          "2020-09-01T03:10:01",
          "2020-09-13T16:15:32",
          "2020-09-25T19:50:04",
          "2020-10-08T02:57:34",
          "2020-10-20T15:49:06",
          "2020-11-01T22:04:59",
          "2020-11-14T03:55:49",
          "2020-11-26T09:19:22",
          "2020-12-08T14:34:25",
          "2020-12-20T18:31:09",
          "2021-01-01T22:57:55"
         ],
         "xaxis": "x5",
         "y": [
          0.23041690703953444,
          0.23916850336294898,
          0.23081794062807037,
          0.22564469194532857,
          0.233840007255891,
          0.2467095055164094,
          0.2530297649950224,
          0.25877886497919944,
          0.24913721304453484,
          0.2533550171381262,
          0.2533550171381262
         ],
         "yaxis": "y5"
        },
        {
         "hoverinfo": "skip",
         "legendgroup": "metric_reference",
         "line": {
          "color": "#3b0280",
          "dash": "dash",
          "shape": "hv",
          "width": 2
         },
         "mode": "lines",
         "name": "Metric",
         "showlegend": false,
         "type": "scatter",
         "x": [
          "2020-05-02T02:01:30",
          "2020-05-14T12:29:25",
          "2020-05-26T18:31:06",
          "2020-06-07T19:58:39",
          "2020-06-19T19:44:14",
          "2020-07-02T02:06:56",
          "2020-07-14T08:14:08",
          "2020-07-26T12:57:37",
          "2020-08-07T16:33:44",
          "2020-08-20T00:07:58",
          "2020-09-01T03:03:23"
         ],
         "xaxis": "x6",
         "y": [
          0.04343131776227792,
          0.04056172497889996,
          0.04244154218181699,
          0.04291369479958503,
          0.043922560982780065,
          0.041337613462270176,
          0.04278759025002033,
          0.04287326145696163,
          0.04493634910415212,
          0.04410685217935056,
          0.04410685217935056
         ],
         "yaxis": "y6"
        },
        {
         "customdata": [
          [
           "Estimated <b>true class: highstreet_card, predicted class: upmarket_card</b>",
           "<b style=\"color:#3b0280;line-height:60px\">Reference</b>",
           "",
           "[0:5999]",
           "From <b>May-02-2020</b> to <b>May-14-2020</b>",
           0.0434,
           0.0072
          ],
          [
           "Estimated <b>true class: highstreet_card, predicted class: upmarket_card</b>",
           "<b style=\"color:#3b0280;line-height:60px\">Reference</b>",
           "",
           "[6000:11999]",
           "From <b>May-14-2020</b> to <b>May-26-2020</b>",
           0.0406,
           0.0072
          ],
          [
           "Estimated <b>true class: highstreet_card, predicted class: upmarket_card</b>",
           "<b style=\"color:#3b0280;line-height:60px\">Reference</b>",
           "",
           "[12000:17999]",
           "From <b>May-26-2020</b> to <b>Jun-07-2020</b>",
           0.0424,
           0.0072
          ],
          [
           "Estimated <b>true class: highstreet_card, predicted class: upmarket_card</b>",
           "<b style=\"color:#3b0280;line-height:60px\">Reference</b>",
           "",
           "[18000:23999]",
           "From <b>Jun-07-2020</b> to <b>Jun-19-2020</b>",
           0.0429,
           0.0072
          ],
          [
           "Estimated <b>true class: highstreet_card, predicted class: upmarket_card</b>",
           "<b style=\"color:#3b0280;line-height:60px\">Reference</b>",
           "",
           "[24000:29999]",
           "From <b>Jun-19-2020</b> to <b>Jul-02-2020</b>",
           0.0439,
           0.0072
          ],
          [
           "Estimated <b>true class: highstreet_card, predicted class: upmarket_card</b>",
           "<b style=\"color:#3b0280;line-height:60px\">Reference</b>",
           "",
           "[30000:35999]",
           "From <b>Jul-02-2020</b> to <b>Jul-14-2020</b>",
           0.0413,
           0.0072
          ],
          [
           "Estimated <b>true class: highstreet_card, predicted class: upmarket_card</b>",
           "<b style=\"color:#3b0280;line-height:60px\">Reference</b>",
           "",
           "[36000:41999]",
           "From <b>Jul-14-2020</b> to <b>Jul-26-2020</b>",
           0.0428,
           0.0072
          ],
          [
           "Estimated <b>true class: highstreet_card, predicted class: upmarket_card</b>",
           "<b style=\"color:#3b0280;line-height:60px\">Reference</b>",
           "",
           "[42000:47999]",
           "From <b>Jul-26-2020</b> to <b>Aug-07-2020</b>",
           0.0429,
           0.0072
          ],
          [
           "Estimated <b>true class: highstreet_card, predicted class: upmarket_card</b>",
           "<b style=\"color:#3b0280;line-height:60px\">Reference</b>",
           "",
           "[48000:53999]",
           "From <b>Aug-07-2020</b> to <b>Aug-20-2020</b>",
           0.0449,
           0.0072
          ],
          [
           "Estimated <b>true class: highstreet_card, predicted class: upmarket_card</b>",
           "<b style=\"color:#3b0280;line-height:60px\">Reference</b>",
           "",
           "[54000:59999]",
           "From <b>Aug-20-2020</b> to <b>Sep-01-2020</b>",
           0.0441,
           0.0072
          ]
         ],
         "hovertemplate": "%{customdata[1]} &nbsp; &nbsp; %{customdata[2]} <br />Chunk: <b>%{customdata[3]}</b> &nbsp; &nbsp; %{customdata[4]} <br />%{customdata[0]}: <b>%{customdata[5]}</b><br />Confidence band: +/- <b>%{customdata[6]}</b><br /><extra></extra>",
         "legendgroup": "metric_reference",
         "line": {
          "dash": "dash"
         },
         "marker": {
          "color": "#3b0280",
          "size": 5,
          "symbol": "circle"
         },
         "mode": "markers",
         "name": "Metric",
         "showlegend": false,
         "type": "scatter",
         "x": [
          "2020-05-08T07:15:27.500000",
          "2020-05-20T15:30:15.500000",
          "2020-06-01T19:14:52.500000",
          "2020-06-13T19:51:26.500000",
          "2020-06-25T22:55:35",
          "2020-07-08T05:10:32",
          "2020-07-20T10:35:52.500000",
          "2020-08-01T14:45:40.500000",
          "2020-08-13T20:20:51",
          "2020-08-26T01:35:40.500000"
         ],
         "xaxis": "x6",
         "y": [
          0.04343131776227792,
          0.04056172497889996,
          0.04244154218181699,
          0.04291369479958503,
          0.043922560982780065,
          0.041337613462270176,
          0.04278759025002033,
          0.04287326145696163,
          0.04493634910415212,
          0.04410685217935056,
          0.04410685217935056
         ],
         "yaxis": "y6"
        },
        {
         "hoverinfo": "skip",
         "legendgroup": "metric_analysis",
         "line": {
          "color": "#3b0280",
          "dash": "dash",
          "shape": "hv",
          "width": 2
         },
         "mode": "lines",
         "name": "Metric",
         "showlegend": false,
         "type": "scatter",
         "x": [
          "2020-09-01T03:10:01",
          "2020-09-13T16:15:32",
          "2020-09-25T19:50:04",
          "2020-10-08T02:57:34",
          "2020-10-20T15:49:06",
          "2020-11-01T22:04:59",
          "2020-11-14T03:55:49",
          "2020-11-26T09:19:22",
          "2020-12-08T14:34:25",
          "2020-12-20T18:31:09",
          "2021-01-01T22:57:55"
         ],
         "xaxis": "x6",
         "y": [
          0.04162874016408629,
          0.04154223567165667,
          0.04276490742113478,
          0.04135734051749439,
          0.04481677235183766,
          0.05606772833246506,
          0.05352733877812444,
          0.054950850603962126,
          0.05645603147587682,
          0.05613973500900587,
          0.05613973500900587
         ],
         "yaxis": "y6"
        },
        {
         "customdata": [
          [
           "Estimated <b>true class: highstreet_card, predicted class: upmarket_card</b>",
           "<b style=\"color:#3b0280;line-height:60px\">Analysis</b>",
           "",
           "[0:5999]",
           "From <b>Sep-01-2020</b> to <b>Sep-13-2020</b>",
           0.0416,
           0.0072
          ],
          [
           "Estimated <b>true class: highstreet_card, predicted class: upmarket_card</b>",
           "<b style=\"color:#3b0280;line-height:60px\">Analysis</b>",
           "",
           "[6000:11999]",
           "From <b>Sep-13-2020</b> to <b>Sep-25-2020</b>",
           0.0415,
           0.0072
          ],
          [
           "Estimated <b>true class: highstreet_card, predicted class: upmarket_card</b>",
           "<b style=\"color:#3b0280;line-height:60px\">Analysis</b>",
           "",
           "[12000:17999]",
           "From <b>Sep-25-2020</b> to <b>Oct-08-2020</b>",
           0.0428,
           0.0072
          ],
          [
           "Estimated <b>true class: highstreet_card, predicted class: upmarket_card</b>",
           "<b style=\"color:#3b0280;line-height:60px\">Analysis</b>",
           "",
           "[18000:23999]",
           "From <b>Oct-08-2020</b> to <b>Oct-20-2020</b>",
           0.0414,
           0.0072
          ],
          [
           "Estimated <b>true class: highstreet_card, predicted class: upmarket_card</b>",
           "<b style=\"color:#3b0280;line-height:60px\">Analysis</b>",
           "",
           "[24000:29999]",
           "From <b>Oct-20-2020</b> to <b>Nov-01-2020</b>",
           0.0448,
           0.0072
          ],
          [
           "Estimated <b>true class: highstreet_card, predicted class: upmarket_card</b>",
           "<b style=\"color:#3b0280;line-height:60px\">Analysis</b>",
           "<span style=\"color:#AD0000\">⚠ <b>Drift detected</b></span>",
           "[30000:35999]",
           "From <b>Nov-01-2020</b> to <b>Nov-14-2020</b>",
           0.0561,
           0.0072
          ],
          [
           "Estimated <b>true class: highstreet_card, predicted class: upmarket_card</b>",
           "<b style=\"color:#3b0280;line-height:60px\">Analysis</b>",
           "<span style=\"color:#AD0000\">⚠ <b>Drift detected</b></span>",
           "[36000:41999]",
           "From <b>Nov-14-2020</b> to <b>Nov-26-2020</b>",
           0.0535,
           0.0072
          ],
          [
           "Estimated <b>true class: highstreet_card, predicted class: upmarket_card</b>",
           "<b style=\"color:#3b0280;line-height:60px\">Analysis</b>",
           "<span style=\"color:#AD0000\">⚠ <b>Drift detected</b></span>",
           "[42000:47999]",
           "From <b>Nov-26-2020</b> to <b>Dec-08-2020</b>",
           0.055,
           0.0072
          ],
          [
           "Estimated <b>true class: highstreet_card, predicted class: upmarket_card</b>",
           "<b style=\"color:#3b0280;line-height:60px\">Analysis</b>",
           "<span style=\"color:#AD0000\">⚠ <b>Drift detected</b></span>",
           "[48000:53999]",
           "From <b>Dec-08-2020</b> to <b>Dec-20-2020</b>",
           0.0565,
           0.0072
          ],
          [
           "Estimated <b>true class: highstreet_card, predicted class: upmarket_card</b>",
           "<b style=\"color:#3b0280;line-height:60px\">Analysis</b>",
           "<span style=\"color:#AD0000\">⚠ <b>Drift detected</b></span>",
           "[54000:59999]",
           "From <b>Dec-20-2020</b> to <b>Jan-01-2021</b>",
           0.0561,
           0.0072
          ]
         ],
         "hovertemplate": "%{customdata[1]} &nbsp; &nbsp; %{customdata[2]} <br />Chunk: <b>%{customdata[3]}</b> &nbsp; &nbsp; %{customdata[4]} <br />%{customdata[0]}: <b>%{customdata[5]}</b><br />Confidence band: +/- <b>%{customdata[6]}</b><br /><extra></extra>",
         "legendgroup": "metric_analysis",
         "line": {
          "dash": "dash"
         },
         "marker": {
          "color": "#3b0280",
          "size": 5,
          "symbol": "circle"
         },
         "mode": "markers",
         "name": "Metric",
         "showlegend": false,
         "type": "scatter",
         "x": [
          "2020-09-07T09:42:46.500000",
          "2020-09-19T18:02:48",
          "2020-10-01T23:23:49",
          "2020-10-14T09:23:20",
          "2020-10-26T18:57:02.500000",
          "2020-11-08T01:00:24",
          "2020-11-20T06:37:35.500000",
          "2020-12-02T11:56:53.500000",
          "2020-12-14T16:32:47",
          "2020-12-26T20:44:32"
         ],
         "xaxis": "x6",
         "y": [
          0.04162874016408629,
          0.04154223567165667,
          0.04276490742113478,
          0.04135734051749439,
          0.04481677235183766,
          0.05606772833246506,
          0.05352733877812444,
          0.054950850603962126,
          0.05645603147587682,
          0.05613973500900587,
          0.05613973500900587
         ],
         "yaxis": "y6"
        },
        {
         "hoverinfo": "skip",
         "legendgroup": "alert",
         "marker": {
          "color": "#DD4040",
          "size": 8,
          "symbol": "diamond"
         },
         "mode": "markers",
         "name": "Alert",
         "showlegend": false,
         "type": "scatter",
         "x": [
          "2020-11-08T01:00:24",
          "2020-11-20T06:37:35.500000",
          "2020-12-02T11:56:53.500000",
          "2020-12-14T16:32:47",
          "2020-12-26T20:44:32"
         ],
         "xaxis": "x6",
         "y": [
          0.05606772833246506,
          0.05352733877812444,
          0.054950850603962126,
          0.05645603147587682,
          0.05613973500900587
         ],
         "yaxis": "y6"
        },
        {
         "hoverinfo": "skip",
         "legendgroup": "thresh",
         "line": {
          "color": "#DD4040",
          "dash": "dash",
          "width": 2
         },
         "mode": "lines",
         "name": "Threshold",
         "showlegend": false,
         "type": "scatter",
         "x": [
          "2020-05-02T02:01:30",
          "2020-05-14T12:29:25",
          "2020-05-26T18:31:06",
          "2020-06-07T19:58:39",
          "2020-06-19T19:44:14",
          "2020-07-02T02:06:56",
          "2020-07-14T08:14:08",
          "2020-07-26T12:57:37",
          "2020-08-07T16:33:44",
          "2020-08-20T00:07:58",
          "2020-09-01T03:03:23"
         ],
         "xaxis": "x6",
         "y": [
          0.0470817096143121,
          0.0470817096143121,
          0.0470817096143121,
          0.0470817096143121,
          0.0470817096143121,
          0.0470817096143121,
          0.0470817096143121,
          0.0470817096143121,
          0.0470817096143121,
          0.0470817096143121,
          0.0470817096143121
         ],
         "yaxis": "y6"
        },
        {
         "hoverinfo": "skip",
         "legendgroup": "thresh",
         "line": {
          "color": "#DD4040",
          "dash": "dash",
          "width": 2
         },
         "mode": "lines",
         "name": "Threshold",
         "showlegend": false,
         "type": "scatter",
         "x": [
          "2020-05-02T02:01:30",
          "2020-05-14T12:29:25",
          "2020-05-26T18:31:06",
          "2020-06-07T19:58:39",
          "2020-06-19T19:44:14",
          "2020-07-02T02:06:56",
          "2020-07-14T08:14:08",
          "2020-07-26T12:57:37",
          "2020-08-07T16:33:44",
          "2020-08-20T00:07:58",
          "2020-09-01T03:03:23"
         ],
         "xaxis": "x6",
         "y": [
          0.03938495705235456,
          0.03938495705235456,
          0.03938495705235456,
          0.03938495705235456,
          0.03938495705235456,
          0.03938495705235456,
          0.03938495705235456,
          0.03938495705235456,
          0.03938495705235456,
          0.03938495705235456,
          0.03938495705235456
         ],
         "yaxis": "y6"
        },
        {
         "hoverinfo": "skip",
         "legendgroup": "thresh",
         "line": {
          "color": "#DD4040",
          "dash": "dash",
          "width": 2
         },
         "mode": "lines",
         "name": "Threshold",
         "showlegend": false,
         "type": "scatter",
         "x": [
          "2020-09-01T03:10:01",
          "2020-09-13T16:15:32",
          "2020-09-25T19:50:04",
          "2020-10-08T02:57:34",
          "2020-10-20T15:49:06",
          "2020-11-01T22:04:59",
          "2020-11-14T03:55:49",
          "2020-11-26T09:19:22",
          "2020-12-08T14:34:25",
          "2020-12-20T18:31:09",
          "2021-01-01T22:57:55"
         ],
         "xaxis": "x6",
         "y": [
          0.0470817096143121,
          0.0470817096143121,
          0.0470817096143121,
          0.0470817096143121,
          0.0470817096143121,
          0.0470817096143121,
          0.0470817096143121,
          0.0470817096143121,
          0.0470817096143121,
          0.0470817096143121,
          0.0470817096143121
         ],
         "yaxis": "y6"
        },
        {
         "hoverinfo": "skip",
         "legendgroup": "thresh",
         "line": {
          "color": "#DD4040",
          "dash": "dash",
          "width": 2
         },
         "mode": "lines",
         "name": "Threshold",
         "showlegend": false,
         "type": "scatter",
         "x": [
          "2020-09-01T03:10:01",
          "2020-09-13T16:15:32",
          "2020-09-25T19:50:04",
          "2020-10-08T02:57:34",
          "2020-10-20T15:49:06",
          "2020-11-01T22:04:59",
          "2020-11-14T03:55:49",
          "2020-11-26T09:19:22",
          "2020-12-08T14:34:25",
          "2020-12-20T18:31:09",
          "2021-01-01T22:57:55"
         ],
         "xaxis": "x6",
         "y": [
          0.03938495705235456,
          0.03938495705235456,
          0.03938495705235456,
          0.03938495705235456,
          0.03938495705235456,
          0.03938495705235456,
          0.03938495705235456,
          0.03938495705235456,
          0.03938495705235456,
          0.03938495705235456,
          0.03938495705235456
         ],
         "yaxis": "y6"
        },
        {
         "hoverinfo": "skip",
         "line": {
          "color": "rgba(0,0,0,0)",
          "shape": "hv"
         },
         "mode": "lines",
         "name": "Confidence band",
         "showlegend": false,
         "type": "scatter",
         "x": [
          "2020-05-02T02:01:30",
          "2020-05-14T12:29:25",
          "2020-05-26T18:31:06",
          "2020-06-07T19:58:39",
          "2020-06-19T19:44:14",
          "2020-07-02T02:06:56",
          "2020-07-14T08:14:08",
          "2020-07-26T12:57:37",
          "2020-08-07T16:33:44",
          "2020-08-20T00:07:58",
          "2020-09-01T03:03:23"
         ],
         "xaxis": "x6",
         "y": [
          0.05060273995386586,
          0.047733147170487905,
          0.049612964373404934,
          0.050085116991172976,
          0.05109398317436801,
          0.04850903565385812,
          0.049959012441608275,
          0.050044683648549575,
          0.05210777129574006,
          0.0512782743709385,
          0.0512782743709385
         ],
         "yaxis": "y6"
        },
        {
         "fill": "tonexty",
         "fillcolor": "rgba(0.23137254901960785, 0.00784313725490196, 0.5019607843137255, 0.2)",
         "hoverinfo": "skip",
         "line": {
          "color": "rgba(0,0,0,0)",
          "shape": "hv"
         },
         "mode": "lines",
         "name": "Confidence band",
         "showlegend": false,
         "type": "scatter",
         "x": [
          "2020-05-02T02:01:30",
          "2020-05-14T12:29:25",
          "2020-05-26T18:31:06",
          "2020-06-07T19:58:39",
          "2020-06-19T19:44:14",
          "2020-07-02T02:06:56",
          "2020-07-14T08:14:08",
          "2020-07-26T12:57:37",
          "2020-08-07T16:33:44",
          "2020-08-20T00:07:58",
          "2020-09-01T03:03:23"
         ],
         "xaxis": "x6",
         "y": [
          0.036259895570689975,
          0.03339030278731202,
          0.03527011999022905,
          0.03574227260799709,
          0.03675113879119212,
          0.03416619127068223,
          0.03561616805843239,
          0.03570183926537369,
          0.037764926912564174,
          0.036935429987762614,
          0.036935429987762614
         ],
         "yaxis": "y6"
        },
        {
         "hoverinfo": "skip",
         "line": {
          "color": "rgba(0,0,0,0)",
          "shape": "hv"
         },
         "mode": "lines",
         "name": "Confidence band",
         "showlegend": false,
         "type": "scatter",
         "x": [
          "2020-09-01T03:10:01",
          "2020-09-13T16:15:32",
          "2020-09-25T19:50:04",
          "2020-10-08T02:57:34",
          "2020-10-20T15:49:06",
          "2020-11-01T22:04:59",
          "2020-11-14T03:55:49",
          "2020-11-26T09:19:22",
          "2020-12-08T14:34:25",
          "2020-12-20T18:31:09",
          "2021-01-01T22:57:55"
         ],
         "xaxis": "x6",
         "y": [
          0.048800162355674234,
          0.048713657863244615,
          0.04993632961272272,
          0.04852876270908233,
          0.051988194543425605,
          0.063239150524053,
          0.060698760969712384,
          0.06212227279555007,
          0.06362745366746476,
          0.06331115720059381,
          0.06331115720059381
         ],
         "yaxis": "y6"
        },
        {
         "fill": "tonexty",
         "fillcolor": "rgba(0.23137254901960785, 0.00784313725490196, 0.5019607843137255, 0.2)",
         "hoverinfo": "skip",
         "line": {
          "color": "rgba(0,0,0,0)",
          "shape": "hv"
         },
         "mode": "lines",
         "name": "Confidence band",
         "showlegend": false,
         "type": "scatter",
         "x": [
          "2020-09-01T03:10:01",
          "2020-09-13T16:15:32",
          "2020-09-25T19:50:04",
          "2020-10-08T02:57:34",
          "2020-10-20T15:49:06",
          "2020-11-01T22:04:59",
          "2020-11-14T03:55:49",
          "2020-11-26T09:19:22",
          "2020-12-08T14:34:25",
          "2020-12-20T18:31:09",
          "2021-01-01T22:57:55"
         ],
         "xaxis": "x6",
         "y": [
          0.03445731797249835,
          0.03437081348006873,
          0.035593485229546834,
          0.03418591832590644,
          0.03764535016024972,
          0.048896306140877116,
          0.0463559165865365,
          0.04777942841237418,
          0.04928460928428888,
          0.048968312817417925,
          0.048968312817417925
         ],
         "yaxis": "y6"
        },
        {
         "hoverinfo": "skip",
         "legendgroup": "metric_reference",
         "line": {
          "color": "#3b0280",
          "dash": "dash",
          "shape": "hv",
          "width": 2
         },
         "mode": "lines",
         "name": "Metric",
         "showlegend": false,
         "type": "scatter",
         "x": [
          "2020-05-02T02:01:30",
          "2020-05-14T12:29:25",
          "2020-05-26T18:31:06",
          "2020-06-07T19:58:39",
          "2020-06-19T19:44:14",
          "2020-07-02T02:06:56",
          "2020-07-14T08:14:08",
          "2020-07-26T12:57:37",
          "2020-08-07T16:33:44",
          "2020-08-20T00:07:58",
          "2020-09-01T03:03:23"
         ],
         "xaxis": "x7",
         "y": [
          0.0389374692020127,
          0.0379764012667387,
          0.03901032899603247,
          0.04015834894671789,
          0.03906707562261783,
          0.039947117731962856,
          0.04016311900291708,
          0.035968838466080164,
          0.03800154109696405,
          0.038615897591594076,
          0.038615897591594076
         ],
         "yaxis": "y7"
        },
        {
         "customdata": [
          [
           "Estimated <b>true class: upmarket_card, predicted class: prepaid_card</b>",
           "<b style=\"color:#3b0280;line-height:60px\">Reference</b>",
           "",
           "[0:5999]",
           "From <b>May-02-2020</b> to <b>May-14-2020</b>",
           0.0389,
           0.0076
          ],
          [
           "Estimated <b>true class: upmarket_card, predicted class: prepaid_card</b>",
           "<b style=\"color:#3b0280;line-height:60px\">Reference</b>",
           "",
           "[6000:11999]",
           "From <b>May-14-2020</b> to <b>May-26-2020</b>",
           0.038,
           0.0076
          ],
          [
           "Estimated <b>true class: upmarket_card, predicted class: prepaid_card</b>",
           "<b style=\"color:#3b0280;line-height:60px\">Reference</b>",
           "",
           "[12000:17999]",
           "From <b>May-26-2020</b> to <b>Jun-07-2020</b>",
           0.039,
           0.0076
          ],
          [
           "Estimated <b>true class: upmarket_card, predicted class: prepaid_card</b>",
           "<b style=\"color:#3b0280;line-height:60px\">Reference</b>",
           "",
           "[18000:23999]",
           "From <b>Jun-07-2020</b> to <b>Jun-19-2020</b>",
           0.0402,
           0.0076
          ],
          [
           "Estimated <b>true class: upmarket_card, predicted class: prepaid_card</b>",
           "<b style=\"color:#3b0280;line-height:60px\">Reference</b>",
           "",
           "[24000:29999]",
           "From <b>Jun-19-2020</b> to <b>Jul-02-2020</b>",
           0.0391,
           0.0076
          ],
          [
           "Estimated <b>true class: upmarket_card, predicted class: prepaid_card</b>",
           "<b style=\"color:#3b0280;line-height:60px\">Reference</b>",
           "",
           "[30000:35999]",
           "From <b>Jul-02-2020</b> to <b>Jul-14-2020</b>",
           0.0399,
           0.0076
          ],
          [
           "Estimated <b>true class: upmarket_card, predicted class: prepaid_card</b>",
           "<b style=\"color:#3b0280;line-height:60px\">Reference</b>",
           "",
           "[36000:41999]",
           "From <b>Jul-14-2020</b> to <b>Jul-26-2020</b>",
           0.0402,
           0.0076
          ],
          [
           "Estimated <b>true class: upmarket_card, predicted class: prepaid_card</b>",
           "<b style=\"color:#3b0280;line-height:60px\">Reference</b>",
           "",
           "[42000:47999]",
           "From <b>Jul-26-2020</b> to <b>Aug-07-2020</b>",
           0.036,
           0.0076
          ],
          [
           "Estimated <b>true class: upmarket_card, predicted class: prepaid_card</b>",
           "<b style=\"color:#3b0280;line-height:60px\">Reference</b>",
           "",
           "[48000:53999]",
           "From <b>Aug-07-2020</b> to <b>Aug-20-2020</b>",
           0.038,
           0.0076
          ],
          [
           "Estimated <b>true class: upmarket_card, predicted class: prepaid_card</b>",
           "<b style=\"color:#3b0280;line-height:60px\">Reference</b>",
           "",
           "[54000:59999]",
           "From <b>Aug-20-2020</b> to <b>Sep-01-2020</b>",
           0.0386,
           0.0076
          ]
         ],
         "hovertemplate": "%{customdata[1]} &nbsp; &nbsp; %{customdata[2]} <br />Chunk: <b>%{customdata[3]}</b> &nbsp; &nbsp; %{customdata[4]} <br />%{customdata[0]}: <b>%{customdata[5]}</b><br />Confidence band: +/- <b>%{customdata[6]}</b><br /><extra></extra>",
         "legendgroup": "metric_reference",
         "line": {
          "dash": "dash"
         },
         "marker": {
          "color": "#3b0280",
          "size": 5,
          "symbol": "circle"
         },
         "mode": "markers",
         "name": "Metric",
         "showlegend": false,
         "type": "scatter",
         "x": [
          "2020-05-08T07:15:27.500000",
          "2020-05-20T15:30:15.500000",
          "2020-06-01T19:14:52.500000",
          "2020-06-13T19:51:26.500000",
          "2020-06-25T22:55:35",
          "2020-07-08T05:10:32",
          "2020-07-20T10:35:52.500000",
          "2020-08-01T14:45:40.500000",
          "2020-08-13T20:20:51",
          "2020-08-26T01:35:40.500000"
         ],
         "xaxis": "x7",
         "y": [
          0.0389374692020127,
          0.0379764012667387,
          0.03901032899603247,
          0.04015834894671789,
          0.03906707562261783,
          0.039947117731962856,
          0.04016311900291708,
          0.035968838466080164,
          0.03800154109696405,
          0.038615897591594076,
          0.038615897591594076
         ],
         "yaxis": "y7"
        },
        {
         "hoverinfo": "skip",
         "legendgroup": "metric_analysis",
         "line": {
          "color": "#3b0280",
          "dash": "dash",
          "shape": "hv",
          "width": 2
         },
         "mode": "lines",
         "name": "Metric",
         "showlegend": false,
         "type": "scatter",
         "x": [
          "2020-09-01T03:10:01",
          "2020-09-13T16:15:32",
          "2020-09-25T19:50:04",
          "2020-10-08T02:57:34",
          "2020-10-20T15:49:06",
          "2020-11-01T22:04:59",
          "2020-11-14T03:55:49",
          "2020-11-26T09:19:22",
          "2020-12-08T14:34:25",
          "2020-12-20T18:31:09",
          "2021-01-01T22:57:55"
         ],
         "xaxis": "x7",
         "y": [
          0.03966318019262953,
          0.03867014673486377,
          0.039093177253658844,
          0.03862003900236096,
          0.038174686903118454,
          0.04952351966853081,
          0.05026633776507603,
          0.04713761117992419,
          0.047585077796484965,
          0.04915331759269504,
          0.04915331759269504
         ],
         "yaxis": "y7"
        },
        {
         "customdata": [
          [
           "Estimated <b>true class: upmarket_card, predicted class: prepaid_card</b>",
           "<b style=\"color:#3b0280;line-height:60px\">Analysis</b>",
           "",
           "[0:5999]",
           "From <b>Sep-01-2020</b> to <b>Sep-13-2020</b>",
           0.0397,
           0.0076
          ],
          [
           "Estimated <b>true class: upmarket_card, predicted class: prepaid_card</b>",
           "<b style=\"color:#3b0280;line-height:60px\">Analysis</b>",
           "",
           "[6000:11999]",
           "From <b>Sep-13-2020</b> to <b>Sep-25-2020</b>",
           0.0387,
           0.0076
          ],
          [
           "Estimated <b>true class: upmarket_card, predicted class: prepaid_card</b>",
           "<b style=\"color:#3b0280;line-height:60px\">Analysis</b>",
           "",
           "[12000:17999]",
           "From <b>Sep-25-2020</b> to <b>Oct-08-2020</b>",
           0.0391,
           0.0076
          ],
          [
           "Estimated <b>true class: upmarket_card, predicted class: prepaid_card</b>",
           "<b style=\"color:#3b0280;line-height:60px\">Analysis</b>",
           "",
           "[18000:23999]",
           "From <b>Oct-08-2020</b> to <b>Oct-20-2020</b>",
           0.0386,
           0.0076
          ],
          [
           "Estimated <b>true class: upmarket_card, predicted class: prepaid_card</b>",
           "<b style=\"color:#3b0280;line-height:60px\">Analysis</b>",
           "",
           "[24000:29999]",
           "From <b>Oct-20-2020</b> to <b>Nov-01-2020</b>",
           0.0382,
           0.0076
          ],
          [
           "Estimated <b>true class: upmarket_card, predicted class: prepaid_card</b>",
           "<b style=\"color:#3b0280;line-height:60px\">Analysis</b>",
           "<span style=\"color:#AD0000\">⚠ <b>Drift detected</b></span>",
           "[30000:35999]",
           "From <b>Nov-01-2020</b> to <b>Nov-14-2020</b>",
           0.0495,
           0.0076
          ],
          [
           "Estimated <b>true class: upmarket_card, predicted class: prepaid_card</b>",
           "<b style=\"color:#3b0280;line-height:60px\">Analysis</b>",
           "<span style=\"color:#AD0000\">⚠ <b>Drift detected</b></span>",
           "[36000:41999]",
           "From <b>Nov-14-2020</b> to <b>Nov-26-2020</b>",
           0.0503,
           0.0076
          ],
          [
           "Estimated <b>true class: upmarket_card, predicted class: prepaid_card</b>",
           "<b style=\"color:#3b0280;line-height:60px\">Analysis</b>",
           "<span style=\"color:#AD0000\">⚠ <b>Drift detected</b></span>",
           "[42000:47999]",
           "From <b>Nov-26-2020</b> to <b>Dec-08-2020</b>",
           0.0471,
           0.0076
          ],
          [
           "Estimated <b>true class: upmarket_card, predicted class: prepaid_card</b>",
           "<b style=\"color:#3b0280;line-height:60px\">Analysis</b>",
           "<span style=\"color:#AD0000\">⚠ <b>Drift detected</b></span>",
           "[48000:53999]",
           "From <b>Dec-08-2020</b> to <b>Dec-20-2020</b>",
           0.0476,
           0.0076
          ],
          [
           "Estimated <b>true class: upmarket_card, predicted class: prepaid_card</b>",
           "<b style=\"color:#3b0280;line-height:60px\">Analysis</b>",
           "<span style=\"color:#AD0000\">⚠ <b>Drift detected</b></span>",
           "[54000:59999]",
           "From <b>Dec-20-2020</b> to <b>Jan-01-2021</b>",
           0.0492,
           0.0076
          ]
         ],
         "hovertemplate": "%{customdata[1]} &nbsp; &nbsp; %{customdata[2]} <br />Chunk: <b>%{customdata[3]}</b> &nbsp; &nbsp; %{customdata[4]} <br />%{customdata[0]}: <b>%{customdata[5]}</b><br />Confidence band: +/- <b>%{customdata[6]}</b><br /><extra></extra>",
         "legendgroup": "metric_analysis",
         "line": {
          "dash": "dash"
         },
         "marker": {
          "color": "#3b0280",
          "size": 5,
          "symbol": "circle"
         },
         "mode": "markers",
         "name": "Metric",
         "showlegend": false,
         "type": "scatter",
         "x": [
          "2020-09-07T09:42:46.500000",
          "2020-09-19T18:02:48",
          "2020-10-01T23:23:49",
          "2020-10-14T09:23:20",
          "2020-10-26T18:57:02.500000",
          "2020-11-08T01:00:24",
          "2020-11-20T06:37:35.500000",
          "2020-12-02T11:56:53.500000",
          "2020-12-14T16:32:47",
          "2020-12-26T20:44:32"
         ],
         "xaxis": "x7",
         "y": [
          0.03966318019262953,
          0.03867014673486377,
          0.039093177253658844,
          0.03862003900236096,
          0.038174686903118454,
          0.04952351966853081,
          0.05026633776507603,
          0.04713761117992419,
          0.047585077796484965,
          0.04915331759269504,
          0.04915331759269504
         ],
         "yaxis": "y7"
        },
        {
         "hoverinfo": "skip",
         "legendgroup": "alert",
         "marker": {
          "color": "#DD4040",
          "size": 8,
          "symbol": "diamond"
         },
         "mode": "markers",
         "name": "Alert",
         "showlegend": false,
         "type": "scatter",
         "x": [
          "2020-11-08T01:00:24",
          "2020-11-20T06:37:35.500000",
          "2020-12-02T11:56:53.500000",
          "2020-12-14T16:32:47",
          "2020-12-26T20:44:32"
         ],
         "xaxis": "x7",
         "y": [
          0.04952351966853081,
          0.05026633776507603,
          0.04713761117992419,
          0.047585077796484965,
          0.04915331759269504
         ],
         "yaxis": "y7"
        },
        {
         "hoverinfo": "skip",
         "legendgroup": "thresh",
         "line": {
          "color": "#DD4040",
          "dash": "dash",
          "width": 2
         },
         "mode": "lines",
         "name": "Threshold",
         "showlegend": false,
         "type": "scatter",
         "x": [
          "2020-05-02T02:01:30",
          "2020-05-14T12:29:25",
          "2020-05-26T18:31:06",
          "2020-06-07T19:58:39",
          "2020-06-19T19:44:14",
          "2020-07-02T02:06:56",
          "2020-07-14T08:14:08",
          "2020-07-26T12:57:37",
          "2020-08-07T16:33:44",
          "2020-08-20T00:07:58",
          "2020-09-01T03:03:23"
         ],
         "xaxis": "x7",
         "y": [
          0.0441762833604135,
          0.0441762833604135,
          0.0441762833604135,
          0.0441762833604135,
          0.0441762833604135,
          0.0441762833604135,
          0.0441762833604135,
          0.0441762833604135,
          0.0441762833604135,
          0.0441762833604135,
          0.0441762833604135
         ],
         "yaxis": "y7"
        },
        {
         "hoverinfo": "skip",
         "legendgroup": "thresh",
         "line": {
          "color": "#DD4040",
          "dash": "dash",
          "width": 2
         },
         "mode": "lines",
         "name": "Threshold",
         "showlegend": false,
         "type": "scatter",
         "x": [
          "2020-05-02T02:01:30",
          "2020-05-14T12:29:25",
          "2020-05-26T18:31:06",
          "2020-06-07T19:58:39",
          "2020-06-19T19:44:14",
          "2020-07-02T02:06:56",
          "2020-07-14T08:14:08",
          "2020-07-26T12:57:37",
          "2020-08-07T16:33:44",
          "2020-08-20T00:07:58",
          "2020-09-01T03:03:23"
         ],
         "xaxis": "x7",
         "y": [
          0.033190383306253166,
          0.033190383306253166,
          0.033190383306253166,
          0.033190383306253166,
          0.033190383306253166,
          0.033190383306253166,
          0.033190383306253166,
          0.033190383306253166,
          0.033190383306253166,
          0.033190383306253166,
          0.033190383306253166
         ],
         "yaxis": "y7"
        },
        {
         "hoverinfo": "skip",
         "legendgroup": "thresh",
         "line": {
          "color": "#DD4040",
          "dash": "dash",
          "width": 2
         },
         "mode": "lines",
         "name": "Threshold",
         "showlegend": false,
         "type": "scatter",
         "x": [
          "2020-09-01T03:10:01",
          "2020-09-13T16:15:32",
          "2020-09-25T19:50:04",
          "2020-10-08T02:57:34",
          "2020-10-20T15:49:06",
          "2020-11-01T22:04:59",
          "2020-11-14T03:55:49",
          "2020-11-26T09:19:22",
          "2020-12-08T14:34:25",
          "2020-12-20T18:31:09",
          "2021-01-01T22:57:55"
         ],
         "xaxis": "x7",
         "y": [
          0.0441762833604135,
          0.0441762833604135,
          0.0441762833604135,
          0.0441762833604135,
          0.0441762833604135,
          0.0441762833604135,
          0.0441762833604135,
          0.0441762833604135,
          0.0441762833604135,
          0.0441762833604135,
          0.0441762833604135
         ],
         "yaxis": "y7"
        },
        {
         "hoverinfo": "skip",
         "legendgroup": "thresh",
         "line": {
          "color": "#DD4040",
          "dash": "dash",
          "width": 2
         },
         "mode": "lines",
         "name": "Threshold",
         "showlegend": false,
         "type": "scatter",
         "x": [
          "2020-09-01T03:10:01",
          "2020-09-13T16:15:32",
          "2020-09-25T19:50:04",
          "2020-10-08T02:57:34",
          "2020-10-20T15:49:06",
          "2020-11-01T22:04:59",
          "2020-11-14T03:55:49",
          "2020-11-26T09:19:22",
          "2020-12-08T14:34:25",
          "2020-12-20T18:31:09",
          "2021-01-01T22:57:55"
         ],
         "xaxis": "x7",
         "y": [
          0.033190383306253166,
          0.033190383306253166,
          0.033190383306253166,
          0.033190383306253166,
          0.033190383306253166,
          0.033190383306253166,
          0.033190383306253166,
          0.033190383306253166,
          0.033190383306253166,
          0.033190383306253166,
          0.033190383306253166
         ],
         "yaxis": "y7"
        },
        {
         "hoverinfo": "skip",
         "line": {
          "color": "rgba(0,0,0,0)",
          "shape": "hv"
         },
         "mode": "lines",
         "name": "Confidence band",
         "showlegend": false,
         "type": "scatter",
         "x": [
          "2020-05-02T02:01:30",
          "2020-05-14T12:29:25",
          "2020-05-26T18:31:06",
          "2020-06-07T19:58:39",
          "2020-06-19T19:44:14",
          "2020-07-02T02:06:56",
          "2020-07-14T08:14:08",
          "2020-07-26T12:57:37",
          "2020-08-07T16:33:44",
          "2020-08-20T00:07:58",
          "2020-09-01T03:03:23"
         ],
         "xaxis": "x7",
         "y": [
          0.046564705895818216,
          0.045603637960544216,
          0.046637565689837984,
          0.047785585640523404,
          0.04669431231642335,
          0.04757435442576837,
          0.047790355696722596,
          0.04359607515988568,
          0.04562877779076956,
          0.04624313428539959,
          0.04624313428539959
         ],
         "yaxis": "y7"
        },
        {
         "fill": "tonexty",
         "fillcolor": "rgba(0.23137254901960785, 0.00784313725490196, 0.5019607843137255, 0.2)",
         "hoverinfo": "skip",
         "line": {
          "color": "rgba(0,0,0,0)",
          "shape": "hv"
         },
         "mode": "lines",
         "name": "Confidence band",
         "showlegend": false,
         "type": "scatter",
         "x": [
          "2020-05-02T02:01:30",
          "2020-05-14T12:29:25",
          "2020-05-26T18:31:06",
          "2020-06-07T19:58:39",
          "2020-06-19T19:44:14",
          "2020-07-02T02:06:56",
          "2020-07-14T08:14:08",
          "2020-07-26T12:57:37",
          "2020-08-07T16:33:44",
          "2020-08-20T00:07:58",
          "2020-09-01T03:03:23"
         ],
         "xaxis": "x7",
         "y": [
          0.031310232508207185,
          0.030349164572933185,
          0.03138309230222695,
          0.03253111225291237,
          0.031439838928812316,
          0.03231988103815734,
          0.032535882309111565,
          0.028341601772274648,
          0.030374304403158532,
          0.03098866089778856,
          0.03098866089778856
         ],
         "yaxis": "y7"
        },
        {
         "hoverinfo": "skip",
         "line": {
          "color": "rgba(0,0,0,0)",
          "shape": "hv"
         },
         "mode": "lines",
         "name": "Confidence band",
         "showlegend": false,
         "type": "scatter",
         "x": [
          "2020-09-01T03:10:01",
          "2020-09-13T16:15:32",
          "2020-09-25T19:50:04",
          "2020-10-08T02:57:34",
          "2020-10-20T15:49:06",
          "2020-11-01T22:04:59",
          "2020-11-14T03:55:49",
          "2020-11-26T09:19:22",
          "2020-12-08T14:34:25",
          "2020-12-20T18:31:09",
          "2021-01-01T22:57:55"
         ],
         "xaxis": "x7",
         "y": [
          0.047290416886435045,
          0.046297383428669285,
          0.04672041394746436,
          0.046247275696166476,
          0.04580192359692397,
          0.057150756362336325,
          0.05789357445888155,
          0.054764847873729705,
          0.05521231449029048,
          0.056780554286500556,
          0.056780554286500556
         ],
         "yaxis": "y7"
        },
        {
         "fill": "tonexty",
         "fillcolor": "rgba(0.23137254901960785, 0.00784313725490196, 0.5019607843137255, 0.2)",
         "hoverinfo": "skip",
         "line": {
          "color": "rgba(0,0,0,0)",
          "shape": "hv"
         },
         "mode": "lines",
         "name": "Confidence band",
         "showlegend": false,
         "type": "scatter",
         "x": [
          "2020-09-01T03:10:01",
          "2020-09-13T16:15:32",
          "2020-09-25T19:50:04",
          "2020-10-08T02:57:34",
          "2020-10-20T15:49:06",
          "2020-11-01T22:04:59",
          "2020-11-14T03:55:49",
          "2020-11-26T09:19:22",
          "2020-12-08T14:34:25",
          "2020-12-20T18:31:09",
          "2021-01-01T22:57:55"
         ],
         "xaxis": "x7",
         "y": [
          0.032035943498824014,
          0.031042910041058254,
          0.03146594055985333,
          0.030992802308555445,
          0.03054745020931294,
          0.041896282974725294,
          0.042639101071270516,
          0.039510374486118674,
          0.03995784110267945,
          0.041526080898889525,
          0.041526080898889525
         ],
         "yaxis": "y7"
        },
        {
         "hoverinfo": "skip",
         "legendgroup": "metric_reference",
         "line": {
          "color": "#3b0280",
          "dash": "dash",
          "shape": "hv",
          "width": 2
         },
         "mode": "lines",
         "name": "Metric",
         "showlegend": false,
         "type": "scatter",
         "x": [
          "2020-05-02T02:01:30",
          "2020-05-14T12:29:25",
          "2020-05-26T18:31:06",
          "2020-06-07T19:58:39",
          "2020-06-19T19:44:14",
          "2020-07-02T02:06:56",
          "2020-07-14T08:14:08",
          "2020-07-26T12:57:37",
          "2020-08-07T16:33:44",
          "2020-08-20T00:07:58",
          "2020-09-01T03:03:23"
         ],
         "xaxis": "x8",
         "y": [
          0.040819969894056445,
          0.04226119850169847,
          0.040808425096922195,
          0.04260278602383858,
          0.04022772422873765,
          0.04112399464550249,
          0.0415507438265657,
          0.03957915975057593,
          0.03988442874332735,
          0.04021270514627846,
          0.04021270514627846
         ],
         "yaxis": "y8"
        },
        {
         "customdata": [
          [
           "Estimated <b>true class: upmarket_card, predicted class: highstreet_card</b>",
           "<b style=\"color:#3b0280;line-height:60px\">Reference</b>",
           "",
           "[0:5999]",
           "From <b>May-02-2020</b> to <b>May-14-2020</b>",
           0.0408,
           0.0075
          ],
          [
           "Estimated <b>true class: upmarket_card, predicted class: highstreet_card</b>",
           "<b style=\"color:#3b0280;line-height:60px\">Reference</b>",
           "",
           "[6000:11999]",
           "From <b>May-14-2020</b> to <b>May-26-2020</b>",
           0.0423,
           0.0075
          ],
          [
           "Estimated <b>true class: upmarket_card, predicted class: highstreet_card</b>",
           "<b style=\"color:#3b0280;line-height:60px\">Reference</b>",
           "",
           "[12000:17999]",
           "From <b>May-26-2020</b> to <b>Jun-07-2020</b>",
           0.0408,
           0.0075
          ],
          [
           "Estimated <b>true class: upmarket_card, predicted class: highstreet_card</b>",
           "<b style=\"color:#3b0280;line-height:60px\">Reference</b>",
           "",
           "[18000:23999]",
           "From <b>Jun-07-2020</b> to <b>Jun-19-2020</b>",
           0.0426,
           0.0075
          ],
          [
           "Estimated <b>true class: upmarket_card, predicted class: highstreet_card</b>",
           "<b style=\"color:#3b0280;line-height:60px\">Reference</b>",
           "",
           "[24000:29999]",
           "From <b>Jun-19-2020</b> to <b>Jul-02-2020</b>",
           0.0402,
           0.0075
          ],
          [
           "Estimated <b>true class: upmarket_card, predicted class: highstreet_card</b>",
           "<b style=\"color:#3b0280;line-height:60px\">Reference</b>",
           "",
           "[30000:35999]",
           "From <b>Jul-02-2020</b> to <b>Jul-14-2020</b>",
           0.0411,
           0.0075
          ],
          [
           "Estimated <b>true class: upmarket_card, predicted class: highstreet_card</b>",
           "<b style=\"color:#3b0280;line-height:60px\">Reference</b>",
           "",
           "[36000:41999]",
           "From <b>Jul-14-2020</b> to <b>Jul-26-2020</b>",
           0.0416,
           0.0075
          ],
          [
           "Estimated <b>true class: upmarket_card, predicted class: highstreet_card</b>",
           "<b style=\"color:#3b0280;line-height:60px\">Reference</b>",
           "",
           "[42000:47999]",
           "From <b>Jul-26-2020</b> to <b>Aug-07-2020</b>",
           0.0396,
           0.0075
          ],
          [
           "Estimated <b>true class: upmarket_card, predicted class: highstreet_card</b>",
           "<b style=\"color:#3b0280;line-height:60px\">Reference</b>",
           "",
           "[48000:53999]",
           "From <b>Aug-07-2020</b> to <b>Aug-20-2020</b>",
           0.0399,
           0.0075
          ],
          [
           "Estimated <b>true class: upmarket_card, predicted class: highstreet_card</b>",
           "<b style=\"color:#3b0280;line-height:60px\">Reference</b>",
           "",
           "[54000:59999]",
           "From <b>Aug-20-2020</b> to <b>Sep-01-2020</b>",
           0.0402,
           0.0075
          ]
         ],
         "hovertemplate": "%{customdata[1]} &nbsp; &nbsp; %{customdata[2]} <br />Chunk: <b>%{customdata[3]}</b> &nbsp; &nbsp; %{customdata[4]} <br />%{customdata[0]}: <b>%{customdata[5]}</b><br />Confidence band: +/- <b>%{customdata[6]}</b><br /><extra></extra>",
         "legendgroup": "metric_reference",
         "line": {
          "dash": "dash"
         },
         "marker": {
          "color": "#3b0280",
          "size": 5,
          "symbol": "circle"
         },
         "mode": "markers",
         "name": "Metric",
         "showlegend": false,
         "type": "scatter",
         "x": [
          "2020-05-08T07:15:27.500000",
          "2020-05-20T15:30:15.500000",
          "2020-06-01T19:14:52.500000",
          "2020-06-13T19:51:26.500000",
          "2020-06-25T22:55:35",
          "2020-07-08T05:10:32",
          "2020-07-20T10:35:52.500000",
          "2020-08-01T14:45:40.500000",
          "2020-08-13T20:20:51",
          "2020-08-26T01:35:40.500000"
         ],
         "xaxis": "x8",
         "y": [
          0.040819969894056445,
          0.04226119850169847,
          0.040808425096922195,
          0.04260278602383858,
          0.04022772422873765,
          0.04112399464550249,
          0.0415507438265657,
          0.03957915975057593,
          0.03988442874332735,
          0.04021270514627846,
          0.04021270514627846
         ],
         "yaxis": "y8"
        },
        {
         "hoverinfo": "skip",
         "legendgroup": "metric_analysis",
         "line": {
          "color": "#3b0280",
          "dash": "dash",
          "shape": "hv",
          "width": 2
         },
         "mode": "lines",
         "name": "Metric",
         "showlegend": false,
         "type": "scatter",
         "x": [
          "2020-09-01T03:10:01",
          "2020-09-13T16:15:32",
          "2020-09-25T19:50:04",
          "2020-10-08T02:57:34",
          "2020-10-20T15:49:06",
          "2020-11-01T22:04:59",
          "2020-11-14T03:55:49",
          "2020-11-26T09:19:22",
          "2020-12-08T14:34:25",
          "2020-12-20T18:31:09",
          "2021-01-01T22:57:55"
         ],
         "xaxis": "x8",
         "y": [
          0.04051141763851156,
          0.042351574250270634,
          0.03975063306152888,
          0.0416489801634791,
          0.04078503008697833,
          0.06305540267860875,
          0.06420491614504475,
          0.06504323738923992,
          0.062028527215279516,
          0.0635208158732312,
          0.0635208158732312
         ],
         "yaxis": "y8"
        },
        {
         "customdata": [
          [
           "Estimated <b>true class: upmarket_card, predicted class: highstreet_card</b>",
           "<b style=\"color:#3b0280;line-height:60px\">Analysis</b>",
           "",
           "[0:5999]",
           "From <b>Sep-01-2020</b> to <b>Sep-13-2020</b>",
           0.0405,
           0.0075
          ],
          [
           "Estimated <b>true class: upmarket_card, predicted class: highstreet_card</b>",
           "<b style=\"color:#3b0280;line-height:60px\">Analysis</b>",
           "",
           "[6000:11999]",
           "From <b>Sep-13-2020</b> to <b>Sep-25-2020</b>",
           0.0424,
           0.0075
          ],
          [
           "Estimated <b>true class: upmarket_card, predicted class: highstreet_card</b>",
           "<b style=\"color:#3b0280;line-height:60px\">Analysis</b>",
           "",
           "[12000:17999]",
           "From <b>Sep-25-2020</b> to <b>Oct-08-2020</b>",
           0.0398,
           0.0075
          ],
          [
           "Estimated <b>true class: upmarket_card, predicted class: highstreet_card</b>",
           "<b style=\"color:#3b0280;line-height:60px\">Analysis</b>",
           "",
           "[18000:23999]",
           "From <b>Oct-08-2020</b> to <b>Oct-20-2020</b>",
           0.0416,
           0.0075
          ],
          [
           "Estimated <b>true class: upmarket_card, predicted class: highstreet_card</b>",
           "<b style=\"color:#3b0280;line-height:60px\">Analysis</b>",
           "",
           "[24000:29999]",
           "From <b>Oct-20-2020</b> to <b>Nov-01-2020</b>",
           0.0408,
           0.0075
          ],
          [
           "Estimated <b>true class: upmarket_card, predicted class: highstreet_card</b>",
           "<b style=\"color:#3b0280;line-height:60px\">Analysis</b>",
           "<span style=\"color:#AD0000\">⚠ <b>Drift detected</b></span>",
           "[30000:35999]",
           "From <b>Nov-01-2020</b> to <b>Nov-14-2020</b>",
           0.0631,
           0.0075
          ],
          [
           "Estimated <b>true class: upmarket_card, predicted class: highstreet_card</b>",
           "<b style=\"color:#3b0280;line-height:60px\">Analysis</b>",
           "<span style=\"color:#AD0000\">⚠ <b>Drift detected</b></span>",
           "[36000:41999]",
           "From <b>Nov-14-2020</b> to <b>Nov-26-2020</b>",
           0.0642,
           0.0075
          ],
          [
           "Estimated <b>true class: upmarket_card, predicted class: highstreet_card</b>",
           "<b style=\"color:#3b0280;line-height:60px\">Analysis</b>",
           "<span style=\"color:#AD0000\">⚠ <b>Drift detected</b></span>",
           "[42000:47999]",
           "From <b>Nov-26-2020</b> to <b>Dec-08-2020</b>",
           0.065,
           0.0075
          ],
          [
           "Estimated <b>true class: upmarket_card, predicted class: highstreet_card</b>",
           "<b style=\"color:#3b0280;line-height:60px\">Analysis</b>",
           "<span style=\"color:#AD0000\">⚠ <b>Drift detected</b></span>",
           "[48000:53999]",
           "From <b>Dec-08-2020</b> to <b>Dec-20-2020</b>",
           0.062,
           0.0075
          ],
          [
           "Estimated <b>true class: upmarket_card, predicted class: highstreet_card</b>",
           "<b style=\"color:#3b0280;line-height:60px\">Analysis</b>",
           "<span style=\"color:#AD0000\">⚠ <b>Drift detected</b></span>",
           "[54000:59999]",
           "From <b>Dec-20-2020</b> to <b>Jan-01-2021</b>",
           0.0635,
           0.0075
          ]
         ],
         "hovertemplate": "%{customdata[1]} &nbsp; &nbsp; %{customdata[2]} <br />Chunk: <b>%{customdata[3]}</b> &nbsp; &nbsp; %{customdata[4]} <br />%{customdata[0]}: <b>%{customdata[5]}</b><br />Confidence band: +/- <b>%{customdata[6]}</b><br /><extra></extra>",
         "legendgroup": "metric_analysis",
         "line": {
          "dash": "dash"
         },
         "marker": {
          "color": "#3b0280",
          "size": 5,
          "symbol": "circle"
         },
         "mode": "markers",
         "name": "Metric",
         "showlegend": false,
         "type": "scatter",
         "x": [
          "2020-09-07T09:42:46.500000",
          "2020-09-19T18:02:48",
          "2020-10-01T23:23:49",
          "2020-10-14T09:23:20",
          "2020-10-26T18:57:02.500000",
          "2020-11-08T01:00:24",
          "2020-11-20T06:37:35.500000",
          "2020-12-02T11:56:53.500000",
          "2020-12-14T16:32:47",
          "2020-12-26T20:44:32"
         ],
         "xaxis": "x8",
         "y": [
          0.04051141763851156,
          0.042351574250270634,
          0.03975063306152888,
          0.0416489801634791,
          0.04078503008697833,
          0.06305540267860875,
          0.06420491614504475,
          0.06504323738923992,
          0.062028527215279516,
          0.0635208158732312,
          0.0635208158732312
         ],
         "yaxis": "y8"
        },
        {
         "hoverinfo": "skip",
         "legendgroup": "alert",
         "marker": {
          "color": "#DD4040",
          "size": 8,
          "symbol": "diamond"
         },
         "mode": "markers",
         "name": "Alert",
         "showlegend": false,
         "type": "scatter",
         "x": [
          "2020-11-08T01:00:24",
          "2020-11-20T06:37:35.500000",
          "2020-12-02T11:56:53.500000",
          "2020-12-14T16:32:47",
          "2020-12-26T20:44:32"
         ],
         "xaxis": "x8",
         "y": [
          0.06305540267860875,
          0.06420491614504475,
          0.06504323738923992,
          0.062028527215279516,
          0.0635208158732312
         ],
         "yaxis": "y8"
        },
        {
         "hoverinfo": "skip",
         "legendgroup": "thresh",
         "line": {
          "color": "#DD4040",
          "dash": "dash",
          "width": 2
         },
         "mode": "lines",
         "name": "Threshold",
         "showlegend": false,
         "type": "scatter",
         "x": [
          "2020-05-02T02:01:30",
          "2020-05-14T12:29:25",
          "2020-05-26T18:31:06",
          "2020-06-07T19:58:39",
          "2020-06-19T19:44:14",
          "2020-07-02T02:06:56",
          "2020-07-14T08:14:08",
          "2020-07-26T12:57:37",
          "2020-08-07T16:33:44",
          "2020-08-20T00:07:58",
          "2020-09-01T03:03:23"
         ],
         "xaxis": "x8",
         "y": [
          0.04600795453262385,
          0.04600795453262385,
          0.04600795453262385,
          0.04600795453262385,
          0.04600795453262385,
          0.04600795453262385,
          0.04600795453262385,
          0.04600795453262385,
          0.04600795453262385,
          0.04600795453262385,
          0.04600795453262385
         ],
         "yaxis": "y8"
        },
        {
         "hoverinfo": "skip",
         "legendgroup": "thresh",
         "line": {
          "color": "#DD4040",
          "dash": "dash",
          "width": 2
         },
         "mode": "lines",
         "name": "Threshold",
         "showlegend": false,
         "type": "scatter",
         "x": [
          "2020-05-02T02:01:30",
          "2020-05-14T12:29:25",
          "2020-05-26T18:31:06",
          "2020-06-07T19:58:39",
          "2020-06-19T19:44:14",
          "2020-07-02T02:06:56",
          "2020-07-14T08:14:08",
          "2020-07-26T12:57:37",
          "2020-08-07T16:33:44",
          "2020-08-20T00:07:58",
          "2020-09-01T03:03:23"
         ],
         "xaxis": "x8",
         "y": [
          0.03482537880070949,
          0.03482537880070949,
          0.03482537880070949,
          0.03482537880070949,
          0.03482537880070949,
          0.03482537880070949,
          0.03482537880070949,
          0.03482537880070949,
          0.03482537880070949,
          0.03482537880070949,
          0.03482537880070949
         ],
         "yaxis": "y8"
        },
        {
         "hoverinfo": "skip",
         "legendgroup": "thresh",
         "line": {
          "color": "#DD4040",
          "dash": "dash",
          "width": 2
         },
         "mode": "lines",
         "name": "Threshold",
         "showlegend": false,
         "type": "scatter",
         "x": [
          "2020-09-01T03:10:01",
          "2020-09-13T16:15:32",
          "2020-09-25T19:50:04",
          "2020-10-08T02:57:34",
          "2020-10-20T15:49:06",
          "2020-11-01T22:04:59",
          "2020-11-14T03:55:49",
          "2020-11-26T09:19:22",
          "2020-12-08T14:34:25",
          "2020-12-20T18:31:09",
          "2021-01-01T22:57:55"
         ],
         "xaxis": "x8",
         "y": [
          0.04600795453262385,
          0.04600795453262385,
          0.04600795453262385,
          0.04600795453262385,
          0.04600795453262385,
          0.04600795453262385,
          0.04600795453262385,
          0.04600795453262385,
          0.04600795453262385,
          0.04600795453262385,
          0.04600795453262385
         ],
         "yaxis": "y8"
        },
        {
         "hoverinfo": "skip",
         "legendgroup": "thresh",
         "line": {
          "color": "#DD4040",
          "dash": "dash",
          "width": 2
         },
         "mode": "lines",
         "name": "Threshold",
         "showlegend": false,
         "type": "scatter",
         "x": [
          "2020-09-01T03:10:01",
          "2020-09-13T16:15:32",
          "2020-09-25T19:50:04",
          "2020-10-08T02:57:34",
          "2020-10-20T15:49:06",
          "2020-11-01T22:04:59",
          "2020-11-14T03:55:49",
          "2020-11-26T09:19:22",
          "2020-12-08T14:34:25",
          "2020-12-20T18:31:09",
          "2021-01-01T22:57:55"
         ],
         "xaxis": "x8",
         "y": [
          0.03482537880070949,
          0.03482537880070949,
          0.03482537880070949,
          0.03482537880070949,
          0.03482537880070949,
          0.03482537880070949,
          0.03482537880070949,
          0.03482537880070949,
          0.03482537880070949,
          0.03482537880070949,
          0.03482537880070949
         ],
         "yaxis": "y8"
        },
        {
         "hoverinfo": "skip",
         "line": {
          "color": "rgba(0,0,0,0)",
          "shape": "hv"
         },
         "mode": "lines",
         "name": "Confidence band",
         "showlegend": false,
         "type": "scatter",
         "x": [
          "2020-05-02T02:01:30",
          "2020-05-14T12:29:25",
          "2020-05-26T18:31:06",
          "2020-06-07T19:58:39",
          "2020-06-19T19:44:14",
          "2020-07-02T02:06:56",
          "2020-07-14T08:14:08",
          "2020-07-26T12:57:37",
          "2020-08-07T16:33:44",
          "2020-08-20T00:07:58",
          "2020-09-01T03:03:23"
         ],
         "xaxis": "x8",
         "y": [
          0.04828859758482623,
          0.049729826192468254,
          0.04827705278769198,
          0.05007141371460837,
          0.04769635191950744,
          0.048592622336272276,
          0.049019371517335486,
          0.04704778744134572,
          0.04735305643409714,
          0.04768133283704825,
          0.04768133283704825
         ],
         "yaxis": "y8"
        },
        {
         "fill": "tonexty",
         "fillcolor": "rgba(0.23137254901960785, 0.00784313725490196, 0.5019607843137255, 0.2)",
         "hoverinfo": "skip",
         "line": {
          "color": "rgba(0,0,0,0)",
          "shape": "hv"
         },
         "mode": "lines",
         "name": "Confidence band",
         "showlegend": false,
         "type": "scatter",
         "x": [
          "2020-05-02T02:01:30",
          "2020-05-14T12:29:25",
          "2020-05-26T18:31:06",
          "2020-06-07T19:58:39",
          "2020-06-19T19:44:14",
          "2020-07-02T02:06:56",
          "2020-07-14T08:14:08",
          "2020-07-26T12:57:37",
          "2020-08-07T16:33:44",
          "2020-08-20T00:07:58",
          "2020-09-01T03:03:23"
         ],
         "xaxis": "x8",
         "y": [
          0.03335134220328666,
          0.03479257081092868,
          0.03333979740615241,
          0.03513415833306879,
          0.032759096537967866,
          0.0336553669547327,
          0.03408211613579591,
          0.03211053205980614,
          0.032415801052557563,
          0.032744077455508676,
          0.032744077455508676
         ],
         "yaxis": "y8"
        },
        {
         "hoverinfo": "skip",
         "line": {
          "color": "rgba(0,0,0,0)",
          "shape": "hv"
         },
         "mode": "lines",
         "name": "Confidence band",
         "showlegend": false,
         "type": "scatter",
         "x": [
          "2020-09-01T03:10:01",
          "2020-09-13T16:15:32",
          "2020-09-25T19:50:04",
          "2020-10-08T02:57:34",
          "2020-10-20T15:49:06",
          "2020-11-01T22:04:59",
          "2020-11-14T03:55:49",
          "2020-11-26T09:19:22",
          "2020-12-08T14:34:25",
          "2020-12-20T18:31:09",
          "2021-01-01T22:57:55"
         ],
         "xaxis": "x8",
         "y": [
          0.047980045329281344,
          0.04982020194104042,
          0.04721926075229867,
          0.04911760785424889,
          0.048253657777748114,
          0.07052403036937854,
          0.07167354383581455,
          0.07251186508000972,
          0.06949715490604931,
          0.070989443564001,
          0.070989443564001
         ],
         "yaxis": "y8"
        },
        {
         "fill": "tonexty",
         "fillcolor": "rgba(0.23137254901960785, 0.00784313725490196, 0.5019607843137255, 0.2)",
         "hoverinfo": "skip",
         "line": {
          "color": "rgba(0,0,0,0)",
          "shape": "hv"
         },
         "mode": "lines",
         "name": "Confidence band",
         "showlegend": false,
         "type": "scatter",
         "x": [
          "2020-09-01T03:10:01",
          "2020-09-13T16:15:32",
          "2020-09-25T19:50:04",
          "2020-10-08T02:57:34",
          "2020-10-20T15:49:06",
          "2020-11-01T22:04:59",
          "2020-11-14T03:55:49",
          "2020-11-26T09:19:22",
          "2020-12-08T14:34:25",
          "2020-12-20T18:31:09",
          "2021-01-01T22:57:55"
         ],
         "xaxis": "x8",
         "y": [
          0.03304278994774177,
          0.034882946559500846,
          0.03228200537075909,
          0.03418035247270931,
          0.03331640239620854,
          0.05558677498783896,
          0.05673628845427497,
          0.057574609698470135,
          0.05455989952450973,
          0.05605218818246142,
          0.05605218818246142
         ],
         "yaxis": "y8"
        },
        {
         "hoverinfo": "skip",
         "legendgroup": "metric_reference",
         "line": {
          "color": "#3b0280",
          "dash": "dash",
          "shape": "hv",
          "width": 2
         },
         "mode": "lines",
         "name": "Metric",
         "showlegend": false,
         "type": "scatter",
         "x": [
          "2020-05-02T02:01:30",
          "2020-05-14T12:29:25",
          "2020-05-26T18:31:06",
          "2020-06-07T19:58:39",
          "2020-06-19T19:44:14",
          "2020-07-02T02:06:56",
          "2020-07-14T08:14:08",
          "2020-07-26T12:57:37",
          "2020-08-07T16:33:44",
          "2020-08-20T00:07:58",
          "2020-09-01T03:03:23"
         ],
         "xaxis": "x9",
         "y": [
          0.24876304858525639,
          0.24749107315939514,
          0.24786535406413607,
          0.24485731489174278,
          0.25426840870410206,
          0.2506233159060472,
          0.2453795631217167,
          0.25144096415720774,
          0.25578187861745216,
          0.25692759602972765,
          0.25692759602972765
         ],
         "yaxis": "y9"
        },
        {
         "customdata": [
          [
           "Estimated <b>true class: upmarket_card, predicted class: upmarket_card</b>",
           "<b style=\"color:#3b0280;line-height:60px\">Reference</b>",
           "",
           "[0:5999]",
           "From <b>May-02-2020</b> to <b>May-14-2020</b>",
           0.2488,
           0.0168
          ],
          [
           "Estimated <b>true class: upmarket_card, predicted class: upmarket_card</b>",
           "<b style=\"color:#3b0280;line-height:60px\">Reference</b>",
           "",
           "[6000:11999]",
           "From <b>May-14-2020</b> to <b>May-26-2020</b>",
           0.2475,
           0.0168
          ],
          [
           "Estimated <b>true class: upmarket_card, predicted class: upmarket_card</b>",
           "<b style=\"color:#3b0280;line-height:60px\">Reference</b>",
           "",
           "[12000:17999]",
           "From <b>May-26-2020</b> to <b>Jun-07-2020</b>",
           0.2479,
           0.0168
          ],
          [
           "Estimated <b>true class: upmarket_card, predicted class: upmarket_card</b>",
           "<b style=\"color:#3b0280;line-height:60px\">Reference</b>",
           "",
           "[18000:23999]",
           "From <b>Jun-07-2020</b> to <b>Jun-19-2020</b>",
           0.2449,
           0.0168
          ],
          [
           "Estimated <b>true class: upmarket_card, predicted class: upmarket_card</b>",
           "<b style=\"color:#3b0280;line-height:60px\">Reference</b>",
           "",
           "[24000:29999]",
           "From <b>Jun-19-2020</b> to <b>Jul-02-2020</b>",
           0.2543,
           0.0168
          ],
          [
           "Estimated <b>true class: upmarket_card, predicted class: upmarket_card</b>",
           "<b style=\"color:#3b0280;line-height:60px\">Reference</b>",
           "",
           "[30000:35999]",
           "From <b>Jul-02-2020</b> to <b>Jul-14-2020</b>",
           0.2506,
           0.0168
          ],
          [
           "Estimated <b>true class: upmarket_card, predicted class: upmarket_card</b>",
           "<b style=\"color:#3b0280;line-height:60px\">Reference</b>",
           "",
           "[36000:41999]",
           "From <b>Jul-14-2020</b> to <b>Jul-26-2020</b>",
           0.2454,
           0.0168
          ],
          [
           "Estimated <b>true class: upmarket_card, predicted class: upmarket_card</b>",
           "<b style=\"color:#3b0280;line-height:60px\">Reference</b>",
           "",
           "[42000:47999]",
           "From <b>Jul-26-2020</b> to <b>Aug-07-2020</b>",
           0.2514,
           0.0168
          ],
          [
           "Estimated <b>true class: upmarket_card, predicted class: upmarket_card</b>",
           "<b style=\"color:#3b0280;line-height:60px\">Reference</b>",
           "",
           "[48000:53999]",
           "From <b>Aug-07-2020</b> to <b>Aug-20-2020</b>",
           0.2558,
           0.0168
          ],
          [
           "Estimated <b>true class: upmarket_card, predicted class: upmarket_card</b>",
           "<b style=\"color:#3b0280;line-height:60px\">Reference</b>",
           "",
           "[54000:59999]",
           "From <b>Aug-20-2020</b> to <b>Sep-01-2020</b>",
           0.2569,
           0.0168
          ]
         ],
         "hovertemplate": "%{customdata[1]} &nbsp; &nbsp; %{customdata[2]} <br />Chunk: <b>%{customdata[3]}</b> &nbsp; &nbsp; %{customdata[4]} <br />%{customdata[0]}: <b>%{customdata[5]}</b><br />Confidence band: +/- <b>%{customdata[6]}</b><br /><extra></extra>",
         "legendgroup": "metric_reference",
         "line": {
          "dash": "dash"
         },
         "marker": {
          "color": "#3b0280",
          "size": 5,
          "symbol": "circle"
         },
         "mode": "markers",
         "name": "Metric",
         "showlegend": false,
         "type": "scatter",
         "x": [
          "2020-05-08T07:15:27.500000",
          "2020-05-20T15:30:15.500000",
          "2020-06-01T19:14:52.500000",
          "2020-06-13T19:51:26.500000",
          "2020-06-25T22:55:35",
          "2020-07-08T05:10:32",
          "2020-07-20T10:35:52.500000",
          "2020-08-01T14:45:40.500000",
          "2020-08-13T20:20:51",
          "2020-08-26T01:35:40.500000"
         ],
         "xaxis": "x9",
         "y": [
          0.24876304858525639,
          0.24749107315939514,
          0.24786535406413607,
          0.24485731489174278,
          0.25426840870410206,
          0.2506233159060472,
          0.2453795631217167,
          0.25144096415720774,
          0.25578187861745216,
          0.25692759602972765,
          0.25692759602972765
         ],
         "yaxis": "y9"
        },
        {
         "hoverinfo": "skip",
         "legendgroup": "metric_analysis",
         "line": {
          "color": "#3b0280",
          "dash": "dash",
          "shape": "hv",
          "width": 2
         },
         "mode": "lines",
         "name": "Metric",
         "showlegend": false,
         "type": "scatter",
         "x": [
          "2020-09-01T03:10:01",
          "2020-09-13T16:15:32",
          "2020-09-25T19:50:04",
          "2020-10-08T02:57:34",
          "2020-10-20T15:49:06",
          "2020-11-01T22:04:59",
          "2020-11-14T03:55:49",
          "2020-11-26T09:19:22",
          "2020-12-08T14:34:25",
          "2020-12-20T18:31:09",
          "2021-01-01T22:57:55"
         ],
         "xaxis": "x9",
         "y": [
          0.24442510562012784,
          0.2474298833095487,
          0.25366874121124144,
          0.2566984192199974,
          0.2568425025346167,
          0.20546556277717953,
          0.1973820937607162,
          0.19602166337156632,
          0.20247447047287853,
          0.20623755792523274,
          0.20623755792523274
         ],
         "yaxis": "y9"
        },
        {
         "customdata": [
          [
           "Estimated <b>true class: upmarket_card, predicted class: upmarket_card</b>",
           "<b style=\"color:#3b0280;line-height:60px\">Analysis</b>",
           "",
           "[0:5999]",
           "From <b>Sep-01-2020</b> to <b>Sep-13-2020</b>",
           0.2444,
           0.0168
          ],
          [
           "Estimated <b>true class: upmarket_card, predicted class: upmarket_card</b>",
           "<b style=\"color:#3b0280;line-height:60px\">Analysis</b>",
           "",
           "[6000:11999]",
           "From <b>Sep-13-2020</b> to <b>Sep-25-2020</b>",
           0.2474,
           0.0168
          ],
          [
           "Estimated <b>true class: upmarket_card, predicted class: upmarket_card</b>",
           "<b style=\"color:#3b0280;line-height:60px\">Analysis</b>",
           "",
           "[12000:17999]",
           "From <b>Sep-25-2020</b> to <b>Oct-08-2020</b>",
           0.2537,
           0.0168
          ],
          [
           "Estimated <b>true class: upmarket_card, predicted class: upmarket_card</b>",
           "<b style=\"color:#3b0280;line-height:60px\">Analysis</b>",
           "",
           "[18000:23999]",
           "From <b>Oct-08-2020</b> to <b>Oct-20-2020</b>",
           0.2567,
           0.0168
          ],
          [
           "Estimated <b>true class: upmarket_card, predicted class: upmarket_card</b>",
           "<b style=\"color:#3b0280;line-height:60px\">Analysis</b>",
           "",
           "[24000:29999]",
           "From <b>Oct-20-2020</b> to <b>Nov-01-2020</b>",
           0.2568,
           0.0168
          ],
          [
           "Estimated <b>true class: upmarket_card, predicted class: upmarket_card</b>",
           "<b style=\"color:#3b0280;line-height:60px\">Analysis</b>",
           "<span style=\"color:#AD0000\">⚠ <b>Drift detected</b></span>",
           "[30000:35999]",
           "From <b>Nov-01-2020</b> to <b>Nov-14-2020</b>",
           0.2055,
           0.0168
          ],
          [
           "Estimated <b>true class: upmarket_card, predicted class: upmarket_card</b>",
           "<b style=\"color:#3b0280;line-height:60px\">Analysis</b>",
           "<span style=\"color:#AD0000\">⚠ <b>Drift detected</b></span>",
           "[36000:41999]",
           "From <b>Nov-14-2020</b> to <b>Nov-26-2020</b>",
           0.1974,
           0.0168
          ],
          [
           "Estimated <b>true class: upmarket_card, predicted class: upmarket_card</b>",
           "<b style=\"color:#3b0280;line-height:60px\">Analysis</b>",
           "<span style=\"color:#AD0000\">⚠ <b>Drift detected</b></span>",
           "[42000:47999]",
           "From <b>Nov-26-2020</b> to <b>Dec-08-2020</b>",
           0.196,
           0.0168
          ],
          [
           "Estimated <b>true class: upmarket_card, predicted class: upmarket_card</b>",
           "<b style=\"color:#3b0280;line-height:60px\">Analysis</b>",
           "<span style=\"color:#AD0000\">⚠ <b>Drift detected</b></span>",
           "[48000:53999]",
           "From <b>Dec-08-2020</b> to <b>Dec-20-2020</b>",
           0.2025,
           0.0168
          ],
          [
           "Estimated <b>true class: upmarket_card, predicted class: upmarket_card</b>",
           "<b style=\"color:#3b0280;line-height:60px\">Analysis</b>",
           "<span style=\"color:#AD0000\">⚠ <b>Drift detected</b></span>",
           "[54000:59999]",
           "From <b>Dec-20-2020</b> to <b>Jan-01-2021</b>",
           0.2062,
           0.0168
          ]
         ],
         "hovertemplate": "%{customdata[1]} &nbsp; &nbsp; %{customdata[2]} <br />Chunk: <b>%{customdata[3]}</b> &nbsp; &nbsp; %{customdata[4]} <br />%{customdata[0]}: <b>%{customdata[5]}</b><br />Confidence band: +/- <b>%{customdata[6]}</b><br /><extra></extra>",
         "legendgroup": "metric_analysis",
         "line": {
          "dash": "dash"
         },
         "marker": {
          "color": "#3b0280",
          "size": 5,
          "symbol": "circle"
         },
         "mode": "markers",
         "name": "Metric",
         "showlegend": false,
         "type": "scatter",
         "x": [
          "2020-09-07T09:42:46.500000",
          "2020-09-19T18:02:48",
          "2020-10-01T23:23:49",
          "2020-10-14T09:23:20",
          "2020-10-26T18:57:02.500000",
          "2020-11-08T01:00:24",
          "2020-11-20T06:37:35.500000",
          "2020-12-02T11:56:53.500000",
          "2020-12-14T16:32:47",
          "2020-12-26T20:44:32"
         ],
         "xaxis": "x9",
         "y": [
          0.24442510562012784,
          0.2474298833095487,
          0.25366874121124144,
          0.2566984192199974,
          0.2568425025346167,
          0.20546556277717953,
          0.1973820937607162,
          0.19602166337156632,
          0.20247447047287853,
          0.20623755792523274,
          0.20623755792523274
         ],
         "yaxis": "y9"
        },
        {
         "hoverinfo": "skip",
         "legendgroup": "alert",
         "marker": {
          "color": "#DD4040",
          "size": 8,
          "symbol": "diamond"
         },
         "mode": "markers",
         "name": "Alert",
         "showlegend": false,
         "type": "scatter",
         "x": [
          "2020-11-08T01:00:24",
          "2020-11-20T06:37:35.500000",
          "2020-12-02T11:56:53.500000",
          "2020-12-14T16:32:47",
          "2020-12-26T20:44:32"
         ],
         "xaxis": "x9",
         "y": [
          0.20546556277717953,
          0.1973820937607162,
          0.19602166337156632,
          0.20247447047287853,
          0.20623755792523274
         ],
         "yaxis": "y9"
        },
        {
         "hoverinfo": "skip",
         "legendgroup": "thresh",
         "line": {
          "color": "#DD4040",
          "dash": "dash",
          "width": 2
         },
         "mode": "lines",
         "name": "Threshold",
         "showlegend": false,
         "type": "scatter",
         "x": [
          "2020-05-02T02:01:30",
          "2020-05-14T12:29:25",
          "2020-05-26T18:31:06",
          "2020-06-07T19:58:39",
          "2020-06-19T19:44:14",
          "2020-07-02T02:06:56",
          "2020-07-14T08:14:08",
          "2020-07-26T12:57:37",
          "2020-08-07T16:33:44",
          "2020-08-20T00:07:58",
          "2020-09-01T03:03:23"
         ],
         "xaxis": "x9",
         "y": [
          0.2701062652451454,
          0.2701062652451454,
          0.2701062652451454,
          0.2701062652451454,
          0.2701062652451454,
          0.2701062652451454,
          0.2701062652451454,
          0.2701062652451454,
          0.2701062652451454,
          0.2701062652451454,
          0.2701062652451454
         ],
         "yaxis": "y9"
        },
        {
         "hoverinfo": "skip",
         "legendgroup": "thresh",
         "line": {
          "color": "#DD4040",
          "dash": "dash",
          "width": 2
         },
         "mode": "lines",
         "name": "Threshold",
         "showlegend": false,
         "type": "scatter",
         "x": [
          "2020-05-02T02:01:30",
          "2020-05-14T12:29:25",
          "2020-05-26T18:31:06",
          "2020-06-07T19:58:39",
          "2020-06-19T19:44:14",
          "2020-07-02T02:06:56",
          "2020-07-14T08:14:08",
          "2020-07-26T12:57:37",
          "2020-08-07T16:33:44",
          "2020-08-20T00:07:58",
          "2020-09-01T03:03:23"
         ],
         "xaxis": "x9",
         "y": [
          0.23622706808818789,
          0.23622706808818789,
          0.23622706808818789,
          0.23622706808818789,
          0.23622706808818789,
          0.23622706808818789,
          0.23622706808818789,
          0.23622706808818789,
          0.23622706808818789,
          0.23622706808818789,
          0.23622706808818789
         ],
         "yaxis": "y9"
        },
        {
         "hoverinfo": "skip",
         "legendgroup": "thresh",
         "line": {
          "color": "#DD4040",
          "dash": "dash",
          "width": 2
         },
         "mode": "lines",
         "name": "Threshold",
         "showlegend": false,
         "type": "scatter",
         "x": [
          "2020-09-01T03:10:01",
          "2020-09-13T16:15:32",
          "2020-09-25T19:50:04",
          "2020-10-08T02:57:34",
          "2020-10-20T15:49:06",
          "2020-11-01T22:04:59",
          "2020-11-14T03:55:49",
          "2020-11-26T09:19:22",
          "2020-12-08T14:34:25",
          "2020-12-20T18:31:09",
          "2021-01-01T22:57:55"
         ],
         "xaxis": "x9",
         "y": [
          0.2701062652451454,
          0.2701062652451454,
          0.2701062652451454,
          0.2701062652451454,
          0.2701062652451454,
          0.2701062652451454,
          0.2701062652451454,
          0.2701062652451454,
          0.2701062652451454,
          0.2701062652451454,
          0.2701062652451454
         ],
         "yaxis": "y9"
        },
        {
         "hoverinfo": "skip",
         "legendgroup": "thresh",
         "line": {
          "color": "#DD4040",
          "dash": "dash",
          "width": 2
         },
         "mode": "lines",
         "name": "Threshold",
         "showlegend": false,
         "type": "scatter",
         "x": [
          "2020-09-01T03:10:01",
          "2020-09-13T16:15:32",
          "2020-09-25T19:50:04",
          "2020-10-08T02:57:34",
          "2020-10-20T15:49:06",
          "2020-11-01T22:04:59",
          "2020-11-14T03:55:49",
          "2020-11-26T09:19:22",
          "2020-12-08T14:34:25",
          "2020-12-20T18:31:09",
          "2021-01-01T22:57:55"
         ],
         "xaxis": "x9",
         "y": [
          0.23622706808818789,
          0.23622706808818789,
          0.23622706808818789,
          0.23622706808818789,
          0.23622706808818789,
          0.23622706808818789,
          0.23622706808818789,
          0.23622706808818789,
          0.23622706808818789,
          0.23622706808818789,
          0.23622706808818789
         ],
         "yaxis": "y9"
        },
        {
         "hoverinfo": "skip",
         "line": {
          "color": "rgba(0,0,0,0)",
          "shape": "hv"
         },
         "mode": "lines",
         "name": "Confidence band",
         "showlegend": false,
         "type": "scatter",
         "x": [
          "2020-05-02T02:01:30",
          "2020-05-14T12:29:25",
          "2020-05-26T18:31:06",
          "2020-06-07T19:58:39",
          "2020-06-19T19:44:14",
          "2020-07-02T02:06:56",
          "2020-07-14T08:14:08",
          "2020-07-26T12:57:37",
          "2020-08-07T16:33:44",
          "2020-08-20T00:07:58",
          "2020-09-01T03:03:23"
         ],
         "xaxis": "x9",
         "y": [
          0.2656037717981512,
          0.26433179637228993,
          0.2647060772770309,
          0.26169803810463754,
          0.2711091319169968,
          0.267464039118942,
          0.2622202863346115,
          0.2682816873701025,
          0.2726226018303469,
          0.27376831924262246,
          0.27376831924262246
         ],
         "yaxis": "y9"
        },
        {
         "fill": "tonexty",
         "fillcolor": "rgba(0.23137254901960785, 0.00784313725490196, 0.5019607843137255, 0.2)",
         "hoverinfo": "skip",
         "line": {
          "color": "rgba(0,0,0,0)",
          "shape": "hv"
         },
         "mode": "lines",
         "name": "Confidence band",
         "showlegend": false,
         "type": "scatter",
         "x": [
          "2020-05-02T02:01:30",
          "2020-05-14T12:29:25",
          "2020-05-26T18:31:06",
          "2020-06-07T19:58:39",
          "2020-06-19T19:44:14",
          "2020-07-02T02:06:56",
          "2020-07-14T08:14:08",
          "2020-07-26T12:57:37",
          "2020-08-07T16:33:44",
          "2020-08-20T00:07:58",
          "2020-09-01T03:03:23"
         ],
         "xaxis": "x9",
         "y": [
          0.2319223253723616,
          0.23065034994650035,
          0.23102463085124128,
          0.228016591678848,
          0.23742768549120727,
          0.2337825926931524,
          0.2285388399088219,
          0.23460024094431295,
          0.23894115540455738,
          0.24008687281683286,
          0.24008687281683286
         ],
         "yaxis": "y9"
        },
        {
         "hoverinfo": "skip",
         "line": {
          "color": "rgba(0,0,0,0)",
          "shape": "hv"
         },
         "mode": "lines",
         "name": "Confidence band",
         "showlegend": false,
         "type": "scatter",
         "x": [
          "2020-09-01T03:10:01",
          "2020-09-13T16:15:32",
          "2020-09-25T19:50:04",
          "2020-10-08T02:57:34",
          "2020-10-20T15:49:06",
          "2020-11-01T22:04:59",
          "2020-11-14T03:55:49",
          "2020-11-26T09:19:22",
          "2020-12-08T14:34:25",
          "2020-12-20T18:31:09",
          "2021-01-01T22:57:55"
         ],
         "xaxis": "x9",
         "y": [
          0.26126582883302263,
          0.2642706065224435,
          0.27050946442413626,
          0.27353914243289223,
          0.27368322574751147,
          0.22230628599007432,
          0.21422281697361098,
          0.2128623865844611,
          0.21931519368577332,
          0.22307828113812753,
          0.22307828113812753
         ],
         "yaxis": "y9"
        },
        {
         "fill": "tonexty",
         "fillcolor": "rgba(0.23137254901960785, 0.00784313725490196, 0.5019607843137255, 0.2)",
         "hoverinfo": "skip",
         "line": {
          "color": "rgba(0,0,0,0)",
          "shape": "hv"
         },
         "mode": "lines",
         "name": "Confidence band",
         "showlegend": false,
         "type": "scatter",
         "x": [
          "2020-09-01T03:10:01",
          "2020-09-13T16:15:32",
          "2020-09-25T19:50:04",
          "2020-10-08T02:57:34",
          "2020-10-20T15:49:06",
          "2020-11-01T22:04:59",
          "2020-11-14T03:55:49",
          "2020-11-26T09:19:22",
          "2020-12-08T14:34:25",
          "2020-12-20T18:31:09",
          "2021-01-01T22:57:55"
         ],
         "xaxis": "x9",
         "y": [
          0.22758438240723305,
          0.23058916009665392,
          0.23682801799834666,
          0.23985769600710263,
          0.24000177932172193,
          0.18862483956428475,
          0.1805413705478214,
          0.17918094015867153,
          0.18563374725998374,
          0.18939683471233795,
          0.18939683471233795
         ],
         "yaxis": "y9"
        }
       ],
       "layout": {
        "annotations": [
         {
          "font": {
           "size": 16
          },
          "showarrow": false,
          "text": "Estimated <b>true class: prepaid_card, predicted class: prepaid_card</b>",
          "x": 0.5,
          "xanchor": "center",
          "xref": "paper",
          "y": 1,
          "yanchor": "bottom",
          "yref": "paper"
         },
         {
          "font": {
           "size": 16
          },
          "showarrow": false,
          "text": "Estimated <b>true class: prepaid_card, predicted class: highstreet_card</b>",
          "x": 0.5,
          "xanchor": "center",
          "xref": "paper",
          "y": 0.8827160493827161,
          "yanchor": "bottom",
          "yref": "paper"
         },
         {
          "font": {
           "size": 16
          },
          "showarrow": false,
          "text": "Estimated <b>true class: prepaid_card, predicted class: upmarket_card</b>",
          "x": 0.5,
          "xanchor": "center",
          "xref": "paper",
          "y": 0.7654320987654322,
          "yanchor": "bottom",
          "yref": "paper"
         },
         {
          "font": {
           "size": 16
          },
          "showarrow": false,
          "text": "Estimated <b>true class: highstreet_card, predicted class: prepaid_card</b>",
          "x": 0.5,
          "xanchor": "center",
          "xref": "paper",
          "y": 0.6481481481481483,
          "yanchor": "bottom",
          "yref": "paper"
         },
         {
          "font": {
           "size": 16
          },
          "showarrow": false,
          "text": "Estimated <b>true class: highstreet_card, predicted class: highstreet_card</b>",
          "x": 0.5,
          "xanchor": "center",
          "xref": "paper",
          "y": 0.5308641975308642,
          "yanchor": "bottom",
          "yref": "paper"
         },
         {
          "font": {
           "size": 16
          },
          "showarrow": false,
          "text": "Estimated <b>true class: highstreet_card, predicted class: upmarket_card</b>",
          "x": 0.5,
          "xanchor": "center",
          "xref": "paper",
          "y": 0.41358024691358025,
          "yanchor": "bottom",
          "yref": "paper"
         },
         {
          "font": {
           "size": 16
          },
          "showarrow": false,
          "text": "Estimated <b>true class: upmarket_card, predicted class: prepaid_card</b>",
          "x": 0.5,
          "xanchor": "center",
          "xref": "paper",
          "y": 0.2962962962962963,
          "yanchor": "bottom",
          "yref": "paper"
         },
         {
          "font": {
           "size": 16
          },
          "showarrow": false,
          "text": "Estimated <b>true class: upmarket_card, predicted class: highstreet_card</b>",
          "x": 0.5,
          "xanchor": "center",
          "xref": "paper",
          "y": 0.17901234567901234,
          "yanchor": "bottom",
          "yref": "paper"
         },
         {
          "font": {
           "size": 16
          },
          "showarrow": false,
          "text": "Estimated <b>true class: upmarket_card, predicted class: upmarket_card</b>",
          "x": 0.5,
          "xanchor": "center",
          "xref": "paper",
          "y": 0.0617283950617284,
          "yanchor": "bottom",
          "yref": "paper"
         },
         {
          "showarrow": false,
          "text": "Reference",
          "x": "2020-06-26T01:40:31.700000",
          "xref": "x",
          "xshift": 10,
          "y": 1.01,
          "yref": "y domain"
         },
         {
          "showarrow": false,
          "text": "Analysis",
          "x": "2020-10-26T15:02:48.100000",
          "xref": "x",
          "xshift": 15,
          "y": 1.01,
          "yref": "y domain"
         },
         {
          "showarrow": false,
          "text": "Reference",
          "x": "2020-06-26T01:40:31.700000",
          "xref": "x2",
          "xshift": 10,
          "y": 1.01,
          "yref": "y2 domain"
         },
         {
          "showarrow": false,
          "text": "Analysis",
          "x": "2020-10-26T15:02:48.100000",
          "xref": "x2",
          "xshift": 15,
          "y": 1.01,
          "yref": "y2 domain"
         },
         {
          "showarrow": false,
          "text": "Reference",
          "x": "2020-06-26T01:40:31.700000",
          "xref": "x3",
          "xshift": 10,
          "y": 1.01,
          "yref": "y3 domain"
         },
         {
          "showarrow": false,
          "text": "Analysis",
          "x": "2020-10-26T15:02:48.100000",
          "xref": "x3",
          "xshift": 15,
          "y": 1.01,
          "yref": "y3 domain"
         },
         {
          "showarrow": false,
          "text": "Reference",
          "x": "2020-06-26T01:40:31.700000",
          "xref": "x4",
          "xshift": 10,
          "y": 1.01,
          "yref": "y4 domain"
         },
         {
          "showarrow": false,
          "text": "Analysis",
          "x": "2020-10-26T15:02:48.100000",
          "xref": "x4",
          "xshift": 15,
          "y": 1.01,
          "yref": "y4 domain"
         },
         {
          "showarrow": false,
          "text": "Reference",
          "x": "2020-06-26T01:40:31.700000",
          "xref": "x5",
          "xshift": 10,
          "y": 1.01,
          "yref": "y5 domain"
         },
         {
          "showarrow": false,
          "text": "Analysis",
          "x": "2020-10-26T15:02:48.100000",
          "xref": "x5",
          "xshift": 15,
          "y": 1.01,
          "yref": "y5 domain"
         },
         {
          "showarrow": false,
          "text": "Reference",
          "x": "2020-06-26T01:40:31.700000",
          "xref": "x6",
          "xshift": 10,
          "y": 1.01,
          "yref": "y6 domain"
         },
         {
          "showarrow": false,
          "text": "Analysis",
          "x": "2020-10-26T15:02:48.100000",
          "xref": "x6",
          "xshift": 15,
          "y": 1.01,
          "yref": "y6 domain"
         },
         {
          "showarrow": false,
          "text": "Reference",
          "x": "2020-06-26T01:40:31.700000",
          "xref": "x7",
          "xshift": 10,
          "y": 1.01,
          "yref": "y7 domain"
         },
         {
          "showarrow": false,
          "text": "Analysis",
          "x": "2020-10-26T15:02:48.100000",
          "xref": "x7",
          "xshift": 15,
          "y": 1.01,
          "yref": "y7 domain"
         },
         {
          "showarrow": false,
          "text": "Reference",
          "x": "2020-06-26T01:40:31.700000",
          "xref": "x8",
          "xshift": 10,
          "y": 1.01,
          "yref": "y8 domain"
         },
         {
          "showarrow": false,
          "text": "Analysis",
          "x": "2020-10-26T15:02:48.100000",
          "xref": "x8",
          "xshift": 15,
          "y": 1.01,
          "yref": "y8 domain"
         },
         {
          "showarrow": false,
          "text": "Reference",
          "x": "2020-06-26T01:40:31.700000",
          "xref": "x9",
          "xshift": 10,
          "y": 1.01,
          "yref": "y9 domain"
         },
         {
          "showarrow": false,
          "text": "Analysis",
          "x": "2020-10-26T15:02:48.100000",
          "xref": "x9",
          "xshift": 15,
          "y": 1.01,
          "yref": "y9 domain"
         }
        ],
        "height": 4500,
        "hoverlabel": {
         "bgcolor": "white",
         "font": {
          "size": 14
         }
        },
        "legend": {
         "itemclick": false,
         "itemdoubleclick": false,
         "traceorder": "grouped"
        },
        "paper_bgcolor": "rgba(255,255,255,1)",
        "plot_bgcolor": "rgba(255,255,255,1)",
        "shapes": [
         {
          "layer": "below",
          "line": {
           "color": "#666666",
           "width": 1
          },
          "type": "line",
          "x0": "2020-09-01T03:10:01",
          "x1": "2020-09-01T03:10:01",
          "xref": "x",
          "y0": 0,
          "y1": 1,
          "yref": "y domain"
         },
         {
          "layer": "below",
          "line": {
           "color": "#666666",
           "width": 1
          },
          "type": "line",
          "x0": "2020-09-01T03:10:01",
          "x1": "2020-09-01T03:10:01",
          "xref": "x",
          "y0": 0,
          "y1": 1,
          "yref": "y domain"
         },
         {
          "layer": "below",
          "line": {
           "color": "#666666",
           "width": 1
          },
          "type": "line",
          "x0": "2020-09-01T03:10:01",
          "x1": "2020-09-01T03:10:01",
          "xref": "x2",
          "y0": 0,
          "y1": 1,
          "yref": "y2 domain"
         },
         {
          "layer": "below",
          "line": {
           "color": "#666666",
           "width": 1
          },
          "type": "line",
          "x0": "2020-09-01T03:10:01",
          "x1": "2020-09-01T03:10:01",
          "xref": "x",
          "y0": 0,
          "y1": 1,
          "yref": "y domain"
         },
         {
          "layer": "below",
          "line": {
           "color": "#666666",
           "width": 1
          },
          "type": "line",
          "x0": "2020-09-01T03:10:01",
          "x1": "2020-09-01T03:10:01",
          "xref": "x2",
          "y0": 0,
          "y1": 1,
          "yref": "y2 domain"
         },
         {
          "layer": "below",
          "line": {
           "color": "#666666",
           "width": 1
          },
          "type": "line",
          "x0": "2020-09-01T03:10:01",
          "x1": "2020-09-01T03:10:01",
          "xref": "x3",
          "y0": 0,
          "y1": 1,
          "yref": "y3 domain"
         },
         {
          "layer": "below",
          "line": {
           "color": "#666666",
           "width": 1
          },
          "type": "line",
          "x0": "2020-09-01T03:10:01",
          "x1": "2020-09-01T03:10:01",
          "xref": "x",
          "y0": 0,
          "y1": 1,
          "yref": "y domain"
         },
         {
          "layer": "below",
          "line": {
           "color": "#666666",
           "width": 1
          },
          "type": "line",
          "x0": "2020-09-01T03:10:01",
          "x1": "2020-09-01T03:10:01",
          "xref": "x2",
          "y0": 0,
          "y1": 1,
          "yref": "y2 domain"
         },
         {
          "layer": "below",
          "line": {
           "color": "#666666",
           "width": 1
          },
          "type": "line",
          "x0": "2020-09-01T03:10:01",
          "x1": "2020-09-01T03:10:01",
          "xref": "x3",
          "y0": 0,
          "y1": 1,
          "yref": "y3 domain"
         },
         {
          "layer": "below",
          "line": {
           "color": "#666666",
           "width": 1
          },
          "type": "line",
          "x0": "2020-09-01T03:10:01",
          "x1": "2020-09-01T03:10:01",
          "xref": "x4",
          "y0": 0,
          "y1": 1,
          "yref": "y4 domain"
         },
         {
          "layer": "below",
          "line": {
           "color": "#666666",
           "width": 1
          },
          "type": "line",
          "x0": "2020-09-01T03:10:01",
          "x1": "2020-09-01T03:10:01",
          "xref": "x",
          "y0": 0,
          "y1": 1,
          "yref": "y domain"
         },
         {
          "layer": "below",
          "line": {
           "color": "#666666",
           "width": 1
          },
          "type": "line",
          "x0": "2020-09-01T03:10:01",
          "x1": "2020-09-01T03:10:01",
          "xref": "x2",
          "y0": 0,
          "y1": 1,
          "yref": "y2 domain"
         },
         {
          "layer": "below",
          "line": {
           "color": "#666666",
           "width": 1
          },
          "type": "line",
          "x0": "2020-09-01T03:10:01",
          "x1": "2020-09-01T03:10:01",
          "xref": "x3",
          "y0": 0,
          "y1": 1,
          "yref": "y3 domain"
         },
         {
          "layer": "below",
          "line": {
           "color": "#666666",
           "width": 1
          },
          "type": "line",
          "x0": "2020-09-01T03:10:01",
          "x1": "2020-09-01T03:10:01",
          "xref": "x4",
          "y0": 0,
          "y1": 1,
          "yref": "y4 domain"
         },
         {
          "layer": "below",
          "line": {
           "color": "#666666",
           "width": 1
          },
          "type": "line",
          "x0": "2020-09-01T03:10:01",
          "x1": "2020-09-01T03:10:01",
          "xref": "x5",
          "y0": 0,
          "y1": 1,
          "yref": "y5 domain"
         },
         {
          "layer": "below",
          "line": {
           "color": "#666666",
           "width": 1
          },
          "type": "line",
          "x0": "2020-09-01T03:10:01",
          "x1": "2020-09-01T03:10:01",
          "xref": "x",
          "y0": 0,
          "y1": 1,
          "yref": "y domain"
         },
         {
          "layer": "below",
          "line": {
           "color": "#666666",
           "width": 1
          },
          "type": "line",
          "x0": "2020-09-01T03:10:01",
          "x1": "2020-09-01T03:10:01",
          "xref": "x2",
          "y0": 0,
          "y1": 1,
          "yref": "y2 domain"
         },
         {
          "layer": "below",
          "line": {
           "color": "#666666",
           "width": 1
          },
          "type": "line",
          "x0": "2020-09-01T03:10:01",
          "x1": "2020-09-01T03:10:01",
          "xref": "x3",
          "y0": 0,
          "y1": 1,
          "yref": "y3 domain"
         },
         {
          "layer": "below",
          "line": {
           "color": "#666666",
           "width": 1
          },
          "type": "line",
          "x0": "2020-09-01T03:10:01",
          "x1": "2020-09-01T03:10:01",
          "xref": "x4",
          "y0": 0,
          "y1": 1,
          "yref": "y4 domain"
         },
         {
          "layer": "below",
          "line": {
           "color": "#666666",
           "width": 1
          },
          "type": "line",
          "x0": "2020-09-01T03:10:01",
          "x1": "2020-09-01T03:10:01",
          "xref": "x5",
          "y0": 0,
          "y1": 1,
          "yref": "y5 domain"
         },
         {
          "layer": "below",
          "line": {
           "color": "#666666",
           "width": 1
          },
          "type": "line",
          "x0": "2020-09-01T03:10:01",
          "x1": "2020-09-01T03:10:01",
          "xref": "x6",
          "y0": 0,
          "y1": 1,
          "yref": "y6 domain"
         },
         {
          "layer": "below",
          "line": {
           "color": "#666666",
           "width": 1
          },
          "type": "line",
          "x0": "2020-09-01T03:10:01",
          "x1": "2020-09-01T03:10:01",
          "xref": "x",
          "y0": 0,
          "y1": 1,
          "yref": "y domain"
         },
         {
          "layer": "below",
          "line": {
           "color": "#666666",
           "width": 1
          },
          "type": "line",
          "x0": "2020-09-01T03:10:01",
          "x1": "2020-09-01T03:10:01",
          "xref": "x2",
          "y0": 0,
          "y1": 1,
          "yref": "y2 domain"
         },
         {
          "layer": "below",
          "line": {
           "color": "#666666",
           "width": 1
          },
          "type": "line",
          "x0": "2020-09-01T03:10:01",
          "x1": "2020-09-01T03:10:01",
          "xref": "x3",
          "y0": 0,
          "y1": 1,
          "yref": "y3 domain"
         },
         {
          "layer": "below",
          "line": {
           "color": "#666666",
           "width": 1
          },
          "type": "line",
          "x0": "2020-09-01T03:10:01",
          "x1": "2020-09-01T03:10:01",
          "xref": "x4",
          "y0": 0,
          "y1": 1,
          "yref": "y4 domain"
         },
         {
          "layer": "below",
          "line": {
           "color": "#666666",
           "width": 1
          },
          "type": "line",
          "x0": "2020-09-01T03:10:01",
          "x1": "2020-09-01T03:10:01",
          "xref": "x5",
          "y0": 0,
          "y1": 1,
          "yref": "y5 domain"
         },
         {
          "layer": "below",
          "line": {
           "color": "#666666",
           "width": 1
          },
          "type": "line",
          "x0": "2020-09-01T03:10:01",
          "x1": "2020-09-01T03:10:01",
          "xref": "x6",
          "y0": 0,
          "y1": 1,
          "yref": "y6 domain"
         },
         {
          "layer": "below",
          "line": {
           "color": "#666666",
           "width": 1
          },
          "type": "line",
          "x0": "2020-09-01T03:10:01",
          "x1": "2020-09-01T03:10:01",
          "xref": "x7",
          "y0": 0,
          "y1": 1,
          "yref": "y7 domain"
         },
         {
          "layer": "below",
          "line": {
           "color": "#666666",
           "width": 1
          },
          "type": "line",
          "x0": "2020-09-01T03:10:01",
          "x1": "2020-09-01T03:10:01",
          "xref": "x",
          "y0": 0,
          "y1": 1,
          "yref": "y domain"
         },
         {
          "layer": "below",
          "line": {
           "color": "#666666",
           "width": 1
          },
          "type": "line",
          "x0": "2020-09-01T03:10:01",
          "x1": "2020-09-01T03:10:01",
          "xref": "x2",
          "y0": 0,
          "y1": 1,
          "yref": "y2 domain"
         },
         {
          "layer": "below",
          "line": {
           "color": "#666666",
           "width": 1
          },
          "type": "line",
          "x0": "2020-09-01T03:10:01",
          "x1": "2020-09-01T03:10:01",
          "xref": "x3",
          "y0": 0,
          "y1": 1,
          "yref": "y3 domain"
         },
         {
          "layer": "below",
          "line": {
           "color": "#666666",
           "width": 1
          },
          "type": "line",
          "x0": "2020-09-01T03:10:01",
          "x1": "2020-09-01T03:10:01",
          "xref": "x4",
          "y0": 0,
          "y1": 1,
          "yref": "y4 domain"
         },
         {
          "layer": "below",
          "line": {
           "color": "#666666",
           "width": 1
          },
          "type": "line",
          "x0": "2020-09-01T03:10:01",
          "x1": "2020-09-01T03:10:01",
          "xref": "x5",
          "y0": 0,
          "y1": 1,
          "yref": "y5 domain"
         },
         {
          "layer": "below",
          "line": {
           "color": "#666666",
           "width": 1
          },
          "type": "line",
          "x0": "2020-09-01T03:10:01",
          "x1": "2020-09-01T03:10:01",
          "xref": "x6",
          "y0": 0,
          "y1": 1,
          "yref": "y6 domain"
         },
         {
          "layer": "below",
          "line": {
           "color": "#666666",
           "width": 1
          },
          "type": "line",
          "x0": "2020-09-01T03:10:01",
          "x1": "2020-09-01T03:10:01",
          "xref": "x7",
          "y0": 0,
          "y1": 1,
          "yref": "y7 domain"
         },
         {
          "layer": "below",
          "line": {
           "color": "#666666",
           "width": 1
          },
          "type": "line",
          "x0": "2020-09-01T03:10:01",
          "x1": "2020-09-01T03:10:01",
          "xref": "x8",
          "y0": 0,
          "y1": 1,
          "yref": "y8 domain"
         },
         {
          "layer": "below",
          "line": {
           "color": "#666666",
           "width": 1
          },
          "type": "line",
          "x0": "2020-09-01T03:10:01",
          "x1": "2020-09-01T03:10:01",
          "xref": "x",
          "y0": 0,
          "y1": 1,
          "yref": "y domain"
         },
         {
          "layer": "below",
          "line": {
           "color": "#666666",
           "width": 1
          },
          "type": "line",
          "x0": "2020-09-01T03:10:01",
          "x1": "2020-09-01T03:10:01",
          "xref": "x2",
          "y0": 0,
          "y1": 1,
          "yref": "y2 domain"
         },
         {
          "layer": "below",
          "line": {
           "color": "#666666",
           "width": 1
          },
          "type": "line",
          "x0": "2020-09-01T03:10:01",
          "x1": "2020-09-01T03:10:01",
          "xref": "x3",
          "y0": 0,
          "y1": 1,
          "yref": "y3 domain"
         },
         {
          "layer": "below",
          "line": {
           "color": "#666666",
           "width": 1
          },
          "type": "line",
          "x0": "2020-09-01T03:10:01",
          "x1": "2020-09-01T03:10:01",
          "xref": "x4",
          "y0": 0,
          "y1": 1,
          "yref": "y4 domain"
         },
         {
          "layer": "below",
          "line": {
           "color": "#666666",
           "width": 1
          },
          "type": "line",
          "x0": "2020-09-01T03:10:01",
          "x1": "2020-09-01T03:10:01",
          "xref": "x5",
          "y0": 0,
          "y1": 1,
          "yref": "y5 domain"
         },
         {
          "layer": "below",
          "line": {
           "color": "#666666",
           "width": 1
          },
          "type": "line",
          "x0": "2020-09-01T03:10:01",
          "x1": "2020-09-01T03:10:01",
          "xref": "x6",
          "y0": 0,
          "y1": 1,
          "yref": "y6 domain"
         },
         {
          "layer": "below",
          "line": {
           "color": "#666666",
           "width": 1
          },
          "type": "line",
          "x0": "2020-09-01T03:10:01",
          "x1": "2020-09-01T03:10:01",
          "xref": "x7",
          "y0": 0,
          "y1": 1,
          "yref": "y7 domain"
         },
         {
          "layer": "below",
          "line": {
           "color": "#666666",
           "width": 1
          },
          "type": "line",
          "x0": "2020-09-01T03:10:01",
          "x1": "2020-09-01T03:10:01",
          "xref": "x8",
          "y0": 0,
          "y1": 1,
          "yref": "y8 domain"
         },
         {
          "layer": "below",
          "line": {
           "color": "#666666",
           "width": 1
          },
          "type": "line",
          "x0": "2020-09-01T03:10:01",
          "x1": "2020-09-01T03:10:01",
          "xref": "x9",
          "y0": 0,
          "y1": 1,
          "yref": "y9 domain"
         }
        ],
        "template": {
         "data": {
          "bar": [
           {
            "error_x": {
             "color": "#2a3f5f"
            },
            "error_y": {
             "color": "#2a3f5f"
            },
            "marker": {
             "line": {
              "color": "#E5ECF6",
              "width": 0.5
             },
             "pattern": {
              "fillmode": "overlay",
              "size": 10,
              "solidity": 0.2
             }
            },
            "type": "bar"
           }
          ],
          "barpolar": [
           {
            "marker": {
             "line": {
              "color": "#E5ECF6",
              "width": 0.5
             },
             "pattern": {
              "fillmode": "overlay",
              "size": 10,
              "solidity": 0.2
             }
            },
            "type": "barpolar"
           }
          ],
          "carpet": [
           {
            "aaxis": {
             "endlinecolor": "#2a3f5f",
             "gridcolor": "white",
             "linecolor": "white",
             "minorgridcolor": "white",
             "startlinecolor": "#2a3f5f"
            },
            "baxis": {
             "endlinecolor": "#2a3f5f",
             "gridcolor": "white",
             "linecolor": "white",
             "minorgridcolor": "white",
             "startlinecolor": "#2a3f5f"
            },
            "type": "carpet"
           }
          ],
          "choropleth": [
           {
            "colorbar": {
             "outlinewidth": 0,
             "ticks": ""
            },
            "type": "choropleth"
           }
          ],
          "contour": [
           {
            "colorbar": {
             "outlinewidth": 0,
             "ticks": ""
            },
            "colorscale": [
             [
              0,
              "#0d0887"
             ],
             [
              0.1111111111111111,
              "#46039f"
             ],
             [
              0.2222222222222222,
              "#7201a8"
             ],
             [
              0.3333333333333333,
              "#9c179e"
             ],
             [
              0.4444444444444444,
              "#bd3786"
             ],
             [
              0.5555555555555556,
              "#d8576b"
             ],
             [
              0.6666666666666666,
              "#ed7953"
             ],
             [
              0.7777777777777778,
              "#fb9f3a"
             ],
             [
              0.8888888888888888,
              "#fdca26"
             ],
             [
              1,
              "#f0f921"
             ]
            ],
            "type": "contour"
           }
          ],
          "contourcarpet": [
           {
            "colorbar": {
             "outlinewidth": 0,
             "ticks": ""
            },
            "type": "contourcarpet"
           }
          ],
          "heatmap": [
           {
            "colorbar": {
             "outlinewidth": 0,
             "ticks": ""
            },
            "colorscale": [
             [
              0,
              "#0d0887"
             ],
             [
              0.1111111111111111,
              "#46039f"
             ],
             [
              0.2222222222222222,
              "#7201a8"
             ],
             [
              0.3333333333333333,
              "#9c179e"
             ],
             [
              0.4444444444444444,
              "#bd3786"
             ],
             [
              0.5555555555555556,
              "#d8576b"
             ],
             [
              0.6666666666666666,
              "#ed7953"
             ],
             [
              0.7777777777777778,
              "#fb9f3a"
             ],
             [
              0.8888888888888888,
              "#fdca26"
             ],
             [
              1,
              "#f0f921"
             ]
            ],
            "type": "heatmap"
           }
          ],
          "heatmapgl": [
           {
            "colorbar": {
             "outlinewidth": 0,
             "ticks": ""
            },
            "colorscale": [
             [
              0,
              "#0d0887"
             ],
             [
              0.1111111111111111,
              "#46039f"
             ],
             [
              0.2222222222222222,
              "#7201a8"
             ],
             [
              0.3333333333333333,
              "#9c179e"
             ],
             [
              0.4444444444444444,
              "#bd3786"
             ],
             [
              0.5555555555555556,
              "#d8576b"
             ],
             [
              0.6666666666666666,
              "#ed7953"
             ],
             [
              0.7777777777777778,
              "#fb9f3a"
             ],
             [
              0.8888888888888888,
              "#fdca26"
             ],
             [
              1,
              "#f0f921"
             ]
            ],
            "type": "heatmapgl"
           }
          ],
          "histogram": [
           {
            "marker": {
             "pattern": {
              "fillmode": "overlay",
              "size": 10,
              "solidity": 0.2
             }
            },
            "type": "histogram"
           }
          ],
          "histogram2d": [
           {
            "colorbar": {
             "outlinewidth": 0,
             "ticks": ""
            },
            "colorscale": [
             [
              0,
              "#0d0887"
             ],
             [
              0.1111111111111111,
              "#46039f"
             ],
             [
              0.2222222222222222,
              "#7201a8"
             ],
             [
              0.3333333333333333,
              "#9c179e"
             ],
             [
              0.4444444444444444,
              "#bd3786"
             ],
             [
              0.5555555555555556,
              "#d8576b"
             ],
             [
              0.6666666666666666,
              "#ed7953"
             ],
             [
              0.7777777777777778,
              "#fb9f3a"
             ],
             [
              0.8888888888888888,
              "#fdca26"
             ],
             [
              1,
              "#f0f921"
             ]
            ],
            "type": "histogram2d"
           }
          ],
          "histogram2dcontour": [
           {
            "colorbar": {
             "outlinewidth": 0,
             "ticks": ""
            },
            "colorscale": [
             [
              0,
              "#0d0887"
             ],
             [
              0.1111111111111111,
              "#46039f"
             ],
             [
              0.2222222222222222,
              "#7201a8"
             ],
             [
              0.3333333333333333,
              "#9c179e"
             ],
             [
              0.4444444444444444,
              "#bd3786"
             ],
             [
              0.5555555555555556,
              "#d8576b"
             ],
             [
              0.6666666666666666,
              "#ed7953"
             ],
             [
              0.7777777777777778,
              "#fb9f3a"
             ],
             [
              0.8888888888888888,
              "#fdca26"
             ],
             [
              1,
              "#f0f921"
             ]
            ],
            "type": "histogram2dcontour"
           }
          ],
          "mesh3d": [
           {
            "colorbar": {
             "outlinewidth": 0,
             "ticks": ""
            },
            "type": "mesh3d"
           }
          ],
          "parcoords": [
           {
            "line": {
             "colorbar": {
              "outlinewidth": 0,
              "ticks": ""
             }
            },
            "type": "parcoords"
           }
          ],
          "pie": [
           {
            "automargin": true,
            "type": "pie"
           }
          ],
          "scatter": [
           {
            "fillpattern": {
             "fillmode": "overlay",
             "size": 10,
             "solidity": 0.2
            },
            "type": "scatter"
           }
          ],
          "scatter3d": [
           {
            "line": {
             "colorbar": {
              "outlinewidth": 0,
              "ticks": ""
             }
            },
            "marker": {
             "colorbar": {
              "outlinewidth": 0,
              "ticks": ""
             }
            },
            "type": "scatter3d"
           }
          ],
          "scattercarpet": [
           {
            "marker": {
             "colorbar": {
              "outlinewidth": 0,
              "ticks": ""
             }
            },
            "type": "scattercarpet"
           }
          ],
          "scattergeo": [
           {
            "marker": {
             "colorbar": {
              "outlinewidth": 0,
              "ticks": ""
             }
            },
            "type": "scattergeo"
           }
          ],
          "scattergl": [
           {
            "marker": {
             "colorbar": {
              "outlinewidth": 0,
              "ticks": ""
             }
            },
            "type": "scattergl"
           }
          ],
          "scattermapbox": [
           {
            "marker": {
             "colorbar": {
              "outlinewidth": 0,
              "ticks": ""
             }
            },
            "type": "scattermapbox"
           }
          ],
          "scatterpolar": [
           {
            "marker": {
             "colorbar": {
              "outlinewidth": 0,
              "ticks": ""
             }
            },
            "type": "scatterpolar"
           }
          ],
          "scatterpolargl": [
           {
            "marker": {
             "colorbar": {
              "outlinewidth": 0,
              "ticks": ""
             }
            },
            "type": "scatterpolargl"
           }
          ],
          "scatterternary": [
           {
            "marker": {
             "colorbar": {
              "outlinewidth": 0,
              "ticks": ""
             }
            },
            "type": "scatterternary"
           }
          ],
          "surface": [
           {
            "colorbar": {
             "outlinewidth": 0,
             "ticks": ""
            },
            "colorscale": [
             [
              0,
              "#0d0887"
             ],
             [
              0.1111111111111111,
              "#46039f"
             ],
             [
              0.2222222222222222,
              "#7201a8"
             ],
             [
              0.3333333333333333,
              "#9c179e"
             ],
             [
              0.4444444444444444,
              "#bd3786"
             ],
             [
              0.5555555555555556,
              "#d8576b"
             ],
             [
              0.6666666666666666,
              "#ed7953"
             ],
             [
              0.7777777777777778,
              "#fb9f3a"
             ],
             [
              0.8888888888888888,
              "#fdca26"
             ],
             [
              1,
              "#f0f921"
             ]
            ],
            "type": "surface"
           }
          ],
          "table": [
           {
            "cells": {
             "fill": {
              "color": "#EBF0F8"
             },
             "line": {
              "color": "white"
             }
            },
            "header": {
             "fill": {
              "color": "#C8D4E3"
             },
             "line": {
              "color": "white"
             }
            },
            "type": "table"
           }
          ]
         },
         "layout": {
          "annotationdefaults": {
           "arrowcolor": "#2a3f5f",
           "arrowhead": 0,
           "arrowwidth": 1
          },
          "autotypenumbers": "strict",
          "coloraxis": {
           "colorbar": {
            "outlinewidth": 0,
            "ticks": ""
           }
          },
          "colorscale": {
           "diverging": [
            [
             0,
             "#8e0152"
            ],
            [
             0.1,
             "#c51b7d"
            ],
            [
             0.2,
             "#de77ae"
            ],
            [
             0.3,
             "#f1b6da"
            ],
            [
             0.4,
             "#fde0ef"
            ],
            [
             0.5,
             "#f7f7f7"
            ],
            [
             0.6,
             "#e6f5d0"
            ],
            [
             0.7,
             "#b8e186"
            ],
            [
             0.8,
             "#7fbc41"
            ],
            [
             0.9,
             "#4d9221"
            ],
            [
             1,
             "#276419"
            ]
           ],
           "sequential": [
            [
             0,
             "#0d0887"
            ],
            [
             0.1111111111111111,
             "#46039f"
            ],
            [
             0.2222222222222222,
             "#7201a8"
            ],
            [
             0.3333333333333333,
             "#9c179e"
            ],
            [
             0.4444444444444444,
             "#bd3786"
            ],
            [
             0.5555555555555556,
             "#d8576b"
            ],
            [
             0.6666666666666666,
             "#ed7953"
            ],
            [
             0.7777777777777778,
             "#fb9f3a"
            ],
            [
             0.8888888888888888,
             "#fdca26"
            ],
            [
             1,
             "#f0f921"
            ]
           ],
           "sequentialminus": [
            [
             0,
             "#0d0887"
            ],
            [
             0.1111111111111111,
             "#46039f"
            ],
            [
             0.2222222222222222,
             "#7201a8"
            ],
            [
             0.3333333333333333,
             "#9c179e"
            ],
            [
             0.4444444444444444,
             "#bd3786"
            ],
            [
             0.5555555555555556,
             "#d8576b"
            ],
            [
             0.6666666666666666,
             "#ed7953"
            ],
            [
             0.7777777777777778,
             "#fb9f3a"
            ],
            [
             0.8888888888888888,
             "#fdca26"
            ],
            [
             1,
             "#f0f921"
            ]
           ]
          },
          "colorway": [
           "#636efa",
           "#EF553B",
           "#00cc96",
           "#ab63fa",
           "#FFA15A",
           "#19d3f3",
           "#FF6692",
           "#B6E880",
           "#FF97FF",
           "#FECB52"
          ],
          "font": {
           "color": "#2a3f5f"
          },
          "geo": {
           "bgcolor": "white",
           "lakecolor": "white",
           "landcolor": "#E5ECF6",
           "showlakes": true,
           "showland": true,
           "subunitcolor": "white"
          },
          "hoverlabel": {
           "align": "left"
          },
          "hovermode": "closest",
          "mapbox": {
           "style": "light"
          },
          "paper_bgcolor": "white",
          "plot_bgcolor": "#E5ECF6",
          "polar": {
           "angularaxis": {
            "gridcolor": "white",
            "linecolor": "white",
            "ticks": ""
           },
           "bgcolor": "#E5ECF6",
           "radialaxis": {
            "gridcolor": "white",
            "linecolor": "white",
            "ticks": ""
           }
          },
          "scene": {
           "xaxis": {
            "backgroundcolor": "#E5ECF6",
            "gridcolor": "white",
            "gridwidth": 2,
            "linecolor": "white",
            "showbackground": true,
            "ticks": "",
            "zerolinecolor": "white"
           },
           "yaxis": {
            "backgroundcolor": "#E5ECF6",
            "gridcolor": "white",
            "gridwidth": 2,
            "linecolor": "white",
            "showbackground": true,
            "ticks": "",
            "zerolinecolor": "white"
           },
           "zaxis": {
            "backgroundcolor": "#E5ECF6",
            "gridcolor": "white",
            "gridwidth": 2,
            "linecolor": "white",
            "showbackground": true,
            "ticks": "",
            "zerolinecolor": "white"
           }
          },
          "shapedefaults": {
           "line": {
            "color": "#2a3f5f"
           }
          },
          "ternary": {
           "aaxis": {
            "gridcolor": "white",
            "linecolor": "white",
            "ticks": ""
           },
           "baxis": {
            "gridcolor": "white",
            "linecolor": "white",
            "ticks": ""
           },
           "bgcolor": "#E5ECF6",
           "caxis": {
            "gridcolor": "white",
            "linecolor": "white",
            "ticks": ""
           }
          },
          "title": {
           "x": 0.05
          },
          "xaxis": {
           "automargin": true,
           "gridcolor": "white",
           "linecolor": "white",
           "ticks": "",
           "title": {
            "standoff": 15
           },
           "zerolinecolor": "white",
           "zerolinewidth": 2
          },
          "yaxis": {
           "automargin": true,
           "gridcolor": "white",
           "linecolor": "white",
           "ticks": "",
           "title": {
            "standoff": 15
           },
           "zerolinecolor": "white",
           "zerolinewidth": 2
          }
         }
        },
        "title": {
         "text": "Estimated performance <b>(CBPE)</b>"
        },
        "xaxis": {
         "anchor": "y",
         "domain": [
          0,
          1
         ],
         "linecolor": "#3b0280",
         "matches": "x",
         "mirror": true,
         "showgrid": false,
         "title": {
          "text": "Time"
         },
         "zeroline": false
        },
        "xaxis2": {
         "anchor": "y2",
         "domain": [
          0,
          1
         ],
         "linecolor": "#3b0280",
         "matches": "x",
         "mirror": true,
         "showgrid": false,
         "title": {
          "text": "Time"
         },
         "zeroline": false
        },
        "xaxis3": {
         "anchor": "y3",
         "domain": [
          0,
          1
         ],
         "linecolor": "#3b0280",
         "matches": "x",
         "mirror": true,
         "showgrid": false,
         "title": {
          "text": "Time"
         },
         "zeroline": false
        },
        "xaxis4": {
         "anchor": "y4",
         "domain": [
          0,
          1
         ],
         "linecolor": "#3b0280",
         "matches": "x",
         "mirror": true,
         "showgrid": false,
         "title": {
          "text": "Time"
         },
         "zeroline": false
        },
        "xaxis5": {
         "anchor": "y5",
         "domain": [
          0,
          1
         ],
         "linecolor": "#3b0280",
         "matches": "x",
         "mirror": true,
         "showgrid": false,
         "title": {
          "text": "Time"
         },
         "zeroline": false
        },
        "xaxis6": {
         "anchor": "y6",
         "domain": [
          0,
          1
         ],
         "linecolor": "#3b0280",
         "matches": "x",
         "mirror": true,
         "showgrid": false,
         "title": {
          "text": "Time"
         },
         "zeroline": false
        },
        "xaxis7": {
         "anchor": "y7",
         "domain": [
          0,
          1
         ],
         "linecolor": "#3b0280",
         "matches": "x",
         "mirror": true,
         "showgrid": false,
         "title": {
          "text": "Time"
         },
         "zeroline": false
        },
        "xaxis8": {
         "anchor": "y8",
         "domain": [
          0,
          1
         ],
         "linecolor": "#3b0280",
         "matches": "x",
         "mirror": true,
         "showgrid": false,
         "title": {
          "text": "Time"
         },
         "zeroline": false
        },
        "xaxis9": {
         "anchor": "y9",
         "domain": [
          0,
          1
         ],
         "linecolor": "#3b0280",
         "matches": "x",
         "mirror": true,
         "showgrid": false,
         "title": {
          "text": "Time"
         },
         "zeroline": false
        },
        "yaxis": {
         "anchor": "x",
         "domain": [
          0.9382716049382716,
          1
         ],
         "linecolor": "#3b0280",
         "mirror": true,
         "showgrid": false,
         "title": {
          "text": "true class: prepaid_card, predicted class: prepaid_card"
         },
         "zeroline": false
        },
        "yaxis2": {
         "anchor": "x2",
         "domain": [
          0.8209876543209876,
          0.8827160493827161
         ],
         "linecolor": "#3b0280",
         "mirror": true,
         "showgrid": false,
         "title": {
          "text": "true class: prepaid_card, predicted class: highstreet_card"
         },
         "zeroline": false
        },
        "yaxis3": {
         "anchor": "x3",
         "domain": [
          0.7037037037037037,
          0.7654320987654322
         ],
         "linecolor": "#3b0280",
         "mirror": true,
         "showgrid": false,
         "title": {
          "text": "true class: prepaid_card, predicted class: upmarket_card"
         },
         "zeroline": false
        },
        "yaxis4": {
         "anchor": "x4",
         "domain": [
          0.5864197530864198,
          0.6481481481481483
         ],
         "linecolor": "#3b0280",
         "mirror": true,
         "showgrid": false,
         "title": {
          "text": "true class: highstreet_card, predicted class: prepaid_card"
         },
         "zeroline": false
        },
        "yaxis5": {
         "anchor": "x5",
         "domain": [
          0.4691358024691358,
          0.5308641975308642
         ],
         "linecolor": "#3b0280",
         "mirror": true,
         "showgrid": false,
         "title": {
          "text": "true class: highstreet_card, predicted class: highstreet_card"
         },
         "zeroline": false
        },
        "yaxis6": {
         "anchor": "x6",
         "domain": [
          0.35185185185185186,
          0.41358024691358025
         ],
         "linecolor": "#3b0280",
         "mirror": true,
         "showgrid": false,
         "title": {
          "text": "true class: highstreet_card, predicted class: upmarket_card"
         },
         "zeroline": false
        },
        "yaxis7": {
         "anchor": "x7",
         "domain": [
          0.2345679012345679,
          0.2962962962962963
         ],
         "linecolor": "#3b0280",
         "mirror": true,
         "showgrid": false,
         "title": {
          "text": "true class: upmarket_card, predicted class: prepaid_card"
         },
         "zeroline": false
        },
        "yaxis8": {
         "anchor": "x8",
         "domain": [
          0.11728395061728394,
          0.17901234567901234
         ],
         "linecolor": "#3b0280",
         "mirror": true,
         "showgrid": false,
         "title": {
          "text": "true class: upmarket_card, predicted class: highstreet_card"
         },
         "zeroline": false
        },
        "yaxis9": {
         "anchor": "x9",
         "domain": [
          0,
          0.0617283950617284
         ],
         "linecolor": "#3b0280",
         "mirror": true,
         "showgrid": false,
         "title": {
          "text": "true class: upmarket_card, predicted class: upmarket_card"
         },
         "zeroline": false
        }
       }
      }
     },
     "metadata": {},
     "output_type": "display_data"
    }
   ],
   "source": [
    "metric_fig = results.plot()\n",
    "metric_fig.show()"
   ]
  },
  {
   "cell_type": "code",
   "execution_count": 16,
   "metadata": {},
   "outputs": [],
   "source": [
    "metric_fig = results.plot()\n",
    "metric_fig.write_image(file=f\"../_static/tutorials/performance_estimation/multiclass/tutorial-confusion-matrix-estimation-multiclass-analysis-with-ref.svg\")\n"
   ]
  }
 ],
 "metadata": {
  "kernelspec": {
   "display_name": "EMD",
   "language": "python",
   "name": "python3"
  },
  "language_info": {
   "codemirror_mode": {
    "name": "ipython",
    "version": 3
   },
   "file_extension": ".py",
   "mimetype": "text/x-python",
   "name": "python",
   "nbconvert_exporter": "python",
   "pygments_lexer": "ipython3",
   "version": "3.9.7"
  },
  "orig_nbformat": 4
 },
 "nbformat": 4,
 "nbformat_minor": 2
}
