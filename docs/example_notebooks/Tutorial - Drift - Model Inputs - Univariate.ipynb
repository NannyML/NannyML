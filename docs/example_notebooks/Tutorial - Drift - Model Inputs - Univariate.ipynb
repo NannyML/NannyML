{
 "cells": [
  {
   "cell_type": "code",
   "execution_count": null,
   "id": "38982d74-5064-4ea4-bd74-c22bc6b5139d",
   "metadata": {},
   "outputs": [],
   "source": [
    "import nannyml as nml\n",
    "from IPython.display import display\n",
    "\n",
    "reference_df = nml.load_synthetic_binary_classification_dataset()[0]\n",
    "analysis_df = nml.load_synthetic_binary_classification_dataset()[1]\n",
    "display(reference_df.head())"
   ]
  },
  {
   "cell_type": "code",
   "execution_count": null,
   "id": "ec4e0ab8-dc3b-42b4-ad20-06b7682756e0",
   "metadata": {},
   "outputs": [],
   "source": [
    "print(reference_df.head().to_markdown(tablefmt=\"grid\"))"
   ]
  },
  {
   "cell_type": "code",
   "execution_count": null,
   "id": "5e1bd987-f39e-4b92-aef1-565f2710444a",
   "metadata": {},
   "outputs": [],
   "source": [
    "column_names = [\n",
    "    col for col in reference_df.columns if col not in [\n",
    "    'timestamp', 'period', 'work_home_actual', 'identifier'\n",
    "]]\n",
    "\n",
    "calc = nml.UnivariateDriftCalculator(\n",
    "    column_names=column_names,\n",
    "    timestamp_column_name='timestamp',\n",
    "    categorical_methods=['jensen_shannon'],\n",
    "    continuous_methods=['jensen_shannon'],\n",
    "    \n",
    ")"
   ]
  },
  {
   "cell_type": "code",
   "execution_count": null,
   "id": "7763ab5f",
   "metadata": {},
   "outputs": [],
   "source": [
    "calc.fit(reference_df)\n",
    "results = calc.calculate(analysis_df)\n",
    "display(results.filter(period='analysis').to_df().iloc[:, :9])"
   ]
  },
  {
   "cell_type": "code",
   "execution_count": null,
   "id": "9825cf78",
   "metadata": {},
   "outputs": [],
   "source": [
    "print(results.filter(period='analysis').to_df().iloc[:, :9].to_markdown(tablefmt=\"grid\"))"
   ]
  },
  {
   "cell_type": "code",
   "execution_count": null,
   "id": "4d0f8386",
   "metadata": {},
   "outputs": [],
   "source": [
    "display(results.filter(period='reference').to_df().iloc[:, :9])"
   ]
  },
  {
   "cell_type": "code",
   "execution_count": null,
   "id": "689270a1",
   "metadata": {},
   "outputs": [],
   "source": [
    "print(results.filter(period='reference').to_df().iloc[:, :9].to_markdown(tablefmt=\"grid\"))"
   ]
  },
  {
   "cell_type": "code",
   "execution_count": null,
   "id": "393aa61d",
   "metadata": {},
   "outputs": [],
   "source": [
    "for feature in calc.column_names:\n",
    "    drift_fig = results.plot(\n",
    "        kind='feature_drift',\n",
    "        column_name=feature,\n",
    "        plot_reference=True)\n",
    "    drift_fig.show()"
   ]
  },
  {
   "cell_type": "code",
   "execution_count": null,
   "id": "6ef9daa7",
   "metadata": {},
   "outputs": [],
   "source": [
    "for feature in calc.column_names:\n",
    "    drift_fig = results.plot(\n",
    "        kind='feature_drift',\n",
    "        column_name=feature,\n",
    "        plot_reference=True\n",
    "    )\n",
    "    drift_fig.write_image(f'../_static/drift-guide-{feature}.svg')"
   ]
  },
  {
   "cell_type": "code",
   "execution_count": null,
   "id": "3b7fee15",
   "metadata": {},
   "outputs": [],
   "source": [
    "for cont_feat in calc.continuous_column_names:\n",
    "    figure = results.plot(\n",
    "        kind='feature_distribution',\n",
    "        feature_column_name=cont_feat,\n",
    "        plot_reference=True\n",
    "    )\n",
    "    figure.show()"
   ]
  },
  {
   "cell_type": "code",
   "execution_count": null,
   "id": "9ac30a55",
   "metadata": {},
   "outputs": [],
   "source": [
    "for cont_feat in calc.continuous_column_names:\n",
    "    figure = results.plot(\n",
    "        kind='feature_distribution',\n",
    "        feature_column_name=cont_feat,\n",
    "        plot_reference=True\n",
    "    )\n",
    "    figure.write_image(f'../_static/drift-guide-joyplot-{cont_feat}.svg')"
   ]
  },
  {
   "cell_type": "code",
   "execution_count": null,
   "id": "e7955b31",
   "metadata": {},
   "outputs": [],
   "source": [
    "for cat_feat in calc.categorical_column_names:\n",
    "    figure = results.plot(\n",
    "        kind='feature_distribution',\n",
    "        feature_column_name=cat_feat,\n",
    "        plot_reference=True)\n",
    "    figure.show()"
   ]
  },
  {
   "cell_type": "code",
   "execution_count": null,
   "id": "45aab809",
   "metadata": {},
   "outputs": [],
   "source": [
    "for cat_feat in calc.categorical_column_names:\n",
    "    figure = results.plot(\n",
    "        kind='feature_distribution',\n",
    "        feature_column_name=cat_feat,\n",
    "        plot_reference=True)\n",
    "    figure.write_image(f'../_static/drift-guide-stacked-{cat_feat}.svg')"
   ]
  },
  {
   "cell_type": "code",
   "execution_count": null,
   "id": "ab42f39e",
   "metadata": {},
   "outputs": [],
   "source": [
    "ranker = nml.Ranker.by('alert_count')\n",
    "ranked_features = ranker.rank(results, only_drifting = False)\n",
    "display(ranked_features)"
   ]
  },
  {
   "cell_type": "code",
   "execution_count": null,
   "id": "a5fd779c",
   "metadata": {},
   "outputs": [],
   "source": [
    "print(ranked_features.to_markdown(tablefmt=\"grid\"))\n"
   ]
  },
  {
   "cell_type": "code",
   "execution_count": null,
   "id": "83e5a1da",
   "metadata": {},
   "outputs": [],
   "source": []
  }
 ],
 "metadata": {
  "kernelspec": {
   "display_name": "p39all",
   "language": "python",
   "name": "p39all"
  },
  "language_info": {
   "codemirror_mode": {
    "name": "ipython",
    "version": 3
   },
   "file_extension": ".py",
   "mimetype": "text/x-python",
   "name": "python",
   "nbconvert_exporter": "python",
   "pygments_lexer": "ipython3",
   "version": "3.9.7"
  }
 },
 "nbformat": 4,
 "nbformat_minor": 5
}
