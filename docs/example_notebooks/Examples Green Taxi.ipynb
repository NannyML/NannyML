{
 "cells": [
  {
   "cell_type": "code",
   "execution_count": null,
   "id": "89298ce0",
   "metadata": {},
   "outputs": [],
   "source": [
    "# Uncomment if you are runnning this on Google Colab\n",
    "# !pip install nannyml\n",
    "# !pip install numpy==1.22"
   ]
  },
  {
   "cell_type": "code",
   "execution_count": null,
   "id": "3c0635e7",
   "metadata": {
    "colab": {
     "base_uri": "https://localhost:8080/"
    },
    "id": "3c0635e7",
    "outputId": "30d1af78-5f35-4a98-a9f7-86472a947f0d"
   },
   "outputs": [],
   "source": [
    "import pandas as pd\n",
    "import numpy as np\n",
    "import matplotlib.pyplot as plt\n",
    "\n",
    "from sklearn.metrics import mean_absolute_error\n",
    "from lightgbm import LGBMRegressor, plot_importance\n",
    "\n",
    "import nannyml as nml"
   ]
  },
  {
   "cell_type": "code",
   "execution_count": null,
   "id": "6e90071a",
   "metadata": {
    "id": "6e90071a"
   },
   "outputs": [],
   "source": [
    "# Read data from url\n",
    "url = \"https://d37ci6vzurychx.cloudfront.net/trip-data/green_tripdata_2016-12.parquet\"\n",
    "columns = ['lpep_pickup_datetime', 'PULocationID', 'DOLocationID', 'trip_distance', 'VendorID', 'payment_type', 'fare_amount', 'tip_amount']\n",
    "data = pd.read_parquet(url, columns=columns)"
   ]
  },
  {
   "cell_type": "code",
   "execution_count": null,
   "id": "9843aa09",
   "metadata": {
    "colab": {
     "base_uri": "https://localhost:8080/",
     "height": 206
    },
    "id": "9843aa09",
    "outputId": "6a2c8bdd-0a25-4ab2-abbe-6852d905d784"
   },
   "outputs": [],
   "source": [
    "print(data.head(3).to_markdown(tablefmt=\"grid\"))"
   ]
  },
  {
   "cell_type": "code",
   "execution_count": null,
   "id": "a678285e",
   "metadata": {
    "id": "a678285e"
   },
   "outputs": [],
   "source": [
    "# Choose only payments from Credit Cards\n",
    "data = data.loc[data['payment_type'] == 1,].drop(columns='payment_type') # Credit card\n",
    "# Choose only positive tip amounts\n",
    "data = data[data['tip_amount'] >= 0]\n",
    "\n",
    "# Sort data by pick up date\n",
    "data = data.sort_values('lpep_pickup_datetime').reset_index(drop=True)\n",
    "# Flag categoric columns as categoric\n",
    "categoric_columns = ['PULocationID', 'DOLocationID', 'VendorID']\n",
    "data[categoric_columns] = data[categoric_columns].astype('category')\n",
    "\n",
    "# Create column with pick up time\n",
    "data['pickup_time'] = data['lpep_pickup_datetime'].dt.hour"
   ]
  },
  {
   "cell_type": "code",
   "execution_count": null,
   "id": "0e1af9ee",
   "metadata": {
    "id": "0e1af9ee"
   },
   "outputs": [],
   "source": [
    "# Create data partition\n",
    "data['partition'] = pd.cut(\n",
    "    data['lpep_pickup_datetime'],\n",
    "    bins= [pd.to_datetime('2016-12-01'),\n",
    "           pd.to_datetime('2016-12-08'),\n",
    "           pd.to_datetime('2016-12-16'),\n",
    "           pd.to_datetime('2017-01-01')],\n",
    "    right=False,\n",
    "    labels= ['train', 'test', 'prod']\n",
    ")"
   ]
  },
  {
   "cell_type": "code",
   "execution_count": null,
   "id": "B2-H3Ra8GCYl",
   "metadata": {
    "id": "B2-H3Ra8GCYl"
   },
   "outputs": [],
   "source": [
    "# Set target and features\n",
    "target = 'tip_amount'\n",
    "features = [col for col in data.columns if col not in [target, 'lpep_pickup_datetime', 'partition']]\n",
    "\n",
    "# Split the data\n",
    "X_train = data.loc[data['partition'] == 'train', features]\n",
    "y_train = data.loc[data['partition'] == 'train', target]\n",
    "\n",
    "X_test = data.loc[data['partition'] == 'test', features]\n",
    "y_test = data.loc[data['partition'] == 'test', target]\n",
    "\n",
    "X_prod = data.loc[data['partition'] == 'prod', features]\n",
    "y_prod = data.loc[data['partition'] == 'prod', target]"
   ]
  },
  {
   "cell_type": "code",
   "execution_count": null,
   "id": "d68c2328",
   "metadata": {
    "colab": {
     "base_uri": "https://localhost:8080/",
     "height": 300
    },
    "id": "d68c2328",
    "outputId": "ff8bdcf6-8083-4882-dc02-4342210b5023",
    "scrolled": true
   },
   "outputs": [],
   "source": [
    "display(y_train.describe().to_frame())"
   ]
  },
  {
   "cell_type": "code",
   "execution_count": null,
   "id": "fa4dac07",
   "metadata": {
    "colab": {
     "base_uri": "https://localhost:8080/",
     "height": 865
    },
    "id": "fa4dac07",
    "outputId": "3aef959b-5c61-4cbd-9b55-eb007b20c826"
   },
   "outputs": [],
   "source": [
    "y_train.plot(kind='box')\n",
    "plt.savefig('../_static/example_green_taxi_tip_amount_boxplot.svg', format='svg')\n",
    "plt.show()\n",
    "\n",
    "y_train.clip(lower=0, upper=y_train.quantile(0.8)).to_frame().hist()\n",
    "plt.savefig('../_static/example_green_taxi_tip_amount_distribution.svg', format='svg')\n",
    "plt.show()"
   ]
  },
  {
   "cell_type": "code",
   "execution_count": null,
   "id": "528fbf0f",
   "metadata": {
    "colab": {
     "base_uri": "https://localhost:8080/",
     "height": 75
    },
    "id": "528fbf0f",
    "outputId": "0ecfe8b0-9917-47e5-f7cc-1b3c8f7174e2"
   },
   "outputs": [],
   "source": [
    "# Fit the model\n",
    "model = LGBMRegressor(random_state=111)\n",
    "model.fit(X_train, y_train)\n",
    "\n",
    "# Make predictions\n",
    "y_pred_train = model.predict(X_train)\n",
    "y_pred_test = model.predict(X_test)"
   ]
  },
  {
   "cell_type": "code",
   "execution_count": null,
   "id": "4fd0fe9b",
   "metadata": {
    "id": "4fd0fe9b"
   },
   "outputs": [],
   "source": [
    "# Make baseline predictions\n",
    "y_pred_train_baseline = np.ones_like(y_train) * y_train.mean()\n",
    "y_pred_test_baseline = np.ones_like(y_test) * y_train.mean()\n",
    "\n",
    "# Measure train, test and baseline performance\n",
    "mae_train = mean_absolute_error(y_train, y_pred_train).round(4)\n",
    "mae_test = mean_absolute_error(y_test, y_pred_test).round(4)\n",
    "\n",
    "mae_train_baseline = mean_absolute_error(y_train, y_pred_train_baseline).round(4)\n",
    "mae_test_baseline = mean_absolute_error(y_test, y_pred_test_baseline).round(4)"
   ]
  },
  {
   "cell_type": "code",
   "execution_count": null,
   "id": "beb7b032",
   "metadata": {
    "colab": {
     "base_uri": "https://localhost:8080/",
     "height": 410
    },
    "id": "beb7b032",
    "outputId": "f750cf58-636f-4f80-aee9-c01dc30c87e7",
    "scrolled": false
   },
   "outputs": [],
   "source": [
    "# Create performance report\n",
    "fig, (ax1, ax2) = plt.subplots(ncols=2, figsize=(12,4))\n",
    "\n",
    "title1 = 'Train MAE: {} (<> {})'.format(mae_train, mae_train_baseline)\n",
    "ax1.set(title=title1, xlabel='y_train', ylabel='y_pred')\n",
    "ax1.plot(y_train, y_train, color='red', linestyle=':')\n",
    "ax1.scatter(y_train, y_pred_train, alpha=0.1)\n",
    "\n",
    "title2 = 'Test MAE: {} (<> {})'.format(mae_test, mae_test_baseline)\n",
    "ax2.set(title=title2, xlabel='y_test', ylabel='y_pred')\n",
    "ax2.plot(y_test, y_test, color='red', linestyle=':')\n",
    "ax2.scatter(y_test, y_pred_test, alpha=0.1)\n",
    "\n",
    "plt.show()\n"
   ]
  },
  {
   "cell_type": "code",
   "execution_count": null,
   "id": "5BlWsneHW_eY",
   "metadata": {
    "colab": {
     "base_uri": "https://localhost:8080/",
     "height": 472
    },
    "id": "5BlWsneHW_eY",
    "outputId": "eb12f11d-000e-48b0-c812-302f21200669"
   },
   "outputs": [],
   "source": [
    "# plot the feature importance\n",
    "fig, ax = plt.subplots()\n",
    "plot_importance(model, ax=ax)\n",
    "plt.savefig('../_static/example_green_taxi_feature_importance.svg', format='svg')\n",
    "plt.show()"
   ]
  },
  {
   "cell_type": "code",
   "execution_count": null,
   "id": "a84a4a2d",
   "metadata": {
    "id": "a84a4a2d"
   },
   "outputs": [],
   "source": [
    "y_pred_prod = model.predict(X_prod)"
   ]
  },
  {
   "cell_type": "code",
   "execution_count": null,
   "id": "dd5e6ef3",
   "metadata": {
    "id": "dd5e6ef3"
   },
   "outputs": [],
   "source": [
    "reference = X_test.copy() # using the test set as a reference\n",
    "reference['y_pred'] = y_pred_test # reference predictions\n",
    "reference['tip_amount'] = y_test # ground truth (currect targets)\n",
    "reference = reference.join(data['lpep_pickup_datetime']) # date\n",
    "\n",
    "analysis = X_prod.copy() # features\n",
    "analysis['y_pred'] = y_pred_prod # prod predictions\n",
    "analysis = analysis.join(data['lpep_pickup_datetime']) # date"
   ]
  },
  {
   "cell_type": "code",
   "execution_count": null,
   "id": "3dfbd7a4",
   "metadata": {
    "colab": {
     "base_uri": "https://localhost:8080/"
    },
    "id": "3dfbd7a4",
    "outputId": "8d3b7567-66e8-4c09-8654-096ca2c5fa90",
    "scrolled": false
   },
   "outputs": [],
   "source": [
    "dle = nml.DLE(\n",
    "    metrics=['mae'],\n",
    "    y_true='tip_amount',\n",
    "    y_pred='y_pred',\n",
    "    feature_column_names=features,\n",
    "    timestamp_column_name='lpep_pickup_datetime',\n",
    "    chunk_period='d' # perform an estimation daily\n",
    ")\n",
    "\n",
    "dle.fit(reference) # fit on the reference (test) data\n",
    "estimated_performance = dle.estimate(analysis) # estimate on the prod data"
   ]
  },
  {
   "cell_type": "code",
   "execution_count": null,
   "id": "e4b34a9a",
   "metadata": {
    "colab": {
     "base_uri": "https://localhost:8080/",
     "height": 517
    },
    "id": "e4b34a9a",
    "outputId": "7ee26cfd-7bfb-4500-8aa6-42ece6766ce5"
   },
   "outputs": [],
   "source": [
    "figure = estimated_performance.plot()\n",
    "figure.write_image(f'../_static/example_green_taxi_dle.svg')"
   ]
  },
  {
   "cell_type": "code",
   "execution_count": null,
   "id": "3a7b6877",
   "metadata": {
    "id": "3a7b6877",
    "scrolled": false
   },
   "outputs": [],
   "source": [
    "drdc = nml.DataReconstructionDriftCalculator(\n",
    "    column_names=features,\n",
    "    timestamp_column_name='lpep_pickup_datetime',\n",
    "    chunk_period='d',\n",
    ")\n",
    "\n",
    "drdc.fit(reference)\n",
    "multivariate_data_drift = drdc.calculate(analysis)"
   ]
  },
  {
   "cell_type": "code",
   "execution_count": null,
   "id": "74a8f9c4",
   "metadata": {
    "colab": {
     "base_uri": "https://localhost:8080/",
     "height": 542
    },
    "id": "74a8f9c4",
    "outputId": "5ebcc144-07e7-4cdb-c136-2b6e20d4aa1e"
   },
   "outputs": [],
   "source": [
    "figure = multivariate_data_drift.plot()\n",
    "figure.write_image(f'../_static/example_green_taxi_pca_error.svg')"
   ]
  },
  {
   "cell_type": "code",
   "execution_count": null,
   "id": "79fed665",
   "metadata": {
    "id": "79fed665"
   },
   "outputs": [],
   "source": [
    "udc = nml.UnivariateDriftCalculator(\n",
    "    column_names=features,\n",
    "    timestamp_column_name='lpep_pickup_datetime',\n",
    "    chunk_period='d',\n",
    ")\n",
    "\n",
    "udc.fit(reference)\n",
    "univariate_data_drift = udc.calculate(analysis)"
   ]
  },
  {
   "cell_type": "code",
   "execution_count": null,
   "id": "GnGnV5v0d7Fp",
   "metadata": {
    "colab": {
     "base_uri": "https://localhost:8080/",
     "height": 517
    },
    "id": "GnGnV5v0d7Fp",
    "outputId": "8b4933d6-c799-4f70-9d38-fe138e26d588"
   },
   "outputs": [],
   "source": [
    "figure = univariate_data_drift.filter(period='all', metrics='jensen_shannon', column_names=['DOLocationID']).plot(kind='distribution')\n",
    "figure.write_image(f'../_static/example_green_taxi_location_udc.svg')"
   ]
  },
  {
   "cell_type": "code",
   "execution_count": null,
   "id": "ofutS6MwgFEd",
   "metadata": {
    "colab": {
     "background_save": true
    },
    "id": "ofutS6MwgFEd",
    "outputId": "5c9f19f2-6452-422e-8620-8bf38065a6c3"
   },
   "outputs": [],
   "source": [
    "figure = univariate_data_drift.filter(period='all', metrics='jensen_shannon', column_names=['pickup_time']).plot(kind='distribution')\n",
    "figure.write_image(f'../_static/example_green_taxi_pickup_udc.svg')"
   ]
  },
  {
   "cell_type": "code",
   "execution_count": null,
   "id": "QCIMHtwkhG9K",
   "metadata": {
    "colab": {
     "background_save": true,
     "base_uri": "https://localhost:8080/",
     "height": 1000
    },
    "id": "QCIMHtwkhG9K",
    "outputId": "f63aa06d-d290-469d-858c-4ee0fd98b168"
   },
   "outputs": [],
   "source": [
    "figure = univariate_data_drift.filter(period='all', metrics='jensen_shannon').plot(kind='distribution')\n",
    "\n",
    "figure.write_image(f'../_static/example_green_taxi_all_udc.svg')\n"
   ]
  },
  {
   "cell_type": "code",
   "execution_count": null,
   "id": "DdFamecl4JPi",
   "metadata": {
    "colab": {
     "background_save": true,
     "base_uri": "https://localhost:8080/",
     "height": 517
    },
    "id": "DdFamecl4JPi",
    "outputId": "5aa21588-5335-46e6-9760-0b954e988267"
   },
   "outputs": [],
   "source": [
    "perfc = nml.PerformanceCalculator(\n",
    "    metrics=['mae'],\n",
    "    y_true='tip_amount',\n",
    "    y_pred='y_pred',\n",
    "    problem_type='regression',\n",
    "    timestamp_column_name='lpep_pickup_datetime',\n",
    "    chunk_period='d'\n",
    ")\n",
    "\n",
    "perfc.fit(reference)\n",
    "realized_performance = perfc.calculate(analysis.assign(tip_amount = y_prod))\n",
    "\n",
    "figure = estimated_performance.filter(period='analysis').compare(realized_performance).plot()\n",
    "figure.write_image(f'../_static/example_green_taxi_dle_vs_realized.svg')"
   ]
  }
 ],
 "metadata": {
  "colab": {
   "provenance": []
  },
  "kernelspec": {
   "display_name": "Python 3 (ipykernel)",
   "language": "python",
   "name": "python3"
  },
  "language_info": {
   "codemirror_mode": {
    "name": "ipython",
    "version": 3
   },
   "file_extension": ".py",
   "mimetype": "text/x-python",
   "name": "python",
   "nbconvert_exporter": "python",
   "pygments_lexer": "ipython3",
   "version": "3.10.4"
  }
 },
 "nbformat": 4,
 "nbformat_minor": 5
}
