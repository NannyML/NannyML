{
 "cells": [
  {
   "cell_type": "code",
   "execution_count": 1,
   "id": "8d193e87",
   "metadata": {
    "execution": {
     "iopub.execute_input": "2022-10-06T20:59:53.504940Z",
     "iopub.status.busy": "2022-10-06T20:59:53.500630Z",
     "iopub.status.idle": "2022-10-06T20:59:55.686771Z",
     "shell.execute_reply": "2022-10-06T20:59:55.685822Z"
    }
   },
   "outputs": [
    {
     "ename": "ModuleNotFoundError",
     "evalue": "No module named 'apscheduler'",
     "output_type": "error",
     "traceback": [
      "\u001b[0;31m---------------------------------------------------------------------------\u001b[0m",
      "\u001b[0;31mModuleNotFoundError\u001b[0m                       Traceback (most recent call last)",
      "\u001b[0;32m/tmp/ipykernel_254543/2411169007.py\u001b[0m in \u001b[0;36m<cell line: 1>\u001b[0;34m()\u001b[0m\n\u001b[0;32m----> 1\u001b[0;31m \u001b[0;32mimport\u001b[0m \u001b[0mnannyml\u001b[0m \u001b[0;32mas\u001b[0m \u001b[0mnml\u001b[0m\u001b[0;34m\u001b[0m\u001b[0;34m\u001b[0m\u001b[0m\n\u001b[0m\u001b[1;32m      2\u001b[0m \u001b[0;32mfrom\u001b[0m \u001b[0mIPython\u001b[0m\u001b[0;34m.\u001b[0m\u001b[0mdisplay\u001b[0m \u001b[0;32mimport\u001b[0m \u001b[0mdisplay\u001b[0m\u001b[0;34m\u001b[0m\u001b[0;34m\u001b[0m\u001b[0m\n\u001b[1;32m      3\u001b[0m \u001b[0;34m\u001b[0m\u001b[0m\n\u001b[1;32m      4\u001b[0m \u001b[0;31m# Load synthetic data\u001b[0m\u001b[0;34m\u001b[0m\u001b[0;34m\u001b[0m\u001b[0m\n\u001b[1;32m      5\u001b[0m \u001b[0mreference\u001b[0m\u001b[0;34m,\u001b[0m \u001b[0manalysis\u001b[0m\u001b[0;34m,\u001b[0m \u001b[0manalysis_target\u001b[0m \u001b[0;34m=\u001b[0m \u001b[0mnml\u001b[0m\u001b[0;34m.\u001b[0m\u001b[0mload_synthetic_binary_classification_dataset\u001b[0m\u001b[0;34m(\u001b[0m\u001b[0;34m)\u001b[0m\u001b[0;34m\u001b[0m\u001b[0;34m\u001b[0m\u001b[0m\n",
      "\u001b[0;32m~/Source/nannyml/nannyml/__init__.py\u001b[0m in \u001b[0;36m<module>\u001b[0;34m\u001b[0m\n\u001b[1;32m     39\u001b[0m \u001b[0;32mfrom\u001b[0m \u001b[0;34m.\u001b[0m\u001b[0mcalibration\u001b[0m \u001b[0;32mimport\u001b[0m \u001b[0mCalibrator\u001b[0m\u001b[0;34m,\u001b[0m \u001b[0mIsotonicCalibrator\u001b[0m\u001b[0;34m,\u001b[0m \u001b[0mneeds_calibration\u001b[0m\u001b[0;34m\u001b[0m\u001b[0;34m\u001b[0m\u001b[0m\n\u001b[1;32m     40\u001b[0m \u001b[0;32mfrom\u001b[0m \u001b[0;34m.\u001b[0m\u001b[0mchunk\u001b[0m \u001b[0;32mimport\u001b[0m \u001b[0mChunk\u001b[0m\u001b[0;34m,\u001b[0m \u001b[0mChunker\u001b[0m\u001b[0;34m,\u001b[0m \u001b[0mCountBasedChunker\u001b[0m\u001b[0;34m,\u001b[0m \u001b[0mDefaultChunker\u001b[0m\u001b[0;34m,\u001b[0m \u001b[0mPeriodBasedChunker\u001b[0m\u001b[0;34m,\u001b[0m \u001b[0mSizeBasedChunker\u001b[0m\u001b[0;34m\u001b[0m\u001b[0;34m\u001b[0m\u001b[0m\n\u001b[0;32m---> 41\u001b[0;31m \u001b[0;32mfrom\u001b[0m \u001b[0;34m.\u001b[0m\u001b[0mcli\u001b[0m \u001b[0;32mimport\u001b[0m \u001b[0mcli\u001b[0m\u001b[0;34m,\u001b[0m \u001b[0mrun\u001b[0m\u001b[0;34m\u001b[0m\u001b[0;34m\u001b[0m\u001b[0m\n\u001b[0m\u001b[1;32m     42\u001b[0m from .datasets import (\n\u001b[1;32m     43\u001b[0m     \u001b[0mload_modified_california_housing_dataset\u001b[0m\u001b[0;34m,\u001b[0m\u001b[0;34m\u001b[0m\u001b[0;34m\u001b[0m\u001b[0m\n",
      "\u001b[0;32m~/Source/nannyml/nannyml/cli/__init__.py\u001b[0m in \u001b[0;36m<module>\u001b[0;34m\u001b[0m\n\u001b[1;32m      4\u001b[0m \u001b[0;34m\u001b[0m\u001b[0m\n\u001b[1;32m      5\u001b[0m \u001b[0;32mfrom\u001b[0m \u001b[0;34m.\u001b[0m\u001b[0mcli\u001b[0m \u001b[0;32mimport\u001b[0m \u001b[0mcli\u001b[0m  \u001b[0;31m# noqa\u001b[0m\u001b[0;34m\u001b[0m\u001b[0;34m\u001b[0m\u001b[0m\n\u001b[0;32m----> 6\u001b[0;31m \u001b[0;32mfrom\u001b[0m \u001b[0;34m.\u001b[0m\u001b[0mrun\u001b[0m \u001b[0;32mimport\u001b[0m \u001b[0mrun\u001b[0m  \u001b[0;31m# noqa\u001b[0m\u001b[0;34m\u001b[0m\u001b[0;34m\u001b[0m\u001b[0m\n\u001b[0m",
      "\u001b[0;32m~/Source/nannyml/nannyml/cli/run.py\u001b[0m in \u001b[0;36m<module>\u001b[0;34m\u001b[0m\n\u001b[1;32m      8\u001b[0m \u001b[0;32mimport\u001b[0m \u001b[0mclick\u001b[0m  \u001b[0;31m# type: ignore\u001b[0m\u001b[0;34m\u001b[0m\u001b[0;34m\u001b[0m\u001b[0m\n\u001b[1;32m      9\u001b[0m \u001b[0;32mimport\u001b[0m \u001b[0mjinja2\u001b[0m  \u001b[0;31m# type: ignore\u001b[0m\u001b[0;34m\u001b[0m\u001b[0;34m\u001b[0m\u001b[0m\n\u001b[0;32m---> 10\u001b[0;31m \u001b[0;32mfrom\u001b[0m \u001b[0mapscheduler\u001b[0m\u001b[0;34m.\u001b[0m\u001b[0mschedulers\u001b[0m\u001b[0;34m.\u001b[0m\u001b[0mblocking\u001b[0m \u001b[0;32mimport\u001b[0m \u001b[0mBlockingScheduler\u001b[0m\u001b[0;34m\u001b[0m\u001b[0;34m\u001b[0m\u001b[0m\n\u001b[0m\u001b[1;32m     11\u001b[0m \u001b[0;32mfrom\u001b[0m \u001b[0mapscheduler\u001b[0m\u001b[0;34m.\u001b[0m\u001b[0mtriggers\u001b[0m\u001b[0;34m.\u001b[0m\u001b[0mcron\u001b[0m \u001b[0;32mimport\u001b[0m \u001b[0mCronTrigger\u001b[0m\u001b[0;34m\u001b[0m\u001b[0;34m\u001b[0m\u001b[0m\n\u001b[1;32m     12\u001b[0m \u001b[0;32mfrom\u001b[0m \u001b[0mrich\u001b[0m\u001b[0;34m.\u001b[0m\u001b[0mconsole\u001b[0m \u001b[0;32mimport\u001b[0m \u001b[0mConsole\u001b[0m\u001b[0;34m\u001b[0m\u001b[0;34m\u001b[0m\u001b[0m\n",
      "\u001b[0;31mModuleNotFoundError\u001b[0m: No module named 'apscheduler'"
     ]
    }
   ],
   "source": [
    "import nannyml as nml\n",
    "from IPython.display import display\n",
    "\n",
    "# Load synthetic data\n",
    "reference, analysis, analysis_target = nml.load_synthetic_binary_classification_dataset()\n",
    "display(reference.head())\n",
    "display(analysis.head())"
   ]
  },
  {
   "cell_type": "code",
   "execution_count": null,
   "id": "5caf1f97",
   "metadata": {},
   "outputs": [],
   "source": [
    "print(reference.head().to_markdown(tablefmt=\"grid\"))"
   ]
  },
  {
   "cell_type": "code",
   "execution_count": null,
   "id": "3aa5d878",
   "metadata": {},
   "outputs": [],
   "source": [
    "print(analysis.head().to_markdown(tablefmt=\"grid\"))"
   ]
  },
  {
   "cell_type": "code",
   "execution_count": null,
   "id": "9c31391c",
   "metadata": {},
   "outputs": [],
   "source": [
    "# Choose a chunker or set a chunk size\n",
    "chunk_size = 5000"
   ]
  },
  {
   "cell_type": "code",
   "execution_count": null,
   "id": "a1f7d99b",
   "metadata": {},
   "outputs": [],
   "source": [
    "# initialize, specify required data columns, fit estimator and estimate\n",
    "estimator = nml.CBPE(\n",
    "    y_pred_proba='y_pred_proba',\n",
    "    y_pred='y_pred',\n",
    "    y_true='work_home_actual',\n",
    "    metrics=['roc_auc'],\n",
    "    chunk_size=chunk_size,\n",
    "    problem_type='classification_binary',\n",
    ")\n",
    "estimator = estimator.fit(reference)\n",
    "estimated_performance = estimator.estimate(analysis)\n",
    "\n",
    "# Show results\n",
    "figure = estimated_performance.plot(kind='performance', metric='roc_auc', plot_reference=True)\n",
    "figure.show()"
   ]
  },
  {
   "cell_type": "code",
   "execution_count": null,
   "id": "80a55d59",
   "metadata": {},
   "outputs": [],
   "source": [
    "figure.write_image('../_static/quick-start-perf-est.svg')"
   ]
  },
  {
   "cell_type": "code",
   "execution_count": null,
   "id": "36d7440e",
   "metadata": {},
   "outputs": [],
   "source": [
    "# Define feature columns\n",
    "feature_column_names = [\n",
    "    col for col in reference.columns if col not in [\n",
    "        'timestamp', 'y_pred_proba', 'period', 'y_pred', 'work_home_actual', 'identifier'\n",
    "    ]]\n",
    "# Let's initialize the object that will perform the Univariate Drift calculations\n",
    "univariate_calculator = nml.UnivariateStatisticalDriftCalculator(\n",
    "    feature_column_names=feature_column_names,\n",
    "    chunk_size=chunk_size\n",
    ")\n",
    "univariate_calculator = univariate_calculator.fit(reference)\n",
    "univariate_results = univariate_calculator.calculate(analysis)\n",
    "# Plot drift results for all model inputs\n",
    "for feature in univariate_calculator.feature_column_names:\n",
    "    figure = univariate_results.plot(\n",
    "        kind='feature_drift',\n",
    "        metric='statistic',\n",
    "        feature_column_name=feature,\n",
    "        plot_reference=True\n",
    "    )\n",
    "    figure.show()"
   ]
  },
  {
   "cell_type": "code",
   "execution_count": null,
   "id": "98046303",
   "metadata": {},
   "outputs": [],
   "source": [
    "for feature in univariate_calculator.feature_column_names:\n",
    "    figure = univariate_results.plot(\n",
    "        kind='feature_drift',\n",
    "        metric='statistic',\n",
    "        feature_column_name=feature,\n",
    "        plot_reference=True\n",
    "    )\n",
    "    figure.write_image(f'../_static/quick-start-drift-{feature}.svg')"
   ]
  },
  {
   "cell_type": "code",
   "execution_count": null,
   "id": "b610d543",
   "metadata": {},
   "outputs": [],
   "source": [
    "ranker = nml.Ranker.by('alert_count')\n",
    "ranked_features = ranker.rank(univariate_results, only_drifting = False)\n",
    "display(ranked_features)"
   ]
  },
  {
   "cell_type": "code",
   "execution_count": null,
   "id": "345c91ee",
   "metadata": {},
   "outputs": [],
   "source": [
    "print(ranked_features.to_markdown(tablefmt=\"grid\"))"
   ]
  },
  {
   "cell_type": "code",
   "execution_count": null,
   "id": "e6c83bf4",
   "metadata": {},
   "outputs": [],
   "source": [
    "calc = nml.StatisticalOutputDriftCalculator(\n",
    "    y_pred='y_pred',\n",
    "    y_pred_proba='y_pred_proba',\n",
    "    problem_type='classification_binary'\n",
    ")\n",
    "calc.fit(reference)\n",
    "results = calc.calculate(analysis)\n",
    "\n",
    "figure = results.plot(kind='prediction_drift', plot_reference=True)\n",
    "figure.show()"
   ]
  },
  {
   "cell_type": "code",
   "execution_count": null,
   "id": "87bdb83e",
   "metadata": {},
   "outputs": [],
   "source": [
    "figure.write_image('../_static/quick-start-score-drift.svg')"
   ]
  },
  {
   "cell_type": "code",
   "execution_count": null,
   "id": "f3670f4c",
   "metadata": {},
   "outputs": [],
   "source": [
    "# Let's initialize the object that will perform Data Reconstruction with PCA\n",
    "rcerror_calculator = nml.DataReconstructionDriftCalculator(\n",
    "    feature_column_names=feature_column_names,\n",
    "    chunk_size=chunk_size\n",
    ").fit(reference_data=reference)\n",
    "# let's see Reconstruction error statistics for all available data\n",
    "rcerror_results = rcerror_calculator.calculate(analysis)\n",
    "figure = rcerror_results.plot(kind='drift', plot_reference=True)\n",
    "figure.show()"
   ]
  },
  {
   "cell_type": "code",
   "execution_count": null,
   "id": "0d7fff10",
   "metadata": {},
   "outputs": [],
   "source": [
    "figure.write_image('../_static/quick-start-drift-multivariate.svg')\n"
   ]
  }
 ],
 "metadata": {
  "kernelspec": {
   "display_name": "Python 3 (ipykernel)",
   "language": "python",
   "name": "python3"
  },
  "language_info": {
   "codemirror_mode": {
    "name": "ipython",
    "version": 3
   },
   "file_extension": ".py",
   "mimetype": "text/x-python",
   "name": "python",
   "nbconvert_exporter": "python",
   "pygments_lexer": "ipython3",
   "version": "3.10.7"
  }
 },
 "nbformat": 4,
 "nbformat_minor": 5
}
