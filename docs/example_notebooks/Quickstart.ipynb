{
 "cells": [
  {
   "cell_type": "code",
   "execution_count": 1,
   "id": "7926cf79",
   "metadata": {},
   "outputs": [],
   "source": [
    "import nannyml as nml\n",
    "import pandas as pd\n",
    "from IPython.display import display"
   ]
  },
  {
   "cell_type": "code",
   "execution_count": null,
   "id": "ff2b2205",
   "metadata": {},
   "outputs": [],
   "source": [
    "from docs.utils import print_some_of_the_columns_only_markdown, print_table"
   ]
  },
  {
   "cell_type": "code",
   "execution_count": null,
   "id": "8d193e87",
   "metadata": {},
   "outputs": [],
   "source": [
    "df_reference, df_analysis, _ = nml.load_us_census_ma_employment_data()\n",
    "display(df_reference.head())\n",
    "display(df_analysis.head())"
   ]
  },
  {
   "cell_type": "code",
   "execution_count": null,
   "id": "f61fb431",
   "metadata": {},
   "outputs": [],
   "source": [
    "print_some_of_the_columns_only_markdown(df_reference, 2, 5)"
   ]
  },
  {
   "cell_type": "code",
   "execution_count": null,
   "id": "3aa5d878",
   "metadata": {},
   "outputs": [],
   "source": [
    "print_some_of_the_columns_only_markdown(df_analysis, 2, 5)"
   ]
  },
  {
   "cell_type": "code",
   "execution_count": null,
   "id": "1f29fb83",
   "metadata": {},
   "outputs": [],
   "source": [
    "chunk_size = 5_000"
   ]
  },
  {
   "cell_type": "code",
   "execution_count": null,
   "id": "72f2ed5a",
   "metadata": {},
   "outputs": [],
   "source": [
    "estimator = nml.CBPE(\n",
    "    problem_type='classification_binary',\n",
    "    y_pred_proba='predicted_probability',\n",
    "    y_pred='prediction',\n",
    "    y_true='employed',\n",
    "    metrics=['roc_auc'],\n",
    "    chunk_size=chunk_size,\n",
    ")"
   ]
  },
  {
   "cell_type": "code",
   "execution_count": null,
   "id": "1ccb291c",
   "metadata": {},
   "outputs": [],
   "source": [
    "estimator = estimator.fit(df_reference)\n",
    "estimated_performance = estimator.estimate(df_analysis)"
   ]
  },
  {
   "cell_type": "code",
   "execution_count": null,
   "id": "a1f7d99b",
   "metadata": {},
   "outputs": [],
   "source": [
    "figure = estimated_performance.plot()\n",
    "figure.show()"
   ]
  },
  {
   "cell_type": "code",
   "execution_count": null,
   "id": "80a55d59",
   "metadata": {},
   "outputs": [],
   "source": [
    "figure.write_image('../_static/quick-start-perf-est.svg', width=1000)"
   ]
  },
  {
   "cell_type": "code",
   "execution_count": null,
   "id": "8c36d21e",
   "metadata": {},
   "outputs": [],
   "source": [
    "features = ['AGEP', 'SCHL', 'MAR', 'RELP', 'DIS', 'ESP', 'CIT', 'MIG', 'MIL', 'ANC',\n",
    "       'NATIVITY', 'DEAR', 'DEYE', 'DREM', 'SEX', 'RAC1P']\n",
    "\n",
    "univariate_calculator = nml.UnivariateDriftCalculator(\n",
    "    column_names=features,\n",
    "    chunk_size=chunk_size\n",
    ")\n",
    "\n",
    "univariate_calculator.fit(df_reference)\n",
    "univariate_drift = univariate_calculator.calculate(df_analysis)"
   ]
  },
  {
   "cell_type": "code",
   "execution_count": null,
   "id": "2aa80c41",
   "metadata": {},
   "outputs": [],
   "source": [
    "alert_count_ranker = nml.AlertCountRanker()\n",
    "alert_count_ranked_features = alert_count_ranker.rank(univariate_drift)\n",
    "display(alert_count_ranked_features.head())"
   ]
  },
  {
   "cell_type": "code",
   "execution_count": null,
   "id": "3776dcfc",
   "metadata": {},
   "outputs": [],
   "source": [
    "print_table(alert_count_ranked_features.head())"
   ]
  },
  {
   "cell_type": "code",
   "execution_count": null,
   "id": "0173cd61",
   "metadata": {},
   "outputs": [],
   "source": [
    "figure = univariate_drift.filter(column_names=['RELP','AGEP', 'SCHL']).plot()\n",
    "figure.show()"
   ]
  },
  {
   "cell_type": "code",
   "execution_count": null,
   "id": "5634ebb5",
   "metadata": {},
   "outputs": [],
   "source": [
    "figure.write_image(f'../_static/quick-start-drift.svg', width=1000)"
   ]
  },
  {
   "cell_type": "code",
   "execution_count": null,
   "id": "e577ebfc",
   "metadata": {},
   "outputs": [],
   "source": [
    "uni_drift_AGEP_analysis = univariate_drift.filter(column_names=['RELP'], period='analysis')\n",
    "figure = estimated_performance.compare(uni_drift_AGEP_analysis).plot()\n",
    "figure.show()"
   ]
  },
  {
   "cell_type": "code",
   "execution_count": null,
   "id": "ddbc1146",
   "metadata": {},
   "outputs": [],
   "source": [
    "figure.write_image(f'../_static/quick-start-drift-n-performance.svg', width=1000)"
   ]
  },
  {
   "cell_type": "code",
   "execution_count": null,
   "id": "aee5f1a6",
   "metadata": {},
   "outputs": [],
   "source": [
    "figure = univariate_drift.filter(period='analysis', column_names=['RELP','AGEP', 'SCHL']).plot(kind='distribution')\n",
    "figure.show()"
   ]
  },
  {
   "cell_type": "code",
   "execution_count": null,
   "id": "1960da77",
   "metadata": {},
   "outputs": [],
   "source": [
    "figure.write_image(f'../_static/quick-start-univariate-distribution.svg', width=1000)"
   ]
  },
  {
   "cell_type": "code",
   "execution_count": null,
   "id": "4d7d2cdc",
   "metadata": {},
   "outputs": [],
   "source": [
    "_, _, analysis_targets = nml.load_us_census_ma_employment_data()"
   ]
  },
  {
   "cell_type": "code",
   "execution_count": null,
   "id": "b89bb2cc",
   "metadata": {},
   "outputs": [],
   "source": [
    "df_analysis_with_targets = pd.concat([df_analysis, analysis_targets], axis=1)\n",
    "display(df_analysis_with_targets.head())"
   ]
  },
  {
   "cell_type": "code",
   "execution_count": null,
   "id": "744693fe",
   "metadata": {},
   "outputs": [],
   "source": [
    "print_some_of_the_columns_only_markdown(df_analysis_with_targets.head(), 2, 5)"
   ]
  },
  {
   "cell_type": "code",
   "execution_count": null,
   "id": "3af64cec",
   "metadata": {},
   "outputs": [],
   "source": [
    "performance_calculator = nml.PerformanceCalculator(\n",
    "    problem_type='classification_binary',\n",
    "    y_pred_proba='predicted_probability',\n",
    "    y_pred='prediction',\n",
    "    y_true='employed',\n",
    "    metrics=['roc_auc'],\n",
    "    chunk_size=chunk_size)\n",
    "\n",
    "performance_calculator.fit(df_reference)\n",
    "calculated_performance = performance_calculator.calculate(df_analysis_with_targets)\n",
    "\n",
    "figure = estimated_performance.filter(period='analysis').compare(calculated_performance).plot()\n",
    "figure.show()"
   ]
  },
  {
   "cell_type": "code",
   "execution_count": null,
   "id": "c968e5ff",
   "metadata": {},
   "outputs": [],
   "source": [
    "figure.write_image(f'../_static/quick-start-estimated-and-realized.svg', width=1000)"
   ]
  },
  {
   "cell_type": "code",
   "execution_count": null,
   "id": "220b48c7",
   "metadata": {},
   "outputs": [],
   "source": []
  }
 ],
 "metadata": {
  "kernelspec": {
   "display_name": "Python 3 (ipykernel)",
   "language": "python",
   "name": "python3"
  },
  "language_info": {
   "codemirror_mode": {
    "name": "ipython",
    "version": 3
   },
   "file_extension": ".py",
   "mimetype": "text/x-python",
   "name": "python",
   "nbconvert_exporter": "python",
   "pygments_lexer": "ipython3",
   "version": "3.9.7"
  }
 },
 "nbformat": 4,
 "nbformat_minor": 5
}
