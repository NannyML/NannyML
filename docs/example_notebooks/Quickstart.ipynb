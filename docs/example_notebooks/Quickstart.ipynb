{
 "cells": [
  {
   "cell_type": "code",
   "execution_count": 1,
   "id": "8d193e87",
   "metadata": {
    "pycharm": {
     "name": "#%%\n"
    }
   },
   "outputs": [
    {
     "data": {
      "text/plain": "   distance_from_office salary_range  gas_price_per_litre  \\\n0              5.962247  40K - 60K €             2.119485   \n1              0.535872  40K - 60K €             2.357199   \n2              1.969519  40K - 60K €             2.366849   \n3              2.530410  20K - 20K €             2.318722   \n4              2.253635       60K+ €             2.221265   \n\n   public_transportation_cost  wfh_prev_workday   workday    tenure  \\\n0                    8.568058             False    Friday  0.212653   \n1                    5.425382              True   Tuesday  4.927549   \n2                    8.247158             False    Monday  0.520817   \n3                    7.944251             False   Tuesday  0.453649   \n4                    8.884478              True  Thursday  5.695263   \n\n   identifier  work_home_actual            timestamp  y_pred_proba  partition  \\\n0           0                 1  2014-05-09 22:27:20          0.99  reference   \n1           1                 0  2014-05-09 22:59:32          0.07  reference   \n2           2                 1  2014-05-09 23:48:25          1.00  reference   \n3           3                 1  2014-05-10 01:12:09          0.98  reference   \n4           4                 1  2014-05-10 02:21:34          0.99  reference   \n\n   y_pred  \n0       1  \n1       0  \n2       1  \n3       1  \n4       1  ",
      "text/html": "<div>\n<style scoped>\n    .dataframe tbody tr th:only-of-type {\n        vertical-align: middle;\n    }\n\n    .dataframe tbody tr th {\n        vertical-align: top;\n    }\n\n    .dataframe thead th {\n        text-align: right;\n    }\n</style>\n<table border=\"1\" class=\"dataframe\">\n  <thead>\n    <tr style=\"text-align: right;\">\n      <th></th>\n      <th>distance_from_office</th>\n      <th>salary_range</th>\n      <th>gas_price_per_litre</th>\n      <th>public_transportation_cost</th>\n      <th>wfh_prev_workday</th>\n      <th>workday</th>\n      <th>tenure</th>\n      <th>identifier</th>\n      <th>work_home_actual</th>\n      <th>timestamp</th>\n      <th>y_pred_proba</th>\n      <th>partition</th>\n      <th>y_pred</th>\n    </tr>\n  </thead>\n  <tbody>\n    <tr>\n      <th>0</th>\n      <td>5.962247</td>\n      <td>40K - 60K €</td>\n      <td>2.119485</td>\n      <td>8.568058</td>\n      <td>False</td>\n      <td>Friday</td>\n      <td>0.212653</td>\n      <td>0</td>\n      <td>1</td>\n      <td>2014-05-09 22:27:20</td>\n      <td>0.99</td>\n      <td>reference</td>\n      <td>1</td>\n    </tr>\n    <tr>\n      <th>1</th>\n      <td>0.535872</td>\n      <td>40K - 60K €</td>\n      <td>2.357199</td>\n      <td>5.425382</td>\n      <td>True</td>\n      <td>Tuesday</td>\n      <td>4.927549</td>\n      <td>1</td>\n      <td>0</td>\n      <td>2014-05-09 22:59:32</td>\n      <td>0.07</td>\n      <td>reference</td>\n      <td>0</td>\n    </tr>\n    <tr>\n      <th>2</th>\n      <td>1.969519</td>\n      <td>40K - 60K €</td>\n      <td>2.366849</td>\n      <td>8.247158</td>\n      <td>False</td>\n      <td>Monday</td>\n      <td>0.520817</td>\n      <td>2</td>\n      <td>1</td>\n      <td>2014-05-09 23:48:25</td>\n      <td>1.00</td>\n      <td>reference</td>\n      <td>1</td>\n    </tr>\n    <tr>\n      <th>3</th>\n      <td>2.530410</td>\n      <td>20K - 20K €</td>\n      <td>2.318722</td>\n      <td>7.944251</td>\n      <td>False</td>\n      <td>Tuesday</td>\n      <td>0.453649</td>\n      <td>3</td>\n      <td>1</td>\n      <td>2014-05-10 01:12:09</td>\n      <td>0.98</td>\n      <td>reference</td>\n      <td>1</td>\n    </tr>\n    <tr>\n      <th>4</th>\n      <td>2.253635</td>\n      <td>60K+ €</td>\n      <td>2.221265</td>\n      <td>8.884478</td>\n      <td>True</td>\n      <td>Thursday</td>\n      <td>5.695263</td>\n      <td>4</td>\n      <td>1</td>\n      <td>2014-05-10 02:21:34</td>\n      <td>0.99</td>\n      <td>reference</td>\n      <td>1</td>\n    </tr>\n  </tbody>\n</table>\n</div>"
     },
     "execution_count": 1,
     "metadata": {},
     "output_type": "execute_result"
    }
   ],
   "source": [
    "import pandas as pd\n",
    "import nannyml as nml\n",
    "reference, analysis, analysis_target = nml.load_synthetic_sample()\n",
    "reference['y_pred'] = reference['y_pred_proba'].map(lambda p: int(p >= 0.8))\n",
    "analysis['y_pred'] = analysis['y_pred_proba'].map(lambda p: int(p >= 0.8))\n",
    "reference.head()"
   ]
  },
  {
   "cell_type": "code",
   "execution_count": 2,
   "id": "a1f7d99b",
   "metadata": {
    "pycharm": {
     "name": "#%%\n"
    }
   },
   "outputs": [],
   "source": [
    "metadata = nml.extract_metadata(data = reference, model_name='wfh_predictor')\n",
    "metadata.target_column_name = 'work_home_actual'\n",
    "data = pd.concat([reference, analysis], ignore_index=True)\n",
    "# Let's use a chunk size of 5000 data points to create our drift statistics\n",
    "chunk_size = 5000"
   ]
  },
  {
   "cell_type": "code",
   "execution_count": 3,
   "id": "25d31e63",
   "metadata": {
    "pycharm": {
     "name": "#%%\n"
    }
   },
   "outputs": [
    {
     "data": {
      "text/plain": "   distance_from_office salary_range  gas_price_per_litre  \\\n0              0.527691    0 - 20K €             1.800003   \n1              8.485134  20K - 20K €             2.222074   \n2              2.073876  40K - 60K €             2.310077   \n3              0.118456  20K - 20K €             2.171441   \n4              4.786705    0 - 20K €             2.368541   \n\n   public_transportation_cost  wfh_prev_workday  workday    tenure  \\\n0                    8.960724             False  Tuesday  4.224628   \n1                    8.768792             False   Friday  4.963103   \n2                    8.649979              True   Friday  4.588951   \n3                    8.855418             False  Tuesday  4.711015   \n4                    8.394966             False   Monday  0.906738   \n\n   identifier            timestamp  y_pred_proba partition  y_pred  \n0       50000  2017-08-31 04:20:00          0.99  analysis       1  \n1       50001  2017-08-31 05:16:16          0.98  analysis       1  \n2       50002  2017-08-31 05:56:44          0.98  analysis       1  \n3       50003  2017-08-31 06:10:17          0.97  analysis       1  \n4       50004  2017-08-31 06:29:38          0.92  analysis       1  ",
      "text/html": "<div>\n<style scoped>\n    .dataframe tbody tr th:only-of-type {\n        vertical-align: middle;\n    }\n\n    .dataframe tbody tr th {\n        vertical-align: top;\n    }\n\n    .dataframe thead th {\n        text-align: right;\n    }\n</style>\n<table border=\"1\" class=\"dataframe\">\n  <thead>\n    <tr style=\"text-align: right;\">\n      <th></th>\n      <th>distance_from_office</th>\n      <th>salary_range</th>\n      <th>gas_price_per_litre</th>\n      <th>public_transportation_cost</th>\n      <th>wfh_prev_workday</th>\n      <th>workday</th>\n      <th>tenure</th>\n      <th>identifier</th>\n      <th>timestamp</th>\n      <th>y_pred_proba</th>\n      <th>partition</th>\n      <th>y_pred</th>\n    </tr>\n  </thead>\n  <tbody>\n    <tr>\n      <th>0</th>\n      <td>0.527691</td>\n      <td>0 - 20K €</td>\n      <td>1.800003</td>\n      <td>8.960724</td>\n      <td>False</td>\n      <td>Tuesday</td>\n      <td>4.224628</td>\n      <td>50000</td>\n      <td>2017-08-31 04:20:00</td>\n      <td>0.99</td>\n      <td>analysis</td>\n      <td>1</td>\n    </tr>\n    <tr>\n      <th>1</th>\n      <td>8.485134</td>\n      <td>20K - 20K €</td>\n      <td>2.222074</td>\n      <td>8.768792</td>\n      <td>False</td>\n      <td>Friday</td>\n      <td>4.963103</td>\n      <td>50001</td>\n      <td>2017-08-31 05:16:16</td>\n      <td>0.98</td>\n      <td>analysis</td>\n      <td>1</td>\n    </tr>\n    <tr>\n      <th>2</th>\n      <td>2.073876</td>\n      <td>40K - 60K €</td>\n      <td>2.310077</td>\n      <td>8.649979</td>\n      <td>True</td>\n      <td>Friday</td>\n      <td>4.588951</td>\n      <td>50002</td>\n      <td>2017-08-31 05:56:44</td>\n      <td>0.98</td>\n      <td>analysis</td>\n      <td>1</td>\n    </tr>\n    <tr>\n      <th>3</th>\n      <td>0.118456</td>\n      <td>20K - 20K €</td>\n      <td>2.171441</td>\n      <td>8.855418</td>\n      <td>False</td>\n      <td>Tuesday</td>\n      <td>4.711015</td>\n      <td>50003</td>\n      <td>2017-08-31 06:10:17</td>\n      <td>0.97</td>\n      <td>analysis</td>\n      <td>1</td>\n    </tr>\n    <tr>\n      <th>4</th>\n      <td>4.786705</td>\n      <td>0 - 20K €</td>\n      <td>2.368541</td>\n      <td>8.394966</td>\n      <td>False</td>\n      <td>Monday</td>\n      <td>0.906738</td>\n      <td>50004</td>\n      <td>2017-08-31 06:29:38</td>\n      <td>0.92</td>\n      <td>analysis</td>\n      <td>1</td>\n    </tr>\n  </tbody>\n</table>\n</div>"
     },
     "execution_count": 3,
     "metadata": {},
     "output_type": "execute_result"
    }
   ],
   "source": [
    "analysis.head()"
   ]
  },
  {
   "cell_type": "code",
   "execution_count": 4,
   "id": "4971b352",
   "metadata": {
    "pycharm": {
     "name": "#%%\n"
    }
   },
   "outputs": [
    {
     "ename": "TypeError",
     "evalue": "__init__() got an unexpected keyword argument 'metrics'",
     "output_type": "error",
     "traceback": [
      "\u001B[0;31m---------------------------------------------------------------------------\u001B[0m",
      "\u001B[0;31mTypeError\u001B[0m                                 Traceback (most recent call last)",
      "\u001B[0;32m/tmp/ipykernel_34724/3418190262.py\u001B[0m in \u001B[0;36m<module>\u001B[0;34m\u001B[0m\n\u001B[1;32m      1\u001B[0m \u001B[0;31m# fit estimator and estimate\u001B[0m\u001B[0;34m\u001B[0m\u001B[0;34m\u001B[0m\u001B[0;34m\u001B[0m\u001B[0m\n\u001B[0;32m----> 2\u001B[0;31m \u001B[0mestimator\u001B[0m \u001B[0;34m=\u001B[0m \u001B[0mnml\u001B[0m\u001B[0;34m.\u001B[0m\u001B[0mCBPE\u001B[0m\u001B[0;34m(\u001B[0m\u001B[0mmodel_metadata\u001B[0m\u001B[0;34m=\u001B[0m\u001B[0mmetadata\u001B[0m\u001B[0;34m,\u001B[0m \u001B[0mchunk_size\u001B[0m\u001B[0;34m=\u001B[0m\u001B[0mchunk_size\u001B[0m\u001B[0;34m,\u001B[0m \u001B[0mmetrics\u001B[0m\u001B[0;34m=\u001B[0m\u001B[0;34m[\u001B[0m\u001B[0;34m'roc_auc'\u001B[0m\u001B[0;34m,\u001B[0m \u001B[0;34m'f1'\u001B[0m\u001B[0;34m]\u001B[0m\u001B[0;34m)\u001B[0m\u001B[0;34m.\u001B[0m\u001B[0mfit\u001B[0m\u001B[0;34m(\u001B[0m\u001B[0mreference\u001B[0m\u001B[0;34m)\u001B[0m\u001B[0;34m\u001B[0m\u001B[0;34m\u001B[0m\u001B[0m\n\u001B[0m\u001B[1;32m      3\u001B[0m \u001B[0mestimated_performance\u001B[0m \u001B[0;34m=\u001B[0m \u001B[0mestimator\u001B[0m\u001B[0;34m.\u001B[0m\u001B[0mestimate\u001B[0m\u001B[0;34m(\u001B[0m\u001B[0mdata\u001B[0m\u001B[0;34m=\u001B[0m\u001B[0mdata\u001B[0m\u001B[0;34m)\u001B[0m\u001B[0;34m\u001B[0m\u001B[0;34m\u001B[0m\u001B[0m\n\u001B[1;32m      4\u001B[0m \u001B[0;31m# show results\u001B[0m\u001B[0;34m\u001B[0m\u001B[0;34m\u001B[0m\u001B[0;34m\u001B[0m\u001B[0m\n\u001B[1;32m      5\u001B[0m \u001B[0mfigure\u001B[0m \u001B[0;34m=\u001B[0m \u001B[0mestimated_performance\u001B[0m\u001B[0;34m.\u001B[0m\u001B[0mplot\u001B[0m\u001B[0;34m(\u001B[0m\u001B[0mkind\u001B[0m\u001B[0;34m=\u001B[0m\u001B[0;34m'performance'\u001B[0m\u001B[0;34m,\u001B[0m \u001B[0mmetric\u001B[0m\u001B[0;34m=\u001B[0m\u001B[0;34m'roc_auc'\u001B[0m\u001B[0;34m)\u001B[0m\u001B[0;34m\u001B[0m\u001B[0;34m\u001B[0m\u001B[0m\n",
      "\u001B[0;31mTypeError\u001B[0m: __init__() got an unexpected keyword argument 'metrics'"
     ]
    }
   ],
   "source": [
    "# fit estimator and estimate\n",
    "estimator = nml.CBPE(model_metadata=metadata, chunk_size=chunk_size, metrics=['roc_auc', 'f1']).fit(reference)\n",
    "estimated_performance = estimator.estimate(data=data)\n",
    "# show results\n",
    "figure = estimated_performance.plot(kind='performance', metric='roc_auc')\n",
    "figure.show()\n",
    "# save figure - not shown on guide:\n",
    "figure.write_image(file=f\"perf-est-guide-syth-example.svg\")"
   ]
  },
  {
   "cell_type": "code",
   "execution_count": null,
   "id": "e017dc74",
   "metadata": {
    "pycharm": {
     "name": "#%%\n"
    }
   },
   "outputs": [],
   "source": [
    "# Let's initialize the object that will perform the Univariate Drift calculations\n",
    "univariate_calculator = nml.UnivariateStatisticalDriftCalculator(model_metadata=metadata, chunk_size=chunk_size).fit(reference_data=reference)\n",
    "univariate_results = univariate_calculator.calculate(data=data)\n",
    "# let's plot drift results for all model inputs\n",
    "for feature in metadata.features:\n",
    "    figure = univariate_results.plot(kind='feature_drift', metric='statistic', feature_label=feature.label)\n",
    "    figure.show()"
   ]
  },
  {
   "cell_type": "code",
   "execution_count": null,
   "id": "14f4c04f",
   "metadata": {
    "pycharm": {
     "name": "#%%\n"
    }
   },
   "outputs": [],
   "source": [
    "ranker = nml.Ranker.by('alert_count')\n",
    "ranked_features = ranker.rank(univariate_results, model_metadata=metadata, only_drifting = False)\n",
    "ranked_features"
   ]
  },
  {
   "cell_type": "code",
   "execution_count": null,
   "id": "379cc180",
   "metadata": {
    "pycharm": {
     "name": "#%%\n"
    }
   },
   "outputs": [],
   "source": [
    "figure = univariate_results.plot(kind='prediction_drift', metric='statistic')\n",
    "figure.show()"
   ]
  },
  {
   "cell_type": "code",
   "execution_count": null,
   "id": "9a683b6c",
   "metadata": {
    "pycharm": {
     "name": "#%%\n"
    }
   },
   "outputs": [],
   "source": [
    "# Let's initialize the object that will perform Data Reconstruction with PCA\n",
    "rcerror_calculator = nml.DataReconstructionDriftCalculator(model_metadata=metadata, chunk_size=chunk_size).fit(reference_data=reference)\n",
    "# let's see Reconstruction error statistics for all available data\n",
    "rcerror_results = rcerror_calculator.calculate(data=data)\n",
    "figure = rcerror_results.plot(kind='drift')\n",
    "figure.show()"
   ]
  },
  {
   "cell_type": "code",
   "execution_count": null,
   "id": "0462a734",
   "metadata": {
    "pycharm": {
     "name": "#%%\n"
    }
   },
   "outputs": [],
   "source": []
  }
 ],
 "metadata": {
  "kernelspec": {
   "display_name": "Python 3 (ipykernel)",
   "language": "python",
   "name": "python3"
  },
  "language_info": {
   "codemirror_mode": {
    "name": "ipython",
    "version": 3
   },
   "file_extension": ".py",
   "mimetype": "text/x-python",
   "name": "python",
   "nbconvert_exporter": "python",
   "pygments_lexer": "ipython3",
   "version": "3.10.4"
  }
 },
 "nbformat": 4,
 "nbformat_minor": 5
}