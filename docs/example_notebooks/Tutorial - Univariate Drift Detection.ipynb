{
 "cells": [
  {
   "cell_type": "code",
   "execution_count": null,
   "id": "c7b3b670",
   "metadata": {
    "scrolled": false
   },
   "outputs": [],
   "source": [
    "import nannyml as nml\n",
    "import pandas as pd\n",
    "from IPython.display import display\n",
    "\n",
    "reference, analysis, analysis_target = nml.load_synthetic_sample()\n",
    "metadata = nml.extract_metadata(data = reference, model_name='wfh_predictor')\n",
    "metadata.target_column_name = 'work_home_actual'\n",
    "display(reference.head())\n",
    "\n",
    "# Let's initialize the object that will perform the Univariate Drift calculations\n",
    "# Let's use a chunk size of 5000 data points to create our drift statistics\n",
    "univariate_calculator = nml.UnivariateStatisticalDriftCalculator(model_metadata=metadata, chunk_size=5000).fit(reference_data=reference)\n",
    "# let's see drift statistics for all available data\n",
    "data = pd.concat([reference, analysis], ignore_index=True)\n",
    "univariate_results = univariate_calculator.calculate(data=data)\n",
    "# let's view a small subset of our results:\n",
    "# We use the data property of the results class to view the relevant data.\n",
    "display(univariate_results.data.iloc[:5, :9])\n",
    "\n",
    "display(univariate_results.data.iloc[-5:, :9])\n",
    "\n",
    "# let's plot drift results for all model inputs\n",
    "for feature in metadata.features:\n",
    "    figure = univariate_results.plot(kind='feature_drift', metric='statistic', feature_label=feature.label)\n",
    "    figure.show()\n",
    "\n",
    "# let's plot distribution drift results for continuous model inputs\n",
    "for feature in metadata.continuous_features:\n",
    "    figure = univariate_results.plot(\n",
    "        kind='feature_distribution',\n",
    "        feature_label=feature.label\n",
    "    )\n",
    "    figure.show()\n",
    "\n",
    "# let's plot distribution drift results for categorical model inputs\n",
    "for feature in metadata.categorical_features:\n",
    "    figure = univariate_results.plot(\n",
    "        kind='feature_distribution',\n",
    "        feature_label=feature.label\n",
    "    )\n",
    "    figure.show()\n",
    "\n",
    "ranker = nml.Ranker.by('alert_count')\n",
    "ranked_features = ranker.rank(univariate_results, model_metadata=metadata, only_drifting = False)\n",
    "display(ranked_features)"
   ]
  },
  {
   "cell_type": "code",
   "execution_count": null,
   "id": "5d5dfa56",
   "metadata": {},
   "outputs": [],
   "source": [
    "import nannyml as nml\n",
    "import pandas as pd\n",
    "from IPython.display import display\n",
    "reference, analysis, analysis_target = nml.load_synthetic_sample()\n",
    "metadata = nml.extract_metadata(data = reference, model_name='wfh_predictor')\n",
    "metadata.target_column_name = 'work_home_actual'\n",
    "display(reference.head())"
   ]
  },
  {
   "cell_type": "code",
   "execution_count": null,
   "id": "ab71c40b",
   "metadata": {},
   "outputs": [],
   "source": [
    "print(reference.head().to_markdown(tablefmt=\"grid\"))"
   ]
  },
  {
   "cell_type": "code",
   "execution_count": null,
   "id": "d2411c35",
   "metadata": {},
   "outputs": [],
   "source": [
    "# Let's initialize the object that will perform the Univariate Drift calculations\n",
    "# Let's use a chunk size of 5000 data points to create our drift statistics\n",
    "univariate_calculator = nml.UnivariateStatisticalDriftCalculator(model_metadata=metadata, chunk_size=5000).fit(reference_data=reference)\n",
    "# let's see drift statistics for all available data\n",
    "data = pd.concat([reference, analysis], ignore_index=True)\n",
    "univariate_results = univariate_calculator.calculate(data=data)\n",
    "# let's view a small subset of our results:\n",
    "# We use the data property of the results class to view the relevant data.\n",
    "display(univariate_results.data.iloc[:5, :9])"
   ]
  },
  {
   "cell_type": "code",
   "execution_count": null,
   "id": "9a2cf881",
   "metadata": {},
   "outputs": [],
   "source": [
    "print(univariate_results.data.iloc[:5, :9].to_markdown(tablefmt=\"grid\"))"
   ]
  },
  {
   "cell_type": "code",
   "execution_count": null,
   "id": "8a62201b",
   "metadata": {},
   "outputs": [],
   "source": [
    "display(univariate_results.data.iloc[-5:, :9])"
   ]
  },
  {
   "cell_type": "code",
   "execution_count": null,
   "id": "e7048b37",
   "metadata": {},
   "outputs": [],
   "source": [
    "print(univariate_results.data.iloc[-5:, :9].to_markdown(tablefmt=\"grid\"))"
   ]
  },
  {
   "cell_type": "code",
   "execution_count": null,
   "id": "c3319d84",
   "metadata": {},
   "outputs": [],
   "source": [
    "# let's plot drift results for all model inputs\n",
    "for feature in metadata.features:\n",
    "    figure = univariate_results.plot(kind='feature_drift', metric='statistic', feature_label=feature.label)\n",
    "    figure.show()\n",
    "    # save figure - not shown on guide:\n",
    "    # figure.write_image(file=f\"drift-guide-{feature.label}.svg\")"
   ]
  },
  {
   "cell_type": "code",
   "execution_count": null,
   "id": "e0d03718",
   "metadata": {
    "scrolled": false
   },
   "outputs": [],
   "source": [
    "# let's plot distribution drift results for continuous model inputs\n",
    "for feature in metadata.continuous_features:\n",
    "    figure = univariate_results.plot(\n",
    "        kind='feature_distribution',\n",
    "        feature_label=feature.label\n",
    "    )\n",
    "    figure.show()\n",
    "    # save figure - not shown on guide:\n",
    "    # figure.write_image(file=f\"drift-guide-joyplot-{feature.label}.svg\")"
   ]
  },
  {
   "cell_type": "code",
   "execution_count": null,
   "id": "87608847",
   "metadata": {},
   "outputs": [],
   "source": [
    "# let's plot distribution drift results for categorical model inputs\n",
    "for feature in metadata.categorical_features:\n",
    "    figure = univariate_results.plot(\n",
    "        kind='feature_distribution',\n",
    "        feature_label=feature.label\n",
    "    )\n",
    "    figure.show()\n",
    "    # save figure - not shown on guide:\n",
    "    # figure.write_image(file=f\"drift-guide-stacked-{feature.label}.svg\")"
   ]
  },
  {
   "cell_type": "code",
   "execution_count": null,
   "id": "8e646124",
   "metadata": {},
   "outputs": [],
   "source": [
    "ranker = nml.Ranker.by('alert_count')\n",
    "ranked_features = ranker.rank(univariate_results, model_metadata=metadata, only_drifting = False)\n",
    "display(ranked_features)"
   ]
  },
  {
   "cell_type": "code",
   "execution_count": null,
   "id": "65628d11",
   "metadata": {},
   "outputs": [],
   "source": [
    "print(ranked_features.to_markdown(tablefmt=\"grid\"))"
   ]
  },
  {
   "cell_type": "code",
   "execution_count": null,
   "id": "cd3f2691",
   "metadata": {},
   "outputs": [],
   "source": []
  }
 ],
 "metadata": {
  "kernelspec": {
   "display_name": "Python 3 (ipykernel)",
   "language": "python",
   "name": "python3"
  },
  "language_info": {
   "codemirror_mode": {
    "name": "ipython",
    "version": 3
   },
   "file_extension": ".py",
   "mimetype": "text/x-python",
   "name": "python",
   "nbconvert_exporter": "python",
   "pygments_lexer": "ipython3",
   "version": "3.10.4"
  }
 },
 "nbformat": 4,
 "nbformat_minor": 5
}
