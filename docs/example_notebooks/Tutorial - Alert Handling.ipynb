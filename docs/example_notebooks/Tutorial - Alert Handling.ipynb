{
 "cells": [
  {
   "cell_type": "code",
   "execution_count": 1,
   "metadata": {
    "collapsed": true
   },
   "outputs": [
    {
     "data": {
      "text/plain": "   distance_from_office salary_range  gas_price_per_litre  \\\n0              5.962247  40K - 60K €             2.119485   \n1              0.535872  40K - 60K €             2.357199   \n2              1.969519  40K - 60K €             2.366849   \n3              2.530410  20K - 40K €             2.318722   \n4              2.253635       60K+ €             2.221265   \n\n   public_transportation_cost  wfh_prev_workday   workday    tenure  \\\n0                    8.568058             False    Friday  0.212653   \n1                    5.425382              True   Tuesday  4.927549   \n2                    8.247158             False    Monday  0.520817   \n3                    7.944251             False   Tuesday  0.453649   \n4                    8.884478              True  Thursday  5.695263   \n\n   identifier  work_home_actual            timestamp  y_pred_proba     period  \\\n0           0                 1  2014-05-09 22:27:20          0.99  reference   \n1           1                 0  2014-05-09 22:59:32          0.07  reference   \n2           2                 1  2014-05-09 23:48:25          1.00  reference   \n3           3                 1  2014-05-10 01:12:09          0.98  reference   \n4           4                 1  2014-05-10 02:21:34          0.99  reference   \n\n   y_pred  \n0       1  \n1       0  \n2       1  \n3       1  \n4       1  ",
      "text/html": "<div>\n<style scoped>\n    .dataframe tbody tr th:only-of-type {\n        vertical-align: middle;\n    }\n\n    .dataframe tbody tr th {\n        vertical-align: top;\n    }\n\n    .dataframe thead th {\n        text-align: right;\n    }\n</style>\n<table border=\"1\" class=\"dataframe\">\n  <thead>\n    <tr style=\"text-align: right;\">\n      <th></th>\n      <th>distance_from_office</th>\n      <th>salary_range</th>\n      <th>gas_price_per_litre</th>\n      <th>public_transportation_cost</th>\n      <th>wfh_prev_workday</th>\n      <th>workday</th>\n      <th>tenure</th>\n      <th>identifier</th>\n      <th>work_home_actual</th>\n      <th>timestamp</th>\n      <th>y_pred_proba</th>\n      <th>period</th>\n      <th>y_pred</th>\n    </tr>\n  </thead>\n  <tbody>\n    <tr>\n      <th>0</th>\n      <td>5.962247</td>\n      <td>40K - 60K €</td>\n      <td>2.119485</td>\n      <td>8.568058</td>\n      <td>False</td>\n      <td>Friday</td>\n      <td>0.212653</td>\n      <td>0</td>\n      <td>1</td>\n      <td>2014-05-09 22:27:20</td>\n      <td>0.99</td>\n      <td>reference</td>\n      <td>1</td>\n    </tr>\n    <tr>\n      <th>1</th>\n      <td>0.535872</td>\n      <td>40K - 60K €</td>\n      <td>2.357199</td>\n      <td>5.425382</td>\n      <td>True</td>\n      <td>Tuesday</td>\n      <td>4.927549</td>\n      <td>1</td>\n      <td>0</td>\n      <td>2014-05-09 22:59:32</td>\n      <td>0.07</td>\n      <td>reference</td>\n      <td>0</td>\n    </tr>\n    <tr>\n      <th>2</th>\n      <td>1.969519</td>\n      <td>40K - 60K €</td>\n      <td>2.366849</td>\n      <td>8.247158</td>\n      <td>False</td>\n      <td>Monday</td>\n      <td>0.520817</td>\n      <td>2</td>\n      <td>1</td>\n      <td>2014-05-09 23:48:25</td>\n      <td>1.00</td>\n      <td>reference</td>\n      <td>1</td>\n    </tr>\n    <tr>\n      <th>3</th>\n      <td>2.530410</td>\n      <td>20K - 40K €</td>\n      <td>2.318722</td>\n      <td>7.944251</td>\n      <td>False</td>\n      <td>Tuesday</td>\n      <td>0.453649</td>\n      <td>3</td>\n      <td>1</td>\n      <td>2014-05-10 01:12:09</td>\n      <td>0.98</td>\n      <td>reference</td>\n      <td>1</td>\n    </tr>\n    <tr>\n      <th>4</th>\n      <td>2.253635</td>\n      <td>60K+ €</td>\n      <td>2.221265</td>\n      <td>8.884478</td>\n      <td>True</td>\n      <td>Thursday</td>\n      <td>5.695263</td>\n      <td>4</td>\n      <td>1</td>\n      <td>2014-05-10 02:21:34</td>\n      <td>0.99</td>\n      <td>reference</td>\n      <td>1</td>\n    </tr>\n  </tbody>\n</table>\n</div>"
     },
     "metadata": {},
     "output_type": "display_data"
    }
   ],
   "source": [
    "import nannyml as nml\n",
    "from IPython.display import display\n",
    "\n",
    "reference_df, analysis_df, _ = nml.load_synthetic_binary_classification_dataset()\n",
    "analysis_df = analysis_df[analysis_df['timestamp'] == analysis_df['timestamp'].min()]\n",
    "display(reference_df.head())"
   ]
  },
  {
   "cell_type": "code",
   "execution_count": 2,
   "outputs": [
    {
     "name": "stdout",
     "output_type": "stream",
     "text": [
      "+----+------------------------+----------------+-----------------------+------------------------------+--------------------+-----------+----------+--------------+--------------------+---------------------+----------------+-----------+----------+\n",
      "|    |   distance_from_office | salary_range   |   gas_price_per_litre |   public_transportation_cost | wfh_prev_workday   | workday   |   tenure |   identifier |   work_home_actual | timestamp           |   y_pred_proba | period    |   y_pred |\n",
      "+====+========================+================+=======================+==============================+====================+===========+==========+==============+====================+=====================+================+===========+==========+\n",
      "|  0 |               5.96225  | 40K - 60K €    |               2.11948 |                      8.56806 | False              | Friday    | 0.212653 |            0 |                  1 | 2014-05-09 22:27:20 |           0.99 | reference |        1 |\n",
      "+----+------------------------+----------------+-----------------------+------------------------------+--------------------+-----------+----------+--------------+--------------------+---------------------+----------------+-----------+----------+\n",
      "|  1 |               0.535872 | 40K - 60K €    |               2.3572  |                      5.42538 | True               | Tuesday   | 4.92755  |            1 |                  0 | 2014-05-09 22:59:32 |           0.07 | reference |        0 |\n",
      "+----+------------------------+----------------+-----------------------+------------------------------+--------------------+-----------+----------+--------------+--------------------+---------------------+----------------+-----------+----------+\n",
      "|  2 |               1.96952  | 40K - 60K €    |               2.36685 |                      8.24716 | False              | Monday    | 0.520817 |            2 |                  1 | 2014-05-09 23:48:25 |           1    | reference |        1 |\n",
      "+----+------------------------+----------------+-----------------------+------------------------------+--------------------+-----------+----------+--------------+--------------------+---------------------+----------------+-----------+----------+\n",
      "|  3 |               2.53041  | 20K - 40K €    |               2.31872 |                      7.94425 | False              | Tuesday   | 0.453649 |            3 |                  1 | 2014-05-10 01:12:09 |           0.98 | reference |        1 |\n",
      "+----+------------------------+----------------+-----------------------+------------------------------+--------------------+-----------+----------+--------------+--------------------+---------------------+----------------+-----------+----------+\n",
      "|  4 |               2.25364  | 60K+ €         |               2.22127 |                      8.88448 | True               | Thursday  | 5.69526  |            4 |                  1 | 2014-05-10 02:21:34 |           0.99 | reference |        1 |\n",
      "+----+------------------------+----------------+-----------------------+------------------------------+--------------------+-----------+----------+--------------+--------------------+---------------------+----------------+-----------+----------+\n"
     ]
    }
   ],
   "source": [
    "print(reference_df.head().to_markdown(tablefmt=\"grid\"))"
   ],
   "metadata": {
    "collapsed": false
   }
  },
  {
   "cell_type": "code",
   "execution_count": 3,
   "outputs": [
    {
     "name": "stderr",
     "output_type": "stream",
     "text": [
      "/home/niels/Code/nml/nannyml/nannyml/nannyml/chunk.py:181: UserWarning: The resulting number of chunks is too low. Please consider splitting your data in a different way or continue at your own risk.\n",
      "  warnings.warn(\n"
     ]
    },
    {
     "data": {
      "text/plain": "   chunk_index                chunk_end_date  chunk_end_index   chunk_key  \\\n0            0 2017-08-31 23:59:59.999999999                0  2017-08-31   \n\n  chunk_period chunk_start_date  chunk_start_index  \\\n0     analysis       2017-08-31                  0   \n\n   distance_from_office_jensen_shannon_alert  \\\n0                                       True   \n\n  distance_from_office_jensen_shannon_lower_threshold  \\\n0                                               None    \n\n   distance_from_office_jensen_shannon_upper_threshold  \\\n0                                                0.1     \n\n   distance_from_office_jensen_shannon_value  \\\n0                                   0.753887   \n\n   distance_from_office_kolmogorov_smirnov_alert  \\\n0                                          False   \n\n  distance_from_office_kolmogorov_smirnov_lower_threshold  \\\n0                                               None        \n\n  distance_from_office_kolmogorov_smirnov_upper_threshold  \\\n0                                               None        \n\n   distance_from_office_kolmogorov_smirnov_value  \n0                                        0.84558  ",
      "text/html": "<div>\n<style scoped>\n    .dataframe tbody tr th:only-of-type {\n        vertical-align: middle;\n    }\n\n    .dataframe tbody tr th {\n        vertical-align: top;\n    }\n\n    .dataframe thead th {\n        text-align: right;\n    }\n</style>\n<table border=\"1\" class=\"dataframe\">\n  <thead>\n    <tr style=\"text-align: right;\">\n      <th></th>\n      <th>chunk_index</th>\n      <th>chunk_end_date</th>\n      <th>chunk_end_index</th>\n      <th>chunk_key</th>\n      <th>chunk_period</th>\n      <th>chunk_start_date</th>\n      <th>chunk_start_index</th>\n      <th>distance_from_office_jensen_shannon_alert</th>\n      <th>distance_from_office_jensen_shannon_lower_threshold</th>\n      <th>distance_from_office_jensen_shannon_upper_threshold</th>\n      <th>distance_from_office_jensen_shannon_value</th>\n      <th>distance_from_office_kolmogorov_smirnov_alert</th>\n      <th>distance_from_office_kolmogorov_smirnov_lower_threshold</th>\n      <th>distance_from_office_kolmogorov_smirnov_upper_threshold</th>\n      <th>distance_from_office_kolmogorov_smirnov_value</th>\n    </tr>\n  </thead>\n  <tbody>\n    <tr>\n      <th>0</th>\n      <td>0</td>\n      <td>2017-08-31 23:59:59.999999999</td>\n      <td>0</td>\n      <td>2017-08-31</td>\n      <td>analysis</td>\n      <td>2017-08-31</td>\n      <td>0</td>\n      <td>True</td>\n      <td>None</td>\n      <td>0.1</td>\n      <td>0.753887</td>\n      <td>False</td>\n      <td>None</td>\n      <td>None</td>\n      <td>0.84558</td>\n    </tr>\n  </tbody>\n</table>\n</div>"
     },
     "metadata": {},
     "output_type": "display_data"
    }
   ],
   "source": [
    "column_names = ['distance_from_office', 'salary_range', 'gas_price_per_litre', 'public_transportation_cost', 'wfh_prev_workday', 'workday', 'tenure', 'y_pred_proba', 'y_pred']\n",
    "calc = nml.UnivariateDriftCalculator(\n",
    "    column_names=column_names,\n",
    "    timestamp_column_name='timestamp',\n",
    "    continuous_methods=['kolmogorov_smirnov', 'jensen_shannon'],\n",
    "    categorical_methods=['chi2', 'jensen_shannon'],\n",
    "    chunk_period='D',\n",
    ")\n",
    "calc.fit(reference_df)\n",
    "univariate_results = calc.calculate(analysis_df)\n",
    "display(univariate_results.filter(period='analysis', column_names=['distance_from_office']).to_df(multilevel=False))"
   ],
   "metadata": {
    "collapsed": false
   }
  },
  {
   "cell_type": "code",
   "execution_count": 4,
   "outputs": [
    {
     "name": "stdout",
     "output_type": "stream",
     "text": [
      "+----+---------------+-------------------------------+-------------------+-------------+----------------+---------------------+---------------------+---------------------------------------------+-------------------------------------------------------+-------------------------------------------------------+---------------------------------------------+-------------------------------------------------+-----------------------------------------------------------+-----------------------------------------------------------+-------------------------------------------------+\n",
      "|    |   chunk_index | chunk_end_date                |   chunk_end_index | chunk_key   | chunk_period   | chunk_start_date    |   chunk_start_index | distance_from_office_jensen_shannon_alert   | distance_from_office_jensen_shannon_lower_threshold   |   distance_from_office_jensen_shannon_upper_threshold |   distance_from_office_jensen_shannon_value | distance_from_office_kolmogorov_smirnov_alert   | distance_from_office_kolmogorov_smirnov_lower_threshold   | distance_from_office_kolmogorov_smirnov_upper_threshold   |   distance_from_office_kolmogorov_smirnov_value |\n",
      "+====+===============+===============================+===================+=============+================+=====================+=====================+=============================================+=======================================================+=======================================================+=============================================+=================================================+===========================================================+===========================================================+=================================================+\n",
      "|  0 |             0 | 2017-08-31 23:59:59.999999999 |                 0 | 2017-08-31  | analysis       | 2017-08-31 00:00:00 |                   0 | True                                        |                                                       |                                                   0.1 |                                    0.753887 | False                                           |                                                           |                                                           |                                         0.84558 |\n",
      "+----+---------------+-------------------------------+-------------------+-------------+----------------+---------------------+---------------------+---------------------------------------------+-------------------------------------------------------+-------------------------------------------------------+---------------------------------------------+-------------------------------------------------+-----------------------------------------------------------+-----------------------------------------------------------+-------------------------------------------------+\n"
     ]
    }
   ],
   "source": [
    "print(univariate_results.filter(period='analysis', column_names=['distance_from_office']).to_df(multilevel=False).to_markdown(tablefmt=\"grid\"))"
   ],
   "metadata": {
    "collapsed": false
   }
  },
  {
   "cell_type": "code",
   "execution_count": 5,
   "outputs": [
    {
     "name": "stderr",
     "output_type": "stream",
     "text": [
      "/home/niels/Code/nml/nannyml/nannyml/nannyml/chunk.py:181: UserWarning: The resulting number of chunks is too low. Please consider splitting your data in a different way or continue at your own risk.\n",
      "  warnings.warn(\n"
     ]
    },
    {
     "data": {
      "text/plain": "    chunk_key  chunk_index  chunk_start_index  chunk_end_index  \\\n0  2017-08-31            0                  0                0   \n\n  chunk_start_date                chunk_end_date chunk_period  \\\n0       2017-08-31 2017-08-31 23:59:59.999999999     analysis   \n\n   reconstruction_error_sampling_error  reconstruction_error_value  \\\n0                             0.570533                    1.557116   \n\n   reconstruction_error_upper_confidence_boundary  \\\n0                                        3.268714   \n\n   reconstruction_error_lower_confidence_boundary  \\\n0                                       -0.154482   \n\n   reconstruction_error_upper_threshold  reconstruction_error_lower_threshold  \\\n0                              1.367633                              1.919277   \n\n   reconstruction_error_alert  \n0                       False  ",
      "text/html": "<div>\n<style scoped>\n    .dataframe tbody tr th:only-of-type {\n        vertical-align: middle;\n    }\n\n    .dataframe tbody tr th {\n        vertical-align: top;\n    }\n\n    .dataframe thead th {\n        text-align: right;\n    }\n</style>\n<table border=\"1\" class=\"dataframe\">\n  <thead>\n    <tr style=\"text-align: right;\">\n      <th></th>\n      <th>chunk_key</th>\n      <th>chunk_index</th>\n      <th>chunk_start_index</th>\n      <th>chunk_end_index</th>\n      <th>chunk_start_date</th>\n      <th>chunk_end_date</th>\n      <th>chunk_period</th>\n      <th>reconstruction_error_sampling_error</th>\n      <th>reconstruction_error_value</th>\n      <th>reconstruction_error_upper_confidence_boundary</th>\n      <th>reconstruction_error_lower_confidence_boundary</th>\n      <th>reconstruction_error_upper_threshold</th>\n      <th>reconstruction_error_lower_threshold</th>\n      <th>reconstruction_error_alert</th>\n    </tr>\n  </thead>\n  <tbody>\n    <tr>\n      <th>0</th>\n      <td>2017-08-31</td>\n      <td>0</td>\n      <td>0</td>\n      <td>0</td>\n      <td>2017-08-31</td>\n      <td>2017-08-31 23:59:59.999999999</td>\n      <td>analysis</td>\n      <td>0.570533</td>\n      <td>1.557116</td>\n      <td>3.268714</td>\n      <td>-0.154482</td>\n      <td>1.367633</td>\n      <td>1.919277</td>\n      <td>False</td>\n    </tr>\n  </tbody>\n</table>\n</div>"
     },
     "metadata": {},
     "output_type": "display_data"
    }
   ],
   "source": [
    "calc2 = nml.DataReconstructionDriftCalculator(\n",
    "    column_names=column_names,\n",
    "    timestamp_column_name='timestamp',\n",
    "    chunk_period='D'\n",
    ")\n",
    "calc2.fit(reference_df)\n",
    "multivariate_results = calc2.calculate(analysis_df)\n",
    "display(multivariate_results.filter(period='analysis').to_df(multilevel=False))"
   ],
   "metadata": {
    "collapsed": false
   }
  },
  {
   "cell_type": "code",
   "execution_count": 6,
   "outputs": [
    {
     "name": "stdout",
     "output_type": "stream",
     "text": [
      "+----+-------------+---------------+---------------------+-------------------+---------------------+-------------------------------+----------------+---------------------------------------+------------------------------+--------------------------------------------------+--------------------------------------------------+----------------------------------------+----------------------------------------+------------------------------+\n",
      "|    | chunk_key   |   chunk_index |   chunk_start_index |   chunk_end_index | chunk_start_date    | chunk_end_date                | chunk_period   |   reconstruction_error_sampling_error |   reconstruction_error_value |   reconstruction_error_upper_confidence_boundary |   reconstruction_error_lower_confidence_boundary |   reconstruction_error_upper_threshold |   reconstruction_error_lower_threshold | reconstruction_error_alert   |\n",
      "+====+=============+===============+=====================+===================+=====================+===============================+================+=======================================+==============================+==================================================+==================================================+========================================+========================================+==============================+\n",
      "|  0 | 2017-08-31  |             0 |                   0 |                 0 | 2017-08-31 00:00:00 | 2017-08-31 23:59:59.999999999 | analysis       |                              0.570533 |                      1.55712 |                                          3.26871 |                                        -0.154482 |                                1.36763 |                                1.91928 | False                        |\n",
      "+----+-------------+---------------+---------------------+-------------------+---------------------+-------------------------------+----------------+---------------------------------------+------------------------------+--------------------------------------------------+--------------------------------------------------+----------------------------------------+----------------------------------------+------------------------------+\n"
     ]
    }
   ],
   "source": [
    "print(multivariate_results.filter(period='analysis').to_df(multilevel=False).to_markdown(tablefmt=\"grid\"))"
   ],
   "metadata": {
    "collapsed": false
   }
  },
  {
   "cell_type": "code",
   "execution_count": 7,
   "outputs": [],
   "source": [
    "handler = nml.SlackNotificationHandler(webhook_url='https://hooks.slack.com/services/SOME/WEBHOOK/URL')"
   ],
   "metadata": {
    "collapsed": false
   }
  },
  {
   "cell_type": "code",
   "execution_count": 8,
   "outputs": [],
   "source": [
    "handler.handle(results=[univariate_results, multivariate_results])"
   ],
   "metadata": {
    "collapsed": false
   }
  },
  {
   "cell_type": "code",
   "execution_count": 8,
   "outputs": [],
   "source": [],
   "metadata": {
    "collapsed": false
   }
  }
 ],
 "metadata": {
  "kernelspec": {
   "display_name": "Python 3",
   "language": "python",
   "name": "python3"
  },
  "language_info": {
   "codemirror_mode": {
    "name": "ipython",
    "version": 2
   },
   "file_extension": ".py",
   "mimetype": "text/x-python",
   "name": "python",
   "nbconvert_exporter": "python",
   "pygments_lexer": "ipython2",
   "version": "2.7.6"
  }
 },
 "nbformat": 4,
 "nbformat_minor": 0
}
