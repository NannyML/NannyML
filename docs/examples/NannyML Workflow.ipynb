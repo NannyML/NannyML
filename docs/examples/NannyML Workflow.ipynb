{
 "cells": [
  {
   "cell_type": "markdown",
   "id": "09b4473d",
   "metadata": {},
   "source": [
    "# NannyML Workflow"
   ]
  },
  {
   "cell_type": "code",
   "execution_count": 1,
   "id": "b4194064",
   "metadata": {},
   "outputs": [],
   "source": [
    "import nannyml as nml\n",
    "import pandas as pd"
   ]
  },
  {
   "cell_type": "code",
   "execution_count": 2,
   "id": "b07737b0",
   "metadata": {},
   "outputs": [],
   "source": [
    "def show_df_rst(df):\n",
    "    \"\"\"\n",
    "    Show a dataframe as rst output:\n",
    "    \"\"\"\n",
    "    print(df.head().to_markdown(tablefmt=\"grid\"))"
   ]
  },
  {
   "cell_type": "code",
   "execution_count": 3,
   "id": "4526776d",
   "metadata": {},
   "outputs": [
    {
     "name": "stdout",
     "output_type": "stream",
     "text": [
      "+----+------------------------+----------------+-----------------------+------------------------------+--------------------+-----------+----------+--------------+--------------------+---------------------+----------------+-------------+\n",
      "|    |   distance_from_office | salary_range   |   gas_price_per_litre |   public_transportation_cost | wfh_prev_workday   | workday   |   tenure |   identifier |   work_home_actual | timestamp           |   y_pred_proba | partition   |\n",
      "+====+========================+================+=======================+==============================+====================+===========+==========+==============+====================+=====================+================+=============+\n",
      "|  0 |               5.96225  | 40K - 60K €    |               2.11948 |                      8.56806 | False              | Friday    | 0.212653 |            0 |                  1 | 2014-05-09 22:27:20 |           0.99 | reference   |\n",
      "+----+------------------------+----------------+-----------------------+------------------------------+--------------------+-----------+----------+--------------+--------------------+---------------------+----------------+-------------+\n",
      "|  1 |               0.535872 | 40K - 60K €    |               2.3572  |                      5.42538 | True               | Tuesday   | 4.92755  |            1 |                  0 | 2014-05-09 22:59:32 |           0.07 | reference   |\n",
      "+----+------------------------+----------------+-----------------------+------------------------------+--------------------+-----------+----------+--------------+--------------------+---------------------+----------------+-------------+\n",
      "|  2 |               1.96952  | 40K - 60K €    |               2.36685 |                      8.24716 | False              | Monday    | 0.520817 |            2 |                  1 | 2014-05-09 23:48:25 |           1    | reference   |\n",
      "+----+------------------------+----------------+-----------------------+------------------------------+--------------------+-----------+----------+--------------+--------------------+---------------------+----------------+-------------+\n",
      "|  3 |               2.53041  | 20K - 20K €    |               2.31872 |                      7.94425 | False              | Tuesday   | 0.453649 |            3 |                  1 | 2014-05-10 01:12:09 |           0.98 | reference   |\n",
      "+----+------------------------+----------------+-----------------------+------------------------------+--------------------+-----------+----------+--------------+--------------------+---------------------+----------------+-------------+\n",
      "|  4 |               2.25364  | 60K+ €         |               2.22127 |                      8.88448 | True               | Thursday  | 5.69526  |            4 |                  1 | 2014-05-10 02:21:34 |           0.99 | reference   |\n",
      "+----+------------------------+----------------+-----------------------+------------------------------+--------------------+-----------+----------+--------------+--------------------+---------------------+----------------+-------------+\n"
     ]
    }
   ],
   "source": [
    "reference, analysis, analysis_gt = nml.load_synthetic_sample()\n",
    "show_df_rst(reference)"
   ]
  },
  {
   "cell_type": "code",
   "execution_count": null,
   "id": "c4616d9a",
   "metadata": {},
   "outputs": [],
   "source": [
    "md = nml.extract_metadata(data = reference, model_name='wfh_predictor')"
   ]
  },
  {
   "cell_type": "code",
   "execution_count": null,
   "id": "b2542acd",
   "metadata": {
    "scrolled": false
   },
   "outputs": [],
   "source": [
    "print(md.print())\n",
    "# md.print()"
   ]
  },
  {
   "cell_type": "code",
   "execution_count": null,
   "id": "9370348a",
   "metadata": {},
   "outputs": [],
   "source": [
    "md.timestamp_column_name = 'timestamp'\n",
    "# md.prediction_column_name = 'y_pred_proba'\n",
    "md.ground_truth_column_name = 'work_home_actual'"
   ]
  },
  {
   "cell_type": "code",
   "execution_count": null,
   "id": "46100e26",
   "metadata": {},
   "outputs": [],
   "source": [
    "print(md.print())"
   ]
  },
  {
   "cell_type": "code",
   "execution_count": null,
   "id": "157624c8",
   "metadata": {},
   "outputs": [],
   "source": [
    "univariate_calculator = nml.UnivariateStatisticalDriftCalculator(model_metadata=md, chunk_size=5000)"
   ]
  },
  {
   "cell_type": "code",
   "execution_count": null,
   "id": "943851b2",
   "metadata": {},
   "outputs": [],
   "source": [
    "univariate_calculator.fit(reference_data=reference)"
   ]
  },
  {
   "cell_type": "code",
   "execution_count": null,
   "id": "6de1c943",
   "metadata": {},
   "outputs": [],
   "source": [
    "fdata = pd.concat([reference, analysis], ignore_index=True)\n",
    "fdata"
   ]
  },
  {
   "cell_type": "code",
   "execution_count": null,
   "id": "ae9cdd0d",
   "metadata": {},
   "outputs": [],
   "source": [
    "univariate_results = univariate_calculator.calculate(data=fdata)"
   ]
  },
  {
   "cell_type": "code",
   "execution_count": null,
   "id": "82cd2e21",
   "metadata": {},
   "outputs": [],
   "source": [
    "univariate_results_columns = list(univariate_results.columns)\n",
    "univariate_results_columns"
   ]
  },
  {
   "cell_type": "code",
   "execution_count": null,
   "id": "651a9e08",
   "metadata": {},
   "outputs": [],
   "source": [
    "show_df_rst(univariate_results.iloc[5:, :9])"
   ]
  },
  {
   "cell_type": "code",
   "execution_count": null,
   "id": "3750990e",
   "metadata": {},
   "outputs": [],
   "source": [
    "ranking = nml.Ranker(by='alert_count')\n",
    "ranked_features = ranking.rank(univariate_results, only_drifted = False)\n",
    "# ranked_features"
   ]
  },
  {
   "cell_type": "code",
   "execution_count": null,
   "id": "83d4ceba",
   "metadata": {},
   "outputs": [],
   "source": [
    "# \n",
    "a1 = nml.rank_drifted_features(univariate_results)\n",
    "print(a1.to_markdown(tablefmt=\"grid\"))"
   ]
  },
  {
   "cell_type": "code",
   "execution_count": null,
   "id": "1e10bed1",
   "metadata": {},
   "outputs": [],
   "source": [
    "rcerror_calculator = nml.DataReconstructionDriftCalculator(model_metadata=md, chunk_size=5000)"
   ]
  },
  {
   "cell_type": "code",
   "execution_count": null,
   "id": "2722ca94",
   "metadata": {},
   "outputs": [],
   "source": [
    "rcerror_calculator.fit(reference_data=reference)"
   ]
  },
  {
   "cell_type": "code",
   "execution_count": null,
   "id": "838c1e15",
   "metadata": {},
   "outputs": [],
   "source": [
    "rcerror_results = rcerror_calculator.calculate(data=fdata)\n",
    "rcerror_results"
   ]
  },
  {
   "cell_type": "code",
   "execution_count": null,
   "id": "aefbb82a",
   "metadata": {},
   "outputs": [],
   "source": [
    "plots = nml.DriftPlots(model_metadata=univariate_calculator.model_metadata, chunker=univariate_calculator.chunker)"
   ]
  },
  {
   "cell_type": "code",
   "execution_count": null,
   "id": "9544adfe",
   "metadata": {
    "scrolled": false
   },
   "outputs": [],
   "source": [
    "for itm in md.features:\n",
    "\n",
    "    fig = plots.plot_univariate_statistical_drift(univariate_results, metric='statistic', feature_label=itm.label)\n",
    "    fig.show()\n",
    "    fig.write_image(file=f\"drift-guide-{itm.label}.svg\")"
   ]
  },
  {
   "cell_type": "code",
   "execution_count": null,
   "id": "ceec08ad",
   "metadata": {
    "scrolled": true
   },
   "outputs": [],
   "source": [
    "for itm in md.continuous_features:\n",
    "\n",
    "    fig = plots.plot_continuous_feature_distribution_over_time(\n",
    "        data=pd.concat([reference, analysis], ignore_index=True),\n",
    "        drift_results=univariate_results,\n",
    "        feature_label=itm.label\n",
    "    )\n",
    "    fig.show()\n",
    "    fig.write_image(file=f\"drift-guide-joyplot-{itm.label}.svg\")"
   ]
  },
  {
   "cell_type": "code",
   "execution_count": null,
   "id": "3582e6e6",
   "metadata": {},
   "outputs": [],
   "source": [
    "for itm in md.categorical_features:\n",
    "\n",
    "    fig = plots.plot_categorical_feature_distribution_over_time(\n",
    "        data=pd.concat([reference, analysis], ignore_index=True),\n",
    "        drift_results=univariate_results,\n",
    "        feature_label=itm.label\n",
    "    )\n",
    "    fig.show()\n",
    "    fig.write_image(file=f\"drift-guide-stacked-{itm.label}.svg\")"
   ]
  },
  {
   "cell_type": "code",
   "execution_count": null,
   "id": "cc7b3a9b",
   "metadata": {},
   "outputs": [],
   "source": [
    "fig = plots.plot_data_reconstruction_drift(rcerror_results)\n",
    "fig.show()\n",
    "fig.write_image(file=f\"drift-guide-multivariate.svg\")"
   ]
  },
  {
   "cell_type": "code",
   "execution_count": null,
   "id": "9e3510db",
   "metadata": {},
   "outputs": [],
   "source": [
    "# fit estimator and estimate\n",
    "cbpe = nml.CBPE(model_metadata=md, chunk_size=5000)\n",
    "cbpe.fit(reference_data=reference)\n",
    "est_perf = cbpe.estimate(data=fdata)"
   ]
  },
  {
   "cell_type": "code",
   "execution_count": null,
   "id": "ea898c18",
   "metadata": {},
   "outputs": [],
   "source": [
    "# show results\n",
    "plots = nml.PerformancePlots(model_metadata=md, chunker=cbpe.chunker)\n",
    "fig = plots.plot_cbpe_performance_estimation(est_perf)\n",
    "fig.show()\n",
    "fig.write_image(file=f\"perf-est-guide-syth-example.svg\")"
   ]
  },
  {
   "cell_type": "code",
   "execution_count": null,
   "id": "26d5ff11",
   "metadata": {},
   "outputs": [],
   "source": []
  }
 ],
 "metadata": {
  "kernelspec": {
   "display_name": "Python 3 (ipykernel)",
   "language": "python",
   "name": "python3"
  },
  "language_info": {
   "codemirror_mode": {
    "name": "ipython",
    "version": 3
   },
   "file_extension": ".py",
   "mimetype": "text/x-python",
   "name": "python",
   "nbconvert_exporter": "python",
   "pygments_lexer": "ipython3",
   "version": "3.10.2"
  }
 },
 "nbformat": 4,
 "nbformat_minor": 5
}
