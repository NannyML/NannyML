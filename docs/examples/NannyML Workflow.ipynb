{
 "cells": [
  {
   "cell_type": "markdown",
   "id": "09b4473d",
   "metadata": {},
   "source": [
    "# NannyML Workflow"
   ]
  },
  {
   "cell_type": "code",
   "execution_count": null,
   "id": "1d1b891e",
   "metadata": {},
   "outputs": [],
   "source": [
    "!rm *.svg\n",
    "!ls -la"
   ]
  },
  {
   "cell_type": "code",
   "execution_count": null,
   "id": "b4194064",
   "metadata": {},
   "outputs": [],
   "source": [
    "import nannyml as nml\n",
    "import pandas as pd"
   ]
  },
  {
   "cell_type": "code",
   "execution_count": null,
   "id": "a807771a",
   "metadata": {},
   "outputs": [],
   "source": [
    "nml.__version__"
   ]
  },
  {
   "cell_type": "code",
   "execution_count": null,
   "id": "b07737b0",
   "metadata": {},
   "outputs": [],
   "source": [
    "# Function that helps add results to RST docs.\n",
    "def show_df_rst(df):\n",
    "    \"\"\"\n",
    "    Show a dataframe as rst output:\n",
    "    \"\"\"\n",
    "    print(df.head().to_markdown(tablefmt=\"grid\"))"
   ]
  },
  {
   "cell_type": "code",
   "execution_count": null,
   "id": "4526776d",
   "metadata": {
    "scrolled": true
   },
   "outputs": [],
   "source": [
    "reference, analysis, analysis_gt = nml.load_synthetic_sample()\n",
    "show_df_rst(reference)"
   ]
  },
  {
   "cell_type": "code",
   "execution_count": null,
   "id": "c4616d9a",
   "metadata": {},
   "outputs": [],
   "source": [
    "md = nml.extract_metadata(data = reference, model_name='wfh_predictor')"
   ]
  },
  {
   "cell_type": "code",
   "execution_count": null,
   "id": "b2542acd",
   "metadata": {
    "scrolled": false
   },
   "outputs": [],
   "source": [
    "md.print()"
   ]
  },
  {
   "cell_type": "code",
   "execution_count": null,
   "id": "9370348a",
   "metadata": {},
   "outputs": [],
   "source": [
    "md.timestamp_column_name = 'timestamp'\n",
    "# md.prediction_column_name = 'y_pred_proba'\n",
    "md.target_column_name = 'work_home_actual'"
   ]
  },
  {
   "cell_type": "code",
   "execution_count": null,
   "id": "46100e26",
   "metadata": {},
   "outputs": [],
   "source": [
    "md.print()"
   ]
  },
  {
   "cell_type": "code",
   "execution_count": null,
   "id": "157624c8",
   "metadata": {},
   "outputs": [],
   "source": [
    "univariate_calculator = nml.UnivariateStatisticalDriftCalculator(model_metadata=md, chunk_size=5000)"
   ]
  },
  {
   "cell_type": "code",
   "execution_count": null,
   "id": "943851b2",
   "metadata": {},
   "outputs": [],
   "source": [
    "univariate_calculator.fit(reference_data=reference)"
   ]
  },
  {
   "cell_type": "code",
   "execution_count": null,
   "id": "6de1c943",
   "metadata": {},
   "outputs": [],
   "source": [
    "fdata = pd.concat([reference, analysis], ignore_index=True)\n",
    "fdata"
   ]
  },
  {
   "cell_type": "code",
   "execution_count": null,
   "id": "ae9cdd0d",
   "metadata": {},
   "outputs": [],
   "source": [
    "univariate_results = univariate_calculator.calculate(data=fdata)"
   ]
  },
  {
   "cell_type": "code",
   "execution_count": null,
   "id": "82cd2e21",
   "metadata": {},
   "outputs": [],
   "source": [
    "univariate_results_columns = list(univariate_results.columns)\n",
    "univariate_results_columns"
   ]
  },
  {
   "cell_type": "code",
   "execution_count": null,
   "id": "651a9e08",
   "metadata": {
    "scrolled": true
   },
   "outputs": [],
   "source": [
    "show_df_rst(univariate_results.iloc[5:, :9])"
   ]
  },
  {
   "cell_type": "code",
   "execution_count": null,
   "id": "3750990e",
   "metadata": {},
   "outputs": [],
   "source": [
    "ranking = nml.Ranker.by('alert_count').rank(univariate_results, only_drifting=True)\n",
    "ranking"
   ]
  },
  {
   "cell_type": "code",
   "execution_count": null,
   "id": "1e10bed1",
   "metadata": {},
   "outputs": [],
   "source": [
    "rcerror_calculator = nml.DataReconstructionDriftCalculator(model_metadata=md, chunk_size=5000)"
   ]
  },
  {
   "cell_type": "code",
   "execution_count": null,
   "id": "2722ca94",
   "metadata": {},
   "outputs": [],
   "source": [
    "rcerror_calculator.fit(reference_data=reference)"
   ]
  },
  {
   "cell_type": "code",
   "execution_count": null,
   "id": "838c1e15",
   "metadata": {},
   "outputs": [],
   "source": [
    "rcerror_results = rcerror_calculator.calculate(data=fdata)\n",
    "rcerror_results"
   ]
  },
  {
   "cell_type": "code",
   "execution_count": null,
   "id": "aefbb82a",
   "metadata": {},
   "outputs": [],
   "source": [
    "plots = nml.DriftPlots(model_metadata=univariate_calculator.model_metadata, chunker=univariate_calculator.chunker)"
   ]
  },
  {
   "cell_type": "code",
   "execution_count": null,
   "id": "9544adfe",
   "metadata": {
    "scrolled": false
   },
   "outputs": [],
   "source": [
    "for itm in md.features:\n",
    "\n",
    "    fig = plots.plot_univariate_statistical_drift(univariate_results, metric='statistic', feature_label=itm.label)\n",
    "    fig.show()\n",
    "    fig.write_image(file=f\"drift-guide-{itm.label}.svg\")"
   ]
  },
  {
   "cell_type": "code",
   "execution_count": null,
   "id": "ceec08ad",
   "metadata": {
    "scrolled": false
   },
   "outputs": [],
   "source": [
    "for itm in md.continuous_features:\n",
    "\n",
    "    fig = plots.plot_continuous_feature_distribution_over_time(\n",
    "        data=pd.concat([reference, analysis], ignore_index=True),\n",
    "        drift_results=univariate_results,\n",
    "        feature_label=itm.label\n",
    "    )\n",
    "    fig.show()\n",
    "    fig.write_image(file=f\"drift-guide-joyplot-{itm.label}.svg\")"
   ]
  },
  {
   "cell_type": "code",
   "execution_count": null,
   "id": "3582e6e6",
   "metadata": {},
   "outputs": [],
   "source": [
    "for itm in md.categorical_features:\n",
    "\n",
    "    fig = plots.plot_categorical_feature_distribution_over_time(\n",
    "        data=pd.concat([reference, analysis], ignore_index=True),\n",
    "        drift_results=univariate_results,\n",
    "        feature_label=itm.label\n",
    "    )\n",
    "    fig.show()\n",
    "    fig.write_image(file=f\"drift-guide-stacked-{itm.label}.svg\")"
   ]
  },
  {
   "cell_type": "code",
   "execution_count": null,
   "id": "cc7b3a9b",
   "metadata": {},
   "outputs": [],
   "source": [
    "fig = plots.plot_data_reconstruction_drift(rcerror_results)\n",
    "fig.show()\n",
    "fig.write_image(file=f\"drift-guide-multivariate.svg\")"
   ]
  },
  {
   "cell_type": "code",
   "execution_count": null,
   "id": "2d0cf3b3",
   "metadata": {},
   "outputs": [],
   "source": [
    "fig = plots.plot_univariate_statistical_prediction_drift(univariate_results, metric='statistic')\n",
    "fig.show()\n",
    "fig.write_image('drift-guide-predictions.svg')"
   ]
  },
  {
   "cell_type": "code",
   "execution_count": null,
   "id": "bdd1825a",
   "metadata": {},
   "outputs": [],
   "source": [
    "fig = plots.plot_prediction_distribution_over_time(\n",
    "    data=pd.concat([reference, analysis], ignore_index=True),\n",
    "    drift_results=univariate_results)\n",
    "fig.show()\n",
    "fig.write_image('drift-guide-predictions-joyplot.svg')"
   ]
  },
  {
   "cell_type": "code",
   "execution_count": null,
   "id": "9e3510db",
   "metadata": {},
   "outputs": [],
   "source": [
    "# fit estimator and estimate\n",
    "cbpe = nml.CBPE(model_metadata=md, chunk_size=5000)\n",
    "cbpe.fit(reference_data=reference)\n",
    "est_perf = cbpe.estimate(data=fdata)"
   ]
  },
  {
   "cell_type": "code",
   "execution_count": null,
   "id": "ea898c18",
   "metadata": {},
   "outputs": [],
   "source": [
    "# show results\n",
    "plots = nml.PerformancePlots(model_metadata=md, chunker=cbpe.chunker)\n",
    "fig = plots.plot_cbpe_performance_estimation(est_perf)\n",
    "fig.show()\n",
    "fig.write_image(file=f\"perf-est-guide-syth-example.svg\")"
   ]
  },
  {
   "cell_type": "code",
   "execution_count": null,
   "id": "2bd23455",
   "metadata": {},
   "outputs": [],
   "source": []
  },
  {
   "cell_type": "code",
   "execution_count": null,
   "id": "e6cd7b16",
   "metadata": {},
   "outputs": [],
   "source": []
  },
  {
   "cell_type": "code",
   "execution_count": null,
   "id": "acfc8043",
   "metadata": {},
   "outputs": [],
   "source": []
  },
  {
   "cell_type": "code",
   "execution_count": null,
   "id": "efc62f33",
   "metadata": {},
   "outputs": [],
   "source": []
  }
 ],
 "metadata": {
  "kernelspec": {
   "display_name": "Python 3 (ipykernel)",
   "language": "python",
   "name": "python3"
  },
  "language_info": {
   "codemirror_mode": {
    "name": "ipython",
    "version": 3
   },
   "file_extension": ".py",
   "mimetype": "text/x-python",
   "name": "python",
   "nbconvert_exporter": "python",
   "pygments_lexer": "ipython3",
   "version": "3.10.2"
  }
 },
 "nbformat": 4,
 "nbformat_minor": 5
}
