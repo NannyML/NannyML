{
 "cells": [
  {
   "cell_type": "code",
   "execution_count": 28,
   "id": "3e70ba81",
   "metadata": {},
   "outputs": [],
   "source": [
    "def showrst(df):\n",
    "    print(df.to_markdown(tablefmt=\"grid\"))"
   ]
  },
  {
   "cell_type": "code",
   "execution_count": 29,
   "id": "99381be5",
   "metadata": {},
   "outputs": [],
   "source": [
    "import warnings\n",
    "warnings.simplefilter(action='ignore', category=FutureWarning)"
   ]
  },
  {
   "cell_type": "code",
   "execution_count": 30,
   "id": "c6c0b36a",
   "metadata": {},
   "outputs": [],
   "source": [
    "import pandas as pd\n",
    "import nannyml as nml\n",
    "\n",
    "df_ref, df_ana, df_ana_gt = nml.datasets.load_synthetic_sample()"
   ]
  },
  {
   "cell_type": "code",
   "execution_count": 31,
   "id": "87e2d2e9",
   "metadata": {},
   "outputs": [
    {
     "data": {
      "text/html": [
       "<div>\n",
       "<style scoped>\n",
       "    .dataframe tbody tr th:only-of-type {\n",
       "        vertical-align: middle;\n",
       "    }\n",
       "\n",
       "    .dataframe tbody tr th {\n",
       "        vertical-align: top;\n",
       "    }\n",
       "\n",
       "    .dataframe thead th {\n",
       "        text-align: right;\n",
       "    }\n",
       "</style>\n",
       "<table border=\"1\" class=\"dataframe\">\n",
       "  <thead>\n",
       "    <tr style=\"text-align: right;\">\n",
       "      <th></th>\n",
       "      <th>distance_from_office</th>\n",
       "      <th>salary_range</th>\n",
       "      <th>gas_price_per_litre</th>\n",
       "      <th>public_transportation_cost</th>\n",
       "      <th>wfh_prev_workday</th>\n",
       "      <th>workday</th>\n",
       "      <th>tenure</th>\n",
       "      <th>identifier</th>\n",
       "      <th>work_home_actual</th>\n",
       "      <th>timestamp</th>\n",
       "      <th>y_pred_proba</th>\n",
       "      <th>partition</th>\n",
       "    </tr>\n",
       "  </thead>\n",
       "  <tbody>\n",
       "    <tr>\n",
       "      <th>0</th>\n",
       "      <td>5.962247</td>\n",
       "      <td>40K - 60K €</td>\n",
       "      <td>2.119485</td>\n",
       "      <td>8.568058</td>\n",
       "      <td>False</td>\n",
       "      <td>Friday</td>\n",
       "      <td>0.212653</td>\n",
       "      <td>0</td>\n",
       "      <td>1</td>\n",
       "      <td>2014-05-09 22:27:20</td>\n",
       "      <td>0.99</td>\n",
       "      <td>reference</td>\n",
       "    </tr>\n",
       "    <tr>\n",
       "      <th>1</th>\n",
       "      <td>0.535872</td>\n",
       "      <td>40K - 60K €</td>\n",
       "      <td>2.357199</td>\n",
       "      <td>5.425382</td>\n",
       "      <td>True</td>\n",
       "      <td>Tuesday</td>\n",
       "      <td>4.927549</td>\n",
       "      <td>1</td>\n",
       "      <td>0</td>\n",
       "      <td>2014-05-09 22:59:32</td>\n",
       "      <td>0.07</td>\n",
       "      <td>reference</td>\n",
       "    </tr>\n",
       "    <tr>\n",
       "      <th>2</th>\n",
       "      <td>1.969519</td>\n",
       "      <td>40K - 60K €</td>\n",
       "      <td>2.366849</td>\n",
       "      <td>8.247158</td>\n",
       "      <td>False</td>\n",
       "      <td>Monday</td>\n",
       "      <td>0.520817</td>\n",
       "      <td>2</td>\n",
       "      <td>1</td>\n",
       "      <td>2014-05-09 23:48:25</td>\n",
       "      <td>1.00</td>\n",
       "      <td>reference</td>\n",
       "    </tr>\n",
       "  </tbody>\n",
       "</table>\n",
       "</div>"
      ],
      "text/plain": [
       "   distance_from_office salary_range  gas_price_per_litre  \\\n",
       "0              5.962247  40K - 60K €             2.119485   \n",
       "1              0.535872  40K - 60K €             2.357199   \n",
       "2              1.969519  40K - 60K €             2.366849   \n",
       "\n",
       "   public_transportation_cost  wfh_prev_workday  workday    tenure  \\\n",
       "0                    8.568058             False   Friday  0.212653   \n",
       "1                    5.425382              True  Tuesday  4.927549   \n",
       "2                    8.247158             False   Monday  0.520817   \n",
       "\n",
       "   identifier  work_home_actual            timestamp  y_pred_proba  partition  \n",
       "0           0                 1  2014-05-09 22:27:20          0.99  reference  \n",
       "1           1                 0  2014-05-09 22:59:32          0.07  reference  \n",
       "2           2                 1  2014-05-09 23:48:25          1.00  reference  "
      ]
     },
     "execution_count": 31,
     "metadata": {},
     "output_type": "execute_result"
    }
   ],
   "source": [
    "df_ref.head(3)"
   ]
  },
  {
   "cell_type": "code",
   "execution_count": 32,
   "id": "0002774b",
   "metadata": {},
   "outputs": [
    {
     "name": "stdout",
     "output_type": "stream",
     "text": [
      "+----+------------------------+----------------+-----------------------+------------------------------+--------------------+-----------+----------+--------------+--------------------+---------------------+----------------+-------------+\n",
      "|    |   distance_from_office | salary_range   |   gas_price_per_litre |   public_transportation_cost | wfh_prev_workday   | workday   |   tenure |   identifier |   work_home_actual | timestamp           |   y_pred_proba | partition   |\n",
      "+====+========================+================+=======================+==============================+====================+===========+==========+==============+====================+=====================+================+=============+\n",
      "|  0 |               5.96225  | 40K - 60K €    |               2.11948 |                      8.56806 | False              | Friday    | 0.212653 |            0 |                  1 | 2014-05-09 22:27:20 |           0.99 | reference   |\n",
      "+----+------------------------+----------------+-----------------------+------------------------------+--------------------+-----------+----------+--------------+--------------------+---------------------+----------------+-------------+\n",
      "|  1 |               0.535872 | 40K - 60K €    |               2.3572  |                      5.42538 | True               | Tuesday   | 4.92755  |            1 |                  0 | 2014-05-09 22:59:32 |           0.07 | reference   |\n",
      "+----+------------------------+----------------+-----------------------+------------------------------+--------------------+-----------+----------+--------------+--------------------+---------------------+----------------+-------------+\n",
      "|  2 |               1.96952  | 40K - 60K €    |               2.36685 |                      8.24716 | False              | Monday    | 0.520817 |            2 |                  1 | 2014-05-09 23:48:25 |           1    | reference   |\n",
      "+----+------------------------+----------------+-----------------------+------------------------------+--------------------+-----------+----------+--------------+--------------------+---------------------+----------------+-------------+\n"
     ]
    }
   ],
   "source": [
    "print(df_ref.head(3).to_markdown(tablefmt=\"grid\"))"
   ]
  },
  {
   "cell_type": "code",
   "execution_count": 33,
   "id": "a2ab5a38",
   "metadata": {},
   "outputs": [
    {
     "data": {
      "text/html": [
       "<div>\n",
       "<style scoped>\n",
       "    .dataframe tbody tr th:only-of-type {\n",
       "        vertical-align: middle;\n",
       "    }\n",
       "\n",
       "    .dataframe tbody tr th {\n",
       "        vertical-align: top;\n",
       "    }\n",
       "\n",
       "    .dataframe thead th {\n",
       "        text-align: right;\n",
       "    }\n",
       "</style>\n",
       "<table border=\"1\" class=\"dataframe\">\n",
       "  <thead>\n",
       "    <tr style=\"text-align: right;\">\n",
       "      <th></th>\n",
       "      <th>distance_from_office</th>\n",
       "      <th>salary_range</th>\n",
       "      <th>gas_price_per_litre</th>\n",
       "      <th>public_transportation_cost</th>\n",
       "      <th>wfh_prev_workday</th>\n",
       "      <th>workday</th>\n",
       "      <th>tenure</th>\n",
       "      <th>identifier</th>\n",
       "      <th>timestamp</th>\n",
       "      <th>y_pred_proba</th>\n",
       "      <th>partition</th>\n",
       "    </tr>\n",
       "  </thead>\n",
       "  <tbody>\n",
       "    <tr>\n",
       "      <th>0</th>\n",
       "      <td>0.527691</td>\n",
       "      <td>0 - 20K €</td>\n",
       "      <td>1.800003</td>\n",
       "      <td>8.960724</td>\n",
       "      <td>False</td>\n",
       "      <td>Tuesday</td>\n",
       "      <td>4.224628</td>\n",
       "      <td>50000</td>\n",
       "      <td>2017-08-31 04:20:00</td>\n",
       "      <td>0.99</td>\n",
       "      <td>analysis</td>\n",
       "    </tr>\n",
       "    <tr>\n",
       "      <th>1</th>\n",
       "      <td>8.485134</td>\n",
       "      <td>20K - 20K €</td>\n",
       "      <td>2.222074</td>\n",
       "      <td>8.768792</td>\n",
       "      <td>False</td>\n",
       "      <td>Friday</td>\n",
       "      <td>4.963103</td>\n",
       "      <td>50001</td>\n",
       "      <td>2017-08-31 05:16:16</td>\n",
       "      <td>0.98</td>\n",
       "      <td>analysis</td>\n",
       "    </tr>\n",
       "    <tr>\n",
       "      <th>2</th>\n",
       "      <td>2.073876</td>\n",
       "      <td>40K - 60K €</td>\n",
       "      <td>2.310077</td>\n",
       "      <td>8.649979</td>\n",
       "      <td>True</td>\n",
       "      <td>Friday</td>\n",
       "      <td>4.588951</td>\n",
       "      <td>50002</td>\n",
       "      <td>2017-08-31 05:56:44</td>\n",
       "      <td>0.98</td>\n",
       "      <td>analysis</td>\n",
       "    </tr>\n",
       "  </tbody>\n",
       "</table>\n",
       "</div>"
      ],
      "text/plain": [
       "   distance_from_office salary_range  gas_price_per_litre  \\\n",
       "0              0.527691    0 - 20K €             1.800003   \n",
       "1              8.485134  20K - 20K €             2.222074   \n",
       "2              2.073876  40K - 60K €             2.310077   \n",
       "\n",
       "   public_transportation_cost  wfh_prev_workday  workday    tenure  \\\n",
       "0                    8.960724             False  Tuesday  4.224628   \n",
       "1                    8.768792             False   Friday  4.963103   \n",
       "2                    8.649979              True   Friday  4.588951   \n",
       "\n",
       "   identifier            timestamp  y_pred_proba partition  \n",
       "0       50000  2017-08-31 04:20:00          0.99  analysis  \n",
       "1       50001  2017-08-31 05:16:16          0.98  analysis  \n",
       "2       50002  2017-08-31 05:56:44          0.98  analysis  "
      ]
     },
     "execution_count": 33,
     "metadata": {},
     "output_type": "execute_result"
    }
   ],
   "source": [
    "df_ana.head(3)"
   ]
  },
  {
   "cell_type": "code",
   "execution_count": 34,
   "id": "9218c2d2",
   "metadata": {},
   "outputs": [
    {
     "name": "stdout",
     "output_type": "stream",
     "text": [
      "+----+------------------------+----------------+-----------------------+------------------------------+--------------------+-----------+----------+--------------+---------------------+----------------+-------------+\n",
      "|    |   distance_from_office | salary_range   |   gas_price_per_litre |   public_transportation_cost | wfh_prev_workday   | workday   |   tenure |   identifier | timestamp           |   y_pred_proba | partition   |\n",
      "+====+========================+================+=======================+==============================+====================+===========+==========+==============+=====================+================+=============+\n",
      "|  0 |               0.527691 | 0 - 20K €      |               1.8     |                      8.96072 | False              | Tuesday   |  4.22463 |        50000 | 2017-08-31 04:20:00 |           0.99 | analysis    |\n",
      "+----+------------------------+----------------+-----------------------+------------------------------+--------------------+-----------+----------+--------------+---------------------+----------------+-------------+\n",
      "|  1 |               8.48513  | 20K - 20K €    |               2.22207 |                      8.76879 | False              | Friday    |  4.9631  |        50001 | 2017-08-31 05:16:16 |           0.98 | analysis    |\n",
      "+----+------------------------+----------------+-----------------------+------------------------------+--------------------+-----------+----------+--------------+---------------------+----------------+-------------+\n",
      "|  2 |               2.07388  | 40K - 60K €    |               2.31008 |                      8.64998 | True               | Friday    |  4.58895 |        50002 | 2017-08-31 05:56:44 |           0.98 | analysis    |\n",
      "+----+------------------------+----------------+-----------------------+------------------------------+--------------------+-----------+----------+--------------+---------------------+----------------+-------------+\n"
     ]
    }
   ],
   "source": [
    "print(df_ana.head(3).to_markdown(tablefmt=\"grid\"))"
   ]
  },
  {
   "cell_type": "code",
   "execution_count": 35,
   "id": "d8e7d8cf",
   "metadata": {},
   "outputs": [],
   "source": [
    "md = nml.extract_metadata(df_ref)\n",
    "md.ground_truth_column_name = 'work_home_actual'\n"
   ]
  },
  {
   "cell_type": "code",
   "execution_count": 36,
   "id": "cfde5763",
   "metadata": {},
   "outputs": [],
   "source": [
    "cbpe = nml.CBPE(model_metadata=md, chunk_size=5000)\n",
    "cbpe.fit(reference_data=df_ref)\n",
    "est_perf = cbpe.estimate(pd.concat([df_ref, df_ana]))"
   ]
  },
  {
   "cell_type": "code",
   "execution_count": null,
   "id": "31a6ebef",
   "metadata": {},
   "outputs": [],
   "source": []
  },
  {
   "cell_type": "code",
   "execution_count": 37,
   "id": "41960a78",
   "metadata": {},
   "outputs": [
    {
     "data": {
      "text/html": [
       "<div>\n",
       "<style scoped>\n",
       "    .dataframe tbody tr th:only-of-type {\n",
       "        vertical-align: middle;\n",
       "    }\n",
       "\n",
       "    .dataframe tbody tr th {\n",
       "        vertical-align: top;\n",
       "    }\n",
       "\n",
       "    .dataframe thead th {\n",
       "        text-align: right;\n",
       "    }\n",
       "</style>\n",
       "<table border=\"1\" class=\"dataframe\">\n",
       "  <thead>\n",
       "    <tr style=\"text-align: right;\">\n",
       "      <th></th>\n",
       "      <th>key</th>\n",
       "      <th>start_index</th>\n",
       "      <th>end_index</th>\n",
       "      <th>start_date</th>\n",
       "      <th>end_date</th>\n",
       "      <th>partition</th>\n",
       "      <th>estimated_roc_auc</th>\n",
       "      <th>confidence</th>\n",
       "      <th>upper_threshold</th>\n",
       "      <th>lower_threshold</th>\n",
       "      <th>alert</th>\n",
       "    </tr>\n",
       "  </thead>\n",
       "  <tbody>\n",
       "    <tr>\n",
       "      <th>0</th>\n",
       "      <td>[0:4999]</td>\n",
       "      <td>0</td>\n",
       "      <td>4999</td>\n",
       "      <td>2014-05-09</td>\n",
       "      <td>2014-09-09 23:59:59</td>\n",
       "      <td>reference</td>\n",
       "      <td>0.969051</td>\n",
       "      <td>0.000358</td>\n",
       "      <td>0.97866</td>\n",
       "      <td>0.963317</td>\n",
       "      <td>False</td>\n",
       "    </tr>\n",
       "    <tr>\n",
       "      <th>1</th>\n",
       "      <td>[5000:9999]</td>\n",
       "      <td>5000</td>\n",
       "      <td>9999</td>\n",
       "      <td>2014-09-09</td>\n",
       "      <td>2015-01-09 23:59:59</td>\n",
       "      <td>reference</td>\n",
       "      <td>0.968909</td>\n",
       "      <td>0.000358</td>\n",
       "      <td>0.97866</td>\n",
       "      <td>0.963317</td>\n",
       "      <td>False</td>\n",
       "    </tr>\n",
       "    <tr>\n",
       "      <th>2</th>\n",
       "      <td>[10000:14999]</td>\n",
       "      <td>10000</td>\n",
       "      <td>14999</td>\n",
       "      <td>2015-01-09</td>\n",
       "      <td>2015-05-09 23:59:59</td>\n",
       "      <td>reference</td>\n",
       "      <td>0.968657</td>\n",
       "      <td>0.000358</td>\n",
       "      <td>0.97866</td>\n",
       "      <td>0.963317</td>\n",
       "      <td>False</td>\n",
       "    </tr>\n",
       "    <tr>\n",
       "      <th>3</th>\n",
       "      <td>[15000:19999]</td>\n",
       "      <td>15000</td>\n",
       "      <td>19999</td>\n",
       "      <td>2015-05-09</td>\n",
       "      <td>2015-09-07 23:59:59</td>\n",
       "      <td>reference</td>\n",
       "      <td>0.968973</td>\n",
       "      <td>0.000358</td>\n",
       "      <td>0.97866</td>\n",
       "      <td>0.963317</td>\n",
       "      <td>False</td>\n",
       "    </tr>\n",
       "    <tr>\n",
       "      <th>4</th>\n",
       "      <td>[20000:24999]</td>\n",
       "      <td>20000</td>\n",
       "      <td>24999</td>\n",
       "      <td>2015-09-07</td>\n",
       "      <td>2016-01-08 23:59:59</td>\n",
       "      <td>reference</td>\n",
       "      <td>0.968962</td>\n",
       "      <td>0.000358</td>\n",
       "      <td>0.97866</td>\n",
       "      <td>0.963317</td>\n",
       "      <td>False</td>\n",
       "    </tr>\n",
       "    <tr>\n",
       "      <th>5</th>\n",
       "      <td>[25000:29999]</td>\n",
       "      <td>25000</td>\n",
       "      <td>29999</td>\n",
       "      <td>2016-01-08</td>\n",
       "      <td>2016-05-09 23:59:59</td>\n",
       "      <td>reference</td>\n",
       "      <td>0.969079</td>\n",
       "      <td>0.000358</td>\n",
       "      <td>0.97866</td>\n",
       "      <td>0.963317</td>\n",
       "      <td>False</td>\n",
       "    </tr>\n",
       "    <tr>\n",
       "      <th>6</th>\n",
       "      <td>[30000:34999]</td>\n",
       "      <td>30000</td>\n",
       "      <td>34999</td>\n",
       "      <td>2016-05-09</td>\n",
       "      <td>2016-09-04 23:59:59</td>\n",
       "      <td>reference</td>\n",
       "      <td>0.968725</td>\n",
       "      <td>0.000358</td>\n",
       "      <td>0.97866</td>\n",
       "      <td>0.963317</td>\n",
       "      <td>False</td>\n",
       "    </tr>\n",
       "    <tr>\n",
       "      <th>7</th>\n",
       "      <td>[35000:39999]</td>\n",
       "      <td>35000</td>\n",
       "      <td>39999</td>\n",
       "      <td>2016-09-04</td>\n",
       "      <td>2017-01-03 23:59:59</td>\n",
       "      <td>reference</td>\n",
       "      <td>0.968885</td>\n",
       "      <td>0.000358</td>\n",
       "      <td>0.97866</td>\n",
       "      <td>0.963317</td>\n",
       "      <td>False</td>\n",
       "    </tr>\n",
       "    <tr>\n",
       "      <th>8</th>\n",
       "      <td>[40000:44999]</td>\n",
       "      <td>40000</td>\n",
       "      <td>44999</td>\n",
       "      <td>2017-01-03</td>\n",
       "      <td>2017-05-03 23:59:59</td>\n",
       "      <td>reference</td>\n",
       "      <td>0.969227</td>\n",
       "      <td>0.000358</td>\n",
       "      <td>0.97866</td>\n",
       "      <td>0.963317</td>\n",
       "      <td>False</td>\n",
       "    </tr>\n",
       "    <tr>\n",
       "      <th>9</th>\n",
       "      <td>[45000:49999]</td>\n",
       "      <td>45000</td>\n",
       "      <td>49999</td>\n",
       "      <td>2017-05-03</td>\n",
       "      <td>2017-08-31 23:59:59</td>\n",
       "      <td>reference</td>\n",
       "      <td>0.969002</td>\n",
       "      <td>0.000358</td>\n",
       "      <td>0.97866</td>\n",
       "      <td>0.963317</td>\n",
       "      <td>False</td>\n",
       "    </tr>\n",
       "    <tr>\n",
       "      <th>10</th>\n",
       "      <td>[50000:54999]</td>\n",
       "      <td>50000</td>\n",
       "      <td>54999</td>\n",
       "      <td>2017-08-31</td>\n",
       "      <td>2018-01-02 23:59:59</td>\n",
       "      <td>analysis</td>\n",
       "      <td>0.968631</td>\n",
       "      <td>0.000358</td>\n",
       "      <td>0.97866</td>\n",
       "      <td>0.963317</td>\n",
       "      <td>False</td>\n",
       "    </tr>\n",
       "    <tr>\n",
       "      <th>11</th>\n",
       "      <td>[55000:59999]</td>\n",
       "      <td>55000</td>\n",
       "      <td>59999</td>\n",
       "      <td>2018-01-02</td>\n",
       "      <td>2018-05-01 23:59:59</td>\n",
       "      <td>analysis</td>\n",
       "      <td>0.969044</td>\n",
       "      <td>0.000358</td>\n",
       "      <td>0.97866</td>\n",
       "      <td>0.963317</td>\n",
       "      <td>False</td>\n",
       "    </tr>\n",
       "    <tr>\n",
       "      <th>12</th>\n",
       "      <td>[60000:64999]</td>\n",
       "      <td>60000</td>\n",
       "      <td>64999</td>\n",
       "      <td>2018-05-01</td>\n",
       "      <td>2018-09-01 23:59:59</td>\n",
       "      <td>analysis</td>\n",
       "      <td>0.969444</td>\n",
       "      <td>0.000358</td>\n",
       "      <td>0.97866</td>\n",
       "      <td>0.963317</td>\n",
       "      <td>False</td>\n",
       "    </tr>\n",
       "    <tr>\n",
       "      <th>13</th>\n",
       "      <td>[65000:69999]</td>\n",
       "      <td>65000</td>\n",
       "      <td>69999</td>\n",
       "      <td>2018-09-01</td>\n",
       "      <td>2018-12-31 23:59:59</td>\n",
       "      <td>analysis</td>\n",
       "      <td>0.969047</td>\n",
       "      <td>0.000358</td>\n",
       "      <td>0.97866</td>\n",
       "      <td>0.963317</td>\n",
       "      <td>False</td>\n",
       "    </tr>\n",
       "    <tr>\n",
       "      <th>14</th>\n",
       "      <td>[70000:74999]</td>\n",
       "      <td>70000</td>\n",
       "      <td>74999</td>\n",
       "      <td>2018-12-31</td>\n",
       "      <td>2019-04-30 23:59:59</td>\n",
       "      <td>analysis</td>\n",
       "      <td>0.968873</td>\n",
       "      <td>0.000358</td>\n",
       "      <td>0.97866</td>\n",
       "      <td>0.963317</td>\n",
       "      <td>False</td>\n",
       "    </tr>\n",
       "    <tr>\n",
       "      <th>15</th>\n",
       "      <td>[75000:79999]</td>\n",
       "      <td>75000</td>\n",
       "      <td>79999</td>\n",
       "      <td>2019-04-30</td>\n",
       "      <td>2019-09-01 23:59:59</td>\n",
       "      <td>analysis</td>\n",
       "      <td>0.960478</td>\n",
       "      <td>0.000358</td>\n",
       "      <td>0.97866</td>\n",
       "      <td>0.963317</td>\n",
       "      <td>True</td>\n",
       "    </tr>\n",
       "    <tr>\n",
       "      <th>16</th>\n",
       "      <td>[80000:84999]</td>\n",
       "      <td>80000</td>\n",
       "      <td>84999</td>\n",
       "      <td>2019-09-01</td>\n",
       "      <td>2019-12-31 23:59:59</td>\n",
       "      <td>analysis</td>\n",
       "      <td>0.961134</td>\n",
       "      <td>0.000358</td>\n",
       "      <td>0.97866</td>\n",
       "      <td>0.963317</td>\n",
       "      <td>True</td>\n",
       "    </tr>\n",
       "    <tr>\n",
       "      <th>17</th>\n",
       "      <td>[85000:89999]</td>\n",
       "      <td>85000</td>\n",
       "      <td>89999</td>\n",
       "      <td>2019-12-31</td>\n",
       "      <td>2020-04-30 23:59:59</td>\n",
       "      <td>analysis</td>\n",
       "      <td>0.960536</td>\n",
       "      <td>0.000358</td>\n",
       "      <td>0.97866</td>\n",
       "      <td>0.963317</td>\n",
       "      <td>True</td>\n",
       "    </tr>\n",
       "    <tr>\n",
       "      <th>18</th>\n",
       "      <td>[90000:94999]</td>\n",
       "      <td>90000</td>\n",
       "      <td>94999</td>\n",
       "      <td>2020-04-30</td>\n",
       "      <td>2020-09-01 23:59:59</td>\n",
       "      <td>analysis</td>\n",
       "      <td>0.961869</td>\n",
       "      <td>0.000358</td>\n",
       "      <td>0.97866</td>\n",
       "      <td>0.963317</td>\n",
       "      <td>True</td>\n",
       "    </tr>\n",
       "    <tr>\n",
       "      <th>19</th>\n",
       "      <td>[95000:99999]</td>\n",
       "      <td>95000</td>\n",
       "      <td>99999</td>\n",
       "      <td>2020-09-01</td>\n",
       "      <td>2021-01-01 23:59:59</td>\n",
       "      <td>analysis</td>\n",
       "      <td>0.960537</td>\n",
       "      <td>0.000358</td>\n",
       "      <td>0.97866</td>\n",
       "      <td>0.963317</td>\n",
       "      <td>True</td>\n",
       "    </tr>\n",
       "  </tbody>\n",
       "</table>\n",
       "</div>"
      ],
      "text/plain": [
       "              key  start_index  end_index start_date            end_date  \\\n",
       "0        [0:4999]            0       4999 2014-05-09 2014-09-09 23:59:59   \n",
       "1     [5000:9999]         5000       9999 2014-09-09 2015-01-09 23:59:59   \n",
       "2   [10000:14999]        10000      14999 2015-01-09 2015-05-09 23:59:59   \n",
       "3   [15000:19999]        15000      19999 2015-05-09 2015-09-07 23:59:59   \n",
       "4   [20000:24999]        20000      24999 2015-09-07 2016-01-08 23:59:59   \n",
       "5   [25000:29999]        25000      29999 2016-01-08 2016-05-09 23:59:59   \n",
       "6   [30000:34999]        30000      34999 2016-05-09 2016-09-04 23:59:59   \n",
       "7   [35000:39999]        35000      39999 2016-09-04 2017-01-03 23:59:59   \n",
       "8   [40000:44999]        40000      44999 2017-01-03 2017-05-03 23:59:59   \n",
       "9   [45000:49999]        45000      49999 2017-05-03 2017-08-31 23:59:59   \n",
       "10  [50000:54999]        50000      54999 2017-08-31 2018-01-02 23:59:59   \n",
       "11  [55000:59999]        55000      59999 2018-01-02 2018-05-01 23:59:59   \n",
       "12  [60000:64999]        60000      64999 2018-05-01 2018-09-01 23:59:59   \n",
       "13  [65000:69999]        65000      69999 2018-09-01 2018-12-31 23:59:59   \n",
       "14  [70000:74999]        70000      74999 2018-12-31 2019-04-30 23:59:59   \n",
       "15  [75000:79999]        75000      79999 2019-04-30 2019-09-01 23:59:59   \n",
       "16  [80000:84999]        80000      84999 2019-09-01 2019-12-31 23:59:59   \n",
       "17  [85000:89999]        85000      89999 2019-12-31 2020-04-30 23:59:59   \n",
       "18  [90000:94999]        90000      94999 2020-04-30 2020-09-01 23:59:59   \n",
       "19  [95000:99999]        95000      99999 2020-09-01 2021-01-01 23:59:59   \n",
       "\n",
       "    partition  estimated_roc_auc  confidence  upper_threshold  \\\n",
       "0   reference           0.969051    0.000358          0.97866   \n",
       "1   reference           0.968909    0.000358          0.97866   \n",
       "2   reference           0.968657    0.000358          0.97866   \n",
       "3   reference           0.968973    0.000358          0.97866   \n",
       "4   reference           0.968962    0.000358          0.97866   \n",
       "5   reference           0.969079    0.000358          0.97866   \n",
       "6   reference           0.968725    0.000358          0.97866   \n",
       "7   reference           0.968885    0.000358          0.97866   \n",
       "8   reference           0.969227    0.000358          0.97866   \n",
       "9   reference           0.969002    0.000358          0.97866   \n",
       "10   analysis           0.968631    0.000358          0.97866   \n",
       "11   analysis           0.969044    0.000358          0.97866   \n",
       "12   analysis           0.969444    0.000358          0.97866   \n",
       "13   analysis           0.969047    0.000358          0.97866   \n",
       "14   analysis           0.968873    0.000358          0.97866   \n",
       "15   analysis           0.960478    0.000358          0.97866   \n",
       "16   analysis           0.961134    0.000358          0.97866   \n",
       "17   analysis           0.960536    0.000358          0.97866   \n",
       "18   analysis           0.961869    0.000358          0.97866   \n",
       "19   analysis           0.960537    0.000358          0.97866   \n",
       "\n",
       "    lower_threshold  alert  \n",
       "0          0.963317  False  \n",
       "1          0.963317  False  \n",
       "2          0.963317  False  \n",
       "3          0.963317  False  \n",
       "4          0.963317  False  \n",
       "5          0.963317  False  \n",
       "6          0.963317  False  \n",
       "7          0.963317  False  \n",
       "8          0.963317  False  \n",
       "9          0.963317  False  \n",
       "10         0.963317  False  \n",
       "11         0.963317  False  \n",
       "12         0.963317  False  \n",
       "13         0.963317  False  \n",
       "14         0.963317  False  \n",
       "15         0.963317   True  \n",
       "16         0.963317   True  \n",
       "17         0.963317   True  \n",
       "18         0.963317   True  \n",
       "19         0.963317   True  "
      ]
     },
     "execution_count": 37,
     "metadata": {},
     "output_type": "execute_result"
    }
   ],
   "source": [
    "est_perf"
   ]
  },
  {
   "cell_type": "code",
   "execution_count": 38,
   "id": "d8bc9fda",
   "metadata": {},
   "outputs": [
    {
     "data": {
      "text/html": [
       "<div>\n",
       "<style scoped>\n",
       "    .dataframe tbody tr th:only-of-type {\n",
       "        vertical-align: middle;\n",
       "    }\n",
       "\n",
       "    .dataframe tbody tr th {\n",
       "        vertical-align: top;\n",
       "    }\n",
       "\n",
       "    .dataframe thead th {\n",
       "        text-align: right;\n",
       "    }\n",
       "</style>\n",
       "<table border=\"1\" class=\"dataframe\">\n",
       "  <thead>\n",
       "    <tr style=\"text-align: right;\">\n",
       "      <th></th>\n",
       "      <th>key</th>\n",
       "      <th>start_index</th>\n",
       "      <th>end_index</th>\n",
       "      <th>start_date</th>\n",
       "      <th>end_date</th>\n",
       "      <th>partition</th>\n",
       "      <th>estimated_roc_auc</th>\n",
       "      <th>confidence</th>\n",
       "      <th>upper_threshold</th>\n",
       "      <th>lower_threshold</th>\n",
       "      <th>alert</th>\n",
       "    </tr>\n",
       "  </thead>\n",
       "  <tbody>\n",
       "    <tr>\n",
       "      <th>0</th>\n",
       "      <td>[0:4999]</td>\n",
       "      <td>0</td>\n",
       "      <td>4999</td>\n",
       "      <td>2014-05-09</td>\n",
       "      <td>2014-09-09 23:59:59</td>\n",
       "      <td>reference</td>\n",
       "      <td>0.969051</td>\n",
       "      <td>0.000358</td>\n",
       "      <td>0.97866</td>\n",
       "      <td>0.963317</td>\n",
       "      <td>False</td>\n",
       "    </tr>\n",
       "    <tr>\n",
       "      <th>1</th>\n",
       "      <td>[5000:9999]</td>\n",
       "      <td>5000</td>\n",
       "      <td>9999</td>\n",
       "      <td>2014-09-09</td>\n",
       "      <td>2015-01-09 23:59:59</td>\n",
       "      <td>reference</td>\n",
       "      <td>0.968909</td>\n",
       "      <td>0.000358</td>\n",
       "      <td>0.97866</td>\n",
       "      <td>0.963317</td>\n",
       "      <td>False</td>\n",
       "    </tr>\n",
       "    <tr>\n",
       "      <th>2</th>\n",
       "      <td>[10000:14999]</td>\n",
       "      <td>10000</td>\n",
       "      <td>14999</td>\n",
       "      <td>2015-01-09</td>\n",
       "      <td>2015-05-09 23:59:59</td>\n",
       "      <td>reference</td>\n",
       "      <td>0.968657</td>\n",
       "      <td>0.000358</td>\n",
       "      <td>0.97866</td>\n",
       "      <td>0.963317</td>\n",
       "      <td>False</td>\n",
       "    </tr>\n",
       "  </tbody>\n",
       "</table>\n",
       "</div>"
      ],
      "text/plain": [
       "             key  start_index  end_index start_date            end_date  \\\n",
       "0       [0:4999]            0       4999 2014-05-09 2014-09-09 23:59:59   \n",
       "1    [5000:9999]         5000       9999 2014-09-09 2015-01-09 23:59:59   \n",
       "2  [10000:14999]        10000      14999 2015-01-09 2015-05-09 23:59:59   \n",
       "\n",
       "   partition  estimated_roc_auc  confidence  upper_threshold  lower_threshold  \\\n",
       "0  reference           0.969051    0.000358          0.97866         0.963317   \n",
       "1  reference           0.968909    0.000358          0.97866         0.963317   \n",
       "2  reference           0.968657    0.000358          0.97866         0.963317   \n",
       "\n",
       "   alert  \n",
       "0  False  \n",
       "1  False  \n",
       "2  False  "
      ]
     },
     "execution_count": 38,
     "metadata": {},
     "output_type": "execute_result"
    }
   ],
   "source": [
    "est_perf.head(3)"
   ]
  },
  {
   "cell_type": "code",
   "execution_count": 39,
   "id": "8ae2565d",
   "metadata": {},
   "outputs": [
    {
     "name": "stdout",
     "output_type": "stream",
     "text": [
      "+----+---------------+---------------+-------------+---------------------+---------------------+-------------+---------------------+--------------+-------------------+-------------------+---------+\n",
      "|    | key           |   start_index |   end_index | start_date          | end_date            | partition   |   estimated_roc_auc |   confidence |   upper_threshold |   lower_threshold | alert   |\n",
      "+====+===============+===============+=============+=====================+=====================+=============+=====================+==============+===================+===================+=========+\n",
      "|  0 | [0:4999]      |             0 |        4999 | 2014-05-09 00:00:00 | 2014-09-09 23:59:59 | reference   |            0.969051 |   0.00035752 |           0.97866 |          0.963317 | False   |\n",
      "+----+---------------+---------------+-------------+---------------------+---------------------+-------------+---------------------+--------------+-------------------+-------------------+---------+\n",
      "|  1 | [5000:9999]   |          5000 |        9999 | 2014-09-09 00:00:00 | 2015-01-09 23:59:59 | reference   |            0.968909 |   0.00035752 |           0.97866 |          0.963317 | False   |\n",
      "+----+---------------+---------------+-------------+---------------------+---------------------+-------------+---------------------+--------------+-------------------+-------------------+---------+\n",
      "|  2 | [10000:14999] |         10000 |       14999 | 2015-01-09 00:00:00 | 2015-05-09 23:59:59 | reference   |            0.968657 |   0.00035752 |           0.97866 |          0.963317 | False   |\n",
      "+----+---------------+---------------+-------------+---------------------+---------------------+-------------+---------------------+--------------+-------------------+-------------------+---------+\n"
     ]
    }
   ],
   "source": [
    "print(est_perf.head(3).to_markdown(tablefmt=\"grid\"))"
   ]
  },
  {
   "cell_type": "code",
   "execution_count": 40,
   "id": "4882bef8",
   "metadata": {},
   "outputs": [
    {
     "data": {
      "text/plain": [
       "0.00031572764741503474"
      ]
     },
     "execution_count": 40,
     "metadata": {},
     "output_type": "execute_result"
    }
   ],
   "source": [
    "import numpy as np\n",
    "np.std(est_perf[est_perf['partition']=='reference']['estimated_roc_auc'])*2"
   ]
  },
  {
   "cell_type": "code",
   "execution_count": 41,
   "id": "d856553a",
   "metadata": {},
   "outputs": [
    {
     "data": {
      "application/vnd.plotly.v1+json": {
       "config": {
        "plotlyServerURL": "https://plot.ly"
       },
       "data": [
        {
         "hoverinfo": "skip",
         "line": {
          "color": "rgba(0,0,0,0)"
         },
         "mode": "lines",
         "showlegend": false,
         "type": "scatter",
         "x": [
          "2017-08-31T23:59:59",
          "2018-01-02T23:59:59",
          "2018-05-01T23:59:59",
          "2018-09-01T23:59:59",
          "2018-12-31T23:59:59",
          "2019-04-30T23:59:59",
          "2019-09-01T23:59:59",
          "2019-12-31T23:59:59",
          "2020-04-30T23:59:59",
          "2020-09-01T23:59:59",
          "2021-01-01T23:59:59"
         ],
         "y": [
          0.9693592539867613,
          0.9689881364321778,
          0.9694013632986495,
          0.969801345947374,
          0.9694047832011149,
          0.969230214978708,
          0.9608355359962285,
          0.9614911407563604,
          0.9608933417023511,
          0.962226640186043,
          0.9608941650078008
         ]
        },
        {
         "fill": "tonexty",
         "fillcolor": "rgba(59,2,128,0.2)",
         "hoverinfo": "skip",
         "line": {
          "color": "rgba(0,0,0,0)"
         },
         "mode": "lines",
         "showlegend": false,
         "type": "scatter",
         "x": [
          "2017-08-31T23:59:59",
          "2018-01-02T23:59:59",
          "2018-05-01T23:59:59",
          "2018-09-01T23:59:59",
          "2018-12-31T23:59:59",
          "2019-04-30T23:59:59",
          "2019-09-01T23:59:59",
          "2019-12-31T23:59:59",
          "2020-04-30T23:59:59",
          "2020-09-01T23:59:59",
          "2021-01-01T23:59:59"
         ],
         "y": [
          0.9686442144842802,
          0.9682730969296968,
          0.9686863237961684,
          0.9690863064448929,
          0.9686897436986338,
          0.9685151754762269,
          0.9601204964937474,
          0.9607761012538794,
          0.96017830219987,
          0.9615116006835619,
          0.9601791255053197
         ]
        },
        {
         "hoverinfo": "skip",
         "legendgroup": "0",
         "line": {
          "color": "#00c8e5",
          "width": 2
         },
         "mode": "lines",
         "name": "Reference period",
         "type": "scatter",
         "x": [
          "2014-05-09T00:00:00",
          "2014-09-09T23:59:59",
          "2015-01-09T23:59:59",
          "2015-05-09T23:59:59",
          "2015-09-07T23:59:59",
          "2016-01-08T23:59:59",
          "2016-05-09T23:59:59",
          "2016-09-04T23:59:59",
          "2017-01-03T23:59:59",
          "2017-05-03T23:59:59",
          "2017-08-31T23:59:59"
         ],
         "y": [
          0.9690510295451034,
          0.9690510295451034,
          0.9689088665073878,
          0.9686572891296596,
          0.9689725102114568,
          0.9689619041596962,
          0.9690786767455462,
          0.9687245154996407,
          0.9688847678048902,
          0.9692270388235971,
          0.9690017342355207
         ]
        },
        {
         "hoverinfo": "skip",
         "legendgroup": "1",
         "line": {
          "color": "#3b0280",
          "dash": "dash",
          "width": 2
         },
         "mode": "lines",
         "name": "Analysis period",
         "type": "scatter",
         "x": [
          "2017-08-31T23:59:59",
          "2018-01-02T23:59:59",
          "2018-05-01T23:59:59",
          "2018-09-01T23:59:59",
          "2018-12-31T23:59:59",
          "2019-04-30T23:59:59",
          "2019-09-01T23:59:59",
          "2019-12-31T23:59:59",
          "2020-04-30T23:59:59",
          "2020-09-01T23:59:59",
          "2021-01-01T23:59:59"
         ],
         "y": [
          0.9690017342355207,
          0.9686306166809373,
          0.9690438435474089,
          0.9694438261961335,
          0.9690472634498744,
          0.9688726952274674,
          0.960478016244988,
          0.9611336210051199,
          0.9605358219511105,
          0.9618691204348024,
          0.9605366452565602
         ]
        },
        {
         "customdata": [
          [
           "[0:4999]",
           "09/May/14",
           "09/Sep/14",
           "0.9691"
          ],
          [
           "[5000:9999]",
           "09/Sep/14",
           "09/Jan/15",
           "0.9689"
          ],
          [
           "[10000:14999]",
           "09/Jan/15",
           "09/May/15",
           "0.9687"
          ],
          [
           "[15000:19999]",
           "09/May/15",
           "07/Sep/15",
           "0.9690"
          ],
          [
           "[20000:24999]",
           "07/Sep/15",
           "08/Jan/16",
           "0.9690"
          ],
          [
           "[25000:29999]",
           "08/Jan/16",
           "09/May/16",
           "0.9691"
          ],
          [
           "[30000:34999]",
           "09/May/16",
           "04/Sep/16",
           "0.9687"
          ],
          [
           "[35000:39999]",
           "04/Sep/16",
           "03/Jan/17",
           "0.9689"
          ],
          [
           "[40000:44999]",
           "03/Jan/17",
           "03/May/17",
           "0.9692"
          ],
          [
           "[45000:49999]",
           "03/May/17",
           "31/Aug/17",
           "0.9690"
          ]
         ],
         "hovertemplate": "Chunk %{customdata[0]}: %{customdata[1]} - %{customdata[2]}, %{customdata[3]}",
         "legendgroup": "0",
         "marker": {
          "color": "#00c8e5",
          "size": 6,
          "symbol": "square"
         },
         "mode": "markers",
         "name": "Reference",
         "showlegend": false,
         "type": "scatter",
         "x": [
          "2014-09-09T23:59:59",
          "2015-01-09T23:59:59",
          "2015-05-09T23:59:59",
          "2015-09-07T23:59:59",
          "2016-01-08T23:59:59",
          "2016-05-09T23:59:59",
          "2016-09-04T23:59:59",
          "2017-01-03T23:59:59",
          "2017-05-03T23:59:59",
          "2017-08-31T23:59:59"
         ],
         "y": [
          0.9690510295451034,
          0.9689088665073878,
          0.9686572891296596,
          0.9689725102114568,
          0.9689619041596962,
          0.9690786767455462,
          0.9687245154996407,
          0.9688847678048902,
          0.9692270388235971,
          0.9690017342355207
         ]
        },
        {
         "customdata": [
          [
           "[50000:54999]",
           "31/Aug/17",
           "02/Jan/18",
           "0.9686"
          ],
          [
           "[55000:59999]",
           "02/Jan/18",
           "01/May/18",
           "0.9690"
          ],
          [
           "[60000:64999]",
           "01/May/18",
           "01/Sep/18",
           "0.9694"
          ],
          [
           "[65000:69999]",
           "01/Sep/18",
           "31/Dec/18",
           "0.9690"
          ],
          [
           "[70000:74999]",
           "31/Dec/18",
           "30/Apr/19",
           "0.9689"
          ]
         ],
         "hovertemplate": "Chunk %{customdata[0]}: %{customdata[1]} - %{customdata[2]}, %{customdata[3]}",
         "legendgroup": "1",
         "marker": {
          "color": "#3b0280",
          "size": 6,
          "symbol": "square"
         },
         "mode": "markers",
         "name": "No drift",
         "showlegend": false,
         "type": "scatter",
         "x": [
          "2018-01-02T23:59:59",
          "2018-05-01T23:59:59",
          "2018-09-01T23:59:59",
          "2018-12-31T23:59:59",
          "2019-04-30T23:59:59"
         ],
         "y": [
          0.9686306166809373,
          0.9690438435474089,
          0.9694438261961335,
          0.9690472634498744,
          0.9688726952274674
         ]
        },
        {
         "customdata": [
          [
           "[75000:79999]",
           "30/Apr/19",
           "01/Sep/19",
           "0.9605"
          ],
          [
           "[80000:84999]",
           "01/Sep/19",
           "31/Dec/19",
           "0.9611"
          ],
          [
           "[85000:89999]",
           "31/Dec/19",
           "30/Apr/20",
           "0.9605"
          ],
          [
           "[90000:94999]",
           "30/Apr/20",
           "01/Sep/20",
           "0.9619"
          ],
          [
           "[95000:99999]",
           "01/Sep/20",
           "01/Jan/21",
           "0.9605"
          ]
         ],
         "hovertemplate": "Chunk %{customdata[0]}: %{customdata[1]} - %{customdata[2]}, %{customdata[3]}",
         "legendgroup": "1",
         "marker": {
          "color": "#DD4040",
          "size": 6,
          "symbol": "diamond"
         },
         "mode": "markers",
         "name": "Drifted",
         "showlegend": false,
         "type": "scatter",
         "x": [
          "2019-09-01T23:59:59",
          "2019-12-31T23:59:59",
          "2020-04-30T23:59:59",
          "2020-09-01T23:59:59",
          "2021-01-01T23:59:59"
         ],
         "y": [
          0.960478016244988,
          0.9611336210051199,
          0.9605358219511105,
          0.9618691204348024,
          0.9605366452565602
         ]
        },
        {
         "line": {
          "color": "rgba(0,0,0,0)"
         },
         "mode": "lines",
         "showlegend": false,
         "type": "scatter",
         "x": [
          "2017-08-31T23:59:59",
          "2018-01-02T23:59:59",
          "2018-05-01T23:59:59",
          "2018-09-01T23:59:59",
          "2018-12-31T23:59:59",
          "2019-04-30T23:59:59",
          "2019-09-01T23:59:59",
          "2019-12-31T23:59:59",
          "2020-04-30T23:59:59",
          "2020-09-01T23:59:59",
          "2021-01-01T23:59:59"
         ],
         "y": [
          null,
          null,
          null,
          null,
          null,
          null,
          null,
          null,
          null,
          null,
          null
         ]
        },
        {
         "fill": "tonexty",
         "fillcolor": "rgba(59,2,128,0.2)",
         "legendgroup": "1",
         "line": {
          "color": "rgba(0,0,0,0)"
         },
         "mode": "lines",
         "name": "Confidence band",
         "type": "scatter",
         "x": [
          "2017-08-31T23:59:59",
          "2018-01-02T23:59:59",
          "2018-05-01T23:59:59",
          "2018-09-01T23:59:59",
          "2018-12-31T23:59:59",
          "2019-04-30T23:59:59",
          "2019-09-01T23:59:59",
          "2019-12-31T23:59:59",
          "2020-04-30T23:59:59",
          "2020-09-01T23:59:59",
          "2021-01-01T23:59:59"
         ],
         "y": [
          null,
          null,
          null,
          null,
          null,
          null,
          null,
          null,
          null,
          null,
          null,
          null,
          null,
          null,
          null,
          null,
          null,
          null,
          null,
          null
         ]
        },
        {
         "legendgroup": "1",
         "line": {
          "color": "#DD4040",
          "dash": "dash",
          "width": 1
         },
         "mode": "lines",
         "name": "Performance threshold",
         "type": "scatter",
         "x": [
          "2017-08-31T23:59:59",
          "2018-01-02T23:59:59",
          "2018-05-01T23:59:59",
          "2018-09-01T23:59:59",
          "2018-12-31T23:59:59",
          "2019-04-30T23:59:59",
          "2019-09-01T23:59:59",
          "2019-12-31T23:59:59",
          "2020-04-30T23:59:59",
          "2020-09-01T23:59:59",
          "2021-01-01T23:59:59"
         ],
         "y": [
          null,
          null,
          null,
          null,
          null,
          null,
          null,
          null,
          null,
          null,
          null
         ]
        },
        {
         "line": {
          "color": "rgba(0,0,0,0)"
         },
         "mode": "lines",
         "showlegend": false,
         "type": "scatter",
         "x": [
          "2017-08-31T23:59:59",
          "2018-01-02T23:59:59",
          "2018-05-01T23:59:59",
          "2018-09-01T23:59:59",
          "2018-12-31T23:59:59",
          "2019-04-30T23:59:59",
          "2019-09-01T23:59:59",
          "2019-12-31T23:59:59",
          "2020-04-30T23:59:59",
          "2020-09-01T23:59:59",
          "2021-01-01T23:59:59"
         ],
         "y": [
          null,
          null,
          null,
          null,
          null,
          null,
          null,
          null,
          null,
          null,
          null
         ]
        },
        {
         "fill": "tonexty",
         "fillcolor": "rgba(221,64,64,0.2)",
         "legendgroup": "1",
         "line": {
          "color": "rgba(0,0,0,0)"
         },
         "marker": {
          "color": "#DD4040",
          "size": 6,
          "symbol": "diamond"
         },
         "mode": "lines+markers",
         "name": "Degraded performance",
         "type": "scatter",
         "x": [
          "2017-08-31T23:59:59",
          "2018-01-02T23:59:59",
          "2018-05-01T23:59:59",
          "2018-09-01T23:59:59",
          "2018-12-31T23:59:59",
          "2019-04-30T23:59:59",
          "2019-09-01T23:59:59",
          "2019-12-31T23:59:59",
          "2020-04-30T23:59:59",
          "2020-09-01T23:59:59",
          "2021-01-01T23:59:59"
         ],
         "y": [
          null,
          null,
          null,
          null,
          null,
          null,
          null,
          null,
          null,
          null,
          null,
          null,
          null,
          null,
          null,
          null,
          null,
          null,
          null,
          null
         ]
        }
       ],
       "layout": {
        "annotations": [
         {
          "font": {
           "color": "#DD4040"
          },
          "showarrow": false,
          "text": "0.96",
          "x": 1,
          "xanchor": "right",
          "xref": "x domain",
          "y": 0.963316535948479,
          "yanchor": "bottom",
          "yref": "y"
         },
         {
          "font": {
           "color": "#DD4040"
          },
          "showarrow": false,
          "text": "0.98",
          "x": 1,
          "xanchor": "right",
          "xref": "x domain",
          "y": 0.9786597341713761,
          "yanchor": "bottom",
          "yref": "y"
         }
        ],
        "legend": {
         "itemclick": false,
         "itemdoubleclick": false,
         "orientation": "h",
         "traceorder": "normal",
         "x": 0,
         "xanchor": "left",
         "y": -0.25,
         "yanchor": "top"
        },
        "paper_bgcolor": "rgba(255,255,255,1)",
        "plot_bgcolor": "rgba(255,255,255,1)",
        "shapes": [
         {
          "layer": "below",
          "line": {
           "color": "#DD4040",
           "dash": "dash",
           "width": 1
          },
          "type": "line",
          "x0": 0,
          "x1": 1,
          "xref": "x domain",
          "y0": 0.963316535948479,
          "y1": 0.963316535948479,
          "yref": "y"
         },
         {
          "layer": "below",
          "line": {
           "color": "#DD4040",
           "dash": "dash",
           "width": 1
          },
          "type": "line",
          "x0": 0,
          "x1": 1,
          "xref": "x domain",
          "y0": 0.9786597341713761,
          "y1": 0.9786597341713761,
          "yref": "y"
         },
         {
          "layer": "below",
          "line": {
           "color": "#3b0280",
           "dash": "dash",
           "width": 1
          },
          "type": "line",
          "x0": "2017-08-31T00:00:00",
          "x1": "2017-08-31T00:00:00",
          "xref": "x",
          "y0": 0,
          "y1": 1,
          "yref": "y domain"
         },
         {
          "fillcolor": "#DD4040",
          "layer": "below",
          "line": {
           "width": 0
          },
          "opacity": 0.2,
          "type": "rect",
          "x0": "2019-04-30T00:00:00",
          "x1": "2019-09-01T23:59:59",
          "xref": "x",
          "y0": 0,
          "y1": 1,
          "yref": "y domain"
         },
         {
          "fillcolor": "#DD4040",
          "layer": "below",
          "line": {
           "width": 0
          },
          "opacity": 0.2,
          "type": "rect",
          "x0": "2019-09-01T00:00:00",
          "x1": "2019-12-31T23:59:59",
          "xref": "x",
          "y0": 0,
          "y1": 1,
          "yref": "y domain"
         },
         {
          "fillcolor": "#DD4040",
          "layer": "below",
          "line": {
           "width": 0
          },
          "opacity": 0.2,
          "type": "rect",
          "x0": "2019-12-31T00:00:00",
          "x1": "2020-04-30T23:59:59",
          "xref": "x",
          "y0": 0,
          "y1": 1,
          "yref": "y domain"
         },
         {
          "fillcolor": "#DD4040",
          "layer": "below",
          "line": {
           "width": 0
          },
          "opacity": 0.2,
          "type": "rect",
          "x0": "2020-04-30T00:00:00",
          "x1": "2020-09-01T23:59:59",
          "xref": "x",
          "y0": 0,
          "y1": 1,
          "yref": "y domain"
         },
         {
          "fillcolor": "#DD4040",
          "layer": "below",
          "line": {
           "width": 0
          },
          "opacity": 0.2,
          "type": "rect",
          "x0": "2020-09-01T00:00:00",
          "x1": "2021-01-01T23:59:59",
          "xref": "x",
          "y0": 0,
          "y1": 1,
          "yref": "y domain"
         }
        ],
        "template": {
         "data": {
          "bar": [
           {
            "error_x": {
             "color": "#2a3f5f"
            },
            "error_y": {
             "color": "#2a3f5f"
            },
            "marker": {
             "line": {
              "color": "#E5ECF6",
              "width": 0.5
             },
             "pattern": {
              "fillmode": "overlay",
              "size": 10,
              "solidity": 0.2
             }
            },
            "type": "bar"
           }
          ],
          "barpolar": [
           {
            "marker": {
             "line": {
              "color": "#E5ECF6",
              "width": 0.5
             },
             "pattern": {
              "fillmode": "overlay",
              "size": 10,
              "solidity": 0.2
             }
            },
            "type": "barpolar"
           }
          ],
          "carpet": [
           {
            "aaxis": {
             "endlinecolor": "#2a3f5f",
             "gridcolor": "white",
             "linecolor": "white",
             "minorgridcolor": "white",
             "startlinecolor": "#2a3f5f"
            },
            "baxis": {
             "endlinecolor": "#2a3f5f",
             "gridcolor": "white",
             "linecolor": "white",
             "minorgridcolor": "white",
             "startlinecolor": "#2a3f5f"
            },
            "type": "carpet"
           }
          ],
          "choropleth": [
           {
            "colorbar": {
             "outlinewidth": 0,
             "ticks": ""
            },
            "type": "choropleth"
           }
          ],
          "contour": [
           {
            "colorbar": {
             "outlinewidth": 0,
             "ticks": ""
            },
            "colorscale": [
             [
              0,
              "#0d0887"
             ],
             [
              0.1111111111111111,
              "#46039f"
             ],
             [
              0.2222222222222222,
              "#7201a8"
             ],
             [
              0.3333333333333333,
              "#9c179e"
             ],
             [
              0.4444444444444444,
              "#bd3786"
             ],
             [
              0.5555555555555556,
              "#d8576b"
             ],
             [
              0.6666666666666666,
              "#ed7953"
             ],
             [
              0.7777777777777778,
              "#fb9f3a"
             ],
             [
              0.8888888888888888,
              "#fdca26"
             ],
             [
              1,
              "#f0f921"
             ]
            ],
            "type": "contour"
           }
          ],
          "contourcarpet": [
           {
            "colorbar": {
             "outlinewidth": 0,
             "ticks": ""
            },
            "type": "contourcarpet"
           }
          ],
          "heatmap": [
           {
            "colorbar": {
             "outlinewidth": 0,
             "ticks": ""
            },
            "colorscale": [
             [
              0,
              "#0d0887"
             ],
             [
              0.1111111111111111,
              "#46039f"
             ],
             [
              0.2222222222222222,
              "#7201a8"
             ],
             [
              0.3333333333333333,
              "#9c179e"
             ],
             [
              0.4444444444444444,
              "#bd3786"
             ],
             [
              0.5555555555555556,
              "#d8576b"
             ],
             [
              0.6666666666666666,
              "#ed7953"
             ],
             [
              0.7777777777777778,
              "#fb9f3a"
             ],
             [
              0.8888888888888888,
              "#fdca26"
             ],
             [
              1,
              "#f0f921"
             ]
            ],
            "type": "heatmap"
           }
          ],
          "heatmapgl": [
           {
            "colorbar": {
             "outlinewidth": 0,
             "ticks": ""
            },
            "colorscale": [
             [
              0,
              "#0d0887"
             ],
             [
              0.1111111111111111,
              "#46039f"
             ],
             [
              0.2222222222222222,
              "#7201a8"
             ],
             [
              0.3333333333333333,
              "#9c179e"
             ],
             [
              0.4444444444444444,
              "#bd3786"
             ],
             [
              0.5555555555555556,
              "#d8576b"
             ],
             [
              0.6666666666666666,
              "#ed7953"
             ],
             [
              0.7777777777777778,
              "#fb9f3a"
             ],
             [
              0.8888888888888888,
              "#fdca26"
             ],
             [
              1,
              "#f0f921"
             ]
            ],
            "type": "heatmapgl"
           }
          ],
          "histogram": [
           {
            "marker": {
             "pattern": {
              "fillmode": "overlay",
              "size": 10,
              "solidity": 0.2
             }
            },
            "type": "histogram"
           }
          ],
          "histogram2d": [
           {
            "colorbar": {
             "outlinewidth": 0,
             "ticks": ""
            },
            "colorscale": [
             [
              0,
              "#0d0887"
             ],
             [
              0.1111111111111111,
              "#46039f"
             ],
             [
              0.2222222222222222,
              "#7201a8"
             ],
             [
              0.3333333333333333,
              "#9c179e"
             ],
             [
              0.4444444444444444,
              "#bd3786"
             ],
             [
              0.5555555555555556,
              "#d8576b"
             ],
             [
              0.6666666666666666,
              "#ed7953"
             ],
             [
              0.7777777777777778,
              "#fb9f3a"
             ],
             [
              0.8888888888888888,
              "#fdca26"
             ],
             [
              1,
              "#f0f921"
             ]
            ],
            "type": "histogram2d"
           }
          ],
          "histogram2dcontour": [
           {
            "colorbar": {
             "outlinewidth": 0,
             "ticks": ""
            },
            "colorscale": [
             [
              0,
              "#0d0887"
             ],
             [
              0.1111111111111111,
              "#46039f"
             ],
             [
              0.2222222222222222,
              "#7201a8"
             ],
             [
              0.3333333333333333,
              "#9c179e"
             ],
             [
              0.4444444444444444,
              "#bd3786"
             ],
             [
              0.5555555555555556,
              "#d8576b"
             ],
             [
              0.6666666666666666,
              "#ed7953"
             ],
             [
              0.7777777777777778,
              "#fb9f3a"
             ],
             [
              0.8888888888888888,
              "#fdca26"
             ],
             [
              1,
              "#f0f921"
             ]
            ],
            "type": "histogram2dcontour"
           }
          ],
          "mesh3d": [
           {
            "colorbar": {
             "outlinewidth": 0,
             "ticks": ""
            },
            "type": "mesh3d"
           }
          ],
          "parcoords": [
           {
            "line": {
             "colorbar": {
              "outlinewidth": 0,
              "ticks": ""
             }
            },
            "type": "parcoords"
           }
          ],
          "pie": [
           {
            "automargin": true,
            "type": "pie"
           }
          ],
          "scatter": [
           {
            "marker": {
             "colorbar": {
              "outlinewidth": 0,
              "ticks": ""
             }
            },
            "type": "scatter"
           }
          ],
          "scatter3d": [
           {
            "line": {
             "colorbar": {
              "outlinewidth": 0,
              "ticks": ""
             }
            },
            "marker": {
             "colorbar": {
              "outlinewidth": 0,
              "ticks": ""
             }
            },
            "type": "scatter3d"
           }
          ],
          "scattercarpet": [
           {
            "marker": {
             "colorbar": {
              "outlinewidth": 0,
              "ticks": ""
             }
            },
            "type": "scattercarpet"
           }
          ],
          "scattergeo": [
           {
            "marker": {
             "colorbar": {
              "outlinewidth": 0,
              "ticks": ""
             }
            },
            "type": "scattergeo"
           }
          ],
          "scattergl": [
           {
            "marker": {
             "colorbar": {
              "outlinewidth": 0,
              "ticks": ""
             }
            },
            "type": "scattergl"
           }
          ],
          "scattermapbox": [
           {
            "marker": {
             "colorbar": {
              "outlinewidth": 0,
              "ticks": ""
             }
            },
            "type": "scattermapbox"
           }
          ],
          "scatterpolar": [
           {
            "marker": {
             "colorbar": {
              "outlinewidth": 0,
              "ticks": ""
             }
            },
            "type": "scatterpolar"
           }
          ],
          "scatterpolargl": [
           {
            "marker": {
             "colorbar": {
              "outlinewidth": 0,
              "ticks": ""
             }
            },
            "type": "scatterpolargl"
           }
          ],
          "scatterternary": [
           {
            "marker": {
             "colorbar": {
              "outlinewidth": 0,
              "ticks": ""
             }
            },
            "type": "scatterternary"
           }
          ],
          "surface": [
           {
            "colorbar": {
             "outlinewidth": 0,
             "ticks": ""
            },
            "colorscale": [
             [
              0,
              "#0d0887"
             ],
             [
              0.1111111111111111,
              "#46039f"
             ],
             [
              0.2222222222222222,
              "#7201a8"
             ],
             [
              0.3333333333333333,
              "#9c179e"
             ],
             [
              0.4444444444444444,
              "#bd3786"
             ],
             [
              0.5555555555555556,
              "#d8576b"
             ],
             [
              0.6666666666666666,
              "#ed7953"
             ],
             [
              0.7777777777777778,
              "#fb9f3a"
             ],
             [
              0.8888888888888888,
              "#fdca26"
             ],
             [
              1,
              "#f0f921"
             ]
            ],
            "type": "surface"
           }
          ],
          "table": [
           {
            "cells": {
             "fill": {
              "color": "#EBF0F8"
             },
             "line": {
              "color": "white"
             }
            },
            "header": {
             "fill": {
              "color": "#C8D4E3"
             },
             "line": {
              "color": "white"
             }
            },
            "type": "table"
           }
          ]
         },
         "layout": {
          "annotationdefaults": {
           "arrowcolor": "#2a3f5f",
           "arrowhead": 0,
           "arrowwidth": 1
          },
          "autotypenumbers": "strict",
          "coloraxis": {
           "colorbar": {
            "outlinewidth": 0,
            "ticks": ""
           }
          },
          "colorscale": {
           "diverging": [
            [
             0,
             "#8e0152"
            ],
            [
             0.1,
             "#c51b7d"
            ],
            [
             0.2,
             "#de77ae"
            ],
            [
             0.3,
             "#f1b6da"
            ],
            [
             0.4,
             "#fde0ef"
            ],
            [
             0.5,
             "#f7f7f7"
            ],
            [
             0.6,
             "#e6f5d0"
            ],
            [
             0.7,
             "#b8e186"
            ],
            [
             0.8,
             "#7fbc41"
            ],
            [
             0.9,
             "#4d9221"
            ],
            [
             1,
             "#276419"
            ]
           ],
           "sequential": [
            [
             0,
             "#0d0887"
            ],
            [
             0.1111111111111111,
             "#46039f"
            ],
            [
             0.2222222222222222,
             "#7201a8"
            ],
            [
             0.3333333333333333,
             "#9c179e"
            ],
            [
             0.4444444444444444,
             "#bd3786"
            ],
            [
             0.5555555555555556,
             "#d8576b"
            ],
            [
             0.6666666666666666,
             "#ed7953"
            ],
            [
             0.7777777777777778,
             "#fb9f3a"
            ],
            [
             0.8888888888888888,
             "#fdca26"
            ],
            [
             1,
             "#f0f921"
            ]
           ],
           "sequentialminus": [
            [
             0,
             "#0d0887"
            ],
            [
             0.1111111111111111,
             "#46039f"
            ],
            [
             0.2222222222222222,
             "#7201a8"
            ],
            [
             0.3333333333333333,
             "#9c179e"
            ],
            [
             0.4444444444444444,
             "#bd3786"
            ],
            [
             0.5555555555555556,
             "#d8576b"
            ],
            [
             0.6666666666666666,
             "#ed7953"
            ],
            [
             0.7777777777777778,
             "#fb9f3a"
            ],
            [
             0.8888888888888888,
             "#fdca26"
            ],
            [
             1,
             "#f0f921"
            ]
           ]
          },
          "colorway": [
           "#636efa",
           "#EF553B",
           "#00cc96",
           "#ab63fa",
           "#FFA15A",
           "#19d3f3",
           "#FF6692",
           "#B6E880",
           "#FF97FF",
           "#FECB52"
          ],
          "font": {
           "color": "#2a3f5f"
          },
          "geo": {
           "bgcolor": "white",
           "lakecolor": "white",
           "landcolor": "#E5ECF6",
           "showlakes": true,
           "showland": true,
           "subunitcolor": "white"
          },
          "hoverlabel": {
           "align": "left"
          },
          "hovermode": "closest",
          "mapbox": {
           "style": "light"
          },
          "paper_bgcolor": "white",
          "plot_bgcolor": "#E5ECF6",
          "polar": {
           "angularaxis": {
            "gridcolor": "white",
            "linecolor": "white",
            "ticks": ""
           },
           "bgcolor": "#E5ECF6",
           "radialaxis": {
            "gridcolor": "white",
            "linecolor": "white",
            "ticks": ""
           }
          },
          "scene": {
           "xaxis": {
            "backgroundcolor": "#E5ECF6",
            "gridcolor": "white",
            "gridwidth": 2,
            "linecolor": "white",
            "showbackground": true,
            "ticks": "",
            "zerolinecolor": "white"
           },
           "yaxis": {
            "backgroundcolor": "#E5ECF6",
            "gridcolor": "white",
            "gridwidth": 2,
            "linecolor": "white",
            "showbackground": true,
            "ticks": "",
            "zerolinecolor": "white"
           },
           "zaxis": {
            "backgroundcolor": "#E5ECF6",
            "gridcolor": "white",
            "gridwidth": 2,
            "linecolor": "white",
            "showbackground": true,
            "ticks": "",
            "zerolinecolor": "white"
           }
          },
          "shapedefaults": {
           "line": {
            "color": "#2a3f5f"
           }
          },
          "ternary": {
           "aaxis": {
            "gridcolor": "white",
            "linecolor": "white",
            "ticks": ""
           },
           "baxis": {
            "gridcolor": "white",
            "linecolor": "white",
            "ticks": ""
           },
           "bgcolor": "#E5ECF6",
           "caxis": {
            "gridcolor": "white",
            "linecolor": "white",
            "ticks": ""
           }
          },
          "title": {
           "x": 0.05
          },
          "xaxis": {
           "automargin": true,
           "gridcolor": "white",
           "linecolor": "white",
           "ticks": "",
           "title": {
            "standoff": 15
           },
           "zerolinecolor": "white",
           "zerolinewidth": 2
          },
          "yaxis": {
           "automargin": true,
           "gridcolor": "white",
           "linecolor": "white",
           "ticks": "",
           "title": {
            "standoff": 15
           },
           "zerolinecolor": "white",
           "zerolinewidth": 2
          }
         }
        },
        "title": {
         "text": "CBPE - estimated performance"
        },
        "xaxis": {
         "linecolor": "#666666",
         "mirror": true,
         "showgrid": false,
         "title": {
          "text": "Time"
         },
         "zeroline": false
        },
        "yaxis": {
         "linecolor": "#666666",
         "mirror": true,
         "showgrid": false,
         "title": {
          "text": "estimated performance"
         },
         "zeroline": false
        }
       }
      },
      "text/html": [
       "<div>                            <div id=\"3ea47c6a-34d9-4f8e-9b6f-4a0ebb60beca\" class=\"plotly-graph-div\" style=\"height:525px; width:100%;\"></div>            <script type=\"text/javascript\">                require([\"plotly\"], function(Plotly) {                    window.PLOTLYENV=window.PLOTLYENV || {};                                    if (document.getElementById(\"3ea47c6a-34d9-4f8e-9b6f-4a0ebb60beca\")) {                    Plotly.newPlot(                        \"3ea47c6a-34d9-4f8e-9b6f-4a0ebb60beca\",                        [{\"hoverinfo\":\"skip\",\"line\":{\"color\":\"rgba(0,0,0,0)\"},\"mode\":\"lines\",\"showlegend\":false,\"x\":[\"2017-08-31T23:59:59\",\"2018-01-02T23:59:59\",\"2018-05-01T23:59:59\",\"2018-09-01T23:59:59\",\"2018-12-31T23:59:59\",\"2019-04-30T23:59:59\",\"2019-09-01T23:59:59\",\"2019-12-31T23:59:59\",\"2020-04-30T23:59:59\",\"2020-09-01T23:59:59\",\"2021-01-01T23:59:59\"],\"y\":[0.9693592539867613,0.9689881364321778,0.9694013632986495,0.969801345947374,0.9694047832011149,0.969230214978708,0.9608355359962285,0.9614911407563604,0.9608933417023511,0.962226640186043,0.9608941650078008],\"type\":\"scatter\"},{\"fill\":\"tonexty\",\"fillcolor\":\"rgba(59,2,128,0.2)\",\"hoverinfo\":\"skip\",\"line\":{\"color\":\"rgba(0,0,0,0)\"},\"mode\":\"lines\",\"showlegend\":false,\"x\":[\"2017-08-31T23:59:59\",\"2018-01-02T23:59:59\",\"2018-05-01T23:59:59\",\"2018-09-01T23:59:59\",\"2018-12-31T23:59:59\",\"2019-04-30T23:59:59\",\"2019-09-01T23:59:59\",\"2019-12-31T23:59:59\",\"2020-04-30T23:59:59\",\"2020-09-01T23:59:59\",\"2021-01-01T23:59:59\"],\"y\":[0.9686442144842802,0.9682730969296968,0.9686863237961684,0.9690863064448929,0.9686897436986338,0.9685151754762269,0.9601204964937474,0.9607761012538794,0.96017830219987,0.9615116006835619,0.9601791255053197],\"type\":\"scatter\"},{\"hoverinfo\":\"skip\",\"legendgroup\":\"0\",\"line\":{\"color\":\"#00c8e5\",\"width\":2},\"mode\":\"lines\",\"name\":\"Reference period\",\"x\":[\"2014-05-09T00:00:00\",\"2014-09-09T23:59:59\",\"2015-01-09T23:59:59\",\"2015-05-09T23:59:59\",\"2015-09-07T23:59:59\",\"2016-01-08T23:59:59\",\"2016-05-09T23:59:59\",\"2016-09-04T23:59:59\",\"2017-01-03T23:59:59\",\"2017-05-03T23:59:59\",\"2017-08-31T23:59:59\"],\"y\":[0.9690510295451034,0.9690510295451034,0.9689088665073878,0.9686572891296596,0.9689725102114568,0.9689619041596962,0.9690786767455462,0.9687245154996407,0.9688847678048902,0.9692270388235971,0.9690017342355207],\"type\":\"scatter\"},{\"hoverinfo\":\"skip\",\"legendgroup\":\"1\",\"line\":{\"color\":\"#3b0280\",\"dash\":\"dash\",\"width\":2},\"mode\":\"lines\",\"name\":\"Analysis period\",\"x\":[\"2017-08-31T23:59:59\",\"2018-01-02T23:59:59\",\"2018-05-01T23:59:59\",\"2018-09-01T23:59:59\",\"2018-12-31T23:59:59\",\"2019-04-30T23:59:59\",\"2019-09-01T23:59:59\",\"2019-12-31T23:59:59\",\"2020-04-30T23:59:59\",\"2020-09-01T23:59:59\",\"2021-01-01T23:59:59\"],\"y\":[0.9690017342355207,0.9686306166809373,0.9690438435474089,0.9694438261961335,0.9690472634498744,0.9688726952274674,0.960478016244988,0.9611336210051199,0.9605358219511105,0.9618691204348024,0.9605366452565602],\"type\":\"scatter\"},{\"customdata\":[[\"[0:4999]\",\"09/May/14\",\"09/Sep/14\",\"0.9691\"],[\"[5000:9999]\",\"09/Sep/14\",\"09/Jan/15\",\"0.9689\"],[\"[10000:14999]\",\"09/Jan/15\",\"09/May/15\",\"0.9687\"],[\"[15000:19999]\",\"09/May/15\",\"07/Sep/15\",\"0.9690\"],[\"[20000:24999]\",\"07/Sep/15\",\"08/Jan/16\",\"0.9690\"],[\"[25000:29999]\",\"08/Jan/16\",\"09/May/16\",\"0.9691\"],[\"[30000:34999]\",\"09/May/16\",\"04/Sep/16\",\"0.9687\"],[\"[35000:39999]\",\"04/Sep/16\",\"03/Jan/17\",\"0.9689\"],[\"[40000:44999]\",\"03/Jan/17\",\"03/May/17\",\"0.9692\"],[\"[45000:49999]\",\"03/May/17\",\"31/Aug/17\",\"0.9690\"]],\"hovertemplate\":\"Chunk %{customdata[0]}: %{customdata[1]} - %{customdata[2]}, %{customdata[3]}\",\"legendgroup\":\"0\",\"marker\":{\"color\":\"#00c8e5\",\"size\":6,\"symbol\":\"square\"},\"mode\":\"markers\",\"name\":\"Reference\",\"showlegend\":false,\"x\":[\"2014-09-09T23:59:59\",\"2015-01-09T23:59:59\",\"2015-05-09T23:59:59\",\"2015-09-07T23:59:59\",\"2016-01-08T23:59:59\",\"2016-05-09T23:59:59\",\"2016-09-04T23:59:59\",\"2017-01-03T23:59:59\",\"2017-05-03T23:59:59\",\"2017-08-31T23:59:59\"],\"y\":[0.9690510295451034,0.9689088665073878,0.9686572891296596,0.9689725102114568,0.9689619041596962,0.9690786767455462,0.9687245154996407,0.9688847678048902,0.9692270388235971,0.9690017342355207],\"type\":\"scatter\"},{\"customdata\":[[\"[50000:54999]\",\"31/Aug/17\",\"02/Jan/18\",\"0.9686\"],[\"[55000:59999]\",\"02/Jan/18\",\"01/May/18\",\"0.9690\"],[\"[60000:64999]\",\"01/May/18\",\"01/Sep/18\",\"0.9694\"],[\"[65000:69999]\",\"01/Sep/18\",\"31/Dec/18\",\"0.9690\"],[\"[70000:74999]\",\"31/Dec/18\",\"30/Apr/19\",\"0.9689\"]],\"hovertemplate\":\"Chunk %{customdata[0]}: %{customdata[1]} - %{customdata[2]}, %{customdata[3]}\",\"legendgroup\":\"1\",\"marker\":{\"color\":\"#3b0280\",\"size\":6,\"symbol\":\"square\"},\"mode\":\"markers\",\"name\":\"No drift\",\"showlegend\":false,\"x\":[\"2018-01-02T23:59:59\",\"2018-05-01T23:59:59\",\"2018-09-01T23:59:59\",\"2018-12-31T23:59:59\",\"2019-04-30T23:59:59\"],\"y\":[0.9686306166809373,0.9690438435474089,0.9694438261961335,0.9690472634498744,0.9688726952274674],\"type\":\"scatter\"},{\"customdata\":[[\"[75000:79999]\",\"30/Apr/19\",\"01/Sep/19\",\"0.9605\"],[\"[80000:84999]\",\"01/Sep/19\",\"31/Dec/19\",\"0.9611\"],[\"[85000:89999]\",\"31/Dec/19\",\"30/Apr/20\",\"0.9605\"],[\"[90000:94999]\",\"30/Apr/20\",\"01/Sep/20\",\"0.9619\"],[\"[95000:99999]\",\"01/Sep/20\",\"01/Jan/21\",\"0.9605\"]],\"hovertemplate\":\"Chunk %{customdata[0]}: %{customdata[1]} - %{customdata[2]}, %{customdata[3]}\",\"legendgroup\":\"1\",\"marker\":{\"color\":\"#DD4040\",\"size\":6,\"symbol\":\"diamond\"},\"mode\":\"markers\",\"name\":\"Drifted\",\"showlegend\":false,\"x\":[\"2019-09-01T23:59:59\",\"2019-12-31T23:59:59\",\"2020-04-30T23:59:59\",\"2020-09-01T23:59:59\",\"2021-01-01T23:59:59\"],\"y\":[0.960478016244988,0.9611336210051199,0.9605358219511105,0.9618691204348024,0.9605366452565602],\"type\":\"scatter\"},{\"line\":{\"color\":\"rgba(0,0,0,0)\"},\"mode\":\"lines\",\"showlegend\":false,\"x\":[\"2017-08-31T23:59:59\",\"2018-01-02T23:59:59\",\"2018-05-01T23:59:59\",\"2018-09-01T23:59:59\",\"2018-12-31T23:59:59\",\"2019-04-30T23:59:59\",\"2019-09-01T23:59:59\",\"2019-12-31T23:59:59\",\"2020-04-30T23:59:59\",\"2020-09-01T23:59:59\",\"2021-01-01T23:59:59\"],\"y\":[null,null,null,null,null,null,null,null,null,null,null],\"type\":\"scatter\"},{\"fill\":\"tonexty\",\"fillcolor\":\"rgba(59,2,128,0.2)\",\"legendgroup\":\"1\",\"line\":{\"color\":\"rgba(0,0,0,0)\"},\"mode\":\"lines\",\"name\":\"Confidence band\",\"x\":[\"2017-08-31T23:59:59\",\"2018-01-02T23:59:59\",\"2018-05-01T23:59:59\",\"2018-09-01T23:59:59\",\"2018-12-31T23:59:59\",\"2019-04-30T23:59:59\",\"2019-09-01T23:59:59\",\"2019-12-31T23:59:59\",\"2020-04-30T23:59:59\",\"2020-09-01T23:59:59\",\"2021-01-01T23:59:59\"],\"y\":[null,null,null,null,null,null,null,null,null,null,null,null,null,null,null,null,null,null,null,null],\"type\":\"scatter\"},{\"legendgroup\":\"1\",\"line\":{\"color\":\"#DD4040\",\"dash\":\"dash\",\"width\":1},\"mode\":\"lines\",\"name\":\"Performance threshold\",\"x\":[\"2017-08-31T23:59:59\",\"2018-01-02T23:59:59\",\"2018-05-01T23:59:59\",\"2018-09-01T23:59:59\",\"2018-12-31T23:59:59\",\"2019-04-30T23:59:59\",\"2019-09-01T23:59:59\",\"2019-12-31T23:59:59\",\"2020-04-30T23:59:59\",\"2020-09-01T23:59:59\",\"2021-01-01T23:59:59\"],\"y\":[null,null,null,null,null,null,null,null,null,null,null],\"type\":\"scatter\"},{\"line\":{\"color\":\"rgba(0,0,0,0)\"},\"mode\":\"lines\",\"showlegend\":false,\"x\":[\"2017-08-31T23:59:59\",\"2018-01-02T23:59:59\",\"2018-05-01T23:59:59\",\"2018-09-01T23:59:59\",\"2018-12-31T23:59:59\",\"2019-04-30T23:59:59\",\"2019-09-01T23:59:59\",\"2019-12-31T23:59:59\",\"2020-04-30T23:59:59\",\"2020-09-01T23:59:59\",\"2021-01-01T23:59:59\"],\"y\":[null,null,null,null,null,null,null,null,null,null,null],\"type\":\"scatter\"},{\"fill\":\"tonexty\",\"fillcolor\":\"rgba(221,64,64,0.2)\",\"legendgroup\":\"1\",\"line\":{\"color\":\"rgba(0,0,0,0)\"},\"marker\":{\"color\":\"#DD4040\",\"size\":6,\"symbol\":\"diamond\"},\"mode\":\"lines+markers\",\"name\":\"Degraded performance\",\"x\":[\"2017-08-31T23:59:59\",\"2018-01-02T23:59:59\",\"2018-05-01T23:59:59\",\"2018-09-01T23:59:59\",\"2018-12-31T23:59:59\",\"2019-04-30T23:59:59\",\"2019-09-01T23:59:59\",\"2019-12-31T23:59:59\",\"2020-04-30T23:59:59\",\"2020-09-01T23:59:59\",\"2021-01-01T23:59:59\"],\"y\":[null,null,null,null,null,null,null,null,null,null,null,null,null,null,null,null,null,null,null,null],\"type\":\"scatter\"}],                        {\"legend\":{\"itemclick\":false,\"itemdoubleclick\":false,\"traceorder\":\"normal\",\"yanchor\":\"top\",\"y\":-0.25,\"xanchor\":\"left\",\"x\":0,\"orientation\":\"h\"},\"paper_bgcolor\":\"rgba(255,255,255,1)\",\"plot_bgcolor\":\"rgba(255,255,255,1)\",\"title\":{\"text\":\"CBPE - estimated performance\"},\"xaxis\":{\"linecolor\":\"#666666\",\"mirror\":true,\"showgrid\":false,\"title\":{\"text\":\"Time\"},\"zeroline\":false},\"yaxis\":{\"linecolor\":\"#666666\",\"mirror\":true,\"showgrid\":false,\"title\":{\"text\":\"estimated performance\"},\"zeroline\":false},\"template\":{\"data\":{\"bar\":[{\"error_x\":{\"color\":\"#2a3f5f\"},\"error_y\":{\"color\":\"#2a3f5f\"},\"marker\":{\"line\":{\"color\":\"#E5ECF6\",\"width\":0.5},\"pattern\":{\"fillmode\":\"overlay\",\"size\":10,\"solidity\":0.2}},\"type\":\"bar\"}],\"barpolar\":[{\"marker\":{\"line\":{\"color\":\"#E5ECF6\",\"width\":0.5},\"pattern\":{\"fillmode\":\"overlay\",\"size\":10,\"solidity\":0.2}},\"type\":\"barpolar\"}],\"carpet\":[{\"aaxis\":{\"endlinecolor\":\"#2a3f5f\",\"gridcolor\":\"white\",\"linecolor\":\"white\",\"minorgridcolor\":\"white\",\"startlinecolor\":\"#2a3f5f\"},\"baxis\":{\"endlinecolor\":\"#2a3f5f\",\"gridcolor\":\"white\",\"linecolor\":\"white\",\"minorgridcolor\":\"white\",\"startlinecolor\":\"#2a3f5f\"},\"type\":\"carpet\"}],\"choropleth\":[{\"colorbar\":{\"outlinewidth\":0,\"ticks\":\"\"},\"type\":\"choropleth\"}],\"contour\":[{\"colorbar\":{\"outlinewidth\":0,\"ticks\":\"\"},\"colorscale\":[[0.0,\"#0d0887\"],[0.1111111111111111,\"#46039f\"],[0.2222222222222222,\"#7201a8\"],[0.3333333333333333,\"#9c179e\"],[0.4444444444444444,\"#bd3786\"],[0.5555555555555556,\"#d8576b\"],[0.6666666666666666,\"#ed7953\"],[0.7777777777777778,\"#fb9f3a\"],[0.8888888888888888,\"#fdca26\"],[1.0,\"#f0f921\"]],\"type\":\"contour\"}],\"contourcarpet\":[{\"colorbar\":{\"outlinewidth\":0,\"ticks\":\"\"},\"type\":\"contourcarpet\"}],\"heatmap\":[{\"colorbar\":{\"outlinewidth\":0,\"ticks\":\"\"},\"colorscale\":[[0.0,\"#0d0887\"],[0.1111111111111111,\"#46039f\"],[0.2222222222222222,\"#7201a8\"],[0.3333333333333333,\"#9c179e\"],[0.4444444444444444,\"#bd3786\"],[0.5555555555555556,\"#d8576b\"],[0.6666666666666666,\"#ed7953\"],[0.7777777777777778,\"#fb9f3a\"],[0.8888888888888888,\"#fdca26\"],[1.0,\"#f0f921\"]],\"type\":\"heatmap\"}],\"heatmapgl\":[{\"colorbar\":{\"outlinewidth\":0,\"ticks\":\"\"},\"colorscale\":[[0.0,\"#0d0887\"],[0.1111111111111111,\"#46039f\"],[0.2222222222222222,\"#7201a8\"],[0.3333333333333333,\"#9c179e\"],[0.4444444444444444,\"#bd3786\"],[0.5555555555555556,\"#d8576b\"],[0.6666666666666666,\"#ed7953\"],[0.7777777777777778,\"#fb9f3a\"],[0.8888888888888888,\"#fdca26\"],[1.0,\"#f0f921\"]],\"type\":\"heatmapgl\"}],\"histogram\":[{\"marker\":{\"pattern\":{\"fillmode\":\"overlay\",\"size\":10,\"solidity\":0.2}},\"type\":\"histogram\"}],\"histogram2d\":[{\"colorbar\":{\"outlinewidth\":0,\"ticks\":\"\"},\"colorscale\":[[0.0,\"#0d0887\"],[0.1111111111111111,\"#46039f\"],[0.2222222222222222,\"#7201a8\"],[0.3333333333333333,\"#9c179e\"],[0.4444444444444444,\"#bd3786\"],[0.5555555555555556,\"#d8576b\"],[0.6666666666666666,\"#ed7953\"],[0.7777777777777778,\"#fb9f3a\"],[0.8888888888888888,\"#fdca26\"],[1.0,\"#f0f921\"]],\"type\":\"histogram2d\"}],\"histogram2dcontour\":[{\"colorbar\":{\"outlinewidth\":0,\"ticks\":\"\"},\"colorscale\":[[0.0,\"#0d0887\"],[0.1111111111111111,\"#46039f\"],[0.2222222222222222,\"#7201a8\"],[0.3333333333333333,\"#9c179e\"],[0.4444444444444444,\"#bd3786\"],[0.5555555555555556,\"#d8576b\"],[0.6666666666666666,\"#ed7953\"],[0.7777777777777778,\"#fb9f3a\"],[0.8888888888888888,\"#fdca26\"],[1.0,\"#f0f921\"]],\"type\":\"histogram2dcontour\"}],\"mesh3d\":[{\"colorbar\":{\"outlinewidth\":0,\"ticks\":\"\"},\"type\":\"mesh3d\"}],\"parcoords\":[{\"line\":{\"colorbar\":{\"outlinewidth\":0,\"ticks\":\"\"}},\"type\":\"parcoords\"}],\"pie\":[{\"automargin\":true,\"type\":\"pie\"}],\"scatter\":[{\"marker\":{\"colorbar\":{\"outlinewidth\":0,\"ticks\":\"\"}},\"type\":\"scatter\"}],\"scatter3d\":[{\"line\":{\"colorbar\":{\"outlinewidth\":0,\"ticks\":\"\"}},\"marker\":{\"colorbar\":{\"outlinewidth\":0,\"ticks\":\"\"}},\"type\":\"scatter3d\"}],\"scattercarpet\":[{\"marker\":{\"colorbar\":{\"outlinewidth\":0,\"ticks\":\"\"}},\"type\":\"scattercarpet\"}],\"scattergeo\":[{\"marker\":{\"colorbar\":{\"outlinewidth\":0,\"ticks\":\"\"}},\"type\":\"scattergeo\"}],\"scattergl\":[{\"marker\":{\"colorbar\":{\"outlinewidth\":0,\"ticks\":\"\"}},\"type\":\"scattergl\"}],\"scattermapbox\":[{\"marker\":{\"colorbar\":{\"outlinewidth\":0,\"ticks\":\"\"}},\"type\":\"scattermapbox\"}],\"scatterpolar\":[{\"marker\":{\"colorbar\":{\"outlinewidth\":0,\"ticks\":\"\"}},\"type\":\"scatterpolar\"}],\"scatterpolargl\":[{\"marker\":{\"colorbar\":{\"outlinewidth\":0,\"ticks\":\"\"}},\"type\":\"scatterpolargl\"}],\"scatterternary\":[{\"marker\":{\"colorbar\":{\"outlinewidth\":0,\"ticks\":\"\"}},\"type\":\"scatterternary\"}],\"surface\":[{\"colorbar\":{\"outlinewidth\":0,\"ticks\":\"\"},\"colorscale\":[[0.0,\"#0d0887\"],[0.1111111111111111,\"#46039f\"],[0.2222222222222222,\"#7201a8\"],[0.3333333333333333,\"#9c179e\"],[0.4444444444444444,\"#bd3786\"],[0.5555555555555556,\"#d8576b\"],[0.6666666666666666,\"#ed7953\"],[0.7777777777777778,\"#fb9f3a\"],[0.8888888888888888,\"#fdca26\"],[1.0,\"#f0f921\"]],\"type\":\"surface\"}],\"table\":[{\"cells\":{\"fill\":{\"color\":\"#EBF0F8\"},\"line\":{\"color\":\"white\"}},\"header\":{\"fill\":{\"color\":\"#C8D4E3\"},\"line\":{\"color\":\"white\"}},\"type\":\"table\"}]},\"layout\":{\"annotationdefaults\":{\"arrowcolor\":\"#2a3f5f\",\"arrowhead\":0,\"arrowwidth\":1},\"autotypenumbers\":\"strict\",\"coloraxis\":{\"colorbar\":{\"outlinewidth\":0,\"ticks\":\"\"}},\"colorscale\":{\"diverging\":[[0,\"#8e0152\"],[0.1,\"#c51b7d\"],[0.2,\"#de77ae\"],[0.3,\"#f1b6da\"],[0.4,\"#fde0ef\"],[0.5,\"#f7f7f7\"],[0.6,\"#e6f5d0\"],[0.7,\"#b8e186\"],[0.8,\"#7fbc41\"],[0.9,\"#4d9221\"],[1,\"#276419\"]],\"sequential\":[[0.0,\"#0d0887\"],[0.1111111111111111,\"#46039f\"],[0.2222222222222222,\"#7201a8\"],[0.3333333333333333,\"#9c179e\"],[0.4444444444444444,\"#bd3786\"],[0.5555555555555556,\"#d8576b\"],[0.6666666666666666,\"#ed7953\"],[0.7777777777777778,\"#fb9f3a\"],[0.8888888888888888,\"#fdca26\"],[1.0,\"#f0f921\"]],\"sequentialminus\":[[0.0,\"#0d0887\"],[0.1111111111111111,\"#46039f\"],[0.2222222222222222,\"#7201a8\"],[0.3333333333333333,\"#9c179e\"],[0.4444444444444444,\"#bd3786\"],[0.5555555555555556,\"#d8576b\"],[0.6666666666666666,\"#ed7953\"],[0.7777777777777778,\"#fb9f3a\"],[0.8888888888888888,\"#fdca26\"],[1.0,\"#f0f921\"]]},\"colorway\":[\"#636efa\",\"#EF553B\",\"#00cc96\",\"#ab63fa\",\"#FFA15A\",\"#19d3f3\",\"#FF6692\",\"#B6E880\",\"#FF97FF\",\"#FECB52\"],\"font\":{\"color\":\"#2a3f5f\"},\"geo\":{\"bgcolor\":\"white\",\"lakecolor\":\"white\",\"landcolor\":\"#E5ECF6\",\"showlakes\":true,\"showland\":true,\"subunitcolor\":\"white\"},\"hoverlabel\":{\"align\":\"left\"},\"hovermode\":\"closest\",\"mapbox\":{\"style\":\"light\"},\"paper_bgcolor\":\"white\",\"plot_bgcolor\":\"#E5ECF6\",\"polar\":{\"angularaxis\":{\"gridcolor\":\"white\",\"linecolor\":\"white\",\"ticks\":\"\"},\"bgcolor\":\"#E5ECF6\",\"radialaxis\":{\"gridcolor\":\"white\",\"linecolor\":\"white\",\"ticks\":\"\"}},\"scene\":{\"xaxis\":{\"backgroundcolor\":\"#E5ECF6\",\"gridcolor\":\"white\",\"gridwidth\":2,\"linecolor\":\"white\",\"showbackground\":true,\"ticks\":\"\",\"zerolinecolor\":\"white\"},\"yaxis\":{\"backgroundcolor\":\"#E5ECF6\",\"gridcolor\":\"white\",\"gridwidth\":2,\"linecolor\":\"white\",\"showbackground\":true,\"ticks\":\"\",\"zerolinecolor\":\"white\"},\"zaxis\":{\"backgroundcolor\":\"#E5ECF6\",\"gridcolor\":\"white\",\"gridwidth\":2,\"linecolor\":\"white\",\"showbackground\":true,\"ticks\":\"\",\"zerolinecolor\":\"white\"}},\"shapedefaults\":{\"line\":{\"color\":\"#2a3f5f\"}},\"ternary\":{\"aaxis\":{\"gridcolor\":\"white\",\"linecolor\":\"white\",\"ticks\":\"\"},\"baxis\":{\"gridcolor\":\"white\",\"linecolor\":\"white\",\"ticks\":\"\"},\"bgcolor\":\"#E5ECF6\",\"caxis\":{\"gridcolor\":\"white\",\"linecolor\":\"white\",\"ticks\":\"\"}},\"title\":{\"x\":0.05},\"xaxis\":{\"automargin\":true,\"gridcolor\":\"white\",\"linecolor\":\"white\",\"ticks\":\"\",\"title\":{\"standoff\":15},\"zerolinecolor\":\"white\",\"zerolinewidth\":2},\"yaxis\":{\"automargin\":true,\"gridcolor\":\"white\",\"linecolor\":\"white\",\"ticks\":\"\",\"title\":{\"standoff\":15},\"zerolinecolor\":\"white\",\"zerolinewidth\":2}}},\"shapes\":[{\"layer\":\"below\",\"line\":{\"color\":\"#DD4040\",\"dash\":\"dash\",\"width\":1},\"type\":\"line\",\"x0\":0,\"x1\":1,\"xref\":\"x domain\",\"y0\":0.963316535948479,\"y1\":0.963316535948479,\"yref\":\"y\"},{\"layer\":\"below\",\"line\":{\"color\":\"#DD4040\",\"dash\":\"dash\",\"width\":1},\"type\":\"line\",\"x0\":0,\"x1\":1,\"xref\":\"x domain\",\"y0\":0.9786597341713761,\"y1\":0.9786597341713761,\"yref\":\"y\"},{\"layer\":\"below\",\"line\":{\"color\":\"#3b0280\",\"dash\":\"dash\",\"width\":1},\"type\":\"line\",\"x0\":\"2017-08-31T00:00:00\",\"x1\":\"2017-08-31T00:00:00\",\"xref\":\"x\",\"y0\":0,\"y1\":1,\"yref\":\"y domain\"},{\"fillcolor\":\"#DD4040\",\"layer\":\"below\",\"line\":{\"width\":0},\"opacity\":0.2,\"type\":\"rect\",\"x0\":\"2019-04-30T00:00:00\",\"x1\":\"2019-09-01T23:59:59\",\"xref\":\"x\",\"y0\":0,\"y1\":1,\"yref\":\"y domain\"},{\"fillcolor\":\"#DD4040\",\"layer\":\"below\",\"line\":{\"width\":0},\"opacity\":0.2,\"type\":\"rect\",\"x0\":\"2019-09-01T00:00:00\",\"x1\":\"2019-12-31T23:59:59\",\"xref\":\"x\",\"y0\":0,\"y1\":1,\"yref\":\"y domain\"},{\"fillcolor\":\"#DD4040\",\"layer\":\"below\",\"line\":{\"width\":0},\"opacity\":0.2,\"type\":\"rect\",\"x0\":\"2019-12-31T00:00:00\",\"x1\":\"2020-04-30T23:59:59\",\"xref\":\"x\",\"y0\":0,\"y1\":1,\"yref\":\"y domain\"},{\"fillcolor\":\"#DD4040\",\"layer\":\"below\",\"line\":{\"width\":0},\"opacity\":0.2,\"type\":\"rect\",\"x0\":\"2020-04-30T00:00:00\",\"x1\":\"2020-09-01T23:59:59\",\"xref\":\"x\",\"y0\":0,\"y1\":1,\"yref\":\"y domain\"},{\"fillcolor\":\"#DD4040\",\"layer\":\"below\",\"line\":{\"width\":0},\"opacity\":0.2,\"type\":\"rect\",\"x0\":\"2020-09-01T00:00:00\",\"x1\":\"2021-01-01T23:59:59\",\"xref\":\"x\",\"y0\":0,\"y1\":1,\"yref\":\"y domain\"}],\"annotations\":[{\"font\":{\"color\":\"#DD4040\"},\"showarrow\":false,\"text\":\"0.96\",\"x\":1,\"xanchor\":\"right\",\"xref\":\"x domain\",\"y\":0.963316535948479,\"yanchor\":\"bottom\",\"yref\":\"y\"},{\"font\":{\"color\":\"#DD4040\"},\"showarrow\":false,\"text\":\"0.98\",\"x\":1,\"xanchor\":\"right\",\"xref\":\"x domain\",\"y\":0.9786597341713761,\"yanchor\":\"bottom\",\"yref\":\"y\"}]},                        {\"responsive\": true}                    ).then(function(){\n",
       "                            \n",
       "var gd = document.getElementById('3ea47c6a-34d9-4f8e-9b6f-4a0ebb60beca');\n",
       "var x = new MutationObserver(function (mutations, observer) {{\n",
       "        var display = window.getComputedStyle(gd).display;\n",
       "        if (!display || display === 'none') {{\n",
       "            console.log([gd, 'removed!']);\n",
       "            Plotly.purge(gd);\n",
       "            observer.disconnect();\n",
       "        }}\n",
       "}});\n",
       "\n",
       "// Listen for the removal of the full notebook cells\n",
       "var notebookContainer = gd.closest('#notebook-container');\n",
       "if (notebookContainer) {{\n",
       "    x.observe(notebookContainer, {childList: true});\n",
       "}}\n",
       "\n",
       "// Listen for the clearing of the current output cell\n",
       "var outputEl = gd.closest('.output');\n",
       "if (outputEl) {{\n",
       "    x.observe(outputEl, {childList: true});\n",
       "}}\n",
       "\n",
       "                        })                };                });            </script>        </div>"
      ]
     },
     "metadata": {},
     "output_type": "display_data"
    }
   ],
   "source": [
    "plots = nml.PerformancePlots(model_metadata=md, chunker=cbpe.chunker)\n",
    "fig = plots.plot_cbpe_performance_estimation(est_perf).show()"
   ]
  },
  {
   "cell_type": "code",
   "execution_count": 42,
   "id": "2884efb8",
   "metadata": {},
   "outputs": [
    {
     "data": {
      "text/html": [
       "<div>\n",
       "<style scoped>\n",
       "    .dataframe tbody tr th:only-of-type {\n",
       "        vertical-align: middle;\n",
       "    }\n",
       "\n",
       "    .dataframe tbody tr th {\n",
       "        vertical-align: top;\n",
       "    }\n",
       "\n",
       "    .dataframe thead th {\n",
       "        text-align: right;\n",
       "    }\n",
       "</style>\n",
       "<table border=\"1\" class=\"dataframe\">\n",
       "  <thead>\n",
       "    <tr style=\"text-align: right;\">\n",
       "      <th></th>\n",
       "      <th>key</th>\n",
       "      <th>start_index</th>\n",
       "      <th>end_index</th>\n",
       "      <th>start_date</th>\n",
       "      <th>end_date</th>\n",
       "      <th>partition</th>\n",
       "      <th>estimated_roc_auc</th>\n",
       "      <th>confidence</th>\n",
       "      <th>upper_threshold</th>\n",
       "      <th>lower_threshold</th>\n",
       "      <th>alert</th>\n",
       "      <th>thresholds</th>\n",
       "      <th>estimated</th>\n",
       "    </tr>\n",
       "  </thead>\n",
       "  <tbody>\n",
       "    <tr>\n",
       "      <th>0</th>\n",
       "      <td>[0:4999]</td>\n",
       "      <td>0</td>\n",
       "      <td>4999</td>\n",
       "      <td>2014-05-09</td>\n",
       "      <td>2014-09-09 23:59:59</td>\n",
       "      <td>reference</td>\n",
       "      <td>0.969051</td>\n",
       "      <td>0.000358</td>\n",
       "      <td>0.97866</td>\n",
       "      <td>0.963317</td>\n",
       "      <td>False</td>\n",
       "      <td>(0.963316535948479, 0.9786597341713761)</td>\n",
       "      <td>True</td>\n",
       "    </tr>\n",
       "    <tr>\n",
       "      <th>1</th>\n",
       "      <td>[5000:9999]</td>\n",
       "      <td>5000</td>\n",
       "      <td>9999</td>\n",
       "      <td>2014-09-09</td>\n",
       "      <td>2015-01-09 23:59:59</td>\n",
       "      <td>reference</td>\n",
       "      <td>0.968909</td>\n",
       "      <td>0.000358</td>\n",
       "      <td>0.97866</td>\n",
       "      <td>0.963317</td>\n",
       "      <td>False</td>\n",
       "      <td>(0.963316535948479, 0.9786597341713761)</td>\n",
       "      <td>True</td>\n",
       "    </tr>\n",
       "    <tr>\n",
       "      <th>2</th>\n",
       "      <td>[10000:14999]</td>\n",
       "      <td>10000</td>\n",
       "      <td>14999</td>\n",
       "      <td>2015-01-09</td>\n",
       "      <td>2015-05-09 23:59:59</td>\n",
       "      <td>reference</td>\n",
       "      <td>0.968657</td>\n",
       "      <td>0.000358</td>\n",
       "      <td>0.97866</td>\n",
       "      <td>0.963317</td>\n",
       "      <td>False</td>\n",
       "      <td>(0.963316535948479, 0.9786597341713761)</td>\n",
       "      <td>True</td>\n",
       "    </tr>\n",
       "    <tr>\n",
       "      <th>3</th>\n",
       "      <td>[15000:19999]</td>\n",
       "      <td>15000</td>\n",
       "      <td>19999</td>\n",
       "      <td>2015-05-09</td>\n",
       "      <td>2015-09-07 23:59:59</td>\n",
       "      <td>reference</td>\n",
       "      <td>0.968973</td>\n",
       "      <td>0.000358</td>\n",
       "      <td>0.97866</td>\n",
       "      <td>0.963317</td>\n",
       "      <td>False</td>\n",
       "      <td>(0.963316535948479, 0.9786597341713761)</td>\n",
       "      <td>True</td>\n",
       "    </tr>\n",
       "    <tr>\n",
       "      <th>4</th>\n",
       "      <td>[20000:24999]</td>\n",
       "      <td>20000</td>\n",
       "      <td>24999</td>\n",
       "      <td>2015-09-07</td>\n",
       "      <td>2016-01-08 23:59:59</td>\n",
       "      <td>reference</td>\n",
       "      <td>0.968962</td>\n",
       "      <td>0.000358</td>\n",
       "      <td>0.97866</td>\n",
       "      <td>0.963317</td>\n",
       "      <td>False</td>\n",
       "      <td>(0.963316535948479, 0.9786597341713761)</td>\n",
       "      <td>True</td>\n",
       "    </tr>\n",
       "    <tr>\n",
       "      <th>5</th>\n",
       "      <td>[25000:29999]</td>\n",
       "      <td>25000</td>\n",
       "      <td>29999</td>\n",
       "      <td>2016-01-08</td>\n",
       "      <td>2016-05-09 23:59:59</td>\n",
       "      <td>reference</td>\n",
       "      <td>0.969079</td>\n",
       "      <td>0.000358</td>\n",
       "      <td>0.97866</td>\n",
       "      <td>0.963317</td>\n",
       "      <td>False</td>\n",
       "      <td>(0.963316535948479, 0.9786597341713761)</td>\n",
       "      <td>True</td>\n",
       "    </tr>\n",
       "    <tr>\n",
       "      <th>6</th>\n",
       "      <td>[30000:34999]</td>\n",
       "      <td>30000</td>\n",
       "      <td>34999</td>\n",
       "      <td>2016-05-09</td>\n",
       "      <td>2016-09-04 23:59:59</td>\n",
       "      <td>reference</td>\n",
       "      <td>0.968725</td>\n",
       "      <td>0.000358</td>\n",
       "      <td>0.97866</td>\n",
       "      <td>0.963317</td>\n",
       "      <td>False</td>\n",
       "      <td>(0.963316535948479, 0.9786597341713761)</td>\n",
       "      <td>True</td>\n",
       "    </tr>\n",
       "    <tr>\n",
       "      <th>7</th>\n",
       "      <td>[35000:39999]</td>\n",
       "      <td>35000</td>\n",
       "      <td>39999</td>\n",
       "      <td>2016-09-04</td>\n",
       "      <td>2017-01-03 23:59:59</td>\n",
       "      <td>reference</td>\n",
       "      <td>0.968885</td>\n",
       "      <td>0.000358</td>\n",
       "      <td>0.97866</td>\n",
       "      <td>0.963317</td>\n",
       "      <td>False</td>\n",
       "      <td>(0.963316535948479, 0.9786597341713761)</td>\n",
       "      <td>True</td>\n",
       "    </tr>\n",
       "    <tr>\n",
       "      <th>8</th>\n",
       "      <td>[40000:44999]</td>\n",
       "      <td>40000</td>\n",
       "      <td>44999</td>\n",
       "      <td>2017-01-03</td>\n",
       "      <td>2017-05-03 23:59:59</td>\n",
       "      <td>reference</td>\n",
       "      <td>0.969227</td>\n",
       "      <td>0.000358</td>\n",
       "      <td>0.97866</td>\n",
       "      <td>0.963317</td>\n",
       "      <td>False</td>\n",
       "      <td>(0.963316535948479, 0.9786597341713761)</td>\n",
       "      <td>True</td>\n",
       "    </tr>\n",
       "    <tr>\n",
       "      <th>9</th>\n",
       "      <td>[45000:49999]</td>\n",
       "      <td>45000</td>\n",
       "      <td>49999</td>\n",
       "      <td>2017-05-03</td>\n",
       "      <td>2017-08-31 23:59:59</td>\n",
       "      <td>reference</td>\n",
       "      <td>0.969002</td>\n",
       "      <td>0.000358</td>\n",
       "      <td>0.97866</td>\n",
       "      <td>0.963317</td>\n",
       "      <td>False</td>\n",
       "      <td>(0.963316535948479, 0.9786597341713761)</td>\n",
       "      <td>True</td>\n",
       "    </tr>\n",
       "    <tr>\n",
       "      <th>10</th>\n",
       "      <td>[50000:54999]</td>\n",
       "      <td>50000</td>\n",
       "      <td>54999</td>\n",
       "      <td>2017-08-31</td>\n",
       "      <td>2018-01-02 23:59:59</td>\n",
       "      <td>analysis</td>\n",
       "      <td>0.968631</td>\n",
       "      <td>0.000358</td>\n",
       "      <td>0.97866</td>\n",
       "      <td>0.963317</td>\n",
       "      <td>False</td>\n",
       "      <td>(0.963316535948479, 0.9786597341713761)</td>\n",
       "      <td>True</td>\n",
       "    </tr>\n",
       "    <tr>\n",
       "      <th>11</th>\n",
       "      <td>[55000:59999]</td>\n",
       "      <td>55000</td>\n",
       "      <td>59999</td>\n",
       "      <td>2018-01-02</td>\n",
       "      <td>2018-05-01 23:59:59</td>\n",
       "      <td>analysis</td>\n",
       "      <td>0.969044</td>\n",
       "      <td>0.000358</td>\n",
       "      <td>0.97866</td>\n",
       "      <td>0.963317</td>\n",
       "      <td>False</td>\n",
       "      <td>(0.963316535948479, 0.9786597341713761)</td>\n",
       "      <td>True</td>\n",
       "    </tr>\n",
       "    <tr>\n",
       "      <th>12</th>\n",
       "      <td>[60000:64999]</td>\n",
       "      <td>60000</td>\n",
       "      <td>64999</td>\n",
       "      <td>2018-05-01</td>\n",
       "      <td>2018-09-01 23:59:59</td>\n",
       "      <td>analysis</td>\n",
       "      <td>0.969444</td>\n",
       "      <td>0.000358</td>\n",
       "      <td>0.97866</td>\n",
       "      <td>0.963317</td>\n",
       "      <td>False</td>\n",
       "      <td>(0.963316535948479, 0.9786597341713761)</td>\n",
       "      <td>True</td>\n",
       "    </tr>\n",
       "    <tr>\n",
       "      <th>13</th>\n",
       "      <td>[65000:69999]</td>\n",
       "      <td>65000</td>\n",
       "      <td>69999</td>\n",
       "      <td>2018-09-01</td>\n",
       "      <td>2018-12-31 23:59:59</td>\n",
       "      <td>analysis</td>\n",
       "      <td>0.969047</td>\n",
       "      <td>0.000358</td>\n",
       "      <td>0.97866</td>\n",
       "      <td>0.963317</td>\n",
       "      <td>False</td>\n",
       "      <td>(0.963316535948479, 0.9786597341713761)</td>\n",
       "      <td>True</td>\n",
       "    </tr>\n",
       "    <tr>\n",
       "      <th>14</th>\n",
       "      <td>[70000:74999]</td>\n",
       "      <td>70000</td>\n",
       "      <td>74999</td>\n",
       "      <td>2018-12-31</td>\n",
       "      <td>2019-04-30 23:59:59</td>\n",
       "      <td>analysis</td>\n",
       "      <td>0.968873</td>\n",
       "      <td>0.000358</td>\n",
       "      <td>0.97866</td>\n",
       "      <td>0.963317</td>\n",
       "      <td>False</td>\n",
       "      <td>(0.963316535948479, 0.9786597341713761)</td>\n",
       "      <td>True</td>\n",
       "    </tr>\n",
       "    <tr>\n",
       "      <th>15</th>\n",
       "      <td>[75000:79999]</td>\n",
       "      <td>75000</td>\n",
       "      <td>79999</td>\n",
       "      <td>2019-04-30</td>\n",
       "      <td>2019-09-01 23:59:59</td>\n",
       "      <td>analysis</td>\n",
       "      <td>0.960478</td>\n",
       "      <td>0.000358</td>\n",
       "      <td>0.97866</td>\n",
       "      <td>0.963317</td>\n",
       "      <td>True</td>\n",
       "      <td>(0.963316535948479, 0.9786597341713761)</td>\n",
       "      <td>True</td>\n",
       "    </tr>\n",
       "    <tr>\n",
       "      <th>16</th>\n",
       "      <td>[80000:84999]</td>\n",
       "      <td>80000</td>\n",
       "      <td>84999</td>\n",
       "      <td>2019-09-01</td>\n",
       "      <td>2019-12-31 23:59:59</td>\n",
       "      <td>analysis</td>\n",
       "      <td>0.961134</td>\n",
       "      <td>0.000358</td>\n",
       "      <td>0.97866</td>\n",
       "      <td>0.963317</td>\n",
       "      <td>True</td>\n",
       "      <td>(0.963316535948479, 0.9786597341713761)</td>\n",
       "      <td>True</td>\n",
       "    </tr>\n",
       "    <tr>\n",
       "      <th>17</th>\n",
       "      <td>[85000:89999]</td>\n",
       "      <td>85000</td>\n",
       "      <td>89999</td>\n",
       "      <td>2019-12-31</td>\n",
       "      <td>2020-04-30 23:59:59</td>\n",
       "      <td>analysis</td>\n",
       "      <td>0.960536</td>\n",
       "      <td>0.000358</td>\n",
       "      <td>0.97866</td>\n",
       "      <td>0.963317</td>\n",
       "      <td>True</td>\n",
       "      <td>(0.963316535948479, 0.9786597341713761)</td>\n",
       "      <td>True</td>\n",
       "    </tr>\n",
       "    <tr>\n",
       "      <th>18</th>\n",
       "      <td>[90000:94999]</td>\n",
       "      <td>90000</td>\n",
       "      <td>94999</td>\n",
       "      <td>2020-04-30</td>\n",
       "      <td>2020-09-01 23:59:59</td>\n",
       "      <td>analysis</td>\n",
       "      <td>0.961869</td>\n",
       "      <td>0.000358</td>\n",
       "      <td>0.97866</td>\n",
       "      <td>0.963317</td>\n",
       "      <td>True</td>\n",
       "      <td>(0.963316535948479, 0.9786597341713761)</td>\n",
       "      <td>True</td>\n",
       "    </tr>\n",
       "    <tr>\n",
       "      <th>19</th>\n",
       "      <td>[95000:99999]</td>\n",
       "      <td>95000</td>\n",
       "      <td>99999</td>\n",
       "      <td>2020-09-01</td>\n",
       "      <td>2021-01-01 23:59:59</td>\n",
       "      <td>analysis</td>\n",
       "      <td>0.960537</td>\n",
       "      <td>0.000358</td>\n",
       "      <td>0.97866</td>\n",
       "      <td>0.963317</td>\n",
       "      <td>True</td>\n",
       "      <td>(0.963316535948479, 0.9786597341713761)</td>\n",
       "      <td>True</td>\n",
       "    </tr>\n",
       "  </tbody>\n",
       "</table>\n",
       "</div>"
      ],
      "text/plain": [
       "              key  start_index  end_index start_date            end_date  \\\n",
       "0        [0:4999]            0       4999 2014-05-09 2014-09-09 23:59:59   \n",
       "1     [5000:9999]         5000       9999 2014-09-09 2015-01-09 23:59:59   \n",
       "2   [10000:14999]        10000      14999 2015-01-09 2015-05-09 23:59:59   \n",
       "3   [15000:19999]        15000      19999 2015-05-09 2015-09-07 23:59:59   \n",
       "4   [20000:24999]        20000      24999 2015-09-07 2016-01-08 23:59:59   \n",
       "5   [25000:29999]        25000      29999 2016-01-08 2016-05-09 23:59:59   \n",
       "6   [30000:34999]        30000      34999 2016-05-09 2016-09-04 23:59:59   \n",
       "7   [35000:39999]        35000      39999 2016-09-04 2017-01-03 23:59:59   \n",
       "8   [40000:44999]        40000      44999 2017-01-03 2017-05-03 23:59:59   \n",
       "9   [45000:49999]        45000      49999 2017-05-03 2017-08-31 23:59:59   \n",
       "10  [50000:54999]        50000      54999 2017-08-31 2018-01-02 23:59:59   \n",
       "11  [55000:59999]        55000      59999 2018-01-02 2018-05-01 23:59:59   \n",
       "12  [60000:64999]        60000      64999 2018-05-01 2018-09-01 23:59:59   \n",
       "13  [65000:69999]        65000      69999 2018-09-01 2018-12-31 23:59:59   \n",
       "14  [70000:74999]        70000      74999 2018-12-31 2019-04-30 23:59:59   \n",
       "15  [75000:79999]        75000      79999 2019-04-30 2019-09-01 23:59:59   \n",
       "16  [80000:84999]        80000      84999 2019-09-01 2019-12-31 23:59:59   \n",
       "17  [85000:89999]        85000      89999 2019-12-31 2020-04-30 23:59:59   \n",
       "18  [90000:94999]        90000      94999 2020-04-30 2020-09-01 23:59:59   \n",
       "19  [95000:99999]        95000      99999 2020-09-01 2021-01-01 23:59:59   \n",
       "\n",
       "    partition  estimated_roc_auc  confidence  upper_threshold  \\\n",
       "0   reference           0.969051    0.000358          0.97866   \n",
       "1   reference           0.968909    0.000358          0.97866   \n",
       "2   reference           0.968657    0.000358          0.97866   \n",
       "3   reference           0.968973    0.000358          0.97866   \n",
       "4   reference           0.968962    0.000358          0.97866   \n",
       "5   reference           0.969079    0.000358          0.97866   \n",
       "6   reference           0.968725    0.000358          0.97866   \n",
       "7   reference           0.968885    0.000358          0.97866   \n",
       "8   reference           0.969227    0.000358          0.97866   \n",
       "9   reference           0.969002    0.000358          0.97866   \n",
       "10   analysis           0.968631    0.000358          0.97866   \n",
       "11   analysis           0.969044    0.000358          0.97866   \n",
       "12   analysis           0.969444    0.000358          0.97866   \n",
       "13   analysis           0.969047    0.000358          0.97866   \n",
       "14   analysis           0.968873    0.000358          0.97866   \n",
       "15   analysis           0.960478    0.000358          0.97866   \n",
       "16   analysis           0.961134    0.000358          0.97866   \n",
       "17   analysis           0.960536    0.000358          0.97866   \n",
       "18   analysis           0.961869    0.000358          0.97866   \n",
       "19   analysis           0.960537    0.000358          0.97866   \n",
       "\n",
       "    lower_threshold  alert                               thresholds  estimated  \n",
       "0          0.963317  False  (0.963316535948479, 0.9786597341713761)       True  \n",
       "1          0.963317  False  (0.963316535948479, 0.9786597341713761)       True  \n",
       "2          0.963317  False  (0.963316535948479, 0.9786597341713761)       True  \n",
       "3          0.963317  False  (0.963316535948479, 0.9786597341713761)       True  \n",
       "4          0.963317  False  (0.963316535948479, 0.9786597341713761)       True  \n",
       "5          0.963317  False  (0.963316535948479, 0.9786597341713761)       True  \n",
       "6          0.963317  False  (0.963316535948479, 0.9786597341713761)       True  \n",
       "7          0.963317  False  (0.963316535948479, 0.9786597341713761)       True  \n",
       "8          0.963317  False  (0.963316535948479, 0.9786597341713761)       True  \n",
       "9          0.963317  False  (0.963316535948479, 0.9786597341713761)       True  \n",
       "10         0.963317  False  (0.963316535948479, 0.9786597341713761)       True  \n",
       "11         0.963317  False  (0.963316535948479, 0.9786597341713761)       True  \n",
       "12         0.963317  False  (0.963316535948479, 0.9786597341713761)       True  \n",
       "13         0.963317  False  (0.963316535948479, 0.9786597341713761)       True  \n",
       "14         0.963317  False  (0.963316535948479, 0.9786597341713761)       True  \n",
       "15         0.963317   True  (0.963316535948479, 0.9786597341713761)       True  \n",
       "16         0.963317   True  (0.963316535948479, 0.9786597341713761)       True  \n",
       "17         0.963317   True  (0.963316535948479, 0.9786597341713761)       True  \n",
       "18         0.963317   True  (0.963316535948479, 0.9786597341713761)       True  \n",
       "19         0.963317   True  (0.963316535948479, 0.9786597341713761)       True  "
      ]
     },
     "execution_count": 42,
     "metadata": {},
     "output_type": "execute_result"
    }
   ],
   "source": [
    "est_perf"
   ]
  },
  {
   "cell_type": "code",
   "execution_count": 43,
   "id": "f9c56340",
   "metadata": {},
   "outputs": [
    {
     "name": "stderr",
     "output_type": "stream",
     "text": [
      "IOPub data rate exceeded.\n",
      "The notebook server will temporarily stop sending output\n",
      "to the client in order to avoid crashing it.\n",
      "To change this limit, set the config variable\n",
      "`--NotebookApp.iopub_data_rate_limit`.\n",
      "\n",
      "Current values:\n",
      "NotebookApp.iopub_data_rate_limit=1000000.0 (bytes/sec)\n",
      "NotebookApp.rate_limit_window=3.0 (secs)\n",
      "\n"
     ]
    }
   ],
   "source": [
    "showrst(df_ana_gt)"
   ]
  },
  {
   "cell_type": "code",
   "execution_count": 18,
   "id": "528cceae",
   "metadata": {},
   "outputs": [],
   "source": [
    "from sklearn.metrics import roc_auc_score\n",
    "import matplotlib.pyplot as plt\n",
    "\n",
    "df_ana_full = pd.merge(df_ana,df_ana_gt, on = 'identifier')\n",
    "df_all = pd.concat([df_ref, df_ana_full]).reset_index(drop=True)\n",
    "\n",
    "target_col = 'work_home_actual'\n",
    "pred_score_col = 'y_pred_proba'\n",
    "actual_performance = []\n",
    "\n",
    "for idx in est_perf.index:\n",
    "    start_index, end_index = est_perf.loc[idx, 'start_index'], est_perf.loc[idx, 'end_index']\n",
    "    sub = df_all.loc[start_index:end_index]\n",
    "    actual_perf = roc_auc_score(sub[target_col], sub[pred_score_col])\n",
    "    est_perf.loc[idx, 'actual_roc_auc'] = actual_perf\n"
   ]
  },
  {
   "cell_type": "code",
   "execution_count": 19,
   "id": "6008ae37",
   "metadata": {},
   "outputs": [
    {
     "data": {
      "image/png": "[encoded data removed]",
      "text/plain": [
       "<Figure size 432x288 with 1 Axes>"
      ]
     },
     "metadata": {
      "needs_background": "light"
     },
     "output_type": "display_data"
    }
   ],
   "source": [
    "est_perf[['estimated_roc_auc', 'actual_roc_auc']].plot()\n",
    "plt.xlabel('chunk')\n",
    "plt.ylabel('ROC AUC')\n",
    "plt.savefig('guide-performance_estimation_tmp.svg')"
   ]
  },
  {
   "cell_type": "code",
   "execution_count": null,
   "id": "387a0568",
   "metadata": {},
   "outputs": [],
   "source": []
  },
  {
   "cell_type": "code",
   "execution_count": null,
   "id": "f9b3ad09",
   "metadata": {},
   "outputs": [],
   "source": []
  }
 ],
 "metadata": {
  "kernelspec": {
   "display_name": "Python 3 (ipykernel)",
   "language": "python",
   "name": "python3"
  },
  "language_info": {
   "codemirror_mode": {
    "name": "ipython",
    "version": 3
   },
   "file_extension": ".py",
   "mimetype": "text/x-python",
   "name": "python",
   "nbconvert_exporter": "python",
   "pygments_lexer": "ipython3",
   "version": "3.9.7"
  }
 },
 "nbformat": 4,
 "nbformat_minor": 5
}
