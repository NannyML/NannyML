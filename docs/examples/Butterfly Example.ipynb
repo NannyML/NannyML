{
 "cells": [
  {
   "cell_type": "markdown",
   "id": "bf15cd16",
   "metadata": {},
   "source": [
    "# Butterfly Dataset example"
   ]
  },
  {
   "cell_type": "code",
   "execution_count": null,
   "id": "87c37d0c",
   "metadata": {},
   "outputs": [],
   "source": [
    "import numpy as np\n",
    "import pandas as pd\n",
    "import matplotlib.pyplot as plt\n",
    "import seaborn as sns\n",
    "\n",
    "from scipy.spatial.transform import Rotation\n",
    "from sklearn.datasets import make_classification\n",
    "\n",
    "import nannyml as nml"
   ]
  },
  {
   "cell_type": "markdown",
   "id": "c9a165cb",
   "metadata": {},
   "source": [
    "# Creating Butterfly Dataset\n",
    "\n",
    "By butterfly dataset we mean a dataset that does not drift at the univariate level but changes in it's overall stucture."
   ]
  },
  {
   "cell_type": "code",
   "execution_count": null,
   "id": "14a1306a",
   "metadata": {},
   "outputs": [],
   "source": [
    "# 10 reference periods\n",
    "# 10 analysis periods\n",
    "# Days/week * Hours/day * events/hour\n",
    "DPP = 7*24*12\n",
    "\n",
    "np.random.seed(13)\n",
    "s1 = np.random.randn(DPP*20)\n",
    "x1 = s1 + np.random.randn(DPP*20)/8\n",
    "x2 = s1 + np.random.randn(DPP*20)/8\n",
    "x3 = np.random.randn(DPP*20)/8\n",
    "xdat = np.array([x1, x2, x3]).T\n",
    "\n",
    "rot = Rotation.from_euler('z', 90, degrees=True)\n",
    "\n",
    "# following proper matrix multiplication rules, we need a 3xN data matrix\n",
    "ydat = np.matmul(rot.as_matrix(), xdat.T).T\n",
    "\n",
    "# create overall array that has drifted and not drifted subsets.\n",
    "dataar = np.concatenate(\n",
    "    (xdat[:-5*DPP], ydat[-5*DPP:]),\n",
    "    axis=0\n",
    ")\n",
    "\n",
    "# convert data to dataframe\n",
    "datadf = pd.DataFrame(dataar, columns=['f1', 'f2', 'f3'])\n",
    "\n",
    "# add \"timestamp\" column\n",
    "datadf = datadf.assign(ordered = pd.date_range(start='1/6/2020', freq='5min', periods=20*DPP))\n",
    "\n",
    "# Adding helper column - duplicates date range functionality\n",
    "datadf['week'] = datadf.ordered.dt.isocalendar().week - 1\n",
    "# Adding partition column\n",
    "datadf['partition'] = 'reference'\n",
    "datadf.loc[datadf.week >= 11, ['partition']] = 'analysis'\n",
    "\n",
    "# Assign random predictions and targets (we won't be using them but they are needed for NannyML)\n",
    "datadf = datadf.assign(y_pred = np.random.rand(DPP*20))\n",
    "datadf = datadf.assign(y_true = np.random.randint(2, size=DPP*20))"
   ]
  },
  {
   "cell_type": "code",
   "execution_count": null,
   "id": "ce1a60ac",
   "metadata": {},
   "outputs": [],
   "source": [
    "datadf"
   ]
  },
  {
   "cell_type": "code",
   "execution_count": null,
   "id": "01f1e407",
   "metadata": {},
   "outputs": [],
   "source": [
    "# Let's Visualize\n",
    "sns.scatterplot(\n",
    "    x=datadf.loc[datadf.week == 10, 'f1'][:1000],\n",
    "    y=datadf.loc[datadf.week == 10, 'f2'][:1000],\n",
    "    label='Week 10'\n",
    ")\n",
    "sns.scatterplot(\n",
    "    x=datadf.loc[datadf.week == 16, 'f1'][:1000],\n",
    "    y=datadf.loc[datadf.week == 16, 'f2'][:1000],\n",
    "    label='Week 16'\n",
    ")\n",
    "plt.title('Data Distributions before and after rotation drift')\n",
    "plt.xlabel('f1')\n",
    "plt.ylabel('f2', rotation=0)\n",
    "plt.legend()\n",
    "plt.savefig('butterfly-scatterplot.svg')"
   ]
  },
  {
   "cell_type": "code",
   "execution_count": null,
   "id": "77c083f3",
   "metadata": {},
   "outputs": [],
   "source": [
    "reference = datadf.loc[datadf['partition'] == 'reference'].reset_index(drop=True)\n",
    "reference.drop(['week'], axis=1, inplace=True)\n",
    "analysis = datadf.loc[datadf['partition'] == 'analysis'].reset_index(drop=True)\n",
    "analysis.drop(['y_true', 'week'], axis=1, inplace=True)\n",
    "analysis"
   ]
  },
  {
   "cell_type": "code",
   "execution_count": null,
   "id": "aad79d63",
   "metadata": {},
   "outputs": [],
   "source": [
    "md = nml.extract_metadata(data = reference, model_name='wfh_predictor')\n",
    "md.identifier_column_name = 'ordered'\n",
    "md.timestamp_column_name = 'ordered'\n",
    "md.ground_truth_column_name = 'y_true'\n",
    "print(md.print())"
   ]
  },
  {
   "cell_type": "code",
   "execution_count": null,
   "id": "04ab3a6c",
   "metadata": {},
   "outputs": [],
   "source": [
    "univariate_calculator = nml.UnivariateStatisticalDriftCalculator(model_metadata=md, chunk_size=DPP)"
   ]
  },
  {
   "cell_type": "code",
   "execution_count": null,
   "id": "55c59b08",
   "metadata": {},
   "outputs": [],
   "source": [
    "univariate_calculator.fit(reference_data=reference)\n",
    "univariate_results = univariate_calculator.calculate(data=pd.concat([reference, analysis], ignore_index=True))"
   ]
  },
  {
   "cell_type": "code",
   "execution_count": null,
   "id": "41f970fa",
   "metadata": {},
   "outputs": [],
   "source": [
    "plots = nml.DriftPlots(univariate_calculator)"
   ]
  },
  {
   "cell_type": "raw",
   "id": "59f936a3",
   "metadata": {},
   "source": [
    "fig = plots.plot_univariate_statistical_drift(univariate_results, metric='statistic', feature_label='f1')\n",
    "fig.write_image(file='test-img.svg')"
   ]
  },
  {
   "cell_type": "code",
   "execution_count": null,
   "id": "9daba2a9",
   "metadata": {},
   "outputs": [],
   "source": [
    "for itm in md.features:\n",
    "\n",
    "    fig = plots.plot_univariate_statistical_drift(univariate_results, metric='statistic', feature_label=itm.label)\n",
    "    fig.show()\n",
    "    fig.write_image(file=f\"butterfly-univariate-drift-{itm.label}.svg\")"
   ]
  },
  {
   "cell_type": "code",
   "execution_count": null,
   "id": "126be6c4",
   "metadata": {},
   "outputs": [],
   "source": [
    "for itm in md.features:\n",
    "\n",
    "    fig = plots.plot_continuous_feature_distribution_over_time(\n",
    "        data=pd.concat([reference, analysis], ignore_index=True),\n",
    "        drift_results=univariate_results,\n",
    "        feature_label=itm.label\n",
    "    )\n",
    "    fig.show()\n",
    "    fig.write_image(file=f\"butterfly-univariate-drift-joyplot-{itm.label}.svg\")"
   ]
  },
  {
   "cell_type": "code",
   "execution_count": null,
   "id": "5b37dd42",
   "metadata": {},
   "outputs": [],
   "source": [
    "rcerror_calculator = nml.DataReconstructionDriftCalculator(model_metadata=md, chunk_size=DPP)\n",
    "rcerror_calculator.fit(reference_data=reference)\n",
    "rcerror_results = rcerror_calculator.calculate(data=pd.concat([reference, analysis], ignore_index=True))"
   ]
  },
  {
   "cell_type": "code",
   "execution_count": null,
   "id": "a89dd815",
   "metadata": {},
   "outputs": [],
   "source": [
    "fig = plots.plot_data_reconstruction_drift(rcerror_results)\n",
    "fig.show()\n",
    "fig.write_image(file=f\"butterfly-multivariate-drift.svg\")"
   ]
  }
 ],
 "metadata": {
  "kernelspec": {
   "display_name": "Python 3 (ipykernel)",
   "language": "python",
   "name": "python3"
  },
  "language_info": {
   "codemirror_mode": {
    "name": "ipython",
    "version": 3
   },
   "file_extension": ".py",
   "mimetype": "text/x-python",
   "name": "python",
   "nbconvert_exporter": "python",
   "pygments_lexer": "ipython3",
   "version": "3.10.2"
  }
 },
 "nbformat": 4,
 "nbformat_minor": 5
}
