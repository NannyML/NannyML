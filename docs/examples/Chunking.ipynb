{
 "cells": [
  {
   "cell_type": "code",
   "execution_count": 2,
   "id": "2f933365",
   "metadata": {
    "pycharm": {
     "name": "#%%\n"
    }
   },
   "outputs": [],
   "source": [
    "import pandas as pd\n",
    "import nannyml as nml\n",
    "reference, analysis, _ = nml.datasets.load_synthetic_sample()\n",
    "metadata = nml.extract_metadata(reference, exclude_columns=['identifier'])\n",
    "metadata.target_column_name = 'work_home_actual'"
   ]
  },
  {
   "cell_type": "code",
   "execution_count": null,
   "id": "281539e7",
   "metadata": {
    "pycharm": {
     "is_executing": true
    }
   },
   "outputs": [],
   "source": [
    "cbpe = nml.CBPE(model_metadata=metadata, chunk_period=\"Q\")\n",
    "cbpe.fit(reference_data=reference)\n",
    "est_perf = cbpe.estimate(analysis)\n",
    "est_perf.data.iloc[:3,:5]"
   ]
  },
  {
   "cell_type": "code",
   "execution_count": null,
   "id": "3c4c6f19",
   "metadata": {
    "pycharm": {
     "is_executing": true
    }
   },
   "outputs": [],
   "source": [
    "cbpe = nml.CBPE(model_metadata=metadata, chunk_size=3500)\n",
    "cbpe.fit(reference_data=reference)\n",
    "est_perf = cbpe.estimate(analysis)\n",
    "est_perf.data.iloc[:3,:5]"
   ]
  },
  {
   "cell_type": "code",
   "execution_count": null,
   "id": "c4a42a6e",
   "metadata": {
    "pycharm": {
     "is_executing": true
    }
   },
   "outputs": [],
   "source": [
    "est_perf.data.iloc[-2:,:5]"
   ]
  },
  {
   "cell_type": "code",
   "execution_count": null,
   "id": "e6446b8f",
   "metadata": {
    "pycharm": {
     "is_executing": true
    }
   },
   "outputs": [],
   "source": [
    "analysis.index.max()"
   ]
  },
  {
   "cell_type": "code",
   "execution_count": null,
   "id": "1502a809",
   "metadata": {
    "pycharm": {
     "is_executing": true
    }
   },
   "outputs": [],
   "source": [
    "cbpe = nml.CBPE(model_metadata=metadata, chunk_number=9)\n",
    "cbpe.fit(reference_data=reference)\n",
    "est_perf = cbpe.estimate(analysis)\n",
    "len(est_perf.data)"
   ]
  },
  {
   "cell_type": "code",
   "execution_count": null,
   "id": "8a845e22",
   "metadata": {
    "pycharm": {
     "is_executing": true
    }
   },
   "outputs": [],
   "source": [
    "est_perf.data.iloc[-2:,:5]"
   ]
  },
  {
   "cell_type": "code",
   "execution_count": null,
   "id": "d7a175fc",
   "metadata": {
    "pycharm": {
     "is_executing": true
    }
   },
   "outputs": [],
   "source": [
    "analysis.index.max()"
   ]
  },
  {
   "cell_type": "code",
   "execution_count": null,
   "id": "9a777cc9",
   "metadata": {
    "pycharm": {
     "is_executing": true
    }
   },
   "outputs": [],
   "source": [
    "cbpe = nml.CBPE(model_metadata=metadata)\n",
    "cbpe.fit(reference_data=reference)\n",
    "est_perf = cbpe.estimate(pd.concat([reference, analysis]))\n",
    "est_perf.data.iloc[:3,:5]"
   ]
  },
  {
   "cell_type": "code",
   "execution_count": 11,
   "id": "b33c9f5e",
   "metadata": {},
   "outputs": [],
   "source": [
    "cbpe = nml.CBPE(model_metadata=metadata, chunk_size=5_000)\n",
    "cbpe.fit(reference_data=reference)\n",
    "est_perf = cbpe.estimate(analysis)"
   ]
  },
  {
   "cell_type": "code",
   "execution_count": null,
   "id": "8317372c",
   "metadata": {
    "pycharm": {
     "is_executing": true
    }
   },
   "outputs": [],
   "source": [
    "fig = est_perf.plot(kind='performance')\n",
    "# fig.write_image(file=\"../_static/guide-chunking_your_data-pe_plot.svg\", engine=\"kaleido\")\n",
    "fig.show()"
   ]
  },
  {
   "cell_type": "code",
   "execution_count": 12,
   "id": "c2b91d4b",
   "metadata": {},
   "outputs": [],
   "source": []
  }
 ],
 "metadata": {
  "kernelspec": {
   "display_name": "Python 3 (ipykernel)",
   "language": "python",
   "name": "python3"
  },
  "language_info": {
   "codemirror_mode": {
    "name": "ipython",
    "version": 3
   },
   "file_extension": ".py",
   "mimetype": "text/x-python",
   "name": "python",
   "nbconvert_exporter": "python",
   "pygments_lexer": "ipython3",
   "version": "3.7.10"
  }
 },
 "nbformat": 4,
 "nbformat_minor": 5
}