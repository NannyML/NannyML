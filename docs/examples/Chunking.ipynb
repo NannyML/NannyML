{
 "cells": [
  {
   "cell_type": "code",
   "execution_count": null,
   "id": "72bd3b86",
   "metadata": {},
   "outputs": [],
   "source": [
    "import nannyml as nml\n",
    "df_ref, df_ana, _ = nml.datasets.load_synthetic_sample()\n",
    "md = nml.extract_metadata(df_ref)\n",
    "md.target_column_name = 'work_home_actual'\n",
    "cbpe = nml.CBPE(model_metadata=md, chunk_size=5_000)\n",
    "cbpe.fit(reference_data=df_ref)\n",
    "est_perf = cbpe.estimate(df_ana)\n",
    "plots = nml.PerformancePlots(model_metadata=md, chunker=cbpe.chunker)\n",
    "fig = plots.plot_cbpe_performance_estimation(est_perf)\n",
    "fig.show()\n",
    "fig.write_image(file=f\"guide-chunking_your_data-pe_plot.svg\")"
   ]
  },
  {
   "cell_type": "code",
   "execution_count": null,
   "id": "281539e7",
   "metadata": {},
   "outputs": [],
   "source": []
  }
 ],
 "metadata": {
  "kernelspec": {
   "display_name": "Python 3 (ipykernel)",
   "language": "python",
   "name": "python3"
  },
  "language_info": {
   "codemirror_mode": {
    "name": "ipython",
    "version": 3
   },
   "file_extension": ".py",
   "mimetype": "text/x-python",
   "name": "python",
   "nbconvert_exporter": "python",
   "pygments_lexer": "ipython3",
   "version": "3.10.2"
  }
 },
 "nbformat": 4,
 "nbformat_minor": 5
}
