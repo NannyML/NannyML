{
 "cells": [
  {
   "cell_type": "code",
   "execution_count": null,
   "id": "4912b70c",
   "metadata": {},
   "outputs": [],
   "source": [
    "def showrst(df):\n",
    "    print(df.to_markdown(tablefmt=\"grid\"))"
   ]
  },
  {
   "cell_type": "code",
   "execution_count": null,
   "id": "8d193e87",
   "metadata": {
    "pycharm": {
     "name": "#%%\n"
    }
   },
   "outputs": [],
   "source": [
    "import pandas as pd\n",
    "import nannyml as nml\n",
    "reference, analysis, analysis_target = nml.load_synthetic_sample()\n",
    "reference.head()"
   ]
  },
  {
   "cell_type": "code",
   "execution_count": null,
   "id": "ef2ac5d8",
   "metadata": {},
   "outputs": [],
   "source": [
    "showrst(reference.head())"
   ]
  },
  {
   "cell_type": "code",
   "execution_count": null,
   "id": "a1f7d99b",
   "metadata": {
    "pycharm": {
     "name": "#%%\n"
    }
   },
   "outputs": [],
   "source": [
    "metadata = nml.extract_metadata(data = reference, model_name='wfh_predictor', exclude_columns=['identifier'])\n",
    "metadata.target_column_name = 'work_home_actual'\n",
    "data = pd.concat([reference, analysis], ignore_index=True)\n",
    "# Let's use a chunk size of 5000 data points to create our drift statistics\n",
    "chunk_size = 5000"
   ]
  },
  {
   "cell_type": "code",
   "execution_count": null,
   "id": "25d31e63",
   "metadata": {
    "pycharm": {
     "name": "#%%\n"
    }
   },
   "outputs": [],
   "source": [
    "analysis.head()"
   ]
  },
  {
   "cell_type": "code",
   "execution_count": null,
   "id": "740f6bde",
   "metadata": {},
   "outputs": [],
   "source": [
    "showrst(analysis.head())"
   ]
  },
  {
   "cell_type": "code",
   "execution_count": null,
   "id": "4971b352",
   "metadata": {
    "pycharm": {
     "name": "#%%\n"
    }
   },
   "outputs": [],
   "source": [
    "# fit estimator and estimate\n",
    "estimator = nml.CBPE(model_metadata=metadata, chunk_size=chunk_size, metrics=['roc_auc']).fit(reference)\n",
    "estimated_performance = estimator.estimate(data=data)\n",
    "# show results\n",
    "figure = estimated_performance.plot(kind='performance', metric='roc_auc')\n",
    "figure.show()\n",
    "# save figure - not shown on guide:\n",
    "# figure.write_image(file=f\"perf-est-guide-syth-example.svg\")"
   ]
  },
  {
   "cell_type": "code",
   "execution_count": null,
   "id": "e017dc74",
   "metadata": {
    "pycharm": {
     "name": "#%%\n"
    }
   },
   "outputs": [],
   "source": [
    "# Let's initialize the object that will perform the Univariate Drift calculations\n",
    "univariate_calculator = nml.UnivariateStatisticalDriftCalculator(model_metadata=metadata, chunk_size=chunk_size)\n",
    "univariate_calculator.fit(reference_data=reference)\n",
    "univariate_results = univariate_calculator.calculate(data=data)\n",
    "# let's plot drift results for all model inputs\n",
    "for feature in metadata.features:\n",
    "    figure = univariate_results.plot(kind='feature_drift', metric='statistic', feature_label=feature.label)\n",
    "    figure.show()"
   ]
  },
  {
   "cell_type": "code",
   "execution_count": null,
   "id": "14f4c04f",
   "metadata": {
    "pycharm": {
     "name": "#%%\n"
    },
    "scrolled": true
   },
   "outputs": [],
   "source": [
    "ranker = nml.Ranker.by('alert_count')\n",
    "ranked_features = ranker.rank(univariate_results, model_metadata=metadata, only_drifting = False)\n",
    "ranked_features"
   ]
  },
  {
   "cell_type": "code",
   "execution_count": null,
   "id": "379cc180",
   "metadata": {
    "pycharm": {
     "name": "#%%\n"
    }
   },
   "outputs": [],
   "source": [
    "figure = univariate_results.plot(kind='prediction_drift', metric='statistic')\n",
    "figure.show()"
   ]
  },
  {
   "cell_type": "code",
   "execution_count": null,
   "id": "9a683b6c",
   "metadata": {
    "pycharm": {
     "name": "#%%\n"
    }
   },
   "outputs": [],
   "source": [
    "# Let's initialize the object that will perform Data Reconstruction with PCA\n",
    "rcerror_calculator = nml.DataReconstructionDriftCalculator(model_metadata=metadata, chunk_size=chunk_size)\n",
    "# NannyML compares drift versus the full reference dataset.\n",
    "rcerror_calculator.fit(reference_data=reference)\n",
    "# let's see Reconstruction error statistics for all available data\n",
    "rcerror_results = rcerror_calculator.calculate(data=data)\n",
    "figure = rcerror_results.plot(kind='drift')\n",
    "figure.show()"
   ]
  },
  {
   "cell_type": "code",
   "execution_count": null,
   "id": "d641b7bd",
   "metadata": {
    "pycharm": {
     "name": "#%%\n"
    }
   },
   "outputs": [],
   "source": []
  }
 ],
 "metadata": {
  "kernelspec": {
   "display_name": "p39all",
   "language": "python",
   "name": "p39all"
  },
  "language_info": {
   "codemirror_mode": {
    "name": "ipython",
    "version": 3
   },
   "file_extension": ".py",
   "mimetype": "text/x-python",
   "name": "python",
   "nbconvert_exporter": "python",
   "pygments_lexer": "ipython3",
   "version": "3.9.7"
  }
 },
 "nbformat": 4,
 "nbformat_minor": 5
}
