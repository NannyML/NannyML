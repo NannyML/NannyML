{
 "cells": [
  {
   "cell_type": "code",
   "execution_count": null,
   "id": "3d691246",
   "metadata": {
    "pycharm": {
     "is_executing": true,
     "name": "#%%\n"
    }
   },
   "outputs": [],
   "source": [
    "import nannyml as nml\n",
    "import pandas as pd\n",
    "\n",
    "reference, analysis, analysis_target = nml.load_synthetic_sample()\n",
    "metadata = nml.extract_metadata(data = reference, model_name='wfh_predictor', model_type=nml.ModelType.CLASSIFICATION_BINARY, exclude_columns='identifier')\n",
    "metadata.target_column_name = 'work_home_actual'\n",
    "reference.head()"
   ]
  },
  {
   "cell_type": "code",
   "execution_count": null,
   "id": "b34dea49",
   "metadata": {
    "pycharm": {
     "is_executing": true,
     "name": "#%%\n"
    }
   },
   "outputs": [],
   "source": [
    "# Let's initialize the object that will perform the Univariate Drift calculations\n",
    "# Let's use a chunk size of 5000 data points to create our drift statistics\n",
    "univariate_calculator = nml.UnivariateStatisticalDriftCalculator(model_metadata=metadata, chunk_size=5000)\n",
    "# NannyML compares drift versus the full reference dataset.\n",
    "univariate_calculator.fit(reference_data=reference)\n",
    "# let's see drift statistics for all available data\n",
    "data = pd.concat([reference, analysis], ignore_index=True)\n",
    "univariate_results = univariate_calculator.calculate(data=data)\n",
    "# let's view a small subset of our results:\n",
    "# We use the data property of the results class to view the relevant data.\n",
    "univariate_results.data.iloc[:5, :9]"
   ]
  },
  {
   "cell_type": "code",
   "execution_count": null,
   "id": "44977044",
   "metadata": {
    "pycharm": {
     "is_executing": true,
     "name": "#%%\n"
    }
   },
   "outputs": [],
   "source": [
    "univariate_results.data.iloc[-5:, :9]"
   ]
  },
  {
   "cell_type": "code",
   "execution_count": null,
   "id": "b0cc7e15",
   "metadata": {
    "pycharm": {
     "is_executing": true,
     "name": "#%%\n"
    },
    "scrolled": false
   },
   "outputs": [],
   "source": [
    "# let's plot drift results for all model inputs\n",
    "for feature in metadata.features:\n",
    "    figure = univariate_results.plot(kind='feature_drift', metric='statistic', feature_label=feature.label)\n",
    "    figure.show()\n",
    "    # save figure - not shown on guide:\n",
    "    figure.write_image(file=f\"drift-guide-{feature.label}.svg\")\n",
    "    # figure.write_image(file=f\"drift-guide-{feature.label}.svg\", engine=\"orca\")"
   ]
  },
  {
   "cell_type": "code",
   "execution_count": null,
   "id": "36244424",
   "metadata": {
    "pycharm": {
     "is_executing": true,
     "name": "#%%\n"
    },
    "scrolled": false
   },
   "outputs": [],
   "source": [
    "# let's plot distribution drift results for continuous model inputs\n",
    "for feature in metadata.continuous_features:\n",
    "    figure = univariate_results.plot(\n",
    "        kind='feature_distribution',\n",
    "        feature_label=feature.label\n",
    "    )\n",
    "    figure.show()\n",
    "    # save figure - not shown on guide:\n",
    "    figure.write_image(file=f\"drift-guide-joyplot-{feature.label}.svg\")\n",
    "    # figure.write_image(file=f\"drift-guide-joyplot-{feature.label}.svg\", engine=\"orca\")"
   ]
  },
  {
   "cell_type": "code",
   "execution_count": null,
   "id": "4f1110f7",
   "metadata": {
    "pycharm": {
     "is_executing": true,
     "name": "#%%\n"
    },
    "scrolled": false
   },
   "outputs": [],
   "source": [
    "# let's plot distribution drift results for categorical model inputs\n",
    "for feature in metadata.categorical_features:\n",
    "    figure = univariate_results.plot(\n",
    "        kind='feature_distribution',\n",
    "        feature_label=feature.label\n",
    "    )\n",
    "    figure.show()\n",
    "    # save figure - not shown on guide:\n",
    "    figure.write_image(file=f\"drift-guide-stacked-{feature.label}.svg\")\n",
    "    # figure.write_image(file=f\"\"drift-guide-stacked-{feature.label}.svg\", engine=\"orca\")"
   ]
  },
  {
   "cell_type": "code",
   "execution_count": null,
   "id": "5fbfd04f",
   "metadata": {
    "pycharm": {
     "is_executing": true,
     "name": "#%%\n"
    }
   },
   "outputs": [],
   "source": [
    "ranker = nml.Ranker.by('alert_count')\n",
    "ranked_features = ranker.rank(univariate_results, model_metadata=metadata, only_drifting = False)\n",
    "ranked_features"
   ]
  },
  {
   "cell_type": "code",
   "execution_count": 8,
   "id": "0ab93e6c",
   "metadata": {
    "pycharm": {
     "name": "#%%\n"
    }
   },
   "outputs": [],
   "source": [
    "# Let's initialize the object that will perform Data Reconstruction with PCA\n",
    "# Let's use a chunk size of 5000 data points to create our drift statistics\n",
    "rcerror_calculator = nml.DataReconstructionDriftCalculator(model_metadata=metadata, chunk_size=5000)\n",
    "# NannyML compares drift versus the full reference dataset.\n",
    "rcerror_calculator.fit(reference_data=reference)\n",
    "# let's see RC error statistics for all available data\n",
    "rcerror_results = rcerror_calculator.calculate(data=data)"
   ]
  },
  {
   "cell_type": "code",
   "execution_count": 9,
   "id": "1c499881",
   "metadata": {
    "pycharm": {
     "name": "#%%\n"
    }
   },
   "outputs": [],
   "source": [
    "from sklearn.impute import SimpleImputer\n",
    "\n",
    "# Let's initialize the object that will perform Data Reconstruction with PCA\n",
    "rcerror_calculator = nml.DataReconstructionDriftCalculator(\n",
    "    model_metadata=metadata,\n",
    "    chunk_size=5000,\n",
    "    imputer_categorical=SimpleImputer(strategy='constant', fill_value='missing'),\n",
    "    imputer_continuous=SimpleImputer(strategy='median')\n",
    ")\n",
    "# NannyML compares drift versus the full reference dataset.\n",
    "rcerror_calculator.fit(reference_data=reference)\n",
    "# let's see RC error statistics for all available data\n",
    "rcerror_results = rcerror_calculator.calculate(data=data)"
   ]
  },
  {
   "cell_type": "code",
   "execution_count": null,
   "id": "4b568d43",
   "metadata": {
    "pycharm": {
     "is_executing": true,
     "name": "#%%\n"
    },
    "scrolled": true
   },
   "outputs": [],
   "source": [
    "rcerror_results.data"
   ]
  },
  {
   "cell_type": "code",
   "execution_count": null,
   "id": "7d3edd4a",
   "metadata": {
    "pycharm": {
     "is_executing": true,
     "name": "#%%\n"
    },
    "scrolled": true
   },
   "outputs": [],
   "source": [
    "print(rcerror_results.data.to_markdown(tablefmt=\"grid\"))"
   ]
  },
  {
   "cell_type": "code",
   "execution_count": null,
   "id": "d9c3fcfa",
   "metadata": {
    "pycharm": {
     "is_executing": true,
     "name": "#%%\n"
    }
   },
   "outputs": [],
   "source": [
    "figure = rcerror_results.plot(kind='drift')\n",
    "figure.show()\n",
    "# save figure - not shown on guide:\n",
    "figure.write_image(file=\"drift-guide-multivariate.svg\")"
   ]
  },
  {
   "cell_type": "code",
   "execution_count": null,
   "id": "8755cf0a",
   "metadata": {
    "pycharm": {
     "is_executing": true,
     "name": "#%%\n"
    }
   },
   "outputs": [],
   "source": [
    "figure = univariate_results.plot(kind='prediction_drift', metric='statistic')\n",
    "figure.show()\n",
    "# save figure - not shown on guide:\n",
    "figure.write_image(file=f\"drift-guide-predictions.svg\")"
   ]
  },
  {
   "cell_type": "code",
   "execution_count": null,
   "id": "ea371b52",
   "metadata": {
    "pycharm": {
     "is_executing": true,
     "name": "#%%\n"
    }
   },
   "outputs": [],
   "source": [
    "figure = univariate_results.plot(kind='prediction_distribution', metric='statistic')\n",
    "figure.show()\n",
    "# save figure - not shown on guide:\n",
    "figure.write_image(file=f\"drift-guide-predictions-joyplot.svg\")\n",
    "# figure.write_image(file=f\"drift-guide-predictions-joyplot.svg\", engine=\"orca\")"
   ]
  },
  {
   "cell_type": "code",
   "execution_count": null,
   "id": "130c394d",
   "metadata": {
    "pycharm": {
     "is_executing": true,
     "name": "#%%\n"
    }
   },
   "outputs": [],
   "source": [
    "data = pd.concat([reference, analysis.set_index('identifier').join(analysis_target.set_index('identifier'), on='identifier', rsuffix='_r')], ignore_index=True).reset_index(drop=True)\n",
    "data.loc[data['partition'] == 'analysis'].head(3)"
   ]
  },
  {
   "cell_type": "code",
   "execution_count": null,
   "id": "fb846c44",
   "metadata": {
    "pycharm": {
     "is_executing": true,
     "name": "#%%\n"
    }
   },
   "outputs": [],
   "source": [
    "target_distribution_calculator = nml.TargetDistributionCalculator(model_metadata=metadata, chunk_size=5000)\n",
    "target_distribution_calculator.fit(reference_data=reference)"
   ]
  },
  {
   "cell_type": "code",
   "execution_count": null,
   "id": "4f7eec27",
   "metadata": {
    "pycharm": {
     "is_executing": true,
     "name": "#%%\n"
    }
   },
   "outputs": [],
   "source": [
    "target_distribution = target_distribution_calculator.calculate(data)\n",
    "target_distribution.data.head(3)"
   ]
  },
  {
   "cell_type": "code",
   "execution_count": null,
   "id": "e89b9535",
   "metadata": {
    "pycharm": {
     "is_executing": true,
     "name": "#%%\n"
    }
   },
   "outputs": [],
   "source": [
    "fig = target_distribution.plot(kind='distribution', distribution='metric')\n",
    "fig.show()\n",
    "# save figure - not shown on guide:\n",
    "fig.write_image(file=f\"target_distribution_metric.svg\")"
   ]
  },
  {
   "cell_type": "code",
   "execution_count": null,
   "id": "1dec3f2c",
   "metadata": {
    "pycharm": {
     "is_executing": true,
     "name": "#%%\n"
    }
   },
   "outputs": [],
   "source": [
    "fig = target_distribution.plot(kind='distribution', distribution='statistical')\n",
    "fig.show()\n",
    "# save figure - not shown on guide:\n",
    "fig.write_image(file=f\"target_distribution_statistical.svg\")"
   ]
  },
  {
   "cell_type": "code",
   "execution_count": 19,
   "id": "ff089627",
   "metadata": {
    "pycharm": {
     "name": "#%%\n"
    }
   },
   "outputs": [],
   "source": []
  }
 ],
 "metadata": {
  "kernelspec": {
   "display_name": "Python 3 (ipykernel)",
   "language": "python",
   "name": "python3"
  },
  "language_info": {
   "codemirror_mode": {
    "name": "ipython",
    "version": 3
   },
   "file_extension": ".py",
   "mimetype": "text/x-python",
   "name": "python",
   "nbconvert_exporter": "python",
   "pygments_lexer": "ipython3",
   "version": "3.7.10"
  }
 },
 "nbformat": 4,
 "nbformat_minor": 5
}