{
 "cells": [
  {
   "cell_type": "code",
   "execution_count": 1,
   "metadata": {},
   "outputs": [
    {
     "name": "stderr",
     "output_type": "stream",
     "text": [
      "<frozen importlib._bootstrap>:228: RuntimeWarning: scipy._lib.messagestream.MessageStream size changed, may indicate binary incompatibility. Expected 56 from C header, got 64 from PyObject\n"
     ]
    }
   ],
   "source": [
    "from sklearn.metrics import confusion_matrix\n",
    "import numpy as np\n"
   ]
  },
  {
   "cell_type": "code",
   "execution_count": 9,
   "metadata": {},
   "outputs": [
    {
     "name": "stdout",
     "output_type": "stream",
     "text": [
      "[[4 0 1]\n",
      " [0 4 0]\n",
      " [1 0 3]]\n"
     ]
    }
   ],
   "source": [
    "y_true = [\"a\", \"b\", \"c\", \"a\", \"b\", \"c\", \"a\", \"b\", \"c\", \"a\", \"b\", \"c\", \"a\"]\n",
    "y_pred = [\"a\", \"b\", \"a\", \"c\", \"b\", \"c\", \"a\", \"b\", \"c\", \"a\", \"b\", \"c\", \"a\"]\n",
    "\n",
    "cm = confusion_matrix(y_true, y_pred, labels=[\"a\", \"b\", \"c\"])\n",
    "print(cm)"
   ]
  },
  {
   "cell_type": "code",
   "execution_count": 10,
   "metadata": {},
   "outputs": [
    {
     "name": "stdout",
     "output_type": "stream",
     "text": [
      "[[0.46153846 0.         0.26646936]\n",
      " [0.         0.46153846 0.        ]\n",
      " [0.26646936 0.         0.42132504]]\n"
     ]
    }
   ],
   "source": [
    "normalize_confusion_matrix = \"all\"\n",
    "\n",
    "true_marginal = np.sum(cm, axis=1)[:,None]\n",
    "pred_marginal = np.sum(cm, axis=0)[None,:]\n",
    "\n",
    "num_observations = len(y_true)\n",
    "\n",
    "true_rel_prop = true_marginal / num_observations\n",
    "pred_rel_prop = pred_marginal / num_observations\n",
    "all_rel_prop = 1\n",
    "none_rel_prop = None\n",
    "\n",
    "n_rows, n_cols = cm.shape\n",
    "\n",
    "stds = np.zeros((n_rows, n_cols))\n",
    "\n",
    "for i in range(n_rows):\n",
    "    for j in range(n_cols):\n",
    "        if normalize_confusion_matrix == 'true':\n",
    "                obs_level_array = np.zeros(true_marginal[i, 0], dtype=int)\n",
    "        elif normalize_confusion_matrix == 'pred':\n",
    "            obs_level_array = np.zeros(pred_marginal[0, j], dtype=int)\n",
    "        elif normalize_confusion_matrix == 'all':\n",
    "            obs_level_array = np.zeros(num_observations, dtype=int)\n",
    "        else:\n",
    "            obs_level_array = np.zeros(num_observations, dtype=int)\n",
    "        \n",
    "        end_index = cm[i, j]\n",
    "        obs_level_array[:end_index] = 1\n",
    "\n",
    "        stds[i, j] = np.std(obs_level_array)\n",
    "\n",
    "print(stds)\n",
    "\n",
    "\n"
   ]
  },
  {
   "cell_type": "code",
   "execution_count": 20,
   "metadata": {},
   "outputs": [
    {
     "data": {
      "text/plain": [
       "array([[0.38461538, 0.30769231, 0.30769231]])"
      ]
     },
     "execution_count": 20,
     "metadata": {},
     "output_type": "execute_result"
    }
   ],
   "source": [
    "pred_rel_prop"
   ]
  },
  {
   "cell_type": "code",
   "execution_count": 19,
   "metadata": {},
   "outputs": [
    {
     "name": "stdout",
     "output_type": "stream",
     "text": [
      "[[0.26646936 0.         0.15384615]\n",
      " [0.         0.26646936 0.        ]\n",
      " [0.15384615 0.         0.24325213]]\n"
     ]
    }
   ],
   "source": [
    "data = ['a', 'b', 'c']\n",
    "\n",
    "if normalize_confusion_matrix == 'true':\n",
    "    standard_errors = stds / np.sqrt(len(data) * true_rel_prop)\n",
    "elif normalize_confusion_matrix == 'pred':\n",
    "    standard_errors = stds / np.sqrt(len(data) * pred_rel_prop)\n",
    "elif normalize_confusion_matrix == 'all':\n",
    "    standard_errors = stds / np.sqrt(len(data) * all_rel_prop)\n",
    "else:\n",
    "    standard_errors = (stds / np.sqrt(len(data))) * len(data)\n",
    "\n",
    "print(standard_errors)"
   ]
  },
  {
   "cell_type": "code",
   "execution_count": 22,
   "metadata": {},
   "outputs": [
    {
     "data": {
      "text/plain": [
       "array([[0.16666667],\n",
       "       [0.33333333],\n",
       "       [0.5       ]])"
      ]
     },
     "execution_count": 22,
     "metadata": {},
     "output_type": "execute_result"
    }
   ],
   "source": [
    "test_denom = np.ones_like(true_rel_prop)\n",
    "# multiplu first row by 1, second row by 2, third row by 3\n",
    "test_denom = np.multiply(test_denom, np.arange(1, n_rows+1)[:, None])\n",
    "test_denom = test_denom / np.sum(test_denom)\n",
    "test_denom"
   ]
  },
  {
   "cell_type": "code",
   "execution_count": 23,
   "metadata": {},
   "outputs": [
    {
     "data": {
      "text/plain": [
       "array([[6., 6., 6.],\n",
       "       [3., 3., 3.],\n",
       "       [2., 2., 2.]])"
      ]
     },
     "execution_count": 23,
     "metadata": {},
     "output_type": "execute_result"
    }
   ],
   "source": [
    "# make an array with the same shape as cm but with all 10s\n",
    "test = np.ones((3, 3)) * 10\n",
    "test / (test_denom * 10)"
   ]
  },
  {
   "cell_type": "code",
   "execution_count": 28,
   "metadata": {},
   "outputs": [
    {
     "data": {
      "text/plain": [
       "array([[0.16666667, 0.33333333, 0.5       ]])"
      ]
     },
     "execution_count": 28,
     "metadata": {},
     "output_type": "execute_result"
    }
   ],
   "source": [
    "test_denom2 = np.ones_like(pred_rel_prop)\n",
    "# multiplu first row by 1, second row by 2, third row by 3\n",
    "test_denom2 = np.multiply(test_denom2, np.arange(1, n_cols+1)[None, :])\n",
    "test_denom2 = test_denom2 / np.sum(test_denom2)\n",
    "test_denom2"
   ]
  },
  {
   "cell_type": "code",
   "execution_count": 29,
   "metadata": {},
   "outputs": [
    {
     "data": {
      "text/plain": [
       "array([[6., 3., 2.],\n",
       "       [6., 3., 2.],\n",
       "       [6., 3., 2.]])"
      ]
     },
     "execution_count": 29,
     "metadata": {},
     "output_type": "execute_result"
    }
   ],
   "source": [
    "test / (test_denom2 * 10)"
   ]
  },
  {
   "cell_type": "code",
   "execution_count": null,
   "metadata": {},
   "outputs": [],
   "source": []
  }
 ],
 "metadata": {
  "kernelspec": {
   "display_name": "EMD",
   "language": "python",
   "name": "python3"
  },
  "language_info": {
   "codemirror_mode": {
    "name": "ipython",
    "version": 3
   },
   "file_extension": ".py",
   "mimetype": "text/x-python",
   "name": "python",
   "nbconvert_exporter": "python",
   "pygments_lexer": "ipython3",
   "version": "3.9.13"
  },
  "orig_nbformat": 4
 },
 "nbformat": 4,
 "nbformat_minor": 2
}
