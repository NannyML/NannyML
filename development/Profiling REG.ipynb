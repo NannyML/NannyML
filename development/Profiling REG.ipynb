{
 "cells": [
  {
   "cell_type": "markdown",
   "metadata": {},
   "source": [
    "# Profiling NannyML\n",
    "\n",
    "Sample Notebook to Profile NannyML library.\n",
    "\n",
    "To run this notebook jupyterlab, nannyml and pyinstrument need to be installed in your python environment."
   ]
  },
  {
   "cell_type": "code",
   "execution_count": null,
   "metadata": {},
   "outputs": [],
   "source": [
    "import pandas as pd\n",
    "import nannyml as nml\n",
    "\n",
    "from sklearn.datasets import make_regression\n",
    "from lightgbm import LGBMRegressor\n",
    "from pyinstrument import Profiler\n",
    "from math import floor"
   ]
  },
  {
   "cell_type": "code",
   "execution_count": null,
   "metadata": {},
   "outputs": [],
   "source": [
    "OUTPUT_PREFIX = \"Profiling_REG_\"\n",
    "\n",
    "# Change Values below to make the dataset bigger/smaller\n",
    "CHUNK_SIZE = 1000\n",
    "N_FEATURES = 10"
   ]
  },
  {
   "cell_type": "code",
   "execution_count": null,
   "metadata": {
    "collapsed": false,
    "gather": {
     "logged": 1716044745298
    },
    "jupyter": {
     "outputs_hidden": false,
     "source_hidden": false
    },
    "nteract": {
     "transient": {
      "deleting": false
     }
    }
   },
   "outputs": [],
   "source": [
    "print(\"creating data\")\n",
    "RANDOM_STATE = 13\n",
    "\n",
    "N_SAMPLES = CHUNK_SIZE * 25\n",
    "N_INFORMATIVE = floor(N_FEATURES*0.95)\n",
    "N_REDUNDANT = floor(N_FEATURES*0.03)\n",
    "N_REPEATED = floor(N_FEATURES*0.01)\n",
    "\n",
    "x, y = make_regression(\n",
    "    n_samples=N_SAMPLES,\n",
    "    n_features=N_FEATURES,\n",
    "    n_informative=N_INFORMATIVE,\n",
    "    random_state=RANDOM_STATE,\n",
    "    shuffle=True,\n",
    "    bias=10_000\n",
    ")\n",
    "\n",
    "features_selected = ['f'+str(el+1) for el in range(0, x.shape[1])]\n",
    "data = pd.DataFrame(x, columns=features_selected)\n",
    "data['y_true'] = y\n",
    "del x,y\n",
    "print(\"creating model\")\n",
    "cat_n = len(features_selected)//7\n",
    "for el in features_selected[-cat_n:]:\n",
    "    data[el] = pd.cut(data[el], bins=5, labels=['a', 'b', 'c', 'd', 'e'])\n",
    "\n",
    "model = LGBMRegressor(random_state=14)\n",
    "model.fit(\n",
    "    data.loc[:5*CHUNK_SIZE, features_selected],\n",
    "    data.loc[:5*CHUNK_SIZE, 'y_true']\n",
    ")\n",
    "data['y_pred'] = model.predict(data.loc[:, features_selected])\n",
    "# data.head(10)"
   ]
  },
  {
   "cell_type": "code",
   "execution_count": null,
   "metadata": {
    "collapsed": false,
    "gather": {
     "logged": 1716044871927
    },
    "jupyter": {
     "outputs_hidden": false,
     "source_hidden": false
    },
    "nteract": {
     "transient": {
      "deleting": false
     }
    }
   },
   "outputs": [],
   "source": [
    "reference = data.loc[5*CHUNK_SIZE+1:15*CHUNK_SIZE].reset_index(drop=True)\n",
    "analysis = data.loc[15*CHUNK_SIZE:].reset_index(drop=True)\n",
    "del data"
   ]
  },
  {
   "cell_type": "raw",
   "metadata": {
    "collapsed": false,
    "gather": {
     "logged": 1716044939472
    },
    "jupyter": {
     "outputs_hidden": false,
     "source_hidden": false
    },
    "nteract": {
     "transient": {
      "deleting": false
     }
    }
   },
   "source": [
    "# A small test of the dataset\n",
    "calc = nml.SummaryStatsAvgCalculator(\n",
    "    column_names=['y_true'],\n",
    "    chunk_size=CHUNK_SIZE\n",
    ")\n",
    "calc.fit(reference)\n",
    "results = calc.calculate(analysis)\n",
    "results.to_df()"
   ]
  },
  {
   "cell_type": "code",
   "execution_count": null,
   "metadata": {
    "collapsed": false,
    "gather": {
     "logged": 1716040351673
    },
    "jupyter": {
     "outputs_hidden": false,
     "source_hidden": false
    },
    "nteract": {
     "transient": {
      "deleting": false
     }
    }
   },
   "outputs": [],
   "source": [
    "profiler = Profiler()\n",
    "profiler.start()\n",
    "\n",
    "calc = nml.SummaryStatsAvgCalculator(\n",
    "    column_names=features_selected[:-cat_n],\n",
    "    chunk_size=CHUNK_SIZE\n",
    ")\n",
    "calc.fit(reference)\n",
    "results = calc.calculate(analysis)\n",
    "\n",
    "profiler.stop()\n",
    "profiler.write_html(f'{OUTPUT_PREFIX}_{CHUNK_SIZE//1000}K_STATS_AVG.html')"
   ]
  },
  {
   "cell_type": "code",
   "execution_count": null,
   "metadata": {
    "collapsed": false,
    "gather": {
     "logged": 1716040361145
    },
    "jupyter": {
     "outputs_hidden": false,
     "source_hidden": false
    },
    "nteract": {
     "transient": {
      "deleting": false
     }
    }
   },
   "outputs": [],
   "source": [
    "profiler = Profiler()\n",
    "profiler.start()\n",
    "\n",
    "estimator = nml.DLE(\n",
    "    feature_column_names=features_selected,\n",
    "    y_pred='y_pred',\n",
    "    y_true='y_true',\n",
    "    metrics=['mae',],\n",
    "    chunk_size=CHUNK_SIZE,\n",
    "    tune_hyperparameters=False\n",
    ")\n",
    "estimator.fit(reference)\n",
    "results = estimator.estimate(analysis)\n",
    "\n",
    "profiler.stop()\n",
    "profiler.write_html(f'{OUTPUT_PREFIX}_{CHUNK_SIZE//1000}K_DLE_MAE.html')"
   ]
  },
  {
   "cell_type": "code",
   "execution_count": null,
   "metadata": {
    "collapsed": false,
    "gather": {
     "logged": 1716040369886
    },
    "jupyter": {
     "outputs_hidden": false,
     "source_hidden": false
    },
    "nteract": {
     "transient": {
      "deleting": false
     }
    }
   },
   "outputs": [],
   "source": [
    "profiler = Profiler()\n",
    "profiler.start()\n",
    "\n",
    "estimator = nml.DLE(\n",
    "    feature_column_names=features_selected,\n",
    "    y_pred='y_pred',\n",
    "    y_true='y_true',\n",
    "    metrics=['mape',],\n",
    "    chunk_size=CHUNK_SIZE,\n",
    "    tune_hyperparameters=False\n",
    ")\n",
    "estimator.fit(reference)\n",
    "results = estimator.estimate(analysis)\n",
    "\n",
    "profiler.stop()\n",
    "profiler.write_html(f'{OUTPUT_PREFIX}_{CHUNK_SIZE//1000}K_DLE_MAPE.html')"
   ]
  },
  {
   "cell_type": "code",
   "execution_count": null,
   "metadata": {
    "collapsed": false,
    "gather": {
     "logged": 1716040379499
    },
    "jupyter": {
     "outputs_hidden": false,
     "source_hidden": false
    },
    "nteract": {
     "transient": {
      "deleting": false
     }
    }
   },
   "outputs": [],
   "source": [
    "profiler = Profiler()\n",
    "profiler.start()\n",
    "\n",
    "estimator = nml.DLE(\n",
    "    feature_column_names=features_selected,\n",
    "    y_pred='y_pred',\n",
    "    y_true='y_true',\n",
    "    metrics=['mse',],\n",
    "    chunk_size=CHUNK_SIZE,\n",
    "    tune_hyperparameters=False\n",
    ")\n",
    "estimator.fit(reference)\n",
    "results = estimator.estimate(analysis)\n",
    "\n",
    "profiler.stop()\n",
    "profiler.write_html(f'{OUTPUT_PREFIX}_{CHUNK_SIZE//1000}K_DLE_MSE.html')"
   ]
  },
  {
   "cell_type": "code",
   "execution_count": null,
   "metadata": {
    "collapsed": false,
    "gather": {
     "logged": 1716040389443
    },
    "jupyter": {
     "outputs_hidden": false,
     "source_hidden": false
    },
    "nteract": {
     "transient": {
      "deleting": false
     }
    }
   },
   "outputs": [],
   "source": [
    "profiler = Profiler()\n",
    "profiler.start()\n",
    "\n",
    "estimator = nml.DLE(\n",
    "    feature_column_names=features_selected,\n",
    "    y_pred='y_pred',\n",
    "    y_true='y_true',\n",
    "    metrics=['msle',],\n",
    "    chunk_size=CHUNK_SIZE,\n",
    "    tune_hyperparameters=False\n",
    ")\n",
    "estimator.fit(reference)\n",
    "results = estimator.estimate(analysis)\n",
    "\n",
    "profiler.stop()\n",
    "profiler.write_html(f'{OUTPUT_PREFIX}_{CHUNK_SIZE//1000}K_DLE_MSLE.html')"
   ]
  },
  {
   "cell_type": "code",
   "execution_count": null,
   "metadata": {
    "collapsed": false,
    "gather": {
     "logged": 1716040398616
    },
    "jupyter": {
     "outputs_hidden": false,
     "source_hidden": false
    },
    "nteract": {
     "transient": {
      "deleting": false
     }
    }
   },
   "outputs": [],
   "source": [
    "profiler = Profiler()\n",
    "profiler.start()\n",
    "\n",
    "estimator = nml.DLE(\n",
    "    feature_column_names=features_selected,\n",
    "    y_pred='y_pred',\n",
    "    y_true='y_true',\n",
    "    metrics=['rmse'],\n",
    "    chunk_size=CHUNK_SIZE,\n",
    "    tune_hyperparameters=False\n",
    ")\n",
    "estimator.fit(reference)\n",
    "results = estimator.estimate(analysis)\n",
    "\n",
    "profiler.stop()\n",
    "profiler.write_html(f'{OUTPUT_PREFIX}_{CHUNK_SIZE//1000}K_DLE_RMSE.html')"
   ]
  },
  {
   "cell_type": "code",
   "execution_count": null,
   "metadata": {
    "collapsed": false,
    "gather": {
     "logged": 1716040407901
    },
    "jupyter": {
     "outputs_hidden": false,
     "source_hidden": false
    },
    "nteract": {
     "transient": {
      "deleting": false
     }
    }
   },
   "outputs": [],
   "source": [
    "profiler = Profiler()\n",
    "profiler.start()\n",
    "\n",
    "estimator = nml.DLE(\n",
    "    feature_column_names=features_selected,\n",
    "    y_pred='y_pred',\n",
    "    y_true='y_true',\n",
    "    metrics=['rmsle'],\n",
    "    chunk_size=CHUNK_SIZE,\n",
    "    tune_hyperparameters=False\n",
    ")\n",
    "estimator.fit(reference)\n",
    "results = estimator.estimate(analysis)\n",
    "\n",
    "profiler.stop()\n",
    "profiler.write_html(f'{OUTPUT_PREFIX}_{CHUNK_SIZE//1000}K_DLE_RMLSE.html')"
   ]
  },
  {
   "cell_type": "code",
   "execution_count": null,
   "metadata": {
    "collapsed": false,
    "gather": {
     "logged": 1716040455072
    },
    "jupyter": {
     "outputs_hidden": false,
     "source_hidden": false
    },
    "nteract": {
     "transient": {
      "deleting": false
     }
    }
   },
   "outputs": [],
   "source": [
    "profiler = Profiler()\n",
    "profiler.start()\n",
    "\n",
    "estimator = nml.DLE(\n",
    "    feature_column_names=features_selected,\n",
    "    y_pred='y_pred',\n",
    "    y_true='y_true',\n",
    "    metrics=['mae', 'mape', 'mse', 'msle', 'rmse', 'rmsle'],\n",
    "    chunk_size=CHUNK_SIZE,\n",
    "    tune_hyperparameters=False\n",
    ")\n",
    "estimator.fit(reference)\n",
    "results = estimator.estimate(analysis)\n",
    "\n",
    "profiler.stop()\n",
    "profiler.write_html(f'{OUTPUT_PREFIX}_{CHUNK_SIZE//1000}K_DLE_ALL.html')"
   ]
  },
  {
   "cell_type": "code",
   "execution_count": null,
   "metadata": {
    "collapsed": false,
    "gather": {
     "logged": 1716040457886
    },
    "jupyter": {
     "outputs_hidden": false,
     "source_hidden": false
    },
    "nteract": {
     "transient": {
      "deleting": false
     }
    }
   },
   "outputs": [],
   "source": [
    "profiler = Profiler()\n",
    "profiler.start()\n",
    "\n",
    "calc = nml.PerformanceCalculator(\n",
    "    y_pred='y_pred',\n",
    "    y_true='y_true',\n",
    "    metrics=['rmsle'],\n",
    "    chunk_size=CHUNK_SIZE,\n",
    "    problem_type='regression',\n",
    ")\n",
    "calc.fit(reference)\n",
    "results = calc.calculate(analysis)\n",
    "\n",
    "profiler.stop()\n",
    "profiler.write_html(f'{OUTPUT_PREFIX}_{CHUNK_SIZE//1000}K_PERF_RMSLE.html')"
   ]
  },
  {
   "cell_type": "code",
   "execution_count": null,
   "metadata": {
    "collapsed": false,
    "gather": {
     "logged": 1716040460160
    },
    "jupyter": {
     "outputs_hidden": false,
     "source_hidden": false
    },
    "nteract": {
     "transient": {
      "deleting": false
     }
    }
   },
   "outputs": [],
   "source": [
    "profiler = Profiler()\n",
    "profiler.start()\n",
    "\n",
    "calc = nml.PerformanceCalculator(\n",
    "    y_pred='y_pred',\n",
    "    y_true='y_true',\n",
    "    metrics=['rmse',],\n",
    "    chunk_size=CHUNK_SIZE,\n",
    "    problem_type='regression',\n",
    ")\n",
    "calc.fit(reference)\n",
    "results = calc.calculate(analysis)\n",
    "\n",
    "profiler.stop()\n",
    "profiler.write_html(f'{OUTPUT_PREFIX}_{CHUNK_SIZE//1000}K_PERF_RMSE.html')"
   ]
  },
  {
   "cell_type": "code",
   "execution_count": null,
   "metadata": {
    "collapsed": false,
    "gather": {
     "logged": 1716040462955
    },
    "jupyter": {
     "outputs_hidden": false,
     "source_hidden": false
    },
    "nteract": {
     "transient": {
      "deleting": false
     }
    }
   },
   "outputs": [],
   "source": [
    "profiler = Profiler()\n",
    "profiler.start()\n",
    "\n",
    "calc = nml.PerformanceCalculator(\n",
    "    y_pred='y_pred',\n",
    "    y_true='y_true',\n",
    "    metrics=['msle',],\n",
    "    chunk_size=CHUNK_SIZE,\n",
    "    problem_type='regression',\n",
    ")\n",
    "calc.fit(reference)\n",
    "results = calc.calculate(analysis)\n",
    "\n",
    "profiler.stop()\n",
    "profiler.write_html(f'{OUTPUT_PREFIX}_{CHUNK_SIZE//1000}K_PERF_MSLE.html')"
   ]
  },
  {
   "cell_type": "code",
   "execution_count": null,
   "metadata": {
    "collapsed": false,
    "gather": {
     "logged": 1716040465224
    },
    "jupyter": {
     "outputs_hidden": false,
     "source_hidden": false
    },
    "nteract": {
     "transient": {
      "deleting": false
     }
    }
   },
   "outputs": [],
   "source": [
    "profiler = Profiler()\n",
    "profiler.start()\n",
    "\n",
    "calc = nml.PerformanceCalculator(\n",
    "    y_pred='y_pred',\n",
    "    y_true='y_true',\n",
    "    metrics=['mse',],\n",
    "    chunk_size=CHUNK_SIZE,\n",
    "    problem_type='regression',\n",
    ")\n",
    "calc.fit(reference)\n",
    "results = calc.calculate(analysis)\n",
    "\n",
    "profiler.stop()\n",
    "profiler.write_html(f'{OUTPUT_PREFIX}_{CHUNK_SIZE//1000}K_PERF_MSE.html')"
   ]
  },
  {
   "cell_type": "code",
   "execution_count": null,
   "metadata": {
    "collapsed": false,
    "gather": {
     "logged": 1716040467555
    },
    "jupyter": {
     "outputs_hidden": false,
     "source_hidden": false
    },
    "nteract": {
     "transient": {
      "deleting": false
     }
    }
   },
   "outputs": [],
   "source": [
    "profiler = Profiler()\n",
    "profiler.start()\n",
    "\n",
    "calc = nml.PerformanceCalculator(\n",
    "    y_pred='y_pred',\n",
    "    y_true='y_true',\n",
    "    metrics=['mape',],\n",
    "    chunk_size=CHUNK_SIZE,\n",
    "    problem_type='regression',\n",
    ")\n",
    "calc.fit(reference)\n",
    "results = calc.calculate(analysis)\n",
    "\n",
    "profiler.stop()\n",
    "profiler.write_html(f'{OUTPUT_PREFIX}_{CHUNK_SIZE//1000}K_PERF_MAPE.html')"
   ]
  },
  {
   "cell_type": "code",
   "execution_count": null,
   "metadata": {
    "collapsed": false,
    "gather": {
     "logged": 1716040469946
    },
    "jupyter": {
     "outputs_hidden": false,
     "source_hidden": false
    },
    "nteract": {
     "transient": {
      "deleting": false
     }
    }
   },
   "outputs": [],
   "source": [
    "profiler = Profiler()\n",
    "profiler.start()\n",
    "\n",
    "calc = nml.PerformanceCalculator(\n",
    "    y_pred='y_pred',\n",
    "    y_true='y_true',\n",
    "    metrics=['mae',],\n",
    "    chunk_size=CHUNK_SIZE,\n",
    "    problem_type='regression',\n",
    ")\n",
    "calc.fit(reference)\n",
    "results = calc.calculate(analysis)\n",
    "\n",
    "profiler.stop()\n",
    "profiler.write_html(f'{OUTPUT_PREFIX}_{CHUNK_SIZE//1000}K_PERF_MAE.html')"
   ]
  },
  {
   "cell_type": "code",
   "execution_count": null,
   "metadata": {
    "collapsed": false,
    "gather": {
     "logged": 1716040478351
    },
    "jupyter": {
     "outputs_hidden": false,
     "source_hidden": false
    },
    "nteract": {
     "transient": {
      "deleting": false
     }
    }
   },
   "outputs": [],
   "source": [
    "profiler = Profiler()\n",
    "profiler.start()\n",
    "\n",
    "calc = nml.PerformanceCalculator(\n",
    "    y_pred='y_pred',\n",
    "    y_true='y_true',\n",
    "    metrics=['mae', 'mape', 'mse', 'msle', 'rmse', 'rmsle'],\n",
    "    chunk_size=CHUNK_SIZE,\n",
    "    problem_type='regression',\n",
    ")\n",
    "calc.fit(reference)\n",
    "results = calc.calculate(analysis)\n",
    "\n",
    "profiler.stop()\n",
    "profiler.write_html(f'{OUTPUT_PREFIX}_{CHUNK_SIZE//1000}K_PERF_ALL.html')"
   ]
  },
  {
   "cell_type": "code",
   "execution_count": null,
   "metadata": {
    "collapsed": false,
    "jupyter": {
     "outputs_hidden": false,
     "source_hidden": false
    },
    "nteract": {
     "transient": {
      "deleting": false
     }
    }
   },
   "outputs": [],
   "source": []
  }
 ],
 "metadata": {
  "kernel_info": {
   "name": "python310-sdkv2"
  },
  "kernelspec": {
   "display_name": "Python 3 (ipykernel)",
   "language": "python",
   "name": "python3"
  },
  "language_info": {
   "codemirror_mode": {
    "name": "ipython",
    "version": 3
   },
   "file_extension": ".py",
   "mimetype": "text/x-python",
   "name": "python",
   "nbconvert_exporter": "python",
   "pygments_lexer": "ipython3",
   "version": "3.11.9"
  },
  "microsoft": {
   "host": {
    "AzureML": {
     "notebookHasBeenCompleted": true
    }
   },
   "ms_spell_check": {
    "ms_spell_check_language": "en"
   }
  },
  "nteract": {
   "version": "nteract-front-end@1.0.0"
  }
 },
 "nbformat": 4,
 "nbformat_minor": 4
}
