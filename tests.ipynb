{
 "cells": [
  {
   "cell_type": "code",
   "execution_count": 2,
   "metadata": {},
   "outputs": [],
   "source": [
    "import nannyml as nml\n",
    "import numpy as np\n",
    "import pandas as pd"
   ]
  },
  {
   "cell_type": "code",
   "execution_count": 4,
   "metadata": {},
   "outputs": [],
   "source": [
    "ref_df, ana_df, tgt_df = nml.load_synthetic_multiclass_classification_dataset()"
   ]
  },
  {
   "cell_type": "code",
   "execution_count": 8,
   "metadata": {},
   "outputs": [],
   "source": [
    "performance_calculator = nml.PerformanceCalculator(\n",
    "        y_pred_proba={\n",
    "            'prepaid_card': 'y_pred_proba_prepaid_card',\n",
    "            'highstreet_card': 'y_pred_proba_highstreet_card',\n",
    "            'upmarket_card': 'y_pred_proba_upmarket_card',\n",
    "        },\n",
    "        y_pred='y_pred',\n",
    "        y_true='y_true',\n",
    "        metrics=['roc_auc', 'f1', 'precision', 'recall', 'specificity', 'accuracy', 'confusion_matrix'],\n",
    "        problem_type='classification_multiclass',\n",
    "    )"
   ]
  },
  {
   "cell_type": "code",
   "execution_count": 9,
   "metadata": {},
   "outputs": [
    {
     "data": {
      "text/plain": [
       "<nannyml.performance_calculation.calculator.PerformanceCalculator at 0x19c663340>"
      ]
     },
     "execution_count": 9,
     "metadata": {},
     "output_type": "execute_result"
    }
   ],
   "source": [
    "performance_calculator.fit(ref_df)"
   ]
  },
  {
   "cell_type": "code",
   "execution_count": 13,
   "metadata": {},
   "outputs": [],
   "source": [
    "results = performance_calculator.calculate(ana_df.merge(tgt_df, left_index=True, right_index=True))"
   ]
  },
  {
   "cell_type": "code",
   "execution_count": 20,
   "metadata": {},
   "outputs": [],
   "source": [
    "rd = results.filter(period='analysis').to_df()"
   ]
  },
  {
   "cell_type": "code",
   "execution_count": 21,
   "metadata": {},
   "outputs": [
    {
     "data": {
      "text/plain": [
       "MultiIndex([(                                    'chunk', ...),\n",
       "            (                                    'chunk', ...),\n",
       "            (                                    'chunk', ...),\n",
       "            (                                    'chunk', ...),\n",
       "            (                                    'chunk', ...),\n",
       "            (                                    'chunk', ...),\n",
       "            (                                    'chunk', ...),\n",
       "            (                                    'chunk', ...),\n",
       "            (                                  'roc_auc', ...),\n",
       "            (                                  'roc_auc', ...),\n",
       "            (                                  'roc_auc', ...),\n",
       "            (                                  'roc_auc', ...),\n",
       "            (                                  'roc_auc', ...),\n",
       "            (                                       'f1', ...),\n",
       "            (                                       'f1', ...),\n",
       "            (                                       'f1', ...),\n",
       "            (                                       'f1', ...),\n",
       "            (                                       'f1', ...),\n",
       "            (                                'precision', ...),\n",
       "            (                                'precision', ...),\n",
       "            (                                'precision', ...),\n",
       "            (                                'precision', ...),\n",
       "            (                                'precision', ...),\n",
       "            (                                   'recall', ...),\n",
       "            (                                   'recall', ...),\n",
       "            (                                   'recall', ...),\n",
       "            (                                   'recall', ...),\n",
       "            (                                   'recall', ...),\n",
       "            (                              'specificity', ...),\n",
       "            (                              'specificity', ...),\n",
       "            (                              'specificity', ...),\n",
       "            (                              'specificity', ...),\n",
       "            (                              'specificity', ...),\n",
       "            (                                 'accuracy', ...),\n",
       "            (                                 'accuracy', ...),\n",
       "            (                                 'accuracy', ...),\n",
       "            (                                 'accuracy', ...),\n",
       "            (                                 'accuracy', ...),\n",
       "            ('true_highstreet_card_pred_highstreet_card', ...),\n",
       "            ('true_highstreet_card_pred_highstreet_card', ...),\n",
       "            ('true_highstreet_card_pred_highstreet_card', ...),\n",
       "            ('true_highstreet_card_pred_highstreet_card', ...),\n",
       "            ('true_highstreet_card_pred_highstreet_card', ...),\n",
       "            (   'true_highstreet_card_pred_prepaid_card', ...),\n",
       "            (   'true_highstreet_card_pred_prepaid_card', ...),\n",
       "            (   'true_highstreet_card_pred_prepaid_card', ...),\n",
       "            (   'true_highstreet_card_pred_prepaid_card', ...),\n",
       "            (   'true_highstreet_card_pred_prepaid_card', ...),\n",
       "            (  'true_highstreet_card_pred_upmarket_card', ...),\n",
       "            (  'true_highstreet_card_pred_upmarket_card', ...),\n",
       "            (  'true_highstreet_card_pred_upmarket_card', ...),\n",
       "            (  'true_highstreet_card_pred_upmarket_card', ...),\n",
       "            (  'true_highstreet_card_pred_upmarket_card', ...),\n",
       "            (   'true_prepaid_card_pred_highstreet_card', ...),\n",
       "            (   'true_prepaid_card_pred_highstreet_card', ...),\n",
       "            (   'true_prepaid_card_pred_highstreet_card', ...),\n",
       "            (   'true_prepaid_card_pred_highstreet_card', ...),\n",
       "            (   'true_prepaid_card_pred_highstreet_card', ...),\n",
       "            (      'true_prepaid_card_pred_prepaid_card', ...),\n",
       "            (      'true_prepaid_card_pred_prepaid_card', ...),\n",
       "            (      'true_prepaid_card_pred_prepaid_card', ...),\n",
       "            (      'true_prepaid_card_pred_prepaid_card', ...),\n",
       "            (      'true_prepaid_card_pred_prepaid_card', ...),\n",
       "            (     'true_prepaid_card_pred_upmarket_card', ...),\n",
       "            (     'true_prepaid_card_pred_upmarket_card', ...),\n",
       "            (     'true_prepaid_card_pred_upmarket_card', ...),\n",
       "            (     'true_prepaid_card_pred_upmarket_card', ...),\n",
       "            (     'true_prepaid_card_pred_upmarket_card', ...),\n",
       "            (  'true_upmarket_card_pred_highstreet_card', ...),\n",
       "            (  'true_upmarket_card_pred_highstreet_card', ...),\n",
       "            (  'true_upmarket_card_pred_highstreet_card', ...),\n",
       "            (  'true_upmarket_card_pred_highstreet_card', ...),\n",
       "            (  'true_upmarket_card_pred_highstreet_card', ...),\n",
       "            (     'true_upmarket_card_pred_prepaid_card', ...),\n",
       "            (     'true_upmarket_card_pred_prepaid_card', ...),\n",
       "            (     'true_upmarket_card_pred_prepaid_card', ...),\n",
       "            (     'true_upmarket_card_pred_prepaid_card', ...),\n",
       "            (     'true_upmarket_card_pred_prepaid_card', ...),\n",
       "            (    'true_upmarket_card_pred_upmarket_card', ...),\n",
       "            (    'true_upmarket_card_pred_upmarket_card', ...),\n",
       "            (    'true_upmarket_card_pred_upmarket_card', ...),\n",
       "            (    'true_upmarket_card_pred_upmarket_card', ...),\n",
       "            (    'true_upmarket_card_pred_upmarket_card', ...)],\n",
       "           )"
      ]
     },
     "execution_count": 21,
     "metadata": {},
     "output_type": "execute_result"
    }
   ],
   "source": [
    "rd.columns"
   ]
  },
  {
   "cell_type": "code",
   "execution_count": 35,
   "metadata": {},
   "outputs": [
    {
     "name": "stdout",
     "output_type": "stream",
     "text": [
      "[0.7511029725567399, 0.763045484661255, 0.7584871119660588, 0.7589438350894463, 0.7579637647538195, 0.5571123937358071, 0.5591478583434738, 0.5650552384148319, 0.5638970959051086, 0.5616437963495821]\n"
     ]
    }
   ],
   "source": [
    "print(rd['f1']['value'].values.tolist())"
   ]
  },
  {
   "cell_type": "code",
   "execution_count": 38,
   "metadata": {},
   "outputs": [
    {
     "name": "stdout",
     "output_type": "stream",
     "text": [
      "('true_upmarket_card_pred_upmarket_card', [1490, 1524, 1544, 1528, 1567, 1165, 1120, 1147, 1166, 1173]),\n",
      "('true_upmarket_card_pred_prepaid_card', [245, 234, 224, 201, 229, 372, 382, 382, 377, 371]),\n",
      "('true_upmarket_card_pred_highstreet_card', [245, 252, 251, 262, 242, 525, 508, 535, 513, 513]),\n",
      "('true_prepaid_card_pred_upmarket_card', [204, 201, 200, 246, 194, 448, 419, 416, 440, 436]),\n",
      "('true_prepaid_card_pred_prepaid_card', [1560, 1518, 1557, 1577, 1493, 878, 908, 875, 888, 869]),\n",
      "('true_prepaid_card_pred_highstreet_card', [274, 237, 264, 237, 270, 539, 595, 550, 539, 568]),\n",
      "('true_highstreet_card_pred_upmarket_card', [250, 237, 259, 251, 277, 330, 318, 302, 312, 326]),\n",
      "('true_highstreet_card_pred_prepaid_card', [275, 261, 250, 248, 240, 421, 404, 396, 412, 390]),\n",
      "('true_highstreet_card_pred_highstreet_card', [1457, 1536, 1451, 1450, 1488, 1322, 1346, 1397, 1353, 1354]),\n"
     ]
    }
   ],
   "source": [
    "print(f\"('true_upmarket_card_pred_upmarket_card', {rd['true_upmarket_card_pred_upmarket_card']['value'].values.tolist()}),\")\n",
    "print(f\"('true_upmarket_card_pred_prepaid_card', {rd['true_upmarket_card_pred_prepaid_card']['value'].values.tolist()}),\")\n",
    "print(f\"('true_upmarket_card_pred_highstreet_card', {rd['true_upmarket_card_pred_highstreet_card']['value'].values.tolist()}),\")\n",
    "print(f\"('true_prepaid_card_pred_upmarket_card', {rd['true_prepaid_card_pred_upmarket_card']['value'].values.tolist()}),\")\n",
    "print(f\"('true_prepaid_card_pred_prepaid_card', {rd['true_prepaid_card_pred_prepaid_card']['value'].values.tolist()}),\")\n",
    "print(f\"('true_prepaid_card_pred_highstreet_card', {rd['true_prepaid_card_pred_highstreet_card']['value'].values.tolist()}),\")\n",
    "print(f\"('true_highstreet_card_pred_upmarket_card', {rd['true_highstreet_card_pred_upmarket_card']['value'].values.tolist()}),\")\n",
    "print(f\"('true_highstreet_card_pred_prepaid_card', {rd['true_highstreet_card_pred_prepaid_card']['value'].values.tolist()}),\")\n",
    "print(f\"('true_highstreet_card_pred_highstreet_card', {rd['true_highstreet_card_pred_highstreet_card']['value'].values.tolist()}),\")"
   ]
  },
  {
   "cell_type": "code",
   "execution_count": null,
   "metadata": {},
   "outputs": [],
   "source": []
  }
 ],
 "metadata": {
  "kernelspec": {
   "display_name": "EMD",
   "language": "python",
   "name": "python3"
  },
  "language_info": {
   "codemirror_mode": {
    "name": "ipython",
    "version": 3
   },
   "file_extension": ".py",
   "mimetype": "text/x-python",
   "name": "python",
   "nbconvert_exporter": "python",
   "pygments_lexer": "ipython3",
   "version": "3.9.13"
  },
  "orig_nbformat": 4
 },
 "nbformat": 4,
 "nbformat_minor": 2
}
