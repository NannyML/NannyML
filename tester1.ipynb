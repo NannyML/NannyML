{
 "cells": [
  {
   "cell_type": "code",
   "execution_count": 2,
   "metadata": {},
   "outputs": [
    {
     "name": "stderr",
     "output_type": "stream",
     "text": [
      "<frozen importlib._bootstrap>:228: RuntimeWarning: scipy._lib.messagestream.MessageStream size changed, may indicate binary incompatibility. Expected 56 from C header, got 64 from PyObject\n"
     ]
    }
   ],
   "source": [
    "import nannyml as nml\n",
    "import pandas as pd\n",
    "from sklearn.metrics import confusion_matrix"
   ]
  },
  {
   "cell_type": "code",
   "execution_count": 3,
   "metadata": {},
   "outputs": [],
   "source": [
    "# display max rows and columns\n",
    "pd.set_option('display.max_rows', 1000)\n",
    "pd.set_option('display.max_columns', 1000)"
   ]
  },
  {
   "cell_type": "code",
   "execution_count": 4,
   "metadata": {},
   "outputs": [],
   "source": [
    "reference_df, analysis_df, analysis_target_df = nml.load_synthetic_car_loan_dataset()\n",
    "analysis_df = analysis_df.merge(analysis_target_df, left_index=True, right_index=True)"
   ]
  },
  {
   "cell_type": "code",
   "execution_count": 5,
   "metadata": {},
   "outputs": [
    {
     "ename": "AttributeError",
     "evalue": "value",
     "output_type": "error",
     "traceback": [
      "\u001b[0;31m---------------------------------------------------------------------------\u001b[0m",
      "\u001b[0;31mAttributeError\u001b[0m                            Traceback (most recent call last)",
      "\u001b[0;32m/var/folders/kj/jqr6r99s1p945h2yplyzrglr0000gn/T/ipykernel_45623/240644373.py\u001b[0m in \u001b[0;36m<cell line: 1>\u001b[0;34m()\u001b[0m\n\u001b[0;32m----> 1\u001b[0;31m calc = nml.PerformanceCalculator(\n\u001b[0m\u001b[1;32m      2\u001b[0m     \u001b[0;31m#y_pred_proba='y_pred_proba',\u001b[0m\u001b[0;34m\u001b[0m\u001b[0;34m\u001b[0m\u001b[0m\n\u001b[1;32m      3\u001b[0m     \u001b[0my_pred\u001b[0m\u001b[0;34m=\u001b[0m\u001b[0;34m'y_pred'\u001b[0m\u001b[0;34m,\u001b[0m\u001b[0;34m\u001b[0m\u001b[0;34m\u001b[0m\u001b[0m\n\u001b[1;32m      4\u001b[0m     \u001b[0my_true\u001b[0m\u001b[0;34m=\u001b[0m\u001b[0;34m'repaid'\u001b[0m\u001b[0;34m,\u001b[0m\u001b[0;34m\u001b[0m\u001b[0;34m\u001b[0m\u001b[0m\n\u001b[1;32m      5\u001b[0m     \u001b[0mtimestamp_column_name\u001b[0m\u001b[0;34m=\u001b[0m\u001b[0;34m'timestamp'\u001b[0m\u001b[0;34m,\u001b[0m\u001b[0;34m\u001b[0m\u001b[0;34m\u001b[0m\u001b[0m\n",
      "\u001b[0;32m~/NannyMLdev/nannyml/nannyml/performance_calculation/calculator.py\u001b[0m in \u001b[0;36m__init__\u001b[0;34m(self, metrics, y_true, y_pred, problem_type, y_pred_proba, timestamp_column_name, chunk_size, chunk_number, chunk_period, chunker, normalize_confusion_matrix, business_value_matrix, normalize_business_value)\u001b[0m\n\u001b[1;32m    141\u001b[0m \u001b[0;34m\u001b[0m\u001b[0m\n\u001b[1;32m    142\u001b[0m         \u001b[0;32mif\u001b[0m \u001b[0mself\u001b[0m\u001b[0;34m.\u001b[0m\u001b[0mproblem_type\u001b[0m \u001b[0;32mis\u001b[0m \u001b[0;32mnot\u001b[0m \u001b[0mProblemType\u001b[0m\u001b[0;34m.\u001b[0m\u001b[0mREGRESSION\u001b[0m \u001b[0;32mand\u001b[0m \u001b[0my_pred_proba\u001b[0m \u001b[0;32mis\u001b[0m \u001b[0;32mNone\u001b[0m\u001b[0;34m:\u001b[0m\u001b[0;34m\u001b[0m\u001b[0;34m\u001b[0m\u001b[0m\n\u001b[0;32m--> 143\u001b[0;31m             \u001b[0;32mraise\u001b[0m \u001b[0mInvalidArgumentsException\u001b[0m\u001b[0;34m(\u001b[0m\u001b[0;34mf\"'y_pred_proba' can not be 'None' for problem type {ProblemType.value}\"\u001b[0m\u001b[0;34m)\u001b[0m\u001b[0;34m\u001b[0m\u001b[0;34m\u001b[0m\u001b[0m\n\u001b[0m\u001b[1;32m    144\u001b[0m \u001b[0;34m\u001b[0m\u001b[0m\n\u001b[1;32m    145\u001b[0m         \u001b[0;32mif\u001b[0m \u001b[0misinstance\u001b[0m\u001b[0;34m(\u001b[0m\u001b[0mmetrics\u001b[0m\u001b[0;34m,\u001b[0m \u001b[0mstr\u001b[0m\u001b[0;34m)\u001b[0m\u001b[0;34m:\u001b[0m\u001b[0;34m\u001b[0m\u001b[0;34m\u001b[0m\u001b[0m\n",
      "\u001b[0;32m~/opt/anaconda3/envs/EMD/lib/python3.9/enum.py\u001b[0m in \u001b[0;36m__getattr__\u001b[0;34m(cls, name)\u001b[0m\n\u001b[1;32m    427\u001b[0m             \u001b[0;32mreturn\u001b[0m \u001b[0mcls\u001b[0m\u001b[0;34m.\u001b[0m\u001b[0m_member_map_\u001b[0m\u001b[0;34m[\u001b[0m\u001b[0mname\u001b[0m\u001b[0;34m]\u001b[0m\u001b[0;34m\u001b[0m\u001b[0;34m\u001b[0m\u001b[0m\n\u001b[1;32m    428\u001b[0m         \u001b[0;32mexcept\u001b[0m \u001b[0mKeyError\u001b[0m\u001b[0;34m:\u001b[0m\u001b[0;34m\u001b[0m\u001b[0;34m\u001b[0m\u001b[0m\n\u001b[0;32m--> 429\u001b[0;31m             \u001b[0;32mraise\u001b[0m \u001b[0mAttributeError\u001b[0m\u001b[0;34m(\u001b[0m\u001b[0mname\u001b[0m\u001b[0;34m)\u001b[0m \u001b[0;32mfrom\u001b[0m \u001b[0;32mNone\u001b[0m\u001b[0;34m\u001b[0m\u001b[0;34m\u001b[0m\u001b[0m\n\u001b[0m\u001b[1;32m    430\u001b[0m \u001b[0;34m\u001b[0m\u001b[0m\n\u001b[1;32m    431\u001b[0m     \u001b[0;32mdef\u001b[0m \u001b[0m__getitem__\u001b[0m\u001b[0;34m(\u001b[0m\u001b[0mcls\u001b[0m\u001b[0;34m,\u001b[0m \u001b[0mname\u001b[0m\u001b[0;34m)\u001b[0m\u001b[0;34m:\u001b[0m\u001b[0;34m\u001b[0m\u001b[0;34m\u001b[0m\u001b[0m\n",
      "\u001b[0;31mAttributeError\u001b[0m: value"
     ]
    }
   ],
   "source": [
    "calc = nml.PerformanceCalculator(\n",
    "    #y_pred_proba='y_pred_proba',\n",
    "    y_pred='y_pred',\n",
    "    y_true='repaid',\n",
    "    timestamp_column_name='timestamp',\n",
    "    problem_type='classification_binary',\n",
    "    metrics=['business_value', 'f1', 'roc_auc'],\n",
    "    # metrics=['confusion_matrix', 'business_value'],\n",
    "    # metrics=[],\n",
    "    business_value_matrix=[[2, -4], [-10, 10]],\n",
    "    normalize_confusion_matrix='all',\n",
    "    normalize_business_value=None,\n",
    "    chunk_size=5000)"
   ]
  },
  {
   "cell_type": "code",
   "execution_count": 15,
   "metadata": {},
   "outputs": [
    {
     "data": {
      "text/plain": [
       "<nannyml.performance_calculation.calculator.PerformanceCalculator at 0x19938b190>"
      ]
     },
     "execution_count": 15,
     "metadata": {},
     "output_type": "execute_result"
    }
   ],
   "source": [
    "calc.fit(reference_df)"
   ]
  },
  {
   "cell_type": "code",
   "execution_count": 16,
   "metadata": {},
   "outputs": [],
   "source": [
    "results = calc.calculate(analysis_df)\n",
    "\n"
   ]
  },
  {
   "cell_type": "code",
   "execution_count": 17,
   "metadata": {},
   "outputs": [
    {
     "data": {
      "text/html": [
       "<div>\n",
       "<style scoped>\n",
       "    .dataframe tbody tr th:only-of-type {\n",
       "        vertical-align: middle;\n",
       "    }\n",
       "\n",
       "    .dataframe tbody tr th {\n",
       "        vertical-align: top;\n",
       "    }\n",
       "\n",
       "    .dataframe thead tr th {\n",
       "        text-align: left;\n",
       "    }\n",
       "</style>\n",
       "<table border=\"1\" class=\"dataframe\">\n",
       "  <thead>\n",
       "    <tr>\n",
       "      <th></th>\n",
       "      <th colspan=\"8\" halign=\"left\">chunk</th>\n",
       "      <th colspan=\"5\" halign=\"left\">business_value</th>\n",
       "      <th colspan=\"5\" halign=\"left\">f1</th>\n",
       "      <th colspan=\"5\" halign=\"left\">roc_auc</th>\n",
       "    </tr>\n",
       "    <tr>\n",
       "      <th></th>\n",
       "      <th>key</th>\n",
       "      <th>chunk_index</th>\n",
       "      <th>start_index</th>\n",
       "      <th>end_index</th>\n",
       "      <th>start_date</th>\n",
       "      <th>end_date</th>\n",
       "      <th>period</th>\n",
       "      <th>targets_missing_rate</th>\n",
       "      <th>sampling_error</th>\n",
       "      <th>value</th>\n",
       "      <th>upper_threshold</th>\n",
       "      <th>lower_threshold</th>\n",
       "      <th>alert</th>\n",
       "      <th>sampling_error</th>\n",
       "      <th>value</th>\n",
       "      <th>upper_threshold</th>\n",
       "      <th>lower_threshold</th>\n",
       "      <th>alert</th>\n",
       "      <th>sampling_error</th>\n",
       "      <th>value</th>\n",
       "      <th>upper_threshold</th>\n",
       "      <th>lower_threshold</th>\n",
       "      <th>alert</th>\n",
       "    </tr>\n",
       "  </thead>\n",
       "  <tbody>\n",
       "    <tr>\n",
       "      <th>0</th>\n",
       "      <td>[0:4999]</td>\n",
       "      <td>0</td>\n",
       "      <td>0</td>\n",
       "      <td>4999</td>\n",
       "      <td>2018-01-01 00:00:00</td>\n",
       "      <td>2018-01-31 06:27:16.848</td>\n",
       "      <td>reference</td>\n",
       "      <td>0.0</td>\n",
       "      <td>357.499456</td>\n",
       "      <td>25726</td>\n",
       "      <td>26587.856246</td>\n",
       "      <td>25035.343754</td>\n",
       "      <td>False</td>\n",
       "      <td>0.00644</td>\n",
       "      <td>0.944707</td>\n",
       "      <td>0.95085</td>\n",
       "      <td>0.93466</td>\n",
       "      <td>False</td>\n",
       "      <td>0.001811</td>\n",
       "      <td>0.976253</td>\n",
       "      <td>0.97866</td>\n",
       "      <td>0.963317</td>\n",
       "      <td>False</td>\n",
       "    </tr>\n",
       "    <tr>\n",
       "      <th>1</th>\n",
       "      <td>[5000:9999]</td>\n",
       "      <td>1</td>\n",
       "      <td>5000</td>\n",
       "      <td>9999</td>\n",
       "      <td>2018-01-31 06:36:00</td>\n",
       "      <td>2018-03-02 13:03:16.848</td>\n",
       "      <td>reference</td>\n",
       "      <td>0.0</td>\n",
       "      <td>357.499456</td>\n",
       "      <td>25242</td>\n",
       "      <td>26587.856246</td>\n",
       "      <td>25035.343754</td>\n",
       "      <td>False</td>\n",
       "      <td>0.00644</td>\n",
       "      <td>0.937564</td>\n",
       "      <td>0.95085</td>\n",
       "      <td>0.93466</td>\n",
       "      <td>False</td>\n",
       "      <td>0.001811</td>\n",
       "      <td>0.969045</td>\n",
       "      <td>0.97866</td>\n",
       "      <td>0.963317</td>\n",
       "      <td>False</td>\n",
       "    </tr>\n",
       "    <tr>\n",
       "      <th>2</th>\n",
       "      <td>[10000:14999]</td>\n",
       "      <td>2</td>\n",
       "      <td>10000</td>\n",
       "      <td>14999</td>\n",
       "      <td>2018-03-02 13:12:00</td>\n",
       "      <td>2018-04-01 19:39:16.848</td>\n",
       "      <td>reference</td>\n",
       "      <td>0.0</td>\n",
       "      <td>357.499456</td>\n",
       "      <td>26206</td>\n",
       "      <td>26587.856246</td>\n",
       "      <td>25035.343754</td>\n",
       "      <td>False</td>\n",
       "      <td>0.00644</td>\n",
       "      <td>0.945973</td>\n",
       "      <td>0.95085</td>\n",
       "      <td>0.93466</td>\n",
       "      <td>False</td>\n",
       "      <td>0.001811</td>\n",
       "      <td>0.971742</td>\n",
       "      <td>0.97866</td>\n",
       "      <td>0.963317</td>\n",
       "      <td>False</td>\n",
       "    </tr>\n",
       "    <tr>\n",
       "      <th>3</th>\n",
       "      <td>[15000:19999]</td>\n",
       "      <td>3</td>\n",
       "      <td>15000</td>\n",
       "      <td>19999</td>\n",
       "      <td>2018-04-01 19:48:00</td>\n",
       "      <td>2018-05-02 02:15:16.848</td>\n",
       "      <td>reference</td>\n",
       "      <td>0.0</td>\n",
       "      <td>357.499456</td>\n",
       "      <td>25776</td>\n",
       "      <td>26587.856246</td>\n",
       "      <td>25035.343754</td>\n",
       "      <td>False</td>\n",
       "      <td>0.00644</td>\n",
       "      <td>0.943212</td>\n",
       "      <td>0.95085</td>\n",
       "      <td>0.93466</td>\n",
       "      <td>False</td>\n",
       "      <td>0.001811</td>\n",
       "      <td>0.971642</td>\n",
       "      <td>0.97866</td>\n",
       "      <td>0.963317</td>\n",
       "      <td>False</td>\n",
       "    </tr>\n",
       "    <tr>\n",
       "      <th>4</th>\n",
       "      <td>[20000:24999]</td>\n",
       "      <td>4</td>\n",
       "      <td>20000</td>\n",
       "      <td>24999</td>\n",
       "      <td>2018-05-02 02:24:00</td>\n",
       "      <td>2018-06-01 08:51:16.848</td>\n",
       "      <td>reference</td>\n",
       "      <td>0.0</td>\n",
       "      <td>357.499456</td>\n",
       "      <td>25648</td>\n",
       "      <td>26587.856246</td>\n",
       "      <td>25035.343754</td>\n",
       "      <td>False</td>\n",
       "      <td>0.00644</td>\n",
       "      <td>0.937989</td>\n",
       "      <td>0.95085</td>\n",
       "      <td>0.93466</td>\n",
       "      <td>False</td>\n",
       "      <td>0.001811</td>\n",
       "      <td>0.969085</td>\n",
       "      <td>0.97866</td>\n",
       "      <td>0.963317</td>\n",
       "      <td>False</td>\n",
       "    </tr>\n",
       "    <tr>\n",
       "      <th>5</th>\n",
       "      <td>[25000:29999]</td>\n",
       "      <td>5</td>\n",
       "      <td>25000</td>\n",
       "      <td>29999</td>\n",
       "      <td>2018-06-01 09:00:00</td>\n",
       "      <td>2018-07-01 15:27:16.848</td>\n",
       "      <td>reference</td>\n",
       "      <td>0.0</td>\n",
       "      <td>357.499456</td>\n",
       "      <td>25650</td>\n",
       "      <td>26587.856246</td>\n",
       "      <td>25035.343754</td>\n",
       "      <td>False</td>\n",
       "      <td>0.00644</td>\n",
       "      <td>0.942581</td>\n",
       "      <td>0.95085</td>\n",
       "      <td>0.93466</td>\n",
       "      <td>False</td>\n",
       "      <td>0.001811</td>\n",
       "      <td>0.967364</td>\n",
       "      <td>0.97866</td>\n",
       "      <td>0.963317</td>\n",
       "      <td>False</td>\n",
       "    </tr>\n",
       "    <tr>\n",
       "      <th>6</th>\n",
       "      <td>[30000:34999]</td>\n",
       "      <td>6</td>\n",
       "      <td>30000</td>\n",
       "      <td>34999</td>\n",
       "      <td>2018-07-01 15:36:00</td>\n",
       "      <td>2018-07-31 22:03:16.848</td>\n",
       "      <td>reference</td>\n",
       "      <td>0.0</td>\n",
       "      <td>357.499456</td>\n",
       "      <td>25910</td>\n",
       "      <td>26587.856246</td>\n",
       "      <td>25035.343754</td>\n",
       "      <td>False</td>\n",
       "      <td>0.00644</td>\n",
       "      <td>0.944140</td>\n",
       "      <td>0.95085</td>\n",
       "      <td>0.93466</td>\n",
       "      <td>False</td>\n",
       "      <td>0.001811</td>\n",
       "      <td>0.968692</td>\n",
       "      <td>0.97866</td>\n",
       "      <td>0.963317</td>\n",
       "      <td>False</td>\n",
       "    </tr>\n",
       "    <tr>\n",
       "      <th>7</th>\n",
       "      <td>[35000:39999]</td>\n",
       "      <td>7</td>\n",
       "      <td>35000</td>\n",
       "      <td>39999</td>\n",
       "      <td>2018-07-31 22:12:00</td>\n",
       "      <td>2018-08-31 04:39:16.848</td>\n",
       "      <td>reference</td>\n",
       "      <td>0.0</td>\n",
       "      <td>357.499456</td>\n",
       "      <td>26108</td>\n",
       "      <td>26587.856246</td>\n",
       "      <td>25035.343754</td>\n",
       "      <td>False</td>\n",
       "      <td>0.00644</td>\n",
       "      <td>0.944612</td>\n",
       "      <td>0.95085</td>\n",
       "      <td>0.93466</td>\n",
       "      <td>False</td>\n",
       "      <td>0.001811</td>\n",
       "      <td>0.970205</td>\n",
       "      <td>0.97866</td>\n",
       "      <td>0.963317</td>\n",
       "      <td>False</td>\n",
       "    </tr>\n",
       "    <tr>\n",
       "      <th>8</th>\n",
       "      <td>[40000:44999]</td>\n",
       "      <td>8</td>\n",
       "      <td>40000</td>\n",
       "      <td>44999</td>\n",
       "      <td>2018-08-31 04:48:00</td>\n",
       "      <td>2018-09-30 11:15:16.848</td>\n",
       "      <td>reference</td>\n",
       "      <td>0.0</td>\n",
       "      <td>357.499456</td>\n",
       "      <td>25974</td>\n",
       "      <td>26587.856246</td>\n",
       "      <td>25035.343754</td>\n",
       "      <td>False</td>\n",
       "      <td>0.00644</td>\n",
       "      <td>0.944523</td>\n",
       "      <td>0.95085</td>\n",
       "      <td>0.93466</td>\n",
       "      <td>False</td>\n",
       "      <td>0.001811</td>\n",
       "      <td>0.974096</td>\n",
       "      <td>0.97866</td>\n",
       "      <td>0.963317</td>\n",
       "      <td>False</td>\n",
       "    </tr>\n",
       "    <tr>\n",
       "      <th>9</th>\n",
       "      <td>[45000:49999]</td>\n",
       "      <td>9</td>\n",
       "      <td>45000</td>\n",
       "      <td>49999</td>\n",
       "      <td>2018-09-30 11:24:00</td>\n",
       "      <td>2018-10-30 17:51:16.848</td>\n",
       "      <td>reference</td>\n",
       "      <td>0.0</td>\n",
       "      <td>357.499456</td>\n",
       "      <td>25876</td>\n",
       "      <td>26587.856246</td>\n",
       "      <td>25035.343754</td>\n",
       "      <td>False</td>\n",
       "      <td>0.00644</td>\n",
       "      <td>0.942249</td>\n",
       "      <td>0.95085</td>\n",
       "      <td>0.93466</td>\n",
       "      <td>False</td>\n",
       "      <td>0.001811</td>\n",
       "      <td>0.971757</td>\n",
       "      <td>0.97866</td>\n",
       "      <td>0.963317</td>\n",
       "      <td>False</td>\n",
       "    </tr>\n",
       "    <tr>\n",
       "      <th>10</th>\n",
       "      <td>[0:4999]</td>\n",
       "      <td>0</td>\n",
       "      <td>0</td>\n",
       "      <td>4999</td>\n",
       "      <td>2018-10-30 18:00:00</td>\n",
       "      <td>2018-11-30 00:27:16.848</td>\n",
       "      <td>analysis</td>\n",
       "      <td>0.0</td>\n",
       "      <td>357.499456</td>\n",
       "      <td>26434</td>\n",
       "      <td>26587.856246</td>\n",
       "      <td>25035.343754</td>\n",
       "      <td>False</td>\n",
       "      <td>0.00644</td>\n",
       "      <td>0.943344</td>\n",
       "      <td>0.95085</td>\n",
       "      <td>0.93466</td>\n",
       "      <td>False</td>\n",
       "      <td>0.001811</td>\n",
       "      <td>0.970962</td>\n",
       "      <td>0.97866</td>\n",
       "      <td>0.963317</td>\n",
       "      <td>False</td>\n",
       "    </tr>\n",
       "    <tr>\n",
       "      <th>11</th>\n",
       "      <td>[5000:9999]</td>\n",
       "      <td>1</td>\n",
       "      <td>5000</td>\n",
       "      <td>9999</td>\n",
       "      <td>2018-11-30 00:36:00</td>\n",
       "      <td>2018-12-30 07:03:16.848</td>\n",
       "      <td>analysis</td>\n",
       "      <td>0.0</td>\n",
       "      <td>357.499456</td>\n",
       "      <td>25312</td>\n",
       "      <td>26587.856246</td>\n",
       "      <td>25035.343754</td>\n",
       "      <td>False</td>\n",
       "      <td>0.00644</td>\n",
       "      <td>0.940178</td>\n",
       "      <td>0.95085</td>\n",
       "      <td>0.93466</td>\n",
       "      <td>False</td>\n",
       "      <td>0.001811</td>\n",
       "      <td>0.970248</td>\n",
       "      <td>0.97866</td>\n",
       "      <td>0.963317</td>\n",
       "      <td>False</td>\n",
       "    </tr>\n",
       "    <tr>\n",
       "      <th>12</th>\n",
       "      <td>[10000:14999]</td>\n",
       "      <td>2</td>\n",
       "      <td>10000</td>\n",
       "      <td>14999</td>\n",
       "      <td>2018-12-30 07:12:00</td>\n",
       "      <td>2019-01-29 13:39:16.848</td>\n",
       "      <td>analysis</td>\n",
       "      <td>0.0</td>\n",
       "      <td>357.499456</td>\n",
       "      <td>25838</td>\n",
       "      <td>26587.856246</td>\n",
       "      <td>25035.343754</td>\n",
       "      <td>False</td>\n",
       "      <td>0.00644</td>\n",
       "      <td>0.948201</td>\n",
       "      <td>0.95085</td>\n",
       "      <td>0.93466</td>\n",
       "      <td>False</td>\n",
       "      <td>0.001811</td>\n",
       "      <td>0.976282</td>\n",
       "      <td>0.97866</td>\n",
       "      <td>0.963317</td>\n",
       "      <td>False</td>\n",
       "    </tr>\n",
       "    <tr>\n",
       "      <th>13</th>\n",
       "      <td>[15000:19999]</td>\n",
       "      <td>3</td>\n",
       "      <td>15000</td>\n",
       "      <td>19999</td>\n",
       "      <td>2019-01-29 13:48:00</td>\n",
       "      <td>2019-02-28 20:15:16.848</td>\n",
       "      <td>analysis</td>\n",
       "      <td>0.0</td>\n",
       "      <td>357.499456</td>\n",
       "      <td>25560</td>\n",
       "      <td>26587.856246</td>\n",
       "      <td>25035.343754</td>\n",
       "      <td>False</td>\n",
       "      <td>0.00644</td>\n",
       "      <td>0.942142</td>\n",
       "      <td>0.95085</td>\n",
       "      <td>0.93466</td>\n",
       "      <td>False</td>\n",
       "      <td>0.001811</td>\n",
       "      <td>0.967721</td>\n",
       "      <td>0.97866</td>\n",
       "      <td>0.963317</td>\n",
       "      <td>False</td>\n",
       "    </tr>\n",
       "    <tr>\n",
       "      <th>14</th>\n",
       "      <td>[20000:24999]</td>\n",
       "      <td>4</td>\n",
       "      <td>20000</td>\n",
       "      <td>24999</td>\n",
       "      <td>2019-02-28 20:24:00</td>\n",
       "      <td>2019-03-31 02:51:16.848</td>\n",
       "      <td>analysis</td>\n",
       "      <td>0.0</td>\n",
       "      <td>357.499456</td>\n",
       "      <td>25786</td>\n",
       "      <td>26587.856246</td>\n",
       "      <td>25035.343754</td>\n",
       "      <td>False</td>\n",
       "      <td>0.00644</td>\n",
       "      <td>0.940488</td>\n",
       "      <td>0.95085</td>\n",
       "      <td>0.93466</td>\n",
       "      <td>False</td>\n",
       "      <td>0.001811</td>\n",
       "      <td>0.969886</td>\n",
       "      <td>0.97866</td>\n",
       "      <td>0.963317</td>\n",
       "      <td>False</td>\n",
       "    </tr>\n",
       "    <tr>\n",
       "      <th>15</th>\n",
       "      <td>[25000:29999]</td>\n",
       "      <td>5</td>\n",
       "      <td>25000</td>\n",
       "      <td>29999</td>\n",
       "      <td>2019-03-31 03:00:00</td>\n",
       "      <td>2019-04-30 09:27:16.848</td>\n",
       "      <td>analysis</td>\n",
       "      <td>0.0</td>\n",
       "      <td>357.499456</td>\n",
       "      <td>24096</td>\n",
       "      <td>26587.856246</td>\n",
       "      <td>25035.343754</td>\n",
       "      <td>True</td>\n",
       "      <td>0.00644</td>\n",
       "      <td>0.913685</td>\n",
       "      <td>0.95085</td>\n",
       "      <td>0.93466</td>\n",
       "      <td>True</td>\n",
       "      <td>0.001811</td>\n",
       "      <td>0.960050</td>\n",
       "      <td>0.97866</td>\n",
       "      <td>0.963317</td>\n",
       "      <td>True</td>\n",
       "    </tr>\n",
       "    <tr>\n",
       "      <th>16</th>\n",
       "      <td>[30000:34999]</td>\n",
       "      <td>6</td>\n",
       "      <td>30000</td>\n",
       "      <td>34999</td>\n",
       "      <td>2019-04-30 09:36:00</td>\n",
       "      <td>2019-05-30 16:03:16.848</td>\n",
       "      <td>analysis</td>\n",
       "      <td>0.0</td>\n",
       "      <td>357.499456</td>\n",
       "      <td>24098</td>\n",
       "      <td>26587.856246</td>\n",
       "      <td>25035.343754</td>\n",
       "      <td>True</td>\n",
       "      <td>0.00644</td>\n",
       "      <td>0.914954</td>\n",
       "      <td>0.95085</td>\n",
       "      <td>0.93466</td>\n",
       "      <td>True</td>\n",
       "      <td>0.001811</td>\n",
       "      <td>0.958530</td>\n",
       "      <td>0.97866</td>\n",
       "      <td>0.963317</td>\n",
       "      <td>True</td>\n",
       "    </tr>\n",
       "    <tr>\n",
       "      <th>17</th>\n",
       "      <td>[35000:39999]</td>\n",
       "      <td>7</td>\n",
       "      <td>35000</td>\n",
       "      <td>39999</td>\n",
       "      <td>2019-05-30 16:12:00</td>\n",
       "      <td>2019-06-29 22:39:16.848</td>\n",
       "      <td>analysis</td>\n",
       "      <td>0.0</td>\n",
       "      <td>357.499456</td>\n",
       "      <td>24012</td>\n",
       "      <td>26587.856246</td>\n",
       "      <td>25035.343754</td>\n",
       "      <td>True</td>\n",
       "      <td>0.00644</td>\n",
       "      <td>0.913395</td>\n",
       "      <td>0.95085</td>\n",
       "      <td>0.93466</td>\n",
       "      <td>True</td>\n",
       "      <td>0.001811</td>\n",
       "      <td>0.959041</td>\n",
       "      <td>0.97866</td>\n",
       "      <td>0.963317</td>\n",
       "      <td>True</td>\n",
       "    </tr>\n",
       "    <tr>\n",
       "      <th>18</th>\n",
       "      <td>[40000:44999]</td>\n",
       "      <td>8</td>\n",
       "      <td>40000</td>\n",
       "      <td>44999</td>\n",
       "      <td>2019-06-29 22:48:00</td>\n",
       "      <td>2019-07-30 05:15:16.848</td>\n",
       "      <td>analysis</td>\n",
       "      <td>0.0</td>\n",
       "      <td>357.499456</td>\n",
       "      <td>24266</td>\n",
       "      <td>26587.856246</td>\n",
       "      <td>25035.343754</td>\n",
       "      <td>True</td>\n",
       "      <td>0.00644</td>\n",
       "      <td>0.920589</td>\n",
       "      <td>0.95085</td>\n",
       "      <td>0.93466</td>\n",
       "      <td>True</td>\n",
       "      <td>0.001811</td>\n",
       "      <td>0.963094</td>\n",
       "      <td>0.97866</td>\n",
       "      <td>0.963317</td>\n",
       "      <td>True</td>\n",
       "    </tr>\n",
       "    <tr>\n",
       "      <th>19</th>\n",
       "      <td>[45000:49999]</td>\n",
       "      <td>9</td>\n",
       "      <td>45000</td>\n",
       "      <td>49999</td>\n",
       "      <td>2019-07-30 05:24:00</td>\n",
       "      <td>2019-08-29 11:51:16.848</td>\n",
       "      <td>analysis</td>\n",
       "      <td>0.0</td>\n",
       "      <td>357.499456</td>\n",
       "      <td>24464</td>\n",
       "      <td>26587.856246</td>\n",
       "      <td>25035.343754</td>\n",
       "      <td>True</td>\n",
       "      <td>0.00644</td>\n",
       "      <td>0.913498</td>\n",
       "      <td>0.95085</td>\n",
       "      <td>0.93466</td>\n",
       "      <td>True</td>\n",
       "      <td>0.001811</td>\n",
       "      <td>0.957556</td>\n",
       "      <td>0.97866</td>\n",
       "      <td>0.963317</td>\n",
       "      <td>True</td>\n",
       "    </tr>\n",
       "  </tbody>\n",
       "</table>\n",
       "</div>"
      ],
      "text/plain": [
       "            chunk                                                        \\\n",
       "              key chunk_index start_index end_index          start_date   \n",
       "0        [0:4999]           0           0      4999 2018-01-01 00:00:00   \n",
       "1     [5000:9999]           1        5000      9999 2018-01-31 06:36:00   \n",
       "2   [10000:14999]           2       10000     14999 2018-03-02 13:12:00   \n",
       "3   [15000:19999]           3       15000     19999 2018-04-01 19:48:00   \n",
       "4   [20000:24999]           4       20000     24999 2018-05-02 02:24:00   \n",
       "5   [25000:29999]           5       25000     29999 2018-06-01 09:00:00   \n",
       "6   [30000:34999]           6       30000     34999 2018-07-01 15:36:00   \n",
       "7   [35000:39999]           7       35000     39999 2018-07-31 22:12:00   \n",
       "8   [40000:44999]           8       40000     44999 2018-08-31 04:48:00   \n",
       "9   [45000:49999]           9       45000     49999 2018-09-30 11:24:00   \n",
       "10       [0:4999]           0           0      4999 2018-10-30 18:00:00   \n",
       "11    [5000:9999]           1        5000      9999 2018-11-30 00:36:00   \n",
       "12  [10000:14999]           2       10000     14999 2018-12-30 07:12:00   \n",
       "13  [15000:19999]           3       15000     19999 2019-01-29 13:48:00   \n",
       "14  [20000:24999]           4       20000     24999 2019-02-28 20:24:00   \n",
       "15  [25000:29999]           5       25000     29999 2019-03-31 03:00:00   \n",
       "16  [30000:34999]           6       30000     34999 2019-04-30 09:36:00   \n",
       "17  [35000:39999]           7       35000     39999 2019-05-30 16:12:00   \n",
       "18  [40000:44999]           8       40000     44999 2019-06-29 22:48:00   \n",
       "19  [45000:49999]           9       45000     49999 2019-07-30 05:24:00   \n",
       "\n",
       "                                                           business_value  \\\n",
       "                  end_date     period targets_missing_rate sampling_error   \n",
       "0  2018-01-31 06:27:16.848  reference                  0.0     357.499456   \n",
       "1  2018-03-02 13:03:16.848  reference                  0.0     357.499456   \n",
       "2  2018-04-01 19:39:16.848  reference                  0.0     357.499456   \n",
       "3  2018-05-02 02:15:16.848  reference                  0.0     357.499456   \n",
       "4  2018-06-01 08:51:16.848  reference                  0.0     357.499456   \n",
       "5  2018-07-01 15:27:16.848  reference                  0.0     357.499456   \n",
       "6  2018-07-31 22:03:16.848  reference                  0.0     357.499456   \n",
       "7  2018-08-31 04:39:16.848  reference                  0.0     357.499456   \n",
       "8  2018-09-30 11:15:16.848  reference                  0.0     357.499456   \n",
       "9  2018-10-30 17:51:16.848  reference                  0.0     357.499456   \n",
       "10 2018-11-30 00:27:16.848   analysis                  0.0     357.499456   \n",
       "11 2018-12-30 07:03:16.848   analysis                  0.0     357.499456   \n",
       "12 2019-01-29 13:39:16.848   analysis                  0.0     357.499456   \n",
       "13 2019-02-28 20:15:16.848   analysis                  0.0     357.499456   \n",
       "14 2019-03-31 02:51:16.848   analysis                  0.0     357.499456   \n",
       "15 2019-04-30 09:27:16.848   analysis                  0.0     357.499456   \n",
       "16 2019-05-30 16:03:16.848   analysis                  0.0     357.499456   \n",
       "17 2019-06-29 22:39:16.848   analysis                  0.0     357.499456   \n",
       "18 2019-07-30 05:15:16.848   analysis                  0.0     357.499456   \n",
       "19 2019-08-29 11:51:16.848   analysis                  0.0     357.499456   \n",
       "\n",
       "                                                             f1            \\\n",
       "    value upper_threshold lower_threshold  alert sampling_error     value   \n",
       "0   25726    26587.856246    25035.343754  False        0.00644  0.944707   \n",
       "1   25242    26587.856246    25035.343754  False        0.00644  0.937564   \n",
       "2   26206    26587.856246    25035.343754  False        0.00644  0.945973   \n",
       "3   25776    26587.856246    25035.343754  False        0.00644  0.943212   \n",
       "4   25648    26587.856246    25035.343754  False        0.00644  0.937989   \n",
       "5   25650    26587.856246    25035.343754  False        0.00644  0.942581   \n",
       "6   25910    26587.856246    25035.343754  False        0.00644  0.944140   \n",
       "7   26108    26587.856246    25035.343754  False        0.00644  0.944612   \n",
       "8   25974    26587.856246    25035.343754  False        0.00644  0.944523   \n",
       "9   25876    26587.856246    25035.343754  False        0.00644  0.942249   \n",
       "10  26434    26587.856246    25035.343754  False        0.00644  0.943344   \n",
       "11  25312    26587.856246    25035.343754  False        0.00644  0.940178   \n",
       "12  25838    26587.856246    25035.343754  False        0.00644  0.948201   \n",
       "13  25560    26587.856246    25035.343754  False        0.00644  0.942142   \n",
       "14  25786    26587.856246    25035.343754  False        0.00644  0.940488   \n",
       "15  24096    26587.856246    25035.343754   True        0.00644  0.913685   \n",
       "16  24098    26587.856246    25035.343754   True        0.00644  0.914954   \n",
       "17  24012    26587.856246    25035.343754   True        0.00644  0.913395   \n",
       "18  24266    26587.856246    25035.343754   True        0.00644  0.920589   \n",
       "19  24464    26587.856246    25035.343754   True        0.00644  0.913498   \n",
       "\n",
       "                                                 roc_auc            \\\n",
       "   upper_threshold lower_threshold  alert sampling_error     value   \n",
       "0          0.95085         0.93466  False       0.001811  0.976253   \n",
       "1          0.95085         0.93466  False       0.001811  0.969045   \n",
       "2          0.95085         0.93466  False       0.001811  0.971742   \n",
       "3          0.95085         0.93466  False       0.001811  0.971642   \n",
       "4          0.95085         0.93466  False       0.001811  0.969085   \n",
       "5          0.95085         0.93466  False       0.001811  0.967364   \n",
       "6          0.95085         0.93466  False       0.001811  0.968692   \n",
       "7          0.95085         0.93466  False       0.001811  0.970205   \n",
       "8          0.95085         0.93466  False       0.001811  0.974096   \n",
       "9          0.95085         0.93466  False       0.001811  0.971757   \n",
       "10         0.95085         0.93466  False       0.001811  0.970962   \n",
       "11         0.95085         0.93466  False       0.001811  0.970248   \n",
       "12         0.95085         0.93466  False       0.001811  0.976282   \n",
       "13         0.95085         0.93466  False       0.001811  0.967721   \n",
       "14         0.95085         0.93466  False       0.001811  0.969886   \n",
       "15         0.95085         0.93466   True       0.001811  0.960050   \n",
       "16         0.95085         0.93466   True       0.001811  0.958530   \n",
       "17         0.95085         0.93466   True       0.001811  0.959041   \n",
       "18         0.95085         0.93466   True       0.001811  0.963094   \n",
       "19         0.95085         0.93466   True       0.001811  0.957556   \n",
       "\n",
       "                                           \n",
       "   upper_threshold lower_threshold  alert  \n",
       "0          0.97866        0.963317  False  \n",
       "1          0.97866        0.963317  False  \n",
       "2          0.97866        0.963317  False  \n",
       "3          0.97866        0.963317  False  \n",
       "4          0.97866        0.963317  False  \n",
       "5          0.97866        0.963317  False  \n",
       "6          0.97866        0.963317  False  \n",
       "7          0.97866        0.963317  False  \n",
       "8          0.97866        0.963317  False  \n",
       "9          0.97866        0.963317  False  \n",
       "10         0.97866        0.963317  False  \n",
       "11         0.97866        0.963317  False  \n",
       "12         0.97866        0.963317  False  \n",
       "13         0.97866        0.963317  False  \n",
       "14         0.97866        0.963317  False  \n",
       "15         0.97866        0.963317   True  \n",
       "16         0.97866        0.963317   True  \n",
       "17         0.97866        0.963317   True  \n",
       "18         0.97866        0.963317   True  \n",
       "19         0.97866        0.963317   True  "
      ]
     },
     "metadata": {},
     "output_type": "display_data"
    }
   ],
   "source": [
    "display(results.to_df())"
   ]
  },
  {
   "cell_type": "markdown",
   "metadata": {},
   "source": [
    "## Double check"
   ]
  },
  {
   "cell_type": "code",
   "execution_count": 18,
   "metadata": {},
   "outputs": [],
   "source": [
    "results2 = results.filter()"
   ]
  },
  {
   "cell_type": "code",
   "execution_count": 19,
   "metadata": {},
   "outputs": [
    {
     "data": {
      "text/html": [
       "<div>\n",
       "<style scoped>\n",
       "    .dataframe tbody tr th:only-of-type {\n",
       "        vertical-align: middle;\n",
       "    }\n",
       "\n",
       "    .dataframe tbody tr th {\n",
       "        vertical-align: top;\n",
       "    }\n",
       "\n",
       "    .dataframe thead tr th {\n",
       "        text-align: left;\n",
       "    }\n",
       "</style>\n",
       "<table border=\"1\" class=\"dataframe\">\n",
       "  <thead>\n",
       "    <tr>\n",
       "      <th></th>\n",
       "      <th colspan=\"8\" halign=\"left\">chunk</th>\n",
       "      <th colspan=\"5\" halign=\"left\">business_value</th>\n",
       "      <th colspan=\"5\" halign=\"left\">f1</th>\n",
       "      <th colspan=\"5\" halign=\"left\">roc_auc</th>\n",
       "    </tr>\n",
       "    <tr>\n",
       "      <th></th>\n",
       "      <th>key</th>\n",
       "      <th>chunk_index</th>\n",
       "      <th>start_index</th>\n",
       "      <th>end_index</th>\n",
       "      <th>start_date</th>\n",
       "      <th>end_date</th>\n",
       "      <th>period</th>\n",
       "      <th>targets_missing_rate</th>\n",
       "      <th>sampling_error</th>\n",
       "      <th>value</th>\n",
       "      <th>upper_threshold</th>\n",
       "      <th>lower_threshold</th>\n",
       "      <th>alert</th>\n",
       "      <th>sampling_error</th>\n",
       "      <th>value</th>\n",
       "      <th>upper_threshold</th>\n",
       "      <th>lower_threshold</th>\n",
       "      <th>alert</th>\n",
       "      <th>sampling_error</th>\n",
       "      <th>value</th>\n",
       "      <th>upper_threshold</th>\n",
       "      <th>lower_threshold</th>\n",
       "      <th>alert</th>\n",
       "    </tr>\n",
       "  </thead>\n",
       "  <tbody>\n",
       "    <tr>\n",
       "      <th>0</th>\n",
       "      <td>[0:4999]</td>\n",
       "      <td>0</td>\n",
       "      <td>0</td>\n",
       "      <td>4999</td>\n",
       "      <td>2018-01-01 00:00:00</td>\n",
       "      <td>2018-01-31 06:27:16.848</td>\n",
       "      <td>reference</td>\n",
       "      <td>0.0</td>\n",
       "      <td>357.499456</td>\n",
       "      <td>25726</td>\n",
       "      <td>26587.856246</td>\n",
       "      <td>25035.343754</td>\n",
       "      <td>False</td>\n",
       "      <td>0.00644</td>\n",
       "      <td>0.944707</td>\n",
       "      <td>0.95085</td>\n",
       "      <td>0.93466</td>\n",
       "      <td>False</td>\n",
       "      <td>0.001811</td>\n",
       "      <td>0.976253</td>\n",
       "      <td>0.97866</td>\n",
       "      <td>0.963317</td>\n",
       "      <td>False</td>\n",
       "    </tr>\n",
       "    <tr>\n",
       "      <th>1</th>\n",
       "      <td>[5000:9999]</td>\n",
       "      <td>1</td>\n",
       "      <td>5000</td>\n",
       "      <td>9999</td>\n",
       "      <td>2018-01-31 06:36:00</td>\n",
       "      <td>2018-03-02 13:03:16.848</td>\n",
       "      <td>reference</td>\n",
       "      <td>0.0</td>\n",
       "      <td>357.499456</td>\n",
       "      <td>25242</td>\n",
       "      <td>26587.856246</td>\n",
       "      <td>25035.343754</td>\n",
       "      <td>False</td>\n",
       "      <td>0.00644</td>\n",
       "      <td>0.937564</td>\n",
       "      <td>0.95085</td>\n",
       "      <td>0.93466</td>\n",
       "      <td>False</td>\n",
       "      <td>0.001811</td>\n",
       "      <td>0.969045</td>\n",
       "      <td>0.97866</td>\n",
       "      <td>0.963317</td>\n",
       "      <td>False</td>\n",
       "    </tr>\n",
       "    <tr>\n",
       "      <th>2</th>\n",
       "      <td>[10000:14999]</td>\n",
       "      <td>2</td>\n",
       "      <td>10000</td>\n",
       "      <td>14999</td>\n",
       "      <td>2018-03-02 13:12:00</td>\n",
       "      <td>2018-04-01 19:39:16.848</td>\n",
       "      <td>reference</td>\n",
       "      <td>0.0</td>\n",
       "      <td>357.499456</td>\n",
       "      <td>26206</td>\n",
       "      <td>26587.856246</td>\n",
       "      <td>25035.343754</td>\n",
       "      <td>False</td>\n",
       "      <td>0.00644</td>\n",
       "      <td>0.945973</td>\n",
       "      <td>0.95085</td>\n",
       "      <td>0.93466</td>\n",
       "      <td>False</td>\n",
       "      <td>0.001811</td>\n",
       "      <td>0.971742</td>\n",
       "      <td>0.97866</td>\n",
       "      <td>0.963317</td>\n",
       "      <td>False</td>\n",
       "    </tr>\n",
       "    <tr>\n",
       "      <th>3</th>\n",
       "      <td>[15000:19999]</td>\n",
       "      <td>3</td>\n",
       "      <td>15000</td>\n",
       "      <td>19999</td>\n",
       "      <td>2018-04-01 19:48:00</td>\n",
       "      <td>2018-05-02 02:15:16.848</td>\n",
       "      <td>reference</td>\n",
       "      <td>0.0</td>\n",
       "      <td>357.499456</td>\n",
       "      <td>25776</td>\n",
       "      <td>26587.856246</td>\n",
       "      <td>25035.343754</td>\n",
       "      <td>False</td>\n",
       "      <td>0.00644</td>\n",
       "      <td>0.943212</td>\n",
       "      <td>0.95085</td>\n",
       "      <td>0.93466</td>\n",
       "      <td>False</td>\n",
       "      <td>0.001811</td>\n",
       "      <td>0.971642</td>\n",
       "      <td>0.97866</td>\n",
       "      <td>0.963317</td>\n",
       "      <td>False</td>\n",
       "    </tr>\n",
       "    <tr>\n",
       "      <th>4</th>\n",
       "      <td>[20000:24999]</td>\n",
       "      <td>4</td>\n",
       "      <td>20000</td>\n",
       "      <td>24999</td>\n",
       "      <td>2018-05-02 02:24:00</td>\n",
       "      <td>2018-06-01 08:51:16.848</td>\n",
       "      <td>reference</td>\n",
       "      <td>0.0</td>\n",
       "      <td>357.499456</td>\n",
       "      <td>25648</td>\n",
       "      <td>26587.856246</td>\n",
       "      <td>25035.343754</td>\n",
       "      <td>False</td>\n",
       "      <td>0.00644</td>\n",
       "      <td>0.937989</td>\n",
       "      <td>0.95085</td>\n",
       "      <td>0.93466</td>\n",
       "      <td>False</td>\n",
       "      <td>0.001811</td>\n",
       "      <td>0.969085</td>\n",
       "      <td>0.97866</td>\n",
       "      <td>0.963317</td>\n",
       "      <td>False</td>\n",
       "    </tr>\n",
       "    <tr>\n",
       "      <th>5</th>\n",
       "      <td>[25000:29999]</td>\n",
       "      <td>5</td>\n",
       "      <td>25000</td>\n",
       "      <td>29999</td>\n",
       "      <td>2018-06-01 09:00:00</td>\n",
       "      <td>2018-07-01 15:27:16.848</td>\n",
       "      <td>reference</td>\n",
       "      <td>0.0</td>\n",
       "      <td>357.499456</td>\n",
       "      <td>25650</td>\n",
       "      <td>26587.856246</td>\n",
       "      <td>25035.343754</td>\n",
       "      <td>False</td>\n",
       "      <td>0.00644</td>\n",
       "      <td>0.942581</td>\n",
       "      <td>0.95085</td>\n",
       "      <td>0.93466</td>\n",
       "      <td>False</td>\n",
       "      <td>0.001811</td>\n",
       "      <td>0.967364</td>\n",
       "      <td>0.97866</td>\n",
       "      <td>0.963317</td>\n",
       "      <td>False</td>\n",
       "    </tr>\n",
       "    <tr>\n",
       "      <th>6</th>\n",
       "      <td>[30000:34999]</td>\n",
       "      <td>6</td>\n",
       "      <td>30000</td>\n",
       "      <td>34999</td>\n",
       "      <td>2018-07-01 15:36:00</td>\n",
       "      <td>2018-07-31 22:03:16.848</td>\n",
       "      <td>reference</td>\n",
       "      <td>0.0</td>\n",
       "      <td>357.499456</td>\n",
       "      <td>25910</td>\n",
       "      <td>26587.856246</td>\n",
       "      <td>25035.343754</td>\n",
       "      <td>False</td>\n",
       "      <td>0.00644</td>\n",
       "      <td>0.944140</td>\n",
       "      <td>0.95085</td>\n",
       "      <td>0.93466</td>\n",
       "      <td>False</td>\n",
       "      <td>0.001811</td>\n",
       "      <td>0.968692</td>\n",
       "      <td>0.97866</td>\n",
       "      <td>0.963317</td>\n",
       "      <td>False</td>\n",
       "    </tr>\n",
       "    <tr>\n",
       "      <th>7</th>\n",
       "      <td>[35000:39999]</td>\n",
       "      <td>7</td>\n",
       "      <td>35000</td>\n",
       "      <td>39999</td>\n",
       "      <td>2018-07-31 22:12:00</td>\n",
       "      <td>2018-08-31 04:39:16.848</td>\n",
       "      <td>reference</td>\n",
       "      <td>0.0</td>\n",
       "      <td>357.499456</td>\n",
       "      <td>26108</td>\n",
       "      <td>26587.856246</td>\n",
       "      <td>25035.343754</td>\n",
       "      <td>False</td>\n",
       "      <td>0.00644</td>\n",
       "      <td>0.944612</td>\n",
       "      <td>0.95085</td>\n",
       "      <td>0.93466</td>\n",
       "      <td>False</td>\n",
       "      <td>0.001811</td>\n",
       "      <td>0.970205</td>\n",
       "      <td>0.97866</td>\n",
       "      <td>0.963317</td>\n",
       "      <td>False</td>\n",
       "    </tr>\n",
       "    <tr>\n",
       "      <th>8</th>\n",
       "      <td>[40000:44999]</td>\n",
       "      <td>8</td>\n",
       "      <td>40000</td>\n",
       "      <td>44999</td>\n",
       "      <td>2018-08-31 04:48:00</td>\n",
       "      <td>2018-09-30 11:15:16.848</td>\n",
       "      <td>reference</td>\n",
       "      <td>0.0</td>\n",
       "      <td>357.499456</td>\n",
       "      <td>25974</td>\n",
       "      <td>26587.856246</td>\n",
       "      <td>25035.343754</td>\n",
       "      <td>False</td>\n",
       "      <td>0.00644</td>\n",
       "      <td>0.944523</td>\n",
       "      <td>0.95085</td>\n",
       "      <td>0.93466</td>\n",
       "      <td>False</td>\n",
       "      <td>0.001811</td>\n",
       "      <td>0.974096</td>\n",
       "      <td>0.97866</td>\n",
       "      <td>0.963317</td>\n",
       "      <td>False</td>\n",
       "    </tr>\n",
       "    <tr>\n",
       "      <th>9</th>\n",
       "      <td>[45000:49999]</td>\n",
       "      <td>9</td>\n",
       "      <td>45000</td>\n",
       "      <td>49999</td>\n",
       "      <td>2018-09-30 11:24:00</td>\n",
       "      <td>2018-10-30 17:51:16.848</td>\n",
       "      <td>reference</td>\n",
       "      <td>0.0</td>\n",
       "      <td>357.499456</td>\n",
       "      <td>25876</td>\n",
       "      <td>26587.856246</td>\n",
       "      <td>25035.343754</td>\n",
       "      <td>False</td>\n",
       "      <td>0.00644</td>\n",
       "      <td>0.942249</td>\n",
       "      <td>0.95085</td>\n",
       "      <td>0.93466</td>\n",
       "      <td>False</td>\n",
       "      <td>0.001811</td>\n",
       "      <td>0.971757</td>\n",
       "      <td>0.97866</td>\n",
       "      <td>0.963317</td>\n",
       "      <td>False</td>\n",
       "    </tr>\n",
       "    <tr>\n",
       "      <th>10</th>\n",
       "      <td>[0:4999]</td>\n",
       "      <td>0</td>\n",
       "      <td>0</td>\n",
       "      <td>4999</td>\n",
       "      <td>2018-10-30 18:00:00</td>\n",
       "      <td>2018-11-30 00:27:16.848</td>\n",
       "      <td>analysis</td>\n",
       "      <td>0.0</td>\n",
       "      <td>357.499456</td>\n",
       "      <td>26434</td>\n",
       "      <td>26587.856246</td>\n",
       "      <td>25035.343754</td>\n",
       "      <td>False</td>\n",
       "      <td>0.00644</td>\n",
       "      <td>0.943344</td>\n",
       "      <td>0.95085</td>\n",
       "      <td>0.93466</td>\n",
       "      <td>False</td>\n",
       "      <td>0.001811</td>\n",
       "      <td>0.970962</td>\n",
       "      <td>0.97866</td>\n",
       "      <td>0.963317</td>\n",
       "      <td>False</td>\n",
       "    </tr>\n",
       "    <tr>\n",
       "      <th>11</th>\n",
       "      <td>[5000:9999]</td>\n",
       "      <td>1</td>\n",
       "      <td>5000</td>\n",
       "      <td>9999</td>\n",
       "      <td>2018-11-30 00:36:00</td>\n",
       "      <td>2018-12-30 07:03:16.848</td>\n",
       "      <td>analysis</td>\n",
       "      <td>0.0</td>\n",
       "      <td>357.499456</td>\n",
       "      <td>25312</td>\n",
       "      <td>26587.856246</td>\n",
       "      <td>25035.343754</td>\n",
       "      <td>False</td>\n",
       "      <td>0.00644</td>\n",
       "      <td>0.940178</td>\n",
       "      <td>0.95085</td>\n",
       "      <td>0.93466</td>\n",
       "      <td>False</td>\n",
       "      <td>0.001811</td>\n",
       "      <td>0.970248</td>\n",
       "      <td>0.97866</td>\n",
       "      <td>0.963317</td>\n",
       "      <td>False</td>\n",
       "    </tr>\n",
       "    <tr>\n",
       "      <th>12</th>\n",
       "      <td>[10000:14999]</td>\n",
       "      <td>2</td>\n",
       "      <td>10000</td>\n",
       "      <td>14999</td>\n",
       "      <td>2018-12-30 07:12:00</td>\n",
       "      <td>2019-01-29 13:39:16.848</td>\n",
       "      <td>analysis</td>\n",
       "      <td>0.0</td>\n",
       "      <td>357.499456</td>\n",
       "      <td>25838</td>\n",
       "      <td>26587.856246</td>\n",
       "      <td>25035.343754</td>\n",
       "      <td>False</td>\n",
       "      <td>0.00644</td>\n",
       "      <td>0.948201</td>\n",
       "      <td>0.95085</td>\n",
       "      <td>0.93466</td>\n",
       "      <td>False</td>\n",
       "      <td>0.001811</td>\n",
       "      <td>0.976282</td>\n",
       "      <td>0.97866</td>\n",
       "      <td>0.963317</td>\n",
       "      <td>False</td>\n",
       "    </tr>\n",
       "    <tr>\n",
       "      <th>13</th>\n",
       "      <td>[15000:19999]</td>\n",
       "      <td>3</td>\n",
       "      <td>15000</td>\n",
       "      <td>19999</td>\n",
       "      <td>2019-01-29 13:48:00</td>\n",
       "      <td>2019-02-28 20:15:16.848</td>\n",
       "      <td>analysis</td>\n",
       "      <td>0.0</td>\n",
       "      <td>357.499456</td>\n",
       "      <td>25560</td>\n",
       "      <td>26587.856246</td>\n",
       "      <td>25035.343754</td>\n",
       "      <td>False</td>\n",
       "      <td>0.00644</td>\n",
       "      <td>0.942142</td>\n",
       "      <td>0.95085</td>\n",
       "      <td>0.93466</td>\n",
       "      <td>False</td>\n",
       "      <td>0.001811</td>\n",
       "      <td>0.967721</td>\n",
       "      <td>0.97866</td>\n",
       "      <td>0.963317</td>\n",
       "      <td>False</td>\n",
       "    </tr>\n",
       "    <tr>\n",
       "      <th>14</th>\n",
       "      <td>[20000:24999]</td>\n",
       "      <td>4</td>\n",
       "      <td>20000</td>\n",
       "      <td>24999</td>\n",
       "      <td>2019-02-28 20:24:00</td>\n",
       "      <td>2019-03-31 02:51:16.848</td>\n",
       "      <td>analysis</td>\n",
       "      <td>0.0</td>\n",
       "      <td>357.499456</td>\n",
       "      <td>25786</td>\n",
       "      <td>26587.856246</td>\n",
       "      <td>25035.343754</td>\n",
       "      <td>False</td>\n",
       "      <td>0.00644</td>\n",
       "      <td>0.940488</td>\n",
       "      <td>0.95085</td>\n",
       "      <td>0.93466</td>\n",
       "      <td>False</td>\n",
       "      <td>0.001811</td>\n",
       "      <td>0.969886</td>\n",
       "      <td>0.97866</td>\n",
       "      <td>0.963317</td>\n",
       "      <td>False</td>\n",
       "    </tr>\n",
       "    <tr>\n",
       "      <th>15</th>\n",
       "      <td>[25000:29999]</td>\n",
       "      <td>5</td>\n",
       "      <td>25000</td>\n",
       "      <td>29999</td>\n",
       "      <td>2019-03-31 03:00:00</td>\n",
       "      <td>2019-04-30 09:27:16.848</td>\n",
       "      <td>analysis</td>\n",
       "      <td>0.0</td>\n",
       "      <td>357.499456</td>\n",
       "      <td>24096</td>\n",
       "      <td>26587.856246</td>\n",
       "      <td>25035.343754</td>\n",
       "      <td>True</td>\n",
       "      <td>0.00644</td>\n",
       "      <td>0.913685</td>\n",
       "      <td>0.95085</td>\n",
       "      <td>0.93466</td>\n",
       "      <td>True</td>\n",
       "      <td>0.001811</td>\n",
       "      <td>0.960050</td>\n",
       "      <td>0.97866</td>\n",
       "      <td>0.963317</td>\n",
       "      <td>True</td>\n",
       "    </tr>\n",
       "    <tr>\n",
       "      <th>16</th>\n",
       "      <td>[30000:34999]</td>\n",
       "      <td>6</td>\n",
       "      <td>30000</td>\n",
       "      <td>34999</td>\n",
       "      <td>2019-04-30 09:36:00</td>\n",
       "      <td>2019-05-30 16:03:16.848</td>\n",
       "      <td>analysis</td>\n",
       "      <td>0.0</td>\n",
       "      <td>357.499456</td>\n",
       "      <td>24098</td>\n",
       "      <td>26587.856246</td>\n",
       "      <td>25035.343754</td>\n",
       "      <td>True</td>\n",
       "      <td>0.00644</td>\n",
       "      <td>0.914954</td>\n",
       "      <td>0.95085</td>\n",
       "      <td>0.93466</td>\n",
       "      <td>True</td>\n",
       "      <td>0.001811</td>\n",
       "      <td>0.958530</td>\n",
       "      <td>0.97866</td>\n",
       "      <td>0.963317</td>\n",
       "      <td>True</td>\n",
       "    </tr>\n",
       "    <tr>\n",
       "      <th>17</th>\n",
       "      <td>[35000:39999]</td>\n",
       "      <td>7</td>\n",
       "      <td>35000</td>\n",
       "      <td>39999</td>\n",
       "      <td>2019-05-30 16:12:00</td>\n",
       "      <td>2019-06-29 22:39:16.848</td>\n",
       "      <td>analysis</td>\n",
       "      <td>0.0</td>\n",
       "      <td>357.499456</td>\n",
       "      <td>24012</td>\n",
       "      <td>26587.856246</td>\n",
       "      <td>25035.343754</td>\n",
       "      <td>True</td>\n",
       "      <td>0.00644</td>\n",
       "      <td>0.913395</td>\n",
       "      <td>0.95085</td>\n",
       "      <td>0.93466</td>\n",
       "      <td>True</td>\n",
       "      <td>0.001811</td>\n",
       "      <td>0.959041</td>\n",
       "      <td>0.97866</td>\n",
       "      <td>0.963317</td>\n",
       "      <td>True</td>\n",
       "    </tr>\n",
       "    <tr>\n",
       "      <th>18</th>\n",
       "      <td>[40000:44999]</td>\n",
       "      <td>8</td>\n",
       "      <td>40000</td>\n",
       "      <td>44999</td>\n",
       "      <td>2019-06-29 22:48:00</td>\n",
       "      <td>2019-07-30 05:15:16.848</td>\n",
       "      <td>analysis</td>\n",
       "      <td>0.0</td>\n",
       "      <td>357.499456</td>\n",
       "      <td>24266</td>\n",
       "      <td>26587.856246</td>\n",
       "      <td>25035.343754</td>\n",
       "      <td>True</td>\n",
       "      <td>0.00644</td>\n",
       "      <td>0.920589</td>\n",
       "      <td>0.95085</td>\n",
       "      <td>0.93466</td>\n",
       "      <td>True</td>\n",
       "      <td>0.001811</td>\n",
       "      <td>0.963094</td>\n",
       "      <td>0.97866</td>\n",
       "      <td>0.963317</td>\n",
       "      <td>True</td>\n",
       "    </tr>\n",
       "    <tr>\n",
       "      <th>19</th>\n",
       "      <td>[45000:49999]</td>\n",
       "      <td>9</td>\n",
       "      <td>45000</td>\n",
       "      <td>49999</td>\n",
       "      <td>2019-07-30 05:24:00</td>\n",
       "      <td>2019-08-29 11:51:16.848</td>\n",
       "      <td>analysis</td>\n",
       "      <td>0.0</td>\n",
       "      <td>357.499456</td>\n",
       "      <td>24464</td>\n",
       "      <td>26587.856246</td>\n",
       "      <td>25035.343754</td>\n",
       "      <td>True</td>\n",
       "      <td>0.00644</td>\n",
       "      <td>0.913498</td>\n",
       "      <td>0.95085</td>\n",
       "      <td>0.93466</td>\n",
       "      <td>True</td>\n",
       "      <td>0.001811</td>\n",
       "      <td>0.957556</td>\n",
       "      <td>0.97866</td>\n",
       "      <td>0.963317</td>\n",
       "      <td>True</td>\n",
       "    </tr>\n",
       "  </tbody>\n",
       "</table>\n",
       "</div>"
      ],
      "text/plain": [
       "            chunk                                                        \\\n",
       "              key chunk_index start_index end_index          start_date   \n",
       "0        [0:4999]           0           0      4999 2018-01-01 00:00:00   \n",
       "1     [5000:9999]           1        5000      9999 2018-01-31 06:36:00   \n",
       "2   [10000:14999]           2       10000     14999 2018-03-02 13:12:00   \n",
       "3   [15000:19999]           3       15000     19999 2018-04-01 19:48:00   \n",
       "4   [20000:24999]           4       20000     24999 2018-05-02 02:24:00   \n",
       "5   [25000:29999]           5       25000     29999 2018-06-01 09:00:00   \n",
       "6   [30000:34999]           6       30000     34999 2018-07-01 15:36:00   \n",
       "7   [35000:39999]           7       35000     39999 2018-07-31 22:12:00   \n",
       "8   [40000:44999]           8       40000     44999 2018-08-31 04:48:00   \n",
       "9   [45000:49999]           9       45000     49999 2018-09-30 11:24:00   \n",
       "10       [0:4999]           0           0      4999 2018-10-30 18:00:00   \n",
       "11    [5000:9999]           1        5000      9999 2018-11-30 00:36:00   \n",
       "12  [10000:14999]           2       10000     14999 2018-12-30 07:12:00   \n",
       "13  [15000:19999]           3       15000     19999 2019-01-29 13:48:00   \n",
       "14  [20000:24999]           4       20000     24999 2019-02-28 20:24:00   \n",
       "15  [25000:29999]           5       25000     29999 2019-03-31 03:00:00   \n",
       "16  [30000:34999]           6       30000     34999 2019-04-30 09:36:00   \n",
       "17  [35000:39999]           7       35000     39999 2019-05-30 16:12:00   \n",
       "18  [40000:44999]           8       40000     44999 2019-06-29 22:48:00   \n",
       "19  [45000:49999]           9       45000     49999 2019-07-30 05:24:00   \n",
       "\n",
       "                                                           business_value  \\\n",
       "                  end_date     period targets_missing_rate sampling_error   \n",
       "0  2018-01-31 06:27:16.848  reference                  0.0     357.499456   \n",
       "1  2018-03-02 13:03:16.848  reference                  0.0     357.499456   \n",
       "2  2018-04-01 19:39:16.848  reference                  0.0     357.499456   \n",
       "3  2018-05-02 02:15:16.848  reference                  0.0     357.499456   \n",
       "4  2018-06-01 08:51:16.848  reference                  0.0     357.499456   \n",
       "5  2018-07-01 15:27:16.848  reference                  0.0     357.499456   \n",
       "6  2018-07-31 22:03:16.848  reference                  0.0     357.499456   \n",
       "7  2018-08-31 04:39:16.848  reference                  0.0     357.499456   \n",
       "8  2018-09-30 11:15:16.848  reference                  0.0     357.499456   \n",
       "9  2018-10-30 17:51:16.848  reference                  0.0     357.499456   \n",
       "10 2018-11-30 00:27:16.848   analysis                  0.0     357.499456   \n",
       "11 2018-12-30 07:03:16.848   analysis                  0.0     357.499456   \n",
       "12 2019-01-29 13:39:16.848   analysis                  0.0     357.499456   \n",
       "13 2019-02-28 20:15:16.848   analysis                  0.0     357.499456   \n",
       "14 2019-03-31 02:51:16.848   analysis                  0.0     357.499456   \n",
       "15 2019-04-30 09:27:16.848   analysis                  0.0     357.499456   \n",
       "16 2019-05-30 16:03:16.848   analysis                  0.0     357.499456   \n",
       "17 2019-06-29 22:39:16.848   analysis                  0.0     357.499456   \n",
       "18 2019-07-30 05:15:16.848   analysis                  0.0     357.499456   \n",
       "19 2019-08-29 11:51:16.848   analysis                  0.0     357.499456   \n",
       "\n",
       "                                                             f1            \\\n",
       "    value upper_threshold lower_threshold  alert sampling_error     value   \n",
       "0   25726    26587.856246    25035.343754  False        0.00644  0.944707   \n",
       "1   25242    26587.856246    25035.343754  False        0.00644  0.937564   \n",
       "2   26206    26587.856246    25035.343754  False        0.00644  0.945973   \n",
       "3   25776    26587.856246    25035.343754  False        0.00644  0.943212   \n",
       "4   25648    26587.856246    25035.343754  False        0.00644  0.937989   \n",
       "5   25650    26587.856246    25035.343754  False        0.00644  0.942581   \n",
       "6   25910    26587.856246    25035.343754  False        0.00644  0.944140   \n",
       "7   26108    26587.856246    25035.343754  False        0.00644  0.944612   \n",
       "8   25974    26587.856246    25035.343754  False        0.00644  0.944523   \n",
       "9   25876    26587.856246    25035.343754  False        0.00644  0.942249   \n",
       "10  26434    26587.856246    25035.343754  False        0.00644  0.943344   \n",
       "11  25312    26587.856246    25035.343754  False        0.00644  0.940178   \n",
       "12  25838    26587.856246    25035.343754  False        0.00644  0.948201   \n",
       "13  25560    26587.856246    25035.343754  False        0.00644  0.942142   \n",
       "14  25786    26587.856246    25035.343754  False        0.00644  0.940488   \n",
       "15  24096    26587.856246    25035.343754   True        0.00644  0.913685   \n",
       "16  24098    26587.856246    25035.343754   True        0.00644  0.914954   \n",
       "17  24012    26587.856246    25035.343754   True        0.00644  0.913395   \n",
       "18  24266    26587.856246    25035.343754   True        0.00644  0.920589   \n",
       "19  24464    26587.856246    25035.343754   True        0.00644  0.913498   \n",
       "\n",
       "                                                 roc_auc            \\\n",
       "   upper_threshold lower_threshold  alert sampling_error     value   \n",
       "0          0.95085         0.93466  False       0.001811  0.976253   \n",
       "1          0.95085         0.93466  False       0.001811  0.969045   \n",
       "2          0.95085         0.93466  False       0.001811  0.971742   \n",
       "3          0.95085         0.93466  False       0.001811  0.971642   \n",
       "4          0.95085         0.93466  False       0.001811  0.969085   \n",
       "5          0.95085         0.93466  False       0.001811  0.967364   \n",
       "6          0.95085         0.93466  False       0.001811  0.968692   \n",
       "7          0.95085         0.93466  False       0.001811  0.970205   \n",
       "8          0.95085         0.93466  False       0.001811  0.974096   \n",
       "9          0.95085         0.93466  False       0.001811  0.971757   \n",
       "10         0.95085         0.93466  False       0.001811  0.970962   \n",
       "11         0.95085         0.93466  False       0.001811  0.970248   \n",
       "12         0.95085         0.93466  False       0.001811  0.976282   \n",
       "13         0.95085         0.93466  False       0.001811  0.967721   \n",
       "14         0.95085         0.93466  False       0.001811  0.969886   \n",
       "15         0.95085         0.93466   True       0.001811  0.960050   \n",
       "16         0.95085         0.93466   True       0.001811  0.958530   \n",
       "17         0.95085         0.93466   True       0.001811  0.959041   \n",
       "18         0.95085         0.93466   True       0.001811  0.963094   \n",
       "19         0.95085         0.93466   True       0.001811  0.957556   \n",
       "\n",
       "                                           \n",
       "   upper_threshold lower_threshold  alert  \n",
       "0          0.97866        0.963317  False  \n",
       "1          0.97866        0.963317  False  \n",
       "2          0.97866        0.963317  False  \n",
       "3          0.97866        0.963317  False  \n",
       "4          0.97866        0.963317  False  \n",
       "5          0.97866        0.963317  False  \n",
       "6          0.97866        0.963317  False  \n",
       "7          0.97866        0.963317  False  \n",
       "8          0.97866        0.963317  False  \n",
       "9          0.97866        0.963317  False  \n",
       "10         0.97866        0.963317  False  \n",
       "11         0.97866        0.963317  False  \n",
       "12         0.97866        0.963317  False  \n",
       "13         0.97866        0.963317  False  \n",
       "14         0.97866        0.963317  False  \n",
       "15         0.97866        0.963317   True  \n",
       "16         0.97866        0.963317   True  \n",
       "17         0.97866        0.963317   True  \n",
       "18         0.97866        0.963317   True  \n",
       "19         0.97866        0.963317   True  "
      ]
     },
     "metadata": {},
     "output_type": "display_data"
    }
   ],
   "source": [
    "display(results2.to_df())"
   ]
  },
  {
   "cell_type": "code",
   "execution_count": 10,
   "metadata": {},
   "outputs": [
    {
     "data": {
      "text/html": [
       "<div>\n",
       "<style scoped>\n",
       "    .dataframe tbody tr th:only-of-type {\n",
       "        vertical-align: middle;\n",
       "    }\n",
       "\n",
       "    .dataframe tbody tr th {\n",
       "        vertical-align: top;\n",
       "    }\n",
       "\n",
       "    .dataframe thead tr th {\n",
       "        text-align: left;\n",
       "    }\n",
       "</style>\n",
       "<table border=\"1\" class=\"dataframe\">\n",
       "  <thead>\n",
       "  </thead>\n",
       "  <tbody>\n",
       "  </tbody>\n",
       "</table>\n",
       "</div>"
      ],
      "text/plain": [
       "Empty DataFrame\n",
       "Columns: []\n",
       "Index: []"
      ]
     },
     "execution_count": 10,
     "metadata": {},
     "output_type": "execute_result"
    }
   ],
   "source": [
    "# print the rows that are different between the two results\n",
    "results.to_df().compare(results2.to_df())"
   ]
  },
  {
   "cell_type": "code",
   "execution_count": 11,
   "metadata": {},
   "outputs": [],
   "source": [
    "# chunker = nml.SizeBasedChunker(chunk_size=5000)\n",
    "\n",
    "# ref_chunks = chunker.split(reference_df)\n",
    "# ana_chunks = chunker.split(analysis_df)\n",
    "\n",
    "# business_value_matrix=[[2, -4], [-10, 10]]\n",
    "\n",
    "# print(\"REF\\n\")\n",
    "# for chunk in ref_chunks:\n",
    "#     cm = confusion_matrix(chunk.data['repaid'], chunk.data['y_pred'])\n",
    "#     tp = cm[1, 1] * business_value_matrix[1][1]\n",
    "#     tn = cm[0, 0] * business_value_matrix[0][0]\n",
    "#     fp = cm[0, 1] * business_value_matrix[0][1]\n",
    "#     fn = cm[1, 0] * business_value_matrix[1][0]\n",
    "\n",
    "#     print(f\"bv: {(tp + tn + fp + fn)/ len(chunk.data)}\")\n",
    "\n",
    "# print(\"\\n\\nANA\\n\")\n",
    "# for chunk in ana_chunks:\n",
    "#     cm = confusion_matrix(chunk.data['repaid'], chunk.data['y_pred'])\n",
    "#     tp = cm[1, 1] * business_value_matrix[1][1]\n",
    "#     tn = cm[0, 0] * business_value_matrix[0][0]\n",
    "#     fp = cm[0, 1] * business_value_matrix[0][1]\n",
    "#     fn = cm[1, 0] * business_value_matrix[1][0]\n",
    "\n",
    "#     print(f\"bv: {(tp + tn + fp + fn)/ len(chunk.data)}\")\n",
    "\n",
    "    "
   ]
  },
  {
   "cell_type": "markdown",
   "metadata": {},
   "source": [
    "# Plotting"
   ]
  },
  {
   "cell_type": "code",
   "execution_count": 12,
   "metadata": {},
   "outputs": [
    {
     "data": {
      "application/vnd.plotly.v1+json": {
       "config": {
        "plotlyServerURL": "https://plot.ly"
       },
       "data": [
        {
         "hoverinfo": "skip",
         "legendgroup": "metric_reference",
         "line": {
          "color": "#00c8e5",
          "shape": "hv",
          "width": 2
         },
         "mode": "lines",
         "name": "Metric (reference)",
         "showlegend": true,
         "type": "scatter",
         "x": [
          "2018-01-01T00:00:00",
          "2018-01-31T06:36:00",
          "2018-03-02T13:12:00",
          "2018-04-01T19:48:00",
          "2018-05-02T02:24:00",
          "2018-06-01T09:00:00",
          "2018-07-01T15:36:00",
          "2018-07-31T22:12:00",
          "2018-08-31T04:48:00",
          "2018-09-30T11:24:00",
          "2018-10-30T17:51:16.848000"
         ],
         "xaxis": "x",
         "y": [
          25726,
          25242,
          26206,
          25776,
          25648,
          25650,
          25910,
          26108,
          25974,
          25876,
          25876
         ],
         "yaxis": "y"
        },
        {
         "customdata": [
          [
           "Realized <b>Business Value</b>",
           "<b style=\"color:#00c8e5;line-height:60px\">Reference</b>",
           "",
           "[0:4999]",
           "From <b>Jan-01-2018</b> to <b>Jan-31-2018</b>",
           25726,
           1072.4984
          ],
          [
           "Realized <b>Business Value</b>",
           "<b style=\"color:#00c8e5;line-height:60px\">Reference</b>",
           "",
           "[5000:9999]",
           "From <b>Jan-31-2018</b> to <b>Mar-02-2018</b>",
           25242,
           1072.4984
          ],
          [
           "Realized <b>Business Value</b>",
           "<b style=\"color:#00c8e5;line-height:60px\">Reference</b>",
           "",
           "[10000:14999]",
           "From <b>Mar-02-2018</b> to <b>Apr-01-2018</b>",
           26206,
           1072.4984
          ],
          [
           "Realized <b>Business Value</b>",
           "<b style=\"color:#00c8e5;line-height:60px\">Reference</b>",
           "",
           "[15000:19999]",
           "From <b>Apr-01-2018</b> to <b>May-02-2018</b>",
           25776,
           1072.4984
          ],
          [
           "Realized <b>Business Value</b>",
           "<b style=\"color:#00c8e5;line-height:60px\">Reference</b>",
           "",
           "[20000:24999]",
           "From <b>May-02-2018</b> to <b>Jun-01-2018</b>",
           25648,
           1072.4984
          ],
          [
           "Realized <b>Business Value</b>",
           "<b style=\"color:#00c8e5;line-height:60px\">Reference</b>",
           "",
           "[25000:29999]",
           "From <b>Jun-01-2018</b> to <b>Jul-01-2018</b>",
           25650,
           1072.4984
          ],
          [
           "Realized <b>Business Value</b>",
           "<b style=\"color:#00c8e5;line-height:60px\">Reference</b>",
           "",
           "[30000:34999]",
           "From <b>Jul-01-2018</b> to <b>Jul-31-2018</b>",
           25910,
           1072.4984
          ],
          [
           "Realized <b>Business Value</b>",
           "<b style=\"color:#00c8e5;line-height:60px\">Reference</b>",
           "",
           "[35000:39999]",
           "From <b>Jul-31-2018</b> to <b>Aug-31-2018</b>",
           26108,
           1072.4984
          ],
          [
           "Realized <b>Business Value</b>",
           "<b style=\"color:#00c8e5;line-height:60px\">Reference</b>",
           "",
           "[40000:44999]",
           "From <b>Aug-31-2018</b> to <b>Sep-30-2018</b>",
           25974,
           1072.4984
          ],
          [
           "Realized <b>Business Value</b>",
           "<b style=\"color:#00c8e5;line-height:60px\">Reference</b>",
           "",
           "[45000:49999]",
           "From <b>Sep-30-2018</b> to <b>Oct-30-2018</b>",
           25876,
           1072.4984
          ]
         ],
         "hovertemplate": "%{customdata[1]} &nbsp; &nbsp; %{customdata[2]} <br />Chunk: <b>%{customdata[3]}</b> &nbsp; &nbsp; %{customdata[4]} <br />%{customdata[0]}: <b>%{customdata[5]}</b><br />Confidence band: +/- <b>%{customdata[6]}</b><br /><extra></extra>",
         "legendgroup": "metric_reference",
         "marker": {
          "color": "#00c8e5",
          "size": 5,
          "symbol": "circle"
         },
         "mode": "markers",
         "name": "Metric (reference)",
         "showlegend": false,
         "type": "scatter",
         "x": [
          "2018-01-16T03:18:00",
          "2018-02-15T09:54:00",
          "2018-03-17T16:30:00",
          "2018-04-16T23:06:00",
          "2018-05-17T05:42:00",
          "2018-06-16T12:18:00",
          "2018-07-16T18:54:00",
          "2018-08-16T01:30:00",
          "2018-09-15T08:06:00",
          "2018-10-15T14:37:38.424000"
         ],
         "xaxis": "x",
         "y": [
          25726,
          25242,
          26206,
          25776,
          25648,
          25650,
          25910,
          26108,
          25974,
          25876,
          25876
         ],
         "yaxis": "y"
        },
        {
         "hoverinfo": "skip",
         "legendgroup": "metric_analysis",
         "line": {
          "color": "#3b0280",
          "shape": "hv",
          "width": 2
         },
         "mode": "lines",
         "name": "Metric (analysis)",
         "showlegend": true,
         "type": "scatter",
         "x": [
          "2018-10-30T18:00:00",
          "2018-11-30T00:36:00",
          "2018-12-30T07:12:00",
          "2019-01-29T13:48:00",
          "2019-02-28T20:24:00",
          "2019-03-31T03:00:00",
          "2019-04-30T09:36:00",
          "2019-05-30T16:12:00",
          "2019-06-29T22:48:00",
          "2019-07-30T05:24:00",
          "2019-08-29T11:51:16.848000"
         ],
         "xaxis": "x",
         "y": [
          26434,
          25312,
          25838,
          25560,
          25786,
          24096,
          24098,
          24012,
          24266,
          24464,
          24464
         ],
         "yaxis": "y"
        },
        {
         "customdata": [
          [
           "Realized <b>Business Value</b>",
           "<b style=\"color:#3b0280;line-height:60px\">Analysis</b>",
           "",
           "[0:4999]",
           "From <b>Oct-30-2018</b> to <b>Nov-30-2018</b>",
           26434,
           1072.4984
          ],
          [
           "Realized <b>Business Value</b>",
           "<b style=\"color:#3b0280;line-height:60px\">Analysis</b>",
           "",
           "[5000:9999]",
           "From <b>Nov-30-2018</b> to <b>Dec-30-2018</b>",
           25312,
           1072.4984
          ],
          [
           "Realized <b>Business Value</b>",
           "<b style=\"color:#3b0280;line-height:60px\">Analysis</b>",
           "",
           "[10000:14999]",
           "From <b>Dec-30-2018</b> to <b>Jan-29-2019</b>",
           25838,
           1072.4984
          ],
          [
           "Realized <b>Business Value</b>",
           "<b style=\"color:#3b0280;line-height:60px\">Analysis</b>",
           "",
           "[15000:19999]",
           "From <b>Jan-29-2019</b> to <b>Feb-28-2019</b>",
           25560,
           1072.4984
          ],
          [
           "Realized <b>Business Value</b>",
           "<b style=\"color:#3b0280;line-height:60px\">Analysis</b>",
           "",
           "[20000:24999]",
           "From <b>Feb-28-2019</b> to <b>Mar-31-2019</b>",
           25786,
           1072.4984
          ],
          [
           "Realized <b>Business Value</b>",
           "<b style=\"color:#3b0280;line-height:60px\">Analysis</b>",
           "<span style=\"color:#AD0000\">⚠ <b>Drift detected</b></span>",
           "[25000:29999]",
           "From <b>Mar-31-2019</b> to <b>Apr-30-2019</b>",
           24096,
           1072.4984
          ],
          [
           "Realized <b>Business Value</b>",
           "<b style=\"color:#3b0280;line-height:60px\">Analysis</b>",
           "<span style=\"color:#AD0000\">⚠ <b>Drift detected</b></span>",
           "[30000:34999]",
           "From <b>Apr-30-2019</b> to <b>May-30-2019</b>",
           24098,
           1072.4984
          ],
          [
           "Realized <b>Business Value</b>",
           "<b style=\"color:#3b0280;line-height:60px\">Analysis</b>",
           "<span style=\"color:#AD0000\">⚠ <b>Drift detected</b></span>",
           "[35000:39999]",
           "From <b>May-30-2019</b> to <b>Jun-29-2019</b>",
           24012,
           1072.4984
          ],
          [
           "Realized <b>Business Value</b>",
           "<b style=\"color:#3b0280;line-height:60px\">Analysis</b>",
           "<span style=\"color:#AD0000\">⚠ <b>Drift detected</b></span>",
           "[40000:44999]",
           "From <b>Jun-29-2019</b> to <b>Jul-30-2019</b>",
           24266,
           1072.4984
          ],
          [
           "Realized <b>Business Value</b>",
           "<b style=\"color:#3b0280;line-height:60px\">Analysis</b>",
           "<span style=\"color:#AD0000\">⚠ <b>Drift detected</b></span>",
           "[45000:49999]",
           "From <b>Jul-30-2019</b> to <b>Aug-29-2019</b>",
           24464,
           1072.4984
          ]
         ],
         "hovertemplate": "%{customdata[1]} &nbsp; &nbsp; %{customdata[2]} <br />Chunk: <b>%{customdata[3]}</b> &nbsp; &nbsp; %{customdata[4]} <br />%{customdata[0]}: <b>%{customdata[5]}</b><br />Confidence band: +/- <b>%{customdata[6]}</b><br /><extra></extra>",
         "legendgroup": "metric_analysis",
         "marker": {
          "color": "#3b0280",
          "size": 5,
          "symbol": "circle"
         },
         "mode": "markers",
         "name": "Metric (analysis)",
         "showlegend": false,
         "type": "scatter",
         "x": [
          "2018-11-14T21:18:00",
          "2018-12-15T03:54:00",
          "2019-01-14T10:30:00",
          "2019-02-13T17:06:00",
          "2019-03-15T23:42:00",
          "2019-04-15T06:18:00",
          "2019-05-15T12:54:00",
          "2019-06-14T19:30:00",
          "2019-07-15T02:06:00",
          "2019-08-14T08:37:38.424000"
         ],
         "xaxis": "x",
         "y": [
          26434,
          25312,
          25838,
          25560,
          25786,
          24096,
          24098,
          24012,
          24266,
          24464,
          24464
         ],
         "yaxis": "y"
        },
        {
         "hoverinfo": "skip",
         "legendgroup": "alert",
         "marker": {
          "color": "#DD4040",
          "size": 8,
          "symbol": "diamond"
         },
         "mode": "markers",
         "name": "Alert",
         "showlegend": true,
         "type": "scatter",
         "x": [
          "2019-04-15T06:18:00",
          "2019-05-15T12:54:00",
          "2019-06-14T19:30:00",
          "2019-07-15T02:06:00",
          "2019-08-14T08:37:38.424000"
         ],
         "xaxis": "x",
         "y": [
          24096,
          24098,
          24012,
          24266,
          24464
         ],
         "yaxis": "y"
        },
        {
         "hoverinfo": "skip",
         "legendgroup": "thresh",
         "line": {
          "color": "#DD4040",
          "dash": "dash",
          "width": 2
         },
         "mode": "lines",
         "name": "Threshold",
         "showlegend": true,
         "type": "scatter",
         "x": [
          "2018-01-01T00:00:00",
          "2018-01-31T06:36:00",
          "2018-03-02T13:12:00",
          "2018-04-01T19:48:00",
          "2018-05-02T02:24:00",
          "2018-06-01T09:00:00",
          "2018-07-01T15:36:00",
          "2018-07-31T22:12:00",
          "2018-08-31T04:48:00",
          "2018-09-30T11:24:00",
          "2018-10-30T17:51:16.848000"
         ],
         "xaxis": "x",
         "y": [
          26587.85624635168,
          26587.85624635168,
          26587.85624635168,
          26587.85624635168,
          26587.85624635168,
          26587.85624635168,
          26587.85624635168,
          26587.85624635168,
          26587.85624635168,
          26587.85624635168,
          26587.85624635168
         ],
         "yaxis": "y"
        },
        {
         "hoverinfo": "skip",
         "legendgroup": "thresh",
         "line": {
          "color": "#DD4040",
          "dash": "dash",
          "width": 2
         },
         "mode": "lines",
         "name": "Threshold",
         "showlegend": false,
         "type": "scatter",
         "x": [
          "2018-01-01T00:00:00",
          "2018-01-31T06:36:00",
          "2018-03-02T13:12:00",
          "2018-04-01T19:48:00",
          "2018-05-02T02:24:00",
          "2018-06-01T09:00:00",
          "2018-07-01T15:36:00",
          "2018-07-31T22:12:00",
          "2018-08-31T04:48:00",
          "2018-09-30T11:24:00",
          "2018-10-30T17:51:16.848000"
         ],
         "xaxis": "x",
         "y": [
          25035.343753648318,
          25035.343753648318,
          25035.343753648318,
          25035.343753648318,
          25035.343753648318,
          25035.343753648318,
          25035.343753648318,
          25035.343753648318,
          25035.343753648318,
          25035.343753648318,
          25035.343753648318
         ],
         "yaxis": "y"
        },
        {
         "hoverinfo": "skip",
         "legendgroup": "thresh",
         "line": {
          "color": "#DD4040",
          "dash": "dash",
          "width": 2
         },
         "mode": "lines",
         "name": "Threshold",
         "showlegend": false,
         "type": "scatter",
         "x": [
          "2018-10-30T18:00:00",
          "2018-11-30T00:36:00",
          "2018-12-30T07:12:00",
          "2019-01-29T13:48:00",
          "2019-02-28T20:24:00",
          "2019-03-31T03:00:00",
          "2019-04-30T09:36:00",
          "2019-05-30T16:12:00",
          "2019-06-29T22:48:00",
          "2019-07-30T05:24:00",
          "2019-08-29T11:51:16.848000"
         ],
         "xaxis": "x",
         "y": [
          26587.85624635168,
          26587.85624635168,
          26587.85624635168,
          26587.85624635168,
          26587.85624635168,
          26587.85624635168,
          26587.85624635168,
          26587.85624635168,
          26587.85624635168,
          26587.85624635168,
          26587.85624635168
         ],
         "yaxis": "y"
        },
        {
         "hoverinfo": "skip",
         "legendgroup": "thresh",
         "line": {
          "color": "#DD4040",
          "dash": "dash",
          "width": 2
         },
         "mode": "lines",
         "name": "Threshold",
         "showlegend": false,
         "type": "scatter",
         "x": [
          "2018-10-30T18:00:00",
          "2018-11-30T00:36:00",
          "2018-12-30T07:12:00",
          "2019-01-29T13:48:00",
          "2019-02-28T20:24:00",
          "2019-03-31T03:00:00",
          "2019-04-30T09:36:00",
          "2019-05-30T16:12:00",
          "2019-06-29T22:48:00",
          "2019-07-30T05:24:00",
          "2019-08-29T11:51:16.848000"
         ],
         "xaxis": "x",
         "y": [
          25035.343753648318,
          25035.343753648318,
          25035.343753648318,
          25035.343753648318,
          25035.343753648318,
          25035.343753648318,
          25035.343753648318,
          25035.343753648318,
          25035.343753648318,
          25035.343753648318,
          25035.343753648318
         ],
         "yaxis": "y"
        },
        {
         "hoverinfo": "skip",
         "legendgroup": "metric_reference",
         "line": {
          "color": "#00c8e5",
          "shape": "hv",
          "width": 2
         },
         "mode": "lines",
         "name": "Metric (reference)",
         "showlegend": false,
         "type": "scatter",
         "x": [
          "2018-01-01T00:00:00",
          "2018-01-31T06:36:00",
          "2018-03-02T13:12:00",
          "2018-04-01T19:48:00",
          "2018-05-02T02:24:00",
          "2018-06-01T09:00:00",
          "2018-07-01T15:36:00",
          "2018-07-31T22:12:00",
          "2018-08-31T04:48:00",
          "2018-09-30T11:24:00",
          "2018-10-30T17:51:16.848000"
         ],
         "xaxis": "x2",
         "y": [
          0.9447070914696813,
          0.9375643931588709,
          0.9459730869652541,
          0.9432118868308569,
          0.9379891631547261,
          0.9425807779378473,
          0.9441397521836279,
          0.9446122860020141,
          0.9445228969134558,
          0.9422492401215805,
          0.9422492401215805
         ],
         "yaxis": "y2"
        },
        {
         "customdata": [
          [
           "Realized <b>F1</b>",
           "<b style=\"color:#00c8e5;line-height:60px\">Reference</b>",
           "",
           "[0:4999]",
           "From <b>Jan-01-2018</b> to <b>Jan-31-2018</b>",
           0.9447,
           0.0193
          ],
          [
           "Realized <b>F1</b>",
           "<b style=\"color:#00c8e5;line-height:60px\">Reference</b>",
           "",
           "[5000:9999]",
           "From <b>Jan-31-2018</b> to <b>Mar-02-2018</b>",
           0.9376,
           0.0193
          ],
          [
           "Realized <b>F1</b>",
           "<b style=\"color:#00c8e5;line-height:60px\">Reference</b>",
           "",
           "[10000:14999]",
           "From <b>Mar-02-2018</b> to <b>Apr-01-2018</b>",
           0.946,
           0.0193
          ],
          [
           "Realized <b>F1</b>",
           "<b style=\"color:#00c8e5;line-height:60px\">Reference</b>",
           "",
           "[15000:19999]",
           "From <b>Apr-01-2018</b> to <b>May-02-2018</b>",
           0.9432,
           0.0193
          ],
          [
           "Realized <b>F1</b>",
           "<b style=\"color:#00c8e5;line-height:60px\">Reference</b>",
           "",
           "[20000:24999]",
           "From <b>May-02-2018</b> to <b>Jun-01-2018</b>",
           0.938,
           0.0193
          ],
          [
           "Realized <b>F1</b>",
           "<b style=\"color:#00c8e5;line-height:60px\">Reference</b>",
           "",
           "[25000:29999]",
           "From <b>Jun-01-2018</b> to <b>Jul-01-2018</b>",
           0.9426,
           0.0193
          ],
          [
           "Realized <b>F1</b>",
           "<b style=\"color:#00c8e5;line-height:60px\">Reference</b>",
           "",
           "[30000:34999]",
           "From <b>Jul-01-2018</b> to <b>Jul-31-2018</b>",
           0.9441,
           0.0193
          ],
          [
           "Realized <b>F1</b>",
           "<b style=\"color:#00c8e5;line-height:60px\">Reference</b>",
           "",
           "[35000:39999]",
           "From <b>Jul-31-2018</b> to <b>Aug-31-2018</b>",
           0.9446,
           0.0193
          ],
          [
           "Realized <b>F1</b>",
           "<b style=\"color:#00c8e5;line-height:60px\">Reference</b>",
           "",
           "[40000:44999]",
           "From <b>Aug-31-2018</b> to <b>Sep-30-2018</b>",
           0.9445,
           0.0193
          ],
          [
           "Realized <b>F1</b>",
           "<b style=\"color:#00c8e5;line-height:60px\">Reference</b>",
           "",
           "[45000:49999]",
           "From <b>Sep-30-2018</b> to <b>Oct-30-2018</b>",
           0.9422,
           0.0193
          ]
         ],
         "hovertemplate": "%{customdata[1]} &nbsp; &nbsp; %{customdata[2]} <br />Chunk: <b>%{customdata[3]}</b> &nbsp; &nbsp; %{customdata[4]} <br />%{customdata[0]}: <b>%{customdata[5]}</b><br />Confidence band: +/- <b>%{customdata[6]}</b><br /><extra></extra>",
         "legendgroup": "metric_reference",
         "marker": {
          "color": "#00c8e5",
          "size": 5,
          "symbol": "circle"
         },
         "mode": "markers",
         "name": "Metric (reference)",
         "showlegend": false,
         "type": "scatter",
         "x": [
          "2018-01-16T03:18:00",
          "2018-02-15T09:54:00",
          "2018-03-17T16:30:00",
          "2018-04-16T23:06:00",
          "2018-05-17T05:42:00",
          "2018-06-16T12:18:00",
          "2018-07-16T18:54:00",
          "2018-08-16T01:30:00",
          "2018-09-15T08:06:00",
          "2018-10-15T14:37:38.424000"
         ],
         "xaxis": "x2",
         "y": [
          0.9447070914696813,
          0.9375643931588709,
          0.9459730869652541,
          0.9432118868308569,
          0.9379891631547261,
          0.9425807779378473,
          0.9441397521836279,
          0.9446122860020141,
          0.9445228969134558,
          0.9422492401215805,
          0.9422492401215805
         ],
         "yaxis": "y2"
        },
        {
         "hoverinfo": "skip",
         "legendgroup": "metric_analysis",
         "line": {
          "color": "#3b0280",
          "shape": "hv",
          "width": 2
         },
         "mode": "lines",
         "name": "Metric (analysis)",
         "showlegend": false,
         "type": "scatter",
         "x": [
          "2018-10-30T18:00:00",
          "2018-11-30T00:36:00",
          "2018-12-30T07:12:00",
          "2019-01-29T13:48:00",
          "2019-02-28T20:24:00",
          "2019-03-31T03:00:00",
          "2019-04-30T09:36:00",
          "2019-05-30T16:12:00",
          "2019-06-29T22:48:00",
          "2019-07-30T05:24:00",
          "2019-08-29T11:51:16.848000"
         ],
         "xaxis": "x2",
         "y": [
          0.9433444422662224,
          0.9401780169737115,
          0.9482005408778864,
          0.9421419778416085,
          0.9404881985071616,
          0.9136850616535274,
          0.9149536477226924,
          0.9133953864832053,
          0.920589439214081,
          0.9134975369458129,
          0.9134975369458129
         ],
         "yaxis": "y2"
        },
        {
         "customdata": [
          [
           "Realized <b>F1</b>",
           "<b style=\"color:#3b0280;line-height:60px\">Analysis</b>",
           "",
           "[0:4999]",
           "From <b>Oct-30-2018</b> to <b>Nov-30-2018</b>",
           0.9433,
           0.0193
          ],
          [
           "Realized <b>F1</b>",
           "<b style=\"color:#3b0280;line-height:60px\">Analysis</b>",
           "",
           "[5000:9999]",
           "From <b>Nov-30-2018</b> to <b>Dec-30-2018</b>",
           0.9402,
           0.0193
          ],
          [
           "Realized <b>F1</b>",
           "<b style=\"color:#3b0280;line-height:60px\">Analysis</b>",
           "",
           "[10000:14999]",
           "From <b>Dec-30-2018</b> to <b>Jan-29-2019</b>",
           0.9482,
           0.0193
          ],
          [
           "Realized <b>F1</b>",
           "<b style=\"color:#3b0280;line-height:60px\">Analysis</b>",
           "",
           "[15000:19999]",
           "From <b>Jan-29-2019</b> to <b>Feb-28-2019</b>",
           0.9421,
           0.0193
          ],
          [
           "Realized <b>F1</b>",
           "<b style=\"color:#3b0280;line-height:60px\">Analysis</b>",
           "",
           "[20000:24999]",
           "From <b>Feb-28-2019</b> to <b>Mar-31-2019</b>",
           0.9405,
           0.0193
          ],
          [
           "Realized <b>F1</b>",
           "<b style=\"color:#3b0280;line-height:60px\">Analysis</b>",
           "<span style=\"color:#AD0000\">⚠ <b>Drift detected</b></span>",
           "[25000:29999]",
           "From <b>Mar-31-2019</b> to <b>Apr-30-2019</b>",
           0.9137,
           0.0193
          ],
          [
           "Realized <b>F1</b>",
           "<b style=\"color:#3b0280;line-height:60px\">Analysis</b>",
           "<span style=\"color:#AD0000\">⚠ <b>Drift detected</b></span>",
           "[30000:34999]",
           "From <b>Apr-30-2019</b> to <b>May-30-2019</b>",
           0.915,
           0.0193
          ],
          [
           "Realized <b>F1</b>",
           "<b style=\"color:#3b0280;line-height:60px\">Analysis</b>",
           "<span style=\"color:#AD0000\">⚠ <b>Drift detected</b></span>",
           "[35000:39999]",
           "From <b>May-30-2019</b> to <b>Jun-29-2019</b>",
           0.9134,
           0.0193
          ],
          [
           "Realized <b>F1</b>",
           "<b style=\"color:#3b0280;line-height:60px\">Analysis</b>",
           "<span style=\"color:#AD0000\">⚠ <b>Drift detected</b></span>",
           "[40000:44999]",
           "From <b>Jun-29-2019</b> to <b>Jul-30-2019</b>",
           0.9206,
           0.0193
          ],
          [
           "Realized <b>F1</b>",
           "<b style=\"color:#3b0280;line-height:60px\">Analysis</b>",
           "<span style=\"color:#AD0000\">⚠ <b>Drift detected</b></span>",
           "[45000:49999]",
           "From <b>Jul-30-2019</b> to <b>Aug-29-2019</b>",
           0.9135,
           0.0193
          ]
         ],
         "hovertemplate": "%{customdata[1]} &nbsp; &nbsp; %{customdata[2]} <br />Chunk: <b>%{customdata[3]}</b> &nbsp; &nbsp; %{customdata[4]} <br />%{customdata[0]}: <b>%{customdata[5]}</b><br />Confidence band: +/- <b>%{customdata[6]}</b><br /><extra></extra>",
         "legendgroup": "metric_analysis",
         "marker": {
          "color": "#3b0280",
          "size": 5,
          "symbol": "circle"
         },
         "mode": "markers",
         "name": "Metric (analysis)",
         "showlegend": false,
         "type": "scatter",
         "x": [
          "2018-11-14T21:18:00",
          "2018-12-15T03:54:00",
          "2019-01-14T10:30:00",
          "2019-02-13T17:06:00",
          "2019-03-15T23:42:00",
          "2019-04-15T06:18:00",
          "2019-05-15T12:54:00",
          "2019-06-14T19:30:00",
          "2019-07-15T02:06:00",
          "2019-08-14T08:37:38.424000"
         ],
         "xaxis": "x2",
         "y": [
          0.9433444422662224,
          0.9401780169737115,
          0.9482005408778864,
          0.9421419778416085,
          0.9404881985071616,
          0.9136850616535274,
          0.9149536477226924,
          0.9133953864832053,
          0.920589439214081,
          0.9134975369458129,
          0.9134975369458129
         ],
         "yaxis": "y2"
        },
        {
         "hoverinfo": "skip",
         "legendgroup": "alert",
         "marker": {
          "color": "#DD4040",
          "size": 8,
          "symbol": "diamond"
         },
         "mode": "markers",
         "name": "Alert",
         "showlegend": false,
         "type": "scatter",
         "x": [
          "2019-04-15T06:18:00",
          "2019-05-15T12:54:00",
          "2019-06-14T19:30:00",
          "2019-07-15T02:06:00",
          "2019-08-14T08:37:38.424000"
         ],
         "xaxis": "x2",
         "y": [
          0.9136850616535274,
          0.9149536477226924,
          0.9133953864832053,
          0.920589439214081,
          0.9134975369458129
         ],
         "yaxis": "y2"
        },
        {
         "hoverinfo": "skip",
         "legendgroup": "thresh",
         "line": {
          "color": "#DD4040",
          "dash": "dash",
          "width": 2
         },
         "mode": "lines",
         "name": "Threshold",
         "showlegend": false,
         "type": "scatter",
         "x": [
          "2018-01-01T00:00:00",
          "2018-01-31T06:36:00",
          "2018-03-02T13:12:00",
          "2018-04-01T19:48:00",
          "2018-05-02T02:24:00",
          "2018-06-01T09:00:00",
          "2018-07-01T15:36:00",
          "2018-07-31T22:12:00",
          "2018-08-31T04:48:00",
          "2018-09-30T11:24:00",
          "2018-10-30T17:51:16.848000"
         ],
         "xaxis": "x2",
         "y": [
          0.9508500418298859,
          0.9508500418298859,
          0.9508500418298859,
          0.9508500418298859,
          0.9508500418298859,
          0.9508500418298859,
          0.9508500418298859,
          0.9508500418298859,
          0.9508500418298859,
          0.9508500418298859,
          0.9508500418298859
         ],
         "yaxis": "y2"
        },
        {
         "hoverinfo": "skip",
         "legendgroup": "thresh",
         "line": {
          "color": "#DD4040",
          "dash": "dash",
          "width": 2
         },
         "mode": "lines",
         "name": "Threshold",
         "showlegend": false,
         "type": "scatter",
         "x": [
          "2018-01-01T00:00:00",
          "2018-01-31T06:36:00",
          "2018-03-02T13:12:00",
          "2018-04-01T19:48:00",
          "2018-05-02T02:24:00",
          "2018-06-01T09:00:00",
          "2018-07-01T15:36:00",
          "2018-07-31T22:12:00",
          "2018-08-31T04:48:00",
          "2018-09-30T11:24:00",
          "2018-10-30T17:51:16.848000"
         ],
         "xaxis": "x2",
         "y": [
          0.9346600731176969,
          0.9346600731176969,
          0.9346600731176969,
          0.9346600731176969,
          0.9346600731176969,
          0.9346600731176969,
          0.9346600731176969,
          0.9346600731176969,
          0.9346600731176969,
          0.9346600731176969,
          0.9346600731176969
         ],
         "yaxis": "y2"
        },
        {
         "hoverinfo": "skip",
         "legendgroup": "thresh",
         "line": {
          "color": "#DD4040",
          "dash": "dash",
          "width": 2
         },
         "mode": "lines",
         "name": "Threshold",
         "showlegend": false,
         "type": "scatter",
         "x": [
          "2018-10-30T18:00:00",
          "2018-11-30T00:36:00",
          "2018-12-30T07:12:00",
          "2019-01-29T13:48:00",
          "2019-02-28T20:24:00",
          "2019-03-31T03:00:00",
          "2019-04-30T09:36:00",
          "2019-05-30T16:12:00",
          "2019-06-29T22:48:00",
          "2019-07-30T05:24:00",
          "2019-08-29T11:51:16.848000"
         ],
         "xaxis": "x2",
         "y": [
          0.9508500418298859,
          0.9508500418298859,
          0.9508500418298859,
          0.9508500418298859,
          0.9508500418298859,
          0.9508500418298859,
          0.9508500418298859,
          0.9508500418298859,
          0.9508500418298859,
          0.9508500418298859,
          0.9508500418298859
         ],
         "yaxis": "y2"
        },
        {
         "hoverinfo": "skip",
         "legendgroup": "thresh",
         "line": {
          "color": "#DD4040",
          "dash": "dash",
          "width": 2
         },
         "mode": "lines",
         "name": "Threshold",
         "showlegend": false,
         "type": "scatter",
         "x": [
          "2018-10-30T18:00:00",
          "2018-11-30T00:36:00",
          "2018-12-30T07:12:00",
          "2019-01-29T13:48:00",
          "2019-02-28T20:24:00",
          "2019-03-31T03:00:00",
          "2019-04-30T09:36:00",
          "2019-05-30T16:12:00",
          "2019-06-29T22:48:00",
          "2019-07-30T05:24:00",
          "2019-08-29T11:51:16.848000"
         ],
         "xaxis": "x2",
         "y": [
          0.9346600731176969,
          0.9346600731176969,
          0.9346600731176969,
          0.9346600731176969,
          0.9346600731176969,
          0.9346600731176969,
          0.9346600731176969,
          0.9346600731176969,
          0.9346600731176969,
          0.9346600731176969,
          0.9346600731176969
         ],
         "yaxis": "y2"
        },
        {
         "hoverinfo": "skip",
         "legendgroup": "metric_reference",
         "line": {
          "color": "#00c8e5",
          "shape": "hv",
          "width": 2
         },
         "mode": "lines",
         "name": "Metric (reference)",
         "showlegend": false,
         "type": "scatter",
         "x": [
          "2018-01-01T00:00:00",
          "2018-01-31T06:36:00",
          "2018-03-02T13:12:00",
          "2018-04-01T19:48:00",
          "2018-05-02T02:24:00",
          "2018-06-01T09:00:00",
          "2018-07-01T15:36:00",
          "2018-07-31T22:12:00",
          "2018-08-31T04:48:00",
          "2018-09-30T11:24:00",
          "2018-10-30T17:51:16.848000"
         ],
         "xaxis": "x3",
         "y": [
          0.976253421229159,
          0.969045372893087,
          0.9717424542454245,
          0.9716415018505611,
          0.9690851895048956,
          0.9673635705396104,
          0.9686915198502908,
          0.9702049135212074,
          0.9740964496449644,
          0.9717569573200742,
          0.9717569573200742
         ],
         "yaxis": "y3"
        },
        {
         "customdata": [
          [
           "Realized <b>ROC AUC</b>",
           "<b style=\"color:#00c8e5;line-height:60px\">Reference</b>",
           "",
           "[0:4999]",
           "From <b>Jan-01-2018</b> to <b>Jan-31-2018</b>",
           0.9763,
           0.0054
          ],
          [
           "Realized <b>ROC AUC</b>",
           "<b style=\"color:#00c8e5;line-height:60px\">Reference</b>",
           "",
           "[5000:9999]",
           "From <b>Jan-31-2018</b> to <b>Mar-02-2018</b>",
           0.969,
           0.0054
          ],
          [
           "Realized <b>ROC AUC</b>",
           "<b style=\"color:#00c8e5;line-height:60px\">Reference</b>",
           "",
           "[10000:14999]",
           "From <b>Mar-02-2018</b> to <b>Apr-01-2018</b>",
           0.9717,
           0.0054
          ],
          [
           "Realized <b>ROC AUC</b>",
           "<b style=\"color:#00c8e5;line-height:60px\">Reference</b>",
           "",
           "[15000:19999]",
           "From <b>Apr-01-2018</b> to <b>May-02-2018</b>",
           0.9716,
           0.0054
          ],
          [
           "Realized <b>ROC AUC</b>",
           "<b style=\"color:#00c8e5;line-height:60px\">Reference</b>",
           "",
           "[20000:24999]",
           "From <b>May-02-2018</b> to <b>Jun-01-2018</b>",
           0.9691,
           0.0054
          ],
          [
           "Realized <b>ROC AUC</b>",
           "<b style=\"color:#00c8e5;line-height:60px\">Reference</b>",
           "",
           "[25000:29999]",
           "From <b>Jun-01-2018</b> to <b>Jul-01-2018</b>",
           0.9674,
           0.0054
          ],
          [
           "Realized <b>ROC AUC</b>",
           "<b style=\"color:#00c8e5;line-height:60px\">Reference</b>",
           "",
           "[30000:34999]",
           "From <b>Jul-01-2018</b> to <b>Jul-31-2018</b>",
           0.9687,
           0.0054
          ],
          [
           "Realized <b>ROC AUC</b>",
           "<b style=\"color:#00c8e5;line-height:60px\">Reference</b>",
           "",
           "[35000:39999]",
           "From <b>Jul-31-2018</b> to <b>Aug-31-2018</b>",
           0.9702,
           0.0054
          ],
          [
           "Realized <b>ROC AUC</b>",
           "<b style=\"color:#00c8e5;line-height:60px\">Reference</b>",
           "",
           "[40000:44999]",
           "From <b>Aug-31-2018</b> to <b>Sep-30-2018</b>",
           0.9741,
           0.0054
          ],
          [
           "Realized <b>ROC AUC</b>",
           "<b style=\"color:#00c8e5;line-height:60px\">Reference</b>",
           "",
           "[45000:49999]",
           "From <b>Sep-30-2018</b> to <b>Oct-30-2018</b>",
           0.9718,
           0.0054
          ]
         ],
         "hovertemplate": "%{customdata[1]} &nbsp; &nbsp; %{customdata[2]} <br />Chunk: <b>%{customdata[3]}</b> &nbsp; &nbsp; %{customdata[4]} <br />%{customdata[0]}: <b>%{customdata[5]}</b><br />Confidence band: +/- <b>%{customdata[6]}</b><br /><extra></extra>",
         "legendgroup": "metric_reference",
         "marker": {
          "color": "#00c8e5",
          "size": 5,
          "symbol": "circle"
         },
         "mode": "markers",
         "name": "Metric (reference)",
         "showlegend": false,
         "type": "scatter",
         "x": [
          "2018-01-16T03:18:00",
          "2018-02-15T09:54:00",
          "2018-03-17T16:30:00",
          "2018-04-16T23:06:00",
          "2018-05-17T05:42:00",
          "2018-06-16T12:18:00",
          "2018-07-16T18:54:00",
          "2018-08-16T01:30:00",
          "2018-09-15T08:06:00",
          "2018-10-15T14:37:38.424000"
         ],
         "xaxis": "x3",
         "y": [
          0.976253421229159,
          0.969045372893087,
          0.9717424542454245,
          0.9716415018505611,
          0.9690851895048956,
          0.9673635705396104,
          0.9686915198502908,
          0.9702049135212074,
          0.9740964496449644,
          0.9717569573200742,
          0.9717569573200742
         ],
         "yaxis": "y3"
        },
        {
         "hoverinfo": "skip",
         "legendgroup": "metric_analysis",
         "line": {
          "color": "#3b0280",
          "shape": "hv",
          "width": 2
         },
         "mode": "lines",
         "name": "Metric (analysis)",
         "showlegend": false,
         "type": "scatter",
         "x": [
          "2018-10-30T18:00:00",
          "2018-11-30T00:36:00",
          "2018-12-30T07:12:00",
          "2019-01-29T13:48:00",
          "2019-02-28T20:24:00",
          "2019-03-31T03:00:00",
          "2019-04-30T09:36:00",
          "2019-05-30T16:12:00",
          "2019-06-29T22:48:00",
          "2019-07-30T05:24:00",
          "2019-08-29T11:51:16.848000"
         ],
         "xaxis": "x3",
         "y": [
          0.9709624381107628,
          0.9702476827059668,
          0.9762819900018559,
          0.9677208066466165,
          0.9698859857170538,
          0.9600497824716867,
          0.9585296929692968,
          0.9590407410186671,
          0.9630940067933121,
          0.9575559603676863,
          0.9575559603676863
         ],
         "yaxis": "y3"
        },
        {
         "customdata": [
          [
           "Realized <b>ROC AUC</b>",
           "<b style=\"color:#3b0280;line-height:60px\">Analysis</b>",
           "",
           "[0:4999]",
           "From <b>Oct-30-2018</b> to <b>Nov-30-2018</b>",
           0.971,
           0.0054
          ],
          [
           "Realized <b>ROC AUC</b>",
           "<b style=\"color:#3b0280;line-height:60px\">Analysis</b>",
           "",
           "[5000:9999]",
           "From <b>Nov-30-2018</b> to <b>Dec-30-2018</b>",
           0.9702,
           0.0054
          ],
          [
           "Realized <b>ROC AUC</b>",
           "<b style=\"color:#3b0280;line-height:60px\">Analysis</b>",
           "",
           "[10000:14999]",
           "From <b>Dec-30-2018</b> to <b>Jan-29-2019</b>",
           0.9763,
           0.0054
          ],
          [
           "Realized <b>ROC AUC</b>",
           "<b style=\"color:#3b0280;line-height:60px\">Analysis</b>",
           "",
           "[15000:19999]",
           "From <b>Jan-29-2019</b> to <b>Feb-28-2019</b>",
           0.9677,
           0.0054
          ],
          [
           "Realized <b>ROC AUC</b>",
           "<b style=\"color:#3b0280;line-height:60px\">Analysis</b>",
           "",
           "[20000:24999]",
           "From <b>Feb-28-2019</b> to <b>Mar-31-2019</b>",
           0.9699,
           0.0054
          ],
          [
           "Realized <b>ROC AUC</b>",
           "<b style=\"color:#3b0280;line-height:60px\">Analysis</b>",
           "<span style=\"color:#AD0000\">⚠ <b>Drift detected</b></span>",
           "[25000:29999]",
           "From <b>Mar-31-2019</b> to <b>Apr-30-2019</b>",
           0.96,
           0.0054
          ],
          [
           "Realized <b>ROC AUC</b>",
           "<b style=\"color:#3b0280;line-height:60px\">Analysis</b>",
           "<span style=\"color:#AD0000\">⚠ <b>Drift detected</b></span>",
           "[30000:34999]",
           "From <b>Apr-30-2019</b> to <b>May-30-2019</b>",
           0.9585,
           0.0054
          ],
          [
           "Realized <b>ROC AUC</b>",
           "<b style=\"color:#3b0280;line-height:60px\">Analysis</b>",
           "<span style=\"color:#AD0000\">⚠ <b>Drift detected</b></span>",
           "[35000:39999]",
           "From <b>May-30-2019</b> to <b>Jun-29-2019</b>",
           0.959,
           0.0054
          ],
          [
           "Realized <b>ROC AUC</b>",
           "<b style=\"color:#3b0280;line-height:60px\">Analysis</b>",
           "<span style=\"color:#AD0000\">⚠ <b>Drift detected</b></span>",
           "[40000:44999]",
           "From <b>Jun-29-2019</b> to <b>Jul-30-2019</b>",
           0.9631,
           0.0054
          ],
          [
           "Realized <b>ROC AUC</b>",
           "<b style=\"color:#3b0280;line-height:60px\">Analysis</b>",
           "<span style=\"color:#AD0000\">⚠ <b>Drift detected</b></span>",
           "[45000:49999]",
           "From <b>Jul-30-2019</b> to <b>Aug-29-2019</b>",
           0.9576,
           0.0054
          ]
         ],
         "hovertemplate": "%{customdata[1]} &nbsp; &nbsp; %{customdata[2]} <br />Chunk: <b>%{customdata[3]}</b> &nbsp; &nbsp; %{customdata[4]} <br />%{customdata[0]}: <b>%{customdata[5]}</b><br />Confidence band: +/- <b>%{customdata[6]}</b><br /><extra></extra>",
         "legendgroup": "metric_analysis",
         "marker": {
          "color": "#3b0280",
          "size": 5,
          "symbol": "circle"
         },
         "mode": "markers",
         "name": "Metric (analysis)",
         "showlegend": false,
         "type": "scatter",
         "x": [
          "2018-11-14T21:18:00",
          "2018-12-15T03:54:00",
          "2019-01-14T10:30:00",
          "2019-02-13T17:06:00",
          "2019-03-15T23:42:00",
          "2019-04-15T06:18:00",
          "2019-05-15T12:54:00",
          "2019-06-14T19:30:00",
          "2019-07-15T02:06:00",
          "2019-08-14T08:37:38.424000"
         ],
         "xaxis": "x3",
         "y": [
          0.9709624381107628,
          0.9702476827059668,
          0.9762819900018559,
          0.9677208066466165,
          0.9698859857170538,
          0.9600497824716867,
          0.9585296929692968,
          0.9590407410186671,
          0.9630940067933121,
          0.9575559603676863,
          0.9575559603676863
         ],
         "yaxis": "y3"
        },
        {
         "hoverinfo": "skip",
         "legendgroup": "alert",
         "marker": {
          "color": "#DD4040",
          "size": 8,
          "symbol": "diamond"
         },
         "mode": "markers",
         "name": "Alert",
         "showlegend": false,
         "type": "scatter",
         "x": [
          "2019-04-15T06:18:00",
          "2019-05-15T12:54:00",
          "2019-06-14T19:30:00",
          "2019-07-15T02:06:00",
          "2019-08-14T08:37:38.424000"
         ],
         "xaxis": "x3",
         "y": [
          0.9600497824716867,
          0.9585296929692968,
          0.9590407410186671,
          0.9630940067933121,
          0.9575559603676863
         ],
         "yaxis": "y3"
        },
        {
         "hoverinfo": "skip",
         "legendgroup": "thresh",
         "line": {
          "color": "#DD4040",
          "dash": "dash",
          "width": 2
         },
         "mode": "lines",
         "name": "Threshold",
         "showlegend": false,
         "type": "scatter",
         "x": [
          "2018-01-01T00:00:00",
          "2018-01-31T06:36:00",
          "2018-03-02T13:12:00",
          "2018-04-01T19:48:00",
          "2018-05-02T02:24:00",
          "2018-06-01T09:00:00",
          "2018-07-01T15:36:00",
          "2018-07-31T22:12:00",
          "2018-08-31T04:48:00",
          "2018-09-30T11:24:00",
          "2018-10-30T17:51:16.848000"
         ],
         "xaxis": "x3",
         "y": [
          0.9786597341713761,
          0.9786597341713761,
          0.9786597341713761,
          0.9786597341713761,
          0.9786597341713761,
          0.9786597341713761,
          0.9786597341713761,
          0.9786597341713761,
          0.9786597341713761,
          0.9786597341713761,
          0.9786597341713761
         ],
         "yaxis": "y3"
        },
        {
         "hoverinfo": "skip",
         "legendgroup": "thresh",
         "line": {
          "color": "#DD4040",
          "dash": "dash",
          "width": 2
         },
         "mode": "lines",
         "name": "Threshold",
         "showlegend": false,
         "type": "scatter",
         "x": [
          "2018-01-01T00:00:00",
          "2018-01-31T06:36:00",
          "2018-03-02T13:12:00",
          "2018-04-01T19:48:00",
          "2018-05-02T02:24:00",
          "2018-06-01T09:00:00",
          "2018-07-01T15:36:00",
          "2018-07-31T22:12:00",
          "2018-08-31T04:48:00",
          "2018-09-30T11:24:00",
          "2018-10-30T17:51:16.848000"
         ],
         "xaxis": "x3",
         "y": [
          0.963316535948479,
          0.963316535948479,
          0.963316535948479,
          0.963316535948479,
          0.963316535948479,
          0.963316535948479,
          0.963316535948479,
          0.963316535948479,
          0.963316535948479,
          0.963316535948479,
          0.963316535948479
         ],
         "yaxis": "y3"
        },
        {
         "hoverinfo": "skip",
         "legendgroup": "thresh",
         "line": {
          "color": "#DD4040",
          "dash": "dash",
          "width": 2
         },
         "mode": "lines",
         "name": "Threshold",
         "showlegend": false,
         "type": "scatter",
         "x": [
          "2018-10-30T18:00:00",
          "2018-11-30T00:36:00",
          "2018-12-30T07:12:00",
          "2019-01-29T13:48:00",
          "2019-02-28T20:24:00",
          "2019-03-31T03:00:00",
          "2019-04-30T09:36:00",
          "2019-05-30T16:12:00",
          "2019-06-29T22:48:00",
          "2019-07-30T05:24:00",
          "2019-08-29T11:51:16.848000"
         ],
         "xaxis": "x3",
         "y": [
          0.9786597341713761,
          0.9786597341713761,
          0.9786597341713761,
          0.9786597341713761,
          0.9786597341713761,
          0.9786597341713761,
          0.9786597341713761,
          0.9786597341713761,
          0.9786597341713761,
          0.9786597341713761,
          0.9786597341713761
         ],
         "yaxis": "y3"
        },
        {
         "hoverinfo": "skip",
         "legendgroup": "thresh",
         "line": {
          "color": "#DD4040",
          "dash": "dash",
          "width": 2
         },
         "mode": "lines",
         "name": "Threshold",
         "showlegend": false,
         "type": "scatter",
         "x": [
          "2018-10-30T18:00:00",
          "2018-11-30T00:36:00",
          "2018-12-30T07:12:00",
          "2019-01-29T13:48:00",
          "2019-02-28T20:24:00",
          "2019-03-31T03:00:00",
          "2019-04-30T09:36:00",
          "2019-05-30T16:12:00",
          "2019-06-29T22:48:00",
          "2019-07-30T05:24:00",
          "2019-08-29T11:51:16.848000"
         ],
         "xaxis": "x3",
         "y": [
          0.963316535948479,
          0.963316535948479,
          0.963316535948479,
          0.963316535948479,
          0.963316535948479,
          0.963316535948479,
          0.963316535948479,
          0.963316535948479,
          0.963316535948479,
          0.963316535948479,
          0.963316535948479
         ],
         "yaxis": "y3"
        }
       ],
       "layout": {
        "annotations": [
         {
          "font": {
           "size": 16
          },
          "showarrow": false,
          "text": "Realized <b>Business Value</b>",
          "x": 0.5,
          "xanchor": "center",
          "xref": "paper",
          "y": 1,
          "yanchor": "bottom",
          "yref": "paper"
         },
         {
          "font": {
           "size": 16
          },
          "showarrow": false,
          "text": "Realized <b>F1</b>",
          "x": 0.5,
          "xanchor": "center",
          "xref": "paper",
          "y": 0.6111111111111112,
          "yanchor": "bottom",
          "yref": "paper"
         },
         {
          "font": {
           "size": 16
          },
          "showarrow": false,
          "text": "Realized <b>ROC AUC</b>",
          "x": 0.5,
          "xanchor": "center",
          "xref": "paper",
          "y": 0.22222222222222224,
          "yanchor": "bottom",
          "yref": "paper"
         }
        ],
        "height": 1500,
        "hoverlabel": {
         "bgcolor": "white",
         "font": {
          "size": 14
         }
        },
        "legend": {
         "itemclick": false,
         "itemdoubleclick": false,
         "traceorder": "grouped"
        },
        "paper_bgcolor": "rgba(255,255,255,1)",
        "plot_bgcolor": "rgba(255,255,255,1)",
        "shapes": [
         {
          "layer": "below",
          "line": {
           "color": "#666666",
           "width": 1
          },
          "type": "line",
          "x0": "2018-10-30T18:00:00",
          "x1": "2018-10-30T18:00:00",
          "xref": "x",
          "y0": 0,
          "y1": 1,
          "yref": "y domain"
         },
         {
          "layer": "below",
          "line": {
           "color": "#666666",
           "width": 1
          },
          "type": "line",
          "x0": "2018-10-30T18:00:00",
          "x1": "2018-10-30T18:00:00",
          "xref": "x2",
          "y0": 0,
          "y1": 1,
          "yref": "y2 domain"
         },
         {
          "layer": "below",
          "line": {
           "color": "#666666",
           "width": 1
          },
          "type": "line",
          "x0": "2018-10-30T18:00:00",
          "x1": "2018-10-30T18:00:00",
          "xref": "x3",
          "y0": 0,
          "y1": 1,
          "yref": "y3 domain"
         }
        ],
        "template": {
         "data": {
          "bar": [
           {
            "error_x": {
             "color": "#2a3f5f"
            },
            "error_y": {
             "color": "#2a3f5f"
            },
            "marker": {
             "line": {
              "color": "#E5ECF6",
              "width": 0.5
             },
             "pattern": {
              "fillmode": "overlay",
              "size": 10,
              "solidity": 0.2
             }
            },
            "type": "bar"
           }
          ],
          "barpolar": [
           {
            "marker": {
             "line": {
              "color": "#E5ECF6",
              "width": 0.5
             },
             "pattern": {
              "fillmode": "overlay",
              "size": 10,
              "solidity": 0.2
             }
            },
            "type": "barpolar"
           }
          ],
          "carpet": [
           {
            "aaxis": {
             "endlinecolor": "#2a3f5f",
             "gridcolor": "white",
             "linecolor": "white",
             "minorgridcolor": "white",
             "startlinecolor": "#2a3f5f"
            },
            "baxis": {
             "endlinecolor": "#2a3f5f",
             "gridcolor": "white",
             "linecolor": "white",
             "minorgridcolor": "white",
             "startlinecolor": "#2a3f5f"
            },
            "type": "carpet"
           }
          ],
          "choropleth": [
           {
            "colorbar": {
             "outlinewidth": 0,
             "ticks": ""
            },
            "type": "choropleth"
           }
          ],
          "contour": [
           {
            "colorbar": {
             "outlinewidth": 0,
             "ticks": ""
            },
            "colorscale": [
             [
              0,
              "#0d0887"
             ],
             [
              0.1111111111111111,
              "#46039f"
             ],
             [
              0.2222222222222222,
              "#7201a8"
             ],
             [
              0.3333333333333333,
              "#9c179e"
             ],
             [
              0.4444444444444444,
              "#bd3786"
             ],
             [
              0.5555555555555556,
              "#d8576b"
             ],
             [
              0.6666666666666666,
              "#ed7953"
             ],
             [
              0.7777777777777778,
              "#fb9f3a"
             ],
             [
              0.8888888888888888,
              "#fdca26"
             ],
             [
              1,
              "#f0f921"
             ]
            ],
            "type": "contour"
           }
          ],
          "contourcarpet": [
           {
            "colorbar": {
             "outlinewidth": 0,
             "ticks": ""
            },
            "type": "contourcarpet"
           }
          ],
          "heatmap": [
           {
            "colorbar": {
             "outlinewidth": 0,
             "ticks": ""
            },
            "colorscale": [
             [
              0,
              "#0d0887"
             ],
             [
              0.1111111111111111,
              "#46039f"
             ],
             [
              0.2222222222222222,
              "#7201a8"
             ],
             [
              0.3333333333333333,
              "#9c179e"
             ],
             [
              0.4444444444444444,
              "#bd3786"
             ],
             [
              0.5555555555555556,
              "#d8576b"
             ],
             [
              0.6666666666666666,
              "#ed7953"
             ],
             [
              0.7777777777777778,
              "#fb9f3a"
             ],
             [
              0.8888888888888888,
              "#fdca26"
             ],
             [
              1,
              "#f0f921"
             ]
            ],
            "type": "heatmap"
           }
          ],
          "heatmapgl": [
           {
            "colorbar": {
             "outlinewidth": 0,
             "ticks": ""
            },
            "colorscale": [
             [
              0,
              "#0d0887"
             ],
             [
              0.1111111111111111,
              "#46039f"
             ],
             [
              0.2222222222222222,
              "#7201a8"
             ],
             [
              0.3333333333333333,
              "#9c179e"
             ],
             [
              0.4444444444444444,
              "#bd3786"
             ],
             [
              0.5555555555555556,
              "#d8576b"
             ],
             [
              0.6666666666666666,
              "#ed7953"
             ],
             [
              0.7777777777777778,
              "#fb9f3a"
             ],
             [
              0.8888888888888888,
              "#fdca26"
             ],
             [
              1,
              "#f0f921"
             ]
            ],
            "type": "heatmapgl"
           }
          ],
          "histogram": [
           {
            "marker": {
             "pattern": {
              "fillmode": "overlay",
              "size": 10,
              "solidity": 0.2
             }
            },
            "type": "histogram"
           }
          ],
          "histogram2d": [
           {
            "colorbar": {
             "outlinewidth": 0,
             "ticks": ""
            },
            "colorscale": [
             [
              0,
              "#0d0887"
             ],
             [
              0.1111111111111111,
              "#46039f"
             ],
             [
              0.2222222222222222,
              "#7201a8"
             ],
             [
              0.3333333333333333,
              "#9c179e"
             ],
             [
              0.4444444444444444,
              "#bd3786"
             ],
             [
              0.5555555555555556,
              "#d8576b"
             ],
             [
              0.6666666666666666,
              "#ed7953"
             ],
             [
              0.7777777777777778,
              "#fb9f3a"
             ],
             [
              0.8888888888888888,
              "#fdca26"
             ],
             [
              1,
              "#f0f921"
             ]
            ],
            "type": "histogram2d"
           }
          ],
          "histogram2dcontour": [
           {
            "colorbar": {
             "outlinewidth": 0,
             "ticks": ""
            },
            "colorscale": [
             [
              0,
              "#0d0887"
             ],
             [
              0.1111111111111111,
              "#46039f"
             ],
             [
              0.2222222222222222,
              "#7201a8"
             ],
             [
              0.3333333333333333,
              "#9c179e"
             ],
             [
              0.4444444444444444,
              "#bd3786"
             ],
             [
              0.5555555555555556,
              "#d8576b"
             ],
             [
              0.6666666666666666,
              "#ed7953"
             ],
             [
              0.7777777777777778,
              "#fb9f3a"
             ],
             [
              0.8888888888888888,
              "#fdca26"
             ],
             [
              1,
              "#f0f921"
             ]
            ],
            "type": "histogram2dcontour"
           }
          ],
          "mesh3d": [
           {
            "colorbar": {
             "outlinewidth": 0,
             "ticks": ""
            },
            "type": "mesh3d"
           }
          ],
          "parcoords": [
           {
            "line": {
             "colorbar": {
              "outlinewidth": 0,
              "ticks": ""
             }
            },
            "type": "parcoords"
           }
          ],
          "pie": [
           {
            "automargin": true,
            "type": "pie"
           }
          ],
          "scatter": [
           {
            "fillpattern": {
             "fillmode": "overlay",
             "size": 10,
             "solidity": 0.2
            },
            "type": "scatter"
           }
          ],
          "scatter3d": [
           {
            "line": {
             "colorbar": {
              "outlinewidth": 0,
              "ticks": ""
             }
            },
            "marker": {
             "colorbar": {
              "outlinewidth": 0,
              "ticks": ""
             }
            },
            "type": "scatter3d"
           }
          ],
          "scattercarpet": [
           {
            "marker": {
             "colorbar": {
              "outlinewidth": 0,
              "ticks": ""
             }
            },
            "type": "scattercarpet"
           }
          ],
          "scattergeo": [
           {
            "marker": {
             "colorbar": {
              "outlinewidth": 0,
              "ticks": ""
             }
            },
            "type": "scattergeo"
           }
          ],
          "scattergl": [
           {
            "marker": {
             "colorbar": {
              "outlinewidth": 0,
              "ticks": ""
             }
            },
            "type": "scattergl"
           }
          ],
          "scattermapbox": [
           {
            "marker": {
             "colorbar": {
              "outlinewidth": 0,
              "ticks": ""
             }
            },
            "type": "scattermapbox"
           }
          ],
          "scatterpolar": [
           {
            "marker": {
             "colorbar": {
              "outlinewidth": 0,
              "ticks": ""
             }
            },
            "type": "scatterpolar"
           }
          ],
          "scatterpolargl": [
           {
            "marker": {
             "colorbar": {
              "outlinewidth": 0,
              "ticks": ""
             }
            },
            "type": "scatterpolargl"
           }
          ],
          "scatterternary": [
           {
            "marker": {
             "colorbar": {
              "outlinewidth": 0,
              "ticks": ""
             }
            },
            "type": "scatterternary"
           }
          ],
          "surface": [
           {
            "colorbar": {
             "outlinewidth": 0,
             "ticks": ""
            },
            "colorscale": [
             [
              0,
              "#0d0887"
             ],
             [
              0.1111111111111111,
              "#46039f"
             ],
             [
              0.2222222222222222,
              "#7201a8"
             ],
             [
              0.3333333333333333,
              "#9c179e"
             ],
             [
              0.4444444444444444,
              "#bd3786"
             ],
             [
              0.5555555555555556,
              "#d8576b"
             ],
             [
              0.6666666666666666,
              "#ed7953"
             ],
             [
              0.7777777777777778,
              "#fb9f3a"
             ],
             [
              0.8888888888888888,
              "#fdca26"
             ],
             [
              1,
              "#f0f921"
             ]
            ],
            "type": "surface"
           }
          ],
          "table": [
           {
            "cells": {
             "fill": {
              "color": "#EBF0F8"
             },
             "line": {
              "color": "white"
             }
            },
            "header": {
             "fill": {
              "color": "#C8D4E3"
             },
             "line": {
              "color": "white"
             }
            },
            "type": "table"
           }
          ]
         },
         "layout": {
          "annotationdefaults": {
           "arrowcolor": "#2a3f5f",
           "arrowhead": 0,
           "arrowwidth": 1
          },
          "autotypenumbers": "strict",
          "coloraxis": {
           "colorbar": {
            "outlinewidth": 0,
            "ticks": ""
           }
          },
          "colorscale": {
           "diverging": [
            [
             0,
             "#8e0152"
            ],
            [
             0.1,
             "#c51b7d"
            ],
            [
             0.2,
             "#de77ae"
            ],
            [
             0.3,
             "#f1b6da"
            ],
            [
             0.4,
             "#fde0ef"
            ],
            [
             0.5,
             "#f7f7f7"
            ],
            [
             0.6,
             "#e6f5d0"
            ],
            [
             0.7,
             "#b8e186"
            ],
            [
             0.8,
             "#7fbc41"
            ],
            [
             0.9,
             "#4d9221"
            ],
            [
             1,
             "#276419"
            ]
           ],
           "sequential": [
            [
             0,
             "#0d0887"
            ],
            [
             0.1111111111111111,
             "#46039f"
            ],
            [
             0.2222222222222222,
             "#7201a8"
            ],
            [
             0.3333333333333333,
             "#9c179e"
            ],
            [
             0.4444444444444444,
             "#bd3786"
            ],
            [
             0.5555555555555556,
             "#d8576b"
            ],
            [
             0.6666666666666666,
             "#ed7953"
            ],
            [
             0.7777777777777778,
             "#fb9f3a"
            ],
            [
             0.8888888888888888,
             "#fdca26"
            ],
            [
             1,
             "#f0f921"
            ]
           ],
           "sequentialminus": [
            [
             0,
             "#0d0887"
            ],
            [
             0.1111111111111111,
             "#46039f"
            ],
            [
             0.2222222222222222,
             "#7201a8"
            ],
            [
             0.3333333333333333,
             "#9c179e"
            ],
            [
             0.4444444444444444,
             "#bd3786"
            ],
            [
             0.5555555555555556,
             "#d8576b"
            ],
            [
             0.6666666666666666,
             "#ed7953"
            ],
            [
             0.7777777777777778,
             "#fb9f3a"
            ],
            [
             0.8888888888888888,
             "#fdca26"
            ],
            [
             1,
             "#f0f921"
            ]
           ]
          },
          "colorway": [
           "#636efa",
           "#EF553B",
           "#00cc96",
           "#ab63fa",
           "#FFA15A",
           "#19d3f3",
           "#FF6692",
           "#B6E880",
           "#FF97FF",
           "#FECB52"
          ],
          "font": {
           "color": "#2a3f5f"
          },
          "geo": {
           "bgcolor": "white",
           "lakecolor": "white",
           "landcolor": "#E5ECF6",
           "showlakes": true,
           "showland": true,
           "subunitcolor": "white"
          },
          "hoverlabel": {
           "align": "left"
          },
          "hovermode": "closest",
          "mapbox": {
           "style": "light"
          },
          "paper_bgcolor": "white",
          "plot_bgcolor": "#E5ECF6",
          "polar": {
           "angularaxis": {
            "gridcolor": "white",
            "linecolor": "white",
            "ticks": ""
           },
           "bgcolor": "#E5ECF6",
           "radialaxis": {
            "gridcolor": "white",
            "linecolor": "white",
            "ticks": ""
           }
          },
          "scene": {
           "xaxis": {
            "backgroundcolor": "#E5ECF6",
            "gridcolor": "white",
            "gridwidth": 2,
            "linecolor": "white",
            "showbackground": true,
            "ticks": "",
            "zerolinecolor": "white"
           },
           "yaxis": {
            "backgroundcolor": "#E5ECF6",
            "gridcolor": "white",
            "gridwidth": 2,
            "linecolor": "white",
            "showbackground": true,
            "ticks": "",
            "zerolinecolor": "white"
           },
           "zaxis": {
            "backgroundcolor": "#E5ECF6",
            "gridcolor": "white",
            "gridwidth": 2,
            "linecolor": "white",
            "showbackground": true,
            "ticks": "",
            "zerolinecolor": "white"
           }
          },
          "shapedefaults": {
           "line": {
            "color": "#2a3f5f"
           }
          },
          "ternary": {
           "aaxis": {
            "gridcolor": "white",
            "linecolor": "white",
            "ticks": ""
           },
           "baxis": {
            "gridcolor": "white",
            "linecolor": "white",
            "ticks": ""
           },
           "bgcolor": "#E5ECF6",
           "caxis": {
            "gridcolor": "white",
            "linecolor": "white",
            "ticks": ""
           }
          },
          "title": {
           "x": 0.05
          },
          "xaxis": {
           "automargin": true,
           "gridcolor": "white",
           "linecolor": "white",
           "ticks": "",
           "title": {
            "standoff": 15
           },
           "zerolinecolor": "white",
           "zerolinewidth": 2
          },
          "yaxis": {
           "automargin": true,
           "gridcolor": "white",
           "linecolor": "white",
           "ticks": "",
           "title": {
            "standoff": 15
           },
           "zerolinecolor": "white",
           "zerolinewidth": 2
          }
         }
        },
        "title": {
         "text": "Realized performance"
        },
        "xaxis": {
         "anchor": "y",
         "domain": [
          0,
          1
         ],
         "linecolor": "#3b0280",
         "matches": "x",
         "mirror": true,
         "showgrid": false,
         "showticklabels": true,
         "title": {
          "text": "Time"
         },
         "zeroline": false
        },
        "xaxis2": {
         "anchor": "y2",
         "domain": [
          0,
          1
         ],
         "linecolor": "#3b0280",
         "matches": "x",
         "mirror": true,
         "showgrid": false,
         "showticklabels": true,
         "title": {
          "text": "Time"
         },
         "zeroline": false
        },
        "xaxis3": {
         "anchor": "y3",
         "domain": [
          0,
          1
         ],
         "linecolor": "#3b0280",
         "matches": "x",
         "mirror": true,
         "showgrid": false,
         "showticklabels": true,
         "title": {
          "text": "Time"
         },
         "zeroline": false
        },
        "yaxis": {
         "anchor": "x",
         "domain": [
          0.7777777777777778,
          1
         ],
         "linecolor": "#3b0280",
         "mirror": true,
         "showgrid": false,
         "title": {
          "text": "Business Value"
         },
         "zeroline": false
        },
        "yaxis2": {
         "anchor": "x2",
         "domain": [
          0.3888888888888889,
          0.6111111111111112
         ],
         "linecolor": "#3b0280",
         "mirror": true,
         "showgrid": false,
         "title": {
          "text": "F1"
         },
         "zeroline": false
        },
        "yaxis3": {
         "anchor": "x3",
         "domain": [
          0,
          0.22222222222222224
         ],
         "linecolor": "#3b0280",
         "mirror": true,
         "showgrid": false,
         "title": {
          "text": "ROC AUC"
         },
         "zeroline": false
        }
       }
      }
     },
     "metadata": {},
     "output_type": "display_data"
    }
   ],
   "source": [
    "figure = results.plot()\n",
    "figure.show()"
   ]
  },
  {
   "cell_type": "code",
   "execution_count": 118,
   "metadata": {},
   "outputs": [
    {
     "data": {
      "text/html": [
       "<div>\n",
       "<style scoped>\n",
       "    .dataframe tbody tr th:only-of-type {\n",
       "        vertical-align: middle;\n",
       "    }\n",
       "\n",
       "    .dataframe tbody tr th {\n",
       "        vertical-align: top;\n",
       "    }\n",
       "\n",
       "    .dataframe thead tr th {\n",
       "        text-align: left;\n",
       "    }\n",
       "</style>\n",
       "<table border=\"1\" class=\"dataframe\">\n",
       "  <thead>\n",
       "    <tr>\n",
       "      <th></th>\n",
       "      <th colspan=\"8\" halign=\"left\">chunk</th>\n",
       "      <th colspan=\"5\" halign=\"left\">true_positive</th>\n",
       "      <th colspan=\"5\" halign=\"left\">true_negative</th>\n",
       "      <th colspan=\"5\" halign=\"left\">false_positive</th>\n",
       "      <th colspan=\"5\" halign=\"left\">false_negative</th>\n",
       "      <th colspan=\"5\" halign=\"left\">business_value</th>\n",
       "    </tr>\n",
       "    <tr>\n",
       "      <th></th>\n",
       "      <th>key</th>\n",
       "      <th>chunk_index</th>\n",
       "      <th>start_index</th>\n",
       "      <th>end_index</th>\n",
       "      <th>start_date</th>\n",
       "      <th>end_date</th>\n",
       "      <th>period</th>\n",
       "      <th>targets_missing_rate</th>\n",
       "      <th>sampling_error</th>\n",
       "      <th>value</th>\n",
       "      <th>upper_threshold</th>\n",
       "      <th>lower_threshold</th>\n",
       "      <th>alert</th>\n",
       "      <th>sampling_error</th>\n",
       "      <th>value</th>\n",
       "      <th>upper_threshold</th>\n",
       "      <th>lower_threshold</th>\n",
       "      <th>alert</th>\n",
       "      <th>sampling_error</th>\n",
       "      <th>value</th>\n",
       "      <th>upper_threshold</th>\n",
       "      <th>lower_threshold</th>\n",
       "      <th>alert</th>\n",
       "      <th>sampling_error</th>\n",
       "      <th>value</th>\n",
       "      <th>upper_threshold</th>\n",
       "      <th>lower_threshold</th>\n",
       "      <th>alert</th>\n",
       "      <th>sampling_error</th>\n",
       "      <th>value</th>\n",
       "      <th>upper_threshold</th>\n",
       "      <th>lower_threshold</th>\n",
       "      <th>alert</th>\n",
       "    </tr>\n",
       "  </thead>\n",
       "  <tbody>\n",
       "    <tr>\n",
       "      <th>0</th>\n",
       "      <td>[0:4999]</td>\n",
       "      <td>0</td>\n",
       "      <td>0</td>\n",
       "      <td>4999</td>\n",
       "      <td>2018-10-30 18:00:00</td>\n",
       "      <td>2018-11-30 00:27:16.848</td>\n",
       "      <td>analysis</td>\n",
       "      <td>0.0</td>\n",
       "      <td>0.007053</td>\n",
       "      <td>0.4812</td>\n",
       "      <td>0.478879</td>\n",
       "      <td>0.449401</td>\n",
       "      <td>True</td>\n",
       "      <td>0.007065</td>\n",
       "      <td>0.4610</td>\n",
       "      <td>0.494119</td>\n",
       "      <td>0.464881</td>\n",
       "      <td>True</td>\n",
       "      <td>0.002024</td>\n",
       "      <td>0.0218</td>\n",
       "      <td>0.025818</td>\n",
       "      <td>0.016022</td>\n",
       "      <td>False</td>\n",
       "      <td>0.002615</td>\n",
       "      <td>0.0360</td>\n",
       "      <td>0.041692</td>\n",
       "      <td>0.029188</td>\n",
       "      <td>False</td>\n",
       "      <td>357.499456</td>\n",
       "      <td>26434</td>\n",
       "      <td>26587.856246</td>\n",
       "      <td>25035.343754</td>\n",
       "      <td>False</td>\n",
       "    </tr>\n",
       "    <tr>\n",
       "      <th>1</th>\n",
       "      <td>[5000:9999]</td>\n",
       "      <td>1</td>\n",
       "      <td>5000</td>\n",
       "      <td>9999</td>\n",
       "      <td>2018-11-30 00:36:00</td>\n",
       "      <td>2018-12-30 07:03:16.848</td>\n",
       "      <td>analysis</td>\n",
       "      <td>0.0</td>\n",
       "      <td>0.007053</td>\n",
       "      <td>0.4542</td>\n",
       "      <td>0.478879</td>\n",
       "      <td>0.449401</td>\n",
       "      <td>False</td>\n",
       "      <td>0.007065</td>\n",
       "      <td>0.4880</td>\n",
       "      <td>0.494119</td>\n",
       "      <td>0.464881</td>\n",
       "      <td>False</td>\n",
       "      <td>0.002024</td>\n",
       "      <td>0.0204</td>\n",
       "      <td>0.025818</td>\n",
       "      <td>0.016022</td>\n",
       "      <td>False</td>\n",
       "      <td>0.002615</td>\n",
       "      <td>0.0374</td>\n",
       "      <td>0.041692</td>\n",
       "      <td>0.029188</td>\n",
       "      <td>False</td>\n",
       "      <td>357.499456</td>\n",
       "      <td>25312</td>\n",
       "      <td>26587.856246</td>\n",
       "      <td>25035.343754</td>\n",
       "      <td>False</td>\n",
       "    </tr>\n",
       "    <tr>\n",
       "      <th>2</th>\n",
       "      <td>[10000:14999]</td>\n",
       "      <td>2</td>\n",
       "      <td>10000</td>\n",
       "      <td>14999</td>\n",
       "      <td>2018-12-30 07:12:00</td>\n",
       "      <td>2019-01-29 13:39:16.848</td>\n",
       "      <td>analysis</td>\n",
       "      <td>0.0</td>\n",
       "      <td>0.007053</td>\n",
       "      <td>0.4558</td>\n",
       "      <td>0.478879</td>\n",
       "      <td>0.449401</td>\n",
       "      <td>False</td>\n",
       "      <td>0.007065</td>\n",
       "      <td>0.4944</td>\n",
       "      <td>0.494119</td>\n",
       "      <td>0.464881</td>\n",
       "      <td>True</td>\n",
       "      <td>0.002024</td>\n",
       "      <td>0.0198</td>\n",
       "      <td>0.025818</td>\n",
       "      <td>0.016022</td>\n",
       "      <td>False</td>\n",
       "      <td>0.002615</td>\n",
       "      <td>0.0300</td>\n",
       "      <td>0.041692</td>\n",
       "      <td>0.029188</td>\n",
       "      <td>False</td>\n",
       "      <td>357.499456</td>\n",
       "      <td>25838</td>\n",
       "      <td>26587.856246</td>\n",
       "      <td>25035.343754</td>\n",
       "      <td>False</td>\n",
       "    </tr>\n",
       "    <tr>\n",
       "      <th>3</th>\n",
       "      <td>[15000:19999]</td>\n",
       "      <td>3</td>\n",
       "      <td>15000</td>\n",
       "      <td>19999</td>\n",
       "      <td>2019-01-29 13:48:00</td>\n",
       "      <td>2019-02-28 20:15:16.848</td>\n",
       "      <td>analysis</td>\n",
       "      <td>0.0</td>\n",
       "      <td>0.007053</td>\n",
       "      <td>0.4592</td>\n",
       "      <td>0.478879</td>\n",
       "      <td>0.449401</td>\n",
       "      <td>False</td>\n",
       "      <td>0.007065</td>\n",
       "      <td>0.4844</td>\n",
       "      <td>0.494119</td>\n",
       "      <td>0.464881</td>\n",
       "      <td>False</td>\n",
       "      <td>0.002024</td>\n",
       "      <td>0.0192</td>\n",
       "      <td>0.025818</td>\n",
       "      <td>0.016022</td>\n",
       "      <td>False</td>\n",
       "      <td>0.002615</td>\n",
       "      <td>0.0372</td>\n",
       "      <td>0.041692</td>\n",
       "      <td>0.029188</td>\n",
       "      <td>False</td>\n",
       "      <td>357.499456</td>\n",
       "      <td>25560</td>\n",
       "      <td>26587.856246</td>\n",
       "      <td>25035.343754</td>\n",
       "      <td>False</td>\n",
       "    </tr>\n",
       "    <tr>\n",
       "      <th>4</th>\n",
       "      <td>[20000:24999]</td>\n",
       "      <td>4</td>\n",
       "      <td>20000</td>\n",
       "      <td>24999</td>\n",
       "      <td>2019-02-28 20:24:00</td>\n",
       "      <td>2019-03-31 02:51:16.848</td>\n",
       "      <td>analysis</td>\n",
       "      <td>0.0</td>\n",
       "      <td>0.007053</td>\n",
       "      <td>0.4662</td>\n",
       "      <td>0.478879</td>\n",
       "      <td>0.449401</td>\n",
       "      <td>False</td>\n",
       "      <td>0.007065</td>\n",
       "      <td>0.4748</td>\n",
       "      <td>0.494119</td>\n",
       "      <td>0.464881</td>\n",
       "      <td>False</td>\n",
       "      <td>0.002024</td>\n",
       "      <td>0.0226</td>\n",
       "      <td>0.025818</td>\n",
       "      <td>0.016022</td>\n",
       "      <td>False</td>\n",
       "      <td>0.002615</td>\n",
       "      <td>0.0364</td>\n",
       "      <td>0.041692</td>\n",
       "      <td>0.029188</td>\n",
       "      <td>False</td>\n",
       "      <td>357.499456</td>\n",
       "      <td>25786</td>\n",
       "      <td>26587.856246</td>\n",
       "      <td>25035.343754</td>\n",
       "      <td>False</td>\n",
       "    </tr>\n",
       "    <tr>\n",
       "      <th>5</th>\n",
       "      <td>[25000:29999]</td>\n",
       "      <td>5</td>\n",
       "      <td>25000</td>\n",
       "      <td>29999</td>\n",
       "      <td>2019-03-31 03:00:00</td>\n",
       "      <td>2019-04-30 09:27:16.848</td>\n",
       "      <td>analysis</td>\n",
       "      <td>0.0</td>\n",
       "      <td>0.007053</td>\n",
       "      <td>0.4520</td>\n",
       "      <td>0.478879</td>\n",
       "      <td>0.449401</td>\n",
       "      <td>False</td>\n",
       "      <td>0.007065</td>\n",
       "      <td>0.4626</td>\n",
       "      <td>0.494119</td>\n",
       "      <td>0.464881</td>\n",
       "      <td>True</td>\n",
       "      <td>0.002024</td>\n",
       "      <td>0.0380</td>\n",
       "      <td>0.025818</td>\n",
       "      <td>0.016022</td>\n",
       "      <td>True</td>\n",
       "      <td>0.002615</td>\n",
       "      <td>0.0474</td>\n",
       "      <td>0.041692</td>\n",
       "      <td>0.029188</td>\n",
       "      <td>True</td>\n",
       "      <td>357.499456</td>\n",
       "      <td>24096</td>\n",
       "      <td>26587.856246</td>\n",
       "      <td>25035.343754</td>\n",
       "      <td>True</td>\n",
       "    </tr>\n",
       "    <tr>\n",
       "      <th>6</th>\n",
       "      <td>[30000:34999]</td>\n",
       "      <td>6</td>\n",
       "      <td>30000</td>\n",
       "      <td>34999</td>\n",
       "      <td>2019-04-30 09:36:00</td>\n",
       "      <td>2019-05-30 16:03:16.848</td>\n",
       "      <td>analysis</td>\n",
       "      <td>0.0</td>\n",
       "      <td>0.007053</td>\n",
       "      <td>0.4540</td>\n",
       "      <td>0.478879</td>\n",
       "      <td>0.449401</td>\n",
       "      <td>False</td>\n",
       "      <td>0.007065</td>\n",
       "      <td>0.4616</td>\n",
       "      <td>0.494119</td>\n",
       "      <td>0.464881</td>\n",
       "      <td>True</td>\n",
       "      <td>0.002024</td>\n",
       "      <td>0.0334</td>\n",
       "      <td>0.025818</td>\n",
       "      <td>0.016022</td>\n",
       "      <td>True</td>\n",
       "      <td>0.002615</td>\n",
       "      <td>0.0510</td>\n",
       "      <td>0.041692</td>\n",
       "      <td>0.029188</td>\n",
       "      <td>True</td>\n",
       "      <td>357.499456</td>\n",
       "      <td>24098</td>\n",
       "      <td>26587.856246</td>\n",
       "      <td>25035.343754</td>\n",
       "      <td>True</td>\n",
       "    </tr>\n",
       "    <tr>\n",
       "      <th>7</th>\n",
       "      <td>[35000:39999]</td>\n",
       "      <td>7</td>\n",
       "      <td>35000</td>\n",
       "      <td>39999</td>\n",
       "      <td>2019-05-30 16:12:00</td>\n",
       "      <td>2019-06-29 22:39:16.848</td>\n",
       "      <td>analysis</td>\n",
       "      <td>0.0</td>\n",
       "      <td>0.007053</td>\n",
       "      <td>0.4514</td>\n",
       "      <td>0.478879</td>\n",
       "      <td>0.449401</td>\n",
       "      <td>False</td>\n",
       "      <td>0.007065</td>\n",
       "      <td>0.4630</td>\n",
       "      <td>0.494119</td>\n",
       "      <td>0.464881</td>\n",
       "      <td>True</td>\n",
       "      <td>0.002024</td>\n",
       "      <td>0.0364</td>\n",
       "      <td>0.025818</td>\n",
       "      <td>0.016022</td>\n",
       "      <td>True</td>\n",
       "      <td>0.002615</td>\n",
       "      <td>0.0492</td>\n",
       "      <td>0.041692</td>\n",
       "      <td>0.029188</td>\n",
       "      <td>True</td>\n",
       "      <td>357.499456</td>\n",
       "      <td>24012</td>\n",
       "      <td>26587.856246</td>\n",
       "      <td>25035.343754</td>\n",
       "      <td>True</td>\n",
       "    </tr>\n",
       "    <tr>\n",
       "      <th>8</th>\n",
       "      <td>[40000:44999]</td>\n",
       "      <td>8</td>\n",
       "      <td>40000</td>\n",
       "      <td>44999</td>\n",
       "      <td>2019-06-29 22:48:00</td>\n",
       "      <td>2019-07-30 05:15:16.848</td>\n",
       "      <td>analysis</td>\n",
       "      <td>0.0</td>\n",
       "      <td>0.007053</td>\n",
       "      <td>0.4498</td>\n",
       "      <td>0.478879</td>\n",
       "      <td>0.449401</td>\n",
       "      <td>False</td>\n",
       "      <td>0.007065</td>\n",
       "      <td>0.4726</td>\n",
       "      <td>0.494119</td>\n",
       "      <td>0.464881</td>\n",
       "      <td>False</td>\n",
       "      <td>0.002024</td>\n",
       "      <td>0.0310</td>\n",
       "      <td>0.025818</td>\n",
       "      <td>0.016022</td>\n",
       "      <td>True</td>\n",
       "      <td>0.002615</td>\n",
       "      <td>0.0466</td>\n",
       "      <td>0.041692</td>\n",
       "      <td>0.029188</td>\n",
       "      <td>True</td>\n",
       "      <td>357.499456</td>\n",
       "      <td>24266</td>\n",
       "      <td>26587.856246</td>\n",
       "      <td>25035.343754</td>\n",
       "      <td>True</td>\n",
       "    </tr>\n",
       "    <tr>\n",
       "      <th>9</th>\n",
       "      <td>[45000:49999]</td>\n",
       "      <td>9</td>\n",
       "      <td>45000</td>\n",
       "      <td>49999</td>\n",
       "      <td>2019-07-30 05:24:00</td>\n",
       "      <td>2019-08-29 11:51:16.848</td>\n",
       "      <td>analysis</td>\n",
       "      <td>0.0</td>\n",
       "      <td>0.007053</td>\n",
       "      <td>0.4636</td>\n",
       "      <td>0.478879</td>\n",
       "      <td>0.449401</td>\n",
       "      <td>False</td>\n",
       "      <td>0.007065</td>\n",
       "      <td>0.4486</td>\n",
       "      <td>0.494119</td>\n",
       "      <td>0.464881</td>\n",
       "      <td>True</td>\n",
       "      <td>0.002024</td>\n",
       "      <td>0.0396</td>\n",
       "      <td>0.025818</td>\n",
       "      <td>0.016022</td>\n",
       "      <td>True</td>\n",
       "      <td>0.002615</td>\n",
       "      <td>0.0482</td>\n",
       "      <td>0.041692</td>\n",
       "      <td>0.029188</td>\n",
       "      <td>True</td>\n",
       "      <td>357.499456</td>\n",
       "      <td>24464</td>\n",
       "      <td>26587.856246</td>\n",
       "      <td>25035.343754</td>\n",
       "      <td>True</td>\n",
       "    </tr>\n",
       "  </tbody>\n",
       "</table>\n",
       "</div>"
      ],
      "text/plain": [
       "           chunk                                                        \\\n",
       "             key chunk_index start_index end_index          start_date   \n",
       "0       [0:4999]           0           0      4999 2018-10-30 18:00:00   \n",
       "1    [5000:9999]           1        5000      9999 2018-11-30 00:36:00   \n",
       "2  [10000:14999]           2       10000     14999 2018-12-30 07:12:00   \n",
       "3  [15000:19999]           3       15000     19999 2019-01-29 13:48:00   \n",
       "4  [20000:24999]           4       20000     24999 2019-02-28 20:24:00   \n",
       "5  [25000:29999]           5       25000     29999 2019-03-31 03:00:00   \n",
       "6  [30000:34999]           6       30000     34999 2019-04-30 09:36:00   \n",
       "7  [35000:39999]           7       35000     39999 2019-05-30 16:12:00   \n",
       "8  [40000:44999]           8       40000     44999 2019-06-29 22:48:00   \n",
       "9  [45000:49999]           9       45000     49999 2019-07-30 05:24:00   \n",
       "\n",
       "                                                          true_positive  \\\n",
       "                 end_date    period targets_missing_rate sampling_error   \n",
       "0 2018-11-30 00:27:16.848  analysis                  0.0       0.007053   \n",
       "1 2018-12-30 07:03:16.848  analysis                  0.0       0.007053   \n",
       "2 2019-01-29 13:39:16.848  analysis                  0.0       0.007053   \n",
       "3 2019-02-28 20:15:16.848  analysis                  0.0       0.007053   \n",
       "4 2019-03-31 02:51:16.848  analysis                  0.0       0.007053   \n",
       "5 2019-04-30 09:27:16.848  analysis                  0.0       0.007053   \n",
       "6 2019-05-30 16:03:16.848  analysis                  0.0       0.007053   \n",
       "7 2019-06-29 22:39:16.848  analysis                  0.0       0.007053   \n",
       "8 2019-07-30 05:15:16.848  analysis                  0.0       0.007053   \n",
       "9 2019-08-29 11:51:16.848  analysis                  0.0       0.007053   \n",
       "\n",
       "                                                  true_negative          \\\n",
       "    value upper_threshold lower_threshold  alert sampling_error   value   \n",
       "0  0.4812        0.478879        0.449401   True       0.007065  0.4610   \n",
       "1  0.4542        0.478879        0.449401  False       0.007065  0.4880   \n",
       "2  0.4558        0.478879        0.449401  False       0.007065  0.4944   \n",
       "3  0.4592        0.478879        0.449401  False       0.007065  0.4844   \n",
       "4  0.4662        0.478879        0.449401  False       0.007065  0.4748   \n",
       "5  0.4520        0.478879        0.449401  False       0.007065  0.4626   \n",
       "6  0.4540        0.478879        0.449401  False       0.007065  0.4616   \n",
       "7  0.4514        0.478879        0.449401  False       0.007065  0.4630   \n",
       "8  0.4498        0.478879        0.449401  False       0.007065  0.4726   \n",
       "9  0.4636        0.478879        0.449401  False       0.007065  0.4486   \n",
       "\n",
       "                                         false_positive          \\\n",
       "  upper_threshold lower_threshold  alert sampling_error   value   \n",
       "0        0.494119        0.464881   True       0.002024  0.0218   \n",
       "1        0.494119        0.464881  False       0.002024  0.0204   \n",
       "2        0.494119        0.464881   True       0.002024  0.0198   \n",
       "3        0.494119        0.464881  False       0.002024  0.0192   \n",
       "4        0.494119        0.464881  False       0.002024  0.0226   \n",
       "5        0.494119        0.464881   True       0.002024  0.0380   \n",
       "6        0.494119        0.464881   True       0.002024  0.0334   \n",
       "7        0.494119        0.464881   True       0.002024  0.0364   \n",
       "8        0.494119        0.464881  False       0.002024  0.0310   \n",
       "9        0.494119        0.464881   True       0.002024  0.0396   \n",
       "\n",
       "                                         false_negative          \\\n",
       "  upper_threshold lower_threshold  alert sampling_error   value   \n",
       "0        0.025818        0.016022  False       0.002615  0.0360   \n",
       "1        0.025818        0.016022  False       0.002615  0.0374   \n",
       "2        0.025818        0.016022  False       0.002615  0.0300   \n",
       "3        0.025818        0.016022  False       0.002615  0.0372   \n",
       "4        0.025818        0.016022  False       0.002615  0.0364   \n",
       "5        0.025818        0.016022   True       0.002615  0.0474   \n",
       "6        0.025818        0.016022   True       0.002615  0.0510   \n",
       "7        0.025818        0.016022   True       0.002615  0.0492   \n",
       "8        0.025818        0.016022   True       0.002615  0.0466   \n",
       "9        0.025818        0.016022   True       0.002615  0.0482   \n",
       "\n",
       "                                         business_value         \\\n",
       "  upper_threshold lower_threshold  alert sampling_error  value   \n",
       "0        0.041692        0.029188  False     357.499456  26434   \n",
       "1        0.041692        0.029188  False     357.499456  25312   \n",
       "2        0.041692        0.029188  False     357.499456  25838   \n",
       "3        0.041692        0.029188  False     357.499456  25560   \n",
       "4        0.041692        0.029188  False     357.499456  25786   \n",
       "5        0.041692        0.029188   True     357.499456  24096   \n",
       "6        0.041692        0.029188   True     357.499456  24098   \n",
       "7        0.041692        0.029188   True     357.499456  24012   \n",
       "8        0.041692        0.029188   True     357.499456  24266   \n",
       "9        0.041692        0.029188   True     357.499456  24464   \n",
       "\n",
       "                                          \n",
       "  upper_threshold lower_threshold  alert  \n",
       "0    26587.856246    25035.343754  False  \n",
       "1    26587.856246    25035.343754  False  \n",
       "2    26587.856246    25035.343754  False  \n",
       "3    26587.856246    25035.343754  False  \n",
       "4    26587.856246    25035.343754  False  \n",
       "5    26587.856246    25035.343754   True  \n",
       "6    26587.856246    25035.343754   True  \n",
       "7    26587.856246    25035.343754   True  \n",
       "8    26587.856246    25035.343754   True  \n",
       "9    26587.856246    25035.343754   True  "
      ]
     },
     "metadata": {},
     "output_type": "display_data"
    },
    {
     "data": {
      "text/html": [
       "<div>\n",
       "<style scoped>\n",
       "    .dataframe tbody tr th:only-of-type {\n",
       "        vertical-align: middle;\n",
       "    }\n",
       "\n",
       "    .dataframe tbody tr th {\n",
       "        vertical-align: top;\n",
       "    }\n",
       "\n",
       "    .dataframe thead tr th {\n",
       "        text-align: left;\n",
       "    }\n",
       "</style>\n",
       "<table border=\"1\" class=\"dataframe\">\n",
       "  <thead>\n",
       "    <tr>\n",
       "      <th></th>\n",
       "      <th colspan=\"8\" halign=\"left\">chunk</th>\n",
       "      <th colspan=\"5\" halign=\"left\">true_positive</th>\n",
       "      <th colspan=\"5\" halign=\"left\">false_positive</th>\n",
       "      <th colspan=\"5\" halign=\"left\">business_value</th>\n",
       "    </tr>\n",
       "    <tr>\n",
       "      <th></th>\n",
       "      <th>key</th>\n",
       "      <th>chunk_index</th>\n",
       "      <th>start_index</th>\n",
       "      <th>end_index</th>\n",
       "      <th>start_date</th>\n",
       "      <th>end_date</th>\n",
       "      <th>period</th>\n",
       "      <th>targets_missing_rate</th>\n",
       "      <th>sampling_error</th>\n",
       "      <th>value</th>\n",
       "      <th>upper_threshold</th>\n",
       "      <th>lower_threshold</th>\n",
       "      <th>alert</th>\n",
       "      <th>sampling_error</th>\n",
       "      <th>value</th>\n",
       "      <th>upper_threshold</th>\n",
       "      <th>lower_threshold</th>\n",
       "      <th>alert</th>\n",
       "      <th>sampling_error</th>\n",
       "      <th>value</th>\n",
       "      <th>upper_threshold</th>\n",
       "      <th>lower_threshold</th>\n",
       "      <th>alert</th>\n",
       "    </tr>\n",
       "  </thead>\n",
       "  <tbody>\n",
       "    <tr>\n",
       "      <th>0</th>\n",
       "      <td>[0:4999]</td>\n",
       "      <td>0</td>\n",
       "      <td>0</td>\n",
       "      <td>4999</td>\n",
       "      <td>2018-10-30 18:00:00</td>\n",
       "      <td>2018-11-30 00:27:16.848</td>\n",
       "      <td>analysis</td>\n",
       "      <td>0.0</td>\n",
       "      <td>0.007053</td>\n",
       "      <td>0.4812</td>\n",
       "      <td>0.478879</td>\n",
       "      <td>0.449401</td>\n",
       "      <td>True</td>\n",
       "      <td>0.002024</td>\n",
       "      <td>0.0218</td>\n",
       "      <td>0.025818</td>\n",
       "      <td>0.016022</td>\n",
       "      <td>False</td>\n",
       "      <td>357.499456</td>\n",
       "      <td>26434</td>\n",
       "      <td>26587.856246</td>\n",
       "      <td>25035.343754</td>\n",
       "      <td>False</td>\n",
       "    </tr>\n",
       "    <tr>\n",
       "      <th>1</th>\n",
       "      <td>[5000:9999]</td>\n",
       "      <td>1</td>\n",
       "      <td>5000</td>\n",
       "      <td>9999</td>\n",
       "      <td>2018-11-30 00:36:00</td>\n",
       "      <td>2018-12-30 07:03:16.848</td>\n",
       "      <td>analysis</td>\n",
       "      <td>0.0</td>\n",
       "      <td>0.007053</td>\n",
       "      <td>0.4542</td>\n",
       "      <td>0.478879</td>\n",
       "      <td>0.449401</td>\n",
       "      <td>False</td>\n",
       "      <td>0.002024</td>\n",
       "      <td>0.0204</td>\n",
       "      <td>0.025818</td>\n",
       "      <td>0.016022</td>\n",
       "      <td>False</td>\n",
       "      <td>357.499456</td>\n",
       "      <td>25312</td>\n",
       "      <td>26587.856246</td>\n",
       "      <td>25035.343754</td>\n",
       "      <td>False</td>\n",
       "    </tr>\n",
       "    <tr>\n",
       "      <th>2</th>\n",
       "      <td>[10000:14999]</td>\n",
       "      <td>2</td>\n",
       "      <td>10000</td>\n",
       "      <td>14999</td>\n",
       "      <td>2018-12-30 07:12:00</td>\n",
       "      <td>2019-01-29 13:39:16.848</td>\n",
       "      <td>analysis</td>\n",
       "      <td>0.0</td>\n",
       "      <td>0.007053</td>\n",
       "      <td>0.4558</td>\n",
       "      <td>0.478879</td>\n",
       "      <td>0.449401</td>\n",
       "      <td>False</td>\n",
       "      <td>0.002024</td>\n",
       "      <td>0.0198</td>\n",
       "      <td>0.025818</td>\n",
       "      <td>0.016022</td>\n",
       "      <td>False</td>\n",
       "      <td>357.499456</td>\n",
       "      <td>25838</td>\n",
       "      <td>26587.856246</td>\n",
       "      <td>25035.343754</td>\n",
       "      <td>False</td>\n",
       "    </tr>\n",
       "    <tr>\n",
       "      <th>3</th>\n",
       "      <td>[15000:19999]</td>\n",
       "      <td>3</td>\n",
       "      <td>15000</td>\n",
       "      <td>19999</td>\n",
       "      <td>2019-01-29 13:48:00</td>\n",
       "      <td>2019-02-28 20:15:16.848</td>\n",
       "      <td>analysis</td>\n",
       "      <td>0.0</td>\n",
       "      <td>0.007053</td>\n",
       "      <td>0.4592</td>\n",
       "      <td>0.478879</td>\n",
       "      <td>0.449401</td>\n",
       "      <td>False</td>\n",
       "      <td>0.002024</td>\n",
       "      <td>0.0192</td>\n",
       "      <td>0.025818</td>\n",
       "      <td>0.016022</td>\n",
       "      <td>False</td>\n",
       "      <td>357.499456</td>\n",
       "      <td>25560</td>\n",
       "      <td>26587.856246</td>\n",
       "      <td>25035.343754</td>\n",
       "      <td>False</td>\n",
       "    </tr>\n",
       "    <tr>\n",
       "      <th>4</th>\n",
       "      <td>[20000:24999]</td>\n",
       "      <td>4</td>\n",
       "      <td>20000</td>\n",
       "      <td>24999</td>\n",
       "      <td>2019-02-28 20:24:00</td>\n",
       "      <td>2019-03-31 02:51:16.848</td>\n",
       "      <td>analysis</td>\n",
       "      <td>0.0</td>\n",
       "      <td>0.007053</td>\n",
       "      <td>0.4662</td>\n",
       "      <td>0.478879</td>\n",
       "      <td>0.449401</td>\n",
       "      <td>False</td>\n",
       "      <td>0.002024</td>\n",
       "      <td>0.0226</td>\n",
       "      <td>0.025818</td>\n",
       "      <td>0.016022</td>\n",
       "      <td>False</td>\n",
       "      <td>357.499456</td>\n",
       "      <td>25786</td>\n",
       "      <td>26587.856246</td>\n",
       "      <td>25035.343754</td>\n",
       "      <td>False</td>\n",
       "    </tr>\n",
       "    <tr>\n",
       "      <th>5</th>\n",
       "      <td>[25000:29999]</td>\n",
       "      <td>5</td>\n",
       "      <td>25000</td>\n",
       "      <td>29999</td>\n",
       "      <td>2019-03-31 03:00:00</td>\n",
       "      <td>2019-04-30 09:27:16.848</td>\n",
       "      <td>analysis</td>\n",
       "      <td>0.0</td>\n",
       "      <td>0.007053</td>\n",
       "      <td>0.4520</td>\n",
       "      <td>0.478879</td>\n",
       "      <td>0.449401</td>\n",
       "      <td>False</td>\n",
       "      <td>0.002024</td>\n",
       "      <td>0.0380</td>\n",
       "      <td>0.025818</td>\n",
       "      <td>0.016022</td>\n",
       "      <td>True</td>\n",
       "      <td>357.499456</td>\n",
       "      <td>24096</td>\n",
       "      <td>26587.856246</td>\n",
       "      <td>25035.343754</td>\n",
       "      <td>True</td>\n",
       "    </tr>\n",
       "    <tr>\n",
       "      <th>6</th>\n",
       "      <td>[30000:34999]</td>\n",
       "      <td>6</td>\n",
       "      <td>30000</td>\n",
       "      <td>34999</td>\n",
       "      <td>2019-04-30 09:36:00</td>\n",
       "      <td>2019-05-30 16:03:16.848</td>\n",
       "      <td>analysis</td>\n",
       "      <td>0.0</td>\n",
       "      <td>0.007053</td>\n",
       "      <td>0.4540</td>\n",
       "      <td>0.478879</td>\n",
       "      <td>0.449401</td>\n",
       "      <td>False</td>\n",
       "      <td>0.002024</td>\n",
       "      <td>0.0334</td>\n",
       "      <td>0.025818</td>\n",
       "      <td>0.016022</td>\n",
       "      <td>True</td>\n",
       "      <td>357.499456</td>\n",
       "      <td>24098</td>\n",
       "      <td>26587.856246</td>\n",
       "      <td>25035.343754</td>\n",
       "      <td>True</td>\n",
       "    </tr>\n",
       "    <tr>\n",
       "      <th>7</th>\n",
       "      <td>[35000:39999]</td>\n",
       "      <td>7</td>\n",
       "      <td>35000</td>\n",
       "      <td>39999</td>\n",
       "      <td>2019-05-30 16:12:00</td>\n",
       "      <td>2019-06-29 22:39:16.848</td>\n",
       "      <td>analysis</td>\n",
       "      <td>0.0</td>\n",
       "      <td>0.007053</td>\n",
       "      <td>0.4514</td>\n",
       "      <td>0.478879</td>\n",
       "      <td>0.449401</td>\n",
       "      <td>False</td>\n",
       "      <td>0.002024</td>\n",
       "      <td>0.0364</td>\n",
       "      <td>0.025818</td>\n",
       "      <td>0.016022</td>\n",
       "      <td>True</td>\n",
       "      <td>357.499456</td>\n",
       "      <td>24012</td>\n",
       "      <td>26587.856246</td>\n",
       "      <td>25035.343754</td>\n",
       "      <td>True</td>\n",
       "    </tr>\n",
       "    <tr>\n",
       "      <th>8</th>\n",
       "      <td>[40000:44999]</td>\n",
       "      <td>8</td>\n",
       "      <td>40000</td>\n",
       "      <td>44999</td>\n",
       "      <td>2019-06-29 22:48:00</td>\n",
       "      <td>2019-07-30 05:15:16.848</td>\n",
       "      <td>analysis</td>\n",
       "      <td>0.0</td>\n",
       "      <td>0.007053</td>\n",
       "      <td>0.4498</td>\n",
       "      <td>0.478879</td>\n",
       "      <td>0.449401</td>\n",
       "      <td>False</td>\n",
       "      <td>0.002024</td>\n",
       "      <td>0.0310</td>\n",
       "      <td>0.025818</td>\n",
       "      <td>0.016022</td>\n",
       "      <td>True</td>\n",
       "      <td>357.499456</td>\n",
       "      <td>24266</td>\n",
       "      <td>26587.856246</td>\n",
       "      <td>25035.343754</td>\n",
       "      <td>True</td>\n",
       "    </tr>\n",
       "    <tr>\n",
       "      <th>9</th>\n",
       "      <td>[45000:49999]</td>\n",
       "      <td>9</td>\n",
       "      <td>45000</td>\n",
       "      <td>49999</td>\n",
       "      <td>2019-07-30 05:24:00</td>\n",
       "      <td>2019-08-29 11:51:16.848</td>\n",
       "      <td>analysis</td>\n",
       "      <td>0.0</td>\n",
       "      <td>0.007053</td>\n",
       "      <td>0.4636</td>\n",
       "      <td>0.478879</td>\n",
       "      <td>0.449401</td>\n",
       "      <td>False</td>\n",
       "      <td>0.002024</td>\n",
       "      <td>0.0396</td>\n",
       "      <td>0.025818</td>\n",
       "      <td>0.016022</td>\n",
       "      <td>True</td>\n",
       "      <td>357.499456</td>\n",
       "      <td>24464</td>\n",
       "      <td>26587.856246</td>\n",
       "      <td>25035.343754</td>\n",
       "      <td>True</td>\n",
       "    </tr>\n",
       "  </tbody>\n",
       "</table>\n",
       "</div>"
      ],
      "text/plain": [
       "           chunk                                                        \\\n",
       "             key chunk_index start_index end_index          start_date   \n",
       "0       [0:4999]           0           0      4999 2018-10-30 18:00:00   \n",
       "1    [5000:9999]           1        5000      9999 2018-11-30 00:36:00   \n",
       "2  [10000:14999]           2       10000     14999 2018-12-30 07:12:00   \n",
       "3  [15000:19999]           3       15000     19999 2019-01-29 13:48:00   \n",
       "4  [20000:24999]           4       20000     24999 2019-02-28 20:24:00   \n",
       "5  [25000:29999]           5       25000     29999 2019-03-31 03:00:00   \n",
       "6  [30000:34999]           6       30000     34999 2019-04-30 09:36:00   \n",
       "7  [35000:39999]           7       35000     39999 2019-05-30 16:12:00   \n",
       "8  [40000:44999]           8       40000     44999 2019-06-29 22:48:00   \n",
       "9  [45000:49999]           9       45000     49999 2019-07-30 05:24:00   \n",
       "\n",
       "                                                          true_positive  \\\n",
       "                 end_date    period targets_missing_rate sampling_error   \n",
       "0 2018-11-30 00:27:16.848  analysis                  0.0       0.007053   \n",
       "1 2018-12-30 07:03:16.848  analysis                  0.0       0.007053   \n",
       "2 2019-01-29 13:39:16.848  analysis                  0.0       0.007053   \n",
       "3 2019-02-28 20:15:16.848  analysis                  0.0       0.007053   \n",
       "4 2019-03-31 02:51:16.848  analysis                  0.0       0.007053   \n",
       "5 2019-04-30 09:27:16.848  analysis                  0.0       0.007053   \n",
       "6 2019-05-30 16:03:16.848  analysis                  0.0       0.007053   \n",
       "7 2019-06-29 22:39:16.848  analysis                  0.0       0.007053   \n",
       "8 2019-07-30 05:15:16.848  analysis                  0.0       0.007053   \n",
       "9 2019-08-29 11:51:16.848  analysis                  0.0       0.007053   \n",
       "\n",
       "                                                 false_positive          \\\n",
       "    value upper_threshold lower_threshold  alert sampling_error   value   \n",
       "0  0.4812        0.478879        0.449401   True       0.002024  0.0218   \n",
       "1  0.4542        0.478879        0.449401  False       0.002024  0.0204   \n",
       "2  0.4558        0.478879        0.449401  False       0.002024  0.0198   \n",
       "3  0.4592        0.478879        0.449401  False       0.002024  0.0192   \n",
       "4  0.4662        0.478879        0.449401  False       0.002024  0.0226   \n",
       "5  0.4520        0.478879        0.449401  False       0.002024  0.0380   \n",
       "6  0.4540        0.478879        0.449401  False       0.002024  0.0334   \n",
       "7  0.4514        0.478879        0.449401  False       0.002024  0.0364   \n",
       "8  0.4498        0.478879        0.449401  False       0.002024  0.0310   \n",
       "9  0.4636        0.478879        0.449401  False       0.002024  0.0396   \n",
       "\n",
       "                                         business_value         \\\n",
       "  upper_threshold lower_threshold  alert sampling_error  value   \n",
       "0        0.025818        0.016022  False     357.499456  26434   \n",
       "1        0.025818        0.016022  False     357.499456  25312   \n",
       "2        0.025818        0.016022  False     357.499456  25838   \n",
       "3        0.025818        0.016022  False     357.499456  25560   \n",
       "4        0.025818        0.016022  False     357.499456  25786   \n",
       "5        0.025818        0.016022   True     357.499456  24096   \n",
       "6        0.025818        0.016022   True     357.499456  24098   \n",
       "7        0.025818        0.016022   True     357.499456  24012   \n",
       "8        0.025818        0.016022   True     357.499456  24266   \n",
       "9        0.025818        0.016022   True     357.499456  24464   \n",
       "\n",
       "                                          \n",
       "  upper_threshold lower_threshold  alert  \n",
       "0    26587.856246    25035.343754  False  \n",
       "1    26587.856246    25035.343754  False  \n",
       "2    26587.856246    25035.343754  False  \n",
       "3    26587.856246    25035.343754  False  \n",
       "4    26587.856246    25035.343754  False  \n",
       "5    26587.856246    25035.343754   True  \n",
       "6    26587.856246    25035.343754   True  \n",
       "7    26587.856246    25035.343754   True  \n",
       "8    26587.856246    25035.343754   True  \n",
       "9    26587.856246    25035.343754   True  "
      ]
     },
     "metadata": {},
     "output_type": "display_data"
    },
    {
     "data": {
      "application/vnd.plotly.v1+json": {
       "config": {
        "plotlyServerURL": "https://plot.ly"
       },
       "data": [
        {
         "hoverinfo": "skip",
         "legendgroup": "metric_analysis",
         "line": {
          "color": "#3b0280",
          "shape": "hv",
          "width": 2
         },
         "mode": "lines",
         "name": "Metric (analysis)",
         "showlegend": true,
         "type": "scatter",
         "x": [
          "2018-10-30T18:00:00",
          "2018-11-30T00:36:00",
          "2018-12-30T07:12:00",
          "2019-01-29T13:48:00",
          "2019-02-28T20:24:00",
          "2019-03-31T03:00:00",
          "2019-04-30T09:36:00",
          "2019-05-30T16:12:00",
          "2019-06-29T22:48:00",
          "2019-07-30T05:24:00",
          "2019-08-29T11:51:16.848000"
         ],
         "xaxis": "x",
         "y": [
          0.4812,
          0.4542,
          0.4558,
          0.4592,
          0.4662,
          0.452,
          0.454,
          0.4514,
          0.4498,
          0.4636,
          0.4636
         ],
         "yaxis": "y"
        },
        {
         "customdata": [
          [
           "Realized <b>True Positive</b>",
           "<b style=\"color:#3b0280;line-height:60px\">Analysis</b>",
           "<span style=\"color:#AD0000\">⚠ <b>Drift detected</b></span>",
           "[0:4999]",
           "From <b>Oct-30-2018</b> to <b>Nov-30-2018</b>",
           0.4812,
           0.0212
          ],
          [
           "Realized <b>True Positive</b>",
           "<b style=\"color:#3b0280;line-height:60px\">Analysis</b>",
           "",
           "[5000:9999]",
           "From <b>Nov-30-2018</b> to <b>Dec-30-2018</b>",
           0.4542,
           0.0212
          ],
          [
           "Realized <b>True Positive</b>",
           "<b style=\"color:#3b0280;line-height:60px\">Analysis</b>",
           "",
           "[10000:14999]",
           "From <b>Dec-30-2018</b> to <b>Jan-29-2019</b>",
           0.4558,
           0.0212
          ],
          [
           "Realized <b>True Positive</b>",
           "<b style=\"color:#3b0280;line-height:60px\">Analysis</b>",
           "",
           "[15000:19999]",
           "From <b>Jan-29-2019</b> to <b>Feb-28-2019</b>",
           0.4592,
           0.0212
          ],
          [
           "Realized <b>True Positive</b>",
           "<b style=\"color:#3b0280;line-height:60px\">Analysis</b>",
           "",
           "[20000:24999]",
           "From <b>Feb-28-2019</b> to <b>Mar-31-2019</b>",
           0.4662,
           0.0212
          ],
          [
           "Realized <b>True Positive</b>",
           "<b style=\"color:#3b0280;line-height:60px\">Analysis</b>",
           "",
           "[25000:29999]",
           "From <b>Mar-31-2019</b> to <b>Apr-30-2019</b>",
           0.452,
           0.0212
          ],
          [
           "Realized <b>True Positive</b>",
           "<b style=\"color:#3b0280;line-height:60px\">Analysis</b>",
           "",
           "[30000:34999]",
           "From <b>Apr-30-2019</b> to <b>May-30-2019</b>",
           0.454,
           0.0212
          ],
          [
           "Realized <b>True Positive</b>",
           "<b style=\"color:#3b0280;line-height:60px\">Analysis</b>",
           "",
           "[35000:39999]",
           "From <b>May-30-2019</b> to <b>Jun-29-2019</b>",
           0.4514,
           0.0212
          ],
          [
           "Realized <b>True Positive</b>",
           "<b style=\"color:#3b0280;line-height:60px\">Analysis</b>",
           "",
           "[40000:44999]",
           "From <b>Jun-29-2019</b> to <b>Jul-30-2019</b>",
           0.4498,
           0.0212
          ],
          [
           "Realized <b>True Positive</b>",
           "<b style=\"color:#3b0280;line-height:60px\">Analysis</b>",
           "",
           "[45000:49999]",
           "From <b>Jul-30-2019</b> to <b>Aug-29-2019</b>",
           0.4636,
           0.0212
          ]
         ],
         "hovertemplate": "%{customdata[1]} &nbsp; &nbsp; %{customdata[2]} <br />Chunk: <b>%{customdata[3]}</b> &nbsp; &nbsp; %{customdata[4]} <br />%{customdata[0]}: <b>%{customdata[5]}</b><br />Confidence band: +/- <b>%{customdata[6]}</b><br /><extra></extra>",
         "legendgroup": "metric_analysis",
         "marker": {
          "color": "#3b0280",
          "size": 5,
          "symbol": "circle"
         },
         "mode": "markers",
         "name": "Metric (analysis)",
         "showlegend": false,
         "type": "scatter",
         "x": [
          "2018-11-14T21:18:00",
          "2018-12-15T03:54:00",
          "2019-01-14T10:30:00",
          "2019-02-13T17:06:00",
          "2019-03-15T23:42:00",
          "2019-04-15T06:18:00",
          "2019-05-15T12:54:00",
          "2019-06-14T19:30:00",
          "2019-07-15T02:06:00",
          "2019-08-14T08:37:38.424000"
         ],
         "xaxis": "x",
         "y": [
          0.4812,
          0.4542,
          0.4558,
          0.4592,
          0.4662,
          0.452,
          0.454,
          0.4514,
          0.4498,
          0.4636,
          0.4636
         ],
         "yaxis": "y"
        },
        {
         "hoverinfo": "skip",
         "legendgroup": "alert",
         "marker": {
          "color": "#DD4040",
          "size": 8,
          "symbol": "diamond"
         },
         "mode": "markers",
         "name": "Alert",
         "showlegend": true,
         "type": "scatter",
         "x": [
          "2018-11-14T21:18:00"
         ],
         "xaxis": "x",
         "y": [
          0.4812
         ],
         "yaxis": "y"
        },
        {
         "hoverinfo": "skip",
         "legendgroup": "thresh",
         "line": {
          "color": "#DD4040",
          "dash": "dash",
          "width": 2
         },
         "mode": "lines",
         "name": "Threshold",
         "showlegend": true,
         "type": "scatter",
         "x": [
          "2018-10-30T18:00:00",
          "2018-11-30T00:36:00",
          "2018-12-30T07:12:00",
          "2019-01-29T13:48:00",
          "2019-02-28T20:24:00",
          "2019-03-31T03:00:00",
          "2019-04-30T09:36:00",
          "2019-05-30T16:12:00",
          "2019-06-29T22:48:00",
          "2019-07-30T05:24:00",
          "2019-08-29T11:51:16.848000"
         ],
         "xaxis": "x",
         "y": [
          0.47887864308544037,
          0.47887864308544037,
          0.47887864308544037,
          0.47887864308544037,
          0.47887864308544037,
          0.47887864308544037,
          0.47887864308544037,
          0.47887864308544037,
          0.47887864308544037,
          0.47887864308544037,
          0.47887864308544037
         ],
         "yaxis": "y"
        },
        {
         "hoverinfo": "skip",
         "legendgroup": "thresh",
         "line": {
          "color": "#DD4040",
          "dash": "dash",
          "width": 2
         },
         "mode": "lines",
         "name": "Threshold",
         "showlegend": false,
         "type": "scatter",
         "x": [
          "2018-10-30T18:00:00",
          "2018-11-30T00:36:00",
          "2018-12-30T07:12:00",
          "2019-01-29T13:48:00",
          "2019-02-28T20:24:00",
          "2019-03-31T03:00:00",
          "2019-04-30T09:36:00",
          "2019-05-30T16:12:00",
          "2019-06-29T22:48:00",
          "2019-07-30T05:24:00",
          "2019-08-29T11:51:16.848000"
         ],
         "xaxis": "x",
         "y": [
          0.4494013569145596,
          0.4494013569145596,
          0.4494013569145596,
          0.4494013569145596,
          0.4494013569145596,
          0.4494013569145596,
          0.4494013569145596,
          0.4494013569145596,
          0.4494013569145596,
          0.4494013569145596,
          0.4494013569145596
         ],
         "yaxis": "y"
        },
        {
         "hoverinfo": "skip",
         "legendgroup": "metric_analysis",
         "line": {
          "color": "#3b0280",
          "shape": "hv",
          "width": 2
         },
         "mode": "lines",
         "name": "Metric (analysis)",
         "showlegend": false,
         "type": "scatter",
         "x": [
          "2018-10-30T18:00:00",
          "2018-11-30T00:36:00",
          "2018-12-30T07:12:00",
          "2019-01-29T13:48:00",
          "2019-02-28T20:24:00",
          "2019-03-31T03:00:00",
          "2019-04-30T09:36:00",
          "2019-05-30T16:12:00",
          "2019-06-29T22:48:00",
          "2019-07-30T05:24:00",
          "2019-08-29T11:51:16.848000"
         ],
         "xaxis": "x2",
         "y": [
          0.0218,
          0.0204,
          0.0198,
          0.0192,
          0.0226,
          0.038,
          0.0334,
          0.0364,
          0.031,
          0.0396,
          0.0396
         ],
         "yaxis": "y2"
        },
        {
         "customdata": [
          [
           "Realized <b>False Positive</b>",
           "<b style=\"color:#3b0280;line-height:60px\">Analysis</b>",
           "",
           "[0:4999]",
           "From <b>Oct-30-2018</b> to <b>Nov-30-2018</b>",
           0.0218,
           0.0061
          ],
          [
           "Realized <b>False Positive</b>",
           "<b style=\"color:#3b0280;line-height:60px\">Analysis</b>",
           "",
           "[5000:9999]",
           "From <b>Nov-30-2018</b> to <b>Dec-30-2018</b>",
           0.0204,
           0.0061
          ],
          [
           "Realized <b>False Positive</b>",
           "<b style=\"color:#3b0280;line-height:60px\">Analysis</b>",
           "",
           "[10000:14999]",
           "From <b>Dec-30-2018</b> to <b>Jan-29-2019</b>",
           0.0198,
           0.0061
          ],
          [
           "Realized <b>False Positive</b>",
           "<b style=\"color:#3b0280;line-height:60px\">Analysis</b>",
           "",
           "[15000:19999]",
           "From <b>Jan-29-2019</b> to <b>Feb-28-2019</b>",
           0.0192,
           0.0061
          ],
          [
           "Realized <b>False Positive</b>",
           "<b style=\"color:#3b0280;line-height:60px\">Analysis</b>",
           "",
           "[20000:24999]",
           "From <b>Feb-28-2019</b> to <b>Mar-31-2019</b>",
           0.0226,
           0.0061
          ],
          [
           "Realized <b>False Positive</b>",
           "<b style=\"color:#3b0280;line-height:60px\">Analysis</b>",
           "<span style=\"color:#AD0000\">⚠ <b>Drift detected</b></span>",
           "[25000:29999]",
           "From <b>Mar-31-2019</b> to <b>Apr-30-2019</b>",
           0.038,
           0.0061
          ],
          [
           "Realized <b>False Positive</b>",
           "<b style=\"color:#3b0280;line-height:60px\">Analysis</b>",
           "<span style=\"color:#AD0000\">⚠ <b>Drift detected</b></span>",
           "[30000:34999]",
           "From <b>Apr-30-2019</b> to <b>May-30-2019</b>",
           0.0334,
           0.0061
          ],
          [
           "Realized <b>False Positive</b>",
           "<b style=\"color:#3b0280;line-height:60px\">Analysis</b>",
           "<span style=\"color:#AD0000\">⚠ <b>Drift detected</b></span>",
           "[35000:39999]",
           "From <b>May-30-2019</b> to <b>Jun-29-2019</b>",
           0.0364,
           0.0061
          ],
          [
           "Realized <b>False Positive</b>",
           "<b style=\"color:#3b0280;line-height:60px\">Analysis</b>",
           "<span style=\"color:#AD0000\">⚠ <b>Drift detected</b></span>",
           "[40000:44999]",
           "From <b>Jun-29-2019</b> to <b>Jul-30-2019</b>",
           0.031,
           0.0061
          ],
          [
           "Realized <b>False Positive</b>",
           "<b style=\"color:#3b0280;line-height:60px\">Analysis</b>",
           "<span style=\"color:#AD0000\">⚠ <b>Drift detected</b></span>",
           "[45000:49999]",
           "From <b>Jul-30-2019</b> to <b>Aug-29-2019</b>",
           0.0396,
           0.0061
          ]
         ],
         "hovertemplate": "%{customdata[1]} &nbsp; &nbsp; %{customdata[2]} <br />Chunk: <b>%{customdata[3]}</b> &nbsp; &nbsp; %{customdata[4]} <br />%{customdata[0]}: <b>%{customdata[5]}</b><br />Confidence band: +/- <b>%{customdata[6]}</b><br /><extra></extra>",
         "legendgroup": "metric_analysis",
         "marker": {
          "color": "#3b0280",
          "size": 5,
          "symbol": "circle"
         },
         "mode": "markers",
         "name": "Metric (analysis)",
         "showlegend": false,
         "type": "scatter",
         "x": [
          "2018-11-14T21:18:00",
          "2018-12-15T03:54:00",
          "2019-01-14T10:30:00",
          "2019-02-13T17:06:00",
          "2019-03-15T23:42:00",
          "2019-04-15T06:18:00",
          "2019-05-15T12:54:00",
          "2019-06-14T19:30:00",
          "2019-07-15T02:06:00",
          "2019-08-14T08:37:38.424000"
         ],
         "xaxis": "x2",
         "y": [
          0.0218,
          0.0204,
          0.0198,
          0.0192,
          0.0226,
          0.038,
          0.0334,
          0.0364,
          0.031,
          0.0396,
          0.0396
         ],
         "yaxis": "y2"
        },
        {
         "hoverinfo": "skip",
         "legendgroup": "alert",
         "marker": {
          "color": "#DD4040",
          "size": 8,
          "symbol": "diamond"
         },
         "mode": "markers",
         "name": "Alert",
         "showlegend": false,
         "type": "scatter",
         "x": [
          "2019-04-15T06:18:00",
          "2019-05-15T12:54:00",
          "2019-06-14T19:30:00",
          "2019-07-15T02:06:00",
          "2019-08-14T08:37:38.424000"
         ],
         "xaxis": "x2",
         "y": [
          0.038,
          0.0334,
          0.0364,
          0.031,
          0.0396
         ],
         "yaxis": "y2"
        },
        {
         "hoverinfo": "skip",
         "legendgroup": "thresh",
         "line": {
          "color": "#DD4040",
          "dash": "dash",
          "width": 2
         },
         "mode": "lines",
         "name": "Threshold",
         "showlegend": false,
         "type": "scatter",
         "x": [
          "2018-10-30T18:00:00",
          "2018-11-30T00:36:00",
          "2018-12-30T07:12:00",
          "2019-01-29T13:48:00",
          "2019-02-28T20:24:00",
          "2019-03-31T03:00:00",
          "2019-04-30T09:36:00",
          "2019-05-30T16:12:00",
          "2019-06-29T22:48:00",
          "2019-07-30T05:24:00",
          "2019-08-29T11:51:16.848000"
         ],
         "xaxis": "x2",
         "y": [
          0.02581799959167005,
          0.02581799959167005,
          0.02581799959167005,
          0.02581799959167005,
          0.02581799959167005,
          0.02581799959167005,
          0.02581799959167005,
          0.02581799959167005,
          0.02581799959167005,
          0.02581799959167005,
          0.02581799959167005
         ],
         "yaxis": "y2"
        },
        {
         "hoverinfo": "skip",
         "legendgroup": "thresh",
         "line": {
          "color": "#DD4040",
          "dash": "dash",
          "width": 2
         },
         "mode": "lines",
         "name": "Threshold",
         "showlegend": false,
         "type": "scatter",
         "x": [
          "2018-10-30T18:00:00",
          "2018-11-30T00:36:00",
          "2018-12-30T07:12:00",
          "2019-01-29T13:48:00",
          "2019-02-28T20:24:00",
          "2019-03-31T03:00:00",
          "2019-04-30T09:36:00",
          "2019-05-30T16:12:00",
          "2019-06-29T22:48:00",
          "2019-07-30T05:24:00",
          "2019-08-29T11:51:16.848000"
         ],
         "xaxis": "x2",
         "y": [
          0.01602200040832995,
          0.01602200040832995,
          0.01602200040832995,
          0.01602200040832995,
          0.01602200040832995,
          0.01602200040832995,
          0.01602200040832995,
          0.01602200040832995,
          0.01602200040832995,
          0.01602200040832995,
          0.01602200040832995
         ],
         "yaxis": "y2"
        },
        {
         "hoverinfo": "skip",
         "legendgroup": "metric_analysis",
         "line": {
          "color": "#3b0280",
          "shape": "hv",
          "width": 2
         },
         "mode": "lines",
         "name": "Metric (analysis)",
         "showlegend": false,
         "type": "scatter",
         "x": [
          "2018-10-30T18:00:00",
          "2018-11-30T00:36:00",
          "2018-12-30T07:12:00",
          "2019-01-29T13:48:00",
          "2019-02-28T20:24:00",
          "2019-03-31T03:00:00",
          "2019-04-30T09:36:00",
          "2019-05-30T16:12:00",
          "2019-06-29T22:48:00",
          "2019-07-30T05:24:00",
          "2019-08-29T11:51:16.848000"
         ],
         "xaxis": "x3",
         "y": [
          26434,
          25312,
          25838,
          25560,
          25786,
          24096,
          24098,
          24012,
          24266,
          24464,
          24464
         ],
         "yaxis": "y3"
        },
        {
         "customdata": [
          [
           "Realized <b>Business Value</b>",
           "<b style=\"color:#3b0280;line-height:60px\">Analysis</b>",
           "",
           "[0:4999]",
           "From <b>Oct-30-2018</b> to <b>Nov-30-2018</b>",
           26434,
           1072.4984
          ],
          [
           "Realized <b>Business Value</b>",
           "<b style=\"color:#3b0280;line-height:60px\">Analysis</b>",
           "",
           "[5000:9999]",
           "From <b>Nov-30-2018</b> to <b>Dec-30-2018</b>",
           25312,
           1072.4984
          ],
          [
           "Realized <b>Business Value</b>",
           "<b style=\"color:#3b0280;line-height:60px\">Analysis</b>",
           "",
           "[10000:14999]",
           "From <b>Dec-30-2018</b> to <b>Jan-29-2019</b>",
           25838,
           1072.4984
          ],
          [
           "Realized <b>Business Value</b>",
           "<b style=\"color:#3b0280;line-height:60px\">Analysis</b>",
           "",
           "[15000:19999]",
           "From <b>Jan-29-2019</b> to <b>Feb-28-2019</b>",
           25560,
           1072.4984
          ],
          [
           "Realized <b>Business Value</b>",
           "<b style=\"color:#3b0280;line-height:60px\">Analysis</b>",
           "",
           "[20000:24999]",
           "From <b>Feb-28-2019</b> to <b>Mar-31-2019</b>",
           25786,
           1072.4984
          ],
          [
           "Realized <b>Business Value</b>",
           "<b style=\"color:#3b0280;line-height:60px\">Analysis</b>",
           "<span style=\"color:#AD0000\">⚠ <b>Drift detected</b></span>",
           "[25000:29999]",
           "From <b>Mar-31-2019</b> to <b>Apr-30-2019</b>",
           24096,
           1072.4984
          ],
          [
           "Realized <b>Business Value</b>",
           "<b style=\"color:#3b0280;line-height:60px\">Analysis</b>",
           "<span style=\"color:#AD0000\">⚠ <b>Drift detected</b></span>",
           "[30000:34999]",
           "From <b>Apr-30-2019</b> to <b>May-30-2019</b>",
           24098,
           1072.4984
          ],
          [
           "Realized <b>Business Value</b>",
           "<b style=\"color:#3b0280;line-height:60px\">Analysis</b>",
           "<span style=\"color:#AD0000\">⚠ <b>Drift detected</b></span>",
           "[35000:39999]",
           "From <b>May-30-2019</b> to <b>Jun-29-2019</b>",
           24012,
           1072.4984
          ],
          [
           "Realized <b>Business Value</b>",
           "<b style=\"color:#3b0280;line-height:60px\">Analysis</b>",
           "<span style=\"color:#AD0000\">⚠ <b>Drift detected</b></span>",
           "[40000:44999]",
           "From <b>Jun-29-2019</b> to <b>Jul-30-2019</b>",
           24266,
           1072.4984
          ],
          [
           "Realized <b>Business Value</b>",
           "<b style=\"color:#3b0280;line-height:60px\">Analysis</b>",
           "<span style=\"color:#AD0000\">⚠ <b>Drift detected</b></span>",
           "[45000:49999]",
           "From <b>Jul-30-2019</b> to <b>Aug-29-2019</b>",
           24464,
           1072.4984
          ]
         ],
         "hovertemplate": "%{customdata[1]} &nbsp; &nbsp; %{customdata[2]} <br />Chunk: <b>%{customdata[3]}</b> &nbsp; &nbsp; %{customdata[4]} <br />%{customdata[0]}: <b>%{customdata[5]}</b><br />Confidence band: +/- <b>%{customdata[6]}</b><br /><extra></extra>",
         "legendgroup": "metric_analysis",
         "marker": {
          "color": "#3b0280",
          "size": 5,
          "symbol": "circle"
         },
         "mode": "markers",
         "name": "Metric (analysis)",
         "showlegend": false,
         "type": "scatter",
         "x": [
          "2018-11-14T21:18:00",
          "2018-12-15T03:54:00",
          "2019-01-14T10:30:00",
          "2019-02-13T17:06:00",
          "2019-03-15T23:42:00",
          "2019-04-15T06:18:00",
          "2019-05-15T12:54:00",
          "2019-06-14T19:30:00",
          "2019-07-15T02:06:00",
          "2019-08-14T08:37:38.424000"
         ],
         "xaxis": "x3",
         "y": [
          26434,
          25312,
          25838,
          25560,
          25786,
          24096,
          24098,
          24012,
          24266,
          24464,
          24464
         ],
         "yaxis": "y3"
        },
        {
         "hoverinfo": "skip",
         "legendgroup": "alert",
         "marker": {
          "color": "#DD4040",
          "size": 8,
          "symbol": "diamond"
         },
         "mode": "markers",
         "name": "Alert",
         "showlegend": false,
         "type": "scatter",
         "x": [
          "2019-04-15T06:18:00",
          "2019-05-15T12:54:00",
          "2019-06-14T19:30:00",
          "2019-07-15T02:06:00",
          "2019-08-14T08:37:38.424000"
         ],
         "xaxis": "x3",
         "y": [
          24096,
          24098,
          24012,
          24266,
          24464
         ],
         "yaxis": "y3"
        },
        {
         "hoverinfo": "skip",
         "legendgroup": "thresh",
         "line": {
          "color": "#DD4040",
          "dash": "dash",
          "width": 2
         },
         "mode": "lines",
         "name": "Threshold",
         "showlegend": false,
         "type": "scatter",
         "x": [
          "2018-10-30T18:00:00",
          "2018-11-30T00:36:00",
          "2018-12-30T07:12:00",
          "2019-01-29T13:48:00",
          "2019-02-28T20:24:00",
          "2019-03-31T03:00:00",
          "2019-04-30T09:36:00",
          "2019-05-30T16:12:00",
          "2019-06-29T22:48:00",
          "2019-07-30T05:24:00",
          "2019-08-29T11:51:16.848000"
         ],
         "xaxis": "x3",
         "y": [
          26587.85624635168,
          26587.85624635168,
          26587.85624635168,
          26587.85624635168,
          26587.85624635168,
          26587.85624635168,
          26587.85624635168,
          26587.85624635168,
          26587.85624635168,
          26587.85624635168,
          26587.85624635168
         ],
         "yaxis": "y3"
        },
        {
         "hoverinfo": "skip",
         "legendgroup": "thresh",
         "line": {
          "color": "#DD4040",
          "dash": "dash",
          "width": 2
         },
         "mode": "lines",
         "name": "Threshold",
         "showlegend": false,
         "type": "scatter",
         "x": [
          "2018-10-30T18:00:00",
          "2018-11-30T00:36:00",
          "2018-12-30T07:12:00",
          "2019-01-29T13:48:00",
          "2019-02-28T20:24:00",
          "2019-03-31T03:00:00",
          "2019-04-30T09:36:00",
          "2019-05-30T16:12:00",
          "2019-06-29T22:48:00",
          "2019-07-30T05:24:00",
          "2019-08-29T11:51:16.848000"
         ],
         "xaxis": "x3",
         "y": [
          25035.343753648318,
          25035.343753648318,
          25035.343753648318,
          25035.343753648318,
          25035.343753648318,
          25035.343753648318,
          25035.343753648318,
          25035.343753648318,
          25035.343753648318,
          25035.343753648318,
          25035.343753648318
         ],
         "yaxis": "y3"
        }
       ],
       "layout": {
        "annotations": [
         {
          "font": {
           "size": 16
          },
          "showarrow": false,
          "text": "Realized <b>True Positive</b>",
          "x": 0.5,
          "xanchor": "center",
          "xref": "paper",
          "y": 1,
          "yanchor": "bottom",
          "yref": "paper"
         },
         {
          "font": {
           "size": 16
          },
          "showarrow": false,
          "text": "Realized <b>False Positive</b>",
          "x": 0.5,
          "xanchor": "center",
          "xref": "paper",
          "y": 0.6111111111111112,
          "yanchor": "bottom",
          "yref": "paper"
         },
         {
          "font": {
           "size": 16
          },
          "showarrow": false,
          "text": "Realized <b>Business Value</b>",
          "x": 0.5,
          "xanchor": "center",
          "xref": "paper",
          "y": 0.22222222222222224,
          "yanchor": "bottom",
          "yref": "paper"
         }
        ],
        "height": 1500,
        "hoverlabel": {
         "bgcolor": "white",
         "font": {
          "size": 14
         }
        },
        "legend": {
         "itemclick": false,
         "itemdoubleclick": false,
         "traceorder": "grouped"
        },
        "paper_bgcolor": "rgba(255,255,255,1)",
        "plot_bgcolor": "rgba(255,255,255,1)",
        "template": {
         "data": {
          "bar": [
           {
            "error_x": {
             "color": "#2a3f5f"
            },
            "error_y": {
             "color": "#2a3f5f"
            },
            "marker": {
             "line": {
              "color": "#E5ECF6",
              "width": 0.5
             },
             "pattern": {
              "fillmode": "overlay",
              "size": 10,
              "solidity": 0.2
             }
            },
            "type": "bar"
           }
          ],
          "barpolar": [
           {
            "marker": {
             "line": {
              "color": "#E5ECF6",
              "width": 0.5
             },
             "pattern": {
              "fillmode": "overlay",
              "size": 10,
              "solidity": 0.2
             }
            },
            "type": "barpolar"
           }
          ],
          "carpet": [
           {
            "aaxis": {
             "endlinecolor": "#2a3f5f",
             "gridcolor": "white",
             "linecolor": "white",
             "minorgridcolor": "white",
             "startlinecolor": "#2a3f5f"
            },
            "baxis": {
             "endlinecolor": "#2a3f5f",
             "gridcolor": "white",
             "linecolor": "white",
             "minorgridcolor": "white",
             "startlinecolor": "#2a3f5f"
            },
            "type": "carpet"
           }
          ],
          "choropleth": [
           {
            "colorbar": {
             "outlinewidth": 0,
             "ticks": ""
            },
            "type": "choropleth"
           }
          ],
          "contour": [
           {
            "colorbar": {
             "outlinewidth": 0,
             "ticks": ""
            },
            "colorscale": [
             [
              0,
              "#0d0887"
             ],
             [
              0.1111111111111111,
              "#46039f"
             ],
             [
              0.2222222222222222,
              "#7201a8"
             ],
             [
              0.3333333333333333,
              "#9c179e"
             ],
             [
              0.4444444444444444,
              "#bd3786"
             ],
             [
              0.5555555555555556,
              "#d8576b"
             ],
             [
              0.6666666666666666,
              "#ed7953"
             ],
             [
              0.7777777777777778,
              "#fb9f3a"
             ],
             [
              0.8888888888888888,
              "#fdca26"
             ],
             [
              1,
              "#f0f921"
             ]
            ],
            "type": "contour"
           }
          ],
          "contourcarpet": [
           {
            "colorbar": {
             "outlinewidth": 0,
             "ticks": ""
            },
            "type": "contourcarpet"
           }
          ],
          "heatmap": [
           {
            "colorbar": {
             "outlinewidth": 0,
             "ticks": ""
            },
            "colorscale": [
             [
              0,
              "#0d0887"
             ],
             [
              0.1111111111111111,
              "#46039f"
             ],
             [
              0.2222222222222222,
              "#7201a8"
             ],
             [
              0.3333333333333333,
              "#9c179e"
             ],
             [
              0.4444444444444444,
              "#bd3786"
             ],
             [
              0.5555555555555556,
              "#d8576b"
             ],
             [
              0.6666666666666666,
              "#ed7953"
             ],
             [
              0.7777777777777778,
              "#fb9f3a"
             ],
             [
              0.8888888888888888,
              "#fdca26"
             ],
             [
              1,
              "#f0f921"
             ]
            ],
            "type": "heatmap"
           }
          ],
          "heatmapgl": [
           {
            "colorbar": {
             "outlinewidth": 0,
             "ticks": ""
            },
            "colorscale": [
             [
              0,
              "#0d0887"
             ],
             [
              0.1111111111111111,
              "#46039f"
             ],
             [
              0.2222222222222222,
              "#7201a8"
             ],
             [
              0.3333333333333333,
              "#9c179e"
             ],
             [
              0.4444444444444444,
              "#bd3786"
             ],
             [
              0.5555555555555556,
              "#d8576b"
             ],
             [
              0.6666666666666666,
              "#ed7953"
             ],
             [
              0.7777777777777778,
              "#fb9f3a"
             ],
             [
              0.8888888888888888,
              "#fdca26"
             ],
             [
              1,
              "#f0f921"
             ]
            ],
            "type": "heatmapgl"
           }
          ],
          "histogram": [
           {
            "marker": {
             "pattern": {
              "fillmode": "overlay",
              "size": 10,
              "solidity": 0.2
             }
            },
            "type": "histogram"
           }
          ],
          "histogram2d": [
           {
            "colorbar": {
             "outlinewidth": 0,
             "ticks": ""
            },
            "colorscale": [
             [
              0,
              "#0d0887"
             ],
             [
              0.1111111111111111,
              "#46039f"
             ],
             [
              0.2222222222222222,
              "#7201a8"
             ],
             [
              0.3333333333333333,
              "#9c179e"
             ],
             [
              0.4444444444444444,
              "#bd3786"
             ],
             [
              0.5555555555555556,
              "#d8576b"
             ],
             [
              0.6666666666666666,
              "#ed7953"
             ],
             [
              0.7777777777777778,
              "#fb9f3a"
             ],
             [
              0.8888888888888888,
              "#fdca26"
             ],
             [
              1,
              "#f0f921"
             ]
            ],
            "type": "histogram2d"
           }
          ],
          "histogram2dcontour": [
           {
            "colorbar": {
             "outlinewidth": 0,
             "ticks": ""
            },
            "colorscale": [
             [
              0,
              "#0d0887"
             ],
             [
              0.1111111111111111,
              "#46039f"
             ],
             [
              0.2222222222222222,
              "#7201a8"
             ],
             [
              0.3333333333333333,
              "#9c179e"
             ],
             [
              0.4444444444444444,
              "#bd3786"
             ],
             [
              0.5555555555555556,
              "#d8576b"
             ],
             [
              0.6666666666666666,
              "#ed7953"
             ],
             [
              0.7777777777777778,
              "#fb9f3a"
             ],
             [
              0.8888888888888888,
              "#fdca26"
             ],
             [
              1,
              "#f0f921"
             ]
            ],
            "type": "histogram2dcontour"
           }
          ],
          "mesh3d": [
           {
            "colorbar": {
             "outlinewidth": 0,
             "ticks": ""
            },
            "type": "mesh3d"
           }
          ],
          "parcoords": [
           {
            "line": {
             "colorbar": {
              "outlinewidth": 0,
              "ticks": ""
             }
            },
            "type": "parcoords"
           }
          ],
          "pie": [
           {
            "automargin": true,
            "type": "pie"
           }
          ],
          "scatter": [
           {
            "fillpattern": {
             "fillmode": "overlay",
             "size": 10,
             "solidity": 0.2
            },
            "type": "scatter"
           }
          ],
          "scatter3d": [
           {
            "line": {
             "colorbar": {
              "outlinewidth": 0,
              "ticks": ""
             }
            },
            "marker": {
             "colorbar": {
              "outlinewidth": 0,
              "ticks": ""
             }
            },
            "type": "scatter3d"
           }
          ],
          "scattercarpet": [
           {
            "marker": {
             "colorbar": {
              "outlinewidth": 0,
              "ticks": ""
             }
            },
            "type": "scattercarpet"
           }
          ],
          "scattergeo": [
           {
            "marker": {
             "colorbar": {
              "outlinewidth": 0,
              "ticks": ""
             }
            },
            "type": "scattergeo"
           }
          ],
          "scattergl": [
           {
            "marker": {
             "colorbar": {
              "outlinewidth": 0,
              "ticks": ""
             }
            },
            "type": "scattergl"
           }
          ],
          "scattermapbox": [
           {
            "marker": {
             "colorbar": {
              "outlinewidth": 0,
              "ticks": ""
             }
            },
            "type": "scattermapbox"
           }
          ],
          "scatterpolar": [
           {
            "marker": {
             "colorbar": {
              "outlinewidth": 0,
              "ticks": ""
             }
            },
            "type": "scatterpolar"
           }
          ],
          "scatterpolargl": [
           {
            "marker": {
             "colorbar": {
              "outlinewidth": 0,
              "ticks": ""
             }
            },
            "type": "scatterpolargl"
           }
          ],
          "scatterternary": [
           {
            "marker": {
             "colorbar": {
              "outlinewidth": 0,
              "ticks": ""
             }
            },
            "type": "scatterternary"
           }
          ],
          "surface": [
           {
            "colorbar": {
             "outlinewidth": 0,
             "ticks": ""
            },
            "colorscale": [
             [
              0,
              "#0d0887"
             ],
             [
              0.1111111111111111,
              "#46039f"
             ],
             [
              0.2222222222222222,
              "#7201a8"
             ],
             [
              0.3333333333333333,
              "#9c179e"
             ],
             [
              0.4444444444444444,
              "#bd3786"
             ],
             [
              0.5555555555555556,
              "#d8576b"
             ],
             [
              0.6666666666666666,
              "#ed7953"
             ],
             [
              0.7777777777777778,
              "#fb9f3a"
             ],
             [
              0.8888888888888888,
              "#fdca26"
             ],
             [
              1,
              "#f0f921"
             ]
            ],
            "type": "surface"
           }
          ],
          "table": [
           {
            "cells": {
             "fill": {
              "color": "#EBF0F8"
             },
             "line": {
              "color": "white"
             }
            },
            "header": {
             "fill": {
              "color": "#C8D4E3"
             },
             "line": {
              "color": "white"
             }
            },
            "type": "table"
           }
          ]
         },
         "layout": {
          "annotationdefaults": {
           "arrowcolor": "#2a3f5f",
           "arrowhead": 0,
           "arrowwidth": 1
          },
          "autotypenumbers": "strict",
          "coloraxis": {
           "colorbar": {
            "outlinewidth": 0,
            "ticks": ""
           }
          },
          "colorscale": {
           "diverging": [
            [
             0,
             "#8e0152"
            ],
            [
             0.1,
             "#c51b7d"
            ],
            [
             0.2,
             "#de77ae"
            ],
            [
             0.3,
             "#f1b6da"
            ],
            [
             0.4,
             "#fde0ef"
            ],
            [
             0.5,
             "#f7f7f7"
            ],
            [
             0.6,
             "#e6f5d0"
            ],
            [
             0.7,
             "#b8e186"
            ],
            [
             0.8,
             "#7fbc41"
            ],
            [
             0.9,
             "#4d9221"
            ],
            [
             1,
             "#276419"
            ]
           ],
           "sequential": [
            [
             0,
             "#0d0887"
            ],
            [
             0.1111111111111111,
             "#46039f"
            ],
            [
             0.2222222222222222,
             "#7201a8"
            ],
            [
             0.3333333333333333,
             "#9c179e"
            ],
            [
             0.4444444444444444,
             "#bd3786"
            ],
            [
             0.5555555555555556,
             "#d8576b"
            ],
            [
             0.6666666666666666,
             "#ed7953"
            ],
            [
             0.7777777777777778,
             "#fb9f3a"
            ],
            [
             0.8888888888888888,
             "#fdca26"
            ],
            [
             1,
             "#f0f921"
            ]
           ],
           "sequentialminus": [
            [
             0,
             "#0d0887"
            ],
            [
             0.1111111111111111,
             "#46039f"
            ],
            [
             0.2222222222222222,
             "#7201a8"
            ],
            [
             0.3333333333333333,
             "#9c179e"
            ],
            [
             0.4444444444444444,
             "#bd3786"
            ],
            [
             0.5555555555555556,
             "#d8576b"
            ],
            [
             0.6666666666666666,
             "#ed7953"
            ],
            [
             0.7777777777777778,
             "#fb9f3a"
            ],
            [
             0.8888888888888888,
             "#fdca26"
            ],
            [
             1,
             "#f0f921"
            ]
           ]
          },
          "colorway": [
           "#636efa",
           "#EF553B",
           "#00cc96",
           "#ab63fa",
           "#FFA15A",
           "#19d3f3",
           "#FF6692",
           "#B6E880",
           "#FF97FF",
           "#FECB52"
          ],
          "font": {
           "color": "#2a3f5f"
          },
          "geo": {
           "bgcolor": "white",
           "lakecolor": "white",
           "landcolor": "#E5ECF6",
           "showlakes": true,
           "showland": true,
           "subunitcolor": "white"
          },
          "hoverlabel": {
           "align": "left"
          },
          "hovermode": "closest",
          "mapbox": {
           "style": "light"
          },
          "paper_bgcolor": "white",
          "plot_bgcolor": "#E5ECF6",
          "polar": {
           "angularaxis": {
            "gridcolor": "white",
            "linecolor": "white",
            "ticks": ""
           },
           "bgcolor": "#E5ECF6",
           "radialaxis": {
            "gridcolor": "white",
            "linecolor": "white",
            "ticks": ""
           }
          },
          "scene": {
           "xaxis": {
            "backgroundcolor": "#E5ECF6",
            "gridcolor": "white",
            "gridwidth": 2,
            "linecolor": "white",
            "showbackground": true,
            "ticks": "",
            "zerolinecolor": "white"
           },
           "yaxis": {
            "backgroundcolor": "#E5ECF6",
            "gridcolor": "white",
            "gridwidth": 2,
            "linecolor": "white",
            "showbackground": true,
            "ticks": "",
            "zerolinecolor": "white"
           },
           "zaxis": {
            "backgroundcolor": "#E5ECF6",
            "gridcolor": "white",
            "gridwidth": 2,
            "linecolor": "white",
            "showbackground": true,
            "ticks": "",
            "zerolinecolor": "white"
           }
          },
          "shapedefaults": {
           "line": {
            "color": "#2a3f5f"
           }
          },
          "ternary": {
           "aaxis": {
            "gridcolor": "white",
            "linecolor": "white",
            "ticks": ""
           },
           "baxis": {
            "gridcolor": "white",
            "linecolor": "white",
            "ticks": ""
           },
           "bgcolor": "#E5ECF6",
           "caxis": {
            "gridcolor": "white",
            "linecolor": "white",
            "ticks": ""
           }
          },
          "title": {
           "x": 0.05
          },
          "xaxis": {
           "automargin": true,
           "gridcolor": "white",
           "linecolor": "white",
           "ticks": "",
           "title": {
            "standoff": 15
           },
           "zerolinecolor": "white",
           "zerolinewidth": 2
          },
          "yaxis": {
           "automargin": true,
           "gridcolor": "white",
           "linecolor": "white",
           "ticks": "",
           "title": {
            "standoff": 15
           },
           "zerolinecolor": "white",
           "zerolinewidth": 2
          }
         }
        },
        "title": {
         "text": "Realized performance"
        },
        "xaxis": {
         "anchor": "y",
         "domain": [
          0,
          1
         ],
         "linecolor": "#3b0280",
         "matches": "x",
         "mirror": true,
         "showgrid": false,
         "showticklabels": true,
         "title": {
          "text": "Time"
         },
         "zeroline": false
        },
        "xaxis2": {
         "anchor": "y2",
         "domain": [
          0,
          1
         ],
         "linecolor": "#3b0280",
         "matches": "x",
         "mirror": true,
         "showgrid": false,
         "showticklabels": true,
         "title": {
          "text": "Time"
         },
         "zeroline": false
        },
        "xaxis3": {
         "anchor": "y3",
         "domain": [
          0,
          1
         ],
         "linecolor": "#3b0280",
         "matches": "x",
         "mirror": true,
         "showgrid": false,
         "showticklabels": true,
         "title": {
          "text": "Time"
         },
         "zeroline": false
        },
        "yaxis": {
         "anchor": "x",
         "domain": [
          0.7777777777777778,
          1
         ],
         "linecolor": "#3b0280",
         "mirror": true,
         "showgrid": false,
         "title": {
          "text": "True Positive"
         },
         "zeroline": false
        },
        "yaxis2": {
         "anchor": "x2",
         "domain": [
          0.3888888888888889,
          0.6111111111111112
         ],
         "linecolor": "#3b0280",
         "mirror": true,
         "showgrid": false,
         "title": {
          "text": "False Positive"
         },
         "zeroline": false
        },
        "yaxis3": {
         "anchor": "x3",
         "domain": [
          0,
          0.22222222222222224
         ],
         "linecolor": "#3b0280",
         "mirror": true,
         "showgrid": false,
         "title": {
          "text": "Business Value"
         },
         "zeroline": false
        }
       }
      }
     },
     "metadata": {},
     "output_type": "display_data"
    }
   ],
   "source": [
    "filtered_results = results.filter(period='analysis')\n",
    "display(filtered_results.to_df())\n",
    "\n",
    "filtered_results = results.filter(period='analysis', metrics=['true_positive', 'false_positive', 'business_value'])\n",
    "display(filtered_results.to_df())\n",
    "\n",
    "figure = filtered_results.plot()\n",
    "figure.show()"
   ]
  },
  {
   "cell_type": "markdown",
   "metadata": {},
   "source": [
    "# Esitmation"
   ]
  },
  {
   "cell_type": "code",
   "execution_count": 119,
   "metadata": {},
   "outputs": [
    {
     "data": {
      "text/html": [
       "<div>\n",
       "<style scoped>\n",
       "    .dataframe tbody tr th:only-of-type {\n",
       "        vertical-align: middle;\n",
       "    }\n",
       "\n",
       "    .dataframe tbody tr th {\n",
       "        vertical-align: top;\n",
       "    }\n",
       "\n",
       "    .dataframe thead th {\n",
       "        text-align: right;\n",
       "    }\n",
       "</style>\n",
       "<table border=\"1\" class=\"dataframe\">\n",
       "  <thead>\n",
       "    <tr style=\"text-align: right;\">\n",
       "      <th></th>\n",
       "      <th>car_value</th>\n",
       "      <th>salary_range</th>\n",
       "      <th>debt_to_income_ratio</th>\n",
       "      <th>loan_length</th>\n",
       "      <th>repaid_loan_on_prev_car</th>\n",
       "      <th>size_of_downpayment</th>\n",
       "      <th>driver_tenure</th>\n",
       "      <th>repaid</th>\n",
       "      <th>timestamp</th>\n",
       "      <th>y_pred_proba</th>\n",
       "      <th>y_pred</th>\n",
       "    </tr>\n",
       "  </thead>\n",
       "  <tbody>\n",
       "    <tr>\n",
       "      <th>0</th>\n",
       "      <td>39811.0</td>\n",
       "      <td>40K - 60K €</td>\n",
       "      <td>0.632950</td>\n",
       "      <td>19.0</td>\n",
       "      <td>False</td>\n",
       "      <td>40%</td>\n",
       "      <td>0.212653</td>\n",
       "      <td>1.0</td>\n",
       "      <td>2018-01-01 00:00:00.000</td>\n",
       "      <td>0.99</td>\n",
       "      <td>1</td>\n",
       "    </tr>\n",
       "    <tr>\n",
       "      <th>1</th>\n",
       "      <td>12679.0</td>\n",
       "      <td>40K - 60K €</td>\n",
       "      <td>0.718627</td>\n",
       "      <td>7.0</td>\n",
       "      <td>True</td>\n",
       "      <td>10%</td>\n",
       "      <td>4.927549</td>\n",
       "      <td>0.0</td>\n",
       "      <td>2018-01-01 00:08:43.152</td>\n",
       "      <td>0.07</td>\n",
       "      <td>0</td>\n",
       "    </tr>\n",
       "    <tr>\n",
       "      <th>2</th>\n",
       "      <td>19847.0</td>\n",
       "      <td>40K - 60K €</td>\n",
       "      <td>0.721724</td>\n",
       "      <td>17.0</td>\n",
       "      <td>False</td>\n",
       "      <td>0%</td>\n",
       "      <td>0.520817</td>\n",
       "      <td>1.0</td>\n",
       "      <td>2018-01-01 00:17:26.304</td>\n",
       "      <td>1.00</td>\n",
       "      <td>1</td>\n",
       "    </tr>\n",
       "  </tbody>\n",
       "</table>\n",
       "</div>"
      ],
      "text/plain": [
       "   car_value salary_range  debt_to_income_ratio  loan_length  \\\n",
       "0    39811.0  40K - 60K €              0.632950         19.0   \n",
       "1    12679.0  40K - 60K €              0.718627          7.0   \n",
       "2    19847.0  40K - 60K €              0.721724         17.0   \n",
       "\n",
       "   repaid_loan_on_prev_car size_of_downpayment  driver_tenure  repaid  \\\n",
       "0                    False                 40%       0.212653     1.0   \n",
       "1                     True                 10%       4.927549     0.0   \n",
       "2                    False                  0%       0.520817     1.0   \n",
       "\n",
       "                 timestamp  y_pred_proba  y_pred  \n",
       "0  2018-01-01 00:00:00.000          0.99       1  \n",
       "1  2018-01-01 00:08:43.152          0.07       0  \n",
       "2  2018-01-01 00:17:26.304          1.00       1  "
      ]
     },
     "metadata": {},
     "output_type": "display_data"
    },
    {
     "data": {
      "text/html": [
       "<div>\n",
       "<style scoped>\n",
       "    .dataframe tbody tr th:only-of-type {\n",
       "        vertical-align: middle;\n",
       "    }\n",
       "\n",
       "    .dataframe tbody tr th {\n",
       "        vertical-align: top;\n",
       "    }\n",
       "\n",
       "    .dataframe thead tr th {\n",
       "        text-align: left;\n",
       "    }\n",
       "</style>\n",
       "<table border=\"1\" class=\"dataframe\">\n",
       "  <thead>\n",
       "    <tr>\n",
       "      <th></th>\n",
       "      <th colspan=\"7\" halign=\"left\">chunk</th>\n",
       "      <th colspan=\"8\" halign=\"left\">roc_auc</th>\n",
       "      <th colspan=\"8\" halign=\"left\">business_value</th>\n",
       "    </tr>\n",
       "    <tr>\n",
       "      <th></th>\n",
       "      <th>key</th>\n",
       "      <th>chunk_index</th>\n",
       "      <th>start_index</th>\n",
       "      <th>end_index</th>\n",
       "      <th>start_date</th>\n",
       "      <th>end_date</th>\n",
       "      <th>period</th>\n",
       "      <th>value</th>\n",
       "      <th>sampling_error</th>\n",
       "      <th>realized</th>\n",
       "      <th>upper_confidence_boundary</th>\n",
       "      <th>lower_confidence_boundary</th>\n",
       "      <th>upper_threshold</th>\n",
       "      <th>lower_threshold</th>\n",
       "      <th>alert</th>\n",
       "      <th>value</th>\n",
       "      <th>sampling_error</th>\n",
       "      <th>realized</th>\n",
       "      <th>upper_confidence_boundary</th>\n",
       "      <th>lower_confidence_boundary</th>\n",
       "      <th>upper_threshold</th>\n",
       "      <th>lower_threshold</th>\n",
       "      <th>alert</th>\n",
       "    </tr>\n",
       "  </thead>\n",
       "  <tbody>\n",
       "    <tr>\n",
       "      <th>0</th>\n",
       "      <td>[0:4999]</td>\n",
       "      <td>0</td>\n",
       "      <td>0</td>\n",
       "      <td>4999</td>\n",
       "      <td>2018-01-01 00:00:00</td>\n",
       "      <td>2018-01-31 06:27:16.848</td>\n",
       "      <td>reference</td>\n",
       "      <td>0.969051</td>\n",
       "      <td>0.001811</td>\n",
       "      <td>0.976253</td>\n",
       "      <td>0.974483</td>\n",
       "      <td>0.963619</td>\n",
       "      <td>0.97866</td>\n",
       "      <td>0.963317</td>\n",
       "      <td>False</td>\n",
       "      <td>3.991213</td>\n",
       "      <td>0.008124</td>\n",
       "      <td>3.9874</td>\n",
       "      <td>4.015584</td>\n",
       "      <td>3.966842</td>\n",
       "      <td>4.011564</td>\n",
       "      <td>3.972196</td>\n",
       "      <td>False</td>\n",
       "    </tr>\n",
       "    <tr>\n",
       "      <th>1</th>\n",
       "      <td>[5000:9999]</td>\n",
       "      <td>1</td>\n",
       "      <td>5000</td>\n",
       "      <td>9999</td>\n",
       "      <td>2018-01-31 06:36:00</td>\n",
       "      <td>2018-03-02 13:03:16.848</td>\n",
       "      <td>reference</td>\n",
       "      <td>0.968909</td>\n",
       "      <td>0.001811</td>\n",
       "      <td>0.969045</td>\n",
       "      <td>0.974341</td>\n",
       "      <td>0.963477</td>\n",
       "      <td>0.97866</td>\n",
       "      <td>0.963317</td>\n",
       "      <td>False</td>\n",
       "      <td>3.988791</td>\n",
       "      <td>0.008124</td>\n",
       "      <td>3.9918</td>\n",
       "      <td>4.013162</td>\n",
       "      <td>3.964420</td>\n",
       "      <td>4.011564</td>\n",
       "      <td>3.972196</td>\n",
       "      <td>False</td>\n",
       "    </tr>\n",
       "    <tr>\n",
       "      <th>2</th>\n",
       "      <td>[10000:14999]</td>\n",
       "      <td>2</td>\n",
       "      <td>10000</td>\n",
       "      <td>14999</td>\n",
       "      <td>2018-03-02 13:12:00</td>\n",
       "      <td>2018-04-01 19:39:16.848</td>\n",
       "      <td>reference</td>\n",
       "      <td>0.968657</td>\n",
       "      <td>0.001811</td>\n",
       "      <td>0.971742</td>\n",
       "      <td>0.974089</td>\n",
       "      <td>0.963225</td>\n",
       "      <td>0.97866</td>\n",
       "      <td>0.963317</td>\n",
       "      <td>False</td>\n",
       "      <td>3.991003</td>\n",
       "      <td>0.008124</td>\n",
       "      <td>3.9914</td>\n",
       "      <td>4.015375</td>\n",
       "      <td>3.966632</td>\n",
       "      <td>4.011564</td>\n",
       "      <td>3.972196</td>\n",
       "      <td>False</td>\n",
       "    </tr>\n",
       "    <tr>\n",
       "      <th>3</th>\n",
       "      <td>[15000:19999]</td>\n",
       "      <td>3</td>\n",
       "      <td>15000</td>\n",
       "      <td>19999</td>\n",
       "      <td>2018-04-01 19:48:00</td>\n",
       "      <td>2018-05-02 02:15:16.848</td>\n",
       "      <td>reference</td>\n",
       "      <td>0.968973</td>\n",
       "      <td>0.001811</td>\n",
       "      <td>0.971642</td>\n",
       "      <td>0.974405</td>\n",
       "      <td>0.963540</td>\n",
       "      <td>0.97866</td>\n",
       "      <td>0.963317</td>\n",
       "      <td>False</td>\n",
       "      <td>3.991727</td>\n",
       "      <td>0.008124</td>\n",
       "      <td>3.9864</td>\n",
       "      <td>4.016098</td>\n",
       "      <td>3.967356</td>\n",
       "      <td>4.011564</td>\n",
       "      <td>3.972196</td>\n",
       "      <td>False</td>\n",
       "    </tr>\n",
       "    <tr>\n",
       "      <th>4</th>\n",
       "      <td>[20000:24999]</td>\n",
       "      <td>4</td>\n",
       "      <td>20000</td>\n",
       "      <td>24999</td>\n",
       "      <td>2018-05-02 02:24:00</td>\n",
       "      <td>2018-06-01 08:51:16.848</td>\n",
       "      <td>reference</td>\n",
       "      <td>0.968962</td>\n",
       "      <td>0.001811</td>\n",
       "      <td>0.969085</td>\n",
       "      <td>0.974394</td>\n",
       "      <td>0.963530</td>\n",
       "      <td>0.97866</td>\n",
       "      <td>0.963317</td>\n",
       "      <td>False</td>\n",
       "      <td>3.991965</td>\n",
       "      <td>0.008124</td>\n",
       "      <td>3.9864</td>\n",
       "      <td>4.016337</td>\n",
       "      <td>3.967594</td>\n",
       "      <td>4.011564</td>\n",
       "      <td>3.972196</td>\n",
       "      <td>False</td>\n",
       "    </tr>\n",
       "    <tr>\n",
       "      <th>5</th>\n",
       "      <td>[25000:29999]</td>\n",
       "      <td>5</td>\n",
       "      <td>25000</td>\n",
       "      <td>29999</td>\n",
       "      <td>2018-06-01 09:00:00</td>\n",
       "      <td>2018-07-01 15:27:16.848</td>\n",
       "      <td>reference</td>\n",
       "      <td>0.969079</td>\n",
       "      <td>0.001811</td>\n",
       "      <td>0.967364</td>\n",
       "      <td>0.974511</td>\n",
       "      <td>0.963647</td>\n",
       "      <td>0.97866</td>\n",
       "      <td>0.963317</td>\n",
       "      <td>False</td>\n",
       "      <td>3.992596</td>\n",
       "      <td>0.008124</td>\n",
       "      <td>4.0014</td>\n",
       "      <td>4.016967</td>\n",
       "      <td>3.968225</td>\n",
       "      <td>4.011564</td>\n",
       "      <td>3.972196</td>\n",
       "      <td>False</td>\n",
       "    </tr>\n",
       "    <tr>\n",
       "      <th>6</th>\n",
       "      <td>[30000:34999]</td>\n",
       "      <td>6</td>\n",
       "      <td>30000</td>\n",
       "      <td>34999</td>\n",
       "      <td>2018-07-01 15:36:00</td>\n",
       "      <td>2018-07-31 22:03:16.848</td>\n",
       "      <td>reference</td>\n",
       "      <td>0.968725</td>\n",
       "      <td>0.001811</td>\n",
       "      <td>0.968692</td>\n",
       "      <td>0.974157</td>\n",
       "      <td>0.963292</td>\n",
       "      <td>0.97866</td>\n",
       "      <td>0.963317</td>\n",
       "      <td>False</td>\n",
       "      <td>3.983748</td>\n",
       "      <td>0.008124</td>\n",
       "      <td>3.9930</td>\n",
       "      <td>4.008119</td>\n",
       "      <td>3.959376</td>\n",
       "      <td>4.011564</td>\n",
       "      <td>3.972196</td>\n",
       "      <td>False</td>\n",
       "    </tr>\n",
       "    <tr>\n",
       "      <th>7</th>\n",
       "      <td>[35000:39999]</td>\n",
       "      <td>7</td>\n",
       "      <td>35000</td>\n",
       "      <td>39999</td>\n",
       "      <td>2018-07-31 22:12:00</td>\n",
       "      <td>2018-08-31 04:39:16.848</td>\n",
       "      <td>reference</td>\n",
       "      <td>0.968885</td>\n",
       "      <td>0.001811</td>\n",
       "      <td>0.970205</td>\n",
       "      <td>0.974317</td>\n",
       "      <td>0.963453</td>\n",
       "      <td>0.97866</td>\n",
       "      <td>0.963317</td>\n",
       "      <td>False</td>\n",
       "      <td>3.994960</td>\n",
       "      <td>0.008124</td>\n",
       "      <td>3.9980</td>\n",
       "      <td>4.019331</td>\n",
       "      <td>3.970589</td>\n",
       "      <td>4.011564</td>\n",
       "      <td>3.972196</td>\n",
       "      <td>False</td>\n",
       "    </tr>\n",
       "    <tr>\n",
       "      <th>8</th>\n",
       "      <td>[40000:44999]</td>\n",
       "      <td>8</td>\n",
       "      <td>40000</td>\n",
       "      <td>44999</td>\n",
       "      <td>2018-08-31 04:48:00</td>\n",
       "      <td>2018-09-30 11:15:16.848</td>\n",
       "      <td>reference</td>\n",
       "      <td>0.969227</td>\n",
       "      <td>0.001811</td>\n",
       "      <td>0.974096</td>\n",
       "      <td>0.974659</td>\n",
       "      <td>0.963795</td>\n",
       "      <td>0.97866</td>\n",
       "      <td>0.963317</td>\n",
       "      <td>False</td>\n",
       "      <td>3.994172</td>\n",
       "      <td>0.008124</td>\n",
       "      <td>3.9810</td>\n",
       "      <td>4.018543</td>\n",
       "      <td>3.969801</td>\n",
       "      <td>4.011564</td>\n",
       "      <td>3.972196</td>\n",
       "      <td>False</td>\n",
       "    </tr>\n",
       "    <tr>\n",
       "      <th>9</th>\n",
       "      <td>[45000:49999]</td>\n",
       "      <td>9</td>\n",
       "      <td>45000</td>\n",
       "      <td>49999</td>\n",
       "      <td>2018-09-30 11:24:00</td>\n",
       "      <td>2018-10-30 17:51:16.848</td>\n",
       "      <td>reference</td>\n",
       "      <td>0.969002</td>\n",
       "      <td>0.001811</td>\n",
       "      <td>0.971757</td>\n",
       "      <td>0.974434</td>\n",
       "      <td>0.963570</td>\n",
       "      <td>0.97866</td>\n",
       "      <td>0.963317</td>\n",
       "      <td>False</td>\n",
       "      <td>3.997335</td>\n",
       "      <td>0.008124</td>\n",
       "      <td>4.0020</td>\n",
       "      <td>4.021706</td>\n",
       "      <td>3.972963</td>\n",
       "      <td>4.011564</td>\n",
       "      <td>3.972196</td>\n",
       "      <td>False</td>\n",
       "    </tr>\n",
       "    <tr>\n",
       "      <th>10</th>\n",
       "      <td>[0:4999]</td>\n",
       "      <td>0</td>\n",
       "      <td>0</td>\n",
       "      <td>4999</td>\n",
       "      <td>2018-10-30 18:00:00</td>\n",
       "      <td>2018-11-30 00:27:16.848</td>\n",
       "      <td>analysis</td>\n",
       "      <td>0.968631</td>\n",
       "      <td>0.001811</td>\n",
       "      <td>NaN</td>\n",
       "      <td>0.974063</td>\n",
       "      <td>0.963198</td>\n",
       "      <td>0.97866</td>\n",
       "      <td>0.963317</td>\n",
       "      <td>False</td>\n",
       "      <td>3.989752</td>\n",
       "      <td>0.008124</td>\n",
       "      <td>NaN</td>\n",
       "      <td>4.014123</td>\n",
       "      <td>3.965381</td>\n",
       "      <td>4.011564</td>\n",
       "      <td>3.972196</td>\n",
       "      <td>False</td>\n",
       "    </tr>\n",
       "    <tr>\n",
       "      <th>11</th>\n",
       "      <td>[5000:9999]</td>\n",
       "      <td>1</td>\n",
       "      <td>5000</td>\n",
       "      <td>9999</td>\n",
       "      <td>2018-11-30 00:36:00</td>\n",
       "      <td>2018-12-30 07:03:16.848</td>\n",
       "      <td>analysis</td>\n",
       "      <td>0.969044</td>\n",
       "      <td>0.001811</td>\n",
       "      <td>NaN</td>\n",
       "      <td>0.974476</td>\n",
       "      <td>0.963612</td>\n",
       "      <td>0.97866</td>\n",
       "      <td>0.963317</td>\n",
       "      <td>False</td>\n",
       "      <td>3.986414</td>\n",
       "      <td>0.008124</td>\n",
       "      <td>NaN</td>\n",
       "      <td>4.010785</td>\n",
       "      <td>3.962043</td>\n",
       "      <td>4.011564</td>\n",
       "      <td>3.972196</td>\n",
       "      <td>False</td>\n",
       "    </tr>\n",
       "    <tr>\n",
       "      <th>12</th>\n",
       "      <td>[10000:14999]</td>\n",
       "      <td>2</td>\n",
       "      <td>10000</td>\n",
       "      <td>14999</td>\n",
       "      <td>2018-12-30 07:12:00</td>\n",
       "      <td>2019-01-29 13:39:16.848</td>\n",
       "      <td>analysis</td>\n",
       "      <td>0.969444</td>\n",
       "      <td>0.001811</td>\n",
       "      <td>NaN</td>\n",
       "      <td>0.974876</td>\n",
       "      <td>0.964012</td>\n",
       "      <td>0.97866</td>\n",
       "      <td>0.963317</td>\n",
       "      <td>False</td>\n",
       "      <td>3.990204</td>\n",
       "      <td>0.008124</td>\n",
       "      <td>NaN</td>\n",
       "      <td>4.014575</td>\n",
       "      <td>3.965833</td>\n",
       "      <td>4.011564</td>\n",
       "      <td>3.972196</td>\n",
       "      <td>False</td>\n",
       "    </tr>\n",
       "    <tr>\n",
       "      <th>13</th>\n",
       "      <td>[15000:19999]</td>\n",
       "      <td>3</td>\n",
       "      <td>15000</td>\n",
       "      <td>19999</td>\n",
       "      <td>2019-01-29 13:48:00</td>\n",
       "      <td>2019-02-28 20:15:16.848</td>\n",
       "      <td>analysis</td>\n",
       "      <td>0.969047</td>\n",
       "      <td>0.001811</td>\n",
       "      <td>NaN</td>\n",
       "      <td>0.974479</td>\n",
       "      <td>0.963615</td>\n",
       "      <td>0.97866</td>\n",
       "      <td>0.963317</td>\n",
       "      <td>False</td>\n",
       "      <td>3.992492</td>\n",
       "      <td>0.008124</td>\n",
       "      <td>NaN</td>\n",
       "      <td>4.016863</td>\n",
       "      <td>3.968120</td>\n",
       "      <td>4.011564</td>\n",
       "      <td>3.972196</td>\n",
       "      <td>False</td>\n",
       "    </tr>\n",
       "    <tr>\n",
       "      <th>14</th>\n",
       "      <td>[20000:24999]</td>\n",
       "      <td>4</td>\n",
       "      <td>20000</td>\n",
       "      <td>24999</td>\n",
       "      <td>2019-02-28 20:24:00</td>\n",
       "      <td>2019-03-31 02:51:16.848</td>\n",
       "      <td>analysis</td>\n",
       "      <td>0.968873</td>\n",
       "      <td>0.001811</td>\n",
       "      <td>NaN</td>\n",
       "      <td>0.974305</td>\n",
       "      <td>0.963441</td>\n",
       "      <td>0.97866</td>\n",
       "      <td>0.963317</td>\n",
       "      <td>False</td>\n",
       "      <td>3.991430</td>\n",
       "      <td>0.008124</td>\n",
       "      <td>NaN</td>\n",
       "      <td>4.015801</td>\n",
       "      <td>3.967059</td>\n",
       "      <td>4.011564</td>\n",
       "      <td>3.972196</td>\n",
       "      <td>False</td>\n",
       "    </tr>\n",
       "    <tr>\n",
       "      <th>15</th>\n",
       "      <td>[25000:29999]</td>\n",
       "      <td>5</td>\n",
       "      <td>25000</td>\n",
       "      <td>29999</td>\n",
       "      <td>2019-03-31 03:00:00</td>\n",
       "      <td>2019-04-30 09:27:16.848</td>\n",
       "      <td>analysis</td>\n",
       "      <td>0.960478</td>\n",
       "      <td>0.001811</td>\n",
       "      <td>NaN</td>\n",
       "      <td>0.965910</td>\n",
       "      <td>0.955046</td>\n",
       "      <td>0.97866</td>\n",
       "      <td>0.963317</td>\n",
       "      <td>True</td>\n",
       "      <td>3.965200</td>\n",
       "      <td>0.008124</td>\n",
       "      <td>NaN</td>\n",
       "      <td>3.989571</td>\n",
       "      <td>3.940829</td>\n",
       "      <td>4.011564</td>\n",
       "      <td>3.972196</td>\n",
       "      <td>True</td>\n",
       "    </tr>\n",
       "    <tr>\n",
       "      <th>16</th>\n",
       "      <td>[30000:34999]</td>\n",
       "      <td>6</td>\n",
       "      <td>30000</td>\n",
       "      <td>34999</td>\n",
       "      <td>2019-04-30 09:36:00</td>\n",
       "      <td>2019-05-30 16:03:16.848</td>\n",
       "      <td>analysis</td>\n",
       "      <td>0.961134</td>\n",
       "      <td>0.001811</td>\n",
       "      <td>NaN</td>\n",
       "      <td>0.966566</td>\n",
       "      <td>0.955701</td>\n",
       "      <td>0.97866</td>\n",
       "      <td>0.963317</td>\n",
       "      <td>True</td>\n",
       "      <td>3.963966</td>\n",
       "      <td>0.008124</td>\n",
       "      <td>NaN</td>\n",
       "      <td>3.988338</td>\n",
       "      <td>3.939595</td>\n",
       "      <td>4.011564</td>\n",
       "      <td>3.972196</td>\n",
       "      <td>True</td>\n",
       "    </tr>\n",
       "    <tr>\n",
       "      <th>17</th>\n",
       "      <td>[35000:39999]</td>\n",
       "      <td>7</td>\n",
       "      <td>35000</td>\n",
       "      <td>39999</td>\n",
       "      <td>2019-05-30 16:12:00</td>\n",
       "      <td>2019-06-29 22:39:16.848</td>\n",
       "      <td>analysis</td>\n",
       "      <td>0.960536</td>\n",
       "      <td>0.001811</td>\n",
       "      <td>NaN</td>\n",
       "      <td>0.965968</td>\n",
       "      <td>0.955104</td>\n",
       "      <td>0.97866</td>\n",
       "      <td>0.963317</td>\n",
       "      <td>True</td>\n",
       "      <td>3.970157</td>\n",
       "      <td>0.008124</td>\n",
       "      <td>NaN</td>\n",
       "      <td>3.994528</td>\n",
       "      <td>3.945785</td>\n",
       "      <td>4.011564</td>\n",
       "      <td>3.972196</td>\n",
       "      <td>True</td>\n",
       "    </tr>\n",
       "    <tr>\n",
       "      <th>18</th>\n",
       "      <td>[40000:44999]</td>\n",
       "      <td>8</td>\n",
       "      <td>40000</td>\n",
       "      <td>44999</td>\n",
       "      <td>2019-06-29 22:48:00</td>\n",
       "      <td>2019-07-30 05:15:16.848</td>\n",
       "      <td>analysis</td>\n",
       "      <td>0.961869</td>\n",
       "      <td>0.001811</td>\n",
       "      <td>NaN</td>\n",
       "      <td>0.967301</td>\n",
       "      <td>0.956437</td>\n",
       "      <td>0.97866</td>\n",
       "      <td>0.963317</td>\n",
       "      <td>True</td>\n",
       "      <td>3.964973</td>\n",
       "      <td>0.008124</td>\n",
       "      <td>NaN</td>\n",
       "      <td>3.989344</td>\n",
       "      <td>3.940602</td>\n",
       "      <td>4.011564</td>\n",
       "      <td>3.972196</td>\n",
       "      <td>True</td>\n",
       "    </tr>\n",
       "    <tr>\n",
       "      <th>19</th>\n",
       "      <td>[45000:49999]</td>\n",
       "      <td>9</td>\n",
       "      <td>45000</td>\n",
       "      <td>49999</td>\n",
       "      <td>2019-07-30 05:24:00</td>\n",
       "      <td>2019-08-29 11:51:16.848</td>\n",
       "      <td>analysis</td>\n",
       "      <td>0.960537</td>\n",
       "      <td>0.001811</td>\n",
       "      <td>NaN</td>\n",
       "      <td>0.965969</td>\n",
       "      <td>0.955104</td>\n",
       "      <td>0.97866</td>\n",
       "      <td>0.963317</td>\n",
       "      <td>True</td>\n",
       "      <td>3.971572</td>\n",
       "      <td>0.008124</td>\n",
       "      <td>NaN</td>\n",
       "      <td>3.995943</td>\n",
       "      <td>3.947201</td>\n",
       "      <td>4.011564</td>\n",
       "      <td>3.972196</td>\n",
       "      <td>True</td>\n",
       "    </tr>\n",
       "  </tbody>\n",
       "</table>\n",
       "</div>"
      ],
      "text/plain": [
       "            chunk                                                        \\\n",
       "              key chunk_index start_index end_index          start_date   \n",
       "0        [0:4999]           0           0      4999 2018-01-01 00:00:00   \n",
       "1     [5000:9999]           1        5000      9999 2018-01-31 06:36:00   \n",
       "2   [10000:14999]           2       10000     14999 2018-03-02 13:12:00   \n",
       "3   [15000:19999]           3       15000     19999 2018-04-01 19:48:00   \n",
       "4   [20000:24999]           4       20000     24999 2018-05-02 02:24:00   \n",
       "5   [25000:29999]           5       25000     29999 2018-06-01 09:00:00   \n",
       "6   [30000:34999]           6       30000     34999 2018-07-01 15:36:00   \n",
       "7   [35000:39999]           7       35000     39999 2018-07-31 22:12:00   \n",
       "8   [40000:44999]           8       40000     44999 2018-08-31 04:48:00   \n",
       "9   [45000:49999]           9       45000     49999 2018-09-30 11:24:00   \n",
       "10       [0:4999]           0           0      4999 2018-10-30 18:00:00   \n",
       "11    [5000:9999]           1        5000      9999 2018-11-30 00:36:00   \n",
       "12  [10000:14999]           2       10000     14999 2018-12-30 07:12:00   \n",
       "13  [15000:19999]           3       15000     19999 2019-01-29 13:48:00   \n",
       "14  [20000:24999]           4       20000     24999 2019-02-28 20:24:00   \n",
       "15  [25000:29999]           5       25000     29999 2019-03-31 03:00:00   \n",
       "16  [30000:34999]           6       30000     34999 2019-04-30 09:36:00   \n",
       "17  [35000:39999]           7       35000     39999 2019-05-30 16:12:00   \n",
       "18  [40000:44999]           8       40000     44999 2019-06-29 22:48:00   \n",
       "19  [45000:49999]           9       45000     49999 2019-07-30 05:24:00   \n",
       "\n",
       "                                        roc_auc                           \\\n",
       "                  end_date     period     value sampling_error  realized   \n",
       "0  2018-01-31 06:27:16.848  reference  0.969051       0.001811  0.976253   \n",
       "1  2018-03-02 13:03:16.848  reference  0.968909       0.001811  0.969045   \n",
       "2  2018-04-01 19:39:16.848  reference  0.968657       0.001811  0.971742   \n",
       "3  2018-05-02 02:15:16.848  reference  0.968973       0.001811  0.971642   \n",
       "4  2018-06-01 08:51:16.848  reference  0.968962       0.001811  0.969085   \n",
       "5  2018-07-01 15:27:16.848  reference  0.969079       0.001811  0.967364   \n",
       "6  2018-07-31 22:03:16.848  reference  0.968725       0.001811  0.968692   \n",
       "7  2018-08-31 04:39:16.848  reference  0.968885       0.001811  0.970205   \n",
       "8  2018-09-30 11:15:16.848  reference  0.969227       0.001811  0.974096   \n",
       "9  2018-10-30 17:51:16.848  reference  0.969002       0.001811  0.971757   \n",
       "10 2018-11-30 00:27:16.848   analysis  0.968631       0.001811       NaN   \n",
       "11 2018-12-30 07:03:16.848   analysis  0.969044       0.001811       NaN   \n",
       "12 2019-01-29 13:39:16.848   analysis  0.969444       0.001811       NaN   \n",
       "13 2019-02-28 20:15:16.848   analysis  0.969047       0.001811       NaN   \n",
       "14 2019-03-31 02:51:16.848   analysis  0.968873       0.001811       NaN   \n",
       "15 2019-04-30 09:27:16.848   analysis  0.960478       0.001811       NaN   \n",
       "16 2019-05-30 16:03:16.848   analysis  0.961134       0.001811       NaN   \n",
       "17 2019-06-29 22:39:16.848   analysis  0.960536       0.001811       NaN   \n",
       "18 2019-07-30 05:15:16.848   analysis  0.961869       0.001811       NaN   \n",
       "19 2019-08-29 11:51:16.848   analysis  0.960537       0.001811       NaN   \n",
       "\n",
       "                                                                        \\\n",
       "   upper_confidence_boundary lower_confidence_boundary upper_threshold   \n",
       "0                   0.974483                  0.963619         0.97866   \n",
       "1                   0.974341                  0.963477         0.97866   \n",
       "2                   0.974089                  0.963225         0.97866   \n",
       "3                   0.974405                  0.963540         0.97866   \n",
       "4                   0.974394                  0.963530         0.97866   \n",
       "5                   0.974511                  0.963647         0.97866   \n",
       "6                   0.974157                  0.963292         0.97866   \n",
       "7                   0.974317                  0.963453         0.97866   \n",
       "8                   0.974659                  0.963795         0.97866   \n",
       "9                   0.974434                  0.963570         0.97866   \n",
       "10                  0.974063                  0.963198         0.97866   \n",
       "11                  0.974476                  0.963612         0.97866   \n",
       "12                  0.974876                  0.964012         0.97866   \n",
       "13                  0.974479                  0.963615         0.97866   \n",
       "14                  0.974305                  0.963441         0.97866   \n",
       "15                  0.965910                  0.955046         0.97866   \n",
       "16                  0.966566                  0.955701         0.97866   \n",
       "17                  0.965968                  0.955104         0.97866   \n",
       "18                  0.967301                  0.956437         0.97866   \n",
       "19                  0.965969                  0.955104         0.97866   \n",
       "\n",
       "                          business_value                          \\\n",
       "   lower_threshold  alert          value sampling_error realized   \n",
       "0         0.963317  False       3.991213       0.008124   3.9874   \n",
       "1         0.963317  False       3.988791       0.008124   3.9918   \n",
       "2         0.963317  False       3.991003       0.008124   3.9914   \n",
       "3         0.963317  False       3.991727       0.008124   3.9864   \n",
       "4         0.963317  False       3.991965       0.008124   3.9864   \n",
       "5         0.963317  False       3.992596       0.008124   4.0014   \n",
       "6         0.963317  False       3.983748       0.008124   3.9930   \n",
       "7         0.963317  False       3.994960       0.008124   3.9980   \n",
       "8         0.963317  False       3.994172       0.008124   3.9810   \n",
       "9         0.963317  False       3.997335       0.008124   4.0020   \n",
       "10        0.963317  False       3.989752       0.008124      NaN   \n",
       "11        0.963317  False       3.986414       0.008124      NaN   \n",
       "12        0.963317  False       3.990204       0.008124      NaN   \n",
       "13        0.963317  False       3.992492       0.008124      NaN   \n",
       "14        0.963317  False       3.991430       0.008124      NaN   \n",
       "15        0.963317   True       3.965200       0.008124      NaN   \n",
       "16        0.963317   True       3.963966       0.008124      NaN   \n",
       "17        0.963317   True       3.970157       0.008124      NaN   \n",
       "18        0.963317   True       3.964973       0.008124      NaN   \n",
       "19        0.963317   True       3.971572       0.008124      NaN   \n",
       "\n",
       "                                                                        \\\n",
       "   upper_confidence_boundary lower_confidence_boundary upper_threshold   \n",
       "0                   4.015584                  3.966842        4.011564   \n",
       "1                   4.013162                  3.964420        4.011564   \n",
       "2                   4.015375                  3.966632        4.011564   \n",
       "3                   4.016098                  3.967356        4.011564   \n",
       "4                   4.016337                  3.967594        4.011564   \n",
       "5                   4.016967                  3.968225        4.011564   \n",
       "6                   4.008119                  3.959376        4.011564   \n",
       "7                   4.019331                  3.970589        4.011564   \n",
       "8                   4.018543                  3.969801        4.011564   \n",
       "9                   4.021706                  3.972963        4.011564   \n",
       "10                  4.014123                  3.965381        4.011564   \n",
       "11                  4.010785                  3.962043        4.011564   \n",
       "12                  4.014575                  3.965833        4.011564   \n",
       "13                  4.016863                  3.968120        4.011564   \n",
       "14                  4.015801                  3.967059        4.011564   \n",
       "15                  3.989571                  3.940829        4.011564   \n",
       "16                  3.988338                  3.939595        4.011564   \n",
       "17                  3.994528                  3.945785        4.011564   \n",
       "18                  3.989344                  3.940602        4.011564   \n",
       "19                  3.995943                  3.947201        4.011564   \n",
       "\n",
       "                           \n",
       "   lower_threshold  alert  \n",
       "0         3.972196  False  \n",
       "1         3.972196  False  \n",
       "2         3.972196  False  \n",
       "3         3.972196  False  \n",
       "4         3.972196  False  \n",
       "5         3.972196  False  \n",
       "6         3.972196  False  \n",
       "7         3.972196  False  \n",
       "8         3.972196  False  \n",
       "9         3.972196  False  \n",
       "10        3.972196  False  \n",
       "11        3.972196  False  \n",
       "12        3.972196  False  \n",
       "13        3.972196  False  \n",
       "14        3.972196  False  \n",
       "15        3.972196   True  \n",
       "16        3.972196   True  \n",
       "17        3.972196   True  \n",
       "18        3.972196   True  \n",
       "19        3.972196   True  "
      ]
     },
     "metadata": {},
     "output_type": "display_data"
    },
    {
     "data": {
      "application/vnd.plotly.v1+json": {
       "config": {
        "plotlyServerURL": "https://plot.ly"
       },
       "data": [
        {
         "hoverinfo": "skip",
         "legendgroup": "metric_analysis",
         "line": {
          "color": "#3b0280",
          "shape": "hv",
          "width": 2
         },
         "mode": "lines",
         "name": "Metric (analysis)",
         "showlegend": true,
         "type": "scatter",
         "x": [
          "2018-10-30T18:00:00",
          "2018-11-30T00:36:00",
          "2018-12-30T07:12:00",
          "2019-01-29T13:48:00",
          "2019-02-28T20:24:00",
          "2019-03-31T03:00:00",
          "2019-04-30T09:36:00",
          "2019-05-30T16:12:00",
          "2019-06-29T22:48:00",
          "2019-07-30T05:24:00",
          "2019-08-29T11:51:16.848000"
         ],
         "xaxis": "x",
         "y": [
          0.9686306166809373,
          0.9690438435474089,
          0.9694438261961335,
          0.9690472634498744,
          0.9688726952274674,
          0.960478016244988,
          0.9611336210051199,
          0.9605358219511105,
          0.9618691204348024,
          0.9605366452565602,
          0.9605366452565602
         ],
         "yaxis": "y"
        },
        {
         "customdata": [
          [
           "Estimated <b>ROC AUC</b>",
           "<b style=\"color:#3b0280;line-height:60px\">Analysis</b>",
           "",
           "[0:4999]",
           "From <b>Oct-30-2018</b> to <b>Nov-30-2018</b>",
           0.9686,
           0.0054
          ],
          [
           "Estimated <b>ROC AUC</b>",
           "<b style=\"color:#3b0280;line-height:60px\">Analysis</b>",
           "",
           "[5000:9999]",
           "From <b>Nov-30-2018</b> to <b>Dec-30-2018</b>",
           0.969,
           0.0054
          ],
          [
           "Estimated <b>ROC AUC</b>",
           "<b style=\"color:#3b0280;line-height:60px\">Analysis</b>",
           "",
           "[10000:14999]",
           "From <b>Dec-30-2018</b> to <b>Jan-29-2019</b>",
           0.9694,
           0.0054
          ],
          [
           "Estimated <b>ROC AUC</b>",
           "<b style=\"color:#3b0280;line-height:60px\">Analysis</b>",
           "",
           "[15000:19999]",
           "From <b>Jan-29-2019</b> to <b>Feb-28-2019</b>",
           0.969,
           0.0054
          ],
          [
           "Estimated <b>ROC AUC</b>",
           "<b style=\"color:#3b0280;line-height:60px\">Analysis</b>",
           "",
           "[20000:24999]",
           "From <b>Feb-28-2019</b> to <b>Mar-31-2019</b>",
           0.9689,
           0.0054
          ],
          [
           "Estimated <b>ROC AUC</b>",
           "<b style=\"color:#3b0280;line-height:60px\">Analysis</b>",
           "<span style=\"color:#AD0000\">⚠ <b>Drift detected</b></span>",
           "[25000:29999]",
           "From <b>Mar-31-2019</b> to <b>Apr-30-2019</b>",
           0.9605,
           0.0054
          ],
          [
           "Estimated <b>ROC AUC</b>",
           "<b style=\"color:#3b0280;line-height:60px\">Analysis</b>",
           "<span style=\"color:#AD0000\">⚠ <b>Drift detected</b></span>",
           "[30000:34999]",
           "From <b>Apr-30-2019</b> to <b>May-30-2019</b>",
           0.9611,
           0.0054
          ],
          [
           "Estimated <b>ROC AUC</b>",
           "<b style=\"color:#3b0280;line-height:60px\">Analysis</b>",
           "<span style=\"color:#AD0000\">⚠ <b>Drift detected</b></span>",
           "[35000:39999]",
           "From <b>May-30-2019</b> to <b>Jun-29-2019</b>",
           0.9605,
           0.0054
          ],
          [
           "Estimated <b>ROC AUC</b>",
           "<b style=\"color:#3b0280;line-height:60px\">Analysis</b>",
           "<span style=\"color:#AD0000\">⚠ <b>Drift detected</b></span>",
           "[40000:44999]",
           "From <b>Jun-29-2019</b> to <b>Jul-30-2019</b>",
           0.9619,
           0.0054
          ],
          [
           "Estimated <b>ROC AUC</b>",
           "<b style=\"color:#3b0280;line-height:60px\">Analysis</b>",
           "<span style=\"color:#AD0000\">⚠ <b>Drift detected</b></span>",
           "[45000:49999]",
           "From <b>Jul-30-2019</b> to <b>Aug-29-2019</b>",
           0.9605,
           0.0054
          ]
         ],
         "hovertemplate": "%{customdata[1]} &nbsp; &nbsp; %{customdata[2]} <br />Chunk: <b>%{customdata[3]}</b> &nbsp; &nbsp; %{customdata[4]} <br />%{customdata[0]}: <b>%{customdata[5]}</b><br />Confidence band: +/- <b>%{customdata[6]}</b><br /><extra></extra>",
         "legendgroup": "metric_analysis",
         "marker": {
          "color": "#3b0280",
          "size": 5,
          "symbol": "circle"
         },
         "mode": "markers",
         "name": "Metric (analysis)",
         "showlegend": false,
         "type": "scatter",
         "x": [
          "2018-11-14T21:18:00",
          "2018-12-15T03:54:00",
          "2019-01-14T10:30:00",
          "2019-02-13T17:06:00",
          "2019-03-15T23:42:00",
          "2019-04-15T06:18:00",
          "2019-05-15T12:54:00",
          "2019-06-14T19:30:00",
          "2019-07-15T02:06:00",
          "2019-08-14T08:37:38.424000"
         ],
         "xaxis": "x",
         "y": [
          0.9686306166809373,
          0.9690438435474089,
          0.9694438261961335,
          0.9690472634498744,
          0.9688726952274674,
          0.960478016244988,
          0.9611336210051199,
          0.9605358219511105,
          0.9618691204348024,
          0.9605366452565602,
          0.9605366452565602
         ],
         "yaxis": "y"
        },
        {
         "hoverinfo": "skip",
         "legendgroup": "alert",
         "marker": {
          "color": "#DD4040",
          "size": 8,
          "symbol": "diamond"
         },
         "mode": "markers",
         "name": "Alert",
         "showlegend": true,
         "type": "scatter",
         "x": [
          "2019-04-15T06:18:00",
          "2019-05-15T12:54:00",
          "2019-06-14T19:30:00",
          "2019-07-15T02:06:00",
          "2019-08-14T08:37:38.424000"
         ],
         "xaxis": "x",
         "y": [
          0.960478016244988,
          0.9611336210051199,
          0.9605358219511105,
          0.9618691204348024,
          0.9605366452565602
         ],
         "yaxis": "y"
        },
        {
         "hoverinfo": "skip",
         "legendgroup": "thresh",
         "line": {
          "color": "#DD4040",
          "dash": "dash",
          "width": 2
         },
         "mode": "lines",
         "name": "Threshold",
         "showlegend": true,
         "type": "scatter",
         "x": [
          "2018-10-30T18:00:00",
          "2018-11-30T00:36:00",
          "2018-12-30T07:12:00",
          "2019-01-29T13:48:00",
          "2019-02-28T20:24:00",
          "2019-03-31T03:00:00",
          "2019-04-30T09:36:00",
          "2019-05-30T16:12:00",
          "2019-06-29T22:48:00",
          "2019-07-30T05:24:00",
          "2019-08-29T11:51:16.848000"
         ],
         "xaxis": "x",
         "y": [
          0.9786597341713761,
          0.9786597341713761,
          0.9786597341713761,
          0.9786597341713761,
          0.9786597341713761,
          0.9786597341713761,
          0.9786597341713761,
          0.9786597341713761,
          0.9786597341713761,
          0.9786597341713761,
          0.9786597341713761
         ],
         "yaxis": "y"
        },
        {
         "hoverinfo": "skip",
         "legendgroup": "thresh",
         "line": {
          "color": "#DD4040",
          "dash": "dash",
          "width": 2
         },
         "mode": "lines",
         "name": "Threshold",
         "showlegend": false,
         "type": "scatter",
         "x": [
          "2018-10-30T18:00:00",
          "2018-11-30T00:36:00",
          "2018-12-30T07:12:00",
          "2019-01-29T13:48:00",
          "2019-02-28T20:24:00",
          "2019-03-31T03:00:00",
          "2019-04-30T09:36:00",
          "2019-05-30T16:12:00",
          "2019-06-29T22:48:00",
          "2019-07-30T05:24:00",
          "2019-08-29T11:51:16.848000"
         ],
         "xaxis": "x",
         "y": [
          0.963316535948479,
          0.963316535948479,
          0.963316535948479,
          0.963316535948479,
          0.963316535948479,
          0.963316535948479,
          0.963316535948479,
          0.963316535948479,
          0.963316535948479,
          0.963316535948479,
          0.963316535948479
         ],
         "yaxis": "y"
        },
        {
         "hoverinfo": "skip",
         "line": {
          "color": "rgba(0,0,0,0)",
          "shape": "hv"
         },
         "mode": "lines",
         "name": "Sampling error (analysis)",
         "showlegend": false,
         "type": "scatter",
         "x": [
          "2018-10-30T18:00:00",
          "2018-11-30T00:36:00",
          "2018-12-30T07:12:00",
          "2019-01-29T13:48:00",
          "2019-02-28T20:24:00",
          "2019-03-31T03:00:00",
          "2019-04-30T09:36:00",
          "2019-05-30T16:12:00",
          "2019-06-29T22:48:00",
          "2019-07-30T05:24:00",
          "2019-08-29T11:51:16.848000"
         ],
         "xaxis": "x",
         "y": [
          0.9740627657487075,
          0.9744759926151791,
          0.9748759752639037,
          0.9744794125176446,
          0.9743048442952377,
          0.9659101653127582,
          0.9665657700728901,
          0.9659679710188808,
          0.9673012695025727,
          0.9659687943243305,
          0.9659687943243305
         ],
         "yaxis": "y"
        },
        {
         "fill": "tonexty",
         "fillcolor": "rgba(0.23137254901960785, 0.00784313725490196, 0.5019607843137255, 0.2)",
         "hoverinfo": "skip",
         "line": {
          "color": "rgba(0,0,0,0)",
          "shape": "hv"
         },
         "mode": "lines",
         "name": "Sampling error (analysis)",
         "showlegend": true,
         "type": "scatter",
         "x": [
          "2018-10-30T18:00:00",
          "2018-11-30T00:36:00",
          "2018-12-30T07:12:00",
          "2019-01-29T13:48:00",
          "2019-02-28T20:24:00",
          "2019-03-31T03:00:00",
          "2019-04-30T09:36:00",
          "2019-05-30T16:12:00",
          "2019-06-29T22:48:00",
          "2019-07-30T05:24:00",
          "2019-08-29T11:51:16.848000"
         ],
         "xaxis": "x",
         "y": [
          0.9631984676131671,
          0.9636116944796387,
          0.9640116771283632,
          0.9636151143821041,
          0.9634405461596972,
          0.9550458671772177,
          0.9557014719373497,
          0.9551036728833403,
          0.9564369713670322,
          0.95510449618879,
          0.95510449618879
         ],
         "yaxis": "y"
        },
        {
         "hoverinfo": "skip",
         "legendgroup": "metric_analysis",
         "line": {
          "color": "#3b0280",
          "shape": "hv",
          "width": 2
         },
         "mode": "lines",
         "name": "Metric (analysis)",
         "showlegend": false,
         "type": "scatter",
         "x": [
          "2018-10-30T18:00:00",
          "2018-11-30T00:36:00",
          "2018-12-30T07:12:00",
          "2019-01-29T13:48:00",
          "2019-02-28T20:24:00",
          "2019-03-31T03:00:00",
          "2019-04-30T09:36:00",
          "2019-05-30T16:12:00",
          "2019-06-29T22:48:00",
          "2019-07-30T05:24:00",
          "2019-08-29T11:51:16.848000"
         ],
         "xaxis": "x2",
         "y": [
          3.9897520637432695,
          3.9864138922154133,
          3.990204022358945,
          3.9924916299932853,
          3.991429778111009,
          3.9652003286172355,
          3.9639663729276036,
          3.97015652949602,
          3.964972734122001,
          3.971572202263399,
          3.971572202263399
         ],
         "yaxis": "y2"
        },
        {
         "customdata": [
          [
           "Estimated <b>Business Value</b>",
           "<b style=\"color:#3b0280;line-height:60px\">Analysis</b>",
           "",
           "[0:4999]",
           "From <b>Oct-30-2018</b> to <b>Nov-30-2018</b>",
           3.9898,
           0.0244
          ],
          [
           "Estimated <b>Business Value</b>",
           "<b style=\"color:#3b0280;line-height:60px\">Analysis</b>",
           "",
           "[5000:9999]",
           "From <b>Nov-30-2018</b> to <b>Dec-30-2018</b>",
           3.9864,
           0.0244
          ],
          [
           "Estimated <b>Business Value</b>",
           "<b style=\"color:#3b0280;line-height:60px\">Analysis</b>",
           "",
           "[10000:14999]",
           "From <b>Dec-30-2018</b> to <b>Jan-29-2019</b>",
           3.9902,
           0.0244
          ],
          [
           "Estimated <b>Business Value</b>",
           "<b style=\"color:#3b0280;line-height:60px\">Analysis</b>",
           "",
           "[15000:19999]",
           "From <b>Jan-29-2019</b> to <b>Feb-28-2019</b>",
           3.9925,
           0.0244
          ],
          [
           "Estimated <b>Business Value</b>",
           "<b style=\"color:#3b0280;line-height:60px\">Analysis</b>",
           "",
           "[20000:24999]",
           "From <b>Feb-28-2019</b> to <b>Mar-31-2019</b>",
           3.9914,
           0.0244
          ],
          [
           "Estimated <b>Business Value</b>",
           "<b style=\"color:#3b0280;line-height:60px\">Analysis</b>",
           "<span style=\"color:#AD0000\">⚠ <b>Drift detected</b></span>",
           "[25000:29999]",
           "From <b>Mar-31-2019</b> to <b>Apr-30-2019</b>",
           3.9652,
           0.0244
          ],
          [
           "Estimated <b>Business Value</b>",
           "<b style=\"color:#3b0280;line-height:60px\">Analysis</b>",
           "<span style=\"color:#AD0000\">⚠ <b>Drift detected</b></span>",
           "[30000:34999]",
           "From <b>Apr-30-2019</b> to <b>May-30-2019</b>",
           3.964,
           0.0244
          ],
          [
           "Estimated <b>Business Value</b>",
           "<b style=\"color:#3b0280;line-height:60px\">Analysis</b>",
           "<span style=\"color:#AD0000\">⚠ <b>Drift detected</b></span>",
           "[35000:39999]",
           "From <b>May-30-2019</b> to <b>Jun-29-2019</b>",
           3.9702,
           0.0244
          ],
          [
           "Estimated <b>Business Value</b>",
           "<b style=\"color:#3b0280;line-height:60px\">Analysis</b>",
           "<span style=\"color:#AD0000\">⚠ <b>Drift detected</b></span>",
           "[40000:44999]",
           "From <b>Jun-29-2019</b> to <b>Jul-30-2019</b>",
           3.965,
           0.0244
          ],
          [
           "Estimated <b>Business Value</b>",
           "<b style=\"color:#3b0280;line-height:60px\">Analysis</b>",
           "<span style=\"color:#AD0000\">⚠ <b>Drift detected</b></span>",
           "[45000:49999]",
           "From <b>Jul-30-2019</b> to <b>Aug-29-2019</b>",
           3.9716,
           0.0244
          ]
         ],
         "hovertemplate": "%{customdata[1]} &nbsp; &nbsp; %{customdata[2]} <br />Chunk: <b>%{customdata[3]}</b> &nbsp; &nbsp; %{customdata[4]} <br />%{customdata[0]}: <b>%{customdata[5]}</b><br />Confidence band: +/- <b>%{customdata[6]}</b><br /><extra></extra>",
         "legendgroup": "metric_analysis",
         "marker": {
          "color": "#3b0280",
          "size": 5,
          "symbol": "circle"
         },
         "mode": "markers",
         "name": "Metric (analysis)",
         "showlegend": false,
         "type": "scatter",
         "x": [
          "2018-11-14T21:18:00",
          "2018-12-15T03:54:00",
          "2019-01-14T10:30:00",
          "2019-02-13T17:06:00",
          "2019-03-15T23:42:00",
          "2019-04-15T06:18:00",
          "2019-05-15T12:54:00",
          "2019-06-14T19:30:00",
          "2019-07-15T02:06:00",
          "2019-08-14T08:37:38.424000"
         ],
         "xaxis": "x2",
         "y": [
          3.9897520637432695,
          3.9864138922154133,
          3.990204022358945,
          3.9924916299932853,
          3.991429778111009,
          3.9652003286172355,
          3.9639663729276036,
          3.97015652949602,
          3.964972734122001,
          3.971572202263399,
          3.971572202263399
         ],
         "yaxis": "y2"
        },
        {
         "hoverinfo": "skip",
         "legendgroup": "alert",
         "marker": {
          "color": "#DD4040",
          "size": 8,
          "symbol": "diamond"
         },
         "mode": "markers",
         "name": "Alert",
         "showlegend": false,
         "type": "scatter",
         "x": [
          "2019-04-15T06:18:00",
          "2019-05-15T12:54:00",
          "2019-06-14T19:30:00",
          "2019-07-15T02:06:00",
          "2019-08-14T08:37:38.424000"
         ],
         "xaxis": "x2",
         "y": [
          3.9652003286172355,
          3.9639663729276036,
          3.97015652949602,
          3.964972734122001,
          3.971572202263399
         ],
         "yaxis": "y2"
        },
        {
         "hoverinfo": "skip",
         "legendgroup": "thresh",
         "line": {
          "color": "#DD4040",
          "dash": "dash",
          "width": 2
         },
         "mode": "lines",
         "name": "Threshold",
         "showlegend": false,
         "type": "scatter",
         "x": [
          "2018-10-30T18:00:00",
          "2018-11-30T00:36:00",
          "2018-12-30T07:12:00",
          "2019-01-29T13:48:00",
          "2019-02-28T20:24:00",
          "2019-03-31T03:00:00",
          "2019-04-30T09:36:00",
          "2019-05-30T16:12:00",
          "2019-06-29T22:48:00",
          "2019-07-30T05:24:00",
          "2019-08-29T11:51:16.848000"
         ],
         "xaxis": "x2",
         "y": [
          4.011563658196586,
          4.011563658196586,
          4.011563658196586,
          4.011563658196586,
          4.011563658196586,
          4.011563658196586,
          4.011563658196586,
          4.011563658196586,
          4.011563658196586,
          4.011563658196586,
          4.011563658196586
         ],
         "yaxis": "y2"
        },
        {
         "hoverinfo": "skip",
         "legendgroup": "thresh",
         "line": {
          "color": "#DD4040",
          "dash": "dash",
          "width": 2
         },
         "mode": "lines",
         "name": "Threshold",
         "showlegend": false,
         "type": "scatter",
         "x": [
          "2018-10-30T18:00:00",
          "2018-11-30T00:36:00",
          "2018-12-30T07:12:00",
          "2019-01-29T13:48:00",
          "2019-02-28T20:24:00",
          "2019-03-31T03:00:00",
          "2019-04-30T09:36:00",
          "2019-05-30T16:12:00",
          "2019-06-29T22:48:00",
          "2019-07-30T05:24:00",
          "2019-08-29T11:51:16.848000"
         ],
         "xaxis": "x2",
         "y": [
          3.972196341803415,
          3.972196341803415,
          3.972196341803415,
          3.972196341803415,
          3.972196341803415,
          3.972196341803415,
          3.972196341803415,
          3.972196341803415,
          3.972196341803415,
          3.972196341803415,
          3.972196341803415
         ],
         "yaxis": "y2"
        },
        {
         "hoverinfo": "skip",
         "line": {
          "color": "rgba(0,0,0,0)",
          "shape": "hv"
         },
         "mode": "lines",
         "name": "Sampling error (analysis)",
         "showlegend": false,
         "type": "scatter",
         "x": [
          "2018-10-30T18:00:00",
          "2018-11-30T00:36:00",
          "2018-12-30T07:12:00",
          "2019-01-29T13:48:00",
          "2019-02-28T20:24:00",
          "2019-03-31T03:00:00",
          "2019-04-30T09:36:00",
          "2019-05-30T16:12:00",
          "2019-06-29T22:48:00",
          "2019-07-30T05:24:00",
          "2019-08-29T11:51:16.848000"
         ],
         "xaxis": "x2",
         "y": [
          4.014123221247171,
          4.010785049719315,
          4.014575179862847,
          4.016862787497187,
          4.015800935614911,
          3.9895714861211373,
          3.9883375304315054,
          3.994527686999922,
          3.9893438916259027,
          3.995943359767301,
          3.995943359767301
         ],
         "yaxis": "y2"
        },
        {
         "fill": "tonexty",
         "fillcolor": "rgba(0.23137254901960785, 0.00784313725490196, 0.5019607843137255, 0.2)",
         "hoverinfo": "skip",
         "line": {
          "color": "rgba(0,0,0,0)",
          "shape": "hv"
         },
         "mode": "lines",
         "name": "Sampling error (analysis)",
         "showlegend": false,
         "type": "scatter",
         "x": [
          "2018-10-30T18:00:00",
          "2018-11-30T00:36:00",
          "2018-12-30T07:12:00",
          "2019-01-29T13:48:00",
          "2019-02-28T20:24:00",
          "2019-03-31T03:00:00",
          "2019-04-30T09:36:00",
          "2019-05-30T16:12:00",
          "2019-06-29T22:48:00",
          "2019-07-30T05:24:00",
          "2019-08-29T11:51:16.848000"
         ],
         "xaxis": "x2",
         "y": [
          3.9653809062393677,
          3.9620427347115115,
          3.965832864855043,
          3.9681204724893835,
          3.9670586206071072,
          3.9408291711133336,
          3.9395952154237017,
          3.9457853719921183,
          3.940601576618099,
          3.947201044759497,
          3.947201044759497
         ],
         "yaxis": "y2"
        }
       ],
       "layout": {
        "annotations": [
         {
          "font": {
           "size": 16
          },
          "showarrow": false,
          "text": "Estimated <b>ROC AUC</b>",
          "x": 0.5,
          "xanchor": "center",
          "xref": "paper",
          "y": 1,
          "yanchor": "bottom",
          "yref": "paper"
         },
         {
          "font": {
           "size": 16
          },
          "showarrow": false,
          "text": "Estimated <b>Business Value</b>",
          "x": 0.5,
          "xanchor": "center",
          "xref": "paper",
          "y": 0.375,
          "yanchor": "bottom",
          "yref": "paper"
         }
        ],
        "height": 1000,
        "hoverlabel": {
         "bgcolor": "white",
         "font": {
          "size": 14
         }
        },
        "legend": {
         "itemclick": false,
         "itemdoubleclick": false,
         "traceorder": "grouped"
        },
        "paper_bgcolor": "rgba(255,255,255,1)",
        "plot_bgcolor": "rgba(255,255,255,1)",
        "template": {
         "data": {
          "bar": [
           {
            "error_x": {
             "color": "#2a3f5f"
            },
            "error_y": {
             "color": "#2a3f5f"
            },
            "marker": {
             "line": {
              "color": "#E5ECF6",
              "width": 0.5
             },
             "pattern": {
              "fillmode": "overlay",
              "size": 10,
              "solidity": 0.2
             }
            },
            "type": "bar"
           }
          ],
          "barpolar": [
           {
            "marker": {
             "line": {
              "color": "#E5ECF6",
              "width": 0.5
             },
             "pattern": {
              "fillmode": "overlay",
              "size": 10,
              "solidity": 0.2
             }
            },
            "type": "barpolar"
           }
          ],
          "carpet": [
           {
            "aaxis": {
             "endlinecolor": "#2a3f5f",
             "gridcolor": "white",
             "linecolor": "white",
             "minorgridcolor": "white",
             "startlinecolor": "#2a3f5f"
            },
            "baxis": {
             "endlinecolor": "#2a3f5f",
             "gridcolor": "white",
             "linecolor": "white",
             "minorgridcolor": "white",
             "startlinecolor": "#2a3f5f"
            },
            "type": "carpet"
           }
          ],
          "choropleth": [
           {
            "colorbar": {
             "outlinewidth": 0,
             "ticks": ""
            },
            "type": "choropleth"
           }
          ],
          "contour": [
           {
            "colorbar": {
             "outlinewidth": 0,
             "ticks": ""
            },
            "colorscale": [
             [
              0,
              "#0d0887"
             ],
             [
              0.1111111111111111,
              "#46039f"
             ],
             [
              0.2222222222222222,
              "#7201a8"
             ],
             [
              0.3333333333333333,
              "#9c179e"
             ],
             [
              0.4444444444444444,
              "#bd3786"
             ],
             [
              0.5555555555555556,
              "#d8576b"
             ],
             [
              0.6666666666666666,
              "#ed7953"
             ],
             [
              0.7777777777777778,
              "#fb9f3a"
             ],
             [
              0.8888888888888888,
              "#fdca26"
             ],
             [
              1,
              "#f0f921"
             ]
            ],
            "type": "contour"
           }
          ],
          "contourcarpet": [
           {
            "colorbar": {
             "outlinewidth": 0,
             "ticks": ""
            },
            "type": "contourcarpet"
           }
          ],
          "heatmap": [
           {
            "colorbar": {
             "outlinewidth": 0,
             "ticks": ""
            },
            "colorscale": [
             [
              0,
              "#0d0887"
             ],
             [
              0.1111111111111111,
              "#46039f"
             ],
             [
              0.2222222222222222,
              "#7201a8"
             ],
             [
              0.3333333333333333,
              "#9c179e"
             ],
             [
              0.4444444444444444,
              "#bd3786"
             ],
             [
              0.5555555555555556,
              "#d8576b"
             ],
             [
              0.6666666666666666,
              "#ed7953"
             ],
             [
              0.7777777777777778,
              "#fb9f3a"
             ],
             [
              0.8888888888888888,
              "#fdca26"
             ],
             [
              1,
              "#f0f921"
             ]
            ],
            "type": "heatmap"
           }
          ],
          "heatmapgl": [
           {
            "colorbar": {
             "outlinewidth": 0,
             "ticks": ""
            },
            "colorscale": [
             [
              0,
              "#0d0887"
             ],
             [
              0.1111111111111111,
              "#46039f"
             ],
             [
              0.2222222222222222,
              "#7201a8"
             ],
             [
              0.3333333333333333,
              "#9c179e"
             ],
             [
              0.4444444444444444,
              "#bd3786"
             ],
             [
              0.5555555555555556,
              "#d8576b"
             ],
             [
              0.6666666666666666,
              "#ed7953"
             ],
             [
              0.7777777777777778,
              "#fb9f3a"
             ],
             [
              0.8888888888888888,
              "#fdca26"
             ],
             [
              1,
              "#f0f921"
             ]
            ],
            "type": "heatmapgl"
           }
          ],
          "histogram": [
           {
            "marker": {
             "pattern": {
              "fillmode": "overlay",
              "size": 10,
              "solidity": 0.2
             }
            },
            "type": "histogram"
           }
          ],
          "histogram2d": [
           {
            "colorbar": {
             "outlinewidth": 0,
             "ticks": ""
            },
            "colorscale": [
             [
              0,
              "#0d0887"
             ],
             [
              0.1111111111111111,
              "#46039f"
             ],
             [
              0.2222222222222222,
              "#7201a8"
             ],
             [
              0.3333333333333333,
              "#9c179e"
             ],
             [
              0.4444444444444444,
              "#bd3786"
             ],
             [
              0.5555555555555556,
              "#d8576b"
             ],
             [
              0.6666666666666666,
              "#ed7953"
             ],
             [
              0.7777777777777778,
              "#fb9f3a"
             ],
             [
              0.8888888888888888,
              "#fdca26"
             ],
             [
              1,
              "#f0f921"
             ]
            ],
            "type": "histogram2d"
           }
          ],
          "histogram2dcontour": [
           {
            "colorbar": {
             "outlinewidth": 0,
             "ticks": ""
            },
            "colorscale": [
             [
              0,
              "#0d0887"
             ],
             [
              0.1111111111111111,
              "#46039f"
             ],
             [
              0.2222222222222222,
              "#7201a8"
             ],
             [
              0.3333333333333333,
              "#9c179e"
             ],
             [
              0.4444444444444444,
              "#bd3786"
             ],
             [
              0.5555555555555556,
              "#d8576b"
             ],
             [
              0.6666666666666666,
              "#ed7953"
             ],
             [
              0.7777777777777778,
              "#fb9f3a"
             ],
             [
              0.8888888888888888,
              "#fdca26"
             ],
             [
              1,
              "#f0f921"
             ]
            ],
            "type": "histogram2dcontour"
           }
          ],
          "mesh3d": [
           {
            "colorbar": {
             "outlinewidth": 0,
             "ticks": ""
            },
            "type": "mesh3d"
           }
          ],
          "parcoords": [
           {
            "line": {
             "colorbar": {
              "outlinewidth": 0,
              "ticks": ""
             }
            },
            "type": "parcoords"
           }
          ],
          "pie": [
           {
            "automargin": true,
            "type": "pie"
           }
          ],
          "scatter": [
           {
            "fillpattern": {
             "fillmode": "overlay",
             "size": 10,
             "solidity": 0.2
            },
            "type": "scatter"
           }
          ],
          "scatter3d": [
           {
            "line": {
             "colorbar": {
              "outlinewidth": 0,
              "ticks": ""
             }
            },
            "marker": {
             "colorbar": {
              "outlinewidth": 0,
              "ticks": ""
             }
            },
            "type": "scatter3d"
           }
          ],
          "scattercarpet": [
           {
            "marker": {
             "colorbar": {
              "outlinewidth": 0,
              "ticks": ""
             }
            },
            "type": "scattercarpet"
           }
          ],
          "scattergeo": [
           {
            "marker": {
             "colorbar": {
              "outlinewidth": 0,
              "ticks": ""
             }
            },
            "type": "scattergeo"
           }
          ],
          "scattergl": [
           {
            "marker": {
             "colorbar": {
              "outlinewidth": 0,
              "ticks": ""
             }
            },
            "type": "scattergl"
           }
          ],
          "scattermapbox": [
           {
            "marker": {
             "colorbar": {
              "outlinewidth": 0,
              "ticks": ""
             }
            },
            "type": "scattermapbox"
           }
          ],
          "scatterpolar": [
           {
            "marker": {
             "colorbar": {
              "outlinewidth": 0,
              "ticks": ""
             }
            },
            "type": "scatterpolar"
           }
          ],
          "scatterpolargl": [
           {
            "marker": {
             "colorbar": {
              "outlinewidth": 0,
              "ticks": ""
             }
            },
            "type": "scatterpolargl"
           }
          ],
          "scatterternary": [
           {
            "marker": {
             "colorbar": {
              "outlinewidth": 0,
              "ticks": ""
             }
            },
            "type": "scatterternary"
           }
          ],
          "surface": [
           {
            "colorbar": {
             "outlinewidth": 0,
             "ticks": ""
            },
            "colorscale": [
             [
              0,
              "#0d0887"
             ],
             [
              0.1111111111111111,
              "#46039f"
             ],
             [
              0.2222222222222222,
              "#7201a8"
             ],
             [
              0.3333333333333333,
              "#9c179e"
             ],
             [
              0.4444444444444444,
              "#bd3786"
             ],
             [
              0.5555555555555556,
              "#d8576b"
             ],
             [
              0.6666666666666666,
              "#ed7953"
             ],
             [
              0.7777777777777778,
              "#fb9f3a"
             ],
             [
              0.8888888888888888,
              "#fdca26"
             ],
             [
              1,
              "#f0f921"
             ]
            ],
            "type": "surface"
           }
          ],
          "table": [
           {
            "cells": {
             "fill": {
              "color": "#EBF0F8"
             },
             "line": {
              "color": "white"
             }
            },
            "header": {
             "fill": {
              "color": "#C8D4E3"
             },
             "line": {
              "color": "white"
             }
            },
            "type": "table"
           }
          ]
         },
         "layout": {
          "annotationdefaults": {
           "arrowcolor": "#2a3f5f",
           "arrowhead": 0,
           "arrowwidth": 1
          },
          "autotypenumbers": "strict",
          "coloraxis": {
           "colorbar": {
            "outlinewidth": 0,
            "ticks": ""
           }
          },
          "colorscale": {
           "diverging": [
            [
             0,
             "#8e0152"
            ],
            [
             0.1,
             "#c51b7d"
            ],
            [
             0.2,
             "#de77ae"
            ],
            [
             0.3,
             "#f1b6da"
            ],
            [
             0.4,
             "#fde0ef"
            ],
            [
             0.5,
             "#f7f7f7"
            ],
            [
             0.6,
             "#e6f5d0"
            ],
            [
             0.7,
             "#b8e186"
            ],
            [
             0.8,
             "#7fbc41"
            ],
            [
             0.9,
             "#4d9221"
            ],
            [
             1,
             "#276419"
            ]
           ],
           "sequential": [
            [
             0,
             "#0d0887"
            ],
            [
             0.1111111111111111,
             "#46039f"
            ],
            [
             0.2222222222222222,
             "#7201a8"
            ],
            [
             0.3333333333333333,
             "#9c179e"
            ],
            [
             0.4444444444444444,
             "#bd3786"
            ],
            [
             0.5555555555555556,
             "#d8576b"
            ],
            [
             0.6666666666666666,
             "#ed7953"
            ],
            [
             0.7777777777777778,
             "#fb9f3a"
            ],
            [
             0.8888888888888888,
             "#fdca26"
            ],
            [
             1,
             "#f0f921"
            ]
           ],
           "sequentialminus": [
            [
             0,
             "#0d0887"
            ],
            [
             0.1111111111111111,
             "#46039f"
            ],
            [
             0.2222222222222222,
             "#7201a8"
            ],
            [
             0.3333333333333333,
             "#9c179e"
            ],
            [
             0.4444444444444444,
             "#bd3786"
            ],
            [
             0.5555555555555556,
             "#d8576b"
            ],
            [
             0.6666666666666666,
             "#ed7953"
            ],
            [
             0.7777777777777778,
             "#fb9f3a"
            ],
            [
             0.8888888888888888,
             "#fdca26"
            ],
            [
             1,
             "#f0f921"
            ]
           ]
          },
          "colorway": [
           "#636efa",
           "#EF553B",
           "#00cc96",
           "#ab63fa",
           "#FFA15A",
           "#19d3f3",
           "#FF6692",
           "#B6E880",
           "#FF97FF",
           "#FECB52"
          ],
          "font": {
           "color": "#2a3f5f"
          },
          "geo": {
           "bgcolor": "white",
           "lakecolor": "white",
           "landcolor": "#E5ECF6",
           "showlakes": true,
           "showland": true,
           "subunitcolor": "white"
          },
          "hoverlabel": {
           "align": "left"
          },
          "hovermode": "closest",
          "mapbox": {
           "style": "light"
          },
          "paper_bgcolor": "white",
          "plot_bgcolor": "#E5ECF6",
          "polar": {
           "angularaxis": {
            "gridcolor": "white",
            "linecolor": "white",
            "ticks": ""
           },
           "bgcolor": "#E5ECF6",
           "radialaxis": {
            "gridcolor": "white",
            "linecolor": "white",
            "ticks": ""
           }
          },
          "scene": {
           "xaxis": {
            "backgroundcolor": "#E5ECF6",
            "gridcolor": "white",
            "gridwidth": 2,
            "linecolor": "white",
            "showbackground": true,
            "ticks": "",
            "zerolinecolor": "white"
           },
           "yaxis": {
            "backgroundcolor": "#E5ECF6",
            "gridcolor": "white",
            "gridwidth": 2,
            "linecolor": "white",
            "showbackground": true,
            "ticks": "",
            "zerolinecolor": "white"
           },
           "zaxis": {
            "backgroundcolor": "#E5ECF6",
            "gridcolor": "white",
            "gridwidth": 2,
            "linecolor": "white",
            "showbackground": true,
            "ticks": "",
            "zerolinecolor": "white"
           }
          },
          "shapedefaults": {
           "line": {
            "color": "#2a3f5f"
           }
          },
          "ternary": {
           "aaxis": {
            "gridcolor": "white",
            "linecolor": "white",
            "ticks": ""
           },
           "baxis": {
            "gridcolor": "white",
            "linecolor": "white",
            "ticks": ""
           },
           "bgcolor": "#E5ECF6",
           "caxis": {
            "gridcolor": "white",
            "linecolor": "white",
            "ticks": ""
           }
          },
          "title": {
           "x": 0.05
          },
          "xaxis": {
           "automargin": true,
           "gridcolor": "white",
           "linecolor": "white",
           "ticks": "",
           "title": {
            "standoff": 15
           },
           "zerolinecolor": "white",
           "zerolinewidth": 2
          },
          "yaxis": {
           "automargin": true,
           "gridcolor": "white",
           "linecolor": "white",
           "ticks": "",
           "title": {
            "standoff": 15
           },
           "zerolinecolor": "white",
           "zerolinewidth": 2
          }
         }
        },
        "title": {
         "text": "Estimated performance <b>(CBPE)</b>"
        },
        "xaxis": {
         "anchor": "y",
         "domain": [
          0,
          1
         ],
         "linecolor": "#3b0280",
         "matches": "x",
         "mirror": true,
         "showgrid": false,
         "showticklabels": true,
         "title": {
          "text": "Time"
         },
         "zeroline": false
        },
        "xaxis2": {
         "anchor": "y2",
         "domain": [
          0,
          1
         ],
         "linecolor": "#3b0280",
         "matches": "x",
         "mirror": true,
         "showgrid": false,
         "showticklabels": true,
         "title": {
          "text": "Time"
         },
         "zeroline": false
        },
        "yaxis": {
         "anchor": "x",
         "domain": [
          0.625,
          1
         ],
         "linecolor": "#3b0280",
         "mirror": true,
         "showgrid": false,
         "title": {
          "text": "ROC AUC"
         },
         "zeroline": false
        },
        "yaxis2": {
         "anchor": "x2",
         "domain": [
          0,
          0.375
         ],
         "linecolor": "#3b0280",
         "mirror": true,
         "showgrid": false,
         "title": {
          "text": "Business Value"
         },
         "zeroline": false
        }
       }
      }
     },
     "metadata": {},
     "output_type": "display_data"
    },
    {
     "data": {
      "application/vnd.plotly.v1+json": {
       "config": {
        "plotlyServerURL": "https://plot.ly"
       },
       "data": [
        {
         "hoverinfo": "skip",
         "legendgroup": "metric_reference",
         "line": {
          "color": "#00c8e5",
          "shape": "hv",
          "width": 2
         },
         "mode": "lines",
         "name": "Metric (reference)",
         "showlegend": true,
         "type": "scatter",
         "x": [
          "2018-01-01T00:00:00",
          "2018-01-31T06:36:00",
          "2018-03-02T13:12:00",
          "2018-04-01T19:48:00",
          "2018-05-02T02:24:00",
          "2018-06-01T09:00:00",
          "2018-07-01T15:36:00",
          "2018-07-31T22:12:00",
          "2018-08-31T04:48:00",
          "2018-09-30T11:24:00",
          "2018-10-30T17:51:16.848000"
         ],
         "xaxis": "x",
         "y": [
          0.9690510295451034,
          0.9689088665073878,
          0.9686572891296596,
          0.9689725102114568,
          0.9689619041596962,
          0.9690786767455462,
          0.9687245154996407,
          0.9688847678048902,
          0.9692270388235971,
          0.9690017342355207,
          0.9690017342355207
         ],
         "yaxis": "y"
        },
        {
         "customdata": [
          [
           "Estimated <b>ROC AUC</b>",
           "<b style=\"color:#00c8e5;line-height:60px\">Reference</b>",
           "",
           "[0:4999]",
           "From <b>Jan-01-2018</b> to <b>Jan-31-2018</b>",
           0.9691,
           0.0054
          ],
          [
           "Estimated <b>ROC AUC</b>",
           "<b style=\"color:#00c8e5;line-height:60px\">Reference</b>",
           "",
           "[5000:9999]",
           "From <b>Jan-31-2018</b> to <b>Mar-02-2018</b>",
           0.9689,
           0.0054
          ],
          [
           "Estimated <b>ROC AUC</b>",
           "<b style=\"color:#00c8e5;line-height:60px\">Reference</b>",
           "",
           "[10000:14999]",
           "From <b>Mar-02-2018</b> to <b>Apr-01-2018</b>",
           0.9687,
           0.0054
          ],
          [
           "Estimated <b>ROC AUC</b>",
           "<b style=\"color:#00c8e5;line-height:60px\">Reference</b>",
           "",
           "[15000:19999]",
           "From <b>Apr-01-2018</b> to <b>May-02-2018</b>",
           0.969,
           0.0054
          ],
          [
           "Estimated <b>ROC AUC</b>",
           "<b style=\"color:#00c8e5;line-height:60px\">Reference</b>",
           "",
           "[20000:24999]",
           "From <b>May-02-2018</b> to <b>Jun-01-2018</b>",
           0.969,
           0.0054
          ],
          [
           "Estimated <b>ROC AUC</b>",
           "<b style=\"color:#00c8e5;line-height:60px\">Reference</b>",
           "",
           "[25000:29999]",
           "From <b>Jun-01-2018</b> to <b>Jul-01-2018</b>",
           0.9691,
           0.0054
          ],
          [
           "Estimated <b>ROC AUC</b>",
           "<b style=\"color:#00c8e5;line-height:60px\">Reference</b>",
           "",
           "[30000:34999]",
           "From <b>Jul-01-2018</b> to <b>Jul-31-2018</b>",
           0.9687,
           0.0054
          ],
          [
           "Estimated <b>ROC AUC</b>",
           "<b style=\"color:#00c8e5;line-height:60px\">Reference</b>",
           "",
           "[35000:39999]",
           "From <b>Jul-31-2018</b> to <b>Aug-31-2018</b>",
           0.9689,
           0.0054
          ],
          [
           "Estimated <b>ROC AUC</b>",
           "<b style=\"color:#00c8e5;line-height:60px\">Reference</b>",
           "",
           "[40000:44999]",
           "From <b>Aug-31-2018</b> to <b>Sep-30-2018</b>",
           0.9692,
           0.0054
          ],
          [
           "Estimated <b>ROC AUC</b>",
           "<b style=\"color:#00c8e5;line-height:60px\">Reference</b>",
           "",
           "[45000:49999]",
           "From <b>Sep-30-2018</b> to <b>Oct-30-2018</b>",
           0.969,
           0.0054
          ]
         ],
         "hovertemplate": "%{customdata[1]} &nbsp; &nbsp; %{customdata[2]} <br />Chunk: <b>%{customdata[3]}</b> &nbsp; &nbsp; %{customdata[4]} <br />%{customdata[0]}: <b>%{customdata[5]}</b><br />Confidence band: +/- <b>%{customdata[6]}</b><br /><extra></extra>",
         "legendgroup": "metric_reference",
         "marker": {
          "color": "#00c8e5",
          "size": 5,
          "symbol": "circle"
         },
         "mode": "markers",
         "name": "Metric (reference)",
         "showlegend": false,
         "type": "scatter",
         "x": [
          "2018-01-16T03:18:00",
          "2018-02-15T09:54:00",
          "2018-03-17T16:30:00",
          "2018-04-16T23:06:00",
          "2018-05-17T05:42:00",
          "2018-06-16T12:18:00",
          "2018-07-16T18:54:00",
          "2018-08-16T01:30:00",
          "2018-09-15T08:06:00",
          "2018-10-15T14:37:38.424000"
         ],
         "xaxis": "x",
         "y": [
          0.9690510295451034,
          0.9689088665073878,
          0.9686572891296596,
          0.9689725102114568,
          0.9689619041596962,
          0.9690786767455462,
          0.9687245154996407,
          0.9688847678048902,
          0.9692270388235971,
          0.9690017342355207,
          0.9690017342355207
         ],
         "yaxis": "y"
        },
        {
         "hoverinfo": "skip",
         "legendgroup": "metric_analysis",
         "line": {
          "color": "#3b0280",
          "shape": "hv",
          "width": 2
         },
         "mode": "lines",
         "name": "Metric (analysis)",
         "showlegend": true,
         "type": "scatter",
         "x": [
          "2018-10-30T18:00:00",
          "2018-11-30T00:36:00",
          "2018-12-30T07:12:00",
          "2019-01-29T13:48:00",
          "2019-02-28T20:24:00",
          "2019-03-31T03:00:00",
          "2019-04-30T09:36:00",
          "2019-05-30T16:12:00",
          "2019-06-29T22:48:00",
          "2019-07-30T05:24:00",
          "2019-08-29T11:51:16.848000"
         ],
         "xaxis": "x",
         "y": [
          0.9686306166809373,
          0.9690438435474089,
          0.9694438261961335,
          0.9690472634498744,
          0.9688726952274674,
          0.960478016244988,
          0.9611336210051199,
          0.9605358219511105,
          0.9618691204348024,
          0.9605366452565602,
          0.9605366452565602
         ],
         "yaxis": "y"
        },
        {
         "customdata": [
          [
           "Estimated <b>ROC AUC</b>",
           "<b style=\"color:#3b0280;line-height:60px\">Analysis</b>",
           "",
           "[0:4999]",
           "From <b>Oct-30-2018</b> to <b>Nov-30-2018</b>",
           0.9686,
           0.0054
          ],
          [
           "Estimated <b>ROC AUC</b>",
           "<b style=\"color:#3b0280;line-height:60px\">Analysis</b>",
           "",
           "[5000:9999]",
           "From <b>Nov-30-2018</b> to <b>Dec-30-2018</b>",
           0.969,
           0.0054
          ],
          [
           "Estimated <b>ROC AUC</b>",
           "<b style=\"color:#3b0280;line-height:60px\">Analysis</b>",
           "",
           "[10000:14999]",
           "From <b>Dec-30-2018</b> to <b>Jan-29-2019</b>",
           0.9694,
           0.0054
          ],
          [
           "Estimated <b>ROC AUC</b>",
           "<b style=\"color:#3b0280;line-height:60px\">Analysis</b>",
           "",
           "[15000:19999]",
           "From <b>Jan-29-2019</b> to <b>Feb-28-2019</b>",
           0.969,
           0.0054
          ],
          [
           "Estimated <b>ROC AUC</b>",
           "<b style=\"color:#3b0280;line-height:60px\">Analysis</b>",
           "",
           "[20000:24999]",
           "From <b>Feb-28-2019</b> to <b>Mar-31-2019</b>",
           0.9689,
           0.0054
          ],
          [
           "Estimated <b>ROC AUC</b>",
           "<b style=\"color:#3b0280;line-height:60px\">Analysis</b>",
           "<span style=\"color:#AD0000\">⚠ <b>Drift detected</b></span>",
           "[25000:29999]",
           "From <b>Mar-31-2019</b> to <b>Apr-30-2019</b>",
           0.9605,
           0.0054
          ],
          [
           "Estimated <b>ROC AUC</b>",
           "<b style=\"color:#3b0280;line-height:60px\">Analysis</b>",
           "<span style=\"color:#AD0000\">⚠ <b>Drift detected</b></span>",
           "[30000:34999]",
           "From <b>Apr-30-2019</b> to <b>May-30-2019</b>",
           0.9611,
           0.0054
          ],
          [
           "Estimated <b>ROC AUC</b>",
           "<b style=\"color:#3b0280;line-height:60px\">Analysis</b>",
           "<span style=\"color:#AD0000\">⚠ <b>Drift detected</b></span>",
           "[35000:39999]",
           "From <b>May-30-2019</b> to <b>Jun-29-2019</b>",
           0.9605,
           0.0054
          ],
          [
           "Estimated <b>ROC AUC</b>",
           "<b style=\"color:#3b0280;line-height:60px\">Analysis</b>",
           "<span style=\"color:#AD0000\">⚠ <b>Drift detected</b></span>",
           "[40000:44999]",
           "From <b>Jun-29-2019</b> to <b>Jul-30-2019</b>",
           0.9619,
           0.0054
          ],
          [
           "Estimated <b>ROC AUC</b>",
           "<b style=\"color:#3b0280;line-height:60px\">Analysis</b>",
           "<span style=\"color:#AD0000\">⚠ <b>Drift detected</b></span>",
           "[45000:49999]",
           "From <b>Jul-30-2019</b> to <b>Aug-29-2019</b>",
           0.9605,
           0.0054
          ]
         ],
         "hovertemplate": "%{customdata[1]} &nbsp; &nbsp; %{customdata[2]} <br />Chunk: <b>%{customdata[3]}</b> &nbsp; &nbsp; %{customdata[4]} <br />%{customdata[0]}: <b>%{customdata[5]}</b><br />Confidence band: +/- <b>%{customdata[6]}</b><br /><extra></extra>",
         "legendgroup": "metric_analysis",
         "marker": {
          "color": "#3b0280",
          "size": 5,
          "symbol": "circle"
         },
         "mode": "markers",
         "name": "Metric (analysis)",
         "showlegend": false,
         "type": "scatter",
         "x": [
          "2018-11-14T21:18:00",
          "2018-12-15T03:54:00",
          "2019-01-14T10:30:00",
          "2019-02-13T17:06:00",
          "2019-03-15T23:42:00",
          "2019-04-15T06:18:00",
          "2019-05-15T12:54:00",
          "2019-06-14T19:30:00",
          "2019-07-15T02:06:00",
          "2019-08-14T08:37:38.424000"
         ],
         "xaxis": "x",
         "y": [
          0.9686306166809373,
          0.9690438435474089,
          0.9694438261961335,
          0.9690472634498744,
          0.9688726952274674,
          0.960478016244988,
          0.9611336210051199,
          0.9605358219511105,
          0.9618691204348024,
          0.9605366452565602,
          0.9605366452565602
         ],
         "yaxis": "y"
        },
        {
         "hoverinfo": "skip",
         "legendgroup": "alert",
         "marker": {
          "color": "#DD4040",
          "size": 8,
          "symbol": "diamond"
         },
         "mode": "markers",
         "name": "Alert",
         "showlegend": true,
         "type": "scatter",
         "x": [
          "2019-04-15T06:18:00",
          "2019-05-15T12:54:00",
          "2019-06-14T19:30:00",
          "2019-07-15T02:06:00",
          "2019-08-14T08:37:38.424000"
         ],
         "xaxis": "x",
         "y": [
          0.960478016244988,
          0.9611336210051199,
          0.9605358219511105,
          0.9618691204348024,
          0.9605366452565602
         ],
         "yaxis": "y"
        },
        {
         "hoverinfo": "skip",
         "legendgroup": "thresh",
         "line": {
          "color": "#DD4040",
          "dash": "dash",
          "width": 2
         },
         "mode": "lines",
         "name": "Threshold",
         "showlegend": true,
         "type": "scatter",
         "x": [
          "2018-01-01T00:00:00",
          "2018-01-31T06:36:00",
          "2018-03-02T13:12:00",
          "2018-04-01T19:48:00",
          "2018-05-02T02:24:00",
          "2018-06-01T09:00:00",
          "2018-07-01T15:36:00",
          "2018-07-31T22:12:00",
          "2018-08-31T04:48:00",
          "2018-09-30T11:24:00",
          "2018-10-30T17:51:16.848000"
         ],
         "xaxis": "x",
         "y": [
          0.9786597341713761,
          0.9786597341713761,
          0.9786597341713761,
          0.9786597341713761,
          0.9786597341713761,
          0.9786597341713761,
          0.9786597341713761,
          0.9786597341713761,
          0.9786597341713761,
          0.9786597341713761,
          0.9786597341713761
         ],
         "yaxis": "y"
        },
        {
         "hoverinfo": "skip",
         "legendgroup": "thresh",
         "line": {
          "color": "#DD4040",
          "dash": "dash",
          "width": 2
         },
         "mode": "lines",
         "name": "Threshold",
         "showlegend": false,
         "type": "scatter",
         "x": [
          "2018-01-01T00:00:00",
          "2018-01-31T06:36:00",
          "2018-03-02T13:12:00",
          "2018-04-01T19:48:00",
          "2018-05-02T02:24:00",
          "2018-06-01T09:00:00",
          "2018-07-01T15:36:00",
          "2018-07-31T22:12:00",
          "2018-08-31T04:48:00",
          "2018-09-30T11:24:00",
          "2018-10-30T17:51:16.848000"
         ],
         "xaxis": "x",
         "y": [
          0.963316535948479,
          0.963316535948479,
          0.963316535948479,
          0.963316535948479,
          0.963316535948479,
          0.963316535948479,
          0.963316535948479,
          0.963316535948479,
          0.963316535948479,
          0.963316535948479,
          0.963316535948479
         ],
         "yaxis": "y"
        },
        {
         "hoverinfo": "skip",
         "legendgroup": "thresh",
         "line": {
          "color": "#DD4040",
          "dash": "dash",
          "width": 2
         },
         "mode": "lines",
         "name": "Threshold",
         "showlegend": false,
         "type": "scatter",
         "x": [
          "2018-10-30T18:00:00",
          "2018-11-30T00:36:00",
          "2018-12-30T07:12:00",
          "2019-01-29T13:48:00",
          "2019-02-28T20:24:00",
          "2019-03-31T03:00:00",
          "2019-04-30T09:36:00",
          "2019-05-30T16:12:00",
          "2019-06-29T22:48:00",
          "2019-07-30T05:24:00",
          "2019-08-29T11:51:16.848000"
         ],
         "xaxis": "x",
         "y": [
          0.9786597341713761,
          0.9786597341713761,
          0.9786597341713761,
          0.9786597341713761,
          0.9786597341713761,
          0.9786597341713761,
          0.9786597341713761,
          0.9786597341713761,
          0.9786597341713761,
          0.9786597341713761,
          0.9786597341713761
         ],
         "yaxis": "y"
        },
        {
         "hoverinfo": "skip",
         "legendgroup": "thresh",
         "line": {
          "color": "#DD4040",
          "dash": "dash",
          "width": 2
         },
         "mode": "lines",
         "name": "Threshold",
         "showlegend": false,
         "type": "scatter",
         "x": [
          "2018-10-30T18:00:00",
          "2018-11-30T00:36:00",
          "2018-12-30T07:12:00",
          "2019-01-29T13:48:00",
          "2019-02-28T20:24:00",
          "2019-03-31T03:00:00",
          "2019-04-30T09:36:00",
          "2019-05-30T16:12:00",
          "2019-06-29T22:48:00",
          "2019-07-30T05:24:00",
          "2019-08-29T11:51:16.848000"
         ],
         "xaxis": "x",
         "y": [
          0.963316535948479,
          0.963316535948479,
          0.963316535948479,
          0.963316535948479,
          0.963316535948479,
          0.963316535948479,
          0.963316535948479,
          0.963316535948479,
          0.963316535948479,
          0.963316535948479,
          0.963316535948479
         ],
         "yaxis": "y"
        },
        {
         "hoverinfo": "skip",
         "line": {
          "color": "rgba(0,0,0,0)",
          "shape": "hv"
         },
         "mode": "lines",
         "name": "Sampling error (reference)",
         "showlegend": false,
         "type": "scatter",
         "x": [
          "2018-01-01T00:00:00",
          "2018-01-31T06:36:00",
          "2018-03-02T13:12:00",
          "2018-04-01T19:48:00",
          "2018-05-02T02:24:00",
          "2018-06-01T09:00:00",
          "2018-07-01T15:36:00",
          "2018-07-31T22:12:00",
          "2018-08-31T04:48:00",
          "2018-09-30T11:24:00",
          "2018-10-30T17:51:16.848000"
         ],
         "xaxis": "x",
         "y": [
          0.9744831786128736,
          0.9743410155751581,
          0.9740894381974299,
          0.974404659279227,
          0.9743940532274664,
          0.9745108258133164,
          0.9741566645674109,
          0.9743169168726604,
          0.9746591878913673,
          0.974433883303291,
          0.974433883303291
         ],
         "yaxis": "y"
        },
        {
         "fill": "tonexty",
         "fillcolor": "rgba(0.0, 0.7843137254901961, 0.8980392156862745, 0.2)",
         "hoverinfo": "skip",
         "line": {
          "color": "rgba(0,0,0,0)",
          "shape": "hv"
         },
         "mode": "lines",
         "name": "Sampling error (reference)",
         "showlegend": true,
         "type": "scatter",
         "x": [
          "2018-01-01T00:00:00",
          "2018-01-31T06:36:00",
          "2018-03-02T13:12:00",
          "2018-04-01T19:48:00",
          "2018-05-02T02:24:00",
          "2018-06-01T09:00:00",
          "2018-07-01T15:36:00",
          "2018-07-31T22:12:00",
          "2018-08-31T04:48:00",
          "2018-09-30T11:24:00",
          "2018-10-30T17:51:16.848000"
         ],
         "xaxis": "x",
         "y": [
          0.9636188804773331,
          0.9634767174396176,
          0.9632251400618894,
          0.9635403611436866,
          0.963529755091926,
          0.9636465276777759,
          0.9632923664318704,
          0.96345261873712,
          0.9637948897558268,
          0.9635695851677505,
          0.9635695851677505
         ],
         "yaxis": "y"
        },
        {
         "hoverinfo": "skip",
         "line": {
          "color": "rgba(0,0,0,0)",
          "shape": "hv"
         },
         "mode": "lines",
         "name": "Sampling error (analysis)",
         "showlegend": false,
         "type": "scatter",
         "x": [
          "2018-10-30T18:00:00",
          "2018-11-30T00:36:00",
          "2018-12-30T07:12:00",
          "2019-01-29T13:48:00",
          "2019-02-28T20:24:00",
          "2019-03-31T03:00:00",
          "2019-04-30T09:36:00",
          "2019-05-30T16:12:00",
          "2019-06-29T22:48:00",
          "2019-07-30T05:24:00",
          "2019-08-29T11:51:16.848000"
         ],
         "xaxis": "x",
         "y": [
          0.9740627657487075,
          0.9744759926151791,
          0.9748759752639037,
          0.9744794125176446,
          0.9743048442952377,
          0.9659101653127582,
          0.9665657700728901,
          0.9659679710188808,
          0.9673012695025727,
          0.9659687943243305,
          0.9659687943243305
         ],
         "yaxis": "y"
        },
        {
         "fill": "tonexty",
         "fillcolor": "rgba(0.23137254901960785, 0.00784313725490196, 0.5019607843137255, 0.2)",
         "hoverinfo": "skip",
         "line": {
          "color": "rgba(0,0,0,0)",
          "shape": "hv"
         },
         "mode": "lines",
         "name": "Sampling error (analysis)",
         "showlegend": true,
         "type": "scatter",
         "x": [
          "2018-10-30T18:00:00",
          "2018-11-30T00:36:00",
          "2018-12-30T07:12:00",
          "2019-01-29T13:48:00",
          "2019-02-28T20:24:00",
          "2019-03-31T03:00:00",
          "2019-04-30T09:36:00",
          "2019-05-30T16:12:00",
          "2019-06-29T22:48:00",
          "2019-07-30T05:24:00",
          "2019-08-29T11:51:16.848000"
         ],
         "xaxis": "x",
         "y": [
          0.9631984676131671,
          0.9636116944796387,
          0.9640116771283632,
          0.9636151143821041,
          0.9634405461596972,
          0.9550458671772177,
          0.9557014719373497,
          0.9551036728833403,
          0.9564369713670322,
          0.95510449618879,
          0.95510449618879
         ],
         "yaxis": "y"
        },
        {
         "hoverinfo": "skip",
         "legendgroup": "metric_reference",
         "line": {
          "color": "#00c8e5",
          "shape": "hv",
          "width": 2
         },
         "mode": "lines",
         "name": "Metric (reference)",
         "showlegend": false,
         "type": "scatter",
         "x": [
          "2018-01-01T00:00:00",
          "2018-01-31T06:36:00",
          "2018-03-02T13:12:00",
          "2018-04-01T19:48:00",
          "2018-05-02T02:24:00",
          "2018-06-01T09:00:00",
          "2018-07-01T15:36:00",
          "2018-07-31T22:12:00",
          "2018-08-31T04:48:00",
          "2018-09-30T11:24:00",
          "2018-10-30T17:51:16.848000"
         ],
         "xaxis": "x2",
         "y": [
          3.9912131247374534,
          3.988791341004922,
          3.9910034675170203,
          3.991726842586942,
          3.9919653467317247,
          3.9925963229897725,
          3.983747596950291,
          3.994960316982327,
          3.9941722942746423,
          3.9973345821799615,
          3.9973345821799615
         ],
         "yaxis": "y2"
        },
        {
         "customdata": [
          [
           "Estimated <b>Business Value</b>",
           "<b style=\"color:#00c8e5;line-height:60px\">Reference</b>",
           "",
           "[0:4999]",
           "From <b>Jan-01-2018</b> to <b>Jan-31-2018</b>",
           3.9912,
           0.0244
          ],
          [
           "Estimated <b>Business Value</b>",
           "<b style=\"color:#00c8e5;line-height:60px\">Reference</b>",
           "",
           "[5000:9999]",
           "From <b>Jan-31-2018</b> to <b>Mar-02-2018</b>",
           3.9888,
           0.0244
          ],
          [
           "Estimated <b>Business Value</b>",
           "<b style=\"color:#00c8e5;line-height:60px\">Reference</b>",
           "",
           "[10000:14999]",
           "From <b>Mar-02-2018</b> to <b>Apr-01-2018</b>",
           3.991,
           0.0244
          ],
          [
           "Estimated <b>Business Value</b>",
           "<b style=\"color:#00c8e5;line-height:60px\">Reference</b>",
           "",
           "[15000:19999]",
           "From <b>Apr-01-2018</b> to <b>May-02-2018</b>",
           3.9917,
           0.0244
          ],
          [
           "Estimated <b>Business Value</b>",
           "<b style=\"color:#00c8e5;line-height:60px\">Reference</b>",
           "",
           "[20000:24999]",
           "From <b>May-02-2018</b> to <b>Jun-01-2018</b>",
           3.992,
           0.0244
          ],
          [
           "Estimated <b>Business Value</b>",
           "<b style=\"color:#00c8e5;line-height:60px\">Reference</b>",
           "",
           "[25000:29999]",
           "From <b>Jun-01-2018</b> to <b>Jul-01-2018</b>",
           3.9926,
           0.0244
          ],
          [
           "Estimated <b>Business Value</b>",
           "<b style=\"color:#00c8e5;line-height:60px\">Reference</b>",
           "",
           "[30000:34999]",
           "From <b>Jul-01-2018</b> to <b>Jul-31-2018</b>",
           3.9837,
           0.0244
          ],
          [
           "Estimated <b>Business Value</b>",
           "<b style=\"color:#00c8e5;line-height:60px\">Reference</b>",
           "",
           "[35000:39999]",
           "From <b>Jul-31-2018</b> to <b>Aug-31-2018</b>",
           3.995,
           0.0244
          ],
          [
           "Estimated <b>Business Value</b>",
           "<b style=\"color:#00c8e5;line-height:60px\">Reference</b>",
           "",
           "[40000:44999]",
           "From <b>Aug-31-2018</b> to <b>Sep-30-2018</b>",
           3.9942,
           0.0244
          ],
          [
           "Estimated <b>Business Value</b>",
           "<b style=\"color:#00c8e5;line-height:60px\">Reference</b>",
           "",
           "[45000:49999]",
           "From <b>Sep-30-2018</b> to <b>Oct-30-2018</b>",
           3.9973,
           0.0244
          ]
         ],
         "hovertemplate": "%{customdata[1]} &nbsp; &nbsp; %{customdata[2]} <br />Chunk: <b>%{customdata[3]}</b> &nbsp; &nbsp; %{customdata[4]} <br />%{customdata[0]}: <b>%{customdata[5]}</b><br />Confidence band: +/- <b>%{customdata[6]}</b><br /><extra></extra>",
         "legendgroup": "metric_reference",
         "marker": {
          "color": "#00c8e5",
          "size": 5,
          "symbol": "circle"
         },
         "mode": "markers",
         "name": "Metric (reference)",
         "showlegend": false,
         "type": "scatter",
         "x": [
          "2018-01-16T03:18:00",
          "2018-02-15T09:54:00",
          "2018-03-17T16:30:00",
          "2018-04-16T23:06:00",
          "2018-05-17T05:42:00",
          "2018-06-16T12:18:00",
          "2018-07-16T18:54:00",
          "2018-08-16T01:30:00",
          "2018-09-15T08:06:00",
          "2018-10-15T14:37:38.424000"
         ],
         "xaxis": "x2",
         "y": [
          3.9912131247374534,
          3.988791341004922,
          3.9910034675170203,
          3.991726842586942,
          3.9919653467317247,
          3.9925963229897725,
          3.983747596950291,
          3.994960316982327,
          3.9941722942746423,
          3.9973345821799615,
          3.9973345821799615
         ],
         "yaxis": "y2"
        },
        {
         "hoverinfo": "skip",
         "legendgroup": "metric_analysis",
         "line": {
          "color": "#3b0280",
          "shape": "hv",
          "width": 2
         },
         "mode": "lines",
         "name": "Metric (analysis)",
         "showlegend": false,
         "type": "scatter",
         "x": [
          "2018-10-30T18:00:00",
          "2018-11-30T00:36:00",
          "2018-12-30T07:12:00",
          "2019-01-29T13:48:00",
          "2019-02-28T20:24:00",
          "2019-03-31T03:00:00",
          "2019-04-30T09:36:00",
          "2019-05-30T16:12:00",
          "2019-06-29T22:48:00",
          "2019-07-30T05:24:00",
          "2019-08-29T11:51:16.848000"
         ],
         "xaxis": "x2",
         "y": [
          3.9897520637432695,
          3.9864138922154133,
          3.990204022358945,
          3.9924916299932853,
          3.991429778111009,
          3.9652003286172355,
          3.9639663729276036,
          3.97015652949602,
          3.964972734122001,
          3.971572202263399,
          3.971572202263399
         ],
         "yaxis": "y2"
        },
        {
         "customdata": [
          [
           "Estimated <b>Business Value</b>",
           "<b style=\"color:#3b0280;line-height:60px\">Analysis</b>",
           "",
           "[0:4999]",
           "From <b>Oct-30-2018</b> to <b>Nov-30-2018</b>",
           3.9898,
           0.0244
          ],
          [
           "Estimated <b>Business Value</b>",
           "<b style=\"color:#3b0280;line-height:60px\">Analysis</b>",
           "",
           "[5000:9999]",
           "From <b>Nov-30-2018</b> to <b>Dec-30-2018</b>",
           3.9864,
           0.0244
          ],
          [
           "Estimated <b>Business Value</b>",
           "<b style=\"color:#3b0280;line-height:60px\">Analysis</b>",
           "",
           "[10000:14999]",
           "From <b>Dec-30-2018</b> to <b>Jan-29-2019</b>",
           3.9902,
           0.0244
          ],
          [
           "Estimated <b>Business Value</b>",
           "<b style=\"color:#3b0280;line-height:60px\">Analysis</b>",
           "",
           "[15000:19999]",
           "From <b>Jan-29-2019</b> to <b>Feb-28-2019</b>",
           3.9925,
           0.0244
          ],
          [
           "Estimated <b>Business Value</b>",
           "<b style=\"color:#3b0280;line-height:60px\">Analysis</b>",
           "",
           "[20000:24999]",
           "From <b>Feb-28-2019</b> to <b>Mar-31-2019</b>",
           3.9914,
           0.0244
          ],
          [
           "Estimated <b>Business Value</b>",
           "<b style=\"color:#3b0280;line-height:60px\">Analysis</b>",
           "<span style=\"color:#AD0000\">⚠ <b>Drift detected</b></span>",
           "[25000:29999]",
           "From <b>Mar-31-2019</b> to <b>Apr-30-2019</b>",
           3.9652,
           0.0244
          ],
          [
           "Estimated <b>Business Value</b>",
           "<b style=\"color:#3b0280;line-height:60px\">Analysis</b>",
           "<span style=\"color:#AD0000\">⚠ <b>Drift detected</b></span>",
           "[30000:34999]",
           "From <b>Apr-30-2019</b> to <b>May-30-2019</b>",
           3.964,
           0.0244
          ],
          [
           "Estimated <b>Business Value</b>",
           "<b style=\"color:#3b0280;line-height:60px\">Analysis</b>",
           "<span style=\"color:#AD0000\">⚠ <b>Drift detected</b></span>",
           "[35000:39999]",
           "From <b>May-30-2019</b> to <b>Jun-29-2019</b>",
           3.9702,
           0.0244
          ],
          [
           "Estimated <b>Business Value</b>",
           "<b style=\"color:#3b0280;line-height:60px\">Analysis</b>",
           "<span style=\"color:#AD0000\">⚠ <b>Drift detected</b></span>",
           "[40000:44999]",
           "From <b>Jun-29-2019</b> to <b>Jul-30-2019</b>",
           3.965,
           0.0244
          ],
          [
           "Estimated <b>Business Value</b>",
           "<b style=\"color:#3b0280;line-height:60px\">Analysis</b>",
           "<span style=\"color:#AD0000\">⚠ <b>Drift detected</b></span>",
           "[45000:49999]",
           "From <b>Jul-30-2019</b> to <b>Aug-29-2019</b>",
           3.9716,
           0.0244
          ]
         ],
         "hovertemplate": "%{customdata[1]} &nbsp; &nbsp; %{customdata[2]} <br />Chunk: <b>%{customdata[3]}</b> &nbsp; &nbsp; %{customdata[4]} <br />%{customdata[0]}: <b>%{customdata[5]}</b><br />Confidence band: +/- <b>%{customdata[6]}</b><br /><extra></extra>",
         "legendgroup": "metric_analysis",
         "marker": {
          "color": "#3b0280",
          "size": 5,
          "symbol": "circle"
         },
         "mode": "markers",
         "name": "Metric (analysis)",
         "showlegend": false,
         "type": "scatter",
         "x": [
          "2018-11-14T21:18:00",
          "2018-12-15T03:54:00",
          "2019-01-14T10:30:00",
          "2019-02-13T17:06:00",
          "2019-03-15T23:42:00",
          "2019-04-15T06:18:00",
          "2019-05-15T12:54:00",
          "2019-06-14T19:30:00",
          "2019-07-15T02:06:00",
          "2019-08-14T08:37:38.424000"
         ],
         "xaxis": "x2",
         "y": [
          3.9897520637432695,
          3.9864138922154133,
          3.990204022358945,
          3.9924916299932853,
          3.991429778111009,
          3.9652003286172355,
          3.9639663729276036,
          3.97015652949602,
          3.964972734122001,
          3.971572202263399,
          3.971572202263399
         ],
         "yaxis": "y2"
        },
        {
         "hoverinfo": "skip",
         "legendgroup": "alert",
         "marker": {
          "color": "#DD4040",
          "size": 8,
          "symbol": "diamond"
         },
         "mode": "markers",
         "name": "Alert",
         "showlegend": false,
         "type": "scatter",
         "x": [
          "2019-04-15T06:18:00",
          "2019-05-15T12:54:00",
          "2019-06-14T19:30:00",
          "2019-07-15T02:06:00",
          "2019-08-14T08:37:38.424000"
         ],
         "xaxis": "x2",
         "y": [
          3.9652003286172355,
          3.9639663729276036,
          3.97015652949602,
          3.964972734122001,
          3.971572202263399
         ],
         "yaxis": "y2"
        },
        {
         "hoverinfo": "skip",
         "legendgroup": "thresh",
         "line": {
          "color": "#DD4040",
          "dash": "dash",
          "width": 2
         },
         "mode": "lines",
         "name": "Threshold",
         "showlegend": false,
         "type": "scatter",
         "x": [
          "2018-01-01T00:00:00",
          "2018-01-31T06:36:00",
          "2018-03-02T13:12:00",
          "2018-04-01T19:48:00",
          "2018-05-02T02:24:00",
          "2018-06-01T09:00:00",
          "2018-07-01T15:36:00",
          "2018-07-31T22:12:00",
          "2018-08-31T04:48:00",
          "2018-09-30T11:24:00",
          "2018-10-30T17:51:16.848000"
         ],
         "xaxis": "x2",
         "y": [
          4.011563658196586,
          4.011563658196586,
          4.011563658196586,
          4.011563658196586,
          4.011563658196586,
          4.011563658196586,
          4.011563658196586,
          4.011563658196586,
          4.011563658196586,
          4.011563658196586,
          4.011563658196586
         ],
         "yaxis": "y2"
        },
        {
         "hoverinfo": "skip",
         "legendgroup": "thresh",
         "line": {
          "color": "#DD4040",
          "dash": "dash",
          "width": 2
         },
         "mode": "lines",
         "name": "Threshold",
         "showlegend": false,
         "type": "scatter",
         "x": [
          "2018-01-01T00:00:00",
          "2018-01-31T06:36:00",
          "2018-03-02T13:12:00",
          "2018-04-01T19:48:00",
          "2018-05-02T02:24:00",
          "2018-06-01T09:00:00",
          "2018-07-01T15:36:00",
          "2018-07-31T22:12:00",
          "2018-08-31T04:48:00",
          "2018-09-30T11:24:00",
          "2018-10-30T17:51:16.848000"
         ],
         "xaxis": "x2",
         "y": [
          3.972196341803415,
          3.972196341803415,
          3.972196341803415,
          3.972196341803415,
          3.972196341803415,
          3.972196341803415,
          3.972196341803415,
          3.972196341803415,
          3.972196341803415,
          3.972196341803415,
          3.972196341803415
         ],
         "yaxis": "y2"
        },
        {
         "hoverinfo": "skip",
         "legendgroup": "thresh",
         "line": {
          "color": "#DD4040",
          "dash": "dash",
          "width": 2
         },
         "mode": "lines",
         "name": "Threshold",
         "showlegend": false,
         "type": "scatter",
         "x": [
          "2018-10-30T18:00:00",
          "2018-11-30T00:36:00",
          "2018-12-30T07:12:00",
          "2019-01-29T13:48:00",
          "2019-02-28T20:24:00",
          "2019-03-31T03:00:00",
          "2019-04-30T09:36:00",
          "2019-05-30T16:12:00",
          "2019-06-29T22:48:00",
          "2019-07-30T05:24:00",
          "2019-08-29T11:51:16.848000"
         ],
         "xaxis": "x2",
         "y": [
          4.011563658196586,
          4.011563658196586,
          4.011563658196586,
          4.011563658196586,
          4.011563658196586,
          4.011563658196586,
          4.011563658196586,
          4.011563658196586,
          4.011563658196586,
          4.011563658196586,
          4.011563658196586
         ],
         "yaxis": "y2"
        },
        {
         "hoverinfo": "skip",
         "legendgroup": "thresh",
         "line": {
          "color": "#DD4040",
          "dash": "dash",
          "width": 2
         },
         "mode": "lines",
         "name": "Threshold",
         "showlegend": false,
         "type": "scatter",
         "x": [
          "2018-10-30T18:00:00",
          "2018-11-30T00:36:00",
          "2018-12-30T07:12:00",
          "2019-01-29T13:48:00",
          "2019-02-28T20:24:00",
          "2019-03-31T03:00:00",
          "2019-04-30T09:36:00",
          "2019-05-30T16:12:00",
          "2019-06-29T22:48:00",
          "2019-07-30T05:24:00",
          "2019-08-29T11:51:16.848000"
         ],
         "xaxis": "x2",
         "y": [
          3.972196341803415,
          3.972196341803415,
          3.972196341803415,
          3.972196341803415,
          3.972196341803415,
          3.972196341803415,
          3.972196341803415,
          3.972196341803415,
          3.972196341803415,
          3.972196341803415,
          3.972196341803415
         ],
         "yaxis": "y2"
        },
        {
         "hoverinfo": "skip",
         "line": {
          "color": "rgba(0,0,0,0)",
          "shape": "hv"
         },
         "mode": "lines",
         "name": "Sampling error (reference)",
         "showlegend": false,
         "type": "scatter",
         "x": [
          "2018-01-01T00:00:00",
          "2018-01-31T06:36:00",
          "2018-03-02T13:12:00",
          "2018-04-01T19:48:00",
          "2018-05-02T02:24:00",
          "2018-06-01T09:00:00",
          "2018-07-01T15:36:00",
          "2018-07-31T22:12:00",
          "2018-08-31T04:48:00",
          "2018-09-30T11:24:00",
          "2018-10-30T17:51:16.848000"
         ],
         "xaxis": "x2",
         "y": [
          4.015584282241355,
          4.013162498508824,
          4.015374625020923,
          4.016098000090844,
          4.0163365042356265,
          4.016967480493674,
          4.008118754454193,
          4.019331474486229,
          4.0185434517785446,
          4.021705739683863,
          4.021705739683863
         ],
         "yaxis": "y2"
        },
        {
         "fill": "tonexty",
         "fillcolor": "rgba(0.0, 0.7843137254901961, 0.8980392156862745, 0.2)",
         "hoverinfo": "skip",
         "line": {
          "color": "rgba(0,0,0,0)",
          "shape": "hv"
         },
         "mode": "lines",
         "name": "Sampling error (reference)",
         "showlegend": false,
         "type": "scatter",
         "x": [
          "2018-01-01T00:00:00",
          "2018-01-31T06:36:00",
          "2018-03-02T13:12:00",
          "2018-04-01T19:48:00",
          "2018-05-02T02:24:00",
          "2018-06-01T09:00:00",
          "2018-07-01T15:36:00",
          "2018-07-31T22:12:00",
          "2018-08-31T04:48:00",
          "2018-09-30T11:24:00",
          "2018-10-30T17:51:16.848000"
         ],
         "xaxis": "x2",
         "y": [
          3.9668419672335515,
          3.96442018350102,
          3.9666323100131184,
          3.96735568508304,
          3.967594189227823,
          3.9682251654858707,
          3.9593764394463893,
          3.970589159478425,
          3.9698011367707404,
          3.9729634246760597,
          3.9729634246760597
         ],
         "yaxis": "y2"
        },
        {
         "hoverinfo": "skip",
         "line": {
          "color": "rgba(0,0,0,0)",
          "shape": "hv"
         },
         "mode": "lines",
         "name": "Sampling error (analysis)",
         "showlegend": false,
         "type": "scatter",
         "x": [
          "2018-10-30T18:00:00",
          "2018-11-30T00:36:00",
          "2018-12-30T07:12:00",
          "2019-01-29T13:48:00",
          "2019-02-28T20:24:00",
          "2019-03-31T03:00:00",
          "2019-04-30T09:36:00",
          "2019-05-30T16:12:00",
          "2019-06-29T22:48:00",
          "2019-07-30T05:24:00",
          "2019-08-29T11:51:16.848000"
         ],
         "xaxis": "x2",
         "y": [
          4.014123221247171,
          4.010785049719315,
          4.014575179862847,
          4.016862787497187,
          4.015800935614911,
          3.9895714861211373,
          3.9883375304315054,
          3.994527686999922,
          3.9893438916259027,
          3.995943359767301,
          3.995943359767301
         ],
         "yaxis": "y2"
        },
        {
         "fill": "tonexty",
         "fillcolor": "rgba(0.23137254901960785, 0.00784313725490196, 0.5019607843137255, 0.2)",
         "hoverinfo": "skip",
         "line": {
          "color": "rgba(0,0,0,0)",
          "shape": "hv"
         },
         "mode": "lines",
         "name": "Sampling error (analysis)",
         "showlegend": false,
         "type": "scatter",
         "x": [
          "2018-10-30T18:00:00",
          "2018-11-30T00:36:00",
          "2018-12-30T07:12:00",
          "2019-01-29T13:48:00",
          "2019-02-28T20:24:00",
          "2019-03-31T03:00:00",
          "2019-04-30T09:36:00",
          "2019-05-30T16:12:00",
          "2019-06-29T22:48:00",
          "2019-07-30T05:24:00",
          "2019-08-29T11:51:16.848000"
         ],
         "xaxis": "x2",
         "y": [
          3.9653809062393677,
          3.9620427347115115,
          3.965832864855043,
          3.9681204724893835,
          3.9670586206071072,
          3.9408291711133336,
          3.9395952154237017,
          3.9457853719921183,
          3.940601576618099,
          3.947201044759497,
          3.947201044759497
         ],
         "yaxis": "y2"
        }
       ],
       "layout": {
        "annotations": [
         {
          "font": {
           "size": 16
          },
          "showarrow": false,
          "text": "Estimated <b>ROC AUC</b>",
          "x": 0.5,
          "xanchor": "center",
          "xref": "paper",
          "y": 1,
          "yanchor": "bottom",
          "yref": "paper"
         },
         {
          "font": {
           "size": 16
          },
          "showarrow": false,
          "text": "Estimated <b>Business Value</b>",
          "x": 0.5,
          "xanchor": "center",
          "xref": "paper",
          "y": 0.375,
          "yanchor": "bottom",
          "yref": "paper"
         }
        ],
        "height": 1000,
        "hoverlabel": {
         "bgcolor": "white",
         "font": {
          "size": 14
         }
        },
        "legend": {
         "itemclick": false,
         "itemdoubleclick": false,
         "traceorder": "grouped"
        },
        "paper_bgcolor": "rgba(255,255,255,1)",
        "plot_bgcolor": "rgba(255,255,255,1)",
        "shapes": [
         {
          "layer": "below",
          "line": {
           "color": "#666666",
           "width": 1
          },
          "type": "line",
          "x0": "2018-10-30T18:00:00",
          "x1": "2018-10-30T18:00:00",
          "xref": "x",
          "y0": 0,
          "y1": 1,
          "yref": "y domain"
         },
         {
          "layer": "below",
          "line": {
           "color": "#666666",
           "width": 1
          },
          "type": "line",
          "x0": "2018-10-30T18:00:00",
          "x1": "2018-10-30T18:00:00",
          "xref": "x2",
          "y0": 0,
          "y1": 1,
          "yref": "y2 domain"
         }
        ],
        "template": {
         "data": {
          "bar": [
           {
            "error_x": {
             "color": "#2a3f5f"
            },
            "error_y": {
             "color": "#2a3f5f"
            },
            "marker": {
             "line": {
              "color": "#E5ECF6",
              "width": 0.5
             },
             "pattern": {
              "fillmode": "overlay",
              "size": 10,
              "solidity": 0.2
             }
            },
            "type": "bar"
           }
          ],
          "barpolar": [
           {
            "marker": {
             "line": {
              "color": "#E5ECF6",
              "width": 0.5
             },
             "pattern": {
              "fillmode": "overlay",
              "size": 10,
              "solidity": 0.2
             }
            },
            "type": "barpolar"
           }
          ],
          "carpet": [
           {
            "aaxis": {
             "endlinecolor": "#2a3f5f",
             "gridcolor": "white",
             "linecolor": "white",
             "minorgridcolor": "white",
             "startlinecolor": "#2a3f5f"
            },
            "baxis": {
             "endlinecolor": "#2a3f5f",
             "gridcolor": "white",
             "linecolor": "white",
             "minorgridcolor": "white",
             "startlinecolor": "#2a3f5f"
            },
            "type": "carpet"
           }
          ],
          "choropleth": [
           {
            "colorbar": {
             "outlinewidth": 0,
             "ticks": ""
            },
            "type": "choropleth"
           }
          ],
          "contour": [
           {
            "colorbar": {
             "outlinewidth": 0,
             "ticks": ""
            },
            "colorscale": [
             [
              0,
              "#0d0887"
             ],
             [
              0.1111111111111111,
              "#46039f"
             ],
             [
              0.2222222222222222,
              "#7201a8"
             ],
             [
              0.3333333333333333,
              "#9c179e"
             ],
             [
              0.4444444444444444,
              "#bd3786"
             ],
             [
              0.5555555555555556,
              "#d8576b"
             ],
             [
              0.6666666666666666,
              "#ed7953"
             ],
             [
              0.7777777777777778,
              "#fb9f3a"
             ],
             [
              0.8888888888888888,
              "#fdca26"
             ],
             [
              1,
              "#f0f921"
             ]
            ],
            "type": "contour"
           }
          ],
          "contourcarpet": [
           {
            "colorbar": {
             "outlinewidth": 0,
             "ticks": ""
            },
            "type": "contourcarpet"
           }
          ],
          "heatmap": [
           {
            "colorbar": {
             "outlinewidth": 0,
             "ticks": ""
            },
            "colorscale": [
             [
              0,
              "#0d0887"
             ],
             [
              0.1111111111111111,
              "#46039f"
             ],
             [
              0.2222222222222222,
              "#7201a8"
             ],
             [
              0.3333333333333333,
              "#9c179e"
             ],
             [
              0.4444444444444444,
              "#bd3786"
             ],
             [
              0.5555555555555556,
              "#d8576b"
             ],
             [
              0.6666666666666666,
              "#ed7953"
             ],
             [
              0.7777777777777778,
              "#fb9f3a"
             ],
             [
              0.8888888888888888,
              "#fdca26"
             ],
             [
              1,
              "#f0f921"
             ]
            ],
            "type": "heatmap"
           }
          ],
          "heatmapgl": [
           {
            "colorbar": {
             "outlinewidth": 0,
             "ticks": ""
            },
            "colorscale": [
             [
              0,
              "#0d0887"
             ],
             [
              0.1111111111111111,
              "#46039f"
             ],
             [
              0.2222222222222222,
              "#7201a8"
             ],
             [
              0.3333333333333333,
              "#9c179e"
             ],
             [
              0.4444444444444444,
              "#bd3786"
             ],
             [
              0.5555555555555556,
              "#d8576b"
             ],
             [
              0.6666666666666666,
              "#ed7953"
             ],
             [
              0.7777777777777778,
              "#fb9f3a"
             ],
             [
              0.8888888888888888,
              "#fdca26"
             ],
             [
              1,
              "#f0f921"
             ]
            ],
            "type": "heatmapgl"
           }
          ],
          "histogram": [
           {
            "marker": {
             "pattern": {
              "fillmode": "overlay",
              "size": 10,
              "solidity": 0.2
             }
            },
            "type": "histogram"
           }
          ],
          "histogram2d": [
           {
            "colorbar": {
             "outlinewidth": 0,
             "ticks": ""
            },
            "colorscale": [
             [
              0,
              "#0d0887"
             ],
             [
              0.1111111111111111,
              "#46039f"
             ],
             [
              0.2222222222222222,
              "#7201a8"
             ],
             [
              0.3333333333333333,
              "#9c179e"
             ],
             [
              0.4444444444444444,
              "#bd3786"
             ],
             [
              0.5555555555555556,
              "#d8576b"
             ],
             [
              0.6666666666666666,
              "#ed7953"
             ],
             [
              0.7777777777777778,
              "#fb9f3a"
             ],
             [
              0.8888888888888888,
              "#fdca26"
             ],
             [
              1,
              "#f0f921"
             ]
            ],
            "type": "histogram2d"
           }
          ],
          "histogram2dcontour": [
           {
            "colorbar": {
             "outlinewidth": 0,
             "ticks": ""
            },
            "colorscale": [
             [
              0,
              "#0d0887"
             ],
             [
              0.1111111111111111,
              "#46039f"
             ],
             [
              0.2222222222222222,
              "#7201a8"
             ],
             [
              0.3333333333333333,
              "#9c179e"
             ],
             [
              0.4444444444444444,
              "#bd3786"
             ],
             [
              0.5555555555555556,
              "#d8576b"
             ],
             [
              0.6666666666666666,
              "#ed7953"
             ],
             [
              0.7777777777777778,
              "#fb9f3a"
             ],
             [
              0.8888888888888888,
              "#fdca26"
             ],
             [
              1,
              "#f0f921"
             ]
            ],
            "type": "histogram2dcontour"
           }
          ],
          "mesh3d": [
           {
            "colorbar": {
             "outlinewidth": 0,
             "ticks": ""
            },
            "type": "mesh3d"
           }
          ],
          "parcoords": [
           {
            "line": {
             "colorbar": {
              "outlinewidth": 0,
              "ticks": ""
             }
            },
            "type": "parcoords"
           }
          ],
          "pie": [
           {
            "automargin": true,
            "type": "pie"
           }
          ],
          "scatter": [
           {
            "fillpattern": {
             "fillmode": "overlay",
             "size": 10,
             "solidity": 0.2
            },
            "type": "scatter"
           }
          ],
          "scatter3d": [
           {
            "line": {
             "colorbar": {
              "outlinewidth": 0,
              "ticks": ""
             }
            },
            "marker": {
             "colorbar": {
              "outlinewidth": 0,
              "ticks": ""
             }
            },
            "type": "scatter3d"
           }
          ],
          "scattercarpet": [
           {
            "marker": {
             "colorbar": {
              "outlinewidth": 0,
              "ticks": ""
             }
            },
            "type": "scattercarpet"
           }
          ],
          "scattergeo": [
           {
            "marker": {
             "colorbar": {
              "outlinewidth": 0,
              "ticks": ""
             }
            },
            "type": "scattergeo"
           }
          ],
          "scattergl": [
           {
            "marker": {
             "colorbar": {
              "outlinewidth": 0,
              "ticks": ""
             }
            },
            "type": "scattergl"
           }
          ],
          "scattermapbox": [
           {
            "marker": {
             "colorbar": {
              "outlinewidth": 0,
              "ticks": ""
             }
            },
            "type": "scattermapbox"
           }
          ],
          "scatterpolar": [
           {
            "marker": {
             "colorbar": {
              "outlinewidth": 0,
              "ticks": ""
             }
            },
            "type": "scatterpolar"
           }
          ],
          "scatterpolargl": [
           {
            "marker": {
             "colorbar": {
              "outlinewidth": 0,
              "ticks": ""
             }
            },
            "type": "scatterpolargl"
           }
          ],
          "scatterternary": [
           {
            "marker": {
             "colorbar": {
              "outlinewidth": 0,
              "ticks": ""
             }
            },
            "type": "scatterternary"
           }
          ],
          "surface": [
           {
            "colorbar": {
             "outlinewidth": 0,
             "ticks": ""
            },
            "colorscale": [
             [
              0,
              "#0d0887"
             ],
             [
              0.1111111111111111,
              "#46039f"
             ],
             [
              0.2222222222222222,
              "#7201a8"
             ],
             [
              0.3333333333333333,
              "#9c179e"
             ],
             [
              0.4444444444444444,
              "#bd3786"
             ],
             [
              0.5555555555555556,
              "#d8576b"
             ],
             [
              0.6666666666666666,
              "#ed7953"
             ],
             [
              0.7777777777777778,
              "#fb9f3a"
             ],
             [
              0.8888888888888888,
              "#fdca26"
             ],
             [
              1,
              "#f0f921"
             ]
            ],
            "type": "surface"
           }
          ],
          "table": [
           {
            "cells": {
             "fill": {
              "color": "#EBF0F8"
             },
             "line": {
              "color": "white"
             }
            },
            "header": {
             "fill": {
              "color": "#C8D4E3"
             },
             "line": {
              "color": "white"
             }
            },
            "type": "table"
           }
          ]
         },
         "layout": {
          "annotationdefaults": {
           "arrowcolor": "#2a3f5f",
           "arrowhead": 0,
           "arrowwidth": 1
          },
          "autotypenumbers": "strict",
          "coloraxis": {
           "colorbar": {
            "outlinewidth": 0,
            "ticks": ""
           }
          },
          "colorscale": {
           "diverging": [
            [
             0,
             "#8e0152"
            ],
            [
             0.1,
             "#c51b7d"
            ],
            [
             0.2,
             "#de77ae"
            ],
            [
             0.3,
             "#f1b6da"
            ],
            [
             0.4,
             "#fde0ef"
            ],
            [
             0.5,
             "#f7f7f7"
            ],
            [
             0.6,
             "#e6f5d0"
            ],
            [
             0.7,
             "#b8e186"
            ],
            [
             0.8,
             "#7fbc41"
            ],
            [
             0.9,
             "#4d9221"
            ],
            [
             1,
             "#276419"
            ]
           ],
           "sequential": [
            [
             0,
             "#0d0887"
            ],
            [
             0.1111111111111111,
             "#46039f"
            ],
            [
             0.2222222222222222,
             "#7201a8"
            ],
            [
             0.3333333333333333,
             "#9c179e"
            ],
            [
             0.4444444444444444,
             "#bd3786"
            ],
            [
             0.5555555555555556,
             "#d8576b"
            ],
            [
             0.6666666666666666,
             "#ed7953"
            ],
            [
             0.7777777777777778,
             "#fb9f3a"
            ],
            [
             0.8888888888888888,
             "#fdca26"
            ],
            [
             1,
             "#f0f921"
            ]
           ],
           "sequentialminus": [
            [
             0,
             "#0d0887"
            ],
            [
             0.1111111111111111,
             "#46039f"
            ],
            [
             0.2222222222222222,
             "#7201a8"
            ],
            [
             0.3333333333333333,
             "#9c179e"
            ],
            [
             0.4444444444444444,
             "#bd3786"
            ],
            [
             0.5555555555555556,
             "#d8576b"
            ],
            [
             0.6666666666666666,
             "#ed7953"
            ],
            [
             0.7777777777777778,
             "#fb9f3a"
            ],
            [
             0.8888888888888888,
             "#fdca26"
            ],
            [
             1,
             "#f0f921"
            ]
           ]
          },
          "colorway": [
           "#636efa",
           "#EF553B",
           "#00cc96",
           "#ab63fa",
           "#FFA15A",
           "#19d3f3",
           "#FF6692",
           "#B6E880",
           "#FF97FF",
           "#FECB52"
          ],
          "font": {
           "color": "#2a3f5f"
          },
          "geo": {
           "bgcolor": "white",
           "lakecolor": "white",
           "landcolor": "#E5ECF6",
           "showlakes": true,
           "showland": true,
           "subunitcolor": "white"
          },
          "hoverlabel": {
           "align": "left"
          },
          "hovermode": "closest",
          "mapbox": {
           "style": "light"
          },
          "paper_bgcolor": "white",
          "plot_bgcolor": "#E5ECF6",
          "polar": {
           "angularaxis": {
            "gridcolor": "white",
            "linecolor": "white",
            "ticks": ""
           },
           "bgcolor": "#E5ECF6",
           "radialaxis": {
            "gridcolor": "white",
            "linecolor": "white",
            "ticks": ""
           }
          },
          "scene": {
           "xaxis": {
            "backgroundcolor": "#E5ECF6",
            "gridcolor": "white",
            "gridwidth": 2,
            "linecolor": "white",
            "showbackground": true,
            "ticks": "",
            "zerolinecolor": "white"
           },
           "yaxis": {
            "backgroundcolor": "#E5ECF6",
            "gridcolor": "white",
            "gridwidth": 2,
            "linecolor": "white",
            "showbackground": true,
            "ticks": "",
            "zerolinecolor": "white"
           },
           "zaxis": {
            "backgroundcolor": "#E5ECF6",
            "gridcolor": "white",
            "gridwidth": 2,
            "linecolor": "white",
            "showbackground": true,
            "ticks": "",
            "zerolinecolor": "white"
           }
          },
          "shapedefaults": {
           "line": {
            "color": "#2a3f5f"
           }
          },
          "ternary": {
           "aaxis": {
            "gridcolor": "white",
            "linecolor": "white",
            "ticks": ""
           },
           "baxis": {
            "gridcolor": "white",
            "linecolor": "white",
            "ticks": ""
           },
           "bgcolor": "#E5ECF6",
           "caxis": {
            "gridcolor": "white",
            "linecolor": "white",
            "ticks": ""
           }
          },
          "title": {
           "x": 0.05
          },
          "xaxis": {
           "automargin": true,
           "gridcolor": "white",
           "linecolor": "white",
           "ticks": "",
           "title": {
            "standoff": 15
           },
           "zerolinecolor": "white",
           "zerolinewidth": 2
          },
          "yaxis": {
           "automargin": true,
           "gridcolor": "white",
           "linecolor": "white",
           "ticks": "",
           "title": {
            "standoff": 15
           },
           "zerolinecolor": "white",
           "zerolinewidth": 2
          }
         }
        },
        "title": {
         "text": "Estimated performance <b>(CBPE)</b>"
        },
        "xaxis": {
         "anchor": "y",
         "domain": [
          0,
          1
         ],
         "linecolor": "#3b0280",
         "matches": "x",
         "mirror": true,
         "showgrid": false,
         "showticklabels": true,
         "title": {
          "text": "Time"
         },
         "zeroline": false
        },
        "xaxis2": {
         "anchor": "y2",
         "domain": [
          0,
          1
         ],
         "linecolor": "#3b0280",
         "matches": "x",
         "mirror": true,
         "showgrid": false,
         "showticklabels": true,
         "title": {
          "text": "Time"
         },
         "zeroline": false
        },
        "yaxis": {
         "anchor": "x",
         "domain": [
          0.625,
          1
         ],
         "linecolor": "#3b0280",
         "mirror": true,
         "showgrid": false,
         "title": {
          "text": "ROC AUC"
         },
         "zeroline": false
        },
        "yaxis2": {
         "anchor": "x2",
         "domain": [
          0,
          0.375
         ],
         "linecolor": "#3b0280",
         "mirror": true,
         "showgrid": false,
         "title": {
          "text": "Business Value"
         },
         "zeroline": false
        }
       }
      }
     },
     "metadata": {},
     "output_type": "display_data"
    }
   ],
   "source": [
    "reference_df = nml.load_synthetic_car_loan_dataset()[0]\n",
    "analysis_df = nml.load_synthetic_car_loan_dataset()[1]\n",
    "\n",
    "display(reference_df.head(3))\n",
    "\n",
    "estimator = nml.CBPE(\n",
    "    y_pred_proba='y_pred_proba',\n",
    "    y_pred='y_pred',\n",
    "    y_true='repaid',\n",
    "    timestamp_column_name='timestamp',\n",
    "    metrics=['roc_auc', 'business_value'],\n",
    "    chunk_size=5000,\n",
    "    problem_type='classification_binary',\n",
    "    normalize_confusion_matrix='pred',\n",
    "    business_value_matrix=[[4, 7], [2, 4]],\n",
    "    normalize_business_value='per_prediction',\n",
    ")\n",
    "\n",
    "estimator.fit(reference_df)\n",
    "\n",
    "results = estimator.estimate(analysis_df)\n",
    "display(results.to_df())\n",
    "\n",
    "metric_fig = results.filter(period='analysis').plot()\n",
    "metric_fig.show()\n",
    "\n",
    "metric_fig = results.plot()\n",
    "metric_fig.show()"
   ]
  },
  {
   "cell_type": "code",
   "execution_count": null,
   "metadata": {},
   "outputs": [],
   "source": []
  },
  {
   "cell_type": "code",
   "execution_count": null,
   "metadata": {},
   "outputs": [],
   "source": []
  }
 ],
 "metadata": {
  "kernelspec": {
   "display_name": "EMD",
   "language": "python",
   "name": "python3"
  },
  "language_info": {
   "codemirror_mode": {
    "name": "ipython",
    "version": 3
   },
   "file_extension": ".py",
   "mimetype": "text/x-python",
   "name": "python",
   "nbconvert_exporter": "python",
   "pygments_lexer": "ipython3",
   "version": "3.9.13"
  },
  "orig_nbformat": 4,
  "vscode": {
   "interpreter": {
    "hash": "7015d45318b7e47f58bc453f811cb2d0d7fdbd19d5bcf220fdd25c0dc451c826"
   }
  }
 },
 "nbformat": 4,
 "nbformat_minor": 2
}
