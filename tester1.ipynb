{
 "cells": [
  {
   "cell_type": "code",
   "execution_count": 99,
   "metadata": {},
   "outputs": [],
   "source": [
    "import nannyml as nml\n",
    "import pandas as pd\n",
    "from sklearn.metrics import confusion_matrix\n",
    "import numpy as np\n",
    "from sklearn.preprocessing import LabelBinarizer"
   ]
  },
  {
   "cell_type": "code",
   "execution_count": 60,
   "metadata": {},
   "outputs": [
    {
     "data": {
      "text/html": [
       "<div>\n",
       "<style scoped>\n",
       "    .dataframe tbody tr th:only-of-type {\n",
       "        vertical-align: middle;\n",
       "    }\n",
       "\n",
       "    .dataframe tbody tr th {\n",
       "        vertical-align: top;\n",
       "    }\n",
       "\n",
       "    .dataframe thead th {\n",
       "        text-align: right;\n",
       "    }\n",
       "</style>\n",
       "<table border=\"1\" class=\"dataframe\">\n",
       "  <thead>\n",
       "    <tr style=\"text-align: right;\">\n",
       "      <th></th>\n",
       "      <th>acq_channel</th>\n",
       "      <th>app_behavioral_score</th>\n",
       "      <th>requested_credit_limit</th>\n",
       "      <th>app_channel</th>\n",
       "      <th>credit_bureau_score</th>\n",
       "      <th>stated_income</th>\n",
       "      <th>is_customer</th>\n",
       "      <th>timestamp</th>\n",
       "      <th>y_pred_proba_prepaid_card</th>\n",
       "      <th>y_pred_proba_highstreet_card</th>\n",
       "      <th>y_pred_proba_upmarket_card</th>\n",
       "      <th>y_pred</th>\n",
       "      <th>y_true</th>\n",
       "    </tr>\n",
       "  </thead>\n",
       "  <tbody>\n",
       "    <tr>\n",
       "      <th>0</th>\n",
       "      <td>Partner3</td>\n",
       "      <td>1.808232</td>\n",
       "      <td>350</td>\n",
       "      <td>web</td>\n",
       "      <td>309</td>\n",
       "      <td>15000</td>\n",
       "      <td>True</td>\n",
       "      <td>2020-05-02 02:01:30</td>\n",
       "      <td>0.97</td>\n",
       "      <td>0.03</td>\n",
       "      <td>0.00</td>\n",
       "      <td>prepaid_card</td>\n",
       "      <td>prepaid_card</td>\n",
       "    </tr>\n",
       "    <tr>\n",
       "      <th>1</th>\n",
       "      <td>Partner2</td>\n",
       "      <td>4.382568</td>\n",
       "      <td>500</td>\n",
       "      <td>mobile</td>\n",
       "      <td>418</td>\n",
       "      <td>23000</td>\n",
       "      <td>True</td>\n",
       "      <td>2020-05-02 02:03:33</td>\n",
       "      <td>0.87</td>\n",
       "      <td>0.13</td>\n",
       "      <td>0.00</td>\n",
       "      <td>prepaid_card</td>\n",
       "      <td>prepaid_card</td>\n",
       "    </tr>\n",
       "    <tr>\n",
       "      <th>2</th>\n",
       "      <td>Partner2</td>\n",
       "      <td>-0.787575</td>\n",
       "      <td>400</td>\n",
       "      <td>web</td>\n",
       "      <td>507</td>\n",
       "      <td>24000</td>\n",
       "      <td>False</td>\n",
       "      <td>2020-05-02 02:04:49</td>\n",
       "      <td>0.47</td>\n",
       "      <td>0.35</td>\n",
       "      <td>0.18</td>\n",
       "      <td>prepaid_card</td>\n",
       "      <td>upmarket_card</td>\n",
       "    </tr>\n",
       "  </tbody>\n",
       "</table>\n",
       "</div>"
      ],
      "text/plain": [
       "  acq_channel  app_behavioral_score  requested_credit_limit app_channel  \\\n",
       "0    Partner3              1.808232                     350         web   \n",
       "1    Partner2              4.382568                     500      mobile   \n",
       "2    Partner2             -0.787575                     400         web   \n",
       "\n",
       "   credit_bureau_score  stated_income  is_customer            timestamp  \\\n",
       "0                  309          15000         True  2020-05-02 02:01:30   \n",
       "1                  418          23000         True  2020-05-02 02:03:33   \n",
       "2                  507          24000        False  2020-05-02 02:04:49   \n",
       "\n",
       "   y_pred_proba_prepaid_card  y_pred_proba_highstreet_card  \\\n",
       "0                       0.97                          0.03   \n",
       "1                       0.87                          0.13   \n",
       "2                       0.47                          0.35   \n",
       "\n",
       "   y_pred_proba_upmarket_card        y_pred         y_true  \n",
       "0                        0.00  prepaid_card   prepaid_card  \n",
       "1                        0.00  prepaid_card   prepaid_card  \n",
       "2                        0.18  prepaid_card  upmarket_card  "
      ]
     },
     "metadata": {},
     "output_type": "display_data"
    }
   ],
   "source": [
    "reference_df, analysis_df, _ = nml.load_synthetic_multiclass_classification_dataset()\n",
    "\n",
    "display(reference_df.head(3))"
   ]
  },
  {
   "cell_type": "code",
   "execution_count": 61,
   "metadata": {},
   "outputs": [],
   "source": [
    "classes = set(reference_df['y_true'].unique()).union(set(reference_df['y_pred'].unique()))\n",
    "\n",
    "classes = list(classes)"
   ]
  },
  {
   "cell_type": "code",
   "execution_count": 62,
   "metadata": {},
   "outputs": [],
   "source": [
    "cm = confusion_matrix(reference_df['y_true'], reference_df['y_pred'], labels=classes)\n",
    "cm2 = confusion_matrix(reference_df['y_true'], reference_df['y_pred'], labels=classes, normalize='true')\n",
    "\n",
    "cms = np.array([cm, cm2])"
   ]
  },
  {
   "cell_type": "code",
   "execution_count": 63,
   "metadata": {},
   "outputs": [
    {
     "data": {
      "text/plain": [
       "array([[[1.51900000e+04, 2.32100000e+03, 2.42500000e+03],\n",
       "        [2.13300000e+03, 1.52810000e+04, 2.68900000e+03],\n",
       "        [2.59400000e+03, 2.64800000e+03, 1.47190000e+04]],\n",
       "\n",
       "       [[7.61938202e-01, 1.16422552e-01, 1.21639246e-01],\n",
       "        [1.06103567e-01, 7.60135303e-01, 1.33761130e-01],\n",
       "        [1.29953409e-01, 1.32658684e-01, 7.37387906e-01]]])"
      ]
     },
     "execution_count": 63,
     "metadata": {},
     "output_type": "execute_result"
    }
   ],
   "source": [
    "cms"
   ]
  },
  {
   "cell_type": "code",
   "execution_count": 68,
   "metadata": {},
   "outputs": [
    {
     "name": "stdout",
     "output_type": "stream",
     "text": [
      "[1.51900000e+04 7.61938202e-01]\n",
      "\n",
      "[2.32100000e+03 1.16422552e-01]\n",
      "\n",
      "[2.42500000e+03 1.21639246e-01]\n",
      "\n",
      "[2.13300000e+03 1.06103567e-01]\n",
      "\n",
      "[1.52810000e+04 7.60135303e-01]\n",
      "\n",
      "[2.6890000e+03 1.3376113e-01]\n",
      "\n",
      "[2.59400000e+03 1.29953409e-01]\n",
      "\n",
      "[2.64800000e+03 1.32658684e-01]\n",
      "\n",
      "[1.47190000e+04 7.37387906e-01]\n",
      "\n"
     ]
    }
   ],
   "source": [
    "for i in range(len(classes)):\n",
    "    for j in range(len(classes)):\n",
    "        print(cms[:,i,j])\n",
    "        print()"
   ]
  },
  {
   "cell_type": "code",
   "execution_count": 76,
   "metadata": {},
   "outputs": [
    {
     "data": {
      "text/plain": [
       "array([2.64800000e+03, 1.32658684e-01])"
      ]
     },
     "execution_count": 76,
     "metadata": {},
     "output_type": "execute_result"
    }
   ],
   "source": [
    "cms[:,2,1]"
   ]
  },
  {
   "cell_type": "code",
   "execution_count": 3,
   "metadata": {},
   "outputs": [],
   "source": [
    "estimator = nml.CBPE(\n",
    "    y_pred_proba={\n",
    "        'prepaid_card': 'y_pred_proba_prepaid_card',\n",
    "        'highstreet_card': 'y_pred_proba_highstreet_card',\n",
    "        'upmarket_card': 'y_pred_proba_upmarket_card'},\n",
    "    y_pred='y_pred',\n",
    "    y_true='y_true',\n",
    "    timestamp_column_name='timestamp',\n",
    "    problem_type='classification_multiclass',\n",
    "    metrics=['roc_auc', 'f1'],\n",
    "    chunk_size=6000,\n",
    ")\n"
   ]
  },
  {
   "cell_type": "code",
   "execution_count": 4,
   "metadata": {},
   "outputs": [
    {
     "data": {
      "text/plain": [
       "<nannyml.performance_estimation.confidence_based.cbpe.CBPE at 0x19a8eed00>"
      ]
     },
     "execution_count": 4,
     "metadata": {},
     "output_type": "execute_result"
    }
   ],
   "source": [
    "estimator.fit(reference_df)\n",
    "\n"
   ]
  },
  {
   "cell_type": "code",
   "execution_count": 5,
   "metadata": {},
   "outputs": [
    {
     "data": {
      "text/html": [
       "<div>\n",
       "<style scoped>\n",
       "    .dataframe tbody tr th:only-of-type {\n",
       "        vertical-align: middle;\n",
       "    }\n",
       "\n",
       "    .dataframe tbody tr th {\n",
       "        vertical-align: top;\n",
       "    }\n",
       "\n",
       "    .dataframe thead tr th {\n",
       "        text-align: left;\n",
       "    }\n",
       "</style>\n",
       "<table border=\"1\" class=\"dataframe\">\n",
       "  <thead>\n",
       "    <tr>\n",
       "      <th></th>\n",
       "      <th colspan=\"7\" halign=\"left\">chunk</th>\n",
       "      <th colspan=\"6\" halign=\"left\">roc_auc</th>\n",
       "      <th colspan=\"8\" halign=\"left\">f1</th>\n",
       "    </tr>\n",
       "    <tr>\n",
       "      <th></th>\n",
       "      <th>key</th>\n",
       "      <th>chunk_index</th>\n",
       "      <th>start_index</th>\n",
       "      <th>end_index</th>\n",
       "      <th>start_date</th>\n",
       "      <th>end_date</th>\n",
       "      <th>period</th>\n",
       "      <th>value</th>\n",
       "      <th>sampling_error</th>\n",
       "      <th>realized</th>\n",
       "      <th>...</th>\n",
       "      <th>lower_threshold</th>\n",
       "      <th>alert</th>\n",
       "      <th>value</th>\n",
       "      <th>sampling_error</th>\n",
       "      <th>realized</th>\n",
       "      <th>upper_confidence_boundary</th>\n",
       "      <th>lower_confidence_boundary</th>\n",
       "      <th>upper_threshold</th>\n",
       "      <th>lower_threshold</th>\n",
       "      <th>alert</th>\n",
       "    </tr>\n",
       "  </thead>\n",
       "  <tbody>\n",
       "    <tr>\n",
       "      <th>0</th>\n",
       "      <td>[0:5999]</td>\n",
       "      <td>0</td>\n",
       "      <td>0</td>\n",
       "      <td>5999</td>\n",
       "      <td>2020-09-01 03:10:01</td>\n",
       "      <td>2020-09-13 16:15:10</td>\n",
       "      <td>analysis</td>\n",
       "      <td>0.907037</td>\n",
       "      <td>0.002143</td>\n",
       "      <td>NaN</td>\n",
       "      <td>...</td>\n",
       "      <td>0.900902</td>\n",
       "      <td>False</td>\n",
       "      <td>0.753301</td>\n",
       "      <td>0.005652</td>\n",
       "      <td>NaN</td>\n",
       "      <td>0.770258</td>\n",
       "      <td>0.736345</td>\n",
       "      <td>0.764944</td>\n",
       "      <td>0.741254</td>\n",
       "      <td>False</td>\n",
       "    </tr>\n",
       "    <tr>\n",
       "      <th>1</th>\n",
       "      <td>[6000:11999]</td>\n",
       "      <td>1</td>\n",
       "      <td>6000</td>\n",
       "      <td>11999</td>\n",
       "      <td>2020-09-13 16:15:32</td>\n",
       "      <td>2020-09-25 19:48:42</td>\n",
       "      <td>analysis</td>\n",
       "      <td>0.909948</td>\n",
       "      <td>0.002143</td>\n",
       "      <td>NaN</td>\n",
       "      <td>...</td>\n",
       "      <td>0.900902</td>\n",
       "      <td>False</td>\n",
       "      <td>0.756422</td>\n",
       "      <td>0.005652</td>\n",
       "      <td>NaN</td>\n",
       "      <td>0.773378</td>\n",
       "      <td>0.739465</td>\n",
       "      <td>0.764944</td>\n",
       "      <td>0.741254</td>\n",
       "      <td>False</td>\n",
       "    </tr>\n",
       "    <tr>\n",
       "      <th>2</th>\n",
       "      <td>[12000:17999]</td>\n",
       "      <td>2</td>\n",
       "      <td>12000</td>\n",
       "      <td>17999</td>\n",
       "      <td>2020-09-25 19:50:04</td>\n",
       "      <td>2020-10-08 02:53:47</td>\n",
       "      <td>analysis</td>\n",
       "      <td>0.909958</td>\n",
       "      <td>0.002143</td>\n",
       "      <td>NaN</td>\n",
       "      <td>...</td>\n",
       "      <td>0.900902</td>\n",
       "      <td>False</td>\n",
       "      <td>0.758166</td>\n",
       "      <td>0.005652</td>\n",
       "      <td>NaN</td>\n",
       "      <td>0.775122</td>\n",
       "      <td>0.741209</td>\n",
       "      <td>0.764944</td>\n",
       "      <td>0.741254</td>\n",
       "      <td>False</td>\n",
       "    </tr>\n",
       "    <tr>\n",
       "      <th>3</th>\n",
       "      <td>[18000:23999]</td>\n",
       "      <td>3</td>\n",
       "      <td>18000</td>\n",
       "      <td>23999</td>\n",
       "      <td>2020-10-08 02:57:34</td>\n",
       "      <td>2020-10-20 15:48:19</td>\n",
       "      <td>analysis</td>\n",
       "      <td>0.909105</td>\n",
       "      <td>0.002143</td>\n",
       "      <td>NaN</td>\n",
       "      <td>...</td>\n",
       "      <td>0.900902</td>\n",
       "      <td>False</td>\n",
       "      <td>0.756557</td>\n",
       "      <td>0.005652</td>\n",
       "      <td>NaN</td>\n",
       "      <td>0.773514</td>\n",
       "      <td>0.739601</td>\n",
       "      <td>0.764944</td>\n",
       "      <td>0.741254</td>\n",
       "      <td>False</td>\n",
       "    </tr>\n",
       "    <tr>\n",
       "      <th>4</th>\n",
       "      <td>[24000:29999]</td>\n",
       "      <td>4</td>\n",
       "      <td>24000</td>\n",
       "      <td>29999</td>\n",
       "      <td>2020-10-20 15:49:06</td>\n",
       "      <td>2020-11-01 22:04:40</td>\n",
       "      <td>analysis</td>\n",
       "      <td>0.907189</td>\n",
       "      <td>0.002143</td>\n",
       "      <td>NaN</td>\n",
       "      <td>...</td>\n",
       "      <td>0.900902</td>\n",
       "      <td>False</td>\n",
       "      <td>0.753618</td>\n",
       "      <td>0.005652</td>\n",
       "      <td>NaN</td>\n",
       "      <td>0.770575</td>\n",
       "      <td>0.736661</td>\n",
       "      <td>0.764944</td>\n",
       "      <td>0.741254</td>\n",
       "      <td>False</td>\n",
       "    </tr>\n",
       "    <tr>\n",
       "      <th>5</th>\n",
       "      <td>[30000:35999]</td>\n",
       "      <td>5</td>\n",
       "      <td>30000</td>\n",
       "      <td>35999</td>\n",
       "      <td>2020-11-01 22:04:59</td>\n",
       "      <td>2020-11-14 03:55:33</td>\n",
       "      <td>analysis</td>\n",
       "      <td>0.819515</td>\n",
       "      <td>0.002143</td>\n",
       "      <td>NaN</td>\n",
       "      <td>...</td>\n",
       "      <td>0.900902</td>\n",
       "      <td>True</td>\n",
       "      <td>0.630985</td>\n",
       "      <td>0.005652</td>\n",
       "      <td>NaN</td>\n",
       "      <td>0.647941</td>\n",
       "      <td>0.614028</td>\n",
       "      <td>0.764944</td>\n",
       "      <td>0.741254</td>\n",
       "      <td>True</td>\n",
       "    </tr>\n",
       "    <tr>\n",
       "      <th>6</th>\n",
       "      <td>[36000:41999]</td>\n",
       "      <td>6</td>\n",
       "      <td>36000</td>\n",
       "      <td>41999</td>\n",
       "      <td>2020-11-14 03:55:49</td>\n",
       "      <td>2020-11-26 09:19:06</td>\n",
       "      <td>analysis</td>\n",
       "      <td>0.820257</td>\n",
       "      <td>0.002143</td>\n",
       "      <td>NaN</td>\n",
       "      <td>...</td>\n",
       "      <td>0.900902</td>\n",
       "      <td>True</td>\n",
       "      <td>0.631482</td>\n",
       "      <td>0.005652</td>\n",
       "      <td>NaN</td>\n",
       "      <td>0.648439</td>\n",
       "      <td>0.614525</td>\n",
       "      <td>0.764944</td>\n",
       "      <td>0.741254</td>\n",
       "      <td>True</td>\n",
       "    </tr>\n",
       "    <tr>\n",
       "      <th>7</th>\n",
       "      <td>[42000:47999]</td>\n",
       "      <td>7</td>\n",
       "      <td>42000</td>\n",
       "      <td>47999</td>\n",
       "      <td>2020-11-26 09:19:22</td>\n",
       "      <td>2020-12-08 14:33:56</td>\n",
       "      <td>analysis</td>\n",
       "      <td>0.819127</td>\n",
       "      <td>0.002143</td>\n",
       "      <td>NaN</td>\n",
       "      <td>...</td>\n",
       "      <td>0.900902</td>\n",
       "      <td>True</td>\n",
       "      <td>0.630552</td>\n",
       "      <td>0.005652</td>\n",
       "      <td>NaN</td>\n",
       "      <td>0.647509</td>\n",
       "      <td>0.613595</td>\n",
       "      <td>0.764944</td>\n",
       "      <td>0.741254</td>\n",
       "      <td>True</td>\n",
       "    </tr>\n",
       "    <tr>\n",
       "      <th>8</th>\n",
       "      <td>[48000:53999]</td>\n",
       "      <td>8</td>\n",
       "      <td>48000</td>\n",
       "      <td>53999</td>\n",
       "      <td>2020-12-08 14:34:25</td>\n",
       "      <td>2020-12-20 18:30:30</td>\n",
       "      <td>analysis</td>\n",
       "      <td>0.819406</td>\n",
       "      <td>0.002143</td>\n",
       "      <td>NaN</td>\n",
       "      <td>...</td>\n",
       "      <td>0.900902</td>\n",
       "      <td>True</td>\n",
       "      <td>0.631736</td>\n",
       "      <td>0.005652</td>\n",
       "      <td>NaN</td>\n",
       "      <td>0.648692</td>\n",
       "      <td>0.614779</td>\n",
       "      <td>0.764944</td>\n",
       "      <td>0.741254</td>\n",
       "      <td>True</td>\n",
       "    </tr>\n",
       "    <tr>\n",
       "      <th>9</th>\n",
       "      <td>[54000:59999]</td>\n",
       "      <td>9</td>\n",
       "      <td>54000</td>\n",
       "      <td>59999</td>\n",
       "      <td>2020-12-20 18:31:09</td>\n",
       "      <td>2021-01-01 22:57:55</td>\n",
       "      <td>analysis</td>\n",
       "      <td>0.821584</td>\n",
       "      <td>0.002143</td>\n",
       "      <td>NaN</td>\n",
       "      <td>...</td>\n",
       "      <td>0.900902</td>\n",
       "      <td>True</td>\n",
       "      <td>0.633443</td>\n",
       "      <td>0.005652</td>\n",
       "      <td>NaN</td>\n",
       "      <td>0.650400</td>\n",
       "      <td>0.616487</td>\n",
       "      <td>0.764944</td>\n",
       "      <td>0.741254</td>\n",
       "      <td>True</td>\n",
       "    </tr>\n",
       "  </tbody>\n",
       "</table>\n",
       "<p>10 rows × 23 columns</p>\n",
       "</div>"
      ],
      "text/plain": [
       "           chunk                                                        \\\n",
       "             key chunk_index start_index end_index          start_date   \n",
       "0       [0:5999]           0           0      5999 2020-09-01 03:10:01   \n",
       "1   [6000:11999]           1        6000     11999 2020-09-13 16:15:32   \n",
       "2  [12000:17999]           2       12000     17999 2020-09-25 19:50:04   \n",
       "3  [18000:23999]           3       18000     23999 2020-10-08 02:57:34   \n",
       "4  [24000:29999]           4       24000     29999 2020-10-20 15:49:06   \n",
       "5  [30000:35999]           5       30000     35999 2020-11-01 22:04:59   \n",
       "6  [36000:41999]           6       36000     41999 2020-11-14 03:55:49   \n",
       "7  [42000:47999]           7       42000     47999 2020-11-26 09:19:22   \n",
       "8  [48000:53999]           8       48000     53999 2020-12-08 14:34:25   \n",
       "9  [54000:59999]           9       54000     59999 2020-12-20 18:31:09   \n",
       "\n",
       "                                  roc_auc                          ...  \\\n",
       "             end_date    period     value sampling_error realized  ...   \n",
       "0 2020-09-13 16:15:10  analysis  0.907037       0.002143      NaN  ...   \n",
       "1 2020-09-25 19:48:42  analysis  0.909948       0.002143      NaN  ...   \n",
       "2 2020-10-08 02:53:47  analysis  0.909958       0.002143      NaN  ...   \n",
       "3 2020-10-20 15:48:19  analysis  0.909105       0.002143      NaN  ...   \n",
       "4 2020-11-01 22:04:40  analysis  0.907189       0.002143      NaN  ...   \n",
       "5 2020-11-14 03:55:33  analysis  0.819515       0.002143      NaN  ...   \n",
       "6 2020-11-26 09:19:06  analysis  0.820257       0.002143      NaN  ...   \n",
       "7 2020-12-08 14:33:56  analysis  0.819127       0.002143      NaN  ...   \n",
       "8 2020-12-20 18:30:30  analysis  0.819406       0.002143      NaN  ...   \n",
       "9 2021-01-01 22:57:55  analysis  0.821584       0.002143      NaN  ...   \n",
       "\n",
       "                                f1                          \\\n",
       "  lower_threshold  alert     value sampling_error realized   \n",
       "0        0.900902  False  0.753301       0.005652      NaN   \n",
       "1        0.900902  False  0.756422       0.005652      NaN   \n",
       "2        0.900902  False  0.758166       0.005652      NaN   \n",
       "3        0.900902  False  0.756557       0.005652      NaN   \n",
       "4        0.900902  False  0.753618       0.005652      NaN   \n",
       "5        0.900902   True  0.630985       0.005652      NaN   \n",
       "6        0.900902   True  0.631482       0.005652      NaN   \n",
       "7        0.900902   True  0.630552       0.005652      NaN   \n",
       "8        0.900902   True  0.631736       0.005652      NaN   \n",
       "9        0.900902   True  0.633443       0.005652      NaN   \n",
       "\n",
       "                                                                       \\\n",
       "  upper_confidence_boundary lower_confidence_boundary upper_threshold   \n",
       "0                  0.770258                  0.736345        0.764944   \n",
       "1                  0.773378                  0.739465        0.764944   \n",
       "2                  0.775122                  0.741209        0.764944   \n",
       "3                  0.773514                  0.739601        0.764944   \n",
       "4                  0.770575                  0.736661        0.764944   \n",
       "5                  0.647941                  0.614028        0.764944   \n",
       "6                  0.648439                  0.614525        0.764944   \n",
       "7                  0.647509                  0.613595        0.764944   \n",
       "8                  0.648692                  0.614779        0.764944   \n",
       "9                  0.650400                  0.616487        0.764944   \n",
       "\n",
       "                          \n",
       "  lower_threshold  alert  \n",
       "0        0.741254  False  \n",
       "1        0.741254  False  \n",
       "2        0.741254  False  \n",
       "3        0.741254  False  \n",
       "4        0.741254  False  \n",
       "5        0.741254   True  \n",
       "6        0.741254   True  \n",
       "7        0.741254   True  \n",
       "8        0.741254   True  \n",
       "9        0.741254   True  \n",
       "\n",
       "[10 rows x 23 columns]"
      ]
     },
     "metadata": {},
     "output_type": "display_data"
    }
   ],
   "source": [
    "results = estimator.estimate(analysis_df)\n",
    "display(results.filter(period='analysis').to_df())\n"
   ]
  },
  {
   "cell_type": "code",
   "execution_count": 6,
   "metadata": {},
   "outputs": [
    {
     "data": {
      "application/vnd.plotly.v1+json": {
       "config": {
        "plotlyServerURL": "https://plot.ly"
       },
       "data": [
        {
         "hoverinfo": "skip",
         "legendgroup": "metric_reference",
         "line": {
          "color": "#00c8e5",
          "shape": "hv",
          "width": 2
         },
         "mode": "lines",
         "name": "Metric (reference)",
         "showlegend": true,
         "type": "scatter",
         "x": [
          "2020-05-02T02:01:30",
          "2020-05-14T12:29:25",
          "2020-05-26T18:31:06",
          "2020-06-07T19:58:39",
          "2020-06-19T19:44:14",
          "2020-07-02T02:06:56",
          "2020-07-14T08:14:08",
          "2020-07-26T12:57:37",
          "2020-08-07T16:33:44",
          "2020-08-20T00:07:58",
          "2020-09-01T03:03:23"
         ],
         "xaxis": "x",
         "y": [
          0.9058636581380703,
          0.9079492167704517,
          0.9077922114248539,
          0.9070892472766868,
          0.9081469605191353,
          0.9068422763956373,
          0.9074437215116623,
          0.9086465784377835,
          0.9073512293816952,
          0.9062280813443647,
          0.9062280813443647
         ],
         "yaxis": "y"
        },
        {
         "customdata": [
          [
           "Estimated <b>ROC AUC</b>",
           "<b style=\"color:#00c8e5;line-height:60px\">Reference</b>",
           "",
           "[0:5999]",
           "From <b>May-02-2020</b> to <b>May-14-2020</b>",
           0.9059,
           0.0064
          ],
          [
           "Estimated <b>ROC AUC</b>",
           "<b style=\"color:#00c8e5;line-height:60px\">Reference</b>",
           "",
           "[6000:11999]",
           "From <b>May-14-2020</b> to <b>May-26-2020</b>",
           0.9079,
           0.0064
          ],
          [
           "Estimated <b>ROC AUC</b>",
           "<b style=\"color:#00c8e5;line-height:60px\">Reference</b>",
           "",
           "[12000:17999]",
           "From <b>May-26-2020</b> to <b>Jun-07-2020</b>",
           0.9078,
           0.0064
          ],
          [
           "Estimated <b>ROC AUC</b>",
           "<b style=\"color:#00c8e5;line-height:60px\">Reference</b>",
           "",
           "[18000:23999]",
           "From <b>Jun-07-2020</b> to <b>Jun-19-2020</b>",
           0.9071,
           0.0064
          ],
          [
           "Estimated <b>ROC AUC</b>",
           "<b style=\"color:#00c8e5;line-height:60px\">Reference</b>",
           "",
           "[24000:29999]",
           "From <b>Jun-19-2020</b> to <b>Jul-02-2020</b>",
           0.9081,
           0.0064
          ],
          [
           "Estimated <b>ROC AUC</b>",
           "<b style=\"color:#00c8e5;line-height:60px\">Reference</b>",
           "",
           "[30000:35999]",
           "From <b>Jul-02-2020</b> to <b>Jul-14-2020</b>",
           0.9068,
           0.0064
          ],
          [
           "Estimated <b>ROC AUC</b>",
           "<b style=\"color:#00c8e5;line-height:60px\">Reference</b>",
           "",
           "[36000:41999]",
           "From <b>Jul-14-2020</b> to <b>Jul-26-2020</b>",
           0.9074,
           0.0064
          ],
          [
           "Estimated <b>ROC AUC</b>",
           "<b style=\"color:#00c8e5;line-height:60px\">Reference</b>",
           "",
           "[42000:47999]",
           "From <b>Jul-26-2020</b> to <b>Aug-07-2020</b>",
           0.9086,
           0.0064
          ],
          [
           "Estimated <b>ROC AUC</b>",
           "<b style=\"color:#00c8e5;line-height:60px\">Reference</b>",
           "",
           "[48000:53999]",
           "From <b>Aug-07-2020</b> to <b>Aug-20-2020</b>",
           0.9074,
           0.0064
          ],
          [
           "Estimated <b>ROC AUC</b>",
           "<b style=\"color:#00c8e5;line-height:60px\">Reference</b>",
           "",
           "[54000:59999]",
           "From <b>Aug-20-2020</b> to <b>Sep-01-2020</b>",
           0.9062,
           0.0064
          ]
         ],
         "hovertemplate": "%{customdata[1]} &nbsp; &nbsp; %{customdata[2]} <br />Chunk: <b>%{customdata[3]}</b> &nbsp; &nbsp; %{customdata[4]} <br />%{customdata[0]}: <b>%{customdata[5]}</b><br />Confidence band: +/- <b>%{customdata[6]}</b><br /><extra></extra>",
         "legendgroup": "metric_reference",
         "marker": {
          "color": "#00c8e5",
          "size": 5,
          "symbol": "circle"
         },
         "mode": "markers",
         "name": "Metric (reference)",
         "showlegend": false,
         "type": "scatter",
         "x": [
          "2020-05-08T07:15:27.500000",
          "2020-05-20T15:30:15.500000",
          "2020-06-01T19:14:52.500000",
          "2020-06-13T19:51:26.500000",
          "2020-06-25T22:55:35",
          "2020-07-08T05:10:32",
          "2020-07-20T10:35:52.500000",
          "2020-08-01T14:45:40.500000",
          "2020-08-13T20:20:51",
          "2020-08-26T01:35:40.500000"
         ],
         "xaxis": "x",
         "y": [
          0.9058636581380703,
          0.9079492167704517,
          0.9077922114248539,
          0.9070892472766868,
          0.9081469605191353,
          0.9068422763956373,
          0.9074437215116623,
          0.9086465784377835,
          0.9073512293816952,
          0.9062280813443647,
          0.9062280813443647
         ],
         "yaxis": "y"
        },
        {
         "hoverinfo": "skip",
         "legendgroup": "metric_analysis",
         "line": {
          "color": "#3b0280",
          "shape": "hv",
          "width": 2
         },
         "mode": "lines",
         "name": "Metric (analysis)",
         "showlegend": true,
         "type": "scatter",
         "x": [
          "2020-09-01T03:10:01",
          "2020-09-13T16:15:32",
          "2020-09-25T19:50:04",
          "2020-10-08T02:57:34",
          "2020-10-20T15:49:06",
          "2020-11-01T22:04:59",
          "2020-11-14T03:55:49",
          "2020-11-26T09:19:22",
          "2020-12-08T14:34:25",
          "2020-12-20T18:31:09",
          "2021-01-01T22:57:55"
         ],
         "xaxis": "x",
         "y": [
          0.9070370295881952,
          0.9099482873688786,
          0.909958298321231,
          0.9091054631936624,
          0.9071886074481345,
          0.8195150939735344,
          0.8202573402661897,
          0.819127271546289,
          0.81940620684774,
          0.8215839856335078,
          0.8215839856335078
         ],
         "yaxis": "y"
        },
        {
         "customdata": [
          [
           "Estimated <b>ROC AUC</b>",
           "<b style=\"color:#3b0280;line-height:60px\">Analysis</b>",
           "",
           "[0:5999]",
           "From <b>Sep-01-2020</b> to <b>Sep-13-2020</b>",
           0.907,
           0.0064
          ],
          [
           "Estimated <b>ROC AUC</b>",
           "<b style=\"color:#3b0280;line-height:60px\">Analysis</b>",
           "",
           "[6000:11999]",
           "From <b>Sep-13-2020</b> to <b>Sep-25-2020</b>",
           0.9099,
           0.0064
          ],
          [
           "Estimated <b>ROC AUC</b>",
           "<b style=\"color:#3b0280;line-height:60px\">Analysis</b>",
           "",
           "[12000:17999]",
           "From <b>Sep-25-2020</b> to <b>Oct-08-2020</b>",
           0.91,
           0.0064
          ],
          [
           "Estimated <b>ROC AUC</b>",
           "<b style=\"color:#3b0280;line-height:60px\">Analysis</b>",
           "",
           "[18000:23999]",
           "From <b>Oct-08-2020</b> to <b>Oct-20-2020</b>",
           0.9091,
           0.0064
          ],
          [
           "Estimated <b>ROC AUC</b>",
           "<b style=\"color:#3b0280;line-height:60px\">Analysis</b>",
           "",
           "[24000:29999]",
           "From <b>Oct-20-2020</b> to <b>Nov-01-2020</b>",
           0.9072,
           0.0064
          ],
          [
           "Estimated <b>ROC AUC</b>",
           "<b style=\"color:#3b0280;line-height:60px\">Analysis</b>",
           "<span style=\"color:#AD0000\">⚠ <b>Drift detected</b></span>",
           "[30000:35999]",
           "From <b>Nov-01-2020</b> to <b>Nov-14-2020</b>",
           0.8195,
           0.0064
          ],
          [
           "Estimated <b>ROC AUC</b>",
           "<b style=\"color:#3b0280;line-height:60px\">Analysis</b>",
           "<span style=\"color:#AD0000\">⚠ <b>Drift detected</b></span>",
           "[36000:41999]",
           "From <b>Nov-14-2020</b> to <b>Nov-26-2020</b>",
           0.8203,
           0.0064
          ],
          [
           "Estimated <b>ROC AUC</b>",
           "<b style=\"color:#3b0280;line-height:60px\">Analysis</b>",
           "<span style=\"color:#AD0000\">⚠ <b>Drift detected</b></span>",
           "[42000:47999]",
           "From <b>Nov-26-2020</b> to <b>Dec-08-2020</b>",
           0.8191,
           0.0064
          ],
          [
           "Estimated <b>ROC AUC</b>",
           "<b style=\"color:#3b0280;line-height:60px\">Analysis</b>",
           "<span style=\"color:#AD0000\">⚠ <b>Drift detected</b></span>",
           "[48000:53999]",
           "From <b>Dec-08-2020</b> to <b>Dec-20-2020</b>",
           0.8194,
           0.0064
          ],
          [
           "Estimated <b>ROC AUC</b>",
           "<b style=\"color:#3b0280;line-height:60px\">Analysis</b>",
           "<span style=\"color:#AD0000\">⚠ <b>Drift detected</b></span>",
           "[54000:59999]",
           "From <b>Dec-20-2020</b> to <b>Jan-01-2021</b>",
           0.8216,
           0.0064
          ]
         ],
         "hovertemplate": "%{customdata[1]} &nbsp; &nbsp; %{customdata[2]} <br />Chunk: <b>%{customdata[3]}</b> &nbsp; &nbsp; %{customdata[4]} <br />%{customdata[0]}: <b>%{customdata[5]}</b><br />Confidence band: +/- <b>%{customdata[6]}</b><br /><extra></extra>",
         "legendgroup": "metric_analysis",
         "marker": {
          "color": "#3b0280",
          "size": 5,
          "symbol": "circle"
         },
         "mode": "markers",
         "name": "Metric (analysis)",
         "showlegend": false,
         "type": "scatter",
         "x": [
          "2020-09-07T09:42:46.500000",
          "2020-09-19T18:02:48",
          "2020-10-01T23:23:49",
          "2020-10-14T09:23:20",
          "2020-10-26T18:57:02.500000",
          "2020-11-08T01:00:24",
          "2020-11-20T06:37:35.500000",
          "2020-12-02T11:56:53.500000",
          "2020-12-14T16:32:47",
          "2020-12-26T20:44:32"
         ],
         "xaxis": "x",
         "y": [
          0.9070370295881952,
          0.9099482873688786,
          0.909958298321231,
          0.9091054631936624,
          0.9071886074481345,
          0.8195150939735344,
          0.8202573402661897,
          0.819127271546289,
          0.81940620684774,
          0.8215839856335078,
          0.8215839856335078
         ],
         "yaxis": "y"
        },
        {
         "hoverinfo": "skip",
         "legendgroup": "alert",
         "marker": {
          "color": "#DD4040",
          "size": 8,
          "symbol": "diamond"
         },
         "mode": "markers",
         "name": "Alert",
         "showlegend": true,
         "type": "scatter",
         "x": [
          "2020-11-08T01:00:24",
          "2020-11-20T06:37:35.500000",
          "2020-12-02T11:56:53.500000",
          "2020-12-14T16:32:47",
          "2020-12-26T20:44:32"
         ],
         "xaxis": "x",
         "y": [
          0.8195150939735344,
          0.8202573402661897,
          0.819127271546289,
          0.81940620684774,
          0.8215839856335078
         ],
         "yaxis": "y"
        },
        {
         "hoverinfo": "skip",
         "legendgroup": "thresh",
         "line": {
          "color": "#DD4040",
          "dash": "dash",
          "width": 2
         },
         "mode": "lines",
         "name": "Threshold",
         "showlegend": true,
         "type": "scatter",
         "x": [
          "2020-05-02T02:01:30",
          "2020-05-14T12:29:25",
          "2020-05-26T18:31:06",
          "2020-06-07T19:58:39",
          "2020-06-19T19:44:14",
          "2020-07-02T02:06:56",
          "2020-07-14T08:14:08",
          "2020-07-26T12:57:37",
          "2020-08-07T16:33:44",
          "2020-08-20T00:07:58",
          "2020-09-01T03:03:23"
         ],
         "xaxis": "x",
         "y": [
          0.9135156728918074,
          0.9135156728918074,
          0.9135156728918074,
          0.9135156728918074,
          0.9135156728918074,
          0.9135156728918074,
          0.9135156728918074,
          0.9135156728918074,
          0.9135156728918074,
          0.9135156728918074,
          0.9135156728918074
         ],
         "yaxis": "y"
        },
        {
         "hoverinfo": "skip",
         "legendgroup": "thresh",
         "line": {
          "color": "#DD4040",
          "dash": "dash",
          "width": 2
         },
         "mode": "lines",
         "name": "Threshold",
         "showlegend": false,
         "type": "scatter",
         "x": [
          "2020-05-02T02:01:30",
          "2020-05-14T12:29:25",
          "2020-05-26T18:31:06",
          "2020-06-07T19:58:39",
          "2020-06-19T19:44:14",
          "2020-07-02T02:06:56",
          "2020-07-14T08:14:08",
          "2020-07-26T12:57:37",
          "2020-08-07T16:33:44",
          "2020-08-20T00:07:58",
          "2020-09-01T03:03:23"
         ],
         "xaxis": "x",
         "y": [
          0.900902260737325,
          0.900902260737325,
          0.900902260737325,
          0.900902260737325,
          0.900902260737325,
          0.900902260737325,
          0.900902260737325,
          0.900902260737325,
          0.900902260737325,
          0.900902260737325,
          0.900902260737325
         ],
         "yaxis": "y"
        },
        {
         "hoverinfo": "skip",
         "legendgroup": "thresh",
         "line": {
          "color": "#DD4040",
          "dash": "dash",
          "width": 2
         },
         "mode": "lines",
         "name": "Threshold",
         "showlegend": false,
         "type": "scatter",
         "x": [
          "2020-09-01T03:10:01",
          "2020-09-13T16:15:32",
          "2020-09-25T19:50:04",
          "2020-10-08T02:57:34",
          "2020-10-20T15:49:06",
          "2020-11-01T22:04:59",
          "2020-11-14T03:55:49",
          "2020-11-26T09:19:22",
          "2020-12-08T14:34:25",
          "2020-12-20T18:31:09",
          "2021-01-01T22:57:55"
         ],
         "xaxis": "x",
         "y": [
          0.9135156728918074,
          0.9135156728918074,
          0.9135156728918074,
          0.9135156728918074,
          0.9135156728918074,
          0.9135156728918074,
          0.9135156728918074,
          0.9135156728918074,
          0.9135156728918074,
          0.9135156728918074,
          0.9135156728918074
         ],
         "yaxis": "y"
        },
        {
         "hoverinfo": "skip",
         "legendgroup": "thresh",
         "line": {
          "color": "#DD4040",
          "dash": "dash",
          "width": 2
         },
         "mode": "lines",
         "name": "Threshold",
         "showlegend": false,
         "type": "scatter",
         "x": [
          "2020-09-01T03:10:01",
          "2020-09-13T16:15:32",
          "2020-09-25T19:50:04",
          "2020-10-08T02:57:34",
          "2020-10-20T15:49:06",
          "2020-11-01T22:04:59",
          "2020-11-14T03:55:49",
          "2020-11-26T09:19:22",
          "2020-12-08T14:34:25",
          "2020-12-20T18:31:09",
          "2021-01-01T22:57:55"
         ],
         "xaxis": "x",
         "y": [
          0.900902260737325,
          0.900902260737325,
          0.900902260737325,
          0.900902260737325,
          0.900902260737325,
          0.900902260737325,
          0.900902260737325,
          0.900902260737325,
          0.900902260737325,
          0.900902260737325,
          0.900902260737325
         ],
         "yaxis": "y"
        },
        {
         "hoverinfo": "skip",
         "line": {
          "color": "rgba(0,0,0,0)",
          "shape": "hv"
         },
         "mode": "lines",
         "name": "Sampling error (reference)",
         "showlegend": false,
         "type": "scatter",
         "x": [
          "2020-05-02T02:01:30",
          "2020-05-14T12:29:25",
          "2020-05-26T18:31:06",
          "2020-06-07T19:58:39",
          "2020-06-19T19:44:14",
          "2020-07-02T02:06:56",
          "2020-07-14T08:14:08",
          "2020-07-26T12:57:37",
          "2020-08-07T16:33:44",
          "2020-08-20T00:07:58",
          "2020-09-01T03:03:23"
         ],
         "xaxis": "x",
         "y": [
          0.9122931960690613,
          0.9143787547014427,
          0.9142217493558449,
          0.9135187852076778,
          0.9145764984501263,
          0.9132718143266283,
          0.9138732594426533,
          0.9150761163687745,
          0.9137807673126862,
          0.9126576192753557,
          0.9126576192753557
         ],
         "yaxis": "y"
        },
        {
         "fill": "tonexty",
         "fillcolor": "rgba(0.0, 0.7843137254901961, 0.8980392156862745, 0.2)",
         "hoverinfo": "skip",
         "line": {
          "color": "rgba(0,0,0,0)",
          "shape": "hv"
         },
         "mode": "lines",
         "name": "Sampling error (reference)",
         "showlegend": true,
         "type": "scatter",
         "x": [
          "2020-05-02T02:01:30",
          "2020-05-14T12:29:25",
          "2020-05-26T18:31:06",
          "2020-06-07T19:58:39",
          "2020-06-19T19:44:14",
          "2020-07-02T02:06:56",
          "2020-07-14T08:14:08",
          "2020-07-26T12:57:37",
          "2020-08-07T16:33:44",
          "2020-08-20T00:07:58",
          "2020-09-01T03:03:23"
         ],
         "xaxis": "x",
         "y": [
          0.8994341202070794,
          0.9015196788394607,
          0.9013626734938629,
          0.9006597093456958,
          0.9017174225881444,
          0.9004127384646463,
          0.9010141835806713,
          0.9022170405067925,
          0.9009216914507042,
          0.8997985434133737,
          0.8997985434133737
         ],
         "yaxis": "y"
        },
        {
         "hoverinfo": "skip",
         "line": {
          "color": "rgba(0,0,0,0)",
          "shape": "hv"
         },
         "mode": "lines",
         "name": "Sampling error (analysis)",
         "showlegend": false,
         "type": "scatter",
         "x": [
          "2020-09-01T03:10:01",
          "2020-09-13T16:15:32",
          "2020-09-25T19:50:04",
          "2020-10-08T02:57:34",
          "2020-10-20T15:49:06",
          "2020-11-01T22:04:59",
          "2020-11-14T03:55:49",
          "2020-11-26T09:19:22",
          "2020-12-08T14:34:25",
          "2020-12-20T18:31:09",
          "2021-01-01T22:57:55"
         ],
         "xaxis": "x",
         "y": [
          0.9134665675191862,
          0.9163778252998696,
          0.916387836252222,
          0.9155350011246534,
          0.9136181453791254,
          0.8259446319045254,
          0.8266868781971807,
          0.8255568094772799,
          0.825835744778731,
          0.8280135235644988,
          0.8280135235644988
         ],
         "yaxis": "y"
        },
        {
         "fill": "tonexty",
         "fillcolor": "rgba(0.23137254901960785, 0.00784313725490196, 0.5019607843137255, 0.2)",
         "hoverinfo": "skip",
         "line": {
          "color": "rgba(0,0,0,0)",
          "shape": "hv"
         },
         "mode": "lines",
         "name": "Sampling error (analysis)",
         "showlegend": true,
         "type": "scatter",
         "x": [
          "2020-09-01T03:10:01",
          "2020-09-13T16:15:32",
          "2020-09-25T19:50:04",
          "2020-10-08T02:57:34",
          "2020-10-20T15:49:06",
          "2020-11-01T22:04:59",
          "2020-11-14T03:55:49",
          "2020-11-26T09:19:22",
          "2020-12-08T14:34:25",
          "2020-12-20T18:31:09",
          "2021-01-01T22:57:55"
         ],
         "xaxis": "x",
         "y": [
          0.9006074916572042,
          0.9035187494378876,
          0.90352876039024,
          0.9026759252626714,
          0.9007590695171435,
          0.8130855560425434,
          0.8138278023351987,
          0.812697733615298,
          0.812976668916749,
          0.8151544477025168,
          0.8151544477025168
         ],
         "yaxis": "y"
        },
        {
         "hoverinfo": "skip",
         "legendgroup": "metric_reference",
         "line": {
          "color": "#00c8e5",
          "shape": "hv",
          "width": 2
         },
         "mode": "lines",
         "name": "Metric (reference)",
         "showlegend": false,
         "type": "scatter",
         "x": [
          "2020-05-02T02:01:30",
          "2020-05-14T12:29:25",
          "2020-05-26T18:31:06",
          "2020-06-07T19:58:39",
          "2020-06-19T19:44:14",
          "2020-07-02T02:06:56",
          "2020-07-14T08:14:08",
          "2020-07-26T12:57:37",
          "2020-08-07T16:33:44",
          "2020-08-20T00:07:58",
          "2020-09-01T03:03:23"
         ],
         "xaxis": "x2",
         "y": [
          0.7506046467875417,
          0.7543356974381096,
          0.7542958398280343,
          0.7514493887330117,
          0.7543537901074969,
          0.7524087428558547,
          0.7530658402733558,
          0.7556974385375684,
          0.7517216123539979,
          0.7502188139467451,
          0.7502188139467451
         ],
         "yaxis": "y2"
        },
        {
         "customdata": [
          [
           "Estimated <b>F1</b>",
           "<b style=\"color:#00c8e5;line-height:60px\">Reference</b>",
           "",
           "[0:5999]",
           "From <b>May-02-2020</b> to <b>May-14-2020</b>",
           0.7506,
           0.017
          ],
          [
           "Estimated <b>F1</b>",
           "<b style=\"color:#00c8e5;line-height:60px\">Reference</b>",
           "",
           "[6000:11999]",
           "From <b>May-14-2020</b> to <b>May-26-2020</b>",
           0.7543,
           0.017
          ],
          [
           "Estimated <b>F1</b>",
           "<b style=\"color:#00c8e5;line-height:60px\">Reference</b>",
           "",
           "[12000:17999]",
           "From <b>May-26-2020</b> to <b>Jun-07-2020</b>",
           0.7543,
           0.017
          ],
          [
           "Estimated <b>F1</b>",
           "<b style=\"color:#00c8e5;line-height:60px\">Reference</b>",
           "",
           "[18000:23999]",
           "From <b>Jun-07-2020</b> to <b>Jun-19-2020</b>",
           0.7514,
           0.017
          ],
          [
           "Estimated <b>F1</b>",
           "<b style=\"color:#00c8e5;line-height:60px\">Reference</b>",
           "",
           "[24000:29999]",
           "From <b>Jun-19-2020</b> to <b>Jul-02-2020</b>",
           0.7544,
           0.017
          ],
          [
           "Estimated <b>F1</b>",
           "<b style=\"color:#00c8e5;line-height:60px\">Reference</b>",
           "",
           "[30000:35999]",
           "From <b>Jul-02-2020</b> to <b>Jul-14-2020</b>",
           0.7524,
           0.017
          ],
          [
           "Estimated <b>F1</b>",
           "<b style=\"color:#00c8e5;line-height:60px\">Reference</b>",
           "",
           "[36000:41999]",
           "From <b>Jul-14-2020</b> to <b>Jul-26-2020</b>",
           0.7531,
           0.017
          ],
          [
           "Estimated <b>F1</b>",
           "<b style=\"color:#00c8e5;line-height:60px\">Reference</b>",
           "",
           "[42000:47999]",
           "From <b>Jul-26-2020</b> to <b>Aug-07-2020</b>",
           0.7557,
           0.017
          ],
          [
           "Estimated <b>F1</b>",
           "<b style=\"color:#00c8e5;line-height:60px\">Reference</b>",
           "",
           "[48000:53999]",
           "From <b>Aug-07-2020</b> to <b>Aug-20-2020</b>",
           0.7517,
           0.017
          ],
          [
           "Estimated <b>F1</b>",
           "<b style=\"color:#00c8e5;line-height:60px\">Reference</b>",
           "",
           "[54000:59999]",
           "From <b>Aug-20-2020</b> to <b>Sep-01-2020</b>",
           0.7502,
           0.017
          ]
         ],
         "hovertemplate": "%{customdata[1]} &nbsp; &nbsp; %{customdata[2]} <br />Chunk: <b>%{customdata[3]}</b> &nbsp; &nbsp; %{customdata[4]} <br />%{customdata[0]}: <b>%{customdata[5]}</b><br />Confidence band: +/- <b>%{customdata[6]}</b><br /><extra></extra>",
         "legendgroup": "metric_reference",
         "marker": {
          "color": "#00c8e5",
          "size": 5,
          "symbol": "circle"
         },
         "mode": "markers",
         "name": "Metric (reference)",
         "showlegend": false,
         "type": "scatter",
         "x": [
          "2020-05-08T07:15:27.500000",
          "2020-05-20T15:30:15.500000",
          "2020-06-01T19:14:52.500000",
          "2020-06-13T19:51:26.500000",
          "2020-06-25T22:55:35",
          "2020-07-08T05:10:32",
          "2020-07-20T10:35:52.500000",
          "2020-08-01T14:45:40.500000",
          "2020-08-13T20:20:51",
          "2020-08-26T01:35:40.500000"
         ],
         "xaxis": "x2",
         "y": [
          0.7506046467875417,
          0.7543356974381096,
          0.7542958398280343,
          0.7514493887330117,
          0.7543537901074969,
          0.7524087428558547,
          0.7530658402733558,
          0.7556974385375684,
          0.7517216123539979,
          0.7502188139467451,
          0.7502188139467451
         ],
         "yaxis": "y2"
        },
        {
         "hoverinfo": "skip",
         "legendgroup": "metric_analysis",
         "line": {
          "color": "#3b0280",
          "shape": "hv",
          "width": 2
         },
         "mode": "lines",
         "name": "Metric (analysis)",
         "showlegend": false,
         "type": "scatter",
         "x": [
          "2020-09-01T03:10:01",
          "2020-09-13T16:15:32",
          "2020-09-25T19:50:04",
          "2020-10-08T02:57:34",
          "2020-10-20T15:49:06",
          "2020-11-01T22:04:59",
          "2020-11-14T03:55:49",
          "2020-11-26T09:19:22",
          "2020-12-08T14:34:25",
          "2020-12-20T18:31:09",
          "2021-01-01T22:57:55"
         ],
         "xaxis": "x2",
         "y": [
          0.7533014808638749,
          0.7564216285126095,
          0.7581655498090148,
          0.7565574256686872,
          0.7536178781761181,
          0.6309845876312757,
          0.6314817817562323,
          0.6305520915509012,
          0.6317356567785939,
          0.6334434546737131,
          0.6334434546737131
         ],
         "yaxis": "y2"
        },
        {
         "customdata": [
          [
           "Estimated <b>F1</b>",
           "<b style=\"color:#3b0280;line-height:60px\">Analysis</b>",
           "",
           "[0:5999]",
           "From <b>Sep-01-2020</b> to <b>Sep-13-2020</b>",
           0.7533,
           0.017
          ],
          [
           "Estimated <b>F1</b>",
           "<b style=\"color:#3b0280;line-height:60px\">Analysis</b>",
           "",
           "[6000:11999]",
           "From <b>Sep-13-2020</b> to <b>Sep-25-2020</b>",
           0.7564,
           0.017
          ],
          [
           "Estimated <b>F1</b>",
           "<b style=\"color:#3b0280;line-height:60px\">Analysis</b>",
           "",
           "[12000:17999]",
           "From <b>Sep-25-2020</b> to <b>Oct-08-2020</b>",
           0.7582,
           0.017
          ],
          [
           "Estimated <b>F1</b>",
           "<b style=\"color:#3b0280;line-height:60px\">Analysis</b>",
           "",
           "[18000:23999]",
           "From <b>Oct-08-2020</b> to <b>Oct-20-2020</b>",
           0.7566,
           0.017
          ],
          [
           "Estimated <b>F1</b>",
           "<b style=\"color:#3b0280;line-height:60px\">Analysis</b>",
           "",
           "[24000:29999]",
           "From <b>Oct-20-2020</b> to <b>Nov-01-2020</b>",
           0.7536,
           0.017
          ],
          [
           "Estimated <b>F1</b>",
           "<b style=\"color:#3b0280;line-height:60px\">Analysis</b>",
           "<span style=\"color:#AD0000\">⚠ <b>Drift detected</b></span>",
           "[30000:35999]",
           "From <b>Nov-01-2020</b> to <b>Nov-14-2020</b>",
           0.631,
           0.017
          ],
          [
           "Estimated <b>F1</b>",
           "<b style=\"color:#3b0280;line-height:60px\">Analysis</b>",
           "<span style=\"color:#AD0000\">⚠ <b>Drift detected</b></span>",
           "[36000:41999]",
           "From <b>Nov-14-2020</b> to <b>Nov-26-2020</b>",
           0.6315,
           0.017
          ],
          [
           "Estimated <b>F1</b>",
           "<b style=\"color:#3b0280;line-height:60px\">Analysis</b>",
           "<span style=\"color:#AD0000\">⚠ <b>Drift detected</b></span>",
           "[42000:47999]",
           "From <b>Nov-26-2020</b> to <b>Dec-08-2020</b>",
           0.6306,
           0.017
          ],
          [
           "Estimated <b>F1</b>",
           "<b style=\"color:#3b0280;line-height:60px\">Analysis</b>",
           "<span style=\"color:#AD0000\">⚠ <b>Drift detected</b></span>",
           "[48000:53999]",
           "From <b>Dec-08-2020</b> to <b>Dec-20-2020</b>",
           0.6317,
           0.017
          ],
          [
           "Estimated <b>F1</b>",
           "<b style=\"color:#3b0280;line-height:60px\">Analysis</b>",
           "<span style=\"color:#AD0000\">⚠ <b>Drift detected</b></span>",
           "[54000:59999]",
           "From <b>Dec-20-2020</b> to <b>Jan-01-2021</b>",
           0.6334,
           0.017
          ]
         ],
         "hovertemplate": "%{customdata[1]} &nbsp; &nbsp; %{customdata[2]} <br />Chunk: <b>%{customdata[3]}</b> &nbsp; &nbsp; %{customdata[4]} <br />%{customdata[0]}: <b>%{customdata[5]}</b><br />Confidence band: +/- <b>%{customdata[6]}</b><br /><extra></extra>",
         "legendgroup": "metric_analysis",
         "marker": {
          "color": "#3b0280",
          "size": 5,
          "symbol": "circle"
         },
         "mode": "markers",
         "name": "Metric (analysis)",
         "showlegend": false,
         "type": "scatter",
         "x": [
          "2020-09-07T09:42:46.500000",
          "2020-09-19T18:02:48",
          "2020-10-01T23:23:49",
          "2020-10-14T09:23:20",
          "2020-10-26T18:57:02.500000",
          "2020-11-08T01:00:24",
          "2020-11-20T06:37:35.500000",
          "2020-12-02T11:56:53.500000",
          "2020-12-14T16:32:47",
          "2020-12-26T20:44:32"
         ],
         "xaxis": "x2",
         "y": [
          0.7533014808638749,
          0.7564216285126095,
          0.7581655498090148,
          0.7565574256686872,
          0.7536178781761181,
          0.6309845876312757,
          0.6314817817562323,
          0.6305520915509012,
          0.6317356567785939,
          0.6334434546737131,
          0.6334434546737131
         ],
         "yaxis": "y2"
        },
        {
         "hoverinfo": "skip",
         "legendgroup": "alert",
         "marker": {
          "color": "#DD4040",
          "size": 8,
          "symbol": "diamond"
         },
         "mode": "markers",
         "name": "Alert",
         "showlegend": false,
         "type": "scatter",
         "x": [
          "2020-11-08T01:00:24",
          "2020-11-20T06:37:35.500000",
          "2020-12-02T11:56:53.500000",
          "2020-12-14T16:32:47",
          "2020-12-26T20:44:32"
         ],
         "xaxis": "x2",
         "y": [
          0.6309845876312757,
          0.6314817817562323,
          0.6305520915509012,
          0.6317356567785939,
          0.6334434546737131
         ],
         "yaxis": "y2"
        },
        {
         "hoverinfo": "skip",
         "legendgroup": "thresh",
         "line": {
          "color": "#DD4040",
          "dash": "dash",
          "width": 2
         },
         "mode": "lines",
         "name": "Threshold",
         "showlegend": false,
         "type": "scatter",
         "x": [
          "2020-05-02T02:01:30",
          "2020-05-14T12:29:25",
          "2020-05-26T18:31:06",
          "2020-06-07T19:58:39",
          "2020-06-19T19:44:14",
          "2020-07-02T02:06:56",
          "2020-07-14T08:14:08",
          "2020-07-26T12:57:37",
          "2020-08-07T16:33:44",
          "2020-08-20T00:07:58",
          "2020-09-01T03:03:23"
         ],
         "xaxis": "x2",
         "y": [
          0.7649438592270994,
          0.7649438592270994,
          0.7649438592270994,
          0.7649438592270994,
          0.7649438592270994,
          0.7649438592270994,
          0.7649438592270994,
          0.7649438592270994,
          0.7649438592270994,
          0.7649438592270994,
          0.7649438592270994
         ],
         "yaxis": "y2"
        },
        {
         "hoverinfo": "skip",
         "legendgroup": "thresh",
         "line": {
          "color": "#DD4040",
          "dash": "dash",
          "width": 2
         },
         "mode": "lines",
         "name": "Threshold",
         "showlegend": false,
         "type": "scatter",
         "x": [
          "2020-05-02T02:01:30",
          "2020-05-14T12:29:25",
          "2020-05-26T18:31:06",
          "2020-06-07T19:58:39",
          "2020-06-19T19:44:14",
          "2020-07-02T02:06:56",
          "2020-07-14T08:14:08",
          "2020-07-26T12:57:37",
          "2020-08-07T16:33:44",
          "2020-08-20T00:07:58",
          "2020-09-01T03:03:23"
         ],
         "xaxis": "x2",
         "y": [
          0.741253919065521,
          0.741253919065521,
          0.741253919065521,
          0.741253919065521,
          0.741253919065521,
          0.741253919065521,
          0.741253919065521,
          0.741253919065521,
          0.741253919065521,
          0.741253919065521,
          0.741253919065521
         ],
         "yaxis": "y2"
        },
        {
         "hoverinfo": "skip",
         "legendgroup": "thresh",
         "line": {
          "color": "#DD4040",
          "dash": "dash",
          "width": 2
         },
         "mode": "lines",
         "name": "Threshold",
         "showlegend": false,
         "type": "scatter",
         "x": [
          "2020-09-01T03:10:01",
          "2020-09-13T16:15:32",
          "2020-09-25T19:50:04",
          "2020-10-08T02:57:34",
          "2020-10-20T15:49:06",
          "2020-11-01T22:04:59",
          "2020-11-14T03:55:49",
          "2020-11-26T09:19:22",
          "2020-12-08T14:34:25",
          "2020-12-20T18:31:09",
          "2021-01-01T22:57:55"
         ],
         "xaxis": "x2",
         "y": [
          0.7649438592270994,
          0.7649438592270994,
          0.7649438592270994,
          0.7649438592270994,
          0.7649438592270994,
          0.7649438592270994,
          0.7649438592270994,
          0.7649438592270994,
          0.7649438592270994,
          0.7649438592270994,
          0.7649438592270994
         ],
         "yaxis": "y2"
        },
        {
         "hoverinfo": "skip",
         "legendgroup": "thresh",
         "line": {
          "color": "#DD4040",
          "dash": "dash",
          "width": 2
         },
         "mode": "lines",
         "name": "Threshold",
         "showlegend": false,
         "type": "scatter",
         "x": [
          "2020-09-01T03:10:01",
          "2020-09-13T16:15:32",
          "2020-09-25T19:50:04",
          "2020-10-08T02:57:34",
          "2020-10-20T15:49:06",
          "2020-11-01T22:04:59",
          "2020-11-14T03:55:49",
          "2020-11-26T09:19:22",
          "2020-12-08T14:34:25",
          "2020-12-20T18:31:09",
          "2021-01-01T22:57:55"
         ],
         "xaxis": "x2",
         "y": [
          0.741253919065521,
          0.741253919065521,
          0.741253919065521,
          0.741253919065521,
          0.741253919065521,
          0.741253919065521,
          0.741253919065521,
          0.741253919065521,
          0.741253919065521,
          0.741253919065521,
          0.741253919065521
         ],
         "yaxis": "y2"
        },
        {
         "hoverinfo": "skip",
         "line": {
          "color": "rgba(0,0,0,0)",
          "shape": "hv"
         },
         "mode": "lines",
         "name": "Sampling error (reference)",
         "showlegend": false,
         "type": "scatter",
         "x": [
          "2020-05-02T02:01:30",
          "2020-05-14T12:29:25",
          "2020-05-26T18:31:06",
          "2020-06-07T19:58:39",
          "2020-06-19T19:44:14",
          "2020-07-02T02:06:56",
          "2020-07-14T08:14:08",
          "2020-07-26T12:57:37",
          "2020-08-07T16:33:44",
          "2020-08-20T00:07:58",
          "2020-09-01T03:03:23"
         ],
         "xaxis": "x2",
         "y": [
          0.7675614717781729,
          0.7712925224287408,
          0.7712526648186655,
          0.7684062137236429,
          0.7713106150981281,
          0.7693655678464859,
          0.770022665263987,
          0.7726542635281997,
          0.7686784373446292,
          0.7671756389373763,
          0.7671756389373763
         ],
         "yaxis": "y2"
        },
        {
         "fill": "tonexty",
         "fillcolor": "rgba(0.0, 0.7843137254901961, 0.8980392156862745, 0.2)",
         "hoverinfo": "skip",
         "line": {
          "color": "rgba(0,0,0,0)",
          "shape": "hv"
         },
         "mode": "lines",
         "name": "Sampling error (reference)",
         "showlegend": false,
         "type": "scatter",
         "x": [
          "2020-05-02T02:01:30",
          "2020-05-14T12:29:25",
          "2020-05-26T18:31:06",
          "2020-06-07T19:58:39",
          "2020-06-19T19:44:14",
          "2020-07-02T02:06:56",
          "2020-07-14T08:14:08",
          "2020-07-26T12:57:37",
          "2020-08-07T16:33:44",
          "2020-08-20T00:07:58",
          "2020-09-01T03:03:23"
         ],
         "xaxis": "x2",
         "y": [
          0.7336478217969105,
          0.7373788724474784,
          0.737339014837403,
          0.7344925637423805,
          0.7373969651168657,
          0.7354519178652235,
          0.7361090152827245,
          0.7387406135469372,
          0.7347647873633667,
          0.7332619889561138,
          0.7332619889561138
         ],
         "yaxis": "y2"
        },
        {
         "hoverinfo": "skip",
         "line": {
          "color": "rgba(0,0,0,0)",
          "shape": "hv"
         },
         "mode": "lines",
         "name": "Sampling error (analysis)",
         "showlegend": false,
         "type": "scatter",
         "x": [
          "2020-09-01T03:10:01",
          "2020-09-13T16:15:32",
          "2020-09-25T19:50:04",
          "2020-10-08T02:57:34",
          "2020-10-20T15:49:06",
          "2020-11-01T22:04:59",
          "2020-11-14T03:55:49",
          "2020-11-26T09:19:22",
          "2020-12-08T14:34:25",
          "2020-12-20T18:31:09",
          "2021-01-01T22:57:55"
         ],
         "xaxis": "x2",
         "y": [
          0.7702583058545062,
          0.7733784535032407,
          0.7751223747996461,
          0.7735142506593184,
          0.7705747031667494,
          0.647941412621907,
          0.6484386067468635,
          0.6475089165415324,
          0.6486924817692251,
          0.6504002796643443,
          0.6504002796643443
         ],
         "yaxis": "y2"
        },
        {
         "fill": "tonexty",
         "fillcolor": "rgba(0.23137254901960785, 0.00784313725490196, 0.5019607843137255, 0.2)",
         "hoverinfo": "skip",
         "line": {
          "color": "rgba(0,0,0,0)",
          "shape": "hv"
         },
         "mode": "lines",
         "name": "Sampling error (analysis)",
         "showlegend": false,
         "type": "scatter",
         "x": [
          "2020-09-01T03:10:01",
          "2020-09-13T16:15:32",
          "2020-09-25T19:50:04",
          "2020-10-08T02:57:34",
          "2020-10-20T15:49:06",
          "2020-11-01T22:04:59",
          "2020-11-14T03:55:49",
          "2020-11-26T09:19:22",
          "2020-12-08T14:34:25",
          "2020-12-20T18:31:09",
          "2021-01-01T22:57:55"
         ],
         "xaxis": "x2",
         "y": [
          0.7363446558732437,
          0.7394648035219783,
          0.7412087248183836,
          0.739600600678056,
          0.7366610531854869,
          0.6140277626406445,
          0.614524956765601,
          0.61359526656027,
          0.6147788317879627,
          0.6164866296830819,
          0.6164866296830819
         ],
         "yaxis": "y2"
        }
       ],
       "layout": {
        "annotations": [
         {
          "font": {
           "size": 16
          },
          "showarrow": false,
          "text": "Estimated <b>ROC AUC</b>",
          "x": 0.5,
          "xanchor": "center",
          "xref": "paper",
          "y": 1,
          "yanchor": "bottom",
          "yref": "paper"
         },
         {
          "font": {
           "size": 16
          },
          "showarrow": false,
          "text": "Estimated <b>F1</b>",
          "x": 0.5,
          "xanchor": "center",
          "xref": "paper",
          "y": 0.375,
          "yanchor": "bottom",
          "yref": "paper"
         }
        ],
        "height": 1000,
        "hoverlabel": {
         "bgcolor": "white",
         "font": {
          "size": 14
         }
        },
        "legend": {
         "itemclick": false,
         "itemdoubleclick": false,
         "traceorder": "grouped"
        },
        "paper_bgcolor": "rgba(255,255,255,1)",
        "plot_bgcolor": "rgba(255,255,255,1)",
        "shapes": [
         {
          "layer": "below",
          "line": {
           "color": "#666666",
           "width": 1
          },
          "type": "line",
          "x0": "2020-09-01T03:10:01",
          "x1": "2020-09-01T03:10:01",
          "xref": "x",
          "y0": 0,
          "y1": 1,
          "yref": "y domain"
         },
         {
          "layer": "below",
          "line": {
           "color": "#666666",
           "width": 1
          },
          "type": "line",
          "x0": "2020-09-01T03:10:01",
          "x1": "2020-09-01T03:10:01",
          "xref": "x2",
          "y0": 0,
          "y1": 1,
          "yref": "y2 domain"
         }
        ],
        "template": {
         "data": {
          "bar": [
           {
            "error_x": {
             "color": "#2a3f5f"
            },
            "error_y": {
             "color": "#2a3f5f"
            },
            "marker": {
             "line": {
              "color": "#E5ECF6",
              "width": 0.5
             },
             "pattern": {
              "fillmode": "overlay",
              "size": 10,
              "solidity": 0.2
             }
            },
            "type": "bar"
           }
          ],
          "barpolar": [
           {
            "marker": {
             "line": {
              "color": "#E5ECF6",
              "width": 0.5
             },
             "pattern": {
              "fillmode": "overlay",
              "size": 10,
              "solidity": 0.2
             }
            },
            "type": "barpolar"
           }
          ],
          "carpet": [
           {
            "aaxis": {
             "endlinecolor": "#2a3f5f",
             "gridcolor": "white",
             "linecolor": "white",
             "minorgridcolor": "white",
             "startlinecolor": "#2a3f5f"
            },
            "baxis": {
             "endlinecolor": "#2a3f5f",
             "gridcolor": "white",
             "linecolor": "white",
             "minorgridcolor": "white",
             "startlinecolor": "#2a3f5f"
            },
            "type": "carpet"
           }
          ],
          "choropleth": [
           {
            "colorbar": {
             "outlinewidth": 0,
             "ticks": ""
            },
            "type": "choropleth"
           }
          ],
          "contour": [
           {
            "colorbar": {
             "outlinewidth": 0,
             "ticks": ""
            },
            "colorscale": [
             [
              0,
              "#0d0887"
             ],
             [
              0.1111111111111111,
              "#46039f"
             ],
             [
              0.2222222222222222,
              "#7201a8"
             ],
             [
              0.3333333333333333,
              "#9c179e"
             ],
             [
              0.4444444444444444,
              "#bd3786"
             ],
             [
              0.5555555555555556,
              "#d8576b"
             ],
             [
              0.6666666666666666,
              "#ed7953"
             ],
             [
              0.7777777777777778,
              "#fb9f3a"
             ],
             [
              0.8888888888888888,
              "#fdca26"
             ],
             [
              1,
              "#f0f921"
             ]
            ],
            "type": "contour"
           }
          ],
          "contourcarpet": [
           {
            "colorbar": {
             "outlinewidth": 0,
             "ticks": ""
            },
            "type": "contourcarpet"
           }
          ],
          "heatmap": [
           {
            "colorbar": {
             "outlinewidth": 0,
             "ticks": ""
            },
            "colorscale": [
             [
              0,
              "#0d0887"
             ],
             [
              0.1111111111111111,
              "#46039f"
             ],
             [
              0.2222222222222222,
              "#7201a8"
             ],
             [
              0.3333333333333333,
              "#9c179e"
             ],
             [
              0.4444444444444444,
              "#bd3786"
             ],
             [
              0.5555555555555556,
              "#d8576b"
             ],
             [
              0.6666666666666666,
              "#ed7953"
             ],
             [
              0.7777777777777778,
              "#fb9f3a"
             ],
             [
              0.8888888888888888,
              "#fdca26"
             ],
             [
              1,
              "#f0f921"
             ]
            ],
            "type": "heatmap"
           }
          ],
          "heatmapgl": [
           {
            "colorbar": {
             "outlinewidth": 0,
             "ticks": ""
            },
            "colorscale": [
             [
              0,
              "#0d0887"
             ],
             [
              0.1111111111111111,
              "#46039f"
             ],
             [
              0.2222222222222222,
              "#7201a8"
             ],
             [
              0.3333333333333333,
              "#9c179e"
             ],
             [
              0.4444444444444444,
              "#bd3786"
             ],
             [
              0.5555555555555556,
              "#d8576b"
             ],
             [
              0.6666666666666666,
              "#ed7953"
             ],
             [
              0.7777777777777778,
              "#fb9f3a"
             ],
             [
              0.8888888888888888,
              "#fdca26"
             ],
             [
              1,
              "#f0f921"
             ]
            ],
            "type": "heatmapgl"
           }
          ],
          "histogram": [
           {
            "marker": {
             "pattern": {
              "fillmode": "overlay",
              "size": 10,
              "solidity": 0.2
             }
            },
            "type": "histogram"
           }
          ],
          "histogram2d": [
           {
            "colorbar": {
             "outlinewidth": 0,
             "ticks": ""
            },
            "colorscale": [
             [
              0,
              "#0d0887"
             ],
             [
              0.1111111111111111,
              "#46039f"
             ],
             [
              0.2222222222222222,
              "#7201a8"
             ],
             [
              0.3333333333333333,
              "#9c179e"
             ],
             [
              0.4444444444444444,
              "#bd3786"
             ],
             [
              0.5555555555555556,
              "#d8576b"
             ],
             [
              0.6666666666666666,
              "#ed7953"
             ],
             [
              0.7777777777777778,
              "#fb9f3a"
             ],
             [
              0.8888888888888888,
              "#fdca26"
             ],
             [
              1,
              "#f0f921"
             ]
            ],
            "type": "histogram2d"
           }
          ],
          "histogram2dcontour": [
           {
            "colorbar": {
             "outlinewidth": 0,
             "ticks": ""
            },
            "colorscale": [
             [
              0,
              "#0d0887"
             ],
             [
              0.1111111111111111,
              "#46039f"
             ],
             [
              0.2222222222222222,
              "#7201a8"
             ],
             [
              0.3333333333333333,
              "#9c179e"
             ],
             [
              0.4444444444444444,
              "#bd3786"
             ],
             [
              0.5555555555555556,
              "#d8576b"
             ],
             [
              0.6666666666666666,
              "#ed7953"
             ],
             [
              0.7777777777777778,
              "#fb9f3a"
             ],
             [
              0.8888888888888888,
              "#fdca26"
             ],
             [
              1,
              "#f0f921"
             ]
            ],
            "type": "histogram2dcontour"
           }
          ],
          "mesh3d": [
           {
            "colorbar": {
             "outlinewidth": 0,
             "ticks": ""
            },
            "type": "mesh3d"
           }
          ],
          "parcoords": [
           {
            "line": {
             "colorbar": {
              "outlinewidth": 0,
              "ticks": ""
             }
            },
            "type": "parcoords"
           }
          ],
          "pie": [
           {
            "automargin": true,
            "type": "pie"
           }
          ],
          "scatter": [
           {
            "fillpattern": {
             "fillmode": "overlay",
             "size": 10,
             "solidity": 0.2
            },
            "type": "scatter"
           }
          ],
          "scatter3d": [
           {
            "line": {
             "colorbar": {
              "outlinewidth": 0,
              "ticks": ""
             }
            },
            "marker": {
             "colorbar": {
              "outlinewidth": 0,
              "ticks": ""
             }
            },
            "type": "scatter3d"
           }
          ],
          "scattercarpet": [
           {
            "marker": {
             "colorbar": {
              "outlinewidth": 0,
              "ticks": ""
             }
            },
            "type": "scattercarpet"
           }
          ],
          "scattergeo": [
           {
            "marker": {
             "colorbar": {
              "outlinewidth": 0,
              "ticks": ""
             }
            },
            "type": "scattergeo"
           }
          ],
          "scattergl": [
           {
            "marker": {
             "colorbar": {
              "outlinewidth": 0,
              "ticks": ""
             }
            },
            "type": "scattergl"
           }
          ],
          "scattermapbox": [
           {
            "marker": {
             "colorbar": {
              "outlinewidth": 0,
              "ticks": ""
             }
            },
            "type": "scattermapbox"
           }
          ],
          "scatterpolar": [
           {
            "marker": {
             "colorbar": {
              "outlinewidth": 0,
              "ticks": ""
             }
            },
            "type": "scatterpolar"
           }
          ],
          "scatterpolargl": [
           {
            "marker": {
             "colorbar": {
              "outlinewidth": 0,
              "ticks": ""
             }
            },
            "type": "scatterpolargl"
           }
          ],
          "scatterternary": [
           {
            "marker": {
             "colorbar": {
              "outlinewidth": 0,
              "ticks": ""
             }
            },
            "type": "scatterternary"
           }
          ],
          "surface": [
           {
            "colorbar": {
             "outlinewidth": 0,
             "ticks": ""
            },
            "colorscale": [
             [
              0,
              "#0d0887"
             ],
             [
              0.1111111111111111,
              "#46039f"
             ],
             [
              0.2222222222222222,
              "#7201a8"
             ],
             [
              0.3333333333333333,
              "#9c179e"
             ],
             [
              0.4444444444444444,
              "#bd3786"
             ],
             [
              0.5555555555555556,
              "#d8576b"
             ],
             [
              0.6666666666666666,
              "#ed7953"
             ],
             [
              0.7777777777777778,
              "#fb9f3a"
             ],
             [
              0.8888888888888888,
              "#fdca26"
             ],
             [
              1,
              "#f0f921"
             ]
            ],
            "type": "surface"
           }
          ],
          "table": [
           {
            "cells": {
             "fill": {
              "color": "#EBF0F8"
             },
             "line": {
              "color": "white"
             }
            },
            "header": {
             "fill": {
              "color": "#C8D4E3"
             },
             "line": {
              "color": "white"
             }
            },
            "type": "table"
           }
          ]
         },
         "layout": {
          "annotationdefaults": {
           "arrowcolor": "#2a3f5f",
           "arrowhead": 0,
           "arrowwidth": 1
          },
          "autotypenumbers": "strict",
          "coloraxis": {
           "colorbar": {
            "outlinewidth": 0,
            "ticks": ""
           }
          },
          "colorscale": {
           "diverging": [
            [
             0,
             "#8e0152"
            ],
            [
             0.1,
             "#c51b7d"
            ],
            [
             0.2,
             "#de77ae"
            ],
            [
             0.3,
             "#f1b6da"
            ],
            [
             0.4,
             "#fde0ef"
            ],
            [
             0.5,
             "#f7f7f7"
            ],
            [
             0.6,
             "#e6f5d0"
            ],
            [
             0.7,
             "#b8e186"
            ],
            [
             0.8,
             "#7fbc41"
            ],
            [
             0.9,
             "#4d9221"
            ],
            [
             1,
             "#276419"
            ]
           ],
           "sequential": [
            [
             0,
             "#0d0887"
            ],
            [
             0.1111111111111111,
             "#46039f"
            ],
            [
             0.2222222222222222,
             "#7201a8"
            ],
            [
             0.3333333333333333,
             "#9c179e"
            ],
            [
             0.4444444444444444,
             "#bd3786"
            ],
            [
             0.5555555555555556,
             "#d8576b"
            ],
            [
             0.6666666666666666,
             "#ed7953"
            ],
            [
             0.7777777777777778,
             "#fb9f3a"
            ],
            [
             0.8888888888888888,
             "#fdca26"
            ],
            [
             1,
             "#f0f921"
            ]
           ],
           "sequentialminus": [
            [
             0,
             "#0d0887"
            ],
            [
             0.1111111111111111,
             "#46039f"
            ],
            [
             0.2222222222222222,
             "#7201a8"
            ],
            [
             0.3333333333333333,
             "#9c179e"
            ],
            [
             0.4444444444444444,
             "#bd3786"
            ],
            [
             0.5555555555555556,
             "#d8576b"
            ],
            [
             0.6666666666666666,
             "#ed7953"
            ],
            [
             0.7777777777777778,
             "#fb9f3a"
            ],
            [
             0.8888888888888888,
             "#fdca26"
            ],
            [
             1,
             "#f0f921"
            ]
           ]
          },
          "colorway": [
           "#636efa",
           "#EF553B",
           "#00cc96",
           "#ab63fa",
           "#FFA15A",
           "#19d3f3",
           "#FF6692",
           "#B6E880",
           "#FF97FF",
           "#FECB52"
          ],
          "font": {
           "color": "#2a3f5f"
          },
          "geo": {
           "bgcolor": "white",
           "lakecolor": "white",
           "landcolor": "#E5ECF6",
           "showlakes": true,
           "showland": true,
           "subunitcolor": "white"
          },
          "hoverlabel": {
           "align": "left"
          },
          "hovermode": "closest",
          "mapbox": {
           "style": "light"
          },
          "paper_bgcolor": "white",
          "plot_bgcolor": "#E5ECF6",
          "polar": {
           "angularaxis": {
            "gridcolor": "white",
            "linecolor": "white",
            "ticks": ""
           },
           "bgcolor": "#E5ECF6",
           "radialaxis": {
            "gridcolor": "white",
            "linecolor": "white",
            "ticks": ""
           }
          },
          "scene": {
           "xaxis": {
            "backgroundcolor": "#E5ECF6",
            "gridcolor": "white",
            "gridwidth": 2,
            "linecolor": "white",
            "showbackground": true,
            "ticks": "",
            "zerolinecolor": "white"
           },
           "yaxis": {
            "backgroundcolor": "#E5ECF6",
            "gridcolor": "white",
            "gridwidth": 2,
            "linecolor": "white",
            "showbackground": true,
            "ticks": "",
            "zerolinecolor": "white"
           },
           "zaxis": {
            "backgroundcolor": "#E5ECF6",
            "gridcolor": "white",
            "gridwidth": 2,
            "linecolor": "white",
            "showbackground": true,
            "ticks": "",
            "zerolinecolor": "white"
           }
          },
          "shapedefaults": {
           "line": {
            "color": "#2a3f5f"
           }
          },
          "ternary": {
           "aaxis": {
            "gridcolor": "white",
            "linecolor": "white",
            "ticks": ""
           },
           "baxis": {
            "gridcolor": "white",
            "linecolor": "white",
            "ticks": ""
           },
           "bgcolor": "#E5ECF6",
           "caxis": {
            "gridcolor": "white",
            "linecolor": "white",
            "ticks": ""
           }
          },
          "title": {
           "x": 0.05
          },
          "xaxis": {
           "automargin": true,
           "gridcolor": "white",
           "linecolor": "white",
           "ticks": "",
           "title": {
            "standoff": 15
           },
           "zerolinecolor": "white",
           "zerolinewidth": 2
          },
          "yaxis": {
           "automargin": true,
           "gridcolor": "white",
           "linecolor": "white",
           "ticks": "",
           "title": {
            "standoff": 15
           },
           "zerolinecolor": "white",
           "zerolinewidth": 2
          }
         }
        },
        "title": {
         "text": "Estimated performance <b>(CBPE)</b>"
        },
        "xaxis": {
         "anchor": "y",
         "domain": [
          0,
          1
         ],
         "linecolor": "#3b0280",
         "matches": "x",
         "mirror": true,
         "showgrid": false,
         "showticklabels": true,
         "title": {
          "text": "Time"
         },
         "zeroline": false
        },
        "xaxis2": {
         "anchor": "y2",
         "domain": [
          0,
          1
         ],
         "linecolor": "#3b0280",
         "matches": "x",
         "mirror": true,
         "showgrid": false,
         "showticklabels": true,
         "title": {
          "text": "Time"
         },
         "zeroline": false
        },
        "yaxis": {
         "anchor": "x",
         "domain": [
          0.625,
          1
         ],
         "linecolor": "#3b0280",
         "mirror": true,
         "showgrid": false,
         "title": {
          "text": "ROC AUC"
         },
         "zeroline": false
        },
        "yaxis2": {
         "anchor": "x2",
         "domain": [
          0,
          0.375
         ],
         "linecolor": "#3b0280",
         "mirror": true,
         "showgrid": false,
         "title": {
          "text": "F1"
         },
         "zeroline": false
        }
       }
      }
     },
     "metadata": {},
     "output_type": "display_data"
    }
   ],
   "source": [
    "\n",
    "metric_fig = results.plot()\n",
    "metric_fig.show()"
   ]
  },
  {
   "cell_type": "markdown",
   "metadata": {},
   "source": [
    "# Random"
   ]
  },
  {
   "cell_type": "code",
   "execution_count": 9,
   "metadata": {},
   "outputs": [
    {
     "name": "stdout",
     "output_type": "stream",
     "text": [
      "[[2 0 0]\n",
      " [0 0 1]\n",
      " [1 0 2]]\n",
      "[[0 0 1]\n",
      " [0 2 0]\n",
      " [0 1 2]]\n"
     ]
    }
   ],
   "source": [
    "from sklearn.metrics import confusion_matrix\n",
    "\n",
    "y_true = [\"cat\", \"ant\", \"cat\", \"cat\", \"ant\", \"bird\"]\n",
    "y_pred = [\"ant\", \"ant\", \"cat\", \"cat\", \"ant\", \"cat\"]\n",
    "print(confusion_matrix(y_true, y_pred, labels=[\"ant\", \"bird\", \"cat\"]))\n",
    "print(confusion_matrix(y_true, y_pred, labels=[\"bird\", \"ant\", \"cat\"]))\n",
    "#confusion_matrix(y_true, y_pred)\n"
   ]
  },
  {
   "cell_type": "code",
   "execution_count": 10,
   "metadata": {},
   "outputs": [
    {
     "name": "stdout",
     "output_type": "stream",
     "text": [
      "y_true\n",
      "y_pred\n"
     ]
    }
   ],
   "source": [
    "dict1 = {'y_true':\"a\", 'y_pred':\"a\"}\n",
    "\n",
    "for ent in dict1:\n",
    "    print(ent)"
   ]
  },
  {
   "cell_type": "code",
   "execution_count": 73,
   "metadata": {},
   "outputs": [],
   "source": [
    "# make a list of the keys in the dictionary\n",
    "keys = list(dict1.keys())"
   ]
  },
  {
   "cell_type": "code",
   "execution_count": 74,
   "metadata": {},
   "outputs": [
    {
     "data": {
      "text/plain": [
       "['y_true', 'y_pred']"
      ]
     },
     "execution_count": 74,
     "metadata": {},
     "output_type": "execute_result"
    }
   ],
   "source": [
    "keys"
   ]
  },
  {
   "cell_type": "code",
   "execution_count": 80,
   "metadata": {},
   "outputs": [
    {
     "data": {
      "text/plain": [
       "array([[1, 2, 3],\n",
       "       [4, 5, 6],\n",
       "       [7, 8, 9]])"
      ]
     },
     "execution_count": 80,
     "metadata": {},
     "output_type": "execute_result"
    }
   ],
   "source": [
    "t = np.array([[1,2,3],[4,5,6],[7,8,9]])\n",
    "t"
   ]
  },
  {
   "cell_type": "code",
   "execution_count": 82,
   "metadata": {},
   "outputs": [
    {
     "data": {
      "text/plain": [
       "array([[ 6],\n",
       "       [15],\n",
       "       [24]])"
      ]
     },
     "execution_count": 82,
     "metadata": {},
     "output_type": "execute_result"
    }
   ],
   "source": [
    "d = np.sum(t, axis=1)[:,None]\n",
    "d"
   ]
  },
  {
   "cell_type": "code",
   "execution_count": 83,
   "metadata": {},
   "outputs": [
    {
     "data": {
      "text/plain": [
       "array([[0.16666667, 0.33333333, 0.5       ],\n",
       "       [0.26666667, 0.33333333, 0.4       ],\n",
       "       [0.29166667, 0.33333333, 0.375     ]])"
      ]
     },
     "execution_count": 83,
     "metadata": {},
     "output_type": "execute_result"
    }
   ],
   "source": [
    "t/d"
   ]
  },
  {
   "cell_type": "code",
   "execution_count": 84,
   "metadata": {},
   "outputs": [
    {
     "data": {
      "text/plain": [
       "array([[1.],\n",
       "       [1.],\n",
       "       [1.]])"
      ]
     },
     "execution_count": 84,
     "metadata": {},
     "output_type": "execute_result"
    }
   ],
   "source": [
    "np.sum(t/d, axis=1)[:,None]"
   ]
  },
  {
   "cell_type": "code",
   "execution_count": 86,
   "metadata": {},
   "outputs": [
    {
     "data": {
      "text/plain": [
       "array([[12, 15, 18]])"
      ]
     },
     "execution_count": 86,
     "metadata": {},
     "output_type": "execute_result"
    }
   ],
   "source": [
    "p = np.sum(t, axis=0)[None, :]\n",
    "p"
   ]
  },
  {
   "cell_type": "code",
   "execution_count": 87,
   "metadata": {},
   "outputs": [
    {
     "data": {
      "text/plain": [
       "array([[0.08333333, 0.13333333, 0.16666667],\n",
       "       [0.33333333, 0.33333333, 0.33333333],\n",
       "       [0.58333333, 0.53333333, 0.5       ]])"
      ]
     },
     "execution_count": 87,
     "metadata": {},
     "output_type": "execute_result"
    }
   ],
   "source": [
    "t/p"
   ]
  },
  {
   "cell_type": "code",
   "execution_count": 88,
   "metadata": {},
   "outputs": [
    {
     "data": {
      "text/plain": [
       "array([[1., 1., 1.]])"
      ]
     },
     "execution_count": 88,
     "metadata": {},
     "output_type": "execute_result"
    }
   ],
   "source": [
    "np.sum(t/p, axis=0)[None, :]"
   ]
  },
  {
   "cell_type": "code",
   "execution_count": 91,
   "metadata": {},
   "outputs": [
    {
     "data": {
      "text/plain": [
       "45"
      ]
     },
     "execution_count": 91,
     "metadata": {},
     "output_type": "execute_result"
    }
   ],
   "source": [
    "# find the sum of all of t\n",
    "t_sum = np.sum(t)\n",
    "t_sum"
   ]
  },
  {
   "cell_type": "code",
   "execution_count": 96,
   "metadata": {},
   "outputs": [
    {
     "data": {
      "text/plain": [
       "array([[0.02222222, 0.04444444, 0.06666667],\n",
       "       [0.08888889, 0.11111111, 0.13333333],\n",
       "       [0.15555556, 0.17777778, 0.2       ]])"
      ]
     },
     "execution_count": 96,
     "metadata": {},
     "output_type": "execute_result"
    }
   ],
   "source": [
    "a = t/t_sum\n",
    "a"
   ]
  },
  {
   "cell_type": "code",
   "execution_count": 97,
   "metadata": {},
   "outputs": [
    {
     "data": {
      "text/plain": [
       "array([[0.02222222, 0.04444444, 0.06666667],\n",
       "       [0.08888889, 0.11111111, 0.13333333],\n",
       "       [0.15555556, 0.17777778, 0.2       ]])"
      ]
     },
     "execution_count": 97,
     "metadata": {},
     "output_type": "execute_result"
    }
   ],
   "source": [
    "a/np.sum(a)"
   ]
  },
  {
   "cell_type": "code",
   "execution_count": 98,
   "metadata": {},
   "outputs": [
    {
     "data": {
      "text/plain": [
       "array([[0.02222222, 0.04444444, 0.06666667],\n",
       "       [0.08888889, 0.11111111, 0.13333333],\n",
       "       [0.15555556, 0.17777778, 0.2       ]])"
      ]
     },
     "execution_count": 98,
     "metadata": {},
     "output_type": "execute_result"
    }
   ],
   "source": [
    "a"
   ]
  },
  {
   "cell_type": "code",
   "execution_count": 103,
   "metadata": {},
   "outputs": [],
   "source": [
    "fit_array = ['a', 'b', 'c', 'd']\n",
    "\n",
    "lb = LabelBinarizer()\n",
    "lb.fit(fit_array)\n",
    "\n",
    "ref = lb.transform(['a', 'b', 'c'])\n",
    "\n",
    "ana = lb.transform(['a', 'b', 'b'])"
   ]
  },
  {
   "cell_type": "code",
   "execution_count": 104,
   "metadata": {},
   "outputs": [
    {
     "ename": "ValueError",
     "evalue": "multilabel-indicator is not supported",
     "output_type": "error",
     "traceback": [
      "\u001b[0;31m---------------------------------------------------------------------------\u001b[0m",
      "\u001b[0;31mValueError\u001b[0m                                Traceback (most recent call last)",
      "\u001b[0;32m/var/folders/kj/jqr6r99s1p945h2yplyzrglr0000gn/T/ipykernel_70605/3386768972.py\u001b[0m in \u001b[0;36m<cell line: 1>\u001b[0;34m()\u001b[0m\n\u001b[0;32m----> 1\u001b[0;31m \u001b[0mcm\u001b[0m \u001b[0;34m=\u001b[0m \u001b[0mconfusion_matrix\u001b[0m\u001b[0;34m(\u001b[0m\u001b[0mref\u001b[0m\u001b[0;34m,\u001b[0m \u001b[0mana\u001b[0m\u001b[0;34m)\u001b[0m\u001b[0;34m\u001b[0m\u001b[0;34m\u001b[0m\u001b[0m\n\u001b[0m",
      "\u001b[0;32m~/opt/anaconda3/envs/EMD/lib/python3.9/site-packages/sklearn/metrics/_classification.py\u001b[0m in \u001b[0;36mconfusion_matrix\u001b[0;34m(y_true, y_pred, labels, sample_weight, normalize)\u001b[0m\n\u001b[1;32m    307\u001b[0m     \u001b[0my_type\u001b[0m\u001b[0;34m,\u001b[0m \u001b[0my_true\u001b[0m\u001b[0;34m,\u001b[0m \u001b[0my_pred\u001b[0m \u001b[0;34m=\u001b[0m \u001b[0m_check_targets\u001b[0m\u001b[0;34m(\u001b[0m\u001b[0my_true\u001b[0m\u001b[0;34m,\u001b[0m \u001b[0my_pred\u001b[0m\u001b[0;34m)\u001b[0m\u001b[0;34m\u001b[0m\u001b[0;34m\u001b[0m\u001b[0m\n\u001b[1;32m    308\u001b[0m     \u001b[0;32mif\u001b[0m \u001b[0my_type\u001b[0m \u001b[0;32mnot\u001b[0m \u001b[0;32min\u001b[0m \u001b[0;34m(\u001b[0m\u001b[0;34m\"binary\"\u001b[0m\u001b[0;34m,\u001b[0m \u001b[0;34m\"multiclass\"\u001b[0m\u001b[0;34m)\u001b[0m\u001b[0;34m:\u001b[0m\u001b[0;34m\u001b[0m\u001b[0;34m\u001b[0m\u001b[0m\n\u001b[0;32m--> 309\u001b[0;31m         \u001b[0;32mraise\u001b[0m \u001b[0mValueError\u001b[0m\u001b[0;34m(\u001b[0m\u001b[0;34m\"%s is not supported\"\u001b[0m \u001b[0;34m%\u001b[0m \u001b[0my_type\u001b[0m\u001b[0;34m)\u001b[0m\u001b[0;34m\u001b[0m\u001b[0;34m\u001b[0m\u001b[0m\n\u001b[0m\u001b[1;32m    310\u001b[0m \u001b[0;34m\u001b[0m\u001b[0m\n\u001b[1;32m    311\u001b[0m     \u001b[0;32mif\u001b[0m \u001b[0mlabels\u001b[0m \u001b[0;32mis\u001b[0m \u001b[0;32mNone\u001b[0m\u001b[0;34m:\u001b[0m\u001b[0;34m\u001b[0m\u001b[0;34m\u001b[0m\u001b[0m\n",
      "\u001b[0;31mValueError\u001b[0m: multilabel-indicator is not supported"
     ]
    }
   ],
   "source": []
  },
  {
   "cell_type": "code",
   "execution_count": 105,
   "metadata": {},
   "outputs": [],
   "source": [
    "confusion_matrix = np.array([\n",
    "    [10, 2, 1],\n",
    "    [4, 12, 0],\n",
    "    [3, 1, 15]\n",
    "])"
   ]
  },
  {
   "cell_type": "code",
   "execution_count": 106,
   "metadata": {},
   "outputs": [],
   "source": [
    "n_rows, n_cols = confusion_matrix.shape"
   ]
  },
  {
   "cell_type": "code",
   "execution_count": 107,
   "metadata": {},
   "outputs": [],
   "source": [
    "observation_level_arrays = []"
   ]
  },
  {
   "cell_type": "code",
   "execution_count": 111,
   "metadata": {},
   "outputs": [
    {
     "name": "stdout",
     "output_type": "stream",
     "text": [
      "0\n"
     ]
    }
   ],
   "source": [
    "print(confusion_matrix[1,2])"
   ]
  },
  {
   "cell_type": "code",
   "execution_count": 119,
   "metadata": {},
   "outputs": [
    {
     "data": {
      "text/plain": [
       "array([[0.27083333],\n",
       "       [0.33333333],\n",
       "       [0.39583333]])"
      ]
     },
     "execution_count": 119,
     "metadata": {},
     "output_type": "execute_result"
    }
   ],
   "source": [
    "true_proportions = np.sum(confusion_matrix, axis=1)[:,None]/np.sum(confusion_matrix)\n",
    "true_proportions"
   ]
  },
  {
   "cell_type": "code",
   "execution_count": 129,
   "metadata": {},
   "outputs": [
    {
     "data": {
      "text/plain": [
       "array([[0.35416667, 0.3125    , 0.33333333]])"
      ]
     },
     "execution_count": 129,
     "metadata": {},
     "output_type": "execute_result"
    }
   ],
   "source": [
    "pred_proportions = np.sum(confusion_matrix, axis=0)[None,:]/np.sum(confusion_matrix)\n",
    "pred_proportions"
   ]
  },
  {
   "cell_type": "code",
   "execution_count": 143,
   "metadata": {},
   "outputs": [
    {
     "name": "stdout",
     "output_type": "stream",
     "text": [
      "[[17 15 16]]\n",
      "[[13]\n",
      " [16]\n",
      " [19]]\n",
      "\n",
      "15\n",
      "16\n"
     ]
    }
   ],
   "source": [
    "pred_marginal = np.sum(confusion_matrix, axis=0)[None,:]\n",
    "true_marginal = np.sum(confusion_matrix, axis=1)[:,None]\n",
    "\n",
    "print(pred_marginal)\n",
    "print(true_marginal)\n",
    "print()\n",
    "\n",
    "# get the 2nd value in the pred_marginal array\n",
    "print(pred_marginal[0,1])\n",
    "# get the 2nd value in the true_marginal array\n",
    "print(true_marginal[1,0])"
   ]
  },
  {
   "cell_type": "code",
   "execution_count": 130,
   "metadata": {},
   "outputs": [
    {
     "data": {
      "text/plain": [
       "array([[0.40611643, 0.19982631, 0.14282614],\n",
       "       [0.2763854 , 0.4330127 , 0.        ],\n",
       "       [0.24206146, 0.14282614, 0.46351241]])"
      ]
     },
     "execution_count": 130,
     "metadata": {},
     "output_type": "execute_result"
    }
   ],
   "source": [
    "#intitalize an array called stds witht the same dimensions as the confusion matrix\n",
    "\n",
    "stds = np.zeros((n_rows, n_cols))\n",
    "\n",
    "\n",
    "\n",
    "for i in range(n_rows):\n",
    "    for j in range(n_cols):\n",
    "        # Create an observation level array for each cell\n",
    "        obs_level_array = np.zeros(confusion_matrix.sum(), dtype=int)\n",
    "        end_index = confusion_matrix[i, j]\n",
    "        obs_level_array[0:end_index] = 1\n",
    "\n",
    "        std = np.std(obs_level_array)\n",
    "\n",
    "        stds[i,j] = std\n",
    "\n",
    "\n",
    "stds"
   ]
  },
  {
   "cell_type": "code",
   "execution_count": 122,
   "metadata": {},
   "outputs": [
    {
     "data": {
      "text/plain": [
       "array([[0.05861786, 0.02884244, 0.02061518],\n",
       "       [0.0398928 , 0.0625    , 0.        ],\n",
       "       [0.03493856, 0.02061518, 0.06690225]])"
      ]
     },
     "execution_count": 122,
     "metadata": {},
     "output_type": "execute_result"
    }
   ],
   "source": [
    "pred_normed_SE = stds/np.sqrt(np.sum(confusion_matrix)*pred_proportions)\n",
    "pred_normed_SE"
   ]
  },
  {
   "cell_type": "code",
   "execution_count": 125,
   "metadata": {},
   "outputs": [
    {
     "data": {
      "text/plain": [
       "array([[3.5416667, 3.125    , 3.3333333]])"
      ]
     },
     "execution_count": 125,
     "metadata": {},
     "output_type": "execute_result"
    }
   ],
   "source": [
    "pp = np.array([[0.35416667, 0.3125    , 0.33333333]])\n",
    "10 * pp"
   ]
  },
  {
   "cell_type": "code",
   "execution_count": 126,
   "metadata": {},
   "outputs": [],
   "source": [
    "we = np.array([[10, 20    , 30]])"
   ]
  },
  {
   "cell_type": "code",
   "execution_count": 127,
   "metadata": {},
   "outputs": [],
   "source": [
    "wx = np.array([\n",
    "    [10, 10, 10],\n",
    "    [10, 10, 10],\n",
    "    [10, 10, 10]\n",
    "])"
   ]
  },
  {
   "cell_type": "code",
   "execution_count": 133,
   "metadata": {},
   "outputs": [
    {
     "data": {
      "text/plain": [
       "array([[0.1       , 0.05      , 0.03333333],\n",
       "       [0.1       , 0.05      , 0.03333333],\n",
       "       [0.1       , 0.05      , 0.03333333]])"
      ]
     },
     "execution_count": 133,
     "metadata": {},
     "output_type": "execute_result"
    }
   ],
   "source": [
    "wx/(we*10)"
   ]
  },
  {
   "cell_type": "code",
   "execution_count": 146,
   "metadata": {},
   "outputs": [],
   "source": [
    "x = 'alsl'\n",
    "\n",
    "if x in [None, \"all\"]:\n",
    "    print(\"yes\")"
   ]
  },
  {
   "cell_type": "code",
   "execution_count": 147,
   "metadata": {},
   "outputs": [
    {
     "data": {
      "text/plain": [
       "array([1., 1., 1.])"
      ]
     },
     "execution_count": 147,
     "metadata": {},
     "output_type": "execute_result"
    }
   ],
   "source": [
    "np.ones(3)"
   ]
  },
  {
   "cell_type": "code",
   "execution_count": 148,
   "metadata": {},
   "outputs": [
    {
     "data": {
      "text/plain": [
       "array([[10,  2,  1],\n",
       "       [ 4, 12,  0],\n",
       "       [ 3,  1, 15]])"
      ]
     },
     "execution_count": 148,
     "metadata": {},
     "output_type": "execute_result"
    }
   ],
   "source": [
    "confusion_matrix"
   ]
  },
  {
   "cell_type": "code",
   "execution_count": 149,
   "metadata": {},
   "outputs": [
    {
     "data": {
      "text/plain": [
       "array([[1000,  200,  100],\n",
       "       [ 400, 1200,    0],\n",
       "       [ 300,  100, 1500]])"
      ]
     },
     "execution_count": 149,
     "metadata": {},
     "output_type": "execute_result"
    }
   ],
   "source": [
    "confusion_matrix*100"
   ]
  },
  {
   "cell_type": "code",
   "execution_count": null,
   "metadata": {},
   "outputs": [],
   "source": []
  }
 ],
 "metadata": {
  "kernelspec": {
   "display_name": "EMD",
   "language": "python",
   "name": "python3"
  },
  "language_info": {
   "codemirror_mode": {
    "name": "ipython",
    "version": 3
   },
   "file_extension": ".py",
   "mimetype": "text/x-python",
   "name": "python",
   "nbconvert_exporter": "python",
   "pygments_lexer": "ipython3",
   "version": "3.9.13"
  },
  "orig_nbformat": 4
 },
 "nbformat": 4,
 "nbformat_minor": 2
}
