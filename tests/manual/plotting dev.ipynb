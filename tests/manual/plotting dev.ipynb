{
 "cells": [
  {
   "cell_type": "code",
   "execution_count": null,
   "id": "4f06a587-3909-493d-bd34-7f1ac94438fa",
   "metadata": {},
   "outputs": [],
   "source": [
    "%load_ext autoreload\n",
    "%autoreload 2"
   ]
  },
  {
   "cell_type": "code",
   "execution_count": null,
   "id": "5c305dd0-b94f-4be5-8c40-b5c49cde46a9",
   "metadata": {},
   "outputs": [],
   "source": [
    "import pandas as pd\n",
    "import nannyml as nml\n",
    "from nannyml.plots.drift_plots import DriftPlots"
   ]
  },
  {
   "cell_type": "code",
   "execution_count": null,
   "id": "b5c2cb60-f40f-4dec-bef8-6a6960a843f5",
   "metadata": {},
   "outputs": [],
   "source": [
    "import pprint"
   ]
  },
  {
   "cell_type": "code",
   "execution_count": null,
   "id": "a7d13a79-2860-4430-80dd-27184561c6f2",
   "metadata": {},
   "outputs": [],
   "source": [
    "df_ref, df_ana, df_gt = nml.datasets.load_synthetic_sample()"
   ]
  },
  {
   "cell_type": "code",
   "execution_count": null,
   "id": "a8e603e3-7eaf-42ed-94da-fd40f1fa8d9e",
   "metadata": {},
   "outputs": [],
   "source": [
    "md = nml.extract_metadata(df_ref)\n",
    "md.ground_truth_column_name = 'work_home_actual'"
   ]
  },
  {
   "cell_type": "code",
   "execution_count": null,
   "id": "66bd8ad9-d7c2-47d1-a479-337847de4930",
   "metadata": {},
   "outputs": [],
   "source": [
    "calc = nml.DataReconstructionDriftCalculator(model_metadata=md, chunk_size=5000)\n",
    "calc.fit(reference_data=df_ref)\n",
    "fdata = pd.concat([df_ref, df_ana])\n",
    "drift = calc.calculate(fdata)\n",
    "\n",
    "plots = DriftPlots(calc)\n",
    "\n",
    "fig = plots.plot_data_reconstruction_drift(drift)\n",
    "display(fig.update_layout(height=700))"
   ]
  },
  {
   "cell_type": "code",
   "execution_count": null,
   "id": "6ffc08c2-0fb7-41c8-b723-fdde115032c1",
   "metadata": {},
   "outputs": [],
   "source": [
    "calc = nml.UnivariateStatisticalDriftCalculator(model_metadata=md, chunk_size=5000)\n",
    "calc.fit(reference_data=df_ref)\n",
    "fdata = pd.concat([df_ref, df_ana])\n",
    "drift = calc.calculate(fdata)\n",
    "\n",
    "plots = DriftPlots(calc)\n",
    "\n",
    "fig = plots.plot_univariate_statistical_drift(drift_results=drift, feature_label='tenure')\n",
    "display(fig.update_layout(height=700))\n",
    "\n",
    "fig = plots.plot_univariate_statistical_drift(drift_results=drift, feature_label='distance_from_office')\n",
    "display(fig.update_layout(height=700))"
   ]
  },
  {
   "cell_type": "code",
   "execution_count": null,
   "id": "e82b32e6-8187-456c-b19d-b49bf024bfbc",
   "metadata": {},
   "outputs": [],
   "source": [
    "calc = nml.UnivariateStatisticalDriftCalculator(model_metadata=md, chunk_size=5000)\n",
    "calc.fit(reference_data=df_ref)\n",
    "fdata = pd.concat([df_ref, df_ana])\n",
    "drift = calc.calculate(fdata)\n",
    "\n",
    "plots = DriftPlots(calc)\n",
    "\n",
    "fig = plots.plot_continuous_feature_distribution_over_time(data=fdata, drift_results=drift, feature_label='tenure')\n",
    "display(fig.update_layout(height=700))\n",
    "\n",
    "fig = plots.plot_continuous_feature_distribution_over_time(data=fdata, drift_results=drift, feature_label='distance_from_office')\n",
    "display(fig.update_layout(height=700))"
   ]
  },
  {
   "cell_type": "code",
   "execution_count": null,
   "id": "f1d3d48b-7fad-4b8c-8d43-ccbcf935f32f",
   "metadata": {},
   "outputs": [],
   "source": [
    "calc = nml.UnivariateStatisticalDriftCalculator(model_metadata=md, chunk_size=5000)\n",
    "calc.fit(reference_data=df_ref)\n",
    "fdata = pd.concat([df_ref, df_ana])\n",
    "drift = calc.calculate(fdata)\n",
    "plots = DriftPlots(calc)\n",
    "\n",
    "fig = plots.plot_categorical_feature_distribution_over_time(data=fdata, drift_results=drift, feature_label='workday')\n",
    "display(fig.update_layout(height=700))\n",
    "\n",
    "fig = plots.plot_categorical_feature_distribution_over_time(data=fdata, drift_results=drift, feature_label='wfh_prev_workday')\n",
    "display(fig.update_layout(height=700))"
   ]
  }
 ],
 "metadata": {
  "kernelspec": {
   "display_name": "Python 3 (ipykernel)",
   "language": "python",
   "name": "python3"
  },
  "language_info": {
   "codemirror_mode": {
    "name": "ipython",
    "version": 3
   },
   "file_extension": ".py",
   "mimetype": "text/x-python",
   "name": "python",
   "nbconvert_exporter": "python",
   "pygments_lexer": "ipython3",
   "version": "3.8.8"
  }
 },
 "nbformat": 4,
 "nbformat_minor": 5
}
