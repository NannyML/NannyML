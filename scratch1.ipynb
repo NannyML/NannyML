{
 "cells": [
  {
   "cell_type": "code",
   "execution_count": 1,
   "metadata": {},
   "outputs": [
    {
     "name": "stderr",
     "output_type": "stream",
     "text": [
      "<frozen importlib._bootstrap>:228: RuntimeWarning: scipy._lib.messagestream.MessageStream size changed, may indicate binary incompatibility. Expected 56 from C header, got 64 from PyObject\n"
     ]
    }
   ],
   "source": [
    "import nannyml as nml\n",
    "import numpy as np\n",
    "import matplotlib.pyplot as plt\n",
    "import pandas as pd"
   ]
  },
  {
   "cell_type": "code",
   "execution_count": 2,
   "metadata": {},
   "outputs": [
    {
     "data": {
      "text/html": [
       "<div>\n",
       "<style scoped>\n",
       "    .dataframe tbody tr th:only-of-type {\n",
       "        vertical-align: middle;\n",
       "    }\n",
       "\n",
       "    .dataframe tbody tr th {\n",
       "        vertical-align: top;\n",
       "    }\n",
       "\n",
       "    .dataframe thead th {\n",
       "        text-align: right;\n",
       "    }\n",
       "</style>\n",
       "<table border=\"1\" class=\"dataframe\">\n",
       "  <thead>\n",
       "    <tr style=\"text-align: right;\">\n",
       "      <th></th>\n",
       "      <th>car_value</th>\n",
       "      <th>salary_range</th>\n",
       "      <th>debt_to_income_ratio</th>\n",
       "      <th>loan_length</th>\n",
       "      <th>repaid_loan_on_prev_car</th>\n",
       "      <th>size_of_downpayment</th>\n",
       "      <th>driver_tenure</th>\n",
       "      <th>timestamp</th>\n",
       "      <th>y_pred_proba</th>\n",
       "      <th>y_pred</th>\n",
       "    </tr>\n",
       "  </thead>\n",
       "  <tbody>\n",
       "    <tr>\n",
       "      <th>0</th>\n",
       "      <td>12638.0</td>\n",
       "      <td>0 - 20K €</td>\n",
       "      <td>0.487926</td>\n",
       "      <td>21.0</td>\n",
       "      <td>False</td>\n",
       "      <td>10%</td>\n",
       "      <td>4.224628</td>\n",
       "      <td>2018-10-30 18:00:00.000</td>\n",
       "      <td>0.99</td>\n",
       "      <td>1</td>\n",
       "    </tr>\n",
       "    <tr>\n",
       "      <th>1</th>\n",
       "      <td>52425.0</td>\n",
       "      <td>20K - 20K €</td>\n",
       "      <td>0.672183</td>\n",
       "      <td>20.0</td>\n",
       "      <td>False</td>\n",
       "      <td>40%</td>\n",
       "      <td>4.963103</td>\n",
       "      <td>2018-10-30 18:08:43.152</td>\n",
       "      <td>0.98</td>\n",
       "      <td>1</td>\n",
       "    </tr>\n",
       "    <tr>\n",
       "      <th>2</th>\n",
       "      <td>20369.0</td>\n",
       "      <td>40K - 60K €</td>\n",
       "      <td>0.703090</td>\n",
       "      <td>19.0</td>\n",
       "      <td>True</td>\n",
       "      <td>40%</td>\n",
       "      <td>4.588951</td>\n",
       "      <td>2018-10-30 18:17:26.304</td>\n",
       "      <td>0.98</td>\n",
       "      <td>1</td>\n",
       "    </tr>\n",
       "    <tr>\n",
       "      <th>3</th>\n",
       "      <td>10592.0</td>\n",
       "      <td>20K - 20K €</td>\n",
       "      <td>0.653258</td>\n",
       "      <td>21.0</td>\n",
       "      <td>False</td>\n",
       "      <td>10%</td>\n",
       "      <td>4.711015</td>\n",
       "      <td>2018-10-30 18:26:09.456</td>\n",
       "      <td>0.97</td>\n",
       "      <td>1</td>\n",
       "    </tr>\n",
       "    <tr>\n",
       "      <th>4</th>\n",
       "      <td>33933.0</td>\n",
       "      <td>0 - 20K €</td>\n",
       "      <td>0.722263</td>\n",
       "      <td>18.0</td>\n",
       "      <td>False</td>\n",
       "      <td>0%</td>\n",
       "      <td>0.906738</td>\n",
       "      <td>2018-10-30 18:34:52.608</td>\n",
       "      <td>0.92</td>\n",
       "      <td>1</td>\n",
       "    </tr>\n",
       "  </tbody>\n",
       "</table>\n",
       "</div>"
      ],
      "text/plain": [
       "   car_value salary_range  debt_to_income_ratio  loan_length  \\\n",
       "0    12638.0    0 - 20K €              0.487926         21.0   \n",
       "1    52425.0  20K - 20K €              0.672183         20.0   \n",
       "2    20369.0  40K - 60K €              0.703090         19.0   \n",
       "3    10592.0  20K - 20K €              0.653258         21.0   \n",
       "4    33933.0    0 - 20K €              0.722263         18.0   \n",
       "\n",
       "   repaid_loan_on_prev_car size_of_downpayment  driver_tenure  \\\n",
       "0                    False                 10%       4.224628   \n",
       "1                    False                 40%       4.963103   \n",
       "2                     True                 40%       4.588951   \n",
       "3                    False                 10%       4.711015   \n",
       "4                    False                  0%       0.906738   \n",
       "\n",
       "                 timestamp  y_pred_proba  y_pred  \n",
       "0  2018-10-30 18:00:00.000          0.99       1  \n",
       "1  2018-10-30 18:08:43.152          0.98       1  \n",
       "2  2018-10-30 18:17:26.304          0.98       1  \n",
       "3  2018-10-30 18:26:09.456          0.97       1  \n",
       "4  2018-10-30 18:34:52.608          0.92       1  "
      ]
     },
     "execution_count": 2,
     "metadata": {},
     "output_type": "execute_result"
    }
   ],
   "source": [
    "ref_df, ana_df, targets = nml.load_synthetic_car_loan_dataset()\n",
    "ana_df.head()"
   ]
  },
  {
   "cell_type": "code",
   "execution_count": 3,
   "metadata": {},
   "outputs": [
    {
     "data": {
      "text/html": [
       "<div>\n",
       "<style scoped>\n",
       "    .dataframe tbody tr th:only-of-type {\n",
       "        vertical-align: middle;\n",
       "    }\n",
       "\n",
       "    .dataframe tbody tr th {\n",
       "        vertical-align: top;\n",
       "    }\n",
       "\n",
       "    .dataframe thead th {\n",
       "        text-align: right;\n",
       "    }\n",
       "</style>\n",
       "<table border=\"1\" class=\"dataframe\">\n",
       "  <thead>\n",
       "    <tr style=\"text-align: right;\">\n",
       "      <th></th>\n",
       "      <th>repaid</th>\n",
       "    </tr>\n",
       "  </thead>\n",
       "  <tbody>\n",
       "    <tr>\n",
       "      <th>0</th>\n",
       "      <td>1</td>\n",
       "    </tr>\n",
       "    <tr>\n",
       "      <th>1</th>\n",
       "      <td>1</td>\n",
       "    </tr>\n",
       "    <tr>\n",
       "      <th>2</th>\n",
       "      <td>1</td>\n",
       "    </tr>\n",
       "    <tr>\n",
       "      <th>3</th>\n",
       "      <td>1</td>\n",
       "    </tr>\n",
       "    <tr>\n",
       "      <th>4</th>\n",
       "      <td>1</td>\n",
       "    </tr>\n",
       "  </tbody>\n",
       "</table>\n",
       "</div>"
      ],
      "text/plain": [
       "   repaid\n",
       "0       1\n",
       "1       1\n",
       "2       1\n",
       "3       1\n",
       "4       1"
      ]
     },
     "execution_count": 3,
     "metadata": {},
     "output_type": "execute_result"
    }
   ],
   "source": [
    "targets.head()"
   ]
  },
  {
   "cell_type": "code",
   "execution_count": 4,
   "metadata": {},
   "outputs": [],
   "source": [
    "# merge targets with ana_df on the index\n",
    "full_ana_df = ana_df.merge(targets, left_index=True, right_index=True)\n",
    "\n"
   ]
  },
  {
   "cell_type": "code",
   "execution_count": 5,
   "metadata": {},
   "outputs": [],
   "source": [
    "estimator = nml.CBPE(\n",
    "    y_pred_proba='y_pred_proba',\n",
    "    y_pred='y_pred',\n",
    "    y_true='repaid',\n",
    "    timestamp_column_name='timestamp',\n",
    "    metrics=['business_value'],\n",
    "    chunk_size=5000,\n",
    "    problem_type='classification_binary',\n",
    "    business_value_matrix=[[0, -5], [-10, 10]],\n",
    "    normalize_business_value='per_prediction',\n",
    ")"
   ]
  },
  {
   "cell_type": "code",
   "execution_count": 6,
   "metadata": {},
   "outputs": [
    {
     "data": {
      "text/plain": [
       "<nannyml.performance_estimation.confidence_based.cbpe.CBPE at 0x1a287f280>"
      ]
     },
     "execution_count": 6,
     "metadata": {},
     "output_type": "execute_result"
    }
   ],
   "source": [
    "estimator.fit(ref_df)"
   ]
  },
  {
   "cell_type": "code",
   "execution_count": 7,
   "metadata": {},
   "outputs": [],
   "source": [
    "results = estimator.estimate(full_ana_df)"
   ]
  },
  {
   "cell_type": "code",
   "execution_count": 8,
   "metadata": {},
   "outputs": [
    {
     "data": {
      "text/html": [
       "<div>\n",
       "<style scoped>\n",
       "    .dataframe tbody tr th:only-of-type {\n",
       "        vertical-align: middle;\n",
       "    }\n",
       "\n",
       "    .dataframe tbody tr th {\n",
       "        vertical-align: top;\n",
       "    }\n",
       "\n",
       "    .dataframe thead tr th {\n",
       "        text-align: left;\n",
       "    }\n",
       "</style>\n",
       "<table border=\"1\" class=\"dataframe\">\n",
       "  <thead>\n",
       "    <tr>\n",
       "      <th></th>\n",
       "      <th colspan=\"7\" halign=\"left\">chunk</th>\n",
       "      <th colspan=\"8\" halign=\"left\">business_value</th>\n",
       "    </tr>\n",
       "    <tr>\n",
       "      <th></th>\n",
       "      <th>key</th>\n",
       "      <th>chunk_index</th>\n",
       "      <th>start_index</th>\n",
       "      <th>end_index</th>\n",
       "      <th>start_date</th>\n",
       "      <th>end_date</th>\n",
       "      <th>period</th>\n",
       "      <th>value</th>\n",
       "      <th>sampling_error</th>\n",
       "      <th>realized</th>\n",
       "      <th>upper_confidence_boundary</th>\n",
       "      <th>lower_confidence_boundary</th>\n",
       "      <th>upper_threshold</th>\n",
       "      <th>lower_threshold</th>\n",
       "      <th>alert</th>\n",
       "    </tr>\n",
       "  </thead>\n",
       "  <tbody>\n",
       "    <tr>\n",
       "      <th>0</th>\n",
       "      <td>[0:4999]</td>\n",
       "      <td>0</td>\n",
       "      <td>0</td>\n",
       "      <td>4999</td>\n",
       "      <td>2018-01-01 00:00:00</td>\n",
       "      <td>2018-01-31 06:27:16.848</td>\n",
       "      <td>reference</td>\n",
       "      <td>4.129603</td>\n",
       "      <td>0.081226</td>\n",
       "      <td>4.153</td>\n",
       "      <td>4.373282</td>\n",
       "      <td>3.885924</td>\n",
       "      <td>4.356059</td>\n",
       "      <td>4.008741</td>\n",
       "      <td>False</td>\n",
       "    </tr>\n",
       "    <tr>\n",
       "      <th>1</th>\n",
       "      <td>[5000:9999]</td>\n",
       "      <td>1</td>\n",
       "      <td>5000</td>\n",
       "      <td>9999</td>\n",
       "      <td>2018-01-31 06:36:00</td>\n",
       "      <td>2018-03-02 13:03:16.848</td>\n",
       "      <td>reference</td>\n",
       "      <td>4.097599</td>\n",
       "      <td>0.081226</td>\n",
       "      <td>4.057</td>\n",
       "      <td>4.341278</td>\n",
       "      <td>3.853920</td>\n",
       "      <td>4.356059</td>\n",
       "      <td>4.008741</td>\n",
       "      <td>False</td>\n",
       "    </tr>\n",
       "    <tr>\n",
       "      <th>2</th>\n",
       "      <td>[10000:14999]</td>\n",
       "      <td>2</td>\n",
       "      <td>10000</td>\n",
       "      <td>14999</td>\n",
       "      <td>2018-03-02 13:12:00</td>\n",
       "      <td>2018-04-01 19:39:16.848</td>\n",
       "      <td>reference</td>\n",
       "      <td>4.237903</td>\n",
       "      <td>0.081226</td>\n",
       "      <td>4.271</td>\n",
       "      <td>4.481582</td>\n",
       "      <td>3.994224</td>\n",
       "      <td>4.356059</td>\n",
       "      <td>4.008741</td>\n",
       "      <td>False</td>\n",
       "    </tr>\n",
       "    <tr>\n",
       "      <th>3</th>\n",
       "      <td>[15000:19999]</td>\n",
       "      <td>3</td>\n",
       "      <td>15000</td>\n",
       "      <td>19999</td>\n",
       "      <td>2018-04-01 19:48:00</td>\n",
       "      <td>2018-05-02 02:15:16.848</td>\n",
       "      <td>reference</td>\n",
       "      <td>4.166446</td>\n",
       "      <td>0.081226</td>\n",
       "      <td>4.174</td>\n",
       "      <td>4.410125</td>\n",
       "      <td>3.922768</td>\n",
       "      <td>4.356059</td>\n",
       "      <td>4.008741</td>\n",
       "      <td>False</td>\n",
       "    </tr>\n",
       "    <tr>\n",
       "      <th>4</th>\n",
       "      <td>[20000:24999]</td>\n",
       "      <td>4</td>\n",
       "      <td>20000</td>\n",
       "      <td>24999</td>\n",
       "      <td>2018-05-02 02:24:00</td>\n",
       "      <td>2018-06-01 08:51:16.848</td>\n",
       "      <td>reference</td>\n",
       "      <td>4.224742</td>\n",
       "      <td>0.081226</td>\n",
       "      <td>4.166</td>\n",
       "      <td>4.468421</td>\n",
       "      <td>3.981064</td>\n",
       "      <td>4.356059</td>\n",
       "      <td>4.008741</td>\n",
       "      <td>False</td>\n",
       "    </tr>\n",
       "    <tr>\n",
       "      <th>5</th>\n",
       "      <td>[25000:29999]</td>\n",
       "      <td>5</td>\n",
       "      <td>25000</td>\n",
       "      <td>29999</td>\n",
       "      <td>2018-06-01 09:00:00</td>\n",
       "      <td>2018-07-01 15:27:16.848</td>\n",
       "      <td>reference</td>\n",
       "      <td>4.142789</td>\n",
       "      <td>0.081226</td>\n",
       "      <td>4.135</td>\n",
       "      <td>4.386467</td>\n",
       "      <td>3.899110</td>\n",
       "      <td>4.356059</td>\n",
       "      <td>4.008741</td>\n",
       "      <td>False</td>\n",
       "    </tr>\n",
       "    <tr>\n",
       "      <th>6</th>\n",
       "      <td>[30000:34999]</td>\n",
       "      <td>6</td>\n",
       "      <td>30000</td>\n",
       "      <td>34999</td>\n",
       "      <td>2018-07-01 15:36:00</td>\n",
       "      <td>2018-07-31 22:03:16.848</td>\n",
       "      <td>reference</td>\n",
       "      <td>4.168361</td>\n",
       "      <td>0.081226</td>\n",
       "      <td>4.201</td>\n",
       "      <td>4.412040</td>\n",
       "      <td>3.924682</td>\n",
       "      <td>4.356059</td>\n",
       "      <td>4.008741</td>\n",
       "      <td>False</td>\n",
       "    </tr>\n",
       "    <tr>\n",
       "      <th>7</th>\n",
       "      <td>[35000:39999]</td>\n",
       "      <td>7</td>\n",
       "      <td>35000</td>\n",
       "      <td>39999</td>\n",
       "      <td>2018-07-31 22:12:00</td>\n",
       "      <td>2018-08-31 04:39:16.848</td>\n",
       "      <td>reference</td>\n",
       "      <td>4.249929</td>\n",
       "      <td>0.081226</td>\n",
       "      <td>4.248</td>\n",
       "      <td>4.493608</td>\n",
       "      <td>4.006251</td>\n",
       "      <td>4.356059</td>\n",
       "      <td>4.008741</td>\n",
       "      <td>False</td>\n",
       "    </tr>\n",
       "    <tr>\n",
       "      <th>8</th>\n",
       "      <td>[40000:44999]</td>\n",
       "      <td>8</td>\n",
       "      <td>40000</td>\n",
       "      <td>44999</td>\n",
       "      <td>2018-08-31 04:48:00</td>\n",
       "      <td>2018-09-30 11:15:16.848</td>\n",
       "      <td>reference</td>\n",
       "      <td>4.213318</td>\n",
       "      <td>0.081226</td>\n",
       "      <td>4.223</td>\n",
       "      <td>4.456997</td>\n",
       "      <td>3.969639</td>\n",
       "      <td>4.356059</td>\n",
       "      <td>4.008741</td>\n",
       "      <td>False</td>\n",
       "    </tr>\n",
       "    <tr>\n",
       "      <th>9</th>\n",
       "      <td>[45000:49999]</td>\n",
       "      <td>9</td>\n",
       "      <td>45000</td>\n",
       "      <td>49999</td>\n",
       "      <td>2018-09-30 11:24:00</td>\n",
       "      <td>2018-10-30 17:51:16.848</td>\n",
       "      <td>reference</td>\n",
       "      <td>4.225528</td>\n",
       "      <td>0.081226</td>\n",
       "      <td>4.196</td>\n",
       "      <td>4.469207</td>\n",
       "      <td>3.981849</td>\n",
       "      <td>4.356059</td>\n",
       "      <td>4.008741</td>\n",
       "      <td>False</td>\n",
       "    </tr>\n",
       "    <tr>\n",
       "      <th>10</th>\n",
       "      <td>[0:4999]</td>\n",
       "      <td>0</td>\n",
       "      <td>0</td>\n",
       "      <td>4999</td>\n",
       "      <td>2018-10-30 18:00:00</td>\n",
       "      <td>2018-11-30 00:27:16.848</td>\n",
       "      <td>analysis</td>\n",
       "      <td>4.341751</td>\n",
       "      <td>0.081226</td>\n",
       "      <td>4.343</td>\n",
       "      <td>4.585429</td>\n",
       "      <td>4.098072</td>\n",
       "      <td>4.356059</td>\n",
       "      <td>4.008741</td>\n",
       "      <td>False</td>\n",
       "    </tr>\n",
       "    <tr>\n",
       "      <th>11</th>\n",
       "      <td>[5000:9999]</td>\n",
       "      <td>1</td>\n",
       "      <td>5000</td>\n",
       "      <td>9999</td>\n",
       "      <td>2018-11-30 00:36:00</td>\n",
       "      <td>2018-12-30 07:03:16.848</td>\n",
       "      <td>analysis</td>\n",
       "      <td>4.079441</td>\n",
       "      <td>0.081226</td>\n",
       "      <td>4.066</td>\n",
       "      <td>4.323119</td>\n",
       "      <td>3.835762</td>\n",
       "      <td>4.356059</td>\n",
       "      <td>4.008741</td>\n",
       "      <td>False</td>\n",
       "    </tr>\n",
       "    <tr>\n",
       "      <th>12</th>\n",
       "      <td>[10000:14999]</td>\n",
       "      <td>2</td>\n",
       "      <td>10000</td>\n",
       "      <td>14999</td>\n",
       "      <td>2018-12-30 07:12:00</td>\n",
       "      <td>2019-01-29 13:39:16.848</td>\n",
       "      <td>analysis</td>\n",
       "      <td>4.111695</td>\n",
       "      <td>0.081226</td>\n",
       "      <td>4.159</td>\n",
       "      <td>4.355374</td>\n",
       "      <td>3.868016</td>\n",
       "      <td>4.356059</td>\n",
       "      <td>4.008741</td>\n",
       "      <td>False</td>\n",
       "    </tr>\n",
       "    <tr>\n",
       "      <th>13</th>\n",
       "      <td>[15000:19999]</td>\n",
       "      <td>3</td>\n",
       "      <td>15000</td>\n",
       "      <td>19999</td>\n",
       "      <td>2019-01-29 13:48:00</td>\n",
       "      <td>2019-02-28 20:15:16.848</td>\n",
       "      <td>analysis</td>\n",
       "      <td>4.129300</td>\n",
       "      <td>0.081226</td>\n",
       "      <td>4.124</td>\n",
       "      <td>4.372979</td>\n",
       "      <td>3.885622</td>\n",
       "      <td>4.356059</td>\n",
       "      <td>4.008741</td>\n",
       "      <td>False</td>\n",
       "    </tr>\n",
       "    <tr>\n",
       "      <th>14</th>\n",
       "      <td>[20000:24999]</td>\n",
       "      <td>4</td>\n",
       "      <td>20000</td>\n",
       "      <td>24999</td>\n",
       "      <td>2019-02-28 20:24:00</td>\n",
       "      <td>2019-03-31 02:51:16.848</td>\n",
       "      <td>analysis</td>\n",
       "      <td>4.232310</td>\n",
       "      <td>0.081226</td>\n",
       "      <td>4.185</td>\n",
       "      <td>4.475989</td>\n",
       "      <td>3.988631</td>\n",
       "      <td>4.356059</td>\n",
       "      <td>4.008741</td>\n",
       "      <td>False</td>\n",
       "    </tr>\n",
       "    <tr>\n",
       "      <th>15</th>\n",
       "      <td>[25000:29999]</td>\n",
       "      <td>5</td>\n",
       "      <td>25000</td>\n",
       "      <td>29999</td>\n",
       "      <td>2019-03-31 03:00:00</td>\n",
       "      <td>2019-04-30 09:27:16.848</td>\n",
       "      <td>analysis</td>\n",
       "      <td>3.863370</td>\n",
       "      <td>0.081226</td>\n",
       "      <td>3.856</td>\n",
       "      <td>4.107048</td>\n",
       "      <td>3.619691</td>\n",
       "      <td>4.356059</td>\n",
       "      <td>4.008741</td>\n",
       "      <td>True</td>\n",
       "    </tr>\n",
       "    <tr>\n",
       "      <th>16</th>\n",
       "      <td>[30000:34999]</td>\n",
       "      <td>6</td>\n",
       "      <td>30000</td>\n",
       "      <td>34999</td>\n",
       "      <td>2019-04-30 09:36:00</td>\n",
       "      <td>2019-05-30 16:03:16.848</td>\n",
       "      <td>analysis</td>\n",
       "      <td>3.843827</td>\n",
       "      <td>0.081226</td>\n",
       "      <td>3.863</td>\n",
       "      <td>4.087506</td>\n",
       "      <td>3.600148</td>\n",
       "      <td>4.356059</td>\n",
       "      <td>4.008741</td>\n",
       "      <td>True</td>\n",
       "    </tr>\n",
       "    <tr>\n",
       "      <th>17</th>\n",
       "      <td>[35000:39999]</td>\n",
       "      <td>7</td>\n",
       "      <td>35000</td>\n",
       "      <td>39999</td>\n",
       "      <td>2019-05-30 16:12:00</td>\n",
       "      <td>2019-06-29 22:39:16.848</td>\n",
       "      <td>analysis</td>\n",
       "      <td>3.842156</td>\n",
       "      <td>0.081226</td>\n",
       "      <td>3.840</td>\n",
       "      <td>4.085835</td>\n",
       "      <td>3.598477</td>\n",
       "      <td>4.356059</td>\n",
       "      <td>4.008741</td>\n",
       "      <td>True</td>\n",
       "    </tr>\n",
       "    <tr>\n",
       "      <th>18</th>\n",
       "      <td>[40000:44999]</td>\n",
       "      <td>8</td>\n",
       "      <td>40000</td>\n",
       "      <td>44999</td>\n",
       "      <td>2019-06-29 22:48:00</td>\n",
       "      <td>2019-07-30 05:15:16.848</td>\n",
       "      <td>analysis</td>\n",
       "      <td>3.815700</td>\n",
       "      <td>0.081226</td>\n",
       "      <td>3.877</td>\n",
       "      <td>4.059378</td>\n",
       "      <td>3.572021</td>\n",
       "      <td>4.356059</td>\n",
       "      <td>4.008741</td>\n",
       "      <td>True</td>\n",
       "    </tr>\n",
       "    <tr>\n",
       "      <th>19</th>\n",
       "      <td>[45000:49999]</td>\n",
       "      <td>9</td>\n",
       "      <td>45000</td>\n",
       "      <td>49999</td>\n",
       "      <td>2019-07-30 05:24:00</td>\n",
       "      <td>2019-08-29 11:51:16.848</td>\n",
       "      <td>analysis</td>\n",
       "      <td>4.001204</td>\n",
       "      <td>0.081226</td>\n",
       "      <td>3.956</td>\n",
       "      <td>4.244882</td>\n",
       "      <td>3.757525</td>\n",
       "      <td>4.356059</td>\n",
       "      <td>4.008741</td>\n",
       "      <td>True</td>\n",
       "    </tr>\n",
       "  </tbody>\n",
       "</table>\n",
       "</div>"
      ],
      "text/plain": [
       "            chunk                                                        \\\n",
       "              key chunk_index start_index end_index          start_date   \n",
       "0        [0:4999]           0           0      4999 2018-01-01 00:00:00   \n",
       "1     [5000:9999]           1        5000      9999 2018-01-31 06:36:00   \n",
       "2   [10000:14999]           2       10000     14999 2018-03-02 13:12:00   \n",
       "3   [15000:19999]           3       15000     19999 2018-04-01 19:48:00   \n",
       "4   [20000:24999]           4       20000     24999 2018-05-02 02:24:00   \n",
       "5   [25000:29999]           5       25000     29999 2018-06-01 09:00:00   \n",
       "6   [30000:34999]           6       30000     34999 2018-07-01 15:36:00   \n",
       "7   [35000:39999]           7       35000     39999 2018-07-31 22:12:00   \n",
       "8   [40000:44999]           8       40000     44999 2018-08-31 04:48:00   \n",
       "9   [45000:49999]           9       45000     49999 2018-09-30 11:24:00   \n",
       "10       [0:4999]           0           0      4999 2018-10-30 18:00:00   \n",
       "11    [5000:9999]           1        5000      9999 2018-11-30 00:36:00   \n",
       "12  [10000:14999]           2       10000     14999 2018-12-30 07:12:00   \n",
       "13  [15000:19999]           3       15000     19999 2019-01-29 13:48:00   \n",
       "14  [20000:24999]           4       20000     24999 2019-02-28 20:24:00   \n",
       "15  [25000:29999]           5       25000     29999 2019-03-31 03:00:00   \n",
       "16  [30000:34999]           6       30000     34999 2019-04-30 09:36:00   \n",
       "17  [35000:39999]           7       35000     39999 2019-05-30 16:12:00   \n",
       "18  [40000:44999]           8       40000     44999 2019-06-29 22:48:00   \n",
       "19  [45000:49999]           9       45000     49999 2019-07-30 05:24:00   \n",
       "\n",
       "                                      business_value                          \\\n",
       "                  end_date     period          value sampling_error realized   \n",
       "0  2018-01-31 06:27:16.848  reference       4.129603       0.081226    4.153   \n",
       "1  2018-03-02 13:03:16.848  reference       4.097599       0.081226    4.057   \n",
       "2  2018-04-01 19:39:16.848  reference       4.237903       0.081226    4.271   \n",
       "3  2018-05-02 02:15:16.848  reference       4.166446       0.081226    4.174   \n",
       "4  2018-06-01 08:51:16.848  reference       4.224742       0.081226    4.166   \n",
       "5  2018-07-01 15:27:16.848  reference       4.142789       0.081226    4.135   \n",
       "6  2018-07-31 22:03:16.848  reference       4.168361       0.081226    4.201   \n",
       "7  2018-08-31 04:39:16.848  reference       4.249929       0.081226    4.248   \n",
       "8  2018-09-30 11:15:16.848  reference       4.213318       0.081226    4.223   \n",
       "9  2018-10-30 17:51:16.848  reference       4.225528       0.081226    4.196   \n",
       "10 2018-11-30 00:27:16.848   analysis       4.341751       0.081226    4.343   \n",
       "11 2018-12-30 07:03:16.848   analysis       4.079441       0.081226    4.066   \n",
       "12 2019-01-29 13:39:16.848   analysis       4.111695       0.081226    4.159   \n",
       "13 2019-02-28 20:15:16.848   analysis       4.129300       0.081226    4.124   \n",
       "14 2019-03-31 02:51:16.848   analysis       4.232310       0.081226    4.185   \n",
       "15 2019-04-30 09:27:16.848   analysis       3.863370       0.081226    3.856   \n",
       "16 2019-05-30 16:03:16.848   analysis       3.843827       0.081226    3.863   \n",
       "17 2019-06-29 22:39:16.848   analysis       3.842156       0.081226    3.840   \n",
       "18 2019-07-30 05:15:16.848   analysis       3.815700       0.081226    3.877   \n",
       "19 2019-08-29 11:51:16.848   analysis       4.001204       0.081226    3.956   \n",
       "\n",
       "                                                                        \\\n",
       "   upper_confidence_boundary lower_confidence_boundary upper_threshold   \n",
       "0                   4.373282                  3.885924        4.356059   \n",
       "1                   4.341278                  3.853920        4.356059   \n",
       "2                   4.481582                  3.994224        4.356059   \n",
       "3                   4.410125                  3.922768        4.356059   \n",
       "4                   4.468421                  3.981064        4.356059   \n",
       "5                   4.386467                  3.899110        4.356059   \n",
       "6                   4.412040                  3.924682        4.356059   \n",
       "7                   4.493608                  4.006251        4.356059   \n",
       "8                   4.456997                  3.969639        4.356059   \n",
       "9                   4.469207                  3.981849        4.356059   \n",
       "10                  4.585429                  4.098072        4.356059   \n",
       "11                  4.323119                  3.835762        4.356059   \n",
       "12                  4.355374                  3.868016        4.356059   \n",
       "13                  4.372979                  3.885622        4.356059   \n",
       "14                  4.475989                  3.988631        4.356059   \n",
       "15                  4.107048                  3.619691        4.356059   \n",
       "16                  4.087506                  3.600148        4.356059   \n",
       "17                  4.085835                  3.598477        4.356059   \n",
       "18                  4.059378                  3.572021        4.356059   \n",
       "19                  4.244882                  3.757525        4.356059   \n",
       "\n",
       "                           \n",
       "   lower_threshold  alert  \n",
       "0         4.008741  False  \n",
       "1         4.008741  False  \n",
       "2         4.008741  False  \n",
       "3         4.008741  False  \n",
       "4         4.008741  False  \n",
       "5         4.008741  False  \n",
       "6         4.008741  False  \n",
       "7         4.008741  False  \n",
       "8         4.008741  False  \n",
       "9         4.008741  False  \n",
       "10        4.008741  False  \n",
       "11        4.008741  False  \n",
       "12        4.008741  False  \n",
       "13        4.008741  False  \n",
       "14        4.008741  False  \n",
       "15        4.008741   True  \n",
       "16        4.008741   True  \n",
       "17        4.008741   True  \n",
       "18        4.008741   True  \n",
       "19        4.008741   True  "
      ]
     },
     "metadata": {},
     "output_type": "display_data"
    }
   ],
   "source": [
    "display(results.to_df())"
   ]
  },
  {
   "cell_type": "code",
   "execution_count": 9,
   "metadata": {},
   "outputs": [
    {
     "data": {
      "application/vnd.plotly.v1+json": {
       "config": {
        "plotlyServerURL": "https://plot.ly"
       },
       "data": [
        {
         "hoverinfo": "skip",
         "legendgroup": "metric_reference",
         "line": {
          "color": "#00c8e5",
          "shape": "hv",
          "width": 2
         },
         "mode": "lines",
         "name": "Metric (reference)",
         "showlegend": true,
         "type": "scatter",
         "x": [
          "2018-01-01T00:00:00",
          "2018-01-31T06:36:00",
          "2018-03-02T13:12:00",
          "2018-04-01T19:48:00",
          "2018-05-02T02:24:00",
          "2018-06-01T09:00:00",
          "2018-07-01T15:36:00",
          "2018-07-31T22:12:00",
          "2018-08-31T04:48:00",
          "2018-09-30T11:24:00",
          "2018-10-30T17:51:16.848000"
         ],
         "xaxis": "x",
         "y": [
          4.1296031285914365,
          4.097598877649879,
          4.23790320534711,
          4.166446460153611,
          4.224742324827146,
          4.142788619314111,
          4.168360843246957,
          4.249929350967185,
          4.2133182463768275,
          4.2255280446493355,
          4.2255280446493355
         ],
         "yaxis": "y"
        },
        {
         "customdata": [
          [
           "Estimated <b>Business Value</b>",
           "<b style=\"color:#00c8e5;line-height:60px\">Reference</b>",
           "",
           "[0:4999]",
           "From <b>Jan-01-2018</b> to <b>Jan-31-2018</b>",
           4.1296,
           0.2437
          ],
          [
           "Estimated <b>Business Value</b>",
           "<b style=\"color:#00c8e5;line-height:60px\">Reference</b>",
           "",
           "[5000:9999]",
           "From <b>Jan-31-2018</b> to <b>Mar-02-2018</b>",
           4.0976,
           0.2437
          ],
          [
           "Estimated <b>Business Value</b>",
           "<b style=\"color:#00c8e5;line-height:60px\">Reference</b>",
           "",
           "[10000:14999]",
           "From <b>Mar-02-2018</b> to <b>Apr-01-2018</b>",
           4.2379,
           0.2437
          ],
          [
           "Estimated <b>Business Value</b>",
           "<b style=\"color:#00c8e5;line-height:60px\">Reference</b>",
           "",
           "[15000:19999]",
           "From <b>Apr-01-2018</b> to <b>May-02-2018</b>",
           4.1664,
           0.2437
          ],
          [
           "Estimated <b>Business Value</b>",
           "<b style=\"color:#00c8e5;line-height:60px\">Reference</b>",
           "",
           "[20000:24999]",
           "From <b>May-02-2018</b> to <b>Jun-01-2018</b>",
           4.2247,
           0.2437
          ],
          [
           "Estimated <b>Business Value</b>",
           "<b style=\"color:#00c8e5;line-height:60px\">Reference</b>",
           "",
           "[25000:29999]",
           "From <b>Jun-01-2018</b> to <b>Jul-01-2018</b>",
           4.1428,
           0.2437
          ],
          [
           "Estimated <b>Business Value</b>",
           "<b style=\"color:#00c8e5;line-height:60px\">Reference</b>",
           "",
           "[30000:34999]",
           "From <b>Jul-01-2018</b> to <b>Jul-31-2018</b>",
           4.1684,
           0.2437
          ],
          [
           "Estimated <b>Business Value</b>",
           "<b style=\"color:#00c8e5;line-height:60px\">Reference</b>",
           "",
           "[35000:39999]",
           "From <b>Jul-31-2018</b> to <b>Aug-31-2018</b>",
           4.2499,
           0.2437
          ],
          [
           "Estimated <b>Business Value</b>",
           "<b style=\"color:#00c8e5;line-height:60px\">Reference</b>",
           "",
           "[40000:44999]",
           "From <b>Aug-31-2018</b> to <b>Sep-30-2018</b>",
           4.2133,
           0.2437
          ],
          [
           "Estimated <b>Business Value</b>",
           "<b style=\"color:#00c8e5;line-height:60px\">Reference</b>",
           "",
           "[45000:49999]",
           "From <b>Sep-30-2018</b> to <b>Oct-30-2018</b>",
           4.2255,
           0.2437
          ]
         ],
         "hovertemplate": "%{customdata[1]} &nbsp; &nbsp; %{customdata[2]} <br />Chunk: <b>%{customdata[3]}</b> &nbsp; &nbsp; %{customdata[4]} <br />%{customdata[0]}: <b>%{customdata[5]}</b><br />Confidence band: +/- <b>%{customdata[6]}</b><br /><extra></extra>",
         "legendgroup": "metric_reference",
         "marker": {
          "color": "#00c8e5",
          "size": 5,
          "symbol": "circle"
         },
         "mode": "markers",
         "name": "Metric (reference)",
         "showlegend": false,
         "type": "scatter",
         "x": [
          "2018-01-16T03:18:00",
          "2018-02-15T09:54:00",
          "2018-03-17T16:30:00",
          "2018-04-16T23:06:00",
          "2018-05-17T05:42:00",
          "2018-06-16T12:18:00",
          "2018-07-16T18:54:00",
          "2018-08-16T01:30:00",
          "2018-09-15T08:06:00",
          "2018-10-15T14:37:38.424000"
         ],
         "xaxis": "x",
         "y": [
          4.1296031285914365,
          4.097598877649879,
          4.23790320534711,
          4.166446460153611,
          4.224742324827146,
          4.142788619314111,
          4.168360843246957,
          4.249929350967185,
          4.2133182463768275,
          4.2255280446493355,
          4.2255280446493355
         ],
         "yaxis": "y"
        },
        {
         "hoverinfo": "skip",
         "legendgroup": "metric_analysis",
         "line": {
          "color": "#3b0280",
          "shape": "hv",
          "width": 2
         },
         "mode": "lines",
         "name": "Metric (analysis)",
         "showlegend": true,
         "type": "scatter",
         "x": [
          "2018-10-30T18:00:00",
          "2018-11-30T00:36:00",
          "2018-12-30T07:12:00",
          "2019-01-29T13:48:00",
          "2019-02-28T20:24:00",
          "2019-03-31T03:00:00",
          "2019-04-30T09:36:00",
          "2019-05-30T16:12:00",
          "2019-06-29T22:48:00",
          "2019-07-30T05:24:00",
          "2019-08-29T11:51:16.848000"
         ],
         "xaxis": "x",
         "y": [
          4.341750515074965,
          4.079440583701593,
          4.111694746865907,
          4.129300478699635,
          4.232310177798692,
          3.863369544944642,
          3.8438272084348917,
          3.8421562185905884,
          3.815699609307532,
          4.001203624657362,
          4.001203624657362
         ],
         "yaxis": "y"
        },
        {
         "customdata": [
          [
           "Estimated <b>Business Value</b>",
           "<b style=\"color:#3b0280;line-height:60px\">Analysis</b>",
           "",
           "[0:4999]",
           "From <b>Oct-30-2018</b> to <b>Nov-30-2018</b>",
           4.3418,
           0.2437
          ],
          [
           "Estimated <b>Business Value</b>",
           "<b style=\"color:#3b0280;line-height:60px\">Analysis</b>",
           "",
           "[5000:9999]",
           "From <b>Nov-30-2018</b> to <b>Dec-30-2018</b>",
           4.0794,
           0.2437
          ],
          [
           "Estimated <b>Business Value</b>",
           "<b style=\"color:#3b0280;line-height:60px\">Analysis</b>",
           "",
           "[10000:14999]",
           "From <b>Dec-30-2018</b> to <b>Jan-29-2019</b>",
           4.1117,
           0.2437
          ],
          [
           "Estimated <b>Business Value</b>",
           "<b style=\"color:#3b0280;line-height:60px\">Analysis</b>",
           "",
           "[15000:19999]",
           "From <b>Jan-29-2019</b> to <b>Feb-28-2019</b>",
           4.1293,
           0.2437
          ],
          [
           "Estimated <b>Business Value</b>",
           "<b style=\"color:#3b0280;line-height:60px\">Analysis</b>",
           "",
           "[20000:24999]",
           "From <b>Feb-28-2019</b> to <b>Mar-31-2019</b>",
           4.2323,
           0.2437
          ],
          [
           "Estimated <b>Business Value</b>",
           "<b style=\"color:#3b0280;line-height:60px\">Analysis</b>",
           "<span style=\"color:#AD0000\">⚠ <b>Drift detected</b></span>",
           "[25000:29999]",
           "From <b>Mar-31-2019</b> to <b>Apr-30-2019</b>",
           3.8634,
           0.2437
          ],
          [
           "Estimated <b>Business Value</b>",
           "<b style=\"color:#3b0280;line-height:60px\">Analysis</b>",
           "<span style=\"color:#AD0000\">⚠ <b>Drift detected</b></span>",
           "[30000:34999]",
           "From <b>Apr-30-2019</b> to <b>May-30-2019</b>",
           3.8438,
           0.2437
          ],
          [
           "Estimated <b>Business Value</b>",
           "<b style=\"color:#3b0280;line-height:60px\">Analysis</b>",
           "<span style=\"color:#AD0000\">⚠ <b>Drift detected</b></span>",
           "[35000:39999]",
           "From <b>May-30-2019</b> to <b>Jun-29-2019</b>",
           3.8422,
           0.2437
          ],
          [
           "Estimated <b>Business Value</b>",
           "<b style=\"color:#3b0280;line-height:60px\">Analysis</b>",
           "<span style=\"color:#AD0000\">⚠ <b>Drift detected</b></span>",
           "[40000:44999]",
           "From <b>Jun-29-2019</b> to <b>Jul-30-2019</b>",
           3.8157,
           0.2437
          ],
          [
           "Estimated <b>Business Value</b>",
           "<b style=\"color:#3b0280;line-height:60px\">Analysis</b>",
           "<span style=\"color:#AD0000\">⚠ <b>Drift detected</b></span>",
           "[45000:49999]",
           "From <b>Jul-30-2019</b> to <b>Aug-29-2019</b>",
           4.0012,
           0.2437
          ]
         ],
         "hovertemplate": "%{customdata[1]} &nbsp; &nbsp; %{customdata[2]} <br />Chunk: <b>%{customdata[3]}</b> &nbsp; &nbsp; %{customdata[4]} <br />%{customdata[0]}: <b>%{customdata[5]}</b><br />Confidence band: +/- <b>%{customdata[6]}</b><br /><extra></extra>",
         "legendgroup": "metric_analysis",
         "marker": {
          "color": "#3b0280",
          "size": 5,
          "symbol": "circle"
         },
         "mode": "markers",
         "name": "Metric (analysis)",
         "showlegend": false,
         "type": "scatter",
         "x": [
          "2018-11-14T21:18:00",
          "2018-12-15T03:54:00",
          "2019-01-14T10:30:00",
          "2019-02-13T17:06:00",
          "2019-03-15T23:42:00",
          "2019-04-15T06:18:00",
          "2019-05-15T12:54:00",
          "2019-06-14T19:30:00",
          "2019-07-15T02:06:00",
          "2019-08-14T08:37:38.424000"
         ],
         "xaxis": "x",
         "y": [
          4.341750515074965,
          4.079440583701593,
          4.111694746865907,
          4.129300478699635,
          4.232310177798692,
          3.863369544944642,
          3.8438272084348917,
          3.8421562185905884,
          3.815699609307532,
          4.001203624657362,
          4.001203624657362
         ],
         "yaxis": "y"
        },
        {
         "hoverinfo": "skip",
         "legendgroup": "alert",
         "marker": {
          "color": "#DD4040",
          "size": 8,
          "symbol": "diamond"
         },
         "mode": "markers",
         "name": "Alert",
         "showlegend": true,
         "type": "scatter",
         "x": [
          "2019-04-15T06:18:00",
          "2019-05-15T12:54:00",
          "2019-06-14T19:30:00",
          "2019-07-15T02:06:00",
          "2019-08-14T08:37:38.424000"
         ],
         "xaxis": "x",
         "y": [
          3.863369544944642,
          3.8438272084348917,
          3.8421562185905884,
          3.815699609307532,
          4.001203624657362
         ],
         "yaxis": "y"
        },
        {
         "hoverinfo": "skip",
         "legendgroup": "thresh",
         "line": {
          "color": "#DD4040",
          "dash": "dash",
          "width": 2
         },
         "mode": "lines",
         "name": "Threshold",
         "showlegend": true,
         "type": "scatter",
         "x": [
          "2018-01-01T00:00:00",
          "2018-01-31T06:36:00",
          "2018-03-02T13:12:00",
          "2018-04-01T19:48:00",
          "2018-05-02T02:24:00",
          "2018-06-01T09:00:00",
          "2018-07-01T15:36:00",
          "2018-07-31T22:12:00",
          "2018-08-31T04:48:00",
          "2018-09-30T11:24:00",
          "2018-10-30T17:51:16.848000"
         ],
         "xaxis": "x",
         "y": [
          4.356059321661694,
          4.356059321661694,
          4.356059321661694,
          4.356059321661694,
          4.356059321661694,
          4.356059321661694,
          4.356059321661694,
          4.356059321661694,
          4.356059321661694,
          4.356059321661694,
          4.356059321661694
         ],
         "yaxis": "y"
        },
        {
         "hoverinfo": "skip",
         "legendgroup": "thresh",
         "line": {
          "color": "#DD4040",
          "dash": "dash",
          "width": 2
         },
         "mode": "lines",
         "name": "Threshold",
         "showlegend": false,
         "type": "scatter",
         "x": [
          "2018-01-01T00:00:00",
          "2018-01-31T06:36:00",
          "2018-03-02T13:12:00",
          "2018-04-01T19:48:00",
          "2018-05-02T02:24:00",
          "2018-06-01T09:00:00",
          "2018-07-01T15:36:00",
          "2018-07-31T22:12:00",
          "2018-08-31T04:48:00",
          "2018-09-30T11:24:00",
          "2018-10-30T17:51:16.848000"
         ],
         "xaxis": "x",
         "y": [
          4.008740678338305,
          4.008740678338305,
          4.008740678338305,
          4.008740678338305,
          4.008740678338305,
          4.008740678338305,
          4.008740678338305,
          4.008740678338305,
          4.008740678338305,
          4.008740678338305,
          4.008740678338305
         ],
         "yaxis": "y"
        },
        {
         "hoverinfo": "skip",
         "legendgroup": "thresh",
         "line": {
          "color": "#DD4040",
          "dash": "dash",
          "width": 2
         },
         "mode": "lines",
         "name": "Threshold",
         "showlegend": false,
         "type": "scatter",
         "x": [
          "2018-10-30T18:00:00",
          "2018-11-30T00:36:00",
          "2018-12-30T07:12:00",
          "2019-01-29T13:48:00",
          "2019-02-28T20:24:00",
          "2019-03-31T03:00:00",
          "2019-04-30T09:36:00",
          "2019-05-30T16:12:00",
          "2019-06-29T22:48:00",
          "2019-07-30T05:24:00",
          "2019-08-29T11:51:16.848000"
         ],
         "xaxis": "x",
         "y": [
          4.356059321661694,
          4.356059321661694,
          4.356059321661694,
          4.356059321661694,
          4.356059321661694,
          4.356059321661694,
          4.356059321661694,
          4.356059321661694,
          4.356059321661694,
          4.356059321661694,
          4.356059321661694
         ],
         "yaxis": "y"
        },
        {
         "hoverinfo": "skip",
         "legendgroup": "thresh",
         "line": {
          "color": "#DD4040",
          "dash": "dash",
          "width": 2
         },
         "mode": "lines",
         "name": "Threshold",
         "showlegend": false,
         "type": "scatter",
         "x": [
          "2018-10-30T18:00:00",
          "2018-11-30T00:36:00",
          "2018-12-30T07:12:00",
          "2019-01-29T13:48:00",
          "2019-02-28T20:24:00",
          "2019-03-31T03:00:00",
          "2019-04-30T09:36:00",
          "2019-05-30T16:12:00",
          "2019-06-29T22:48:00",
          "2019-07-30T05:24:00",
          "2019-08-29T11:51:16.848000"
         ],
         "xaxis": "x",
         "y": [
          4.008740678338305,
          4.008740678338305,
          4.008740678338305,
          4.008740678338305,
          4.008740678338305,
          4.008740678338305,
          4.008740678338305,
          4.008740678338305,
          4.008740678338305,
          4.008740678338305,
          4.008740678338305
         ],
         "yaxis": "y"
        },
        {
         "hoverinfo": "skip",
         "line": {
          "color": "rgba(0,0,0,0)",
          "shape": "hv"
         },
         "mode": "lines",
         "name": "Sampling error (reference)",
         "showlegend": false,
         "type": "scatter",
         "x": [
          "2018-01-01T00:00:00",
          "2018-01-31T06:36:00",
          "2018-03-02T13:12:00",
          "2018-04-01T19:48:00",
          "2018-05-02T02:24:00",
          "2018-06-01T09:00:00",
          "2018-07-01T15:36:00",
          "2018-07-31T22:12:00",
          "2018-08-31T04:48:00",
          "2018-09-30T11:24:00",
          "2018-10-30T17:51:16.848000"
         ],
         "xaxis": "x",
         "y": [
          4.373281922153781,
          4.341277671212223,
          4.481581998909455,
          4.410125253715956,
          4.46842111838949,
          4.386467412876455,
          4.412039636809302,
          4.49360814452953,
          4.456997039939172,
          4.46920683821168,
          4.46920683821168
         ],
         "yaxis": "y"
        },
        {
         "fill": "tonexty",
         "fillcolor": "rgba(0.0, 0.7843137254901961, 0.8980392156862745, 0.2)",
         "hoverinfo": "skip",
         "line": {
          "color": "rgba(0,0,0,0)",
          "shape": "hv"
         },
         "mode": "lines",
         "name": "Sampling error (reference)",
         "showlegend": true,
         "type": "scatter",
         "x": [
          "2018-01-01T00:00:00",
          "2018-01-31T06:36:00",
          "2018-03-02T13:12:00",
          "2018-04-01T19:48:00",
          "2018-05-02T02:24:00",
          "2018-06-01T09:00:00",
          "2018-07-01T15:36:00",
          "2018-07-31T22:12:00",
          "2018-08-31T04:48:00",
          "2018-09-30T11:24:00",
          "2018-10-30T17:51:16.848000"
         ],
         "xaxis": "x",
         "y": [
          3.8859243350290913,
          3.8539200840875334,
          3.994224411784765,
          3.9227676665912656,
          3.9810635312648004,
          3.8991098257517653,
          3.924682049684612,
          4.00625055740484,
          3.9696394528144823,
          3.9818492510869903,
          3.9818492510869903
         ],
         "yaxis": "y"
        },
        {
         "hoverinfo": "skip",
         "line": {
          "color": "rgba(0,0,0,0)",
          "shape": "hv"
         },
         "mode": "lines",
         "name": "Sampling error (analysis)",
         "showlegend": false,
         "type": "scatter",
         "x": [
          "2018-10-30T18:00:00",
          "2018-11-30T00:36:00",
          "2018-12-30T07:12:00",
          "2019-01-29T13:48:00",
          "2019-02-28T20:24:00",
          "2019-03-31T03:00:00",
          "2019-04-30T09:36:00",
          "2019-05-30T16:12:00",
          "2019-06-29T22:48:00",
          "2019-07-30T05:24:00",
          "2019-08-29T11:51:16.848000"
         ],
         "xaxis": "x",
         "y": [
          4.58542930863731,
          4.323119377263938,
          4.355373540428252,
          4.37297927226198,
          4.475988971361037,
          4.107048338506987,
          4.0875060019972365,
          4.085835012152933,
          4.059378402869877,
          4.2448824182197065,
          4.2448824182197065
         ],
         "yaxis": "y"
        },
        {
         "fill": "tonexty",
         "fillcolor": "rgba(0.23137254901960785, 0.00784313725490196, 0.5019607843137255, 0.2)",
         "hoverinfo": "skip",
         "line": {
          "color": "rgba(0,0,0,0)",
          "shape": "hv"
         },
         "mode": "lines",
         "name": "Sampling error (analysis)",
         "showlegend": true,
         "type": "scatter",
         "x": [
          "2018-10-30T18:00:00",
          "2018-11-30T00:36:00",
          "2018-12-30T07:12:00",
          "2019-01-29T13:48:00",
          "2019-02-28T20:24:00",
          "2019-03-31T03:00:00",
          "2019-04-30T09:36:00",
          "2019-05-30T16:12:00",
          "2019-06-29T22:48:00",
          "2019-07-30T05:24:00",
          "2019-08-29T11:51:16.848000"
         ],
         "xaxis": "x",
         "y": [
          4.09807172151262,
          3.8357617901392476,
          3.8680159533035616,
          3.88562168513729,
          3.988631384236347,
          3.6196907513822967,
          3.6001484148725464,
          3.598477425028243,
          3.5720208157451867,
          3.7575248310950164,
          3.7575248310950164
         ],
         "yaxis": "y"
        }
       ],
       "layout": {
        "annotations": [
         {
          "font": {
           "size": 16
          },
          "showarrow": false,
          "text": "Estimated <b>Business Value</b>",
          "x": 0.5,
          "xanchor": "center",
          "xref": "paper",
          "y": 1,
          "yanchor": "bottom",
          "yref": "paper"
         }
        ],
        "height": 500,
        "hoverlabel": {
         "bgcolor": "white",
         "font": {
          "size": 14
         }
        },
        "legend": {
         "itemclick": false,
         "itemdoubleclick": false,
         "traceorder": "grouped"
        },
        "paper_bgcolor": "rgba(255,255,255,1)",
        "plot_bgcolor": "rgba(255,255,255,1)",
        "shapes": [
         {
          "layer": "below",
          "line": {
           "color": "#666666",
           "width": 1
          },
          "type": "line",
          "x0": "2018-10-30T18:00:00",
          "x1": "2018-10-30T18:00:00",
          "xref": "x",
          "y0": 0,
          "y1": 1,
          "yref": "y domain"
         }
        ],
        "template": {
         "data": {
          "bar": [
           {
            "error_x": {
             "color": "#2a3f5f"
            },
            "error_y": {
             "color": "#2a3f5f"
            },
            "marker": {
             "line": {
              "color": "#E5ECF6",
              "width": 0.5
             },
             "pattern": {
              "fillmode": "overlay",
              "size": 10,
              "solidity": 0.2
             }
            },
            "type": "bar"
           }
          ],
          "barpolar": [
           {
            "marker": {
             "line": {
              "color": "#E5ECF6",
              "width": 0.5
             },
             "pattern": {
              "fillmode": "overlay",
              "size": 10,
              "solidity": 0.2
             }
            },
            "type": "barpolar"
           }
          ],
          "carpet": [
           {
            "aaxis": {
             "endlinecolor": "#2a3f5f",
             "gridcolor": "white",
             "linecolor": "white",
             "minorgridcolor": "white",
             "startlinecolor": "#2a3f5f"
            },
            "baxis": {
             "endlinecolor": "#2a3f5f",
             "gridcolor": "white",
             "linecolor": "white",
             "minorgridcolor": "white",
             "startlinecolor": "#2a3f5f"
            },
            "type": "carpet"
           }
          ],
          "choropleth": [
           {
            "colorbar": {
             "outlinewidth": 0,
             "ticks": ""
            },
            "type": "choropleth"
           }
          ],
          "contour": [
           {
            "colorbar": {
             "outlinewidth": 0,
             "ticks": ""
            },
            "colorscale": [
             [
              0,
              "#0d0887"
             ],
             [
              0.1111111111111111,
              "#46039f"
             ],
             [
              0.2222222222222222,
              "#7201a8"
             ],
             [
              0.3333333333333333,
              "#9c179e"
             ],
             [
              0.4444444444444444,
              "#bd3786"
             ],
             [
              0.5555555555555556,
              "#d8576b"
             ],
             [
              0.6666666666666666,
              "#ed7953"
             ],
             [
              0.7777777777777778,
              "#fb9f3a"
             ],
             [
              0.8888888888888888,
              "#fdca26"
             ],
             [
              1,
              "#f0f921"
             ]
            ],
            "type": "contour"
           }
          ],
          "contourcarpet": [
           {
            "colorbar": {
             "outlinewidth": 0,
             "ticks": ""
            },
            "type": "contourcarpet"
           }
          ],
          "heatmap": [
           {
            "colorbar": {
             "outlinewidth": 0,
             "ticks": ""
            },
            "colorscale": [
             [
              0,
              "#0d0887"
             ],
             [
              0.1111111111111111,
              "#46039f"
             ],
             [
              0.2222222222222222,
              "#7201a8"
             ],
             [
              0.3333333333333333,
              "#9c179e"
             ],
             [
              0.4444444444444444,
              "#bd3786"
             ],
             [
              0.5555555555555556,
              "#d8576b"
             ],
             [
              0.6666666666666666,
              "#ed7953"
             ],
             [
              0.7777777777777778,
              "#fb9f3a"
             ],
             [
              0.8888888888888888,
              "#fdca26"
             ],
             [
              1,
              "#f0f921"
             ]
            ],
            "type": "heatmap"
           }
          ],
          "heatmapgl": [
           {
            "colorbar": {
             "outlinewidth": 0,
             "ticks": ""
            },
            "colorscale": [
             [
              0,
              "#0d0887"
             ],
             [
              0.1111111111111111,
              "#46039f"
             ],
             [
              0.2222222222222222,
              "#7201a8"
             ],
             [
              0.3333333333333333,
              "#9c179e"
             ],
             [
              0.4444444444444444,
              "#bd3786"
             ],
             [
              0.5555555555555556,
              "#d8576b"
             ],
             [
              0.6666666666666666,
              "#ed7953"
             ],
             [
              0.7777777777777778,
              "#fb9f3a"
             ],
             [
              0.8888888888888888,
              "#fdca26"
             ],
             [
              1,
              "#f0f921"
             ]
            ],
            "type": "heatmapgl"
           }
          ],
          "histogram": [
           {
            "marker": {
             "pattern": {
              "fillmode": "overlay",
              "size": 10,
              "solidity": 0.2
             }
            },
            "type": "histogram"
           }
          ],
          "histogram2d": [
           {
            "colorbar": {
             "outlinewidth": 0,
             "ticks": ""
            },
            "colorscale": [
             [
              0,
              "#0d0887"
             ],
             [
              0.1111111111111111,
              "#46039f"
             ],
             [
              0.2222222222222222,
              "#7201a8"
             ],
             [
              0.3333333333333333,
              "#9c179e"
             ],
             [
              0.4444444444444444,
              "#bd3786"
             ],
             [
              0.5555555555555556,
              "#d8576b"
             ],
             [
              0.6666666666666666,
              "#ed7953"
             ],
             [
              0.7777777777777778,
              "#fb9f3a"
             ],
             [
              0.8888888888888888,
              "#fdca26"
             ],
             [
              1,
              "#f0f921"
             ]
            ],
            "type": "histogram2d"
           }
          ],
          "histogram2dcontour": [
           {
            "colorbar": {
             "outlinewidth": 0,
             "ticks": ""
            },
            "colorscale": [
             [
              0,
              "#0d0887"
             ],
             [
              0.1111111111111111,
              "#46039f"
             ],
             [
              0.2222222222222222,
              "#7201a8"
             ],
             [
              0.3333333333333333,
              "#9c179e"
             ],
             [
              0.4444444444444444,
              "#bd3786"
             ],
             [
              0.5555555555555556,
              "#d8576b"
             ],
             [
              0.6666666666666666,
              "#ed7953"
             ],
             [
              0.7777777777777778,
              "#fb9f3a"
             ],
             [
              0.8888888888888888,
              "#fdca26"
             ],
             [
              1,
              "#f0f921"
             ]
            ],
            "type": "histogram2dcontour"
           }
          ],
          "mesh3d": [
           {
            "colorbar": {
             "outlinewidth": 0,
             "ticks": ""
            },
            "type": "mesh3d"
           }
          ],
          "parcoords": [
           {
            "line": {
             "colorbar": {
              "outlinewidth": 0,
              "ticks": ""
             }
            },
            "type": "parcoords"
           }
          ],
          "pie": [
           {
            "automargin": true,
            "type": "pie"
           }
          ],
          "scatter": [
           {
            "fillpattern": {
             "fillmode": "overlay",
             "size": 10,
             "solidity": 0.2
            },
            "type": "scatter"
           }
          ],
          "scatter3d": [
           {
            "line": {
             "colorbar": {
              "outlinewidth": 0,
              "ticks": ""
             }
            },
            "marker": {
             "colorbar": {
              "outlinewidth": 0,
              "ticks": ""
             }
            },
            "type": "scatter3d"
           }
          ],
          "scattercarpet": [
           {
            "marker": {
             "colorbar": {
              "outlinewidth": 0,
              "ticks": ""
             }
            },
            "type": "scattercarpet"
           }
          ],
          "scattergeo": [
           {
            "marker": {
             "colorbar": {
              "outlinewidth": 0,
              "ticks": ""
             }
            },
            "type": "scattergeo"
           }
          ],
          "scattergl": [
           {
            "marker": {
             "colorbar": {
              "outlinewidth": 0,
              "ticks": ""
             }
            },
            "type": "scattergl"
           }
          ],
          "scattermapbox": [
           {
            "marker": {
             "colorbar": {
              "outlinewidth": 0,
              "ticks": ""
             }
            },
            "type": "scattermapbox"
           }
          ],
          "scatterpolar": [
           {
            "marker": {
             "colorbar": {
              "outlinewidth": 0,
              "ticks": ""
             }
            },
            "type": "scatterpolar"
           }
          ],
          "scatterpolargl": [
           {
            "marker": {
             "colorbar": {
              "outlinewidth": 0,
              "ticks": ""
             }
            },
            "type": "scatterpolargl"
           }
          ],
          "scatterternary": [
           {
            "marker": {
             "colorbar": {
              "outlinewidth": 0,
              "ticks": ""
             }
            },
            "type": "scatterternary"
           }
          ],
          "surface": [
           {
            "colorbar": {
             "outlinewidth": 0,
             "ticks": ""
            },
            "colorscale": [
             [
              0,
              "#0d0887"
             ],
             [
              0.1111111111111111,
              "#46039f"
             ],
             [
              0.2222222222222222,
              "#7201a8"
             ],
             [
              0.3333333333333333,
              "#9c179e"
             ],
             [
              0.4444444444444444,
              "#bd3786"
             ],
             [
              0.5555555555555556,
              "#d8576b"
             ],
             [
              0.6666666666666666,
              "#ed7953"
             ],
             [
              0.7777777777777778,
              "#fb9f3a"
             ],
             [
              0.8888888888888888,
              "#fdca26"
             ],
             [
              1,
              "#f0f921"
             ]
            ],
            "type": "surface"
           }
          ],
          "table": [
           {
            "cells": {
             "fill": {
              "color": "#EBF0F8"
             },
             "line": {
              "color": "white"
             }
            },
            "header": {
             "fill": {
              "color": "#C8D4E3"
             },
             "line": {
              "color": "white"
             }
            },
            "type": "table"
           }
          ]
         },
         "layout": {
          "annotationdefaults": {
           "arrowcolor": "#2a3f5f",
           "arrowhead": 0,
           "arrowwidth": 1
          },
          "autotypenumbers": "strict",
          "coloraxis": {
           "colorbar": {
            "outlinewidth": 0,
            "ticks": ""
           }
          },
          "colorscale": {
           "diverging": [
            [
             0,
             "#8e0152"
            ],
            [
             0.1,
             "#c51b7d"
            ],
            [
             0.2,
             "#de77ae"
            ],
            [
             0.3,
             "#f1b6da"
            ],
            [
             0.4,
             "#fde0ef"
            ],
            [
             0.5,
             "#f7f7f7"
            ],
            [
             0.6,
             "#e6f5d0"
            ],
            [
             0.7,
             "#b8e186"
            ],
            [
             0.8,
             "#7fbc41"
            ],
            [
             0.9,
             "#4d9221"
            ],
            [
             1,
             "#276419"
            ]
           ],
           "sequential": [
            [
             0,
             "#0d0887"
            ],
            [
             0.1111111111111111,
             "#46039f"
            ],
            [
             0.2222222222222222,
             "#7201a8"
            ],
            [
             0.3333333333333333,
             "#9c179e"
            ],
            [
             0.4444444444444444,
             "#bd3786"
            ],
            [
             0.5555555555555556,
             "#d8576b"
            ],
            [
             0.6666666666666666,
             "#ed7953"
            ],
            [
             0.7777777777777778,
             "#fb9f3a"
            ],
            [
             0.8888888888888888,
             "#fdca26"
            ],
            [
             1,
             "#f0f921"
            ]
           ],
           "sequentialminus": [
            [
             0,
             "#0d0887"
            ],
            [
             0.1111111111111111,
             "#46039f"
            ],
            [
             0.2222222222222222,
             "#7201a8"
            ],
            [
             0.3333333333333333,
             "#9c179e"
            ],
            [
             0.4444444444444444,
             "#bd3786"
            ],
            [
             0.5555555555555556,
             "#d8576b"
            ],
            [
             0.6666666666666666,
             "#ed7953"
            ],
            [
             0.7777777777777778,
             "#fb9f3a"
            ],
            [
             0.8888888888888888,
             "#fdca26"
            ],
            [
             1,
             "#f0f921"
            ]
           ]
          },
          "colorway": [
           "#636efa",
           "#EF553B",
           "#00cc96",
           "#ab63fa",
           "#FFA15A",
           "#19d3f3",
           "#FF6692",
           "#B6E880",
           "#FF97FF",
           "#FECB52"
          ],
          "font": {
           "color": "#2a3f5f"
          },
          "geo": {
           "bgcolor": "white",
           "lakecolor": "white",
           "landcolor": "#E5ECF6",
           "showlakes": true,
           "showland": true,
           "subunitcolor": "white"
          },
          "hoverlabel": {
           "align": "left"
          },
          "hovermode": "closest",
          "mapbox": {
           "style": "light"
          },
          "paper_bgcolor": "white",
          "plot_bgcolor": "#E5ECF6",
          "polar": {
           "angularaxis": {
            "gridcolor": "white",
            "linecolor": "white",
            "ticks": ""
           },
           "bgcolor": "#E5ECF6",
           "radialaxis": {
            "gridcolor": "white",
            "linecolor": "white",
            "ticks": ""
           }
          },
          "scene": {
           "xaxis": {
            "backgroundcolor": "#E5ECF6",
            "gridcolor": "white",
            "gridwidth": 2,
            "linecolor": "white",
            "showbackground": true,
            "ticks": "",
            "zerolinecolor": "white"
           },
           "yaxis": {
            "backgroundcolor": "#E5ECF6",
            "gridcolor": "white",
            "gridwidth": 2,
            "linecolor": "white",
            "showbackground": true,
            "ticks": "",
            "zerolinecolor": "white"
           },
           "zaxis": {
            "backgroundcolor": "#E5ECF6",
            "gridcolor": "white",
            "gridwidth": 2,
            "linecolor": "white",
            "showbackground": true,
            "ticks": "",
            "zerolinecolor": "white"
           }
          },
          "shapedefaults": {
           "line": {
            "color": "#2a3f5f"
           }
          },
          "ternary": {
           "aaxis": {
            "gridcolor": "white",
            "linecolor": "white",
            "ticks": ""
           },
           "baxis": {
            "gridcolor": "white",
            "linecolor": "white",
            "ticks": ""
           },
           "bgcolor": "#E5ECF6",
           "caxis": {
            "gridcolor": "white",
            "linecolor": "white",
            "ticks": ""
           }
          },
          "title": {
           "x": 0.05
          },
          "xaxis": {
           "automargin": true,
           "gridcolor": "white",
           "linecolor": "white",
           "ticks": "",
           "title": {
            "standoff": 15
           },
           "zerolinecolor": "white",
           "zerolinewidth": 2
          },
          "yaxis": {
           "automargin": true,
           "gridcolor": "white",
           "linecolor": "white",
           "ticks": "",
           "title": {
            "standoff": 15
           },
           "zerolinecolor": "white",
           "zerolinewidth": 2
          }
         }
        },
        "title": {
         "text": "Estimated performance <b>(CBPE)</b>"
        },
        "xaxis": {
         "anchor": "y",
         "domain": [
          0,
          1
         ],
         "linecolor": "#3b0280",
         "matches": "x",
         "mirror": true,
         "showgrid": false,
         "showticklabels": true,
         "title": {
          "text": "Time"
         },
         "zeroline": false
        },
        "yaxis": {
         "anchor": "x",
         "domain": [
          0,
          1
         ],
         "linecolor": "#3b0280",
         "mirror": true,
         "showgrid": false,
         "title": {
          "text": "Business Value"
         },
         "zeroline": false
        }
       }
      }
     },
     "metadata": {},
     "output_type": "display_data"
    }
   ],
   "source": [
    "metric_fig = results.plot()\n",
    "metric_fig.show()"
   ]
  },
  {
   "cell_type": "code",
   "execution_count": 10,
   "metadata": {},
   "outputs": [],
   "source": [
    "estimated = results.to_df()['business_value']['value'].values\n",
    "realized = results.to_df()['business_value']['realized'].values"
   ]
  },
  {
   "cell_type": "code",
   "execution_count": 11,
   "metadata": {},
   "outputs": [
    {
     "data": {
      "text/plain": [
       "<matplotlib.legend.Legend at 0x1a2e47fa0>"
      ]
     },
     "execution_count": 11,
     "metadata": {},
     "output_type": "execute_result"
    },
    {
     "data": {
      "image/png": "[encoded data removed]",
      "text/plain": [
       "<Figure size 640x480 with 1 Axes>"
      ]
     },
     "metadata": {},
     "output_type": "display_data"
    }
   ],
   "source": [
    "# plot estimated and realized\n",
    "fig, ax = plt.subplots()\n",
    "ax.plot(estimated, label='estimated', marker = 'o')\n",
    "ax.plot(realized, label='realized', marker = '*')\n",
    "ax.legend()\n",
    "\n"
   ]
  },
  {
   "cell_type": "code",
   "execution_count": null,
   "metadata": {},
   "outputs": [],
   "source": []
  }
 ],
 "metadata": {
  "kernelspec": {
   "display_name": "EMD",
   "language": "python",
   "name": "python3"
  },
  "language_info": {
   "codemirror_mode": {
    "name": "ipython",
    "version": 3
   },
   "file_extension": ".py",
   "mimetype": "text/x-python",
   "name": "python",
   "nbconvert_exporter": "python",
   "pygments_lexer": "ipython3",
   "version": "3.9.13"
  },
  "orig_nbformat": 4,
  "vscode": {
   "interpreter": {
    "hash": "7015d45318b7e47f58bc453f811cb2d0d7fdbd19d5bcf220fdd25c0dc451c826"
   }
  }
 },
 "nbformat": 4,
 "nbformat_minor": 2
}
