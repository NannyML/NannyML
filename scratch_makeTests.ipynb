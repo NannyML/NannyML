{
 "cells": [
  {
   "cell_type": "code",
   "execution_count": 1,
   "metadata": {},
   "outputs": [],
   "source": [
    "# suppress warnings\n",
    "import warnings\n",
    "\n",
    "warnings.filterwarnings('ignore')\n"
   ]
  },
  {
   "cell_type": "code",
   "execution_count": 2,
   "metadata": {},
   "outputs": [],
   "source": [
    "import nannyml as nml\n"
   ]
  },
  {
   "cell_type": "code",
   "execution_count": 3,
   "metadata": {},
   "outputs": [
    {
     "name": "stdout",
     "output_type": "stream",
     "text": [
      "['/Users/carterblair/NannyMLdev/nannyml/nannyml']\n"
     ]
    }
   ],
   "source": [
    "print(nml.__path__)\n"
   ]
  },
  {
   "cell_type": "code",
   "execution_count": 4,
   "metadata": {},
   "outputs": [],
   "source": [
    "ref_df, ana_df, _ = nml.datasets.load_synthetic_binary_classification_dataset()\n"
   ]
  },
  {
   "cell_type": "code",
   "execution_count": 6,
   "metadata": {},
   "outputs": [
    {
     "name": "stdout",
     "output_type": "stream",
     "text": [
      "(\n",
      "\t\t\t{'chunk_size':20000, 'cm_normalization' = None},\n",
      "\t\t\tpd.DataFrame(\n",
      "\t\t\t\t{\n",
      "\t\t\t\t\t'key' : ['[0:19999]', '[20000:49999]'] ,\n",
      "\t\t\t\t\t'estimated_roc_auc': [0.9690827692140925, 0.9627722759203226],\n",
      "\t\t\t\t\t'estimated_f1': [0.9479079222515973, 0.9278089207836576],\n",
      "\t\t\t\t\t'estimated_precision': [0.9436121782324026, 0.9197836255005452],\n",
      "\t\t\t\t\t'estimated_recall': [0.9522429574319092, 0.9359754933378336],\n",
      "\t\t\t\t\t'estimated_specificity': [0.9434949869571513, 0.9123732942949082],\n",
      "\t\t\t\t\t'estimated_accuracy': [0.9478536003143163, 0.9245926106862006],\n",
      "\t\t\t\t\t'estimated_true_positive': [9488.96406430504, 14537.180201036117],\n",
      "\t\t\t\t\t'estimated_true_negative': [9468.107941981285, 13200.5981195499],\n",
      "\t\t\t\t\t'estimated_false_positive': [567.0359356949585, 1267.8197989638852],\n",
      "\t\t\t\t\t'estimated_false_negative': [475.8920580187156, 994.4018804500995],\n",
      "\t\t\t\t}\n",
      "\t\t\t),\n",
      "\t\t),\n"
     ]
    }
   ],
   "source": [
    "cbpe = nml.CBPE(\n",
    "    y_pred_proba='y_pred_proba',\n",
    "    y_pred='y_pred',\n",
    "    y_true='work_home_actual',\n",
    "    problem_type='classification_binary',\n",
    "    metrics=['roc_auc', 'f1', 'precision', 'recall', 'specificity', 'accuracy', 'confusion_matrix'],\n",
    "    normalize_confusion_matrix=None,\n",
    "    chunk_size=20_000,\n",
    ").fit(ref_df)\n",
    "result = cbpe.estimate(ana_df)\n",
    "df = result.to_df()\n",
    "\n",
    "columns = []\n",
    "for m in result.metrics:\n",
    "    if hasattr(m, 'components'):\n",
    "        for c in m.components:\n",
    "            columns.append((c))\n",
    "    else:\n",
    "        columns.append((m.column_name))\n",
    "\n",
    "sut = result.filter(period='analysis').to_df()[[('chunk', 'key')] + [(name, 'value') for name in columns]]\n",
    "\n",
    "\n",
    "print(\"(\")\n",
    "print(\"\\t\\t\\t{'chunk_size\\':20000, \\'cm_normalization\\' = None},\")\n",
    "print(\"\\t\\t\\tpd.DataFrame(\")\n",
    "print(\"\\t\\t\\t\\t{\")\n",
    "# print the chunk keys in this format: 'key': ['[0:19999]', '[20000:49999]']\n",
    "print(\"\\t\\t\\t\\t\\t\\'key\\'\", \":\", sut['chunk']['key'].unique().tolist(), \",\")\n",
    "\n",
    "# print the column names and the list of values in this format: 'roc_auc': [0.5, 0.5] using f strings\n",
    "for col in sut.columns:\n",
    "    if col[0] != 'chunk':\n",
    "        print(f'\\t\\t\\t\\t\\t\\'estimated_{col[0]}\\': {sut[col].values.tolist()},')\n",
    "\n",
    "print(\"\\t\\t\\t\\t}\")\n",
    "print(\"\\t\\t\\t),\")\n",
    "print(\"\\t\\t),\")\n"
   ]
  },
  {
   "cell_type": "code",
   "execution_count": null,
   "metadata": {},
   "outputs": [],
   "source": []
  }
 ],
 "metadata": {
  "kernelspec": {
   "display_name": "EMD",
   "language": "python",
   "name": "python3"
  },
  "language_info": {
   "codemirror_mode": {
    "name": "ipython",
    "version": 3
   },
   "file_extension": ".py",
   "mimetype": "text/x-python",
   "name": "python",
   "nbconvert_exporter": "python",
   "pygments_lexer": "ipython3",
   "version": "3.9.13"
  },
  "orig_nbformat": 4,
  "vscode": {
   "interpreter": {
    "hash": "7015d45318b7e47f58bc453f811cb2d0d7fdbd19d5bcf220fdd25c0dc451c826"
   }
  }
 },
 "nbformat": 4,
 "nbformat_minor": 2
}
