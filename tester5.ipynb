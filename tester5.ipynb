{
 "cells": [
  {
   "cell_type": "code",
   "execution_count": 9,
   "metadata": {},
   "outputs": [],
   "source": [
    "import nannyml as nml\n",
    "import pandas as pd"
   ]
  },
  {
   "cell_type": "code",
   "execution_count": 10,
   "metadata": {},
   "outputs": [],
   "source": [
    "pd.set_option('display.max_columns', None)\n",
    "pd.set_option('display.max_rows', None)"
   ]
  },
  {
   "cell_type": "code",
   "execution_count": 11,
   "metadata": {},
   "outputs": [],
   "source": [
    "reference_df, analysis_df, analysis_target_df = nml.load_synthetic_multiclass_classification_dataset()"
   ]
  },
  {
   "cell_type": "code",
   "execution_count": 12,
   "metadata": {},
   "outputs": [],
   "source": [
    "analysis_df = analysis_df.merge(analysis_target_df, left_index=True, right_index=True)"
   ]
  },
  {
   "cell_type": "code",
   "execution_count": 13,
   "metadata": {},
   "outputs": [
    {
     "data": {
      "text/html": [
       "<div>\n",
       "<style scoped>\n",
       "    .dataframe tbody tr th:only-of-type {\n",
       "        vertical-align: middle;\n",
       "    }\n",
       "\n",
       "    .dataframe tbody tr th {\n",
       "        vertical-align: top;\n",
       "    }\n",
       "\n",
       "    .dataframe thead th {\n",
       "        text-align: right;\n",
       "    }\n",
       "</style>\n",
       "<table border=\"1\" class=\"dataframe\">\n",
       "  <thead>\n",
       "    <tr style=\"text-align: right;\">\n",
       "      <th></th>\n",
       "      <th>acq_channel</th>\n",
       "      <th>app_behavioral_score</th>\n",
       "      <th>requested_credit_limit</th>\n",
       "      <th>app_channel</th>\n",
       "      <th>credit_bureau_score</th>\n",
       "      <th>stated_income</th>\n",
       "      <th>is_customer</th>\n",
       "      <th>timestamp</th>\n",
       "      <th>y_pred_proba_prepaid_card</th>\n",
       "      <th>y_pred_proba_highstreet_card</th>\n",
       "      <th>y_pred_proba_upmarket_card</th>\n",
       "      <th>y_pred</th>\n",
       "      <th>y_true</th>\n",
       "    </tr>\n",
       "  </thead>\n",
       "  <tbody>\n",
       "    <tr>\n",
       "      <th>0</th>\n",
       "      <td>Partner3</td>\n",
       "      <td>1.808232</td>\n",
       "      <td>350</td>\n",
       "      <td>web</td>\n",
       "      <td>309</td>\n",
       "      <td>15000</td>\n",
       "      <td>True</td>\n",
       "      <td>2020-05-02 02:01:30</td>\n",
       "      <td>0.97</td>\n",
       "      <td>0.03</td>\n",
       "      <td>0.00</td>\n",
       "      <td>prepaid_card</td>\n",
       "      <td>prepaid_card</td>\n",
       "    </tr>\n",
       "    <tr>\n",
       "      <th>1</th>\n",
       "      <td>Partner2</td>\n",
       "      <td>4.382568</td>\n",
       "      <td>500</td>\n",
       "      <td>mobile</td>\n",
       "      <td>418</td>\n",
       "      <td>23000</td>\n",
       "      <td>True</td>\n",
       "      <td>2020-05-02 02:03:33</td>\n",
       "      <td>0.87</td>\n",
       "      <td>0.13</td>\n",
       "      <td>0.00</td>\n",
       "      <td>prepaid_card</td>\n",
       "      <td>prepaid_card</td>\n",
       "    </tr>\n",
       "    <tr>\n",
       "      <th>2</th>\n",
       "      <td>Partner2</td>\n",
       "      <td>-0.787575</td>\n",
       "      <td>400</td>\n",
       "      <td>web</td>\n",
       "      <td>507</td>\n",
       "      <td>24000</td>\n",
       "      <td>False</td>\n",
       "      <td>2020-05-02 02:04:49</td>\n",
       "      <td>0.47</td>\n",
       "      <td>0.35</td>\n",
       "      <td>0.18</td>\n",
       "      <td>prepaid_card</td>\n",
       "      <td>upmarket_card</td>\n",
       "    </tr>\n",
       "  </tbody>\n",
       "</table>\n",
       "</div>"
      ],
      "text/plain": [
       "  acq_channel  app_behavioral_score  requested_credit_limit app_channel  \\\n",
       "0    Partner3              1.808232                     350         web   \n",
       "1    Partner2              4.382568                     500      mobile   \n",
       "2    Partner2             -0.787575                     400         web   \n",
       "\n",
       "   credit_bureau_score  stated_income  is_customer            timestamp  \\\n",
       "0                  309          15000         True  2020-05-02 02:01:30   \n",
       "1                  418          23000         True  2020-05-02 02:03:33   \n",
       "2                  507          24000        False  2020-05-02 02:04:49   \n",
       "\n",
       "   y_pred_proba_prepaid_card  y_pred_proba_highstreet_card  \\\n",
       "0                       0.97                          0.03   \n",
       "1                       0.87                          0.13   \n",
       "2                       0.47                          0.35   \n",
       "\n",
       "   y_pred_proba_upmarket_card        y_pred         y_true  \n",
       "0                        0.00  prepaid_card   prepaid_card  \n",
       "1                        0.00  prepaid_card   prepaid_card  \n",
       "2                        0.18  prepaid_card  upmarket_card  "
      ]
     },
     "execution_count": 13,
     "metadata": {},
     "output_type": "execute_result"
    }
   ],
   "source": [
    "reference_df.head(3)"
   ]
  },
  {
   "cell_type": "code",
   "execution_count": 14,
   "metadata": {},
   "outputs": [],
   "source": [
    "calc = nml.PerformanceCalculator(\n",
    "    y_pred_proba={\n",
    "        'prepaid_card': 'y_pred_proba_prepaid_card',\n",
    "        'highstreet_card': 'y_pred_proba_highstreet_card',\n",
    "        'upmarket_card': 'y_pred_proba_upmarket_card'\n",
    "    },\n",
    "    y_pred='y_pred',\n",
    "    y_true='y_true',\n",
    "    timestamp_column_name='timestamp',\n",
    "    problem_type='classification_multiclass',\n",
    "    metrics=['confusion_matrix'],\n",
    "    chunk_size=6000)"
   ]
  },
  {
   "cell_type": "code",
   "execution_count": 15,
   "metadata": {},
   "outputs": [
    {
     "data": {
      "text/plain": [
       "<nannyml.performance_calculation.calculator.PerformanceCalculator at 0x19d41e850>"
      ]
     },
     "execution_count": 15,
     "metadata": {},
     "output_type": "execute_result"
    }
   ],
   "source": [
    "calc.fit(reference_df)"
   ]
  },
  {
   "cell_type": "code",
   "execution_count": 16,
   "metadata": {},
   "outputs": [],
   "source": [
    "results = calc.calculate(analysis_df)"
   ]
  },
  {
   "cell_type": "code",
   "execution_count": 17,
   "metadata": {},
   "outputs": [
    {
     "data": {
      "text/html": [
       "<div>\n",
       "<style scoped>\n",
       "    .dataframe tbody tr th:only-of-type {\n",
       "        vertical-align: middle;\n",
       "    }\n",
       "\n",
       "    .dataframe tbody tr th {\n",
       "        vertical-align: top;\n",
       "    }\n",
       "\n",
       "    .dataframe thead tr th {\n",
       "        text-align: left;\n",
       "    }\n",
       "</style>\n",
       "<table border=\"1\" class=\"dataframe\">\n",
       "  <thead>\n",
       "    <tr>\n",
       "      <th></th>\n",
       "      <th colspan=\"8\" halign=\"left\">chunk</th>\n",
       "      <th colspan=\"5\" halign=\"left\">true_highstreet_card_pred_highstreet_card</th>\n",
       "      <th colspan=\"5\" halign=\"left\">true_highstreet_card_pred_prepaid_card</th>\n",
       "      <th colspan=\"5\" halign=\"left\">true_highstreet_card_pred_upmarket_card</th>\n",
       "      <th colspan=\"5\" halign=\"left\">true_prepaid_card_pred_highstreet_card</th>\n",
       "      <th colspan=\"5\" halign=\"left\">true_prepaid_card_pred_prepaid_card</th>\n",
       "      <th colspan=\"5\" halign=\"left\">true_prepaid_card_pred_upmarket_card</th>\n",
       "      <th colspan=\"5\" halign=\"left\">true_upmarket_card_pred_highstreet_card</th>\n",
       "      <th colspan=\"5\" halign=\"left\">true_upmarket_card_pred_prepaid_card</th>\n",
       "      <th colspan=\"5\" halign=\"left\">true_upmarket_card_pred_upmarket_card</th>\n",
       "    </tr>\n",
       "    <tr>\n",
       "      <th></th>\n",
       "      <th>key</th>\n",
       "      <th>chunk_index</th>\n",
       "      <th>start_index</th>\n",
       "      <th>end_index</th>\n",
       "      <th>start_date</th>\n",
       "      <th>end_date</th>\n",
       "      <th>period</th>\n",
       "      <th>targets_missing_rate</th>\n",
       "      <th>sampling_error</th>\n",
       "      <th>value</th>\n",
       "      <th>upper_threshold</th>\n",
       "      <th>lower_threshold</th>\n",
       "      <th>alert</th>\n",
       "      <th>sampling_error</th>\n",
       "      <th>value</th>\n",
       "      <th>upper_threshold</th>\n",
       "      <th>lower_threshold</th>\n",
       "      <th>alert</th>\n",
       "      <th>sampling_error</th>\n",
       "      <th>value</th>\n",
       "      <th>upper_threshold</th>\n",
       "      <th>lower_threshold</th>\n",
       "      <th>alert</th>\n",
       "      <th>sampling_error</th>\n",
       "      <th>value</th>\n",
       "      <th>upper_threshold</th>\n",
       "      <th>lower_threshold</th>\n",
       "      <th>alert</th>\n",
       "      <th>sampling_error</th>\n",
       "      <th>value</th>\n",
       "      <th>upper_threshold</th>\n",
       "      <th>lower_threshold</th>\n",
       "      <th>alert</th>\n",
       "      <th>sampling_error</th>\n",
       "      <th>value</th>\n",
       "      <th>upper_threshold</th>\n",
       "      <th>lower_threshold</th>\n",
       "      <th>alert</th>\n",
       "      <th>sampling_error</th>\n",
       "      <th>value</th>\n",
       "      <th>upper_threshold</th>\n",
       "      <th>lower_threshold</th>\n",
       "      <th>alert</th>\n",
       "      <th>sampling_error</th>\n",
       "      <th>value</th>\n",
       "      <th>upper_threshold</th>\n",
       "      <th>lower_threshold</th>\n",
       "      <th>alert</th>\n",
       "      <th>sampling_error</th>\n",
       "      <th>value</th>\n",
       "      <th>upper_threshold</th>\n",
       "      <th>lower_threshold</th>\n",
       "      <th>alert</th>\n",
       "    </tr>\n",
       "  </thead>\n",
       "  <tbody>\n",
       "    <tr>\n",
       "      <th>0</th>\n",
       "      <td>[0:5999]</td>\n",
       "      <td>0</td>\n",
       "      <td>0</td>\n",
       "      <td>5999</td>\n",
       "      <td>2020-05-02 02:01:30</td>\n",
       "      <td>2020-05-14 12:25:35</td>\n",
       "      <td>reference</td>\n",
       "      <td>0.0</td>\n",
       "      <td>33.328942</td>\n",
       "      <td>1464</td>\n",
       "      <td>1573.753866</td>\n",
       "      <td>1370.046134</td>\n",
       "      <td>False</td>\n",
       "      <td>15.909541</td>\n",
       "      <td>272</td>\n",
       "      <td>291.726567</td>\n",
       "      <td>237.873433</td>\n",
       "      <td>False</td>\n",
       "      <td>15.753897</td>\n",
       "      <td>261</td>\n",
       "      <td>282.490258</td>\n",
       "      <td>236.309742</td>\n",
       "      <td>False</td>\n",
       "      <td>16.026503</td>\n",
       "      <td>300</td>\n",
       "      <td>316.019104</td>\n",
       "      <td>221.780896</td>\n",
       "      <td>False</td>\n",
       "      <td>33.747865</td>\n",
       "      <td>1521</td>\n",
       "      <td>1595.469207</td>\n",
       "      <td>1460.730793</td>\n",
       "      <td>False</td>\n",
       "      <td>14.342844</td>\n",
       "      <td>208</td>\n",
       "      <td>253.123234</td>\n",
       "      <td>173.476766</td>\n",
       "      <td>False</td>\n",
       "      <td>15.254473</td>\n",
       "      <td>220</td>\n",
       "      <td>276.047727</td>\n",
       "      <td>208.952273</td>\n",
       "      <td>False</td>\n",
       "      <td>14.937255</td>\n",
       "      <td>236</td>\n",
       "      <td>265.0577</td>\n",
       "      <td>199.1423</td>\n",
       "      <td>False</td>\n",
       "      <td>33.681446</td>\n",
       "      <td>1518</td>\n",
       "      <td>1620.637591</td>\n",
       "      <td>1417.362409</td>\n",
       "      <td>False</td>\n",
       "    </tr>\n",
       "    <tr>\n",
       "      <th>1</th>\n",
       "      <td>[6000:11999]</td>\n",
       "      <td>1</td>\n",
       "      <td>6000</td>\n",
       "      <td>11999</td>\n",
       "      <td>2020-05-14 12:29:25</td>\n",
       "      <td>2020-05-26 18:27:42</td>\n",
       "      <td>reference</td>\n",
       "      <td>0.0</td>\n",
       "      <td>33.328942</td>\n",
       "      <td>1523</td>\n",
       "      <td>1573.753866</td>\n",
       "      <td>1370.046134</td>\n",
       "      <td>False</td>\n",
       "      <td>15.909541</td>\n",
       "      <td>275</td>\n",
       "      <td>291.726567</td>\n",
       "      <td>237.873433</td>\n",
       "      <td>False</td>\n",
       "      <td>15.753897</td>\n",
       "      <td>252</td>\n",
       "      <td>282.490258</td>\n",
       "      <td>236.309742</td>\n",
       "      <td>False</td>\n",
       "      <td>16.026503</td>\n",
       "      <td>284</td>\n",
       "      <td>316.019104</td>\n",
       "      <td>221.780896</td>\n",
       "      <td>False</td>\n",
       "      <td>33.747865</td>\n",
       "      <td>1500</td>\n",
       "      <td>1595.469207</td>\n",
       "      <td>1460.730793</td>\n",
       "      <td>False</td>\n",
       "      <td>14.342844</td>\n",
       "      <td>218</td>\n",
       "      <td>253.123234</td>\n",
       "      <td>173.476766</td>\n",
       "      <td>False</td>\n",
       "      <td>15.254473</td>\n",
       "      <td>245</td>\n",
       "      <td>276.047727</td>\n",
       "      <td>208.952273</td>\n",
       "      <td>False</td>\n",
       "      <td>14.937255</td>\n",
       "      <td>220</td>\n",
       "      <td>265.0577</td>\n",
       "      <td>199.1423</td>\n",
       "      <td>False</td>\n",
       "      <td>33.681446</td>\n",
       "      <td>1483</td>\n",
       "      <td>1620.637591</td>\n",
       "      <td>1417.362409</td>\n",
       "      <td>False</td>\n",
       "    </tr>\n",
       "    <tr>\n",
       "      <th>2</th>\n",
       "      <td>[12000:17999]</td>\n",
       "      <td>2</td>\n",
       "      <td>12000</td>\n",
       "      <td>17999</td>\n",
       "      <td>2020-05-26 18:31:06</td>\n",
       "      <td>2020-06-07 19:55:45</td>\n",
       "      <td>reference</td>\n",
       "      <td>0.0</td>\n",
       "      <td>33.328942</td>\n",
       "      <td>1478</td>\n",
       "      <td>1573.753866</td>\n",
       "      <td>1370.046134</td>\n",
       "      <td>False</td>\n",
       "      <td>15.909541</td>\n",
       "      <td>246</td>\n",
       "      <td>291.726567</td>\n",
       "      <td>237.873433</td>\n",
       "      <td>False</td>\n",
       "      <td>15.753897</td>\n",
       "      <td>257</td>\n",
       "      <td>282.490258</td>\n",
       "      <td>236.309742</td>\n",
       "      <td>False</td>\n",
       "      <td>16.026503</td>\n",
       "      <td>273</td>\n",
       "      <td>316.019104</td>\n",
       "      <td>221.780896</td>\n",
       "      <td>False</td>\n",
       "      <td>33.747865</td>\n",
       "      <td>1533</td>\n",
       "      <td>1595.469207</td>\n",
       "      <td>1460.730793</td>\n",
       "      <td>False</td>\n",
       "      <td>14.342844</td>\n",
       "      <td>182</td>\n",
       "      <td>253.123234</td>\n",
       "      <td>173.476766</td>\n",
       "      <td>False</td>\n",
       "      <td>15.254473</td>\n",
       "      <td>254</td>\n",
       "      <td>276.047727</td>\n",
       "      <td>208.952273</td>\n",
       "      <td>False</td>\n",
       "      <td>14.937255</td>\n",
       "      <td>245</td>\n",
       "      <td>265.0577</td>\n",
       "      <td>199.1423</td>\n",
       "      <td>False</td>\n",
       "      <td>33.681446</td>\n",
       "      <td>1532</td>\n",
       "      <td>1620.637591</td>\n",
       "      <td>1417.362409</td>\n",
       "      <td>False</td>\n",
       "    </tr>\n",
       "  </tbody>\n",
       "</table>\n",
       "</div>"
      ],
      "text/plain": [
       "           chunk                                                        \\\n",
       "             key chunk_index start_index end_index          start_date   \n",
       "0       [0:5999]           0           0      5999 2020-05-02 02:01:30   \n",
       "1   [6000:11999]           1        6000     11999 2020-05-14 12:29:25   \n",
       "2  [12000:17999]           2       12000     17999 2020-05-26 18:31:06   \n",
       "\n",
       "                                                       \\\n",
       "             end_date     period targets_missing_rate   \n",
       "0 2020-05-14 12:25:35  reference                  0.0   \n",
       "1 2020-05-26 18:27:42  reference                  0.0   \n",
       "2 2020-06-07 19:55:45  reference                  0.0   \n",
       "\n",
       "  true_highstreet_card_pred_highstreet_card                        \\\n",
       "                             sampling_error value upper_threshold   \n",
       "0                                 33.328942  1464     1573.753866   \n",
       "1                                 33.328942  1523     1573.753866   \n",
       "2                                 33.328942  1478     1573.753866   \n",
       "\n",
       "                         true_highstreet_card_pred_prepaid_card        \\\n",
       "  lower_threshold  alert                         sampling_error value   \n",
       "0     1370.046134  False                              15.909541   272   \n",
       "1     1370.046134  False                              15.909541   275   \n",
       "2     1370.046134  False                              15.909541   246   \n",
       "\n",
       "                                          \\\n",
       "  upper_threshold lower_threshold  alert   \n",
       "0      291.726567      237.873433  False   \n",
       "1      291.726567      237.873433  False   \n",
       "2      291.726567      237.873433  False   \n",
       "\n",
       "  true_highstreet_card_pred_upmarket_card                        \\\n",
       "                           sampling_error value upper_threshold   \n",
       "0                               15.753897   261      282.490258   \n",
       "1                               15.753897   252      282.490258   \n",
       "2                               15.753897   257      282.490258   \n",
       "\n",
       "                         true_prepaid_card_pred_highstreet_card        \\\n",
       "  lower_threshold  alert                         sampling_error value   \n",
       "0      236.309742  False                              16.026503   300   \n",
       "1      236.309742  False                              16.026503   284   \n",
       "2      236.309742  False                              16.026503   273   \n",
       "\n",
       "                                         true_prepaid_card_pred_prepaid_card  \\\n",
       "  upper_threshold lower_threshold  alert                      sampling_error   \n",
       "0      316.019104      221.780896  False                           33.747865   \n",
       "1      316.019104      221.780896  False                           33.747865   \n",
       "2      316.019104      221.780896  False                           33.747865   \n",
       "\n",
       "                                                \\\n",
       "  value upper_threshold lower_threshold  alert   \n",
       "0  1521     1595.469207     1460.730793  False   \n",
       "1  1500     1595.469207     1460.730793  False   \n",
       "2  1533     1595.469207     1460.730793  False   \n",
       "\n",
       "  true_prepaid_card_pred_upmarket_card                                        \\\n",
       "                        sampling_error value upper_threshold lower_threshold   \n",
       "0                            14.342844   208      253.123234      173.476766   \n",
       "1                            14.342844   218      253.123234      173.476766   \n",
       "2                            14.342844   182      253.123234      173.476766   \n",
       "\n",
       "         true_upmarket_card_pred_highstreet_card                        \\\n",
       "   alert                          sampling_error value upper_threshold   \n",
       "0  False                               15.254473   220      276.047727   \n",
       "1  False                               15.254473   245      276.047727   \n",
       "2  False                               15.254473   254      276.047727   \n",
       "\n",
       "                         true_upmarket_card_pred_prepaid_card        \\\n",
       "  lower_threshold  alert                       sampling_error value   \n",
       "0      208.952273  False                            14.937255   236   \n",
       "1      208.952273  False                            14.937255   220   \n",
       "2      208.952273  False                            14.937255   245   \n",
       "\n",
       "                                          \\\n",
       "  upper_threshold lower_threshold  alert   \n",
       "0        265.0577        199.1423  False   \n",
       "1        265.0577        199.1423  False   \n",
       "2        265.0577        199.1423  False   \n",
       "\n",
       "  true_upmarket_card_pred_upmarket_card                                        \\\n",
       "                         sampling_error value upper_threshold lower_threshold   \n",
       "0                             33.681446  1518     1620.637591     1417.362409   \n",
       "1                             33.681446  1483     1620.637591     1417.362409   \n",
       "2                             33.681446  1532     1620.637591     1417.362409   \n",
       "\n",
       "          \n",
       "   alert  \n",
       "0  False  \n",
       "1  False  \n",
       "2  False  "
      ]
     },
     "execution_count": 17,
     "metadata": {},
     "output_type": "execute_result"
    }
   ],
   "source": [
    "results.to_df().head(3)"
   ]
  },
  {
   "cell_type": "code",
   "execution_count": 18,
   "metadata": {},
   "outputs": [
    {
     "data": {
      "application/vnd.plotly.v1+json": {
       "config": {
        "plotlyServerURL": "https://plot.ly"
       },
       "data": [
        {
         "hoverinfo": "skip",
         "legendgroup": "metric_reference",
         "line": {
          "color": "#00c8e5",
          "shape": "hv",
          "width": 2
         },
         "mode": "lines",
         "name": "Metric",
         "showlegend": true,
         "type": "scatter",
         "x": [
          "2020-05-02T02:01:30",
          "2020-05-14T12:29:25",
          "2020-05-26T18:31:06",
          "2020-06-07T19:58:39",
          "2020-06-19T19:44:14",
          "2020-07-02T02:06:56",
          "2020-07-14T08:14:08",
          "2020-07-26T12:57:37",
          "2020-08-07T16:33:44",
          "2020-08-20T00:07:58",
          "2020-09-01T03:03:23"
         ],
         "xaxis": "x",
         "y": [
          1464,
          1523,
          1478,
          1473,
          1452,
          1457,
          1484,
          1534,
          1418,
          1436,
          1436
         ],
         "yaxis": "y"
        },
        {
         "customdata": [
          [
           "Realized <b>true class: highstreet_card, predicted class: highstreet_card</b>",
           "<b style=\"color:#00c8e5;line-height:60px\">Reference</b>",
           "",
           "[0:5999]",
           "From <b>May-02-2020</b> to <b>May-14-2020</b>",
           1464,
           99.9868
          ],
          [
           "Realized <b>true class: highstreet_card, predicted class: highstreet_card</b>",
           "<b style=\"color:#00c8e5;line-height:60px\">Reference</b>",
           "",
           "[6000:11999]",
           "From <b>May-14-2020</b> to <b>May-26-2020</b>",
           1523,
           99.9868
          ],
          [
           "Realized <b>true class: highstreet_card, predicted class: highstreet_card</b>",
           "<b style=\"color:#00c8e5;line-height:60px\">Reference</b>",
           "",
           "[12000:17999]",
           "From <b>May-26-2020</b> to <b>Jun-07-2020</b>",
           1478,
           99.9868
          ],
          [
           "Realized <b>true class: highstreet_card, predicted class: highstreet_card</b>",
           "<b style=\"color:#00c8e5;line-height:60px\">Reference</b>",
           "",
           "[18000:23999]",
           "From <b>Jun-07-2020</b> to <b>Jun-19-2020</b>",
           1473,
           99.9868
          ],
          [
           "Realized <b>true class: highstreet_card, predicted class: highstreet_card</b>",
           "<b style=\"color:#00c8e5;line-height:60px\">Reference</b>",
           "",
           "[24000:29999]",
           "From <b>Jun-19-2020</b> to <b>Jul-02-2020</b>",
           1452,
           99.9868
          ],
          [
           "Realized <b>true class: highstreet_card, predicted class: highstreet_card</b>",
           "<b style=\"color:#00c8e5;line-height:60px\">Reference</b>",
           "",
           "[30000:35999]",
           "From <b>Jul-02-2020</b> to <b>Jul-14-2020</b>",
           1457,
           99.9868
          ],
          [
           "Realized <b>true class: highstreet_card, predicted class: highstreet_card</b>",
           "<b style=\"color:#00c8e5;line-height:60px\">Reference</b>",
           "",
           "[36000:41999]",
           "From <b>Jul-14-2020</b> to <b>Jul-26-2020</b>",
           1484,
           99.9868
          ],
          [
           "Realized <b>true class: highstreet_card, predicted class: highstreet_card</b>",
           "<b style=\"color:#00c8e5;line-height:60px\">Reference</b>",
           "",
           "[42000:47999]",
           "From <b>Jul-26-2020</b> to <b>Aug-07-2020</b>",
           1534,
           99.9868
          ],
          [
           "Realized <b>true class: highstreet_card, predicted class: highstreet_card</b>",
           "<b style=\"color:#00c8e5;line-height:60px\">Reference</b>",
           "",
           "[48000:53999]",
           "From <b>Aug-07-2020</b> to <b>Aug-20-2020</b>",
           1418,
           99.9868
          ],
          [
           "Realized <b>true class: highstreet_card, predicted class: highstreet_card</b>",
           "<b style=\"color:#00c8e5;line-height:60px\">Reference</b>",
           "",
           "[54000:59999]",
           "From <b>Aug-20-2020</b> to <b>Sep-01-2020</b>",
           1436,
           99.9868
          ]
         ],
         "hovertemplate": "%{customdata[1]} &nbsp; &nbsp; %{customdata[2]} <br />Chunk: <b>%{customdata[3]}</b> &nbsp; &nbsp; %{customdata[4]} <br />%{customdata[0]}: <b>%{customdata[5]}</b><br />Confidence band: +/- <b>%{customdata[6]}</b><br /><extra></extra>",
         "legendgroup": "metric_reference",
         "marker": {
          "color": "#00c8e5",
          "size": 5,
          "symbol": "circle"
         },
         "mode": "markers",
         "name": "Metric",
         "showlegend": false,
         "type": "scatter",
         "x": [
          "2020-05-08T07:15:27.500000",
          "2020-05-20T15:30:15.500000",
          "2020-06-01T19:14:52.500000",
          "2020-06-13T19:51:26.500000",
          "2020-06-25T22:55:35",
          "2020-07-08T05:10:32",
          "2020-07-20T10:35:52.500000",
          "2020-08-01T14:45:40.500000",
          "2020-08-13T20:20:51",
          "2020-08-26T01:35:40.500000"
         ],
         "xaxis": "x",
         "y": [
          1464,
          1523,
          1478,
          1473,
          1452,
          1457,
          1484,
          1534,
          1418,
          1436,
          1436
         ],
         "yaxis": "y"
        },
        {
         "hoverinfo": "skip",
         "legendgroup": "metric_analysis",
         "line": {
          "color": "#00c8e5",
          "shape": "hv",
          "width": 2
         },
         "mode": "lines",
         "name": "Metric",
         "showlegend": false,
         "type": "scatter",
         "x": [
          "2020-09-01T03:10:01",
          "2020-09-13T16:15:32",
          "2020-09-25T19:50:04",
          "2020-10-08T02:57:34",
          "2020-10-20T15:49:06",
          "2020-11-01T22:04:59",
          "2020-11-14T03:55:49",
          "2020-11-26T09:19:22",
          "2020-12-08T14:34:25",
          "2020-12-20T18:31:09",
          "2021-01-01T22:57:55"
         ],
         "xaxis": "x",
         "y": [
          1457,
          1536,
          1451,
          1450,
          1488,
          1322,
          1346,
          1397,
          1353,
          1354,
          1354
         ],
         "yaxis": "y"
        },
        {
         "customdata": [
          [
           "Realized <b>true class: highstreet_card, predicted class: highstreet_card</b>",
           "<b style=\"color:#3b0280;line-height:60px\">Analysis</b>",
           "",
           "[0:5999]",
           "From <b>Sep-01-2020</b> to <b>Sep-13-2020</b>",
           1457,
           99.9868
          ],
          [
           "Realized <b>true class: highstreet_card, predicted class: highstreet_card</b>",
           "<b style=\"color:#3b0280;line-height:60px\">Analysis</b>",
           "",
           "[6000:11999]",
           "From <b>Sep-13-2020</b> to <b>Sep-25-2020</b>",
           1536,
           99.9868
          ],
          [
           "Realized <b>true class: highstreet_card, predicted class: highstreet_card</b>",
           "<b style=\"color:#3b0280;line-height:60px\">Analysis</b>",
           "",
           "[12000:17999]",
           "From <b>Sep-25-2020</b> to <b>Oct-08-2020</b>",
           1451,
           99.9868
          ],
          [
           "Realized <b>true class: highstreet_card, predicted class: highstreet_card</b>",
           "<b style=\"color:#3b0280;line-height:60px\">Analysis</b>",
           "",
           "[18000:23999]",
           "From <b>Oct-08-2020</b> to <b>Oct-20-2020</b>",
           1450,
           99.9868
          ],
          [
           "Realized <b>true class: highstreet_card, predicted class: highstreet_card</b>",
           "<b style=\"color:#3b0280;line-height:60px\">Analysis</b>",
           "",
           "[24000:29999]",
           "From <b>Oct-20-2020</b> to <b>Nov-01-2020</b>",
           1488,
           99.9868
          ],
          [
           "Realized <b>true class: highstreet_card, predicted class: highstreet_card</b>",
           "<b style=\"color:#3b0280;line-height:60px\">Analysis</b>",
           "<span style=\"color:#AD0000\">⚠ <b>Drift detected</b></span>",
           "[30000:35999]",
           "From <b>Nov-01-2020</b> to <b>Nov-14-2020</b>",
           1322,
           99.9868
          ],
          [
           "Realized <b>true class: highstreet_card, predicted class: highstreet_card</b>",
           "<b style=\"color:#3b0280;line-height:60px\">Analysis</b>",
           "<span style=\"color:#AD0000\">⚠ <b>Drift detected</b></span>",
           "[36000:41999]",
           "From <b>Nov-14-2020</b> to <b>Nov-26-2020</b>",
           1346,
           99.9868
          ],
          [
           "Realized <b>true class: highstreet_card, predicted class: highstreet_card</b>",
           "<b style=\"color:#3b0280;line-height:60px\">Analysis</b>",
           "",
           "[42000:47999]",
           "From <b>Nov-26-2020</b> to <b>Dec-08-2020</b>",
           1397,
           99.9868
          ],
          [
           "Realized <b>true class: highstreet_card, predicted class: highstreet_card</b>",
           "<b style=\"color:#3b0280;line-height:60px\">Analysis</b>",
           "<span style=\"color:#AD0000\">⚠ <b>Drift detected</b></span>",
           "[48000:53999]",
           "From <b>Dec-08-2020</b> to <b>Dec-20-2020</b>",
           1353,
           99.9868
          ],
          [
           "Realized <b>true class: highstreet_card, predicted class: highstreet_card</b>",
           "<b style=\"color:#3b0280;line-height:60px\">Analysis</b>",
           "<span style=\"color:#AD0000\">⚠ <b>Drift detected</b></span>",
           "[54000:59999]",
           "From <b>Dec-20-2020</b> to <b>Jan-01-2021</b>",
           1354,
           99.9868
          ]
         ],
         "hovertemplate": "%{customdata[1]} &nbsp; &nbsp; %{customdata[2]} <br />Chunk: <b>%{customdata[3]}</b> &nbsp; &nbsp; %{customdata[4]} <br />%{customdata[0]}: <b>%{customdata[5]}</b><br />Confidence band: +/- <b>%{customdata[6]}</b><br /><extra></extra>",
         "legendgroup": "metric_analysis",
         "marker": {
          "color": "#00c8e5",
          "size": 5,
          "symbol": "circle"
         },
         "mode": "markers",
         "name": "Metric",
         "showlegend": false,
         "type": "scatter",
         "x": [
          "2020-09-07T09:42:46.500000",
          "2020-09-19T18:02:48",
          "2020-10-01T23:23:49",
          "2020-10-14T09:23:20",
          "2020-10-26T18:57:02.500000",
          "2020-11-08T01:00:24",
          "2020-11-20T06:37:35.500000",
          "2020-12-02T11:56:53.500000",
          "2020-12-14T16:32:47",
          "2020-12-26T20:44:32"
         ],
         "xaxis": "x",
         "y": [
          1457,
          1536,
          1451,
          1450,
          1488,
          1322,
          1346,
          1397,
          1353,
          1354,
          1354
         ],
         "yaxis": "y"
        },
        {
         "hoverinfo": "skip",
         "legendgroup": "alert",
         "marker": {
          "color": "#DD4040",
          "size": 8,
          "symbol": "diamond"
         },
         "mode": "markers",
         "name": "Alert",
         "showlegend": true,
         "type": "scatter",
         "x": [
          "2020-11-08T01:00:24",
          "2020-11-20T06:37:35.500000",
          "2020-12-14T16:32:47",
          "2020-12-26T20:44:32"
         ],
         "xaxis": "x",
         "y": [
          1322,
          1346,
          1353,
          1354
         ],
         "yaxis": "y"
        },
        {
         "hoverinfo": "skip",
         "legendgroup": "thresh",
         "line": {
          "color": "#DD4040",
          "dash": "dash",
          "width": 2
         },
         "mode": "lines",
         "name": "Threshold",
         "showlegend": true,
         "type": "scatter",
         "x": [
          "2020-05-02T02:01:30",
          "2020-05-14T12:29:25",
          "2020-05-26T18:31:06",
          "2020-06-07T19:58:39",
          "2020-06-19T19:44:14",
          "2020-07-02T02:06:56",
          "2020-07-14T08:14:08",
          "2020-07-26T12:57:37",
          "2020-08-07T16:33:44",
          "2020-08-20T00:07:58",
          "2020-09-01T03:03:23"
         ],
         "xaxis": "x",
         "y": [
          1573.7538659060128,
          1573.7538659060128,
          1573.7538659060128,
          1573.7538659060128,
          1573.7538659060128,
          1573.7538659060128,
          1573.7538659060128,
          1573.7538659060128,
          1573.7538659060128,
          1573.7538659060128,
          1573.7538659060128
         ],
         "yaxis": "y"
        },
        {
         "hoverinfo": "skip",
         "legendgroup": "thresh",
         "line": {
          "color": "#DD4040",
          "dash": "dash",
          "width": 2
         },
         "mode": "lines",
         "name": "Threshold",
         "showlegend": false,
         "type": "scatter",
         "x": [
          "2020-05-02T02:01:30",
          "2020-05-14T12:29:25",
          "2020-05-26T18:31:06",
          "2020-06-07T19:58:39",
          "2020-06-19T19:44:14",
          "2020-07-02T02:06:56",
          "2020-07-14T08:14:08",
          "2020-07-26T12:57:37",
          "2020-08-07T16:33:44",
          "2020-08-20T00:07:58",
          "2020-09-01T03:03:23"
         ],
         "xaxis": "x",
         "y": [
          1370.0461340939873,
          1370.0461340939873,
          1370.0461340939873,
          1370.0461340939873,
          1370.0461340939873,
          1370.0461340939873,
          1370.0461340939873,
          1370.0461340939873,
          1370.0461340939873,
          1370.0461340939873,
          1370.0461340939873
         ],
         "yaxis": "y"
        },
        {
         "hoverinfo": "skip",
         "legendgroup": "thresh",
         "line": {
          "color": "#DD4040",
          "dash": "dash",
          "width": 2
         },
         "mode": "lines",
         "name": "Threshold",
         "showlegend": false,
         "type": "scatter",
         "x": [
          "2020-09-01T03:10:01",
          "2020-09-13T16:15:32",
          "2020-09-25T19:50:04",
          "2020-10-08T02:57:34",
          "2020-10-20T15:49:06",
          "2020-11-01T22:04:59",
          "2020-11-14T03:55:49",
          "2020-11-26T09:19:22",
          "2020-12-08T14:34:25",
          "2020-12-20T18:31:09",
          "2021-01-01T22:57:55"
         ],
         "xaxis": "x",
         "y": [
          1573.7538659060128,
          1573.7538659060128,
          1573.7538659060128,
          1573.7538659060128,
          1573.7538659060128,
          1573.7538659060128,
          1573.7538659060128,
          1573.7538659060128,
          1573.7538659060128,
          1573.7538659060128,
          1573.7538659060128
         ],
         "yaxis": "y"
        },
        {
         "hoverinfo": "skip",
         "legendgroup": "thresh",
         "line": {
          "color": "#DD4040",
          "dash": "dash",
          "width": 2
         },
         "mode": "lines",
         "name": "Threshold",
         "showlegend": false,
         "type": "scatter",
         "x": [
          "2020-09-01T03:10:01",
          "2020-09-13T16:15:32",
          "2020-09-25T19:50:04",
          "2020-10-08T02:57:34",
          "2020-10-20T15:49:06",
          "2020-11-01T22:04:59",
          "2020-11-14T03:55:49",
          "2020-11-26T09:19:22",
          "2020-12-08T14:34:25",
          "2020-12-20T18:31:09",
          "2021-01-01T22:57:55"
         ],
         "xaxis": "x",
         "y": [
          1370.0461340939873,
          1370.0461340939873,
          1370.0461340939873,
          1370.0461340939873,
          1370.0461340939873,
          1370.0461340939873,
          1370.0461340939873,
          1370.0461340939873,
          1370.0461340939873,
          1370.0461340939873,
          1370.0461340939873
         ],
         "yaxis": "y"
        },
        {
         "hoverinfo": "skip",
         "legendgroup": "metric_reference",
         "line": {
          "color": "#00c8e5",
          "shape": "hv",
          "width": 2
         },
         "mode": "lines",
         "name": "Metric",
         "showlegend": false,
         "type": "scatter",
         "x": [
          "2020-05-02T02:01:30",
          "2020-05-14T12:29:25",
          "2020-05-26T18:31:06",
          "2020-06-07T19:58:39",
          "2020-06-19T19:44:14",
          "2020-07-02T02:06:56",
          "2020-07-14T08:14:08",
          "2020-07-26T12:57:37",
          "2020-08-07T16:33:44",
          "2020-08-20T00:07:58",
          "2020-09-01T03:03:23"
         ],
         "xaxis": "x2",
         "y": [
          272,
          275,
          246,
          256,
          261,
          277,
          268,
          266,
          268,
          259,
          259
         ],
         "yaxis": "y2"
        },
        {
         "customdata": [
          [
           "Realized <b>true class: highstreet_card, predicted class: prepaid_card</b>",
           "<b style=\"color:#00c8e5;line-height:60px\">Reference</b>",
           "",
           "[0:5999]",
           "From <b>May-02-2020</b> to <b>May-14-2020</b>",
           272,
           47.7286
          ],
          [
           "Realized <b>true class: highstreet_card, predicted class: prepaid_card</b>",
           "<b style=\"color:#00c8e5;line-height:60px\">Reference</b>",
           "",
           "[6000:11999]",
           "From <b>May-14-2020</b> to <b>May-26-2020</b>",
           275,
           47.7286
          ],
          [
           "Realized <b>true class: highstreet_card, predicted class: prepaid_card</b>",
           "<b style=\"color:#00c8e5;line-height:60px\">Reference</b>",
           "",
           "[12000:17999]",
           "From <b>May-26-2020</b> to <b>Jun-07-2020</b>",
           246,
           47.7286
          ],
          [
           "Realized <b>true class: highstreet_card, predicted class: prepaid_card</b>",
           "<b style=\"color:#00c8e5;line-height:60px\">Reference</b>",
           "",
           "[18000:23999]",
           "From <b>Jun-07-2020</b> to <b>Jun-19-2020</b>",
           256,
           47.7286
          ],
          [
           "Realized <b>true class: highstreet_card, predicted class: prepaid_card</b>",
           "<b style=\"color:#00c8e5;line-height:60px\">Reference</b>",
           "",
           "[24000:29999]",
           "From <b>Jun-19-2020</b> to <b>Jul-02-2020</b>",
           261,
           47.7286
          ],
          [
           "Realized <b>true class: highstreet_card, predicted class: prepaid_card</b>",
           "<b style=\"color:#00c8e5;line-height:60px\">Reference</b>",
           "",
           "[30000:35999]",
           "From <b>Jul-02-2020</b> to <b>Jul-14-2020</b>",
           277,
           47.7286
          ],
          [
           "Realized <b>true class: highstreet_card, predicted class: prepaid_card</b>",
           "<b style=\"color:#00c8e5;line-height:60px\">Reference</b>",
           "",
           "[36000:41999]",
           "From <b>Jul-14-2020</b> to <b>Jul-26-2020</b>",
           268,
           47.7286
          ],
          [
           "Realized <b>true class: highstreet_card, predicted class: prepaid_card</b>",
           "<b style=\"color:#00c8e5;line-height:60px\">Reference</b>",
           "",
           "[42000:47999]",
           "From <b>Jul-26-2020</b> to <b>Aug-07-2020</b>",
           266,
           47.7286
          ],
          [
           "Realized <b>true class: highstreet_card, predicted class: prepaid_card</b>",
           "<b style=\"color:#00c8e5;line-height:60px\">Reference</b>",
           "",
           "[48000:53999]",
           "From <b>Aug-07-2020</b> to <b>Aug-20-2020</b>",
           268,
           47.7286
          ],
          [
           "Realized <b>true class: highstreet_card, predicted class: prepaid_card</b>",
           "<b style=\"color:#00c8e5;line-height:60px\">Reference</b>",
           "",
           "[54000:59999]",
           "From <b>Aug-20-2020</b> to <b>Sep-01-2020</b>",
           259,
           47.7286
          ]
         ],
         "hovertemplate": "%{customdata[1]} &nbsp; &nbsp; %{customdata[2]} <br />Chunk: <b>%{customdata[3]}</b> &nbsp; &nbsp; %{customdata[4]} <br />%{customdata[0]}: <b>%{customdata[5]}</b><br />Confidence band: +/- <b>%{customdata[6]}</b><br /><extra></extra>",
         "legendgroup": "metric_reference",
         "marker": {
          "color": "#00c8e5",
          "size": 5,
          "symbol": "circle"
         },
         "mode": "markers",
         "name": "Metric",
         "showlegend": false,
         "type": "scatter",
         "x": [
          "2020-05-08T07:15:27.500000",
          "2020-05-20T15:30:15.500000",
          "2020-06-01T19:14:52.500000",
          "2020-06-13T19:51:26.500000",
          "2020-06-25T22:55:35",
          "2020-07-08T05:10:32",
          "2020-07-20T10:35:52.500000",
          "2020-08-01T14:45:40.500000",
          "2020-08-13T20:20:51",
          "2020-08-26T01:35:40.500000"
         ],
         "xaxis": "x2",
         "y": [
          272,
          275,
          246,
          256,
          261,
          277,
          268,
          266,
          268,
          259,
          259
         ],
         "yaxis": "y2"
        },
        {
         "hoverinfo": "skip",
         "legendgroup": "metric_analysis",
         "line": {
          "color": "#00c8e5",
          "shape": "hv",
          "width": 2
         },
         "mode": "lines",
         "name": "Metric",
         "showlegend": false,
         "type": "scatter",
         "x": [
          "2020-09-01T03:10:01",
          "2020-09-13T16:15:32",
          "2020-09-25T19:50:04",
          "2020-10-08T02:57:34",
          "2020-10-20T15:49:06",
          "2020-11-01T22:04:59",
          "2020-11-14T03:55:49",
          "2020-11-26T09:19:22",
          "2020-12-08T14:34:25",
          "2020-12-20T18:31:09",
          "2021-01-01T22:57:55"
         ],
         "xaxis": "x2",
         "y": [
          275,
          261,
          250,
          248,
          240,
          421,
          404,
          396,
          412,
          390,
          390
         ],
         "yaxis": "y2"
        },
        {
         "customdata": [
          [
           "Realized <b>true class: highstreet_card, predicted class: prepaid_card</b>",
           "<b style=\"color:#3b0280;line-height:60px\">Analysis</b>",
           "",
           "[0:5999]",
           "From <b>Sep-01-2020</b> to <b>Sep-13-2020</b>",
           275,
           47.7286
          ],
          [
           "Realized <b>true class: highstreet_card, predicted class: prepaid_card</b>",
           "<b style=\"color:#3b0280;line-height:60px\">Analysis</b>",
           "",
           "[6000:11999]",
           "From <b>Sep-13-2020</b> to <b>Sep-25-2020</b>",
           261,
           47.7286
          ],
          [
           "Realized <b>true class: highstreet_card, predicted class: prepaid_card</b>",
           "<b style=\"color:#3b0280;line-height:60px\">Analysis</b>",
           "",
           "[12000:17999]",
           "From <b>Sep-25-2020</b> to <b>Oct-08-2020</b>",
           250,
           47.7286
          ],
          [
           "Realized <b>true class: highstreet_card, predicted class: prepaid_card</b>",
           "<b style=\"color:#3b0280;line-height:60px\">Analysis</b>",
           "",
           "[18000:23999]",
           "From <b>Oct-08-2020</b> to <b>Oct-20-2020</b>",
           248,
           47.7286
          ],
          [
           "Realized <b>true class: highstreet_card, predicted class: prepaid_card</b>",
           "<b style=\"color:#3b0280;line-height:60px\">Analysis</b>",
           "",
           "[24000:29999]",
           "From <b>Oct-20-2020</b> to <b>Nov-01-2020</b>",
           240,
           47.7286
          ],
          [
           "Realized <b>true class: highstreet_card, predicted class: prepaid_card</b>",
           "<b style=\"color:#3b0280;line-height:60px\">Analysis</b>",
           "<span style=\"color:#AD0000\">⚠ <b>Drift detected</b></span>",
           "[30000:35999]",
           "From <b>Nov-01-2020</b> to <b>Nov-14-2020</b>",
           421,
           47.7286
          ],
          [
           "Realized <b>true class: highstreet_card, predicted class: prepaid_card</b>",
           "<b style=\"color:#3b0280;line-height:60px\">Analysis</b>",
           "<span style=\"color:#AD0000\">⚠ <b>Drift detected</b></span>",
           "[36000:41999]",
           "From <b>Nov-14-2020</b> to <b>Nov-26-2020</b>",
           404,
           47.7286
          ],
          [
           "Realized <b>true class: highstreet_card, predicted class: prepaid_card</b>",
           "<b style=\"color:#3b0280;line-height:60px\">Analysis</b>",
           "<span style=\"color:#AD0000\">⚠ <b>Drift detected</b></span>",
           "[42000:47999]",
           "From <b>Nov-26-2020</b> to <b>Dec-08-2020</b>",
           396,
           47.7286
          ],
          [
           "Realized <b>true class: highstreet_card, predicted class: prepaid_card</b>",
           "<b style=\"color:#3b0280;line-height:60px\">Analysis</b>",
           "<span style=\"color:#AD0000\">⚠ <b>Drift detected</b></span>",
           "[48000:53999]",
           "From <b>Dec-08-2020</b> to <b>Dec-20-2020</b>",
           412,
           47.7286
          ],
          [
           "Realized <b>true class: highstreet_card, predicted class: prepaid_card</b>",
           "<b style=\"color:#3b0280;line-height:60px\">Analysis</b>",
           "<span style=\"color:#AD0000\">⚠ <b>Drift detected</b></span>",
           "[54000:59999]",
           "From <b>Dec-20-2020</b> to <b>Jan-01-2021</b>",
           390,
           47.7286
          ]
         ],
         "hovertemplate": "%{customdata[1]} &nbsp; &nbsp; %{customdata[2]} <br />Chunk: <b>%{customdata[3]}</b> &nbsp; &nbsp; %{customdata[4]} <br />%{customdata[0]}: <b>%{customdata[5]}</b><br />Confidence band: +/- <b>%{customdata[6]}</b><br /><extra></extra>",
         "legendgroup": "metric_analysis",
         "marker": {
          "color": "#00c8e5",
          "size": 5,
          "symbol": "circle"
         },
         "mode": "markers",
         "name": "Metric",
         "showlegend": false,
         "type": "scatter",
         "x": [
          "2020-09-07T09:42:46.500000",
          "2020-09-19T18:02:48",
          "2020-10-01T23:23:49",
          "2020-10-14T09:23:20",
          "2020-10-26T18:57:02.500000",
          "2020-11-08T01:00:24",
          "2020-11-20T06:37:35.500000",
          "2020-12-02T11:56:53.500000",
          "2020-12-14T16:32:47",
          "2020-12-26T20:44:32"
         ],
         "xaxis": "x2",
         "y": [
          275,
          261,
          250,
          248,
          240,
          421,
          404,
          396,
          412,
          390,
          390
         ],
         "yaxis": "y2"
        },
        {
         "hoverinfo": "skip",
         "legendgroup": "alert",
         "marker": {
          "color": "#DD4040",
          "size": 8,
          "symbol": "diamond"
         },
         "mode": "markers",
         "name": "Alert",
         "showlegend": false,
         "type": "scatter",
         "x": [
          "2020-11-08T01:00:24",
          "2020-11-20T06:37:35.500000",
          "2020-12-02T11:56:53.500000",
          "2020-12-14T16:32:47",
          "2020-12-26T20:44:32"
         ],
         "xaxis": "x2",
         "y": [
          421,
          404,
          396,
          412,
          390
         ],
         "yaxis": "y2"
        },
        {
         "hoverinfo": "skip",
         "legendgroup": "thresh",
         "line": {
          "color": "#DD4040",
          "dash": "dash",
          "width": 2
         },
         "mode": "lines",
         "name": "Threshold",
         "showlegend": false,
         "type": "scatter",
         "x": [
          "2020-05-02T02:01:30",
          "2020-05-14T12:29:25",
          "2020-05-26T18:31:06",
          "2020-06-07T19:58:39",
          "2020-06-19T19:44:14",
          "2020-07-02T02:06:56",
          "2020-07-14T08:14:08",
          "2020-07-26T12:57:37",
          "2020-08-07T16:33:44",
          "2020-08-20T00:07:58",
          "2020-09-01T03:03:23"
         ],
         "xaxis": "x2",
         "y": [
          291.7265668067803,
          291.7265668067803,
          291.7265668067803,
          291.7265668067803,
          291.7265668067803,
          291.7265668067803,
          291.7265668067803,
          291.7265668067803,
          291.7265668067803,
          291.7265668067803,
          291.7265668067803
         ],
         "yaxis": "y2"
        },
        {
         "hoverinfo": "skip",
         "legendgroup": "thresh",
         "line": {
          "color": "#DD4040",
          "dash": "dash",
          "width": 2
         },
         "mode": "lines",
         "name": "Threshold",
         "showlegend": false,
         "type": "scatter",
         "x": [
          "2020-05-02T02:01:30",
          "2020-05-14T12:29:25",
          "2020-05-26T18:31:06",
          "2020-06-07T19:58:39",
          "2020-06-19T19:44:14",
          "2020-07-02T02:06:56",
          "2020-07-14T08:14:08",
          "2020-07-26T12:57:37",
          "2020-08-07T16:33:44",
          "2020-08-20T00:07:58",
          "2020-09-01T03:03:23"
         ],
         "xaxis": "x2",
         "y": [
          237.87343319321977,
          237.87343319321977,
          237.87343319321977,
          237.87343319321977,
          237.87343319321977,
          237.87343319321977,
          237.87343319321977,
          237.87343319321977,
          237.87343319321977,
          237.87343319321977,
          237.87343319321977
         ],
         "yaxis": "y2"
        },
        {
         "hoverinfo": "skip",
         "legendgroup": "thresh",
         "line": {
          "color": "#DD4040",
          "dash": "dash",
          "width": 2
         },
         "mode": "lines",
         "name": "Threshold",
         "showlegend": false,
         "type": "scatter",
         "x": [
          "2020-09-01T03:10:01",
          "2020-09-13T16:15:32",
          "2020-09-25T19:50:04",
          "2020-10-08T02:57:34",
          "2020-10-20T15:49:06",
          "2020-11-01T22:04:59",
          "2020-11-14T03:55:49",
          "2020-11-26T09:19:22",
          "2020-12-08T14:34:25",
          "2020-12-20T18:31:09",
          "2021-01-01T22:57:55"
         ],
         "xaxis": "x2",
         "y": [
          291.7265668067803,
          291.7265668067803,
          291.7265668067803,
          291.7265668067803,
          291.7265668067803,
          291.7265668067803,
          291.7265668067803,
          291.7265668067803,
          291.7265668067803,
          291.7265668067803,
          291.7265668067803
         ],
         "yaxis": "y2"
        },
        {
         "hoverinfo": "skip",
         "legendgroup": "thresh",
         "line": {
          "color": "#DD4040",
          "dash": "dash",
          "width": 2
         },
         "mode": "lines",
         "name": "Threshold",
         "showlegend": false,
         "type": "scatter",
         "x": [
          "2020-09-01T03:10:01",
          "2020-09-13T16:15:32",
          "2020-09-25T19:50:04",
          "2020-10-08T02:57:34",
          "2020-10-20T15:49:06",
          "2020-11-01T22:04:59",
          "2020-11-14T03:55:49",
          "2020-11-26T09:19:22",
          "2020-12-08T14:34:25",
          "2020-12-20T18:31:09",
          "2021-01-01T22:57:55"
         ],
         "xaxis": "x2",
         "y": [
          237.87343319321977,
          237.87343319321977,
          237.87343319321977,
          237.87343319321977,
          237.87343319321977,
          237.87343319321977,
          237.87343319321977,
          237.87343319321977,
          237.87343319321977,
          237.87343319321977,
          237.87343319321977
         ],
         "yaxis": "y2"
        },
        {
         "hoverinfo": "skip",
         "legendgroup": "metric_reference",
         "line": {
          "color": "#00c8e5",
          "shape": "hv",
          "width": 2
         },
         "mode": "lines",
         "name": "Metric",
         "showlegend": false,
         "type": "scatter",
         "x": [
          "2020-05-02T02:01:30",
          "2020-05-14T12:29:25",
          "2020-05-26T18:31:06",
          "2020-06-07T19:58:39",
          "2020-06-19T19:44:14",
          "2020-07-02T02:06:56",
          "2020-07-14T08:14:08",
          "2020-07-26T12:57:37",
          "2020-08-07T16:33:44",
          "2020-08-20T00:07:58",
          "2020-09-01T03:03:23"
         ],
         "xaxis": "x3",
         "y": [
          261,
          252,
          257,
          256,
          253,
          264,
          278,
          259,
          264,
          250,
          250
         ],
         "yaxis": "y3"
        },
        {
         "customdata": [
          [
           "Realized <b>true class: highstreet_card, predicted class: upmarket_card</b>",
           "<b style=\"color:#00c8e5;line-height:60px\">Reference</b>",
           "",
           "[0:5999]",
           "From <b>May-02-2020</b> to <b>May-14-2020</b>",
           261,
           47.2617
          ],
          [
           "Realized <b>true class: highstreet_card, predicted class: upmarket_card</b>",
           "<b style=\"color:#00c8e5;line-height:60px\">Reference</b>",
           "",
           "[6000:11999]",
           "From <b>May-14-2020</b> to <b>May-26-2020</b>",
           252,
           47.2617
          ],
          [
           "Realized <b>true class: highstreet_card, predicted class: upmarket_card</b>",
           "<b style=\"color:#00c8e5;line-height:60px\">Reference</b>",
           "",
           "[12000:17999]",
           "From <b>May-26-2020</b> to <b>Jun-07-2020</b>",
           257,
           47.2617
          ],
          [
           "Realized <b>true class: highstreet_card, predicted class: upmarket_card</b>",
           "<b style=\"color:#00c8e5;line-height:60px\">Reference</b>",
           "",
           "[18000:23999]",
           "From <b>Jun-07-2020</b> to <b>Jun-19-2020</b>",
           256,
           47.2617
          ],
          [
           "Realized <b>true class: highstreet_card, predicted class: upmarket_card</b>",
           "<b style=\"color:#00c8e5;line-height:60px\">Reference</b>",
           "",
           "[24000:29999]",
           "From <b>Jun-19-2020</b> to <b>Jul-02-2020</b>",
           253,
           47.2617
          ],
          [
           "Realized <b>true class: highstreet_card, predicted class: upmarket_card</b>",
           "<b style=\"color:#00c8e5;line-height:60px\">Reference</b>",
           "",
           "[30000:35999]",
           "From <b>Jul-02-2020</b> to <b>Jul-14-2020</b>",
           264,
           47.2617
          ],
          [
           "Realized <b>true class: highstreet_card, predicted class: upmarket_card</b>",
           "<b style=\"color:#00c8e5;line-height:60px\">Reference</b>",
           "",
           "[36000:41999]",
           "From <b>Jul-14-2020</b> to <b>Jul-26-2020</b>",
           278,
           47.2617
          ],
          [
           "Realized <b>true class: highstreet_card, predicted class: upmarket_card</b>",
           "<b style=\"color:#00c8e5;line-height:60px\">Reference</b>",
           "",
           "[42000:47999]",
           "From <b>Jul-26-2020</b> to <b>Aug-07-2020</b>",
           259,
           47.2617
          ],
          [
           "Realized <b>true class: highstreet_card, predicted class: upmarket_card</b>",
           "<b style=\"color:#00c8e5;line-height:60px\">Reference</b>",
           "",
           "[48000:53999]",
           "From <b>Aug-07-2020</b> to <b>Aug-20-2020</b>",
           264,
           47.2617
          ],
          [
           "Realized <b>true class: highstreet_card, predicted class: upmarket_card</b>",
           "<b style=\"color:#00c8e5;line-height:60px\">Reference</b>",
           "",
           "[54000:59999]",
           "From <b>Aug-20-2020</b> to <b>Sep-01-2020</b>",
           250,
           47.2617
          ]
         ],
         "hovertemplate": "%{customdata[1]} &nbsp; &nbsp; %{customdata[2]} <br />Chunk: <b>%{customdata[3]}</b> &nbsp; &nbsp; %{customdata[4]} <br />%{customdata[0]}: <b>%{customdata[5]}</b><br />Confidence band: +/- <b>%{customdata[6]}</b><br /><extra></extra>",
         "legendgroup": "metric_reference",
         "marker": {
          "color": "#00c8e5",
          "size": 5,
          "symbol": "circle"
         },
         "mode": "markers",
         "name": "Metric",
         "showlegend": false,
         "type": "scatter",
         "x": [
          "2020-05-08T07:15:27.500000",
          "2020-05-20T15:30:15.500000",
          "2020-06-01T19:14:52.500000",
          "2020-06-13T19:51:26.500000",
          "2020-06-25T22:55:35",
          "2020-07-08T05:10:32",
          "2020-07-20T10:35:52.500000",
          "2020-08-01T14:45:40.500000",
          "2020-08-13T20:20:51",
          "2020-08-26T01:35:40.500000"
         ],
         "xaxis": "x3",
         "y": [
          261,
          252,
          257,
          256,
          253,
          264,
          278,
          259,
          264,
          250,
          250
         ],
         "yaxis": "y3"
        },
        {
         "hoverinfo": "skip",
         "legendgroup": "metric_analysis",
         "line": {
          "color": "#00c8e5",
          "shape": "hv",
          "width": 2
         },
         "mode": "lines",
         "name": "Metric",
         "showlegend": false,
         "type": "scatter",
         "x": [
          "2020-09-01T03:10:01",
          "2020-09-13T16:15:32",
          "2020-09-25T19:50:04",
          "2020-10-08T02:57:34",
          "2020-10-20T15:49:06",
          "2020-11-01T22:04:59",
          "2020-11-14T03:55:49",
          "2020-11-26T09:19:22",
          "2020-12-08T14:34:25",
          "2020-12-20T18:31:09",
          "2021-01-01T22:57:55"
         ],
         "xaxis": "x3",
         "y": [
          250,
          237,
          259,
          251,
          277,
          330,
          318,
          302,
          312,
          326,
          326
         ],
         "yaxis": "y3"
        },
        {
         "customdata": [
          [
           "Realized <b>true class: highstreet_card, predicted class: upmarket_card</b>",
           "<b style=\"color:#3b0280;line-height:60px\">Analysis</b>",
           "",
           "[0:5999]",
           "From <b>Sep-01-2020</b> to <b>Sep-13-2020</b>",
           250,
           47.2617
          ],
          [
           "Realized <b>true class: highstreet_card, predicted class: upmarket_card</b>",
           "<b style=\"color:#3b0280;line-height:60px\">Analysis</b>",
           "",
           "[6000:11999]",
           "From <b>Sep-13-2020</b> to <b>Sep-25-2020</b>",
           237,
           47.2617
          ],
          [
           "Realized <b>true class: highstreet_card, predicted class: upmarket_card</b>",
           "<b style=\"color:#3b0280;line-height:60px\">Analysis</b>",
           "",
           "[12000:17999]",
           "From <b>Sep-25-2020</b> to <b>Oct-08-2020</b>",
           259,
           47.2617
          ],
          [
           "Realized <b>true class: highstreet_card, predicted class: upmarket_card</b>",
           "<b style=\"color:#3b0280;line-height:60px\">Analysis</b>",
           "",
           "[18000:23999]",
           "From <b>Oct-08-2020</b> to <b>Oct-20-2020</b>",
           251,
           47.2617
          ],
          [
           "Realized <b>true class: highstreet_card, predicted class: upmarket_card</b>",
           "<b style=\"color:#3b0280;line-height:60px\">Analysis</b>",
           "",
           "[24000:29999]",
           "From <b>Oct-20-2020</b> to <b>Nov-01-2020</b>",
           277,
           47.2617
          ],
          [
           "Realized <b>true class: highstreet_card, predicted class: upmarket_card</b>",
           "<b style=\"color:#3b0280;line-height:60px\">Analysis</b>",
           "<span style=\"color:#AD0000\">⚠ <b>Drift detected</b></span>",
           "[30000:35999]",
           "From <b>Nov-01-2020</b> to <b>Nov-14-2020</b>",
           330,
           47.2617
          ],
          [
           "Realized <b>true class: highstreet_card, predicted class: upmarket_card</b>",
           "<b style=\"color:#3b0280;line-height:60px\">Analysis</b>",
           "<span style=\"color:#AD0000\">⚠ <b>Drift detected</b></span>",
           "[36000:41999]",
           "From <b>Nov-14-2020</b> to <b>Nov-26-2020</b>",
           318,
           47.2617
          ],
          [
           "Realized <b>true class: highstreet_card, predicted class: upmarket_card</b>",
           "<b style=\"color:#3b0280;line-height:60px\">Analysis</b>",
           "<span style=\"color:#AD0000\">⚠ <b>Drift detected</b></span>",
           "[42000:47999]",
           "From <b>Nov-26-2020</b> to <b>Dec-08-2020</b>",
           302,
           47.2617
          ],
          [
           "Realized <b>true class: highstreet_card, predicted class: upmarket_card</b>",
           "<b style=\"color:#3b0280;line-height:60px\">Analysis</b>",
           "<span style=\"color:#AD0000\">⚠ <b>Drift detected</b></span>",
           "[48000:53999]",
           "From <b>Dec-08-2020</b> to <b>Dec-20-2020</b>",
           312,
           47.2617
          ],
          [
           "Realized <b>true class: highstreet_card, predicted class: upmarket_card</b>",
           "<b style=\"color:#3b0280;line-height:60px\">Analysis</b>",
           "<span style=\"color:#AD0000\">⚠ <b>Drift detected</b></span>",
           "[54000:59999]",
           "From <b>Dec-20-2020</b> to <b>Jan-01-2021</b>",
           326,
           47.2617
          ]
         ],
         "hovertemplate": "%{customdata[1]} &nbsp; &nbsp; %{customdata[2]} <br />Chunk: <b>%{customdata[3]}</b> &nbsp; &nbsp; %{customdata[4]} <br />%{customdata[0]}: <b>%{customdata[5]}</b><br />Confidence band: +/- <b>%{customdata[6]}</b><br /><extra></extra>",
         "legendgroup": "metric_analysis",
         "marker": {
          "color": "#00c8e5",
          "size": 5,
          "symbol": "circle"
         },
         "mode": "markers",
         "name": "Metric",
         "showlegend": false,
         "type": "scatter",
         "x": [
          "2020-09-07T09:42:46.500000",
          "2020-09-19T18:02:48",
          "2020-10-01T23:23:49",
          "2020-10-14T09:23:20",
          "2020-10-26T18:57:02.500000",
          "2020-11-08T01:00:24",
          "2020-11-20T06:37:35.500000",
          "2020-12-02T11:56:53.500000",
          "2020-12-14T16:32:47",
          "2020-12-26T20:44:32"
         ],
         "xaxis": "x3",
         "y": [
          250,
          237,
          259,
          251,
          277,
          330,
          318,
          302,
          312,
          326,
          326
         ],
         "yaxis": "y3"
        },
        {
         "hoverinfo": "skip",
         "legendgroup": "alert",
         "marker": {
          "color": "#DD4040",
          "size": 8,
          "symbol": "diamond"
         },
         "mode": "markers",
         "name": "Alert",
         "showlegend": false,
         "type": "scatter",
         "x": [
          "2020-11-08T01:00:24",
          "2020-11-20T06:37:35.500000",
          "2020-12-02T11:56:53.500000",
          "2020-12-14T16:32:47",
          "2020-12-26T20:44:32"
         ],
         "xaxis": "x3",
         "y": [
          330,
          318,
          302,
          312,
          326
         ],
         "yaxis": "y3"
        },
        {
         "hoverinfo": "skip",
         "legendgroup": "thresh",
         "line": {
          "color": "#DD4040",
          "dash": "dash",
          "width": 2
         },
         "mode": "lines",
         "name": "Threshold",
         "showlegend": false,
         "type": "scatter",
         "x": [
          "2020-05-02T02:01:30",
          "2020-05-14T12:29:25",
          "2020-05-26T18:31:06",
          "2020-06-07T19:58:39",
          "2020-06-19T19:44:14",
          "2020-07-02T02:06:56",
          "2020-07-14T08:14:08",
          "2020-07-26T12:57:37",
          "2020-08-07T16:33:44",
          "2020-08-20T00:07:58",
          "2020-09-01T03:03:23"
         ],
         "xaxis": "x3",
         "y": [
          282.4902576858726,
          282.4902576858726,
          282.4902576858726,
          282.4902576858726,
          282.4902576858726,
          282.4902576858726,
          282.4902576858726,
          282.4902576858726,
          282.4902576858726,
          282.4902576858726,
          282.4902576858726
         ],
         "yaxis": "y3"
        },
        {
         "hoverinfo": "skip",
         "legendgroup": "thresh",
         "line": {
          "color": "#DD4040",
          "dash": "dash",
          "width": 2
         },
         "mode": "lines",
         "name": "Threshold",
         "showlegend": false,
         "type": "scatter",
         "x": [
          "2020-05-02T02:01:30",
          "2020-05-14T12:29:25",
          "2020-05-26T18:31:06",
          "2020-06-07T19:58:39",
          "2020-06-19T19:44:14",
          "2020-07-02T02:06:56",
          "2020-07-14T08:14:08",
          "2020-07-26T12:57:37",
          "2020-08-07T16:33:44",
          "2020-08-20T00:07:58",
          "2020-09-01T03:03:23"
         ],
         "xaxis": "x3",
         "y": [
          236.30974231412733,
          236.30974231412733,
          236.30974231412733,
          236.30974231412733,
          236.30974231412733,
          236.30974231412733,
          236.30974231412733,
          236.30974231412733,
          236.30974231412733,
          236.30974231412733,
          236.30974231412733
         ],
         "yaxis": "y3"
        },
        {
         "hoverinfo": "skip",
         "legendgroup": "thresh",
         "line": {
          "color": "#DD4040",
          "dash": "dash",
          "width": 2
         },
         "mode": "lines",
         "name": "Threshold",
         "showlegend": false,
         "type": "scatter",
         "x": [
          "2020-09-01T03:10:01",
          "2020-09-13T16:15:32",
          "2020-09-25T19:50:04",
          "2020-10-08T02:57:34",
          "2020-10-20T15:49:06",
          "2020-11-01T22:04:59",
          "2020-11-14T03:55:49",
          "2020-11-26T09:19:22",
          "2020-12-08T14:34:25",
          "2020-12-20T18:31:09",
          "2021-01-01T22:57:55"
         ],
         "xaxis": "x3",
         "y": [
          282.4902576858726,
          282.4902576858726,
          282.4902576858726,
          282.4902576858726,
          282.4902576858726,
          282.4902576858726,
          282.4902576858726,
          282.4902576858726,
          282.4902576858726,
          282.4902576858726,
          282.4902576858726
         ],
         "yaxis": "y3"
        },
        {
         "hoverinfo": "skip",
         "legendgroup": "thresh",
         "line": {
          "color": "#DD4040",
          "dash": "dash",
          "width": 2
         },
         "mode": "lines",
         "name": "Threshold",
         "showlegend": false,
         "type": "scatter",
         "x": [
          "2020-09-01T03:10:01",
          "2020-09-13T16:15:32",
          "2020-09-25T19:50:04",
          "2020-10-08T02:57:34",
          "2020-10-20T15:49:06",
          "2020-11-01T22:04:59",
          "2020-11-14T03:55:49",
          "2020-11-26T09:19:22",
          "2020-12-08T14:34:25",
          "2020-12-20T18:31:09",
          "2021-01-01T22:57:55"
         ],
         "xaxis": "x3",
         "y": [
          236.30974231412733,
          236.30974231412733,
          236.30974231412733,
          236.30974231412733,
          236.30974231412733,
          236.30974231412733,
          236.30974231412733,
          236.30974231412733,
          236.30974231412733,
          236.30974231412733,
          236.30974231412733
         ],
         "yaxis": "y3"
        },
        {
         "hoverinfo": "skip",
         "legendgroup": "metric_reference",
         "line": {
          "color": "#00c8e5",
          "shape": "hv",
          "width": 2
         },
         "mode": "lines",
         "name": "Metric",
         "showlegend": false,
         "type": "scatter",
         "x": [
          "2020-05-02T02:01:30",
          "2020-05-14T12:29:25",
          "2020-05-26T18:31:06",
          "2020-06-07T19:58:39",
          "2020-06-19T19:44:14",
          "2020-07-02T02:06:56",
          "2020-07-14T08:14:08",
          "2020-07-26T12:57:37",
          "2020-08-07T16:33:44",
          "2020-08-20T00:07:58",
          "2020-09-01T03:03:23"
         ],
         "xaxis": "x4",
         "y": [
          300,
          284,
          273,
          269,
          242,
          273,
          257,
          265,
          275,
          251,
          251
         ],
         "yaxis": "y4"
        },
        {
         "customdata": [
          [
           "Realized <b>true class: prepaid_card, predicted class: highstreet_card</b>",
           "<b style=\"color:#00c8e5;line-height:60px\">Reference</b>",
           "",
           "[0:5999]",
           "From <b>May-02-2020</b> to <b>May-14-2020</b>",
           300,
           48.0795
          ],
          [
           "Realized <b>true class: prepaid_card, predicted class: highstreet_card</b>",
           "<b style=\"color:#00c8e5;line-height:60px\">Reference</b>",
           "",
           "[6000:11999]",
           "From <b>May-14-2020</b> to <b>May-26-2020</b>",
           284,
           48.0795
          ],
          [
           "Realized <b>true class: prepaid_card, predicted class: highstreet_card</b>",
           "<b style=\"color:#00c8e5;line-height:60px\">Reference</b>",
           "",
           "[12000:17999]",
           "From <b>May-26-2020</b> to <b>Jun-07-2020</b>",
           273,
           48.0795
          ],
          [
           "Realized <b>true class: prepaid_card, predicted class: highstreet_card</b>",
           "<b style=\"color:#00c8e5;line-height:60px\">Reference</b>",
           "",
           "[18000:23999]",
           "From <b>Jun-07-2020</b> to <b>Jun-19-2020</b>",
           269,
           48.0795
          ],
          [
           "Realized <b>true class: prepaid_card, predicted class: highstreet_card</b>",
           "<b style=\"color:#00c8e5;line-height:60px\">Reference</b>",
           "",
           "[24000:29999]",
           "From <b>Jun-19-2020</b> to <b>Jul-02-2020</b>",
           242,
           48.0795
          ],
          [
           "Realized <b>true class: prepaid_card, predicted class: highstreet_card</b>",
           "<b style=\"color:#00c8e5;line-height:60px\">Reference</b>",
           "",
           "[30000:35999]",
           "From <b>Jul-02-2020</b> to <b>Jul-14-2020</b>",
           273,
           48.0795
          ],
          [
           "Realized <b>true class: prepaid_card, predicted class: highstreet_card</b>",
           "<b style=\"color:#00c8e5;line-height:60px\">Reference</b>",
           "",
           "[36000:41999]",
           "From <b>Jul-14-2020</b> to <b>Jul-26-2020</b>",
           257,
           48.0795
          ],
          [
           "Realized <b>true class: prepaid_card, predicted class: highstreet_card</b>",
           "<b style=\"color:#00c8e5;line-height:60px\">Reference</b>",
           "",
           "[42000:47999]",
           "From <b>Jul-26-2020</b> to <b>Aug-07-2020</b>",
           265,
           48.0795
          ],
          [
           "Realized <b>true class: prepaid_card, predicted class: highstreet_card</b>",
           "<b style=\"color:#00c8e5;line-height:60px\">Reference</b>",
           "",
           "[48000:53999]",
           "From <b>Aug-07-2020</b> to <b>Aug-20-2020</b>",
           275,
           48.0795
          ],
          [
           "Realized <b>true class: prepaid_card, predicted class: highstreet_card</b>",
           "<b style=\"color:#00c8e5;line-height:60px\">Reference</b>",
           "",
           "[54000:59999]",
           "From <b>Aug-20-2020</b> to <b>Sep-01-2020</b>",
           251,
           48.0795
          ]
         ],
         "hovertemplate": "%{customdata[1]} &nbsp; &nbsp; %{customdata[2]} <br />Chunk: <b>%{customdata[3]}</b> &nbsp; &nbsp; %{customdata[4]} <br />%{customdata[0]}: <b>%{customdata[5]}</b><br />Confidence band: +/- <b>%{customdata[6]}</b><br /><extra></extra>",
         "legendgroup": "metric_reference",
         "marker": {
          "color": "#00c8e5",
          "size": 5,
          "symbol": "circle"
         },
         "mode": "markers",
         "name": "Metric",
         "showlegend": false,
         "type": "scatter",
         "x": [
          "2020-05-08T07:15:27.500000",
          "2020-05-20T15:30:15.500000",
          "2020-06-01T19:14:52.500000",
          "2020-06-13T19:51:26.500000",
          "2020-06-25T22:55:35",
          "2020-07-08T05:10:32",
          "2020-07-20T10:35:52.500000",
          "2020-08-01T14:45:40.500000",
          "2020-08-13T20:20:51",
          "2020-08-26T01:35:40.500000"
         ],
         "xaxis": "x4",
         "y": [
          300,
          284,
          273,
          269,
          242,
          273,
          257,
          265,
          275,
          251,
          251
         ],
         "yaxis": "y4"
        },
        {
         "hoverinfo": "skip",
         "legendgroup": "metric_analysis",
         "line": {
          "color": "#00c8e5",
          "shape": "hv",
          "width": 2
         },
         "mode": "lines",
         "name": "Metric",
         "showlegend": false,
         "type": "scatter",
         "x": [
          "2020-09-01T03:10:01",
          "2020-09-13T16:15:32",
          "2020-09-25T19:50:04",
          "2020-10-08T02:57:34",
          "2020-10-20T15:49:06",
          "2020-11-01T22:04:59",
          "2020-11-14T03:55:49",
          "2020-11-26T09:19:22",
          "2020-12-08T14:34:25",
          "2020-12-20T18:31:09",
          "2021-01-01T22:57:55"
         ],
         "xaxis": "x4",
         "y": [
          274,
          237,
          264,
          237,
          270,
          539,
          595,
          550,
          539,
          568,
          568
         ],
         "yaxis": "y4"
        },
        {
         "customdata": [
          [
           "Realized <b>true class: prepaid_card, predicted class: highstreet_card</b>",
           "<b style=\"color:#3b0280;line-height:60px\">Analysis</b>",
           "",
           "[0:5999]",
           "From <b>Sep-01-2020</b> to <b>Sep-13-2020</b>",
           274,
           48.0795
          ],
          [
           "Realized <b>true class: prepaid_card, predicted class: highstreet_card</b>",
           "<b style=\"color:#3b0280;line-height:60px\">Analysis</b>",
           "",
           "[6000:11999]",
           "From <b>Sep-13-2020</b> to <b>Sep-25-2020</b>",
           237,
           48.0795
          ],
          [
           "Realized <b>true class: prepaid_card, predicted class: highstreet_card</b>",
           "<b style=\"color:#3b0280;line-height:60px\">Analysis</b>",
           "",
           "[12000:17999]",
           "From <b>Sep-25-2020</b> to <b>Oct-08-2020</b>",
           264,
           48.0795
          ],
          [
           "Realized <b>true class: prepaid_card, predicted class: highstreet_card</b>",
           "<b style=\"color:#3b0280;line-height:60px\">Analysis</b>",
           "",
           "[18000:23999]",
           "From <b>Oct-08-2020</b> to <b>Oct-20-2020</b>",
           237,
           48.0795
          ],
          [
           "Realized <b>true class: prepaid_card, predicted class: highstreet_card</b>",
           "<b style=\"color:#3b0280;line-height:60px\">Analysis</b>",
           "",
           "[24000:29999]",
           "From <b>Oct-20-2020</b> to <b>Nov-01-2020</b>",
           270,
           48.0795
          ],
          [
           "Realized <b>true class: prepaid_card, predicted class: highstreet_card</b>",
           "<b style=\"color:#3b0280;line-height:60px\">Analysis</b>",
           "<span style=\"color:#AD0000\">⚠ <b>Drift detected</b></span>",
           "[30000:35999]",
           "From <b>Nov-01-2020</b> to <b>Nov-14-2020</b>",
           539,
           48.0795
          ],
          [
           "Realized <b>true class: prepaid_card, predicted class: highstreet_card</b>",
           "<b style=\"color:#3b0280;line-height:60px\">Analysis</b>",
           "<span style=\"color:#AD0000\">⚠ <b>Drift detected</b></span>",
           "[36000:41999]",
           "From <b>Nov-14-2020</b> to <b>Nov-26-2020</b>",
           595,
           48.0795
          ],
          [
           "Realized <b>true class: prepaid_card, predicted class: highstreet_card</b>",
           "<b style=\"color:#3b0280;line-height:60px\">Analysis</b>",
           "<span style=\"color:#AD0000\">⚠ <b>Drift detected</b></span>",
           "[42000:47999]",
           "From <b>Nov-26-2020</b> to <b>Dec-08-2020</b>",
           550,
           48.0795
          ],
          [
           "Realized <b>true class: prepaid_card, predicted class: highstreet_card</b>",
           "<b style=\"color:#3b0280;line-height:60px\">Analysis</b>",
           "<span style=\"color:#AD0000\">⚠ <b>Drift detected</b></span>",
           "[48000:53999]",
           "From <b>Dec-08-2020</b> to <b>Dec-20-2020</b>",
           539,
           48.0795
          ],
          [
           "Realized <b>true class: prepaid_card, predicted class: highstreet_card</b>",
           "<b style=\"color:#3b0280;line-height:60px\">Analysis</b>",
           "<span style=\"color:#AD0000\">⚠ <b>Drift detected</b></span>",
           "[54000:59999]",
           "From <b>Dec-20-2020</b> to <b>Jan-01-2021</b>",
           568,
           48.0795
          ]
         ],
         "hovertemplate": "%{customdata[1]} &nbsp; &nbsp; %{customdata[2]} <br />Chunk: <b>%{customdata[3]}</b> &nbsp; &nbsp; %{customdata[4]} <br />%{customdata[0]}: <b>%{customdata[5]}</b><br />Confidence band: +/- <b>%{customdata[6]}</b><br /><extra></extra>",
         "legendgroup": "metric_analysis",
         "marker": {
          "color": "#00c8e5",
          "size": 5,
          "symbol": "circle"
         },
         "mode": "markers",
         "name": "Metric",
         "showlegend": false,
         "type": "scatter",
         "x": [
          "2020-09-07T09:42:46.500000",
          "2020-09-19T18:02:48",
          "2020-10-01T23:23:49",
          "2020-10-14T09:23:20",
          "2020-10-26T18:57:02.500000",
          "2020-11-08T01:00:24",
          "2020-11-20T06:37:35.500000",
          "2020-12-02T11:56:53.500000",
          "2020-12-14T16:32:47",
          "2020-12-26T20:44:32"
         ],
         "xaxis": "x4",
         "y": [
          274,
          237,
          264,
          237,
          270,
          539,
          595,
          550,
          539,
          568,
          568
         ],
         "yaxis": "y4"
        },
        {
         "hoverinfo": "skip",
         "legendgroup": "alert",
         "marker": {
          "color": "#DD4040",
          "size": 8,
          "symbol": "diamond"
         },
         "mode": "markers",
         "name": "Alert",
         "showlegend": false,
         "type": "scatter",
         "x": [
          "2020-11-08T01:00:24",
          "2020-11-20T06:37:35.500000",
          "2020-12-02T11:56:53.500000",
          "2020-12-14T16:32:47",
          "2020-12-26T20:44:32"
         ],
         "xaxis": "x4",
         "y": [
          539,
          595,
          550,
          539,
          568
         ],
         "yaxis": "y4"
        },
        {
         "hoverinfo": "skip",
         "legendgroup": "thresh",
         "line": {
          "color": "#DD4040",
          "dash": "dash",
          "width": 2
         },
         "mode": "lines",
         "name": "Threshold",
         "showlegend": false,
         "type": "scatter",
         "x": [
          "2020-05-02T02:01:30",
          "2020-05-14T12:29:25",
          "2020-05-26T18:31:06",
          "2020-06-07T19:58:39",
          "2020-06-19T19:44:14",
          "2020-07-02T02:06:56",
          "2020-07-14T08:14:08",
          "2020-07-26T12:57:37",
          "2020-08-07T16:33:44",
          "2020-08-20T00:07:58",
          "2020-09-01T03:03:23"
         ],
         "xaxis": "x4",
         "y": [
          316.01910440575034,
          316.01910440575034,
          316.01910440575034,
          316.01910440575034,
          316.01910440575034,
          316.01910440575034,
          316.01910440575034,
          316.01910440575034,
          316.01910440575034,
          316.01910440575034,
          316.01910440575034
         ],
         "yaxis": "y4"
        },
        {
         "hoverinfo": "skip",
         "legendgroup": "thresh",
         "line": {
          "color": "#DD4040",
          "dash": "dash",
          "width": 2
         },
         "mode": "lines",
         "name": "Threshold",
         "showlegend": false,
         "type": "scatter",
         "x": [
          "2020-05-02T02:01:30",
          "2020-05-14T12:29:25",
          "2020-05-26T18:31:06",
          "2020-06-07T19:58:39",
          "2020-06-19T19:44:14",
          "2020-07-02T02:06:56",
          "2020-07-14T08:14:08",
          "2020-07-26T12:57:37",
          "2020-08-07T16:33:44",
          "2020-08-20T00:07:58",
          "2020-09-01T03:03:23"
         ],
         "xaxis": "x4",
         "y": [
          221.78089559424964,
          221.78089559424964,
          221.78089559424964,
          221.78089559424964,
          221.78089559424964,
          221.78089559424964,
          221.78089559424964,
          221.78089559424964,
          221.78089559424964,
          221.78089559424964,
          221.78089559424964
         ],
         "yaxis": "y4"
        },
        {
         "hoverinfo": "skip",
         "legendgroup": "thresh",
         "line": {
          "color": "#DD4040",
          "dash": "dash",
          "width": 2
         },
         "mode": "lines",
         "name": "Threshold",
         "showlegend": false,
         "type": "scatter",
         "x": [
          "2020-09-01T03:10:01",
          "2020-09-13T16:15:32",
          "2020-09-25T19:50:04",
          "2020-10-08T02:57:34",
          "2020-10-20T15:49:06",
          "2020-11-01T22:04:59",
          "2020-11-14T03:55:49",
          "2020-11-26T09:19:22",
          "2020-12-08T14:34:25",
          "2020-12-20T18:31:09",
          "2021-01-01T22:57:55"
         ],
         "xaxis": "x4",
         "y": [
          316.01910440575034,
          316.01910440575034,
          316.01910440575034,
          316.01910440575034,
          316.01910440575034,
          316.01910440575034,
          316.01910440575034,
          316.01910440575034,
          316.01910440575034,
          316.01910440575034,
          316.01910440575034
         ],
         "yaxis": "y4"
        },
        {
         "hoverinfo": "skip",
         "legendgroup": "thresh",
         "line": {
          "color": "#DD4040",
          "dash": "dash",
          "width": 2
         },
         "mode": "lines",
         "name": "Threshold",
         "showlegend": false,
         "type": "scatter",
         "x": [
          "2020-09-01T03:10:01",
          "2020-09-13T16:15:32",
          "2020-09-25T19:50:04",
          "2020-10-08T02:57:34",
          "2020-10-20T15:49:06",
          "2020-11-01T22:04:59",
          "2020-11-14T03:55:49",
          "2020-11-26T09:19:22",
          "2020-12-08T14:34:25",
          "2020-12-20T18:31:09",
          "2021-01-01T22:57:55"
         ],
         "xaxis": "x4",
         "y": [
          221.78089559424964,
          221.78089559424964,
          221.78089559424964,
          221.78089559424964,
          221.78089559424964,
          221.78089559424964,
          221.78089559424964,
          221.78089559424964,
          221.78089559424964,
          221.78089559424964,
          221.78089559424964
         ],
         "yaxis": "y4"
        },
        {
         "hoverinfo": "skip",
         "legendgroup": "metric_reference",
         "line": {
          "color": "#00c8e5",
          "shape": "hv",
          "width": 2
         },
         "mode": "lines",
         "name": "Metric",
         "showlegend": false,
         "type": "scatter",
         "x": [
          "2020-05-02T02:01:30",
          "2020-05-14T12:29:25",
          "2020-05-26T18:31:06",
          "2020-06-07T19:58:39",
          "2020-06-19T19:44:14",
          "2020-07-02T02:06:56",
          "2020-07-14T08:14:08",
          "2020-07-26T12:57:37",
          "2020-08-07T16:33:44",
          "2020-08-20T00:07:58",
          "2020-09-01T03:03:23"
         ],
         "xaxis": "x5",
         "y": [
          1521,
          1500,
          1533,
          1549,
          1541,
          1522,
          1567,
          1485,
          1523,
          1540,
          1540
         ],
         "yaxis": "y5"
        },
        {
         "customdata": [
          [
           "Realized <b>true class: prepaid_card, predicted class: prepaid_card</b>",
           "<b style=\"color:#00c8e5;line-height:60px\">Reference</b>",
           "",
           "[0:5999]",
           "From <b>May-02-2020</b> to <b>May-14-2020</b>",
           1521,
           101.2436
          ],
          [
           "Realized <b>true class: prepaid_card, predicted class: prepaid_card</b>",
           "<b style=\"color:#00c8e5;line-height:60px\">Reference</b>",
           "",
           "[6000:11999]",
           "From <b>May-14-2020</b> to <b>May-26-2020</b>",
           1500,
           101.2436
          ],
          [
           "Realized <b>true class: prepaid_card, predicted class: prepaid_card</b>",
           "<b style=\"color:#00c8e5;line-height:60px\">Reference</b>",
           "",
           "[12000:17999]",
           "From <b>May-26-2020</b> to <b>Jun-07-2020</b>",
           1533,
           101.2436
          ],
          [
           "Realized <b>true class: prepaid_card, predicted class: prepaid_card</b>",
           "<b style=\"color:#00c8e5;line-height:60px\">Reference</b>",
           "",
           "[18000:23999]",
           "From <b>Jun-07-2020</b> to <b>Jun-19-2020</b>",
           1549,
           101.2436
          ],
          [
           "Realized <b>true class: prepaid_card, predicted class: prepaid_card</b>",
           "<b style=\"color:#00c8e5;line-height:60px\">Reference</b>",
           "",
           "[24000:29999]",
           "From <b>Jun-19-2020</b> to <b>Jul-02-2020</b>",
           1541,
           101.2436
          ],
          [
           "Realized <b>true class: prepaid_card, predicted class: prepaid_card</b>",
           "<b style=\"color:#00c8e5;line-height:60px\">Reference</b>",
           "",
           "[30000:35999]",
           "From <b>Jul-02-2020</b> to <b>Jul-14-2020</b>",
           1522,
           101.2436
          ],
          [
           "Realized <b>true class: prepaid_card, predicted class: prepaid_card</b>",
           "<b style=\"color:#00c8e5;line-height:60px\">Reference</b>",
           "",
           "[36000:41999]",
           "From <b>Jul-14-2020</b> to <b>Jul-26-2020</b>",
           1567,
           101.2436
          ],
          [
           "Realized <b>true class: prepaid_card, predicted class: prepaid_card</b>",
           "<b style=\"color:#00c8e5;line-height:60px\">Reference</b>",
           "",
           "[42000:47999]",
           "From <b>Jul-26-2020</b> to <b>Aug-07-2020</b>",
           1485,
           101.2436
          ],
          [
           "Realized <b>true class: prepaid_card, predicted class: prepaid_card</b>",
           "<b style=\"color:#00c8e5;line-height:60px\">Reference</b>",
           "",
           "[48000:53999]",
           "From <b>Aug-07-2020</b> to <b>Aug-20-2020</b>",
           1523,
           101.2436
          ],
          [
           "Realized <b>true class: prepaid_card, predicted class: prepaid_card</b>",
           "<b style=\"color:#00c8e5;line-height:60px\">Reference</b>",
           "",
           "[54000:59999]",
           "From <b>Aug-20-2020</b> to <b>Sep-01-2020</b>",
           1540,
           101.2436
          ]
         ],
         "hovertemplate": "%{customdata[1]} &nbsp; &nbsp; %{customdata[2]} <br />Chunk: <b>%{customdata[3]}</b> &nbsp; &nbsp; %{customdata[4]} <br />%{customdata[0]}: <b>%{customdata[5]}</b><br />Confidence band: +/- <b>%{customdata[6]}</b><br /><extra></extra>",
         "legendgroup": "metric_reference",
         "marker": {
          "color": "#00c8e5",
          "size": 5,
          "symbol": "circle"
         },
         "mode": "markers",
         "name": "Metric",
         "showlegend": false,
         "type": "scatter",
         "x": [
          "2020-05-08T07:15:27.500000",
          "2020-05-20T15:30:15.500000",
          "2020-06-01T19:14:52.500000",
          "2020-06-13T19:51:26.500000",
          "2020-06-25T22:55:35",
          "2020-07-08T05:10:32",
          "2020-07-20T10:35:52.500000",
          "2020-08-01T14:45:40.500000",
          "2020-08-13T20:20:51",
          "2020-08-26T01:35:40.500000"
         ],
         "xaxis": "x5",
         "y": [
          1521,
          1500,
          1533,
          1549,
          1541,
          1522,
          1567,
          1485,
          1523,
          1540,
          1540
         ],
         "yaxis": "y5"
        },
        {
         "hoverinfo": "skip",
         "legendgroup": "metric_analysis",
         "line": {
          "color": "#00c8e5",
          "shape": "hv",
          "width": 2
         },
         "mode": "lines",
         "name": "Metric",
         "showlegend": false,
         "type": "scatter",
         "x": [
          "2020-09-01T03:10:01",
          "2020-09-13T16:15:32",
          "2020-09-25T19:50:04",
          "2020-10-08T02:57:34",
          "2020-10-20T15:49:06",
          "2020-11-01T22:04:59",
          "2020-11-14T03:55:49",
          "2020-11-26T09:19:22",
          "2020-12-08T14:34:25",
          "2020-12-20T18:31:09",
          "2021-01-01T22:57:55"
         ],
         "xaxis": "x5",
         "y": [
          1560,
          1518,
          1557,
          1577,
          1493,
          878,
          908,
          875,
          888,
          869,
          869
         ],
         "yaxis": "y5"
        },
        {
         "customdata": [
          [
           "Realized <b>true class: prepaid_card, predicted class: prepaid_card</b>",
           "<b style=\"color:#3b0280;line-height:60px\">Analysis</b>",
           "",
           "[0:5999]",
           "From <b>Sep-01-2020</b> to <b>Sep-13-2020</b>",
           1560,
           101.2436
          ],
          [
           "Realized <b>true class: prepaid_card, predicted class: prepaid_card</b>",
           "<b style=\"color:#3b0280;line-height:60px\">Analysis</b>",
           "",
           "[6000:11999]",
           "From <b>Sep-13-2020</b> to <b>Sep-25-2020</b>",
           1518,
           101.2436
          ],
          [
           "Realized <b>true class: prepaid_card, predicted class: prepaid_card</b>",
           "<b style=\"color:#3b0280;line-height:60px\">Analysis</b>",
           "",
           "[12000:17999]",
           "From <b>Sep-25-2020</b> to <b>Oct-08-2020</b>",
           1557,
           101.2436
          ],
          [
           "Realized <b>true class: prepaid_card, predicted class: prepaid_card</b>",
           "<b style=\"color:#3b0280;line-height:60px\">Analysis</b>",
           "",
           "[18000:23999]",
           "From <b>Oct-08-2020</b> to <b>Oct-20-2020</b>",
           1577,
           101.2436
          ],
          [
           "Realized <b>true class: prepaid_card, predicted class: prepaid_card</b>",
           "<b style=\"color:#3b0280;line-height:60px\">Analysis</b>",
           "",
           "[24000:29999]",
           "From <b>Oct-20-2020</b> to <b>Nov-01-2020</b>",
           1493,
           101.2436
          ],
          [
           "Realized <b>true class: prepaid_card, predicted class: prepaid_card</b>",
           "<b style=\"color:#3b0280;line-height:60px\">Analysis</b>",
           "<span style=\"color:#AD0000\">⚠ <b>Drift detected</b></span>",
           "[30000:35999]",
           "From <b>Nov-01-2020</b> to <b>Nov-14-2020</b>",
           878,
           101.2436
          ],
          [
           "Realized <b>true class: prepaid_card, predicted class: prepaid_card</b>",
           "<b style=\"color:#3b0280;line-height:60px\">Analysis</b>",
           "<span style=\"color:#AD0000\">⚠ <b>Drift detected</b></span>",
           "[36000:41999]",
           "From <b>Nov-14-2020</b> to <b>Nov-26-2020</b>",
           908,
           101.2436
          ],
          [
           "Realized <b>true class: prepaid_card, predicted class: prepaid_card</b>",
           "<b style=\"color:#3b0280;line-height:60px\">Analysis</b>",
           "<span style=\"color:#AD0000\">⚠ <b>Drift detected</b></span>",
           "[42000:47999]",
           "From <b>Nov-26-2020</b> to <b>Dec-08-2020</b>",
           875,
           101.2436
          ],
          [
           "Realized <b>true class: prepaid_card, predicted class: prepaid_card</b>",
           "<b style=\"color:#3b0280;line-height:60px\">Analysis</b>",
           "<span style=\"color:#AD0000\">⚠ <b>Drift detected</b></span>",
           "[48000:53999]",
           "From <b>Dec-08-2020</b> to <b>Dec-20-2020</b>",
           888,
           101.2436
          ],
          [
           "Realized <b>true class: prepaid_card, predicted class: prepaid_card</b>",
           "<b style=\"color:#3b0280;line-height:60px\">Analysis</b>",
           "<span style=\"color:#AD0000\">⚠ <b>Drift detected</b></span>",
           "[54000:59999]",
           "From <b>Dec-20-2020</b> to <b>Jan-01-2021</b>",
           869,
           101.2436
          ]
         ],
         "hovertemplate": "%{customdata[1]} &nbsp; &nbsp; %{customdata[2]} <br />Chunk: <b>%{customdata[3]}</b> &nbsp; &nbsp; %{customdata[4]} <br />%{customdata[0]}: <b>%{customdata[5]}</b><br />Confidence band: +/- <b>%{customdata[6]}</b><br /><extra></extra>",
         "legendgroup": "metric_analysis",
         "marker": {
          "color": "#00c8e5",
          "size": 5,
          "symbol": "circle"
         },
         "mode": "markers",
         "name": "Metric",
         "showlegend": false,
         "type": "scatter",
         "x": [
          "2020-09-07T09:42:46.500000",
          "2020-09-19T18:02:48",
          "2020-10-01T23:23:49",
          "2020-10-14T09:23:20",
          "2020-10-26T18:57:02.500000",
          "2020-11-08T01:00:24",
          "2020-11-20T06:37:35.500000",
          "2020-12-02T11:56:53.500000",
          "2020-12-14T16:32:47",
          "2020-12-26T20:44:32"
         ],
         "xaxis": "x5",
         "y": [
          1560,
          1518,
          1557,
          1577,
          1493,
          878,
          908,
          875,
          888,
          869,
          869
         ],
         "yaxis": "y5"
        },
        {
         "hoverinfo": "skip",
         "legendgroup": "alert",
         "marker": {
          "color": "#DD4040",
          "size": 8,
          "symbol": "diamond"
         },
         "mode": "markers",
         "name": "Alert",
         "showlegend": false,
         "type": "scatter",
         "x": [
          "2020-11-08T01:00:24",
          "2020-11-20T06:37:35.500000",
          "2020-12-02T11:56:53.500000",
          "2020-12-14T16:32:47",
          "2020-12-26T20:44:32"
         ],
         "xaxis": "x5",
         "y": [
          878,
          908,
          875,
          888,
          869
         ],
         "yaxis": "y5"
        },
        {
         "hoverinfo": "skip",
         "legendgroup": "thresh",
         "line": {
          "color": "#DD4040",
          "dash": "dash",
          "width": 2
         },
         "mode": "lines",
         "name": "Threshold",
         "showlegend": false,
         "type": "scatter",
         "x": [
          "2020-05-02T02:01:30",
          "2020-05-14T12:29:25",
          "2020-05-26T18:31:06",
          "2020-06-07T19:58:39",
          "2020-06-19T19:44:14",
          "2020-07-02T02:06:56",
          "2020-07-14T08:14:08",
          "2020-07-26T12:57:37",
          "2020-08-07T16:33:44",
          "2020-08-20T00:07:58",
          "2020-09-01T03:03:23"
         ],
         "xaxis": "x5",
         "y": [
          1595.4692066154855,
          1595.4692066154855,
          1595.4692066154855,
          1595.4692066154855,
          1595.4692066154855,
          1595.4692066154855,
          1595.4692066154855,
          1595.4692066154855,
          1595.4692066154855,
          1595.4692066154855,
          1595.4692066154855
         ],
         "yaxis": "y5"
        },
        {
         "hoverinfo": "skip",
         "legendgroup": "thresh",
         "line": {
          "color": "#DD4040",
          "dash": "dash",
          "width": 2
         },
         "mode": "lines",
         "name": "Threshold",
         "showlegend": false,
         "type": "scatter",
         "x": [
          "2020-05-02T02:01:30",
          "2020-05-14T12:29:25",
          "2020-05-26T18:31:06",
          "2020-06-07T19:58:39",
          "2020-06-19T19:44:14",
          "2020-07-02T02:06:56",
          "2020-07-14T08:14:08",
          "2020-07-26T12:57:37",
          "2020-08-07T16:33:44",
          "2020-08-20T00:07:58",
          "2020-09-01T03:03:23"
         ],
         "xaxis": "x5",
         "y": [
          1460.7307933845143,
          1460.7307933845143,
          1460.7307933845143,
          1460.7307933845143,
          1460.7307933845143,
          1460.7307933845143,
          1460.7307933845143,
          1460.7307933845143,
          1460.7307933845143,
          1460.7307933845143,
          1460.7307933845143
         ],
         "yaxis": "y5"
        },
        {
         "hoverinfo": "skip",
         "legendgroup": "thresh",
         "line": {
          "color": "#DD4040",
          "dash": "dash",
          "width": 2
         },
         "mode": "lines",
         "name": "Threshold",
         "showlegend": false,
         "type": "scatter",
         "x": [
          "2020-09-01T03:10:01",
          "2020-09-13T16:15:32",
          "2020-09-25T19:50:04",
          "2020-10-08T02:57:34",
          "2020-10-20T15:49:06",
          "2020-11-01T22:04:59",
          "2020-11-14T03:55:49",
          "2020-11-26T09:19:22",
          "2020-12-08T14:34:25",
          "2020-12-20T18:31:09",
          "2021-01-01T22:57:55"
         ],
         "xaxis": "x5",
         "y": [
          1595.4692066154855,
          1595.4692066154855,
          1595.4692066154855,
          1595.4692066154855,
          1595.4692066154855,
          1595.4692066154855,
          1595.4692066154855,
          1595.4692066154855,
          1595.4692066154855,
          1595.4692066154855,
          1595.4692066154855
         ],
         "yaxis": "y5"
        },
        {
         "hoverinfo": "skip",
         "legendgroup": "thresh",
         "line": {
          "color": "#DD4040",
          "dash": "dash",
          "width": 2
         },
         "mode": "lines",
         "name": "Threshold",
         "showlegend": false,
         "type": "scatter",
         "x": [
          "2020-09-01T03:10:01",
          "2020-09-13T16:15:32",
          "2020-09-25T19:50:04",
          "2020-10-08T02:57:34",
          "2020-10-20T15:49:06",
          "2020-11-01T22:04:59",
          "2020-11-14T03:55:49",
          "2020-11-26T09:19:22",
          "2020-12-08T14:34:25",
          "2020-12-20T18:31:09",
          "2021-01-01T22:57:55"
         ],
         "xaxis": "x5",
         "y": [
          1460.7307933845143,
          1460.7307933845143,
          1460.7307933845143,
          1460.7307933845143,
          1460.7307933845143,
          1460.7307933845143,
          1460.7307933845143,
          1460.7307933845143,
          1460.7307933845143,
          1460.7307933845143,
          1460.7307933845143
         ],
         "yaxis": "y5"
        },
        {
         "hoverinfo": "skip",
         "legendgroup": "metric_reference",
         "line": {
          "color": "#00c8e5",
          "shape": "hv",
          "width": 2
         },
         "mode": "lines",
         "name": "Metric",
         "showlegend": false,
         "type": "scatter",
         "x": [
          "2020-05-02T02:01:30",
          "2020-05-14T12:29:25",
          "2020-05-26T18:31:06",
          "2020-06-07T19:58:39",
          "2020-06-19T19:44:14",
          "2020-07-02T02:06:56",
          "2020-07-14T08:14:08",
          "2020-07-26T12:57:37",
          "2020-08-07T16:33:44",
          "2020-08-20T00:07:58",
          "2020-09-01T03:03:23"
         ],
         "xaxis": "x6",
         "y": [
          208,
          218,
          182,
          207,
          208,
          212,
          220,
          224,
          235,
          219,
          219
         ],
         "yaxis": "y6"
        },
        {
         "customdata": [
          [
           "Realized <b>true class: prepaid_card, predicted class: upmarket_card</b>",
           "<b style=\"color:#00c8e5;line-height:60px\">Reference</b>",
           "",
           "[0:5999]",
           "From <b>May-02-2020</b> to <b>May-14-2020</b>",
           208,
           43.0285
          ],
          [
           "Realized <b>true class: prepaid_card, predicted class: upmarket_card</b>",
           "<b style=\"color:#00c8e5;line-height:60px\">Reference</b>",
           "",
           "[6000:11999]",
           "From <b>May-14-2020</b> to <b>May-26-2020</b>",
           218,
           43.0285
          ],
          [
           "Realized <b>true class: prepaid_card, predicted class: upmarket_card</b>",
           "<b style=\"color:#00c8e5;line-height:60px\">Reference</b>",
           "",
           "[12000:17999]",
           "From <b>May-26-2020</b> to <b>Jun-07-2020</b>",
           182,
           43.0285
          ],
          [
           "Realized <b>true class: prepaid_card, predicted class: upmarket_card</b>",
           "<b style=\"color:#00c8e5;line-height:60px\">Reference</b>",
           "",
           "[18000:23999]",
           "From <b>Jun-07-2020</b> to <b>Jun-19-2020</b>",
           207,
           43.0285
          ],
          [
           "Realized <b>true class: prepaid_card, predicted class: upmarket_card</b>",
           "<b style=\"color:#00c8e5;line-height:60px\">Reference</b>",
           "",
           "[24000:29999]",
           "From <b>Jun-19-2020</b> to <b>Jul-02-2020</b>",
           208,
           43.0285
          ],
          [
           "Realized <b>true class: prepaid_card, predicted class: upmarket_card</b>",
           "<b style=\"color:#00c8e5;line-height:60px\">Reference</b>",
           "",
           "[30000:35999]",
           "From <b>Jul-02-2020</b> to <b>Jul-14-2020</b>",
           212,
           43.0285
          ],
          [
           "Realized <b>true class: prepaid_card, predicted class: upmarket_card</b>",
           "<b style=\"color:#00c8e5;line-height:60px\">Reference</b>",
           "",
           "[36000:41999]",
           "From <b>Jul-14-2020</b> to <b>Jul-26-2020</b>",
           220,
           43.0285
          ],
          [
           "Realized <b>true class: prepaid_card, predicted class: upmarket_card</b>",
           "<b style=\"color:#00c8e5;line-height:60px\">Reference</b>",
           "",
           "[42000:47999]",
           "From <b>Jul-26-2020</b> to <b>Aug-07-2020</b>",
           224,
           43.0285
          ],
          [
           "Realized <b>true class: prepaid_card, predicted class: upmarket_card</b>",
           "<b style=\"color:#00c8e5;line-height:60px\">Reference</b>",
           "",
           "[48000:53999]",
           "From <b>Aug-07-2020</b> to <b>Aug-20-2020</b>",
           235,
           43.0285
          ],
          [
           "Realized <b>true class: prepaid_card, predicted class: upmarket_card</b>",
           "<b style=\"color:#00c8e5;line-height:60px\">Reference</b>",
           "",
           "[54000:59999]",
           "From <b>Aug-20-2020</b> to <b>Sep-01-2020</b>",
           219,
           43.0285
          ]
         ],
         "hovertemplate": "%{customdata[1]} &nbsp; &nbsp; %{customdata[2]} <br />Chunk: <b>%{customdata[3]}</b> &nbsp; &nbsp; %{customdata[4]} <br />%{customdata[0]}: <b>%{customdata[5]}</b><br />Confidence band: +/- <b>%{customdata[6]}</b><br /><extra></extra>",
         "legendgroup": "metric_reference",
         "marker": {
          "color": "#00c8e5",
          "size": 5,
          "symbol": "circle"
         },
         "mode": "markers",
         "name": "Metric",
         "showlegend": false,
         "type": "scatter",
         "x": [
          "2020-05-08T07:15:27.500000",
          "2020-05-20T15:30:15.500000",
          "2020-06-01T19:14:52.500000",
          "2020-06-13T19:51:26.500000",
          "2020-06-25T22:55:35",
          "2020-07-08T05:10:32",
          "2020-07-20T10:35:52.500000",
          "2020-08-01T14:45:40.500000",
          "2020-08-13T20:20:51",
          "2020-08-26T01:35:40.500000"
         ],
         "xaxis": "x6",
         "y": [
          208,
          218,
          182,
          207,
          208,
          212,
          220,
          224,
          235,
          219,
          219
         ],
         "yaxis": "y6"
        },
        {
         "hoverinfo": "skip",
         "legendgroup": "metric_analysis",
         "line": {
          "color": "#00c8e5",
          "shape": "hv",
          "width": 2
         },
         "mode": "lines",
         "name": "Metric",
         "showlegend": false,
         "type": "scatter",
         "x": [
          "2020-09-01T03:10:01",
          "2020-09-13T16:15:32",
          "2020-09-25T19:50:04",
          "2020-10-08T02:57:34",
          "2020-10-20T15:49:06",
          "2020-11-01T22:04:59",
          "2020-11-14T03:55:49",
          "2020-11-26T09:19:22",
          "2020-12-08T14:34:25",
          "2020-12-20T18:31:09",
          "2021-01-01T22:57:55"
         ],
         "xaxis": "x6",
         "y": [
          204,
          201,
          200,
          246,
          194,
          448,
          419,
          416,
          440,
          436,
          436
         ],
         "yaxis": "y6"
        },
        {
         "customdata": [
          [
           "Realized <b>true class: prepaid_card, predicted class: upmarket_card</b>",
           "<b style=\"color:#3b0280;line-height:60px\">Analysis</b>",
           "",
           "[0:5999]",
           "From <b>Sep-01-2020</b> to <b>Sep-13-2020</b>",
           204,
           43.0285
          ],
          [
           "Realized <b>true class: prepaid_card, predicted class: upmarket_card</b>",
           "<b style=\"color:#3b0280;line-height:60px\">Analysis</b>",
           "",
           "[6000:11999]",
           "From <b>Sep-13-2020</b> to <b>Sep-25-2020</b>",
           201,
           43.0285
          ],
          [
           "Realized <b>true class: prepaid_card, predicted class: upmarket_card</b>",
           "<b style=\"color:#3b0280;line-height:60px\">Analysis</b>",
           "",
           "[12000:17999]",
           "From <b>Sep-25-2020</b> to <b>Oct-08-2020</b>",
           200,
           43.0285
          ],
          [
           "Realized <b>true class: prepaid_card, predicted class: upmarket_card</b>",
           "<b style=\"color:#3b0280;line-height:60px\">Analysis</b>",
           "",
           "[18000:23999]",
           "From <b>Oct-08-2020</b> to <b>Oct-20-2020</b>",
           246,
           43.0285
          ],
          [
           "Realized <b>true class: prepaid_card, predicted class: upmarket_card</b>",
           "<b style=\"color:#3b0280;line-height:60px\">Analysis</b>",
           "",
           "[24000:29999]",
           "From <b>Oct-20-2020</b> to <b>Nov-01-2020</b>",
           194,
           43.0285
          ],
          [
           "Realized <b>true class: prepaid_card, predicted class: upmarket_card</b>",
           "<b style=\"color:#3b0280;line-height:60px\">Analysis</b>",
           "<span style=\"color:#AD0000\">⚠ <b>Drift detected</b></span>",
           "[30000:35999]",
           "From <b>Nov-01-2020</b> to <b>Nov-14-2020</b>",
           448,
           43.0285
          ],
          [
           "Realized <b>true class: prepaid_card, predicted class: upmarket_card</b>",
           "<b style=\"color:#3b0280;line-height:60px\">Analysis</b>",
           "<span style=\"color:#AD0000\">⚠ <b>Drift detected</b></span>",
           "[36000:41999]",
           "From <b>Nov-14-2020</b> to <b>Nov-26-2020</b>",
           419,
           43.0285
          ],
          [
           "Realized <b>true class: prepaid_card, predicted class: upmarket_card</b>",
           "<b style=\"color:#3b0280;line-height:60px\">Analysis</b>",
           "<span style=\"color:#AD0000\">⚠ <b>Drift detected</b></span>",
           "[42000:47999]",
           "From <b>Nov-26-2020</b> to <b>Dec-08-2020</b>",
           416,
           43.0285
          ],
          [
           "Realized <b>true class: prepaid_card, predicted class: upmarket_card</b>",
           "<b style=\"color:#3b0280;line-height:60px\">Analysis</b>",
           "<span style=\"color:#AD0000\">⚠ <b>Drift detected</b></span>",
           "[48000:53999]",
           "From <b>Dec-08-2020</b> to <b>Dec-20-2020</b>",
           440,
           43.0285
          ],
          [
           "Realized <b>true class: prepaid_card, predicted class: upmarket_card</b>",
           "<b style=\"color:#3b0280;line-height:60px\">Analysis</b>",
           "<span style=\"color:#AD0000\">⚠ <b>Drift detected</b></span>",
           "[54000:59999]",
           "From <b>Dec-20-2020</b> to <b>Jan-01-2021</b>",
           436,
           43.0285
          ]
         ],
         "hovertemplate": "%{customdata[1]} &nbsp; &nbsp; %{customdata[2]} <br />Chunk: <b>%{customdata[3]}</b> &nbsp; &nbsp; %{customdata[4]} <br />%{customdata[0]}: <b>%{customdata[5]}</b><br />Confidence band: +/- <b>%{customdata[6]}</b><br /><extra></extra>",
         "legendgroup": "metric_analysis",
         "marker": {
          "color": "#00c8e5",
          "size": 5,
          "symbol": "circle"
         },
         "mode": "markers",
         "name": "Metric",
         "showlegend": false,
         "type": "scatter",
         "x": [
          "2020-09-07T09:42:46.500000",
          "2020-09-19T18:02:48",
          "2020-10-01T23:23:49",
          "2020-10-14T09:23:20",
          "2020-10-26T18:57:02.500000",
          "2020-11-08T01:00:24",
          "2020-11-20T06:37:35.500000",
          "2020-12-02T11:56:53.500000",
          "2020-12-14T16:32:47",
          "2020-12-26T20:44:32"
         ],
         "xaxis": "x6",
         "y": [
          204,
          201,
          200,
          246,
          194,
          448,
          419,
          416,
          440,
          436,
          436
         ],
         "yaxis": "y6"
        },
        {
         "hoverinfo": "skip",
         "legendgroup": "alert",
         "marker": {
          "color": "#DD4040",
          "size": 8,
          "symbol": "diamond"
         },
         "mode": "markers",
         "name": "Alert",
         "showlegend": false,
         "type": "scatter",
         "x": [
          "2020-11-08T01:00:24",
          "2020-11-20T06:37:35.500000",
          "2020-12-02T11:56:53.500000",
          "2020-12-14T16:32:47",
          "2020-12-26T20:44:32"
         ],
         "xaxis": "x6",
         "y": [
          448,
          419,
          416,
          440,
          436
         ],
         "yaxis": "y6"
        },
        {
         "hoverinfo": "skip",
         "legendgroup": "thresh",
         "line": {
          "color": "#DD4040",
          "dash": "dash",
          "width": 2
         },
         "mode": "lines",
         "name": "Threshold",
         "showlegend": false,
         "type": "scatter",
         "x": [
          "2020-05-02T02:01:30",
          "2020-05-14T12:29:25",
          "2020-05-26T18:31:06",
          "2020-06-07T19:58:39",
          "2020-06-19T19:44:14",
          "2020-07-02T02:06:56",
          "2020-07-14T08:14:08",
          "2020-07-26T12:57:37",
          "2020-08-07T16:33:44",
          "2020-08-20T00:07:58",
          "2020-09-01T03:03:23"
         ],
         "xaxis": "x6",
         "y": [
          253.1232344241399,
          253.1232344241399,
          253.1232344241399,
          253.1232344241399,
          253.1232344241399,
          253.1232344241399,
          253.1232344241399,
          253.1232344241399,
          253.1232344241399,
          253.1232344241399,
          253.1232344241399
         ],
         "yaxis": "y6"
        },
        {
         "hoverinfo": "skip",
         "legendgroup": "thresh",
         "line": {
          "color": "#DD4040",
          "dash": "dash",
          "width": 2
         },
         "mode": "lines",
         "name": "Threshold",
         "showlegend": false,
         "type": "scatter",
         "x": [
          "2020-05-02T02:01:30",
          "2020-05-14T12:29:25",
          "2020-05-26T18:31:06",
          "2020-06-07T19:58:39",
          "2020-06-19T19:44:14",
          "2020-07-02T02:06:56",
          "2020-07-14T08:14:08",
          "2020-07-26T12:57:37",
          "2020-08-07T16:33:44",
          "2020-08-20T00:07:58",
          "2020-09-01T03:03:23"
         ],
         "xaxis": "x6",
         "y": [
          173.47676557586013,
          173.47676557586013,
          173.47676557586013,
          173.47676557586013,
          173.47676557586013,
          173.47676557586013,
          173.47676557586013,
          173.47676557586013,
          173.47676557586013,
          173.47676557586013,
          173.47676557586013
         ],
         "yaxis": "y6"
        },
        {
         "hoverinfo": "skip",
         "legendgroup": "thresh",
         "line": {
          "color": "#DD4040",
          "dash": "dash",
          "width": 2
         },
         "mode": "lines",
         "name": "Threshold",
         "showlegend": false,
         "type": "scatter",
         "x": [
          "2020-09-01T03:10:01",
          "2020-09-13T16:15:32",
          "2020-09-25T19:50:04",
          "2020-10-08T02:57:34",
          "2020-10-20T15:49:06",
          "2020-11-01T22:04:59",
          "2020-11-14T03:55:49",
          "2020-11-26T09:19:22",
          "2020-12-08T14:34:25",
          "2020-12-20T18:31:09",
          "2021-01-01T22:57:55"
         ],
         "xaxis": "x6",
         "y": [
          253.1232344241399,
          253.1232344241399,
          253.1232344241399,
          253.1232344241399,
          253.1232344241399,
          253.1232344241399,
          253.1232344241399,
          253.1232344241399,
          253.1232344241399,
          253.1232344241399,
          253.1232344241399
         ],
         "yaxis": "y6"
        },
        {
         "hoverinfo": "skip",
         "legendgroup": "thresh",
         "line": {
          "color": "#DD4040",
          "dash": "dash",
          "width": 2
         },
         "mode": "lines",
         "name": "Threshold",
         "showlegend": false,
         "type": "scatter",
         "x": [
          "2020-09-01T03:10:01",
          "2020-09-13T16:15:32",
          "2020-09-25T19:50:04",
          "2020-10-08T02:57:34",
          "2020-10-20T15:49:06",
          "2020-11-01T22:04:59",
          "2020-11-14T03:55:49",
          "2020-11-26T09:19:22",
          "2020-12-08T14:34:25",
          "2020-12-20T18:31:09",
          "2021-01-01T22:57:55"
         ],
         "xaxis": "x6",
         "y": [
          173.47676557586013,
          173.47676557586013,
          173.47676557586013,
          173.47676557586013,
          173.47676557586013,
          173.47676557586013,
          173.47676557586013,
          173.47676557586013,
          173.47676557586013,
          173.47676557586013,
          173.47676557586013
         ],
         "yaxis": "y6"
        },
        {
         "hoverinfo": "skip",
         "legendgroup": "metric_reference",
         "line": {
          "color": "#00c8e5",
          "shape": "hv",
          "width": 2
         },
         "mode": "lines",
         "name": "Metric",
         "showlegend": false,
         "type": "scatter",
         "x": [
          "2020-05-02T02:01:30",
          "2020-05-14T12:29:25",
          "2020-05-26T18:31:06",
          "2020-06-07T19:58:39",
          "2020-06-19T19:44:14",
          "2020-07-02T02:06:56",
          "2020-07-14T08:14:08",
          "2020-07-26T12:57:37",
          "2020-08-07T16:33:44",
          "2020-08-20T00:07:58",
          "2020-09-01T03:03:23"
         ],
         "xaxis": "x7",
         "y": [
          220,
          245,
          254,
          261,
          249,
          241,
          247,
          230,
          236,
          242,
          242
         ],
         "yaxis": "y7"
        },
        {
         "customdata": [
          [
           "Realized <b>true class: upmarket_card, predicted class: highstreet_card</b>",
           "<b style=\"color:#00c8e5;line-height:60px\">Reference</b>",
           "",
           "[0:5999]",
           "From <b>May-02-2020</b> to <b>May-14-2020</b>",
           220,
           45.7634
          ],
          [
           "Realized <b>true class: upmarket_card, predicted class: highstreet_card</b>",
           "<b style=\"color:#00c8e5;line-height:60px\">Reference</b>",
           "",
           "[6000:11999]",
           "From <b>May-14-2020</b> to <b>May-26-2020</b>",
           245,
           45.7634
          ],
          [
           "Realized <b>true class: upmarket_card, predicted class: highstreet_card</b>",
           "<b style=\"color:#00c8e5;line-height:60px\">Reference</b>",
           "",
           "[12000:17999]",
           "From <b>May-26-2020</b> to <b>Jun-07-2020</b>",
           254,
           45.7634
          ],
          [
           "Realized <b>true class: upmarket_card, predicted class: highstreet_card</b>",
           "<b style=\"color:#00c8e5;line-height:60px\">Reference</b>",
           "",
           "[18000:23999]",
           "From <b>Jun-07-2020</b> to <b>Jun-19-2020</b>",
           261,
           45.7634
          ],
          [
           "Realized <b>true class: upmarket_card, predicted class: highstreet_card</b>",
           "<b style=\"color:#00c8e5;line-height:60px\">Reference</b>",
           "",
           "[24000:29999]",
           "From <b>Jun-19-2020</b> to <b>Jul-02-2020</b>",
           249,
           45.7634
          ],
          [
           "Realized <b>true class: upmarket_card, predicted class: highstreet_card</b>",
           "<b style=\"color:#00c8e5;line-height:60px\">Reference</b>",
           "",
           "[30000:35999]",
           "From <b>Jul-02-2020</b> to <b>Jul-14-2020</b>",
           241,
           45.7634
          ],
          [
           "Realized <b>true class: upmarket_card, predicted class: highstreet_card</b>",
           "<b style=\"color:#00c8e5;line-height:60px\">Reference</b>",
           "",
           "[36000:41999]",
           "From <b>Jul-14-2020</b> to <b>Jul-26-2020</b>",
           247,
           45.7634
          ],
          [
           "Realized <b>true class: upmarket_card, predicted class: highstreet_card</b>",
           "<b style=\"color:#00c8e5;line-height:60px\">Reference</b>",
           "",
           "[42000:47999]",
           "From <b>Jul-26-2020</b> to <b>Aug-07-2020</b>",
           230,
           45.7634
          ],
          [
           "Realized <b>true class: upmarket_card, predicted class: highstreet_card</b>",
           "<b style=\"color:#00c8e5;line-height:60px\">Reference</b>",
           "",
           "[48000:53999]",
           "From <b>Aug-07-2020</b> to <b>Aug-20-2020</b>",
           236,
           45.7634
          ],
          [
           "Realized <b>true class: upmarket_card, predicted class: highstreet_card</b>",
           "<b style=\"color:#00c8e5;line-height:60px\">Reference</b>",
           "",
           "[54000:59999]",
           "From <b>Aug-20-2020</b> to <b>Sep-01-2020</b>",
           242,
           45.7634
          ]
         ],
         "hovertemplate": "%{customdata[1]} &nbsp; &nbsp; %{customdata[2]} <br />Chunk: <b>%{customdata[3]}</b> &nbsp; &nbsp; %{customdata[4]} <br />%{customdata[0]}: <b>%{customdata[5]}</b><br />Confidence band: +/- <b>%{customdata[6]}</b><br /><extra></extra>",
         "legendgroup": "metric_reference",
         "marker": {
          "color": "#00c8e5",
          "size": 5,
          "symbol": "circle"
         },
         "mode": "markers",
         "name": "Metric",
         "showlegend": false,
         "type": "scatter",
         "x": [
          "2020-05-08T07:15:27.500000",
          "2020-05-20T15:30:15.500000",
          "2020-06-01T19:14:52.500000",
          "2020-06-13T19:51:26.500000",
          "2020-06-25T22:55:35",
          "2020-07-08T05:10:32",
          "2020-07-20T10:35:52.500000",
          "2020-08-01T14:45:40.500000",
          "2020-08-13T20:20:51",
          "2020-08-26T01:35:40.500000"
         ],
         "xaxis": "x7",
         "y": [
          220,
          245,
          254,
          261,
          249,
          241,
          247,
          230,
          236,
          242,
          242
         ],
         "yaxis": "y7"
        },
        {
         "hoverinfo": "skip",
         "legendgroup": "metric_analysis",
         "line": {
          "color": "#00c8e5",
          "shape": "hv",
          "width": 2
         },
         "mode": "lines",
         "name": "Metric",
         "showlegend": false,
         "type": "scatter",
         "x": [
          "2020-09-01T03:10:01",
          "2020-09-13T16:15:32",
          "2020-09-25T19:50:04",
          "2020-10-08T02:57:34",
          "2020-10-20T15:49:06",
          "2020-11-01T22:04:59",
          "2020-11-14T03:55:49",
          "2020-11-26T09:19:22",
          "2020-12-08T14:34:25",
          "2020-12-20T18:31:09",
          "2021-01-01T22:57:55"
         ],
         "xaxis": "x7",
         "y": [
          245,
          252,
          251,
          262,
          242,
          525,
          508,
          535,
          513,
          513,
          513
         ],
         "yaxis": "y7"
        },
        {
         "customdata": [
          [
           "Realized <b>true class: upmarket_card, predicted class: highstreet_card</b>",
           "<b style=\"color:#3b0280;line-height:60px\">Analysis</b>",
           "",
           "[0:5999]",
           "From <b>Sep-01-2020</b> to <b>Sep-13-2020</b>",
           245,
           45.7634
          ],
          [
           "Realized <b>true class: upmarket_card, predicted class: highstreet_card</b>",
           "<b style=\"color:#3b0280;line-height:60px\">Analysis</b>",
           "",
           "[6000:11999]",
           "From <b>Sep-13-2020</b> to <b>Sep-25-2020</b>",
           252,
           45.7634
          ],
          [
           "Realized <b>true class: upmarket_card, predicted class: highstreet_card</b>",
           "<b style=\"color:#3b0280;line-height:60px\">Analysis</b>",
           "",
           "[12000:17999]",
           "From <b>Sep-25-2020</b> to <b>Oct-08-2020</b>",
           251,
           45.7634
          ],
          [
           "Realized <b>true class: upmarket_card, predicted class: highstreet_card</b>",
           "<b style=\"color:#3b0280;line-height:60px\">Analysis</b>",
           "",
           "[18000:23999]",
           "From <b>Oct-08-2020</b> to <b>Oct-20-2020</b>",
           262,
           45.7634
          ],
          [
           "Realized <b>true class: upmarket_card, predicted class: highstreet_card</b>",
           "<b style=\"color:#3b0280;line-height:60px\">Analysis</b>",
           "",
           "[24000:29999]",
           "From <b>Oct-20-2020</b> to <b>Nov-01-2020</b>",
           242,
           45.7634
          ],
          [
           "Realized <b>true class: upmarket_card, predicted class: highstreet_card</b>",
           "<b style=\"color:#3b0280;line-height:60px\">Analysis</b>",
           "<span style=\"color:#AD0000\">⚠ <b>Drift detected</b></span>",
           "[30000:35999]",
           "From <b>Nov-01-2020</b> to <b>Nov-14-2020</b>",
           525,
           45.7634
          ],
          [
           "Realized <b>true class: upmarket_card, predicted class: highstreet_card</b>",
           "<b style=\"color:#3b0280;line-height:60px\">Analysis</b>",
           "<span style=\"color:#AD0000\">⚠ <b>Drift detected</b></span>",
           "[36000:41999]",
           "From <b>Nov-14-2020</b> to <b>Nov-26-2020</b>",
           508,
           45.7634
          ],
          [
           "Realized <b>true class: upmarket_card, predicted class: highstreet_card</b>",
           "<b style=\"color:#3b0280;line-height:60px\">Analysis</b>",
           "<span style=\"color:#AD0000\">⚠ <b>Drift detected</b></span>",
           "[42000:47999]",
           "From <b>Nov-26-2020</b> to <b>Dec-08-2020</b>",
           535,
           45.7634
          ],
          [
           "Realized <b>true class: upmarket_card, predicted class: highstreet_card</b>",
           "<b style=\"color:#3b0280;line-height:60px\">Analysis</b>",
           "<span style=\"color:#AD0000\">⚠ <b>Drift detected</b></span>",
           "[48000:53999]",
           "From <b>Dec-08-2020</b> to <b>Dec-20-2020</b>",
           513,
           45.7634
          ],
          [
           "Realized <b>true class: upmarket_card, predicted class: highstreet_card</b>",
           "<b style=\"color:#3b0280;line-height:60px\">Analysis</b>",
           "<span style=\"color:#AD0000\">⚠ <b>Drift detected</b></span>",
           "[54000:59999]",
           "From <b>Dec-20-2020</b> to <b>Jan-01-2021</b>",
           513,
           45.7634
          ]
         ],
         "hovertemplate": "%{customdata[1]} &nbsp; &nbsp; %{customdata[2]} <br />Chunk: <b>%{customdata[3]}</b> &nbsp; &nbsp; %{customdata[4]} <br />%{customdata[0]}: <b>%{customdata[5]}</b><br />Confidence band: +/- <b>%{customdata[6]}</b><br /><extra></extra>",
         "legendgroup": "metric_analysis",
         "marker": {
          "color": "#00c8e5",
          "size": 5,
          "symbol": "circle"
         },
         "mode": "markers",
         "name": "Metric",
         "showlegend": false,
         "type": "scatter",
         "x": [
          "2020-09-07T09:42:46.500000",
          "2020-09-19T18:02:48",
          "2020-10-01T23:23:49",
          "2020-10-14T09:23:20",
          "2020-10-26T18:57:02.500000",
          "2020-11-08T01:00:24",
          "2020-11-20T06:37:35.500000",
          "2020-12-02T11:56:53.500000",
          "2020-12-14T16:32:47",
          "2020-12-26T20:44:32"
         ],
         "xaxis": "x7",
         "y": [
          245,
          252,
          251,
          262,
          242,
          525,
          508,
          535,
          513,
          513,
          513
         ],
         "yaxis": "y7"
        },
        {
         "hoverinfo": "skip",
         "legendgroup": "alert",
         "marker": {
          "color": "#DD4040",
          "size": 8,
          "symbol": "diamond"
         },
         "mode": "markers",
         "name": "Alert",
         "showlegend": false,
         "type": "scatter",
         "x": [
          "2020-11-08T01:00:24",
          "2020-11-20T06:37:35.500000",
          "2020-12-02T11:56:53.500000",
          "2020-12-14T16:32:47",
          "2020-12-26T20:44:32"
         ],
         "xaxis": "x7",
         "y": [
          525,
          508,
          535,
          513,
          513
         ],
         "yaxis": "y7"
        },
        {
         "hoverinfo": "skip",
         "legendgroup": "thresh",
         "line": {
          "color": "#DD4040",
          "dash": "dash",
          "width": 2
         },
         "mode": "lines",
         "name": "Threshold",
         "showlegend": false,
         "type": "scatter",
         "x": [
          "2020-05-02T02:01:30",
          "2020-05-14T12:29:25",
          "2020-05-26T18:31:06",
          "2020-06-07T19:58:39",
          "2020-06-19T19:44:14",
          "2020-07-02T02:06:56",
          "2020-07-14T08:14:08",
          "2020-07-26T12:57:37",
          "2020-08-07T16:33:44",
          "2020-08-20T00:07:58",
          "2020-09-01T03:03:23"
         ],
         "xaxis": "x7",
         "y": [
          276.04772719574305,
          276.04772719574305,
          276.04772719574305,
          276.04772719574305,
          276.04772719574305,
          276.04772719574305,
          276.04772719574305,
          276.04772719574305,
          276.04772719574305,
          276.04772719574305,
          276.04772719574305
         ],
         "yaxis": "y7"
        },
        {
         "hoverinfo": "skip",
         "legendgroup": "thresh",
         "line": {
          "color": "#DD4040",
          "dash": "dash",
          "width": 2
         },
         "mode": "lines",
         "name": "Threshold",
         "showlegend": false,
         "type": "scatter",
         "x": [
          "2020-05-02T02:01:30",
          "2020-05-14T12:29:25",
          "2020-05-26T18:31:06",
          "2020-06-07T19:58:39",
          "2020-06-19T19:44:14",
          "2020-07-02T02:06:56",
          "2020-07-14T08:14:08",
          "2020-07-26T12:57:37",
          "2020-08-07T16:33:44",
          "2020-08-20T00:07:58",
          "2020-09-01T03:03:23"
         ],
         "xaxis": "x7",
         "y": [
          208.95227280425692,
          208.95227280425692,
          208.95227280425692,
          208.95227280425692,
          208.95227280425692,
          208.95227280425692,
          208.95227280425692,
          208.95227280425692,
          208.95227280425692,
          208.95227280425692,
          208.95227280425692
         ],
         "yaxis": "y7"
        },
        {
         "hoverinfo": "skip",
         "legendgroup": "thresh",
         "line": {
          "color": "#DD4040",
          "dash": "dash",
          "width": 2
         },
         "mode": "lines",
         "name": "Threshold",
         "showlegend": false,
         "type": "scatter",
         "x": [
          "2020-09-01T03:10:01",
          "2020-09-13T16:15:32",
          "2020-09-25T19:50:04",
          "2020-10-08T02:57:34",
          "2020-10-20T15:49:06",
          "2020-11-01T22:04:59",
          "2020-11-14T03:55:49",
          "2020-11-26T09:19:22",
          "2020-12-08T14:34:25",
          "2020-12-20T18:31:09",
          "2021-01-01T22:57:55"
         ],
         "xaxis": "x7",
         "y": [
          276.04772719574305,
          276.04772719574305,
          276.04772719574305,
          276.04772719574305,
          276.04772719574305,
          276.04772719574305,
          276.04772719574305,
          276.04772719574305,
          276.04772719574305,
          276.04772719574305,
          276.04772719574305
         ],
         "yaxis": "y7"
        },
        {
         "hoverinfo": "skip",
         "legendgroup": "thresh",
         "line": {
          "color": "#DD4040",
          "dash": "dash",
          "width": 2
         },
         "mode": "lines",
         "name": "Threshold",
         "showlegend": false,
         "type": "scatter",
         "x": [
          "2020-09-01T03:10:01",
          "2020-09-13T16:15:32",
          "2020-09-25T19:50:04",
          "2020-10-08T02:57:34",
          "2020-10-20T15:49:06",
          "2020-11-01T22:04:59",
          "2020-11-14T03:55:49",
          "2020-11-26T09:19:22",
          "2020-12-08T14:34:25",
          "2020-12-20T18:31:09",
          "2021-01-01T22:57:55"
         ],
         "xaxis": "x7",
         "y": [
          208.95227280425692,
          208.95227280425692,
          208.95227280425692,
          208.95227280425692,
          208.95227280425692,
          208.95227280425692,
          208.95227280425692,
          208.95227280425692,
          208.95227280425692,
          208.95227280425692,
          208.95227280425692
         ],
         "yaxis": "y7"
        },
        {
         "hoverinfo": "skip",
         "legendgroup": "metric_reference",
         "line": {
          "color": "#00c8e5",
          "shape": "hv",
          "width": 2
         },
         "mode": "lines",
         "name": "Metric",
         "showlegend": false,
         "type": "scatter",
         "x": [
          "2020-05-02T02:01:30",
          "2020-05-14T12:29:25",
          "2020-05-26T18:31:06",
          "2020-06-07T19:58:39",
          "2020-06-19T19:44:14",
          "2020-07-02T02:06:56",
          "2020-07-14T08:14:08",
          "2020-07-26T12:57:37",
          "2020-08-07T16:33:44",
          "2020-08-20T00:07:58",
          "2020-09-01T03:03:23"
         ],
         "xaxis": "x8",
         "y": [
          236,
          220,
          245,
          249,
          231,
          241,
          213,
          221,
          236,
          229,
          229
         ],
         "yaxis": "y8"
        },
        {
         "customdata": [
          [
           "Realized <b>true class: upmarket_card, predicted class: prepaid_card</b>",
           "<b style=\"color:#00c8e5;line-height:60px\">Reference</b>",
           "",
           "[0:5999]",
           "From <b>May-02-2020</b> to <b>May-14-2020</b>",
           236,
           44.8118
          ],
          [
           "Realized <b>true class: upmarket_card, predicted class: prepaid_card</b>",
           "<b style=\"color:#00c8e5;line-height:60px\">Reference</b>",
           "",
           "[6000:11999]",
           "From <b>May-14-2020</b> to <b>May-26-2020</b>",
           220,
           44.8118
          ],
          [
           "Realized <b>true class: upmarket_card, predicted class: prepaid_card</b>",
           "<b style=\"color:#00c8e5;line-height:60px\">Reference</b>",
           "",
           "[12000:17999]",
           "From <b>May-26-2020</b> to <b>Jun-07-2020</b>",
           245,
           44.8118
          ],
          [
           "Realized <b>true class: upmarket_card, predicted class: prepaid_card</b>",
           "<b style=\"color:#00c8e5;line-height:60px\">Reference</b>",
           "",
           "[18000:23999]",
           "From <b>Jun-07-2020</b> to <b>Jun-19-2020</b>",
           249,
           44.8118
          ],
          [
           "Realized <b>true class: upmarket_card, predicted class: prepaid_card</b>",
           "<b style=\"color:#00c8e5;line-height:60px\">Reference</b>",
           "",
           "[24000:29999]",
           "From <b>Jun-19-2020</b> to <b>Jul-02-2020</b>",
           231,
           44.8118
          ],
          [
           "Realized <b>true class: upmarket_card, predicted class: prepaid_card</b>",
           "<b style=\"color:#00c8e5;line-height:60px\">Reference</b>",
           "",
           "[30000:35999]",
           "From <b>Jul-02-2020</b> to <b>Jul-14-2020</b>",
           241,
           44.8118
          ],
          [
           "Realized <b>true class: upmarket_card, predicted class: prepaid_card</b>",
           "<b style=\"color:#00c8e5;line-height:60px\">Reference</b>",
           "",
           "[36000:41999]",
           "From <b>Jul-14-2020</b> to <b>Jul-26-2020</b>",
           213,
           44.8118
          ],
          [
           "Realized <b>true class: upmarket_card, predicted class: prepaid_card</b>",
           "<b style=\"color:#00c8e5;line-height:60px\">Reference</b>",
           "",
           "[42000:47999]",
           "From <b>Jul-26-2020</b> to <b>Aug-07-2020</b>",
           221,
           44.8118
          ],
          [
           "Realized <b>true class: upmarket_card, predicted class: prepaid_card</b>",
           "<b style=\"color:#00c8e5;line-height:60px\">Reference</b>",
           "",
           "[48000:53999]",
           "From <b>Aug-07-2020</b> to <b>Aug-20-2020</b>",
           236,
           44.8118
          ],
          [
           "Realized <b>true class: upmarket_card, predicted class: prepaid_card</b>",
           "<b style=\"color:#00c8e5;line-height:60px\">Reference</b>",
           "",
           "[54000:59999]",
           "From <b>Aug-20-2020</b> to <b>Sep-01-2020</b>",
           229,
           44.8118
          ]
         ],
         "hovertemplate": "%{customdata[1]} &nbsp; &nbsp; %{customdata[2]} <br />Chunk: <b>%{customdata[3]}</b> &nbsp; &nbsp; %{customdata[4]} <br />%{customdata[0]}: <b>%{customdata[5]}</b><br />Confidence band: +/- <b>%{customdata[6]}</b><br /><extra></extra>",
         "legendgroup": "metric_reference",
         "marker": {
          "color": "#00c8e5",
          "size": 5,
          "symbol": "circle"
         },
         "mode": "markers",
         "name": "Metric",
         "showlegend": false,
         "type": "scatter",
         "x": [
          "2020-05-08T07:15:27.500000",
          "2020-05-20T15:30:15.500000",
          "2020-06-01T19:14:52.500000",
          "2020-06-13T19:51:26.500000",
          "2020-06-25T22:55:35",
          "2020-07-08T05:10:32",
          "2020-07-20T10:35:52.500000",
          "2020-08-01T14:45:40.500000",
          "2020-08-13T20:20:51",
          "2020-08-26T01:35:40.500000"
         ],
         "xaxis": "x8",
         "y": [
          236,
          220,
          245,
          249,
          231,
          241,
          213,
          221,
          236,
          229,
          229
         ],
         "yaxis": "y8"
        },
        {
         "hoverinfo": "skip",
         "legendgroup": "metric_analysis",
         "line": {
          "color": "#00c8e5",
          "shape": "hv",
          "width": 2
         },
         "mode": "lines",
         "name": "Metric",
         "showlegend": false,
         "type": "scatter",
         "x": [
          "2020-09-01T03:10:01",
          "2020-09-13T16:15:32",
          "2020-09-25T19:50:04",
          "2020-10-08T02:57:34",
          "2020-10-20T15:49:06",
          "2020-11-01T22:04:59",
          "2020-11-14T03:55:49",
          "2020-11-26T09:19:22",
          "2020-12-08T14:34:25",
          "2020-12-20T18:31:09",
          "2021-01-01T22:57:55"
         ],
         "xaxis": "x8",
         "y": [
          245,
          234,
          224,
          201,
          229,
          372,
          382,
          382,
          377,
          371,
          371
         ],
         "yaxis": "y8"
        },
        {
         "customdata": [
          [
           "Realized <b>true class: upmarket_card, predicted class: prepaid_card</b>",
           "<b style=\"color:#3b0280;line-height:60px\">Analysis</b>",
           "",
           "[0:5999]",
           "From <b>Sep-01-2020</b> to <b>Sep-13-2020</b>",
           245,
           44.8118
          ],
          [
           "Realized <b>true class: upmarket_card, predicted class: prepaid_card</b>",
           "<b style=\"color:#3b0280;line-height:60px\">Analysis</b>",
           "",
           "[6000:11999]",
           "From <b>Sep-13-2020</b> to <b>Sep-25-2020</b>",
           234,
           44.8118
          ],
          [
           "Realized <b>true class: upmarket_card, predicted class: prepaid_card</b>",
           "<b style=\"color:#3b0280;line-height:60px\">Analysis</b>",
           "",
           "[12000:17999]",
           "From <b>Sep-25-2020</b> to <b>Oct-08-2020</b>",
           224,
           44.8118
          ],
          [
           "Realized <b>true class: upmarket_card, predicted class: prepaid_card</b>",
           "<b style=\"color:#3b0280;line-height:60px\">Analysis</b>",
           "",
           "[18000:23999]",
           "From <b>Oct-08-2020</b> to <b>Oct-20-2020</b>",
           201,
           44.8118
          ],
          [
           "Realized <b>true class: upmarket_card, predicted class: prepaid_card</b>",
           "<b style=\"color:#3b0280;line-height:60px\">Analysis</b>",
           "",
           "[24000:29999]",
           "From <b>Oct-20-2020</b> to <b>Nov-01-2020</b>",
           229,
           44.8118
          ],
          [
           "Realized <b>true class: upmarket_card, predicted class: prepaid_card</b>",
           "<b style=\"color:#3b0280;line-height:60px\">Analysis</b>",
           "<span style=\"color:#AD0000\">⚠ <b>Drift detected</b></span>",
           "[30000:35999]",
           "From <b>Nov-01-2020</b> to <b>Nov-14-2020</b>",
           372,
           44.8118
          ],
          [
           "Realized <b>true class: upmarket_card, predicted class: prepaid_card</b>",
           "<b style=\"color:#3b0280;line-height:60px\">Analysis</b>",
           "<span style=\"color:#AD0000\">⚠ <b>Drift detected</b></span>",
           "[36000:41999]",
           "From <b>Nov-14-2020</b> to <b>Nov-26-2020</b>",
           382,
           44.8118
          ],
          [
           "Realized <b>true class: upmarket_card, predicted class: prepaid_card</b>",
           "<b style=\"color:#3b0280;line-height:60px\">Analysis</b>",
           "<span style=\"color:#AD0000\">⚠ <b>Drift detected</b></span>",
           "[42000:47999]",
           "From <b>Nov-26-2020</b> to <b>Dec-08-2020</b>",
           382,
           44.8118
          ],
          [
           "Realized <b>true class: upmarket_card, predicted class: prepaid_card</b>",
           "<b style=\"color:#3b0280;line-height:60px\">Analysis</b>",
           "<span style=\"color:#AD0000\">⚠ <b>Drift detected</b></span>",
           "[48000:53999]",
           "From <b>Dec-08-2020</b> to <b>Dec-20-2020</b>",
           377,
           44.8118
          ],
          [
           "Realized <b>true class: upmarket_card, predicted class: prepaid_card</b>",
           "<b style=\"color:#3b0280;line-height:60px\">Analysis</b>",
           "<span style=\"color:#AD0000\">⚠ <b>Drift detected</b></span>",
           "[54000:59999]",
           "From <b>Dec-20-2020</b> to <b>Jan-01-2021</b>",
           371,
           44.8118
          ]
         ],
         "hovertemplate": "%{customdata[1]} &nbsp; &nbsp; %{customdata[2]} <br />Chunk: <b>%{customdata[3]}</b> &nbsp; &nbsp; %{customdata[4]} <br />%{customdata[0]}: <b>%{customdata[5]}</b><br />Confidence band: +/- <b>%{customdata[6]}</b><br /><extra></extra>",
         "legendgroup": "metric_analysis",
         "marker": {
          "color": "#00c8e5",
          "size": 5,
          "symbol": "circle"
         },
         "mode": "markers",
         "name": "Metric",
         "showlegend": false,
         "type": "scatter",
         "x": [
          "2020-09-07T09:42:46.500000",
          "2020-09-19T18:02:48",
          "2020-10-01T23:23:49",
          "2020-10-14T09:23:20",
          "2020-10-26T18:57:02.500000",
          "2020-11-08T01:00:24",
          "2020-11-20T06:37:35.500000",
          "2020-12-02T11:56:53.500000",
          "2020-12-14T16:32:47",
          "2020-12-26T20:44:32"
         ],
         "xaxis": "x8",
         "y": [
          245,
          234,
          224,
          201,
          229,
          372,
          382,
          382,
          377,
          371,
          371
         ],
         "yaxis": "y8"
        },
        {
         "hoverinfo": "skip",
         "legendgroup": "alert",
         "marker": {
          "color": "#DD4040",
          "size": 8,
          "symbol": "diamond"
         },
         "mode": "markers",
         "name": "Alert",
         "showlegend": false,
         "type": "scatter",
         "x": [
          "2020-11-08T01:00:24",
          "2020-11-20T06:37:35.500000",
          "2020-12-02T11:56:53.500000",
          "2020-12-14T16:32:47",
          "2020-12-26T20:44:32"
         ],
         "xaxis": "x8",
         "y": [
          372,
          382,
          382,
          377,
          371
         ],
         "yaxis": "y8"
        },
        {
         "hoverinfo": "skip",
         "legendgroup": "thresh",
         "line": {
          "color": "#DD4040",
          "dash": "dash",
          "width": 2
         },
         "mode": "lines",
         "name": "Threshold",
         "showlegend": false,
         "type": "scatter",
         "x": [
          "2020-05-02T02:01:30",
          "2020-05-14T12:29:25",
          "2020-05-26T18:31:06",
          "2020-06-07T19:58:39",
          "2020-06-19T19:44:14",
          "2020-07-02T02:06:56",
          "2020-07-14T08:14:08",
          "2020-07-26T12:57:37",
          "2020-08-07T16:33:44",
          "2020-08-20T00:07:58",
          "2020-09-01T03:03:23"
         ],
         "xaxis": "x8",
         "y": [
          265.057700162481,
          265.057700162481,
          265.057700162481,
          265.057700162481,
          265.057700162481,
          265.057700162481,
          265.057700162481,
          265.057700162481,
          265.057700162481,
          265.057700162481,
          265.057700162481
         ],
         "yaxis": "y8"
        },
        {
         "hoverinfo": "skip",
         "legendgroup": "thresh",
         "line": {
          "color": "#DD4040",
          "dash": "dash",
          "width": 2
         },
         "mode": "lines",
         "name": "Threshold",
         "showlegend": false,
         "type": "scatter",
         "x": [
          "2020-05-02T02:01:30",
          "2020-05-14T12:29:25",
          "2020-05-26T18:31:06",
          "2020-06-07T19:58:39",
          "2020-06-19T19:44:14",
          "2020-07-02T02:06:56",
          "2020-07-14T08:14:08",
          "2020-07-26T12:57:37",
          "2020-08-07T16:33:44",
          "2020-08-20T00:07:58",
          "2020-09-01T03:03:23"
         ],
         "xaxis": "x8",
         "y": [
          199.142299837519,
          199.142299837519,
          199.142299837519,
          199.142299837519,
          199.142299837519,
          199.142299837519,
          199.142299837519,
          199.142299837519,
          199.142299837519,
          199.142299837519,
          199.142299837519
         ],
         "yaxis": "y8"
        },
        {
         "hoverinfo": "skip",
         "legendgroup": "thresh",
         "line": {
          "color": "#DD4040",
          "dash": "dash",
          "width": 2
         },
         "mode": "lines",
         "name": "Threshold",
         "showlegend": false,
         "type": "scatter",
         "x": [
          "2020-09-01T03:10:01",
          "2020-09-13T16:15:32",
          "2020-09-25T19:50:04",
          "2020-10-08T02:57:34",
          "2020-10-20T15:49:06",
          "2020-11-01T22:04:59",
          "2020-11-14T03:55:49",
          "2020-11-26T09:19:22",
          "2020-12-08T14:34:25",
          "2020-12-20T18:31:09",
          "2021-01-01T22:57:55"
         ],
         "xaxis": "x8",
         "y": [
          265.057700162481,
          265.057700162481,
          265.057700162481,
          265.057700162481,
          265.057700162481,
          265.057700162481,
          265.057700162481,
          265.057700162481,
          265.057700162481,
          265.057700162481,
          265.057700162481
         ],
         "yaxis": "y8"
        },
        {
         "hoverinfo": "skip",
         "legendgroup": "thresh",
         "line": {
          "color": "#DD4040",
          "dash": "dash",
          "width": 2
         },
         "mode": "lines",
         "name": "Threshold",
         "showlegend": false,
         "type": "scatter",
         "x": [
          "2020-09-01T03:10:01",
          "2020-09-13T16:15:32",
          "2020-09-25T19:50:04",
          "2020-10-08T02:57:34",
          "2020-10-20T15:49:06",
          "2020-11-01T22:04:59",
          "2020-11-14T03:55:49",
          "2020-11-26T09:19:22",
          "2020-12-08T14:34:25",
          "2020-12-20T18:31:09",
          "2021-01-01T22:57:55"
         ],
         "xaxis": "x8",
         "y": [
          199.142299837519,
          199.142299837519,
          199.142299837519,
          199.142299837519,
          199.142299837519,
          199.142299837519,
          199.142299837519,
          199.142299837519,
          199.142299837519,
          199.142299837519,
          199.142299837519
         ],
         "yaxis": "y8"
        },
        {
         "hoverinfo": "skip",
         "legendgroup": "metric_reference",
         "line": {
          "color": "#00c8e5",
          "shape": "hv",
          "width": 2
         },
         "mode": "lines",
         "name": "Metric",
         "showlegend": false,
         "type": "scatter",
         "x": [
          "2020-05-02T02:01:30",
          "2020-05-14T12:29:25",
          "2020-05-26T18:31:06",
          "2020-06-07T19:58:39",
          "2020-06-19T19:44:14",
          "2020-07-02T02:06:56",
          "2020-07-14T08:14:08",
          "2020-07-26T12:57:37",
          "2020-08-07T16:33:44",
          "2020-08-20T00:07:58",
          "2020-09-01T03:03:23"
         ],
         "xaxis": "x9",
         "y": [
          1518,
          1483,
          1532,
          1480,
          1563,
          1513,
          1466,
          1516,
          1545,
          1574,
          1574
         ],
         "yaxis": "y9"
        },
        {
         "customdata": [
          [
           "Realized <b>true class: upmarket_card, predicted class: upmarket_card</b>",
           "<b style=\"color:#00c8e5;line-height:60px\">Reference</b>",
           "",
           "[0:5999]",
           "From <b>May-02-2020</b> to <b>May-14-2020</b>",
           1518,
           101.0443
          ],
          [
           "Realized <b>true class: upmarket_card, predicted class: upmarket_card</b>",
           "<b style=\"color:#00c8e5;line-height:60px\">Reference</b>",
           "",
           "[6000:11999]",
           "From <b>May-14-2020</b> to <b>May-26-2020</b>",
           1483,
           101.0443
          ],
          [
           "Realized <b>true class: upmarket_card, predicted class: upmarket_card</b>",
           "<b style=\"color:#00c8e5;line-height:60px\">Reference</b>",
           "",
           "[12000:17999]",
           "From <b>May-26-2020</b> to <b>Jun-07-2020</b>",
           1532,
           101.0443
          ],
          [
           "Realized <b>true class: upmarket_card, predicted class: upmarket_card</b>",
           "<b style=\"color:#00c8e5;line-height:60px\">Reference</b>",
           "",
           "[18000:23999]",
           "From <b>Jun-07-2020</b> to <b>Jun-19-2020</b>",
           1480,
           101.0443
          ],
          [
           "Realized <b>true class: upmarket_card, predicted class: upmarket_card</b>",
           "<b style=\"color:#00c8e5;line-height:60px\">Reference</b>",
           "",
           "[24000:29999]",
           "From <b>Jun-19-2020</b> to <b>Jul-02-2020</b>",
           1563,
           101.0443
          ],
          [
           "Realized <b>true class: upmarket_card, predicted class: upmarket_card</b>",
           "<b style=\"color:#00c8e5;line-height:60px\">Reference</b>",
           "",
           "[30000:35999]",
           "From <b>Jul-02-2020</b> to <b>Jul-14-2020</b>",
           1513,
           101.0443
          ],
          [
           "Realized <b>true class: upmarket_card, predicted class: upmarket_card</b>",
           "<b style=\"color:#00c8e5;line-height:60px\">Reference</b>",
           "",
           "[36000:41999]",
           "From <b>Jul-14-2020</b> to <b>Jul-26-2020</b>",
           1466,
           101.0443
          ],
          [
           "Realized <b>true class: upmarket_card, predicted class: upmarket_card</b>",
           "<b style=\"color:#00c8e5;line-height:60px\">Reference</b>",
           "",
           "[42000:47999]",
           "From <b>Jul-26-2020</b> to <b>Aug-07-2020</b>",
           1516,
           101.0443
          ],
          [
           "Realized <b>true class: upmarket_card, predicted class: upmarket_card</b>",
           "<b style=\"color:#00c8e5;line-height:60px\">Reference</b>",
           "",
           "[48000:53999]",
           "From <b>Aug-07-2020</b> to <b>Aug-20-2020</b>",
           1545,
           101.0443
          ],
          [
           "Realized <b>true class: upmarket_card, predicted class: upmarket_card</b>",
           "<b style=\"color:#00c8e5;line-height:60px\">Reference</b>",
           "",
           "[54000:59999]",
           "From <b>Aug-20-2020</b> to <b>Sep-01-2020</b>",
           1574,
           101.0443
          ]
         ],
         "hovertemplate": "%{customdata[1]} &nbsp; &nbsp; %{customdata[2]} <br />Chunk: <b>%{customdata[3]}</b> &nbsp; &nbsp; %{customdata[4]} <br />%{customdata[0]}: <b>%{customdata[5]}</b><br />Confidence band: +/- <b>%{customdata[6]}</b><br /><extra></extra>",
         "legendgroup": "metric_reference",
         "marker": {
          "color": "#00c8e5",
          "size": 5,
          "symbol": "circle"
         },
         "mode": "markers",
         "name": "Metric",
         "showlegend": false,
         "type": "scatter",
         "x": [
          "2020-05-08T07:15:27.500000",
          "2020-05-20T15:30:15.500000",
          "2020-06-01T19:14:52.500000",
          "2020-06-13T19:51:26.500000",
          "2020-06-25T22:55:35",
          "2020-07-08T05:10:32",
          "2020-07-20T10:35:52.500000",
          "2020-08-01T14:45:40.500000",
          "2020-08-13T20:20:51",
          "2020-08-26T01:35:40.500000"
         ],
         "xaxis": "x9",
         "y": [
          1518,
          1483,
          1532,
          1480,
          1563,
          1513,
          1466,
          1516,
          1545,
          1574,
          1574
         ],
         "yaxis": "y9"
        },
        {
         "hoverinfo": "skip",
         "legendgroup": "metric_analysis",
         "line": {
          "color": "#00c8e5",
          "shape": "hv",
          "width": 2
         },
         "mode": "lines",
         "name": "Metric",
         "showlegend": false,
         "type": "scatter",
         "x": [
          "2020-09-01T03:10:01",
          "2020-09-13T16:15:32",
          "2020-09-25T19:50:04",
          "2020-10-08T02:57:34",
          "2020-10-20T15:49:06",
          "2020-11-01T22:04:59",
          "2020-11-14T03:55:49",
          "2020-11-26T09:19:22",
          "2020-12-08T14:34:25",
          "2020-12-20T18:31:09",
          "2021-01-01T22:57:55"
         ],
         "xaxis": "x9",
         "y": [
          1490,
          1524,
          1544,
          1528,
          1567,
          1165,
          1120,
          1147,
          1166,
          1173,
          1173
         ],
         "yaxis": "y9"
        },
        {
         "customdata": [
          [
           "Realized <b>true class: upmarket_card, predicted class: upmarket_card</b>",
           "<b style=\"color:#3b0280;line-height:60px\">Analysis</b>",
           "",
           "[0:5999]",
           "From <b>Sep-01-2020</b> to <b>Sep-13-2020</b>",
           1490,
           101.0443
          ],
          [
           "Realized <b>true class: upmarket_card, predicted class: upmarket_card</b>",
           "<b style=\"color:#3b0280;line-height:60px\">Analysis</b>",
           "",
           "[6000:11999]",
           "From <b>Sep-13-2020</b> to <b>Sep-25-2020</b>",
           1524,
           101.0443
          ],
          [
           "Realized <b>true class: upmarket_card, predicted class: upmarket_card</b>",
           "<b style=\"color:#3b0280;line-height:60px\">Analysis</b>",
           "",
           "[12000:17999]",
           "From <b>Sep-25-2020</b> to <b>Oct-08-2020</b>",
           1544,
           101.0443
          ],
          [
           "Realized <b>true class: upmarket_card, predicted class: upmarket_card</b>",
           "<b style=\"color:#3b0280;line-height:60px\">Analysis</b>",
           "",
           "[18000:23999]",
           "From <b>Oct-08-2020</b> to <b>Oct-20-2020</b>",
           1528,
           101.0443
          ],
          [
           "Realized <b>true class: upmarket_card, predicted class: upmarket_card</b>",
           "<b style=\"color:#3b0280;line-height:60px\">Analysis</b>",
           "",
           "[24000:29999]",
           "From <b>Oct-20-2020</b> to <b>Nov-01-2020</b>",
           1567,
           101.0443
          ],
          [
           "Realized <b>true class: upmarket_card, predicted class: upmarket_card</b>",
           "<b style=\"color:#3b0280;line-height:60px\">Analysis</b>",
           "<span style=\"color:#AD0000\">⚠ <b>Drift detected</b></span>",
           "[30000:35999]",
           "From <b>Nov-01-2020</b> to <b>Nov-14-2020</b>",
           1165,
           101.0443
          ],
          [
           "Realized <b>true class: upmarket_card, predicted class: upmarket_card</b>",
           "<b style=\"color:#3b0280;line-height:60px\">Analysis</b>",
           "<span style=\"color:#AD0000\">⚠ <b>Drift detected</b></span>",
           "[36000:41999]",
           "From <b>Nov-14-2020</b> to <b>Nov-26-2020</b>",
           1120,
           101.0443
          ],
          [
           "Realized <b>true class: upmarket_card, predicted class: upmarket_card</b>",
           "<b style=\"color:#3b0280;line-height:60px\">Analysis</b>",
           "<span style=\"color:#AD0000\">⚠ <b>Drift detected</b></span>",
           "[42000:47999]",
           "From <b>Nov-26-2020</b> to <b>Dec-08-2020</b>",
           1147,
           101.0443
          ],
          [
           "Realized <b>true class: upmarket_card, predicted class: upmarket_card</b>",
           "<b style=\"color:#3b0280;line-height:60px\">Analysis</b>",
           "<span style=\"color:#AD0000\">⚠ <b>Drift detected</b></span>",
           "[48000:53999]",
           "From <b>Dec-08-2020</b> to <b>Dec-20-2020</b>",
           1166,
           101.0443
          ],
          [
           "Realized <b>true class: upmarket_card, predicted class: upmarket_card</b>",
           "<b style=\"color:#3b0280;line-height:60px\">Analysis</b>",
           "<span style=\"color:#AD0000\">⚠ <b>Drift detected</b></span>",
           "[54000:59999]",
           "From <b>Dec-20-2020</b> to <b>Jan-01-2021</b>",
           1173,
           101.0443
          ]
         ],
         "hovertemplate": "%{customdata[1]} &nbsp; &nbsp; %{customdata[2]} <br />Chunk: <b>%{customdata[3]}</b> &nbsp; &nbsp; %{customdata[4]} <br />%{customdata[0]}: <b>%{customdata[5]}</b><br />Confidence band: +/- <b>%{customdata[6]}</b><br /><extra></extra>",
         "legendgroup": "metric_analysis",
         "marker": {
          "color": "#00c8e5",
          "size": 5,
          "symbol": "circle"
         },
         "mode": "markers",
         "name": "Metric",
         "showlegend": false,
         "type": "scatter",
         "x": [
          "2020-09-07T09:42:46.500000",
          "2020-09-19T18:02:48",
          "2020-10-01T23:23:49",
          "2020-10-14T09:23:20",
          "2020-10-26T18:57:02.500000",
          "2020-11-08T01:00:24",
          "2020-11-20T06:37:35.500000",
          "2020-12-02T11:56:53.500000",
          "2020-12-14T16:32:47",
          "2020-12-26T20:44:32"
         ],
         "xaxis": "x9",
         "y": [
          1490,
          1524,
          1544,
          1528,
          1567,
          1165,
          1120,
          1147,
          1166,
          1173,
          1173
         ],
         "yaxis": "y9"
        },
        {
         "hoverinfo": "skip",
         "legendgroup": "alert",
         "marker": {
          "color": "#DD4040",
          "size": 8,
          "symbol": "diamond"
         },
         "mode": "markers",
         "name": "Alert",
         "showlegend": false,
         "type": "scatter",
         "x": [
          "2020-11-08T01:00:24",
          "2020-11-20T06:37:35.500000",
          "2020-12-02T11:56:53.500000",
          "2020-12-14T16:32:47",
          "2020-12-26T20:44:32"
         ],
         "xaxis": "x9",
         "y": [
          1165,
          1120,
          1147,
          1166,
          1173
         ],
         "yaxis": "y9"
        },
        {
         "hoverinfo": "skip",
         "legendgroup": "thresh",
         "line": {
          "color": "#DD4040",
          "dash": "dash",
          "width": 2
         },
         "mode": "lines",
         "name": "Threshold",
         "showlegend": false,
         "type": "scatter",
         "x": [
          "2020-05-02T02:01:30",
          "2020-05-14T12:29:25",
          "2020-05-26T18:31:06",
          "2020-06-07T19:58:39",
          "2020-06-19T19:44:14",
          "2020-07-02T02:06:56",
          "2020-07-14T08:14:08",
          "2020-07-26T12:57:37",
          "2020-08-07T16:33:44",
          "2020-08-20T00:07:58",
          "2020-09-01T03:03:23"
         ],
         "xaxis": "x9",
         "y": [
          1620.6375914708726,
          1620.6375914708726,
          1620.6375914708726,
          1620.6375914708726,
          1620.6375914708726,
          1620.6375914708726,
          1620.6375914708726,
          1620.6375914708726,
          1620.6375914708726,
          1620.6375914708726,
          1620.6375914708726
         ],
         "yaxis": "y9"
        },
        {
         "hoverinfo": "skip",
         "legendgroup": "thresh",
         "line": {
          "color": "#DD4040",
          "dash": "dash",
          "width": 2
         },
         "mode": "lines",
         "name": "Threshold",
         "showlegend": false,
         "type": "scatter",
         "x": [
          "2020-05-02T02:01:30",
          "2020-05-14T12:29:25",
          "2020-05-26T18:31:06",
          "2020-06-07T19:58:39",
          "2020-06-19T19:44:14",
          "2020-07-02T02:06:56",
          "2020-07-14T08:14:08",
          "2020-07-26T12:57:37",
          "2020-08-07T16:33:44",
          "2020-08-20T00:07:58",
          "2020-09-01T03:03:23"
         ],
         "xaxis": "x9",
         "y": [
          1417.3624085291274,
          1417.3624085291274,
          1417.3624085291274,
          1417.3624085291274,
          1417.3624085291274,
          1417.3624085291274,
          1417.3624085291274,
          1417.3624085291274,
          1417.3624085291274,
          1417.3624085291274,
          1417.3624085291274
         ],
         "yaxis": "y9"
        },
        {
         "hoverinfo": "skip",
         "legendgroup": "thresh",
         "line": {
          "color": "#DD4040",
          "dash": "dash",
          "width": 2
         },
         "mode": "lines",
         "name": "Threshold",
         "showlegend": false,
         "type": "scatter",
         "x": [
          "2020-09-01T03:10:01",
          "2020-09-13T16:15:32",
          "2020-09-25T19:50:04",
          "2020-10-08T02:57:34",
          "2020-10-20T15:49:06",
          "2020-11-01T22:04:59",
          "2020-11-14T03:55:49",
          "2020-11-26T09:19:22",
          "2020-12-08T14:34:25",
          "2020-12-20T18:31:09",
          "2021-01-01T22:57:55"
         ],
         "xaxis": "x9",
         "y": [
          1620.6375914708726,
          1620.6375914708726,
          1620.6375914708726,
          1620.6375914708726,
          1620.6375914708726,
          1620.6375914708726,
          1620.6375914708726,
          1620.6375914708726,
          1620.6375914708726,
          1620.6375914708726,
          1620.6375914708726
         ],
         "yaxis": "y9"
        },
        {
         "hoverinfo": "skip",
         "legendgroup": "thresh",
         "line": {
          "color": "#DD4040",
          "dash": "dash",
          "width": 2
         },
         "mode": "lines",
         "name": "Threshold",
         "showlegend": false,
         "type": "scatter",
         "x": [
          "2020-09-01T03:10:01",
          "2020-09-13T16:15:32",
          "2020-09-25T19:50:04",
          "2020-10-08T02:57:34",
          "2020-10-20T15:49:06",
          "2020-11-01T22:04:59",
          "2020-11-14T03:55:49",
          "2020-11-26T09:19:22",
          "2020-12-08T14:34:25",
          "2020-12-20T18:31:09",
          "2021-01-01T22:57:55"
         ],
         "xaxis": "x9",
         "y": [
          1417.3624085291274,
          1417.3624085291274,
          1417.3624085291274,
          1417.3624085291274,
          1417.3624085291274,
          1417.3624085291274,
          1417.3624085291274,
          1417.3624085291274,
          1417.3624085291274,
          1417.3624085291274,
          1417.3624085291274
         ],
         "yaxis": "y9"
        }
       ],
       "layout": {
        "annotations": [
         {
          "font": {
           "size": 16
          },
          "showarrow": false,
          "text": "Realized <b>true class: highstreet_card, predicted class: highstreet_card</b>",
          "x": 0.5,
          "xanchor": "center",
          "xref": "paper",
          "y": 1,
          "yanchor": "bottom",
          "yref": "paper"
         },
         {
          "font": {
           "size": 16
          },
          "showarrow": false,
          "text": "Realized <b>true class: highstreet_card, predicted class: prepaid_card</b>",
          "x": 0.5,
          "xanchor": "center",
          "xref": "paper",
          "y": 0.8827160493827161,
          "yanchor": "bottom",
          "yref": "paper"
         },
         {
          "font": {
           "size": 16
          },
          "showarrow": false,
          "text": "Realized <b>true class: highstreet_card, predicted class: upmarket_card</b>",
          "x": 0.5,
          "xanchor": "center",
          "xref": "paper",
          "y": 0.7654320987654322,
          "yanchor": "bottom",
          "yref": "paper"
         },
         {
          "font": {
           "size": 16
          },
          "showarrow": false,
          "text": "Realized <b>true class: prepaid_card, predicted class: highstreet_card</b>",
          "x": 0.5,
          "xanchor": "center",
          "xref": "paper",
          "y": 0.6481481481481483,
          "yanchor": "bottom",
          "yref": "paper"
         },
         {
          "font": {
           "size": 16
          },
          "showarrow": false,
          "text": "Realized <b>true class: prepaid_card, predicted class: prepaid_card</b>",
          "x": 0.5,
          "xanchor": "center",
          "xref": "paper",
          "y": 0.5308641975308642,
          "yanchor": "bottom",
          "yref": "paper"
         },
         {
          "font": {
           "size": 16
          },
          "showarrow": false,
          "text": "Realized <b>true class: prepaid_card, predicted class: upmarket_card</b>",
          "x": 0.5,
          "xanchor": "center",
          "xref": "paper",
          "y": 0.41358024691358025,
          "yanchor": "bottom",
          "yref": "paper"
         },
         {
          "font": {
           "size": 16
          },
          "showarrow": false,
          "text": "Realized <b>true class: upmarket_card, predicted class: highstreet_card</b>",
          "x": 0.5,
          "xanchor": "center",
          "xref": "paper",
          "y": 0.2962962962962963,
          "yanchor": "bottom",
          "yref": "paper"
         },
         {
          "font": {
           "size": 16
          },
          "showarrow": false,
          "text": "Realized <b>true class: upmarket_card, predicted class: prepaid_card</b>",
          "x": 0.5,
          "xanchor": "center",
          "xref": "paper",
          "y": 0.17901234567901234,
          "yanchor": "bottom",
          "yref": "paper"
         },
         {
          "font": {
           "size": 16
          },
          "showarrow": false,
          "text": "Realized <b>true class: upmarket_card, predicted class: upmarket_card</b>",
          "x": 0.5,
          "xanchor": "center",
          "xref": "paper",
          "y": 0.0617283950617284,
          "yanchor": "bottom",
          "yref": "paper"
         },
         {
          "showarrow": false,
          "text": "Reference",
          "x": "2020-06-26T01:40:31.700000",
          "xref": "x",
          "xshift": 10,
          "y": 1.01,
          "yref": "y domain"
         },
         {
          "showarrow": false,
          "text": "Analysis",
          "x": "2020-10-26T15:02:48.100000",
          "xref": "x",
          "xshift": 15,
          "y": 1.01,
          "yref": "y domain"
         },
         {
          "showarrow": false,
          "text": "Reference",
          "x": "2020-06-26T01:40:31.700000",
          "xref": "x2",
          "xshift": 10,
          "y": 1.01,
          "yref": "y2 domain"
         },
         {
          "showarrow": false,
          "text": "Analysis",
          "x": "2020-10-26T15:02:48.100000",
          "xref": "x2",
          "xshift": 15,
          "y": 1.01,
          "yref": "y2 domain"
         },
         {
          "showarrow": false,
          "text": "Reference",
          "x": "2020-06-26T01:40:31.700000",
          "xref": "x3",
          "xshift": 10,
          "y": 1.01,
          "yref": "y3 domain"
         },
         {
          "showarrow": false,
          "text": "Analysis",
          "x": "2020-10-26T15:02:48.100000",
          "xref": "x3",
          "xshift": 15,
          "y": 1.01,
          "yref": "y3 domain"
         },
         {
          "showarrow": false,
          "text": "Reference",
          "x": "2020-06-26T01:40:31.700000",
          "xref": "x4",
          "xshift": 10,
          "y": 1.01,
          "yref": "y4 domain"
         },
         {
          "showarrow": false,
          "text": "Analysis",
          "x": "2020-10-26T15:02:48.100000",
          "xref": "x4",
          "xshift": 15,
          "y": 1.01,
          "yref": "y4 domain"
         },
         {
          "showarrow": false,
          "text": "Reference",
          "x": "2020-06-26T01:40:31.700000",
          "xref": "x5",
          "xshift": 10,
          "y": 1.01,
          "yref": "y5 domain"
         },
         {
          "showarrow": false,
          "text": "Analysis",
          "x": "2020-10-26T15:02:48.100000",
          "xref": "x5",
          "xshift": 15,
          "y": 1.01,
          "yref": "y5 domain"
         },
         {
          "showarrow": false,
          "text": "Reference",
          "x": "2020-06-26T01:40:31.700000",
          "xref": "x6",
          "xshift": 10,
          "y": 1.01,
          "yref": "y6 domain"
         },
         {
          "showarrow": false,
          "text": "Analysis",
          "x": "2020-10-26T15:02:48.100000",
          "xref": "x6",
          "xshift": 15,
          "y": 1.01,
          "yref": "y6 domain"
         },
         {
          "showarrow": false,
          "text": "Reference",
          "x": "2020-06-26T01:40:31.700000",
          "xref": "x7",
          "xshift": 10,
          "y": 1.01,
          "yref": "y7 domain"
         },
         {
          "showarrow": false,
          "text": "Analysis",
          "x": "2020-10-26T15:02:48.100000",
          "xref": "x7",
          "xshift": 15,
          "y": 1.01,
          "yref": "y7 domain"
         },
         {
          "showarrow": false,
          "text": "Reference",
          "x": "2020-06-26T01:40:31.700000",
          "xref": "x8",
          "xshift": 10,
          "y": 1.01,
          "yref": "y8 domain"
         },
         {
          "showarrow": false,
          "text": "Analysis",
          "x": "2020-10-26T15:02:48.100000",
          "xref": "x8",
          "xshift": 15,
          "y": 1.01,
          "yref": "y8 domain"
         },
         {
          "showarrow": false,
          "text": "Reference",
          "x": "2020-06-26T01:40:31.700000",
          "xref": "x9",
          "xshift": 10,
          "y": 1.01,
          "yref": "y9 domain"
         },
         {
          "showarrow": false,
          "text": "Analysis",
          "x": "2020-10-26T15:02:48.100000",
          "xref": "x9",
          "xshift": 15,
          "y": 1.01,
          "yref": "y9 domain"
         }
        ],
        "height": 4500,
        "hoverlabel": {
         "bgcolor": "white",
         "font": {
          "size": 14
         }
        },
        "legend": {
         "itemclick": false,
         "itemdoubleclick": false,
         "traceorder": "grouped"
        },
        "paper_bgcolor": "rgba(255,255,255,1)",
        "plot_bgcolor": "rgba(255,255,255,1)",
        "shapes": [
         {
          "layer": "below",
          "line": {
           "color": "#666666",
           "width": 1
          },
          "type": "line",
          "x0": "2020-09-01T03:10:01",
          "x1": "2020-09-01T03:10:01",
          "xref": "x",
          "y0": 0,
          "y1": 1,
          "yref": "y domain"
         },
         {
          "layer": "below",
          "line": {
           "color": "#666666",
           "width": 1
          },
          "type": "line",
          "x0": "2020-09-01T03:10:01",
          "x1": "2020-09-01T03:10:01",
          "xref": "x",
          "y0": 0,
          "y1": 1,
          "yref": "y domain"
         },
         {
          "layer": "below",
          "line": {
           "color": "#666666",
           "width": 1
          },
          "type": "line",
          "x0": "2020-09-01T03:10:01",
          "x1": "2020-09-01T03:10:01",
          "xref": "x2",
          "y0": 0,
          "y1": 1,
          "yref": "y2 domain"
         },
         {
          "layer": "below",
          "line": {
           "color": "#666666",
           "width": 1
          },
          "type": "line",
          "x0": "2020-09-01T03:10:01",
          "x1": "2020-09-01T03:10:01",
          "xref": "x",
          "y0": 0,
          "y1": 1,
          "yref": "y domain"
         },
         {
          "layer": "below",
          "line": {
           "color": "#666666",
           "width": 1
          },
          "type": "line",
          "x0": "2020-09-01T03:10:01",
          "x1": "2020-09-01T03:10:01",
          "xref": "x2",
          "y0": 0,
          "y1": 1,
          "yref": "y2 domain"
         },
         {
          "layer": "below",
          "line": {
           "color": "#666666",
           "width": 1
          },
          "type": "line",
          "x0": "2020-09-01T03:10:01",
          "x1": "2020-09-01T03:10:01",
          "xref": "x3",
          "y0": 0,
          "y1": 1,
          "yref": "y3 domain"
         },
         {
          "layer": "below",
          "line": {
           "color": "#666666",
           "width": 1
          },
          "type": "line",
          "x0": "2020-09-01T03:10:01",
          "x1": "2020-09-01T03:10:01",
          "xref": "x",
          "y0": 0,
          "y1": 1,
          "yref": "y domain"
         },
         {
          "layer": "below",
          "line": {
           "color": "#666666",
           "width": 1
          },
          "type": "line",
          "x0": "2020-09-01T03:10:01",
          "x1": "2020-09-01T03:10:01",
          "xref": "x2",
          "y0": 0,
          "y1": 1,
          "yref": "y2 domain"
         },
         {
          "layer": "below",
          "line": {
           "color": "#666666",
           "width": 1
          },
          "type": "line",
          "x0": "2020-09-01T03:10:01",
          "x1": "2020-09-01T03:10:01",
          "xref": "x3",
          "y0": 0,
          "y1": 1,
          "yref": "y3 domain"
         },
         {
          "layer": "below",
          "line": {
           "color": "#666666",
           "width": 1
          },
          "type": "line",
          "x0": "2020-09-01T03:10:01",
          "x1": "2020-09-01T03:10:01",
          "xref": "x4",
          "y0": 0,
          "y1": 1,
          "yref": "y4 domain"
         },
         {
          "layer": "below",
          "line": {
           "color": "#666666",
           "width": 1
          },
          "type": "line",
          "x0": "2020-09-01T03:10:01",
          "x1": "2020-09-01T03:10:01",
          "xref": "x",
          "y0": 0,
          "y1": 1,
          "yref": "y domain"
         },
         {
          "layer": "below",
          "line": {
           "color": "#666666",
           "width": 1
          },
          "type": "line",
          "x0": "2020-09-01T03:10:01",
          "x1": "2020-09-01T03:10:01",
          "xref": "x2",
          "y0": 0,
          "y1": 1,
          "yref": "y2 domain"
         },
         {
          "layer": "below",
          "line": {
           "color": "#666666",
           "width": 1
          },
          "type": "line",
          "x0": "2020-09-01T03:10:01",
          "x1": "2020-09-01T03:10:01",
          "xref": "x3",
          "y0": 0,
          "y1": 1,
          "yref": "y3 domain"
         },
         {
          "layer": "below",
          "line": {
           "color": "#666666",
           "width": 1
          },
          "type": "line",
          "x0": "2020-09-01T03:10:01",
          "x1": "2020-09-01T03:10:01",
          "xref": "x4",
          "y0": 0,
          "y1": 1,
          "yref": "y4 domain"
         },
         {
          "layer": "below",
          "line": {
           "color": "#666666",
           "width": 1
          },
          "type": "line",
          "x0": "2020-09-01T03:10:01",
          "x1": "2020-09-01T03:10:01",
          "xref": "x5",
          "y0": 0,
          "y1": 1,
          "yref": "y5 domain"
         },
         {
          "layer": "below",
          "line": {
           "color": "#666666",
           "width": 1
          },
          "type": "line",
          "x0": "2020-09-01T03:10:01",
          "x1": "2020-09-01T03:10:01",
          "xref": "x",
          "y0": 0,
          "y1": 1,
          "yref": "y domain"
         },
         {
          "layer": "below",
          "line": {
           "color": "#666666",
           "width": 1
          },
          "type": "line",
          "x0": "2020-09-01T03:10:01",
          "x1": "2020-09-01T03:10:01",
          "xref": "x2",
          "y0": 0,
          "y1": 1,
          "yref": "y2 domain"
         },
         {
          "layer": "below",
          "line": {
           "color": "#666666",
           "width": 1
          },
          "type": "line",
          "x0": "2020-09-01T03:10:01",
          "x1": "2020-09-01T03:10:01",
          "xref": "x3",
          "y0": 0,
          "y1": 1,
          "yref": "y3 domain"
         },
         {
          "layer": "below",
          "line": {
           "color": "#666666",
           "width": 1
          },
          "type": "line",
          "x0": "2020-09-01T03:10:01",
          "x1": "2020-09-01T03:10:01",
          "xref": "x4",
          "y0": 0,
          "y1": 1,
          "yref": "y4 domain"
         },
         {
          "layer": "below",
          "line": {
           "color": "#666666",
           "width": 1
          },
          "type": "line",
          "x0": "2020-09-01T03:10:01",
          "x1": "2020-09-01T03:10:01",
          "xref": "x5",
          "y0": 0,
          "y1": 1,
          "yref": "y5 domain"
         },
         {
          "layer": "below",
          "line": {
           "color": "#666666",
           "width": 1
          },
          "type": "line",
          "x0": "2020-09-01T03:10:01",
          "x1": "2020-09-01T03:10:01",
          "xref": "x6",
          "y0": 0,
          "y1": 1,
          "yref": "y6 domain"
         },
         {
          "layer": "below",
          "line": {
           "color": "#666666",
           "width": 1
          },
          "type": "line",
          "x0": "2020-09-01T03:10:01",
          "x1": "2020-09-01T03:10:01",
          "xref": "x",
          "y0": 0,
          "y1": 1,
          "yref": "y domain"
         },
         {
          "layer": "below",
          "line": {
           "color": "#666666",
           "width": 1
          },
          "type": "line",
          "x0": "2020-09-01T03:10:01",
          "x1": "2020-09-01T03:10:01",
          "xref": "x2",
          "y0": 0,
          "y1": 1,
          "yref": "y2 domain"
         },
         {
          "layer": "below",
          "line": {
           "color": "#666666",
           "width": 1
          },
          "type": "line",
          "x0": "2020-09-01T03:10:01",
          "x1": "2020-09-01T03:10:01",
          "xref": "x3",
          "y0": 0,
          "y1": 1,
          "yref": "y3 domain"
         },
         {
          "layer": "below",
          "line": {
           "color": "#666666",
           "width": 1
          },
          "type": "line",
          "x0": "2020-09-01T03:10:01",
          "x1": "2020-09-01T03:10:01",
          "xref": "x4",
          "y0": 0,
          "y1": 1,
          "yref": "y4 domain"
         },
         {
          "layer": "below",
          "line": {
           "color": "#666666",
           "width": 1
          },
          "type": "line",
          "x0": "2020-09-01T03:10:01",
          "x1": "2020-09-01T03:10:01",
          "xref": "x5",
          "y0": 0,
          "y1": 1,
          "yref": "y5 domain"
         },
         {
          "layer": "below",
          "line": {
           "color": "#666666",
           "width": 1
          },
          "type": "line",
          "x0": "2020-09-01T03:10:01",
          "x1": "2020-09-01T03:10:01",
          "xref": "x6",
          "y0": 0,
          "y1": 1,
          "yref": "y6 domain"
         },
         {
          "layer": "below",
          "line": {
           "color": "#666666",
           "width": 1
          },
          "type": "line",
          "x0": "2020-09-01T03:10:01",
          "x1": "2020-09-01T03:10:01",
          "xref": "x7",
          "y0": 0,
          "y1": 1,
          "yref": "y7 domain"
         },
         {
          "layer": "below",
          "line": {
           "color": "#666666",
           "width": 1
          },
          "type": "line",
          "x0": "2020-09-01T03:10:01",
          "x1": "2020-09-01T03:10:01",
          "xref": "x",
          "y0": 0,
          "y1": 1,
          "yref": "y domain"
         },
         {
          "layer": "below",
          "line": {
           "color": "#666666",
           "width": 1
          },
          "type": "line",
          "x0": "2020-09-01T03:10:01",
          "x1": "2020-09-01T03:10:01",
          "xref": "x2",
          "y0": 0,
          "y1": 1,
          "yref": "y2 domain"
         },
         {
          "layer": "below",
          "line": {
           "color": "#666666",
           "width": 1
          },
          "type": "line",
          "x0": "2020-09-01T03:10:01",
          "x1": "2020-09-01T03:10:01",
          "xref": "x3",
          "y0": 0,
          "y1": 1,
          "yref": "y3 domain"
         },
         {
          "layer": "below",
          "line": {
           "color": "#666666",
           "width": 1
          },
          "type": "line",
          "x0": "2020-09-01T03:10:01",
          "x1": "2020-09-01T03:10:01",
          "xref": "x4",
          "y0": 0,
          "y1": 1,
          "yref": "y4 domain"
         },
         {
          "layer": "below",
          "line": {
           "color": "#666666",
           "width": 1
          },
          "type": "line",
          "x0": "2020-09-01T03:10:01",
          "x1": "2020-09-01T03:10:01",
          "xref": "x5",
          "y0": 0,
          "y1": 1,
          "yref": "y5 domain"
         },
         {
          "layer": "below",
          "line": {
           "color": "#666666",
           "width": 1
          },
          "type": "line",
          "x0": "2020-09-01T03:10:01",
          "x1": "2020-09-01T03:10:01",
          "xref": "x6",
          "y0": 0,
          "y1": 1,
          "yref": "y6 domain"
         },
         {
          "layer": "below",
          "line": {
           "color": "#666666",
           "width": 1
          },
          "type": "line",
          "x0": "2020-09-01T03:10:01",
          "x1": "2020-09-01T03:10:01",
          "xref": "x7",
          "y0": 0,
          "y1": 1,
          "yref": "y7 domain"
         },
         {
          "layer": "below",
          "line": {
           "color": "#666666",
           "width": 1
          },
          "type": "line",
          "x0": "2020-09-01T03:10:01",
          "x1": "2020-09-01T03:10:01",
          "xref": "x8",
          "y0": 0,
          "y1": 1,
          "yref": "y8 domain"
         },
         {
          "layer": "below",
          "line": {
           "color": "#666666",
           "width": 1
          },
          "type": "line",
          "x0": "2020-09-01T03:10:01",
          "x1": "2020-09-01T03:10:01",
          "xref": "x",
          "y0": 0,
          "y1": 1,
          "yref": "y domain"
         },
         {
          "layer": "below",
          "line": {
           "color": "#666666",
           "width": 1
          },
          "type": "line",
          "x0": "2020-09-01T03:10:01",
          "x1": "2020-09-01T03:10:01",
          "xref": "x2",
          "y0": 0,
          "y1": 1,
          "yref": "y2 domain"
         },
         {
          "layer": "below",
          "line": {
           "color": "#666666",
           "width": 1
          },
          "type": "line",
          "x0": "2020-09-01T03:10:01",
          "x1": "2020-09-01T03:10:01",
          "xref": "x3",
          "y0": 0,
          "y1": 1,
          "yref": "y3 domain"
         },
         {
          "layer": "below",
          "line": {
           "color": "#666666",
           "width": 1
          },
          "type": "line",
          "x0": "2020-09-01T03:10:01",
          "x1": "2020-09-01T03:10:01",
          "xref": "x4",
          "y0": 0,
          "y1": 1,
          "yref": "y4 domain"
         },
         {
          "layer": "below",
          "line": {
           "color": "#666666",
           "width": 1
          },
          "type": "line",
          "x0": "2020-09-01T03:10:01",
          "x1": "2020-09-01T03:10:01",
          "xref": "x5",
          "y0": 0,
          "y1": 1,
          "yref": "y5 domain"
         },
         {
          "layer": "below",
          "line": {
           "color": "#666666",
           "width": 1
          },
          "type": "line",
          "x0": "2020-09-01T03:10:01",
          "x1": "2020-09-01T03:10:01",
          "xref": "x6",
          "y0": 0,
          "y1": 1,
          "yref": "y6 domain"
         },
         {
          "layer": "below",
          "line": {
           "color": "#666666",
           "width": 1
          },
          "type": "line",
          "x0": "2020-09-01T03:10:01",
          "x1": "2020-09-01T03:10:01",
          "xref": "x7",
          "y0": 0,
          "y1": 1,
          "yref": "y7 domain"
         },
         {
          "layer": "below",
          "line": {
           "color": "#666666",
           "width": 1
          },
          "type": "line",
          "x0": "2020-09-01T03:10:01",
          "x1": "2020-09-01T03:10:01",
          "xref": "x8",
          "y0": 0,
          "y1": 1,
          "yref": "y8 domain"
         },
         {
          "layer": "below",
          "line": {
           "color": "#666666",
           "width": 1
          },
          "type": "line",
          "x0": "2020-09-01T03:10:01",
          "x1": "2020-09-01T03:10:01",
          "xref": "x9",
          "y0": 0,
          "y1": 1,
          "yref": "y9 domain"
         }
        ],
        "template": {
         "data": {
          "bar": [
           {
            "error_x": {
             "color": "#2a3f5f"
            },
            "error_y": {
             "color": "#2a3f5f"
            },
            "marker": {
             "line": {
              "color": "#E5ECF6",
              "width": 0.5
             },
             "pattern": {
              "fillmode": "overlay",
              "size": 10,
              "solidity": 0.2
             }
            },
            "type": "bar"
           }
          ],
          "barpolar": [
           {
            "marker": {
             "line": {
              "color": "#E5ECF6",
              "width": 0.5
             },
             "pattern": {
              "fillmode": "overlay",
              "size": 10,
              "solidity": 0.2
             }
            },
            "type": "barpolar"
           }
          ],
          "carpet": [
           {
            "aaxis": {
             "endlinecolor": "#2a3f5f",
             "gridcolor": "white",
             "linecolor": "white",
             "minorgridcolor": "white",
             "startlinecolor": "#2a3f5f"
            },
            "baxis": {
             "endlinecolor": "#2a3f5f",
             "gridcolor": "white",
             "linecolor": "white",
             "minorgridcolor": "white",
             "startlinecolor": "#2a3f5f"
            },
            "type": "carpet"
           }
          ],
          "choropleth": [
           {
            "colorbar": {
             "outlinewidth": 0,
             "ticks": ""
            },
            "type": "choropleth"
           }
          ],
          "contour": [
           {
            "colorbar": {
             "outlinewidth": 0,
             "ticks": ""
            },
            "colorscale": [
             [
              0,
              "#0d0887"
             ],
             [
              0.1111111111111111,
              "#46039f"
             ],
             [
              0.2222222222222222,
              "#7201a8"
             ],
             [
              0.3333333333333333,
              "#9c179e"
             ],
             [
              0.4444444444444444,
              "#bd3786"
             ],
             [
              0.5555555555555556,
              "#d8576b"
             ],
             [
              0.6666666666666666,
              "#ed7953"
             ],
             [
              0.7777777777777778,
              "#fb9f3a"
             ],
             [
              0.8888888888888888,
              "#fdca26"
             ],
             [
              1,
              "#f0f921"
             ]
            ],
            "type": "contour"
           }
          ],
          "contourcarpet": [
           {
            "colorbar": {
             "outlinewidth": 0,
             "ticks": ""
            },
            "type": "contourcarpet"
           }
          ],
          "heatmap": [
           {
            "colorbar": {
             "outlinewidth": 0,
             "ticks": ""
            },
            "colorscale": [
             [
              0,
              "#0d0887"
             ],
             [
              0.1111111111111111,
              "#46039f"
             ],
             [
              0.2222222222222222,
              "#7201a8"
             ],
             [
              0.3333333333333333,
              "#9c179e"
             ],
             [
              0.4444444444444444,
              "#bd3786"
             ],
             [
              0.5555555555555556,
              "#d8576b"
             ],
             [
              0.6666666666666666,
              "#ed7953"
             ],
             [
              0.7777777777777778,
              "#fb9f3a"
             ],
             [
              0.8888888888888888,
              "#fdca26"
             ],
             [
              1,
              "#f0f921"
             ]
            ],
            "type": "heatmap"
           }
          ],
          "heatmapgl": [
           {
            "colorbar": {
             "outlinewidth": 0,
             "ticks": ""
            },
            "colorscale": [
             [
              0,
              "#0d0887"
             ],
             [
              0.1111111111111111,
              "#46039f"
             ],
             [
              0.2222222222222222,
              "#7201a8"
             ],
             [
              0.3333333333333333,
              "#9c179e"
             ],
             [
              0.4444444444444444,
              "#bd3786"
             ],
             [
              0.5555555555555556,
              "#d8576b"
             ],
             [
              0.6666666666666666,
              "#ed7953"
             ],
             [
              0.7777777777777778,
              "#fb9f3a"
             ],
             [
              0.8888888888888888,
              "#fdca26"
             ],
             [
              1,
              "#f0f921"
             ]
            ],
            "type": "heatmapgl"
           }
          ],
          "histogram": [
           {
            "marker": {
             "pattern": {
              "fillmode": "overlay",
              "size": 10,
              "solidity": 0.2
             }
            },
            "type": "histogram"
           }
          ],
          "histogram2d": [
           {
            "colorbar": {
             "outlinewidth": 0,
             "ticks": ""
            },
            "colorscale": [
             [
              0,
              "#0d0887"
             ],
             [
              0.1111111111111111,
              "#46039f"
             ],
             [
              0.2222222222222222,
              "#7201a8"
             ],
             [
              0.3333333333333333,
              "#9c179e"
             ],
             [
              0.4444444444444444,
              "#bd3786"
             ],
             [
              0.5555555555555556,
              "#d8576b"
             ],
             [
              0.6666666666666666,
              "#ed7953"
             ],
             [
              0.7777777777777778,
              "#fb9f3a"
             ],
             [
              0.8888888888888888,
              "#fdca26"
             ],
             [
              1,
              "#f0f921"
             ]
            ],
            "type": "histogram2d"
           }
          ],
          "histogram2dcontour": [
           {
            "colorbar": {
             "outlinewidth": 0,
             "ticks": ""
            },
            "colorscale": [
             [
              0,
              "#0d0887"
             ],
             [
              0.1111111111111111,
              "#46039f"
             ],
             [
              0.2222222222222222,
              "#7201a8"
             ],
             [
              0.3333333333333333,
              "#9c179e"
             ],
             [
              0.4444444444444444,
              "#bd3786"
             ],
             [
              0.5555555555555556,
              "#d8576b"
             ],
             [
              0.6666666666666666,
              "#ed7953"
             ],
             [
              0.7777777777777778,
              "#fb9f3a"
             ],
             [
              0.8888888888888888,
              "#fdca26"
             ],
             [
              1,
              "#f0f921"
             ]
            ],
            "type": "histogram2dcontour"
           }
          ],
          "mesh3d": [
           {
            "colorbar": {
             "outlinewidth": 0,
             "ticks": ""
            },
            "type": "mesh3d"
           }
          ],
          "parcoords": [
           {
            "line": {
             "colorbar": {
              "outlinewidth": 0,
              "ticks": ""
             }
            },
            "type": "parcoords"
           }
          ],
          "pie": [
           {
            "automargin": true,
            "type": "pie"
           }
          ],
          "scatter": [
           {
            "fillpattern": {
             "fillmode": "overlay",
             "size": 10,
             "solidity": 0.2
            },
            "type": "scatter"
           }
          ],
          "scatter3d": [
           {
            "line": {
             "colorbar": {
              "outlinewidth": 0,
              "ticks": ""
             }
            },
            "marker": {
             "colorbar": {
              "outlinewidth": 0,
              "ticks": ""
             }
            },
            "type": "scatter3d"
           }
          ],
          "scattercarpet": [
           {
            "marker": {
             "colorbar": {
              "outlinewidth": 0,
              "ticks": ""
             }
            },
            "type": "scattercarpet"
           }
          ],
          "scattergeo": [
           {
            "marker": {
             "colorbar": {
              "outlinewidth": 0,
              "ticks": ""
             }
            },
            "type": "scattergeo"
           }
          ],
          "scattergl": [
           {
            "marker": {
             "colorbar": {
              "outlinewidth": 0,
              "ticks": ""
             }
            },
            "type": "scattergl"
           }
          ],
          "scattermapbox": [
           {
            "marker": {
             "colorbar": {
              "outlinewidth": 0,
              "ticks": ""
             }
            },
            "type": "scattermapbox"
           }
          ],
          "scatterpolar": [
           {
            "marker": {
             "colorbar": {
              "outlinewidth": 0,
              "ticks": ""
             }
            },
            "type": "scatterpolar"
           }
          ],
          "scatterpolargl": [
           {
            "marker": {
             "colorbar": {
              "outlinewidth": 0,
              "ticks": ""
             }
            },
            "type": "scatterpolargl"
           }
          ],
          "scatterternary": [
           {
            "marker": {
             "colorbar": {
              "outlinewidth": 0,
              "ticks": ""
             }
            },
            "type": "scatterternary"
           }
          ],
          "surface": [
           {
            "colorbar": {
             "outlinewidth": 0,
             "ticks": ""
            },
            "colorscale": [
             [
              0,
              "#0d0887"
             ],
             [
              0.1111111111111111,
              "#46039f"
             ],
             [
              0.2222222222222222,
              "#7201a8"
             ],
             [
              0.3333333333333333,
              "#9c179e"
             ],
             [
              0.4444444444444444,
              "#bd3786"
             ],
             [
              0.5555555555555556,
              "#d8576b"
             ],
             [
              0.6666666666666666,
              "#ed7953"
             ],
             [
              0.7777777777777778,
              "#fb9f3a"
             ],
             [
              0.8888888888888888,
              "#fdca26"
             ],
             [
              1,
              "#f0f921"
             ]
            ],
            "type": "surface"
           }
          ],
          "table": [
           {
            "cells": {
             "fill": {
              "color": "#EBF0F8"
             },
             "line": {
              "color": "white"
             }
            },
            "header": {
             "fill": {
              "color": "#C8D4E3"
             },
             "line": {
              "color": "white"
             }
            },
            "type": "table"
           }
          ]
         },
         "layout": {
          "annotationdefaults": {
           "arrowcolor": "#2a3f5f",
           "arrowhead": 0,
           "arrowwidth": 1
          },
          "autotypenumbers": "strict",
          "coloraxis": {
           "colorbar": {
            "outlinewidth": 0,
            "ticks": ""
           }
          },
          "colorscale": {
           "diverging": [
            [
             0,
             "#8e0152"
            ],
            [
             0.1,
             "#c51b7d"
            ],
            [
             0.2,
             "#de77ae"
            ],
            [
             0.3,
             "#f1b6da"
            ],
            [
             0.4,
             "#fde0ef"
            ],
            [
             0.5,
             "#f7f7f7"
            ],
            [
             0.6,
             "#e6f5d0"
            ],
            [
             0.7,
             "#b8e186"
            ],
            [
             0.8,
             "#7fbc41"
            ],
            [
             0.9,
             "#4d9221"
            ],
            [
             1,
             "#276419"
            ]
           ],
           "sequential": [
            [
             0,
             "#0d0887"
            ],
            [
             0.1111111111111111,
             "#46039f"
            ],
            [
             0.2222222222222222,
             "#7201a8"
            ],
            [
             0.3333333333333333,
             "#9c179e"
            ],
            [
             0.4444444444444444,
             "#bd3786"
            ],
            [
             0.5555555555555556,
             "#d8576b"
            ],
            [
             0.6666666666666666,
             "#ed7953"
            ],
            [
             0.7777777777777778,
             "#fb9f3a"
            ],
            [
             0.8888888888888888,
             "#fdca26"
            ],
            [
             1,
             "#f0f921"
            ]
           ],
           "sequentialminus": [
            [
             0,
             "#0d0887"
            ],
            [
             0.1111111111111111,
             "#46039f"
            ],
            [
             0.2222222222222222,
             "#7201a8"
            ],
            [
             0.3333333333333333,
             "#9c179e"
            ],
            [
             0.4444444444444444,
             "#bd3786"
            ],
            [
             0.5555555555555556,
             "#d8576b"
            ],
            [
             0.6666666666666666,
             "#ed7953"
            ],
            [
             0.7777777777777778,
             "#fb9f3a"
            ],
            [
             0.8888888888888888,
             "#fdca26"
            ],
            [
             1,
             "#f0f921"
            ]
           ]
          },
          "colorway": [
           "#636efa",
           "#EF553B",
           "#00cc96",
           "#ab63fa",
           "#FFA15A",
           "#19d3f3",
           "#FF6692",
           "#B6E880",
           "#FF97FF",
           "#FECB52"
          ],
          "font": {
           "color": "#2a3f5f"
          },
          "geo": {
           "bgcolor": "white",
           "lakecolor": "white",
           "landcolor": "#E5ECF6",
           "showlakes": true,
           "showland": true,
           "subunitcolor": "white"
          },
          "hoverlabel": {
           "align": "left"
          },
          "hovermode": "closest",
          "mapbox": {
           "style": "light"
          },
          "paper_bgcolor": "white",
          "plot_bgcolor": "#E5ECF6",
          "polar": {
           "angularaxis": {
            "gridcolor": "white",
            "linecolor": "white",
            "ticks": ""
           },
           "bgcolor": "#E5ECF6",
           "radialaxis": {
            "gridcolor": "white",
            "linecolor": "white",
            "ticks": ""
           }
          },
          "scene": {
           "xaxis": {
            "backgroundcolor": "#E5ECF6",
            "gridcolor": "white",
            "gridwidth": 2,
            "linecolor": "white",
            "showbackground": true,
            "ticks": "",
            "zerolinecolor": "white"
           },
           "yaxis": {
            "backgroundcolor": "#E5ECF6",
            "gridcolor": "white",
            "gridwidth": 2,
            "linecolor": "white",
            "showbackground": true,
            "ticks": "",
            "zerolinecolor": "white"
           },
           "zaxis": {
            "backgroundcolor": "#E5ECF6",
            "gridcolor": "white",
            "gridwidth": 2,
            "linecolor": "white",
            "showbackground": true,
            "ticks": "",
            "zerolinecolor": "white"
           }
          },
          "shapedefaults": {
           "line": {
            "color": "#2a3f5f"
           }
          },
          "ternary": {
           "aaxis": {
            "gridcolor": "white",
            "linecolor": "white",
            "ticks": ""
           },
           "baxis": {
            "gridcolor": "white",
            "linecolor": "white",
            "ticks": ""
           },
           "bgcolor": "#E5ECF6",
           "caxis": {
            "gridcolor": "white",
            "linecolor": "white",
            "ticks": ""
           }
          },
          "title": {
           "x": 0.05
          },
          "xaxis": {
           "automargin": true,
           "gridcolor": "white",
           "linecolor": "white",
           "ticks": "",
           "title": {
            "standoff": 15
           },
           "zerolinecolor": "white",
           "zerolinewidth": 2
          },
          "yaxis": {
           "automargin": true,
           "gridcolor": "white",
           "linecolor": "white",
           "ticks": "",
           "title": {
            "standoff": 15
           },
           "zerolinecolor": "white",
           "zerolinewidth": 2
          }
         }
        },
        "title": {
         "text": "Realized performance"
        },
        "xaxis": {
         "anchor": "y",
         "domain": [
          0,
          1
         ],
         "linecolor": "#3b0280",
         "matches": "x",
         "mirror": true,
         "showgrid": false,
         "title": {
          "text": "Time"
         },
         "zeroline": false
        },
        "xaxis2": {
         "anchor": "y2",
         "domain": [
          0,
          1
         ],
         "linecolor": "#3b0280",
         "matches": "x",
         "mirror": true,
         "showgrid": false,
         "title": {
          "text": "Time"
         },
         "zeroline": false
        },
        "xaxis3": {
         "anchor": "y3",
         "domain": [
          0,
          1
         ],
         "linecolor": "#3b0280",
         "matches": "x",
         "mirror": true,
         "showgrid": false,
         "title": {
          "text": "Time"
         },
         "zeroline": false
        },
        "xaxis4": {
         "anchor": "y4",
         "domain": [
          0,
          1
         ],
         "linecolor": "#3b0280",
         "matches": "x",
         "mirror": true,
         "showgrid": false,
         "title": {
          "text": "Time"
         },
         "zeroline": false
        },
        "xaxis5": {
         "anchor": "y5",
         "domain": [
          0,
          1
         ],
         "linecolor": "#3b0280",
         "matches": "x",
         "mirror": true,
         "showgrid": false,
         "title": {
          "text": "Time"
         },
         "zeroline": false
        },
        "xaxis6": {
         "anchor": "y6",
         "domain": [
          0,
          1
         ],
         "linecolor": "#3b0280",
         "matches": "x",
         "mirror": true,
         "showgrid": false,
         "title": {
          "text": "Time"
         },
         "zeroline": false
        },
        "xaxis7": {
         "anchor": "y7",
         "domain": [
          0,
          1
         ],
         "linecolor": "#3b0280",
         "matches": "x",
         "mirror": true,
         "showgrid": false,
         "title": {
          "text": "Time"
         },
         "zeroline": false
        },
        "xaxis8": {
         "anchor": "y8",
         "domain": [
          0,
          1
         ],
         "linecolor": "#3b0280",
         "matches": "x",
         "mirror": true,
         "showgrid": false,
         "title": {
          "text": "Time"
         },
         "zeroline": false
        },
        "xaxis9": {
         "anchor": "y9",
         "domain": [
          0,
          1
         ],
         "linecolor": "#3b0280",
         "matches": "x",
         "mirror": true,
         "showgrid": false,
         "title": {
          "text": "Time"
         },
         "zeroline": false
        },
        "yaxis": {
         "anchor": "x",
         "domain": [
          0.9382716049382716,
          1
         ],
         "linecolor": "#3b0280",
         "mirror": true,
         "showgrid": false,
         "title": {
          "text": "true class: highstreet_card, predicted class: highstreet_card"
         },
         "zeroline": false
        },
        "yaxis2": {
         "anchor": "x2",
         "domain": [
          0.8209876543209876,
          0.8827160493827161
         ],
         "linecolor": "#3b0280",
         "mirror": true,
         "showgrid": false,
         "title": {
          "text": "true class: highstreet_card, predicted class: prepaid_card"
         },
         "zeroline": false
        },
        "yaxis3": {
         "anchor": "x3",
         "domain": [
          0.7037037037037037,
          0.7654320987654322
         ],
         "linecolor": "#3b0280",
         "mirror": true,
         "showgrid": false,
         "title": {
          "text": "true class: highstreet_card, predicted class: upmarket_card"
         },
         "zeroline": false
        },
        "yaxis4": {
         "anchor": "x4",
         "domain": [
          0.5864197530864198,
          0.6481481481481483
         ],
         "linecolor": "#3b0280",
         "mirror": true,
         "showgrid": false,
         "title": {
          "text": "true class: prepaid_card, predicted class: highstreet_card"
         },
         "zeroline": false
        },
        "yaxis5": {
         "anchor": "x5",
         "domain": [
          0.4691358024691358,
          0.5308641975308642
         ],
         "linecolor": "#3b0280",
         "mirror": true,
         "showgrid": false,
         "title": {
          "text": "true class: prepaid_card, predicted class: prepaid_card"
         },
         "zeroline": false
        },
        "yaxis6": {
         "anchor": "x6",
         "domain": [
          0.35185185185185186,
          0.41358024691358025
         ],
         "linecolor": "#3b0280",
         "mirror": true,
         "showgrid": false,
         "title": {
          "text": "true class: prepaid_card, predicted class: upmarket_card"
         },
         "zeroline": false
        },
        "yaxis7": {
         "anchor": "x7",
         "domain": [
          0.2345679012345679,
          0.2962962962962963
         ],
         "linecolor": "#3b0280",
         "mirror": true,
         "showgrid": false,
         "title": {
          "text": "true class: upmarket_card, predicted class: highstreet_card"
         },
         "zeroline": false
        },
        "yaxis8": {
         "anchor": "x8",
         "domain": [
          0.11728395061728394,
          0.17901234567901234
         ],
         "linecolor": "#3b0280",
         "mirror": true,
         "showgrid": false,
         "title": {
          "text": "true class: upmarket_card, predicted class: prepaid_card"
         },
         "zeroline": false
        },
        "yaxis9": {
         "anchor": "x9",
         "domain": [
          0,
          0.0617283950617284
         ],
         "linecolor": "#3b0280",
         "mirror": true,
         "showgrid": false,
         "title": {
          "text": "true class: upmarket_card, predicted class: upmarket_card"
         },
         "zeroline": false
        }
       }
      }
     },
     "metadata": {},
     "output_type": "display_data"
    }
   ],
   "source": [
    "figure = results.plot()\n",
    "figure.show()"
   ]
  },
  {
   "cell_type": "code",
   "execution_count": null,
   "metadata": {},
   "outputs": [],
   "source": []
  }
 ],
 "metadata": {
  "kernelspec": {
   "display_name": "EMD",
   "language": "python",
   "name": "python3"
  },
  "language_info": {
   "codemirror_mode": {
    "name": "ipython",
    "version": 3
   },
   "file_extension": ".py",
   "mimetype": "text/x-python",
   "name": "python",
   "nbconvert_exporter": "python",
   "pygments_lexer": "ipython3",
   "version": "3.9.13"
  },
  "orig_nbformat": 4
 },
 "nbformat": 4,
 "nbformat_minor": 2
}
