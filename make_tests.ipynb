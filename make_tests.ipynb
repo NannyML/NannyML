{
 "cells": [
  {
   "cell_type": "code",
   "execution_count": 4,
   "metadata": {},
   "outputs": [],
   "source": [
    "import nannyml as nml\n",
    "import numpy as np"
   ]
  },
  {
   "cell_type": "code",
   "execution_count": 11,
   "metadata": {},
   "outputs": [],
   "source": [
    "# supress warnings\n",
    "import warnings\n",
    "warnings.filterwarnings(\"ignore\")"
   ]
  },
  {
   "cell_type": "code",
   "execution_count": 22,
   "metadata": {},
   "outputs": [],
   "source": [
    "# make numpy display numbers with 17 decimals\n",
    "np.set_printoptions(precision=17)"
   ]
  },
  {
   "cell_type": "code",
   "execution_count": 23,
   "metadata": {},
   "outputs": [],
   "source": [
    "ref_df, ana_df, _ = nml.load_synthetic_binary_classification_dataset()"
   ]
  },
  {
   "cell_type": "code",
   "execution_count": 24,
   "metadata": {},
   "outputs": [
    {
     "data": {
      "text/plain": [
       "array([106231.75626835103, 155489.88045014057])"
      ]
     },
     "execution_count": 24,
     "metadata": {},
     "output_type": "execute_result"
    }
   ],
   "source": [
    "cbpe = nml.CBPE(\n",
    "    y_pred_proba='y_pred_proba',\n",
    "    y_pred='y_pred',\n",
    "    y_true='work_home_actual',\n",
    "    problem_type='classification_binary',\n",
    "    metrics=[\n",
    "        'roc_auc',\n",
    "        'f1',\n",
    "        'precision',\n",
    "        'recall',\n",
    "        'specificity',\n",
    "        'accuracy',\n",
    "        'confusion_matrix',\n",
    "        'business_value',\n",
    "    ],\n",
    "    business_value_matrix = np.array([[2, -5], [-10, 10]]),\n",
    "    chunk_size=20000,\n",
    "    normalize_confusion_matrix=None,\n",
    "    normalize_business_value=None,\n",
    ")\n",
    "\n",
    "cbpe.fit(ref_df)\n",
    "estimates = cbpe.estimate(ana_df)\n",
    "\n",
    "estimates.filter(period='analysis', metrics=['business_value']).to_df()['business_value']['value'].values\n"
   ]
  },
  {
   "cell_type": "code",
   "execution_count": 26,
   "metadata": {},
   "outputs": [
    {
     "data": {
      "text/plain": [
       "array([5.311587813417551, 5.182996015004686])"
      ]
     },
     "execution_count": 26,
     "metadata": {},
     "output_type": "execute_result"
    }
   ],
   "source": [
    "cbpe = nml.CBPE(\n",
    "    y_pred_proba='y_pred_proba',\n",
    "    y_pred='y_pred',\n",
    "    y_true='work_home_actual',\n",
    "    problem_type='classification_binary',\n",
    "    metrics=[\n",
    "        'roc_auc',\n",
    "        'f1',\n",
    "        'precision',\n",
    "        'recall',\n",
    "        'specificity',\n",
    "        'accuracy',\n",
    "        'confusion_matrix',\n",
    "        'business_value',\n",
    "    ],\n",
    "    business_value_matrix = np.array([[2, -5], [-10, 10]]),\n",
    "    chunk_size=20000,\n",
    "    normalize_confusion_matrix='all',\n",
    "    normalize_business_value='per_prediction',\n",
    "    timestamp_column_name='timestamp',\n",
    ")\n",
    "\n",
    "cbpe.fit(ref_df)\n",
    "estimates = cbpe.estimate(ana_df)\n",
    "\n",
    "estimates.filter(period='analysis', metrics=['business_value']).to_df()['business_value']['value'].values"
   ]
  },
  {
   "cell_type": "code",
   "execution_count": null,
   "metadata": {},
   "outputs": [],
   "source": []
  }
 ],
 "metadata": {
  "kernelspec": {
   "display_name": "EMD",
   "language": "python",
   "name": "python3"
  },
  "language_info": {
   "codemirror_mode": {
    "name": "ipython",
    "version": 3
   },
   "file_extension": ".py",
   "mimetype": "text/x-python",
   "name": "python",
   "nbconvert_exporter": "python",
   "pygments_lexer": "ipython3",
   "version": "3.9.13"
  },
  "orig_nbformat": 4,
  "vscode": {
   "interpreter": {
    "hash": "7015d45318b7e47f58bc453f811cb2d0d7fdbd19d5bcf220fdd25c0dc451c826"
   }
  }
 },
 "nbformat": 4,
 "nbformat_minor": 2
}
